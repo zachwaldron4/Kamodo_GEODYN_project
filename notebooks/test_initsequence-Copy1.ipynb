{
 "cells": [
  {
   "cell_type": "markdown",
   "id": "eaca1c05",
   "metadata": {},
   "source": [
    "# Walkthrough for running Pygeodyn with Spire"
   ]
  },
  {
   "cell_type": "code",
   "execution_count": 1,
   "id": "b95d413d",
   "metadata": {
    "ExecuteTime": {
     "end_time": "2023-02-08T19:23:56.889095Z",
     "start_time": "2023-02-08T19:23:56.520672Z"
    },
    "scrolled": false
   },
   "outputs": [],
   "source": [
    "%load_ext autoreload\n",
    "%autoreload 2\n",
    "\n",
    "from pygeodyn.PYGEODYN import Pygeodyn\n",
    "from gc import collect as gc_collect\n"
   ]
  },
  {
   "cell_type": "code",
   "execution_count": 2,
   "id": "a7ca7357",
   "metadata": {
    "ExecuteTime": {
     "end_time": "2023-02-08T19:23:56.907893Z",
     "start_time": "2023-02-08T19:23:56.891539Z"
    }
   },
   "outputs": [],
   "source": [
    "settings_SPIRE_pce= {# Basic input settings\n",
    "                 'satellite'      : {'input': 'spire084'},\n",
    "                 'den_model'      : {'input': 'jb2008'},\n",
    "                 'run_type'       : {'input': 'DataReduction_PCE'},\n",
    "                 'run_specifier'  : {'input': '_test_infrastruc'},\n",
    "                 'cd_model'       : {'input': 'BWDRAG'},\n",
    "                 'file_string'    : {'input': 'CD_2p3'},\n",
    "               # Force Model settings\n",
    "                  'cd_type'               : {'input':\"Fixed_CD\"},\n",
    "                  'cd_value'              : {'input':2.300000},\n",
    "                  'scaling_factor'        : {'input':False},\n",
    "                  'cd_adjustment_boolean' : {'input':False },\n",
    "                  'hours_between_cd_adj'  : {'input':6 },\n",
    "               # Run\n",
    "                  'step'           : {'input': 60.},\n",
    "                  'orbfil_step'    : {'input': 120.},    \n",
    "                  #\n",
    "                  'arc'    : {'input':[\"2018.324\"]},\n",
    "                  'epoch_start'    : {'input':[\"2018-11-20 00:00:00\"]},\n",
    "                  'epoch_stop'     : {'input':[\"2018-11-21 00:00:00\"]},\n",
    "                  #                  \n",
    "                  'global_options': {'input':'pso_2018'},\n",
    "               # Request read on raw outputs\n",
    "                  'request_data'   : {'input': ['Trajectory_orbfil',\n",
    "                                                'Density',\n",
    "                                                'DragFile',\n",
    "                                                'Residuals_summary',\n",
    "                                               ]},\n",
    "              #end dict\n",
    "              }\n",
    "\n",
    "# sat.run_arcs()"
   ]
  },
  {
   "cell_type": "markdown",
   "id": "95dc1ca2",
   "metadata": {},
   "source": [
    "## Initialize a timeperiod\n",
    "\n",
    "This function will go through the provided time period and necessary files to run GEODYN:\n",
    "  - external attitude\n",
    "  - PCE (if not constructed)\n",
    "  - initial conditions (raw from PCE)\n",
    "  - "
   ]
  },
  {
   "cell_type": "code",
   "execution_count": 3,
   "id": "b3963dc3",
   "metadata": {
    "ExecuteTime": {
     "end_time": "2023-02-08T19:23:56.927289Z",
     "start_time": "2023-02-08T19:23:56.910165Z"
    }
   },
   "outputs": [],
   "source": [
    "import pandas as pd\n",
    "from  datetime import datetime, timedelta\n",
    "\n",
    "startdate = \"2018-11-06\"\n",
    "enddate   = \"2018-11-07\"\n",
    "# startdate = \"2018-11-08\"\n",
    "# enddate   = \"2018-11-08\"\n"
   ]
  },
  {
   "cell_type": "code",
   "execution_count": 4,
   "id": "6c6ebf10",
   "metadata": {
    "ExecuteTime": {
     "end_time": "2023-02-08T19:26:17.059236Z",
     "start_time": "2023-02-08T19:23:56.929531Z"
    },
    "scrolled": false
   },
   "outputs": [
    {
     "name": "stdout",
     "output_type": "stream",
     "text": [
      "The autoreload extension is already loaded. To reload it, use:\n",
      "  %reload_ext autoreload\n",
      "spire084\n",
      "----------------------------------------------------------------------------\n",
      "Initializing the time period from 2018-11-06 00:00:00 to 2018-11-08 00:00:00\n",
      "     overwriting the epoch start and stop to match\n",
      "----------------------------------------------------------------------------\n",
      "\n",
      "spire084\n",
      "Step 0: Make directory structure for satellite input data\n",
      "Directory Exists:  /data/SatDragModelValidation/data/inputs/sat_spire084\n",
      "Directory Exists:  /data/SatDragModelValidation/data/inputs/sat_spire084/setups\n",
      "Directory Exists:  /data/SatDragModelValidation/data/inputs/sat_spire084/external_attitude\n",
      "Directory Exists:  /data/SatDragModelValidation/data/inputs/sat_spire084/g2b\n",
      "/data/SatDragModelValidation/data/outputs_raw/spire084/jb2008/jb2008_BWDRAG_test_infrastruc\n",
      "Step 1: Construct daily External Attitude files\n",
      "\n",
      "Step 2: Construct/Find a PCE file\n",
      "   Making PCE g2b file: /data/SatDragModelValidation/data/inputs/sat_spire084/g2b/pce_spire084_leoOrb_20181106_20181107\n",
      "        - Initialize Raw Satellite Ephemerides as UTC, Cartesian-ECI-J2000\n",
      "        - processing raw satellite ephemerides from files.\n",
      "        - for dates: DatetimeIndex(['2018-11-06', '2018-11-07'], dtype='datetime64[ns]', freq='D')\n",
      "        - read_SpireLeoOrbPOD_sp3c(): Reading ephemeris data from   21 files.\n",
      "        - read_SpireLeoOrbPOD_sp3c(): Done combining data.\n",
      "        - Converting from ECEF to J2000 using IAU2010 conventions, and \n",
      "          saving satellite ephemeris to single file.\n",
      "(68618,)\n",
      "\n",
      "       Processed file in :  120.78801 secs\n",
      "        - Convert UTC to GPS and convert to MJDS\n",
      "        - Save prepped PCE as TRAJ.txt\n",
      "        - pce_fortran.f compiled\n",
      "        - Run fortran PCE converter\n",
      "        - pce_fortran.f executed\n"
     ]
    }
   ],
   "source": [
    "%load_ext autoreload\n",
    "%autoreload 2\n",
    "\n",
    "from pygeodyn.PYGEODYN import Pygeodyn\n",
    "from gc import collect as gc_collect\n",
    "\n",
    "\n",
    "\n",
    "\n",
    "\n",
    "sat = Pygeodyn(settings_SPIRE_pce, use_file=False)\n",
    "\n",
    "sat.initialize_timeperiod_stage1(startdate, enddate)\n",
    "\n"
   ]
  },
  {
   "cell_type": "code",
   "execution_count": 12,
   "id": "f006dd97",
   "metadata": {
    "ExecuteTime": {
     "end_time": "2023-02-08T19:30:15.977240Z",
     "start_time": "2023-02-08T19:30:15.959272Z"
    }
   },
   "outputs": [
    {
     "name": "stdout",
     "output_type": "stream",
     "text": [
      "processed 5000 items in 120.78801 seconds\n",
      "processed time for 68618 is 1657.646334036 seconds (27.6274389006 minutes)\n"
     ]
    }
   ],
   "source": [
    "# items = 68618\n",
    "# item1 = 5000\n",
    "# seconds = 120.78801\n",
    "# rate = seconds/item1\n",
    "\n",
    "# time_total = rate*items\n",
    "\n",
    "# print(f\"processed {item1} items in {seconds} seconds\")\n",
    "# print(f\"processed time for {items} is {time_total} seconds ({time_total/60} minutes)\")\n"
   ]
  },
  {
   "cell_type": "code",
   "execution_count": null,
   "id": "66b2949a",
   "metadata": {},
   "outputs": [],
   "source": []
  },
  {
   "cell_type": "code",
   "execution_count": 5,
   "id": "1df00e23",
   "metadata": {
    "ExecuteTime": {
     "end_time": "2023-02-08T19:26:17.088469Z",
     "start_time": "2023-02-08T19:26:17.061819Z"
    }
   },
   "outputs": [
    {
     "name": "stdout",
     "output_type": "stream",
     "text": [
      "----------------------------------------------------------------------------\n",
      "Initializing the time period from 2018-11-06 00:00:00 to 2018-11-08 00:00:00\n",
      "----------------------------------------------------------------------------\n",
      "\n"
     ]
    }
   ],
   "source": [
    "dt_1day = pd.Series(pd.to_timedelta(24,'h'))\n",
    "startdate_dt = pd.to_datetime(startdate, format='%Y-%m-%d')\n",
    "enddate_dt   = pd.to_datetime(enddate,   format='%Y-%m-%d')\n",
    "starts_linspace_dt = pd.date_range(start=startdate_dt,\n",
    "                                   end=enddate_dt,\n",
    "                                   freq=str(1)+\"D\")\n",
    "ends_linspace_dt = pd.date_range(\\\n",
    "                        start=pd.to_datetime(startdate_dt+dt_1day)[0],\n",
    "                        end=  pd.to_datetime(enddate_dt+dt_1day  )[0],\n",
    "                        freq=str(1)+\"D\")\n",
    "\n",
    "startdate_list_str = [datetime.strftime(idate, '%Y-%m-%d %H:%M:%S') \\\n",
    "                                      for idate in starts_linspace_dt]\n",
    "enddate_list_str   = [datetime.strftime(idate, '%Y-%m-%d %H:%M:%S') \\\n",
    "                                      for idate in ends_linspace_dt]\n",
    "\n",
    "print(f\"----------------------------------------------------------------------------\")\n",
    "print(f\"Initializing the time period from \"\\\n",
    "      f\"{startdate_list_str[0]} to {enddate_list_str[-1]}\")\n",
    "print(f\"----------------------------------------------------------------------------\")\n",
    "print()\n",
    "\n",
    "prms={}\n",
    "### Update the input date options \n",
    "###  (overwriting other date inputs that may otherwise be set)\n",
    "prms['arc'] = [datetime.strftime(idate, '%Y.%j') for idate in starts_linspace_dt]\n",
    "arc_input = prms['arc'] \n",
    "prms['epoch_start'] = startdate_list_str\n",
    "prms['epoch_stop']  = enddate_list_str"
   ]
  },
  {
   "cell_type": "code",
   "execution_count": 6,
   "id": "b9fd5a57",
   "metadata": {
    "ExecuteTime": {
     "end_time": "2023-02-08T19:26:17.204049Z",
     "start_time": "2023-02-08T19:26:17.090133Z"
    }
   },
   "outputs": [
    {
     "ename": "NameError",
     "evalue": "name 'self' is not defined",
     "output_type": "error",
     "traceback": [
      "\u001b[0;31m---------------------------------------------------------------------------\u001b[0m",
      "\u001b[0;31mNameError\u001b[0m                                 Traceback (most recent call last)",
      "\u001b[0;32m<ipython-input-6-403b16b9c257>\u001b[0m in \u001b[0;36m<module>\u001b[0;34m\u001b[0m\n\u001b[0;32m----> 1\u001b[0;31m \u001b[0mdatestr1\u001b[0m \u001b[0;34m=\u001b[0m \u001b[0mpd\u001b[0m\u001b[0;34m.\u001b[0m\u001b[0mto_datetime\u001b[0m\u001b[0;34m(\u001b[0m\u001b[0mself\u001b[0m\u001b[0;34m.\u001b[0m\u001b[0mprms\u001b[0m\u001b[0;34m[\u001b[0m\u001b[0;34m'epoch_start'\u001b[0m\u001b[0;34m]\u001b[0m\u001b[0;34m[\u001b[0m\u001b[0;36m0\u001b[0m\u001b[0;34m]\u001b[0m\u001b[0;34m)\u001b[0m\u001b[0;34m.\u001b[0m\u001b[0mdt\u001b[0m\u001b[0;34m.\u001b[0m\u001b[0mstrftime\u001b[0m\u001b[0;34m(\u001b[0m\u001b[0;34m'%Y%m%d'\u001b[0m\u001b[0;34m)\u001b[0m\u001b[0;34m[\u001b[0m\u001b[0;36m0\u001b[0m\u001b[0;34m]\u001b[0m\u001b[0;34m\u001b[0m\u001b[0;34m\u001b[0m\u001b[0m\n\u001b[0m",
      "\u001b[0;31mNameError\u001b[0m: name 'self' is not defined"
     ]
    }
   ],
   "source": [
    "datestr1 = pd.to_datetime(self.prms['epoch_start'][0]).dt.strftime('%Y%m%d')[0]    \n"
   ]
  },
  {
   "cell_type": "code",
   "execution_count": null,
   "id": "ce4ac0c9",
   "metadata": {
    "ExecuteTime": {
     "end_time": "2023-02-08T19:26:17.215840Z",
     "start_time": "2023-02-08T19:23:56.280Z"
    }
   },
   "outputs": [],
   "source": [
    "dt_2days = pd.Series(pd.to_timedelta(48,'h'))\n",
    "\n",
    "datestr1 = (pd.to_datetime(prms['epoch_start'][0])-dt_2days).dt.strftime('%Y%m%d')[0]   \n",
    "datestr2 = (pd.to_datetime(prms['epoch_start'][-1])+dt_2days).dt.strftime('%Y%m%d')[0] \n",
    "daterange = f\"{datestr1}_{datestr2}\"\n",
    "print(\"raw_satinput['daterange']\",daterange)\n"
   ]
  },
  {
   "cell_type": "code",
   "execution_count": null,
   "id": "10f44aee",
   "metadata": {
    "ExecuteTime": {
     "end_time": "2023-02-08T19:26:17.216919Z",
     "start_time": "2023-02-08T19:23:56.282Z"
    }
   },
   "outputs": [],
   "source": [
    "starts_linspace_dt = pd.date_range(start=startdate_dt- dt_2days[0],\n",
    "                                   end=enddate_dt+dt_2days[0],\n",
    "                                   freq=str(1)+\"D\")\n",
    "starts_linspace_dt"
   ]
  },
  {
   "cell_type": "code",
   "execution_count": null,
   "id": "c4fcfd00",
   "metadata": {
    "ExecuteTime": {
     "end_time": "2023-02-08T19:26:17.217741Z",
     "start_time": "2023-02-08T19:23:56.283Z"
    }
   },
   "outputs": [],
   "source": [
    "for iday,day in enumerate(starts_linspace_dt):\n",
    "    print(day.strftime('%Y-%m-%d'))"
   ]
  },
  {
   "cell_type": "code",
   "execution_count": null,
   "id": "d193a7f3",
   "metadata": {},
   "outputs": [],
   "source": []
  }
 ],
 "metadata": {
  "kernelspec": {
   "display_name": "Python 3",
   "language": "python",
   "name": "python3"
  },
  "language_info": {
   "codemirror_mode": {
    "name": "ipython",
    "version": 3
   },
   "file_extension": ".py",
   "mimetype": "text/x-python",
   "name": "python",
   "nbconvert_exporter": "python",
   "pygments_lexer": "ipython3",
   "version": "3.8.8"
  },
  "toc": {
   "base_numbering": 1,
   "nav_menu": {},
   "number_sections": true,
   "sideBar": true,
   "skip_h1_title": false,
   "title_cell": "Table of Contents",
   "title_sidebar": "Contents",
   "toc_cell": false,
   "toc_position": {
    "height": "calc(100% - 180px)",
    "left": "10px",
    "top": "150px",
    "width": "165px"
   },
   "toc_section_display": true,
   "toc_window_display": false
  },
  "varInspector": {
   "cols": {
    "lenName": 16,
    "lenType": 16,
    "lenVar": 40
   },
   "kernels_config": {
    "python": {
     "delete_cmd_postfix": "",
     "delete_cmd_prefix": "del ",
     "library": "var_list.py",
     "varRefreshCmd": "print(var_dic_list())"
    },
    "r": {
     "delete_cmd_postfix": ") ",
     "delete_cmd_prefix": "rm(",
     "library": "var_list.r",
     "varRefreshCmd": "cat(var_dic_list()) "
    }
   },
   "position": {
    "height": "382.85px",
    "left": "645.4px",
    "right": "20px",
    "top": "119px",
    "width": "687px"
   },
   "types_to_exclude": [
    "module",
    "function",
    "builtin_function_or_method",
    "instance",
    "_Feature"
   ],
   "window_display": false
  }
 },
 "nbformat": 4,
 "nbformat_minor": 5
}
