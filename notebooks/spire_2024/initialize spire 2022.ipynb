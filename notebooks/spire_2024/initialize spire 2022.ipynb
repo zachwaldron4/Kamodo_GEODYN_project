{
 "cells": [
  {
   "cell_type": "code",
   "execution_count": 1,
   "id": "2f2c972e",
   "metadata": {
    "ExecuteTime": {
     "end_time": "2024-04-29T17:29:33.767145Z",
     "start_time": "2024-04-29T17:29:32.939042Z"
    }
   },
   "outputs": [],
   "source": [
    "%load_ext autoreload\n",
    "%autoreload 2\n",
    "\n",
    "from pygeodyn.PYGEODYN import Pygeodyn\n",
    "from gc import collect as gc_collect\n",
    "\n",
    "scaling_cadence = 3\n",
    "scale_cadence = scaling_cadence\n",
    "run_list = [\n",
    "#                 'msis2',\n",
    "#                 'jb2008'\n",
    "                'dtm2020_o',\n",
    "            ]\n"
   ]
  },
  {
   "cell_type": "code",
   "execution_count": 2,
   "id": "9838b968",
   "metadata": {
    "ExecuteTime": {
     "end_time": "2024-04-29T17:29:45.564284Z",
     "start_time": "2024-04-29T17:29:33.769211Z"
    },
    "scrolled": false
   },
   "outputs": [
    {
     "name": "stdout",
     "output_type": "stream",
     "text": [
      "The autoreload extension is already loaded. To reload it, use:\n",
      "  %reload_ext autoreload\n",
      "  * filename_g2b : pce_spire104_leoOrb_20220203_20220204\n",
      "  * Global Option not needed during Initializing Stage\n",
      "Using class 'Spire_Lemur2_v34'\n",
      "----------------------------------------------------------------------------\n",
      "Initializing the time period from2022-02-04 00:00:00 to 2022-02-05 00:00:00\n",
      "     overwriting the epoch start and stop to match\n",
      "     self.prms['arc'] ['2022.035']\n",
      "----------------------------------------------------------------------------\n",
      "\n",
      "  * filename_g2b : pce_spire104_leoOrb_20220204_20220204\n",
      "  * Global Option not needed during Initializing Stage\n",
      "Using class 'Spire_Lemur2_v34'\n",
      "Step 0: Make directory structure for satellite input data\n",
      "  * Directory Exists:  /data/SatDragModelValidation/data/inputs/sat_spire104\n",
      "  * Directory Exists:  /data/SatDragModelValidation/data/inputs/sat_spire104/setups\n",
      "  * Directory Exists:  /data/SatDragModelValidation/data/inputs/sat_spire104/external_attitude\n",
      "  * Directory Exists:  /data/SatDragModelValidation/data/inputs/sat_spire104/g2b\n",
      "Step 1: Construct daily external Attitude files\n",
      "  * Making an external attitude file: EXAT01.2022.035\n",
      "        - converting dates from GPS to TDT.\n"
     ]
    },
    {
     "ename": "TypeError",
     "evalue": "concatenate() got an unexpected keyword argument 'dtype'",
     "output_type": "error",
     "traceback": [
      "\u001b[0;31m---------------------------------------------------------------------------\u001b[0m",
      "\u001b[0;31mTypeError\u001b[0m                                 Traceback (most recent call last)",
      "\u001b[0;32m<ipython-input-2-678cd0378b43>\u001b[0m in \u001b[0;36m<module>\u001b[0;34m\u001b[0m\n\u001b[1;32m     83\u001b[0m \u001b[0;34m\u001b[0m\u001b[0m\n\u001b[1;32m     84\u001b[0m \u001b[0msat\u001b[0m \u001b[0;34m=\u001b[0m \u001b[0mPygeodyn\u001b[0m\u001b[0;34m(\u001b[0m\u001b[0msettings_spire\u001b[0m\u001b[0;34m,\u001b[0m \u001b[0muse_file\u001b[0m\u001b[0;34m=\u001b[0m\u001b[0;32mFalse\u001b[0m\u001b[0;34m)\u001b[0m\u001b[0;34m\u001b[0m\u001b[0;34m\u001b[0m\u001b[0m\n\u001b[0;32m---> 85\u001b[0;31m sat.initialize_timeperiod_stage1(startdate, enddate,\n\u001b[0m\u001b[1;32m     86\u001b[0m                              \u001b[0moverwrite_exat\u001b[0m\u001b[0;34m=\u001b[0m\u001b[0;32mTrue\u001b[0m\u001b[0;34m,\u001b[0m\u001b[0;34m\u001b[0m\u001b[0;34m\u001b[0m\u001b[0m\n\u001b[1;32m     87\u001b[0m                              overwrite_ICtext=True)\n",
      "\u001b[0;32m/data/SatDragModelValidation/pygeodyn/pygeodyn/PYGEODYN.py\u001b[0m in \u001b[0;36minitialize_timeperiod_stage1\u001b[0;34m(self, startdate, enddate, overwrite_exat, overwrite_ICtext)\u001b[0m\n\u001b[1;32m    367\u001b[0m                 \u001b[0;32mpass\u001b[0m\u001b[0;34m\u001b[0m\u001b[0;34m\u001b[0m\u001b[0m\n\u001b[1;32m    368\u001b[0m             \u001b[0;32melse\u001b[0m\u001b[0;34m:\u001b[0m\u001b[0;34m\u001b[0m\u001b[0;34m\u001b[0m\u001b[0m\n\u001b[0;32m--> 369\u001b[0;31m                 self.prep_exat_check(self.raw_satinput,             \\\n\u001b[0m\u001b[1;32m    370\u001b[0m                                  \u001b[0mbool_overwrite\u001b[0m\u001b[0;34m=\u001b[0m\u001b[0moverwrite_exat\u001b[0m\u001b[0;34m,\u001b[0m\u001b[0;31m \u001b[0m\u001b[0;31m\\\u001b[0m\u001b[0;34m\u001b[0m\u001b[0;34m\u001b[0m\u001b[0m\n\u001b[1;32m    371\u001b[0m                                  verbose=self.verbose)\n",
      "\u001b[0;32m/data/SatDragModelValidation/pygeodyn/pygeodyn/prep_inputs.py\u001b[0m in \u001b[0;36mprep_exat_check\u001b[0;34m(self, raw_satinput, bool_overwrite, verbose)\u001b[0m\n\u001b[1;32m     67\u001b[0m \u001b[0;34m\u001b[0m\u001b[0m\n\u001b[1;32m     68\u001b[0m             \u001b[0mprint\u001b[0m\u001b[0;34m(\u001b[0m\u001b[0;34mf\"{self.tab}* Making an external attitude file: {self.filename_exat}\"\u001b[0m\u001b[0;34m)\u001b[0m\u001b[0;34m\u001b[0m\u001b[0;34m\u001b[0m\u001b[0m\n\u001b[0;32m---> 69\u001b[0;31m             \u001b[0mself\u001b[0m\u001b[0;34m.\u001b[0m\u001b[0mmake_write_exat\u001b[0m\u001b[0;34m(\u001b[0m\u001b[0mraw_satinput\u001b[0m\u001b[0;34m,\u001b[0m \u001b[0mverbose\u001b[0m\u001b[0;34m)\u001b[0m\u001b[0;34m\u001b[0m\u001b[0;34m\u001b[0m\u001b[0m\n\u001b[0m\u001b[1;32m     70\u001b[0m \u001b[0;34m\u001b[0m\u001b[0m\n\u001b[1;32m     71\u001b[0m \u001b[0;34m\u001b[0m\u001b[0m\n",
      "\u001b[0;32m/data/SatDragModelValidation/pygeodyn/pygeodyn/prep_inputs.py\u001b[0m in \u001b[0;36mmake_write_exat\u001b[0;34m(self, raw_satinput, verbose)\u001b[0m\n\u001b[1;32m    199\u001b[0m                           \u001b[0mdifferential_type\u001b[0m\u001b[0;34m=\u001b[0m\u001b[0;34m'cartesian'\u001b[0m\u001b[0;34m,\u001b[0m\u001b[0;34m\u001b[0m\u001b[0;34m\u001b[0m\u001b[0m\n\u001b[1;32m    200\u001b[0m                           obstime=Time(SpireDF[date_ref]))\n\u001b[0;32m--> 201\u001b[0;31m         \u001b[0mj2000\u001b[0m \u001b[0;34m=\u001b[0m \u001b[0mteme\u001b[0m\u001b[0;34m.\u001b[0m\u001b[0mtransform_to\u001b[0m\u001b[0;34m(\u001b[0m\u001b[0mcoord\u001b[0m\u001b[0;34m.\u001b[0m\u001b[0mGCRS\u001b[0m\u001b[0;34m(\u001b[0m\u001b[0mobstime\u001b[0m\u001b[0;34m=\u001b[0m\u001b[0mTime\u001b[0m\u001b[0;34m(\u001b[0m\u001b[0mSpireDF\u001b[0m\u001b[0;34m[\u001b[0m\u001b[0mdate_ref\u001b[0m\u001b[0;34m]\u001b[0m\u001b[0;34m)\u001b[0m\u001b[0;34m)\u001b[0m\u001b[0;34m)\u001b[0m\u001b[0;34m\u001b[0m\u001b[0;34m\u001b[0m\u001b[0m\n\u001b[0m\u001b[1;32m    202\u001b[0m         \u001b[0mr_j2000\u001b[0m \u001b[0;34m=\u001b[0m \u001b[0mj2000\u001b[0m\u001b[0;34m.\u001b[0m\u001b[0mcartesian\u001b[0m\u001b[0;34m.\u001b[0m\u001b[0mxyz\u001b[0m\u001b[0;34m.\u001b[0m\u001b[0mvalue\u001b[0m\u001b[0;34m.\u001b[0m\u001b[0mtranspose\u001b[0m\u001b[0;34m(\u001b[0m\u001b[0;34m)\u001b[0m\u001b[0;34m\u001b[0m\u001b[0;34m\u001b[0m\u001b[0m\n\u001b[1;32m    203\u001b[0m         \u001b[0mv_j2000\u001b[0m \u001b[0;34m=\u001b[0m \u001b[0mj2000\u001b[0m\u001b[0;34m.\u001b[0m\u001b[0mcartesian\u001b[0m\u001b[0;34m.\u001b[0m\u001b[0mdifferentials\u001b[0m\u001b[0;34m[\u001b[0m\u001b[0;34m's'\u001b[0m\u001b[0;34m]\u001b[0m\u001b[0;34m.\u001b[0m\u001b[0md_xyz\u001b[0m\u001b[0;34m.\u001b[0m\u001b[0mvalue\u001b[0m\u001b[0;34m.\u001b[0m\u001b[0mtranspose\u001b[0m\u001b[0;34m(\u001b[0m\u001b[0;34m)\u001b[0m\u001b[0;34m\u001b[0m\u001b[0;34m\u001b[0m\u001b[0m\n",
      "\u001b[0;32m/data/miniconda3/envs/pygeodyn/lib/python3.8/site-packages/astropy/coordinates/baseframe.py\u001b[0m in \u001b[0;36mtransform_to\u001b[0;34m(self, new_frame)\u001b[0m\n\u001b[1;32m   1203\u001b[0m             \u001b[0mmsg\u001b[0m \u001b[0;34m=\u001b[0m \u001b[0;34m'Cannot transform from {0} to {1}'\u001b[0m\u001b[0;34m\u001b[0m\u001b[0;34m\u001b[0m\u001b[0m\n\u001b[1;32m   1204\u001b[0m             \u001b[0;32mraise\u001b[0m \u001b[0mConvertError\u001b[0m\u001b[0;34m(\u001b[0m\u001b[0mmsg\u001b[0m\u001b[0;34m.\u001b[0m\u001b[0mformat\u001b[0m\u001b[0;34m(\u001b[0m\u001b[0mself\u001b[0m\u001b[0;34m.\u001b[0m\u001b[0m__class__\u001b[0m\u001b[0;34m,\u001b[0m \u001b[0mnew_frame\u001b[0m\u001b[0;34m.\u001b[0m\u001b[0m__class__\u001b[0m\u001b[0;34m)\u001b[0m\u001b[0;34m)\u001b[0m\u001b[0;34m\u001b[0m\u001b[0;34m\u001b[0m\u001b[0m\n\u001b[0;32m-> 1205\u001b[0;31m         \u001b[0;32mreturn\u001b[0m \u001b[0mtrans\u001b[0m\u001b[0;34m(\u001b[0m\u001b[0mself\u001b[0m\u001b[0;34m,\u001b[0m \u001b[0mnew_frame\u001b[0m\u001b[0;34m)\u001b[0m\u001b[0;34m\u001b[0m\u001b[0;34m\u001b[0m\u001b[0m\n\u001b[0m\u001b[1;32m   1206\u001b[0m \u001b[0;34m\u001b[0m\u001b[0m\n\u001b[1;32m   1207\u001b[0m     \u001b[0;32mdef\u001b[0m \u001b[0mis_transformable_to\u001b[0m\u001b[0;34m(\u001b[0m\u001b[0mself\u001b[0m\u001b[0;34m,\u001b[0m \u001b[0mnew_frame\u001b[0m\u001b[0;34m)\u001b[0m\u001b[0;34m:\u001b[0m\u001b[0;34m\u001b[0m\u001b[0;34m\u001b[0m\u001b[0m\n",
      "\u001b[0;32m/data/miniconda3/envs/pygeodyn/lib/python3.8/site-packages/astropy/coordinates/transformations.py\u001b[0m in \u001b[0;36m__call__\u001b[0;34m(self, fromcoord, toframe)\u001b[0m\n\u001b[1;32m   1477\u001b[0m \u001b[0;34m\u001b[0m\u001b[0m\n\u001b[1;32m   1478\u001b[0m             \u001b[0mcurr_toframe\u001b[0m \u001b[0;34m=\u001b[0m \u001b[0mt\u001b[0m\u001b[0;34m.\u001b[0m\u001b[0mtosys\u001b[0m\u001b[0;34m(\u001b[0m\u001b[0;34m**\u001b[0m\u001b[0mfrattrs\u001b[0m\u001b[0;34m)\u001b[0m\u001b[0;34m\u001b[0m\u001b[0;34m\u001b[0m\u001b[0m\n\u001b[0;32m-> 1479\u001b[0;31m             \u001b[0mcurr_coord\u001b[0m \u001b[0;34m=\u001b[0m \u001b[0mt\u001b[0m\u001b[0;34m(\u001b[0m\u001b[0mcurr_coord\u001b[0m\u001b[0;34m,\u001b[0m \u001b[0mcurr_toframe\u001b[0m\u001b[0;34m)\u001b[0m\u001b[0;34m\u001b[0m\u001b[0;34m\u001b[0m\u001b[0m\n\u001b[0m\u001b[1;32m   1480\u001b[0m \u001b[0;34m\u001b[0m\u001b[0m\n\u001b[1;32m   1481\u001b[0m         \u001b[0;31m# this is safe even in the case where self.transforms is empty, because\u001b[0m\u001b[0;34m\u001b[0m\u001b[0;34m\u001b[0m\u001b[0;34m\u001b[0m\u001b[0m\n",
      "\u001b[0;32m/data/miniconda3/envs/pygeodyn/lib/python3.8/site-packages/astropy/coordinates/transformations.py\u001b[0m in \u001b[0;36m__call__\u001b[0;34m(self, fromcoord, toframe)\u001b[0m\n\u001b[1;32m   1010\u001b[0m \u001b[0;34m\u001b[0m\u001b[0m\n\u001b[1;32m   1011\u001b[0m             \u001b[0mfrom_diffless\u001b[0m \u001b[0;34m=\u001b[0m \u001b[0mfromcoord\u001b[0m\u001b[0;34m.\u001b[0m\u001b[0mrealize_frame\u001b[0m\u001b[0;34m(\u001b[0m\u001b[0mfromcoord\u001b[0m\u001b[0;34m.\u001b[0m\u001b[0mdata\u001b[0m\u001b[0;34m.\u001b[0m\u001b[0mwithout_differentials\u001b[0m\u001b[0;34m(\u001b[0m\u001b[0;34m)\u001b[0m\u001b[0;34m)\u001b[0m\u001b[0;34m\u001b[0m\u001b[0;34m\u001b[0m\u001b[0m\n\u001b[0;32m-> 1012\u001b[0;31m             \u001b[0mreprwithoutdiff\u001b[0m \u001b[0;34m=\u001b[0m \u001b[0msupcall\u001b[0m\u001b[0;34m(\u001b[0m\u001b[0mfrom_diffless\u001b[0m\u001b[0;34m,\u001b[0m \u001b[0mtoframe\u001b[0m\u001b[0;34m)\u001b[0m\u001b[0;34m\u001b[0m\u001b[0;34m\u001b[0m\u001b[0m\n\u001b[0m\u001b[1;32m   1013\u001b[0m \u001b[0;34m\u001b[0m\u001b[0m\n\u001b[1;32m   1014\u001b[0m             \u001b[0;31m# first we use the existing differential to compute an offset due to\u001b[0m\u001b[0;34m\u001b[0m\u001b[0;34m\u001b[0m\u001b[0;34m\u001b[0m\u001b[0m\n",
      "\u001b[0;32m/data/miniconda3/envs/pygeodyn/lib/python3.8/site-packages/astropy/coordinates/builtin_frames/intermediate_rotation_transforms.py\u001b[0m in \u001b[0;36mteme_to_itrs\u001b[0;34m(teme_coo, itrs_frame)\u001b[0m\n\u001b[1;32m    256\u001b[0m     \u001b[0;31m# use the pmatrix to transform to ITRS in the source obstime\u001b[0m\u001b[0;34m\u001b[0m\u001b[0;34m\u001b[0m\u001b[0;34m\u001b[0m\u001b[0m\n\u001b[1;32m    257\u001b[0m     \u001b[0mpmat\u001b[0m \u001b[0;34m=\u001b[0m \u001b[0mteme_to_itrs_mat\u001b[0m\u001b[0;34m(\u001b[0m\u001b[0mteme_coo\u001b[0m\u001b[0;34m.\u001b[0m\u001b[0mobstime\u001b[0m\u001b[0;34m)\u001b[0m\u001b[0;34m\u001b[0m\u001b[0;34m\u001b[0m\u001b[0m\n\u001b[0;32m--> 258\u001b[0;31m     \u001b[0mcrepr\u001b[0m \u001b[0;34m=\u001b[0m \u001b[0mteme_coo\u001b[0m\u001b[0;34m.\u001b[0m\u001b[0mcartesian\u001b[0m\u001b[0;34m.\u001b[0m\u001b[0mtransform\u001b[0m\u001b[0;34m(\u001b[0m\u001b[0mpmat\u001b[0m\u001b[0;34m)\u001b[0m\u001b[0;34m\u001b[0m\u001b[0;34m\u001b[0m\u001b[0m\n\u001b[0m\u001b[1;32m    259\u001b[0m     \u001b[0mitrs\u001b[0m \u001b[0;34m=\u001b[0m \u001b[0mITRS\u001b[0m\u001b[0;34m(\u001b[0m\u001b[0mcrepr\u001b[0m\u001b[0;34m,\u001b[0m \u001b[0mobstime\u001b[0m\u001b[0;34m=\u001b[0m\u001b[0mteme_coo\u001b[0m\u001b[0;34m.\u001b[0m\u001b[0mobstime\u001b[0m\u001b[0;34m)\u001b[0m\u001b[0;34m\u001b[0m\u001b[0;34m\u001b[0m\u001b[0m\n\u001b[1;32m    260\u001b[0m \u001b[0;34m\u001b[0m\u001b[0m\n",
      "\u001b[0;32m/data/miniconda3/envs/pygeodyn/lib/python3.8/site-packages/astropy/coordinates/representation.py\u001b[0m in \u001b[0;36mtransform\u001b[0;34m(self, matrix)\u001b[0m\n\u001b[1;32m   1397\u001b[0m         \"\"\"\n\u001b[1;32m   1398\u001b[0m         \u001b[0;31m# erfa rxp: Multiply a p-vector by an r-matrix.\u001b[0m\u001b[0;34m\u001b[0m\u001b[0;34m\u001b[0m\u001b[0;34m\u001b[0m\u001b[0m\n\u001b[0;32m-> 1399\u001b[0;31m         \u001b[0mp\u001b[0m \u001b[0;34m=\u001b[0m \u001b[0merfa_ufunc\u001b[0m\u001b[0;34m.\u001b[0m\u001b[0mrxp\u001b[0m\u001b[0;34m(\u001b[0m\u001b[0mmatrix\u001b[0m\u001b[0;34m,\u001b[0m \u001b[0mself\u001b[0m\u001b[0;34m.\u001b[0m\u001b[0mget_xyz\u001b[0m\u001b[0;34m(\u001b[0m\u001b[0mxyz_axis\u001b[0m\u001b[0;34m=\u001b[0m\u001b[0;34m-\u001b[0m\u001b[0;36m1\u001b[0m\u001b[0;34m)\u001b[0m\u001b[0;34m)\u001b[0m\u001b[0;34m\u001b[0m\u001b[0;34m\u001b[0m\u001b[0m\n\u001b[0m\u001b[1;32m   1400\u001b[0m         \u001b[0;31m# transformed representation\u001b[0m\u001b[0;34m\u001b[0m\u001b[0;34m\u001b[0m\u001b[0;34m\u001b[0m\u001b[0m\n\u001b[1;32m   1401\u001b[0m         \u001b[0mrep\u001b[0m \u001b[0;34m=\u001b[0m \u001b[0mself\u001b[0m\u001b[0;34m.\u001b[0m\u001b[0m__class__\u001b[0m\u001b[0;34m(\u001b[0m\u001b[0mp\u001b[0m\u001b[0;34m,\u001b[0m \u001b[0mxyz_axis\u001b[0m\u001b[0;34m=\u001b[0m\u001b[0;34m-\u001b[0m\u001b[0;36m1\u001b[0m\u001b[0;34m,\u001b[0m \u001b[0mcopy\u001b[0m\u001b[0;34m=\u001b[0m\u001b[0;32mFalse\u001b[0m\u001b[0;34m)\u001b[0m\u001b[0;34m\u001b[0m\u001b[0;34m\u001b[0m\u001b[0m\n",
      "\u001b[0;32m/data/miniconda3/envs/pygeodyn/lib/python3.8/site-packages/astropy/coordinates/representation.py\u001b[0m in \u001b[0;36mget_xyz\u001b[0;34m(self, xyz_axis)\u001b[0m\n\u001b[1;32m   1349\u001b[0m         \u001b[0;31m# But then in-place changes have to cancel it. Likely best to\u001b[0m\u001b[0;34m\u001b[0m\u001b[0;34m\u001b[0m\u001b[0;34m\u001b[0m\u001b[0m\n\u001b[1;32m   1350\u001b[0m         \u001b[0;31m# also update components.\u001b[0m\u001b[0;34m\u001b[0m\u001b[0;34m\u001b[0m\u001b[0;34m\u001b[0m\u001b[0m\n\u001b[0;32m-> 1351\u001b[0;31m         \u001b[0;32mreturn\u001b[0m \u001b[0mnp\u001b[0m\u001b[0;34m.\u001b[0m\u001b[0mstack\u001b[0m\u001b[0;34m(\u001b[0m\u001b[0;34m[\u001b[0m\u001b[0mself\u001b[0m\u001b[0;34m.\u001b[0m\u001b[0m_x\u001b[0m\u001b[0;34m,\u001b[0m \u001b[0mself\u001b[0m\u001b[0;34m.\u001b[0m\u001b[0m_y\u001b[0m\u001b[0;34m,\u001b[0m \u001b[0mself\u001b[0m\u001b[0;34m.\u001b[0m\u001b[0m_z\u001b[0m\u001b[0;34m]\u001b[0m\u001b[0;34m,\u001b[0m \u001b[0maxis\u001b[0m\u001b[0;34m=\u001b[0m\u001b[0mxyz_axis\u001b[0m\u001b[0;34m)\u001b[0m\u001b[0;34m\u001b[0m\u001b[0;34m\u001b[0m\u001b[0m\n\u001b[0m\u001b[1;32m   1352\u001b[0m \u001b[0;34m\u001b[0m\u001b[0m\n\u001b[1;32m   1353\u001b[0m     \u001b[0mxyz\u001b[0m \u001b[0;34m=\u001b[0m \u001b[0mproperty\u001b[0m\u001b[0;34m(\u001b[0m\u001b[0mget_xyz\u001b[0m\u001b[0;34m)\u001b[0m\u001b[0;34m\u001b[0m\u001b[0;34m\u001b[0m\u001b[0m\n",
      "\u001b[0;32m/data/miniconda3/envs/pygeodyn/lib/python3.8/site-packages/numpy/core/overrides.py\u001b[0m in \u001b[0;36mstack\u001b[0;34m(*args, **kwargs)\u001b[0m\n",
      "\u001b[0;32m/data/miniconda3/envs/pygeodyn/lib/python3.8/site-packages/astropy/units/quantity.py\u001b[0m in \u001b[0;36m__array_function__\u001b[0;34m(self, function, types, args, kwargs)\u001b[0m\n\u001b[1;32m   1681\u001b[0m         \u001b[0;31m# implementation.\u001b[0m\u001b[0;34m\u001b[0m\u001b[0;34m\u001b[0m\u001b[0;34m\u001b[0m\u001b[0m\n\u001b[1;32m   1682\u001b[0m         \u001b[0;32mif\u001b[0m \u001b[0mfunction\u001b[0m \u001b[0;32min\u001b[0m \u001b[0mSUBCLASS_SAFE_FUNCTIONS\u001b[0m\u001b[0;34m:\u001b[0m\u001b[0;34m\u001b[0m\u001b[0;34m\u001b[0m\u001b[0m\n\u001b[0;32m-> 1683\u001b[0;31m             \u001b[0;32mreturn\u001b[0m \u001b[0msuper\u001b[0m\u001b[0;34m(\u001b[0m\u001b[0;34m)\u001b[0m\u001b[0;34m.\u001b[0m\u001b[0m__array_function__\u001b[0m\u001b[0;34m(\u001b[0m\u001b[0mfunction\u001b[0m\u001b[0;34m,\u001b[0m \u001b[0mtypes\u001b[0m\u001b[0;34m,\u001b[0m \u001b[0margs\u001b[0m\u001b[0;34m,\u001b[0m \u001b[0mkwargs\u001b[0m\u001b[0;34m)\u001b[0m\u001b[0;34m\u001b[0m\u001b[0;34m\u001b[0m\u001b[0m\n\u001b[0m\u001b[1;32m   1684\u001b[0m \u001b[0;34m\u001b[0m\u001b[0m\n\u001b[1;32m   1685\u001b[0m         \u001b[0;32melif\u001b[0m \u001b[0mfunction\u001b[0m \u001b[0;32min\u001b[0m \u001b[0mFUNCTION_HELPERS\u001b[0m\u001b[0;34m:\u001b[0m\u001b[0;34m\u001b[0m\u001b[0;34m\u001b[0m\u001b[0m\n",
      "\u001b[0;32m/data/miniconda3/envs/pygeodyn/lib/python3.8/site-packages/numpy/core/shape_base.py\u001b[0m in \u001b[0;36mstack\u001b[0;34m(arrays, axis, out, dtype, casting)\u001b[0m\n\u001b[1;32m    469\u001b[0m     \u001b[0msl\u001b[0m \u001b[0;34m=\u001b[0m \u001b[0;34m(\u001b[0m\u001b[0mslice\u001b[0m\u001b[0;34m(\u001b[0m\u001b[0;32mNone\u001b[0m\u001b[0;34m)\u001b[0m\u001b[0;34m,\u001b[0m\u001b[0;34m)\u001b[0m \u001b[0;34m*\u001b[0m \u001b[0maxis\u001b[0m \u001b[0;34m+\u001b[0m \u001b[0;34m(\u001b[0m\u001b[0m_nx\u001b[0m\u001b[0;34m.\u001b[0m\u001b[0mnewaxis\u001b[0m\u001b[0;34m,\u001b[0m\u001b[0;34m)\u001b[0m\u001b[0;34m\u001b[0m\u001b[0;34m\u001b[0m\u001b[0m\n\u001b[1;32m    470\u001b[0m     \u001b[0mexpanded_arrays\u001b[0m \u001b[0;34m=\u001b[0m \u001b[0;34m[\u001b[0m\u001b[0marr\u001b[0m\u001b[0;34m[\u001b[0m\u001b[0msl\u001b[0m\u001b[0;34m]\u001b[0m \u001b[0;32mfor\u001b[0m \u001b[0marr\u001b[0m \u001b[0;32min\u001b[0m \u001b[0marrays\u001b[0m\u001b[0;34m]\u001b[0m\u001b[0;34m\u001b[0m\u001b[0;34m\u001b[0m\u001b[0m\n\u001b[0;32m--> 471\u001b[0;31m     return _nx.concatenate(expanded_arrays, axis=axis, out=out,\n\u001b[0m\u001b[1;32m    472\u001b[0m                            dtype=dtype, casting=casting)\n\u001b[1;32m    473\u001b[0m \u001b[0;34m\u001b[0m\u001b[0m\n",
      "\u001b[0;32m/data/miniconda3/envs/pygeodyn/lib/python3.8/site-packages/numpy/core/overrides.py\u001b[0m in \u001b[0;36mconcatenate\u001b[0;34m(*args, **kwargs)\u001b[0m\n",
      "\u001b[0;32m/data/miniconda3/envs/pygeodyn/lib/python3.8/site-packages/astropy/units/quantity.py\u001b[0m in \u001b[0;36m__array_function__\u001b[0;34m(self, function, types, args, kwargs)\u001b[0m\n\u001b[1;32m   1686\u001b[0m             \u001b[0mfunction_helper\u001b[0m \u001b[0;34m=\u001b[0m \u001b[0mFUNCTION_HELPERS\u001b[0m\u001b[0;34m[\u001b[0m\u001b[0mfunction\u001b[0m\u001b[0;34m]\u001b[0m\u001b[0;34m\u001b[0m\u001b[0;34m\u001b[0m\u001b[0m\n\u001b[1;32m   1687\u001b[0m             \u001b[0;32mtry\u001b[0m\u001b[0;34m:\u001b[0m\u001b[0;34m\u001b[0m\u001b[0;34m\u001b[0m\u001b[0m\n\u001b[0;32m-> 1688\u001b[0;31m                 \u001b[0margs\u001b[0m\u001b[0;34m,\u001b[0m \u001b[0mkwargs\u001b[0m\u001b[0;34m,\u001b[0m \u001b[0munit\u001b[0m\u001b[0;34m,\u001b[0m \u001b[0mout\u001b[0m \u001b[0;34m=\u001b[0m \u001b[0mfunction_helper\u001b[0m\u001b[0;34m(\u001b[0m\u001b[0;34m*\u001b[0m\u001b[0margs\u001b[0m\u001b[0;34m,\u001b[0m \u001b[0;34m**\u001b[0m\u001b[0mkwargs\u001b[0m\u001b[0;34m)\u001b[0m\u001b[0;34m\u001b[0m\u001b[0;34m\u001b[0m\u001b[0m\n\u001b[0m\u001b[1;32m   1689\u001b[0m             \u001b[0;32mexcept\u001b[0m \u001b[0mNotImplementedError\u001b[0m\u001b[0;34m:\u001b[0m\u001b[0;34m\u001b[0m\u001b[0;34m\u001b[0m\u001b[0m\n\u001b[1;32m   1690\u001b[0m                 \u001b[0;32mreturn\u001b[0m \u001b[0mself\u001b[0m\u001b[0;34m.\u001b[0m\u001b[0m_not_implemented_or_raise\u001b[0m\u001b[0;34m(\u001b[0m\u001b[0mfunction\u001b[0m\u001b[0;34m,\u001b[0m \u001b[0mtypes\u001b[0m\u001b[0;34m)\u001b[0m\u001b[0;34m\u001b[0m\u001b[0;34m\u001b[0m\u001b[0m\n",
      "\u001b[0;31mTypeError\u001b[0m: concatenate() got an unexpected keyword argument 'dtype'"
     ]
    }
   ],
   "source": [
    "%load_ext autoreload\n",
    "%autoreload 2\n",
    "from gc import collect as gc_collect\n",
    "import pickle \n",
    "import os\n",
    "from datetime import datetime,timedelta\n",
    "\n",
    "\n",
    "# g2b_path = \"/data/SatDragModelValidation/data/inputs/sat_spire083/g2b/\"\n",
    "\n",
    "# dir_save    =  '/data/SatDragModelValidation/data/outputs_clean/'\\\n",
    "#              + 'spire083/O2R_comparisons/1_DRIAruns_3hr/'\n",
    "\n",
    "\n",
    "\n",
    "obj = {}\n",
    "\n",
    "# file_raw_ICs = f\"{g2b_path}Spire083_RawEphem_20181101_20181130.txt\"\n",
    "# file_g2b     = f\"pce_spire083_leoOrb_20181101_20181130\"\n",
    "\n",
    "\n",
    "\n",
    "for i,den in enumerate(run_list):\n",
    "    settings_spire= {# Basic input settings\n",
    "                 'satellite'            : {'input': 'spire104'},\n",
    "                 'den_model'            : {'input': den},\n",
    "                 'initialize_satellite' : {'input': True},\n",
    "                 'run_type'       : {'input': 'DataReduction_PCE'},\n",
    "                 'epoch_start'    : {'input': [\"2022-02-03\",\n",
    "                                               \"2022-02-04\" ]},\n",
    "\n",
    "        \n",
    "\n",
    "                \n",
    "#                  'run_specifier'  : {'input': '_'},\n",
    "#                  'cd_model'       : {'input': 'DRIA'},\n",
    "#                  'file_string'    : {'input': 'DRIAscaled_'},\n",
    "#                  'model_data_path' : {'input': run_dict[den]['model_path']},\n",
    "#                  'verbose' : {'input': True},\n",
    "#                  # Force Model settings\n",
    "#                   'cd_value'              : {'input':1.0 },\n",
    "#                   'scaling_factor'        : {'input':True},\n",
    "#                   'hours_between_cd_adj'  : {'input':scaling_cadence},\n",
    "#                   #### Comment for unadjusted run:\n",
    "#                   'cd_adjustment_boolean' : {'input':True },\n",
    "#                 #### DRIA CD Model Parameters\n",
    "#                 'cd_model_params' : {'input':{ \n",
    "#                         'MS'     : '26.980D0'   ,  #!  molar mass for each panel (g/mol)\n",
    "#                         'TW'     : '300.0D0'    ,  #!  temperature of panels  (K)\n",
    "#                         'ALPHA'  : '0.890D0'    ,  #!  accomodation coefficient, Alpha is b/w 0 and 1\n",
    "#                         'KL'     : '0.0D0'    ,    #!  langmuir parameter\n",
    "#                         'FRACOX' : '1.0D0'   ,     #!  fraction of surface covered by atomic oxygen\n",
    "#                    }},\n",
    "#                   #### ---------------------------------------\n",
    "#                  # Run\n",
    "\n",
    "\n",
    "# #             scaleparameter_times\n",
    "#                   'arc_type'       : {'input':'Nominal30hr'},      \n",
    "#                   'step'           : {'input': 60.},\n",
    "#                   'orbfil_step'    : {'input': 120.},\n",
    "# #                   'which_ICfile'   : {'input':file_raw_ICs},\n",
    "# #                   'which_g2bfile'  : {'input':file_g2b},\n",
    "#                     #\n",
    "# #                   'arc'            : {'input': arc_start},\n",
    "# #                   'epoch_start'    : {'input': epoch_startDT},\n",
    "# #                   'epoch_stop'     : {'input': epoch_endDT},  \n",
    "# #                 'scaleparameter_times' : {'input': scaleparameter_times},  \n",
    "#                    #                                \n",
    "# #                   'global_options' : {'input':'pso_2018'},\n",
    "#                  # Request read on raw outputs\n",
    "#                   'request_data'   : {'input': ['Trajectory_orbfil', \n",
    "#                                                'Density', \n",
    "#                                                'Residuals_summary',\n",
    "#                                                'DragFile',\n",
    "#                                                'AdjustedParams'\n",
    "#                                                ]},\n",
    "              #end dict\n",
    "              }\n",
    "\n",
    "startdate = \"2022-02-04\"\n",
    "enddate   = \"2022-02-04\" \n",
    "\n",
    "sat = Pygeodyn(settings_spire, use_file=False)\n",
    "sat.initialize_timeperiod_stage1(startdate, enddate,\n",
    "                             overwrite_exat=True, \n",
    "                             overwrite_ICtext=True)\n",
    "sat = 0"
   ]
  },
  {
   "cell_type": "code",
   "execution_count": null,
   "id": "b0233a54",
   "metadata": {},
   "outputs": [],
   "source": []
  },
  {
   "cell_type": "code",
   "execution_count": null,
   "id": "e0342b99",
   "metadata": {
    "ExecuteTime": {
     "end_time": "2024-04-29T17:29:45.567090Z",
     "start_time": "2024-04-29T17:29:32.157Z"
    }
   },
   "outputs": [],
   "source": [
    " print(np.__version__)"
   ]
  },
  {
   "cell_type": "code",
   "execution_count": null,
   "id": "99835fca",
   "metadata": {
    "ExecuteTime": {
     "end_time": "2024-04-29T17:29:45.568128Z",
     "start_time": "2024-04-29T17:29:32.159Z"
    }
   },
   "outputs": [],
   "source": [
    "import astropy\n",
    "print(astropy.__version__)"
   ]
  },
  {
   "cell_type": "code",
   "execution_count": null,
   "id": "11a15743",
   "metadata": {
    "ExecuteTime": {
     "end_time": "2024-04-29T17:29:45.568874Z",
     "start_time": "2024-04-29T17:29:32.159Z"
    }
   },
   "outputs": [],
   "source": [
    "from astropy import coordinates as coord\n",
    "# from astropy import units as u\n",
    "# from astropy.time import Time\n",
    "# from astropy import time\n",
    "\n",
    "\n"
   ]
  },
  {
   "cell_type": "code",
   "execution_count": null,
   "id": "28aa75d9",
   "metadata": {
    "ExecuteTime": {
     "end_time": "2024-04-29T17:29:45.569758Z",
     "start_time": "2024-04-29T17:29:32.160Z"
    }
   },
   "outputs": [],
   "source": [
    "\n",
    "    \n",
    "#         pickleName = f'_{month}_DRIA_scale{scale_cadence}.pkl'\n",
    "\n",
    "#         pickle_file = dir_save+den+pickleName\n",
    "#         if not os.path.exists(pickle_file):\n",
    "#             print('Must create pickle file...')\n",
    "#             print('   ',  pickle_file)\n",
    "#             print('   ', 'Reading Geodyn Data')\n",
    "\n",
    "#             ### Load the data into an object\n",
    "#             sat = Pygeodyn(settings_icesat2, use_file=False)\n",
    "#             obj = sat.getData_BigData_lowmemory(orbit_propagation=False)\n",
    "#             gc_collect()\n",
    "\n",
    "#             #### Pickle the object to save it\n",
    "#             print('   ', 'Saving pickle')\n",
    "#             filehandler = open(pickle_file, 'wb') \n",
    "#             pickle.dump(vars(obj), filehandler)\n",
    "#             filehandler.close()\n",
    "#             obj = 0\n",
    "#             print('   ', 'Saved pickle')\n",
    "\n",
    "# obj = {}\n",
    "# for i,model in enumerate(run_list):\n",
    "#     for imonth,month in enumerate(month_list):\n",
    "#         pickleName = f'_{month}_DRIA_scale{scale_cadence}.pkl'\n",
    "\n",
    "#         ### Load the data if the pickles exist\n",
    "#         print()\n",
    "#         print()\n",
    "#         gc_collect()\n",
    "\n",
    "#         pickle_file = dir_save+model+pickleName\n",
    "\n",
    "#         filehandler = open(pickle_file, 'rb') \n",
    "#         obj[month+model] = pickle.load(filehandler)\n",
    "#         filehandler.close()\n",
    "#         print('Loaded data from pickle... ',  model)\n",
    "    \n",
    "    \n",
    "# ### Save space if doing density retrieval\n",
    "# for model in run_dict.keys():\n",
    "#     del obj[model]['OrbitResids']\n",
    "#     del obj[model]['Trajectory_orbfil']\n",
    "    \n",
    "# gc_collect()"
   ]
  }
 ],
 "metadata": {
  "kernelspec": {
   "display_name": "Python 3",
   "language": "python",
   "name": "python3"
  },
  "language_info": {
   "codemirror_mode": {
    "name": "ipython",
    "version": 3
   },
   "file_extension": ".py",
   "mimetype": "text/x-python",
   "name": "python",
   "nbconvert_exporter": "python",
   "pygments_lexer": "ipython3",
   "version": "3.8.19"
  },
  "toc": {
   "base_numbering": 1,
   "nav_menu": {},
   "number_sections": true,
   "sideBar": true,
   "skip_h1_title": false,
   "title_cell": "Table of Contents",
   "title_sidebar": "Contents",
   "toc_cell": false,
   "toc_position": {},
   "toc_section_display": true,
   "toc_window_display": false
  },
  "varInspector": {
   "cols": {
    "lenName": 16,
    "lenType": 16,
    "lenVar": 40
   },
   "kernels_config": {
    "python": {
     "delete_cmd_postfix": "",
     "delete_cmd_prefix": "del ",
     "library": "var_list.py",
     "varRefreshCmd": "print(var_dic_list())"
    },
    "r": {
     "delete_cmd_postfix": ") ",
     "delete_cmd_prefix": "rm(",
     "library": "var_list.r",
     "varRefreshCmd": "cat(var_dic_list()) "
    }
   },
   "types_to_exclude": [
    "module",
    "function",
    "builtin_function_or_method",
    "instance",
    "_Feature"
   ],
   "window_display": false
  }
 },
 "nbformat": 4,
 "nbformat_minor": 5
}
