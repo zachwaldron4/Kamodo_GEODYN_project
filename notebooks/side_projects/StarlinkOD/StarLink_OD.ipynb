{
 "cells": [
  {
   "cell_type": "markdown",
   "id": "dff14c13",
   "metadata": {},
   "source": [
    "# Constructing a OD for Starlink in GEODYN\n",
    "\n",
    "## What is needed to get a *GOOD* orbit determination:\n",
    " 1. Spacecraft mass.\n",
    " 2. Areas and reflectivities of the various spacecraft surfaces.\n",
    " 3. Spacecraft Attitude Profile algorithm (I doubt there are quaternions for attitude)\n",
    "    1.  If there are solar panels, what is their attitude WRT spacecraft.\n",
    " 4. Spacecraft body coordinates for GPS antenna tracking point\n",
    " 5. Spacecraft body coordinates for center of mass of the spacecraft\n",
    " 6. RINEX data files for the GPS receiver on board\n",
    " 7. Initial conditions.\n",
    " \n",
    " \n",
    " \n",
    " \n",
    "## With the TLEs we have:\n",
    "- Epoch\n",
    "  - year\n",
    "  - day of year\n",
    "  \n",
    "- Ballistic Coefficient  \n",
    "  - Also called the first derivative of mean motion, the ballistic coefficient is the daily rate of change in the number of revs the object completes each day, divided by 2. Units are revs/day. This is \"catch all\" drag term used in the Simplified General Perturbations (SGP4) predictor.  \n",
    "   \n",
    "- Second Derivative of Mean Motion  \n",
    "  - The second derivative of mean motion is a second order drag term in the SGP4 predictor used to model terminal orbit decay. It measures the second time derivative in daily mean motion, divided by 6. Units are revs/day^3. A leading decimal must be applied to this value. The last two characters define an applicable power of 10.  \n",
    "  \n",
    "- Drag Term ($B^*$, Radiation Pressure Coeff.)  \n",
    "  - Also called the radiation pressure coefficient (or BSTAR), the parameter is another drag term in the SGP4 predictor. *Units are earth radii^-1*. The last two characters define an applicable power of 10. Do not confuse this parameter with \"B-Term\", the USSPACECOM special perturbations factor of drag coefficient, multiplied by reference area, divided by weight.  \n",
    "\n",
    "- Inclination (degrees)\n",
    "  - The angle between the equator and the orbit plane. The value provided is the TEME mean inclination.\n",
    "  \n",
    "- Right Ascension of the Ascending Node (degrees)\n",
    "  - The angle between vernal equinox and the point where the orbit crosses the equatorial plane (going north). The value provided is the TEME mean right ascension of the ascending node.\n",
    "  \n",
    "- Eccentricity\n",
    "  - A constant defining the shape of the orbit (0=circular, Less than 1=elliptical). The value provided is the mean eccentricity. A leading decimal must be applied to this value.\n",
    "  \n",
    "  \n",
    "- Argument of Perigee (degrees)\n",
    "  - The angle between the ascending node and the orbit's point of closest approach to the earth (perigee). The value provided is the TEME mean argument of perigee.\n",
    "  \n",
    "- Mean Anomaly (degrees)\n",
    "  - The angle, measured from perigee, of the satellite location in the orbit referenced to a circular orbit with radius equal to the semi-major axis.\n",
    "  \n",
    "- Mean Motion (revolutions per day)\n",
    "  - The value is the mean number of orbits per day the object completes. There are 8 digits after the decimal, leaving no trailing space(s) when the following element exceeds 9999.\n",
    "  \n",
    "  \n",
    "- Revolution Number and Check Sum\n",
    "    - The orbit number at Epoch Time. This time is chosen very near the time of true ascending node passage as a matter of routine. The last digit is the check sum for line 2.\n",
    "    \n",
    "---\n",
    "    \n",
    "## What does GEODYN need ?\n",
    " - Spacecraft mass\n",
    " - Areas and reflectivities of the various spacecraft surfaces.\n",
    " - Initial conditions.\n",
    "     - EPOCH information\n",
    "     \n",
    "     \n",
    "     \n",
    "     \n",
    "**What we use**\n",
    "```\n",
    "1. setup file    (fort 05)\n",
    "    - \n",
    "2. gravity field (fort 12)\n",
    "3. ephemerides   (fort 01)\n",
    "4. gdntable      (fort 02)\n",
    "5. ATGRAVFIL     (fort 18)\n",
    "```\n",
    "---\n",
    "\n",
    "\n",
    "**Example Setup File**\n",
    "```\n",
    "XXXXXXXX                                                                                  \n",
    "XXXXXXXX     GLOBAL SET                                                                             \n",
    "XXXXXXXX                                                                                  \n",
    "I32G2E         10                                                                         \n",
    "SATCUT                         -10.0                                                      \n",
    "EARTH  2      100100     .39860044150000D+15 .637813646D+07 .2982572D+03                  \n",
    "GXPAND       1100  0 100                                         1.0D-10 1.0D-10          \n",
    "OBSVU 4                                                                                   \n",
    "TERMVU  1221211211                                                                        \n",
    "VECOPT2        50                239000000.0                                                                                                                                   \n",
    "ENDGLB                                                                                    \n",
    "********************************************************************************          \n",
    "********                      GEODYN ARC TITLE                          ********          \n",
    "********************************************************************************          \n",
    "REFSYS 111           30103000000.0000000                                                  \n",
    "SATPAR           2012001 5.5000000000000D-02 100.000000D+00                               \n",
    "EPOCH                30103000000.        30103000000.        30104000000.0000000          \n",
    "ELEMS11                5979289.660000000   1054389.950000000   3149263.990000000          \n",
    "ELEMS2                -3464.597030000000   -610.920480000000   6774.151810000000          \n",
    "SATPAR           2012002 5.5000000000000D-02 100.000000D+00                               \n",
    "EPOCH                30103000000.        30103000000.        30104000000.0000000          \n",
    "ELEMS11                5630720.730000000    992927.110000000   3753093.260000000          \n",
    "ELEMS2                -4128.340440000000   -727.965110000000   6378.401000000000                 \n",
    "SOLRAD           2012001  0.                                                              \n",
    "SOLRAD           2012002  0.                                                              \n",
    "DRAG   0 0       2012001 0.0000000000000E+00                                              \n",
    "DRAG   0 0       2012002 0.0000000000000E+00                                              \n",
    "STEP             2012001      1.0                                                         \n",
    "STEP             2012002      1.0                                                         \n",
    "ORBTVU           2012001      30103000000.00 30104000000.00  .100000D+02                  \n",
    "ORBTVU           2012002      30103000000.00 30104000000.00  .100000D+02                  \n",
    "EDIT                       10000000.000        1000000000.0                               \n",
    "RESIDU12                                                                                  \n",
    "EMATRX                               30103.0                                              \n",
    "DATA                                                                                      \n",
    "PREPRO                                                                                    \n",
    "SIGMA          44                1.0D-07                                                  \n",
    "SELECT         44                        30103000000.00      30104000000.00               \n",
    "ENDARC                                                                                    \n",
    "```\n",
    "- **Global set:**\n",
    "   1. Mandatory Run Description on three cards with no defined format\n",
    "   2. Parameter Option cards which may be used to define and/or estimate conditions which are common to all the arcs being processed\n",
    "   3. Optional Station Coordinate Subgroup which may be used to alter GEODYN II’s set of tracking stations\n",
    "   4. Mandatory Global Set Termination card\n",
    "   \n",
    "- **Arc Set:**\n",
    "   1. Arc Description on three cards and  Mandatory cards to describe the reference coordinate system and time and spacecraft parameters in this arc.\n",
    "       - REFSYS\n",
    "       - SATPAR\n",
    "       - EPOCH\n",
    "       - ELEMS11\n",
    "       - ELEMS2\n",
    "   2. Arc Option cards which may be specified to make use of GEODYN II’s individual arc capabilities\n",
    "   3. Data Selection/Deletion\n",
    "       - The Data Selection/Deletion Subgroup should not be present in orbit generation runs.\n",
    "       - In data reduction runs, the use of DATA and SELECT cards is mandatory (see individual card for explanation). \n",
    "   4. The last group in the Arc Set is the mandatory Arc Set Termination card\n",
    "\n",
    "\n",
    "**Collected notes on ORBIT GENERATION run type**\n",
    "- Orbit generation mode (ORBGEN mode) is implied by the lack of a DATA card or simulated data generation (SIMDAT) card.\n",
    "- must have ORBTVU card\n",
    "    - For an orbit generation run , the users should make sure that all arc parameters have zero sigmas. Orbit generation with arc parameter estimation request are incompatible in GEODYN.\n",
    "\n",
    "- if GEODYN is performing an ORBGEN, the drag effects (Variable area model) are circumvented\n",
    "- INTCOM\n",
    "    - INTCOM: Turns on the intercomparison capability. This option allows the user to perform certain specific orbit generation runs. In these runs some assumptions are made , or certain perturbations only are turned on in order to study the output orbit and/or compare it with orbits generated by similar software packages. The output orbit is writen on unit59 at a rate depending on the users request on the ORBTVU card and expressed in inertial True -of -Date Cartesian elements. [NOTE 2] The assumptions and/or supressions for each individual case are described under Case Indicator on columns 9-10.\n",
    "    - NOTE [3]: Sample UNIT05 setups for the orbit generation options exist in ZCDEP.TOPEX.UNIT05.DATA. The GLOBAL TITLE cards describe the individual cases.\n",
    "- Must Omit DATA and SELECT and SIMDAT\n",
    "    "
   ]
  },
  {
   "cell_type": "code",
   "execution_count": 34,
   "id": "57389885",
   "metadata": {
    "ExecuteTime": {
     "end_time": "2022-02-16T18:52:41.920142Z",
     "start_time": "2022-02-16T18:52:41.914380Z"
    }
   },
   "outputs": [
    {
     "data": {
      "text/plain": [
       "TLE(name='Starlink', norad='51104', classification='U', int_desig='22005A', epoch_year=2022, epoch_day=24.66667824, dn_o2=-0.00733898, ddn_o6=0.00017937, bstar=-0.0016482, set_num=999, inc=53.2186, raan=247.5781, ecc=0.0054136, argp=184.4741, M=34.8658, n=15.94242985, rev_num=219)"
      ]
     },
     "execution_count": 34,
     "metadata": {},
     "output_type": "execute_result"
    }
   ],
   "source": [
    "from tletools import TLE\n",
    "\n",
    "tle_string = \"\"\"\n",
    "Starlink\n",
    "1 51104U 22005A   22024.66667824 -.00733898  17937-3 -16482-2 0  9998\n",
    "2 51104  53.2186 247.5781 0054136 184.4741  34.8658 15.94242985  2195\n",
    "\"\"\"\n",
    "\n",
    "tle_lines = tle_string.strip().splitlines()\n",
    "\n",
    "tle = TLE.from_lines(*tle_lines)\n",
    "tle"
   ]
  },
  {
   "cell_type": "code",
   "execution_count": 31,
   "id": "a2939137",
   "metadata": {
    "ExecuteTime": {
     "end_time": "2022-02-16T18:46:59.397139Z",
     "start_time": "2022-02-16T18:46:59.393843Z"
    }
   },
   "outputs": [],
   "source": [
    "# import numpy as np\n",
    "# def E_to_TrueAnom(E, e ):\n",
    "#     TrueAnom = 2*(np.arctan(np.sqrt((1+e)/(1-e))*np.tan(E/2)))\n",
    "#     print('CHECK if sign of E should be Pos or Neg')\n",
    "#     return TrueAnom\n",
    "\n",
    "\n",
    "\n",
    "# def OE_to_RVrotating(mu, e, p, TrueAnom):\n",
    "    \n",
    "#     vr= np.sqrt(mu/p)*(e*np.sin(TrueAnom))\n",
    "#     v_theta = np.sqrt(mu/p)*(1 + e*np.cos(TrueAnom))\n",
    "    \n",
    "#     r = (p)/(1 + e*np.cos(TrueAnom))\n",
    "    \n",
    "#     r_vec_rot = np.array([r, 0,0])\n",
    "#     v_vec_rot = np.array([vr, v_theta,0])\n",
    "    \n",
    "#     print('r_vec_rotating frame =', r_vec_rot)\n",
    "#     print('v_vec_rotating frame =',v_vec_rot)\n",
    "#     return"
   ]
  },
  {
   "cell_type": "code",
   "execution_count": 32,
   "id": "b7cfac78",
   "metadata": {
    "ExecuteTime": {
     "end_time": "2022-02-16T18:47:03.969249Z",
     "start_time": "2022-02-16T18:47:03.964207Z"
    }
   },
   "outputs": [],
   "source": [
    "# print('Mean Anomaly:', tle.M, 'deg')\n",
    "# print('Mean Anomaly:', tle.M*(np.pi/180), 'rad')\n",
    "\n",
    "# print('Ecc:         ', tle.ecc, 'deg')"
   ]
  },
  {
   "cell_type": "code",
   "execution_count": 33,
   "id": "ce686ef3",
   "metadata": {
    "ExecuteTime": {
     "end_time": "2022-02-16T18:47:06.741221Z",
     "start_time": "2022-02-16T18:47:06.737488Z"
    }
   },
   "outputs": [],
   "source": [
    "# TrueAnom = E_to_TrueAnom(tle.M*(np.pi/180),tle.ecc)\n",
    "\n",
    "# TrueAnom*(180/np.pi)"
   ]
  },
  {
   "cell_type": "code",
   "execution_count": null,
   "id": "c3f5950e",
   "metadata": {},
   "outputs": [],
   "source": []
  }
 ],
 "metadata": {
  "kernelspec": {
   "display_name": "Python 3",
   "language": "python",
   "name": "python3"
  },
  "language_info": {
   "codemirror_mode": {
    "name": "ipython",
    "version": 3
   },
   "file_extension": ".py",
   "mimetype": "text/x-python",
   "name": "python",
   "nbconvert_exporter": "python",
   "pygments_lexer": "ipython3",
   "version": "3.8.8"
  },
  "toc": {
   "base_numbering": 1,
   "nav_menu": {},
   "number_sections": true,
   "sideBar": true,
   "skip_h1_title": false,
   "title_cell": "Table of Contents",
   "title_sidebar": "Contents",
   "toc_cell": false,
   "toc_position": {},
   "toc_section_display": true,
   "toc_window_display": false
  },
  "varInspector": {
   "cols": {
    "lenName": 16,
    "lenType": 16,
    "lenVar": 40
   },
   "kernels_config": {
    "python": {
     "delete_cmd_postfix": "",
     "delete_cmd_prefix": "del ",
     "library": "var_list.py",
     "varRefreshCmd": "print(var_dic_list())"
    },
    "r": {
     "delete_cmd_postfix": ") ",
     "delete_cmd_prefix": "rm(",
     "library": "var_list.r",
     "varRefreshCmd": "cat(var_dic_list()) "
    }
   },
   "types_to_exclude": [
    "module",
    "function",
    "builtin_function_or_method",
    "instance",
    "_Feature"
   ],
   "window_display": false
  }
 },
 "nbformat": 4,
 "nbformat_minor": 5
}
