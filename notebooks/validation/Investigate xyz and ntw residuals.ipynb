{
 "cells": [
  {
   "cell_type": "markdown",
   "id": "75296dd0",
   "metadata": {
    "heading_collapsed": true
   },
   "source": [
    "## Run Geodyn"
   ]
  },
  {
   "cell_type": "code",
   "execution_count": null,
   "id": "70759ca0",
   "metadata": {
    "ExecuteTime": {
     "end_time": "2021-11-23T22:04:57.940118Z",
     "start_time": "2021-11-23T22:04:57.934880Z"
    },
    "hidden": true
   },
   "outputs": [],
   "source": [
    "# %load_ext autoreload\n",
    "# %autoreload 2\n",
    "\n",
    "# import sys  \n",
    "# import pickle \n",
    "# sys.path.insert(0, '/data/geodyn_proj/pygeodyn/pygeodyn_develop/')\n",
    "# from PYGEODYN import Pygeodyn\n",
    "\n",
    "# models_list = ['msis2'] \n",
    "\n",
    "# run = {}\n",
    "# for i,val in enumerate( models_list ): #,'jaachia71']):# 'msis86','msis00',\n",
    "#     run_settings = '/data/geodyn_proj/validation/NoCD_Arc24_AllDensModels_settings/NoCdArc24_TESTOrbStep_'+val+'.yaml'\n",
    "\n",
    "#     ### Load the data into an object\n",
    "#     run[val] = Pygeodyn(run_settings)\n",
    "#     run[val].RUN_GEODYN()\n"
   ]
  },
  {
   "cell_type": "markdown",
   "id": "d78122f4",
   "metadata": {},
   "source": [
    "## Load the Data"
   ]
  },
  {
   "cell_type": "code",
   "execution_count": null,
   "id": "bb729155",
   "metadata": {
    "ExecuteTime": {
     "end_time": "2021-11-23T22:05:29.376007Z",
     "start_time": "2021-11-23T22:04:57.942232Z"
    }
   },
   "outputs": [],
   "source": [
    "%load_ext autoreload\n",
    "%autoreload 2\n",
    "\n",
    "import sys  \n",
    "import pickle \n",
    "sys.path.insert(0, '/data/geodyn_proj/pygeodyn/pygeodyn_develop/')\n",
    "from PYGEODYN import Pygeodyn\n",
    "\n",
    "models_list = ['msis2']\n",
    "\n",
    "Obj_Geodyn = {}\n",
    "for i,val in enumerate( models_list ): #,'jaachia71']):# 'msis86','msis00',\n",
    "    run_settings = '/data/geodyn_proj/validation/NoCD_Arc24_AllDensModels_settings/NoCdArc24_'+val+'.yaml'\n",
    "#     run_settings = '/data/geodyn_proj/validation/NoCD_Arc24_AllDensModels_settings/NoCdArc24_TESTOrbStep_'+val+'.yaml'\n",
    "\n",
    "    ### Load the data into an object\n",
    "    Obj_Geodyn[val] = Pygeodyn(run_settings)\n",
    "    Obj_Geodyn[val].getData()\n",
    "\n"
   ]
  },
  {
   "cell_type": "markdown",
   "id": "28b6158d",
   "metadata": {},
   "source": [
    "## Validation Stats and Free Space"
   ]
  },
  {
   "cell_type": "code",
   "execution_count": null,
   "id": "330c1954",
   "metadata": {
    "ExecuteTime": {
     "end_time": "2021-11-23T22:06:49.483825Z",
     "start_time": "2021-11-23T22:05:29.378346Z"
    }
   },
   "outputs": [],
   "source": [
    "%load_ext autoreload\n",
    "%autoreload 2\n",
    "\n",
    "for i,val in enumerate( models_list ):\n",
    "    run_settings = '/data/geodyn_proj/validation/NoCD_Arc24_AllDensModels_settings/NoCdArc24_'+val+'.yaml'\n",
    "    ### Load the data into an object\n",
    "    Obj_Geodyn[val].post_getData_ValidationMetrics()\n"
   ]
  },
  {
   "cell_type": "code",
   "execution_count": null,
   "id": "7261e298",
   "metadata": {
    "ExecuteTime": {
     "end_time": "2021-11-23T22:06:49.517024Z",
     "start_time": "2021-11-23T22:06:49.490709Z"
    }
   },
   "outputs": [],
   "source": [
    "# Obj_Geodyn['msis2'].__dict__['CombinedOrbitsDF']['2018.314']"
   ]
  },
  {
   "cell_type": "code",
   "execution_count": null,
   "id": "c0e0e06c",
   "metadata": {
    "ExecuteTime": {
     "end_time": "2021-11-23T22:06:49.541532Z",
     "start_time": "2021-11-23T22:06:49.518422Z"
    }
   },
   "outputs": [],
   "source": [
    "# Obj_Geodyn['msis2'].__dict__['Trajectory_orbfil']['2018.314']['data_record']"
   ]
  },
  {
   "cell_type": "code",
   "execution_count": null,
   "id": "346c0dfa",
   "metadata": {
    "ExecuteTime": {
     "end_time": "2021-11-23T22:06:49.561482Z",
     "start_time": "2021-11-23T22:06:49.543097Z"
    }
   },
   "outputs": [],
   "source": [
    "# Obj_Geodyn['msis2'].__dict__['Residuals_obs']['2018.314']"
   ]
  },
  {
   "cell_type": "markdown",
   "id": "3310f1e9",
   "metadata": {},
   "source": [
    "### Stats Function"
   ]
  },
  {
   "cell_type": "code",
   "execution_count": null,
   "id": "6e46f82c",
   "metadata": {
    "ExecuteTime": {
     "end_time": "2021-11-23T22:06:49.582273Z",
     "start_time": "2021-11-23T22:06:49.563085Z"
    }
   },
   "outputs": [],
   "source": [
    "def STATS_residuals(residuals):\n",
    "    import numpy as np\n",
    "    n = np.size(residuals)\n",
    "    mean = (1/n)*(np.sum(residuals))\n",
    "    variance = (1/n)*(np.sum(np.square(residuals)))\n",
    "    rms = np.sqrt(variance)\n",
    "    rms_about_zero = np.sqrt((n/(n-1))*variance)\n",
    "    return(mean,rms,rms_about_zero)\n"
   ]
  },
  {
   "cell_type": "markdown",
   "id": "2cde3e01",
   "metadata": {},
   "source": [
    "## Plotting Config."
   ]
  },
  {
   "cell_type": "code",
   "execution_count": null,
   "id": "fc63343e",
   "metadata": {
    "ExecuteTime": {
     "end_time": "2021-11-23T22:06:50.191824Z",
     "start_time": "2021-11-23T22:06:49.584866Z"
    }
   },
   "outputs": [],
   "source": [
    "import plotly.graph_objects as go\n",
    "from plotly.offline import plot, iplot\n",
    "from plotly.subplots import make_subplots\n",
    "import plotly.express as px\n",
    "import pandas as pd\n",
    "\n",
    "import numpy as np\n",
    "\n",
    "config = dict({\n",
    "                'displayModeBar': True,\n",
    "                'responsive': False,\n",
    "                'staticPlot': False,\n",
    "                'displaylogo': False,\n",
    "                'showTips': False,\n",
    "                })\n",
    "\n",
    "# Simplify Plotting Schemes:\n",
    "col1 = px.colors.qualitative.Plotly[0]\n",
    "col2 = px.colors.qualitative.Plotly[1]\n",
    "col3 = px.colors.qualitative.Plotly[2]\n",
    "col4 = px.colors.qualitative.Plotly[3]\n",
    "col5 = px.colors.qualitative.Plotly[4]\n",
    "col6 = px.colors.qualitative.Plotly[5]"
   ]
  },
  {
   "cell_type": "markdown",
   "id": "19fd1184",
   "metadata": {},
   "source": [
    "## Plot Residuals with RMS"
   ]
  },
  {
   "cell_type": "code",
   "execution_count": null,
   "id": "befc1201",
   "metadata": {
    "ExecuteTime": {
     "end_time": "2021-11-23T22:06:50.218192Z",
     "start_time": "2021-11-23T22:06:50.193817Z"
    }
   },
   "outputs": [],
   "source": [
    "obj_m1=Obj_Geodyn['msis2']\n"
   ]
  },
  {
   "cell_type": "code",
   "execution_count": null,
   "id": "1ffb2c21",
   "metadata": {
    "ExecuteTime": {
     "end_time": "2021-11-23T22:06:50.244694Z",
     "start_time": "2021-11-23T22:06:50.219835Z"
    }
   },
   "outputs": [],
   "source": [
    "import datetime\n",
    "doy_dates = []\n",
    "for i in obj_m1.__dict__['global_params']['arc_input']:\n",
    "    doy_dates.append(datetime.datetime(int(i.split('.')[0]), 1, 1) + datetime.timedelta(int(i.split('.')[1]) - 1))"
   ]
  },
  {
   "cell_type": "markdown",
   "id": "11d5dd69",
   "metadata": {},
   "source": [
    "### XYZ residuals"
   ]
  },
  {
   "cell_type": "code",
   "execution_count": null,
   "id": "71e8169f",
   "metadata": {
    "ExecuteTime": {
     "end_time": "2021-11-23T22:07:30.563432Z",
     "start_time": "2021-11-23T22:07:27.737200Z"
    }
   },
   "outputs": [],
   "source": [
    "%load_ext autoreload\n",
    "%autoreload 2\n",
    "\n",
    "\n",
    "# obj_m1=Obj_Geodyn['msis2']\n",
    "\n",
    "\n",
    "fig = make_subplots(\n",
    "    rows=3, cols=1,\n",
    "    subplot_titles=(['X', 'Y', 'Z']),\n",
    "    vertical_spacing = 0.2)\n",
    "\n",
    "comp_resids = {}\n",
    "\n",
    "model_m1 = obj_m1.__dict__['global_params']['den_model']\n",
    "for iarc,arc in enumerate(obj_m1.__dict__['global_params']['arc_input']):\n",
    "\n",
    "    data_resids = obj_m1.__dict__['OrbitResids'][arc]['resids']\n",
    "\n",
    "\n",
    "#     fig.update_layout(title=''.join(coords)+' Orbit Residuals',\n",
    "#                     autosize=True,\n",
    "#                     font=dict(size=14),\n",
    "#                     legend= {'itemsizing': 'constant'})\n",
    "    comp_resids[arc] = {}\n",
    "\n",
    "    for i,val in enumerate(['X','Y','Z']):\n",
    "        comp_resids[arc][val] = data_resids[val]\n",
    "        \n",
    "        (mean,rms,rms_about_zero) = STATS_residuals(comp_resids[arc][val])\n",
    "\n",
    "        fig.add_trace(go.Scattergl(\n",
    "                             x=obj_m1.__dict__['OrbitResids'][arc]['resids']['Date'],\n",
    "                             y=data_resids[val],\n",
    "                         name=val,\n",
    "                         mode='markers',\n",
    "                         marker=dict(\n",
    "                             color='blue',\n",
    "                             size=5,\n",
    "                                    ),\n",
    "                         showlegend=False),\n",
    "                         secondary_y=False,\n",
    "                         row=i+1, col=1)\n",
    "        fig.add_trace(go.Scatter(\n",
    "            x=[doy_dates[iarc]+ datetime.timedelta(hours=12)],\n",
    "            y=[np.max(data_resids[val])],\n",
    "#             xref=\"x domain\",\n",
    "#             yref=\"y domain\",\n",
    "            text=[str(np.round(rms_about_zero,3)) ,\n",
    "                 ],\n",
    "            mode=\"text\",\n",
    "        textfont = { 'color': [\"red\"]},\n",
    "            showlegend=False,\n",
    "            ),\n",
    "             row=i+1, col=1)\n",
    "\n",
    "fig.update_yaxes( title=\"Residuals (m)\",exponentformat= 'power',row=1, col=1)\n",
    "fig.update_yaxes( title=\"Residuals (m)\",exponentformat= 'power',row=2, col=1)\n",
    "fig.update_yaxes( title=\"Residuals (m)\",exponentformat= 'power',row=3, col=1)\n",
    "# fig.update_xaxes( title=\"Date\", row=1, col=1)\n",
    "\n",
    "\n",
    "fig.show(config=config)\n",
    "\n",
    "RMS_total_xyz = []\n",
    "\n",
    "for iarc,arc in enumerate(obj_m1.__dict__['global_params']['arc_input']):\n",
    "    totalvec_xyz = []\n",
    "    for icomp,val in enumerate(comp_resids[arc].keys()):\n",
    "        print(arc, val)\n",
    "        (mean,rms,rms_about_zero) = STATS_residuals(comp_resids[arc][val])\n",
    "        print('    ','mean   ',':',mean)\n",
    "        print('    ','rms    ',':',rms)\n",
    "        print('    ','rms_0  ',':',rms_about_zero)\n",
    "        totalvec_xyz.append(rms_about_zero)\n",
    "    \n",
    "    RMS_total_xyz.append(np.sqrt( ( np.square(totalvec_xyz[0]) + np.square(totalvec_xyz[1]) + np.square(totalvec_xyz[2]) ) /3  ))\n",
    "print('    ','--------------------')\n",
    "print('    ','RMS_total XYZ', RMS_total_xyz)\n",
    "print('    ','--------------------')\n"
   ]
  },
  {
   "cell_type": "markdown",
   "id": "c99d62a1",
   "metadata": {},
   "source": [
    "### NTW residuals"
   ]
  },
  {
   "cell_type": "code",
   "execution_count": null,
   "id": "39dd6ae2",
   "metadata": {
    "ExecuteTime": {
     "end_time": "2021-11-23T22:11:10.796453Z",
     "start_time": "2021-11-23T22:11:07.954071Z"
    }
   },
   "outputs": [],
   "source": [
    "%load_ext autoreload\n",
    "%autoreload 2\n",
    "\n",
    "\n",
    "obj_m1=Obj_Geodyn['msis2']\n",
    "\n",
    "\n",
    "fig = make_subplots(\n",
    "    rows=3, cols=1,\n",
    "    subplot_titles=(['N','T','W']),\n",
    "    vertical_spacing = 0.2)\n",
    "\n",
    "comp_resids = {}\n",
    "\n",
    "model_m1 = obj_m1.__dict__['global_params']['den_model']\n",
    "for iarc,arc in enumerate(obj_m1.__dict__['global_params']['arc_input']):\n",
    "\n",
    "    data_resids = obj_m1.__dict__['OrbitResids'][arc]['resids']\n",
    "\n",
    "\n",
    "#     state_vector_pce = np.transpose(np.array([obj_m1.__dict__['OrbitResids'][arc]['data_PCE']['X'], \n",
    "#                                               obj_m1.__dict__['OrbitResids'][arc]['data_PCE']['Y'], \n",
    "#                                               obj_m1.__dict__['OrbitResids'][arc]['data_PCE']['Z'], \n",
    "#                                               obj_m1.__dict__['OrbitResids'][arc]['data_PCE']['Xdot'], \n",
    "#                                               obj_m1.__dict__['OrbitResids'][arc]['data_PCE']['Ydot'], \n",
    "#                                               obj_m1.__dict__['OrbitResids'][arc]['data_PCE']['Zdot']]))\n",
    "\n",
    "#     NTW_pce  = [Convert_cartesian_to_NTW_returnall(x_pce) for x_pce in state_vector_pce]\n",
    "\n",
    "\n",
    "\n",
    "#     state_vector_orbfil = np.transpose(np.array([ obj_m1.__dict__['OrbitResids'][arc]['data_orbfil']['X'], \n",
    "#                                                   obj_m1.__dict__['OrbitResids'][arc]['data_orbfil']['Y'], \n",
    "#                                                   obj_m1.__dict__['OrbitResids'][arc]['data_orbfil']['Z'], \n",
    "#                                                   obj_m1.__dict__['OrbitResids'][arc]['data_orbfil']['Xdot'], \n",
    "#                                                   obj_m1.__dict__['OrbitResids'][arc]['data_orbfil']['Ydot'], \n",
    "#                                                   obj_m1.__dict__['OrbitResids'][arc]['data_orbfil']['Zdot']]))\n",
    "\n",
    "#     NTW_orbfil  = [Convert_cartesian_to_NTW_returnall(x_orbfil) for x_orbfil in state_vector_orbfil]\n",
    "\n",
    "    \n",
    "    \n",
    "    comp_resids[arc] = {}\n",
    "\n",
    "    for i,val in enumerate(['N','T','W']):\n",
    "#         comp_resids[arc][val] = np.array(NTW_pce)[:,i] - np.array(NTW_orbfil)[:,i]\n",
    "        comp_resids[arc][val] = np.array(obj_m1.__dict__['OrbitResids'][arc]['data_PCE'][val]) - np.array(obj_m1.__dict__['OrbitResids'][arc]['data_orbfil'][val])\n",
    "        \n",
    "        (mean,rms,rms_about_zero) = STATS_residuals(comp_resids[arc][val])\n",
    "\n",
    "        fig.add_trace(go.Scattergl(\n",
    "                             x=data_resids['Date'],\n",
    "                             y= data_resids[val],\n",
    "                         name=val,\n",
    "                         mode='markers',\n",
    "                         marker=dict(\n",
    "                             color='blue',\n",
    "                             size=5,\n",
    "                                    ),\n",
    "                         showlegend=False),\n",
    "                         secondary_y=False,\n",
    "                         row=i+1, col=1)\n",
    "        \n",
    "        if val == 'T':\n",
    "            y_plac=[np.min(comp_resids[arc][val])],\n",
    "        else:\n",
    "            y_plac=[np.max(comp_resids[arc][val])],\n",
    "\n",
    "        fig.add_trace(go.Scatter(\n",
    "            x=[doy_dates[iarc]+ datetime.timedelta(hours=12)],\n",
    "            y= [np.min(comp_resids[arc][val])],\n",
    "            text=[str(np.round(rms_about_zero,3)) ,\n",
    "                 ],\n",
    "            mode=\"text\",\n",
    "        textfont = { 'color': [\"red\"]},\n",
    "            showlegend=False,\n",
    "            ),\n",
    "             row=i+1, col=1)\n",
    "fig.update_yaxes( title=\"Residuals (m)\",exponentformat= 'power',row=1, col=1)\n",
    "fig.update_yaxes( title=\"Residuals (m)\",exponentformat= 'power',row=2, col=1)\n",
    "fig.update_yaxes( title=\"Residuals (m)\",exponentformat= 'power',row=3, col=1)\n",
    "\n",
    "\n",
    "fig.show(config=config)\n",
    "\n",
    "\n",
    "RMS_total_ntw = []\n",
    "for iarc,arc in enumerate(obj_m1.__dict__['global_params']['arc_input']):\n",
    "    totalvec_ntw = []\n",
    "    for icomp,val in enumerate(comp_resids[arc].keys()):\n",
    "        print(arc, val)\n",
    "        (mean,rms,rms_about_zero) = STATS_residuals(comp_resids[arc][val])\n",
    "        print('    ','mean   ',':',mean)\n",
    "        print('    ','rms    ',':',rms)\n",
    "        print('    ','rms_0  ',':',rms_about_zero)\n",
    "        totalvec_ntw.append(rms_about_zero)\n",
    "    \n",
    "    RMS_total_ntw.append( np.sqrt( ( np.square(totalvec_ntw[0]) + np.square(totalvec_ntw[1]) + np.square(totalvec_ntw[2]) )/3  ))\n",
    "print('    ','--------------------')\n",
    "print('    ','RMS_total NTW', RMS_total_ntw)\n",
    "print('    ','--------------------')\n",
    "\n",
    "\n",
    "    "
   ]
  },
  {
   "cell_type": "markdown",
   "id": "4eb2adb0",
   "metadata": {},
   "source": [
    "### Plot Total RMS timeseries"
   ]
  },
  {
   "cell_type": "code",
   "execution_count": null,
   "id": "4af5dce4",
   "metadata": {
    "ExecuteTime": {
     "end_time": "2021-11-23T22:06:57.292476Z",
     "start_time": "2021-11-23T22:06:57.153929Z"
    }
   },
   "outputs": [],
   "source": [
    "\n",
    "def plot_TotalRMS_XYZ_NTW(fig, obj_m1, plot_num):\n",
    "\n",
    "    if plot_num == 0:\n",
    "        col = col1\n",
    "        x_annot = 1.09\n",
    "        y_annot1 = 1\n",
    "        y_annot2 = .9\n",
    "        m_size = 3.5\n",
    "    elif plot_num == 1:\n",
    "        x_annot = 1.09\n",
    "        y_annot1 = .8\n",
    "        y_annot2 = .7\n",
    "        col = col2\n",
    "        m_size = 3.5\n",
    "    elif plot_num == 2:\n",
    "        x_annot = 1.09\n",
    "        y_annot1 = .5\n",
    "        y_annot2 = .5\n",
    "        col = col3\n",
    "        m_size = 3.5\n",
    "    elif plot_num == 3:\n",
    "        x_annot = 1.09\n",
    "        y_annot1 = .2\n",
    "        y_annot2 = .3\n",
    "        col = col4\n",
    "        m_size = 3.5\n",
    "    elif plot_num == 4:\n",
    "        x_annot = 1.09\n",
    "        y_annot1 =  0 \n",
    "        y_annot2 = .1\n",
    "        col = col5\n",
    "        m_size = 3.5\n",
    "        \n",
    "    import datetime\n",
    "    doy_dates = []\n",
    "    for i in obj_m1.__dict__['global_params']['arc_input']:\n",
    "        doy_dates.append(datetime.datetime(int(i.split('.')[0]), 1, 1) + datetime.timedelta(int(i.split('.')[1]) - 1))\n",
    "    \n",
    "    text_xyz = []\n",
    "    for itxt,txt in enumerate(obj_m1.__dict__['Statistics']['RMS_total_XYZ']):\n",
    "        text_xyz.append(str(np.round(obj_m1.__dict__['Statistics']['RMS_total_XYZ'][itxt],3)))\n",
    "    fig.add_trace(go.Scattergl(\n",
    "                             x=doy_dates,\n",
    "                             y=obj_m1.__dict__['Statistics']['RMS_total_XYZ'],\n",
    "                         name='XYZ',\n",
    "                         mode='markers+text+lines',\n",
    "                         marker=dict(\n",
    "                             symbol = 'circle-open',\n",
    "                             color=col,\n",
    "                             size=10,\n",
    "                                    ),\n",
    "                         line=dict(color=col, \n",
    "                             width=4,\n",
    "                             dash='dash'),\n",
    "                    text = text_xyz,\n",
    "                    textposition = \"top center\",\n",
    "                    textfont = {'color': [col]*(itxt+1)},\n",
    "                         showlegend=False),\n",
    "                         secondary_y=False,\n",
    "                         row=1, col=1)\n",
    "\n",
    "    text_ntw = []\n",
    "    for itxt,txt in enumerate(obj_m1.__dict__['Statistics']['RMS_total_NTW']):\n",
    "        text_ntw.append(str(np.round(obj_m1.__dict__['Statistics']['RMS_total_NTW'][itxt],3)))\n",
    "    fig.add_trace(go.Scattergl(\n",
    "                             x=doy_dates,\n",
    "                             y=obj_m1.__dict__['Statistics']['RMS_total_NTW'],\n",
    "                         name='NTW',\n",
    "                         mode='markers+text+lines',\n",
    "                         marker=dict(\n",
    "                             color=col,\n",
    "                             size=10,\n",
    "                                    ),\n",
    "                    text = text_ntw,\n",
    "                    textposition = \"top center\",\n",
    "                    textfont = {'color': [col]*(itxt+1)},\n",
    "                         showlegend=False),\n",
    "                         secondary_y=False,\n",
    "                         row=1, col=1)\n",
    "\n",
    "    return(fig)\n",
    "    \n"
   ]
  },
  {
   "cell_type": "code",
   "execution_count": null,
   "id": "068034fd",
   "metadata": {
    "ExecuteTime": {
     "end_time": "2021-11-23T22:06:57.574588Z",
     "start_time": "2021-11-23T22:06:57.294073Z"
    }
   },
   "outputs": [],
   "source": [
    "%load_ext autoreload\n",
    "%autoreload 2\n",
    "\n",
    "fig = make_subplots(\n",
    "    rows=1, cols=1,\n",
    "    subplot_titles=(['Total RMS Values across multiple arcs']),\n",
    "    vertical_spacing = 0.1)\n",
    "\n",
    "fig = plot_TotalRMS_XYZ_NTW(fig,  Obj_Geodyn['msis2'] , 0 )\n",
    "\n",
    "fig.show(config=config)\n"
   ]
  },
  {
   "cell_type": "markdown",
   "id": "b8dbd8db",
   "metadata": {
    "heading_collapsed": true
   },
   "source": [
    "## Compare IIEOUT Resids against Manual Resids"
   ]
  },
  {
   "cell_type": "code",
   "execution_count": null,
   "id": "8b175cdc",
   "metadata": {
    "ExecuteTime": {
     "end_time": "2021-11-23T22:06:57.609852Z",
     "start_time": "2021-11-23T22:06:57.576102Z"
    },
    "hidden": true
   },
   "outputs": [],
   "source": [
    "# def plot_residuals_manual_and_auto_compare(fig, obj_m1, plot_num):\n",
    "# #     arc_list = [obj_m1.__dict__['run_parameters']['ARC']]\n",
    "#     model_m1 = obj_m1.__dict__['global_params']['den_model']\n",
    "# #     iter_list = [ obj_m1.__dict__['run_parameters']['str_iteration']]\n",
    "\n",
    "#     if plot_num == 0:\n",
    "#         col = col1\n",
    "#         x_annot = 1.09\n",
    "#         y_annot = .90\n",
    "#         m_size = 4\n",
    "#     elif plot_num == 1:\n",
    "#         x_annot = 1.09\n",
    "#         y_annot = .7\n",
    "#         col = col2\n",
    "#         m_size = 3.5\n",
    "#     elif plot_num == 2:\n",
    "#         x_annot = 1.09\n",
    "#         y_annot = .5\n",
    "#         col = col3\n",
    "#         m_size = 2.5\n",
    "#     elif plot_num == 3:\n",
    "#         x_annot = 1.09\n",
    "#         y_annot = .3\n",
    "#         col = col4\n",
    "#         m_size = 1.5\n",
    "#     elif plot_num == 4:\n",
    "#         x_annot = 1.09\n",
    "#         y_annot = .1\n",
    "#         col = col5\n",
    "#         m_size = 1\n",
    "        \n",
    "\n",
    "\n",
    "\n",
    "    \n",
    "#     for i,  arc in enumerate(obj_m1.__dict__['global_params']['arc_input']):\n",
    "#         i_arc = i+1\n",
    "        \n",
    "#         auto = obj_m1.Residuals_obs[arc]\n",
    "#         manu = pd.DataFrame.from_dict(obj_m1.__dict__['OrbitResids'][arc]['resids'])\n",
    "#         merge_resids = pd.merge(left  = auto , left_on  = 'Date',\n",
    "#                                 right = manu , right_on = 'Date')\n",
    "\n",
    "        \n",
    "#         str_run_param = 'run_parameters'+ arc\n",
    "#         final_iter = obj_m1.__dict__[str_run_param]['str_iteration']\n",
    "\n",
    "#         index_pce_x = merge_resids['StatSatConfig'] == 'PCE X    '\n",
    "#         index_pce_y = merge_resids['StatSatConfig'] == 'PCE Y    '\n",
    "#         index_pce_z = merge_resids['StatSatConfig'] == 'PCE Z    '\n",
    "\n",
    "#         fig.add_trace(go.Scattergl(  x=merge_resids['Date'][index_pce_x],\n",
    "#                                      y=merge_resids['Residual'][index_pce_x],\n",
    "#                                      name= 'iieout  X',\n",
    "#                                      mode='markers',\n",
    "#                                      marker=dict(color=col,\n",
    "#                                      size=m_size,),\n",
    "#                                      showlegend=True,\n",
    "#                                      ),\n",
    "#                                      row=1, col=1,\n",
    "#                                      )\n",
    "#         fig.add_trace(go.Scattergl(  x=merge_resids['Date'],\n",
    "#                                      y=merge_resids['X'],\n",
    "#                                      name= 'manual X',\n",
    "#                                      mode='markers',\n",
    "#                                      marker=dict(color='red',\n",
    "#                                      size=m_size-2,),\n",
    "#                                      showlegend=True,\n",
    "#                                      ),\n",
    "#                                      row=1, col=1,\n",
    "#                                      )\n",
    "#         fig.add_trace(go.Scattergl(  x=merge_resids['Date'],\n",
    "#                                      y=merge_resids['Residual'][index_pce_x] - merge_resids['X'],\n",
    "#                                      name= 'residual of residual X',\n",
    "#                                      mode='markers',\n",
    "#                                      marker=dict(color='green',\n",
    "#                                      size=m_size-2,),\n",
    "#                                      showlegend=True,\n",
    "#                                      ),\n",
    "#                                      row=1, col=2,\n",
    "#                                      )\n",
    "#         fig.add_trace(go.Scattergl(x=merge_resids['Date'][index_pce_y],\n",
    "#                                  y=merge_resids['Residual'][index_pce_y],\n",
    "#                                  name= 'iieout Y',\n",
    "#                                  mode='markers',\n",
    "#                                  marker=dict(color=col,\n",
    "#                                  size=m_size,),\n",
    "#                                  showlegend=True,\n",
    "#                                  ),\n",
    "#                                  row=2, col=1,\n",
    "#                                  )\n",
    "#         fig.add_trace(go.Scattergl(x=merge_resids['Date'],\n",
    "#                                  y=merge_resids['Y'],\n",
    "#                                  name= 'manual Y',\n",
    "#                                  mode='markers',\n",
    "#                                  marker=dict(color='red',\n",
    "#                                  size=m_size-2,),\n",
    "#                                  showlegend=True,\n",
    "#                                  ),\n",
    "#                                  row=2, col=1,\n",
    "#                                  )\n",
    "#         fig.add_trace(go.Scattergl(  x=merge_resids['Date'],\n",
    "#                                      y=merge_resids['Residual'][index_pce_y] - merge_resids['Y'],\n",
    "#                                      name= 'residual of residual Y',\n",
    "#                                      mode='markers',\n",
    "#                                      marker=dict(color='green',\n",
    "#                                      size=m_size-2,),\n",
    "#                                      showlegend=True,\n",
    "#                                      ),\n",
    "#                                      row=2, col=2,\n",
    "#                                      )\n",
    "#         fig.add_trace(go.Scattergl(x=merge_resids['Date'][index_pce_z],\n",
    "#                                  y=merge_resids['Residual'][index_pce_z],\n",
    "#                                  name= 'iieout Z',\n",
    "#                                  mode='markers',\n",
    "#                                  marker=dict(color=col,\n",
    "#                                  size=m_size,),\n",
    "#                                  showlegend=True,\n",
    "#                                  ),\n",
    "#                                  row=3, col=1,\n",
    "#                                  )\n",
    "#         fig.add_trace(go.Scattergl(x=merge_resids['Date'],\n",
    "#                                  y=merge_resids['Z'],\n",
    "#                                  name= 'manual Z',\n",
    "#                                  mode='markers',\n",
    "#                                  marker=dict(color='red',\n",
    "#                                  size=m_size-2,),\n",
    "#                                  showlegend=True,\n",
    "#                                  ),\n",
    "#                                  row=3, col=1,\n",
    "#                                  )\n",
    "#         fig.add_trace(go.Scattergl(  x=merge_resids['Date'],\n",
    "#                                      y=merge_resids['Residual'][index_pce_z] - merge_resids['Z'],\n",
    "#                                      name= 'residual of residual Z',\n",
    "#                                      mode='markers',\n",
    "#                                      marker=dict(color='green',\n",
    "#                                      size=m_size-2,),\n",
    "#                                      showlegend=True,\n",
    "#                                      ),\n",
    "#                                      row=3, col=2,\n",
    "#                                      )                                 \n",
    "#     fig.update_layout(\n",
    "#                     autosize=False,\n",
    "#                     width=1000,\n",
    "#                     height=900,\n",
    "#                     font=dict(size=14),\n",
    "#                     legend= {'itemsizing': 'constant'})\n",
    "\n",
    "#     fig.update_yaxes( title=\"Residuals (m)\",exponentformat= 'power',row=1, col=1)\n",
    "#     fig.update_yaxes( title=\"Residuals (m)\",exponentformat= 'power',row=2, col=1)\n",
    "#     fig.update_yaxes( title=\"Residuals (m)\",exponentformat= 'power',row=3, col=1)\n",
    "#     fig.update_xaxes( title=\"Date\", row=3, col=1)\n",
    "#     fig.update_xaxes( title=\"Date\", row=3, col=2)\n",
    "#     return(fig)\n",
    "\n",
    "\n"
   ]
  },
  {
   "cell_type": "code",
   "execution_count": null,
   "id": "3f7651ee",
   "metadata": {
    "hidden": true
   },
   "outputs": [],
   "source": []
  },
  {
   "cell_type": "code",
   "execution_count": null,
   "id": "35a79047",
   "metadata": {
    "ExecuteTime": {
     "end_time": "2021-11-23T22:06:57.660608Z",
     "start_time": "2021-11-23T22:06:57.611227Z"
    },
    "hidden": true
   },
   "outputs": [],
   "source": [
    "# %load_ext autoreload\n",
    "# %autoreload 2\n",
    "\n",
    "\n",
    "# fig = make_subplots(\n",
    "#     rows=3, cols=2,\n",
    "# #     subplot_titles=(['X','Y','Z']),\n",
    "#     vertical_spacing = 0.1)\n",
    "\n",
    "# fig = plot_residuals_manual_and_auto_compare(fig,  Obj_Geodyn['msis2'] , 0 )\n",
    "\n",
    "# fig.show(config=config)\n"
   ]
  },
  {
   "cell_type": "markdown",
   "id": "c6d3f1b0",
   "metadata": {},
   "source": [
    "##  Function: XYZ to NTW Conversion"
   ]
  },
  {
   "cell_type": "code",
   "execution_count": null,
   "id": "cf7f188f",
   "metadata": {
    "ExecuteTime": {
     "end_time": "2021-11-23T22:06:57.694522Z",
     "start_time": "2021-11-23T22:06:57.662100Z"
    }
   },
   "outputs": [],
   "source": [
    "# %load_ext autoreload\n",
    "# %autoreload 2\n",
    "\n",
    "# # import sys\n",
    "# # sys.path.insert(0,'/data/geodyn_proj/pygeodyn/pygeodyn_develop/util_dir/')\n",
    "# # from common_functions          import Convert_cartesian_to_NTW_returnall\n",
    "\n",
    "# def Convert_cartesian_to_NTW_returnall(state_vector, Tmat_input, PCE_bool = True):\n",
    "#     '''\n",
    "#     ###### The Satellite Coordinate System: NTW\n",
    "#     ###        often used to describe orbital errors, relative positions, \n",
    "#                and displacements of satellite orbits. \n",
    "    \n",
    "#     ### The NTW system moves with the satellite.\n",
    "#     ###     T axis is tangential to the orbit and always points to the velocity vector. \n",
    "#     ###     N axis lies in the orbital plane, normal to the velocity vector.\n",
    "#     ###     W axis is normal to the orbital plane (as in the RSW system)\n",
    "    \n",
    "#     ### NOTE: We define in-track or tangential displacements as deviations along\n",
    "#               the T axis. In-track errors are not the same as along-track variations\n",
    "#               in the RSW system. One way to remember the distinction is that the \n",
    "#               in-track errors are in the direc- tion of the velocity, whereas \n",
    "#               along-track variations are simply along the velocity vector.\n",
    "#     '''\n",
    "\n",
    "# #     print('state_vector', state_vector)\n",
    "    \n",
    "#     r_vec = state_vector[:3]    \n",
    "#     v_vec = state_vector[-3:]   \n",
    "#     v_vec_norm = np.linalg.norm(v_vec, ord=2)\n",
    "\n",
    "#     T_hat = v_vec/v_vec_norm\n",
    "#     W_hat = (np.cross(r_vec,v_vec)) / np.linalg.norm(np.cross(r_vec,v_vec), ord=2)\n",
    "#     N_hat = np.cross(T_hat, W_hat)\n",
    "    \n",
    "#     ### Transformation matrix\n",
    "# #     transmat_NTW =  np.transpose(np.array([N_hat, T_hat, W_hat ]))\n",
    "# #     transmat_NTW =  np.vstack([N_hat, T_hat, W_hat ])\n",
    "#     if PCE_bool == True:\n",
    "#         transmat_NTW  =  [[ N_hat[0] , T_hat[0] , W_hat[0] ],\n",
    "#                           [ N_hat[1] , T_hat[1] , W_hat[1] ],\n",
    "#                           [ N_hat[2] , T_hat[2] , W_hat[2] ] ]\n",
    "#     else:\n",
    "#         transmat_NTW = Tmat_input\n",
    "    \n",
    "# #     from scipy.linalg import det\n",
    "# #     det_transmat_NTW = det(transmat_NTW)\n",
    "# #     print('transmat_NTW      ',transmat_NTW )\n",
    "# #     print('det(transmat_NTW) ',det_transmat_NTW )\n",
    "\n",
    "#     inverse_transmat_NTW = np.linalg.inv(transmat_NTW)\n",
    "\n",
    "#     r_vec_NTW = np.matmul(inverse_transmat_NTW, r_vec  )\n",
    "    \n",
    "#     n = r_vec_NTW[0]\n",
    "#     t = r_vec_NTW[1]\n",
    "#     w = r_vec_NTW[2]\n",
    "    \n",
    "# #     data_ntw = (n, t, w)\n",
    "#     return r_vec_NTW, transmat_NTW\n",
    "\n",
    "\n",
    "\n",
    "\n",
    "\n"
   ]
  },
  {
   "cell_type": "markdown",
   "id": "b9b765f8",
   "metadata": {},
   "source": [
    "### Stats Function"
   ]
  },
  {
   "cell_type": "code",
   "execution_count": null,
   "id": "549835cd",
   "metadata": {
    "ExecuteTime": {
     "end_time": "2021-11-23T22:06:57.740820Z",
     "start_time": "2021-11-23T22:06:57.695854Z"
    }
   },
   "outputs": [],
   "source": [
    "def STATS_residuals(residuals):\n",
    "    import numpy as np\n",
    "    n = np.size(residuals)\n",
    "    mean = (1/n)*(np.sum(residuals))\n",
    "    variance = (1/n)*(np.sum(np.square(residuals)))\n",
    "    rms = np.sqrt(variance)\n",
    "    rms_about_zero = np.sqrt((n/(n-1))*variance)\n",
    "    return(mean,rms,rms_about_zero)\n"
   ]
  },
  {
   "cell_type": "markdown",
   "id": "11cbd735",
   "metadata": {},
   "source": [
    "### Test conversion: Simple look"
   ]
  },
  {
   "cell_type": "code",
   "execution_count": null,
   "id": "8cb5b412",
   "metadata": {
    "ExecuteTime": {
     "end_time": "2021-11-23T22:06:57.777191Z",
     "start_time": "2021-11-23T22:06:57.742191Z"
    }
   },
   "outputs": [],
   "source": [
    "obj_m1 = Obj_Geodyn['msis2']\n",
    "arc= '2018.313'\n",
    "\n",
    "# state_vector_pce = np.transpose(np.array([obj_m1.__dict__['OrbitResids'][arc]['data_PCE']['X'], \n",
    "#                                           obj_m1.__dict__['OrbitResids'][arc]['data_PCE']['Y'], \n",
    "#                                           obj_m1.__dict__['OrbitResids'][arc]['data_PCE']['Z'], \n",
    "#                                           obj_m1.__dict__['OrbitResids'][arc]['data_PCE']['Xdot'], \n",
    "#                                           obj_m1.__dict__['OrbitResids'][arc]['data_PCE']['Ydot'], \n",
    "#                                           obj_m1.__dict__['OrbitResids'][arc]['data_PCE']['Zdot']]))\n",
    "\n",
    "# NTW_pce  = [Convert_cartesian_to_NTW_returnall(x_pce) for x_pce in state_vector_pce[:1]]"
   ]
  },
  {
   "cell_type": "markdown",
   "id": "3d9dad8d",
   "metadata": {},
   "source": [
    "### Test conversion: Magnitudes should match"
   ]
  },
  {
   "cell_type": "code",
   "execution_count": null,
   "id": "dc196a2a",
   "metadata": {
    "ExecuteTime": {
     "end_time": "2021-11-23T22:06:57.811117Z",
     "start_time": "2021-11-23T22:06:57.778579Z"
    }
   },
   "outputs": [],
   "source": [
    "# test_xyz = state_vector_pce[:1,:3][0]\n",
    "# test_ntw =np.array(NTW_pce)[0]\n",
    "\n",
    "# print('XYZ vec:          ',test_xyz)\n",
    "# print('NTW vec:          ',test_ntw)\n",
    "\n",
    "# print('magnitude(XYZ):   ', np.linalg.norm(test_xyz)   )\n",
    "# print('magnitude(NTW):   ', np.linalg.norm(test_ntw)   )\n",
    "\n",
    "\n",
    "\n",
    "# print('manual mag (XYZ): ', np.sqrt( np.square(test_xyz[0]) + np.square(test_xyz[1]) + np.square(test_xyz[2]) )   )\n",
    "# print('manual mag (NTW): ', np.sqrt( np.square(test_ntw[0]) + np.square(test_ntw[1]) + np.square(test_ntw[2]) )   )\n"
   ]
  },
  {
   "cell_type": "markdown",
   "id": "59074321",
   "metadata": {},
   "source": [
    "#### Test for whole array"
   ]
  },
  {
   "cell_type": "code",
   "execution_count": null,
   "id": "22203714",
   "metadata": {
    "ExecuteTime": {
     "end_time": "2021-11-23T22:06:57.847356Z",
     "start_time": "2021-11-23T22:06:57.812510Z"
    }
   },
   "outputs": [],
   "source": [
    "# obj_m1 = Obj_Geodyn['msis2']\n",
    "# arc= '2018.313'\n",
    "\n",
    "# state_vector_pce = np.transpose(np.array([obj_m1.__dict__['OrbitResids'][arc]['data_PCE']['X'], \n",
    "#                                           obj_m1.__dict__['OrbitResids'][arc]['data_PCE']['Y'], \n",
    "#                                           obj_m1.__dict__['OrbitResids'][arc]['data_PCE']['Z'], \n",
    "#                                           obj_m1.__dict__['OrbitResids'][arc]['data_PCE']['Xdot'], \n",
    "#                                           obj_m1.__dict__['OrbitResids'][arc]['data_PCE']['Ydot'], \n",
    "#                                           obj_m1.__dict__['OrbitResids'][arc]['data_PCE']['Zdot']]))\n",
    "\n",
    "# NTW_pce  = [Convert_cartesian_to_NTW_returnall(x_pce) for x_pce in state_vector_pce]"
   ]
  },
  {
   "cell_type": "code",
   "execution_count": null,
   "id": "f828309c",
   "metadata": {
    "ExecuteTime": {
     "end_time": "2021-11-23T22:06:57.885059Z",
     "start_time": "2021-11-23T22:06:57.851538Z"
    }
   },
   "outputs": [],
   "source": [
    "# NTW_pce[:5]"
   ]
  },
  {
   "cell_type": "code",
   "execution_count": null,
   "id": "e8a5b7ad",
   "metadata": {
    "ExecuteTime": {
     "end_time": "2021-11-23T22:06:57.920522Z",
     "start_time": "2021-11-23T22:06:57.887416Z"
    }
   },
   "outputs": [],
   "source": [
    "# test_mag_xyz = []\n",
    "# test_mag_ntw = []\n",
    "# for i ,val in enumerate(NTW_pce):\n",
    "#     test_xyz = np.array(val)\n",
    "#     test_ntw = state_vector_pce[i,:3]\n",
    "\n",
    "#     test_mag_xyz.append(np.linalg.norm(test_xyz))\n",
    "#     test_mag_ntw.append(np.linalg.norm(test_ntw))\n",
    "\n",
    "    \n",
    "    \n",
    "# test_mag_xyz = np.array(test_mag_xyz)\n",
    "# test_mag_ntw = np.array(test_mag_ntw)\n",
    "# #     print('XYZ vec:          ',test_xyz)\n",
    "# #     print('NTW vec:          ',test_ntw)\n",
    "\n",
    "# #     print('magnitude(XYZ):   ', np.linalg.norm(test_xyz)   )\n",
    "# #     print('magnitude(NTW):   ', np.linalg.norm(test_ntw)   )"
   ]
  },
  {
   "cell_type": "code",
   "execution_count": null,
   "id": "f808384c",
   "metadata": {
    "ExecuteTime": {
     "end_time": "2021-11-23T22:06:57.954899Z",
     "start_time": "2021-11-23T22:06:57.921833Z"
    }
   },
   "outputs": [],
   "source": [
    "# obj_m1.__dict__['OrbitResids'][arc]['data_PCE']['Date']"
   ]
  },
  {
   "cell_type": "code",
   "execution_count": null,
   "id": "33e4e11e",
   "metadata": {
    "ExecuteTime": {
     "end_time": "2021-11-23T22:06:57.987363Z",
     "start_time": "2021-11-23T22:06:57.956301Z"
    }
   },
   "outputs": [],
   "source": [
    "# test_mag_xyz = []\n",
    "# test_mag_ntw = []\n",
    "\n",
    "# pce_df = obj_m1.__dict__['OrbitResids'][arc]['data_PCE']\n",
    "# for i ,val in enumerate(pce_df['Date'][:5]):\n",
    "    \n",
    "#     test_xyz = np.array([pce_df['X'],pce_df['Y'],pce_df['Z']])\n",
    "#     test_ntw = np.array([pce_df['N'],pce_df['T'],pce_df['W']])\n",
    "\n",
    "#     test_mag_xyz.append(np.linalg.norm(test_xyz))\n",
    "#     test_mag_ntw.append(np.linalg.norm(test_ntw))\n",
    "\n",
    "# print(test_mag_xyz)\n",
    "# print(test_mag_ntw)\n"
   ]
  },
  {
   "cell_type": "code",
   "execution_count": null,
   "id": "4947778c",
   "metadata": {
    "ExecuteTime": {
     "end_time": "2021-11-23T22:06:59.789405Z",
     "start_time": "2021-11-23T22:06:57.988818Z"
    }
   },
   "outputs": [],
   "source": [
    "test_mag_xyz = []\n",
    "test_mag_ntw = []\n",
    "\n",
    "pce_df = obj_m1.__dict__['OrbitResids'][arc]['data_PCE']\n",
    "for i ,val in enumerate(pce_df['Date']):\n",
    "    \n",
    "    test_xyz = np.array([pce_df['X'][i],pce_df['Y'][i],pce_df['Z'][i]])\n",
    "    test_ntw = np.array([pce_df['N'][i],pce_df['T'][i],pce_df['W'][i]])\n",
    "\n",
    "    test_mag_xyz.append(np.linalg.norm(test_xyz))\n",
    "    test_mag_ntw.append(np.linalg.norm(test_ntw))\n",
    "\n",
    "    \n",
    "test_mag_xyz =np.array(test_mag_xyz)\n",
    "test_mag_ntw =np.array(test_mag_ntw)\n",
    "\n",
    "fig = make_subplots(\n",
    "    rows=2, cols=1,\n",
    "    subplot_titles=(['Compare Magnitudes of XYZ and NTW', 'Difference should be zero' ]),\n",
    "    vertical_spacing = 0.1)\n",
    "\n",
    "fig.update_layout(title=\"PCE Coordinate Trans. Test\")\n",
    "\n",
    "fig.add_trace(go.Scattergl(\n",
    "                         x=obj_m1.__dict__['OrbitResids'][arc]['data_PCE']['Date'],\n",
    "                         y=test_mag_xyz,\n",
    "                     name='XYZ Magnitude',\n",
    "                     mode='markers',\n",
    "                     marker=dict(\n",
    "                         size=6,\n",
    "                                ),\n",
    "                     showlegend=True),\n",
    "                     secondary_y=False,\n",
    "                     row=1, col=1)\n",
    "fig.add_trace(go.Scattergl(\n",
    "                         x=obj_m1.__dict__['OrbitResids'][arc]['data_PCE']['Date'],\n",
    "                         y=test_mag_ntw,\n",
    "                     name='NTW Magnitude',\n",
    "                     mode='markers',\n",
    "                     marker=dict(\n",
    "                         size=4,\n",
    "                                ),\n",
    "                     showlegend=True),\n",
    "                     secondary_y=False,\n",
    "                     row=1, col=1)\n",
    "fig.add_trace(go.Scattergl(\n",
    "                         x=obj_m1.__dict__['OrbitResids'][arc]['data_PCE']['Date'],\n",
    "                         y= test_mag_xyz - test_mag_ntw,\n",
    "                     name='Diff Magnitude',\n",
    "                     mode='markers',\n",
    "                     marker=dict(\n",
    "                         size=4,\n",
    "                                ),\n",
    "                     showlegend=False),\n",
    "                     secondary_y=False,\n",
    "                     row=2, col=1)\n",
    "\n",
    "fig.update_yaxes( title=\"Orbit Magnitude\",exponentformat= 'power',row=1, col=1)\n",
    "fig.update_yaxes( title=\"Residual (m)\"   ,exponentformat= 'power',row=2, col=1)\n",
    "\n",
    "fig.show(config=config)"
   ]
  },
  {
   "cell_type": "code",
   "execution_count": null,
   "id": "377a8b83",
   "metadata": {
    "ExecuteTime": {
     "end_time": "2021-11-23T22:07:01.603384Z",
     "start_time": "2021-11-23T22:06:59.790887Z"
    }
   },
   "outputs": [],
   "source": [
    "# obj_m1 = Obj_Geodyn['msis2']\n",
    "# arc= '2018.313'\n",
    "\n",
    "# state_vector_orb = np.transpose(np.array([obj_m1.__dict__['OrbitResids'][arc]['data_orbfil']['X'], \n",
    "#                                           obj_m1.__dict__['OrbitResids'][arc]['data_orbfil']['Y'], \n",
    "#                                           obj_m1.__dict__['OrbitResids'][arc]['data_orbfil']['Z'], \n",
    "#                                           obj_m1.__dict__['OrbitResids'][arc]['data_orbfil']['Xdot'], \n",
    "#                                           obj_m1.__dict__['OrbitResids'][arc]['data_orbfil']['Ydot'], \n",
    "#                                           obj_m1.__dict__['OrbitResids'][arc]['data_orbfil']['Zdot']]))\n",
    "\n",
    "# NTW_orb  = [Convert_cartesian_to_NTW_returnall(x_orb) for x_orb in state_vector_orb]\n",
    "\n",
    "\n",
    "\n",
    "# test_mag_xyz = []\n",
    "# test_mag_ntw = []\n",
    "# for i ,val in enumerate(NTW_orb):\n",
    "#     test_xyz = np.array(val)\n",
    "#     test_ntw = state_vector_orb[i,:3]\n",
    "\n",
    "#     test_mag_xyz.append(np.linalg.norm(test_xyz))\n",
    "#     test_mag_ntw.append(np.linalg.norm(test_ntw))\n",
    "\n",
    "    \n",
    "    \n",
    "# test_mag_xyz = np.array(test_mag_xyz)\n",
    "# test_mag_ntw = np.array(test_mag_ntw)\n",
    "\n",
    "test_mag_xyz = []\n",
    "test_mag_ntw = []\n",
    "\n",
    "orb_df = obj_m1.__dict__['OrbitResids'][arc]['data_orbfil']\n",
    "for i ,val in enumerate(orb_df['Date']):\n",
    "    \n",
    "    test_xyz = np.array([orb_df['X'][i],orb_df['Y'][i],orb_df['Z'][i]])\n",
    "    test_ntw = np.array([orb_df['N'][i],orb_df['T'][i],orb_df['W'][i]])\n",
    "\n",
    "    test_mag_xyz.append(np.linalg.norm(test_xyz))\n",
    "    test_mag_ntw.append(np.linalg.norm(test_ntw))\n",
    "\n",
    "    \n",
    "test_mag_xyz =np.array(test_mag_xyz)\n",
    "test_mag_ntw =np.array(test_mag_ntw)\n",
    "\n",
    "fig = make_subplots(\n",
    "    rows=2, cols=1,\n",
    "    subplot_titles=(['Compare Magnitudes of XYZ and NTW', 'Difference b/w magnitudes should be zero' ]),\n",
    "    vertical_spacing = 0.1)\n",
    "\n",
    "fig.update_layout(title=\"Orbfil Coordinate Trans. Test\")\n",
    "\n",
    "fig.add_trace(go.Scattergl(\n",
    "                         x=obj_m1.__dict__['OrbitResids'][arc]['data_orbfil']['Date'],\n",
    "                         y=test_mag_xyz,\n",
    "                     name='XYZ Magnitude',\n",
    "                     mode='markers',\n",
    "                     marker=dict(\n",
    "                         size=6,\n",
    "                                ),\n",
    "                     showlegend=False),\n",
    "                     secondary_y=False,\n",
    "                     row=1, col=1)\n",
    "fig.add_trace(go.Scattergl(\n",
    "                         x=obj_m1.__dict__['OrbitResids'][arc]['data_orbfil']['Date'],\n",
    "                         y=test_mag_ntw,\n",
    "                     name='NTW Magnitude',\n",
    "                     mode='markers',\n",
    "                     marker=dict(\n",
    "                         size=4,\n",
    "                                ),\n",
    "                     showlegend=False),\n",
    "                     secondary_y=False,\n",
    "                     row=1, col=1)\n",
    "fig.add_trace(go.Scattergl(\n",
    "                         x=obj_m1.__dict__['OrbitResids'][arc]['data_orbfil']['Date'],\n",
    "                         y= test_mag_xyz - test_mag_ntw,\n",
    "                     name='Diff Magnitude',\n",
    "                     mode='markers',\n",
    "                     marker=dict(\n",
    "                         size=4,\n",
    "                                ),\n",
    "                     showlegend=False),\n",
    "                     secondary_y=False,\n",
    "                     row=2, col=1)\n",
    "\n",
    "fig.update_yaxes( title=\"Orbit Magnitude\",exponentformat= 'power',row=1, col=1)\n",
    "fig.update_yaxes( title=\"Residual (m)\"   ,exponentformat= 'power',row=2, col=1)\n",
    "\n",
    "fig.show(config=config)"
   ]
  },
  {
   "cell_type": "markdown",
   "id": "ca86e68b",
   "metadata": {},
   "source": [
    "### Test conversion: Difference of Total Residuals should be zero"
   ]
  },
  {
   "cell_type": "markdown",
   "id": "82b715b4",
   "metadata": {},
   "source": [
    "#### Residuals of XYZ (PCE - orbfil)"
   ]
  },
  {
   "cell_type": "code",
   "execution_count": null,
   "id": "14d3de9e",
   "metadata": {
    "ExecuteTime": {
     "end_time": "2021-11-23T22:07:01.898174Z",
     "start_time": "2021-11-23T22:07:01.605035Z"
    },
    "scrolled": false
   },
   "outputs": [],
   "source": [
    "state_vector_orb = np.transpose(np.array([obj_m1.__dict__['OrbitResids'][arc]['data_orbfil']['X'], \n",
    "                                          obj_m1.__dict__['OrbitResids'][arc]['data_orbfil']['Y'], \n",
    "                                          obj_m1.__dict__['OrbitResids'][arc]['data_orbfil']['Z'], \n",
    "                                          obj_m1.__dict__['OrbitResids'][arc]['data_orbfil']['Xdot'], \n",
    "                                          obj_m1.__dict__['OrbitResids'][arc]['data_orbfil']['Ydot'], \n",
    "                                          obj_m1.__dict__['OrbitResids'][arc]['data_orbfil']['Zdot']]))\n",
    "state_vector_pce = np.transpose(np.array([obj_m1.__dict__['OrbitResids'][arc]['data_PCE']['X'], \n",
    "                                          obj_m1.__dict__['OrbitResids'][arc]['data_PCE']['Y'], \n",
    "                                          obj_m1.__dict__['OrbitResids'][arc]['data_PCE']['Z'], \n",
    "                                          obj_m1.__dict__['OrbitResids'][arc]['data_PCE']['Xdot'], \n",
    "                                          obj_m1.__dict__['OrbitResids'][arc]['data_PCE']['Ydot'], \n",
    "                                          obj_m1.__dict__['OrbitResids'][arc]['data_PCE']['Zdot']]))\n",
    "\n",
    "### Have to convert PCE first to get the correct/consistent transformation matrix\n",
    "NTW_pce =  [Convert_cartesian_to_NTW_returnall(x_pce, 0, True) for x_pce in state_vector_pce]\n",
    "Rvec_ntw_pce = []\n",
    "Tmat         = []\n",
    "for vec,matrix in NTW_pce:\n",
    "    Tmat.append(matrix)\n",
    "    Rvec_ntw_pce.append(vec)\n",
    "\n",
    "# NTW_orb  = [Convert_cartesian_to_NTW_returnall(x_orb, Tmat, False) for x_orb in state_vector_orb[:5]]\n",
    "NTW_orb  = [Convert_cartesian_to_NTW_returnall(x_orb, Tmat_i, False) for x_orb, Tmat_i in zip(state_vector_orb,Tmat)]\n",
    "Rvec_ntw_orb = []\n",
    "for vecorb,matrixorb in NTW_orb:\n",
    "    Rvec_ntw_orb.append(vecorb)\n",
    "\n",
    "\n",
    "\n",
    "X_resid = []\n",
    "Y_resid = []\n",
    "Z_resid = []\n",
    "N_resid = []\n",
    "T_resid = []\n",
    "W_resid = []\n",
    "\n",
    "xyz_orb_mag = []\n",
    "xyz_pce_mag = []\n",
    "ntw_orb_mag = []\n",
    "ntw_pce_mag = []\n",
    "xyz_mag_resid = []\n",
    "ntw_mag_resid = []\n",
    "\n",
    "\n",
    "for i ,ntw_vec in enumerate(NTW_orb):\n",
    "    x_orb = float(state_vector_orb[i,0])\n",
    "    y_orb = float(state_vector_orb[i,1])\n",
    "    z_orb = float(state_vector_orb[i,2])\n",
    "    n_orb = float(Rvec_ntw_orb[i][0])\n",
    "    t_orb = float(Rvec_ntw_orb[i][1])\n",
    "    w_orb = float(Rvec_ntw_orb[i][2])\n",
    "    \n",
    "    x_pce = float(state_vector_pce[i,0])\n",
    "    y_pce = float(state_vector_pce[i,1])\n",
    "    z_pce = float(state_vector_pce[i,2])\n",
    "    n_pce = float(Rvec_ntw_pce[i][0])\n",
    "    t_pce = float(Rvec_ntw_pce[i][1])\n",
    "    w_pce = float(Rvec_ntw_pce[i][2])\n",
    "\n",
    "    X_resid.append(x_pce - x_orb)\n",
    "    Y_resid.append(y_pce - y_orb)\n",
    "    Z_resid.append(z_pce - z_orb)\n",
    "    N_resid.append(n_pce - n_orb)\n",
    "    T_resid.append(t_pce - t_orb)\n",
    "    W_resid.append(w_pce - w_orb)\n",
    "\n",
    "#     print('x_pce      ',x_pce)\n",
    "#     print('x_orb      ',x_orb)\n",
    "#     print('X_resid    ',x_pce - x_orb)\n",
    "#     print(' ')\n",
    "#     print(' ')\n",
    "#     print(' ')\n",
    "#     print( '|—————————————————————————————————————————————————————————————————————— |')\n",
    "#     print(f\"| Component |       PCE       |       Orbfil       |       Residual     |\")\n",
    "#     print( '|---------------------------------------------------------------------- |')\n",
    "#     print(f\"|    X      {x_pce:15.4f}      {x_orb:15.4f}    {(x_pce - x_orb):15.4f}     |\")\n",
    "#     print(f\"|    Y      {y_pce:15.4f}      {y_orb:15.4f}    {(y_pce - y_orb):15.4f}     |\")\n",
    "#     print(f\"|    Z      {z_pce:15.4f}      {z_orb:15.4f}    {(z_pce - z_orb):15.4f}     |\")\n",
    "#     print( '|                                                                       |')\n",
    "#     print(f\"|    N      {n_pce:15.4f}      {n_orb:15.4f}    {(n_pce - n_orb):15.4f}     |\")\n",
    "#     print(f\"|    T      {t_pce:15.4f}      {t_orb:15.4f}    {(t_pce - t_orb):15.4f}     |\")\n",
    "#     print(f\"|    W      {w_pce:15.4f}      {w_orb:15.4f}    {(w_pce - w_orb):15.4f}     |\")\n",
    "#     print( '|---------------------------------------------------------------------- |')\n",
    "#     print(f\"|   T_mat_xyz_to_ntw          PCE:                                      | \\n {Tmat[i]}          \")\n",
    "# #     print(f\"|   det(T_mat_xyz_to_ntw)     PCE:            {NTW_pce[i][4]:24.20f}  |\")\n",
    "#     print( '|---------------------------------------------------------------------- |')\n",
    "#     print(f\"|   T_mat_xyz_to_ntw         Orbfil:                                    | \\n {Tmat[i]}          \")\n",
    "# #     print(f\"|   det(T_mat_xyz_to_ntw)    Orbfil:          {NTW_orb[i][4]:24.20f}  |\")\n",
    "#     print( '|———————————————————————————————————————————————————————————————————————|')\n",
    "\n",
    "    xyz_orb_mag.append(np.linalg.norm(np.array([x_orb,y_orb,z_orb])))\n",
    "    xyz_pce_mag.append(np.linalg.norm(np.array([x_pce,y_pce,z_pce])))\n",
    "    ntw_orb_mag.append(np.linalg.norm(np.array([n_orb,t_orb,w_orb])))\n",
    "    ntw_pce_mag.append(np.linalg.norm(np.array([n_pce,t_pce,w_pce])))\n",
    "\n",
    "    xyz_mag_resid.append(np.linalg.norm(np.array([x_pce-x_orb , y_pce-y_orb , z_pce - z_orb])))\n",
    "    ntw_mag_resid.append(np.linalg.norm(np.array([n_pce-n_orb , t_pce-t_orb , w_pce - w_orb])))\n",
    "    \n"
   ]
  },
  {
   "cell_type": "code",
   "execution_count": null,
   "id": "297463fb",
   "metadata": {
    "ExecuteTime": {
     "end_time": "2021-11-23T22:07:01.915391Z",
     "start_time": "2021-11-23T22:04:57.597Z"
    }
   },
   "outputs": [],
   "source": [
    "# print('xyz_pce_mag ', xyz_pce_mag)\n",
    "# print('ntw_pce_mag ', ntw_pce_mag)\n",
    "# print('xyz_orb_mag ', xyz_orb_mag)\n",
    "# print('ntw_orb_mag ', ntw_orb_mag)\n",
    "# print('xyz_mag_resid ', xyz_mag_resid)\n",
    "# print('ntw_mag_resid ', ntw_mag_resid)"
   ]
  },
  {
   "cell_type": "code",
   "execution_count": null,
   "id": "6716003f",
   "metadata": {
    "ExecuteTime": {
     "end_time": "2021-11-23T22:07:01.916167Z",
     "start_time": "2021-11-23T22:04:57.600Z"
    },
    "scrolled": true
   },
   "outputs": [],
   "source": [
    "# Transform_xyz_to_ntw     = NTW_orb[i][3]\n",
    "# resid_ntw                = np.array([n_pce-n_orb , t_pce-t_orb , w_pce - w_orb])\n",
    "# resid_xyz                =  np.matmul(Transform_xyz_to_ntw  ,  resid_ntw)\n",
    "\n",
    "# # \n",
    "# print(f\"    Transform_xyz_to_ntw    \\n  {Transform_xyz_to_ntw}\")\n",
    "# print(f\"    resid_ntw                 {resid_ntw}\")\n",
    "# print(f\"    resid_xyz                 {resid_xyz}\")\n"
   ]
  },
  {
   "cell_type": "markdown",
   "id": "832b3f19",
   "metadata": {},
   "source": [
    "#### Plot them all again, explicitly"
   ]
  },
  {
   "cell_type": "code",
   "execution_count": null,
   "id": "3ee1fadc",
   "metadata": {
    "ExecuteTime": {
     "end_time": "2021-11-23T22:07:01.917127Z",
     "start_time": "2021-11-23T22:04:57.603Z"
    }
   },
   "outputs": [],
   "source": [
    "# print('X_resid',X_resid)\n",
    "# print('Y_resid',Y_resid)\n",
    "# print('Z_resid',Z_resid)\n",
    "# print('N_resid',N_resid)\n",
    "# print('T_resid',T_resid)\n",
    "# print('W_resid',W_resid)\n",
    "\n",
    "# print()\n",
    "\n",
    "# print('xyz_orb_mag ', xyz_orb_mag)\n",
    "# print('xyz_pce_mag ', xyz_pce_mag)\n",
    "# print('ntw_orb_mag ', ntw_orb_mag)\n",
    "# print('ntw_pce_mag ', ntw_pce_mag)\n",
    "\n",
    "# print()\n",
    "\n",
    "# print('xyz_mag_resid ', xyz_mag_resid)\n",
    "# print('ntw_mag_resid ', ntw_mag_resid)\n",
    "\n",
    "\n",
    "\n",
    "\n",
    "fig = make_subplots(\n",
    "    rows=5, cols=2,\n",
    "    subplot_titles=(['X resid', 'N resid','Y resid','T resid', 'Z resid','W resid', 'XYZ Res. Mag.', 'NTW Res. Mag.','Diff of magnitude resids' ]),\n",
    "    vertical_spacing = 0.1,\n",
    "    specs=[[{}, {}],\n",
    "           [{}, {}],\n",
    "           [{}, {}],\n",
    "           [{}, {}],\n",
    "           [{\"colspan\": 2}, None]],\n",
    ")\n",
    "\n",
    "fig.update_layout(title=\"Compare Residuals (for all: resid=(pce - orbfil))\")\n",
    "\n",
    "fig.add_trace(go.Scattergl(\n",
    "                         x=obj_m1.__dict__['OrbitResids'][arc]['data_orbfil']['Date'],\n",
    "                         y=X_resid,\n",
    "                     name='X_resid',\n",
    "                     mode='markers',\n",
    "                     marker=dict(size=5,),\n",
    "                     showlegend=True),\n",
    "                     secondary_y=False,\n",
    "                     row=1, col=1)\n",
    "fig.add_trace(go.Scattergl(\n",
    "                         x=obj_m1.__dict__['OrbitResids'][arc]['data_orbfil']['Date'],\n",
    "                         y=Y_resid,\n",
    "                     name='Y_resid',\n",
    "                     mode='markers',\n",
    "                     marker=dict(size=3,),\n",
    "                     showlegend=True),\n",
    "                     secondary_y=False,\n",
    "                     row=2, col=1)\n",
    "\n",
    "fig.add_trace(go.Scattergl(\n",
    "                         x=obj_m1.__dict__['OrbitResids'][arc]['data_orbfil']['Date'],\n",
    "                         y=Z_resid,\n",
    "                     name='Z_resid',\n",
    "                     mode='markers',\n",
    "                     marker=dict(size=3,),\n",
    "                     showlegend=True),\n",
    "                     secondary_y=False,\n",
    "                     row=3, col=1)\n",
    "\n",
    "\n",
    "fig.add_trace(go.Scattergl(\n",
    "                         x=obj_m1.__dict__['OrbitResids'][arc]['data_orbfil']['Date'],\n",
    "                         y=N_resid,\n",
    "                     name='N_resid',\n",
    "                     mode='markers',\n",
    "                     marker=dict(size=5,),\n",
    "                     showlegend=True),\n",
    "                     secondary_y=False,\n",
    "                     row=1, col=2)\n",
    "fig.add_trace(go.Scattergl(\n",
    "                         x=obj_m1.__dict__['OrbitResids'][arc]['data_orbfil']['Date'],\n",
    "                         y=T_resid,\n",
    "                     name='T_resid',\n",
    "                     mode='markers',\n",
    "                     marker=dict(size=3,),\n",
    "                     showlegend=True),\n",
    "                     secondary_y=False,\n",
    "                     row=2, col=2)\n",
    "\n",
    "fig.add_trace(go.Scattergl(\n",
    "                         x=obj_m1.__dict__['OrbitResids'][arc]['data_orbfil']['Date'],\n",
    "                         y=W_resid,\n",
    "                     name='W_resid',\n",
    "                     mode='markers',\n",
    "                     marker=dict(size=3,),\n",
    "                     showlegend=True),\n",
    "                     secondary_y=False,\n",
    "                     row=3, col=2)\n",
    "\n",
    "\n",
    "#################################################################################\n",
    "\n",
    "\n",
    "fig.add_trace(go.Scattergl(\n",
    "                         x=obj_m1.__dict__['OrbitResids'][arc]['data_orbfil']['Date'],\n",
    "                         y=xyz_mag_resid,\n",
    "                     name='xyz_mag_resid',\n",
    "                     mode='markers',\n",
    "                     marker=dict(size=3,),\n",
    "                     showlegend=True),\n",
    "                     secondary_y=False,\n",
    "                     row=4, col=1)\n",
    "\n",
    "fig.add_trace(go.Scattergl(\n",
    "                         x=obj_m1.__dict__['OrbitResids'][arc]['data_orbfil']['Date'],\n",
    "                         y=ntw_mag_resid,\n",
    "                     name='ntw_mag_resid',\n",
    "                     mode='markers',\n",
    "                     marker=dict(size=3,),\n",
    "                     showlegend=True),\n",
    "                     secondary_y=False,\n",
    "                     row=4, col=2)\n",
    "\n",
    "fig.add_trace(go.Scattergl(\n",
    "                         x=obj_m1.__dict__['OrbitResids'][arc]['data_orbfil']['Date'],\n",
    "                         y=np.array(xyz_mag_resid) - np.array(ntw_mag_resid),\n",
    "                     name='Diff resid magnitudes',\n",
    "                     mode='markers',\n",
    "                     marker=dict(size=3,),\n",
    "                     showlegend=True),\n",
    "                     secondary_y=False,\n",
    "                     row=5, col=1)\n",
    "\n",
    "\n",
    "fig.update_yaxes( title=\"resids [m]\",exponentformat= 'power',row=1, col=1)\n",
    "fig.update_yaxes( title=\"resids [m]\",exponentformat= 'power',row=2, col=1)\n",
    "fig.update_yaxes( title=\"resids [m]\",exponentformat= 'power',row=3, col=1)\n",
    "fig.update_yaxes( title=\"mag of resid\",exponentformat= 'power',row=4, col=1)\n",
    "fig.update_yaxes( title=\"resids of mag of resid\",exponentformat= 'power',row=4, col=1)\n",
    "\n",
    "fig.update_yaxes( title=\"\",exponentformat= 'power',row=1, col=2)\n",
    "fig.update_yaxes( title=\"\",exponentformat= 'power',row=2, col=2)\n",
    "fig.update_yaxes( title=\"\",exponentformat= 'power',row=3, col=2)\n",
    "\n",
    "fig.update_layout(\n",
    "                autosize=False,\n",
    "                width=1100,\n",
    "                height=1000,\n",
    "                font=dict(size=14),\n",
    "                legend= {'itemsizing': 'constant'})\n",
    "\n",
    "\n",
    "fig.show(config=config)\n"
   ]
  },
  {
   "cell_type": "code",
   "execution_count": null,
   "id": "d07db692",
   "metadata": {
    "ExecuteTime": {
     "end_time": "2021-11-23T22:07:01.917915Z",
     "start_time": "2021-11-23T22:04:57.606Z"
    }
   },
   "outputs": [],
   "source": [
    "# print('X_resid',X_resid)\n",
    "# print('Y_resid',Y_resid)\n",
    "# print('Z_resid',Z_resid)\n",
    "# print('N_resid',N_resid)\n",
    "# print('T_resid',T_resid)\n",
    "# print('W_resid',W_resid)\n",
    "\n",
    "# print()\n",
    "\n",
    "# print('xyz_orb_mag ', xyz_orb_mag)\n",
    "# print('xyz_pce_mag ', xyz_pce_mag)\n",
    "# print('ntw_orb_mag ', ntw_orb_mag)\n",
    "# print('ntw_pce_mag ', ntw_pce_mag)\n",
    "\n",
    "# print()\n",
    "\n",
    "# print('xyz_mag_resid ', xyz_mag_resid)\n",
    "# print('ntw_mag_resid ', ntw_mag_resid)\n",
    "\n",
    "\n",
    "\n",
    "\n",
    "fig = make_subplots(\n",
    "    rows=1, cols=1,\n",
    "    subplot_titles=(['Diff. of  Magnitude XYZ residual and Magnitude NTW residual' ]),\n",
    "    vertical_spacing = 0.15)\n",
    "\n",
    "fig.update_layout(title=\"Compare Residuals (for all: resid=(pce - orbfil))\")\n",
    "\n",
    "\n",
    "#################################################################################\n",
    "\n",
    "\n",
    "fig.add_trace(go.Scattergl(\n",
    "                         x=obj_m1.__dict__['OrbitResids'][arc]['data_orbfil']['Date'],\n",
    "                         y=np.array(xyz_mag_resid) - np.array(ntw_mag_resid),\n",
    "                     name='ntw_mag_resid',\n",
    "                     mode='markers',\n",
    "                     marker=dict(size=3,),\n",
    "                     showlegend=True),\n",
    "                     secondary_y=False,\n",
    "                     row=1, col=1)\n",
    "\n",
    "\n",
    "fig.update_yaxes( title=\"resids of magnitudes of residuals [m]\",exponentformat= 'power',row=1, col=1)\n",
    "# fig.update_yaxes( title=\"resids [m]\",exponentformat= 'power',row=2, col=1)\n",
    "# fig.update_yaxes( title=\"resids [m]\",exponentformat= 'power',row=3, col=1)\n",
    "# fig.update_yaxes( title=\"mag of resid\",exponentformat= 'power',row=4, col=1)\n",
    "\n",
    "fig.update_yaxes( title=\"\",exponentformat= 'power',row=1, col=2)\n",
    "fig.update_yaxes( title=\"\",exponentformat= 'power',row=2, col=2)\n",
    "fig.update_yaxes( title=\"\",exponentformat= 'power',row=3, col=2)\n",
    "\n",
    "\n",
    "# fig.update_layout(\n",
    "#                 autosize=False,\n",
    "#                 width=1100,\n",
    "#                 height=900,\n",
    "#                 font=dict(size=14),\n",
    "#                 legend= {'itemsizing': 'constant'})\n",
    "\n",
    "\n",
    "fig.show(config=config)\n"
   ]
  },
  {
   "cell_type": "code",
   "execution_count": null,
   "id": "292fc665",
   "metadata": {
    "ExecuteTime": {
     "end_time": "2021-11-23T22:07:01.918712Z",
     "start_time": "2021-11-23T22:04:57.610Z"
    }
   },
   "outputs": [],
   "source": [
    "fig = make_subplots(\n",
    "    rows=3, cols=2,\n",
    "    subplot_titles=(['Orbfil Mags (XYZ and NTW)', 'Orbfil Diff (|xyz|-|ntw|)','PCE Mags (XYZ and NTW)','PCE Diff (|xyz|-|ntw|)' ]),\n",
    "    vertical_spacing = 0.2)\n",
    "\n",
    "fig.update_layout(title=\"Compare Magnitudes!\")\n",
    "\n",
    "fig.add_trace(go.Scattergl(\n",
    "                         x=obj_m1.__dict__['OrbitResids'][arc]['data_orbfil']['Date'],\n",
    "                         y=xyz_orb_mag,\n",
    "                     name='xyz_orb_mag',\n",
    "                     mode='markers',\n",
    "                     marker=dict(size=5,),\n",
    "                     showlegend=True),\n",
    "                     secondary_y=False,\n",
    "                     row=1, col=1)\n",
    "fig.add_trace(go.Scattergl(\n",
    "                         x=obj_m1.__dict__['OrbitResids'][arc]['data_orbfil']['Date'],\n",
    "                         y=ntw_orb_mag,\n",
    "                     name='ntw_orb_mag',\n",
    "                     mode='markers',\n",
    "                     marker=dict(size=3,),\n",
    "                     showlegend=True),\n",
    "                     secondary_y=False,\n",
    "                     row=1, col=1)\n",
    "\n",
    "fig.add_trace(go.Scattergl(\n",
    "                         x=obj_m1.__dict__['OrbitResids'][arc]['data_orbfil']['Date'],\n",
    "                         y=np.array(xyz_orb_mag)-np.array(ntw_orb_mag),\n",
    "                     name='diff_ORB',\n",
    "                     mode='markers',\n",
    "                     marker=dict(size=3,),\n",
    "                     showlegend=True),\n",
    "                     secondary_y=False,\n",
    "                     row=1, col=2)\n",
    "\n",
    "\n",
    "fig.add_trace(go.Scattergl(\n",
    "                         x=obj_m1.__dict__['OrbitResids'][arc]['data_orbfil']['Date'],\n",
    "                         y=xyz_pce_mag,\n",
    "                     name='xyz_pce_mag',\n",
    "                     mode='markers',\n",
    "                     marker=dict(size=5,),\n",
    "                     showlegend=True),\n",
    "                     secondary_y=False,\n",
    "                     row=2, col=1)\n",
    "fig.add_trace(go.Scattergl(\n",
    "                         x=obj_m1.__dict__['OrbitResids'][arc]['data_orbfil']['Date'],\n",
    "                         y=ntw_pce_mag,\n",
    "                     name='ntw_pce_mag',\n",
    "                     mode='markers',\n",
    "                     marker=dict(size=3,),\n",
    "                     showlegend=True),\n",
    "                     secondary_y=False,\n",
    "                     row=2, col=1)\n",
    "\n",
    "fig.add_trace(go.Scattergl(\n",
    "                         x=obj_m1.__dict__['OrbitResids'][arc]['data_orbfil']['Date'],\n",
    "                         y=np.array(xyz_pce_mag)-np.array(ntw_pce_mag),\n",
    "                     name='diff_PCE',\n",
    "                     mode='markers',\n",
    "                     marker=dict(size=3,),\n",
    "                     showlegend=True),\n",
    "                     secondary_y=False,\n",
    "                     row=2, col=2)\n",
    "\n",
    "\n",
    "\n",
    "\n",
    "fig.update_yaxes( title=\"Orbit Magnitude\",exponentformat= 'power',row=1, col=1)\n",
    "fig.update_yaxes( title=\"Orbit Magnitude\",exponentformat= 'power',row=2, col=1)\n",
    "fig.update_yaxes( title=\"diff\",exponentformat= 'power',row=1, col=2)\n",
    "fig.update_yaxes( title=\"diff\",exponentformat= 'power',row=2, col=2)\n",
    "# fig.update_yaxes( title=\"diff\",exponentformat= 'power',row=2, col=2)\n",
    "# fig.update_yaxes( title=\"Residual (m)\"   ,exponentformat= 'power',row=2, col=1)\n",
    "\n",
    "fig.show(config=config)"
   ]
  },
  {
   "cell_type": "code",
   "execution_count": null,
   "id": "bfdfab1d",
   "metadata": {
    "ExecuteTime": {
     "end_time": "2021-11-23T22:07:01.919496Z",
     "start_time": "2021-11-23T22:04:57.613Z"
    },
    "scrolled": false
   },
   "outputs": [],
   "source": [
    "fig = make_subplots(\n",
    "    rows=2, cols=1,\n",
    "    subplot_titles=(['XYZ: |PCE|- |Orbfil|','NTW: |PCE|- |Orbfil|' ]),\n",
    "    vertical_spacing = 0.2)\n",
    "\n",
    "fig.update_layout(title=\"Residual of Magnitudes\")\n",
    "\n",
    "\n",
    "fig.add_trace(go.Scattergl(\n",
    "                         x=obj_m1.__dict__['OrbitResids'][arc]['data_orbfil']['Date'],\n",
    "                         y=np.array(xyz_pce_mag) - np.array(xyz_orb_mag) ,\n",
    "                     name='xyz_pce_mag - xyz_orb_mag',\n",
    "                     mode='markers',\n",
    "                     marker=dict(size=3,),\n",
    "                     showlegend=True),\n",
    "                     secondary_y=False,\n",
    "                     row=1, col=1)\n",
    "\n",
    "fig.add_trace(go.Scattergl(\n",
    "                         x=obj_m1.__dict__['OrbitResids'][arc]['data_orbfil']['Date'],\n",
    "                         y=np.array(ntw_pce_mag) - np.array(ntw_orb_mag) ,\n",
    "                     name='ntw_pce_mag - ntw_orb_mag',\n",
    "                     mode='markers',\n",
    "                     marker=dict(size=3,),\n",
    "                     showlegend=True),\n",
    "                     secondary_y=False,\n",
    "                     row=2, col=1)\n",
    "\n",
    "fig.update_yaxes( title=\"XYZ magnitude residuals\",exponentformat= 'power',row=1, col=1)\n",
    "fig.update_yaxes( title=\"NTW magnitude residuals\",exponentformat= 'power',row=2, col=1)\n"
   ]
  },
  {
   "cell_type": "code",
   "execution_count": null,
   "id": "6af5d408",
   "metadata": {
    "ExecuteTime": {
     "end_time": "2021-11-23T22:07:01.920206Z",
     "start_time": "2021-11-23T22:04:57.616Z"
    }
   },
   "outputs": [],
   "source": [
    "# print(mag_resid_ntw)\n",
    "# print(mag_resid_xyz)"
   ]
  },
  {
   "cell_type": "code",
   "execution_count": null,
   "id": "427d8e00",
   "metadata": {},
   "outputs": [],
   "source": []
  },
  {
   "cell_type": "code",
   "execution_count": null,
   "id": "fc76c1f8",
   "metadata": {},
   "outputs": [],
   "source": []
  },
  {
   "cell_type": "code",
   "execution_count": null,
   "id": "2accd323",
   "metadata": {},
   "outputs": [],
   "source": []
  },
  {
   "cell_type": "code",
   "execution_count": null,
   "id": "b259c1eb",
   "metadata": {
    "ExecuteTime": {
     "end_time": "2021-11-23T22:07:01.920933Z",
     "start_time": "2021-11-23T22:04:57.626Z"
    }
   },
   "outputs": [],
   "source": [
    "sys.exit(0)"
   ]
  },
  {
   "cell_type": "code",
   "execution_count": null,
   "id": "ee507a6e",
   "metadata": {},
   "outputs": [],
   "source": []
  },
  {
   "cell_type": "code",
   "execution_count": null,
   "id": "f11f277b",
   "metadata": {},
   "outputs": [],
   "source": []
  }
 ],
 "metadata": {
  "kernelspec": {
   "display_name": "Python 3",
   "language": "python",
   "name": "python3"
  },
  "language_info": {
   "codemirror_mode": {
    "name": "ipython",
    "version": 3
   },
   "file_extension": ".py",
   "mimetype": "text/x-python",
   "name": "python",
   "nbconvert_exporter": "python",
   "pygments_lexer": "ipython3",
   "version": "3.8.8"
  },
  "toc": {
   "base_numbering": 1,
   "nav_menu": {},
   "number_sections": true,
   "sideBar": true,
   "skip_h1_title": false,
   "title_cell": "Table of Contents",
   "title_sidebar": "Contents",
   "toc_cell": false,
   "toc_position": {
    "height": "calc(100% - 180px)",
    "left": "10px",
    "top": "150px",
    "width": "257.188px"
   },
   "toc_section_display": true,
   "toc_window_display": true
  },
  "varInspector": {
   "cols": {
    "lenName": 16,
    "lenType": 16,
    "lenVar": 40
   },
   "kernels_config": {
    "python": {
     "delete_cmd_postfix": "",
     "delete_cmd_prefix": "del ",
     "library": "var_list.py",
     "varRefreshCmd": "print(var_dic_list())"
    },
    "r": {
     "delete_cmd_postfix": ") ",
     "delete_cmd_prefix": "rm(",
     "library": "var_list.r",
     "varRefreshCmd": "cat(var_dic_list()) "
    }
   },
   "types_to_exclude": [
    "module",
    "function",
    "builtin_function_or_method",
    "instance",
    "_Feature"
   ],
   "window_display": false
  }
 },
 "nbformat": 4,
 "nbformat_minor": 5
}
