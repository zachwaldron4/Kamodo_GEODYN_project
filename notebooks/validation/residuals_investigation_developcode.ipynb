{
 "cells": [
  {
   "cell_type": "markdown",
   "id": "2fb0a95e",
   "metadata": {},
   "source": [
    "## Load the data"
   ]
  },
  {
   "cell_type": "code",
   "execution_count": null,
   "id": "f50c0394",
   "metadata": {
    "ExecuteTime": {
     "end_time": "2021-11-16T21:18:34.783041Z",
     "start_time": "2021-11-16T21:18:09.258969Z"
    }
   },
   "outputs": [],
   "source": [
    "%load_ext autoreload\n",
    "%autoreload 2\n",
    "\n",
    "import sys  \n",
    "import pickle \n",
    "sys.path.insert(0, '/data/geodyn_proj/pygeodyn/pygeodyn_develop/')\n",
    "from PYGEODYN import Pygeodyn\n",
    "\n",
    "\n",
    "Obj_Geodyn = {}\n",
    "for i,val in enumerate(['msis2']):\n",
    "    run_settings = \"/data/geodyn_proj/validation/NoCD_Arc36_AllDensModels_settings/NoCdArc36_msis2.yaml\"\n",
    "    \n",
    "    ### Load the data into an object\n",
    "    Obj_Geodyn[val] = Pygeodyn(run_settings)\n",
    "    Obj_Geodyn[val].getData()\n",
    "\n",
    "    "
   ]
  },
  {
   "cell_type": "code",
   "execution_count": null,
   "id": "5e703b38",
   "metadata": {
    "ExecuteTime": {
     "end_time": "2021-11-16T21:18:35.787276Z",
     "start_time": "2021-11-16T21:18:34.785631Z"
    }
   },
   "outputs": [],
   "source": [
    "import plotly.graph_objects as go\n",
    "from plotly.offline import plot, iplot\n",
    "from plotly.subplots import make_subplots\n",
    "import plotly.express as px\n",
    "\n",
    "import numpy as np\n",
    "\n",
    "config = dict({\n",
    "                'displayModeBar': True,\n",
    "                'responsive': False,\n",
    "                'staticPlot': False,\n",
    "                'displaylogo': False,\n",
    "                'showTips': False,\n",
    "                })\n",
    "\n",
    "# Simplify Plotting Schemes:\n",
    "col1 = px.colors.qualitative.Plotly[0]\n",
    "col2 = px.colors.qualitative.Plotly[1]\n",
    "col3 = px.colors.qualitative.Plotly[2]\n",
    "col4 = px.colors.qualitative.Plotly[3]\n",
    "col5 = px.colors.qualitative.Plotly[4]\n",
    "col6 = px.colors.qualitative.Plotly[5]"
   ]
  },
  {
   "cell_type": "code",
   "execution_count": null,
   "id": "bc5fa05f",
   "metadata": {
    "ExecuteTime": {
     "end_time": "2021-11-16T21:18:35.804177Z",
     "start_time": "2021-11-16T21:18:35.789687Z"
    }
   },
   "outputs": [],
   "source": [
    "# %load_ext autoreload\n",
    "# %autoreload 2\n",
    "\n",
    "\n",
    "# from PYGEODYNAnalysis_icesat2_validationwork import  PLOT__intrack_residuals_w_rms\n",
    "# fig = make_subplots(\n",
    "#     rows=1, cols=1,\n",
    "#     subplot_titles=(['In Track Residuals']),\n",
    "#     vertical_spacing = 0.1)\n",
    "\n",
    "# fig = PLOT__intrack_residuals_w_rms(fig,  Obj_Geodyn['msis2'], 'msis2'  , 0 )\n",
    "\n",
    "# fig.show(config=config)\n"
   ]
  },
  {
   "cell_type": "code",
   "execution_count": null,
   "id": "29236cf7",
   "metadata": {
    "ExecuteTime": {
     "end_time": "2021-11-16T21:18:35.822773Z",
     "start_time": "2021-11-16T21:18:35.806445Z"
    }
   },
   "outputs": [],
   "source": [
    "obj_m1 = Obj_Geodyn['msis2']"
   ]
  },
  {
   "cell_type": "code",
   "execution_count": null,
   "id": "3c677724",
   "metadata": {},
   "outputs": [],
   "source": []
  },
  {
   "cell_type": "markdown",
   "id": "67ee653f",
   "metadata": {},
   "source": [
    "## Load NTW residuals \n",
    "Also make coordinate transformations to R theta phi"
   ]
  },
  {
   "cell_type": "code",
   "execution_count": null,
   "id": "e3d98df1",
   "metadata": {
    "ExecuteTime": {
     "end_time": "2021-11-16T21:19:11.942220Z",
     "start_time": "2021-11-16T21:18:35.824697Z"
    }
   },
   "outputs": [],
   "source": [
    "%load_ext autoreload\n",
    "%autoreload 2\n",
    "\n",
    "import pandas as pd\n",
    "import sys\n",
    "sys.path.insert(0,'/data/geodyn_proj/pygeodyn/pygeodyn_develop/util_dir/')\n",
    "from common_functions          import Convert_cartesian_to_RSW, Convert_cartesian_to_NTW_getT, Convert_cartesian_to_NTW_returnall\n",
    "\n",
    "\n",
    "###### GET THE PCE DATA:\n",
    "StateVector_PCE_datafile = '/data/data_geodyn/inputs/icesat2/setups/PCE_ascii.txt'\n",
    "SAT_ID = int(obj_m1.__dict__['global_params']['SATID'])\n",
    "which_stat = 'CURRENT_VALUE'\n",
    "\n",
    "for ii,arc in enumerate(obj_m1.__dict__['global_params']['arc_input']):#[::2]):\n",
    "    print(arc)\n",
    "\n",
    "    ####--------------------- Residual  ---------------------\n",
    "\n",
    "    arc_first_time  = obj_m1.__dict__['Trajectory_orbfil'][arc]['data_record']['Date_UTC'].iloc[0]\n",
    "    arc_last_time   = obj_m1.__dict__['Trajectory_orbfil'][arc]['data_record']['Date_UTC'].iloc[-2]\n",
    "\n",
    "    arc_first_time_str     =  str(arc_first_time)#.replace( \"'\",' ') \n",
    "    arc_last_time_str      =  str(arc_last_time)#.replace( \"'\",' ') \n",
    "\n",
    "\n",
    "    A=[]\n",
    "    for i,val in enumerate(np.arange(-20,20)):\n",
    "        A.append(str(pd.to_datetime(arc_first_time)+pd.to_timedelta(val,'s')))\n",
    "    B=[]\n",
    "    for i,val in enumerate(np.arange(-20,20)):\n",
    "        B.append(str(pd.to_datetime(arc_last_time)+pd.to_timedelta(val,'s')))\n",
    "\n",
    "    ####---------------------------------------------------------\n",
    "    last_line = False\n",
    "    with open(StateVector_PCE_datafile, 'r') as f:\n",
    "        for line_no, line_text in enumerate(f):\n",
    "            if any(times in line_text for times in A):\n",
    "                first_line = line_no\n",
    "            if any(times in line_text for times in B):\n",
    "                last_line = line_no\n",
    "                break\n",
    "\n",
    "        if not last_line:\n",
    "            last_line = first_line +32220\n",
    "            print('No matching lastline time: ',arc_last_time_str, last_line )\n",
    "\n",
    "    ####   IF YOU GET AN ERROR HERE stating that either first_line or last_line is \n",
    "    ####    It is probably an issue with the date in the arc not matching up with the dates given in the PCEfile\n",
    "    print('Loading PCE data...')\n",
    "    PCE_data = pd.read_csv(StateVector_PCE_datafile, \n",
    "                skiprows = first_line, \n",
    "                nrows=last_line-first_line,           \n",
    "                sep = '\\s+',\n",
    "                dtype=str,\n",
    "                names = [\n",
    "                        'Date',\n",
    "                        'MJDSECs', \n",
    "                        'RSECS', #(fractional secs)\n",
    "                        'GPS offset', # (UTC - GPS offset (secs))\n",
    "                        'X',\n",
    "                        'Y',\n",
    "                        'Z',\n",
    "                        'X_dot',\n",
    "                        'Y_dot',\n",
    "                        'Z_dot',\n",
    "                        'YYMMDDhhmmss',\n",
    "                            ],)\n",
    "\n",
    "    PCE_data['Date_pd'] = pd.to_datetime(PCE_data['Date'])\n",
    "    orbfil_arc1 = obj_m1.__dict__['Trajectory_orbfil'][arc]['data_record']\n",
    "    orbfil_arc1['Date_pd'] = pd.to_datetime(orbfil_arc1 ['Date_UTC'])\n",
    "\n",
    "\n",
    "    ### C_1 is a dataframe containing all data between the two files where the dates match\n",
    "    C_1 = pd.merge(left=orbfil_arc1, left_on='Date_pd',\n",
    "         right=PCE_data, right_on='Date_pd')\n",
    "\n"
   ]
  },
  {
   "cell_type": "code",
   "execution_count": null,
   "id": "d1486ec7",
   "metadata": {
    "ExecuteTime": {
     "end_time": "2021-11-16T21:19:28.407433Z",
     "start_time": "2021-11-16T21:19:11.943868Z"
    }
   },
   "outputs": [],
   "source": [
    "\n",
    "\n",
    "### Convert the ORBIT FILE data to NTW\n",
    "print('Converting OrbitFile data to other coordinates...')\n",
    "\n",
    "data_orbfil = {}\n",
    "data_PCE    = {}\n",
    "resids      = {}\n",
    "\n",
    "X = C_1['Satellite Inertial X coordinate']\n",
    "Y = C_1['Satellite Inertial Y coordinate']\n",
    "Z = C_1['Satellite Inertial Z coordinate']\n",
    "Xdot = C_1['Satellite Inertial X velocity']\n",
    "Ydot = C_1['Satellite Inertial Y velocity']\n",
    "Zdot = C_1['Satellite Inertial Z velocity']\n",
    "state_vector = np.transpose(np.array([X, Y, Z, Xdot, Ydot, Zdot]))\n",
    "data_orbfil['Date'] = C_1['Date_pd']\n",
    "\n",
    "##### NTW Coordinate System\n",
    "NTW_orbfil  = [Convert_cartesian_to_NTW_returnall(x) for x in state_vector]\n",
    "data_orbfil['N'] = np.array(NTW_orbfil)[:,0]\n",
    "data_orbfil['T'] = np.array(NTW_orbfil)[:,1]\n",
    "data_orbfil['W'] = np.array(NTW_orbfil)[:,2]\n",
    "##### XYZ Coordinate System\n",
    "data_orbfil['X'] = X\n",
    "data_orbfil['Y'] = Y\n",
    "data_orbfil['Z'] = Z\n",
    "##### R theta phi Coordinate System\n",
    "data_orbfil['R']     = np.sqrt( np.square(X) + \n",
    "                                np.square(Y) +\n",
    "                                np.square(Z) )\n",
    "data_orbfil['theta'] = np.arctan(Y / X)\n",
    "data_orbfil['phi']   = np.arccos(Z / (np.sqrt( np.square(X) + \n",
    "                                np.square(Y) +\n",
    "                                np.square(Z) )))\n",
    "\n",
    "\n",
    "### Convert the PCE data to NTW\n",
    "print('Converting PCE data to other coordinates...')\n",
    "X = C_1['X'].astype(float)\n",
    "Y = C_1['Y'].astype(float)\n",
    "Z = C_1['Z'].astype(float)\n",
    "Xdot = C_1['X_dot'].astype(float)\n",
    "Ydot = C_1['Y_dot'].astype(float)\n",
    "Zdot = C_1['Z_dot'].astype(float)\n",
    "state_vector = np.transpose(np.array([X, Y, Z, Xdot, Ydot, Zdot]))\n",
    "data_PCE['Date'] = C_1['Date_pd']\n",
    "\n",
    "##### NTW Coordinate System\n",
    "NTW_PCE  = [Convert_cartesian_to_NTW_returnall(x) for x in state_vector]\n",
    "data_PCE['N'] = np.array(NTW_PCE)[:,0]\n",
    "data_PCE['T'] = np.array(NTW_PCE)[:,1]\n",
    "data_PCE['W'] = np.array(NTW_PCE)[:,2]\n",
    "##### XYZ Coordinate System\n",
    "data_PCE['X'] = X\n",
    "data_PCE['Y'] = Y\n",
    "data_PCE['Z'] = Z\n",
    "##### R theta phi Coordinate System\n",
    "data_PCE['R']     = np.sqrt( np.square(X) + \n",
    "                                np.square(Y) +\n",
    "                                np.square(Z) )\n",
    "data_PCE['theta'] = np.arctan(Y / X)\n",
    "data_PCE['phi']   = np.arccos(Z / (np.sqrt( np.square(X) + \n",
    "                                np.square(Y) +\n",
    "                                np.square(Z) )))\n",
    "\n",
    "\n",
    "### RESIDUALS:\n",
    "resids['Date'] = C_1['Date_pd']\n",
    "\n",
    "##### NTW Coordinate System\n",
    "resids['N'] = (np.array(data_PCE['N']) - np.array(data_orbfil['N']))\n",
    "resids['T'] = (np.array(data_PCE['T']) - np.array(data_orbfil['T']))\n",
    "resids['W'] = (np.array(data_PCE['W']) - np.array(data_orbfil['W']))\n",
    "##### XYZ Coordinate System\n",
    "resids['X'] = (np.array(data_PCE['X']) - np.array(data_orbfil['X']))\n",
    "resids['Y'] = (np.array(data_PCE['Y']) - np.array(data_orbfil['Y']))\n",
    "resids['Z'] = (np.array(data_PCE['Z']) - np.array(data_orbfil['Z']))\n",
    "##### R theta phi Coordinate System\n",
    "resids['R']     = (np.array(data_PCE['R'])     - np.array(data_orbfil['R']))\n",
    "resids['theta'] = (np.array(data_PCE['theta']) - np.array(data_orbfil['theta']))\n",
    "resids['phi']   = (np.array(data_PCE['phi'])   - np.array(data_orbfil['phi']))\n",
    "\n",
    "\n",
    "\n"
   ]
  },
  {
   "cell_type": "markdown",
   "id": "6778a8a0",
   "metadata": {},
   "source": [
    "## Plot Modeled Orbits"
   ]
  },
  {
   "cell_type": "markdown",
   "id": "5523a395",
   "metadata": {},
   "source": [
    "### XYZ "
   ]
  },
  {
   "cell_type": "code",
   "execution_count": null,
   "id": "dd226203",
   "metadata": {
    "ExecuteTime": {
     "end_time": "2021-11-16T21:19:33.790370Z",
     "start_time": "2021-11-16T21:19:28.409066Z"
    }
   },
   "outputs": [],
   "source": [
    "coords = ['X','Y','Z']\n",
    "ms_size = 5\n",
    "\n",
    "fig = make_subplots(\n",
    "    rows=3, cols=1,\n",
    "    subplot_titles=(coords),\n",
    "    vertical_spacing = 0.2)\n",
    "fig.update_layout(title=''.join(coords)+' Orbit',\n",
    "                autosize=True,\n",
    "                font=dict(size=14),\n",
    "                legend= {'itemsizing': 'constant'})\n",
    "\n",
    "for i,val in enumerate(coords):\n",
    "    fig.add_trace(go.Scattergl(\n",
    "                             x=data_orbfil['Date'],\n",
    "                             y=data_orbfil[val],\n",
    "                         name=val+' OrbFil',\n",
    "                         mode='markers',\n",
    "                         marker=dict(\n",
    "                             color=col1,\n",
    "                             size=ms_size,\n",
    "                                    ),\n",
    "                         showlegend=True),\n",
    "                         secondary_y=False,\n",
    "                         row=i+1, col=1)\n",
    "    fig.add_trace(go.Scattergl(\n",
    "                             x=data_PCE['Date'],\n",
    "                             y=data_PCE[val],\n",
    "                         name=val+' PCE',\n",
    "                         mode='markers',\n",
    "                         marker=dict(\n",
    "                             color=col2,\n",
    "                             size=ms_size-2,\n",
    "                                    ),\n",
    "                         showlegend=True),\n",
    "                         secondary_y=False,\n",
    "                         row=i+1, col=1)\n",
    "\n",
    "fig.update_yaxes( title=\"meters\" ,type=\"linear\" , exponentformat= 'power',row=1, col=1)\n",
    "fig.update_yaxes( title=\"meters\" ,type=\"linear\" , exponentformat= 'power',row=2, col=1)\n",
    "fig.update_yaxes( title=\"meters\" ,type=\"linear\" , exponentformat= 'power',row=3, col=1)\n",
    "fig.update_xaxes( title=\"date\"    ,row=3, col=1)\n",
    "\n",
    "fig.show(config=config)\n"
   ]
  },
  {
   "cell_type": "markdown",
   "id": "bb160f53",
   "metadata": {},
   "source": [
    "### R theta phi"
   ]
  },
  {
   "cell_type": "code",
   "execution_count": null,
   "id": "af7f9693",
   "metadata": {
    "ExecuteTime": {
     "end_time": "2021-11-16T21:19:38.757409Z",
     "start_time": "2021-11-16T21:19:33.793143Z"
    }
   },
   "outputs": [],
   "source": [
    "coords = ['R','theta','phi']\n",
    "ms_size = 5\n",
    "\n",
    "fig = make_subplots(\n",
    "    rows=3, cols=1,\n",
    "    subplot_titles=(coords),\n",
    "    vertical_spacing = 0.2)\n",
    "fig.update_layout(title=''.join(coords)+' Orbit',\n",
    "                autosize=True,\n",
    "                font=dict(size=14),\n",
    "                legend= {'itemsizing': 'constant'})\n",
    "\n",
    "for i,val in enumerate(coords):\n",
    "    fig.add_trace(go.Scattergl(\n",
    "                             x=data_orbfil['Date'],\n",
    "                             y=data_orbfil[val],\n",
    "                         name=val+' OrbFil',\n",
    "                         mode='markers',\n",
    "                         marker=dict(\n",
    "                             color=col1,\n",
    "                             size=ms_size,\n",
    "                                    ),\n",
    "                         showlegend=True),\n",
    "                         secondary_y=False,\n",
    "                         row=i+1, col=1)\n",
    "    fig.add_trace(go.Scattergl(\n",
    "                             x=data_PCE['Date'],\n",
    "                             y=data_PCE[val],\n",
    "                         name=val+' PCE',\n",
    "                         mode='markers',\n",
    "                         marker=dict(\n",
    "                             color=col2,\n",
    "                             size=ms_size-2,\n",
    "                                    ),\n",
    "                         showlegend=True),\n",
    "                         secondary_y=False,\n",
    "                         row=i+1, col=1)\n",
    "\n",
    "fig.update_yaxes( title=\"meters\" ,type=\"linear\" , exponentformat= 'power',row=1, col=1)\n",
    "fig.update_yaxes( title=\"degree [rad]\" ,type=\"linear\" , exponentformat= 'power',row=2, col=1)\n",
    "fig.update_yaxes( title=\"degree [rad]\" ,type=\"linear\" , exponentformat= 'power',row=3, col=1)\n",
    "fig.update_xaxes( title=\"date\"    ,row=3, col=1)\n",
    "\n",
    "fig.show(config=config)\n",
    "\n"
   ]
  },
  {
   "cell_type": "markdown",
   "id": "87e9f7fb",
   "metadata": {},
   "source": [
    "### NTW"
   ]
  },
  {
   "cell_type": "code",
   "execution_count": null,
   "id": "ccd2be9e",
   "metadata": {
    "ExecuteTime": {
     "end_time": "2021-11-16T21:19:43.513424Z",
     "start_time": "2021-11-16T21:19:38.759757Z"
    }
   },
   "outputs": [],
   "source": [
    "coords = ['N','T','W']\n",
    "ms_size = 5\n",
    "\n",
    "fig = make_subplots(\n",
    "    rows=3, cols=1,\n",
    "    subplot_titles=(coords),\n",
    "    vertical_spacing = 0.)\n",
    "fig.update_layout(title=''.join(coords)+' Orbit',\n",
    "                autosize=True,\n",
    "                font=dict(size=14),\n",
    "                legend= {'itemsizing': 'constant'})\n",
    "\n",
    "for i,val in enumerate(coords):\n",
    "    fig.add_trace(go.Scattergl(\n",
    "                             x=data_orbfil['Date'],\n",
    "                             y=data_orbfil[val],\n",
    "                         name=val+' OrbFil',\n",
    "                         mode='markers',\n",
    "                         marker=dict(\n",
    "                             color=col1,\n",
    "                             size=ms_size,\n",
    "                                    ),\n",
    "                         showlegend=True),\n",
    "                         secondary_y=False,\n",
    "                         row=i+1, col=1)\n",
    "    fig.add_trace(go.Scattergl(\n",
    "                             x=data_PCE['Date'],\n",
    "                             y=data_PCE[val],\n",
    "                         name=val+' PCE',\n",
    "                         mode='markers',\n",
    "                         marker=dict(\n",
    "                             color=col2,\n",
    "                             size=ms_size-2,\n",
    "                                    ),\n",
    "                         showlegend=True),\n",
    "                         secondary_y=False,\n",
    "                         row=i+1, col=1)\n",
    "\n",
    "fig.update_yaxes( title=\"meters\" ,type=\"linear\" , exponentformat= 'power',row=1, col=1)\n",
    "fig.update_yaxes( title=\"meters\" ,type=\"linear\" , exponentformat= 'power',row=2, col=1)\n",
    "fig.update_yaxes( title=\"meters\" ,type=\"linear\" , exponentformat= 'power',row=3, col=1)\n",
    "fig.update_xaxes( title=\"date\"    ,row=3, col=1)\n",
    "\n",
    "fig.show(config=config)\n"
   ]
  },
  {
   "cell_type": "markdown",
   "id": "d76eadf9",
   "metadata": {
    "ExecuteTime": {
     "end_time": "2021-11-12T20:08:07.810193Z",
     "start_time": "2021-11-12T20:08:07.782114Z"
    }
   },
   "source": [
    "## Plot Residuals in diff coords"
   ]
  },
  {
   "cell_type": "markdown",
   "id": "08129ef4",
   "metadata": {},
   "source": [
    "### XYZ"
   ]
  },
  {
   "cell_type": "code",
   "execution_count": null,
   "id": "234fb9f3",
   "metadata": {
    "ExecuteTime": {
     "end_time": "2021-11-16T21:19:46.115398Z",
     "start_time": "2021-11-16T21:19:43.515124Z"
    }
   },
   "outputs": [],
   "source": [
    "coords = ['X','Y','Z']\n",
    "ms_size = 5\n",
    "\n",
    "fig = make_subplots(\n",
    "    rows=3, cols=1,\n",
    "    subplot_titles=(coords),\n",
    "    vertical_spacing = 0.2)\n",
    "fig.update_layout(title=  'Residuals '+  ''.join(coords)+' System',\n",
    "                autosize=True,\n",
    "                font=dict(size=14),\n",
    "                legend= {'itemsizing': 'constant'})\n",
    "\n",
    "for i,val in enumerate(coords):\n",
    "    fig.add_trace(go.Scattergl(\n",
    "                             x=resids['Date'],\n",
    "                             y=resids[val],\n",
    "                         name=val+' resids',\n",
    "                         mode='markers',\n",
    "                         marker=dict(\n",
    "                             color=col1,\n",
    "                             size=ms_size,\n",
    "                                    ),\n",
    "                         showlegend=True),\n",
    "                         secondary_y=False,\n",
    "                         row=i+1, col=1)\n",
    "\n",
    "fig.update_yaxes( title=\"meters\" ,type=\"linear\" , exponentformat= 'power',row=1, col=1)\n",
    "fig.update_yaxes( title=\"meters\" ,type=\"linear\" , exponentformat= 'power',row=2, col=1)\n",
    "fig.update_yaxes( title=\"meters\" ,type=\"linear\" , exponentformat= 'power',row=3, col=1)\n",
    "fig.update_xaxes( title=\"Date\"    ,row=3, col=1)\n",
    "\n",
    "fig.show(config=config)\n"
   ]
  },
  {
   "cell_type": "markdown",
   "id": "90db5153",
   "metadata": {},
   "source": [
    "### NTW"
   ]
  },
  {
   "cell_type": "code",
   "execution_count": null,
   "id": "22275a2d",
   "metadata": {
    "ExecuteTime": {
     "end_time": "2021-11-16T21:19:48.494441Z",
     "start_time": "2021-11-16T21:19:46.117034Z"
    }
   },
   "outputs": [],
   "source": [
    "coords = ['N','T','W']\n",
    "ms_size = 5\n",
    "\n",
    "fig = make_subplots(\n",
    "    rows=3, cols=1,\n",
    "    subplot_titles=(coords),\n",
    "    vertical_spacing = 0.2)\n",
    "fig.update_layout(title=  'Residuals '+  ''.join(coords)+' System',\n",
    "                autosize=True,\n",
    "                font=dict(size=14),\n",
    "                legend= {'itemsizing': 'constant'})\n",
    "\n",
    "for i,val in enumerate(coords):\n",
    "    fig.add_trace(go.Scattergl(\n",
    "                             x=resids['Date'],\n",
    "                             y=resids[val],\n",
    "                         name=val+' resids',\n",
    "                         mode='markers',\n",
    "                         marker=dict(\n",
    "                             color=col1,\n",
    "                             size=ms_size,\n",
    "                                    ),\n",
    "                         showlegend=True),\n",
    "                         secondary_y=False,\n",
    "                         row=i+1, col=1)\n",
    "\n",
    "fig.update_yaxes( title=\"meters\" ,type=\"linear\" , exponentformat= 'power',row=1, col=1)\n",
    "fig.update_yaxes( title=\"meters\" ,type=\"linear\" , exponentformat= 'power',row=2, col=1)\n",
    "fig.update_yaxes( title=\"meters\" ,type=\"linear\" , exponentformat= 'power',row=3, col=1)\n",
    "fig.update_xaxes( title=\"Date\"    ,row=3, col=1)\n",
    "\n",
    "fig.show(config=config)\n"
   ]
  },
  {
   "cell_type": "markdown",
   "id": "a9f9b410",
   "metadata": {},
   "source": [
    "### R theta phi"
   ]
  },
  {
   "cell_type": "code",
   "execution_count": null,
   "id": "c780abed",
   "metadata": {
    "ExecuteTime": {
     "end_time": "2021-11-16T21:19:50.956401Z",
     "start_time": "2021-11-16T21:19:48.496178Z"
    }
   },
   "outputs": [],
   "source": [
    "coords = ['R','theta','phi']\n",
    "ms_size = 5\n",
    "\n",
    "fig = make_subplots(\n",
    "    rows=3, cols=1,\n",
    "    subplot_titles=(coords),\n",
    "    vertical_spacing = 0.2)\n",
    "fig.update_layout(title=  'Residuals '+  ' '.join(coords)+' System',\n",
    "                autosize=True,\n",
    "                font=dict(size=14),\n",
    "                legend= {'itemsizing': 'constant'})\n",
    "\n",
    "for i,val in enumerate(coords):\n",
    "    fig.add_trace(go.Scattergl(\n",
    "                             x=resids['Date'],\n",
    "                             y=resids[val],\n",
    "                         name=val+' resids',\n",
    "                         mode='markers',\n",
    "                         marker=dict(\n",
    "                             color=col1,\n",
    "                             size=ms_size,\n",
    "                                    ),\n",
    "                         showlegend=True),\n",
    "                         secondary_y=False,\n",
    "                         row=i+1, col=1)\n",
    "\n",
    "fig.update_yaxes( title=\"meters\" ,type=\"linear\" , exponentformat= 'power',row=1, col=1)\n",
    "fig.update_yaxes( title=\"degree [rad]\" ,type=\"linear\" , exponentformat= 'power',row=2, col=1)\n",
    "fig.update_yaxes( title=\"degree [rad]\" ,type=\"linear\" , exponentformat= 'power',row=3, col=1)\n",
    "fig.update_xaxes( title=\"Date\"    ,row=3, col=1)\n",
    "\n",
    "fig.show(config=config)\n"
   ]
  },
  {
   "cell_type": "markdown",
   "id": "4df353e7",
   "metadata": {},
   "source": [
    "## Spectrogram"
   ]
  },
  {
   "cell_type": "code",
   "execution_count": null,
   "id": "dc36a54f",
   "metadata": {
    "ExecuteTime": {
     "end_time": "2021-11-16T21:19:51.219909Z",
     "start_time": "2021-11-16T21:19:50.958050Z"
    }
   },
   "outputs": [],
   "source": [
    "# from scipy import signal\n",
    "# f, t, PSD = signal.spectrogram(resid_T, fs, window=('hann'), nperseg=None, mode='psd')\n",
    "# import matplotlib.pyplot as plt\n",
    "# plt.pcolormesh(t, f, PSD, shading='gouraud')\n",
    "# plt.ylabel('Frequency [Hz]')\n",
    "# plt.xlabel('Time [sec]')\n",
    "# plt.show()"
   ]
  },
  {
   "cell_type": "markdown",
   "id": "23409726",
   "metadata": {},
   "source": [
    "## Periodogram"
   ]
  },
  {
   "cell_type": "code",
   "execution_count": null,
   "id": "6a6cc18c",
   "metadata": {
    "ExecuteTime": {
     "end_time": "2021-11-16T21:19:51.291737Z",
     "start_time": "2021-11-16T21:19:51.221623Z"
    }
   },
   "outputs": [],
   "source": [
    "# f, Pxx_den = signal.periodogram(resid_T,fs)\n",
    "# plt.semilogy(f, Pxx_den)\n",
    "# plt.ylim([1e-7, 1e2])\n",
    "# plt.xlabel('frequency [Hz]')\n",
    "# plt.ylabel('PSD [V**2/Hz]')\n",
    "# plt.show()"
   ]
  },
  {
   "cell_type": "markdown",
   "id": "49331a7f",
   "metadata": {},
   "source": [
    "## Envelope Function:\n"
   ]
  },
  {
   "cell_type": "code",
   "execution_count": null,
   "id": "6a9c79d9",
   "metadata": {
    "ExecuteTime": {
     "end_time": "2021-11-16T21:19:52.195830Z",
     "start_time": "2021-11-16T21:19:51.293509Z"
    }
   },
   "outputs": [],
   "source": [
    "# from numpy import array, sign, zeros\n",
    "# from scipy.interpolate import interp1d\n",
    "\n",
    "# s = resid_T\n",
    "\n",
    "# q_u = zeros(s.shape)\n",
    "# q_l = zeros(s.shape)\n",
    "\n",
    "# #Prepend the first value of (s) to the interpolating values. \n",
    "# #This forces the model to use the same starting point for both the upper and lower envelope models.\n",
    "# u_x = [0,]\n",
    "# u_y = [s[0],]\n",
    "\n",
    "# l_x = [0,]\n",
    "# l_y = [s[0],]\n",
    "\n",
    "# #Detect peaks and troughs and mark their location in u_x,u_y,l_x,l_y respectively.\n",
    "\n",
    "# for k in range(1,len(s)-1):\n",
    "#     if (sign(s[k]-s[k-1])==1) and (sign(s[k]-s[k+1])==1):\n",
    "#         u_x.append(k)\n",
    "#         u_y.append(s[k])\n",
    "\n",
    "#     if (sign(s[k]-s[k-1])==-1) and ((sign(s[k]-s[k+1]))==-1):\n",
    "#         l_x.append(k)\n",
    "#         l_y.append(s[k])\n",
    "\n",
    "# #Append the last value of (s) to the interpolating values. This forces the model to use the same ending point for both the upper and lower envelope models.\n",
    "\n",
    "# u_x.append(len(s)-1)\n",
    "# u_y.append(s[-1])\n",
    "\n",
    "# l_x.append(len(s)-1)\n",
    "# l_y.append(s[-1])\n",
    "\n",
    "# #Fit suitable models to the data. Here I am using cubic splines, similarly to the MATLAB example given in the question.\n",
    "\n",
    "# u_p = interp1d(u_x,u_y, kind = 'cubic',bounds_error = False, fill_value=0.0)\n",
    "# l_p = interp1d(l_x,l_y,kind = 'cubic',bounds_error = False, fill_value=0.0)\n",
    "\n",
    "# #Evaluate each model over the domain of (s)\n",
    "# for k in range(0,len(s)):\n",
    "#     q_u[k] = u_p(k)\n",
    "#     q_l[k] = l_p(k)\n",
    "\n",
    "# #Plot everything\n",
    "# plt.plot(s)\n",
    "# plt.plot(q_u,'r')\n",
    "# plt.plot(q_l,'g')\n",
    "# plt.grid(True)\n",
    "# plt.show()\n",
    "\n",
    "\n",
    "import numpy as np\n",
    "from matplotlib import pyplot as plt\n",
    "\n",
    "def hl_envelopes_idx(s, dmin=1, dmax=1, split=False):\n",
    "    \"\"\"\n",
    "    Input :\n",
    "    s: 1d-array, data signal from which to extract high and low envelopes\n",
    "    dmin, dmax: int, optional, size of chunks, use this if the size of the input signal is too big\n",
    "    split: bool, optional, if True, split the signal in half along its mean, might help to generate the envelope in some cases\n",
    "    Output :\n",
    "    lmin,lmax : high/low envelope idx of input signal s\n",
    "    \"\"\"\n",
    "\n",
    "    # locals min      \n",
    "    lmin = (np.diff(np.sign(np.diff(s))) > 0).nonzero()[0] + 1 \n",
    "    # locals max\n",
    "    lmax = (np.diff(np.sign(np.diff(s))) < 0).nonzero()[0] + 1 \n",
    "    \n",
    "\n",
    "    if split:\n",
    "        # s_mid is zero if s centered around x-axis or more generally mean of signal\n",
    "        s_mid = np.mean(s) \n",
    "        # pre-sorting of locals min based on relative position with respect to s_mid \n",
    "        lmin = lmin[s[lmin]<s_mid]\n",
    "        # pre-sorting of local max based on relative position with respect to s_mid \n",
    "        lmax = lmax[s[lmax]>s_mid]\n",
    "\n",
    "\n",
    "    # global max of dmax-chunks of locals max \n",
    "    lmin = lmin[[i+np.argmin(s[lmin[i:i+dmin]]) for i in range(0,len(lmin),dmin)]]\n",
    "    # global min of dmin-chunks of locals min \n",
    "    lmax = lmax[[i+np.argmax(s[lmax[i:i+dmax]]) for i in range(0,len(lmax),dmax)]]\n",
    "    \n",
    "    return lmin,lmax\n",
    "\n",
    "\n",
    "t = C_1['Date_pd']\n",
    "s = resids['T']\n",
    "high_idx, low_idx = hl_envelopes_idx(s)\n",
    "\n",
    "# plot\n",
    "plt.plot(t,s,label='signal')\n",
    "plt.plot(t[high_idx], s[high_idx], 'r', label='low')\n",
    "plt.plot(t[low_idx], s[low_idx], 'g', label='high')\n",
    "plt.xlabel('Date')\n",
    "plt.ylabel('Residual (m)')\n",
    "plt.xticks(rotation = 45) \n",
    "plt.show()"
   ]
  },
  {
   "cell_type": "markdown",
   "id": "6432727d",
   "metadata": {
    "ExecuteTime": {
     "end_time": "2021-11-10T19:11:47.092998Z",
     "start_time": "2021-11-10T19:11:46.866604Z"
    }
   },
   "source": [
    "## Residual Analysis\n"
   ]
  },
  {
   "cell_type": "markdown",
   "id": "497d1f8c",
   "metadata": {},
   "source": [
    "- what are these residuals?\n",
    "    - the orbit is a modeled fit to the data\n",
    "- detrend if necessary\n",
    "    - do an FFT\n",
    "    - plot periodogram\n",
    "- find most dominant frequencies\n",
    "- we COULD make a least squares fit to the data   (what is advantage of this)\n",
    "- look at histogram of the residuals\n",
    "    - is it normal?\n",
    "\n",
    "\n"
   ]
  },
  {
   "cell_type": "markdown",
   "id": "21a4f452",
   "metadata": {},
   "source": [
    "### Detrend if necessary\n"
   ]
  },
  {
   "cell_type": "code",
   "execution_count": null,
   "id": "48e5b230",
   "metadata": {
    "ExecuteTime": {
     "end_time": "2021-11-16T21:19:52.417367Z",
     "start_time": "2021-11-16T21:19:52.197333Z"
    }
   },
   "outputs": [],
   "source": [
    "# #### detrend if necessary\n",
    "# plt.title('Not necessary to detrend the In Trackdata')\n",
    "# plt.plot(C_1['Date_pd'], resid_T)\n",
    "# plt.xlabel('Date')\n",
    "# plt.ylabel('Resdual (m)')\n",
    "# plt.xticks(rotation = 45) \n",
    "# plt.show()\n",
    "\n"
   ]
  },
  {
   "cell_type": "markdown",
   "id": "630c560a",
   "metadata": {},
   "source": [
    "### Do an FFT and Periodogram\n"
   ]
  },
  {
   "cell_type": "code",
   "execution_count": null,
   "id": "d72c0d0b",
   "metadata": {
    "ExecuteTime": {
     "end_time": "2021-11-16T21:19:52.522671Z",
     "start_time": "2021-11-16T21:19:52.418943Z"
    }
   },
   "outputs": [],
   "source": [
    "\n",
    "# #### do an FFT\n",
    "# # %do fft\n",
    "# # A_fft_det = fft(A_det);\n",
    "# # %plot periodogram\n",
    "# # %%%%%%%%%%%%%%%%%%%%%%%%%%%%%\n",
    "# # Fs = 1\n",
    "# #  % this may need to change\n",
    "# # %%%%%%%%%%%%%%%%%%%%%%%%%%%%%\n",
    "# # N_A_det = length(A_det);\n",
    "# # A_fft_det = A_fft_det(1:N_A_det/2+1);\n",
    "# # psd_A_det = (1/(Fs*N_A_det)) * abs(A_fft_det).^2;\n",
    "# # psd_A_det(2:end-1) = 2*psd_A_det(2:end-1);\n",
    "# # freq_A_det = 0:Fs/length(A_det):Fs/2;\n",
    "# # figure(2)\n",
    "# # plot(freq_A_det,(psd_A_det))\n",
    "# # grid on\n",
    "# # title('Periodogram Using FFT for A after Detrending')\n",
    "# # xlabel('Frequency (Hz)')\n",
    "# # ylabel('Power/Frequency (dB/Hz)')\n",
    "\n",
    "# # C_1['Date_pd']\n",
    "# # resid_T\n",
    "\n",
    "\n",
    "# from scipy import fft\n",
    "# resids_fft = fft.fft(resid_T)\n",
    "\n",
    "# Fs = 1/16\n",
    "# N = len(resid_T)\n",
    "# slice_half = int(N/2+1)\n",
    "# resids_fft = resids_fft[0:slice_half] \n",
    "\n",
    "# psd = (1/(Fs*N)) * np.square(np.abs(resids_fft))\n",
    "#                 # psd = 2*psd[1:-1]\n",
    "# psd = psd[:-1]\n",
    "# freq_resids = np.arange(0,Fs/2,Fs/len(resid_T) )\n",
    "# # freq_A_det = 0:Fs/length(A_det):Fs/2;\n",
    "\n",
    "# plt.title('Periodogram of the Residuals')\n",
    "# plt.semilogx(freq_resids, psd, '.-')\n",
    "# plt.xlabel('Frequency')\n",
    "# plt.ylabel('power')\n",
    "# plt.xticks(rotation = 45) \n",
    "# plt.show()"
   ]
  },
  {
   "cell_type": "markdown",
   "id": "71c788bf",
   "metadata": {},
   "source": [
    "####  NTW"
   ]
  },
  {
   "cell_type": "code",
   "execution_count": null,
   "id": "2d3d618f",
   "metadata": {
    "ExecuteTime": {
     "end_time": "2021-11-16T21:19:52.583201Z",
     "start_time": "2021-11-16T21:19:52.524253Z"
    }
   },
   "outputs": [],
   "source": [
    "# coords = ['N','T','W']\n",
    "# ms_size = 5\n",
    "\n",
    "# fig = make_subplots(\n",
    "#     rows=3, cols=1,\n",
    "#     subplot_titles=(coords),\n",
    "#     vertical_spacing = 0.2)\n",
    "# fig.update_layout(title=  'Residuals '+  ''.join(coords)+' System',\n",
    "#                 autosize=True,\n",
    "#                 font=dict(size=14),\n",
    "#                 legend= {'itemsizing': 'constant'})\n",
    "\n",
    "# for i,val in enumerate(coords):\n",
    "#     fig.add_trace(go.Scattergl(\n",
    "#                              x=resids['Date'],\n",
    "#                              y=resids[val],\n",
    "#                          name=val+' resids',\n",
    "#                          mode='markers',\n",
    "#                          marker=dict(\n",
    "#                              color=col1,\n",
    "#                              size=ms_size,\n",
    "#                                     ),\n",
    "#                          showlegend=True),\n",
    "#                          secondary_y=False,\n",
    "#                          row=i+1, col=1)\n",
    "\n",
    "# fig.update_yaxes( title=\"meters\" ,type=\"linear\" , exponentformat= 'power',row=1, col=1)\n",
    "# fig.update_yaxes( title=\"meters\" ,type=\"linear\" , exponentformat= 'power',row=2, col=1)\n",
    "# fig.update_yaxes( title=\"meters\" ,type=\"linear\" , exponentformat= 'power',row=3, col=1)\n",
    "# fig.update_xaxes( title=\"Date\"    ,row=3, col=1)\n",
    "\n",
    "# fig.show(config=config)\n"
   ]
  },
  {
   "cell_type": "code",
   "execution_count": null,
   "id": "2a26773a",
   "metadata": {
    "ExecuteTime": {
     "end_time": "2021-11-12T21:31:53.955062Z",
     "start_time": "2021-11-12T21:31:53.931551Z"
    }
   },
   "outputs": [],
   "source": []
  },
  {
   "cell_type": "code",
   "execution_count": null,
   "id": "4658f214",
   "metadata": {
    "ExecuteTime": {
     "end_time": "2021-11-16T21:19:56.199387Z",
     "start_time": "2021-11-16T21:19:52.584792Z"
    }
   },
   "outputs": [],
   "source": [
    "fig = make_subplots(\n",
    "    rows=1, cols=1,\n",
    "    subplot_titles=(['FFT of NTW Residuals']),\n",
    "    vertical_spacing = 0.1)\n",
    "\n",
    "for comp in ['N', 'T', 'W']:\n",
    "\n",
    "    t = []\n",
    "    for i,val in enumerate(resids['Date']):\n",
    "        t.append(resids['Date'][i].timestamp())\n",
    "\n",
    "    from scipy.fft import fft, fftfreq\n",
    "    from scipy.signal import detrend\n",
    "    \n",
    "    # Number of sample points\n",
    "    N = int(np.size(resids[comp]))                       #600\n",
    "\n",
    "    # sample spacing\n",
    "    T  = 1/16                                               #1.0 / 800.0\n",
    "    x  = t                                                  #np.linspace(0.0, N*T, N, endpoint=False)\n",
    "    y  = detrend(resids[comp])                                   #np.sin(50.0 * 2.0*np.pi*x) + 0.5*np.sin(80.0 * 2.0*np.pi*x)\n",
    "    yf = fft(y)\n",
    "    xf = fftfreq(N, T)[:N//2]\n",
    "\n",
    "\n",
    "    fig.add_trace(go.Scattergl(\n",
    "                             x=xf,\n",
    "                             y=2.0/N * np.abs(yf[0:N//2]),\n",
    "                         name=comp+' fft',\n",
    "                         mode='markers+lines',\n",
    "                         marker=dict(\n",
    "#                              color=col1,\n",
    "                                 size=6,\n",
    "                                    ),\n",
    "                         showlegend=True,\n",
    "                         ),\n",
    "                         secondary_y=False,\n",
    "                         row=1, col=1,\n",
    "                         )\n",
    "\n",
    "fig.update_yaxes( title=\"Power\"    ,type=\"linear\",exponentformat= 'power',row=1, col=1)\n",
    "fig.update_xaxes( title=\"Frequency\", type=\"log\",row=1, col=1)\n",
    "\n",
    "fig.show(config=config)\n"
   ]
  },
  {
   "cell_type": "markdown",
   "id": "a0f963fc",
   "metadata": {},
   "source": [
    "####  XYZ "
   ]
  },
  {
   "cell_type": "code",
   "execution_count": null,
   "id": "4cd95232",
   "metadata": {
    "ExecuteTime": {
     "end_time": "2021-11-16T21:19:58.282369Z",
     "start_time": "2021-11-16T21:19:56.201015Z"
    }
   },
   "outputs": [],
   "source": [
    "fig = make_subplots(\n",
    "    rows=1, cols=1,\n",
    "    subplot_titles=(['FFT of XYZ Residuals']),\n",
    "    vertical_spacing = 0.1)\n",
    "\n",
    "for comp in ['X', 'Y', 'Z']:\n",
    "\n",
    "    t = []\n",
    "    for i,val in enumerate(resids['Date']):\n",
    "        t.append(resids['Date'][i].timestamp())\n",
    "\n",
    "    from scipy.fft import fft, fftfreq\n",
    "    from scipy.signal import detrend\n",
    "    \n",
    "    # Number of sample points\n",
    "    N = int(np.size(resids[comp]))                       #600\n",
    "\n",
    "    # sample spacing\n",
    "    T  = 1/16                                               #1.0 / 800.0\n",
    "    x  = t                                                  #np.linspace(0.0, N*T, N, endpoint=False)\n",
    "    y  = detrend(resids[comp])                                   #np.sin(50.0 * 2.0*np.pi*x) + 0.5*np.sin(80.0 * 2.0*np.pi*x)\n",
    "    yf = fft(y)\n",
    "    xf = fftfreq(N, T)[:N//2]\n",
    "\n",
    "\n",
    "    fig.add_trace(go.Scattergl(\n",
    "                             x=xf,\n",
    "                             y=2.0/N * np.abs(yf[0:N//2]),\n",
    "                         name=comp+' fft',\n",
    "                         mode='markers+lines',\n",
    "                         marker=dict(\n",
    "#                              color=col1,\n",
    "                                 size=6,\n",
    "                                    ),\n",
    "                         showlegend=True,\n",
    "                         ),\n",
    "                         secondary_y=False,\n",
    "                         row=1, col=1,\n",
    "                         )\n",
    "\n",
    "fig.update_yaxes( title=\"Power\"    ,type=\"linear\",exponentformat= 'power',row=1, col=1)\n",
    "fig.update_xaxes( title=\"Frequency\", type=\"log\",row=1, col=1)\n",
    "\n",
    "fig.show(config=config)\n"
   ]
  },
  {
   "cell_type": "code",
   "execution_count": null,
   "id": "a030c103",
   "metadata": {
    "ExecuteTime": {
     "end_time": "2021-11-16T21:20:01.528066Z",
     "start_time": "2021-11-16T21:19:58.284041Z"
    }
   },
   "outputs": [],
   "source": [
    "fig = make_subplots(\n",
    "    rows=1, cols=1,\n",
    "    subplot_titles=(['FFT of XYZ Component Residuals']),\n",
    "    vertical_spacing = 0.1)\n",
    "\n",
    "\n",
    "index_pce_x = obj_m1.Residuals_obs[arc]['StatSatConfig'] == 'PCE X    '\n",
    "index_pce_y = obj_m1.Residuals_obs[arc]['StatSatConfig'] == 'PCE Y    '\n",
    "index_pce_z = obj_m1.Residuals_obs[arc]['StatSatConfig'] == 'PCE Z    '\n",
    "# date_x    = obj_m1.Residuals_obs[arc]['Date'][index_pce_x]\n",
    "resids_x  = obj_m1.Residuals_obs[arc]['Residual'][index_pce_x].values\n",
    "# date_y    = obj_m1.Residuals_obs[arc]['Date'][index_pce_y]\n",
    "resids_y  = obj_m1.Residuals_obs[arc]['Residual'][index_pce_y].values\n",
    "# date_z    = obj_m1.Residuals_obs[arc]['Date'][index_pce_z]\n",
    "resids_z  = obj_m1.Residuals_obs[arc]['Residual'][index_pce_z].values\n",
    "\n",
    "\n",
    "for comp in ['X', 'Y', 'Z']:\n",
    "    \n",
    "    \n",
    "    date    = pd.to_datetime(obj_m1.Residuals_obs[arc]['Date'][obj_m1.Residuals_obs[arc]['StatSatConfig'] == 'PCE '+comp+'    ']).reset_index()\n",
    "    resids_pce  = obj_m1.Residuals_obs[arc]['Residual'][obj_m1.Residuals_obs[arc]['StatSatConfig'] == 'PCE '+comp+'    '].values\n",
    "\n",
    "    \n",
    "#     t = []\n",
    "#     for i,val in enumerate(date['Date']):\n",
    "#         t.append(date['Date'][i].timestamp())\n",
    "    \n",
    "    from scipy.fft import fft, fftfreq\n",
    "\n",
    "\n",
    "    # Number of sample points\n",
    "    N = int(np.size(resids_pce))                              #600\n",
    "\n",
    "    # sample spacing\n",
    "    T  = 1                                               #1.0 / 800.0\n",
    "#     x  = t                                                  #np.linspace(0.0, N*T, N, endpoint=False)\n",
    "    y  = resids_pce                                            #np.sin(50.0 * 2.0*np.pi*x) + 0.5*np.sin(80.0 * 2.0*np.pi*x)\n",
    "    yf = fft(y)\n",
    "    xf = fftfreq(N, T)[:N//2]\n",
    "\n",
    "\n",
    "\n",
    "    fig.add_trace(go.Scattergl(\n",
    "                             x=xf,\n",
    "                             y=2.0/N * np.abs(yf[0:N//2]),\n",
    "                         name='PCE'+comp,\n",
    "                         mode='markers+lines',\n",
    "                         marker=dict(  #color=col1,\n",
    "                                 size=6,\n",
    "                                    ),\n",
    "                         showlegend=True,\n",
    "                         ),\n",
    "                         secondary_y=False,\n",
    "                         row=1, col=1,\n",
    "                         )\n",
    "\n",
    "\n",
    "    \n",
    "date    = pd.to_datetime(obj_m1.Residuals_obs[arc]['Date'][obj_m1.Residuals_obs[arc]['StatSatConfig'] == 'PCE '+'X'+'    ']).reset_index()\n",
    "resids_pce  = np.sqrt( np.square(resids_x) + np.square(resids_y) + np.square(resids_z)  )\n",
    "# t = []\n",
    "# for i,val in enumerate(date['Date']):\n",
    "#     t.append(date['Date'][i].timestamp())\n",
    "# Number of sample points\n",
    "N = int(np.size(resids_pce))                              #600\n",
    "\n",
    "# sample spacing\n",
    "T  = 1                                               #1.0 / 800.0\n",
    "# x  = t                                                  #np.linspace(0.0, N*T, N, endpoint=False)\n",
    "y  = resids_pce                                            #np.sin(50.0 * 2.0*np.pi*x) + 0.5*np.sin(80.0 * 2.0*np.pi*x)\n",
    "yf = fft(y)\n",
    "xf = fftfreq(N, T)[:N//2]\n",
    "\n",
    "fig.add_trace(go.Scattergl(\n",
    "                         x=xf,\n",
    "                         y=2.0/N * np.abs(yf[0:N//2]),\n",
    "                     name='Total Vector',\n",
    "                     mode='markers+lines',\n",
    "                     marker=dict(color='black',\n",
    "                             size=6,\n",
    "                                ),\n",
    "                     showlegend=True,\n",
    "                     ),\n",
    "                     secondary_y=False,\n",
    "                     row=1, col=1,\n",
    "                     )\n",
    "\n",
    "    \n",
    "\n",
    "    \n",
    "fig.update_yaxes( title=\"Power\"    , type=\"linear\",exponentformat= 'power',row=1, col=1)\n",
    "fig.update_xaxes( title=\"Frequency\", type=\"log\",   exponentformat= 'power',row=1, col=1)\n",
    "\n",
    "fig.show(config=config)\n"
   ]
  },
  {
   "cell_type": "markdown",
   "id": "7a6e4289",
   "metadata": {
    "ExecuteTime": {
     "end_time": "2021-11-10T23:15:52.063164Z",
     "start_time": "2021-11-10T23:15:52.035156Z"
    }
   },
   "source": [
    "#### R theta phi"
   ]
  },
  {
   "cell_type": "code",
   "execution_count": null,
   "id": "4bc43a26",
   "metadata": {
    "ExecuteTime": {
     "end_time": "2021-11-16T21:20:03.495091Z",
     "start_time": "2021-11-16T21:20:01.529820Z"
    }
   },
   "outputs": [],
   "source": [
    "fig = make_subplots(\n",
    "    rows=1, cols=1,\n",
    "    subplot_titles=(['FFT of R theta phi Residuals']),\n",
    "    vertical_spacing = 0.1)\n",
    "\n",
    "for comp in ['R', 'theta', 'phi']:\n",
    "\n",
    "    t = []\n",
    "    for i,val in enumerate(resids['Date']):\n",
    "        t.append(resids['Date'][i].timestamp())\n",
    "\n",
    "    from scipy.fft import fft, fftfreq\n",
    "    from scipy.signal import detrend\n",
    "    \n",
    "    # Number of sample points\n",
    "    N = int(np.size(resids[comp]))                       #600\n",
    "\n",
    "    # sample spacing\n",
    "    T  = 1/16                                               #1.0 / 800.0\n",
    "    x  = t                                                  #np.linspace(0.0, N*T, N, endpoint=False)\n",
    "    y  = detrend(resids[comp])                                   #np.sin(50.0 * 2.0*np.pi*x) + 0.5*np.sin(80.0 * 2.0*np.pi*x)\n",
    "    yf = fft(y)\n",
    "    xf = fftfreq(N, T)[:N//2]\n",
    "\n",
    "\n",
    "    fig.add_trace(go.Scattergl(\n",
    "                             x=xf,\n",
    "                             y=2.0/N * np.abs(yf[0:N//2]),\n",
    "                         name=comp+' fft',\n",
    "                         mode='markers+lines',\n",
    "                         marker=dict(\n",
    "#                              color=col1,\n",
    "                                 size=6,\n",
    "                                    ),\n",
    "                         showlegend=True,\n",
    "                         ),\n",
    "                         secondary_y=False,\n",
    "                         row=1, col=1,\n",
    "                         )\n",
    "\n",
    "fig.update_yaxes( title=\"Power\"    , type=\"linear\",exponentformat= 'power',row=1, col=1)\n",
    "fig.update_xaxes( title=\"Frequency\", type=\"log\",row=1, col=1)\n",
    "\n",
    "fig.show(config=config)\n"
   ]
  },
  {
   "cell_type": "code",
   "execution_count": null,
   "id": "751a6053",
   "metadata": {
    "ExecuteTime": {
     "end_time": "2021-11-10T23:06:19.689655Z",
     "start_time": "2021-11-10T23:06:06.441252Z"
    }
   },
   "outputs": [],
   "source": []
  },
  {
   "cell_type": "code",
   "execution_count": null,
   "id": "8c4c76b7",
   "metadata": {
    "ExecuteTime": {
     "end_time": "2021-11-10T23:06:23.632606Z",
     "start_time": "2021-11-10T23:06:23.433065Z"
    }
   },
   "outputs": [],
   "source": []
  },
  {
   "cell_type": "code",
   "execution_count": null,
   "id": "fe6e8023",
   "metadata": {
    "ExecuteTime": {
     "end_time": "2021-11-12T18:18:00.053447Z",
     "start_time": "2021-11-12T18:17:59.563092Z"
    }
   },
   "outputs": [],
   "source": []
  },
  {
   "cell_type": "markdown",
   "id": "00cdf5ec",
   "metadata": {},
   "source": [
    "### find most dominant frequencies"
   ]
  },
  {
   "cell_type": "code",
   "execution_count": null,
   "id": "ade3e8e0",
   "metadata": {
    "ExecuteTime": {
     "end_time": "2021-11-16T21:20:03.523244Z",
     "start_time": "2021-11-16T21:20:03.499826Z"
    }
   },
   "outputs": [],
   "source": [
    "#### find most dominant frequencies\n",
    "# freq_resids == np.max(freq_resids)\n",
    "\n",
    "\n",
    "# print(domfreq_1)\n",
    "# filtered_1 = psd_A_det;\n",
    "# for i = 1:length(filtered_1)\n",
    "# if filtered_1(i) == max(psd_A_det)\n",
    "# filtered_1(i) = 0;\n",
    "# end\n",
    "# end\n",
    "# domfreq_A2 = freq_A_det(find(filtered_1 == max(filtered_1)))\n"
   ]
  },
  {
   "cell_type": "markdown",
   "id": "d472903c",
   "metadata": {},
   "source": [
    "### look at histogram of the residual.\n",
    "is it normal?  What is the distrubution?"
   ]
  },
  {
   "cell_type": "code",
   "execution_count": null,
   "id": "dd4a70b3",
   "metadata": {
    "ExecuteTime": {
     "end_time": "2021-11-16T21:20:03.551897Z",
     "start_time": "2021-11-16T21:20:03.526020Z"
    }
   },
   "outputs": [],
   "source": [
    "range(-3, 3, 10)"
   ]
  },
  {
   "cell_type": "code",
   "execution_count": null,
   "id": "66e85c19",
   "metadata": {
    "ExecuteTime": {
     "end_time": "2021-11-16T21:20:03.776183Z",
     "start_time": "2021-11-16T21:20:03.553450Z"
    }
   },
   "outputs": [],
   "source": [
    "#### look at histogram of the residual. is it normal?  What is the distrubution?\n",
    "\n",
    "import scipy\n",
    "import numpy as np \n",
    "import matplotlib.pyplot as plt\n",
    "  \n",
    "hist, bin_edges = np.histogram([resid_T],\n",
    "                                       bins = np.linspace(-3,3, 20))\n",
    "  \n",
    "# Checking the results\n",
    "print (\"No. of points in each bin : \", hist)\n",
    "print (\"Size of the bins          : \", bin_edges)\n",
    "  \n",
    "# plotting the histogram\n",
    "plt.bar(bin_edges[:-1], hist, width = 1)\n",
    "plt.xlim(min(bin_edges), max(bin_edges))\n",
    "plt.show()"
   ]
  },
  {
   "cell_type": "markdown",
   "id": "39fa8946",
   "metadata": {},
   "source": [
    "### we COULD make a least squares fit to the data  (what is advantage of this)"
   ]
  },
  {
   "cell_type": "code",
   "execution_count": null,
   "id": "8a5b76df",
   "metadata": {
    "ExecuteTime": {
     "end_time": "2021-11-16T21:20:03.778320Z",
     "start_time": "2021-11-16T21:18:08.714Z"
    }
   },
   "outputs": [],
   "source": [
    "#### we COULD make a least squares fit to the data  (what is advantage of this)\n"
   ]
  },
  {
   "cell_type": "code",
   "execution_count": null,
   "id": "bd65a441",
   "metadata": {},
   "outputs": [],
   "source": []
  }
 ],
 "metadata": {
  "kernelspec": {
   "display_name": "Python 3",
   "language": "python",
   "name": "python3"
  },
  "language_info": {
   "codemirror_mode": {
    "name": "ipython",
    "version": 3
   },
   "file_extension": ".py",
   "mimetype": "text/x-python",
   "name": "python",
   "nbconvert_exporter": "python",
   "pygments_lexer": "ipython3",
   "version": "3.8.8"
  },
  "toc": {
   "base_numbering": 1,
   "nav_menu": {},
   "number_sections": true,
   "sideBar": true,
   "skip_h1_title": false,
   "title_cell": "Table of Contents",
   "title_sidebar": "Contents",
   "toc_cell": false,
   "toc_position": {
    "height": "calc(100% - 180px)",
    "left": "10px",
    "top": "150px",
    "width": "165px"
   },
   "toc_section_display": true,
   "toc_window_display": true
  },
  "varInspector": {
   "cols": {
    "lenName": 16,
    "lenType": 16,
    "lenVar": 40
   },
   "kernels_config": {
    "python": {
     "delete_cmd_postfix": "",
     "delete_cmd_prefix": "del ",
     "library": "var_list.py",
     "varRefreshCmd": "print(var_dic_list())"
    },
    "r": {
     "delete_cmd_postfix": ") ",
     "delete_cmd_prefix": "rm(",
     "library": "var_list.r",
     "varRefreshCmd": "cat(var_dic_list()) "
    }
   },
   "types_to_exclude": [
    "module",
    "function",
    "builtin_function_or_method",
    "instance",
    "_Feature"
   ],
   "window_display": false
  }
 },
 "nbformat": 4,
 "nbformat_minor": 5
}
