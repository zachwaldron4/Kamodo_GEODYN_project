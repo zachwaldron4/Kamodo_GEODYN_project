{
 "cells": [
  {
   "cell_type": "markdown",
   "id": "6f3c46f1",
   "metadata": {},
   "source": [
    "# Intermediary Quantification of the CD model Bias for each model\n",
    "\n",
    "This notebook attempts to quantify the amount of bias/offset that is required for each model-CD scaling   to minimize the errors in the residuals."
   ]
  },
  {
   "cell_type": "markdown",
   "id": "d1778b71",
   "metadata": {},
   "source": [
    "## Initialize"
   ]
  },
  {
   "cell_type": "code",
   "execution_count": 76,
   "id": "e447b9ea",
   "metadata": {
    "ExecuteTime": {
     "end_time": "2022-07-14T22:43:13.246462Z",
     "start_time": "2022-07-14T22:43:13.225738Z"
    }
   },
   "outputs": [],
   "source": [
    "import plotly.graph_objects as go\n",
    "from plotly.offline import plot, iplot\n",
    "from plotly.subplots import make_subplots\n",
    "import plotly.express as px\n",
    "import plotly.io as pio   ### Allows you to save plotly figs\n",
    "\n",
    "font_dict=dict(family='Arial',size=14,color='black')\n",
    "font_annot=dict(family='Arial',size=11,color='black')\n",
    "\n",
    "plots_dir = \"/data/zach_work/Paper2022_assessment/plots/\"\n"
   ]
  },
  {
   "cell_type": "code",
   "execution_count": 25,
   "id": "cd076359",
   "metadata": {
    "ExecuteTime": {
     "end_time": "2022-07-14T22:24:06.203723Z",
     "start_time": "2022-07-14T22:24:06.181357Z"
    }
   },
   "outputs": [
    {
     "name": "stdout",
     "output_type": "stream",
     "text": [
      "{'msis2': 5, 'tiegcm_oc': 0, 'dtm2020_o': 3, 'jb2008': 1, 'hasdm_oc': 2, 'ctipe_oc': 4}\n"
     ]
    }
   ],
   "source": [
    "\n",
    "\n",
    "\n",
    "run_list = [  'msis2'       ,\n",
    "              'tiegcm_oc'   ,\n",
    "              'dtm2020_o'   ,\n",
    "               'jb2008'    ,\n",
    "               'hasdm_oc'  ,\n",
    "               'ctipe_oc',\n",
    "           ]\n",
    "\n",
    "\n",
    "run_dict={}\n",
    "for i in run_list:\n",
    "    if i =='msis2':\n",
    "        num = 5\n",
    "    if i =='tiegcm_oc':\n",
    "        num = 0\n",
    "    if i =='dtm2020_o':\n",
    "        num = 3\n",
    "    if i =='jb2008':\n",
    "        num = 1\n",
    "    if i =='hasdm_oc':\n",
    "        num = 2\n",
    "    if i =='ctipe_oc':\n",
    "        num = 4 \n",
    "    \n",
    "    run_dict[i]=num\n",
    "\n",
    "print(run_dict)\n",
    "# run_dict = {  #'ctipe_oc' : 4 ,\n",
    "#               #'msis2'    : 5   ,\n",
    "#               #'tiegcm_oc': 0  ,\n",
    "#               #'dtm2020_o'  : 3   ,\n",
    "#               'jb2008'   : 1   ,\n",
    "# #               'hasdm_oc' : 2   ,  \n",
    "#            }\n"
   ]
  },
  {
   "cell_type": "markdown",
   "id": "9450a5f5",
   "metadata": {},
   "source": [
    "## Run "
   ]
  },
  {
   "cell_type": "code",
   "execution_count": null,
   "id": "f223cd4c",
   "metadata": {
    "ExecuteTime": {
     "end_time": "2022-07-08T19:21:21.307428Z",
     "start_time": "2022-07-08T19:21:21.303323Z"
    }
   },
   "outputs": [],
   "source": []
  },
  {
   "cell_type": "code",
   "execution_count": 26,
   "id": "cce85098",
   "metadata": {
    "ExecuteTime": {
     "end_time": "2022-07-14T22:24:07.386175Z",
     "start_time": "2022-07-14T22:24:07.367506Z"
    },
    "scrolled": false
   },
   "outputs": [],
   "source": [
    "# %load_ext autoreload\n",
    "# %autoreload 2\n",
    "\n",
    "# import sys  \n",
    "# import pickle \n",
    "# import gc\n",
    "\n",
    "# sys.path.insert(0, '/data/geodyn_proj/pygeodyn/pygeodyn_develop/')\n",
    "# from PYGEODYN import Pygeodyn\n",
    "\n",
    "# for i,val in enumerate(run_list):   \n",
    "#     run_settings = '/data/zach_work/Paper2022_assessment/run_settings_adjustCDtoScale/2week_'+val+'.yaml'\n",
    "#     ### Load the data into an object\n",
    "#     RunObject = Pygeodyn(run_settings)\n",
    "#     RunObject.RUN_GEODYN()\n",
    "#     RunObject = 0\n",
    "#     gc.collect()\n",
    "            \n",
    "# sys.exit()"
   ]
  },
  {
   "cell_type": "code",
   "execution_count": null,
   "id": "a36b2481",
   "metadata": {},
   "outputs": [],
   "source": []
  },
  {
   "cell_type": "markdown",
   "id": "ca2206ae",
   "metadata": {},
   "source": [
    "##  Read"
   ]
  },
  {
   "cell_type": "code",
   "execution_count": 27,
   "id": "e3528a0a",
   "metadata": {
    "ExecuteTime": {
     "end_time": "2022-07-14T22:24:08.484950Z",
     "start_time": "2022-07-14T22:24:08.464474Z"
    }
   },
   "outputs": [],
   "source": [
    "#### Look at the scaled values or fixed values?\n",
    "\n",
    "data_type = 'adjust'\n",
    "# data_type = 'fixed'\n"
   ]
  },
  {
   "cell_type": "markdown",
   "id": "fc1d0956",
   "metadata": {},
   "source": [
    "### Pickle Option"
   ]
  },
  {
   "cell_type": "code",
   "execution_count": 28,
   "id": "9600dc97",
   "metadata": {
    "ExecuteTime": {
     "end_time": "2022-07-14T22:24:10.425219Z",
     "start_time": "2022-07-14T22:24:09.778482Z"
    }
   },
   "outputs": [
    {
     "name": "stdout",
     "output_type": "stream",
     "text": [
      "The autoreload extension is already loaded. To reload it, use:\n",
      "  %reload_ext autoreload\n",
      "\n",
      "\n",
      "Loaded data from pickle...  msis2\n",
      "\n",
      "\n",
      "Loaded data from pickle...  tiegcm_oc\n",
      "\n",
      "\n",
      "Loaded data from pickle...  dtm2020_o\n",
      "\n",
      "\n",
      "Loaded data from pickle...  jb2008\n",
      "\n",
      "\n",
      "Loaded data from pickle...  hasdm_oc\n",
      "\n",
      "\n",
      "Loaded data from pickle...  ctipe_oc\n"
     ]
    }
   ],
   "source": [
    "# for i,val in enumerate(run_list): \n",
    "#     for ii in ['']:\n",
    "# EDIT_OBJECT_DATES = 0\n",
    "%load_ext autoreload\n",
    "%autoreload 2\n",
    "\n",
    "import sys  \n",
    "import pickle \n",
    "import gc\n",
    "import os\n",
    "\n",
    "sys.path.insert(0, '/data/geodyn_proj/pygeodyn/pygeodyn_develop/')\n",
    "from PYGEODYN import Pygeodyn\n",
    "\n",
    "# Obj = {}\n",
    "dir_save = '/data/data_geodyn/results/icesat2/Paper2022_assessment/ScaleCD_QuantifyBias/'\n",
    "for i,val in enumerate(run_list):   \n",
    "    \n",
    "    pickle_file = dir_save+'2week_CD'+data_type+'_'+val+'.pkl'\n",
    "\n",
    "    if not os.path.exists(pickle_file):\n",
    "\n",
    "        print('Must create pickle file...')\n",
    "        print('   ',  pickle_file)\n",
    "        print('   ', 'Reading Geodyn Data')\n",
    "\n",
    "\n",
    "        run_settings = '/data/zach_work/Paper2022_assessment/run_settings_adjustCDtoScale/2week_'+val+'.yaml'\n",
    "        ### Load the data into an object\n",
    "        Obj = Pygeodyn(run_settings)\n",
    "        Obj.getData_BigData_lowmemory()\n",
    "    #     Obj[val].getData()\n",
    "        gc.collect()\n",
    "\n",
    "        #### Pickle the object to save it\n",
    "        print('   ', 'Saving pickle')\n",
    "        filehandler = open(pickle_file, 'wb') \n",
    "        pickle.dump(Obj, filehandler)\n",
    "        filehandler.close()\n",
    "        Obj = 0\n",
    "        print('   ', 'Saved pickle')\n",
    "\n",
    "\n",
    "#     else:\n",
    "#         print(val,i,'  Pickle created -- will load in next step', sep='')\n",
    "Obj = {}\n",
    "\n",
    "for i,val in enumerate(run_list):   \n",
    "    ### Load the data if the pickles exist\n",
    "    print()\n",
    "    print()\n",
    "    gc.collect()\n",
    "    \n",
    "    pickle_file = dir_save+'2week_CD'+data_type+'_'+val+'.pkl'\n",
    "    \n",
    "    filehandler = open(pickle_file, 'rb') \n",
    "    Obj[val] = pickle.load(filehandler)\n",
    "    filehandler.close()\n",
    "    print('Loaded data from pickle... ', val)\n",
    "\n",
    "\n",
    "\n",
    "\n"
   ]
  },
  {
   "cell_type": "markdown",
   "id": "515c6ac8",
   "metadata": {},
   "source": [
    "### Quick read"
   ]
  },
  {
   "cell_type": "code",
   "execution_count": 29,
   "id": "b7b37028",
   "metadata": {
    "ExecuteTime": {
     "end_time": "2022-07-14T22:24:10.639914Z",
     "start_time": "2022-07-14T22:24:10.618602Z"
    }
   },
   "outputs": [],
   "source": [
    "# %load_ext autoreload\n",
    "# %autoreload 2\n",
    "\n",
    "# import sys  \n",
    "# import pickle \n",
    "# import gc\n",
    "# import os\n",
    "\n",
    "# sys.path.insert(0, '/data/geodyn_proj/pygeodyn/pygeodyn_develop/')\n",
    "# from PYGEODYN import Pygeodyn\n",
    "\n",
    "# Obj = {}\n",
    "# dir_save = '/data/data_geodyn/results/icesat2/Paper2022_assessment/ScaleCD_QuantifyBias/'\n",
    "# for i,val in enumerate(run_list):   \n",
    "    \n",
    "#     run_settings = '/data/zach_work/Paper2022_assessment/run_settings_adjustCDtoScale/2week_'+val+'.yaml'\n",
    "#     ### Load the data into an object\n",
    "#     Obj[val] = Pygeodyn(run_settings)\n",
    "#     Obj[val].getData_BigData_lowmemory()\n"
   ]
  },
  {
   "cell_type": "code",
   "execution_count": 30,
   "id": "17c39cec",
   "metadata": {
    "ExecuteTime": {
     "end_time": "2022-07-14T22:24:10.794915Z",
     "start_time": "2022-07-14T22:24:10.775697Z"
    }
   },
   "outputs": [],
   "source": [
    "# Obj['msis2'].__dict__['global_params']"
   ]
  },
  {
   "cell_type": "markdown",
   "id": "05dc31a5",
   "metadata": {},
   "source": [
    "### Plot Settings and Features"
   ]
  },
  {
   "cell_type": "code",
   "execution_count": 31,
   "id": "b96f9fc3",
   "metadata": {
    "ExecuteTime": {
     "end_time": "2022-07-14T22:24:11.051596Z",
     "start_time": "2022-07-14T22:24:11.032571Z"
    }
   },
   "outputs": [],
   "source": [
    "# plots_dir = '/data/zach_work/validation/ICESat2_3month_Validation/final_plots/'"
   ]
  },
  {
   "cell_type": "code",
   "execution_count": 32,
   "id": "9f578c56",
   "metadata": {
    "ExecuteTime": {
     "end_time": "2022-07-14T22:24:11.381672Z",
     "start_time": "2022-07-14T22:24:11.347557Z"
    }
   },
   "outputs": [],
   "source": [
    "import plotly.graph_objects as go\n",
    "from plotly.offline import plot, iplot\n",
    "from plotly.subplots import make_subplots\n",
    "import plotly.express as px\n",
    "import plotly.io as pio   ### Allows you to save plotly figs\n",
    "\n",
    "\n",
    "import pandas as pd\n",
    "import datetime\n",
    "import numpy as np\n",
    "\n",
    "config = dict({\n",
    "                'displayModeBar': False,\n",
    "                'responsive': False,\n",
    "                'staticPlot': True,\n",
    "                'displaylogo': False,\n",
    "                'showTips': False,\n",
    "                })\n",
    "\n",
    "\n",
    "\n",
    "import numpy as np\n",
    "import pandas as pd\n",
    "import os\n",
    "\n",
    "# px.colors.colorscale_to_colors()\n",
    "# plotly.colors.PLOTLY_SCALES[\"Viridis\"]\n",
    "\n",
    "def get_color(colorscale_name, loc):\n",
    "    from _plotly_utils.basevalidators import ColorscaleValidator\n",
    "    # first parameter: Name of the property being validated\n",
    "    # second parameter: a string, doesn't really matter in our use case\n",
    "    cv = ColorscaleValidator(\"colorscale\", \"\")\n",
    "    # colorscale will be a list of lists: [[loc1, \"rgb1\"], [loc2, \"rgb2\"], ...] \n",
    "    colorscale = cv.validate_coerce(colorscale_name)\n",
    "    \n",
    "    if hasattr(loc, \"__iter__\"):\n",
    "        return [get_continuous_color(colorscale, x) for x in loc]\n",
    "    return get_continuous_color(colorscale, loc)\n",
    "        \n",
    "\n",
    "# Identical to Adam's answer\n",
    "import plotly.colors\n",
    "from PIL import ImageColor\n",
    "def get_continuous_color(colorscale, intermed):\n",
    "    \"\"\"\n",
    "    Plotly continuous colorscales assign colors to the range [0, 1]. This function computes the intermediate\n",
    "    color for any value in that range.\n",
    "\n",
    "    Plotly doesn't make the colorscales directly accessible in a common format.\n",
    "    Some are ready to use:\n",
    "    \n",
    "        colorscale = plotly.colors.PLOTLY_SCALES[\"Greens\"]\n",
    "\n",
    "    Others are just swatches that need to be constructed into a colorscale:\n",
    "\n",
    "        viridis_colors, scale = plotly.colors.convert_colors_to_same_type(plotly.colors.sequential.Viridis)\n",
    "        colorscale = plotly.colors.make_colorscale(viridis_colors, scale=scale)\n",
    "\n",
    "    :param colorscale: A plotly continuous colorscale defined with RGB string colors.\n",
    "    :param intermed: value in the range [0, 1]\n",
    "    :return: color in rgb string format\n",
    "    :rtype: str\n",
    "    \"\"\"\n",
    "    if len(colorscale) < 1:\n",
    "        raise ValueError(\"colorscale must have at least one color\")\n",
    "\n",
    "    hex_to_rgb = lambda c: \"rgb\" + str(ImageColor.getcolor(c, \"RGB\"))\n",
    "\n",
    "    if intermed <= 0 or len(colorscale) == 1:\n",
    "        c = colorscale[0][1]\n",
    "        return c if c[0] != \"#\" else hex_to_rgb(c)\n",
    "    if intermed >= 1:\n",
    "        c = colorscale[-1][1]\n",
    "        return c if c[0] != \"#\" else hex_to_rgb(c)\n",
    "\n",
    "    for cutoff, color in colorscale:\n",
    "        if intermed > cutoff:\n",
    "            low_cutoff, low_color = cutoff, color\n",
    "        else:\n",
    "            high_cutoff, high_color = cutoff, color\n",
    "            break\n",
    "\n",
    "    if (low_color[0] == \"#\") or (high_color[0] == \"#\"):\n",
    "        # some color scale names (such as cividis) returns:\n",
    "        # [[loc1, \"hex1\"], [loc2, \"hex2\"], ...]\n",
    "        low_color = hex_to_rgb(low_color)\n",
    "        high_color = hex_to_rgb(high_color)\n",
    "\n",
    "    return plotly.colors.find_intermediate_color(\n",
    "        lowcolor=low_color,\n",
    "        highcolor=high_color,\n",
    "        intermed=((intermed - low_cutoff) / (high_cutoff - low_cutoff)),\n",
    "        colortype=\"rgb\",\n",
    "    )\n",
    "\n",
    "\n",
    "\n",
    "\n",
    "cols = get_color(\"Viridis\", np.linspace(0, 1, 5))\n",
    "map_cols = np.linspace(0, 1, 5)\n",
    "colorscale=[]\n",
    "for i,val in enumerate(map_cols):\n",
    "    colorscale.append([val, cols[i]])\n",
    "    \n",
    "\n",
    "\n",
    "\n",
    "# Simplify Plotting Schemes:\n",
    "col1 =  px.colors.qualitative.Plotly[2]\n",
    "col2 =  px.colors.qualitative.Plotly[4]\n",
    "col3 =  px.colors.qualitative.Plotly[1]\n",
    "col4 =  px.colors.qualitative.Plotly[3]\n",
    "col5 =  px.colors.qualitative.Plotly[4]\n",
    "col6 =  px.colors.qualitative.Plotly[5]\n",
    "\n",
    "\n",
    "\n",
    "# Simplify Plotting Schemes:\n",
    "col_msis2     =  \"#2ca02c\"\n",
    "col_jb2008    =  \"#ff7f0e\"\n",
    "col_dtm2020   =  \"#d62728\"\n",
    "col_tiegcm_oc =  \"#17becf\"\n",
    "col_hasdm_oc  =  \"#1f77b4\"\n",
    "col_ctipe_oc  =  \"#9467bd\"\n",
    "# col_msis2 =  px.colors.qualitative.Plotly[2]\n",
    "# col_jb2008 =  px.colors.qualitative.Plotly[4]\n",
    "# col_dtm2020 =  px.colors.qualitative.Plotly[1]\n",
    "# col_tiegcm_oc =  px.colors.qualitative.Plotly[5]\n",
    "# col_hasdm_oc =  px.colors.qualitative.Plotly[0]\n",
    "# col_ctipe_oc =  px.colors.qualitative.Plotly[7]\n",
    "\n",
    "x_annot_val = 1.1\n",
    "\n",
    "\n",
    "\n",
    "def get_plot_params(plot_num, model_name_string):\n",
    "    '''\n",
    "    INPUT:   \n",
    "        Plot number, model_name string, x_annot_val\n",
    "    \n",
    "    RETURN:\n",
    "        col, x_annot, y_annot1, y_annot2, m_size,   \n",
    "    '''\n",
    "    \n",
    "    \n",
    "\n",
    "        \n",
    "    if model_name_string == 'msis2':\n",
    "        col=col_msis2\n",
    "    elif model_name_string == 'dtm2020_o':\n",
    "        col=col_dtm2020\n",
    "    elif model_name_string == 'jb2008':\n",
    "        col=col_jb2008\n",
    "    elif model_name_string == 'tiegcm_oc':\n",
    "        col=col_tiegcm_oc\n",
    "    elif model_name_string == 'hasdm_oc':\n",
    "        col=col_hasdm_oc\n",
    "    elif model_name_string == 'ctipe_oc':\n",
    "        col=col_ctipe_oc\n",
    "        \n",
    "    ### Old Models\n",
    "    elif model_name_string == 'dtm87':\n",
    "        col='grey'\n",
    "    elif model_name_string == 'jaachia71':\n",
    "        col='grey'\n",
    "    elif model_name_string == 'msis86':\n",
    "        col='grey'\n",
    "    elif model_name_string == 'msis00':\n",
    "        col='tan'\n",
    "        \n",
    "    return(col)\n",
    "        "
   ]
  },
  {
   "cell_type": "code",
   "execution_count": 33,
   "id": "b4bec213",
   "metadata": {
    "ExecuteTime": {
     "end_time": "2022-07-14T22:24:11.796174Z",
     "start_time": "2022-07-14T22:24:11.770211Z"
    }
   },
   "outputs": [],
   "source": [
    "def show_named_plotly_colours():\n",
    "    \"\"\"\n",
    "    function to display to user the colours to match plotly's named\n",
    "    css colours.\n",
    "\n",
    "    Reference:\n",
    "        #https://community.plotly.com/t/plotly-colours-list/11730/3\n",
    "\n",
    "    Returns:\n",
    "        plotly dataframe with cell colour to match named colour name\n",
    "\n",
    "    \"\"\"\n",
    "    s='''\n",
    "        aliceblue, antiquewhite, aqua, aquamarine, azure,\n",
    "        beige, bisque, black, blanchedalmond, blue,\n",
    "        blueviolet, brown, burlywood, cadetblue,\n",
    "        chartreuse, chocolate, coral, cornflowerblue,\n",
    "        cornsilk, crimson, cyan, darkblue, darkcyan,\n",
    "        darkgoldenrod, darkgray, darkgrey, darkgreen,\n",
    "        darkkhaki, darkmagenta, darkolivegreen, darkorange,\n",
    "        darkorchid, darkred, darksalmon, darkseagreen,\n",
    "        darkslateblue, darkslategray, darkslategrey,\n",
    "        darkturquoise, darkviolet, deeppink, deepskyblue,\n",
    "        dimgray, dimgrey, dodgerblue, firebrick,\n",
    "        floralwhite, forestgreen, fuchsia, gainsboro,\n",
    "        ghostwhite, gold, goldenrod, gray, grey, green,\n",
    "        greenyellow, honeydew, hotpink, indianred, indigo,\n",
    "        ivory, khaki, lavender, lavenderblush, lawngreen,\n",
    "        lemonchiffon, lightblue, lightcoral, lightcyan,\n",
    "        lightgoldenrodyellow, lightgray, lightgrey,\n",
    "        lightgreen, lightpink, lightsalmon, lightseagreen,\n",
    "        lightskyblue, lightslategray, lightslategrey,\n",
    "        lightsteelblue, lightyellow, lime, limegreen,\n",
    "        linen, magenta, maroon, mediumaquamarine,\n",
    "        mediumblue, mediumorchid, mediumpurple,\n",
    "        mediumseagreen, mediumslateblue, mediumspringgreen,\n",
    "        mediumturquoise, mediumvioletred, midnightblue,\n",
    "        mintcream, mistyrose, moccasin, navajowhite, navy,\n",
    "        oldlace, olive, olivedrab, orange, orangered,\n",
    "        orchid, palegoldenrod, palegreen, paleturquoise,\n",
    "        palevioletred, papayawhip, peachpuff, peru, pink,\n",
    "        plum, powderblue, purple, red, rosybrown,\n",
    "        royalblue, saddlebrown, salmon, sandybrown,\n",
    "        seagreen, seashell, sienna, silver, skyblue,\n",
    "        slateblue, slategray, slategrey, snow, springgreen,\n",
    "        steelblue, tan, teal, thistle, tomato, turquoise,\n",
    "        violet, wheat, white, whitesmoke, yellow,\n",
    "        yellowgreen\n",
    "        '''\n",
    "    li=s.split(',')\n",
    "    li=[l.replace('\\n','') for l in li]\n",
    "    li=[l.replace(' ','') for l in li]\n",
    "\n",
    "    import pandas as pd\n",
    "    import plotly.graph_objects as go\n",
    "\n",
    "    df=pd.DataFrame.from_dict({'colour': li})\n",
    "    fig = go.Figure(data=[go.Table(\n",
    "      header=dict(\n",
    "        values=[\"Plotly Named CSS colours\"],\n",
    "        line_color='black', fill_color='white',\n",
    "        align='center', font=dict(color='black', size=14)\n",
    "      ),\n",
    "      cells=dict(\n",
    "        values=[df.colour],\n",
    "        line_color=[df.colour], fill_color=[df.colour],\n",
    "        align='center', font=dict(color='black', size=11)\n",
    "      ))\n",
    "    ])\n",
    "\n",
    "    fig.show()\n",
    "\n",
    "# show_named_plotly_colours() "
   ]
  },
  {
   "cell_type": "markdown",
   "id": "8a416451",
   "metadata": {},
   "source": [
    "### Some plotting functions"
   ]
  },
  {
   "cell_type": "code",
   "execution_count": 34,
   "id": "87e57710",
   "metadata": {
    "ExecuteTime": {
     "end_time": "2022-07-14T22:24:12.910392Z",
     "start_time": "2022-07-14T22:24:12.868142Z"
    }
   },
   "outputs": [],
   "source": [
    "def orb_avg(den_df, arc):\n",
    "    \n",
    "    \n",
    "    #### Find the index for the correct date\n",
    "    vals  = np.arange(den_df[arc].index[0],den_df[arc].index[-1]+1)\n",
    "    df = den_df[arc].set_index('Date',drop=False ) \n",
    "    df['i_vals'] = vals\n",
    "    index_date = df.loc[df.index.max()]['i_vals'].min()\n",
    "    \n",
    "#     print('index_date', index_date)\n",
    "    lat = np.asarray(den_df[arc]['Lat'][:index_date])\n",
    "    time_pd = pd.to_datetime(den_df[arc]['Date'][:index_date])\n",
    "    i = np.nonzero( lat[1:]*lat[0:-1]  <  np.logical_and(0 , lat[1:] > lat[0:-1] )  )\n",
    "    i = i[0]\n",
    "\n",
    "    d_avg = np.zeros(np.size(i))\n",
    "    height_avg = np.zeros(np.size(i))\n",
    "    \n",
    "#     print('time_pd',time_pd)\n",
    "\n",
    "    time_avg = []\n",
    "    d_avg_rolling = []\n",
    "    \n",
    "    roll_avg_count = 0\n",
    "    for j in range(np.size(i)-1):\n",
    "        d_avg[j]      = np.mean(den_df[arc]['rho (kg/m**3)'  ][i[j] : i[j+1]-1  ]  )\n",
    "        height_avg[j] = np.mean(den_df[arc]['Height (meters)'][i[j] : i[j+1]-1  ]  )\n",
    "#         mean_time      = np.mean(time_pd[   i[j] : i[j+1]-1  ])\n",
    "        t1 = pd.to_datetime(time_pd[ i[j]    ])\n",
    "        t2 = pd.to_datetime(time_pd[ i[j+1]-1])\n",
    "        datemiddle = pd.Timestamp(t1) + (pd.Timestamp(t2) - pd.Timestamp(t1)) / 2\n",
    "\n",
    "        time_avg.append(datemiddle)\n",
    "\n",
    "        if roll_avg_count ==1:\n",
    "            d_avg_rolling.append(np.mean([ d_avg[j],  d_avg[j-1]]))\n",
    "            roll_avg_count =0\n",
    "            \n",
    "        roll_avg_count+=1 \n",
    "    d_avg_rolling.append(np.mean([ d_avg[j],  d_avg[j-1]]))\n",
    "        \n",
    "    return(time_avg, d_avg, d_avg_rolling )\n",
    "    \n",
    "\n",
    "def plot_density_orbit_avg(fig, obj_m1, plot_num ):\n",
    "    \n",
    "\n",
    "    ####  Get plot Parameters for this model\n",
    "    model_m1 = obj_m1.__dict__['global_params']['den_model']\n",
    "    col,x_annot,y_annot1,y_annot2,m_size = get_plot_params(plot_num, model_m1)\n",
    "    \n",
    "    for ii,arc in enumerate(obj_m1.__dict__['global_params']['arc_input']):\n",
    "        \n",
    "        vals  = np.arange(obj_m1.__dict__['Density'][arc].index[0],obj_m1.__dict__['Density'][arc].index[-1]+1)\n",
    "        df = obj_m1.__dict__['Density'][arc].set_index('Date',drop=False ) \n",
    "        df['i_vals'] = vals\n",
    "        index_date = df.loc[df.index.max()]['i_vals'].min()\n",
    "\n",
    "        \n",
    "        time_avg,d_avg, d_avg_rolling = orb_avg(obj_m1.Density, arc)\n",
    "        \n",
    "        \n",
    "        fig.add_trace(go.Scattergl(x=time_avg,\n",
    "                                 y=d_avg_rolling,\n",
    "#                                  y=d_avg,\n",
    "                                name= model_m1 ,\n",
    "                                mode='markers',\n",
    "                                marker=dict(\n",
    "                                color=col,\n",
    "                                size=7,),\n",
    "                                showlegend=False,\n",
    "                                   ),\n",
    "                                   row=1, col=1,\n",
    "                                   )\n",
    "        \n",
    "\n",
    "        fig.update_yaxes(type=\"log\", exponentformat= 'power',row=1, col=1)\n",
    "    fig.update_xaxes(title_text=\"Date\", row=1, col=1)\n",
    "    fig.update_yaxes(title_text=\"kg/m^3\", row=1, col=1)\n",
    "#     fig.update_yaxes(title_text=\"nT\", row=2, col=1)\n",
    "#     fig.update_yaxes(title_text=\"sfu\", row=3, col=1)\n",
    "    fig.update_layout(legend= {'itemsizing': 'constant'})\n",
    "#     fig.update_layout(\n",
    "#         font=dict(          size=18, ),\n",
    "#         autosize=False,\n",
    "#         width=900,\n",
    "#         height=1000,)\n",
    "    \n",
    "    return(fig)\n",
    "\n",
    "\n",
    "\n",
    "def Plot_Densitycomparison(fig, obj_m1, plot_num):\n",
    "\n",
    "\n",
    "    ####  Get plot Parameters for this model\n",
    "    model_m1 = obj_m1.__dict__['global_params']['den_model']\n",
    "    col,x_annot,y_annot1,y_annot2,m_size = get_plot_params(plot_num, model_m1)\n",
    "    \n",
    "    \n",
    "    for ii,arc in enumerate(obj_m1.__dict__['global_params']['arc_input'][:]):\n",
    "        \n",
    "        \n",
    "        #### INDEX THE DENSITY DF correctly\n",
    "        vals  = np.arange(obj_m1.__dict__['Density'][arc].index[0],obj_m1.__dict__['Density'][arc].index[-1]+1)\n",
    "        df = obj_m1.__dict__['Density'][arc].set_index('Date',drop=False ) \n",
    "        df['i_vals'] = vals\n",
    "        index_date = df.loc[df.index.max()]['i_vals'].min()\n",
    "\n",
    "        \n",
    "        str_run_param = 'run_parameters'+ arc\n",
    "        final_iter = obj_m1.__dict__[str_run_param]['str_iteration']\n",
    "        i_arc = ii+1\n",
    "        \n",
    "        \n",
    "        \n",
    "        vals  = np.arange(obj_m1.__dict__['Density'][arc].index[0],obj_m1.__dict__['Density'][arc].index[-1]+1)\n",
    "        df = obj_m1.__dict__['Density'][arc].set_index('Date',drop=False ) \n",
    "        df['i_vals'] = vals\n",
    "        index_date = df.loc[df.index.max()]['i_vals'].min()       \n",
    "        time_avg,d_avg, d_avg_rolling = orb_avg(obj_m1.Density, arc)\n",
    "        \n",
    "        \n",
    "        \n",
    "        print('----',model_m1,'----')\n",
    "        print('     mean:    ',np.mean(obj_m1.Density[arc]['rho (kg/m**3)']),'----')\n",
    "        print('     variance:',np.std(obj_m1.Density[arc]['rho (kg/m**3)']),'----')\n",
    "        print()\n",
    "#         if ii ==0:\n",
    "#             fig.add_trace(go.Scattergl(  x=obj_m1.Density[arc]['Date'][:index_date][:],\n",
    "#                                      y=obj_m1.Density[arc]['rho (kg/m**3)'][:index_date][:],\n",
    "#                                      name= model_m1,\n",
    "#                                      mode='markers',\n",
    "#                                      opacity=1,\n",
    "#                                      marker=dict(\n",
    "#                                         color=col, \n",
    "#                                         size=m_size,),\n",
    "#                                      showlegend=True,),\n",
    "#                                       secondary_y=False,\n",
    "#                                        row=1, col=1,)\n",
    "\n",
    "#         else:\n",
    "#             fig.add_trace(go.Scattergl(  x=obj_m1.Density[arc]['Date'][:index_date][:],\n",
    "#                          y=obj_m1.Density[arc]['rho (kg/m**3)'][:index_date][:],\n",
    "#                          name= model_m1,\n",
    "#                          mode='markers',\n",
    "#                          opacity=1,\n",
    "#                          marker=dict(\n",
    "#                             color=col, \n",
    "#                             size=m_size,),\n",
    "#                          showlegend=False,),\n",
    "#                           secondary_y=False,\n",
    "#                            row=1, col=1,)\n",
    "        fig.add_trace(go.Scattergl(x=time_avg,\n",
    "                     y=d_avg_rolling,\n",
    "                    name= model_m1 ,\n",
    "                    mode='markers',\n",
    "                    marker=dict(\n",
    "                    color='black',\n",
    "                    size=5,),\n",
    "                    showlegend=False,),\n",
    "                       row=1, col=1,)\n",
    "\n",
    "\n",
    "#         (mean,rms,rms_about_zero) = STATS_residuals(data_resids['T'], 'in-track')\n",
    "\n",
    "#         fig = add_stats_annotation(fig, model_m1+'<br>Mean='+ str(np.round(mean,4))+'<br>RMS='+ str(np.round(rms_about_zero,4)), col , x_annot, y_annot1)\n",
    "\n",
    "\n",
    "    fig.update_yaxes( title=r\"$\\frac{kg}{m^3}$\", type='log', exponentformat= 'power',row=1, col=1)\n",
    "    fig.update_xaxes( title=\"Date\", row=1, col=1)\n",
    "\n",
    "    return(fig)\n",
    "\n",
    "\n",
    "def legend_as_annotation(fig, den_model_string, color_it, x_annot, y_annot):\n",
    "    fig.add_annotation(\n",
    "            x=x_annot,\n",
    "            y=y_annot,\n",
    "            xref=\"paper\",\n",
    "            yref=\"paper\",\n",
    "            showarrow=False,\n",
    "            text=den_model_string,\n",
    "            font=dict(\n",
    "                size=16,\n",
    "                color=\"#ffffff\"\n",
    "                ),\n",
    "            align=\"center\",\n",
    "            bordercolor=\"#c7c7c7\",\n",
    "            borderwidth=2,\n",
    "            borderpad=4,\n",
    "            bgcolor=color_it,\n",
    "            opacity=0.9\n",
    "            )\n",
    "\n",
    "    return(fig)\n",
    "\n",
    "def add_stats_annotation(fig, text_in, col, x_annot, y_annot):\n",
    "    fig.add_annotation(\n",
    "            x=x_annot,\n",
    "            y=y_annot,\n",
    "            xref=\"x domain\",\n",
    "            yref=\"y domain\",\n",
    "            showarrow=False,\n",
    "            text=text_in,\n",
    "            font=dict(\n",
    "                size=13,\n",
    "                color=\"#ffffff\"\n",
    "                ),\n",
    "            align=\"center\",\n",
    "            bordercolor=\"#c7c7c7\",\n",
    "            borderwidth=2,\n",
    "            borderpad=4,\n",
    "            bgcolor=col,\n",
    "            opacity=0.9\n",
    "            )\n",
    "    return(fig)\n",
    "\n",
    "import pandas as pd\n",
    "\n",
    "def STATS_residuals(residuals,measurement_type):\n",
    "    import numpy as np\n",
    "    n = np.size(residuals)\n",
    "    mean = (1/n)*(np.sum(residuals))\n",
    "    variance = (1/n)*(np.sum(np.square(residuals)))\n",
    "    rms = np.sqrt(variance)\n",
    "    rms_about_zero = np.sqrt((n/(n-1))*variance)\n",
    "    \n",
    "                \n",
    "#     print('mean            ',measurement_type ,':',mean)\n",
    "#     print('rms             ',measurement_type ,':',rms)\n",
    "#     print('rms about zero  ',measurement_type ,':',rms_about_zero)\n",
    "#     print()\n",
    "    \n",
    "    return(mean,rms,rms_about_zero)\n",
    "\n",
    "\n",
    "\n",
    "\n"
   ]
  },
  {
   "cell_type": "code",
   "execution_count": 35,
   "id": "4c78b9c3",
   "metadata": {
    "ExecuteTime": {
     "end_time": "2022-07-14T22:24:13.298538Z",
     "start_time": "2022-07-14T22:24:13.101819Z"
    }
   },
   "outputs": [],
   "source": [
    "from netCDF4 import Dataset\n",
    "def read_nc_file( filename, variables):\n",
    "    ''' This function reads the TIEGCM .nc files and saves the given input variables to a dictionary.\n",
    "        The breakloop feature is here so that if the file doesn't exist the code can still continue.  '''\n",
    "    status = os.path.exists(filename)\n",
    "    \n",
    "    if status == True:\n",
    "        data = {}\n",
    "        for i, var_names in enumerate(variables):\n",
    "            ncid =  Dataset(filename,\"r+\", format=\"NETCDF4\")# filename must be a string\n",
    "            varData = ncid.variables\n",
    "            data[var_names] = np.array(varData[var_names])  \n",
    "    elif status == False:\n",
    "        print('No File Found', filename )\n",
    "        breakloop = True\n",
    "        data = 0\n",
    "        return( data , breakloop)\n",
    "    breakloop = False\n",
    "    return(data,breakloop )\n",
    "\n",
    "\n",
    "arc_list = []\n",
    "\n",
    "arc_list_18 = np.arange(292,366)\n",
    "for i in arc_list_18:\n",
    "    val = '2018'+str(i)\n",
    "    arc_list.append(int(val))\n",
    "    \n",
    "    #     print(val)\n",
    "    \n",
    "arc_list_19 = np.arange(1,10)\n",
    "for i in arc_list_19:\n",
    "    val = '201900'+str(i)\n",
    "    arc_list.append(int(val))\n",
    "\n",
    "\n",
    "path_to_f107 = '/data/data_geodyn/gpi_1960001-2021243_f107aDaily.nc'\n",
    "variables = ['year_day', 'f107d', 'f107a', 'kp']\n",
    "f107_data = read_nc_file(path_to_f107, variables)\n",
    "\n",
    "date = []\n",
    "kp_list = []\n",
    "f107d_list = []\n",
    "f107a_list  = []\n",
    "date_3hr = []\n",
    "\n",
    "\n",
    "for i,val in enumerate(arc_list):\n",
    "    \n",
    "    index = f107_data[0]['year_day']==val\n",
    "    kp_list.append(f107_data[0]['kp'][index][0])\n",
    "    f107d_list.append(f107_data[0]['f107d'][index][0])\n",
    "    f107a_list.append(f107_data[0]['f107a'][index][0])\n",
    "    \n",
    "    date.append(pd.to_datetime( str(val), format='%Y%j'))\n",
    "\n",
    "    date_3hr.append(pd.to_datetime( str(val), format='%Y%j') +pd.Timedelta(hours=0))\n",
    "    date_3hr.append(pd.to_datetime( str(val), format='%Y%j') +pd.Timedelta(hours=3))\n",
    "    date_3hr.append(pd.to_datetime( str(val), format='%Y%j') +pd.Timedelta(hours=6))\n",
    "    date_3hr.append(pd.to_datetime( str(val), format='%Y%j') +pd.Timedelta(hours=9))\n",
    "    date_3hr.append(pd.to_datetime( str(val), format='%Y%j') +pd.Timedelta(hours=12))\n",
    "    date_3hr.append(pd.to_datetime( str(val), format='%Y%j') +pd.Timedelta(hours=15))\n",
    "    date_3hr.append(pd.to_datetime( str(val), format='%Y%j') +pd.Timedelta(hours=18))\n",
    "    date_3hr.append(pd.to_datetime( str(val), format='%Y%j') +pd.Timedelta(hours=21))\n",
    "#     date_3hr.append(pd.to_datetime( str(val), format='%Y%j') +pd.Timedelta(hours=24))\n",
    "    \n",
    "kp_expand = []\n",
    "for i in kp_list:\n",
    "    for ii in i:\n",
    "        kp_expand.append(ii)\n",
    "        \n",
    "        \n",
    "        \n",
    "solar_fluxes = {}\n",
    "solar_fluxes['f107d_list'] = f107d_list\n",
    "solar_fluxes['f107a_list'] = f107a_list\n",
    "solar_fluxes['date']       = date\n",
    "solar_fluxes['date_3hr']   = date_3hr\n",
    "solar_fluxes['kp_expand']  = kp_expand\n",
    "\n",
    "\n",
    "### Prepare RMS total Plot arrays\n",
    "\n",
    "arc_listlist=[  ['2018.292', '2018.293', '2018.294', '2018.295', '2018.296', \n",
    "                 '2018.297', '2018.298', '2018.299' ],                  \n",
    "                #\n",
    "                ['2018.304', '2018.305', '2018.306', '2018.307', '2018.308' ],  \n",
    "                #\n",
    "                ['2018.313', '2018.314', '2018.315', '2018.316', '2018.317',\n",
    "                 '2018.318', '2018.319', '2018.320', '2018.321', '2018.322',\n",
    "                 '2018.323', '2018.324', '2018.325', '2018.326', '2018.327' ],  \n",
    "                #\n",
    "                ['2018.335', '2018.336', '2018.337' ],  \n",
    "                #\n",
    "                ['2018.349', '2018.350', '2018.351', '2018.352' ],  \n",
    "                #\n",
    "                ['2018.356', '2018.357', '2018.358' ],  \n",
    "                #\n",
    "                ['2018.365', '2019.001', '2019.002', '2019.003', '2019.004', \n",
    "                 '2019.005', '2019.006', '2019.007', '2019.008',\n",
    "                '2019.009'],  \n",
    "                ]\n"
   ]
  },
  {
   "cell_type": "markdown",
   "id": "90ac414d",
   "metadata": {},
   "source": [
    "## Plot Cd Adjustment"
   ]
  },
  {
   "cell_type": "code",
   "execution_count": 36,
   "id": "6d0013c5",
   "metadata": {
    "ExecuteTime": {
     "end_time": "2022-07-14T22:24:13.877541Z",
     "start_time": "2022-07-14T22:24:13.855195Z"
    }
   },
   "outputs": [
    {
     "data": {
      "text/plain": [
       "2019009"
      ]
     },
     "execution_count": 36,
     "metadata": {},
     "output_type": "execute_result"
    }
   ],
   "source": [
    "val"
   ]
  },
  {
   "cell_type": "code",
   "execution_count": 77,
   "id": "ed6988e2",
   "metadata": {
    "ExecuteTime": {
     "end_time": "2022-07-14T22:43:22.598636Z",
     "start_time": "2022-07-14T22:43:21.204035Z"
    }
   },
   "outputs": [
    {
     "name": "stdout",
     "output_type": "stream",
     "text": [
      "MEAN CD FOR msis2-- Cd_mean=1.2367916759507616\n",
      "MEAN CD FOR tiegcm_oc-- Cd_mean=1.3729493124180414\n",
      "MEAN CD FOR dtm2020_o-- Cd_mean=3.351462031922206\n",
      "MEAN CD FOR jb2008-- Cd_mean=1.908777734422605\n",
      "MEAN CD FOR hasdm_oc-- Cd_mean=2.076144230698155\n",
      "MEAN CD FOR ctipe_oc-- Cd_mean=4.368334120294092\n"
     ]
    },
    {
     "data": {
      "application/vnd.plotly.v1+json": {
       "config": {
        "displayModeBar": false,
        "displaylogo": false,
        "plotlyServerURL": "https://plot.ly",
        "responsive": false,
        "showTips": false,
        "staticPlot": true
       },
       "data": [
        {
         "marker": {
          "color": "#2ca02c",
          "size": 10
         },
         "mode": "markers",
         "name": "msis2",
         "opacity": 0.8,
         "showlegend": false,
         "type": "scattergl",
         "x": [
          "2018-11-10T00:00:00",
          "2018-11-11T00:00:00",
          "2018-11-12T00:00:00",
          "2018-11-13T00:00:00",
          "2018-11-14T00:00:00",
          "2018-11-15T00:00:00",
          "2018-11-16T00:00:00",
          "2018-11-17T00:00:00",
          "2018-11-18T00:00:00",
          "2018-11-19T00:00:00",
          "2018-11-20T00:00:00",
          "2018-11-21T00:00:00",
          "2018-11-22T00:00:00",
          "2018-11-23T00:00:00",
          "2018-11-24T00:00:00"
         ],
         "xaxis": "x",
         "y": [
          1.141408010057007,
          1.406769633530642,
          1.284208077226555,
          1.169983254441433,
          1.210619052389569,
          1.137847018022287,
          1.108300228080036,
          1.147677171933094,
          1.16267888601189,
          1.212193846684363,
          1.289333329883392,
          1.411807568199779,
          1.402866983124891,
          1.294039361566717,
          1.172142718109767
         ],
         "yaxis": "y"
        },
        {
         "marker": {
          "color": "#17becf",
          "size": 10
         },
         "mode": "markers",
         "name": "tiegcm_oc",
         "opacity": 0.8,
         "showlegend": false,
         "type": "scattergl",
         "x": [
          "2018-11-10T00:00:00",
          "2018-11-11T00:00:00",
          "2018-11-12T00:00:00",
          "2018-11-13T00:00:00",
          "2018-11-14T00:00:00",
          "2018-11-15T00:00:00",
          "2018-11-16T00:00:00",
          "2018-11-17T00:00:00",
          "2018-11-18T00:00:00",
          "2018-11-19T00:00:00",
          "2018-11-20T00:00:00",
          "2018-11-21T00:00:00",
          "2018-11-22T00:00:00",
          "2018-11-23T00:00:00",
          "2018-11-24T00:00:00"
         ],
         "xaxis": "x",
         "y": [
          1.218427683552292,
          1.569094016422191,
          1.272813438590714,
          1.294624786304848,
          1.236960850504519,
          1.208134348414784,
          1.177577808306559,
          1.221982347349428,
          1.263271001342052,
          1.423049428779497,
          1.584363626182575,
          1.667662390070531,
          1.652340347762793,
          1.44401170525317,
          1.359925907434667
         ],
         "yaxis": "y"
        },
        {
         "marker": {
          "color": "#d62728",
          "size": 10
         },
         "mode": "markers",
         "name": "dtm2020_o",
         "opacity": 0.8,
         "showlegend": false,
         "type": "scattergl",
         "x": [
          "2018-11-10T00:00:00",
          "2018-11-11T00:00:00",
          "2018-11-12T00:00:00",
          "2018-11-13T00:00:00",
          "2018-11-14T00:00:00",
          "2018-11-15T00:00:00",
          "2018-11-16T00:00:00",
          "2018-11-17T00:00:00",
          "2018-11-18T00:00:00",
          "2018-11-19T00:00:00",
          "2018-11-20T00:00:00",
          "2018-11-21T00:00:00",
          "2018-11-22T00:00:00",
          "2018-11-23T00:00:00",
          "2018-11-24T00:00:00"
         ],
         "xaxis": "x",
         "y": [
          3.012315008677562,
          3.224173406742127,
          3.067925032325596,
          3.052694319260217,
          3.138406800128303,
          3.432260872861406,
          3.090730583507857,
          3.310681815226386,
          3.288704559551377,
          3.478733228307716,
          3.536576676612174,
          3.630923200759329,
          3.897036791529059,
          3.691684379515606,
          3.419083803828376
         ],
         "yaxis": "y"
        },
        {
         "marker": {
          "color": "#ff7f0e",
          "size": 10
         },
         "mode": "markers",
         "name": "jb2008",
         "opacity": 0.8,
         "showlegend": false,
         "type": "scattergl",
         "x": [
          "2018-11-10T00:00:00",
          "2018-11-11T00:00:00",
          "2018-11-12T00:00:00",
          "2018-11-13T00:00:00",
          "2018-11-14T00:00:00",
          "2018-11-15T00:00:00",
          "2018-11-16T00:00:00",
          "2018-11-17T00:00:00",
          "2018-11-18T00:00:00",
          "2018-11-19T00:00:00",
          "2018-11-20T00:00:00",
          "2018-11-21T00:00:00",
          "2018-11-22T00:00:00",
          "2018-11-23T00:00:00",
          "2018-11-24T00:00:00"
         ],
         "xaxis": "x",
         "y": [
          1.933503927028229,
          1.998605174727161,
          1.754702475611656,
          1.673698427387226,
          1.888132899430373,
          1.866236733398088,
          1.999976042786147,
          1.858268013941426,
          1.926766008784943,
          1.99986831141986,
          1.923157664189588,
          1.991990365616627,
          2.003633857167284,
          1.949419598351084,
          1.863706516499383
         ],
         "yaxis": "y"
        },
        {
         "marker": {
          "color": "#1f77b4",
          "size": 10
         },
         "mode": "markers",
         "name": "hasdm_oc",
         "opacity": 0.8,
         "showlegend": false,
         "type": "scattergl",
         "x": [
          "2018-11-10T00:00:00",
          "2018-11-11T00:00:00",
          "2018-11-12T00:00:00",
          "2018-11-13T00:00:00",
          "2018-11-14T00:00:00",
          "2018-11-15T00:00:00",
          "2018-11-16T00:00:00",
          "2018-11-17T00:00:00",
          "2018-11-18T00:00:00",
          "2018-11-19T00:00:00",
          "2018-11-20T00:00:00",
          "2018-11-21T00:00:00",
          "2018-11-22T00:00:00",
          "2018-11-23T00:00:00",
          "2018-11-24T00:00:00"
         ],
         "xaxis": "x",
         "y": [
          2.055836825634221,
          2.072041407619885,
          2.113511047862945,
          2.08307730586403,
          2.119587258338188,
          2.07880705926563,
          2.120820216050085,
          2.164276542024689,
          2.094078954731644,
          2.063386106306891,
          2.038030890116944,
          2.046243864211217,
          2.071362190221922,
          1.981965530978679,
          2.039138261245357
         ],
         "yaxis": "y"
        },
        {
         "marker": {
          "color": "#9467bd",
          "size": 10
         },
         "mode": "markers",
         "name": "ctipe_oc",
         "opacity": 0.8,
         "showlegend": false,
         "type": "scattergl",
         "x": [
          "2018-11-10T00:00:00",
          "2018-11-11T00:00:00",
          "2018-11-12T00:00:00",
          "2018-11-13T00:00:00",
          "2018-11-14T00:00:00",
          "2018-11-15T00:00:00",
          "2018-11-16T00:00:00",
          "2018-11-17T00:00:00",
          "2018-11-18T00:00:00",
          "2018-11-19T00:00:00",
          "2018-11-20T00:00:00",
          "2018-11-21T00:00:00",
          "2018-11-22T00:00:00",
          "2018-11-23T00:00:00",
          "2018-11-24T00:00:00"
         ],
         "xaxis": "x",
         "y": [
          4.055422865774214,
          4.801178170443011,
          4.408560783920278,
          4.130545463182877,
          4.295386105778497,
          4.086693442971342,
          4.161859919029518,
          4.285513394981066,
          4.248686792780874,
          4.315651957083175,
          4.30060360018131,
          4.707906459087739,
          4.730592010664627,
          4.547882814112686,
          4.448528024420171
         ],
         "yaxis": "y"
        }
       ],
       "layout": {
        "annotations": [
         {
          "align": "left",
          "bgcolor": "white",
          "bordercolor": "#2ca02c",
          "borderpad": 1.2,
          "borderwidth": 1.2,
          "font": {
           "color": "black",
           "family": "Arial",
           "size": 14
          },
          "showarrow": false,
          "text": "MSISe2<br>Mean CD=1.24",
          "x": 1.1,
          "xref": "x domain",
          "y": 0.9267916759507615,
          "yref": "y"
         },
         {
          "align": "left",
          "bgcolor": "white",
          "bordercolor": "#17becf",
          "borderpad": 1.2,
          "borderwidth": 1.2,
          "font": {
           "color": "black",
           "family": "Arial",
           "size": 14
          },
          "showarrow": false,
          "text": "TIEGCM<br>Mean CD=1.37",
          "x": 1.1,
          "xref": "x domain",
          "y": 1.4729493124180415,
          "yref": "y"
         },
         {
          "align": "left",
          "bgcolor": "white",
          "bordercolor": "#d62728",
          "borderpad": 1.2,
          "borderwidth": 1.2,
          "font": {
           "color": "black",
           "family": "Arial",
           "size": 14
          },
          "showarrow": false,
          "text": "DTM2020<br>Mean CD=3.35",
          "x": 1.1,
          "xref": "x domain",
          "y": 3.451462031922206,
          "yref": "y"
         },
         {
          "align": "left",
          "bgcolor": "white",
          "bordercolor": "#ff7f0e",
          "borderpad": 1.2,
          "borderwidth": 1.2,
          "font": {
           "color": "black",
           "family": "Arial",
           "size": 14
          },
          "showarrow": false,
          "text": "JB2008<br>Mean CD=1.91",
          "x": 1.1,
          "xref": "x domain",
          "y": 2.028777734422605,
          "yref": "y"
         },
         {
          "align": "left",
          "bgcolor": "white",
          "bordercolor": "#1f77b4",
          "borderpad": 1.2,
          "borderwidth": 1.2,
          "font": {
           "color": "black",
           "family": "Arial",
           "size": 14
          },
          "showarrow": false,
          "text": "HASDM<br>Mean CD=2.08",
          "x": 1.1,
          "xref": "x domain",
          "y": 2.576144230698155,
          "yref": "y"
         },
         {
          "align": "left",
          "bgcolor": "white",
          "bordercolor": "#9467bd",
          "borderpad": 1.2,
          "borderwidth": 1.2,
          "font": {
           "color": "black",
           "family": "Arial",
           "size": 14
          },
          "showarrow": false,
          "text": "CTIPe<br>Mean CD=4.37",
          "x": 1.1,
          "xref": "x domain",
          "y": 4.368334120294092,
          "yref": "y"
         }
        ],
        "autosize": false,
        "font": {
         "color": "black",
         "family": "Arial",
         "size": 14
        },
        "height": 500,
        "legend": {
         "itemsizing": "trace"
        },
        "plot_bgcolor": "white",
        "shapes": [
         {
          "line": {
           "color": "#17becf",
           "dash": "dash",
           "width": 2
          },
          "type": "line",
          "x0": 0,
          "x1": 1,
          "xref": "x domain",
          "y0": 1.3729493124180414,
          "y1": 1.3729493124180414,
          "yref": "y"
         },
         {
          "line": {
           "color": "#d62728",
           "dash": "dash",
           "width": 2
          },
          "type": "line",
          "x0": 0,
          "x1": 1,
          "xref": "x domain",
          "y0": 3.351462031922206,
          "y1": 3.351462031922206,
          "yref": "y"
         },
         {
          "line": {
           "color": "#ff7f0e",
           "dash": "dash",
           "width": 2
          },
          "type": "line",
          "x0": 0,
          "x1": 1,
          "xref": "x domain",
          "y0": 1.908777734422605,
          "y1": 1.908777734422605,
          "yref": "y"
         },
         {
          "line": {
           "color": "#1f77b4",
           "dash": "dash",
           "width": 2
          },
          "type": "line",
          "x0": 0,
          "x1": 1,
          "xref": "x domain",
          "y0": 2.076144230698155,
          "y1": 2.076144230698155,
          "yref": "y"
         },
         {
          "line": {
           "color": "#9467bd",
           "dash": "dash",
           "width": 2
          },
          "type": "line",
          "x0": 0,
          "x1": 1,
          "xref": "x domain",
          "y0": 4.368334120294092,
          "y1": 4.368334120294092,
          "yref": "y"
         },
         {
          "line": {
           "color": "#2ca02c",
           "dash": "dash",
           "width": 2
          },
          "type": "line",
          "x0": 0,
          "x1": 1,
          "xref": "x domain",
          "y0": 1.2367916759507616,
          "y1": 1.2367916759507616,
          "yref": "y"
         }
        ],
        "template": {
         "data": {
          "bar": [
           {
            "error_x": {
             "color": "#2a3f5f"
            },
            "error_y": {
             "color": "#2a3f5f"
            },
            "marker": {
             "line": {
              "color": "#E5ECF6",
              "width": 0.5
             },
             "pattern": {
              "fillmode": "overlay",
              "size": 10,
              "solidity": 0.2
             }
            },
            "type": "bar"
           }
          ],
          "barpolar": [
           {
            "marker": {
             "line": {
              "color": "#E5ECF6",
              "width": 0.5
             },
             "pattern": {
              "fillmode": "overlay",
              "size": 10,
              "solidity": 0.2
             }
            },
            "type": "barpolar"
           }
          ],
          "carpet": [
           {
            "aaxis": {
             "endlinecolor": "#2a3f5f",
             "gridcolor": "white",
             "linecolor": "white",
             "minorgridcolor": "white",
             "startlinecolor": "#2a3f5f"
            },
            "baxis": {
             "endlinecolor": "#2a3f5f",
             "gridcolor": "white",
             "linecolor": "white",
             "minorgridcolor": "white",
             "startlinecolor": "#2a3f5f"
            },
            "type": "carpet"
           }
          ],
          "choropleth": [
           {
            "colorbar": {
             "outlinewidth": 0,
             "ticks": ""
            },
            "type": "choropleth"
           }
          ],
          "contour": [
           {
            "colorbar": {
             "outlinewidth": 0,
             "ticks": ""
            },
            "colorscale": [
             [
              0,
              "#0d0887"
             ],
             [
              0.1111111111111111,
              "#46039f"
             ],
             [
              0.2222222222222222,
              "#7201a8"
             ],
             [
              0.3333333333333333,
              "#9c179e"
             ],
             [
              0.4444444444444444,
              "#bd3786"
             ],
             [
              0.5555555555555556,
              "#d8576b"
             ],
             [
              0.6666666666666666,
              "#ed7953"
             ],
             [
              0.7777777777777778,
              "#fb9f3a"
             ],
             [
              0.8888888888888888,
              "#fdca26"
             ],
             [
              1,
              "#f0f921"
             ]
            ],
            "type": "contour"
           }
          ],
          "contourcarpet": [
           {
            "colorbar": {
             "outlinewidth": 0,
             "ticks": ""
            },
            "type": "contourcarpet"
           }
          ],
          "heatmap": [
           {
            "colorbar": {
             "outlinewidth": 0,
             "ticks": ""
            },
            "colorscale": [
             [
              0,
              "#0d0887"
             ],
             [
              0.1111111111111111,
              "#46039f"
             ],
             [
              0.2222222222222222,
              "#7201a8"
             ],
             [
              0.3333333333333333,
              "#9c179e"
             ],
             [
              0.4444444444444444,
              "#bd3786"
             ],
             [
              0.5555555555555556,
              "#d8576b"
             ],
             [
              0.6666666666666666,
              "#ed7953"
             ],
             [
              0.7777777777777778,
              "#fb9f3a"
             ],
             [
              0.8888888888888888,
              "#fdca26"
             ],
             [
              1,
              "#f0f921"
             ]
            ],
            "type": "heatmap"
           }
          ],
          "heatmapgl": [
           {
            "colorbar": {
             "outlinewidth": 0,
             "ticks": ""
            },
            "colorscale": [
             [
              0,
              "#0d0887"
             ],
             [
              0.1111111111111111,
              "#46039f"
             ],
             [
              0.2222222222222222,
              "#7201a8"
             ],
             [
              0.3333333333333333,
              "#9c179e"
             ],
             [
              0.4444444444444444,
              "#bd3786"
             ],
             [
              0.5555555555555556,
              "#d8576b"
             ],
             [
              0.6666666666666666,
              "#ed7953"
             ],
             [
              0.7777777777777778,
              "#fb9f3a"
             ],
             [
              0.8888888888888888,
              "#fdca26"
             ],
             [
              1,
              "#f0f921"
             ]
            ],
            "type": "heatmapgl"
           }
          ],
          "histogram": [
           {
            "marker": {
             "pattern": {
              "fillmode": "overlay",
              "size": 10,
              "solidity": 0.2
             }
            },
            "type": "histogram"
           }
          ],
          "histogram2d": [
           {
            "colorbar": {
             "outlinewidth": 0,
             "ticks": ""
            },
            "colorscale": [
             [
              0,
              "#0d0887"
             ],
             [
              0.1111111111111111,
              "#46039f"
             ],
             [
              0.2222222222222222,
              "#7201a8"
             ],
             [
              0.3333333333333333,
              "#9c179e"
             ],
             [
              0.4444444444444444,
              "#bd3786"
             ],
             [
              0.5555555555555556,
              "#d8576b"
             ],
             [
              0.6666666666666666,
              "#ed7953"
             ],
             [
              0.7777777777777778,
              "#fb9f3a"
             ],
             [
              0.8888888888888888,
              "#fdca26"
             ],
             [
              1,
              "#f0f921"
             ]
            ],
            "type": "histogram2d"
           }
          ],
          "histogram2dcontour": [
           {
            "colorbar": {
             "outlinewidth": 0,
             "ticks": ""
            },
            "colorscale": [
             [
              0,
              "#0d0887"
             ],
             [
              0.1111111111111111,
              "#46039f"
             ],
             [
              0.2222222222222222,
              "#7201a8"
             ],
             [
              0.3333333333333333,
              "#9c179e"
             ],
             [
              0.4444444444444444,
              "#bd3786"
             ],
             [
              0.5555555555555556,
              "#d8576b"
             ],
             [
              0.6666666666666666,
              "#ed7953"
             ],
             [
              0.7777777777777778,
              "#fb9f3a"
             ],
             [
              0.8888888888888888,
              "#fdca26"
             ],
             [
              1,
              "#f0f921"
             ]
            ],
            "type": "histogram2dcontour"
           }
          ],
          "mesh3d": [
           {
            "colorbar": {
             "outlinewidth": 0,
             "ticks": ""
            },
            "type": "mesh3d"
           }
          ],
          "parcoords": [
           {
            "line": {
             "colorbar": {
              "outlinewidth": 0,
              "ticks": ""
             }
            },
            "type": "parcoords"
           }
          ],
          "pie": [
           {
            "automargin": true,
            "type": "pie"
           }
          ],
          "scatter": [
           {
            "fillpattern": {
             "fillmode": "overlay",
             "size": 10,
             "solidity": 0.2
            },
            "type": "scatter"
           }
          ],
          "scatter3d": [
           {
            "line": {
             "colorbar": {
              "outlinewidth": 0,
              "ticks": ""
             }
            },
            "marker": {
             "colorbar": {
              "outlinewidth": 0,
              "ticks": ""
             }
            },
            "type": "scatter3d"
           }
          ],
          "scattercarpet": [
           {
            "marker": {
             "colorbar": {
              "outlinewidth": 0,
              "ticks": ""
             }
            },
            "type": "scattercarpet"
           }
          ],
          "scattergeo": [
           {
            "marker": {
             "colorbar": {
              "outlinewidth": 0,
              "ticks": ""
             }
            },
            "type": "scattergeo"
           }
          ],
          "scattergl": [
           {
            "marker": {
             "colorbar": {
              "outlinewidth": 0,
              "ticks": ""
             }
            },
            "type": "scattergl"
           }
          ],
          "scattermapbox": [
           {
            "marker": {
             "colorbar": {
              "outlinewidth": 0,
              "ticks": ""
             }
            },
            "type": "scattermapbox"
           }
          ],
          "scatterpolar": [
           {
            "marker": {
             "colorbar": {
              "outlinewidth": 0,
              "ticks": ""
             }
            },
            "type": "scatterpolar"
           }
          ],
          "scatterpolargl": [
           {
            "marker": {
             "colorbar": {
              "outlinewidth": 0,
              "ticks": ""
             }
            },
            "type": "scatterpolargl"
           }
          ],
          "scatterternary": [
           {
            "marker": {
             "colorbar": {
              "outlinewidth": 0,
              "ticks": ""
             }
            },
            "type": "scatterternary"
           }
          ],
          "surface": [
           {
            "colorbar": {
             "outlinewidth": 0,
             "ticks": ""
            },
            "colorscale": [
             [
              0,
              "#0d0887"
             ],
             [
              0.1111111111111111,
              "#46039f"
             ],
             [
              0.2222222222222222,
              "#7201a8"
             ],
             [
              0.3333333333333333,
              "#9c179e"
             ],
             [
              0.4444444444444444,
              "#bd3786"
             ],
             [
              0.5555555555555556,
              "#d8576b"
             ],
             [
              0.6666666666666666,
              "#ed7953"
             ],
             [
              0.7777777777777778,
              "#fb9f3a"
             ],
             [
              0.8888888888888888,
              "#fdca26"
             ],
             [
              1,
              "#f0f921"
             ]
            ],
            "type": "surface"
           }
          ],
          "table": [
           {
            "cells": {
             "fill": {
              "color": "#EBF0F8"
             },
             "line": {
              "color": "white"
             }
            },
            "header": {
             "fill": {
              "color": "#C8D4E3"
             },
             "line": {
              "color": "white"
             }
            },
            "type": "table"
           }
          ]
         },
         "layout": {
          "annotationdefaults": {
           "arrowcolor": "#2a3f5f",
           "arrowhead": 0,
           "arrowwidth": 1
          },
          "autotypenumbers": "strict",
          "coloraxis": {
           "colorbar": {
            "outlinewidth": 0,
            "ticks": ""
           }
          },
          "colorscale": {
           "diverging": [
            [
             0,
             "#8e0152"
            ],
            [
             0.1,
             "#c51b7d"
            ],
            [
             0.2,
             "#de77ae"
            ],
            [
             0.3,
             "#f1b6da"
            ],
            [
             0.4,
             "#fde0ef"
            ],
            [
             0.5,
             "#f7f7f7"
            ],
            [
             0.6,
             "#e6f5d0"
            ],
            [
             0.7,
             "#b8e186"
            ],
            [
             0.8,
             "#7fbc41"
            ],
            [
             0.9,
             "#4d9221"
            ],
            [
             1,
             "#276419"
            ]
           ],
           "sequential": [
            [
             0,
             "#0d0887"
            ],
            [
             0.1111111111111111,
             "#46039f"
            ],
            [
             0.2222222222222222,
             "#7201a8"
            ],
            [
             0.3333333333333333,
             "#9c179e"
            ],
            [
             0.4444444444444444,
             "#bd3786"
            ],
            [
             0.5555555555555556,
             "#d8576b"
            ],
            [
             0.6666666666666666,
             "#ed7953"
            ],
            [
             0.7777777777777778,
             "#fb9f3a"
            ],
            [
             0.8888888888888888,
             "#fdca26"
            ],
            [
             1,
             "#f0f921"
            ]
           ],
           "sequentialminus": [
            [
             0,
             "#0d0887"
            ],
            [
             0.1111111111111111,
             "#46039f"
            ],
            [
             0.2222222222222222,
             "#7201a8"
            ],
            [
             0.3333333333333333,
             "#9c179e"
            ],
            [
             0.4444444444444444,
             "#bd3786"
            ],
            [
             0.5555555555555556,
             "#d8576b"
            ],
            [
             0.6666666666666666,
             "#ed7953"
            ],
            [
             0.7777777777777778,
             "#fb9f3a"
            ],
            [
             0.8888888888888888,
             "#fdca26"
            ],
            [
             1,
             "#f0f921"
            ]
           ]
          },
          "colorway": [
           "#636efa",
           "#EF553B",
           "#00cc96",
           "#ab63fa",
           "#FFA15A",
           "#19d3f3",
           "#FF6692",
           "#B6E880",
           "#FF97FF",
           "#FECB52"
          ],
          "font": {
           "color": "#2a3f5f"
          },
          "geo": {
           "bgcolor": "white",
           "lakecolor": "white",
           "landcolor": "#E5ECF6",
           "showlakes": true,
           "showland": true,
           "subunitcolor": "white"
          },
          "hoverlabel": {
           "align": "left"
          },
          "hovermode": "closest",
          "mapbox": {
           "style": "light"
          },
          "paper_bgcolor": "white",
          "plot_bgcolor": "#E5ECF6",
          "polar": {
           "angularaxis": {
            "gridcolor": "white",
            "linecolor": "white",
            "ticks": ""
           },
           "bgcolor": "#E5ECF6",
           "radialaxis": {
            "gridcolor": "white",
            "linecolor": "white",
            "ticks": ""
           }
          },
          "scene": {
           "xaxis": {
            "backgroundcolor": "#E5ECF6",
            "gridcolor": "white",
            "gridwidth": 2,
            "linecolor": "white",
            "showbackground": true,
            "ticks": "",
            "zerolinecolor": "white"
           },
           "yaxis": {
            "backgroundcolor": "#E5ECF6",
            "gridcolor": "white",
            "gridwidth": 2,
            "linecolor": "white",
            "showbackground": true,
            "ticks": "",
            "zerolinecolor": "white"
           },
           "zaxis": {
            "backgroundcolor": "#E5ECF6",
            "gridcolor": "white",
            "gridwidth": 2,
            "linecolor": "white",
            "showbackground": true,
            "ticks": "",
            "zerolinecolor": "white"
           }
          },
          "shapedefaults": {
           "line": {
            "color": "#2a3f5f"
           }
          },
          "ternary": {
           "aaxis": {
            "gridcolor": "white",
            "linecolor": "white",
            "ticks": ""
           },
           "baxis": {
            "gridcolor": "white",
            "linecolor": "white",
            "ticks": ""
           },
           "bgcolor": "#E5ECF6",
           "caxis": {
            "gridcolor": "white",
            "linecolor": "white",
            "ticks": ""
           }
          },
          "title": {
           "x": 0.05
          },
          "xaxis": {
           "automargin": true,
           "gridcolor": "white",
           "linecolor": "white",
           "ticks": "",
           "title": {
            "standoff": 15
           },
           "zerolinecolor": "white",
           "zerolinewidth": 2
          },
          "yaxis": {
           "automargin": true,
           "gridcolor": "white",
           "linecolor": "white",
           "ticks": "",
           "title": {
            "standoff": 15
           },
           "zerolinecolor": "white",
           "zerolinewidth": 2
          }
         }
        },
        "width": 800,
        "xaxis": {
         "anchor": "y",
         "domain": [
          0,
          1
         ],
         "dtick": 172800000,
         "gridcolor": "gainsboro",
         "gridwidth": 1,
         "layer": "above traces",
         "linecolor": "black",
         "linewidth": 1,
         "minor": {
          "dtick": 86400000,
          "tickcolor": "grey",
          "ticklen": 4,
          "ticks": "inside",
          "tickwidth": 1
         },
         "mirror": true,
         "range": [
          "2018-11-08T16:00:00",
          "2018-11-25T12:00:00"
         ],
         "showline": true,
         "showticklabels": true,
         "tick0": "2018-11-9",
         "tickangle": 0,
         "tickcolor": "grey",
         "tickfont": {
          "color": "black",
          "family": "Arial",
          "size": 14
         },
         "ticklen": 9,
         "ticks": "inside",
         "tickwidth": 2,
         "title": {
          "text": "$\\text{Date}$"
         }
        },
        "yaxis": {
         "anchor": "x",
         "domain": [
          0,
          1
         ],
         "exponentformat": "power",
         "gridcolor": "gainsboro",
         "gridwidth": 1,
         "layer": "above traces",
         "linecolor": "black",
         "linewidth": 1,
         "mirror": "allticks",
         "showline": true,
         "showticklabels": true,
         "tickcolor": "black",
         "tickfont": {
          "color": "black",
          "family": "Arial",
          "size": 14
         },
         "ticks": "inside",
         "tickwidth": 1,
         "title": {
          "text": "$\\text{Adjusted CDs}$"
         },
         "type": "linear"
        }
       }
      },
      "text/html": [
       "<div>                            <div id=\"cca6fcb7-1ea9-4162-ae9e-d96d14dc2ea3\" class=\"plotly-graph-div\" style=\"height:500px; width:800px;\"></div>            <script type=\"text/javascript\">                require([\"plotly\"], function(Plotly) {                    window.PLOTLYENV=window.PLOTLYENV || {};                                    if (document.getElementById(\"cca6fcb7-1ea9-4162-ae9e-d96d14dc2ea3\")) {                    Plotly.newPlot(                        \"cca6fcb7-1ea9-4162-ae9e-d96d14dc2ea3\",                        [{\"marker\":{\"color\":\"#2ca02c\",\"size\":10},\"mode\":\"markers\",\"name\":\"msis2\",\"opacity\":0.8,\"showlegend\":false,\"x\":[\"2018-11-10T00:00:00\",\"2018-11-11T00:00:00\",\"2018-11-12T00:00:00\",\"2018-11-13T00:00:00\",\"2018-11-14T00:00:00\",\"2018-11-15T00:00:00\",\"2018-11-16T00:00:00\",\"2018-11-17T00:00:00\",\"2018-11-18T00:00:00\",\"2018-11-19T00:00:00\",\"2018-11-20T00:00:00\",\"2018-11-21T00:00:00\",\"2018-11-22T00:00:00\",\"2018-11-23T00:00:00\",\"2018-11-24T00:00:00\"],\"y\":[1.141408010057007,1.406769633530642,1.284208077226555,1.169983254441433,1.210619052389569,1.137847018022287,1.108300228080036,1.147677171933094,1.16267888601189,1.212193846684363,1.289333329883392,1.411807568199779,1.402866983124891,1.294039361566717,1.172142718109767],\"type\":\"scattergl\",\"xaxis\":\"x\",\"yaxis\":\"y\"},{\"marker\":{\"color\":\"#17becf\",\"size\":10},\"mode\":\"markers\",\"name\":\"tiegcm_oc\",\"opacity\":0.8,\"showlegend\":false,\"x\":[\"2018-11-10T00:00:00\",\"2018-11-11T00:00:00\",\"2018-11-12T00:00:00\",\"2018-11-13T00:00:00\",\"2018-11-14T00:00:00\",\"2018-11-15T00:00:00\",\"2018-11-16T00:00:00\",\"2018-11-17T00:00:00\",\"2018-11-18T00:00:00\",\"2018-11-19T00:00:00\",\"2018-11-20T00:00:00\",\"2018-11-21T00:00:00\",\"2018-11-22T00:00:00\",\"2018-11-23T00:00:00\",\"2018-11-24T00:00:00\"],\"y\":[1.218427683552292,1.569094016422191,1.272813438590714,1.294624786304848,1.236960850504519,1.208134348414784,1.177577808306559,1.221982347349428,1.263271001342052,1.423049428779497,1.584363626182575,1.667662390070531,1.652340347762793,1.44401170525317,1.359925907434667],\"type\":\"scattergl\",\"xaxis\":\"x\",\"yaxis\":\"y\"},{\"marker\":{\"color\":\"#d62728\",\"size\":10},\"mode\":\"markers\",\"name\":\"dtm2020_o\",\"opacity\":0.8,\"showlegend\":false,\"x\":[\"2018-11-10T00:00:00\",\"2018-11-11T00:00:00\",\"2018-11-12T00:00:00\",\"2018-11-13T00:00:00\",\"2018-11-14T00:00:00\",\"2018-11-15T00:00:00\",\"2018-11-16T00:00:00\",\"2018-11-17T00:00:00\",\"2018-11-18T00:00:00\",\"2018-11-19T00:00:00\",\"2018-11-20T00:00:00\",\"2018-11-21T00:00:00\",\"2018-11-22T00:00:00\",\"2018-11-23T00:00:00\",\"2018-11-24T00:00:00\"],\"y\":[3.012315008677562,3.224173406742127,3.067925032325596,3.052694319260217,3.138406800128303,3.432260872861406,3.090730583507857,3.310681815226386,3.288704559551377,3.478733228307716,3.536576676612174,3.630923200759329,3.897036791529059,3.691684379515606,3.419083803828376],\"type\":\"scattergl\",\"xaxis\":\"x\",\"yaxis\":\"y\"},{\"marker\":{\"color\":\"#ff7f0e\",\"size\":10},\"mode\":\"markers\",\"name\":\"jb2008\",\"opacity\":0.8,\"showlegend\":false,\"x\":[\"2018-11-10T00:00:00\",\"2018-11-11T00:00:00\",\"2018-11-12T00:00:00\",\"2018-11-13T00:00:00\",\"2018-11-14T00:00:00\",\"2018-11-15T00:00:00\",\"2018-11-16T00:00:00\",\"2018-11-17T00:00:00\",\"2018-11-18T00:00:00\",\"2018-11-19T00:00:00\",\"2018-11-20T00:00:00\",\"2018-11-21T00:00:00\",\"2018-11-22T00:00:00\",\"2018-11-23T00:00:00\",\"2018-11-24T00:00:00\"],\"y\":[1.933503927028229,1.998605174727161,1.754702475611656,1.673698427387226,1.888132899430373,1.866236733398088,1.999976042786147,1.858268013941426,1.926766008784943,1.99986831141986,1.923157664189588,1.991990365616627,2.003633857167284,1.949419598351084,1.863706516499383],\"type\":\"scattergl\",\"xaxis\":\"x\",\"yaxis\":\"y\"},{\"marker\":{\"color\":\"#1f77b4\",\"size\":10},\"mode\":\"markers\",\"name\":\"hasdm_oc\",\"opacity\":0.8,\"showlegend\":false,\"x\":[\"2018-11-10T00:00:00\",\"2018-11-11T00:00:00\",\"2018-11-12T00:00:00\",\"2018-11-13T00:00:00\",\"2018-11-14T00:00:00\",\"2018-11-15T00:00:00\",\"2018-11-16T00:00:00\",\"2018-11-17T00:00:00\",\"2018-11-18T00:00:00\",\"2018-11-19T00:00:00\",\"2018-11-20T00:00:00\",\"2018-11-21T00:00:00\",\"2018-11-22T00:00:00\",\"2018-11-23T00:00:00\",\"2018-11-24T00:00:00\"],\"y\":[2.055836825634221,2.072041407619885,2.113511047862945,2.08307730586403,2.119587258338188,2.07880705926563,2.120820216050085,2.164276542024689,2.094078954731644,2.063386106306891,2.038030890116944,2.046243864211217,2.071362190221922,1.981965530978679,2.039138261245357],\"type\":\"scattergl\",\"xaxis\":\"x\",\"yaxis\":\"y\"},{\"marker\":{\"color\":\"#9467bd\",\"size\":10},\"mode\":\"markers\",\"name\":\"ctipe_oc\",\"opacity\":0.8,\"showlegend\":false,\"x\":[\"2018-11-10T00:00:00\",\"2018-11-11T00:00:00\",\"2018-11-12T00:00:00\",\"2018-11-13T00:00:00\",\"2018-11-14T00:00:00\",\"2018-11-15T00:00:00\",\"2018-11-16T00:00:00\",\"2018-11-17T00:00:00\",\"2018-11-18T00:00:00\",\"2018-11-19T00:00:00\",\"2018-11-20T00:00:00\",\"2018-11-21T00:00:00\",\"2018-11-22T00:00:00\",\"2018-11-23T00:00:00\",\"2018-11-24T00:00:00\"],\"y\":[4.055422865774214,4.801178170443011,4.408560783920278,4.130545463182877,4.295386105778497,4.086693442971342,4.161859919029518,4.285513394981066,4.248686792780874,4.315651957083175,4.30060360018131,4.707906459087739,4.730592010664627,4.547882814112686,4.448528024420171],\"type\":\"scattergl\",\"xaxis\":\"x\",\"yaxis\":\"y\"}],                        {\"template\":{\"data\":{\"histogram2dcontour\":[{\"type\":\"histogram2dcontour\",\"colorbar\":{\"outlinewidth\":0,\"ticks\":\"\"},\"colorscale\":[[0.0,\"#0d0887\"],[0.1111111111111111,\"#46039f\"],[0.2222222222222222,\"#7201a8\"],[0.3333333333333333,\"#9c179e\"],[0.4444444444444444,\"#bd3786\"],[0.5555555555555556,\"#d8576b\"],[0.6666666666666666,\"#ed7953\"],[0.7777777777777778,\"#fb9f3a\"],[0.8888888888888888,\"#fdca26\"],[1.0,\"#f0f921\"]]}],\"choropleth\":[{\"type\":\"choropleth\",\"colorbar\":{\"outlinewidth\":0,\"ticks\":\"\"}}],\"histogram2d\":[{\"type\":\"histogram2d\",\"colorbar\":{\"outlinewidth\":0,\"ticks\":\"\"},\"colorscale\":[[0.0,\"#0d0887\"],[0.1111111111111111,\"#46039f\"],[0.2222222222222222,\"#7201a8\"],[0.3333333333333333,\"#9c179e\"],[0.4444444444444444,\"#bd3786\"],[0.5555555555555556,\"#d8576b\"],[0.6666666666666666,\"#ed7953\"],[0.7777777777777778,\"#fb9f3a\"],[0.8888888888888888,\"#fdca26\"],[1.0,\"#f0f921\"]]}],\"heatmap\":[{\"type\":\"heatmap\",\"colorbar\":{\"outlinewidth\":0,\"ticks\":\"\"},\"colorscale\":[[0.0,\"#0d0887\"],[0.1111111111111111,\"#46039f\"],[0.2222222222222222,\"#7201a8\"],[0.3333333333333333,\"#9c179e\"],[0.4444444444444444,\"#bd3786\"],[0.5555555555555556,\"#d8576b\"],[0.6666666666666666,\"#ed7953\"],[0.7777777777777778,\"#fb9f3a\"],[0.8888888888888888,\"#fdca26\"],[1.0,\"#f0f921\"]]}],\"heatmapgl\":[{\"type\":\"heatmapgl\",\"colorbar\":{\"outlinewidth\":0,\"ticks\":\"\"},\"colorscale\":[[0.0,\"#0d0887\"],[0.1111111111111111,\"#46039f\"],[0.2222222222222222,\"#7201a8\"],[0.3333333333333333,\"#9c179e\"],[0.4444444444444444,\"#bd3786\"],[0.5555555555555556,\"#d8576b\"],[0.6666666666666666,\"#ed7953\"],[0.7777777777777778,\"#fb9f3a\"],[0.8888888888888888,\"#fdca26\"],[1.0,\"#f0f921\"]]}],\"contourcarpet\":[{\"type\":\"contourcarpet\",\"colorbar\":{\"outlinewidth\":0,\"ticks\":\"\"}}],\"contour\":[{\"type\":\"contour\",\"colorbar\":{\"outlinewidth\":0,\"ticks\":\"\"},\"colorscale\":[[0.0,\"#0d0887\"],[0.1111111111111111,\"#46039f\"],[0.2222222222222222,\"#7201a8\"],[0.3333333333333333,\"#9c179e\"],[0.4444444444444444,\"#bd3786\"],[0.5555555555555556,\"#d8576b\"],[0.6666666666666666,\"#ed7953\"],[0.7777777777777778,\"#fb9f3a\"],[0.8888888888888888,\"#fdca26\"],[1.0,\"#f0f921\"]]}],\"surface\":[{\"type\":\"surface\",\"colorbar\":{\"outlinewidth\":0,\"ticks\":\"\"},\"colorscale\":[[0.0,\"#0d0887\"],[0.1111111111111111,\"#46039f\"],[0.2222222222222222,\"#7201a8\"],[0.3333333333333333,\"#9c179e\"],[0.4444444444444444,\"#bd3786\"],[0.5555555555555556,\"#d8576b\"],[0.6666666666666666,\"#ed7953\"],[0.7777777777777778,\"#fb9f3a\"],[0.8888888888888888,\"#fdca26\"],[1.0,\"#f0f921\"]]}],\"mesh3d\":[{\"type\":\"mesh3d\",\"colorbar\":{\"outlinewidth\":0,\"ticks\":\"\"}}],\"scatter\":[{\"fillpattern\":{\"fillmode\":\"overlay\",\"size\":10,\"solidity\":0.2},\"type\":\"scatter\"}],\"parcoords\":[{\"type\":\"parcoords\",\"line\":{\"colorbar\":{\"outlinewidth\":0,\"ticks\":\"\"}}}],\"scatterpolargl\":[{\"type\":\"scatterpolargl\",\"marker\":{\"colorbar\":{\"outlinewidth\":0,\"ticks\":\"\"}}}],\"bar\":[{\"error_x\":{\"color\":\"#2a3f5f\"},\"error_y\":{\"color\":\"#2a3f5f\"},\"marker\":{\"line\":{\"color\":\"#E5ECF6\",\"width\":0.5},\"pattern\":{\"fillmode\":\"overlay\",\"size\":10,\"solidity\":0.2}},\"type\":\"bar\"}],\"scattergeo\":[{\"type\":\"scattergeo\",\"marker\":{\"colorbar\":{\"outlinewidth\":0,\"ticks\":\"\"}}}],\"scatterpolar\":[{\"type\":\"scatterpolar\",\"marker\":{\"colorbar\":{\"outlinewidth\":0,\"ticks\":\"\"}}}],\"histogram\":[{\"marker\":{\"pattern\":{\"fillmode\":\"overlay\",\"size\":10,\"solidity\":0.2}},\"type\":\"histogram\"}],\"scattergl\":[{\"type\":\"scattergl\",\"marker\":{\"colorbar\":{\"outlinewidth\":0,\"ticks\":\"\"}}}],\"scatter3d\":[{\"type\":\"scatter3d\",\"line\":{\"colorbar\":{\"outlinewidth\":0,\"ticks\":\"\"}},\"marker\":{\"colorbar\":{\"outlinewidth\":0,\"ticks\":\"\"}}}],\"scattermapbox\":[{\"type\":\"scattermapbox\",\"marker\":{\"colorbar\":{\"outlinewidth\":0,\"ticks\":\"\"}}}],\"scatterternary\":[{\"type\":\"scatterternary\",\"marker\":{\"colorbar\":{\"outlinewidth\":0,\"ticks\":\"\"}}}],\"scattercarpet\":[{\"type\":\"scattercarpet\",\"marker\":{\"colorbar\":{\"outlinewidth\":0,\"ticks\":\"\"}}}],\"carpet\":[{\"aaxis\":{\"endlinecolor\":\"#2a3f5f\",\"gridcolor\":\"white\",\"linecolor\":\"white\",\"minorgridcolor\":\"white\",\"startlinecolor\":\"#2a3f5f\"},\"baxis\":{\"endlinecolor\":\"#2a3f5f\",\"gridcolor\":\"white\",\"linecolor\":\"white\",\"minorgridcolor\":\"white\",\"startlinecolor\":\"#2a3f5f\"},\"type\":\"carpet\"}],\"table\":[{\"cells\":{\"fill\":{\"color\":\"#EBF0F8\"},\"line\":{\"color\":\"white\"}},\"header\":{\"fill\":{\"color\":\"#C8D4E3\"},\"line\":{\"color\":\"white\"}},\"type\":\"table\"}],\"barpolar\":[{\"marker\":{\"line\":{\"color\":\"#E5ECF6\",\"width\":0.5},\"pattern\":{\"fillmode\":\"overlay\",\"size\":10,\"solidity\":0.2}},\"type\":\"barpolar\"}],\"pie\":[{\"automargin\":true,\"type\":\"pie\"}]},\"layout\":{\"autotypenumbers\":\"strict\",\"colorway\":[\"#636efa\",\"#EF553B\",\"#00cc96\",\"#ab63fa\",\"#FFA15A\",\"#19d3f3\",\"#FF6692\",\"#B6E880\",\"#FF97FF\",\"#FECB52\"],\"font\":{\"color\":\"#2a3f5f\"},\"hovermode\":\"closest\",\"hoverlabel\":{\"align\":\"left\"},\"paper_bgcolor\":\"white\",\"plot_bgcolor\":\"#E5ECF6\",\"polar\":{\"bgcolor\":\"#E5ECF6\",\"angularaxis\":{\"gridcolor\":\"white\",\"linecolor\":\"white\",\"ticks\":\"\"},\"radialaxis\":{\"gridcolor\":\"white\",\"linecolor\":\"white\",\"ticks\":\"\"}},\"ternary\":{\"bgcolor\":\"#E5ECF6\",\"aaxis\":{\"gridcolor\":\"white\",\"linecolor\":\"white\",\"ticks\":\"\"},\"baxis\":{\"gridcolor\":\"white\",\"linecolor\":\"white\",\"ticks\":\"\"},\"caxis\":{\"gridcolor\":\"white\",\"linecolor\":\"white\",\"ticks\":\"\"}},\"coloraxis\":{\"colorbar\":{\"outlinewidth\":0,\"ticks\":\"\"}},\"colorscale\":{\"sequential\":[[0.0,\"#0d0887\"],[0.1111111111111111,\"#46039f\"],[0.2222222222222222,\"#7201a8\"],[0.3333333333333333,\"#9c179e\"],[0.4444444444444444,\"#bd3786\"],[0.5555555555555556,\"#d8576b\"],[0.6666666666666666,\"#ed7953\"],[0.7777777777777778,\"#fb9f3a\"],[0.8888888888888888,\"#fdca26\"],[1.0,\"#f0f921\"]],\"sequentialminus\":[[0.0,\"#0d0887\"],[0.1111111111111111,\"#46039f\"],[0.2222222222222222,\"#7201a8\"],[0.3333333333333333,\"#9c179e\"],[0.4444444444444444,\"#bd3786\"],[0.5555555555555556,\"#d8576b\"],[0.6666666666666666,\"#ed7953\"],[0.7777777777777778,\"#fb9f3a\"],[0.8888888888888888,\"#fdca26\"],[1.0,\"#f0f921\"]],\"diverging\":[[0,\"#8e0152\"],[0.1,\"#c51b7d\"],[0.2,\"#de77ae\"],[0.3,\"#f1b6da\"],[0.4,\"#fde0ef\"],[0.5,\"#f7f7f7\"],[0.6,\"#e6f5d0\"],[0.7,\"#b8e186\"],[0.8,\"#7fbc41\"],[0.9,\"#4d9221\"],[1,\"#276419\"]]},\"xaxis\":{\"gridcolor\":\"white\",\"linecolor\":\"white\",\"ticks\":\"\",\"title\":{\"standoff\":15},\"zerolinecolor\":\"white\",\"automargin\":true,\"zerolinewidth\":2},\"yaxis\":{\"gridcolor\":\"white\",\"linecolor\":\"white\",\"ticks\":\"\",\"title\":{\"standoff\":15},\"zerolinecolor\":\"white\",\"automargin\":true,\"zerolinewidth\":2},\"scene\":{\"xaxis\":{\"backgroundcolor\":\"#E5ECF6\",\"gridcolor\":\"white\",\"linecolor\":\"white\",\"showbackground\":true,\"ticks\":\"\",\"zerolinecolor\":\"white\",\"gridwidth\":2},\"yaxis\":{\"backgroundcolor\":\"#E5ECF6\",\"gridcolor\":\"white\",\"linecolor\":\"white\",\"showbackground\":true,\"ticks\":\"\",\"zerolinecolor\":\"white\",\"gridwidth\":2},\"zaxis\":{\"backgroundcolor\":\"#E5ECF6\",\"gridcolor\":\"white\",\"linecolor\":\"white\",\"showbackground\":true,\"ticks\":\"\",\"zerolinecolor\":\"white\",\"gridwidth\":2}},\"shapedefaults\":{\"line\":{\"color\":\"#2a3f5f\"}},\"annotationdefaults\":{\"arrowcolor\":\"#2a3f5f\",\"arrowhead\":0,\"arrowwidth\":1},\"geo\":{\"bgcolor\":\"white\",\"landcolor\":\"#E5ECF6\",\"subunitcolor\":\"white\",\"showland\":true,\"showlakes\":true,\"lakecolor\":\"white\"},\"title\":{\"x\":0.05},\"mapbox\":{\"style\":\"light\"}}},\"xaxis\":{\"anchor\":\"y\",\"domain\":[0.0,1.0],\"tickfont\":{\"family\":\"Arial\",\"size\":14,\"color\":\"black\"},\"minor\":{\"dtick\":86400000.0,\"tickwidth\":1,\"ticklen\":4,\"tickcolor\":\"grey\",\"ticks\":\"inside\"},\"showline\":true,\"showticklabels\":true,\"linecolor\":\"black\",\"linewidth\":1,\"ticks\":\"inside\",\"mirror\":true,\"tickwidth\":2,\"ticklen\":9,\"tickcolor\":\"grey\",\"tick0\":\"2018-11-9\",\"dtick\":172800000.0,\"gridcolor\":\"gainsboro\",\"gridwidth\":1,\"layer\":\"above traces\",\"tickangle\":0,\"title\":{\"text\":\"$\\\\text{Date}$\"},\"range\":[\"2018-11-08T16:00:00\",\"2018-11-25T12:00:00\"]},\"yaxis\":{\"anchor\":\"x\",\"domain\":[0.0,1.0],\"tickfont\":{\"family\":\"Arial\",\"size\":14,\"color\":\"black\"},\"showline\":true,\"showticklabels\":true,\"linecolor\":\"black\",\"linewidth\":1,\"ticks\":\"inside\",\"mirror\":\"allticks\",\"tickwidth\":1,\"tickcolor\":\"black\",\"gridcolor\":\"gainsboro\",\"gridwidth\":1,\"layer\":\"above traces\",\"title\":{\"text\":\"$\\\\text{Adjusted CDs}$\"},\"type\":\"linear\",\"exponentformat\":\"power\"},\"annotations\":[{\"align\":\"left\",\"bgcolor\":\"white\",\"bordercolor\":\"#2ca02c\",\"borderpad\":1.2,\"borderwidth\":1.2,\"font\":{\"color\":\"black\",\"family\":\"Arial\",\"size\":14},\"showarrow\":false,\"text\":\"MSISe2<br>Mean CD=1.24\",\"x\":1.1,\"xref\":\"x domain\",\"y\":0.9267916759507615,\"yref\":\"y\"},{\"align\":\"left\",\"bgcolor\":\"white\",\"bordercolor\":\"#17becf\",\"borderpad\":1.2,\"borderwidth\":1.2,\"font\":{\"color\":\"black\",\"family\":\"Arial\",\"size\":14},\"showarrow\":false,\"text\":\"TIEGCM<br>Mean CD=1.37\",\"x\":1.1,\"xref\":\"x domain\",\"y\":1.4729493124180415,\"yref\":\"y\"},{\"align\":\"left\",\"bgcolor\":\"white\",\"bordercolor\":\"#d62728\",\"borderpad\":1.2,\"borderwidth\":1.2,\"font\":{\"color\":\"black\",\"family\":\"Arial\",\"size\":14},\"showarrow\":false,\"text\":\"DTM2020<br>Mean CD=3.35\",\"x\":1.1,\"xref\":\"x domain\",\"y\":3.451462031922206,\"yref\":\"y\"},{\"align\":\"left\",\"bgcolor\":\"white\",\"bordercolor\":\"#ff7f0e\",\"borderpad\":1.2,\"borderwidth\":1.2,\"font\":{\"color\":\"black\",\"family\":\"Arial\",\"size\":14},\"showarrow\":false,\"text\":\"JB2008<br>Mean CD=1.91\",\"x\":1.1,\"xref\":\"x domain\",\"y\":2.028777734422605,\"yref\":\"y\"},{\"align\":\"left\",\"bgcolor\":\"white\",\"bordercolor\":\"#1f77b4\",\"borderpad\":1.2,\"borderwidth\":1.2,\"font\":{\"color\":\"black\",\"family\":\"Arial\",\"size\":14},\"showarrow\":false,\"text\":\"HASDM<br>Mean CD=2.08\",\"x\":1.1,\"xref\":\"x domain\",\"y\":2.576144230698155,\"yref\":\"y\"},{\"align\":\"left\",\"bgcolor\":\"white\",\"bordercolor\":\"#9467bd\",\"borderpad\":1.2,\"borderwidth\":1.2,\"font\":{\"color\":\"black\",\"family\":\"Arial\",\"size\":14},\"showarrow\":false,\"text\":\"CTIPe<br>Mean CD=4.37\",\"x\":1.1,\"xref\":\"x domain\",\"y\":4.368334120294092,\"yref\":\"y\"}],\"shapes\":[{\"line\":{\"color\":\"#17becf\",\"dash\":\"dash\",\"width\":2},\"type\":\"line\",\"x0\":0,\"x1\":1,\"xref\":\"x domain\",\"y0\":1.3729493124180414,\"y1\":1.3729493124180414,\"yref\":\"y\"},{\"line\":{\"color\":\"#d62728\",\"dash\":\"dash\",\"width\":2},\"type\":\"line\",\"x0\":0,\"x1\":1,\"xref\":\"x domain\",\"y0\":3.351462031922206,\"y1\":3.351462031922206,\"yref\":\"y\"},{\"line\":{\"color\":\"#ff7f0e\",\"dash\":\"dash\",\"width\":2},\"type\":\"line\",\"x0\":0,\"x1\":1,\"xref\":\"x domain\",\"y0\":1.908777734422605,\"y1\":1.908777734422605,\"yref\":\"y\"},{\"line\":{\"color\":\"#1f77b4\",\"dash\":\"dash\",\"width\":2},\"type\":\"line\",\"x0\":0,\"x1\":1,\"xref\":\"x domain\",\"y0\":2.076144230698155,\"y1\":2.076144230698155,\"yref\":\"y\"},{\"line\":{\"color\":\"#9467bd\",\"dash\":\"dash\",\"width\":2},\"type\":\"line\",\"x0\":0,\"x1\":1,\"xref\":\"x domain\",\"y0\":4.368334120294092,\"y1\":4.368334120294092,\"yref\":\"y\"},{\"line\":{\"color\":\"#2ca02c\",\"dash\":\"dash\",\"width\":2},\"type\":\"line\",\"x0\":0,\"x1\":1,\"xref\":\"x domain\",\"y0\":1.2367916759507616,\"y1\":1.2367916759507616,\"yref\":\"y\"}],\"legend\":{\"itemsizing\":\"trace\"},\"font\":{\"family\":\"Arial\",\"size\":14,\"color\":\"black\"},\"autosize\":false,\"width\":800,\"height\":500,\"plot_bgcolor\":\"white\"},                        {\"displayModeBar\": false, \"responsive\": false, \"staticPlot\": true, \"displaylogo\": false, \"showTips\": false}                    ).then(function(){\n",
       "                            \n",
       "var gd = document.getElementById('cca6fcb7-1ea9-4162-ae9e-d96d14dc2ea3');\n",
       "var x = new MutationObserver(function (mutations, observer) {{\n",
       "        var display = window.getComputedStyle(gd).display;\n",
       "        if (!display || display === 'none') {{\n",
       "            console.log([gd, 'removed!']);\n",
       "            Plotly.purge(gd);\n",
       "            observer.disconnect();\n",
       "        }}\n",
       "}});\n",
       "\n",
       "// Listen for the removal of the full notebook cells\n",
       "var notebookContainer = gd.closest('#notebook-container');\n",
       "if (notebookContainer) {{\n",
       "    x.observe(notebookContainer, {childList: true});\n",
       "}}\n",
       "\n",
       "// Listen for the clearing of the current output cell\n",
       "var outputEl = gd.closest('.output');\n",
       "if (outputEl) {{\n",
       "    x.observe(outputEl, {childList: true});\n",
       "}}\n",
       "\n",
       "                        })                };                });            </script>        </div>"
      ]
     },
     "metadata": {},
     "output_type": "display_data"
    }
   ],
   "source": [
    "satid = int(Obj['hasdm_oc'].__dict__['global_params']['SATID'])\n",
    "\n",
    "\n",
    "\n",
    "\n",
    "fig = make_subplots(rows=1, cols=1,\n",
    "#                     subplot_titles=([ ' ', ]),\n",
    "                    #                     \n",
    "                    specs=[[ {\"secondary_y\": False} ]],\n",
    "                    #\n",
    "                    vertical_spacing = 0.05,\n",
    "                    shared_xaxes=True)\n",
    "\n",
    "for plot_num, model in enumerate(run_list):\n",
    "    col = get_plot_params(plot_num, model)\n",
    "    plot\n",
    "    Cd_vals  = []\n",
    "    Cd_times = []\n",
    "    for iarc,valarc in enumerate(Obj[model].__dict__['global_params']['arc_input']):\n",
    "        arc = valarc+'.01'\n",
    "        iters = int(Obj[model].__dict__['run_parameters'+arc]['total_iterations'])\n",
    "\n",
    "        for itime in Obj[model].__dict__['AdjustedParams'][arc][iters][satid]['0CD'].keys():\n",
    "    #         print( Obj['msis2'].__dict__['AdjustedParams'][arc][iters][satid]['0CD'][itime]['CURRENT_VALUE'])\n",
    "            Cd_vals.append(Obj[model].__dict__['AdjustedParams'][arc][iters][satid]['0CD'][itime]['CURRENT_VALUE'])\n",
    "            Cd_times.append(itime)\n",
    "    Cd_mean = np.mean(Cd_vals)\n",
    "    print('MEAN CD FOR ',model, '-- Cd_mean=',Cd_mean,sep='')\n",
    "    \n",
    "    \n",
    "    fig.add_hline(y=Cd_mean, line = dict(dash='dash', color = col, width=2),\n",
    "                    )\n",
    "    \n",
    "    \n",
    "    \n",
    "    if model == 'msis2':\n",
    "        modelname = \"MSISe2\"\n",
    "        shift = -0.31\n",
    "    elif model == 'dtm2020_o':\n",
    "        modelname = \"DTM2020\"\n",
    "        shift=.1\n",
    "    elif model == 'jb2008':\n",
    "        modelname = \"JB2008\"\n",
    "        shift = .12\n",
    "    elif model == 'tiegcm_oc':\n",
    "        modelname = \"TIEGCM\"\n",
    "        shift = 0.1\n",
    "    elif model == 'hasdm_oc':\n",
    "        modelname = \"HASDM\"\n",
    "        shift = 0.5\n",
    "    elif model == 'ctipe_oc':\n",
    "        modelname = \"CTIPe\"\n",
    "        shift = 0\n",
    "\n",
    "    else:\n",
    "        shift=0\n",
    "        \n",
    "    fig.add_annotation(\n",
    "                y= Cd_mean+shift,\n",
    "#                 x= 1.158,\n",
    "                x= 1.1,\n",
    "                xref=\"x domain\", yref=\"y\",\n",
    "                showarrow=False,\n",
    "                text=modelname+\"<br>Mean CD=\"+str(np.round(Cd_mean,2)), \n",
    "                align = 'left',\n",
    "                bgcolor='white',\n",
    "                bordercolor=col,\n",
    "                borderwidth=1.2,\n",
    "                borderpad=1.2,\n",
    "                font=font_annot,\n",
    "                )\n",
    "    \n",
    "    fig.add_trace(go.Scattergl(x=Cd_times,\n",
    "                               y=Cd_vals,\n",
    "                               name= model,\n",
    "                               mode='markers',\n",
    "                               opacity=0.8,\n",
    "                                   marker=dict(color=col, size=10 ),\n",
    "    #                            line = dict(shape = 'hvh', color = 'cornflowerblue', width=1.5),\n",
    "                               showlegend=False),\n",
    "                               secondary_y=False,row=1, col=1)\n",
    "    \n",
    "\n",
    "fig.add_hline(y=1.2367916759507616, line = dict(dash='dash', color = col_msis2, width=2))\n",
    "\n",
    "\n",
    "fig.update_xaxes(### LINE at axis border\n",
    "                  showline=True,\n",
    "                  showticklabels=True,\n",
    "                  linecolor='black',\n",
    "                  linewidth=1,\n",
    "                 ### Major ticks\n",
    "                  ticks='inside',\n",
    "                  tickfont=font_dict,\n",
    "                  mirror=True,\n",
    "                  tickwidth=2,\n",
    "                  ticklen=9,\n",
    "                  tickcolor='grey',\n",
    "                  tick0=\"2018-11-9\" ,\n",
    "                  dtick=86400000.0*2,    # milliseconds in a day, every 7 days\n",
    "                  #### Minor Ticks\n",
    "                   minor=dict(\n",
    "                     dtick=86400000.0, # milliseconds in a day\n",
    "                     tickwidth=1,\n",
    "                     ticklen=4,\n",
    "                     tickcolor='grey',\n",
    "                     ticks='inside'),\n",
    "                  ### GRID\n",
    "                   gridcolor='gainsboro',\n",
    "                   gridwidth=1,\n",
    "                   layer='above traces',\n",
    "                   tickangle=0,\n",
    "                   row=1, col=1)\n",
    "fig.update_yaxes(showline=True,      # add line at x=0\n",
    "                     showticklabels=True,\n",
    "                     linecolor='black',  # line color\n",
    "                     linewidth=1,        # line size\n",
    "                 ticks='inside',     # ticks outside axis\n",
    "                 tickfont=font_dict, # tick label font\n",
    "                 mirror='allticks',  # add ticks to top/right axes\n",
    "                 tickwidth=1,      # tick width\n",
    "                 tickcolor='black',  # tick color\n",
    "                 gridcolor='gainsboro',\n",
    "                 gridwidth=1,\n",
    "                 layer='above traces',\n",
    "#                  range=[1,5],\n",
    "                 row=1, col=1)\n",
    "\n",
    "        ###\n",
    "fig.update_yaxes( title=r\"$\\text{Adjusted CDs}$\" ,type=\"linear\" , exponentformat= 'power',\n",
    "#                           range=yaxis4_range, \n",
    "                 row=1, col=1)\n",
    "###\n",
    "###  DATE on Final x-Axis only\n",
    "fig.update_xaxes(title=r\"$\\text{Date}$\", \n",
    "                 range=[pd.to_datetime( \"181108-160000\", format='%y%m%d-%H%M%S'),\n",
    "                        pd.to_datetime( \"181125-120000\", format='%y%m%d-%H%M%S')],\n",
    "                 row=1, col=1)\n",
    "# modelnames=[]\n",
    "# modelcolors = []\n",
    "# #### LEGEND ####\n",
    "# for model in run_dict.keys():\n",
    "#     if model == 'msis2':\n",
    "#         modelnames.append(\"MSISe2\")\n",
    "#         modelcolors.append(col_msis2)\n",
    "\n",
    "#     elif model == 'dtm2020':\n",
    "#         modelnames.append(\"DTM2020\")\n",
    "#         modelcolors.append(col_dtm2020)\n",
    "\n",
    "#     elif model == 'jb2008':\n",
    "#         modelnames.append(\"JB2008\")\n",
    "#         modelcolors.append(col_jb2008)\n",
    "\n",
    "#     elif model == 'tiegcm_oc':\n",
    "#         modelnames.append(\"TIEGCM\")\n",
    "#         modelcolors.append(col_tiegcm_oc)\n",
    "\n",
    "#     elif model == 'hasdm_oc':\n",
    "#         modelnames.append(\"HASDM\")\n",
    "#         modelcolors.append(col_hasdm_oc)\n",
    "\n",
    "#     elif model == 'ctipe_oc':\n",
    "#         modelnames.append(\"CTIPe\")\n",
    "#         modelcolors.append(col_ctipe_oc)\n",
    "\n",
    "\n",
    "\n",
    "# df = pd.DataFrame({\"starts_colors\": modelcolors\n",
    "#                                     })\n",
    "\n",
    "# fig.update_traces(showlegend=False).add_traces(\n",
    "#     [   go.Scattergl(name=modelnames[i], \n",
    "#                x=[pd.to_datetime( \"181109-000000\", format='%y%m%d-%H%M%S')],\n",
    "#                mode='lines',\n",
    "#                line = dict(shape = 'hv',  width=10),\n",
    "#                marker_color=c, \n",
    "#                showlegend=True)\n",
    "#         for i,c in enumerate((df.loc[:,[\"starts_colors\"]].values.ravel()))])\n",
    "\n",
    "# fig.update_layout(legend=dict(\n",
    "#     yanchor=\"middle\",\n",
    "#     y=0.5,\n",
    "#     xanchor=\"center\",\n",
    "#     x=1.2,\n",
    "# #     x=1.015,\n",
    "#         font=font_dict      ,\n",
    "#         bgcolor=\"white\",\n",
    "#         bordercolor=\"darkgrey\",\n",
    "#         borderwidth=0.8,\n",
    "#     )  )\n",
    "\n",
    "\n",
    "fig.update_layout(\n",
    "#                   title = '',\n",
    "                  autosize=False,    width=800,    height=500,\n",
    "                  legend= {'itemsizing': 'trace'},\n",
    "                  font=font_dict,\n",
    "                  plot_bgcolor='white', \n",
    "                 )\n",
    "fig.update_annotations(font_size=14)  # Increase size of subplot title\n",
    "\n",
    "fig.show( config=config )\n",
    "\n",
    "pio.write_image(fig, plots_dir+'AdjustCD_toScale_CDmeans.jpg', scale=3)\n"
   ]
  },
  {
   "cell_type": "code",
   "execution_count": 15,
   "id": "98be4a0a",
   "metadata": {
    "ExecuteTime": {
     "end_time": "2022-07-14T22:20:26.375439Z",
     "start_time": "2022-07-14T22:20:26.354384Z"
    }
   },
   "outputs": [
    {
     "data": {
      "text/plain": [
       "[4.055422865774214,\n",
       " 4.801178170443011,\n",
       " 4.408560783920278,\n",
       " 4.130545463182877,\n",
       " 4.295386105778497,\n",
       " 4.086693442971342,\n",
       " 4.161859919029518,\n",
       " 4.285513394981066,\n",
       " 4.248686792780874,\n",
       " 4.315651957083175,\n",
       " 4.30060360018131,\n",
       " 4.707906459087739,\n",
       " 4.730592010664627,\n",
       " 4.547882814112686,\n",
       " 4.448528024420171]"
      ]
     },
     "execution_count": 15,
     "metadata": {},
     "output_type": "execute_result"
    }
   ],
   "source": [
    "Cd_vals"
   ]
  },
  {
   "cell_type": "markdown",
   "id": "8b514232",
   "metadata": {},
   "source": [
    "# Plot Two Weeks  "
   ]
  },
  {
   "cell_type": "markdown",
   "id": "b0f11784",
   "metadata": {
    "ExecuteTime": {
     "end_time": "2022-05-12T21:36:37.950406Z",
     "start_time": "2022-05-12T21:36:37.923478Z"
    }
   },
   "source": [
    "## Model Validation Metrics\n"
   ]
  },
  {
   "cell_type": "code",
   "execution_count": null,
   "id": "e044adfe",
   "metadata": {
    "ExecuteTime": {
     "end_time": "2022-05-17T19:58:36.089781Z",
     "start_time": "2022-05-17T19:58:35.875986Z"
    }
   },
   "outputs": [],
   "source": []
  },
  {
   "cell_type": "code",
   "execution_count": 16,
   "id": "7fd74cdc",
   "metadata": {
    "ExecuteTime": {
     "end_time": "2022-07-14T22:20:26.439608Z",
     "start_time": "2022-07-14T22:20:26.376948Z"
    }
   },
   "outputs": [
    {
     "name": "stdout",
     "output_type": "stream",
     "text": [
      "The autoreload extension is already loaded. To reload it, use:\n",
      "  %reload_ext autoreload\n"
     ]
    }
   ],
   "source": [
    "%load_ext autoreload\n",
    "%autoreload 2\n",
    "\n",
    "\n",
    "\n",
    "yaxis1_range = [-0.23888888888888893, 4.538888888888889] #full_fig.layout.yaxis1.range\n",
    "yaxis2_range = [-13.7,  -12.6]# -12.882954062508686] #full_fig.layout.yaxis2.range\n",
    "yaxis3_range = [-100, 60] #full_fig.layout.yaxis3.range\n",
    "yaxis4_range = [-2, 43] #full_fig.layout.yaxis4.range\n",
    "\n",
    "def plot_all_nokp(fig, obj_m1, plot_num, solar_fluxes,    arc_listlist ):\n",
    "    \n",
    "\n",
    "    ####  Get plot Parameters for this model\n",
    "    model_m1 = obj_m1.__dict__['global_params']['den_model']\n",
    "    col = get_plot_params(plot_num, model_m1)\n",
    "    \n",
    "    #### -----------------------------------------------------------------------------------------------------\n",
    "    #### Solar Flux Plot\n",
    "    \n",
    "#     index1 = 21+1\n",
    "#     index2 = 37+1\n",
    "#     index3h_1 = 168+8\n",
    "#     index3h_2 = 289+8\n",
    "    \n",
    "#     if plot_num == 2 or plot_num == 0:\n",
    "#         index1 = 21\n",
    "#         index2 = 37\n",
    "#         index3h_1 = 168\n",
    "#         index3h_2 = 289\n",
    "\n",
    "#         fig.add_trace(go.Scatter(x=solar_fluxes['date'][index1:index2],\n",
    "#                                    y=solar_fluxes['f107d_list'][index1:index2],\n",
    "#                                    name= 'F107d',\n",
    "#                                    mode='lines',\n",
    "#                                    opacity=0.8,\n",
    "#     #                                marker=dict(color='cornflowerblue', size=2 ),\n",
    "#                                    line = dict(shape = 'hvh', color = 'cornflowerblue', width=1.5),\n",
    "#                                    showlegend=False),\n",
    "#                                    secondary_y=True,row=1, col=1)\n",
    "\n",
    "#         fig.add_trace(go.Scatter(x=solar_fluxes['date_3hr'][index3h_1:index3h_2],\n",
    "#                                    y=solar_fluxes['kp_expand'][index3h_1:index3h_2],\n",
    "#                                    name= 'Kp',\n",
    "#                                    mode='lines',\n",
    "#                                    opacity=1,\n",
    "#     #                                marker=dict(color='black',size=2),\n",
    "#                                    line = dict(shape = 'hvh', color = 'black', width=2),\n",
    "#                                    showlegend=False),\n",
    "#                                    secondary_y=False,row=1, col=1) \n",
    "        \n",
    "#         fig.add_vrect(x0=pd.to_datetime( str(2018312), format='%Y%j'),\n",
    "#                       x1=pd.to_datetime( str(2018313), format='%Y%j'),\n",
    "#                       fillcolor='gainsboro',\n",
    "#                       opacity=.6,\n",
    "#                       layer=\"below\",\n",
    "#                       line_width=0,\n",
    "#                      row=1,col=1)\n",
    "#         fig.add_vrect(x0=pd.to_datetime( str(2018328), format='%Y%j'),\n",
    "#                       x1=pd.to_datetime( str(2018338), format='%Y%j'),\n",
    "#                       fillcolor='gainsboro',\n",
    "#                       opacity=.6,\n",
    "#                       layer=\"below\",\n",
    "#                       line_width=0,\n",
    "#                      row=1,col=1)\n",
    "\n",
    "\n",
    "#### Arc Background \n",
    "\n",
    "    for i1,arc1 in enumerate(arc_listlist):#obj_m1.__dict__['global_params']['arc_input']):\n",
    "        dateplot = []\n",
    "        rms_totals = []\n",
    "        \n",
    "        for ii,arc in enumerate(arc1):#obj_m1.__dict__['global_params']['arc_input']):\n",
    "            if arc not in obj_m1.__dict__['global_params']['arc_input']:\n",
    "                continue\n",
    "            else:\n",
    "                arc =arc+'.01'\n",
    "\n",
    "                dateplot.append(pd.to_datetime(datetime.datetime(int(arc.split('.')[0]), 1, 1) + datetime.timedelta(int(arc.split('.')[1]))- datetime.timedelta(hours=12) ))\n",
    "                rms_totals.append(obj_m1.__dict__['Statistics'][arc]['T_RMS'].values[0])\n",
    "                \n",
    "                ### -----------------------------------------------------------------------------------------------------\n",
    "                ###     DENSITY\n",
    "                ###\n",
    "                ## Remove the denisty file duplication\n",
    "                vals  = np.arange(obj_m1.__dict__['Density'][arc].index[0],obj_m1.__dict__['Density'][arc].index[-1]+1)\n",
    "                df = obj_m1.__dict__['Density'][arc].set_index('Date',drop=False ) \n",
    "                df['i_vals'] = vals\n",
    "                index_date = df.loc[df.index.max()]['i_vals'].min()\n",
    "                time_avg,d_avg, d_avg_rolling = orb_avg(obj_m1.Density, arc)\n",
    "\n",
    "                ### -----------------------------------------------------------------------------------------------------\n",
    "                ###     Orbit Averaged Density\n",
    "                fig.add_trace(go.Scatter(x=time_avg,\n",
    "                                           y=d_avg_rolling,\n",
    "                                           ### name= model_m1,\n",
    "                                           mode='markers+lines',\n",
    "                                           opacity=1,\n",
    "                                               marker=dict(color=col,size=2),\n",
    "                                           ###     line = dict( color = col, width=2),\n",
    "                                               line = dict(shape='hvh', dash ='solid', color = col, width=2),\n",
    "                                           showlegend=False), row=1, col=1)\n",
    "#                 fig.add_trace(go.Scatter(x=obj_m1.__dict__['Density'][arc]['Date'][::50],\n",
    "#                                            y=obj_m1.__dict__['Density'][arc]['rho (kg/m**3)'][::50],\n",
    "#                                            ### name= model_m1,\n",
    "#                                            mode='lines',\n",
    "#                                            opacity=0.2,\n",
    "#                                                marker=dict(color=col,size=2),\n",
    "#                                            ###     line = dict( color = col, width=2),\n",
    "#                                                line = dict(dash ='solid', color = col, width=2),\n",
    "#                                            showlegend=False), row=1, col=1)\n",
    "            \n",
    "                ### -----------------------------------------------------------------------------------------------------\n",
    "                ###     In Track Residuals\n",
    "                data_resids = obj_m1.__dict__['OrbitResids'][arc]['resids']\n",
    "                fig.add_trace(go.Scatter(x=data_resids['Date'][::75],\n",
    "                                           y=data_resids['T'][::75],\n",
    "                                           ###   name= model_m1,\n",
    "                                             mode='markers+lines',\n",
    "                                             opacity=1,\n",
    "                                                 marker=dict(color=col,size=2),\n",
    "                                                 line = dict( color = col, width=2),\n",
    "                                             showlegend=False),\n",
    "                                             secondary_y=False, row=2, col=1)\n",
    "            ### -----------------------------------------------------------------------------------------------------\n",
    "            ###     TOTAL RMS\n",
    "            fig.add_trace(go.Scatter(x=dateplot,\n",
    "                                       y=rms_totals,\n",
    "                                           ###e= 'NTW '+model_m1,\n",
    "                                       mode='markers+lines',\n",
    "                                             opacity=1,\n",
    "                                             marker=dict(color=col,size=6),\n",
    "                                             line = dict(shape='hvh', dash ='solid', color = col, width=2),\n",
    "                                       showlegend=False),row=3, col=1)\n",
    "\n",
    "\n",
    "    \n",
    "\n",
    "\n",
    "# full_fig = fig.full_figure_for_development()\n",
    "    \n",
    "    if plot_num == 2 or plot_num == 0:\n",
    "        ###\n",
    "        ### DENSITY AXIS\n",
    "        fig.update_yaxes(title_text=r\"$\\text{Orbit Avg. Density } (\\frac{kg}{m^3})$\", \n",
    "                         type=\"log\", \n",
    "                         range=yaxis2_range, \n",
    "                         exponentformat= 'power',row=1, col=1)\n",
    "        ###\n",
    "        ### InTrack Residual Axis\n",
    "        fig.update_yaxes( title=r\"$\\text{In-Track Residuals (m)}$\",\n",
    "#                          range=yaxis3_range, \n",
    "                         exponentformat= 'power',row=2, col=1)\n",
    "        ###\n",
    "        ### RMS AXIS\n",
    "        fig.update_yaxes( title=r\"$\\text{In-Track RMSe (m)}$\" ,type=\"linear\" , exponentformat= 'power',\n",
    "#                           range=yaxis4_range, \n",
    "                         row=3, col=1)\n",
    "        ###\n",
    "        ###  DATE on Final x-Axis only\n",
    "        fig.update_xaxes(title=r\"$\\text{Date}$\", \n",
    "                         range=[pd.to_datetime( \"181108-160000\", format='%y%m%d-%H%M%S'),\n",
    "                                pd.to_datetime( \"181124-120000\", format='%y%m%d-%H%M%S')],\n",
    "                         row=3, col=1)\n",
    "\n",
    "        \n",
    "    return(fig)\n",
    "\n",
    "    \n",
    "    \n",
    "\n"
   ]
  },
  {
   "cell_type": "code",
   "execution_count": 17,
   "id": "9c12f725",
   "metadata": {
    "ExecuteTime": {
     "end_time": "2022-07-14T22:20:35.139037Z",
     "start_time": "2022-07-14T22:20:26.441412Z"
    }
   },
   "outputs": [
    {
     "data": {
      "image/jpeg": "[encoded data removed]"
     },
     "metadata": {},
     "output_type": "display_data"
    }
   ],
   "source": [
    "\n",
    "\n",
    "fig = make_subplots(rows=3, cols=1,\n",
    "#                     subplot_titles=([ ' ', ]),\n",
    "                    #                     \n",
    "                    specs=[#[ {\"secondary_y\": True} ],\n",
    "                           [ {\"secondary_y\": False} ],\n",
    "                           [ {\"secondary_y\": False} ],\n",
    "                           [ {\"secondary_y\": False} ]],\n",
    "                    #\n",
    "                    vertical_spacing = 0.08,\n",
    "                    shared_xaxes=True)\n",
    "\n",
    "\n",
    "\n",
    "\n",
    "for model in run_dict.keys():\n",
    "    fig = plot_all_nokp(fig, Obj[model],  run_dict[model], solar_fluxes, arc_listlist)\n",
    "  \n",
    "    \n",
    "#######################################################\n",
    "font_dict=dict(family='Arial',size=16,color='black')\n",
    "#######################################################\n",
    "\n",
    "# fig.update_xaxes(showline=True,\n",
    "#              showticklabels=True,\n",
    "#              linecolor='black',\n",
    "#              linewidth=1,\n",
    "#              ### Major ticks\n",
    "#                  ticks='inside',\n",
    "#                  tickfont=font_dict,\n",
    "#                  mirror=True,\n",
    "#                  tickwidth=2,\n",
    "#                  ticklen=9,\n",
    "#                  tickcolor='grey',\n",
    "#                  tick0=\"2018-11-9\" ,\n",
    "#                  dtick=86400000.0*2,    # milliseconds in a day, every 7 days\n",
    "#                  #### Minor Ticks\n",
    "#                  minor=dict(dtick=86400000.0, # milliseconds in a day\n",
    "#                        tickwidth=1,\n",
    "#                        ticklen=4,\n",
    "#                        tickcolor='grey',\n",
    "#                        ticks='inside'),             \n",
    "#                  gridcolor='gainsboro',\n",
    "#                  showgrid=False,\n",
    "#                  layer='above traces',\n",
    "#                  tickangle=0,\n",
    "#                  row=1, col=1)\n",
    "# fig.update_yaxes(title_text=r\"$\\text{F}_{\\text{10.7}}\\text{ Solar Flux (sfu)}$\", \n",
    "#                  color='cornflowerblue',\n",
    "#                  range=[64, 86],\n",
    "#                  showline=True,      # add line at x=0\n",
    "#                  linecolor='cornflowerblue',  # line color\n",
    "#                  linewidth=1,        # line size\n",
    "#                  ticks='inside',     # ticks outside axis\n",
    "#                  tickfont=dict(family='sans-serif',size=14,color='cornflowerblue'), # tick label font\n",
    "#                  mirror=False,  # add ticks to top/right axes\n",
    "#                  tickwidth=1,      # tick width\n",
    "#                  tickcolor='cornflowerblue',   # tick color\n",
    "#                  gridcolor='gainsboro',\n",
    "#                  showgrid=False,\n",
    "#                  anchor=\"x\", overlaying=\"y\", side=\"right\",\n",
    "#                  layer='above traces',\n",
    "#                  secondary_y=True, row=1, col=1,)\n",
    "# fig.update_yaxes(title_text=r\"$\\text{K}_\\text{p}\\text{ Index}$\",\n",
    "#                  secondary_y=False,\n",
    "#                  showline=True,      # add line at x=0\n",
    "#                  linecolor='black',  # line color\n",
    "#                  linewidth=1,        # line size\n",
    "#                  ticks='inside',     # ticks outside axis\n",
    "#                  tickfont=dict(family='sans-serif',size=14,color='black'), # tick label font\n",
    "#                  mirror=False,  # add ticks to top/right axes\n",
    "#                  tickwidth=1,      # tick width\n",
    "#                  tickcolor='black',   # tick color\n",
    "#                  gridcolor='gainsboro',\n",
    "#                  showgrid=False,\n",
    "#                  layer='above traces',\n",
    "#                  row=1, col=1,)\n",
    "    \n",
    "\n",
    "for i in [1,2,3]:\n",
    "    fig.update_xaxes(### LINE at axis border\n",
    "                      showline=True,\n",
    "                      showticklabels=True,\n",
    "                      linecolor='black',\n",
    "                      linewidth=1,\n",
    "                     ### Major ticks\n",
    "                      ticks='inside',\n",
    "                      tickfont=font_dict,\n",
    "                      mirror=True,\n",
    "                      tickwidth=2,\n",
    "                      ticklen=9,\n",
    "                      tickcolor='grey',\n",
    "                      tick0=\"2018-11-9\" ,\n",
    "                      dtick=86400000.0*2,    # milliseconds in a day, every 7 days\n",
    "                      #### Minor Ticks\n",
    "                       minor=dict(\n",
    "                         dtick=86400000.0, # milliseconds in a day\n",
    "                         tickwidth=1,\n",
    "                         ticklen=4,\n",
    "                         tickcolor='grey',\n",
    "                         ticks='inside'),\n",
    "                      ### GRID\n",
    "                       gridcolor='gainsboro',\n",
    "                       gridwidth=1,\n",
    "                       layer='above traces',\n",
    "                       tickangle=0,\n",
    "                       row=i, col=1)\n",
    "    fig.update_yaxes(showline=True,      # add line at x=0\n",
    "                         showticklabels=True,\n",
    "                         linecolor='black',  # line color\n",
    "                         linewidth=1,        # line size\n",
    "                     ticks='inside',     # ticks outside axis\n",
    "                     tickfont=font_dict, # tick label font\n",
    "                     mirror='allticks',  # add ticks to top/right axes\n",
    "                     tickwidth=1,      # tick width\n",
    "                     tickcolor='black',  # tick color\n",
    "                     gridcolor='gainsboro',\n",
    "                     gridwidth=1,\n",
    "                     layer='above traces',\n",
    "                     row=i, col=1)\n",
    "\n",
    "\n",
    "modelnames=[]\n",
    "modelcolors = []\n",
    "#### LEGEND ####\n",
    "for model in run_dict.keys():\n",
    "    if model == 'msis2':\n",
    "        modelnames.append(\"MSISe2\")\n",
    "        modelcolors.append(col_msis2)\n",
    "\n",
    "    elif model == 'dtm2020_o':\n",
    "        modelnames.append(\"DTM2020\")\n",
    "        modelcolors.append(col_dtm2020)\n",
    "\n",
    "    elif model == 'jb2008':\n",
    "        modelnames.append(\"JB2008\")\n",
    "        modelcolors.append(col_jb2008)\n",
    "\n",
    "    elif model == 'tiegcm_oc':\n",
    "        modelnames.append(\"TIEGCM\")\n",
    "        modelcolors.append(col_tiegcm_oc)\n",
    "\n",
    "    elif model == 'hasdm_oc':\n",
    "        modelnames.append(\"HASDM\")\n",
    "        modelcolors.append(col_hasdm_oc)\n",
    "\n",
    "    elif model == 'ctipe_oc':\n",
    "        modelnames.append(\"CTIPe\")\n",
    "        modelcolors.append(col_ctipe_oc)\n",
    "\n",
    "\n",
    "\n",
    "df = pd.DataFrame({\"starts_colors\": modelcolors\n",
    "                                    })\n",
    "\n",
    "fig.update_traces(showlegend=False).add_traces(\n",
    "    [   go.Scattergl(name=modelnames[i], \n",
    "               x=[pd.to_datetime( \"181107-000000\", format='%y%m%d-%H%M%S')],\n",
    "               mode='lines',\n",
    "               line = dict(shape = 'hv',  width=10),\n",
    "               marker_color=c, \n",
    "               showlegend=True)\n",
    "        for i,c in enumerate((df.loc[:,[\"starts_colors\"]].values.ravel()))])\n",
    "\n",
    "fig.update_layout(legend=dict(\n",
    "    yanchor=\"middle\",\n",
    "    y=0.5,\n",
    "    xanchor=\"center\",\n",
    "    x=1.1,\n",
    "#     x=1.015,\n",
    "        font=font_dict      ,\n",
    "        bgcolor=\"white\",\n",
    "        bordercolor=\"darkgrey\",\n",
    "        borderwidth=0.8,\n",
    "    )  )\n",
    "\n",
    "fig.update_layout(\n",
    "#                   title = '',\n",
    "                  autosize=False,    width=1000,    height=950,\n",
    "                  legend= {'itemsizing': 'trace'},\n",
    "                  font=font_dict,\n",
    "                  plot_bgcolor='white', \n",
    "                 )\n",
    "fig.update_annotations(font_size=14)  # Increase size of subplot title\n",
    "\n",
    "fig.show(renderer=\"jpg\",\n",
    "         config=config)\n",
    "\n",
    "### pio.write_image(fig, plots_dir+'twoweek_fullresult.pdf')\n",
    "\n",
    "# pio.write_image(fig, plots_dir+'twoweek_fullresult.jpg', scale=3)\n",
    "\n",
    "    \n"
   ]
  },
  {
   "cell_type": "markdown",
   "id": "00c10b7e",
   "metadata": {
    "ExecuteTime": {
     "end_time": "2022-06-15T16:24:25.916442Z",
     "start_time": "2022-06-15T16:24:25.895719Z"
    }
   },
   "source": [
    "### Plot output"
   ]
  },
  {
   "cell_type": "markdown",
   "id": "db66be1a",
   "metadata": {},
   "source": [
    "## Ratios"
   ]
  },
  {
   "cell_type": "code",
   "execution_count": 18,
   "id": "97e4870a",
   "metadata": {
    "ExecuteTime": {
     "end_time": "2022-07-14T22:20:35.163099Z",
     "start_time": "2022-07-14T22:20:35.140842Z"
    }
   },
   "outputs": [],
   "source": [
    "# Obj_2weeks['msis2'].__dict__['OrbitResids']['2018.313.01']['data_orbfil'].keys()"
   ]
  },
  {
   "cell_type": "code",
   "execution_count": null,
   "id": "85354463",
   "metadata": {
    "ExecuteTime": {
     "end_time": "2022-06-15T16:38:02.542166Z",
     "start_time": "2022-06-15T16:38:02.413851Z"
    }
   },
   "outputs": [],
   "source": []
  },
  {
   "cell_type": "code",
   "execution_count": 19,
   "id": "06750696",
   "metadata": {
    "ExecuteTime": {
     "end_time": "2022-07-14T22:20:35.185453Z",
     "start_time": "2022-07-14T22:20:35.165594Z"
    }
   },
   "outputs": [],
   "source": [
    "# T_ratio"
   ]
  },
  {
   "cell_type": "code",
   "execution_count": 20,
   "id": "9df8a766",
   "metadata": {
    "ExecuteTime": {
     "end_time": "2022-07-14T22:20:35.211068Z",
     "start_time": "2022-07-14T22:20:35.187491Z"
    },
    "scrolled": false
   },
   "outputs": [],
   "source": [
    "# %load_ext autoreload\n",
    "# # %autoreload 2\n",
    "\n",
    "\n",
    "# def plot_ratios(fig, obj_m1, plot_num, solar_fluxes,    arc_listlist ):\n",
    "    \n",
    "\n",
    "#     ####  Get plot Parameters for this model\n",
    "#     model_m1 = obj_m1.__dict__['global_params']['den_model']\n",
    "#     col,x_annot,y_annot1,y_annot2,m_size = get_plot_params(plot_num, model_m1)\n",
    "    \n",
    "#     #### -----------------------------------------------------------------------------------------------------\n",
    "#     #### Solar Flux Plot\n",
    "    \n",
    "# #     index1 = 21+1\n",
    "# #     index2 = 37+1\n",
    "# #     index3h_1 = 168+8\n",
    "# #     index3h_2 = 289+8\n",
    "    \n",
    "#     if plot_num == 0:\n",
    "#         index1 = 21\n",
    "#         index2 = 37\n",
    "#         index3h_1 = 168\n",
    "#         index3h_2 = 289\n",
    "\n",
    "#         fig.add_trace(go.Scattergl(x=solar_fluxes['date'][index1:index2],\n",
    "#                                    y=solar_fluxes['f107a_list'][index1:index2],\n",
    "#                                    name= 'F107a',\n",
    "#                                    mode='lines',\n",
    "#                                    opacity=0.8,\n",
    "#     #                                marker=dict(color='cornflowerblue', size=2 ),\n",
    "#                                    line = dict(shape = 'hvh', color = 'cornflowerblue', width=1.5),\n",
    "#                                    showlegend=False),\n",
    "#                                    secondary_y=True,row=1, col=1)\n",
    "#         fig.add_trace(go.Scattergl(x=solar_fluxes['date'][index1:index2],\n",
    "#                                    y=solar_fluxes['f107d_list'][index1:index2],\n",
    "#                                    name= 'F107d',\n",
    "#                                    mode='lines',\n",
    "#                                    opacity=0.5,\n",
    "#     #                                marker=dict(color='cornflowerblue', size=2 ),\n",
    "#                                    line = dict(shape = 'hvh', color = 'cornflowerblue', width=1.5),\n",
    "#                                    showlegend=False),\n",
    "#                                    secondary_y=True,row=1, col=1)\n",
    "\n",
    "#         fig.add_trace(go.Scattergl(x=solar_fluxes['date_3hr'][index3h_1:index3h_2],\n",
    "#                                    y=solar_fluxes['kp_expand'][index3h_1:index3h_2],\n",
    "#                                    name= 'Kp',\n",
    "#                                    mode='lines',\n",
    "#                                    opacity=1,\n",
    "#     #                                marker=dict(color='black',size=2),\n",
    "#                                    line = dict(shape = 'hvh', color = 'black', width=2),\n",
    "#                                    showlegend=False),\n",
    "#                                    secondary_y=False,row=1, col=1) \n",
    "        \n",
    "#         fig.add_vrect(x0=pd.to_datetime( str(2018312), format='%Y%j'),\n",
    "#                       x1=pd.to_datetime( str(2018313), format='%Y%j'),\n",
    "#                       fillcolor='gainsboro',\n",
    "#                       opacity=.6,\n",
    "#                       layer=\"below\",\n",
    "#                       line_width=0,\n",
    "#                      row=1,col=1)\n",
    "#         fig.add_vrect(x0=pd.to_datetime( str(2018328), format='%Y%j'),\n",
    "#                       x1=pd.to_datetime( str(2018338), format='%Y%j'),\n",
    "#                       fillcolor='gainsboro',\n",
    "#                       opacity=.6,\n",
    "#                       layer=\"below\",\n",
    "#                       line_width=0,\n",
    "#                      row=1,col=1)\n",
    "\n",
    "\n",
    "# #     #### Arc Background \n",
    "    \n",
    "    \n",
    "    \n",
    "#     for i1,arc1 in enumerate(arc_listlist):#obj_m1.__dict__['global_params']['arc_input']):\n",
    "#         dateplot = []\n",
    "#         rms_totals = []\n",
    "#         T_ratio_means = []\n",
    "\n",
    "        \n",
    "#         for ii,arc in enumerate(arc1):#obj_m1.__dict__['global_params']['arc_input']):\n",
    "#             if arc not in obj_m1.__dict__['global_params']['arc_input']:\n",
    "#                 continue\n",
    "#             else:\n",
    "#                 arc =arc+'.01'\n",
    "\n",
    "#                 dateplot.append(pd.to_datetime(datetime.datetime(int(arc.split('.')[0]), 1, 1) + datetime.timedelta(int(arc.split('.')[1]))- datetime.timedelta(hours=12) ))\n",
    "#                 rms_totals.append(obj_m1.__dict__['Statistics'][arc]['T_RMS'].values[0])\n",
    "                    \n",
    "                \n",
    "#                 T_ratio = []\n",
    "#                 for i,val in enumerate(obj_m1.__dict__['OrbitResids'][arc]['data_orbfil']['Date']):\n",
    "\n",
    "#                     T_PCE   = obj_m1.__dict__['OrbitResids'][arc]['data_PCE']['T'][i]\n",
    "#                     T_model = obj_m1.__dict__['OrbitResids'][arc]['data_orbfil']['T'][i]\n",
    "\n",
    "# #                     print(T_PCE / T_model)\n",
    "#                     T_ratio.append((T_PCE / T_model) )\n",
    "\n",
    "#                 T_ratio_means.append((np.mean(T_ratio)))\n",
    "                \n",
    "#                 ### -----------------------------------------------------------------------------------------------------\n",
    "#                 ###     DENSITY\n",
    "#                 ###\n",
    "#                 ## Remove the denisty file duplication\n",
    "#                 vals  = np.arange(obj_m1.__dict__['Density'][arc].index[0],obj_m1.__dict__['Density'][arc].index[-1]+1)\n",
    "#                 df = obj_m1.__dict__['Density'][arc].set_index('Date',drop=False ) \n",
    "#                 df['i_vals'] = vals\n",
    "#                 index_date = df.loc[df.index.max()]['i_vals'].min()\n",
    "#                 time_avg,d_avg, d_avg_rolling = orb_avg(obj_m1.Density, arc)\n",
    "\n",
    "#                 ### -----------------------------------------------------------------------------------------------------\n",
    "#                 ###     Orbit Averaged Density\n",
    "#                 fig.add_trace(go.Scattergl(x=time_avg,\n",
    "#                                            y=d_avg_rolling,\n",
    "#                                            ### name= model_m1,\n",
    "#                                            mode='markers+lines',\n",
    "#                                            opacity=1,\n",
    "#                                                marker=dict(color=col,size=2),\n",
    "#                                            ###     line = dict( color = col, width=2),\n",
    "#                                                line = dict(shape='hvh', dash ='solid', color = col, width=2),\n",
    "#                                            showlegend=False), row=2, col=1)\n",
    "#                 ### -----------------------------------------------------------------------------------------------------\n",
    "#                 ###     In Track Residuals\n",
    "#                 data_resids = obj_m1.__dict__['OrbitResids'][arc]['resids']\n",
    "#                 fig.add_trace(go.Scattergl(x=data_resids['Date'][::75],\n",
    "#                                            y=data_resids['T'][::75],\n",
    "#                                            ###   name= model_m1,\n",
    "#                                              mode='markers+lines',\n",
    "#                                              opacity=1,\n",
    "#                                                  marker=dict(color=col,size=2),\n",
    "#                                                  line = dict( color = col, width=2),\n",
    "#                                              showlegend=False),\n",
    "#                                              secondary_y=False, row=3, col=1)\n",
    "#                 ### -----------------------------------------------------------------------------------------------------\n",
    "#                 ###     RATIO\n",
    "# #             print()\n",
    "#             fig.add_trace(go.Scattergl(x=dateplot,\n",
    "#                                        y=T_ratio_means,\n",
    "#                                            ###e= 'NTW '+model_m1,\n",
    "#                                        mode='markers+lines',\n",
    "#                                              opacity=1,\n",
    "#                                              marker=dict(color=col,size=6),\n",
    "#                                            line = dict(shape='hvh', dash ='solid', color = col, width=2),\n",
    "#                                        showlegend=False),row=4, col=1)\n",
    "\n",
    "\n",
    "    \n",
    "\n",
    "\n",
    "    \n",
    "    \n",
    "#     if plot_num == 0:\n",
    "#         ###\n",
    "#         ### DENSITY AXIS\n",
    "#         fig.update_yaxes(title_text=r\"$\\text{Orbit Avg. Density } (\\frac{kg}{m^3})$\", \n",
    "#                          type=\"log\", exponentformat= 'power',row=2, col=1)\n",
    "#         ###\n",
    "#         ### InTrack Residual Axis\n",
    "#         fig.update_yaxes( title=r\"$\\text{In-Track Residuals (m)}$\",\n",
    "#                          range=[-100,55], exponentformat= 'power',row=3, col=1)\n",
    "#         ###\n",
    "#         ### RMS AXIS\n",
    "#         fig.update_yaxes( title=r\"$\\text{In-Track Ratio}$\" ,type=\"linear\" ,\n",
    "#                           range=[0.96,1.04], exponentformat= 'power', row=4, col=1)  \n",
    "#         ###\n",
    "#         ###  DATE on Final x-Axis only\n",
    "#         fig.update_xaxes(title=r\"$\\text{Date}$\", \n",
    "#                          range=[pd.to_datetime( \"181108-160000\", format='%y%m%d-%H%M%S'),\n",
    "#                                 pd.to_datetime( \"181124-120000\", format='%y%m%d-%H%M%S')],\n",
    "#                          row=4, col=1)\n",
    "\n",
    "#     return(fig)\n",
    "\n",
    "    \n",
    "    \n",
    "    \n",
    "    \n",
    "#     ### -----------------------------------------------------------------------------------------------------\n",
    "#     ### -----------------------------------------------------------------------------------------------------\n",
    "#     ### -----------------------------------------------------------------------------------------------------\n",
    "#     ### -----------------------------------------------------------------------------------------------------\n",
    "#     ### -----------------------------------------------------------------------------------------------------\n",
    "\n",
    "\n",
    "\n",
    "\n",
    "# fig = make_subplots(rows=4, cols=1,\n",
    "# #                     subplot_titles=([ ' ', ]),\n",
    "#                     #                     \n",
    "#                     specs=[[ {\"secondary_y\": True} ],\n",
    "#                            [ {\"secondary_y\": False} ],\n",
    "#                            [ {\"secondary_y\": False} ],\n",
    "#                            [ {\"secondary_y\": False} ]],\n",
    "#                     #\n",
    "#                     vertical_spacing = 0.05,\n",
    "#                     shared_xaxes=True)\n",
    "\n",
    "\n",
    "# fig = plot_ratios(fig, Obj_2weeks['msis2'],     0, solar_fluxes, arc_listlist)\n",
    "# fig = plot_ratios(fig, Obj_2weeks['dtm2020'],   1, solar_fluxes, arc_listlist)\n",
    "# fig = plot_ratios(fig, Obj_2weeks['jb2008'],    2, solar_fluxes, arc_listlist)\n",
    "# fig = plot_ratios(fig, Obj_2weeks['hasdm_oc'],  4, solar_fluxes, arc_listlist)\n",
    "\n",
    "   \n",
    "    \n",
    "# #######################################################\n",
    "# font_dict=dict(family='Arial',size=14,color='black')\n",
    "# #######################################################\n",
    "\n",
    "# fig.update_xaxes(showline=True,\n",
    "#              showticklabels=True,\n",
    "#              linecolor='black',\n",
    "#              linewidth=1,\n",
    "#              ### Major ticks\n",
    "#                  ticks='inside',\n",
    "#                  tickfont=font_dict,\n",
    "#                  mirror=True,\n",
    "#                  tickwidth=2,\n",
    "#                  ticklen=9,\n",
    "#                  tickcolor='grey',\n",
    "#                  tick0=\"2018-11-9\" ,\n",
    "#                  dtick=86400000.0*2,    # milliseconds in a day, every 7 days\n",
    "#                  #### Minor Ticks\n",
    "#                  minor=dict(dtick=86400000.0, # milliseconds in a day\n",
    "#                        tickwidth=1,\n",
    "#                        ticklen=4,\n",
    "#                        tickcolor='grey',\n",
    "#                        ticks='inside'),             \n",
    "#                  gridcolor='gainsboro',\n",
    "#                  showgrid=False,\n",
    "#                  layer='above traces',\n",
    "#                  tickangle=0,\n",
    "#                  row=1, col=1)\n",
    "# fig.update_yaxes(title_text=r\"$\\text{F}_{\\text{10.7}}\\text{ Solar Flux (sfu)}$\", \n",
    "#                  color='cornflowerblue',\n",
    "#                  range=[64, 86],\n",
    "#                  showline=True,      # add line at x=0\n",
    "#                  linecolor='cornflowerblue',  # line color\n",
    "#                  linewidth=1,        # line size\n",
    "#                  ticks='inside',     # ticks outside axis\n",
    "#                  tickfont=dict(family='sans-serif',size=14,color='cornflowerblue'), # tick label font\n",
    "#                  mirror=False,  # add ticks to top/right axes\n",
    "#                  tickwidth=1,      # tick width\n",
    "#                  tickcolor='cornflowerblue',   # tick color\n",
    "#                  gridcolor='gainsboro',\n",
    "#                  showgrid=False,\n",
    "#                  anchor=\"x\", overlaying=\"y\", side=\"right\",\n",
    "#                  layer='above traces',\n",
    "#                  secondary_y=True, row=1, col=1,)\n",
    "# fig.update_yaxes(title_text=r\"$\\text{K}_\\text{p}\\text{ Index}$\",\n",
    "#                  secondary_y=False,\n",
    "#                  showline=True,      # add line at x=0\n",
    "#                  linecolor='black',  # line color\n",
    "#                  linewidth=1,        # line size\n",
    "#                  ticks='inside',     # ticks outside axis\n",
    "#                  tickfont=dict(family='sans-serif',size=14,color='black'), # tick label font\n",
    "#                  mirror=False,  # add ticks to top/right axes\n",
    "#                  tickwidth=1,      # tick width\n",
    "#                  tickcolor='black',   # tick color\n",
    "#                  gridcolor='gainsboro',\n",
    "#                  showgrid=False,\n",
    "#                  layer='above traces',\n",
    "#                  row=1, col=1,)\n",
    "    \n",
    "\n",
    "# for i in [2,3,4]:\n",
    "#     fig.update_xaxes(### LINE at axis border\n",
    "#                       showline=True,\n",
    "#                       showticklabels=True,\n",
    "#                       linecolor='black',\n",
    "#                       linewidth=1,\n",
    "#                      ### Major ticks\n",
    "#                       ticks='inside',\n",
    "#                       tickfont=font_dict,\n",
    "#                       mirror=True,\n",
    "#                       tickwidth=2,\n",
    "#                       ticklen=9,\n",
    "#                       tickcolor='grey',\n",
    "#                       tick0=\"2018-11-9\" ,\n",
    "#                       dtick=86400000.0*2,    # milliseconds in a day, every 7 days\n",
    "#                       #### Minor Ticks\n",
    "#                        minor=dict(\n",
    "#                          dtick=86400000.0, # milliseconds in a day\n",
    "#                          tickwidth=1,\n",
    "#                          ticklen=4,\n",
    "#                          tickcolor='grey',\n",
    "#                          ticks='inside'),\n",
    "#                       ### GRID\n",
    "#                        gridcolor='gainsboro',\n",
    "#                        gridwidth=1,\n",
    "#                        layer='above traces',\n",
    "#                        tickangle=0,\n",
    "#                        row=i, col=1)\n",
    "#     fig.update_yaxes(showline=True,      # add line at x=0\n",
    "#                          showticklabels=True,\n",
    "#                          linecolor='black',  # line color\n",
    "#                          linewidth=1,        # line size\n",
    "#                      ticks='inside',     # ticks outside axis\n",
    "#                      tickfont=font_dict, # tick label font\n",
    "#                      mirror='allticks',  # add ticks to top/right axes\n",
    "#                      tickwidth=1,      # tick width\n",
    "#                      tickcolor='black',  # tick color\n",
    "#                      gridcolor='gainsboro',\n",
    "#                      gridwidth=1,\n",
    "#                      layer='above traces',\n",
    "#                      row=i, col=1)\n",
    "\n",
    "\n",
    "\n",
    "# #### LEGEND ####\n",
    "# modelnames = [  \"MSISe2\",  \"DTM2020\",  \"JB2008\",    \"HASDM\"]\n",
    "# df = pd.DataFrame({\"starts_colors\": [col_msis2, col_dtm2020, col_jb2008, \n",
    "#                                       col_hasdm_oc]})\n",
    "\n",
    "# fig.update_traces(showlegend=False).add_traces(\n",
    "#     [   go.Scattergl(name=modelnames[i], \n",
    "#                x=[pd.to_datetime( \"181107-000000\", format='%y%m%d-%H%M%S')],\n",
    "#                mode='lines',\n",
    "#                line = dict(shape = 'hv',  width=10),\n",
    "#                marker_color=c, \n",
    "#                showlegend=True)\n",
    "#         for i,c in enumerate((df.loc[:,[\"starts_colors\"]].values.ravel()))])\n",
    "\n",
    "# fig.update_layout(legend=dict(\n",
    "#     yanchor=\"middle\",\n",
    "#     y=0.63,\n",
    "#     xanchor=\"center\",\n",
    "#     x=1.05,\n",
    "# #     x=1.015,\n",
    "#         font=font_dict      ,\n",
    "#         bgcolor=\"white\",\n",
    "#         bordercolor=\"darkgrey\",\n",
    "#         borderwidth=0.8,\n",
    "#     )  )\n",
    "\n",
    "# fig.update_layout(\n",
    "# #                   title = '',\n",
    "#                   autosize=False,    width=800,    height=900,\n",
    "#                   legend= {'itemsizing': 'trace'},\n",
    "#                   font=font_dict,\n",
    "#                   plot_bgcolor='white', \n",
    "#                  )\n",
    "# fig.update_annotations(font_size=14)  # Increase size of subplot title\n",
    "\n",
    "# fig.show( config=config )\n",
    "\n",
    "\n",
    "# ###### pio.write_image(fig, plots_dir+'twoweek_fullresult.jpg', scale=3)\n"
   ]
  },
  {
   "cell_type": "code",
   "execution_count": null,
   "id": "14ce6889",
   "metadata": {},
   "outputs": [],
   "source": []
  },
  {
   "cell_type": "code",
   "execution_count": null,
   "id": "6ae78833",
   "metadata": {},
   "outputs": [],
   "source": []
  }
 ],
 "metadata": {
  "kernelspec": {
   "display_name": "Python 3",
   "language": "python",
   "name": "python3"
  },
  "language_info": {
   "codemirror_mode": {
    "name": "ipython",
    "version": 3
   },
   "file_extension": ".py",
   "mimetype": "text/x-python",
   "name": "python",
   "nbconvert_exporter": "python",
   "pygments_lexer": "ipython3",
   "version": "3.8.8"
  },
  "toc": {
   "base_numbering": 1,
   "nav_menu": {},
   "number_sections": true,
   "sideBar": true,
   "skip_h1_title": false,
   "title_cell": "Table of Contents",
   "title_sidebar": "Contents",
   "toc_cell": false,
   "toc_position": {
    "height": "calc(100% - 180px)",
    "left": "10px",
    "top": "150px",
    "width": "245.222px"
   },
   "toc_section_display": true,
   "toc_window_display": true
  },
  "varInspector": {
   "cols": {
    "lenName": 16,
    "lenType": 16,
    "lenVar": 40
   },
   "kernels_config": {
    "python": {
     "delete_cmd_postfix": "",
     "delete_cmd_prefix": "del ",
     "library": "var_list.py",
     "varRefreshCmd": "print(var_dic_list())"
    },
    "r": {
     "delete_cmd_postfix": ") ",
     "delete_cmd_prefix": "rm(",
     "library": "var_list.r",
     "varRefreshCmd": "cat(var_dic_list()) "
    }
   },
   "types_to_exclude": [
    "module",
    "function",
    "builtin_function_or_method",
    "instance",
    "_Feature"
   ],
   "window_display": false
  }
 },
 "nbformat": 4,
 "nbformat_minor": 5
}
