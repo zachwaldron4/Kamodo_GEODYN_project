{
 "cells": [
  {
   "cell_type": "code",
   "execution_count": null,
   "id": "f6d8b36d",
   "metadata": {},
   "outputs": [],
   "source": [
    "%load_ext autoreload\n",
    "%autoreload 2\n",
    "\n",
    "from pygeodyn.PYGEODYN import Pygeodyn\n",
    "from gc import collect as gc_collect\n",
    "\n",
    "# run_settings = Pygeodyn.print_input(options=False, info=False)\n",
    "\n",
    "\n",
    "settings_SPIRE= {# Basic input settings\n",
    "                 'satellite'      : {'input': 'spire83'},\n",
    "                 'den_model'      : {'input': 'jb2008'},\n",
    "                 'run_type'       : {'input': 'OrbitPropagation'},\n",
    "                 'run_specifier'  : {'input': '_test_infrastruc'},\n",
    "                 'cd_model'       : {'input': 'BWDRAG'},\n",
    "                 'file_string'    : {'input': 'CD_2p3'},\n",
    "               # Force Model settings\n",
    "                  'cd_type'               : {'input':\"Fixed_CD\"},\n",
    "                  'cd_value'              : {'input':2.300000},\n",
    "                  'scaling_factor'        : {'input':False},\n",
    "                  'cd_adjustment_boolean' : {'input':False },\n",
    "                  'hours_between_cd_adj'  : {'input':6 },\n",
    "               # Run\n",
    "                  'step'           : {'input': 60.},\n",
    "                  #\n",
    "                  'arc'            : {'input':['2018.313',]},\n",
    "                  'epoch_start'    : {'input':[\"2018-11-09 00:00:00\"]},\n",
    "                  'epoch_stop'     : {'input':[\"2018-11-10 00:00:00\"]},\n",
    "        # r_eci   [-5940662.04032,   -2074224.62981,    2733575.86992  ]\n",
    "        # v_eci  [   -5151.36351,      -5151.36351,      -5151.36351  ]\n",
    "\n",
    "                  'global_options': {'input':'pso_2018'},\n",
    "               # Request read on raw outputs\n",
    "                  'request_data'   : {'input': ['Trajectory_orbfil',\n",
    "                                                'Density',\n",
    "                                                'DragFile',\n",
    "                                                #'Residuals_summary',\n",
    "                                               ]},\n",
    "              #end dict\n",
    "              }"
   ]
  },
  {
   "cell_type": "code",
   "execution_count": null,
   "id": "764551e8",
   "metadata": {},
   "outputs": [],
   "source": [
    "# sat = Pygeodyn(settings_SPIRE, use_file=False)\n",
    "# # sat = Pygeodyn(settings_icesat, use_file=False)\n",
    "\n",
    "# sat.run_arcs()"
   ]
  },
  {
   "cell_type": "code",
   "execution_count": null,
   "id": "c854ecd3",
   "metadata": {},
   "outputs": [],
   "source": [
    "# obj = sat.getData()"
   ]
  },
  {
   "cell_type": "code",
   "execution_count": null,
   "id": "92871fe1",
   "metadata": {},
   "outputs": [],
   "source": []
  }
 ],
 "metadata": {
  "kernelspec": {
   "display_name": "Python 3",
   "language": "python",
   "name": "python3"
  },
  "language_info": {
   "codemirror_mode": {
    "name": "ipython",
    "version": 3
   },
   "file_extension": ".py",
   "mimetype": "text/x-python",
   "name": "python",
   "nbconvert_exporter": "python",
   "pygments_lexer": "ipython3",
   "version": "3.8.8"
  },
  "toc": {
   "base_numbering": 1,
   "nav_menu": {},
   "number_sections": true,
   "sideBar": true,
   "skip_h1_title": false,
   "title_cell": "Table of Contents",
   "title_sidebar": "Contents",
   "toc_cell": false,
   "toc_position": {},
   "toc_section_display": true,
   "toc_window_display": false
  },
  "varInspector": {
   "cols": {
    "lenName": 16,
    "lenType": 16,
    "lenVar": 40
   },
   "kernels_config": {
    "python": {
     "delete_cmd_postfix": "",
     "delete_cmd_prefix": "del ",
     "library": "var_list.py",
     "varRefreshCmd": "print(var_dic_list())"
    },
    "r": {
     "delete_cmd_postfix": ") ",
     "delete_cmd_prefix": "rm(",
     "library": "var_list.r",
     "varRefreshCmd": "cat(var_dic_list()) "
    }
   },
   "types_to_exclude": [
    "module",
    "function",
    "builtin_function_or_method",
    "instance",
    "_Feature"
   ],
   "window_display": false
  }
 },
 "nbformat": 4,
 "nbformat_minor": 5
}
