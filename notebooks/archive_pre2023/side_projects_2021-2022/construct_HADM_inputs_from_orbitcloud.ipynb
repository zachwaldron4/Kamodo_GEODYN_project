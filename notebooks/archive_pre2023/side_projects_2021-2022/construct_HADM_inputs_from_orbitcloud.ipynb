{
 "cells": [
  {
   "cell_type": "code",
   "execution_count": 13,
   "id": "3b1c8f13",
   "metadata": {
    "ExecuteTime": {
     "end_time": "2022-01-26T21:30:31.714779Z",
     "start_time": "2022-01-26T21:30:31.700223Z"
    }
   },
   "outputs": [],
   "source": [
    "%load_ext autoreload\n",
    "%autoreload 2\n",
    "\n",
    "import sys  \n",
    "import pickle \n",
    "sys.path.insert(0, '/data/geodyn_proj/pygeodyn/pygeodyn_develop/')\n",
    "from PYGEODYN import Pygeodyn\n",
    "\n",
    "run_settings = '/data/zach_work/side_projects/simple_geodyn_run.yaml'\n",
    "\n",
    "### Load the data into an object\n",
    "RunObject = Pygeodyn(run_settings)\n",
    "RunObject.RUN_make_OrbitCloud_trajectories()\n",
    "\n",
    "\n"
   ]
  },
  {
   "cell_type": "code",
   "execution_count": null,
   "id": "25d01a23",
   "metadata": {},
   "outputs": [],
   "source": []
  },
  {
   "cell_type": "markdown",
   "id": "8bc07f5b",
   "metadata": {},
   "source": [
    "# Reformat the HASDM data to be fixed width"
   ]
  },
  {
   "cell_type": "code",
   "execution_count": 14,
   "id": "2a5ff1e4",
   "metadata": {
    "ExecuteTime": {
     "end_time": "2022-01-26T21:30:32.603388Z",
     "start_time": "2022-01-26T21:30:32.588021Z"
    }
   },
   "outputs": [],
   "source": [
    "# import numpy as np\n",
    "# import pandas as pd\n",
    "\n",
    "\n",
    "# hasdm_input = pd.read_csv('/data/zach_work/side_projects/OrbitCloud_Step10_2018313_hasdm.csv', \n",
    "#                             dtype=object,\n",
    "#                             names = ['YYMMDDHHMMSS',\n",
    "#                                      'lon',\n",
    "#                                      'lat',\n",
    "#                                      'alt',\n",
    "#                                      'rho',\n",
    "#                                          ],\n",
    "#                             sep = ',',#'\\s+',\n",
    "#                             )\n",
    "\n",
    "\n",
    "# # HASDM_orbitcloud_file = '/data/zach_work/side_projects/HASDM_OrbitCloud2018313.csv'\n",
    "\n",
    "# # f = open(HASDM_orbitcloud_file, \"w\")\n",
    "# # f.write(\"\\n\")\n",
    "# # f.close()\n",
    "\n",
    "\n",
    "# # with open(HASDM_orbitcloud_file, 'r+') as file:\n",
    "\n",
    "# #     for ii, valval in enumerate(hasdm_input['YYMMDDHHMMSS']):\n",
    "# #         file.write(f\"{int(hasdm_input['YYMMDDHHMMSS'][ii])}   {float(hasdm_input['lon'][ii]):8.4f}   {float(hasdm_input['lat'][ii]):8.4f}   {float(hasdm_input['alt'][ii]):8.4f}   {float(hasdm_input['rho'][ii]):15.8e} \\n\")\n",
    "\n"
   ]
  },
  {
   "cell_type": "code",
   "execution_count": 15,
   "id": "4836c06e",
   "metadata": {
    "ExecuteTime": {
     "end_time": "2022-01-26T21:30:32.984689Z",
     "start_time": "2022-01-26T21:30:32.969892Z"
    }
   },
   "outputs": [],
   "source": [
    "# hasdm_input"
   ]
  },
  {
   "cell_type": "code",
   "execution_count": 16,
   "id": "b4a49be3",
   "metadata": {
    "ExecuteTime": {
     "end_time": "2022-01-26T21:30:33.433950Z",
     "start_time": "2022-01-26T21:30:33.416299Z"
    }
   },
   "outputs": [
    {
     "name": "stdout",
     "output_type": "stream",
     "text": [
      "The autoreload extension is already loaded. To reload it, use:\n",
      "  %reload_ext autoreload\n"
     ]
    }
   ],
   "source": [
    "%load_ext autoreload\n",
    "%autoreload 2\n",
    "\n",
    "import sys  \n",
    "import pickle \n",
    "sys.path.insert(0, '/data/geodyn_proj/pygeodyn/pygeodyn_develop/')\n",
    "from PYGEODYN import Pygeodyn\n"
   ]
  },
  {
   "cell_type": "markdown",
   "id": "87945878",
   "metadata": {},
   "source": [
    "# Run GEODYN with HASDM:\n"
   ]
  },
  {
   "cell_type": "code",
   "execution_count": 5,
   "id": "4d942176",
   "metadata": {
    "ExecuteTime": {
     "end_time": "2022-01-26T21:29:42.717531Z",
     "start_time": "2022-01-26T21:29:42.702555Z"
    }
   },
   "outputs": [],
   "source": [
    "# %load_ext autoreload\n",
    "# %autoreload 2\n",
    "\n",
    "# import sys  \n",
    "# import pickle \n",
    "# sys.path.insert(0, '/data/geodyn_proj/pygeodyn/pygeodyn_develop/')\n",
    "# from PYGEODYN import Pygeodyn\n",
    "\n",
    "# run_settings = '/data/zach_work/side_projects/Run_HASDM_settings.yaml'\n",
    "\n",
    "# ### Load the data into an object\n",
    "# RunObject = Pygeodyn(run_settings)\n",
    "# RunObject.RUN_GEODYN()\n",
    "\n",
    "\n"
   ]
  },
  {
   "cell_type": "code",
   "execution_count": 6,
   "id": "77025157",
   "metadata": {
    "ExecuteTime": {
     "end_time": "2022-01-26T21:29:46.661641Z",
     "start_time": "2022-01-26T21:29:42.720120Z"
    }
   },
   "outputs": [],
   "source": [
    "\n",
    "models_list = [\n",
    "               'msis2'    ,\n",
    "               'dtm87'    ,\n",
    "               'jaachia71',\n",
    "               'tiegcm_oc',\n",
    "               ] \n",
    "\n",
    "Obj_Geodyn = {}\n",
    "for imodel,val in enumerate( models_list ):  \n",
    "\n",
    "    dir_save = '/data/data_geodyn/results/icesat2/'+val+'/'+val+'_acceloff_valid_ctrlrun'+'/'\n",
    "    filehandler = open(dir_save+'DenModelCompares313_327'+val+'.pkl', 'rb') \n",
    "    Obj_Geodyn[val] = pickle.load(filehandler)\n",
    "    \n",
    "    filehandler.close()"
   ]
  },
  {
   "cell_type": "code",
   "execution_count": 7,
   "id": "bddabe02",
   "metadata": {
    "ExecuteTime": {
     "end_time": "2022-01-26T21:29:46.818241Z",
     "start_time": "2022-01-26T21:29:46.663877Z"
    }
   },
   "outputs": [
    {
     "name": "stdout",
     "output_type": "stream",
     "text": [
      "The autoreload extension is already loaded. To reload it, use:\n",
      "  %reload_ext autoreload\n"
     ]
    },
    {
     "ename": "KeyError",
     "evalue": "'cd_model'",
     "output_type": "error",
     "traceback": [
      "\u001b[0;31m---------------------------------------------------------------------------\u001b[0m",
      "\u001b[0;31mKeyError\u001b[0m                                  Traceback (most recent call last)",
      "\u001b[0;32m<ipython-input-7-096817d2ac71>\u001b[0m in \u001b[0;36m<module>\u001b[0;34m\u001b[0m\n\u001b[1;32m     12\u001b[0m \u001b[0;34m\u001b[0m\u001b[0m\n\u001b[1;32m     13\u001b[0m     \u001b[0;31m### Load the data into an object\u001b[0m\u001b[0;34m\u001b[0m\u001b[0;34m\u001b[0m\u001b[0;34m\u001b[0m\u001b[0m\n\u001b[0;32m---> 14\u001b[0;31m     \u001b[0mObj_Geodyn\u001b[0m\u001b[0;34m[\u001b[0m\u001b[0mval\u001b[0m\u001b[0;34m]\u001b[0m \u001b[0;34m=\u001b[0m \u001b[0mPygeodyn\u001b[0m\u001b[0;34m(\u001b[0m\u001b[0mrun_settings\u001b[0m\u001b[0;34m)\u001b[0m\u001b[0;34m\u001b[0m\u001b[0;34m\u001b[0m\u001b[0m\n\u001b[0m\u001b[1;32m     15\u001b[0m     \u001b[0mObj_Geodyn\u001b[0m\u001b[0;34m[\u001b[0m\u001b[0mval\u001b[0m\u001b[0;34m]\u001b[0m\u001b[0;34m.\u001b[0m\u001b[0mgetData\u001b[0m\u001b[0;34m(\u001b[0m\u001b[0;34m)\u001b[0m\u001b[0;34m\u001b[0m\u001b[0;34m\u001b[0m\u001b[0m\n\u001b[1;32m     16\u001b[0m     \u001b[0mObj_Geodyn\u001b[0m\u001b[0;34m[\u001b[0m\u001b[0mval\u001b[0m\u001b[0;34m]\u001b[0m\u001b[0;34m.\u001b[0m\u001b[0mpost_getData_ValidationMetrics\u001b[0m\u001b[0;34m(\u001b[0m\u001b[0;34m)\u001b[0m\u001b[0;34m\u001b[0m\u001b[0;34m\u001b[0m\u001b[0m\n",
      "\u001b[0;32m/data/geodyn_proj/pygeodyn/pygeodyn_develop/PYGEODYN.py\u001b[0m in \u001b[0;36m__init__\u001b[0;34m(self, run_settings_yaml)\u001b[0m\n\u001b[1;32m     70\u001b[0m         \u001b[0mself\u001b[0m\u001b[0;34m.\u001b[0m\u001b[0mrecompile_on\u001b[0m \u001b[0;34m=\u001b[0m \u001b[0mself\u001b[0m\u001b[0;34m.\u001b[0m\u001b[0mrun_settings\u001b[0m\u001b[0;34m[\u001b[0m\u001b[0;34m'recompile_on'\u001b[0m\u001b[0;34m]\u001b[0m\u001b[0;34m\u001b[0m\u001b[0;34m\u001b[0m\u001b[0m\n\u001b[1;32m     71\u001b[0m \u001b[0;34m\u001b[0m\u001b[0m\n\u001b[0;32m---> 72\u001b[0;31m         \u001b[0mself\u001b[0m\u001b[0;34m.\u001b[0m\u001b[0mcd_model\u001b[0m \u001b[0;34m=\u001b[0m  \u001b[0mself\u001b[0m\u001b[0;34m.\u001b[0m\u001b[0mrun_settings\u001b[0m\u001b[0;34m[\u001b[0m\u001b[0;34m'cd_model'\u001b[0m\u001b[0;34m]\u001b[0m\u001b[0;34m\u001b[0m\u001b[0;34m\u001b[0m\u001b[0m\n\u001b[0m\u001b[1;32m     73\u001b[0m \u001b[0;34m\u001b[0m\u001b[0m\n\u001b[1;32m     74\u001b[0m         \u001b[0;31m### Populate the GEODYN user input files with control options\u001b[0m\u001b[0;34m\u001b[0m\u001b[0;34m\u001b[0m\u001b[0;34m\u001b[0m\u001b[0m\n",
      "\u001b[0;31mKeyError\u001b[0m: 'cd_model'"
     ]
    }
   ],
   "source": [
    "%load_ext autoreload\n",
    "%autoreload 2\n",
    "\n",
    "import sys  \n",
    "import pickle \n",
    "sys.path.insert(0, '/data/geodyn_proj/pygeodyn/pygeodyn_develop/')\n",
    "from PYGEODYN import Pygeodyn\n",
    "\n",
    "\n",
    "for i,val in enumerate( ['hasdm_oc'] ): \n",
    "    run_settings = '/data/zach_work/side_projects/Run_HASDM_settings.yaml'\n",
    "\n",
    "    ### Load the data into an object\n",
    "    Obj_Geodyn[val] = Pygeodyn(run_settings)\n",
    "    Obj_Geodyn[val].getData()\n",
    "    Obj_Geodyn[val].post_getData_ValidationMetrics()\n",
    "\n",
    "    \n",
    "    \n",
    "#     #### Pickle the object to save it\n",
    "#     print('Saving pickle')\n",
    "#     dir_save = '/data/data_geodyn/results/icesat2/'+val+'/'+val+'_acceloff_valid_ctrlrun'+'/'\n",
    "#     filehandler = open(dir_save+'DenModelCompares313_327'+val+'.pkl', 'wb') \n",
    "#     pickle.dump(Obj_Geodyn, filehandler)\n",
    "#     filehandler.close()\n",
    "#     Obj_Geodyn = 0\n",
    "#     print('Saved pickle')\n"
   ]
  },
  {
   "cell_type": "code",
   "execution_count": 9,
   "id": "b3b8380a",
   "metadata": {
    "ExecuteTime": {
     "end_time": "2022-01-26T21:30:27.431848Z",
     "start_time": "2022-01-26T21:30:27.413052Z"
    }
   },
   "outputs": [
    {
     "ename": "KeyError",
     "evalue": "'hasdm_oc'",
     "output_type": "error",
     "traceback": [
      "\u001b[0;31m---------------------------------------------------------------------------\u001b[0m",
      "\u001b[0;31mKeyError\u001b[0m                                  Traceback (most recent call last)",
      "\u001b[0;32m<ipython-input-9-5f14a1350f8a>\u001b[0m in \u001b[0;36m<module>\u001b[0;34m\u001b[0m\n\u001b[1;32m      1\u001b[0m \u001b[0;32mfor\u001b[0m \u001b[0mimodel\u001b[0m\u001b[0;34m,\u001b[0m\u001b[0mval\u001b[0m \u001b[0;32min\u001b[0m \u001b[0menumerate\u001b[0m\u001b[0;34m(\u001b[0m \u001b[0mmodels_list\u001b[0m \u001b[0;34m)\u001b[0m\u001b[0;34m:\u001b[0m\u001b[0;34m\u001b[0m\u001b[0;34m\u001b[0m\u001b[0m\n\u001b[0;32m----> 2\u001b[0;31m     \u001b[0mObj_Geodyn\u001b[0m\u001b[0;34m[\u001b[0m\u001b[0mval\u001b[0m\u001b[0;34m]\u001b[0m\u001b[0;34m.\u001b[0m\u001b[0m__dict__\u001b[0m\u001b[0;34m[\u001b[0m\u001b[0;34m'global_params'\u001b[0m\u001b[0;34m]\u001b[0m\u001b[0;34m[\u001b[0m\u001b[0;34m'arc_input'\u001b[0m\u001b[0;34m]\u001b[0m \u001b[0;34m=\u001b[0m \u001b[0mObj_Geodyn\u001b[0m\u001b[0;34m[\u001b[0m\u001b[0;34m'hasdm_oc'\u001b[0m\u001b[0;34m]\u001b[0m\u001b[0;34m.\u001b[0m\u001b[0m__dict__\u001b[0m\u001b[0;34m[\u001b[0m\u001b[0;34m'global_params'\u001b[0m\u001b[0;34m]\u001b[0m\u001b[0;34m[\u001b[0m\u001b[0;34m'arc_input'\u001b[0m\u001b[0;34m]\u001b[0m\u001b[0;34m[\u001b[0m\u001b[0;34m:\u001b[0m\u001b[0;36m2\u001b[0m\u001b[0;34m]\u001b[0m\u001b[0;34m\u001b[0m\u001b[0;34m\u001b[0m\u001b[0m\n\u001b[0m",
      "\u001b[0;31mKeyError\u001b[0m: 'hasdm_oc'"
     ]
    }
   ],
   "source": [
    "for imodel,val in enumerate( models_list ):  \n",
    "    Obj_Geodyn[val].__dict__['global_params']['arc_input'] = Obj_Geodyn['hasdm_oc'].__dict__['global_params']['arc_input'][:2]"
   ]
  },
  {
   "cell_type": "code",
   "execution_count": 10,
   "id": "d6988e90",
   "metadata": {
    "ExecuteTime": {
     "end_time": "2022-01-26T21:30:27.599853Z",
     "start_time": "2022-01-26T21:30:27.579860Z"
    }
   },
   "outputs": [
    {
     "data": {
      "text/plain": [
       "['2018.313', '2018.314']"
      ]
     },
     "execution_count": 10,
     "metadata": {},
     "output_type": "execute_result"
    }
   ],
   "source": [
    "Obj_Geodyn['tiegcm_oc'].__dict__['global_params']['arc_input'][:2]"
   ]
  },
  {
   "cell_type": "markdown",
   "id": "01e8d1ca",
   "metadata": {},
   "source": [
    "# Plots"
   ]
  },
  {
   "cell_type": "code",
   "execution_count": 11,
   "id": "bfdc42b5",
   "metadata": {
    "ExecuteTime": {
     "end_time": "2022-01-26T21:30:28.724958Z",
     "start_time": "2022-01-26T21:30:27.812133Z"
    }
   },
   "outputs": [],
   "source": [
    "import plotly.graph_objects as go\n",
    "from plotly.offline import plot, iplot\n",
    "from plotly.subplots import make_subplots\n",
    "import plotly.express as px\n",
    "import pandas as pd\n",
    "\n",
    "import numpy as np\n",
    "\n",
    "config = dict({\n",
    "                'displayModeBar': True,\n",
    "                'responsive': False,\n",
    "                'staticPlot': False,\n",
    "                'displaylogo': False,\n",
    "                'showTips': False,\n",
    "                })\n",
    "\n",
    "\n",
    "\n",
    "import numpy as np\n",
    "import pandas as pd\n",
    "import os\n",
    "\n",
    "# px.colors.colorscale_to_colors()\n",
    "# plotly.colors.PLOTLY_SCALES[\"Viridis\"]\n",
    "\n",
    "def get_color(colorscale_name, loc):\n",
    "    from _plotly_utils.basevalidators import ColorscaleValidator\n",
    "    # first parameter: Name of the property being validated\n",
    "    # second parameter: a string, doesn't really matter in our use case\n",
    "    cv = ColorscaleValidator(\"colorscale\", \"\")\n",
    "    # colorscale will be a list of lists: [[loc1, \"rgb1\"], [loc2, \"rgb2\"], ...] \n",
    "    colorscale = cv.validate_coerce(colorscale_name)\n",
    "    \n",
    "    if hasattr(loc, \"__iter__\"):\n",
    "        return [get_continuous_color(colorscale, x) for x in loc]\n",
    "    return get_continuous_color(colorscale, loc)\n",
    "        \n",
    "\n",
    "# Identical to Adam's answer\n",
    "import plotly.colors\n",
    "from PIL import ImageColor\n",
    "\n",
    "def get_continuous_color(colorscale, intermed):\n",
    "    \"\"\"\n",
    "    Plotly continuous colorscales assign colors to the range [0, 1]. This function computes the intermediate\n",
    "    color for any value in that range.\n",
    "\n",
    "    Plotly doesn't make the colorscales directly accessible in a common format.\n",
    "    Some are ready to use:\n",
    "    \n",
    "        colorscale = plotly.colors.PLOTLY_SCALES[\"Greens\"]\n",
    "\n",
    "    Others are just swatches that need to be constructed into a colorscale:\n",
    "\n",
    "        viridis_colors, scale = plotly.colors.convert_colors_to_same_type(plotly.colors.sequential.Viridis)\n",
    "        colorscale = plotly.colors.make_colorscale(viridis_colors, scale=scale)\n",
    "\n",
    "    :param colorscale: A plotly continuous colorscale defined with RGB string colors.\n",
    "    :param intermed: value in the range [0, 1]\n",
    "    :return: color in rgb string format\n",
    "    :rtype: str\n",
    "    \"\"\"\n",
    "    if len(colorscale) < 1:\n",
    "        raise ValueError(\"colorscale must have at least one color\")\n",
    "\n",
    "    hex_to_rgb = lambda c: \"rgb\" + str(ImageColor.getcolor(c, \"RGB\"))\n",
    "\n",
    "    if intermed <= 0 or len(colorscale) == 1:\n",
    "        c = colorscale[0][1]\n",
    "        return c if c[0] != \"#\" else hex_to_rgb(c)\n",
    "    if intermed >= 1:\n",
    "        c = colorscale[-1][1]\n",
    "        return c if c[0] != \"#\" else hex_to_rgb(c)\n",
    "\n",
    "    for cutoff, color in colorscale:\n",
    "        if intermed > cutoff:\n",
    "            low_cutoff, low_color = cutoff, color\n",
    "        else:\n",
    "            high_cutoff, high_color = cutoff, color\n",
    "            break\n",
    "\n",
    "    if (low_color[0] == \"#\") or (high_color[0] == \"#\"):\n",
    "        # some color scale names (such as cividis) returns:\n",
    "        # [[loc1, \"hex1\"], [loc2, \"hex2\"], ...]\n",
    "        low_color = hex_to_rgb(low_color)\n",
    "        high_color = hex_to_rgb(high_color)\n",
    "\n",
    "    return plotly.colors.find_intermediate_color(\n",
    "        lowcolor=low_color,\n",
    "        highcolor=high_color,\n",
    "        intermed=((intermed - low_cutoff) / (high_cutoff - low_cutoff)),\n",
    "        colortype=\"rgb\",\n",
    "    )\n",
    "\n",
    "\n",
    "\n",
    "\n",
    "cols = get_color(\"Viridis\", np.linspace(0, 1, 5))\n",
    "map_cols = np.linspace(0, 1, 5)\n",
    "colorscale=[]\n",
    "for i,val in enumerate(map_cols):\n",
    "    colorscale.append([val, cols[i]])\n",
    "    \n",
    "\n",
    "\n",
    "\n",
    "# Simplify Plotting Schemes:\n",
    "col1 =  px.colors.qualitative.Plotly[0]\n",
    "col2 =  px.colors.qualitative.Plotly[1]\n",
    "col3 =  px.colors.qualitative.Plotly[2]\n",
    "col4 =  px.colors.qualitative.Plotly[3]\n",
    "col5 =  px.colors.qualitative.Plotly[4]\n",
    "col6 =  px.colors.qualitative.Plotly[5]\n"
   ]
  },
  {
   "cell_type": "code",
   "execution_count": 12,
   "id": "c0065c90",
   "metadata": {
    "ExecuteTime": {
     "end_time": "2022-01-26T21:30:28.801594Z",
     "start_time": "2022-01-26T21:30:28.786664Z"
    }
   },
   "outputs": [],
   "source": []
  },
  {
   "cell_type": "code",
   "execution_count": null,
   "id": "6542b56b",
   "metadata": {
    "ExecuteTime": {
     "end_time": "2022-01-26T21:29:46.825430Z",
     "start_time": "2022-01-26T21:29:39.408Z"
    }
   },
   "outputs": [],
   "source": [
    "def legend_as_annotation(fig, den_model_string, color_it, x_annot, y_annot):\n",
    "    fig.add_annotation(\n",
    "            x=x_annot,\n",
    "            y=y_annot,\n",
    "            xref=\"x domain\",\n",
    "            yref=\"y domain\",\n",
    "            showarrow=False,\n",
    "            text=den_model_string,\n",
    "            font=dict(\n",
    "                size=16,\n",
    "                color=\"#ffffff\"\n",
    "                ),\n",
    "            align=\"center\",\n",
    "            bordercolor=\"#c7c7c7\",\n",
    "            borderwidth=2,\n",
    "            borderpad=4,\n",
    "            bgcolor=color_it,\n",
    "            opacity=0.9\n",
    "            )\n",
    "\n",
    "    return(fig)"
   ]
  },
  {
   "cell_type": "markdown",
   "id": "dd49862a",
   "metadata": {},
   "source": [
    "# Plot Density"
   ]
  },
  {
   "cell_type": "code",
   "execution_count": null,
   "id": "05bfb9b1",
   "metadata": {
    "ExecuteTime": {
     "end_time": "2022-01-26T21:29:46.826305Z",
     "start_time": "2022-01-26T21:29:39.411Z"
    }
   },
   "outputs": [],
   "source": [
    "def Plot_Densitycomparison(fig, obj_m1, plot_num):\n",
    "\n",
    "    if plot_num == 0:\n",
    "        col = col1\n",
    "        x_annot = x_annot_val\n",
    "        y_annot1 = 1\n",
    "        y_annot2 = .9\n",
    "        m_size = 4.5\n",
    "    elif plot_num == 1:\n",
    "        x_annot = x_annot_val\n",
    "        y_annot1 = .8\n",
    "        y_annot2 = .7\n",
    "        col = col2\n",
    "        m_size = 4\n",
    "    elif plot_num == 2:\n",
    "        x_annot = x_annot_val\n",
    "        y_annot1 = .5\n",
    "        y_annot2 = .5\n",
    "        col = col3\n",
    "        m_size = 3.5\n",
    "    elif plot_num == 3:\n",
    "        x_annot = x_annot_val\n",
    "        y_annot1 = .2\n",
    "        y_annot2 = .3\n",
    "        col = col4\n",
    "        m_size = 3\n",
    "    elif plot_num == 4:\n",
    "        x_annot = x_annot_val\n",
    "        y_annot1 =  0 \n",
    "        y_annot2 = .1\n",
    "        col = col5\n",
    "        m_size = 3\n",
    "    elif plot_num == 5:\n",
    "        x_annot = x_annot_val\n",
    "        y_annot1 =  0 \n",
    "        y_annot2 = .1\n",
    "        col = col6\n",
    "        m_size = 3\n",
    "\n",
    "\n",
    "\n",
    "    model_m1 = obj_m1.__dict__['global_params']['den_model']\n",
    "    for ii,arc in enumerate(obj_m1.__dict__['global_params']['arc_input'][:]):\n",
    "        \n",
    "        \n",
    "        #### INDEX THE DENSITY DF correctly\n",
    "        vals  = np.arange(obj_m1.__dict__['Density'][arc].index[0],obj_m1.__dict__['Density'][arc].index[-1]+1)\n",
    "        df = obj_m1.__dict__['Density'][arc].set_index('Date',drop=False ) \n",
    "        df['i_vals'] = vals\n",
    "        index_date = df.loc[df.index.max()]['i_vals'].min()\n",
    "\n",
    "        \n",
    "        str_run_param = 'run_parameters'+ arc\n",
    "        final_iter = obj_m1.__dict__[str_run_param]['str_iteration']\n",
    "        i_arc = ii+1\n",
    "        \n",
    "        print('----',model_m1,'----')\n",
    "        print('     mean:    ',np.mean(obj_m1.Density[arc]['rho (kg/m**3)']),'----')\n",
    "        print('     variance:',np.std(obj_m1.Density[arc]['rho (kg/m**3)']),'----')\n",
    "        print()\n",
    "        fig.add_trace(go.Scattergl(  x=obj_m1.Density[arc]['Date'][:index_date][:],\n",
    "                                     y=obj_m1.Density[arc]['rho (kg/m**3)'][:index_date][:],\n",
    "                                     name= model_m1+arc,\n",
    "                                     mode='markers',\n",
    "                                     opacity=1,\n",
    "                                     marker=dict(\n",
    "                                        color=col, \n",
    "                                        size=m_size,\n",
    "                                                ),\n",
    "                                     showlegend=False,\n",
    "                                  ),\n",
    "                                      secondary_y=False,\n",
    "                                       row=1, col=1,\n",
    "                                  )\n",
    "\n",
    "#         (mean,rms,rms_about_zero) = STATS_residuals(data_resids['T'], 'in-track')\n",
    "\n",
    "#         fig = add_stats_annotation(fig, model_m1+'<br>Mean='+ str(np.round(mean,4))+'<br>RMS='+ str(np.round(rms_about_zero,4)), col , x_annot, y_annot1)\n",
    "\n",
    "\n",
    "    fig.update_yaxes( title=\"rho (kg/m**3)\", type='log', exponentformat= 'power',row=1, col=1)\n",
    "    fig.update_xaxes( title=\"Date\", row=1, col=1)\n",
    "\n",
    "    return(fig)\n",
    "\n",
    "\n",
    "\n",
    "def orb_avg(den_df, arc):\n",
    "    \n",
    "    \n",
    "    #### Find the index for the correct date\n",
    "    vals  = np.arange(den_df[arc].index[0],den_df[arc].index[-1]+1)\n",
    "    df = den_df[arc].set_index('Date',drop=False ) \n",
    "    df['i_vals'] = vals\n",
    "    index_date = df.loc[df.index.max()]['i_vals'].min()\n",
    "    \n",
    "#     print('index_date', index_date)\n",
    "    lat = np.asarray(den_df[arc]['Lat'][:index_date])\n",
    "    time_pd = pd.to_datetime(den_df[arc]['Date'][:index_date])\n",
    "    i = np.nonzero( lat[1:]*lat[0:-1]  <  np.logical_and(0 , lat[1:] > lat[0:-1] )  )\n",
    "    i = i[0]\n",
    "\n",
    "    d_avg = np.zeros(np.size(i))\n",
    "    height_avg = np.zeros(np.size(i))\n",
    "    \n",
    "#     print('time_pd',time_pd)\n",
    "\n",
    "    time_avg = []\n",
    "    d_avg_rolling = []\n",
    "    \n",
    "    roll_avg_count = 0\n",
    "    for j in range(np.size(i)-1):\n",
    "        d_avg[j]      = np.mean(den_df[arc]['rho (kg/m**3)'  ][i[j] : i[j+1]-1  ]  )\n",
    "        height_avg[j] = np.mean(den_df[arc]['Height (meters)'][i[j] : i[j+1]-1  ]  )\n",
    "#         mean_time      = np.mean(time_pd[   i[j] : i[j+1]-1  ])\n",
    "        t1 = pd.to_datetime(time_pd[ i[j]    ])\n",
    "        t2 = pd.to_datetime(time_pd[ i[j+1]-1])\n",
    "        datemiddle = pd.Timestamp(t1) + (pd.Timestamp(t2) - pd.Timestamp(t1)) / 2\n",
    "\n",
    "        time_avg.append(datemiddle)\n",
    "\n",
    "        if roll_avg_count ==1:\n",
    "            d_avg_rolling.append(np.mean([ d_avg[j],  d_avg[j-1]]))\n",
    "            roll_avg_count =0\n",
    "            \n",
    "        roll_avg_count+=1 \n",
    "    d_avg_rolling.append(np.mean([ d_avg[j],  d_avg[j-1]]))\n",
    "        \n",
    "    return(time_avg, d_avg, d_avg_rolling )\n",
    "    \n",
    "\n",
    "def plot_density_orbit_avg(fig, obj_m1, plot_num ):\n",
    "    \n",
    "    model_m1 = obj_m1.__dict__['global_params']['den_model']\n",
    "#     str_run_param = 'run_parameters'+ arc\n",
    "    if plot_num == 0:\n",
    "        col = col1\n",
    "        x_annot = 1.09\n",
    "        y_annot1 = 1\n",
    "        y_annot2 = .9\n",
    "        m_size = 3.5\n",
    "    elif plot_num == 1:\n",
    "        x_annot = 1.09\n",
    "        y_annot1 = .8\n",
    "        y_annot2 = .7\n",
    "        col = col2\n",
    "        m_size = 3.5\n",
    "    elif plot_num == 2:\n",
    "        x_annot = 1.09\n",
    "        y_annot1 = .5\n",
    "        y_annot2 = .5\n",
    "        col = col3\n",
    "        m_size = 3.5\n",
    "    elif plot_num == 3:\n",
    "        x_annot = 1.09\n",
    "        y_annot1 = .2\n",
    "        y_annot2 = .3\n",
    "        col = col4\n",
    "        m_size = 3.5\n",
    "    elif plot_num == 4:\n",
    "        x_annot = 1.09\n",
    "        y_annot1 =  0 \n",
    "        y_annot2 = .1\n",
    "        col = col5\n",
    "        m_size = 3.5\n",
    "    elif plot_num == 5:\n",
    "        x_annot = 1.09\n",
    "        y_annot1 =  0 \n",
    "        y_annot2 = .1\n",
    "        col = col6\n",
    "        m_size = 3.5\n",
    "\n",
    "\n",
    "#     (f107a,\n",
    "#     f107d,\n",
    "#     date,\n",
    "#     ap) = get_geomag_and_solarflux_data(obj_m1)\n",
    "\n",
    "\n",
    "    for ii,arc in enumerate(obj_m1.__dict__['global_params']['arc_input']):\n",
    "        \n",
    "        vals  = np.arange(obj_m1.__dict__['Density'][arc].index[0],obj_m1.__dict__['Density'][arc].index[-1]+1)\n",
    "        df = obj_m1.__dict__['Density'][arc].set_index('Date',drop=False ) \n",
    "        df['i_vals'] = vals\n",
    "        index_date = df.loc[df.index.max()]['i_vals'].min()\n",
    "\n",
    "        \n",
    "        time_avg,d_avg, d_avg_rolling = orb_avg(obj_m1.Density, arc)\n",
    "        \n",
    "        \n",
    "        fig.add_trace(go.Scattergl(x=time_avg,\n",
    "                                 y=d_avg_rolling,\n",
    "#                                  y=d_avg,\n",
    "#                                 name= ' Arc ' +str(i_arc) ,\n",
    "                                 mode='markers',\n",
    "                                 marker=dict(\n",
    "                                 color=col,\n",
    "                                 size=7,),\n",
    "                                 showlegend=False,\n",
    "                                   ),\n",
    "                                   row=1, col=1,\n",
    "                                   )\n",
    "        \n",
    "\n",
    "        fig.update_yaxes(type=\"log\", exponentformat= 'power',row=1, col=1)\n",
    "    fig.update_xaxes(title_text=\"Date\", row=1, col=1)\n",
    "    fig.update_yaxes(title_text=\"kg/m^3\", row=1, col=1)\n",
    "#     fig.update_yaxes(title_text=\"nT\", row=2, col=1)\n",
    "#     fig.update_yaxes(title_text=\"sfu\", row=3, col=1)\n",
    "    fig.update_layout(legend= {'itemsizing': 'constant'})\n",
    "#     fig.update_layout(\n",
    "#         font=dict(          size=18, ),\n",
    "#         autosize=False,\n",
    "#         width=900,\n",
    "#         height=1000,)\n",
    "    \n",
    "    return(fig)\n",
    "\n"
   ]
  },
  {
   "cell_type": "code",
   "execution_count": 8,
   "id": "48f17782",
   "metadata": {
    "ExecuteTime": {
     "end_time": "2022-01-26T21:30:20.203581Z",
     "start_time": "2022-01-26T21:30:20.179896Z"
    }
   },
   "outputs": [
    {
     "name": "stdout",
     "output_type": "stream",
     "text": [
      "The autoreload extension is already loaded. To reload it, use:\n",
      "  %reload_ext autoreload\n"
     ]
    },
    {
     "ename": "NameError",
     "evalue": "name 'make_subplots' is not defined",
     "output_type": "error",
     "traceback": [
      "\u001b[0;31m---------------------------------------------------------------------------\u001b[0m",
      "\u001b[0;31mNameError\u001b[0m                                 Traceback (most recent call last)",
      "\u001b[0;32m<ipython-input-8-026c02052733>\u001b[0m in \u001b[0;36m<module>\u001b[0;34m\u001b[0m\n\u001b[1;32m      3\u001b[0m \u001b[0;34m\u001b[0m\u001b[0m\n\u001b[1;32m      4\u001b[0m \u001b[0;34m\u001b[0m\u001b[0m\n\u001b[0;32m----> 5\u001b[0;31m fig = make_subplots(\n\u001b[0m\u001b[1;32m      6\u001b[0m     \u001b[0mrows\u001b[0m\u001b[0;34m=\u001b[0m\u001b[0;36m1\u001b[0m\u001b[0;34m,\u001b[0m \u001b[0mcols\u001b[0m\u001b[0;34m=\u001b[0m\u001b[0;36m1\u001b[0m\u001b[0;34m,\u001b[0m\u001b[0;34m\u001b[0m\u001b[0;34m\u001b[0m\u001b[0m\n\u001b[1;32m      7\u001b[0m     \u001b[0msubplot_titles\u001b[0m\u001b[0;34m=\u001b[0m\u001b[0;34m(\u001b[0m\u001b[0;34m[\u001b[0m\u001b[0;34m'Sampled Orbit Densities'\u001b[0m\u001b[0;34m]\u001b[0m\u001b[0;34m)\u001b[0m\u001b[0;34m,\u001b[0m\u001b[0;34m\u001b[0m\u001b[0;34m\u001b[0m\u001b[0m\n",
      "\u001b[0;31mNameError\u001b[0m: name 'make_subplots' is not defined"
     ]
    }
   ],
   "source": [
    "%load_ext autoreload\n",
    "%autoreload 2\n",
    "\n",
    "\n",
    "fig = make_subplots(\n",
    "    rows=1, cols=1,\n",
    "    subplot_titles=(['Sampled Orbit Densities']),\n",
    "    vertical_spacing = 0.15)\n",
    "\n",
    "\n",
    "# fig = Plot_Densitycomparison(fig, Obj_Geodyn['msis2'] ,2)\n",
    "# fig = Plot_Densitycomparison(fig, Obj_Geodyn['dtm87'] ,3)\n",
    "# fig = Plot_Densitycomparison(fig, Obj_Geodyn['jaachia71'] , 4)\n",
    "# fig = Plot_Densitycomparison(fig, Obj_Geodyn['tiegcm_oc'] ,5)\n",
    "fig = Plot_Densitycomparison(fig, Obj_Geodyn['hasdm_oc'] ,1)\n",
    "\n",
    "fig.show(config=config)\n",
    "\n",
    "\n",
    "# fig.write_image(plots_dir+ 'Density_along_orbit.jpg', format='jpg')\n"
   ]
  },
  {
   "cell_type": "code",
   "execution_count": null,
   "id": "27533f74",
   "metadata": {
    "ExecuteTime": {
     "end_time": "2022-01-26T21:29:46.827835Z",
     "start_time": "2022-01-26T21:29:39.418Z"
    }
   },
   "outputs": [],
   "source": [
    "%load_ext autoreload\n",
    "%autoreload 2\n",
    "\n",
    "\n",
    "fig = make_subplots(\n",
    "    rows=1, cols=1,\n",
    "    subplot_titles=(['Orbit Averaged Densities']),\n",
    "    vertical_spacing = 0.15)\n",
    "\n",
    "\n",
    "fig = plot_density_orbit_avg(fig, Obj_Geodyn['msis2'] ,2)\n",
    "fig = plot_density_orbit_avg(fig, Obj_Geodyn['dtm87'] ,3)\n",
    "fig = plot_density_orbit_avg(fig, Obj_Geodyn['jaachia71'] , 4)\n",
    "fig = plot_density_orbit_avg(fig, Obj_Geodyn['tiegcm_oc'] ,5)\n",
    "fig = plot_density_orbit_avg(fig, Obj_Geodyn['hasdm_oc'] ,1)\n",
    "\n",
    "fig.show(config=config)\n",
    "\n",
    "\n",
    "# fig.write_image(plots_dir+ 'Density_along_orbit.jpg', format='jpg')\n"
   ]
  },
  {
   "cell_type": "markdown",
   "id": "da73dfc9",
   "metadata": {},
   "source": [
    "## Total RMS Timeseries"
   ]
  },
  {
   "cell_type": "code",
   "execution_count": null,
   "id": "0be9413b",
   "metadata": {
    "ExecuteTime": {
     "end_time": "2022-01-26T21:29:46.828661Z",
     "start_time": "2022-01-26T21:29:39.421Z"
    }
   },
   "outputs": [],
   "source": [
    "\n",
    "\n",
    "\n",
    "\n",
    "def plot_TotalRMS_NTW(fig, obj_m1, plotname, plot_num):\n",
    "\n",
    "    if plot_num == 0:\n",
    "        col = col1\n",
    "        x_annot = x_annot_val\n",
    "        y_annot1 = 1\n",
    "        y_annot2 = .9\n",
    "        m_size = 3.5\n",
    "    elif plot_num == 1:\n",
    "        x_annot = x_annot_val\n",
    "        y_annot1 = .8\n",
    "        y_annot2 = .8\n",
    "        col = col2\n",
    "        m_size = 3.5\n",
    "    elif plot_num == 2:\n",
    "        x_annot = x_annot_val\n",
    "        y_annot1 = .5\n",
    "        y_annot2 = .7\n",
    "        col = col3\n",
    "        m_size = 3.5\n",
    "    elif plot_num == 3:\n",
    "        x_annot = x_annot_val\n",
    "        y_annot1 = .2\n",
    "        y_annot2 = .55\n",
    "        col = col4\n",
    "        m_size = 3.5\n",
    "    elif plot_num == 4:\n",
    "        x_annot = x_annot_val\n",
    "        y_annot1 =  0 \n",
    "        y_annot2 = .45\n",
    "        col = col5\n",
    "        m_size = 3.5\n",
    "        \n",
    "    elif plot_num == 5:\n",
    "        x_annot = x_annot_val\n",
    "        y_annot1 =  0 \n",
    "        y_annot2 = .35\n",
    "        col = col6\n",
    "        m_size = 3.5\n",
    "        \n",
    "    import datetime\n",
    "    doy_dates = []\n",
    "    for i in obj_m1.__dict__['global_params']['arc_input']:\n",
    "        doy_dates.append(datetime.datetime(int(i.split('.')[0]), 1, 1) + datetime.timedelta(int(i.split('.')[1]) - 1))\n",
    "    \n",
    "\n",
    "    text_ntw = []\n",
    "    for itxt,txt in enumerate(obj_m1.__dict__['Statistics']['RMS_total_NTW']):\n",
    "        text_ntw.append(str(np.round(obj_m1.__dict__['Statistics']['RMS_total_NTW'][itxt],3)))\n",
    "    fig.add_trace(go.Scattergl(\n",
    "                             x=doy_dates,\n",
    "                             y=obj_m1.__dict__['Statistics']['RMS_total_NTW'],\n",
    "                         name='NTW',\n",
    "                         mode='markers+lines',\n",
    "                         marker=dict(\n",
    "                             color=col,\n",
    "                             size=10,\n",
    "                                    ),\n",
    "                    text = text_ntw,\n",
    "                    textposition = \"top center\",\n",
    "                    textfont = {'color': [col]*(itxt+1)},\n",
    "                         showlegend=False),\n",
    "                         secondary_y=False,\n",
    "                         row=1, col=1)\n",
    "    \n",
    "    fig = legend_as_annotation(fig, plotname, col, x_annot, y_annot2)\n",
    "    fig.update_yaxes( title=\"Total RMS [meters]\" ,type=\"linear\" , exponentformat= 'power',row=1, col=1)\n",
    "    fig.update_xaxes( title=\"Date\"    ,row=1, col=1)\n",
    "\n",
    "\n",
    "    return(fig)\n",
    "    \n"
   ]
  },
  {
   "cell_type": "code",
   "execution_count": null,
   "id": "379f1825",
   "metadata": {
    "ExecuteTime": {
     "end_time": "2022-01-26T21:29:46.829409Z",
     "start_time": "2022-01-26T21:29:39.424Z"
    }
   },
   "outputs": [],
   "source": [
    "%load_ext autoreload\n",
    "%autoreload 2\n",
    "\n",
    "fig = make_subplots(\n",
    "    rows=1, cols=1,\n",
    "    subplot_titles=(['Total RMS in the NTW Coordinate System']),\n",
    "    vertical_spacing = 0.1)\n",
    "\n",
    "\n",
    "\n",
    "fig = plot_TotalRMS_NTW(fig,  Obj_Geodyn['msis2'] ,'msis2' , 2 )\n",
    "fig = plot_TotalRMS_NTW(fig,  Obj_Geodyn['dtm87'] ,'dtm87' , 3 )\n",
    "fig = plot_TotalRMS_NTW(fig,  Obj_Geodyn['jaachia71'] ,'jaachia71' , 4 )\n",
    "fig = plot_TotalRMS_NTW(fig,  Obj_Geodyn['tiegcm_oc'] ,'tiegcm_oc' , 5 )\n",
    "fig = plot_TotalRMS_NTW(fig,  Obj_Geodyn['hasdm_oc'] ,'hasdm_oc' , 1 )\n",
    "\n",
    "fig.show(config=config)\n",
    "# fig.write_image(plots_dir+ 'TotalRMS_NTW.jpg', format='jpg')\n"
   ]
  },
  {
   "cell_type": "markdown",
   "id": "20f6815f",
   "metadata": {},
   "source": [
    "## Full NTW Residuals\n"
   ]
  },
  {
   "cell_type": "code",
   "execution_count": null,
   "id": "22258276",
   "metadata": {
    "ExecuteTime": {
     "end_time": "2022-01-26T21:29:46.830202Z",
     "start_time": "2022-01-26T21:29:39.426Z"
    }
   },
   "outputs": [],
   "source": [
    "def plotBasicResids_ChooseCoords(fig, obj_m1, coords, plotname, plot_num):\n",
    "\n",
    "    if plot_num == 0:\n",
    "        col = col1\n",
    "        x_annot = x_annot_val\n",
    "#         y_annot1 = 1\n",
    "        y_annot2 = .9\n",
    "        m_size = 3.5\n",
    "    elif plot_num == 1:\n",
    "        x_annot = 1.09\n",
    "#         y_annot1 = .8\n",
    "        y_annot2 = .75\n",
    "        col = col2\n",
    "        m_size = 3.5\n",
    "    elif plot_num == 2:\n",
    "        x_annot = 1.09\n",
    "#         y_annot1 = .5\n",
    "        y_annot2 = .5\n",
    "        col = col3\n",
    "        m_size = 3.5\n",
    "    elif plot_num == 3:\n",
    "        x_annot = 1.09\n",
    "#         y_annot1 = .2\n",
    "        y_annot2 = .253\n",
    "        col = col4\n",
    "        m_size = 3.5\n",
    "    elif plot_num == 4:\n",
    "        x_annot = 1.09\n",
    "#         y_annot1 =  0 \n",
    "        y_annot2 = .1\n",
    "        col = col5\n",
    "        m_size = 3.5\n",
    "    elif plot_num == 5:\n",
    "        x_annot = 1.09\n",
    "#         y_annot1 =  0 \n",
    "        y_annot2 = -.0810\n",
    "        col = col6\n",
    "        m_size = 3.5\n",
    "\n",
    "\n",
    "    model_m1 = obj_m1.__dict__['global_params']['den_model']\n",
    "    for ii,arc in enumerate(obj_m1.__dict__['global_params']['arc_input']):\n",
    "        \n",
    "        data_resids = obj_m1.__dict__['OrbitResids'][arc]['resids']\n",
    "\n",
    "\n",
    "        fig.update_layout(title=''.join(coords)+' Orbit Residuals',\n",
    "                        autosize=True,\n",
    "                        font=dict(size=14),\n",
    "                        legend= {'itemsizing': 'constant'})\n",
    "\n",
    "        for i,val in enumerate(coords):\n",
    "            fig.add_trace(go.Scattergl(\n",
    "                                     x=data_resids['Date'][::50],\n",
    "                                     y=data_resids[val][::50],\n",
    "                                 name=val+' '+model_m1,\n",
    "                                 mode='markers',\n",
    "                                 marker=dict(\n",
    "                                     color=col,\n",
    "                                     size=m_size,\n",
    "                                            ),\n",
    "                                 showlegend=False),\n",
    "                                 secondary_y=False,\n",
    "                                 row=i+1, col=1)\n",
    "\n",
    "#             (mean,rms,rms_about_zero) = STATS_residuals(data_resids[val], val+plotname)\n",
    "\n",
    "#             fig = add_stats_annotation(fig, plotname+'<br>Mean='+ str(np.round(mean,4))+'<br>RMS='+ str(np.round(rms_about_zero,4)), col , x_annot, y_annot1)\n",
    "    fig = legend_as_annotation(fig, plotname, col, x_annot, y_annot2)\n",
    "\n",
    "        \n",
    "    fig.update_yaxes( title=\"meters\" ,type=\"linear\" , exponentformat= 'power',row=1, col=1)\n",
    "    fig.update_yaxes( title=\"meters\" ,type=\"linear\" , exponentformat= 'power',row=2, col=1)\n",
    "    fig.update_yaxes( title=\"meters\" ,type=\"linear\" , exponentformat= 'power',row=3, col=1)\n",
    "    fig.update_xaxes( title=\"Date\",  row=3, col=1)\n",
    "\n",
    "    return(fig)\n"
   ]
  },
  {
   "cell_type": "code",
   "execution_count": null,
   "id": "9f944c9d",
   "metadata": {
    "ExecuteTime": {
     "end_time": "2022-01-26T21:29:46.830959Z",
     "start_time": "2022-01-26T21:29:39.429Z"
    }
   },
   "outputs": [],
   "source": [
    "plotBasicResids_ChooseCoords\n",
    "coords = ['N','T','W']\n",
    "\n",
    "fig = make_subplots(\n",
    "    rows=3, cols=1,\n",
    "    subplot_titles=(['N (Normal) ','T (In-Track)','W (Cross-Track)']),\n",
    "    vertical_spacing = 0.1)\n",
    "\n",
    "# msis2','msis86','dtm87', 'jaachia71']\n",
    "fig = plotBasicResids_ChooseCoords(fig, Obj_Geodyn['msis2']   , coords,  'msis2' , 2)\n",
    "fig = plotBasicResids_ChooseCoords(fig, Obj_Geodyn['dtm87']   , coords,  'dtm87' , 3)\n",
    "fig = plotBasicResids_ChooseCoords(fig, Obj_Geodyn['jaachia71']   , coords,  'jaachia71' , 4)\n",
    "fig = plotBasicResids_ChooseCoords(fig, Obj_Geodyn['tiegcm_oc']   , coords,  'tiegcm_oc' , 5)\n",
    "fig = plotBasicResids_ChooseCoords(fig, Obj_Geodyn['hasdm_oc']   , coords,  'hasdm_oc' , 1)\n",
    "\n",
    "\n",
    "\n",
    "fig.update_layout(title=''.join(coords)+' Orbit Residuals',\n",
    "                autosize=True,\n",
    "                font=dict(size=14),\n",
    "                legend= {'itemsizing': 'constant'})\n",
    "\n",
    "fig.update_layout(\n",
    "        autosize=False,\n",
    "        width=800,\n",
    "        height=900)\n",
    "fig.show(config=config)\n",
    "\n",
    "\n"
   ]
  },
  {
   "cell_type": "code",
   "execution_count": null,
   "id": "67a8d17d",
   "metadata": {},
   "outputs": [],
   "source": []
  },
  {
   "cell_type": "code",
   "execution_count": null,
   "id": "65a12443",
   "metadata": {},
   "outputs": [],
   "source": []
  }
 ],
 "metadata": {
  "kernelspec": {
   "display_name": "Python 3",
   "language": "python",
   "name": "python3"
  },
  "language_info": {
   "codemirror_mode": {
    "name": "ipython",
    "version": 3
   },
   "file_extension": ".py",
   "mimetype": "text/x-python",
   "name": "python",
   "nbconvert_exporter": "python",
   "pygments_lexer": "ipython3",
   "version": "3.8.8"
  },
  "toc": {
   "base_numbering": 1,
   "nav_menu": {},
   "number_sections": true,
   "sideBar": true,
   "skip_h1_title": false,
   "title_cell": "Table of Contents",
   "title_sidebar": "Contents",
   "toc_cell": false,
   "toc_position": {},
   "toc_section_display": true,
   "toc_window_display": true
  },
  "varInspector": {
   "cols": {
    "lenName": 16,
    "lenType": 16,
    "lenVar": 40
   },
   "kernels_config": {
    "python": {
     "delete_cmd_postfix": "",
     "delete_cmd_prefix": "del ",
     "library": "var_list.py",
     "varRefreshCmd": "print(var_dic_list())"
    },
    "r": {
     "delete_cmd_postfix": ") ",
     "delete_cmd_prefix": "rm(",
     "library": "var_list.r",
     "varRefreshCmd": "cat(var_dic_list()) "
    }
   },
   "types_to_exclude": [
    "module",
    "function",
    "builtin_function_or_method",
    "instance",
    "_Feature"
   ],
   "window_display": false
  }
 },
 "nbformat": 4,
 "nbformat_minor": 5
}
