{
 "cells": [
  {
   "cell_type": "markdown",
   "id": "c91c4d45",
   "metadata": {
    "ExecuteTime": {
     "end_time": "2022-05-23T18:04:58.934243Z",
     "start_time": "2022-05-23T18:04:58.929570Z"
    }
   },
   "source": [
    "# Plotting Settings:"
   ]
  },
  {
   "cell_type": "code",
   "execution_count": 1,
   "id": "7a618aba",
   "metadata": {
    "ExecuteTime": {
     "end_time": "2022-05-23T18:25:21.278169Z",
     "start_time": "2022-05-23T18:25:20.582747Z"
    }
   },
   "outputs": [],
   "source": [
    "import plotly.graph_objects as go\n",
    "from plotly.offline import plot, iplot\n",
    "from plotly.subplots import make_subplots\n",
    "import plotly.express as px\n",
    "import plotly.io as pio   ### Allows you to save plotly figs\n",
    "\n",
    "import os\n",
    "import pandas as pd\n",
    "import datetime\n",
    "import numpy as np\n",
    "\n",
    "\n",
    "config = dict({\n",
    "                'displayModeBar': False,\n",
    "                'responsive': False,\n",
    "                'staticPlot': True,\n",
    "                'displaylogo': False,\n",
    "                'showTips': False,\n",
    "                })\n",
    "\n",
    "\n",
    "def get_color(colorscale_name, loc):\n",
    "    from _plotly_utils.basevalidators import ColorscaleValidator\n",
    "    # first parameter: Name of the property being validated\n",
    "    # second parameter: a string, doesn't really matter in our use case\n",
    "    cv = ColorscaleValidator(\"colorscale\", \"\")\n",
    "    # colorscale will be a list of lists: [[loc1, \"rgb1\"], [loc2, \"rgb2\"], ...] \n",
    "    colorscale = cv.validate_coerce(colorscale_name)\n",
    "    \n",
    "    if hasattr(loc, \"__iter__\"):\n",
    "        return [get_continuous_color(colorscale, x) for x in loc]\n",
    "    return get_continuous_color(colorscale, loc)\n",
    "        \n",
    "\n",
    "# Identical to Adam's answer\n",
    "import plotly.colors\n",
    "from PIL import ImageColor\n",
    "def get_continuous_color(colorscale, intermed):\n",
    "    \"\"\"\n",
    "    Plotly continuous colorscales assign colors to the range [0, 1]. This function computes the intermediate\n",
    "    color for any value in that range.\n",
    "\n",
    "    Plotly doesn't make the colorscales directly accessible in a common format.\n",
    "    Some are ready to use:\n",
    "    \n",
    "        colorscale = plotly.colors.PLOTLY_SCALES[\"Greens\"]\n",
    "\n",
    "    Others are just swatches that need to be constructed into a colorscale:\n",
    "\n",
    "        viridis_colors, scale = plotly.colors.convert_colors_to_same_type(plotly.colors.sequential.Viridis)\n",
    "        colorscale = plotly.colors.make_colorscale(viridis_colors, scale=scale)\n",
    "\n",
    "    :param colorscale: A plotly continuous colorscale defined with RGB string colors.\n",
    "    :param intermed: value in the range [0, 1]\n",
    "    :return: color in rgb string format\n",
    "    :rtype: str\n",
    "    \"\"\"\n",
    "    if len(colorscale) < 1:\n",
    "        raise ValueError(\"colorscale must have at least one color\")\n",
    "\n",
    "    hex_to_rgb = lambda c: \"rgb\" + str(ImageColor.getcolor(c, \"RGB\"))\n",
    "\n",
    "    if intermed <= 0 or len(colorscale) == 1:\n",
    "        c = colorscale[0][1]\n",
    "        return c if c[0] != \"#\" else hex_to_rgb(c)\n",
    "    if intermed >= 1:\n",
    "        c = colorscale[-1][1]\n",
    "        return c if c[0] != \"#\" else hex_to_rgb(c)\n",
    "\n",
    "    for cutoff, color in colorscale:\n",
    "        if intermed > cutoff:\n",
    "            low_cutoff, low_color = cutoff, color\n",
    "        else:\n",
    "            high_cutoff, high_color = cutoff, color\n",
    "            break\n",
    "\n",
    "    if (low_color[0] == \"#\") or (high_color[0] == \"#\"):\n",
    "        # some color scale names (such as cividis) returns:\n",
    "        # [[loc1, \"hex1\"], [loc2, \"hex2\"], ...]\n",
    "        low_color = hex_to_rgb(low_color)\n",
    "        high_color = hex_to_rgb(high_color)\n",
    "\n",
    "    return plotly.colors.find_intermediate_color(\n",
    "        lowcolor=low_color,\n",
    "        highcolor=high_color,\n",
    "        intermed=((intermed - low_cutoff) / (high_cutoff - low_cutoff)),\n",
    "        colortype=\"rgb\",\n",
    "    )\n",
    "\n",
    "\n",
    "\n",
    "\n",
    "cols = get_color(\"Viridis\", np.linspace(0, 1, 5))\n",
    "map_cols = np.linspace(0, 1, 5)\n",
    "colorscale=[]\n",
    "for i,val in enumerate(map_cols):\n",
    "    colorscale.append([val, cols[i]])\n",
    "    \n",
    "\n",
    "\n",
    "\n",
    "# Simplify Plotting Schemes:\n",
    "col1 =  px.colors.qualitative.Plotly[2]\n",
    "col2 =  px.colors.qualitative.Plotly[4]\n",
    "col3 =  px.colors.qualitative.Plotly[1]\n",
    "col4 =  px.colors.qualitative.Plotly[3]\n",
    "col5 =  px.colors.qualitative.Plotly[4]\n",
    "col6 =  px.colors.qualitative.Plotly[5]\n",
    "\n"
   ]
  },
  {
   "cell_type": "markdown",
   "id": "d2ab1406",
   "metadata": {},
   "source": [
    "# Load GPI Data\n"
   ]
  },
  {
   "cell_type": "code",
   "execution_count": 39,
   "id": "33a526b2",
   "metadata": {
    "ExecuteTime": {
     "end_time": "2022-05-23T19:03:15.030481Z",
     "start_time": "2022-05-23T19:03:14.840540Z"
    }
   },
   "outputs": [],
   "source": [
    "from netCDF4 import Dataset\n",
    "def read_nc_file( filename, variables):\n",
    "    ''' This function reads the TIEGCM .nc files and saves the given input variables to a dictionary.\n",
    "        The breakloop feature is here so that if the file doesn't exist the code can still continue.  '''\n",
    "    status = os.path.exists(filename)\n",
    "    \n",
    "    if status == True:\n",
    "        data = {}\n",
    "        for i, var_names in enumerate(variables):\n",
    "            ncid =  Dataset(filename,\"r+\", format=\"NETCDF4\")# filename must be a string\n",
    "            varData = ncid.variables\n",
    "            data[var_names] = np.array(varData[var_names])  \n",
    "    elif status == False:\n",
    "        print('No File Found', filename )\n",
    "        breakloop = True\n",
    "        data = 0\n",
    "        return( data , breakloop)\n",
    "    breakloop = False\n",
    "    return(data,breakloop )\n",
    "\n",
    "\n",
    "arc_list = []\n",
    "\n",
    "arc_list_18 = np.arange(292,366)\n",
    "for i in arc_list_18:\n",
    "    val = '2018'+str(i)\n",
    "    arc_list.append(int(val))\n",
    "    \n",
    "    #     print(val)\n",
    "    \n",
    "arc_list_19 = np.arange(1,10)\n",
    "for i in arc_list_19:\n",
    "    val = '201900'+str(i)\n",
    "    arc_list.append(int(val))\n",
    "\n",
    "\n",
    "path_to_f107 = '/data/data_geodyn/gpi_1960001-2021243_f107aDaily.nc'\n",
    "variables = ['year_day', 'f107d', 'f107a', 'kp']\n",
    "f107_data = read_nc_file(path_to_f107, variables)\n",
    "\n",
    "date        = []\n",
    "kp_list     = []\n",
    "f107d_list  = []\n",
    "f107a_list  = []\n",
    "date_3hr    = []\n",
    "doy_list    = []\n",
    "\n",
    "\n",
    "for i,val in enumerate(arc_list):\n",
    "    \n",
    "    index = f107_data[0]['year_day']==val\n",
    "    kp_list.append(f107_data[0]['kp'][index][0])\n",
    "    f107d_list.append(f107_data[0]['f107d'][index][0])\n",
    "    f107a_list.append(f107_data[0]['f107a'][index][0])\n",
    "    doy_list.append(str(f107_data[0]['year_day'][index][0])[-3:])\n",
    "    \n",
    "    date.append(pd.to_datetime( str(val), format='%Y%j'))\n",
    "\n",
    "    date_3hr.append(pd.to_datetime( str(val), format='%Y%j') +pd.Timedelta(hours=0))\n",
    "    date_3hr.append(pd.to_datetime( str(val), format='%Y%j') +pd.Timedelta(hours=3))\n",
    "    date_3hr.append(pd.to_datetime( str(val), format='%Y%j') +pd.Timedelta(hours=6))\n",
    "    date_3hr.append(pd.to_datetime( str(val), format='%Y%j') +pd.Timedelta(hours=9))\n",
    "    date_3hr.append(pd.to_datetime( str(val), format='%Y%j') +pd.Timedelta(hours=12))\n",
    "    date_3hr.append(pd.to_datetime( str(val), format='%Y%j') +pd.Timedelta(hours=15))\n",
    "    date_3hr.append(pd.to_datetime( str(val), format='%Y%j') +pd.Timedelta(hours=18))\n",
    "    date_3hr.append(pd.to_datetime( str(val), format='%Y%j') +pd.Timedelta(hours=21))\n",
    "#     date_3hr.append(pd.to_datetime( str(val), format='%Y%j') +pd.Timedelta(hours=24))\n",
    "    \n",
    "kp_expand = []\n",
    "for i in kp_list:\n",
    "    for ii in i:\n",
    "        kp_expand.append(ii)\n",
    "        \n",
    "        \n",
    "        \n",
    "solar_fluxes = {}\n",
    "solar_fluxes['f107d_list'] = f107d_list\n",
    "solar_fluxes['f107a_list'] = f107a_list\n",
    "solar_fluxes['date']       = date\n",
    "solar_fluxes['date_3hr']   = date_3hr\n",
    "solar_fluxes['kp_expand']  = kp_expand\n",
    "solar_fluxes['doy_list']  = doy_list\n",
    "\n",
    "\n",
    "\n",
    "f107d_earth = []\n",
    "f107a_earth = []\n",
    "######################################################################### \n",
    "##### Account for the F10.7 at earth (instead of referenced at 1AU) #####\n",
    "######################################################################### \n",
    "\n",
    "for i_doy,val_doy in enumerate(doy_list):\n",
    "    iday = int(val_doy)\n",
    "    theta0 = 2 * np.pi * (iday)/365.\n",
    "    sfeps = 1.000110 + 0.034221*np.cos(theta0)+0.001280* np.sin(theta0) +0.000719*np.cos(2.*theta0)+0.000077*np.sin(2.*theta0)\n",
    "\n",
    "    f107d_earth.append(sfeps * solar_fluxes['f107d_list'][i_doy])\n",
    "    f107a_earth.append(sfeps * solar_fluxes['f107a_list'][i_doy])\n",
    "\n",
    "solar_fluxes['f107d_earth'] = f107d_earth\n",
    "solar_fluxes['f107a_earth'] = f107a_earth\n",
    "\n"
   ]
  },
  {
   "cell_type": "code",
   "execution_count": 28,
   "id": "d11dd8bb",
   "metadata": {
    "ExecuteTime": {
     "end_time": "2022-05-23T18:58:09.251877Z",
     "start_time": "2022-05-23T18:58:09.247701Z"
    }
   },
   "outputs": [],
   "source": [
    "# doy_list"
   ]
  },
  {
   "cell_type": "code",
   "execution_count": 78,
   "id": "5f84e85c",
   "metadata": {
    "ExecuteTime": {
     "end_time": "2022-05-23T19:18:52.139183Z",
     "start_time": "2022-05-23T19:18:52.083024Z"
    }
   },
   "outputs": [
    {
     "data": {
      "application/vnd.plotly.v1+json": {
       "config": {
        "displayModeBar": true,
        "displaylogo": false,
        "plotlyServerURL": "https://plot.ly",
        "responsive": false,
        "showTips": false,
        "staticPlot": false
       },
       "data": [
        {
         "line": {
          "color": "cornflowerblue",
          "shape": "hv",
          "width": 2
         },
         "mode": "lines",
         "name": "f107d",
         "opacity": 1,
         "showlegend": true,
         "type": "scatter",
         "x": [
          "2018-10-19T00:00:00",
          "2018-10-20T00:00:00",
          "2018-10-21T00:00:00",
          "2018-10-22T00:00:00",
          "2018-10-23T00:00:00",
          "2018-10-24T00:00:00",
          "2018-10-25T00:00:00",
          "2018-10-26T00:00:00",
          "2018-10-27T00:00:00",
          "2018-10-28T00:00:00",
          "2018-10-29T00:00:00",
          "2018-10-30T00:00:00",
          "2018-10-31T00:00:00",
          "2018-11-01T00:00:00",
          "2018-11-02T00:00:00",
          "2018-11-03T00:00:00",
          "2018-11-04T00:00:00",
          "2018-11-05T00:00:00",
          "2018-11-06T00:00:00",
          "2018-11-07T00:00:00",
          "2018-11-08T00:00:00",
          "2018-11-09T00:00:00",
          "2018-11-10T00:00:00",
          "2018-11-11T00:00:00",
          "2018-11-12T00:00:00",
          "2018-11-13T00:00:00",
          "2018-11-14T00:00:00",
          "2018-11-15T00:00:00",
          "2018-11-16T00:00:00",
          "2018-11-17T00:00:00",
          "2018-11-18T00:00:00",
          "2018-11-19T00:00:00",
          "2018-11-20T00:00:00",
          "2018-11-21T00:00:00",
          "2018-11-22T00:00:00",
          "2018-11-23T00:00:00",
          "2018-11-24T00:00:00",
          "2018-11-25T00:00:00",
          "2018-11-26T00:00:00",
          "2018-11-27T00:00:00",
          "2018-11-28T00:00:00",
          "2018-11-29T00:00:00",
          "2018-11-30T00:00:00",
          "2018-12-01T00:00:00",
          "2018-12-02T00:00:00",
          "2018-12-03T00:00:00",
          "2018-12-04T00:00:00",
          "2018-12-05T00:00:00",
          "2018-12-06T00:00:00",
          "2018-12-07T00:00:00",
          "2018-12-08T00:00:00",
          "2018-12-09T00:00:00",
          "2018-12-10T00:00:00",
          "2018-12-11T00:00:00",
          "2018-12-12T00:00:00",
          "2018-12-13T00:00:00",
          "2018-12-14T00:00:00",
          "2018-12-15T00:00:00",
          "2018-12-16T00:00:00",
          "2018-12-17T00:00:00",
          "2018-12-18T00:00:00",
          "2018-12-19T00:00:00",
          "2018-12-20T00:00:00",
          "2018-12-21T00:00:00",
          "2018-12-22T00:00:00",
          "2018-12-23T00:00:00",
          "2018-12-24T00:00:00",
          "2018-12-25T00:00:00",
          "2018-12-26T00:00:00",
          "2018-12-27T00:00:00",
          "2018-12-28T00:00:00",
          "2018-12-29T00:00:00",
          "2018-12-30T00:00:00",
          "2018-12-31T00:00:00",
          "2019-01-01T00:00:00",
          "2019-01-02T00:00:00",
          "2019-01-03T00:00:00",
          "2019-01-04T00:00:00",
          "2019-01-05T00:00:00",
          "2019-01-06T00:00:00",
          "2019-01-07T00:00:00",
          "2019-01-08T00:00:00",
          "2019-01-09T00:00:00"
         ],
         "xaxis": "x",
         "y": [
          70,
          70,
          71,
          71,
          72,
          70,
          69,
          69,
          69,
          68,
          69,
          67,
          68,
          67,
          68,
          67,
          67,
          68,
          69,
          69,
          70,
          69,
          69,
          69,
          68,
          67,
          68,
          68,
          71,
          73,
          72,
          71,
          71,
          69,
          69,
          69,
          70,
          70,
          69,
          68,
          68,
          68,
          68,
          69,
          69,
          68,
          69,
          71,
          70,
          70,
          71,
          72,
          71,
          71,
          71,
          70,
          71,
          71,
          70,
          70,
          70,
          70,
          70,
          71,
          71,
          70,
          70,
          70,
          69,
          69,
          69,
          69,
          69,
          69,
          72,
          75,
          73,
          72,
          71,
          72,
          72,
          71,
          72
         ],
         "yaxis": "y"
        },
        {
         "line": {
          "color": "blue",
          "shape": "hv",
          "width": 2
         },
         "mode": "lines",
         "name": "f107a",
         "opacity": 1,
         "showlegend": true,
         "type": "scatter",
         "x": [
          "2018-10-19T00:00:00",
          "2018-10-20T00:00:00",
          "2018-10-21T00:00:00",
          "2018-10-22T00:00:00",
          "2018-10-23T00:00:00",
          "2018-10-24T00:00:00",
          "2018-10-25T00:00:00",
          "2018-10-26T00:00:00",
          "2018-10-27T00:00:00",
          "2018-10-28T00:00:00",
          "2018-10-29T00:00:00",
          "2018-10-30T00:00:00",
          "2018-10-31T00:00:00",
          "2018-11-01T00:00:00",
          "2018-11-02T00:00:00",
          "2018-11-03T00:00:00",
          "2018-11-04T00:00:00",
          "2018-11-05T00:00:00",
          "2018-11-06T00:00:00",
          "2018-11-07T00:00:00",
          "2018-11-08T00:00:00",
          "2018-11-09T00:00:00",
          "2018-11-10T00:00:00",
          "2018-11-11T00:00:00",
          "2018-11-12T00:00:00",
          "2018-11-13T00:00:00",
          "2018-11-14T00:00:00",
          "2018-11-15T00:00:00",
          "2018-11-16T00:00:00",
          "2018-11-17T00:00:00",
          "2018-11-18T00:00:00",
          "2018-11-19T00:00:00",
          "2018-11-20T00:00:00",
          "2018-11-21T00:00:00",
          "2018-11-22T00:00:00",
          "2018-11-23T00:00:00",
          "2018-11-24T00:00:00",
          "2018-11-25T00:00:00",
          "2018-11-26T00:00:00",
          "2018-11-27T00:00:00",
          "2018-11-28T00:00:00",
          "2018-11-29T00:00:00",
          "2018-11-30T00:00:00",
          "2018-12-01T00:00:00",
          "2018-12-02T00:00:00",
          "2018-12-03T00:00:00",
          "2018-12-04T00:00:00",
          "2018-12-05T00:00:00",
          "2018-12-06T00:00:00",
          "2018-12-07T00:00:00",
          "2018-12-08T00:00:00",
          "2018-12-09T00:00:00",
          "2018-12-10T00:00:00",
          "2018-12-11T00:00:00",
          "2018-12-12T00:00:00",
          "2018-12-13T00:00:00",
          "2018-12-14T00:00:00",
          "2018-12-15T00:00:00",
          "2018-12-16T00:00:00",
          "2018-12-17T00:00:00",
          "2018-12-18T00:00:00",
          "2018-12-19T00:00:00",
          "2018-12-20T00:00:00",
          "2018-12-21T00:00:00",
          "2018-12-22T00:00:00",
          "2018-12-23T00:00:00",
          "2018-12-24T00:00:00",
          "2018-12-25T00:00:00",
          "2018-12-26T00:00:00",
          "2018-12-27T00:00:00",
          "2018-12-28T00:00:00",
          "2018-12-29T00:00:00",
          "2018-12-30T00:00:00",
          "2018-12-31T00:00:00",
          "2019-01-01T00:00:00",
          "2019-01-02T00:00:00",
          "2019-01-03T00:00:00",
          "2019-01-04T00:00:00",
          "2019-01-05T00:00:00",
          "2019-01-06T00:00:00",
          "2019-01-07T00:00:00",
          "2019-01-08T00:00:00",
          "2019-01-09T00:00:00"
         ],
         "xaxis": "x",
         "y": [
          69.08641975308642,
          69.08641975308642,
          69.07407407407408,
          69.07407407407408,
          69.06172839506173,
          69.03703703703704,
          69.03703703703704,
          69.06172839506173,
          69.07407407407408,
          69.09876543209876,
          69.1358024691358,
          69.18518518518519,
          69.23456790123457,
          69.28395061728395,
          69.32098765432099,
          69.34567901234568,
          69.37037037037037,
          69.4074074074074,
          69.41975308641975,
          69.45679012345678,
          69.46913580246914,
          69.48148148148148,
          69.50617283950618,
          69.51851851851852,
          69.5679012345679,
          69.5925925925926,
          69.62962962962963,
          69.64197530864197,
          69.64197530864197,
          69.65432098765432,
          69.65432098765432,
          69.64197530864197,
          69.62962962962963,
          69.60493827160494,
          69.60493827160494,
          69.64197530864197,
          69.65432098765432,
          69.67901234567901,
          69.69135802469135,
          69.71604938271605,
          69.74074074074075,
          69.75308641975309,
          69.77777777777777,
          69.76543209876543,
          69.72839506172839,
          69.70370370370371,
          69.69135802469135,
          69.70370370370371,
          69.71604938271605,
          69.72839506172839,
          69.74074074074075,
          69.74074074074075,
          69.77777777777777,
          69.79012345679013,
          69.82716049382717,
          69.8641975308642,
          69.92592592592592,
          69.98765432098766,
          70.07407407407408,
          70.17283950617283,
          70.23456790123457,
          70.30864197530865,
          70.35802469135803,
          70.41975308641975,
          70.45679012345678,
          70.50617283950618,
          70.55555555555556,
          70.5925925925926,
          70.62962962962963,
          70.62962962962963,
          70.5925925925926,
          70.5679012345679,
          70.5679012345679,
          70.55555555555556,
          70.5679012345679,
          70.58024691358025,
          70.5925925925926,
          70.5925925925926,
          70.60493827160494,
          70.62962962962963,
          70.66666666666667,
          70.69135802469135,
          70.71604938271605
         ],
         "yaxis": "y"
        },
        {
         "line": {
          "color": "red",
          "shape": "hv",
          "width": 2
         },
         "mode": "lines",
         "name": "f107d @earth",
         "opacity": 1,
         "showlegend": true,
         "type": "scatter",
         "x": [
          "2018-10-19T00:00:00",
          "2018-10-20T00:00:00",
          "2018-10-21T00:00:00",
          "2018-10-22T00:00:00",
          "2018-10-23T00:00:00",
          "2018-10-24T00:00:00",
          "2018-10-25T00:00:00",
          "2018-10-26T00:00:00",
          "2018-10-27T00:00:00",
          "2018-10-28T00:00:00",
          "2018-10-29T00:00:00",
          "2018-10-30T00:00:00",
          "2018-10-31T00:00:00",
          "2018-11-01T00:00:00",
          "2018-11-02T00:00:00",
          "2018-11-03T00:00:00",
          "2018-11-04T00:00:00",
          "2018-11-05T00:00:00",
          "2018-11-06T00:00:00",
          "2018-11-07T00:00:00",
          "2018-11-08T00:00:00",
          "2018-11-09T00:00:00",
          "2018-11-10T00:00:00",
          "2018-11-11T00:00:00",
          "2018-11-12T00:00:00",
          "2018-11-13T00:00:00",
          "2018-11-14T00:00:00",
          "2018-11-15T00:00:00",
          "2018-11-16T00:00:00",
          "2018-11-17T00:00:00",
          "2018-11-18T00:00:00",
          "2018-11-19T00:00:00",
          "2018-11-20T00:00:00",
          "2018-11-21T00:00:00",
          "2018-11-22T00:00:00",
          "2018-11-23T00:00:00",
          "2018-11-24T00:00:00",
          "2018-11-25T00:00:00",
          "2018-11-26T00:00:00",
          "2018-11-27T00:00:00",
          "2018-11-28T00:00:00",
          "2018-11-29T00:00:00",
          "2018-11-30T00:00:00",
          "2018-12-01T00:00:00",
          "2018-12-02T00:00:00",
          "2018-12-03T00:00:00",
          "2018-12-04T00:00:00",
          "2018-12-05T00:00:00",
          "2018-12-06T00:00:00",
          "2018-12-07T00:00:00",
          "2018-12-08T00:00:00",
          "2018-12-09T00:00:00",
          "2018-12-10T00:00:00",
          "2018-12-11T00:00:00",
          "2018-12-12T00:00:00",
          "2018-12-13T00:00:00",
          "2018-12-14T00:00:00",
          "2018-12-15T00:00:00",
          "2018-12-16T00:00:00",
          "2018-12-17T00:00:00",
          "2018-12-18T00:00:00",
          "2018-12-19T00:00:00",
          "2018-12-20T00:00:00",
          "2018-12-21T00:00:00",
          "2018-12-22T00:00:00",
          "2018-12-23T00:00:00",
          "2018-12-24T00:00:00",
          "2018-12-25T00:00:00",
          "2018-12-26T00:00:00",
          "2018-12-27T00:00:00",
          "2018-12-28T00:00:00",
          "2018-12-29T00:00:00",
          "2018-12-30T00:00:00",
          "2018-12-31T00:00:00",
          "2019-01-01T00:00:00",
          "2019-01-02T00:00:00",
          "2019-01-03T00:00:00",
          "2019-01-04T00:00:00",
          "2019-01-05T00:00:00",
          "2019-01-06T00:00:00",
          "2019-01-07T00:00:00",
          "2019-01-08T00:00:00",
          "2019-01-09T00:00:00"
         ],
         "xaxis": "x",
         "y": [
          70.61884028781856,
          70.65932998989778,
          71.70966002598074,
          71.75040099708113,
          72.8020992002302,
          70.81961213155911,
          69.84692532144926,
          69.88573164467448,
          69.92430982173006,
          68.94869593661514,
          70.00073175123707,
          68.00844768609419,
          69.0604959844735,
          68.08107136231122,
          69.1336193541299,
          68.15251994446818,
          68.18777394732851,
          69.2409479885672,
          70.29481352639749,
          70.33006686325062,
          71.38472720623597,
          70.39943734924556,
          70.4335310855646,
          70.46721504071061,
          69.47873170919473,
          68.48886420747398,
          69.54300305069435,
          69.57447173693707,
          72.67631136210335,
          74.75631673466039,
          73.76408521006631,
          72.77045716758656,
          72.80080717147145,
          70.77905661633406,
          70.80750424756049,
          70.83541315437374,
          71.88977027275709,
          71.91696099370999,
          70.91581056443641,
          69.91333125724782,
          69.93803992910806,
          69.96216245517284,
          69.9856902714713,
          71.03815346463195,
          71.06079509150227,
          70.05262276564915,
          71.10418549853311,
          73.18651058949162,
          72.17608764707848,
          72.19579255736173,
          73.24646261597724,
          74.29697485718116,
          73.2829837336484,
          73.30019004648312,
          73.31668512792103,
          72.29961139601807,
          73.34751788601885,
          73.36184433960118,
          72.34198026056508,
          72.35465335987158,
          72.36659358683947,
          72.3777965655368,
          72.38825818383641,
          73.43223137551065,
          73.44132711146538,
          72.415157756527,
          72.42261816076535,
          72.4293206718526,
          71.40047333248292,
          71.40557887380619,
          71.40993080701328,
          71.41352749863367,
          71.41636759040057,
          71.41845,
          74.52498148348909,
          77.63080307249773,
          75.56044269344659,
          74.52437306995725,
          73.48755015071335,
          74.52000773747358,
          74.51663897296685,
          73.47758539030545,
          74.50753516872311
         ],
         "yaxis": "y"
        },
        {
         "line": {
          "color": "red",
          "shape": "hv",
          "width": 2
         },
         "mode": "lines",
         "name": "f107a @earth",
         "opacity": 1,
         "showlegend": true,
         "type": "scatter",
         "x": [
          "292",
          "293",
          "294",
          "295",
          "296",
          "297",
          "298",
          "299",
          "300",
          "301",
          "302",
          "303",
          "304",
          "305",
          "306",
          "307",
          "308",
          "309",
          "310",
          "311",
          "312",
          "313",
          "314",
          "315",
          "316",
          "317",
          "318",
          "319",
          "320",
          "321",
          "322",
          "323",
          "324",
          "325",
          "326",
          "327",
          "328",
          "329",
          "330",
          "331",
          "332",
          "333",
          "334",
          "335",
          "336",
          "337",
          "338",
          "339",
          "340",
          "341",
          "342",
          "343",
          "344",
          "345",
          "346",
          "347",
          "348",
          "349",
          "350",
          "351",
          "352",
          "353",
          "354",
          "355",
          "356",
          "357",
          "358",
          "359",
          "360",
          "361",
          "362",
          "363",
          "364",
          "365",
          "001",
          "002",
          "003",
          "004",
          "005",
          "006",
          "007",
          "008",
          "009"
         ],
         "xaxis": "x2",
         "y": [
          69.69718346572004,
          69.73714473077037,
          69.76448406283468,
          69.80411990587183,
          69.83109446606443,
          69.84537408107205,
          69.88441696145004,
          69.94825242803884,
          69.99937617687952,
          70.06279069666574,
          70.13850381229693,
          70.22652309431949,
          70.31431762544072,
          70.401874421465,
          70.4766290256789,
          70.53854883509817,
          70.60016617100403,
          70.67403950467043,
          70.72244345302077,
          70.79566222448524,
          70.84336155017456,
          70.89068409403363,
          70.95022007724614,
          70.99675932979808,
          71.08072860953382,
          71.13906901373335,
          71.20961096694194,
          71.25446533552325,
          71.28622368172927,
          71.33014358480531,
          71.36093428587004,
          71.37856875019227,
          71.39567943785411,
          71.39959227104875,
          71.42828930895438,
          71.49446512861375,
          71.53475906153359,
          71.58718304206336,
          71.62636440083082,
          71.67766550647757,
          71.72839280311028,
          71.7658347624776,
          71.81538152039865,
          71.82619524577476,
          71.81094483392465,
          71.80775383711966,
          71.81662679177302,
          71.85029365123799,
          71.8833098664995,
          71.91566778906156,
          71.947359992637,
          71.96563974077785,
          72.02146132195804,
          72.05111708098924,
          72.10557660989765,
          72.15934759965896,
          72.23793102180677,
          72.31582256324103,
          72.41853262062918,
          72.53330682495768,
          72.60909187222747,
          72.69692265268644,
          72.75849795232517,
          72.83210707110288,
          72.87943902367118,
          72.93879469973997,
          72.99740084458095,
          73.04247894209051,
          73.08679691092053,
          73.09202303400343,
          73.05814713803936,
          73.03627181645912,
          73.03917644421715,
          73.02852777777778,
          73.04266017826193,
          73.05601665275219,
          73.06859653663581,
          73.06762092147044,
          73.07864707214912,
          73.10167425687352,
          73.1367012142082,
          73.15817317768892,
          73.17886856077605
         ],
         "yaxis": "y"
        }
       ],
       "layout": {
        "template": {
         "data": {
          "bar": [
           {
            "error_x": {
             "color": "#2a3f5f"
            },
            "error_y": {
             "color": "#2a3f5f"
            },
            "marker": {
             "line": {
              "color": "#E5ECF6",
              "width": 0.5
             },
             "pattern": {
              "fillmode": "overlay",
              "size": 10,
              "solidity": 0.2
             }
            },
            "type": "bar"
           }
          ],
          "barpolar": [
           {
            "marker": {
             "line": {
              "color": "#E5ECF6",
              "width": 0.5
             },
             "pattern": {
              "fillmode": "overlay",
              "size": 10,
              "solidity": 0.2
             }
            },
            "type": "barpolar"
           }
          ],
          "carpet": [
           {
            "aaxis": {
             "endlinecolor": "#2a3f5f",
             "gridcolor": "white",
             "linecolor": "white",
             "minorgridcolor": "white",
             "startlinecolor": "#2a3f5f"
            },
            "baxis": {
             "endlinecolor": "#2a3f5f",
             "gridcolor": "white",
             "linecolor": "white",
             "minorgridcolor": "white",
             "startlinecolor": "#2a3f5f"
            },
            "type": "carpet"
           }
          ],
          "choropleth": [
           {
            "colorbar": {
             "outlinewidth": 0,
             "ticks": ""
            },
            "type": "choropleth"
           }
          ],
          "contour": [
           {
            "colorbar": {
             "outlinewidth": 0,
             "ticks": ""
            },
            "colorscale": [
             [
              0,
              "#0d0887"
             ],
             [
              0.1111111111111111,
              "#46039f"
             ],
             [
              0.2222222222222222,
              "#7201a8"
             ],
             [
              0.3333333333333333,
              "#9c179e"
             ],
             [
              0.4444444444444444,
              "#bd3786"
             ],
             [
              0.5555555555555556,
              "#d8576b"
             ],
             [
              0.6666666666666666,
              "#ed7953"
             ],
             [
              0.7777777777777778,
              "#fb9f3a"
             ],
             [
              0.8888888888888888,
              "#fdca26"
             ],
             [
              1,
              "#f0f921"
             ]
            ],
            "type": "contour"
           }
          ],
          "contourcarpet": [
           {
            "colorbar": {
             "outlinewidth": 0,
             "ticks": ""
            },
            "type": "contourcarpet"
           }
          ],
          "heatmap": [
           {
            "colorbar": {
             "outlinewidth": 0,
             "ticks": ""
            },
            "colorscale": [
             [
              0,
              "#0d0887"
             ],
             [
              0.1111111111111111,
              "#46039f"
             ],
             [
              0.2222222222222222,
              "#7201a8"
             ],
             [
              0.3333333333333333,
              "#9c179e"
             ],
             [
              0.4444444444444444,
              "#bd3786"
             ],
             [
              0.5555555555555556,
              "#d8576b"
             ],
             [
              0.6666666666666666,
              "#ed7953"
             ],
             [
              0.7777777777777778,
              "#fb9f3a"
             ],
             [
              0.8888888888888888,
              "#fdca26"
             ],
             [
              1,
              "#f0f921"
             ]
            ],
            "type": "heatmap"
           }
          ],
          "heatmapgl": [
           {
            "colorbar": {
             "outlinewidth": 0,
             "ticks": ""
            },
            "colorscale": [
             [
              0,
              "#0d0887"
             ],
             [
              0.1111111111111111,
              "#46039f"
             ],
             [
              0.2222222222222222,
              "#7201a8"
             ],
             [
              0.3333333333333333,
              "#9c179e"
             ],
             [
              0.4444444444444444,
              "#bd3786"
             ],
             [
              0.5555555555555556,
              "#d8576b"
             ],
             [
              0.6666666666666666,
              "#ed7953"
             ],
             [
              0.7777777777777778,
              "#fb9f3a"
             ],
             [
              0.8888888888888888,
              "#fdca26"
             ],
             [
              1,
              "#f0f921"
             ]
            ],
            "type": "heatmapgl"
           }
          ],
          "histogram": [
           {
            "marker": {
             "pattern": {
              "fillmode": "overlay",
              "size": 10,
              "solidity": 0.2
             }
            },
            "type": "histogram"
           }
          ],
          "histogram2d": [
           {
            "colorbar": {
             "outlinewidth": 0,
             "ticks": ""
            },
            "colorscale": [
             [
              0,
              "#0d0887"
             ],
             [
              0.1111111111111111,
              "#46039f"
             ],
             [
              0.2222222222222222,
              "#7201a8"
             ],
             [
              0.3333333333333333,
              "#9c179e"
             ],
             [
              0.4444444444444444,
              "#bd3786"
             ],
             [
              0.5555555555555556,
              "#d8576b"
             ],
             [
              0.6666666666666666,
              "#ed7953"
             ],
             [
              0.7777777777777778,
              "#fb9f3a"
             ],
             [
              0.8888888888888888,
              "#fdca26"
             ],
             [
              1,
              "#f0f921"
             ]
            ],
            "type": "histogram2d"
           }
          ],
          "histogram2dcontour": [
           {
            "colorbar": {
             "outlinewidth": 0,
             "ticks": ""
            },
            "colorscale": [
             [
              0,
              "#0d0887"
             ],
             [
              0.1111111111111111,
              "#46039f"
             ],
             [
              0.2222222222222222,
              "#7201a8"
             ],
             [
              0.3333333333333333,
              "#9c179e"
             ],
             [
              0.4444444444444444,
              "#bd3786"
             ],
             [
              0.5555555555555556,
              "#d8576b"
             ],
             [
              0.6666666666666666,
              "#ed7953"
             ],
             [
              0.7777777777777778,
              "#fb9f3a"
             ],
             [
              0.8888888888888888,
              "#fdca26"
             ],
             [
              1,
              "#f0f921"
             ]
            ],
            "type": "histogram2dcontour"
           }
          ],
          "mesh3d": [
           {
            "colorbar": {
             "outlinewidth": 0,
             "ticks": ""
            },
            "type": "mesh3d"
           }
          ],
          "parcoords": [
           {
            "line": {
             "colorbar": {
              "outlinewidth": 0,
              "ticks": ""
             }
            },
            "type": "parcoords"
           }
          ],
          "pie": [
           {
            "automargin": true,
            "type": "pie"
           }
          ],
          "scatter": [
           {
            "fillpattern": {
             "fillmode": "overlay",
             "size": 10,
             "solidity": 0.2
            },
            "type": "scatter"
           }
          ],
          "scatter3d": [
           {
            "line": {
             "colorbar": {
              "outlinewidth": 0,
              "ticks": ""
             }
            },
            "marker": {
             "colorbar": {
              "outlinewidth": 0,
              "ticks": ""
             }
            },
            "type": "scatter3d"
           }
          ],
          "scattercarpet": [
           {
            "marker": {
             "colorbar": {
              "outlinewidth": 0,
              "ticks": ""
             }
            },
            "type": "scattercarpet"
           }
          ],
          "scattergeo": [
           {
            "marker": {
             "colorbar": {
              "outlinewidth": 0,
              "ticks": ""
             }
            },
            "type": "scattergeo"
           }
          ],
          "scattergl": [
           {
            "marker": {
             "colorbar": {
              "outlinewidth": 0,
              "ticks": ""
             }
            },
            "type": "scattergl"
           }
          ],
          "scattermapbox": [
           {
            "marker": {
             "colorbar": {
              "outlinewidth": 0,
              "ticks": ""
             }
            },
            "type": "scattermapbox"
           }
          ],
          "scatterpolar": [
           {
            "marker": {
             "colorbar": {
              "outlinewidth": 0,
              "ticks": ""
             }
            },
            "type": "scatterpolar"
           }
          ],
          "scatterpolargl": [
           {
            "marker": {
             "colorbar": {
              "outlinewidth": 0,
              "ticks": ""
             }
            },
            "type": "scatterpolargl"
           }
          ],
          "scatterternary": [
           {
            "marker": {
             "colorbar": {
              "outlinewidth": 0,
              "ticks": ""
             }
            },
            "type": "scatterternary"
           }
          ],
          "surface": [
           {
            "colorbar": {
             "outlinewidth": 0,
             "ticks": ""
            },
            "colorscale": [
             [
              0,
              "#0d0887"
             ],
             [
              0.1111111111111111,
              "#46039f"
             ],
             [
              0.2222222222222222,
              "#7201a8"
             ],
             [
              0.3333333333333333,
              "#9c179e"
             ],
             [
              0.4444444444444444,
              "#bd3786"
             ],
             [
              0.5555555555555556,
              "#d8576b"
             ],
             [
              0.6666666666666666,
              "#ed7953"
             ],
             [
              0.7777777777777778,
              "#fb9f3a"
             ],
             [
              0.8888888888888888,
              "#fdca26"
             ],
             [
              1,
              "#f0f921"
             ]
            ],
            "type": "surface"
           }
          ],
          "table": [
           {
            "cells": {
             "fill": {
              "color": "#EBF0F8"
             },
             "line": {
              "color": "white"
             }
            },
            "header": {
             "fill": {
              "color": "#C8D4E3"
             },
             "line": {
              "color": "white"
             }
            },
            "type": "table"
           }
          ]
         },
         "layout": {
          "annotationdefaults": {
           "arrowcolor": "#2a3f5f",
           "arrowhead": 0,
           "arrowwidth": 1
          },
          "autotypenumbers": "strict",
          "coloraxis": {
           "colorbar": {
            "outlinewidth": 0,
            "ticks": ""
           }
          },
          "colorscale": {
           "diverging": [
            [
             0,
             "#8e0152"
            ],
            [
             0.1,
             "#c51b7d"
            ],
            [
             0.2,
             "#de77ae"
            ],
            [
             0.3,
             "#f1b6da"
            ],
            [
             0.4,
             "#fde0ef"
            ],
            [
             0.5,
             "#f7f7f7"
            ],
            [
             0.6,
             "#e6f5d0"
            ],
            [
             0.7,
             "#b8e186"
            ],
            [
             0.8,
             "#7fbc41"
            ],
            [
             0.9,
             "#4d9221"
            ],
            [
             1,
             "#276419"
            ]
           ],
           "sequential": [
            [
             0,
             "#0d0887"
            ],
            [
             0.1111111111111111,
             "#46039f"
            ],
            [
             0.2222222222222222,
             "#7201a8"
            ],
            [
             0.3333333333333333,
             "#9c179e"
            ],
            [
             0.4444444444444444,
             "#bd3786"
            ],
            [
             0.5555555555555556,
             "#d8576b"
            ],
            [
             0.6666666666666666,
             "#ed7953"
            ],
            [
             0.7777777777777778,
             "#fb9f3a"
            ],
            [
             0.8888888888888888,
             "#fdca26"
            ],
            [
             1,
             "#f0f921"
            ]
           ],
           "sequentialminus": [
            [
             0,
             "#0d0887"
            ],
            [
             0.1111111111111111,
             "#46039f"
            ],
            [
             0.2222222222222222,
             "#7201a8"
            ],
            [
             0.3333333333333333,
             "#9c179e"
            ],
            [
             0.4444444444444444,
             "#bd3786"
            ],
            [
             0.5555555555555556,
             "#d8576b"
            ],
            [
             0.6666666666666666,
             "#ed7953"
            ],
            [
             0.7777777777777778,
             "#fb9f3a"
            ],
            [
             0.8888888888888888,
             "#fdca26"
            ],
            [
             1,
             "#f0f921"
            ]
           ]
          },
          "colorway": [
           "#636efa",
           "#EF553B",
           "#00cc96",
           "#ab63fa",
           "#FFA15A",
           "#19d3f3",
           "#FF6692",
           "#B6E880",
           "#FF97FF",
           "#FECB52"
          ],
          "font": {
           "color": "#2a3f5f"
          },
          "geo": {
           "bgcolor": "white",
           "lakecolor": "white",
           "landcolor": "#E5ECF6",
           "showlakes": true,
           "showland": true,
           "subunitcolor": "white"
          },
          "hoverlabel": {
           "align": "left"
          },
          "hovermode": "closest",
          "mapbox": {
           "style": "light"
          },
          "paper_bgcolor": "white",
          "plot_bgcolor": "#E5ECF6",
          "polar": {
           "angularaxis": {
            "gridcolor": "white",
            "linecolor": "white",
            "ticks": ""
           },
           "bgcolor": "#E5ECF6",
           "radialaxis": {
            "gridcolor": "white",
            "linecolor": "white",
            "ticks": ""
           }
          },
          "scene": {
           "xaxis": {
            "backgroundcolor": "#E5ECF6",
            "gridcolor": "white",
            "gridwidth": 2,
            "linecolor": "white",
            "showbackground": true,
            "ticks": "",
            "zerolinecolor": "white"
           },
           "yaxis": {
            "backgroundcolor": "#E5ECF6",
            "gridcolor": "white",
            "gridwidth": 2,
            "linecolor": "white",
            "showbackground": true,
            "ticks": "",
            "zerolinecolor": "white"
           },
           "zaxis": {
            "backgroundcolor": "#E5ECF6",
            "gridcolor": "white",
            "gridwidth": 2,
            "linecolor": "white",
            "showbackground": true,
            "ticks": "",
            "zerolinecolor": "white"
           }
          },
          "shapedefaults": {
           "line": {
            "color": "#2a3f5f"
           }
          },
          "ternary": {
           "aaxis": {
            "gridcolor": "white",
            "linecolor": "white",
            "ticks": ""
           },
           "baxis": {
            "gridcolor": "white",
            "linecolor": "white",
            "ticks": ""
           },
           "bgcolor": "#E5ECF6",
           "caxis": {
            "gridcolor": "white",
            "linecolor": "white",
            "ticks": ""
           }
          },
          "title": {
           "x": 0.05
          },
          "xaxis": {
           "automargin": true,
           "gridcolor": "white",
           "linecolor": "white",
           "ticks": "",
           "title": {
            "standoff": 15
           },
           "zerolinecolor": "white",
           "zerolinewidth": 2
          },
          "yaxis": {
           "automargin": true,
           "gridcolor": "white",
           "linecolor": "white",
           "ticks": "",
           "title": {
            "standoff": 15
           },
           "zerolinecolor": "white",
           "zerolinewidth": 2
          }
         }
        },
        "title": {
         "text": "Double X Axis Example"
        },
        "xaxis": {
         "anchor": "y",
         "domain": [
          0,
          1
         ],
         "position": 0,
         "range": [
          "2018-10-19T00:00:00",
          "2019-01-09T00:00:00"
         ],
         "tickmode": "array",
         "title": {
          "text": "Date"
         }
        },
        "xaxis2": {
         "anchor": "y",
         "overlaying": "x",
         "position": 0,
         "side": "top",
         "tickmode": "array",
         "title": {
          "text": "DOY"
         }
        },
        "yaxis": {
         "anchor": "x",
         "domain": [
          0,
          1
         ]
        }
       }
      },
      "text/html": [
       "<div>                            <div id=\"6cfcc26e-fe62-4454-87ff-b1c9c3042f73\" class=\"plotly-graph-div\" style=\"height:525px; width:100%;\"></div>            <script type=\"text/javascript\">                require([\"plotly\"], function(Plotly) {                    window.PLOTLYENV=window.PLOTLYENV || {};                                    if (document.getElementById(\"6cfcc26e-fe62-4454-87ff-b1c9c3042f73\")) {                    Plotly.newPlot(                        \"6cfcc26e-fe62-4454-87ff-b1c9c3042f73\",                        [{\"line\":{\"color\":\"cornflowerblue\",\"shape\":\"hv\",\"width\":2},\"mode\":\"lines\",\"name\":\"f107d\",\"opacity\":1,\"showlegend\":true,\"x\":[\"2018-10-19T00:00:00\",\"2018-10-20T00:00:00\",\"2018-10-21T00:00:00\",\"2018-10-22T00:00:00\",\"2018-10-23T00:00:00\",\"2018-10-24T00:00:00\",\"2018-10-25T00:00:00\",\"2018-10-26T00:00:00\",\"2018-10-27T00:00:00\",\"2018-10-28T00:00:00\",\"2018-10-29T00:00:00\",\"2018-10-30T00:00:00\",\"2018-10-31T00:00:00\",\"2018-11-01T00:00:00\",\"2018-11-02T00:00:00\",\"2018-11-03T00:00:00\",\"2018-11-04T00:00:00\",\"2018-11-05T00:00:00\",\"2018-11-06T00:00:00\",\"2018-11-07T00:00:00\",\"2018-11-08T00:00:00\",\"2018-11-09T00:00:00\",\"2018-11-10T00:00:00\",\"2018-11-11T00:00:00\",\"2018-11-12T00:00:00\",\"2018-11-13T00:00:00\",\"2018-11-14T00:00:00\",\"2018-11-15T00:00:00\",\"2018-11-16T00:00:00\",\"2018-11-17T00:00:00\",\"2018-11-18T00:00:00\",\"2018-11-19T00:00:00\",\"2018-11-20T00:00:00\",\"2018-11-21T00:00:00\",\"2018-11-22T00:00:00\",\"2018-11-23T00:00:00\",\"2018-11-24T00:00:00\",\"2018-11-25T00:00:00\",\"2018-11-26T00:00:00\",\"2018-11-27T00:00:00\",\"2018-11-28T00:00:00\",\"2018-11-29T00:00:00\",\"2018-11-30T00:00:00\",\"2018-12-01T00:00:00\",\"2018-12-02T00:00:00\",\"2018-12-03T00:00:00\",\"2018-12-04T00:00:00\",\"2018-12-05T00:00:00\",\"2018-12-06T00:00:00\",\"2018-12-07T00:00:00\",\"2018-12-08T00:00:00\",\"2018-12-09T00:00:00\",\"2018-12-10T00:00:00\",\"2018-12-11T00:00:00\",\"2018-12-12T00:00:00\",\"2018-12-13T00:00:00\",\"2018-12-14T00:00:00\",\"2018-12-15T00:00:00\",\"2018-12-16T00:00:00\",\"2018-12-17T00:00:00\",\"2018-12-18T00:00:00\",\"2018-12-19T00:00:00\",\"2018-12-20T00:00:00\",\"2018-12-21T00:00:00\",\"2018-12-22T00:00:00\",\"2018-12-23T00:00:00\",\"2018-12-24T00:00:00\",\"2018-12-25T00:00:00\",\"2018-12-26T00:00:00\",\"2018-12-27T00:00:00\",\"2018-12-28T00:00:00\",\"2018-12-29T00:00:00\",\"2018-12-30T00:00:00\",\"2018-12-31T00:00:00\",\"2019-01-01T00:00:00\",\"2019-01-02T00:00:00\",\"2019-01-03T00:00:00\",\"2019-01-04T00:00:00\",\"2019-01-05T00:00:00\",\"2019-01-06T00:00:00\",\"2019-01-07T00:00:00\",\"2019-01-08T00:00:00\",\"2019-01-09T00:00:00\"],\"y\":[70.0,70.0,71.0,71.0,72.0,70.0,69.0,69.0,69.0,68.0,69.0,67.0,68.0,67.0,68.0,67.0,67.0,68.0,69.0,69.0,70.0,69.0,69.0,69.0,68.0,67.0,68.0,68.0,71.0,73.0,72.0,71.0,71.0,69.0,69.0,69.0,70.0,70.0,69.0,68.0,68.0,68.0,68.0,69.0,69.0,68.0,69.0,71.0,70.0,70.0,71.0,72.0,71.0,71.0,71.0,70.0,71.0,71.0,70.0,70.0,70.0,70.0,70.0,71.0,71.0,70.0,70.0,70.0,69.0,69.0,69.0,69.0,69.0,69.0,72.0,75.0,73.0,72.0,71.0,72.0,72.0,71.0,72.0],\"type\":\"scatter\",\"xaxis\":\"x\",\"yaxis\":\"y\"},{\"line\":{\"color\":\"blue\",\"shape\":\"hv\",\"width\":2},\"mode\":\"lines\",\"name\":\"f107a\",\"opacity\":1,\"showlegend\":true,\"x\":[\"2018-10-19T00:00:00\",\"2018-10-20T00:00:00\",\"2018-10-21T00:00:00\",\"2018-10-22T00:00:00\",\"2018-10-23T00:00:00\",\"2018-10-24T00:00:00\",\"2018-10-25T00:00:00\",\"2018-10-26T00:00:00\",\"2018-10-27T00:00:00\",\"2018-10-28T00:00:00\",\"2018-10-29T00:00:00\",\"2018-10-30T00:00:00\",\"2018-10-31T00:00:00\",\"2018-11-01T00:00:00\",\"2018-11-02T00:00:00\",\"2018-11-03T00:00:00\",\"2018-11-04T00:00:00\",\"2018-11-05T00:00:00\",\"2018-11-06T00:00:00\",\"2018-11-07T00:00:00\",\"2018-11-08T00:00:00\",\"2018-11-09T00:00:00\",\"2018-11-10T00:00:00\",\"2018-11-11T00:00:00\",\"2018-11-12T00:00:00\",\"2018-11-13T00:00:00\",\"2018-11-14T00:00:00\",\"2018-11-15T00:00:00\",\"2018-11-16T00:00:00\",\"2018-11-17T00:00:00\",\"2018-11-18T00:00:00\",\"2018-11-19T00:00:00\",\"2018-11-20T00:00:00\",\"2018-11-21T00:00:00\",\"2018-11-22T00:00:00\",\"2018-11-23T00:00:00\",\"2018-11-24T00:00:00\",\"2018-11-25T00:00:00\",\"2018-11-26T00:00:00\",\"2018-11-27T00:00:00\",\"2018-11-28T00:00:00\",\"2018-11-29T00:00:00\",\"2018-11-30T00:00:00\",\"2018-12-01T00:00:00\",\"2018-12-02T00:00:00\",\"2018-12-03T00:00:00\",\"2018-12-04T00:00:00\",\"2018-12-05T00:00:00\",\"2018-12-06T00:00:00\",\"2018-12-07T00:00:00\",\"2018-12-08T00:00:00\",\"2018-12-09T00:00:00\",\"2018-12-10T00:00:00\",\"2018-12-11T00:00:00\",\"2018-12-12T00:00:00\",\"2018-12-13T00:00:00\",\"2018-12-14T00:00:00\",\"2018-12-15T00:00:00\",\"2018-12-16T00:00:00\",\"2018-12-17T00:00:00\",\"2018-12-18T00:00:00\",\"2018-12-19T00:00:00\",\"2018-12-20T00:00:00\",\"2018-12-21T00:00:00\",\"2018-12-22T00:00:00\",\"2018-12-23T00:00:00\",\"2018-12-24T00:00:00\",\"2018-12-25T00:00:00\",\"2018-12-26T00:00:00\",\"2018-12-27T00:00:00\",\"2018-12-28T00:00:00\",\"2018-12-29T00:00:00\",\"2018-12-30T00:00:00\",\"2018-12-31T00:00:00\",\"2019-01-01T00:00:00\",\"2019-01-02T00:00:00\",\"2019-01-03T00:00:00\",\"2019-01-04T00:00:00\",\"2019-01-05T00:00:00\",\"2019-01-06T00:00:00\",\"2019-01-07T00:00:00\",\"2019-01-08T00:00:00\",\"2019-01-09T00:00:00\"],\"y\":[69.08641975308642,69.08641975308642,69.07407407407408,69.07407407407408,69.06172839506173,69.03703703703704,69.03703703703704,69.06172839506173,69.07407407407408,69.09876543209876,69.1358024691358,69.18518518518519,69.23456790123457,69.28395061728395,69.32098765432099,69.34567901234568,69.37037037037037,69.4074074074074,69.41975308641975,69.45679012345678,69.46913580246914,69.48148148148148,69.50617283950618,69.51851851851852,69.5679012345679,69.5925925925926,69.62962962962963,69.64197530864197,69.64197530864197,69.65432098765432,69.65432098765432,69.64197530864197,69.62962962962963,69.60493827160494,69.60493827160494,69.64197530864197,69.65432098765432,69.67901234567901,69.69135802469135,69.71604938271605,69.74074074074075,69.75308641975309,69.77777777777777,69.76543209876543,69.72839506172839,69.70370370370371,69.69135802469135,69.70370370370371,69.71604938271605,69.72839506172839,69.74074074074075,69.74074074074075,69.77777777777777,69.79012345679013,69.82716049382717,69.8641975308642,69.92592592592592,69.98765432098766,70.07407407407408,70.17283950617283,70.23456790123457,70.30864197530865,70.35802469135803,70.41975308641975,70.45679012345678,70.50617283950618,70.55555555555556,70.5925925925926,70.62962962962963,70.62962962962963,70.5925925925926,70.5679012345679,70.5679012345679,70.55555555555556,70.5679012345679,70.58024691358025,70.5925925925926,70.5925925925926,70.60493827160494,70.62962962962963,70.66666666666667,70.69135802469135,70.71604938271605],\"type\":\"scatter\",\"xaxis\":\"x\",\"yaxis\":\"y\"},{\"line\":{\"color\":\"red\",\"shape\":\"hv\",\"width\":2},\"mode\":\"lines\",\"name\":\"f107d @earth\",\"opacity\":1,\"showlegend\":true,\"x\":[\"2018-10-19T00:00:00\",\"2018-10-20T00:00:00\",\"2018-10-21T00:00:00\",\"2018-10-22T00:00:00\",\"2018-10-23T00:00:00\",\"2018-10-24T00:00:00\",\"2018-10-25T00:00:00\",\"2018-10-26T00:00:00\",\"2018-10-27T00:00:00\",\"2018-10-28T00:00:00\",\"2018-10-29T00:00:00\",\"2018-10-30T00:00:00\",\"2018-10-31T00:00:00\",\"2018-11-01T00:00:00\",\"2018-11-02T00:00:00\",\"2018-11-03T00:00:00\",\"2018-11-04T00:00:00\",\"2018-11-05T00:00:00\",\"2018-11-06T00:00:00\",\"2018-11-07T00:00:00\",\"2018-11-08T00:00:00\",\"2018-11-09T00:00:00\",\"2018-11-10T00:00:00\",\"2018-11-11T00:00:00\",\"2018-11-12T00:00:00\",\"2018-11-13T00:00:00\",\"2018-11-14T00:00:00\",\"2018-11-15T00:00:00\",\"2018-11-16T00:00:00\",\"2018-11-17T00:00:00\",\"2018-11-18T00:00:00\",\"2018-11-19T00:00:00\",\"2018-11-20T00:00:00\",\"2018-11-21T00:00:00\",\"2018-11-22T00:00:00\",\"2018-11-23T00:00:00\",\"2018-11-24T00:00:00\",\"2018-11-25T00:00:00\",\"2018-11-26T00:00:00\",\"2018-11-27T00:00:00\",\"2018-11-28T00:00:00\",\"2018-11-29T00:00:00\",\"2018-11-30T00:00:00\",\"2018-12-01T00:00:00\",\"2018-12-02T00:00:00\",\"2018-12-03T00:00:00\",\"2018-12-04T00:00:00\",\"2018-12-05T00:00:00\",\"2018-12-06T00:00:00\",\"2018-12-07T00:00:00\",\"2018-12-08T00:00:00\",\"2018-12-09T00:00:00\",\"2018-12-10T00:00:00\",\"2018-12-11T00:00:00\",\"2018-12-12T00:00:00\",\"2018-12-13T00:00:00\",\"2018-12-14T00:00:00\",\"2018-12-15T00:00:00\",\"2018-12-16T00:00:00\",\"2018-12-17T00:00:00\",\"2018-12-18T00:00:00\",\"2018-12-19T00:00:00\",\"2018-12-20T00:00:00\",\"2018-12-21T00:00:00\",\"2018-12-22T00:00:00\",\"2018-12-23T00:00:00\",\"2018-12-24T00:00:00\",\"2018-12-25T00:00:00\",\"2018-12-26T00:00:00\",\"2018-12-27T00:00:00\",\"2018-12-28T00:00:00\",\"2018-12-29T00:00:00\",\"2018-12-30T00:00:00\",\"2018-12-31T00:00:00\",\"2019-01-01T00:00:00\",\"2019-01-02T00:00:00\",\"2019-01-03T00:00:00\",\"2019-01-04T00:00:00\",\"2019-01-05T00:00:00\",\"2019-01-06T00:00:00\",\"2019-01-07T00:00:00\",\"2019-01-08T00:00:00\",\"2019-01-09T00:00:00\"],\"y\":[70.61884028781856,70.65932998989778,71.70966002598074,71.75040099708113,72.8020992002302,70.81961213155911,69.84692532144926,69.88573164467448,69.92430982173006,68.94869593661514,70.00073175123707,68.00844768609419,69.0604959844735,68.08107136231122,69.1336193541299,68.15251994446818,68.18777394732851,69.2409479885672,70.29481352639749,70.33006686325062,71.38472720623597,70.39943734924556,70.4335310855646,70.46721504071061,69.47873170919473,68.48886420747398,69.54300305069435,69.57447173693707,72.67631136210335,74.75631673466039,73.76408521006631,72.77045716758656,72.80080717147145,70.77905661633406,70.80750424756049,70.83541315437374,71.88977027275709,71.91696099370999,70.91581056443641,69.91333125724782,69.93803992910806,69.96216245517284,69.9856902714713,71.03815346463195,71.06079509150227,70.05262276564915,71.10418549853311,73.18651058949162,72.17608764707848,72.19579255736173,73.24646261597724,74.29697485718116,73.2829837336484,73.30019004648312,73.31668512792103,72.29961139601807,73.34751788601885,73.36184433960118,72.34198026056508,72.35465335987158,72.36659358683947,72.3777965655368,72.38825818383641,73.43223137551065,73.44132711146538,72.415157756527,72.42261816076535,72.4293206718526,71.40047333248292,71.40557887380619,71.40993080701328,71.41352749863367,71.41636759040057,71.41845,74.52498148348909,77.63080307249773,75.56044269344659,74.52437306995725,73.48755015071335,74.52000773747358,74.51663897296685,73.47758539030545,74.50753516872311],\"type\":\"scatter\",\"xaxis\":\"x\",\"yaxis\":\"y\"},{\"line\":{\"color\":\"red\",\"shape\":\"hv\",\"width\":2},\"mode\":\"lines\",\"name\":\"f107a @earth\",\"opacity\":1,\"showlegend\":true,\"x\":[\"292\",\"293\",\"294\",\"295\",\"296\",\"297\",\"298\",\"299\",\"300\",\"301\",\"302\",\"303\",\"304\",\"305\",\"306\",\"307\",\"308\",\"309\",\"310\",\"311\",\"312\",\"313\",\"314\",\"315\",\"316\",\"317\",\"318\",\"319\",\"320\",\"321\",\"322\",\"323\",\"324\",\"325\",\"326\",\"327\",\"328\",\"329\",\"330\",\"331\",\"332\",\"333\",\"334\",\"335\",\"336\",\"337\",\"338\",\"339\",\"340\",\"341\",\"342\",\"343\",\"344\",\"345\",\"346\",\"347\",\"348\",\"349\",\"350\",\"351\",\"352\",\"353\",\"354\",\"355\",\"356\",\"357\",\"358\",\"359\",\"360\",\"361\",\"362\",\"363\",\"364\",\"365\",\"001\",\"002\",\"003\",\"004\",\"005\",\"006\",\"007\",\"008\",\"009\"],\"xaxis\":\"x2\",\"y\":[69.69718346572004,69.73714473077037,69.76448406283468,69.80411990587183,69.83109446606443,69.84537408107205,69.88441696145004,69.94825242803884,69.99937617687952,70.06279069666574,70.13850381229693,70.22652309431949,70.31431762544072,70.401874421465,70.4766290256789,70.53854883509817,70.60016617100403,70.67403950467043,70.72244345302077,70.79566222448524,70.84336155017456,70.89068409403363,70.95022007724614,70.99675932979808,71.08072860953382,71.13906901373335,71.20961096694194,71.25446533552325,71.28622368172927,71.33014358480531,71.36093428587004,71.37856875019227,71.39567943785411,71.39959227104875,71.42828930895438,71.49446512861375,71.53475906153359,71.58718304206336,71.62636440083082,71.67766550647757,71.72839280311028,71.7658347624776,71.81538152039865,71.82619524577476,71.81094483392465,71.80775383711966,71.81662679177302,71.85029365123799,71.8833098664995,71.91566778906156,71.947359992637,71.96563974077785,72.02146132195804,72.05111708098924,72.10557660989765,72.15934759965896,72.23793102180677,72.31582256324103,72.41853262062918,72.53330682495768,72.60909187222747,72.69692265268644,72.75849795232517,72.83210707110288,72.87943902367118,72.93879469973997,72.99740084458095,73.04247894209051,73.08679691092053,73.09202303400343,73.05814713803936,73.03627181645912,73.03917644421715,73.02852777777778,73.04266017826193,73.05601665275219,73.06859653663581,73.06762092147044,73.07864707214912,73.10167425687352,73.1367012142082,73.15817317768892,73.17886856077605],\"type\":\"scatter\",\"yaxis\":\"y\"}],                        {\"template\":{\"data\":{\"histogram2dcontour\":[{\"type\":\"histogram2dcontour\",\"colorbar\":{\"outlinewidth\":0,\"ticks\":\"\"},\"colorscale\":[[0.0,\"#0d0887\"],[0.1111111111111111,\"#46039f\"],[0.2222222222222222,\"#7201a8\"],[0.3333333333333333,\"#9c179e\"],[0.4444444444444444,\"#bd3786\"],[0.5555555555555556,\"#d8576b\"],[0.6666666666666666,\"#ed7953\"],[0.7777777777777778,\"#fb9f3a\"],[0.8888888888888888,\"#fdca26\"],[1.0,\"#f0f921\"]]}],\"choropleth\":[{\"type\":\"choropleth\",\"colorbar\":{\"outlinewidth\":0,\"ticks\":\"\"}}],\"histogram2d\":[{\"type\":\"histogram2d\",\"colorbar\":{\"outlinewidth\":0,\"ticks\":\"\"},\"colorscale\":[[0.0,\"#0d0887\"],[0.1111111111111111,\"#46039f\"],[0.2222222222222222,\"#7201a8\"],[0.3333333333333333,\"#9c179e\"],[0.4444444444444444,\"#bd3786\"],[0.5555555555555556,\"#d8576b\"],[0.6666666666666666,\"#ed7953\"],[0.7777777777777778,\"#fb9f3a\"],[0.8888888888888888,\"#fdca26\"],[1.0,\"#f0f921\"]]}],\"heatmap\":[{\"type\":\"heatmap\",\"colorbar\":{\"outlinewidth\":0,\"ticks\":\"\"},\"colorscale\":[[0.0,\"#0d0887\"],[0.1111111111111111,\"#46039f\"],[0.2222222222222222,\"#7201a8\"],[0.3333333333333333,\"#9c179e\"],[0.4444444444444444,\"#bd3786\"],[0.5555555555555556,\"#d8576b\"],[0.6666666666666666,\"#ed7953\"],[0.7777777777777778,\"#fb9f3a\"],[0.8888888888888888,\"#fdca26\"],[1.0,\"#f0f921\"]]}],\"heatmapgl\":[{\"type\":\"heatmapgl\",\"colorbar\":{\"outlinewidth\":0,\"ticks\":\"\"},\"colorscale\":[[0.0,\"#0d0887\"],[0.1111111111111111,\"#46039f\"],[0.2222222222222222,\"#7201a8\"],[0.3333333333333333,\"#9c179e\"],[0.4444444444444444,\"#bd3786\"],[0.5555555555555556,\"#d8576b\"],[0.6666666666666666,\"#ed7953\"],[0.7777777777777778,\"#fb9f3a\"],[0.8888888888888888,\"#fdca26\"],[1.0,\"#f0f921\"]]}],\"contourcarpet\":[{\"type\":\"contourcarpet\",\"colorbar\":{\"outlinewidth\":0,\"ticks\":\"\"}}],\"contour\":[{\"type\":\"contour\",\"colorbar\":{\"outlinewidth\":0,\"ticks\":\"\"},\"colorscale\":[[0.0,\"#0d0887\"],[0.1111111111111111,\"#46039f\"],[0.2222222222222222,\"#7201a8\"],[0.3333333333333333,\"#9c179e\"],[0.4444444444444444,\"#bd3786\"],[0.5555555555555556,\"#d8576b\"],[0.6666666666666666,\"#ed7953\"],[0.7777777777777778,\"#fb9f3a\"],[0.8888888888888888,\"#fdca26\"],[1.0,\"#f0f921\"]]}],\"surface\":[{\"type\":\"surface\",\"colorbar\":{\"outlinewidth\":0,\"ticks\":\"\"},\"colorscale\":[[0.0,\"#0d0887\"],[0.1111111111111111,\"#46039f\"],[0.2222222222222222,\"#7201a8\"],[0.3333333333333333,\"#9c179e\"],[0.4444444444444444,\"#bd3786\"],[0.5555555555555556,\"#d8576b\"],[0.6666666666666666,\"#ed7953\"],[0.7777777777777778,\"#fb9f3a\"],[0.8888888888888888,\"#fdca26\"],[1.0,\"#f0f921\"]]}],\"mesh3d\":[{\"type\":\"mesh3d\",\"colorbar\":{\"outlinewidth\":0,\"ticks\":\"\"}}],\"scatter\":[{\"fillpattern\":{\"fillmode\":\"overlay\",\"size\":10,\"solidity\":0.2},\"type\":\"scatter\"}],\"parcoords\":[{\"type\":\"parcoords\",\"line\":{\"colorbar\":{\"outlinewidth\":0,\"ticks\":\"\"}}}],\"scatterpolargl\":[{\"type\":\"scatterpolargl\",\"marker\":{\"colorbar\":{\"outlinewidth\":0,\"ticks\":\"\"}}}],\"bar\":[{\"error_x\":{\"color\":\"#2a3f5f\"},\"error_y\":{\"color\":\"#2a3f5f\"},\"marker\":{\"line\":{\"color\":\"#E5ECF6\",\"width\":0.5},\"pattern\":{\"fillmode\":\"overlay\",\"size\":10,\"solidity\":0.2}},\"type\":\"bar\"}],\"scattergeo\":[{\"type\":\"scattergeo\",\"marker\":{\"colorbar\":{\"outlinewidth\":0,\"ticks\":\"\"}}}],\"scatterpolar\":[{\"type\":\"scatterpolar\",\"marker\":{\"colorbar\":{\"outlinewidth\":0,\"ticks\":\"\"}}}],\"histogram\":[{\"marker\":{\"pattern\":{\"fillmode\":\"overlay\",\"size\":10,\"solidity\":0.2}},\"type\":\"histogram\"}],\"scattergl\":[{\"type\":\"scattergl\",\"marker\":{\"colorbar\":{\"outlinewidth\":0,\"ticks\":\"\"}}}],\"scatter3d\":[{\"type\":\"scatter3d\",\"line\":{\"colorbar\":{\"outlinewidth\":0,\"ticks\":\"\"}},\"marker\":{\"colorbar\":{\"outlinewidth\":0,\"ticks\":\"\"}}}],\"scattermapbox\":[{\"type\":\"scattermapbox\",\"marker\":{\"colorbar\":{\"outlinewidth\":0,\"ticks\":\"\"}}}],\"scatterternary\":[{\"type\":\"scatterternary\",\"marker\":{\"colorbar\":{\"outlinewidth\":0,\"ticks\":\"\"}}}],\"scattercarpet\":[{\"type\":\"scattercarpet\",\"marker\":{\"colorbar\":{\"outlinewidth\":0,\"ticks\":\"\"}}}],\"carpet\":[{\"aaxis\":{\"endlinecolor\":\"#2a3f5f\",\"gridcolor\":\"white\",\"linecolor\":\"white\",\"minorgridcolor\":\"white\",\"startlinecolor\":\"#2a3f5f\"},\"baxis\":{\"endlinecolor\":\"#2a3f5f\",\"gridcolor\":\"white\",\"linecolor\":\"white\",\"minorgridcolor\":\"white\",\"startlinecolor\":\"#2a3f5f\"},\"type\":\"carpet\"}],\"table\":[{\"cells\":{\"fill\":{\"color\":\"#EBF0F8\"},\"line\":{\"color\":\"white\"}},\"header\":{\"fill\":{\"color\":\"#C8D4E3\"},\"line\":{\"color\":\"white\"}},\"type\":\"table\"}],\"barpolar\":[{\"marker\":{\"line\":{\"color\":\"#E5ECF6\",\"width\":0.5},\"pattern\":{\"fillmode\":\"overlay\",\"size\":10,\"solidity\":0.2}},\"type\":\"barpolar\"}],\"pie\":[{\"automargin\":true,\"type\":\"pie\"}]},\"layout\":{\"autotypenumbers\":\"strict\",\"colorway\":[\"#636efa\",\"#EF553B\",\"#00cc96\",\"#ab63fa\",\"#FFA15A\",\"#19d3f3\",\"#FF6692\",\"#B6E880\",\"#FF97FF\",\"#FECB52\"],\"font\":{\"color\":\"#2a3f5f\"},\"hovermode\":\"closest\",\"hoverlabel\":{\"align\":\"left\"},\"paper_bgcolor\":\"white\",\"plot_bgcolor\":\"#E5ECF6\",\"polar\":{\"bgcolor\":\"#E5ECF6\",\"angularaxis\":{\"gridcolor\":\"white\",\"linecolor\":\"white\",\"ticks\":\"\"},\"radialaxis\":{\"gridcolor\":\"white\",\"linecolor\":\"white\",\"ticks\":\"\"}},\"ternary\":{\"bgcolor\":\"#E5ECF6\",\"aaxis\":{\"gridcolor\":\"white\",\"linecolor\":\"white\",\"ticks\":\"\"},\"baxis\":{\"gridcolor\":\"white\",\"linecolor\":\"white\",\"ticks\":\"\"},\"caxis\":{\"gridcolor\":\"white\",\"linecolor\":\"white\",\"ticks\":\"\"}},\"coloraxis\":{\"colorbar\":{\"outlinewidth\":0,\"ticks\":\"\"}},\"colorscale\":{\"sequential\":[[0.0,\"#0d0887\"],[0.1111111111111111,\"#46039f\"],[0.2222222222222222,\"#7201a8\"],[0.3333333333333333,\"#9c179e\"],[0.4444444444444444,\"#bd3786\"],[0.5555555555555556,\"#d8576b\"],[0.6666666666666666,\"#ed7953\"],[0.7777777777777778,\"#fb9f3a\"],[0.8888888888888888,\"#fdca26\"],[1.0,\"#f0f921\"]],\"sequentialminus\":[[0.0,\"#0d0887\"],[0.1111111111111111,\"#46039f\"],[0.2222222222222222,\"#7201a8\"],[0.3333333333333333,\"#9c179e\"],[0.4444444444444444,\"#bd3786\"],[0.5555555555555556,\"#d8576b\"],[0.6666666666666666,\"#ed7953\"],[0.7777777777777778,\"#fb9f3a\"],[0.8888888888888888,\"#fdca26\"],[1.0,\"#f0f921\"]],\"diverging\":[[0,\"#8e0152\"],[0.1,\"#c51b7d\"],[0.2,\"#de77ae\"],[0.3,\"#f1b6da\"],[0.4,\"#fde0ef\"],[0.5,\"#f7f7f7\"],[0.6,\"#e6f5d0\"],[0.7,\"#b8e186\"],[0.8,\"#7fbc41\"],[0.9,\"#4d9221\"],[1,\"#276419\"]]},\"xaxis\":{\"gridcolor\":\"white\",\"linecolor\":\"white\",\"ticks\":\"\",\"title\":{\"standoff\":15},\"zerolinecolor\":\"white\",\"automargin\":true,\"zerolinewidth\":2},\"yaxis\":{\"gridcolor\":\"white\",\"linecolor\":\"white\",\"ticks\":\"\",\"title\":{\"standoff\":15},\"zerolinecolor\":\"white\",\"automargin\":true,\"zerolinewidth\":2},\"scene\":{\"xaxis\":{\"backgroundcolor\":\"#E5ECF6\",\"gridcolor\":\"white\",\"linecolor\":\"white\",\"showbackground\":true,\"ticks\":\"\",\"zerolinecolor\":\"white\",\"gridwidth\":2},\"yaxis\":{\"backgroundcolor\":\"#E5ECF6\",\"gridcolor\":\"white\",\"linecolor\":\"white\",\"showbackground\":true,\"ticks\":\"\",\"zerolinecolor\":\"white\",\"gridwidth\":2},\"zaxis\":{\"backgroundcolor\":\"#E5ECF6\",\"gridcolor\":\"white\",\"linecolor\":\"white\",\"showbackground\":true,\"ticks\":\"\",\"zerolinecolor\":\"white\",\"gridwidth\":2}},\"shapedefaults\":{\"line\":{\"color\":\"#2a3f5f\"}},\"annotationdefaults\":{\"arrowcolor\":\"#2a3f5f\",\"arrowhead\":0,\"arrowwidth\":1},\"geo\":{\"bgcolor\":\"white\",\"landcolor\":\"#E5ECF6\",\"subunitcolor\":\"white\",\"showland\":true,\"showlakes\":true,\"lakecolor\":\"white\"},\"title\":{\"x\":0.05},\"mapbox\":{\"style\":\"light\"}}},\"xaxis\":{\"anchor\":\"y\",\"domain\":[0.0,1.0],\"position\":0,\"title\":{\"text\":\"Date\"},\"tickmode\":\"array\",\"range\":[\"2018-10-19T00:00:00\",\"2019-01-09T00:00:00\"]},\"yaxis\":{\"anchor\":\"x\",\"domain\":[0.0,1.0]},\"xaxis2\":{\"anchor\":\"y\",\"overlaying\":\"x\",\"side\":\"top\",\"position\":0,\"title\":{\"text\":\"DOY\"},\"tickmode\":\"array\"},\"title\":{\"text\":\"Double X Axis Example\"}},                        {\"displayModeBar\": true, \"responsive\": false, \"staticPlot\": false, \"displaylogo\": false, \"showTips\": false}                    ).then(function(){\n",
       "                            \n",
       "var gd = document.getElementById('6cfcc26e-fe62-4454-87ff-b1c9c3042f73');\n",
       "var x = new MutationObserver(function (mutations, observer) {{\n",
       "        var display = window.getComputedStyle(gd).display;\n",
       "        if (!display || display === 'none') {{\n",
       "            console.log([gd, 'removed!']);\n",
       "            Plotly.purge(gd);\n",
       "            observer.disconnect();\n",
       "        }}\n",
       "}});\n",
       "\n",
       "// Listen for the removal of the full notebook cells\n",
       "var notebookContainer = gd.closest('#notebook-container');\n",
       "if (notebookContainer) {{\n",
       "    x.observe(notebookContainer, {childList: true});\n",
       "}}\n",
       "\n",
       "// Listen for the clearing of the current output cell\n",
       "var outputEl = gd.closest('.output');\n",
       "if (outputEl) {{\n",
       "    x.observe(outputEl, {childList: true});\n",
       "}}\n",
       "\n",
       "                        })                };                });            </script>        </div>"
      ]
     },
     "metadata": {},
     "output_type": "display_data"
    }
   ],
   "source": [
    "fig = make_subplots(rows=1, cols=1,\n",
    "                  #\n",
    "                    vertical_spacing = 0.05,\n",
    "                    shared_xaxes=True)\n",
    "\n",
    "\n",
    "fig.add_trace(go.Scatter(  x=solar_fluxes['date'],\n",
    "                           y=solar_fluxes['f107d_list'],\n",
    "                           name = 'f107d',\n",
    "#                            xaxis=\"x1\",\n",
    "                              mode='lines',\n",
    "                              opacity=1,\n",
    "                              line = dict(shape = 'hv', color = 'cornflowerblue', width=2),\n",
    "                              showlegend=True),\n",
    "                           secondary_y=False,\n",
    "                           row=1, col=1,\n",
    "                           )\n",
    "fig.add_trace(go.Scatter(x=solar_fluxes['date'],\n",
    "                           y=solar_fluxes['f107a_list'],\n",
    "                           name = 'f107a',\n",
    "#                          xaxis=\"x1\",\n",
    "                           mode='lines',\n",
    "                           opacity=1,\n",
    "                               line = dict(shape = 'hv', color = 'blue', width=2),\n",
    "                           showlegend=True),\n",
    "                           secondary_y=False,row=1, col=1)\n",
    "\n",
    "fig.add_trace(go.Scatter(x=solar_fluxes['date'],\n",
    "                           y=solar_fluxes['f107d_earth'],\n",
    "                            name = 'f107d @earth',\n",
    "#                           xaxis=\"x1\",\n",
    "                           mode='lines',\n",
    "                           opacity=1,\n",
    "                               line = dict(shape = 'hv', color = 'red', width=2),\n",
    "                           showlegend=True),\n",
    "                           secondary_y=False,row=1, col=1)\n",
    "\n",
    "fig.add_trace(go.Scatter(x=solar_fluxes['doy_list'],\n",
    "                           y=solar_fluxes['f107a_earth'],\n",
    "                           name = 'f107a @earth',\n",
    "                          xaxis=\"x2\",\n",
    "                           mode='lines',\n",
    "                           opacity=1,\n",
    "                               line = dict(shape = 'hv', color = 'red', width=2),\n",
    "                           showlegend=True),\n",
    "                           secondary_y=False,row=1, col=1)\n",
    "\n",
    "# fig.add_trace(go.Scatter(x=solar_fluxes['date_3hr'],\n",
    "#                            y=solar_fluxes['kp_expand'],\n",
    "#                            name = 'Kp',\n",
    "#                            mode='lines',\n",
    "#                            opacity=1,\n",
    "#                                line = dict(shape = 'hv', color = 'black', width=1),\n",
    "#                            showlegend=True),\n",
    "#                                secondary_y=False,row=2, col=1)\n",
    "\n",
    "\n",
    "# fig.update_layout(\n",
    "#     xaxis1=dict(range=[solar_fluxes['date'][0], solar_fluxes['date'][-1]]),\n",
    "#     )\n",
    "# fig.data[0].update(xaxis='x1')\n",
    "fig.data[3].update(xaxis='x2')\n",
    "\n",
    "fig.update_layout(xaxis2= {'anchor': 'y', 'overlaying': 'x2', 'side': 'top'});\n",
    "# fig.update_layout(xaxis1= {'anchor': 'y', 'overlaying': 'x1', 'side': 'bottom'});\n",
    "\n",
    "\n",
    "\n",
    "fig.update_layout(title_text='Double X Axis Example',\n",
    "#                   legend=dict(yanchor='top', y=0.875, xanchor='right', x=1),\n",
    "                  xaxis =dict(position = 0, title='Date',  \n",
    "                              tickmode='array',  range=[solar_fluxes['date'][0], solar_fluxes['date'][-1]]),\n",
    "                  \n",
    "                  xaxis2=dict(position = 0, title='DOY', anchor='y', overlaying='x', side='top', tickmode='array', \n",
    "                                 ) \n",
    "                 )\n",
    "\n",
    "\n",
    "fig.show(config=dict({\n",
    "                'displayModeBar': True,\n",
    "                'responsive': False,\n",
    "                'staticPlot': False,\n",
    "                'displaylogo': False,\n",
    "                'showTips': False,\n",
    "                }))\n"
   ]
  },
  {
   "cell_type": "code",
   "execution_count": null,
   "id": "84ef7fa7",
   "metadata": {
    "ExecuteTime": {
     "end_time": "2022-05-23T19:10:57.191727Z",
     "start_time": "2022-05-23T19:10:57.185424Z"
    }
   },
   "outputs": [],
   "source": []
  },
  {
   "cell_type": "code",
   "execution_count": 11,
   "id": "1fa6f9ba",
   "metadata": {
    "ExecuteTime": {
     "end_time": "2022-05-23T18:37:26.970736Z",
     "start_time": "2022-05-23T18:37:24.571845Z"
    }
   },
   "outputs": [],
   "source": [
    "# solar_fluxes_shaded = {}\n",
    "# solar_fluxes_shaded['f107d_list'] = f107d_list\n",
    "# solar_fluxes_shaded['f107a_list'] = f107a_list\n",
    "# solar_fluxes_shaded['date']       = date\n",
    "# solar_fluxes_shaded['date_3hr']   = date_3hr\n",
    "# solar_fluxes_shaded['kp_expand']  = kp_expand\n",
    "\n",
    "\n",
    "### Prepare RMS total Plot arrays\n",
    "arc_list={}\n",
    "arc_list['1']=  ['2018.292', '2018.293', '2018.294', '2018.295', '2018.296', \n",
    "                 '2018.297', '2018.298', '2018.299' ]                  \n",
    "                #\n",
    "arc_list['2']=  ['2018.304', '2018.305', '2018.306', '2018.307', '2018.308' ]  \n",
    "                #\n",
    "arc_list['3']=  ['2018.313', '2018.314', '2018.315', '2018.316', '2018.317',\n",
    "                 '2018.318', '2018.319', '2018.320', '2018.321', '2018.322',\n",
    "                 '2018.323', '2018.324', '2018.325', '2018.326', '2018.327' ]  \n",
    "                #\n",
    "arc_list['4']=  ['2018.335', '2018.336', '2018.337' ]  \n",
    "                #\n",
    "arc_list['5']=  ['2018.349', '2018.350', '2018.351', '2018.352' ]  \n",
    "                #\n",
    "arc_list['6']=  ['2018.356', '2018.357', '2018.358' ]  \n",
    "                #\n",
    "arc_list['7']=  ['2018.365', '2019.001', '2019.002', '2019.003', '2019.004', \n",
    "                '2019.005', '2019.006', '2019.007', '2019.008',\n",
    "                '2019.009' ]  \n",
    "\n",
    "\n",
    "\n",
    "# for arclist in arc_listlist:\n",
    "#     for arc in arclist:\n",
    "#         print(pd.to_datetime( str(arc), format='%Y.%j'))\n",
    "shadezone_i = {} \n",
    "shadezone_f = {}\n",
    "shadezone_i['1'] = '2018.299'\n",
    "shadezone_f['1'] = '2018.304'\n",
    "shadezone_i['2'] = '2018.308'\n",
    "shadezone_f['2'] = '2018.313'\n",
    "shadezone_i['3'] = '2018.327'\n",
    "shadezone_f['3'] = '2018.335'\n",
    "shadezone_i['4'] = '2018.337'\n",
    "shadezone_f['4'] = '2018.349'\n",
    "shadezone_i['5'] = '2018.352'\n",
    "shadezone_f['5'] = '2018.356'\n",
    "shadezone_i['6'] = '2018.358'\n",
    "shadezone_f['6'] = '2018.365'\n",
    "\n",
    "SF = {}\n",
    "for iii in np.arange(1,8):\n",
    "#     print(iii)\n",
    "    SF[str(iii)+'_shade_f107d'] = []\n",
    "    SF[str(iii)+'_shade_date']  = []\n",
    "    SF[str(iii)+'_f107d']       = []\n",
    "    SF[str(iii)+'_date']        = []\n",
    "    #     \n",
    "    SF[str(iii)+'_shade_date_3hr'] = []\n",
    "    SF[str(iii)+'_shade_kp_expand']  = []\n",
    "    SF[str(iii)+'_date_3hr']       = []\n",
    "    SF[str(iii)+'_kp_expand']        = []\n",
    "    #  \n",
    "    #     \n",
    "    SF[str(iii)+'_f107d_earth']        = []\n",
    "    SF[str(iii)+'_f107a_earth']        = []\n",
    "    SF[str(iii)+'_shade_f107d_earth']        = []\n",
    "    SF[str(iii)+'_shade_f107a_earth']        = []\n",
    "#     solar_fluxes['f107d_earth'] = f107d_earth\n",
    "#     solar_fluxes['f107a_earth'] = f107a_earth\n",
    "\n",
    "    \n",
    "    \n",
    "    \n",
    "#     shadezone_i[str(iii)] = \n",
    "#     shadezone_f[str(iii)] = \n",
    "    \n",
    "    \n",
    "    \n",
    "for i, val in enumerate(solar_fluxes['date']):\n",
    "    for iii in np.arange(1,8):\n",
    "\n",
    "        if iii == 7:\n",
    "            pass\n",
    "        else:\n",
    "            if val >= pd.to_datetime(shadezone_i[str(iii)], format='%Y.%j') and val <= pd.to_datetime(shadezone_f[str(iii)], format='%Y.%j'):    \n",
    "                SF[str(iii)+'_shade_f107d'].append(solar_fluxes['f107d_list'][i])\n",
    "                SF[str(iii)+'_shade_f107d_earth'].append(solar_fluxes['f107d_earth'][i])\n",
    "                SF[str(iii)+'_shade_date'].append(val)\n",
    "\n",
    "        if val >= pd.to_datetime(arc_list[str(iii)][0], format='%Y.%j') and val <= pd.to_datetime(arc_list[str(iii)][-1], format='%Y.%j'):    \n",
    "            SF[str(iii)+'_f107d'].append(solar_fluxes['f107d_list'][i])\n",
    "            SF[str(iii)+'_date'].append(val)\n",
    "\n",
    "for i, val in enumerate(solar_fluxes['date_3hr']):\n",
    "    for iii in np.arange(1,8):\n",
    "\n",
    "        if iii == 7:\n",
    "            pass\n",
    "        else:\n",
    "            if val >= pd.to_datetime(shadezone_i[str(iii)], format='%Y.%j') and val <= pd.to_datetime(shadezone_f[str(iii)], format='%Y.%j'):    \n",
    "                SF[str(iii)+'_shade_date_3hr'].append(val)\n",
    "                SF[str(iii)+'_shade_kp_expand'].append(solar_fluxes['kp_expand'][i])\n",
    "\n",
    "        if val >= pd.to_datetime(arc_list[str(iii)][0], format='%Y.%j') and val <= pd.to_datetime(arc_list[str(iii)][-1], format='%Y.%j'):    \n",
    "#             print(val)\n",
    "            SF[str(iii)+'_date_3hr'].append(val)\n",
    "            SF[str(iii)+'_kp_expand'].append(solar_fluxes['kp_expand'][i])\n",
    "\n"
   ]
  },
  {
   "cell_type": "code",
   "execution_count": 13,
   "id": "3a39f65d",
   "metadata": {
    "ExecuteTime": {
     "end_time": "2022-05-23T18:38:14.408533Z",
     "start_time": "2022-05-23T18:38:04.749573Z"
    }
   },
   "outputs": [
    {
     "data": {
      "image/jpeg": "[encoded data removed]"
     },
     "metadata": {},
     "output_type": "display_data"
    }
   ],
   "source": [
    "fig = make_subplots(rows=2, cols=1,\n",
    "#                     subplot_titles=([ ' ', ]),\n",
    "                    #                     \n",
    "                    specs=[[ {\"secondary_y\": False} ],\n",
    "                           [ {\"secondary_y\": False} ]],\n",
    "                    #\n",
    "                    vertical_spacing = 0.05,\n",
    "                    shared_xaxes=True)\n",
    "for iii in np.arange(1,8):\n",
    "    fig.add_trace(go.Scattergl(x=SF[str(iii)+'_shade_date'],\n",
    "                               y=SF[str(iii)+'_shade_f107d'],\n",
    "                               mode='lines',\n",
    "                               opacity=0.5,\n",
    "    #                                        marker=dict(color='cornflowerblue',size=3),\n",
    "                                   line = dict(dash='dot',shape = 'hvh', color = 'cornflowerblue', width=2),\n",
    "                               showlegend=False),\n",
    "                               secondary_y=False,row=2, col=1)\n",
    "    \n",
    "    fig.add_trace(go.Scattergl(x=SF[str(iii)+'_date'],\n",
    "                               y=SF[str(iii)+'_f107d'],\n",
    "                               mode='lines',\n",
    "                               opacity=1,\n",
    "                                   line = dict(shape = 'hvh', color = 'cornflowerblue', width=2),\n",
    "                               showlegend=False),\n",
    "                               secondary_y=False,row=2, col=1)\n",
    "    fig.add_trace(go.Scattergl(x=SF[str(iii)+'_shade_date'],\n",
    "                               y=SF[str(iii)+'_shade_f107d_earth'],\n",
    "                               mode='lines',\n",
    "                               opacity=0.5,\n",
    "    #                                        marker=dict(color='cornflowerblue',size=3),\n",
    "                                   line = dict(dash='dot',shape = 'hvh', color = 'cornflowerblue', width=2),\n",
    "                               showlegend=False),\n",
    "                               secondary_y=False,row=2, col=1)\n",
    "    \n",
    "    fig.add_trace(go.Scattergl(x=SF[str(iii)+'_date'],\n",
    "                               y=SF[str(iii)+'_f107d_earth'],\n",
    "                               mode='lines',\n",
    "                               opacity=1,\n",
    "                                   line = dict(shape = 'hvh', color = 'cornflowerblue', width=2),\n",
    "                               showlegend=False),\n",
    "                               secondary_y=False,row=2, col=1)\n",
    "    fig.add_trace(go.Scattergl(x=SF[str(iii)+'_shade_date_3hr'],\n",
    "                               y=SF[str(iii)+'_shade_kp_expand'],\n",
    "                               mode='lines',\n",
    "                               opacity=0.5,\n",
    "    #                                        marker=dict(color='cornflowerblue',size=3),\n",
    "                                   line = dict(dash='dot',shape = 'hvh', color = 'grey', width=1),\n",
    "                               showlegend=False),\n",
    "                               secondary_y=False,row=1, col=1)\n",
    "    fig.add_trace(go.Scattergl(x=SF[str(iii)+'_date_3hr'],\n",
    "                               y=SF[str(iii)+'_kp_expand'],\n",
    "                               mode='lines',\n",
    "                               opacity=1,\n",
    "                                   line = dict(shape = 'hvh', color = 'black', width=1),\n",
    "                               showlegend=False),\n",
    "                               secondary_y=False,row=1, col=1)\n",
    "    #### Background data gaps\n",
    "    fig.add_vrect(x0=pd.to_datetime( str(2018290), format='%Y%j'),\n",
    "              x1=pd.to_datetime( str(2018292), format='%Y%j'),\n",
    "              fillcolor='gainsboro',\n",
    "              opacity=.6,\n",
    "              layer=\"below\",\n",
    "              line_width=0,)#\n",
    "#              row=1,col=1)\n",
    "    fig.add_vrect(x0=pd.to_datetime( str(2018300), format='%Y%j'),\n",
    "              x1=pd.to_datetime( str(2018304), format='%Y%j'),\n",
    "              fillcolor='gainsboro',\n",
    "              opacity=.6,\n",
    "              layer=\"below\",\n",
    "              line_width=0,)#\n",
    "#              row=1,col=1)\n",
    "    fig.add_vrect(x0=pd.to_datetime( str(2018309), format='%Y%j'),\n",
    "              x1=pd.to_datetime( str(2018313), format='%Y%j'),\n",
    "              fillcolor='gainsboro',\n",
    "              opacity=.6,\n",
    "              layer=\"below\",\n",
    "              line_width=0,)#\n",
    "#              row=1,col=1)\n",
    "    fig.add_vrect(x0=pd.to_datetime( str(2018329), format='%Y%j'),\n",
    "              x1=pd.to_datetime( str(2018335), format='%Y%j'),\n",
    "              fillcolor='gainsboro',\n",
    "              opacity=.6,\n",
    "              layer=\"below\",\n",
    "              line_width=0,)#\n",
    "#              row=1,col=1)\n",
    "    fig.add_vrect(x0=pd.to_datetime( str(2018338), format='%Y%j'),\n",
    "              x1=pd.to_datetime( str(2018349), format='%Y%j'),\n",
    "              fillcolor='gainsboro',\n",
    "              opacity=.6,\n",
    "              layer=\"below\",\n",
    "              line_width=0,)#\n",
    "#              row=1,col=1)\n",
    "    fig.add_vrect(x0=pd.to_datetime( str(2018353), format='%Y%j'),\n",
    "              x1=pd.to_datetime( str(2018356), format='%Y%j'),\n",
    "              fillcolor='gainsboro',\n",
    "              opacity=.6,\n",
    "              layer=\"below\",\n",
    "              line_width=0,)#\n",
    "#              row=1,col=1)\n",
    "    fig.add_vrect(x0=pd.to_datetime( str(2018359), format='%Y%j'),\n",
    "              x1=pd.to_datetime( str(2018365), format='%Y%j'),\n",
    "              fillcolor='gainsboro',\n",
    "              opacity=.6,\n",
    "              layer=\"below\",\n",
    "              line_width=0,)#\n",
    "#              row=1,col=1)\n",
    "    fig.add_vrect(x0=pd.to_datetime( str(2019009), format='%Y%j'),\n",
    "              x1=pd.to_datetime( str(2019010), format='%Y%j'),\n",
    "              fillcolor='gainsboro',\n",
    "              opacity=.6,\n",
    "              layer=\"below\",\n",
    "              line_width=0,)#\n",
    "#              row=1,col=1)\n",
    "\n",
    "#######################################################\n",
    "font_dict=dict(family='Arial',size=14,color='black')\n",
    "#######################################################\n",
    "    \n",
    "fig.update_xaxes(showline=True,\n",
    "             showticklabels=True,\n",
    "             linecolor='black',\n",
    "             linewidth=1,\n",
    "             ### Major ticks\n",
    "                 ticks='inside',\n",
    "                 tickfont=font_dict,\n",
    "                 mirror=True,\n",
    "                 tickwidth=2,\n",
    "                 ticklen=9,\n",
    "                 tickcolor='grey',\n",
    "                 tick0=\"2018-10-20\" ,\n",
    "                 dtick=86400000.0*7,    # milliseconds in a day, every 7 days\n",
    "                 #### Minor Ticks\n",
    "                 minor=dict(dtick=86400000.0, # milliseconds in a day\n",
    "                       tickwidth=1,\n",
    "                       ticklen=4,\n",
    "                       tickcolor='grey',\n",
    "                       ticks='inside'),             \n",
    "                 gridcolor='gainsboro',\n",
    "                 showgrid=False,\n",
    "                 layer='above traces',\n",
    "                 tickangle=0,\n",
    "                 row=1, col=1)\n",
    "fig.update_yaxes(title_text=r\"$\\text{F}_{\\text{10.7}}\\text{ Solar Flux (sfu)}$\", \n",
    "                 color='cornflowerblue',\n",
    "                 range=[64, 86],\n",
    "                 showline=True,      # add line at x=0\n",
    "                 linecolor='cornflowerblue',  # line color\n",
    "                 linewidth=1,        # line size\n",
    "                 ticks='inside',     # ticks outside axis\n",
    "                 tickfont=dict(family='sans-serif',size=14,color='cornflowerblue'), # tick label font\n",
    "                 mirror=False,  # add ticks to top/right axes\n",
    "                 tickwidth=1,      # tick width\n",
    "                 tickcolor='cornflowerblue',   # tick color\n",
    "                 gridcolor='gainsboro',\n",
    "                 showgrid=False,\n",
    "                 anchor=\"x\", overlaying=\"y\", side=\"right\",\n",
    "                 layer='above traces',\n",
    "                 secondary_y=True, row=1, col=1,)\n",
    "fig.update_yaxes(title_text=r\"$\\text{K}_\\text{p}\\text{ Index}$\",\n",
    "                 secondary_y=False,\n",
    "                 showline=True,      # add line at x=0\n",
    "                 linecolor='black',  # line color\n",
    "                 linewidth=1,        # line size\n",
    "                 ticks='inside',     # ticks outside axis\n",
    "                 tickfont=dict(family='sans-serif',size=14,color='black'), # tick label font\n",
    "                 mirror=False,  # add ticks to top/right axes\n",
    "                 tickwidth=1,      # tick width\n",
    "                 tickcolor='black',   # tick color\n",
    "                 gridcolor='gainsboro',\n",
    "                 showgrid=False,\n",
    "                 layer='above traces',\n",
    "                 row=1, col=1,)\n",
    "    \n",
    "    \n",
    "# #### LEGEND ####\n",
    "# modelnames = [  \"MSISe2\",  \"DTM2020\",  \"JB2008\",  \"TIEGCM\",  \"HASDM\",  \"CTIPe\"]\n",
    "# df = pd.DataFrame({\"starts_colors\": [col_msis2, col_dtm2020, col_jb2008, \n",
    "#                                      col_tiegcm_oc, col_hasdm_oc, col_ctipe_oc]})\n",
    "# fig.update_traces(showlegend=False).add_traces(\n",
    "#     [   go.Scattergl(name=modelnames[i], \n",
    "#                x=[pd.to_datetime( \"181107-000000\", format='%y%m%d-%H%M%S')],\n",
    "#                mode='lines',\n",
    "#                line = dict(shape = 'hvh',  width=25),\n",
    "#                marker_color=c, \n",
    "#                showlegend=True)\n",
    "#         for i,c in enumerate((df.loc[:,[\"starts_colors\"]].values.ravel()))])\n",
    "# fig.update_layout(legend=dict(\n",
    "#     yanchor=\"middle\",\n",
    "#     y=0.63,\n",
    "#     xanchor=\"center\",\n",
    "#     x=1.015,\n",
    "#         font=font_dict,\n",
    "#         bgcolor=\"white\",\n",
    "#         bordercolor=\"darkgrey\",\n",
    "#         borderwidth=0.8,))\n",
    "\n",
    "    \n",
    "\n",
    "fig.update_layout(\n",
    "#                   title = '',\n",
    "                  autosize=False,    width=1000,    height=800,\n",
    "                  legend= {'itemsizing': 'trace'},\n",
    "                  font=font_dict,\n",
    "                  plot_bgcolor='white', \n",
    "                 )\n",
    "fig.update_annotations(font_size=14 )  # Increase size of subplot title \n",
    "fig.show(renderer=\"jpg\",\n",
    "            config=dict({\n",
    "                'displayModeBar': False,\n",
    "                'responsive': False,\n",
    "                'staticPlot': True,\n",
    "                'displaylogo': False,\n",
    "                'showTips': False,\n",
    "                }))"
   ]
  },
  {
   "cell_type": "code",
   "execution_count": null,
   "id": "806831e5",
   "metadata": {},
   "outputs": [],
   "source": []
  }
 ],
 "metadata": {
  "kernelspec": {
   "display_name": "Python 3",
   "language": "python",
   "name": "python3"
  },
  "language_info": {
   "codemirror_mode": {
    "name": "ipython",
    "version": 3
   },
   "file_extension": ".py",
   "mimetype": "text/x-python",
   "name": "python",
   "nbconvert_exporter": "python",
   "pygments_lexer": "ipython3",
   "version": "3.8.8"
  },
  "toc": {
   "base_numbering": 1,
   "nav_menu": {},
   "number_sections": true,
   "sideBar": true,
   "skip_h1_title": false,
   "title_cell": "Table of Contents",
   "title_sidebar": "Contents",
   "toc_cell": false,
   "toc_position": {},
   "toc_section_display": true,
   "toc_window_display": false
  }
 },
 "nbformat": 4,
 "nbformat_minor": 5
}
