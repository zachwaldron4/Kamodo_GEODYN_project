{
 "cells": [
  {
   "cell_type": "code",
   "execution_count": null,
   "id": "timely-shooting",
   "metadata": {},
   "outputs": [],
   "source": [
    "# flux_csv = pd.read_csv('noaa_radio_flux.csv', \n",
    "#                       skiprows = 1 , \n",
    "#                       names = ['Time', \n",
    "#                               'sfu'],\n",
    "#                       sep = ',',\n",
    "#                       )\n",
    "\n",
    "# flux_csv['Date'] = pd.to_datetime(flux_csv['Time'], format = '%Y%m%d')\n",
    "# del flux_csv['Time']\n",
    "\n",
    "\n",
    "# flux_starlette = flux_csv[flux_csv[\"Date\"].dt.year==2003][flux_csv[\"Date\"].dt.month>=9]\n",
    "\n",
    "# ap_csv = pd.read_csv('ap.csv', \n",
    "#                       skiprows = 1 , \n",
    "#                       names = ['Time', \n",
    "#                               'Ap'],\n",
    "#                       sep = ',',\n",
    "#                       )\n",
    "\n",
    "# ap_csv['Date'] = pd.to_datetime(ap_csv['Time'], format = '%Y-%m-%dT%H:%M:%S')\n",
    "# ap_csv"
   ]
  }
 ],
 "metadata": {
  "kernelspec": {
   "display_name": "Python 3",
   "language": "python",
   "name": "python3"
  },
  "language_info": {
   "codemirror_mode": {
    "name": "ipython",
    "version": 3
   },
   "file_extension": ".py",
   "mimetype": "text/x-python",
   "name": "python",
   "nbconvert_exporter": "python",
   "pygments_lexer": "ipython3",
   "version": "3.8.5"
  }
 },
 "nbformat": 4,
 "nbformat_minor": 5
}
