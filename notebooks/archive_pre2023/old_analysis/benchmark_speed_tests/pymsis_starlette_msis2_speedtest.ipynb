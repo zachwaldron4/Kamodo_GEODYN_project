{
 "cells": [
  {
   "cell_type": "code",
   "execution_count": 1,
   "metadata": {},
   "outputs": [],
   "source": [
    "path_to_m3 = '/data/data_geodyn/results/st/msis2/msis2_acceloff/'"
   ]
  },
  {
   "cell_type": "code",
   "execution_count": 16,
   "metadata": {},
   "outputs": [
    {
     "name": "stdout",
     "output_type": "stream",
     "text": [
      "    -1.00000000\n",
      "\n",
      "Start running MSIS:  2.1943883895874023\n",
      "Stop  running MSIS:  1096.9611148834229 |   18.282685248057046 mins\n"
     ]
    }
   ],
   "source": [
    "# def clean_verify_msis_externally():\n",
    "\n",
    "import time\n",
    "start = time.time()\n",
    "\n",
    "\n",
    "\n",
    "import pandas as pd\n",
    "msisin_den_file = path_to_m3 + \"DENSITY/st030914_2wk.goco05s_msisin\"\n",
    "msisout_den_file = path_to_m3 + \"DENSITY/st030914_2wk.goco05s_msisout\"\n",
    "msisSWI_den_file = path_to_m3 + \"DENSITY/st030914_2wk.goco05s_msisSWI\"\n",
    "\n",
    "DEN1_csv = pd.read_csv(msisin_den_file, \n",
    "                    skiprows = 1, \n",
    "                    names = ['IYYDDD',\n",
    "                             'IYR',\n",
    "                              'DAY',\n",
    "                             'UTSEC',\n",
    "                             'ALTKM',\n",
    "                             'GLAT',\n",
    "                             'GLON',\n",
    "                             'STLOC', \n",
    "                             'AVGFLX',\n",
    "                             'FLUX',\n",
    "                             'AP1',\n",
    "                             'AP2',\n",
    "                             'AP3',\n",
    "                             'AP4',\n",
    "                             'AP5',\n",
    "                             'AP6',\n",
    "                             'AP7',\n",
    "                            ],\n",
    "                    sep = '\\s+',\n",
    "                    )\n",
    "\n",
    "DEN2_csv = pd.read_csv(msisout_den_file, \n",
    "                    skiprows = 1, \n",
    "                    names = ['n_HE',\n",
    "                             'n_O1',\n",
    "                             'n_N2',\n",
    "                             'n_O2',\n",
    "                             'n_Ar',\n",
    "                             'TotalMassDen',\n",
    "                             'n_H',\n",
    "                             'n_N',\n",
    "                             'n_AnomO',\n",
    "                             'T_Exo',\n",
    "                             'T_Alt',\n",
    "                             'Rho',\n",
    "                             'dRhodZ',\n",
    "                                  ],\n",
    "\n",
    "\n",
    "                    sep = '\\s+',\n",
    "                    )\n",
    "\n",
    "\n",
    "DEN1_csv['Date'] = (pd.to_datetime('0'+ ((DEN1_csv['IYR'].astype(int).astype(str))),  format='%y') \n",
    "                    +  pd.to_timedelta(DEN1_csv['DAY'], unit='days'))\n",
    "\n",
    "\n",
    "DEN2_csv['Date'] = (pd.to_datetime('0'+ ((DEN1_csv['IYR'].astype(int).astype(str))),  format='%y') \n",
    "                    +  pd.to_timedelta(DEN1_csv['DAY'], unit='days'))\n",
    "\n",
    "\n",
    "\n",
    "\n",
    "\n",
    "with open(msisSWI_den_file, 'r') as f:\n",
    "    for line_no, line_text in enumerate(f):\n",
    "        if float(line_text) <= 0:\n",
    "            print(line_text)\n",
    "\n",
    "SWI_option = [1.0]*25\n",
    "SWI_option[8] = -1.0\n",
    "\n",
    "\n",
    "import matplotlib.pyplot as plt\n",
    "import numpy as np\n",
    "from pymsis import msis\n",
    "import pandas as pd\n",
    "\n",
    "\n",
    "msis2_df= pd.DataFrame(data={'Rho'   :np.ones(np.shape(DEN1_csv['Date']))*np.nan,\n",
    "                              'N2'    :np.ones(np.shape(DEN1_csv['Date']))*np.nan,\n",
    "                              'O2'    :np.ones(np.shape(DEN1_csv['Date']))*np.nan,\n",
    "                              'O'     :np.ones(np.shape(DEN1_csv['Date']))*np.nan,\n",
    "                              'He'    :np.ones(np.shape(DEN1_csv['Date']))*np.nan,\n",
    "                              'H'     :np.ones(np.shape(DEN1_csv['Date']))*np.nan,\n",
    "                              'Ar'    :np.ones(np.shape(DEN1_csv['Date']))*np.nan,\n",
    "                              'N'     :np.ones(np.shape(DEN1_csv['Date']))*np.nan,\n",
    "                              'AnomO' :np.ones(np.shape(DEN1_csv['Date']))*np.nan,\n",
    "                              'NO'    :np.ones(np.shape(DEN1_csv['Date']))*np.nan,\n",
    "                              'Temp'  :np.ones(np.shape(DEN1_csv['Date']))*np.nan})\n",
    "\n",
    "end1 = time.time()\n",
    "elapsed1 = end1 - start\n",
    "print('Start running MSIS: ',elapsed1)\n",
    "\n",
    "for index, row in DEN1_csv.iterrows():\n",
    "\n",
    "    lon = row['GLON']\n",
    "    lat = row['GLAT']\n",
    "    alts = row['ALTKM']\n",
    "    f107 = row['FLUX']\n",
    "    f107a = row['AVGFLX']\n",
    "\n",
    "    aps = [[row['AP1'],row['AP2'],row['AP3'],row['AP4'],row['AP5'],row['AP6'],row['AP7']]]\n",
    "    date = row['Date']\n",
    "\n",
    "    msis_data2 =  msis.run(date, lon, lat, alts, f107, f107a, aps, version=2,  options = SWI_option) #1\n",
    "    msis_data2 =  msis.run(date, lon, lat, alts, f107, f107a, aps, version=2,  options = SWI_option) #2\n",
    "    msis_data2 =  msis.run(date, lon, lat, alts, f107, f107a, aps, version=2,  options = SWI_option) #3\n",
    "    msis_data2 =  msis.run(date, lon, lat, alts, f107, f107a, aps, version=2,  options = SWI_option) #4\n",
    "    msis_data2 =  msis.run(date, lon, lat, alts, f107, f107a, aps, version=2,  options = SWI_option) #5\n",
    "\n",
    "    msis_data2  = np.squeeze(msis_data2)\n",
    "\n",
    "    msis2_df.loc[index, 'Rho'] = msis_data2[0]\n",
    "    msis2_df.loc[index, 'N2'] = msis_data2[1]\n",
    "    msis2_df.loc[index, 'O2'] = msis_data2[2]\n",
    "    msis2_df.loc[index, 'O'] = msis_data2[3]\n",
    "    msis2_df.loc[index, 'He'] = msis_data2[4]\n",
    "    msis2_df.loc[index, 'H'] = msis_data2[5]\n",
    "    msis2_df.loc[index, 'Ar'] = msis_data2[6]\n",
    "    msis2_df.loc[index, 'N'] = msis_data2[7]\n",
    "    msis2_df.loc[index, 'AnomO'] = msis_data2[8]\n",
    "    msis2_df.loc[index, 'NO'] = msis_data2[9]\n",
    "    msis2_df.loc[index, 'Temp'] = msis_data2[10]\n",
    "\n",
    "    msis2_df.loc[index, 'Date'] = row['Date']\n",
    "\n",
    "end = time.time()\n",
    "elapsed = end - start\n",
    "print('Stop  running MSIS: ',elapsed,'|  ',elapsed/60,'mins')\n",
    "\n"
   ]
  },
  {
   "cell_type": "code",
   "execution_count": 17,
   "metadata": {},
   "outputs": [
    {
     "data": {
      "text/plain": [
       "73.5"
      ]
     },
     "execution_count": 17,
     "metadata": {},
     "output_type": "execute_result"
    }
   ],
   "source": []
  },
  {
   "cell_type": "markdown",
   "metadata": {},
   "source": [
    "# Benchmark Results:\n",
    "\n",
    "|           Model               |  Arc Length (days) | Step size (secs) | Iterations   | Time (mins)  |  Extrap. Mins |\n",
    "|-------------------------------|--------------------|------------------|--------------|--------------|---------------|\n",
    "| MSISe2.0 (`pymsis`)           |     14             |    15            |     1        |   4.741     |               |\n",
    "| MSISe2.0 (`pymsis`)           |     14             |    15            |     5        | 18.283     |               |\n",
    "| GEODYN run with MSISe2.0      |     14             |    15            |     5        |  17.491      |               |\n",
    "|                               |                    |                  |              |              |               |"
   ]
  },
  {
   "cell_type": "markdown",
   "metadata": {},
   "source": [
    "# Thoughts and Notes\n",
    "\n",
    "\n",
    "### RR's CTIPe code\n",
    "- This takes model data output and pulls into kamodo\n",
    "- takes satellite trajectory and interpolates it to \n",
    "- currently takes 4.5 hours\n",
    "\n",
    "- need a way to return CTIPe object to fortran\n",
    "\n",
    "- fortran to python \n",
    "\n",
    "\n",
    "# ME DO\n",
    "- see if i can isolate the call to the model so it can be called from python\n",
    "- see if density call subroutine  can be separated out\n",
    "- ask if an option exists to grab the density\n",
    "\n",
    "-------------------------------------------\n",
    "- everything run from  fortran\n",
    "- everything run from  -python ------------\n",
    "- everything run from  fortran\n",
    "-------------------------------------------\n",
    "\n",
    "\n",
    "### Notes:\n",
    "- don't have to run the model in real time... just need the data\n",
    "- landing in satellite ECEF\n",
    "- forpy \n",
    "- run python in background\n",
    "- active embedded python session\n",
    "-----------------------------------------------\n",
    "\n",
    "- Calling fortran from python....\n",
    "    - how could this be done\n",
    "\n",
    "-----------------------------------------------\n",
    "\n",
    "### Questions:\n",
    "- possibility of a Kamodo-lite\n",
    "- this i"
   ]
  },
  {
   "cell_type": "code",
   "execution_count": 18,
   "metadata": {},
   "outputs": [
    {
     "data": {
      "text/plain": [
       "(321908, 18)"
      ]
     },
     "execution_count": 18,
     "metadata": {},
     "output_type": "execute_result"
    }
   ],
   "source": [
    "DEN1_csv.shape"
   ]
  },
  {
   "cell_type": "code",
   "execution_count": null,
   "metadata": {},
   "outputs": [],
   "source": []
  },
  {
   "cell_type": "code",
   "execution_count": null,
   "metadata": {},
   "outputs": [],
   "source": []
  },
  {
   "cell_type": "code",
   "execution_count": null,
   "metadata": {},
   "outputs": [],
   "source": []
  },
  {
   "cell_type": "code",
   "execution_count": null,
   "metadata": {},
   "outputs": [],
   "source": []
  },
  {
   "cell_type": "code",
   "execution_count": null,
   "metadata": {},
   "outputs": [],
   "source": []
  },
  {
   "cell_type": "code",
   "execution_count": null,
   "metadata": {},
   "outputs": [],
   "source": []
  },
  {
   "cell_type": "code",
   "execution_count": null,
   "metadata": {},
   "outputs": [],
   "source": []
  },
  {
   "cell_type": "code",
   "execution_count": null,
   "metadata": {},
   "outputs": [],
   "source": []
  },
  {
   "cell_type": "code",
   "execution_count": 12,
   "metadata": {
    "scrolled": false
   },
   "outputs": [
    {
     "ename": "KeyError",
     "evalue": "'Date'",
     "output_type": "error",
     "traceback": [
      "\u001b[0;31m---------------------------------------------------------------------------\u001b[0m",
      "\u001b[0;31mKeyError\u001b[0m                                  Traceback (most recent call last)",
      "\u001b[0;32m/data/miniconda3/envs/pygeodyn/lib/python3.8/site-packages/pandas/core/indexes/base.py\u001b[0m in \u001b[0;36mget_loc\u001b[0;34m(self, key, method, tolerance)\u001b[0m\n\u001b[1;32m   3079\u001b[0m             \u001b[0;32mtry\u001b[0m\u001b[0;34m:\u001b[0m\u001b[0;34m\u001b[0m\u001b[0;34m\u001b[0m\u001b[0m\n\u001b[0;32m-> 3080\u001b[0;31m                 \u001b[0;32mreturn\u001b[0m \u001b[0mself\u001b[0m\u001b[0;34m.\u001b[0m\u001b[0m_engine\u001b[0m\u001b[0;34m.\u001b[0m\u001b[0mget_loc\u001b[0m\u001b[0;34m(\u001b[0m\u001b[0mcasted_key\u001b[0m\u001b[0;34m)\u001b[0m\u001b[0;34m\u001b[0m\u001b[0;34m\u001b[0m\u001b[0m\n\u001b[0m\u001b[1;32m   3081\u001b[0m             \u001b[0;32mexcept\u001b[0m \u001b[0mKeyError\u001b[0m \u001b[0;32mas\u001b[0m \u001b[0merr\u001b[0m\u001b[0;34m:\u001b[0m\u001b[0;34m\u001b[0m\u001b[0;34m\u001b[0m\u001b[0m\n",
      "\u001b[0;32mpandas/_libs/index.pyx\u001b[0m in \u001b[0;36mpandas._libs.index.IndexEngine.get_loc\u001b[0;34m()\u001b[0m\n",
      "\u001b[0;32mpandas/_libs/index.pyx\u001b[0m in \u001b[0;36mpandas._libs.index.IndexEngine.get_loc\u001b[0;34m()\u001b[0m\n",
      "\u001b[0;32mpandas/_libs/hashtable_class_helper.pxi\u001b[0m in \u001b[0;36mpandas._libs.hashtable.PyObjectHashTable.get_item\u001b[0;34m()\u001b[0m\n",
      "\u001b[0;32mpandas/_libs/hashtable_class_helper.pxi\u001b[0m in \u001b[0;36mpandas._libs.hashtable.PyObjectHashTable.get_item\u001b[0;34m()\u001b[0m\n",
      "\u001b[0;31mKeyError\u001b[0m: 'Date'",
      "\nThe above exception was the direct cause of the following exception:\n",
      "\u001b[0;31mKeyError\u001b[0m                                  Traceback (most recent call last)",
      "\u001b[0;32m<ipython-input-12-f3f84eaafafa>\u001b[0m in \u001b[0;36m<module>\u001b[0;34m\u001b[0m\n\u001b[1;32m     16\u001b[0m \u001b[0;34m\u001b[0m\u001b[0m\n\u001b[1;32m     17\u001b[0m \u001b[0;34m\u001b[0m\u001b[0m\n\u001b[0;32m---> 18\u001b[0;31m fig.add_trace(go.Scattergl(x=msis2_df['Date'],\n\u001b[0m\u001b[1;32m     19\u001b[0m                          \u001b[0my\u001b[0m\u001b[0;34m=\u001b[0m\u001b[0mmsis2_df\u001b[0m\u001b[0;34m[\u001b[0m\u001b[0;34m'Rho'\u001b[0m\u001b[0;34m]\u001b[0m\u001b[0;34m,\u001b[0m\u001b[0;34m\u001b[0m\u001b[0;34m\u001b[0m\u001b[0m\n\u001b[1;32m     20\u001b[0m                          \u001b[0mname\u001b[0m\u001b[0;34m=\u001b[0m \u001b[0;34m\"Pymsis2\"\u001b[0m\u001b[0;34m,\u001b[0m\u001b[0;34m\u001b[0m\u001b[0;34m\u001b[0m\u001b[0m\n",
      "\u001b[0;32m/data/miniconda3/envs/pygeodyn/lib/python3.8/site-packages/pandas/core/frame.py\u001b[0m in \u001b[0;36m__getitem__\u001b[0;34m(self, key)\u001b[0m\n\u001b[1;32m   3022\u001b[0m             \u001b[0;32mif\u001b[0m \u001b[0mself\u001b[0m\u001b[0;34m.\u001b[0m\u001b[0mcolumns\u001b[0m\u001b[0;34m.\u001b[0m\u001b[0mnlevels\u001b[0m \u001b[0;34m>\u001b[0m \u001b[0;36m1\u001b[0m\u001b[0;34m:\u001b[0m\u001b[0;34m\u001b[0m\u001b[0;34m\u001b[0m\u001b[0m\n\u001b[1;32m   3023\u001b[0m                 \u001b[0;32mreturn\u001b[0m \u001b[0mself\u001b[0m\u001b[0;34m.\u001b[0m\u001b[0m_getitem_multilevel\u001b[0m\u001b[0;34m(\u001b[0m\u001b[0mkey\u001b[0m\u001b[0;34m)\u001b[0m\u001b[0;34m\u001b[0m\u001b[0;34m\u001b[0m\u001b[0m\n\u001b[0;32m-> 3024\u001b[0;31m             \u001b[0mindexer\u001b[0m \u001b[0;34m=\u001b[0m \u001b[0mself\u001b[0m\u001b[0;34m.\u001b[0m\u001b[0mcolumns\u001b[0m\u001b[0;34m.\u001b[0m\u001b[0mget_loc\u001b[0m\u001b[0;34m(\u001b[0m\u001b[0mkey\u001b[0m\u001b[0;34m)\u001b[0m\u001b[0;34m\u001b[0m\u001b[0;34m\u001b[0m\u001b[0m\n\u001b[0m\u001b[1;32m   3025\u001b[0m             \u001b[0;32mif\u001b[0m \u001b[0mis_integer\u001b[0m\u001b[0;34m(\u001b[0m\u001b[0mindexer\u001b[0m\u001b[0;34m)\u001b[0m\u001b[0;34m:\u001b[0m\u001b[0;34m\u001b[0m\u001b[0;34m\u001b[0m\u001b[0m\n\u001b[1;32m   3026\u001b[0m                 \u001b[0mindexer\u001b[0m \u001b[0;34m=\u001b[0m \u001b[0;34m[\u001b[0m\u001b[0mindexer\u001b[0m\u001b[0;34m]\u001b[0m\u001b[0;34m\u001b[0m\u001b[0;34m\u001b[0m\u001b[0m\n",
      "\u001b[0;32m/data/miniconda3/envs/pygeodyn/lib/python3.8/site-packages/pandas/core/indexes/base.py\u001b[0m in \u001b[0;36mget_loc\u001b[0;34m(self, key, method, tolerance)\u001b[0m\n\u001b[1;32m   3080\u001b[0m                 \u001b[0;32mreturn\u001b[0m \u001b[0mself\u001b[0m\u001b[0;34m.\u001b[0m\u001b[0m_engine\u001b[0m\u001b[0;34m.\u001b[0m\u001b[0mget_loc\u001b[0m\u001b[0;34m(\u001b[0m\u001b[0mcasted_key\u001b[0m\u001b[0;34m)\u001b[0m\u001b[0;34m\u001b[0m\u001b[0;34m\u001b[0m\u001b[0m\n\u001b[1;32m   3081\u001b[0m             \u001b[0;32mexcept\u001b[0m \u001b[0mKeyError\u001b[0m \u001b[0;32mas\u001b[0m \u001b[0merr\u001b[0m\u001b[0;34m:\u001b[0m\u001b[0;34m\u001b[0m\u001b[0;34m\u001b[0m\u001b[0m\n\u001b[0;32m-> 3082\u001b[0;31m                 \u001b[0;32mraise\u001b[0m \u001b[0mKeyError\u001b[0m\u001b[0;34m(\u001b[0m\u001b[0mkey\u001b[0m\u001b[0;34m)\u001b[0m \u001b[0;32mfrom\u001b[0m \u001b[0merr\u001b[0m\u001b[0;34m\u001b[0m\u001b[0;34m\u001b[0m\u001b[0m\n\u001b[0m\u001b[1;32m   3083\u001b[0m \u001b[0;34m\u001b[0m\u001b[0m\n\u001b[1;32m   3084\u001b[0m         \u001b[0;32mif\u001b[0m \u001b[0mtolerance\u001b[0m \u001b[0;32mis\u001b[0m \u001b[0;32mnot\u001b[0m \u001b[0;32mNone\u001b[0m\u001b[0;34m:\u001b[0m\u001b[0;34m\u001b[0m\u001b[0;34m\u001b[0m\u001b[0m\n",
      "\u001b[0;31mKeyError\u001b[0m: 'Date'"
     ]
    }
   ],
   "source": [
    "# import plotly.graph_objects as go\n",
    "# from plotly.subplots import make_subplots\n",
    "# import plotly.express as px\n",
    "\n",
    "# col1 = px.colors.qualitative.Plotly[0]\n",
    "# col2 = px.colors.qualitative.Plotly[1]\n",
    "# col3 = px.colors.qualitative.Plotly[2]\n",
    "\n",
    "# mark_size = 3\n",
    "# fig = make_subplots(rows=1, cols=1, \n",
    "# #     subplot_titles=(\"Density Verification\", ),\n",
    "#                    )\n",
    "\n",
    "# data_num1 = 1000\n",
    "# data_num2 = 2\n",
    "\n",
    "\n",
    "# fig.add_trace(go.Scattergl(x=msis2_df['Date'],\n",
    "#                          y=msis2_df['Rho'],\n",
    "#                          name= \"Pymsis2\",\n",
    "#                          mode='markers',\n",
    "#                          marker=dict(color = col2,\n",
    "#                          size=mark_size,),\n",
    "#                          ),\n",
    "#                           row=1, col=1,\n",
    "#                          )\n",
    "\n",
    "\n",
    "\n",
    "# fig.update_layout(\n",
    "#         title=\"MSIS 2.0 Verification\",\n",
    "#     yaxis_title=\"Density [kg/m^3]\",\n",
    "#     xaxis_title=\"Date\",\n",
    "#     )\n",
    "\n",
    "# fig.update_layout(legend= {'itemsizing': 'constant'})\n",
    "# fig.update_xaxes(tickangle=30)\n",
    "\n",
    "# fig.update_yaxes(type=\"log\", exponentformat= 'power')\n",
    "\n",
    "# fig.show()\n",
    "\n"
   ]
  },
  {
   "cell_type": "code",
   "execution_count": null,
   "metadata": {},
   "outputs": [],
   "source": []
  },
  {
   "cell_type": "markdown",
   "metadata": {},
   "source": [
    "\n",
    "\n",
    "\n"
   ]
  },
  {
   "cell_type": "code",
   "execution_count": null,
   "metadata": {},
   "outputs": [],
   "source": []
  },
  {
   "cell_type": "code",
   "execution_count": null,
   "metadata": {},
   "outputs": [],
   "source": []
  },
  {
   "cell_type": "code",
   "execution_count": null,
   "metadata": {},
   "outputs": [],
   "source": []
  },
  {
   "cell_type": "code",
   "execution_count": null,
   "metadata": {},
   "outputs": [],
   "source": []
  }
 ],
 "metadata": {
  "kernelspec": {
   "display_name": "Python 3",
   "language": "python",
   "name": "python3"
  },
  "language_info": {
   "codemirror_mode": {
    "name": "ipython",
    "version": 3
   },
   "file_extension": ".py",
   "mimetype": "text/x-python",
   "name": "python",
   "nbconvert_exporter": "python",
   "pygments_lexer": "ipython3",
   "version": "3.8.5"
  }
 },
 "nbformat": 4,
 "nbformat_minor": 4
}
