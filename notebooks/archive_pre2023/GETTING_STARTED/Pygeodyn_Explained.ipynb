{
 "cells": [
  {
   "cell_type": "markdown",
   "id": "1d93561a",
   "metadata": {},
   "source": [
    "# Pygeodyn Explained"
   ]
  },
  {
   "cell_type": "markdown",
   "id": "676e53d3",
   "metadata": {},
   "source": [
    "## README\n",
    "Pygeodyn is a python-based wrapper for the GEODYN Orbit Determination Software.  This notebook attempts to explain how to use the the program in a jupyter notebook and detail some of pygeodyn's various parts and functionalities.\n",
    "\n",
    "Pygeodyn is split up into a few distinct parts:\n",
    "\n",
    "**The Pygeodyn Program**\n",
    " -  `/data/geodyn_proj/pygeodyn/pygeodyn_develop/`\n",
    "    - `Pygeodyn.py`\n",
    "       - Serving as the code's entry point, this program is inherits the remaining codes (structured as python Classes) in this list into a module (actually its a python object) to be interacted with by the user.  This object also reads the .yaml settings file that the user inputs.\n",
    "    - `PYGEODYN_Control.py`\n",
    "        - This class is inherited into the `Pygeodyn` object and is used by the user to run GEODYN.  It contains all of the functions needed to input geodyn specific files, setup and copy files to a temporary directory, run the geodyn IIS and IIE executables from fortran in the temporary directory, and finally setup and save requested outputs to an output directory. \n",
    "    - `PYGEODYN_Read.py`\n",
    "        - This class is inherited into the `Pygeodyn` object and is used by the user to interpret and view the GEODYN output.  The requested data is identified in the .yaml settings file and then interpreted and saved to pandas DataFrames accordingly. \n",
    "        - When the GEODYN run is saved by the Control, the various files (iieout, OrbFil, etc.) are left in their original format, and the Reader is used to interpret this in a user friendly way.\n",
    "    - `/data/geodyn_proj/pygeodyn/pygeodyn_develop/util_dir/`\n",
    "        - The codes in the `util_dir` help with the general running and functioning of Pygeodyn.\n",
    "        - `common_functions.py`\n",
    "        - `util_classtools.py`\n",
    "        - `EditSetupFile.py`\n",
    "    - `/data/geodyn_proj/pygeodyn/pygeodyn_develop/util_preprocessing/`\n",
    "        - We have added some limited capabilities in processing the G2B files for GEODYN.  So far this has been used with success to construct G2B PCE data for the ICESat2 Satellite.\"\n",
    "        -`PYGEODYN_Preprocess.py`\n",
    "\n",
    "  - **Inclusion of different Satellites**\n",
    "      - Different satellites and their various inputs/formats are included in Pygeodyn in two ways:\n",
    "          1. The various datasets and input files are placed in an input directory (`/data/data_geodyn/inputs/icesat2`)\n",
    "          2. `PYGEODYN_ICESat2.py`: A pygeodyn class in constructed to overwrite any functions in PYGEODYN_Control and PYGEODYN_Read that may need to be specialized for the satellite and its tracking datatype.\n",
    "\n",
    "\n",
    "    \n",
    "**The GEODYN source code**  \n",
    "   - `/data/geodyn_proj/geodyn_code/`\n",
    "    \n",
    "   - **IIS**: `/data/geodyn_proj/geodyn_code/IIS`\n",
    "     - unchanged from original version\n",
    "   - **IIE**: /data/geodyn_proj/geodyn_code/IIE\n",
    "       - `ORIG/`\n",
    "           - The MSIS routine and its references have been renamed to MSIS86.\n",
    "       - `Kamodo_pygeodyn_MODS/`\n",
    "          - modified version of the iie subroutines that were used to add msis2, msis00, the interface to Kamodo's Physics models as well as the various modifications necessary to conduct satellite drag research.\n",
    "       - `CD_model_proj/`\n",
    "           - Contains the more up-to-date modifications from the `Kamodo_pygeodyn_MODS/` folder and additionally added JB2008, DTM2020, and a physics based CD calculation through the DRIA routine.\n",
    "\n",
    "**Kamodo** (CCMC's Ionosphere-Thermosphere Model API)\n",
    " - `/data/geodyn_proj/interface_kamodo_geodyn`\n",
    " - Kamodo Flythrough:\n",
    "     - `/data/geodyn_proj/interface_kamodo_geodyn/Kamodo/kamodo/flythrough`\n",
    "     - The code that is used to call Kamodo is nested in `PygeodynControl`, but it calls the `ModelFlythrough()` function in `SatelliteFlythrough.py`.\n",
    "     - The Kamodo API and its model outputs are interfaced to GEODYN using an OrbitCloud Cube interpolation.\n",
    "\n"
   ]
  },
  {
   "cell_type": "markdown",
   "id": "d214956a",
   "metadata": {},
   "source": [
    "## Running GEODYN"
   ]
  },
  {
   "cell_type": "markdown",
   "id": "4a4ae30a",
   "metadata": {},
   "source": [
    "### Overall Steps for Running\n",
    "   1. Construct a YAML file that contains the `Run_Settings`\n",
    "   2. Call an instance of the `Pygeodyn` Object that is loaded with the run settings\n",
    "   3. Use the `Pygeodyn.RUN_GEODYN()` method to run GEODYN with the requested settings"
   ]
  },
  {
   "cell_type": "code",
   "execution_count": 1,
   "id": "03317316",
   "metadata": {
    "ExecuteTime": {
     "end_time": "2022-02-23T20:04:57.493788Z",
     "start_time": "2022-02-23T20:04:56.562593Z"
    }
   },
   "outputs": [],
   "source": [
    "%load_ext autoreload\n",
    "%autoreload 2\n",
    "\n",
    "import sys  \n",
    "import pickle \n",
    "sys.path.insert(0, '/data/geodyn_proj/pygeodyn/pygeodyn_develop/')\n",
    "from PYGEODYN import Pygeodyn"
   ]
  },
  {
   "cell_type": "markdown",
   "id": "055f41cf",
   "metadata": {},
   "source": [
    "1. Construct a YAML file that contains the `Run_Settings`\n",
    "\n",
    "The below is an example of the text that should be included in such a file.\n"
   ]
  },
  {
   "cell_type": "code",
   "execution_count": 2,
   "id": "957fb67c",
   "metadata": {
    "ExecuteTime": {
     "end_time": "2022-02-23T20:04:57.510375Z",
     "start_time": "2022-02-23T20:04:57.496000Z"
    }
   },
   "outputs": [
    {
     "name": "stdout",
     "output_type": "stream",
     "text": [
      "\n"
     ]
    }
   ],
   "source": [
    "'''\n",
    "---\n",
    "###  Run Settings Test File \n",
    "#\n",
    "#### Declare paths and naming conventions:\n",
    "user                         : 'Zach Waldron'\n",
    "path_to_output_directory     : '/data/zach_work/output_from_runs'\n",
    "directory_name_specifier     : ''  \n",
    "PASS_INPUT_VALUE_TO_fortran  :  'None'\n",
    "\n",
    "arc_length                   : '24hr'\n",
    "model_data_path              :  None\n",
    "\n",
    "#### CD MODEL\n",
    "cd_model  :   'BWDRAG' # \n",
    "file_string                  : 'bwdrag'\n",
    "\n",
    "\n",
    "#### DRIA CD Model Parameters\n",
    "cd_model_params : { \n",
    "                    MS     : None  ,  #!  molar mass for each panel (g/mol)\n",
    "                    TW     : None  ,  #!  temperature of panels  (K)\n",
    "                    ALPHA  : None  ,  #!  accomodation coefficient\n",
    "                    KL     : None  ,  #!  langmuir parameter\n",
    "                    FRACOX : None  ,  #!  fraction of surface covered by atomic oxygen\n",
    "                   }\n",
    "\n",
    "##### CHOOSE GEODYN VERSION:\n",
    "GEODYN_iie_MOD_version     : 'CD_model_proj'\n",
    "recompile_on               :  False\n",
    "\n",
    "### IDENTIFY ARCS   (YYYY.DDD)\n",
    "arc                 : ['2018.313',]\n",
    "epoch_start         : ['181109 000000.0000000', ]\n",
    "epoch_end           : ['181110 000000.0000000', ]\n",
    "\n",
    "\n",
    "satellite    : 'icesat2' \n",
    "den_model    : 'msis2'  \n",
    "request_data :  ['Trajectory_orbfil',\n",
    "                'Density',\n",
    "                'DragFile',\n",
    "                'Residuals_summary', \n",
    "                #'RunSummary',\n",
    "                # Residuals_obs',\n",
    "                # 'AdjustedParams',\n",
    "                                  ]\n",
    "                                  \n",
    "                                 \n",
    "### SETUP FILE OPTIONS \n",
    "geodyn_StepSize           : 10.\n",
    "cd_adjustment_boolean     : False\n",
    "total_hours_in_run        : None\n",
    "hours_between_cd_adj      : None\n",
    "accels                    :  False\n",
    "empirical_accels          :  False, \n",
    "ACCELS                    : 'acceloff'\n",
    "cards_to_remove           : [ 'ACCEL9',\n",
    "                              'ORBTVU',\n",
    "                              'RESID',\n",
    "                              'CON9PA',]\n",
    "                  \n",
    "#### USER AUXILLIARY OPTIONS\n",
    "verbose         :  False\n",
    "DRHODZ_update   :  True     #### Do you want to use the updated DRHODZ calculation? (recommended)\n",
    "\n",
    "\n",
    "\n",
    "#### ----------------------------------------------------------------------------\n",
    "#### Options that are hardcoded defaults for ICESAT2 class\n",
    "#### ----------------------------------------------------------------------------\n",
    "#### The name of the satellite\n",
    "SATELLITE_dir  : 'icesat2'\n",
    "#### Satellites COSPAR ID number\n",
    "SATID          : '1807001'\n",
    "#### Datatype being used as tracking data\n",
    "DATA_TYPE      : 'PCE'\n",
    "#### ----------------------------------------------------------------------------\n",
    "####### File Choices:\n",
    "#### G2B file name\n",
    "g2b_file       : 'g2b_pce_fullset_nomaneuver'  \n",
    "#### Atmospheric Gravity file name\n",
    "atgrav_file    : 'ATGRAV.glo-3HR_20160101-PRESENT_9999_AOD1B_0006.0090'\n",
    "#### Planetary Ephemeris file name\n",
    "ephem_file     : 'ephem1430.data_2025'\n",
    "#### Gravity field file name\n",
    "gravfield_file : 'eigen-6c.gfc_20080101_do_200_fix.grv'\n",
    "#### PCE Ascii textfile name\n",
    "StateVector_epochs_datafile  : '/data/data_geodyn/inputs/icesat2/setups/PCE_ascii.txt'\n",
    "\n",
    "\n",
    "\n",
    "'''\n",
    "print()\n"
   ]
  },
  {
   "cell_type": "code",
   "execution_count": 3,
   "id": "e4d93ac4",
   "metadata": {
    "ExecuteTime": {
     "end_time": "2022-02-23T20:04:57.525113Z",
     "start_time": "2022-02-23T20:04:57.512704Z"
    }
   },
   "outputs": [],
   "source": [
    "run_settings = '/data/geodyn_proj/GETTING_STARTED/example_run_settings.yaml'"
   ]
  },
  {
   "cell_type": "markdown",
   "id": "3254b2e3",
   "metadata": {},
   "source": [
    "2. Call an instance of the `Pygeodyn` Object that is loaded with the run settings\n"
   ]
  },
  {
   "cell_type": "code",
   "execution_count": 4,
   "id": "6643ffc9",
   "metadata": {
    "ExecuteTime": {
     "end_time": "2022-02-23T20:04:57.596853Z",
     "start_time": "2022-02-23T20:04:57.527254Z"
    }
   },
   "outputs": [],
   "source": [
    "### Load the data into an object\n",
    "RunObject = Pygeodyn(run_settings)"
   ]
  },
  {
   "cell_type": "markdown",
   "id": "cd13a060",
   "metadata": {},
   "source": [
    "3. Use the `Pygeodyn.RUN_GEODYN()` method to run GEODYN with the requested settings"
   ]
  },
  {
   "cell_type": "code",
   "execution_count": 5,
   "id": "5cf6854a",
   "metadata": {
    "ExecuteTime": {
     "end_time": "2022-02-23T20:05:19.851014Z",
     "start_time": "2022-02-23T20:04:57.598928Z"
    }
   },
   "outputs": [
    {
     "name": "stdout",
     "output_type": "stream",
     "text": [
      "Run # 1     Current Time =      13:04:58  GMT-7\n",
      "Run # 1\n",
      "+ ————————————————————————————————————————————————————————————————————————————————————————\n",
      "|\n",
      "| ---------------------- RUN PARAMETERS  ----------------------\n",
      "|\n",
      "|  Run # 1     IISSET Cleaned      tmp/.../cleaned_setup_2018292\n",
      "|  Run # 1     Density Model:      msis2\n",
      "|  Run # 1     GEODYN Version:     CD_model_proj\n",
      "|  Run # 1     ARC run:            icesat2_2018292_24hr.msis2.bwdrag\n",
      "|  Run # 1     Output directory:   /data/zach_work/output_from_runs/msis2/msis2_BWDRAG\n",
      "|  Run # 1     EXAT File:          /data/data_geodyn/inputs/icesat2/external_attitude/EXAT01.2018.292.gz\n",
      "|\n",
      "|  Run # 1     Epoch Start:  2018-10-19 00:00:00\n",
      "|  Run # 1     Epoch End:    2018-10-20 00:00:00\n",
      "|  Run # 1     Step Size:    10.0\n",
      "+ ————————————————————————————————————————————————————————————————————————————————————————\n",
      "\n",
      "Run # 1          Running IIS\n",
      "ERRORS FOUND IN IIS: /data/data_geodyn/tmp/msis2_BWDRAG/icesat2_2018292_24hr.msis2.bwdrag/iiserr\n",
      "STOP 69\n",
      "\n"
     ]
    },
    {
     "ename": "SystemExit",
     "evalue": "",
     "output_type": "error",
     "traceback": [
      "An exception has occurred, use %tb to see the full traceback.\n",
      "\u001b[0;31mSystemExit\u001b[0m\n"
     ]
    },
    {
     "name": "stderr",
     "output_type": "stream",
     "text": [
      "/data/miniconda3/envs/pygeodyn/lib/python3.8/site-packages/IPython/core/interactiveshell.py:3445: UserWarning: To exit: use 'exit', 'quit', or Ctrl-D.\n",
      "  warn(\"To exit: use 'exit', 'quit', or Ctrl-D.\", stacklevel=1)\n"
     ]
    }
   ],
   "source": [
    "RunObject.RUN_GEODYN()"
   ]
  },
  {
   "cell_type": "markdown",
   "id": "6642b1f9",
   "metadata": {},
   "source": [
    "## What is happening behind the scenes?"
   ]
  },
  {
   "cell_type": "markdown",
   "id": "a25ef2ba",
   "metadata": {},
   "source": [
    "1. A Pygeodyn object is initialized with the specified run settings saved to a YAML\n",
    "    - `/data/geodyn_proj/pygeodyn/pygeodyn_develop/PYGEODYN.py`\n",
    "        1. The `RunObject` is loaded such that it inherits a Satellite Class(either ICESat2 or Starlette) settings.  This means that the methods (functions attributed to an class) that have been written into the ICESat2 Class will overwrite the functions in the base classes.  The base classes are `PygeodynController` and `PygeodynReader` and they are each inherited into the satellite classes.\n",
    "        2. So after the `Object = Pygeodyn(run_settings)` call, the following happens:\n",
    "            - The Pygeodyn class inherits the `Inherit_Icesat2` class which tells Pygeodyn to adopt the functions in the `Satellite_ICESat2` class (`/data/geodyn_proj/pygeodyn/pygeodyn_develop/PYGEODYN_ICESat2.py`).\n",
    "            - The `Satellite_ICESat2` class inherits both `PygeodynController` and `PygeodynReader`.  With this step, the object initialized by calling `Object = Pygeodyn(run_settings)` now contains all of the functions in `PygeodynController` and `PygeodynReader` and additionally, any functions that are written into `Satellite_ICESat2` with identical names overwrite those in the Controller and Reader.\n",
    "            \n",
    " - Note--- each time a class is called (in the case of `Pygeodyn`) or inherited (the case for `Satellite_ICESat2` and then `PygeodynController` and `PygeodynReader`) the `def __init__()` function runs.  It is in this location that we put anything we want to have happen for each instance of the Class (like any class specific global variables).  If you don't want anything to happen, you can put a pass.\n",
    "\n",
    "    ```python\n",
    "    class example_class():\n",
    "        def __init__(self):  \n",
    "            pass\n",
    "    ```\n",
    "\n",
    "\n",
    "\n",
    "\n",
    "2. Call the `RUN_GEODYN()` method which is now attributed to the object (`RunObject`) that is initialized with the settings and classes as defined above.\n",
    "\n",
    "    - Explicitly stated again: `RunObject` is an object of the `Pygeodyn` class that inherited the class `Satellite_ICESat2`, which itself inherited `PygeodynController` and `PygeodynReader`).  Therefore `RunObject` contains all of the methods (function for a class) contained in all of those classes.\n",
    "    -  `RUN_GEODYN()` is called thru these classes and its method is located at the bottom of the PYGEODYN_Control file: `/data/geodyn_proj/pygeodyn/pygeodyn_develop/PYGEODYN_Control.py` \n",
    "\n",
    "\n",
    "\n",
    "\n"
   ]
  },
  {
   "cell_type": "code",
   "execution_count": null,
   "id": "ae8d3dff",
   "metadata": {},
   "outputs": [],
   "source": []
  }
 ],
 "metadata": {
  "kernelspec": {
   "display_name": "Python 3",
   "language": "python",
   "name": "python3"
  },
  "language_info": {
   "codemirror_mode": {
    "name": "ipython",
    "version": 3
   },
   "file_extension": ".py",
   "mimetype": "text/x-python",
   "name": "python",
   "nbconvert_exporter": "python",
   "pygments_lexer": "ipython3",
   "version": "3.8.8"
  },
  "toc": {
   "base_numbering": 1,
   "nav_menu": {},
   "number_sections": true,
   "sideBar": true,
   "skip_h1_title": false,
   "title_cell": "Table of Contents",
   "title_sidebar": "Contents",
   "toc_cell": false,
   "toc_position": {
    "height": "calc(100% - 180px)",
    "left": "10px",
    "top": "150px",
    "width": "165px"
   },
   "toc_section_display": true,
   "toc_window_display": true
  },
  "varInspector": {
   "cols": {
    "lenName": 16,
    "lenType": 16,
    "lenVar": 40
   },
   "kernels_config": {
    "python": {
     "delete_cmd_postfix": "",
     "delete_cmd_prefix": "del ",
     "library": "var_list.py",
     "varRefreshCmd": "print(var_dic_list())"
    },
    "r": {
     "delete_cmd_postfix": ") ",
     "delete_cmd_prefix": "rm(",
     "library": "var_list.r",
     "varRefreshCmd": "cat(var_dic_list()) "
    }
   },
   "types_to_exclude": [
    "module",
    "function",
    "builtin_function_or_method",
    "instance",
    "_Feature"
   ],
   "window_display": false
  }
 },
 "nbformat": 4,
 "nbformat_minor": 5
}
