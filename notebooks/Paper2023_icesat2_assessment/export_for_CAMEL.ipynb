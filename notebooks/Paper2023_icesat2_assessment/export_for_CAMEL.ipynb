{
 "cells": [
  {
   "cell_type": "markdown",
   "id": "a459399d",
   "metadata": {},
   "source": [
    "# Convert pickle files to ASCII text files for CAMEL"
   ]
  },
  {
   "cell_type": "markdown",
   "id": "ccb5245f",
   "metadata": {},
   "source": [
    "Pickles:"
   ]
  },
  {
   "cell_type": "code",
   "execution_count": 1,
   "id": "9d92ff42",
   "metadata": {
    "ExecuteTime": {
     "end_time": "2023-08-15T17:44:43.102611Z",
     "start_time": "2023-08-15T17:44:42.979223Z"
    }
   },
   "outputs": [
    {
     "name": "stdout",
     "output_type": "stream",
     "text": [
      "20181109000200_20181123000000__24hrArcs__FixedCD2.5__msis2.csv\r\n",
      "20181109000200_20181123000000__24hrArcs__FixedCD2.5__tiegcm_oc.csv\r\n",
      "ctipe_oc_2week_CD2.5.pkl\r\n",
      "dtm2020_o_2week_CD2.5.pkl\r\n",
      "gitm_2week_CD2.5.pkl\r\n",
      "hasdm_oc_2week_CD2.5.pkl\r\n",
      "jb2008_2week_CD2.5.pkl\r\n",
      "msis2_2week_CD2.5.pkl\r\n",
      "tiegcm_oc_2week_CD2.5.pkl\r\n"
     ]
    }
   ],
   "source": [
    "ls /data/SatDragModelValidation/data/outputs_clean/icesat2/Paper2023_icesat2_assessment/results_fixedCD"
   ]
  },
  {
   "cell_type": "markdown",
   "id": "20fc6022",
   "metadata": {
    "ExecuteTime": {
     "end_time": "2023-06-19T18:18:08.290081Z",
     "start_time": "2023-06-19T18:18:08.283401Z"
    }
   },
   "source": [
    "- Need to match the time cadence of the density values to that of the in-track residuals.\n",
    "- save data as ascii-text files\n",
    "- save data as JSON format"
   ]
  },
  {
   "cell_type": "code",
   "execution_count": 2,
   "id": "f8bf2d1a",
   "metadata": {
    "ExecuteTime": {
     "end_time": "2023-08-15T17:44:44.767252Z",
     "start_time": "2023-08-15T17:44:43.105067Z"
    }
   },
   "outputs": [
    {
     "name": "stdout",
     "output_type": "stream",
     "text": [
      "{'jb2008': {'num': 1, 'model_path': None}}\n"
     ]
    }
   ],
   "source": [
    "from pygeodyn.PYGEODYN import Pygeodyn\n",
    "from pygeodyn.pygeodyn_plot import *\n",
    "import datetime\n",
    "\n",
    "\n",
    "run_list = [\n",
    "#                 'msis2',\n",
    "#                 'tiegcm_oc',\n",
    "#                 'ctipe_oc',\n",
    "                'jb2008',\n",
    "#                 'dtm2020_o',\n",
    "# #                 'gitm',\n",
    "#                 'hasdm_oc',\n",
    "           ]\n",
    "\n",
    "plot_dir='/data/SatDragModelValidation/notebooks/Paper2023_icesat2_assessment/plots/'\n",
    "\n",
    "dir_modeldat='/data/SatDragModelValidation/data/inputs/atmos_models'\n",
    "run_dict={}\n",
    "for i in run_list:\n",
    "    if i =='msis2':\n",
    "        run_dict[i]={}\n",
    "        run_dict[i]['num'] = 5\n",
    "        run_dict[i]['model_path'] = None\n",
    "\n",
    "    if i =='dtm2020_o':\n",
    "        run_dict[i]={}\n",
    "        run_dict[i]['num'] = 3\n",
    "        run_dict[i]['model_path'] = None\n",
    "\n",
    "    if i =='jb2008':\n",
    "        run_dict[i]={}\n",
    "        run_dict[i]['num'] = 1\n",
    "        run_dict[i]['model_path'] = None\n",
    "\n",
    "    ### PHYSICAL MODELS\n",
    "    if i =='tiegcm_oc':\n",
    "        run_dict[i]={}\n",
    "        run_dict[i]['num'] = 0\n",
    "        run_dict[i]['model_path'] = dir_modeldat+'/tiegcm/icesat2_oct2018_jan2019'\n",
    "    if i =='ctipe_oc':\n",
    "        run_dict[i]={}\n",
    "        run_dict[i]['num']=4\n",
    "        run_dict[i]['model_path'] = dir_modeldat+'/ctipe/icesat2_oct2018_jan2019'\n",
    "    if i =='gitm':\n",
    "        run_dict[i]={}\n",
    "        run_dict[i]['num']=4\n",
    "        run_dict[i]['model_path'] = dir_modeldat+'/gitm/icesat2_oct2018_jan2019'\n",
    "    if i =='hasdm_oc':\n",
    "        run_dict[i]={}\n",
    "        run_dict[i]['num'] = 2\n",
    "        run_dict[i]['model_path'] = dir_modeldat+'/hasdm/vishal_icesat2_oct2018_jan2019'\n",
    "print(run_dict)"
   ]
  },
  {
   "cell_type": "markdown",
   "id": "8b35be28",
   "metadata": {
    "ExecuteTime": {
     "end_time": "2023-06-19T18:23:07.273872Z",
     "start_time": "2023-06-19T18:23:07.268708Z"
    }
   },
   "source": [
    "## Fixed CD-2.5 Case"
   ]
  },
  {
   "cell_type": "code",
   "execution_count": 3,
   "id": "b20b2fdd",
   "metadata": {
    "ExecuteTime": {
     "end_time": "2023-08-15T17:52:12.650004Z",
     "start_time": "2023-08-15T17:44:44.771624Z"
    }
   },
   "outputs": [
    {
     "name": "stdout",
     "output_type": "stream",
     "text": [
      "\n",
      "\n",
      "Loaded data from pickle...  jb2008\n",
      "\n",
      " Saving Text file for  jb2008\n",
      "   filename:  /data/SatDragModelValidation/data/outputs_clean/icesat2/Paper2023_icesat2_assessment/results_2week_ScalingFactor/20181109000200_20181123000000__24hrArcs__TwoWeekDragScaleFactor__jb2008.csv\n",
      "2018.313.01\n",
      "2018.314.01\n",
      "2018.315.01\n",
      "2018.316.01\n"
     ]
    },
    {
     "ename": "KeyboardInterrupt",
     "evalue": "",
     "output_type": "error",
     "traceback": [
      "\u001b[0;31m---------------------------------------------------------------------------\u001b[0m",
      "\u001b[0;31mKeyboardInterrupt\u001b[0m                         Traceback (most recent call last)",
      "\u001b[0;32m<ipython-input-3-68a366cfd609>\u001b[0m in \u001b[0;36m<module>\u001b[0;34m\u001b[0m\n\u001b[1;32m    169\u001b[0m                 \u001b[0;32mfor\u001b[0m \u001b[0mitime\u001b[0m\u001b[0;34m,\u001b[0m\u001b[0mtimeCheck\u001b[0m \u001b[0;32min\u001b[0m \u001b[0menumerate\u001b[0m\u001b[0;34m(\u001b[0m\u001b[0mpd\u001b[0m\u001b[0;34m.\u001b[0m\u001b[0mto_datetime\u001b[0m\u001b[0;34m(\u001b[0m\u001b[0mobj_m1\u001b[0m\u001b[0;34m[\u001b[0m\u001b[0;34m'OrbitResids'\u001b[0m\u001b[0;34m]\u001b[0m\u001b[0;34m[\u001b[0m\u001b[0marc\u001b[0m\u001b[0;34m]\u001b[0m\u001b[0;34m[\u001b[0m\u001b[0;34m'data_PCE'\u001b[0m\u001b[0;34m]\u001b[0m\u001b[0;34m[\u001b[0m\u001b[0;34m'Date'\u001b[0m\u001b[0;34m]\u001b[0m\u001b[0;34m)\u001b[0m\u001b[0;34m)\u001b[0m\u001b[0;34m:\u001b[0m\u001b[0;34m\u001b[0m\u001b[0;34m\u001b[0m\u001b[0m\n\u001b[1;32m    170\u001b[0m \u001b[0;34m\u001b[0m\u001b[0m\n\u001b[0;32m--> 171\u001b[0;31m                     \u001b[0mdate_nearstart\u001b[0m \u001b[0;34m=\u001b[0m \u001b[0mnearest\u001b[0m\u001b[0;34m(\u001b[0m\u001b[0mpd\u001b[0m\u001b[0;34m.\u001b[0m\u001b[0mto_datetime\u001b[0m\u001b[0;34m(\u001b[0m\u001b[0mdf\u001b[0m\u001b[0;34m[\u001b[0m\u001b[0;34m'i_vals'\u001b[0m\u001b[0;34m]\u001b[0m\u001b[0;34m.\u001b[0m\u001b[0mindex\u001b[0m\u001b[0;34m)\u001b[0m\u001b[0;34m,\u001b[0m \u001b[0mtimeCheck\u001b[0m\u001b[0;34m)\u001b[0m\u001b[0;34m\u001b[0m\u001b[0;34m\u001b[0m\u001b[0m\n\u001b[0m\u001b[1;32m    172\u001b[0m                     \u001b[0mindex_date\u001b[0m \u001b[0;34m=\u001b[0m \u001b[0mdf\u001b[0m\u001b[0;34m[\u001b[0m\u001b[0;34m'i_vals'\u001b[0m\u001b[0;34m]\u001b[0m\u001b[0;34m[\u001b[0m\u001b[0mdate_nearstart\u001b[0m\u001b[0;34m]\u001b[0m\u001b[0;34m.\u001b[0m\u001b[0mmin\u001b[0m\u001b[0;34m(\u001b[0m\u001b[0;34m)\u001b[0m\u001b[0;34m\u001b[0m\u001b[0;34m\u001b[0m\u001b[0m\n\u001b[1;32m    173\u001b[0m \u001b[0;34m\u001b[0m\u001b[0m\n",
      "\u001b[0;32m<ipython-input-3-68a366cfd609>\u001b[0m in \u001b[0;36mnearest\u001b[0;34m(items, pivot)\u001b[0m\n\u001b[1;32m    161\u001b[0m \u001b[0;34m\u001b[0m\u001b[0m\n\u001b[1;32m    162\u001b[0m                 \u001b[0;32mdef\u001b[0m \u001b[0mnearest\u001b[0m\u001b[0;34m(\u001b[0m\u001b[0mitems\u001b[0m\u001b[0;34m,\u001b[0m \u001b[0mpivot\u001b[0m\u001b[0;34m)\u001b[0m\u001b[0;34m:\u001b[0m\u001b[0;34m\u001b[0m\u001b[0;34m\u001b[0m\u001b[0m\n\u001b[0;32m--> 163\u001b[0;31m                     \u001b[0;32mreturn\u001b[0m \u001b[0mmin\u001b[0m\u001b[0;34m(\u001b[0m\u001b[0mitems\u001b[0m\u001b[0;34m,\u001b[0m \u001b[0mkey\u001b[0m\u001b[0;34m=\u001b[0m\u001b[0;32mlambda\u001b[0m \u001b[0mx\u001b[0m\u001b[0;34m:\u001b[0m \u001b[0mabs\u001b[0m\u001b[0;34m(\u001b[0m\u001b[0mx\u001b[0m \u001b[0;34m-\u001b[0m \u001b[0mpivot\u001b[0m\u001b[0;34m)\u001b[0m\u001b[0;34m)\u001b[0m\u001b[0;34m\u001b[0m\u001b[0;34m\u001b[0m\u001b[0m\n\u001b[0m\u001b[1;32m    164\u001b[0m \u001b[0;34m\u001b[0m\u001b[0m\n\u001b[1;32m    165\u001b[0m                 \u001b[0mtimesList\u001b[0m \u001b[0;34m=\u001b[0m \u001b[0mpd\u001b[0m\u001b[0;34m.\u001b[0m\u001b[0mto_datetime\u001b[0m\u001b[0;34m(\u001b[0m\u001b[0mobj_m1\u001b[0m\u001b[0;34m[\u001b[0m\u001b[0;34m'Density'\u001b[0m\u001b[0;34m]\u001b[0m\u001b[0;34m[\u001b[0m\u001b[0marc\u001b[0m\u001b[0;34m]\u001b[0m\u001b[0;34m[\u001b[0m\u001b[0;34m'Date'\u001b[0m\u001b[0;34m]\u001b[0m\u001b[0;34m)\u001b[0m\u001b[0;34m\u001b[0m\u001b[0;34m\u001b[0m\u001b[0m\n",
      "\u001b[0;32m<ipython-input-3-68a366cfd609>\u001b[0m in \u001b[0;36m<lambda>\u001b[0;34m(x)\u001b[0m\n\u001b[1;32m    161\u001b[0m \u001b[0;34m\u001b[0m\u001b[0m\n\u001b[1;32m    162\u001b[0m                 \u001b[0;32mdef\u001b[0m \u001b[0mnearest\u001b[0m\u001b[0;34m(\u001b[0m\u001b[0mitems\u001b[0m\u001b[0;34m,\u001b[0m \u001b[0mpivot\u001b[0m\u001b[0;34m)\u001b[0m\u001b[0;34m:\u001b[0m\u001b[0;34m\u001b[0m\u001b[0;34m\u001b[0m\u001b[0m\n\u001b[0;32m--> 163\u001b[0;31m                     \u001b[0;32mreturn\u001b[0m \u001b[0mmin\u001b[0m\u001b[0;34m(\u001b[0m\u001b[0mitems\u001b[0m\u001b[0;34m,\u001b[0m \u001b[0mkey\u001b[0m\u001b[0;34m=\u001b[0m\u001b[0;32mlambda\u001b[0m \u001b[0mx\u001b[0m\u001b[0;34m:\u001b[0m \u001b[0mabs\u001b[0m\u001b[0;34m(\u001b[0m\u001b[0mx\u001b[0m \u001b[0;34m-\u001b[0m \u001b[0mpivot\u001b[0m\u001b[0;34m)\u001b[0m\u001b[0;34m)\u001b[0m\u001b[0;34m\u001b[0m\u001b[0;34m\u001b[0m\u001b[0m\n\u001b[0m\u001b[1;32m    164\u001b[0m \u001b[0;34m\u001b[0m\u001b[0m\n\u001b[1;32m    165\u001b[0m                 \u001b[0mtimesList\u001b[0m \u001b[0;34m=\u001b[0m \u001b[0mpd\u001b[0m\u001b[0;34m.\u001b[0m\u001b[0mto_datetime\u001b[0m\u001b[0;34m(\u001b[0m\u001b[0mobj_m1\u001b[0m\u001b[0;34m[\u001b[0m\u001b[0;34m'Density'\u001b[0m\u001b[0;34m]\u001b[0m\u001b[0;34m[\u001b[0m\u001b[0marc\u001b[0m\u001b[0;34m]\u001b[0m\u001b[0;34m[\u001b[0m\u001b[0;34m'Date'\u001b[0m\u001b[0;34m]\u001b[0m\u001b[0;34m)\u001b[0m\u001b[0;34m\u001b[0m\u001b[0;34m\u001b[0m\u001b[0m\n",
      "\u001b[0;32mpandas/_libs/tslibs/timedeltas.pyx\u001b[0m in \u001b[0;36mpandas._libs.tslibs.timedeltas._op_unary_method.f\u001b[0;34m()\u001b[0m\n",
      "\u001b[0;32mpandas/_libs/tslibs/timedeltas.pyx\u001b[0m in \u001b[0;36mpandas._libs.tslibs.timedeltas.Timedelta.__new__\u001b[0;34m()\u001b[0m\n",
      "\u001b[0;31mKeyboardInterrupt\u001b[0m: "
     ]
    }
   ],
   "source": [
    "%load_ext autoreload\n",
    "%autoreload 2\n",
    "# from pygeodyn.PYGEODYN import Pygeodyn\n",
    "from gc import collect as gc_collect\n",
    "\n",
    "import pickle \n",
    "import os\n",
    "import pandas as pd\n",
    "import time\n",
    "from datetime import datetime,timedelta\n",
    "\n",
    "\n",
    "\n",
    "for run_dir in ['results_2week_ScalingFactor',\n",
    "#                 'results_fixedCD',\n",
    "                'results_withScalingFactor']:\n",
    "\n",
    "    global_path    =  '/data/SatDragModelValidation/data/outputs_clean/'\\\n",
    "                 + 'icesat2/Paper2023_icesat2_assessment/'+run_dir+'/'\n",
    "\n",
    "    if run_dir == 'results_fixedCD':\n",
    "        pickleName = \"_2week_CD2.5.pkl\"\n",
    "        fileID     = 'FixedCD2.5'\n",
    "        \n",
    "    elif run_dir == 'results_withScalingFactor':\n",
    "        pickleName = \"_2week_DragScaleFactor.pkl\"\n",
    "        fileID     = '24hrDragScaleFactor'\n",
    "\n",
    "    \n",
    "    elif run_dir == 'results_2week_ScalingFactor':\n",
    "        pickleName = \"_2weeks_TwoWeekDragScaleFactor.pkl\"\n",
    "        fileID     = 'TwoWeekDragScaleFactor'\n",
    "\n",
    "    else:\n",
    "        import sys\n",
    "        sys.exit()\n",
    "\n",
    "    obj = {}\n",
    "    for i,model in enumerate(run_list):     \n",
    "        ### Load the data if the pickles exist\n",
    "        print()\n",
    "        print()\n",
    "        gc_collect()\n",
    "\n",
    "        pickle_file = global_path+model+pickleName\n",
    "\n",
    "        filehandler = open(pickle_file, 'rb') \n",
    "        obj[model] = pickle.load(filehandler)\n",
    "        filehandler.close()\n",
    "        print('Loaded data from pickle... ', model)\n",
    "\n",
    "\n",
    "\n",
    "\n",
    "    ### Declare some setup parameters:\n",
    "    len_date        = 19\n",
    "    len_lon_lat_alt =  9\n",
    "    len_rho         = 15\n",
    "    len_resids      = 12\n",
    "    len_f107        = 5\n",
    "    len_kp          = 5\n",
    "\n",
    "    for imodel in run_list:\n",
    "        start = time.time()\n",
    "        print('\\n','Saving Text file for ', imodel)\n",
    "\n",
    "        obj_m1 = obj[imodel]\n",
    "        CAMELfilename = global_path+'20181109000200_20181123000000__24hrArcs__'+fileID+'__'+imodel+'.csv'    \n",
    "        print('   filename: ',CAMELfilename)\n",
    "\n",
    "        if imodel == 'msis2':\n",
    "            modelname = \"NRLMSIS 2.0\"\n",
    "        elif imodel == 'dtm2020_o':\n",
    "            modelname = \"DTM2020 (oper.)\"\n",
    "        elif imodel == 'jb2008':\n",
    "            modelname = \"JB2008\"\n",
    "        elif imodel == 'tiegcm_oc':\n",
    "            modelname = \"TIEGCMv2.0\"\n",
    "        elif imodel == 'hasdm_oc':\n",
    "            modelname = \"SET HASDM\"\n",
    "        elif imodel == 'ctipe_oc':\n",
    "            modelname = \"CTIPev4.1\"\n",
    "\n",
    "\n",
    "        ### Delete the existing files so they append cleanly\n",
    "        if os.path.exists(CAMELfilename):\n",
    "            os.remove(CAMELfilename)\n",
    "\n",
    "\n",
    "\n",
    "\n",
    "        f = open(CAMELfilename, \"w\")\n",
    "        f.write(\"\\n\")\n",
    "        f.close()\n",
    "\n",
    "        ### Write to file\n",
    "        with open(CAMELfilename, 'r+') as file:\n",
    "\n",
    "\n",
    "            ### Manually write the header units\n",
    "            header_units =\\\n",
    "                    f\"{'(UTC)'.rjust(len_date-1,' ') }\"\\\n",
    "                    +f\"  {'(deg)'.rjust(len_lon_lat_alt,' ')}\"\\\n",
    "                    +f\"  {'(deg)'.rjust(len_lon_lat_alt,' ')}\"\\\n",
    "                    +f\"  {'(m)'.rjust(len_lon_lat_alt,' ')}\"\\\n",
    "                    +f\"  {'(kg/m^3)'.rjust(len_rho,' ')}\"\\\n",
    "                    +f\"  {'(m)'.rjust(len_resids,' ')}\"\\\n",
    "                    +f\"  {'(m)'.rjust(len_resids,' ')}\"\\\n",
    "        #             +f\"  {'(sfu)'.rjust(len_f107,' ')}\"\\\n",
    "        #             +f\"  {'(n/a)'.rjust(len_kp,' ')}\"\\\n",
    "\n",
    "            #### Manually write the header field names\n",
    "            header_names =\\\n",
    "                    f\"{'Date'.rjust(len_date-1,' ') }\"\\\n",
    "                    +f\"  {'Lon'.rjust(len_lon_lat_alt,' ')}\"\\\n",
    "                    +f\"  {'Lat'.rjust(len_lon_lat_alt,' ')}\"\\\n",
    "                    +f\"  {'Alt'.rjust(len_lon_lat_alt,' ')}\"\\\n",
    "                    +f\"  {'Rho'.rjust(len_rho,' ')}\"\\\n",
    "                    +f\"  {'T_PSO'.rjust(len_resids,' ')}\"\\\n",
    "                    +f\"  {'T_OrbFit'.rjust(len_resids,' ')}\"\\\n",
    "        #             +f\"  {'f107'.rjust(15,' ')}\"\\\n",
    "        #             +f\"  {'kp'.rjust(15,' ')}\"\\\n",
    "\n",
    "            #### Manually write the detailed header description\n",
    "            header_meta = \\\n",
    "                    f'''### Model Assessment---ICESat-2 Orbit Fit using {modelname}\n",
    "### -----------------------\n",
    "###     Satellite: ICESat2\n",
    "###     Epoch:     +start____ {'2018-11-09 00:02:00'} \n",
    "###                +stop_____ {'2018-11-23 00:00:00'}\n",
    "###     Last modified: {datetime.now()-timedelta(hours=7)}\n",
    "###\n",
    "### Sources\n",
    "### -------\n",
    "###     ICESat-2 Orbit Fit using {modelname}\n",
    "###     ICESat-2 Precise Science Orbit (PSO)\n",
    "###\n",
    "###\n",
    "#{header_units}\n",
    "#{header_names}\n",
    "### %eoh\n",
    "'''\n",
    "\n",
    "            file.write(header_meta)  \n",
    "\n",
    "\n",
    "            ### Loop through the arcs and append the datasets for each arc into CSV files\n",
    "            for ii,arc in enumerate(obj_m1['global_params']['arc_input'][:]):\n",
    "\n",
    "                arc =arc+'.01'\n",
    "                print(arc)\n",
    "\n",
    "                ### ----------------------------------------------------------------------------------\n",
    "                ### SAVE DENSITY at same cadence as the T RESIDUALS\n",
    "                ##\n",
    "                ####   Find the datetime values in the density dataset that \n",
    "                ####       are closest to those in the residual datset.\n",
    "                ####   The two sets have different cadences \n",
    "                ####       density is the integration step size (10sec)\n",
    "                ####       orbfil is the output size (2min)\n",
    "\n",
    "                def nearest(items, pivot):\n",
    "                    return min(items, key=lambda x: abs(x - pivot))\n",
    "\n",
    "                timesList = pd.to_datetime(obj_m1['Density'][arc]['Date'])\n",
    "                vals  = np.arange(obj_m1['Density'][arc].index[0],obj_m1['Density'][arc].index[-1]+1)\n",
    "                df = obj_m1['Density'][arc].set_index('Date',drop=False ) \n",
    "                df['i_vals'] = vals\n",
    "                for itime,timeCheck in enumerate(pd.to_datetime(obj_m1['OrbitResids'][arc]['data_PCE']['Date'])):\n",
    "\n",
    "                    date_nearstart = nearest(pd.to_datetime(df['i_vals'].index), timeCheck)\n",
    "                    index_date = df['i_vals'][date_nearstart].min()\n",
    "\n",
    "                    time_near = timesList[index_date]\n",
    "\n",
    "\n",
    "                    if np.abs((timeCheck - time_near).total_seconds()) < 10:\n",
    "\n",
    "                        date_list = timeCheck\n",
    "                        den_list = obj_m1['Density'][arc]['rho (kg/m**3)'][index_date]\n",
    "                        intrack_PCE = obj_m1['OrbitResids'][arc]['data_PCE']['T'][itime]\n",
    "                        intrack_Orbfile = obj_m1['OrbitResids'][arc]['data_orbfil']['T'][itime]\n",
    "                        lon_list = obj_m1['Density'][arc]['Lon'][index_date]\n",
    "                        lat_list = obj_m1['Density'][arc]['Lat'][index_date]\n",
    "                        alt_list = obj_m1['Density'][arc]['Height (meters)'][index_date]\n",
    "\n",
    "                    else:\n",
    "                        print('THE TWO TIMES ARE FAR APART')\n",
    "                        print('     timeCheck, time_near: ', timeCheck, time_near)\n",
    "                        den_list = np.nan\n",
    "                        date_list = index_date\n",
    "                        intrack_PCE = obj_m1['OrbitResids'][arc]['data_PCE']['T'][itime]\n",
    "                        intrack_Orbfile = obj_m1['OrbitResids'][arc]['data_orbfil']['T'][itime]\n",
    "                        lon_list = np.nan\n",
    "                        lat_list = np.nan\n",
    "                        alt_list = np.nan\n",
    "\n",
    "\n",
    "                    #### Manually write each row of the data.\n",
    "                    row =   f\"{pd.to_datetime(date_list).strftime(format='%Y-%m-%d %H:%M:%S')}\"\\\n",
    "                        +f\"  {lon_list:9.3f}\"\\\n",
    "                        +f\"  {lat_list:9.3f}\"\\\n",
    "                        +f\"  {alt_list:9.3f}\"\\\n",
    "                        +f\"  {den_list:15.6e}\"\\\n",
    "                        +f\"  {intrack_PCE:12.5f}\"\\\n",
    "                        +f\"  {intrack_Orbfile:12.5f}\"\\\n",
    "                        +f\"\\n\"\n",
    "                    file.write(row)\n",
    "    #\n",
    "        end = time.time()\n",
    "        elapsed = end - start\n",
    "        #\n",
    "        print()\n",
    "        # print(f'       indxes: 0 -',indx,'') \n",
    "        print(f'       Processed file in : ',np.round(elapsed,5),'secs', f\"({np.round(elapsed,5)/60} minutes)\") \n"
   ]
  },
  {
   "cell_type": "code",
   "execution_count": null,
   "id": "3f129ee3",
   "metadata": {
    "ExecuteTime": {
     "end_time": "2023-06-19T22:45:30.040557Z",
     "start_time": "2023-06-19T21:43:06.788323Z"
    }
   },
   "outputs": [],
   "source": []
  },
  {
   "cell_type": "code",
   "execution_count": null,
   "id": "46a5b260",
   "metadata": {
    "ExecuteTime": {
     "end_time": "2023-06-19T21:30:57.252495Z",
     "start_time": "2023-06-19T21:30:57.236929Z"
    }
   },
   "outputs": [],
   "source": []
  },
  {
   "cell_type": "code",
   "execution_count": null,
   "id": "00ef7b97",
   "metadata": {
    "ExecuteTime": {
     "end_time": "2023-06-19T21:18:12.946569Z",
     "start_time": "2023-06-19T21:18:12.931061Z"
    }
   },
   "outputs": [],
   "source": []
  },
  {
   "cell_type": "code",
   "execution_count": null,
   "id": "e5381371",
   "metadata": {},
   "outputs": [],
   "source": []
  },
  {
   "cell_type": "code",
   "execution_count": null,
   "id": "bffd903b",
   "metadata": {},
   "outputs": [],
   "source": []
  }
 ],
 "metadata": {
  "kernelspec": {
   "display_name": "Python 3",
   "language": "python",
   "name": "python3"
  },
  "language_info": {
   "codemirror_mode": {
    "name": "ipython",
    "version": 3
   },
   "file_extension": ".py",
   "mimetype": "text/x-python",
   "name": "python",
   "nbconvert_exporter": "python",
   "pygments_lexer": "ipython3",
   "version": "3.8.8"
  },
  "toc": {
   "base_numbering": 1,
   "nav_menu": {},
   "number_sections": true,
   "sideBar": true,
   "skip_h1_title": false,
   "title_cell": "Table of Contents",
   "title_sidebar": "Contents",
   "toc_cell": false,
   "toc_position": {},
   "toc_section_display": true,
   "toc_window_display": false
  },
  "varInspector": {
   "cols": {
    "lenName": 16,
    "lenType": 16,
    "lenVar": 40
   },
   "kernels_config": {
    "python": {
     "delete_cmd_postfix": "",
     "delete_cmd_prefix": "del ",
     "library": "var_list.py",
     "varRefreshCmd": "print(var_dic_list())"
    },
    "r": {
     "delete_cmd_postfix": ") ",
     "delete_cmd_prefix": "rm(",
     "library": "var_list.r",
     "varRefreshCmd": "cat(var_dic_list()) "
    }
   },
   "types_to_exclude": [
    "module",
    "function",
    "builtin_function_or_method",
    "instance",
    "_Feature"
   ],
   "window_display": false
  }
 },
 "nbformat": 4,
 "nbformat_minor": 5
}
