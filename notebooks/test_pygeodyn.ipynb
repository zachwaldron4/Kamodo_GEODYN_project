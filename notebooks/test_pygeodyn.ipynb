{
 "cells": [
  {
   "cell_type": "markdown",
   "id": "eaca1c05",
   "metadata": {},
   "source": [
    "# Run Pygeodyn"
   ]
  },
  {
   "cell_type": "code",
   "execution_count": 1,
   "id": "564ab7bb",
   "metadata": {
    "ExecuteTime": {
     "end_time": "2022-12-13T22:41:43.843587Z",
     "start_time": "2022-12-13T22:41:43.838076Z"
    }
   },
   "outputs": [],
   "source": [
    "run_settings= '''\n",
    "---\n",
    "###  Run Settings \n",
    "#\n",
    "user                       : 'Zach Waldron'                                     \n",
    "\n",
    "den_model                  : 'jb2008'  \n",
    "cd_model                   : 'BWDRAG'  \n",
    "run_specifier   : '_test_infrastruc'  \n",
    "arc_length                 : '24hr'\n",
    "file_string                : 'CD_2p5'\n",
    "satellite                  : 'icesat2' \n",
    "geodyn_StepSize            : 60.\n",
    "\n",
    "####  Fixed CD value (#.######)\n",
    "cd_value : 2.500000\n",
    "scaling_factor : False\n",
    "\n",
    "#### ADJUST THE CD\n",
    "cd_adjustment_boolean   :   False\n",
    "total_hours_in_run      :   24\n",
    "hours_between_cd_adj    :   6\n",
    "\n",
    "##### CHOOSE GEODYN VERSION:\n",
    "GEODYN_iie_MOD_version      : 'CD_model_proj'\n",
    "recompile_on                :  False\n",
    "save_drag_file              :  True\n",
    "save_accel_file             :  True\n",
    "PASS_INPUT_VALUE_TO_fortran :  'None'\n",
    "\n",
    "### IDENTIFY ARCS   (YYYY.DDD)\n",
    "arc                 : [ '2018.313']\n",
    "epoch_start         : [ '181109 000000.0000000']\n",
    "epoch_end           : [ '181110 000000.0000000']\n",
    "\n",
    "request_data :  ['Trajectory_orbfil',\n",
    "                'Density',\n",
    "                'DragFile',\n",
    "                'Residuals_summary', \n",
    "                'AdjustedParams',\n",
    "                                  ]\n",
    "                                                 \n",
    "### SETUP FILE OPTIONS \n",
    "accels                    :  False\n",
    "empirical_accels          :  False, \n",
    "ACCELS                    : 'acceloff'\n",
    "cards_to_remove           : [ 'ACCEL9',\n",
    "                              'ORBTVU',\n",
    "                              'RESID',\n",
    "                              'CON9PA',]\n",
    "                  \n",
    "#### USER AUXILLIARY OPTIONS\n",
    "verbose         :  False\n",
    "DRHODZ_update   :  True     #### Use the updated DRHODZ calculation? (recommended)\n",
    "\n",
    "#### ----------------------------------------------------------------------------\n",
    "#### Options that are hardcoded defaults for ICESAT2 class\n",
    "#### ----------------------------------------------------------------------------\n",
    "#### The name of the satellite\n",
    "#### Satellites COSPAR ID number\n",
    "satellite_id          : '1807001'\n",
    "#### Datatype being used as tracking data\n",
    "DATA_TYPE      : 'PCE'\n",
    "#### ----------------------------------------------------------------------------\n",
    "####### File Choices:\n",
    "#### G2B file name\n",
    "filename_g2b       : 'g2b_pce_fullset_nomaneuver'  \n",
    "#### Atmospheric Gravity file name\n",
    "filename_atmograv    : 'ATGRAV.glo-3HR_20160101-PRESENT_9999_AOD1B_0006.0090'\n",
    "#### Planetary Ephemeris file name\n",
    "filename_ephem     : 'ephem1430.data_2025'\n",
    "#### Gravity field file name\n",
    "filename_gravfield : 'eigen-6c.gfc_20080101_do_200_fix.grv'\n",
    "#### PCE Ascii textfile name\n",
    "StateVector_epochs_datafile  : '/data/SatDragModelValidation/data/inputs/sat_icesat2/setups/PCE_ascii.txt'\n",
    "'''\n"
   ]
  },
  {
   "cell_type": "code",
   "execution_count": 2,
   "id": "b95d413d",
   "metadata": {
    "ExecuteTime": {
     "end_time": "2022-12-13T22:42:08.108263Z",
     "start_time": "2022-12-13T22:41:43.845534Z"
    },
    "scrolled": false
   },
   "outputs": [
    {
     "name": "stdout",
     "output_type": "stream",
     "text": [
      "     SELECT data data from:        181109000100.0000000 181109235900.0000000\n",
      "     ORBFIL will print data from:  181109000100.0 181109235900.00\n",
      "   Using a CD value of  2.5\n",
      "   Running without DRAG time dependence\n",
      "Run # 1     Current Time =      15:41:50  GMT-7\n",
      "Run # 1\n",
      "+ ——————————————————————————————————————————————————————————————————————————————————————————————————————————————\n",
      "|\n",
      "| ---------------------- RUN PARAMETERS  ----------------------\n",
      "|\n",
      "|  Run # 1     IISSET Cleaned      tmp/.../cleaned_setup_2018313.01\n",
      "|  Run # 1     Density Model:      jb2008\n",
      "|  Run # 1     GEODYN Version:     CD_model_proj\n",
      "|  Run # 1     /data    /SatDragModelValidation/...\n",
      "|                     .../data/outputs_raw/jb2008/jb2008_BWDRAG_test_infrastruc\n",
      "|  Run # 1     EXAT File:          /data/SatDragModelValidation/data/inputs/sat_icesat2/external_attitude/EXAT01.2018.313.gz\n",
      "|\n",
      "|  Run # 1     Epoch Start:  2018-11-09 00:00:00\n",
      "|  Run # 1     Epoch End:    2018-11-10 00:00:00\n",
      "|  Run # 1     Step Size:    60.0\n",
      "|\n",
      "|  Run # 1     ARC run:      icesat2_2018313.01_24hr.jb2008.CD_2p5\n",
      "+ ——————————————————————————————————————————————————————————————————————————————————————————————————————————————\n"
     ]
    },
    {
     "ename": "FileNotFoundError",
     "evalue": "[Errno 2] No such file or directory: '/data/geodyn_proj/pygeodyn/temp_runfiles/geodyn_options.txt'",
     "output_type": "error",
     "traceback": [
      "\u001b[0;31m---------------------------------------------------------------------------\u001b[0m",
      "\u001b[0;31mFileNotFoundError\u001b[0m                         Traceback (most recent call last)",
      "\u001b[0;32m<ipython-input-2-67c321322355>\u001b[0m in \u001b[0;36m<module>\u001b[0;34m\u001b[0m\n\u001b[1;32m     11\u001b[0m \u001b[0;31m### Load the data into an object\u001b[0m\u001b[0;34m\u001b[0m\u001b[0;34m\u001b[0m\u001b[0;34m\u001b[0m\u001b[0m\n\u001b[1;32m     12\u001b[0m \u001b[0mRunObject\u001b[0m \u001b[0;34m=\u001b[0m \u001b[0mPygeodyn\u001b[0m\u001b[0;34m(\u001b[0m\u001b[0mrun_settings\u001b[0m\u001b[0;34m,\u001b[0m \u001b[0myamlpath\u001b[0m\u001b[0;34m=\u001b[0m\u001b[0;32mFalse\u001b[0m\u001b[0;34m)\u001b[0m\u001b[0;34m\u001b[0m\u001b[0;34m\u001b[0m\u001b[0m\n\u001b[0;32m---> 13\u001b[0;31m \u001b[0mRunObject\u001b[0m\u001b[0;34m.\u001b[0m\u001b[0mRUN_GEODYN\u001b[0m\u001b[0;34m(\u001b[0m\u001b[0;34m)\u001b[0m\u001b[0;34m\u001b[0m\u001b[0;34m\u001b[0m\u001b[0m\n\u001b[0m\u001b[1;32m     14\u001b[0m \u001b[0mRunObject\u001b[0m \u001b[0;34m=\u001b[0m \u001b[0;36m0\u001b[0m\u001b[0;34m\u001b[0m\u001b[0;34m\u001b[0m\u001b[0m\n\u001b[1;32m     15\u001b[0m \u001b[0mgc\u001b[0m\u001b[0;34m.\u001b[0m\u001b[0mcollect\u001b[0m\u001b[0;34m(\u001b[0m\u001b[0;34m)\u001b[0m\u001b[0;34m\u001b[0m\u001b[0;34m\u001b[0m\u001b[0m\n",
      "\u001b[0;32m/data/SatDragModelValidation/pygeodyn/pygeodyn/control.py\u001b[0m in \u001b[0;36mRUN_GEODYN\u001b[0;34m(self)\u001b[0m\n\u001b[1;32m   1627\u001b[0m                 \u001b[0mself\u001b[0m\u001b[0;34m.\u001b[0m\u001b[0mctrlStage3_print_to_notebook\u001b[0m\u001b[0;34m(\u001b[0m\u001b[0;34m)\u001b[0m\u001b[0;34m\u001b[0m\u001b[0;34m\u001b[0m\u001b[0m\n\u001b[1;32m   1628\u001b[0m                 \u001b[0mself\u001b[0m\u001b[0;34m.\u001b[0m\u001b[0mctrlStage4_populate_tmpdir_for_run\u001b[0m\u001b[0;34m(\u001b[0m\u001b[0;34m)\u001b[0m\u001b[0;34m\u001b[0m\u001b[0;34m\u001b[0m\u001b[0m\n\u001b[0;32m-> 1629\u001b[0;31m                 \u001b[0mself\u001b[0m\u001b[0;34m.\u001b[0m\u001b[0mctrlStage5_execute_geodyn_in_tmpdir\u001b[0m\u001b[0;34m(\u001b[0m\u001b[0;34m)\u001b[0m\u001b[0;34m\u001b[0m\u001b[0;34m\u001b[0m\u001b[0m\n\u001b[0m\u001b[1;32m   1630\u001b[0m                 \u001b[0mself\u001b[0m\u001b[0;34m.\u001b[0m\u001b[0mctrlStage6_save_rawoutputs_and_cleanup\u001b[0m\u001b[0;34m(\u001b[0m\u001b[0;34m)\u001b[0m\u001b[0;34m\u001b[0m\u001b[0;34m\u001b[0m\u001b[0m\n\u001b[1;32m   1631\u001b[0m \u001b[0;34m\u001b[0m\u001b[0m\n",
      "\u001b[0;32m/data/SatDragModelValidation/pygeodyn/pygeodyn/control.py\u001b[0m in \u001b[0;36mctrlStage5_execute_geodyn_in_tmpdir\u001b[0;34m(self)\u001b[0m\n\u001b[1;32m    506\u001b[0m \u001b[0;34m\u001b[0m\u001b[0m\n\u001b[1;32m    507\u001b[0m         \u001b[0;31m#### Before running GEODYN, populate the geodyn_options.txt file with the run options:\u001b[0m\u001b[0;34m\u001b[0m\u001b[0;34m\u001b[0m\u001b[0;34m\u001b[0m\u001b[0m\n\u001b[0;32m--> 508\u001b[0;31m         \u001b[0mself\u001b[0m\u001b[0;34m.\u001b[0m\u001b[0mgeodyn_modify_inputs\u001b[0m\u001b[0;34m(\u001b[0m\u001b[0mself\u001b[0m\u001b[0;34m.\u001b[0m\u001b[0mDRHODZ_update\u001b[0m\u001b[0;34m,\u001b[0m \u001b[0mself\u001b[0m\u001b[0;34m.\u001b[0m\u001b[0mden_model\u001b[0m\u001b[0;34m)\u001b[0m\u001b[0;34m\u001b[0m\u001b[0;34m\u001b[0m\u001b[0m\n\u001b[0m\u001b[1;32m    509\u001b[0m \u001b[0;34m\u001b[0m\u001b[0m\n\u001b[1;32m    510\u001b[0m         \u001b[0;31m#### Run the IIS (geodyn II-Scheduler) executable\u001b[0m\u001b[0;34m\u001b[0m\u001b[0;34m\u001b[0m\u001b[0;34m\u001b[0m\u001b[0m\n",
      "\u001b[0;32m/data/SatDragModelValidation/pygeodyn/pygeodyn/util_classtools.py\u001b[0m in \u001b[0;36mgeodyn_modify_inputs\u001b[0;34m(self, DRHODZ_update, density_model)\u001b[0m\n\u001b[1;32m    198\u001b[0m         \u001b[0;31m####  Save the options to a file (overwrite it) to be read into the GEODYN fortran code\u001b[0m\u001b[0;34m\u001b[0m\u001b[0;34m\u001b[0m\u001b[0;34m\u001b[0m\u001b[0m\n\u001b[1;32m    199\u001b[0m         \u001b[0;31m####\u001b[0m\u001b[0;34m\u001b[0m\u001b[0;34m\u001b[0m\u001b[0;34m\u001b[0m\u001b[0m\n\u001b[0;32m--> 200\u001b[0;31m         \u001b[0mfile1\u001b[0m \u001b[0;34m=\u001b[0m \u001b[0mopen\u001b[0m\u001b[0;34m(\u001b[0m\u001b[0;34m\"/data/geodyn_proj/pygeodyn/temp_runfiles/geodyn_options.txt\"\u001b[0m\u001b[0;34m,\u001b[0m\u001b[0;34m\"w+\"\u001b[0m\u001b[0;34m)\u001b[0m\u001b[0;34m\u001b[0m\u001b[0;34m\u001b[0m\u001b[0m\n\u001b[0m\u001b[1;32m    201\u001b[0m         \u001b[0mfile1\u001b[0m\u001b[0;34m.\u001b[0m\u001b[0mwritelines\u001b[0m\u001b[0;34m(\u001b[0m\u001b[0mdrhodz_val\u001b[0m\u001b[0;34m+\u001b[0m\u001b[0;34m'\\n'\u001b[0m\u001b[0;34m)\u001b[0m \u001b[0;31m# first value is for DrhoDz\u001b[0m\u001b[0;34m\u001b[0m\u001b[0;34m\u001b[0m\u001b[0m\n\u001b[1;32m    202\u001b[0m         \u001b[0mfile1\u001b[0m\u001b[0;34m.\u001b[0m\u001b[0mwritelines\u001b[0m\u001b[0;34m(\u001b[0m\u001b[0mmodel_val\u001b[0m \u001b[0;34m+\u001b[0m\u001b[0;34m'\\n'\u001b[0m\u001b[0;34m)\u001b[0m \u001b[0;31m# 2nd values is for model switching\u001b[0m\u001b[0;34m\u001b[0m\u001b[0;34m\u001b[0m\u001b[0m\n",
      "\u001b[0;31mFileNotFoundError\u001b[0m: [Errno 2] No such file or directory: '/data/geodyn_proj/pygeodyn/temp_runfiles/geodyn_options.txt'"
     ]
    }
   ],
   "source": [
    "# # import pygeodyn\n",
    "# # from pygeodyn.config_paths import *\n",
    "# from pygeodyn.config_paths\n",
    "\n",
    "# import pygeodyn\n",
    "from pygeodyn.PYGEODYN import Pygeodyn\n",
    "\n",
    "\n",
    "# run_settings = \"/data/zach_work/O2R_spire/run_files/spire_jb2008_test1.yaml\"\n",
    "# run_settings = \"/data/SatDragModelValidation/notebooks/Paper2022_assessment/runsetting_PhysicalCDasFixedValue/CD_2.5/jb2008_BWDRAG_Cd2.5.yaml\"\n",
    "### Load the data into an object\n",
    "RunObject = Pygeodyn(run_settings, yamlpath=False)\n",
    "RunObject.RUN_GEODYN()\n",
    "RunObject = 0\n",
    "gc.collect()\n"
   ]
  },
  {
   "cell_type": "code",
   "execution_count": null,
   "id": "59b867ba",
   "metadata": {
    "ExecuteTime": {
     "end_time": "2022-12-13T22:42:08.117632Z",
     "start_time": "2022-12-13T22:41:44.594Z"
    }
   },
   "outputs": [],
   "source": [
    "from pygeodyn.config_paths import path_pygeodyn\n",
    "str(path_pygeodyn)"
   ]
  },
  {
   "cell_type": "code",
   "execution_count": null,
   "id": "7abf5a59",
   "metadata": {
    "ExecuteTime": {
     "end_time": "2022-12-13T17:00:31.971941Z",
     "start_time": "2022-12-13T17:00:31.967345Z"
    }
   },
   "outputs": [],
   "source": [
    "\n"
   ]
  },
  {
   "cell_type": "code",
   "execution_count": null,
   "id": "c24de3be",
   "metadata": {},
   "outputs": [],
   "source": []
  }
 ],
 "metadata": {
  "kernelspec": {
   "display_name": "Python 3",
   "language": "python",
   "name": "python3"
  },
  "language_info": {
   "codemirror_mode": {
    "name": "ipython",
    "version": 3
   },
   "file_extension": ".py",
   "mimetype": "text/x-python",
   "name": "python",
   "nbconvert_exporter": "python",
   "pygments_lexer": "ipython3",
   "version": "3.8.8"
  },
  "toc": {
   "base_numbering": 1,
   "nav_menu": {},
   "number_sections": true,
   "sideBar": true,
   "skip_h1_title": false,
   "title_cell": "Table of Contents",
   "title_sidebar": "Contents",
   "toc_cell": false,
   "toc_position": {},
   "toc_section_display": true,
   "toc_window_display": false
  },
  "varInspector": {
   "cols": {
    "lenName": 16,
    "lenType": 16,
    "lenVar": 40
   },
   "kernels_config": {
    "python": {
     "delete_cmd_postfix": "",
     "delete_cmd_prefix": "del ",
     "library": "var_list.py",
     "varRefreshCmd": "print(var_dic_list())"
    },
    "r": {
     "delete_cmd_postfix": ") ",
     "delete_cmd_prefix": "rm(",
     "library": "var_list.r",
     "varRefreshCmd": "cat(var_dic_list()) "
    }
   },
   "types_to_exclude": [
    "module",
    "function",
    "builtin_function_or_method",
    "instance",
    "_Feature"
   ],
   "window_display": false
  }
 },
 "nbformat": 4,
 "nbformat_minor": 5
}
