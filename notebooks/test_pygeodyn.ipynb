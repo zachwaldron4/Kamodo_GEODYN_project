{
 "cells": [
  {
   "cell_type": "markdown",
   "id": "eaca1c05",
   "metadata": {},
   "source": [
    "# Run Pygeodyn"
   ]
  },
  {
   "cell_type": "code",
   "execution_count": 1,
   "id": "564ab7bb",
   "metadata": {
    "ExecuteTime": {
     "end_time": "2022-12-14T21:06:24.614845Z",
     "start_time": "2022-12-14T21:06:24.611622Z"
    }
   },
   "outputs": [],
   "source": [
    "run_settings= '''\n",
    "---\n",
    "###  Run Settings \n",
    "#\n",
    "user                       : 'Zach Waldron'                                     \n",
    "\n",
    "den_model                  : 'jb2008'  \n",
    "cd_model                   : 'BWDRAG'  \n",
    "run_specifier   : '_test_infrastruc'  \n",
    "arc_length                 : '24hr'\n",
    "file_string                : 'CD_2p5'\n",
    "satellite                  : 'icesat2' \n",
    "geodyn_StepSize            : 60.\n",
    "\n",
    "####  Fixed CD value (#.######)\n",
    "cd_value : 2.500000\n",
    "scaling_factor : False\n",
    "\n",
    "#### ADJUST THE CD\n",
    "cd_adjustment_boolean   :   False\n",
    "total_hours_in_run      :   24\n",
    "hours_between_cd_adj    :   6\n",
    "\n",
    "##### CHOOSE GEODYN VERSION:\n",
    "GEODYN_iie_MOD_version      : 'CD_model_proj'\n",
    "recompile_on                :  False\n",
    "save_drag_file              :  True\n",
    "save_accel_file             :  True\n",
    "PASS_INPUT_VALUE_TO_fortran :  'None'\n",
    "\n",
    "### IDENTIFY ARCS   (YYYY.DDD)\n",
    "arc                 : [ '2018.313']\n",
    "epoch_start         : [ '181109 000000.0000000']\n",
    "epoch_end           : [ '181110 000000.0000000']\n",
    "\n",
    "request_data :  ['Trajectory_orbfil',\n",
    "                'Density',\n",
    "                'DragFile',\n",
    "                'Residuals_summary', \n",
    "                'AdjustedParams',\n",
    "                                  ]\n",
    "                                                 \n",
    "### SETUP FILE OPTIONS \n",
    "accels                    :  False\n",
    "empirical_accels          :  False, \n",
    "ACCELS                    : 'acceloff'\n",
    "cards_to_remove           : [ 'ACCEL9',\n",
    "                              'ORBTVU',\n",
    "                              'RESID',\n",
    "                              'CON9PA',]\n",
    "                  \n",
    "#### USER AUXILLIARY OPTIONS\n",
    "verbose         :  True\n",
    "DRHODZ_update   :  True     #### Use the updated DRHODZ calculation? (recommended)\n",
    "\n",
    "#### ----------------------------------------------------------------------------\n",
    "#### Options that are hardcoded defaults for ICESAT2 class\n",
    "#### ----------------------------------------------------------------------------\n",
    "#### The name of the satellite\n",
    "#### Satellites COSPAR ID number\n",
    "satellite_id          : '1807001'\n",
    "#### Datatype being used as tracking data\n",
    "DATA_TYPE      : 'PCE'\n",
    "#### ----------------------------------------------------------------------------\n",
    "####### File Choices:\n",
    "#### G2B file name\n",
    "filename_g2b       : 'g2b_pce_fullset_nomaneuver'  \n",
    "#### Atmospheric Gravity file name\n",
    "filename_atmograv    : 'ATGRAV.glo-3HR_20160101-PRESENT_9999_AOD1B_0006.0090'\n",
    "#### Planetary Ephemeris file name\n",
    "filename_ephem     : 'ephem1430.data_2025'\n",
    "#### Gravity field file name\n",
    "filename_gravfield : 'eigen-6c.gfc_20080101_do_200_fix.grv'\n",
    "#### PCE Ascii textfile name\n",
    "StateVector_epochs_datafile  : '/data/SatDragModelValidation/data/inputs/sat_icesat2/setups/PCE_ascii.txt'\n",
    "'''\n"
   ]
  },
  {
   "cell_type": "code",
   "execution_count": 2,
   "id": "b95d413d",
   "metadata": {
    "ExecuteTime": {
     "end_time": "2022-12-14T21:08:45.420942Z",
     "start_time": "2022-12-14T21:06:24.617617Z"
    },
    "scrolled": false
   },
   "outputs": [
    {
     "name": "stdout",
     "output_type": "stream",
     "text": [
      "Original -- make_output_and_temprun_directories()\n",
      "     SELECT data data from:        181109000100.0000000 181109235900.0000000\n",
      "     ORBFIL will print data from:  181109000100.0 181109235900.00\n",
      "   Using a CD value of  2.5\n",
      "   Running without DRAG time dependence\n",
      "     PCE Update:\n",
      "          ELEMS11             -845763.0695351199  -6674724.992279883  1338490.8992990144  \n",
      "          ELEMS2              -66.99617923903894  1518.9961368812276  7472.270183101343   \n",
      "Original -- ctrlStage3_print_to_notebook()\n",
      "=================================================\n",
      "                VERBOSE OPTION ON                \n",
      "=================================================\n",
      "\n",
      "        Current DIR:  /data/SatDragModelValidation/pygeodyn/pygeodyn\n",
      "Run # 1     Current Time =      14:06:31  GMT-7\n",
      "Run # 1\n",
      "+ ——————————————————————————————————————————————————————————————————————————————————————————————————————————————\n",
      "|\n",
      "| ---------------------- RUN PARAMETERS  ----------------------\n",
      "|\n",
      "|  Run # 1     IISSET Cleaned      tmp/.../cleaned_setup_2018313.01\n",
      "|  Run # 1     Density Model:      jb2008\n",
      "|  Run # 1     /data    /SatDragModelValidation/...\n",
      "|                     .../data/outputs_raw/jb2008/jb2008_BWDRAG_test_infrastruc\n",
      "|  Run # 1     EXAT File:          /data/SatDragModelValidation/data/inputs/sat_icesat2/external_attitude/EXAT01.2018.313.gz\n",
      "|\n",
      "|  Run # 1     Epoch Start:  2018-11-09 00:00:00\n",
      "|  Run # 1     Epoch End:    2018-11-10 00:00:00\n",
      "|  Run # 1     Step Size:    60.0\n",
      "|\n",
      "|  Run # 1     ARC run:      icesat2_2018313.01_24hr.jb2008.CD_2p5\n",
      "+ ——————————————————————————————————————————————————————————————————————————————————————————————————————————————\n",
      "-------------------------------------------------\n",
      "       Linking files with the command line       \n",
      "-------------------------------------------------\n",
      "        Current DIR /data/SatDragModelValidation/data/tmp/jb2008_BWDRAG_test_infrastruc/icesat2_2018313.01_24hr.jb2008.CD_2p5\n",
      "        copied:   exat file  > EXAT01.gz\n",
      "        copied:   /data/SatDragModelValidation/data/inputs/sat_icesat2/external_attitude/EXAT01.2018.313.gz > EXAT01.gz\n",
      "        copied:   g2b file   > ftn40\n",
      "        copied:   grav field > ftn12\n",
      "        copied:   ephem file > ftn01\n",
      "        copied:   gdntable   > ftn02\n",
      "        copied:  atgrav     > fort.18\n",
      "        copying          : iieout file\n",
      "        copying          : giis.input file\n",
      "-------------------------------------------------------------------------\n",
      "-------------------------------------------------------------------------\n",
      "        gunzipping the input data files\n",
      "\n",
      "Run # 1          Running IIS\n",
      "Run # 1          No errors in IIS\n",
      "Run # 1 ---------End of IIS\n",
      "\n",
      "Run # 1          Running IIE\n",
      "Run # 1          Current Time = 14:07:27 GMT-7\n",
      " ------ Current DIR:  /data/SatDragModelValidation/data/tmp/jb2008_BWDRAG_test_infrastruc/icesat2_2018313.01_24hr.jb2008.CD_2p5\n",
      "Run # 1          No errors in IIE\n",
      "Run # 1 ---------End of IIE\n",
      "Run # 1          Time of IIE:  76.05396151542664 secs ( 1.2675660252571106  mins)\n",
      "Run # 1          Current Time = 21:08:44\n",
      "Original -- ctrlStage6_save_rawoutputs_and_cleanup()\n",
      "ctrlStage6_save_rawoutputs_and_cleanup /data/SatDragModelValidation/data/tmp/jb2008_BWDRAG_test_infrastruc/icesat2_2018313.01_24hr.jb2008.CD_2p5\n",
      "File is not in Run # 1 : fort.8 -- ascii_xyz\n",
      "File is not in Run # 1 : fort.10 -- ascii_kep\n",
      "File is not in Run # 1 : fort.31 -- orbfil2\n",
      "File is not in Run # 1 : fort.98 -- msisin_file_ephem\n",
      "File is not in Run # 1 : fort.101 -- msisin_file_gpiflux\n",
      "Saving fort.103 as drag_file\n",
      "Saving fort.104 as SatGeometry_file\n",
      "Run # 1                Finished renaming files\n",
      "Run # 1                Finished copying files to outputdir\n"
     ]
    },
    {
     "data": {
      "text/plain": [
       "0"
      ]
     },
     "execution_count": 2,
     "metadata": {},
     "output_type": "execute_result"
    }
   ],
   "source": [
    "# # import pygeodyn\n",
    "# # from pygeodyn.config_paths import *\n",
    "# from pygeodyn.config_paths\n",
    "\n",
    "# import pygeodyn\n",
    "from pygeodyn.PYGEODYN import Pygeodyn\n",
    "from gc import collect as gc_collect\n",
    "\n",
    "# run_settings = \"/data/zach_work/O2R_spire/run_files/spire_jb2008_test1.yaml\"\n",
    "# run_settings = \"/data/SatDragModelValidation/notebooks/Paper2022_assessment/runsetting_PhysicalCDasFixedValue/CD_2.5/jb2008_BWDRAG_Cd2.5.yaml\"\n",
    "### Load the data into an object\n",
    "RunObject = Pygeodyn(run_settings, yamlpath=False)\n",
    "RunObject.RUN_GEODYN()\n",
    "RunObject = 0\n",
    "gc_collect()\n"
   ]
  },
  {
   "cell_type": "code",
   "execution_count": 3,
   "id": "59b867ba",
   "metadata": {
    "ExecuteTime": {
     "end_time": "2022-12-14T21:08:45.436669Z",
     "start_time": "2022-12-14T21:08:45.423852Z"
    }
   },
   "outputs": [
    {
     "data": {
      "text/plain": [
       "'/data/SatDragModelValidation/pygeodyn/pygeodyn'"
      ]
     },
     "execution_count": 3,
     "metadata": {},
     "output_type": "execute_result"
    }
   ],
   "source": [
    "from pygeodyn.config_paths import path_pygeodyn\n",
    "str(path_pygeodyn)"
   ]
  },
  {
   "cell_type": "code",
   "execution_count": null,
   "id": "7abf5a59",
   "metadata": {
    "ExecuteTime": {
     "end_time": "2022-12-13T17:00:31.971941Z",
     "start_time": "2022-12-13T17:00:31.967345Z"
    }
   },
   "outputs": [],
   "source": [
    "\n"
   ]
  },
  {
   "cell_type": "code",
   "execution_count": null,
   "id": "c24de3be",
   "metadata": {},
   "outputs": [],
   "source": []
  }
 ],
 "metadata": {
  "kernelspec": {
   "display_name": "Python 3",
   "language": "python",
   "name": "python3"
  },
  "language_info": {
   "codemirror_mode": {
    "name": "ipython",
    "version": 3
   },
   "file_extension": ".py",
   "mimetype": "text/x-python",
   "name": "python",
   "nbconvert_exporter": "python",
   "pygments_lexer": "ipython3",
   "version": "3.8.8"
  },
  "toc": {
   "base_numbering": 1,
   "nav_menu": {},
   "number_sections": true,
   "sideBar": true,
   "skip_h1_title": false,
   "title_cell": "Table of Contents",
   "title_sidebar": "Contents",
   "toc_cell": false,
   "toc_position": {},
   "toc_section_display": true,
   "toc_window_display": false
  },
  "varInspector": {
   "cols": {
    "lenName": 16,
    "lenType": 16,
    "lenVar": 40
   },
   "kernels_config": {
    "python": {
     "delete_cmd_postfix": "",
     "delete_cmd_prefix": "del ",
     "library": "var_list.py",
     "varRefreshCmd": "print(var_dic_list())"
    },
    "r": {
     "delete_cmd_postfix": ") ",
     "delete_cmd_prefix": "rm(",
     "library": "var_list.r",
     "varRefreshCmd": "cat(var_dic_list()) "
    }
   },
   "types_to_exclude": [
    "module",
    "function",
    "builtin_function_or_method",
    "instance",
    "_Feature"
   ],
   "window_display": false
  }
 },
 "nbformat": 4,
 "nbformat_minor": 5
}
