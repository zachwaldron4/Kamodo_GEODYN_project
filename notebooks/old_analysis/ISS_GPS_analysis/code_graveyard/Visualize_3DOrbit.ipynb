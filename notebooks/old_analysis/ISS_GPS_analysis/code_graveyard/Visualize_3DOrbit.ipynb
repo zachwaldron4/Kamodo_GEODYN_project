{
 "cells": [
  {
   "cell_type": "code",
   "execution_count": 5,
   "metadata": {},
   "outputs": [],
   "source": [
    "import numpy as np\n",
    "import pandas as pd\n",
    "import datetime\n",
    "%matplotlib inline\n",
    "import matplotlib.pyplot as plt\n",
    "from matplotlib import rc\n",
    "import matplotlib as mpl\n",
    "import os.path\n",
    "import linecache"
   ]
  },
  {
   "cell_type": "code",
   "execution_count": 12,
   "metadata": {},
   "outputs": [
    {
     "name": "stdout",
     "output_type": "stream",
     "text": [
      "The autoreload extension is already loaded. To reload it, use:\n",
      "  %reload_ext autoreload\n",
      "True\n",
      "True\n"
     ]
    }
   ],
   "source": [
    "%load_ext autoreload\n",
    "%autoreload 2\n",
    "\n",
    "\n",
    "##################################\n",
    "# INPUT PARAMETERS:\n",
    "##################################\n",
    "\n",
    "\n",
    "##################################\n",
    "# PATH TO DENSITY MODEL RUN of Choice:\n",
    "##################################\n",
    "\n",
    "runs_path = '/data/runs_geodyn/iss/MSIS86_run/'\n",
    "ascii_xyz_file = runs_path + 'ascii_xyz'\n",
    "iieout_file    = runs_path + 'iieout'\n",
    "\n",
    "print(os.path.isfile(ascii_xyz_file) )\n",
    "print(os.path.isfile(iieout_file) )\n",
    "import sys  \n",
    "sys.path.insert(0, '/data/analysis/notebooks/util_funcs/')"
   ]
  },
  {
   "cell_type": "code",
   "execution_count": 13,
   "metadata": {},
   "outputs": [
    {
     "name": "stdout",
     "output_type": "stream",
     "text": [
      "The autoreload extension is already loaded. To reload it, use:\n",
      "  %reload_ext autoreload\n",
      "6163016\n",
      "5461024\n",
      "9946114\n",
      "5658125\n",
      "9743134\n",
      "5041144\n",
      "5755155\n",
      "5356164\n",
      "5553175\n",
      "6834183\n",
      "5459194\n",
      "5051204\n",
      "6469036\n",
      "5345214\n",
      "5347224\n",
      "5460234\n",
      "6265246\n",
      "6062256\n",
      "6571266\n",
      "6366276\n",
      "5044284\n",
      "5757295\n",
      "6464306\n",
      "5652315\n",
      "6670326\n",
      "5950055\n",
      "6467066\n",
      "5848075\n",
      "6572086\n",
      "6468096\n",
      "6573106\n",
      "Loop through and extract indiv date vals: 0.016956806182861328\n",
      "Fix decimals in the seconds column: 0.017985820770263672\n",
      "Put all dates in a single column: 0.01856231689453125\n"
     ]
    },
    {
     "name": "stderr",
     "output_type": "stream",
     "text": [
      "/data/analysis/notebooks/util_funcs/Read_GEODYN_output.py:240: SettingWithCopyWarning: \n",
      "A value is trying to be set on a copy of a slice from a DataFrame.\n",
      "Try using .loc[row_indexer,col_indexer] = value instead\n",
      "\n",
      "See the caveats in the documentation: https://pandas.pydata.org/pandas-docs/stable/user_guide/indexing.html#returning-a-view-versus-a-copy\n",
      "  isat_data['timeHHMM'] = timeHHMM\n",
      "/data/analysis/notebooks/util_funcs/Read_GEODYN_output.py:260: SettingWithCopyWarning: \n",
      "A value is trying to be set on a copy of a slice from a DataFrame.\n",
      "Try using .loc[row_indexer,col_indexer] = value instead\n",
      "\n",
      "See the caveats in the documentation: https://pandas.pydata.org/pandas-docs/stable/user_guide/indexing.html#returning-a-view-versus-a-copy\n",
      "  isat_data['year']  = year\n",
      "/data/analysis/notebooks/util_funcs/Read_GEODYN_output.py:261: SettingWithCopyWarning: \n",
      "A value is trying to be set on a copy of a slice from a DataFrame.\n",
      "Try using .loc[row_indexer,col_indexer] = value instead\n",
      "\n",
      "See the caveats in the documentation: https://pandas.pydata.org/pandas-docs/stable/user_guide/indexing.html#returning-a-view-versus-a-copy\n",
      "  isat_data['month'] = month\n",
      "/data/analysis/notebooks/util_funcs/Read_GEODYN_output.py:262: SettingWithCopyWarning: \n",
      "A value is trying to be set on a copy of a slice from a DataFrame.\n",
      "Try using .loc[row_indexer,col_indexer] = value instead\n",
      "\n",
      "See the caveats in the documentation: https://pandas.pydata.org/pandas-docs/stable/user_guide/indexing.html#returning-a-view-versus-a-copy\n",
      "  isat_data['day']   = day\n",
      "/data/analysis/notebooks/util_funcs/Read_GEODYN_output.py:263: SettingWithCopyWarning: \n",
      "A value is trying to be set on a copy of a slice from a DataFrame.\n",
      "Try using .loc[row_indexer,col_indexer] = value instead\n",
      "\n",
      "See the caveats in the documentation: https://pandas.pydata.org/pandas-docs/stable/user_guide/indexing.html#returning-a-view-versus-a-copy\n",
      "  isat_data['hours']  = hours\n",
      "/data/analysis/notebooks/util_funcs/Read_GEODYN_output.py:264: SettingWithCopyWarning: \n",
      "A value is trying to be set on a copy of a slice from a DataFrame.\n",
      "Try using .loc[row_indexer,col_indexer] = value instead\n",
      "\n",
      "See the caveats in the documentation: https://pandas.pydata.org/pandas-docs/stable/user_guide/indexing.html#returning-a-view-versus-a-copy\n",
      "  isat_data['minutes'] = minutes\n",
      "/data/analysis/notebooks/util_funcs/Read_GEODYN_output.py:265: SettingWithCopyWarning: \n",
      "A value is trying to be set on a copy of a slice from a DataFrame.\n",
      "Try using .loc[row_indexer,col_indexer] = value instead\n",
      "\n",
      "See the caveats in the documentation: https://pandas.pydata.org/pandas-docs/stable/user_guide/indexing.html#returning-a-view-versus-a-copy\n",
      "  isat_data['secs']  = secs\n",
      "/data/analysis/notebooks/util_funcs/Read_GEODYN_output.py:207: SettingWithCopyWarning: \n",
      "A value is trying to be set on a copy of a slice from a DataFrame.\n",
      "Try using .loc[row_indexer,col_indexer] = value instead\n",
      "\n",
      "See the caveats in the documentation: https://pandas.pydata.org/pandas-docs/stable/user_guide/indexing.html#returning-a-view-versus-a-copy\n",
      "  data_dict[isat]['Date'] = date_isat\n"
     ]
    }
   ],
   "source": [
    "%load_ext autoreload\n",
    "%autoreload 2\n",
    "\n",
    "import Read_GEODYN_output\n",
    "\n",
    "isat = 5658125\n",
    "\n",
    "read_ascii_xyz = Read_GEODYN_output.read_ascii_xyz(ascii_xyz_file, iieout_file , isat )\n",
    "data_dict = read_ascii_xyz.get_single_sat_data()"
   ]
  },
  {
   "cell_type": "code",
   "execution_count": 19,
   "metadata": {},
   "outputs": [
    {
     "data": {
      "text/plain": [
       "0    158.131685\n",
       "0    159.160338\n",
       "0    160.648433\n",
       "0    162.777910\n",
       "0    165.773447\n",
       "        ...    \n",
       "0    243.515320\n",
       "0    244.939519\n",
       "0    245.910054\n",
       "0    246.571285\n",
       "0    247.043787\n",
       "Name: LONG, Length: 129, dtype: float64"
      ]
     },
     "execution_count": 19,
     "metadata": {},
     "output_type": "execute_result"
    }
   ],
   "source": [
    "data_dict[5658125]['LONG'].astype(float)"
   ]
  },
  {
   "cell_type": "code",
   "execution_count": null,
   "metadata": {},
   "outputs": [],
   "source": []
  },
  {
   "cell_type": "code",
   "execution_count": null,
   "metadata": {},
   "outputs": [],
   "source": []
  },
  {
   "cell_type": "code",
   "execution_count": null,
   "metadata": {},
   "outputs": [],
   "source": []
  },
  {
   "cell_type": "code",
   "execution_count": null,
   "metadata": {},
   "outputs": [],
   "source": []
  },
  {
   "cell_type": "code",
   "execution_count": 28,
   "metadata": {},
   "outputs": [
    {
     "data": {
      "text/plain": [
       "[Text(0, 0.5, 'Longitude')]"
      ]
     },
     "execution_count": 28,
     "metadata": {},
     "output_type": "execute_result"
    },
    {
     "data": {
      "image/png": "[encoded data removed]",
      "text/plain": [
       "<Figure size 864x720 with 1 Axes>"
      ]
     },
     "metadata": {
      "needs_background": "light"
     },
     "output_type": "display_data"
    }
   ],
   "source": [
    "\n",
    "# mpl.rcParams['lines.markersize'] = 3\n",
    "# plt.rcParams['axes.grid'] = True\n",
    "# plt.rcParams['grid.alpha'] = 10\n",
    "# plt.rcParams['grid.color'] = \"#cccccc\"\n",
    "# plt.rcParams.update({'font.size': 16})\n",
    "# rc('font',**{'family':'sans-serif','sans-serif':['Calibri']})\n",
    "# plt.rcParams['axes.titlesize']='large' \n",
    "# plt.rcParams['axes.titlepad']= 3\n",
    "# rc('text', usetex=False)\n",
    "# plt.rcParams[\"legend.loc\"] = 'best'\n",
    "\n",
    "# color86 = 'tab:blue'\n",
    "# color71 = 'tab:red'\n",
    "# color87 = 'tab:green'\n",
    "\n",
    "# fig, ( ax1) = plt.subplots( 1, figsize=(12,10), sharex=False)\n",
    "\n",
    "# # ax1.set_title(r''+choose_sat+' Orbit')\n",
    "# ax1.plot(data_dict[5658125]['LONG'].astype(float),data_dict[5658125]['LAT'].astype(float)  ,'.', ms=10)\n",
    "# ax1.set(ylabel=  'Latitude')  \n",
    "# ax1.set(ylabel=  'Longitude')  \n",
    "\n",
    "\n",
    "# # ax2.plot(,  ,'.', label = 'DTM')\n",
    "\n",
    "# # fig.tight_layout( pad=2.0)\n",
    "# # for ax in fig.axes:\n",
    "# #     plt.sca(ax)\n",
    "# #     plt.xticks(rotation=45)\n",
    "        "
   ]
  },
  {
   "cell_type": "code",
   "execution_count": null,
   "metadata": {},
   "outputs": [],
   "source": []
  }
 ],
 "metadata": {
  "kernelspec": {
   "display_name": "Python 3",
   "language": "python",
   "name": "python3"
  },
  "language_info": {
   "codemirror_mode": {
    "name": "ipython",
    "version": 3
   },
   "file_extension": ".py",
   "mimetype": "text/x-python",
   "name": "python",
   "nbconvert_exporter": "python",
   "pygments_lexer": "ipython3",
   "version": "3.8.5"
  }
 },
 "nbformat": 4,
 "nbformat_minor": 4
}
