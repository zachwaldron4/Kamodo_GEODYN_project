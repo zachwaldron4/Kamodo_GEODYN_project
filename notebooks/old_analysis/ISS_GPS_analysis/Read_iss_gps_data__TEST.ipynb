{
 "cells": [
  {
   "cell_type": "markdown",
   "metadata": {
    "id": "iwA1lhIZp7g4"
   },
   "source": [
    "## Input the Parameters of the Starlette-SLR GEODYN run:"
   ]
  },
  {
   "cell_type": "code",
   "execution_count": 1,
   "metadata": {},
   "outputs": [],
   "source": [
    "import pandas as pd\n",
    "import numpy as np"
   ]
  },
  {
   "cell_type": "code",
   "execution_count": 2,
   "metadata": {},
   "outputs": [
    {
     "name": "stdout",
     "output_type": "stream",
     "text": [
      "total 346680\r\n",
      "-rw-rw-r--. 1 m_geodyn 354996479 Feb 22 22:40 iss190420_2dy.goco05s\r\n"
     ]
    }
   ],
   "source": [
    "ll /data/runs_geodyn/iss/results/msis2/msis2_accelon/IIEOUT/\n"
   ]
  },
  {
   "cell_type": "code",
   "execution_count": 5,
   "metadata": {},
   "outputs": [
    {
     "name": "stdout",
     "output_type": "stream",
     "text": [
      "ls: cannot access /data/runs_geodyn/ut: No such file or directory\r\n"
     ]
    }
   ],
   "source": [
    "ll /data/analysis/util_funcs/util_common/"
   ]
  },
  {
   "cell_type": "code",
   "execution_count": 6,
   "metadata": {},
   "outputs": [],
   "source": []
  },
  {
   "cell_type": "code",
   "execution_count": null,
   "metadata": {},
   "outputs": [],
   "source": [
    "make_datetime_column"
   ]
  },
  {
   "cell_type": "code",
   "execution_count": 3,
   "metadata": {
    "colab": {
     "base_uri": "https://localhost:8080/"
    },
    "executionInfo": {
     "elapsed": 521,
     "status": "ok",
     "timestamp": 1610413104781,
     "user": {
      "displayName": "Zach Waldron",
      "photoUrl": "https://lh3.googleusercontent.com/a-/AOh14GiCzdVXYLG9FLe6I24HOvjA1RBs2DVFXIEkOXNT=s64",
      "userId": "03255003422937377828"
     },
     "user_tz": 420
    },
    "id": "kiHxh_w9yQfp",
    "outputId": "2808bcf2-0814-4ac8-f585-d59ed00d200e"
   },
   "outputs": [],
   "source": [
    "\n",
    "########################\n",
    "# INPUT PARAMETERS:\n",
    "########################\n",
    "sat_file = 'iss'\n",
    "arc = '190420_2dy'\n",
    "grav_id ='goco05s' \n",
    "local_path = '/data/analysis/ISS_GPS_analysis/'\n",
    "SAT_ID = 9806701\n",
    "accel_card = 'accelon'\n",
    "\n",
    "\n",
    "#######################################\n",
    "# PATH TO DENSITY MODEL RUN of Choice:\n",
    "#######################################\n",
    "msis2_model = 'msis2'\n",
    "path_to_msis2 = '/data/runs_geodyn/'+sat_file+'/results/'+ msis2_model+'/'+ msis2_model+ '_' +accel_card+'/'\n",
    "\n"
   ]
  },
  {
   "cell_type": "markdown",
   "metadata": {
    "id": "5wBFhigzFaV7"
   },
   "source": [
    "### Call the prep-function that loads the data\n",
    "\n",
    "This may take a few minutes to load."
   ]
  },
  {
   "cell_type": "markdown",
   "metadata": {},
   "source": [
    "#### MSIS2"
   ]
  },
  {
   "cell_type": "code",
   "execution_count": 4,
   "metadata": {
    "colab": {
     "base_uri": "https://localhost:8080/"
    },
    "executionInfo": {
     "elapsed": 46682,
     "status": "ok",
     "timestamp": 1610413155447,
     "user": {
      "displayName": "Zach Waldron",
      "photoUrl": "https://lh3.googleusercontent.com/a-/AOh14GiCzdVXYLG9FLe6I24HOvjA1RBs2DVFXIEkOXNT=s64",
      "userId": "03255003422937377828"
     },
     "user_tz": 420
    },
    "id": "0mWARLwq6OiY",
    "outputId": "667aa347-c5a6-4602-de99-43634ae4e60b"
   },
   "outputs": [
    {
     "name": "stdout",
     "output_type": "stream",
     "text": [
      "The base file name for this arc is: iss190420_2dy.goco05s \n",
      "\n",
      "File exists: iieout \n",
      "        /data/runs_geodyn/iss/results/msis2/msis2_accelon/IIEOUT/iss190420_2dy.goco05s\n",
      "File exists: ascii_xyz \n",
      "        /data/runs_geodyn/iss/results/msis2/msis2_accelon/XYZ_TRAJ/iss190420_2dy.goco05s\n",
      "File exists: densityfil \n",
      "        /data/runs_geodyn/iss/results/msis2/msis2_accelon/DENSITY/iss190420_2dy.goco05s\n",
      "\n",
      " Loading data... \n",
      "\n"
     ]
    },
    {
     "ename": "ModuleNotFoundError",
     "evalue": "No module named 'datetime_column'",
     "output_type": "error",
     "traceback": [
      "\u001b[0;31m---------------------------------------------------------------\u001b[0m",
      "\u001b[0;31mModuleNotFoundError\u001b[0m           Traceback (most recent call last)",
      "\u001b[0;32m<ipython-input-4-472f21e6cab8>\u001b[0m in \u001b[0;36m<module>\u001b[0;34m\u001b[0m\n\u001b[1;32m      7\u001b[0m \u001b[0;32mfrom\u001b[0m \u001b[0ma_ReadISS\u001b[0m \u001b[0;32mimport\u001b[0m \u001b[0mReadISS\u001b[0m\u001b[0;34m\u001b[0m\u001b[0;34m\u001b[0m\u001b[0m\n\u001b[1;32m      8\u001b[0m \u001b[0;34m\u001b[0m\u001b[0m\n\u001b[0;32m----> 9\u001b[0;31m Trajectory, Density, Resids = ReadISS(arc, \n\u001b[0m\u001b[1;32m     10\u001b[0m                                        \u001b[0msat_file\u001b[0m\u001b[0;34m,\u001b[0m\u001b[0;34m\u001b[0m\u001b[0;34m\u001b[0m\u001b[0m\n\u001b[1;32m     11\u001b[0m                                        \u001b[0mgrav_id\u001b[0m\u001b[0;34m,\u001b[0m\u001b[0;34m\u001b[0m\u001b[0;34m\u001b[0m\u001b[0m\n",
      "\u001b[0;32m/data/analysis/util_funcs/py_geodynreader_gps/a_ReadISS.py\u001b[0m in \u001b[0;36mReadISS\u001b[0;34m(arc, sat_file, grav_id, local_path, path_to_data, AccelStatus, YR)\u001b[0m\n\u001b[1;32m     68\u001b[0m     \u001b[0;31m##        Read Trajectory\u001b[0m\u001b[0;34m\u001b[0m\u001b[0;34m\u001b[0m\u001b[0;34m\u001b[0m\u001b[0m\n\u001b[1;32m     69\u001b[0m     \u001b[0;31m######################################\u001b[0m\u001b[0;34m\u001b[0m\u001b[0;34m\u001b[0m\u001b[0;34m\u001b[0m\u001b[0m\n\u001b[0;32m---> 70\u001b[0;31m     \u001b[0;32mfrom\u001b[0m \u001b[0mb_ReadISS\u001b[0m \u001b[0;32mimport\u001b[0m \u001b[0mread_ascixyz_gps\u001b[0m\u001b[0;34m\u001b[0m\u001b[0;34m\u001b[0m\u001b[0m\n\u001b[0m\u001b[1;32m     71\u001b[0m \u001b[0;34m\u001b[0m\u001b[0m\n\u001b[1;32m     72\u001b[0m     \u001b[0mtrajectory_df\u001b[0m \u001b[0;34m=\u001b[0m \u001b[0mread_ascixyz_gps\u001b[0m\u001b[0;34m(\u001b[0m\u001b[0mascii_xyz_file\u001b[0m\u001b[0;34m,\u001b[0m \u001b[0mYR\u001b[0m\u001b[0;34m)\u001b[0m\u001b[0;34m\u001b[0m\u001b[0;34m\u001b[0m\u001b[0m\n",
      "\u001b[0;32m/data/analysis/util_funcs/py_geodynreader_gps/b_ReadISS.py\u001b[0m in \u001b[0;36m<module>\u001b[0;34m\u001b[0m\n\u001b[1;32m      8\u001b[0m \u001b[0;32mimport\u001b[0m \u001b[0msys\u001b[0m\u001b[0;34m\u001b[0m\u001b[0;34m\u001b[0m\u001b[0m\n\u001b[1;32m      9\u001b[0m \u001b[0msys\u001b[0m\u001b[0;34m.\u001b[0m\u001b[0mpath\u001b[0m\u001b[0;34m.\u001b[0m\u001b[0minsert\u001b[0m\u001b[0;34m(\u001b[0m\u001b[0;36m0\u001b[0m\u001b[0;34m,\u001b[0m \u001b[0;34m'../util_common/'\u001b[0m\u001b[0;34m)\u001b[0m\u001b[0;34m\u001b[0m\u001b[0;34m\u001b[0m\u001b[0m\n\u001b[0;32m---> 10\u001b[0;31m \u001b[0;32mfrom\u001b[0m \u001b[0mdatetime_column\u001b[0m \u001b[0;32mimport\u001b[0m \u001b[0mmake_datetime_column\u001b[0m\u001b[0;34m\u001b[0m\u001b[0;34m\u001b[0m\u001b[0m\n\u001b[0m\u001b[1;32m     11\u001b[0m \u001b[0;34m\u001b[0m\u001b[0m\n\u001b[1;32m     12\u001b[0m \u001b[0;34m\u001b[0m\u001b[0m\n",
      "\u001b[0;31mModuleNotFoundError\u001b[0m: No module named 'datetime_column'"
     ]
    }
   ],
   "source": [
    "%load_ext autoreload\n",
    "%autoreload 2\n",
    "\n",
    "import sys  \n",
    "sys.path.insert(0, '/data/analysis/util_funcs/py_geodynreader_gps/')\n",
    "\n",
    "from a_ReadISS import ReadISS\n",
    "\n",
    "Trajectory, Density, Resids = ReadISS(arc, \n",
    "                                       sat_file,\n",
    "                                       grav_id, \n",
    "                                       local_path, \n",
    "                                       path_to_msis2,\n",
    "                                       True,\n",
    "                                       YR = 19)"
   ]
  },
  {
   "cell_type": "code",
   "execution_count": null,
   "metadata": {},
   "outputs": [],
   "source": [
    "Trajectory['SAT_ID'][30]"
   ]
  },
  {
   "cell_type": "code",
   "execution_count": null,
   "metadata": {},
   "outputs": [],
   "source": [
    "import plotly.graph_objects as go\n",
    "import numpy as np\n",
    "from plotly.offline import plot, iplot\n",
    "%matplotlib inline\n",
    "\n",
    "index = Trajectory['SAT_ID']==6163016\n",
    "\n",
    "fig = go.Figure(data=[go.Scatter(x=Trajectory['Date'][index],\n",
    "                                 y=Trajectory['X'][index],\n",
    "                                 name='6163016',\n",
    "                                    mode='markers',\n",
    "                                    marker=dict(\n",
    "                                    size=2,\n",
    "                                    ),),],)\n",
    "fig.add_trace(go.Scatter(x=Trajectory['Date'][Trajectory['SAT_ID']==6573106],\n",
    "                         y=Trajectory['X'][Trajectory['SAT_ID']==6573106],\n",
    "                         name= '6573106',\n",
    "                         mode='markers',\n",
    "                         marker=dict(\n",
    "                         size=2,),\n",
    "                         ),\n",
    "                         )\n",
    "fig.add_trace(go.Scatter(x=Trajectory['Date'][Trajectory['SAT_ID']==5459194],\n",
    "                         y=Trajectory['X'][Trajectory['SAT_ID']==5459194],\n",
    "                         name= '5459194',\n",
    "                         mode='markers',\n",
    "                         marker=dict(\n",
    "                         size=2,),\n",
    "                         ),\n",
    "                         )\n",
    "fig.update_layout(\n",
    "    title=\"X Coordinate of GPS Sats\",\n",
    "    yaxis_title='meters',\n",
    "    xaxis_title=\"Date\",\n",
    "    )\n",
    "fig.update_yaxes(exponentformat= 'power',)\n",
    "\n",
    "iplot(fig)\n",
    "\n",
    "\n"
   ]
  },
  {
   "cell_type": "code",
   "execution_count": null,
   "metadata": {},
   "outputs": [],
   "source": [
    "import plotly.graph_objects as go\n",
    "import numpy as np\n",
    "from plotly.offline import plot, iplot\n",
    "%matplotlib inline\n",
    "\n",
    "index = Trajectory['SAT_ID']==6163016\n",
    "\n",
    "fig = go.Figure(data=[go.Scatter(x=Trajectory['Date'][index],\n",
    "                                 y=Trajectory['HEIGHT'][index]*1e-3,\n",
    "                                 name='6163016',\n",
    "                                    mode='markers',\n",
    "                                    marker=dict(\n",
    "                                    size=2,\n",
    "                                    ),),],)\n",
    "fig.add_trace(go.Scatter(x=Trajectory['Date'][Trajectory['SAT_ID']==6573106],\n",
    "                         y=Trajectory['HEIGHT'][Trajectory['SAT_ID']==6573106]*1e-3,\n",
    "                         name= '6573106',\n",
    "                         mode='markers',\n",
    "                         marker=dict(\n",
    "                         size=2,),\n",
    "                         ),\n",
    "                         )\n",
    "fig.add_trace(go.Scatter(x=Trajectory['Date'][Trajectory['SAT_ID']==5459194],\n",
    "                         y=Trajectory['HEIGHT'][Trajectory['SAT_ID']==5459194]*1e-3,\n",
    "                         name= '5459194',\n",
    "                         mode='markers',\n",
    "                         marker=dict(\n",
    "                         size=2,),\n",
    "                         ),\n",
    "                         )\n",
    "fig.update_layout(\n",
    "    title=\"Altitude of GPS Sats\",\n",
    "    yaxis_title='km',\n",
    "    xaxis_title=\"Date\",\n",
    "    )\n",
    "fig.update_yaxes(exponentformat= 'power',)\n",
    "\n",
    "iplot(fig)\n",
    "\n",
    "\n"
   ]
  },
  {
   "cell_type": "code",
   "execution_count": null,
   "metadata": {},
   "outputs": [],
   "source": [
    "import plotly.graph_objects as go\n",
    "import numpy as np\n",
    "from plotly.offline import plot, iplot\n",
    "%matplotlib inline\n",
    "\n",
    "index = Trajectory['SAT_ID']==6163016\n",
    "\n",
    "fig = go.Figure(data=[go.Scatter(x=Trajectory['Date'],\n",
    "                                 y=Trajectory['HEIGHT']*1e-3,\n",
    "                                 name='All Sats',\n",
    "                                    mode='markers',\n",
    "                                    marker=dict(\n",
    "                                    size=2,\n",
    "                                    ),),],)\n",
    "\n",
    "fig.update_layout(\n",
    "    title=\"Altitude of ALL GPS Sats\",\n",
    "    yaxis_title='km',\n",
    "    xaxis_title=\"Date\",\n",
    "    )\n",
    "fig.update_yaxes(exponentformat= 'power',)\n",
    "\n",
    "iplot(fig)\n",
    "\n",
    "\n"
   ]
  },
  {
   "cell_type": "code",
   "execution_count": null,
   "metadata": {},
   "outputs": [],
   "source": []
  },
  {
   "cell_type": "code",
   "execution_count": null,
   "metadata": {},
   "outputs": [],
   "source": []
  },
  {
   "cell_type": "code",
   "execution_count": null,
   "metadata": {},
   "outputs": [],
   "source": []
  }
 ],
 "metadata": {
  "colab": {
   "authorship_tag": "ABX9TyM74G9L+KyabHIgPwslRiE4",
   "collapsed_sections": [],
   "name": "Read_starlette_data.ipynb",
   "provenance": [],
   "toc_visible": true
  },
  "kernelspec": {
   "display_name": "Python 3",
   "language": "python",
   "name": "python3"
  },
  "language_info": {
   "codemirror_mode": {
    "name": "ipython",
    "version": 3
   },
   "file_extension": ".py",
   "mimetype": "text/x-python",
   "name": "python",
   "nbconvert_exporter": "python",
   "pygments_lexer": "ipython3",
   "version": "3.8.5"
  }
 },
 "nbformat": 4,
 "nbformat_minor": 1
}
