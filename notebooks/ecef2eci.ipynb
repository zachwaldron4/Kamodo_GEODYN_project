{
 "cells": [
  {
   "cell_type": "markdown",
   "id": "0570a671",
   "metadata": {},
   "source": [
    "# ECEF to ECI Transformation"
   ]
  },
  {
   "cell_type": "code",
   "execution_count": 1,
   "id": "27672bdf",
   "metadata": {
    "ExecuteTime": {
     "end_time": "2023-01-20T21:35:49.149806Z",
     "start_time": "2023-01-20T21:35:48.790352Z"
    }
   },
   "outputs": [],
   "source": [
    "import numpy as np\n",
    "\n",
    "from pygeodyn.util_dir.coordinate_systems import iau06_Call_ecef2eci"
   ]
  },
  {
   "cell_type": "code",
   "execution_count": null,
   "id": "0e863086",
   "metadata": {
    "ExecuteTime": {
     "end_time": "2023-01-20T21:00:57.142740Z",
     "start_time": "2023-01-20T21:00:57.137351Z"
    }
   },
   "outputs": [],
   "source": []
  },
  {
   "cell_type": "code",
   "execution_count": 2,
   "id": "d2a7d751",
   "metadata": {
    "ExecuteTime": {
     "end_time": "2023-01-20T21:35:49.241805Z",
     "start_time": "2023-01-20T21:35:49.152261Z"
    }
   },
   "outputs": [],
   "source": [
    "### Inputs for convtim\n",
    "### ------------------\n",
    "year     = 2004          # utc year    (1900 .. 2100)\n",
    "mon      = 4             # utc month   (1 .. 12)\n",
    "day      = 6             # utc day     (1 .. 28,29,30,31)\n",
    "hr       = 7             # utc hour    (0 .. 23)\n",
    "minute   = 51            # utc min     (0 .. 59)\n",
    "sec      = 28.386009     # utc sec     (0.0  .. 59.999)\n",
    "\n",
    "\n",
    "recef = [-1033.4793830,  7901.2952754,  6380.3565958] # position vector earth fixed     km\n",
    "vecef = [-3.225636520 ,  -2.872451450,   5.531924446] # velocity vector earth fixed     km/s\n",
    "aecef = [0.001,0.002,0.003]                           # acceleration vector earth fixed km/s2\n",
    "\n",
    "\n"
   ]
  },
  {
   "cell_type": "code",
   "execution_count": 3,
   "id": "3663e49d",
   "metadata": {
    "ExecuteTime": {
     "end_time": "2023-01-20T21:35:49.250315Z",
     "start_time": "2023-01-20T21:35:49.243850Z"
    }
   },
   "outputs": [
    {
     "name": "stdout",
     "output_type": "stream",
     "text": [
      "------------------------------------------------\n",
      "GCRF 2 w corr IAU-2006/2000, CIO\n",
      " r calc [5102.508952435, 6123.011394920, 6378.136938144]\n",
      " r book [5102.508959000, 6123.011403000, 6378.136925000]\n",
      " v calc [  -4.743220162,    0.790536491,    5.533755724]\n",
      " v book [  -4.743220160,    0.790536500,    5.533755730]\n"
     ]
    }
   ],
   "source": [
    "\n",
    "print('------------------------------------------------')\n",
    "print(f'GCRF 2 w corr IAU-2006/2000, CIO')\n",
    "print(f' r calc [{reci[0,0]:14.9f}, {reci[1,0]:14.9f}, {reci[2,0]:14.9f}]' )\n",
    "print(f' r book [{ 5102.508959:14.9f}, { 6123.011403:14.9f}, { 6378.136925:14.9f}]' )\n",
    "\n",
    "print(f' v calc [{veci[0,0]:14.9f}, {veci[1,0]:14.9f}, {veci[2,0]:14.9f}]' )\n",
    "# print(f' a {:14.9f} {:14.9f} {:14.9f}\\n', aecig );\n",
    "print(f' v book [{ -4.74322016:14.9f}, { 0.79053650:14.9f}, { 5.53375573:14.9f}]' )\n",
    "\n",
    "\n",
    "    \n",
    "    \n",
    "    "
   ]
  },
  {
   "cell_type": "markdown",
   "id": "888f88cd",
   "metadata": {},
   "source": [
    "## Accuracy Check"
   ]
  },
  {
   "cell_type": "markdown",
   "id": "ce3593b9",
   "metadata": {},
   "source": [
    "Our calcualtion is accurate to within a centimeter"
   ]
  },
  {
   "cell_type": "code",
   "execution_count": 4,
   "id": "4338aa21",
   "metadata": {
    "ExecuteTime": {
     "end_time": "2023-01-20T21:35:49.262318Z",
     "start_time": "2023-01-20T21:35:49.251970Z"
    }
   },
   "outputs": [
    {
     "name": "stdout",
     "output_type": "stream",
     "text": [
      "centimeter difference (Book - calc): \n",
      "     diff_r: [0.6564980139955878, 0.8080472980509512, -1.3144169315637555] cm\n",
      "     diff_v: [0.00017636958560274252, 0.0008573503462727672, 0.0005995512530887481] cm/s\n"
     ]
    }
   ],
   "source": [
    "conv_km2cm = 100000\n",
    "\n",
    "diff_r = [ (5102.508959-reci[0,0])*conv_km2cm, \n",
    "          (6123.011403-reci[1,0])*conv_km2cm, \n",
    "          (6378.136925-reci[2,0])*conv_km2cm]\n",
    "\n",
    "\n",
    "\n",
    "diff_v = [(-4.74322016-veci[0,0])*conv_km2cm, \n",
    "          ( 0.79053650-veci[1,0])*conv_km2cm, \n",
    "          ( 5.53375573-veci[2,0])*conv_km2cm]\n",
    "\n",
    "print('centimeter difference (Book - calc): ')\n",
    "print('     diff_r:',diff_r, 'cm')\n",
    "print('     diff_v:',diff_v, 'cm/s')"
   ]
  },
  {
   "cell_type": "code",
   "execution_count": null,
   "id": "cb9f9024",
   "metadata": {
    "ExecuteTime": {
     "end_time": "2023-01-20T20:18:29.263185Z",
     "start_time": "2023-01-20T20:18:29.259637Z"
    }
   },
   "outputs": [],
   "source": [
    "\n"
   ]
  },
  {
   "cell_type": "code",
   "execution_count": null,
   "id": "0afddb98",
   "metadata": {
    "ExecuteTime": {
     "end_time": "2023-01-20T20:17:16.677590Z",
     "start_time": "2023-01-20T20:17:16.673035Z"
    }
   },
   "outputs": [],
   "source": []
  },
  {
   "cell_type": "code",
   "execution_count": null,
   "id": "09694550",
   "metadata": {
    "ExecuteTime": {
     "end_time": "2023-01-20T20:14:40.403640Z",
     "start_time": "2023-01-20T20:14:39.437Z"
    }
   },
   "outputs": [],
   "source": []
  },
  {
   "cell_type": "code",
   "execution_count": null,
   "id": "7c319ae7",
   "metadata": {},
   "outputs": [],
   "source": []
  },
  {
   "cell_type": "code",
   "execution_count": null,
   "id": "9f80f0a6",
   "metadata": {},
   "outputs": [],
   "source": []
  },
  {
   "cell_type": "code",
   "execution_count": null,
   "id": "9a50c61c",
   "metadata": {},
   "outputs": [],
   "source": []
  },
  {
   "cell_type": "code",
   "execution_count": null,
   "id": "046baae1",
   "metadata": {},
   "outputs": [],
   "source": []
  },
  {
   "cell_type": "markdown",
   "id": "6ca93886",
   "metadata": {},
   "source": [
    "# Display Functions"
   ]
  },
  {
   "cell_type": "code",
   "execution_count": null,
   "id": "5f535ef9",
   "metadata": {},
   "outputs": [],
   "source": []
  },
  {
   "cell_type": "code",
   "execution_count": 5,
   "id": "0005711a",
   "metadata": {
    "ExecuteTime": {
     "end_time": "2023-01-20T21:35:49.269305Z",
     "start_time": "2023-01-20T21:35:49.264009Z"
    }
   },
   "outputs": [],
   "source": [
    "### Package to allow printing of source code\n",
    "from pygments import highlight\n",
    "from pygments.lexers import PythonLexer\n",
    "from pygments.formatters import HtmlFormatter\n",
    "import IPython\n",
    "import inspect\n"
   ]
  },
  {
   "cell_type": "code",
   "execution_count": 6,
   "id": "bd77a14a",
   "metadata": {
    "ExecuteTime": {
     "end_time": "2023-01-20T21:35:49.371413Z",
     "start_time": "2023-01-20T21:35:49.271320Z"
    }
   },
   "outputs": [
    {
     "ename": "ImportError",
     "evalue": "cannot import name 'iau06_loaddata' from 'pygeodyn.util_dir.coordinate_systems' (/data/SatDragModelValidation/pygeodyn/pygeodyn/util_dir/coordinate_systems.py)",
     "output_type": "error",
     "traceback": [
      "\u001b[0;31m---------------------------------------------------------------------------\u001b[0m",
      "\u001b[0;31mImportError\u001b[0m                               Traceback (most recent call last)",
      "\u001b[0;32m<ipython-input-6-10b7cd4462b7>\u001b[0m in \u001b[0;36m<module>\u001b[0;34m\u001b[0m\n\u001b[1;32m      8\u001b[0m \u001b[0;32mfrom\u001b[0m \u001b[0mpygeodyn\u001b[0m\u001b[0;34m.\u001b[0m\u001b[0mutil_dir\u001b[0m\u001b[0;34m.\u001b[0m\u001b[0mcoordinate_systems\u001b[0m \u001b[0;32mimport\u001b[0m \u001b[0miau06_delauney_fundarg\u001b[0m\u001b[0;34m\u001b[0m\u001b[0;34m\u001b[0m\u001b[0m\n\u001b[1;32m      9\u001b[0m \u001b[0;32mfrom\u001b[0m \u001b[0mpygeodyn\u001b[0m\u001b[0;34m.\u001b[0m\u001b[0mutil_dir\u001b[0m\u001b[0;34m.\u001b[0m\u001b[0mcoordinate_systems\u001b[0m \u001b[0;32mimport\u001b[0m \u001b[0miau06_polarmotion\u001b[0m\u001b[0;34m\u001b[0m\u001b[0;34m\u001b[0m\u001b[0m\n\u001b[0;32m---> 10\u001b[0;31m \u001b[0;32mfrom\u001b[0m \u001b[0mpygeodyn\u001b[0m\u001b[0;34m.\u001b[0m\u001b[0mutil_dir\u001b[0m\u001b[0;34m.\u001b[0m\u001b[0mcoordinate_systems\u001b[0m \u001b[0;32mimport\u001b[0m \u001b[0miau06_loaddata\u001b[0m\u001b[0;34m\u001b[0m\u001b[0;34m\u001b[0m\u001b[0m\n\u001b[0m\u001b[1;32m     11\u001b[0m \u001b[0;32mfrom\u001b[0m \u001b[0mpygeodyn\u001b[0m\u001b[0;34m.\u001b[0m\u001b[0mutil_dir\u001b[0m\u001b[0;34m.\u001b[0m\u001b[0mcoordinate_systems\u001b[0m \u001b[0;32mimport\u001b[0m \u001b[0miau06_precess_nutate_xys\u001b[0m\u001b[0;34m\u001b[0m\u001b[0;34m\u001b[0m\u001b[0m\n\u001b[1;32m     12\u001b[0m \u001b[0;32mfrom\u001b[0m \u001b[0mpygeodyn\u001b[0m\u001b[0;34m.\u001b[0m\u001b[0mutil_dir\u001b[0m\u001b[0;34m.\u001b[0m\u001b[0mcoordinate_systems\u001b[0m \u001b[0;32mimport\u001b[0m \u001b[0miau06_earthrotationangle\u001b[0m\u001b[0;34m\u001b[0m\u001b[0;34m\u001b[0m\u001b[0m\n",
      "\u001b[0;31mImportError\u001b[0m: cannot import name 'iau06_loaddata' from 'pygeodyn.util_dir.coordinate_systems' (/data/SatDragModelValidation/pygeodyn/pygeodyn/util_dir/coordinate_systems.py)"
     ]
    }
   ],
   "source": [
    "import numpy  as np\n",
    "import pandas as pd\n",
    "\n",
    "## Load coordinate transformation packages\n",
    "# from pygeodyn.util_dir.coordinate_systems import ecef_2_eci_iau1976\n",
    "from pygeodyn.util_dir.time_systems  import convtime\n",
    "\n",
    "from pygeodyn.util_dir.coordinate_systems import iau06_delauney_fundarg\n",
    "from pygeodyn.util_dir.coordinate_systems import iau06_polarmotion\n",
    "from pygeodyn.util_dir.coordinate_systems import iau06_loaddata\n",
    "from pygeodyn.util_dir.coordinate_systems import iau06_precess_nutate_xys\n",
    "from pygeodyn.util_dir.coordinate_systems import iau06_earthrotationangle\n",
    "from pygeodyn.util_dir.coordinate_systems import iau06_Convert_ecef2eci"
   ]
  },
  {
   "cell_type": "code",
   "execution_count": null,
   "id": "24a94b82",
   "metadata": {
    "ExecuteTime": {
     "end_time": "2023-01-20T21:35:49.390077Z",
     "start_time": "2023-01-20T21:35:48.243Z"
    }
   },
   "outputs": [],
   "source": [
    "code_convtime                 = inspect.getsource(convtime)\n",
    "code_iau06_delauney_fundarg   = inspect.getsource(iau06_delauney_fundarg)\n",
    "code_iau06_polarmotion        = inspect.getsource(iau06_polarmotion)\n",
    "code_iau06_loaddata           = inspect.getsource(iau06_loaddata)\n",
    "code_iau06_precess_nutate_xys = inspect.getsource(iau06_precess_nutate_xys)\n",
    "code_iau06_earthrotationangle = inspect.getsource(iau06_earthrotationangle)\n",
    "code_iau06_Convert_ecef2eci   = inspect.getsource(iau06_Convert_ecef2eci)\n",
    "\n",
    "\n",
    "def printcode(code_source):\n",
    "    formatter = HtmlFormatter()\n",
    "    \n",
    "    return(IPython.display.HTML('<style type=\"text/css\">{}</style>{}'.format(\n",
    "        formatter.get_style_defs('.highlight'),\n",
    "        highlight(code_source, PythonLexer(), formatter))))\n",
    "    \n",
    "    "
   ]
  },
  {
   "cell_type": "markdown",
   "id": "f7bc0ec7",
   "metadata": {},
   "source": [
    "## Functions"
   ]
  },
  {
   "cell_type": "markdown",
   "id": "244f7a43",
   "metadata": {},
   "source": [
    "### Time conversions"
   ]
  },
  {
   "cell_type": "code",
   "execution_count": null,
   "id": "6b7d0c53",
   "metadata": {
    "ExecuteTime": {
     "end_time": "2023-01-20T21:35:49.390955Z",
     "start_time": "2023-01-20T21:35:48.245Z"
    }
   },
   "outputs": [],
   "source": [
    "printcode(code_convtime)"
   ]
  },
  {
   "cell_type": "markdown",
   "id": "fadc00e2",
   "metadata": {},
   "source": [
    "### Polar motion effects"
   ]
  },
  {
   "cell_type": "code",
   "execution_count": null,
   "id": "b615094d",
   "metadata": {
    "ExecuteTime": {
     "end_time": "2023-01-20T21:35:49.391794Z",
     "start_time": "2023-01-20T21:35:48.247Z"
    }
   },
   "outputs": [],
   "source": [
    "printcode(code_iau06_polarmotion)\n"
   ]
  },
  {
   "cell_type": "markdown",
   "id": "113d2124",
   "metadata": {},
   "source": [
    "### Sidereal time (earth rotation angle) effects\n"
   ]
  },
  {
   "cell_type": "code",
   "execution_count": null,
   "id": "4c53965f",
   "metadata": {
    "ExecuteTime": {
     "end_time": "2023-01-20T21:35:49.392631Z",
     "start_time": "2023-01-20T21:35:48.249Z"
    }
   },
   "outputs": [],
   "source": [
    "printcode(code_iau06_earthrotationangle)"
   ]
  },
  {
   "cell_type": "markdown",
   "id": "4f0b17ac",
   "metadata": {},
   "source": [
    "### Precession Nutation effects"
   ]
  },
  {
   "cell_type": "markdown",
   "id": "cadea028",
   "metadata": {},
   "source": [
    "#### delaunay  and planetary values"
   ]
  },
  {
   "cell_type": "code",
   "execution_count": null,
   "id": "0c98b600",
   "metadata": {
    "ExecuteTime": {
     "end_time": "2023-01-20T21:35:49.393470Z",
     "start_time": "2023-01-20T21:35:48.253Z"
    }
   },
   "outputs": [],
   "source": [
    "printcode(code_iau06_delauney_fundarg)"
   ]
  },
  {
   "cell_type": "markdown",
   "id": "982f3e0c",
   "metadata": {},
   "source": [
    "#### Initializes IAU-2006 nutation matricies from file"
   ]
  },
  {
   "cell_type": "code",
   "execution_count": null,
   "id": "e0b7d4ad",
   "metadata": {
    "ExecuteTime": {
     "end_time": "2023-01-20T21:35:49.394263Z",
     "start_time": "2023-01-20T21:35:48.256Z"
    },
    "scrolled": false
   },
   "outputs": [],
   "source": [
    "printcode(code_iau06_loaddata)"
   ]
  },
  {
   "cell_type": "markdown",
   "id": "056f39fa",
   "metadata": {},
   "source": [
    "#### Precess-Nutate"
   ]
  },
  {
   "cell_type": "code",
   "execution_count": null,
   "id": "a1fd7a77",
   "metadata": {
    "ExecuteTime": {
     "end_time": "2023-01-20T21:35:49.395096Z",
     "start_time": "2023-01-20T21:35:48.258Z"
    }
   },
   "outputs": [],
   "source": [
    "printcode(code_iau06_precess_nutate_xys)"
   ]
  },
  {
   "cell_type": "markdown",
   "id": "a5c8406d",
   "metadata": {},
   "source": [
    "### Convert from ECI to ECEF "
   ]
  },
  {
   "cell_type": "code",
   "execution_count": null,
   "id": "59b6e9c1",
   "metadata": {
    "ExecuteTime": {
     "end_time": "2023-01-20T21:35:49.395907Z",
     "start_time": "2023-01-20T21:35:48.260Z"
    }
   },
   "outputs": [],
   "source": [
    "printcode(code_iau06_Convert_ecef2eci)"
   ]
  },
  {
   "cell_type": "markdown",
   "id": "485f6427",
   "metadata": {},
   "source": [
    "-----"
   ]
  }
 ],
 "metadata": {
  "kernelspec": {
   "display_name": "Python 3",
   "language": "python",
   "name": "python3"
  },
  "language_info": {
   "codemirror_mode": {
    "name": "ipython",
    "version": 3
   },
   "file_extension": ".py",
   "mimetype": "text/x-python",
   "name": "python",
   "nbconvert_exporter": "python",
   "pygments_lexer": "ipython3",
   "version": "3.8.8"
  },
  "toc": {
   "base_numbering": 1,
   "nav_menu": {},
   "number_sections": true,
   "sideBar": true,
   "skip_h1_title": false,
   "title_cell": "Table of Contents",
   "title_sidebar": "Contents",
   "toc_cell": false,
   "toc_position": {
    "height": "calc(100% - 180px)",
    "left": "10px",
    "top": "150px",
    "width": "165px"
   },
   "toc_section_display": true,
   "toc_window_display": false
  },
  "varInspector": {
   "cols": {
    "lenName": 16,
    "lenType": 16,
    "lenVar": 40
   },
   "kernels_config": {
    "python": {
     "delete_cmd_postfix": "",
     "delete_cmd_prefix": "del ",
     "library": "var_list.py",
     "varRefreshCmd": "print(var_dic_list())"
    },
    "r": {
     "delete_cmd_postfix": ") ",
     "delete_cmd_prefix": "rm(",
     "library": "var_list.r",
     "varRefreshCmd": "cat(var_dic_list()) "
    }
   },
   "position": {
    "height": "318.85px",
    "left": "891.6px",
    "right": "20px",
    "top": "120px",
    "width": "350px"
   },
   "types_to_exclude": [
    "module",
    "function",
    "builtin_function_or_method",
    "instance",
    "_Feature"
   ],
   "window_display": false
  }
 },
 "nbformat": 4,
 "nbformat_minor": 5
}
