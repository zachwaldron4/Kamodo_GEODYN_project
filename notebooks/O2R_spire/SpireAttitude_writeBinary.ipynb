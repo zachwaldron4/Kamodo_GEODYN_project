{
 "cells": [
  {
   "cell_type": "code",
   "execution_count": 1,
   "id": "09babce5",
   "metadata": {
    "ExecuteTime": {
     "end_time": "2022-12-07T22:01:13.018007Z",
     "start_time": "2022-12-07T22:01:12.721490Z"
    }
   },
   "outputs": [],
   "source": [
    "import numpy as np\n",
    "# import linecache\n",
    "from datetime import datetime,timedelta\n",
    "import pandas as pd\n",
    "import sys\n",
    "import time\n",
    "import gc"
   ]
  },
  {
   "cell_type": "code",
   "execution_count": 2,
   "id": "9f3a9d99",
   "metadata": {
    "ExecuteTime": {
     "end_time": "2022-12-07T22:01:13.044208Z",
     "start_time": "2022-12-07T22:01:13.020831Z"
    }
   },
   "outputs": [],
   "source": [
    "%load_ext autoreload\n",
    "%autoreload 2\n",
    "\n",
    "import sys\n",
    "sys.path.insert(0, '/data/geodyn_proj/pygeodyn/pygeodyn_develop/util_dir/')\n",
    "\n",
    "from time_systems import mjds_to_ymdhms\n",
    "from time_systems import time_gps_to_tdt\n",
    "#\n",
    "from quaternions  import quat_trans_SBFtoRSW_to_SBFtoECI\n",
    "from quaternions  import load_attitude_spire\n",
    "from quaternions  import call_slerp_SpireAtt\n",
    "#\n",
    "from attitude_binary  import write_EXAT_binary\n"
   ]
  },
  {
   "cell_type": "markdown",
   "id": "75fd2aa3",
   "metadata": {
    "ExecuteTime": {
     "end_time": "2022-12-07T00:11:03.271241Z",
     "start_time": "2022-12-07T00:11:03.267294Z"
    }
   },
   "source": [
    "\n",
    "## Specify inputs\n"
   ]
  },
  {
   "cell_type": "code",
   "execution_count": 3,
   "id": "9cf84cde",
   "metadata": {
    "ExecuteTime": {
     "end_time": "2022-12-07T22:01:13.059769Z",
     "start_time": "2022-12-07T22:01:13.046569Z"
    }
   },
   "outputs": [],
   "source": [
    "startEpoch  = \"2018-11-08 23:00:00\"  \n",
    "stopEpoch   = \"2018-11-10 01:00:00\" \n",
    "interval    = 10  # seconds\n",
    "\n",
    "\n",
    "sat = 'Spire83_test'\n",
    "\n",
    "    \n",
    "\n",
    "\n",
    "\n",
    "path_attitude     = \"/data/data_geodyn/inputs/spire/data_Spire/attitude/20180923_20181209_TaskOrder3Data/\"\n",
    "filename          = \"leoAtt_2018-09-23T00-12-00Z.9999999.083.log\"\n",
    "file__AttitudeLog = path_attitude+filename"
   ]
  },
  {
   "cell_type": "markdown",
   "id": "9dccec37",
   "metadata": {},
   "source": [
    "# Prepare Spire data\n"
   ]
  },
  {
   "cell_type": "code",
   "execution_count": 4,
   "id": "cbf63e0f",
   "metadata": {
    "ExecuteTime": {
     "end_time": "2022-12-07T22:01:28.451174Z",
     "start_time": "2022-12-07T22:01:13.062141Z"
    }
   },
   "outputs": [
    {
     "data": {
      "text/plain": [
       "0"
      ]
     },
     "execution_count": 4,
     "metadata": {},
     "output_type": "execute_result"
    }
   ],
   "source": [
    "#### 1. Load the attitude data that corresponds to the entire timeperiod\n",
    "SpireDF = load_attitude_spire(file__AttitudeLog,\n",
    "                                  startEpoch,\n",
    "                                  stopEpoch)\n",
    "\n",
    "\n",
    "#### 2. Convert from GPS time to TDT time\n",
    "SpireDF['tim (tdt)'] = [time_gps_to_tdt(tim, leap_sec=37) \n",
    "                                 for tim in SpireDF['tim (gps)'] \n",
    "                                        ]\n",
    "\n",
    "\n",
    "#### 3. Perform a coordinate transformation from SBF-->RSW to SBF-->ECI(j2000)\n",
    "q_SBFtoECI = [quat_trans_SBFtoRSW_to_SBFtoECI(SpireDF['pos (eci)'].iloc[i], \n",
    "                                              SpireDF['vel (eci)'].iloc[i], \n",
    "                                              SpireDF['q (sbf)'].iloc[i]) \n",
    "                                          for i,val in enumerate(SpireDF['tim (gps)'])]\n",
    "# Fix the negatives such that no scalar component is negative\n",
    "SpireDF['q (SBFtoECI)'] = [-1*x if x[3]<0\n",
    "                                else x\n",
    "                                for x in q_SBFtoECI]\n",
    "\n",
    "\n",
    "#### 4. Interpolate Quaternions to linearly spaced time series\n",
    "exatt_quats = call_slerp_SpireAtt(SpireDF, \n",
    "                                   startEpoch, \n",
    "                                   stopEpoch, \n",
    "                                   interval )\n",
    "\n",
    "\n",
    "##### Free up some memory:\n",
    "del SpireDF\n",
    "del q_SBFtoECI\n",
    "gc.collect()\n"
   ]
  },
  {
   "cell_type": "markdown",
   "id": "b0b63aaa",
   "metadata": {
    "ExecuteTime": {
     "end_time": "2022-12-07T19:04:57.057115Z",
     "start_time": "2022-12-07T19:04:55.388652Z"
    }
   },
   "source": [
    "# Write EXAT binary "
   ]
  },
  {
   "cell_type": "markdown",
   "id": "a5ee4411",
   "metadata": {},
   "source": [
    "## Prep EXAT inputs\n"
   ]
  },
  {
   "cell_type": "code",
   "execution_count": 5,
   "id": "5b64ba48",
   "metadata": {
    "ExecuteTime": {
     "end_time": "2022-12-07T22:01:28.474318Z",
     "start_time": "2022-12-07T22:01:28.453110Z"
    }
   },
   "outputs": [
    {
     "name": "stdout",
     "output_type": "stream",
     "text": [
      "2018-11-08 23:00:00\n",
      "2018-11-10 01:00:00\n"
     ]
    }
   ],
   "source": [
    "print(startEpoch)\n",
    "print(stopEpoch)\n",
    "\n",
    "\n",
    "#### Initialize the satellite specific settings \n",
    "####     for the external attitude file conditions\n",
    "exat_param={}\n",
    "\n",
    "if sat=='Spire83_test':\n",
    "    exat_param[sat]={}\n",
    "    exat_param[sat]['SATID']    = 1804607.0  #2018-046F\n",
    "    exat_param[sat]['num_sat']  = 1.\n",
    "    exat_param[sat]['version']  = 1.\n",
    "    \n",
    "    ### Time info\n",
    "    exat_param[sat]['startEpoch']  = float(pd.to_datetime(\n",
    "                                        startEpoch,format='%Y-%m-%d %H:%M:%S'\n",
    "                                        ).strftime(format='%y%m%d%H%M%S'))\n",
    "    exat_param[sat]['stopEpoch']   = float(pd.to_datetime(\n",
    "                                        stopEpoch, format='%Y-%m-%d %H:%M:%S'\n",
    "                                        ).strftime(format='%y%m%d%H%M%S'))\n",
    "    exat_param[sat]['interval']    = float(interval) \n",
    "    exat_param[sat]['startFrac_S'] = float(pd.to_datetime(\n",
    "                                        startEpoch, format='%Y-%m-%d %H:%M:%S').microsecond)\n",
    "    exat_param[sat]['stopFrac_S']  = float(pd.to_datetime(\n",
    "                                        stopEpoch, format='%Y-%m-%d %H:%M:%S').microsecond)\n",
    "    \n",
    "    ### Panel info:\n",
    "        # QQQ is the total # of separate movable panels   \n",
    "        #      + antenna quaternion sets for this satellite \n",
    "        #      (excludes SBF to J2000 quaternion set which is \n",
    "        #      mandatory for each satellite in the file).\n",
    "        # PPP is the number of movable panels represented for \n",
    "        #      this satellite.\n",
    "        # AAA is the number of moveable antenna represented for \n",
    "        #      this satellite.  One quaternion set may represent \n",
    "        #      the attitude for up to two movable panels and \n",
    "        #      one movable antenna. \n",
    "    QQQ                          = int(   0   )\n",
    "    PPP                          = int(   0   )\n",
    "    AAA                          = int(   0   )\n",
    "    exat_param[sat]['qqqpppaaa'] = float(f'{QQQ:03}{PPP:03}{AAA:03}')\n",
    "    exat_param[sat]['panel_num'] = float(  0  )\n",
    "\n",
    "    \n",
    "    \n",
    "file_exat = 'EXAT01'"
   ]
  },
  {
   "cell_type": "markdown",
   "id": "39fb650d",
   "metadata": {},
   "source": [
    "## Write "
   ]
  },
  {
   "cell_type": "code",
   "execution_count": 6,
   "id": "e8d35dc8",
   "metadata": {
    "ExecuteTime": {
     "end_time": "2022-12-07T22:01:29.438130Z",
     "start_time": "2022-12-07T22:01:28.476250Z"
    }
   },
   "outputs": [
    {
     "name": "stdout",
     "output_type": "stream",
     "text": [
      "Reached end of attitude data.  Closing the File\n"
     ]
    }
   ],
   "source": [
    "write_EXAT_binary(file_exat, \n",
    "                  exat_param[sat], \n",
    "                  exatt_quats['q (SBFtoECI)'],\n",
    "                  exatt_quats['tim (tdt)'])\n",
    "\n"
   ]
  },
  {
   "cell_type": "code",
   "execution_count": 7,
   "id": "091ac950",
   "metadata": {
    "ExecuteTime": {
     "end_time": "2022-12-07T22:01:29.453106Z",
     "start_time": "2022-12-07T22:01:29.439524Z"
    }
   },
   "outputs": [],
   "source": [
    "# for i, val in enumerate(exatt_quats['q (SBFtoECI)'][:100]):\n",
    "#     print(exatt_quats['q (SBFtoECI)'][i,0] )\n",
    "#     print(exatt_quats['q (SBFtoECI)'][i,1] )\n",
    "#     print(exatt_quats['q (SBFtoECI)'][i,2] )\n",
    "#     print(exatt_quats['q (SBFtoECI)'][i,3] )\n"
   ]
  },
  {
   "cell_type": "code",
   "execution_count": 8,
   "id": "f93bc449",
   "metadata": {
    "ExecuteTime": {
     "end_time": "2022-12-07T22:01:29.469843Z",
     "start_time": "2022-12-07T22:01:29.456030Z"
    }
   },
   "outputs": [],
   "source": [
    "# #### Specify the input conditions\n",
    "\n",
    "\n",
    "\n",
    "\n",
    "# # startEpoch     = 181108190109.0       #(YYMMDDHHMMSS.00)\n",
    "# # stopEpoch      = 181111050109.0       #(YYMMDDHHMMSS.00)\n",
    "# # start_str = pd.to_datetime(startEpoch, format='%Y-%m-%d %H:%M:%S').strftime(format='%y%m%d%H%M%S')\n",
    "# # stop__str  = pd.to_datetime(stopEpoch,  format='%Y-%m-%d %H:%M:%S').strftime(format='%y%m%d%H%M%S')\n",
    "\n",
    "# # startFrac_S    = pd.to_datetime(startEpoch, format='%Y-%m-%d %H:%M:%S').microsecond  #(fractional seconds, 00.SS)\n",
    "# # stopFrac_S     = pd.to_datetime(stopEpoch, format='%Y-%m-%d %H:%M:%S').microsecond  #(fractional seconds, 00.SS)\n",
    "# # intervalStep_S = float(interval)        #SSSSS.SSSSS\n",
    "\n",
    "\n",
    "#     # QQQ is the total # of separate movable panels + antenna quaternion  \n",
    "#     #     sets for this satellite (excludes SBF to J2000 quaternion set  \n",
    "#     #     which is mandatory for each satellite represented in the file). \n",
    "# QQQ = 1 \n",
    "\n",
    "#     # PPP is the number of movable panels represented for this satellite. \n",
    "# PPP = 2\n",
    "#     # AAA is the number of moveable antenna represented for this  satellite.\n",
    "#     #     One quaternion set may represent the attitude for up to two  \n",
    "#     #     movable panels and one movable antenna.                \n",
    "# AAA = 0\n",
    "\n",
    "# qqqpppaaa = float(f'{QQQ:03}{PPP:03}{AAA:03}')\n",
    "# #      QQQPPPAAA '1002000.0'\n",
    "\n",
    "# panel_number = 0.  # zero indicates the non-moveable body\n",
    "\n",
    "# #-------------------------------------------------------------\n",
    "\n",
    "# # startDT = pd.to_datetime(startEpoch, format='%y%m%d%H%M%S')\n",
    "# # stopDT  = pd.to_datetime(stopEpoch, format='%y%m%d%H%M%S')\n",
    "# # freq_str = str(int(intervalStep_S))+\"S\"\n",
    "# # len_dates = np.shape(pd.date_range(start=startDT, end=stopDT, freq=freq_str))[0]\n",
    "# # print(\"Anticipating\",len_dates,\"data points.\" )\n",
    "# # print(\"    Start:  \", startDT)\n",
    "# # print(\"    Stop :  \", stopDT)\n",
    "# # print(\"    Cadence:\", freq_str,\"(second)\")\n",
    "# # date_range = pd.date_range(start=start_epoch_trunc, end=stop_epoch_trunc, freq=freq_str)\n"
   ]
  },
  {
   "cell_type": "code",
   "execution_count": null,
   "id": "faa25e63",
   "metadata": {
    "ExecuteTime": {
     "end_time": "2022-12-07T20:49:00.242993Z",
     "start_time": "2022-12-07T20:48:44.813Z"
    }
   },
   "outputs": [],
   "source": []
  },
  {
   "cell_type": "code",
   "execution_count": null,
   "id": "c93a11d6",
   "metadata": {},
   "outputs": [],
   "source": []
  },
  {
   "cell_type": "code",
   "execution_count": null,
   "id": "68d39ccc",
   "metadata": {},
   "outputs": [],
   "source": []
  },
  {
   "cell_type": "code",
   "execution_count": null,
   "id": "6d0c2ae4",
   "metadata": {},
   "outputs": [],
   "source": []
  },
  {
   "cell_type": "code",
   "execution_count": null,
   "id": "5577866b",
   "metadata": {},
   "outputs": [],
   "source": []
  },
  {
   "cell_type": "markdown",
   "id": "e287d55d",
   "metadata": {},
   "source": [
    "#   "
   ]
  },
  {
   "cell_type": "markdown",
   "id": "f8d8cffe",
   "metadata": {},
   "source": [
    "# Helpful Bits"
   ]
  },
  {
   "cell_type": "markdown",
   "id": "9aca79bd",
   "metadata": {},
   "source": [
    "Plot interpolated Quats"
   ]
  },
  {
   "cell_type": "code",
   "execution_count": 9,
   "id": "4a4e201f",
   "metadata": {
    "ExecuteTime": {
     "end_time": "2022-12-07T22:01:29.488762Z",
     "start_time": "2022-12-07T22:01:29.472256Z"
    }
   },
   "outputs": [],
   "source": [
    "# import plotly.graph_objects as go\n",
    "# from plotly.offline import plot, iplot\n",
    "# from plotly.subplots import make_subplots\n",
    "# import plotly.express as px\n",
    "# import plotly.io as pio   ### Allows you to save plotly figs\n",
    "\n",
    "\n",
    "# fig  = make_subplots(\n",
    "#     rows=4, cols=1,\n",
    "#     subplot_titles=(['qx','qy','qz','qw']),\n",
    "#     shared_xaxes=False)\n",
    "\n",
    "# ################S#######################################\n",
    "# font_dict=dict(family='Arial',size=14,color='black')\n",
    "# #######################################################\n",
    "\n",
    "# col_r  =  \"#ff7f0e\"  # 'tab:orange'\n",
    "# col_b  =  \"#1f77b4\"  # 'tab:blue'\n",
    "\n",
    "\n",
    "# fig.add_trace(go.Scattergl(x=SpireDF['tim (tdt)'].values,\n",
    "#                            y=np.array(SpireDF['q (SBFtoECI)'].values.tolist())[:,0] ,\n",
    "#                            mode='markers',\n",
    "#                            marker = dict(size=4, color=col_b),\n",
    "#                            opacity=1,\n",
    "#                            showlegend=False), row=1, col=1)\n",
    "# fig.add_trace(go.Scattergl(x=SpireDF['tim (tdt)'].values,\n",
    "#                            y=np.array(SpireDF['q (SBFtoECI)'].values.tolist())[:,1] ,\n",
    "#                            mode='markers',\n",
    "#                            marker = dict(size=4, color=col_b),\n",
    "#                            opacity=1,\n",
    "#                            showlegend=False), row=2, col=1)\n",
    "# fig.add_trace(go.Scattergl(x=SpireDF['tim (tdt)'].values,\n",
    "#                            y=np.array(SpireDF['q (SBFtoECI)'].values.tolist())[:,2] ,\n",
    "#                            mode='markers',\n",
    "#                            marker = dict(size=4, color=col_b),\n",
    "#                            opacity=1,\n",
    "#                            showlegend=False), row=3, col=1)\n",
    "# fig.add_trace(go.Scattergl(x=SpireDF['tim (tdt)'].values,\n",
    "#                            y=np.array(SpireDF['q (SBFtoECI)'].values.tolist())[:,3] ,\n",
    "#                            mode='markers',\n",
    "#                            marker = dict(size=4, color=col_b),\n",
    "#                            opacity=1,\n",
    "#                            showlegend=False), row=4, col=1)\n",
    "\n",
    "# #################################################\n",
    "\n",
    "# fig.add_trace(go.Scattergl(x=extatt_quats['tim (tdt)'],\n",
    "#                            y=extatt_quats['q (SBFtoECI)'][:,0] ,\n",
    "#                            mode='markers',\n",
    "#                            marker = dict(size=2, color=col_r),\n",
    "#                            opacity=1,\n",
    "#                            showlegend=False), row=1, col=1)\n",
    "# fig.add_trace(go.Scattergl(x=extatt_quats['tim (tdt)'],\n",
    "#                            y=extatt_quats['q (SBFtoECI)'][:,1] ,\n",
    "#                            mode='markers',\n",
    "#                            marker = dict(size=2, color=col_r),\n",
    "#                            opacity=1,\n",
    "#                            showlegend=False), row=2, col=1)\n",
    "# fig.add_trace(go.Scattergl(x=extatt_quats['tim (tdt)'],\n",
    "#                            y=extatt_quats['q (SBFtoECI)'][:,2] ,\n",
    "#                            mode='markers',\n",
    "#                            marker = dict(size=2, color=col_r),\n",
    "#                            opacity=1,\n",
    "#                            showlegend=False), row=3, col=1)\n",
    "# fig.add_trace(go.Scattergl(x=extatt_quats['tim (tdt)'],\n",
    "#                            y=extatt_quats['q (SBFtoECI)'][:,3] ,\n",
    "#                            mode='markers',\n",
    "#                            marker = dict(size=2, color=col_r),\n",
    "#                            opacity=1,\n",
    "#                            showlegend=False), row=4, col=1)\n",
    "\n",
    "# fig.update_xaxes( range=[pd.to_datetime(extatt_quats['tim (tdt)'][0] )-pd.to_timedelta(1,'h'),\n",
    "#                          pd.to_datetime(extatt_quats['tim (tdt)'][-1])+pd.to_timedelta(1,'h')],\n",
    "#                 )\n",
    "\n",
    "# fig.update_layout(\n",
    "#                   autosize=False,    width=1000,    height=950,\n",
    "#                   legend= {'itemsizing': 'trace'},\n",
    "#                   font=font_dict,\n",
    "#                  )\n",
    "# fig.show(config=dict({\n",
    "#             'displayModeBar': False,\n",
    "#             'responsive': False,\n",
    "#             'staticPlot': False,\n",
    "#             'displaylogo': False,\n",
    "#             'showTips': False,\n",
    "#             }))\n"
   ]
  },
  {
   "cell_type": "markdown",
   "id": "afcf5db6",
   "metadata": {},
   "source": [
    "## Repeats in the attitude file"
   ]
  },
  {
   "cell_type": "code",
   "execution_count": 10,
   "id": "e9ca20ea",
   "metadata": {
    "ExecuteTime": {
     "end_time": "2022-12-07T22:01:29.503693Z",
     "start_time": "2022-12-07T22:01:29.490658Z"
    }
   },
   "outputs": [],
   "source": [
    "# tim 2018 11  8  0  8 51.4090000 0\n",
    "# sca  0.0064003782  0.0045788550 -0.3360005392  0.9418289160\n",
    "# pvi   110.8517422  5122.5155000  4545.7920000    -6.3928726    -2.6903757     3.1860359\n",
    "# tim 2018 11  8  0  8 51.4090000 0\n",
    "# sca  0.0064003782  0.0045788550 -0.3360005392  0.9418289160\n",
    "# pvi   110.8517422  5122.5155000  4545.7920000    -6.3928726    -2.6903757     3.1860359\n",
    "\n",
    "\n",
    "\n",
    "# tim 2018 11  8  3 12 27.4990000 0\n",
    "# sca -0.0061611997  0.0124282731 -0.9911857216  0.1317514438\n",
    "# pvi  1950.5770000  5598.9030000  3431.4302500    -6.0466343    -0.7203881     4.6038013\n",
    "# tim 2018 11  8  3 12 27.4990000 0\n",
    "# sca -0.0061611997  0.0124282731 -0.9911857216  0.1317514438\n",
    "# pvi  1950.5770000  5598.9030000  3431.4302500    -6.0466343    -0.7203881     4.6038013\n",
    "# tim 2018 11  8  3 12 27.4990000 0\n",
    "# sca -0.0061612039  0.0124282743 -0.9911856951  0.1317516428\n",
    "# pvi  1950.5770000  5598.9030000  3431.4302500    -6.0466343    -0.7203881     4.6038013\n"
   ]
  },
  {
   "cell_type": "markdown",
   "id": "ed89a99d",
   "metadata": {
    "ExecuteTime": {
     "end_time": "2022-11-28T19:40:58.222672Z",
     "start_time": "2022-11-28T19:40:58.217585Z"
    }
   },
   "source": [
    "## Write to Binary"
   ]
  },
  {
   "cell_type": "code",
   "execution_count": 11,
   "id": "67d0acbb",
   "metadata": {
    "ExecuteTime": {
     "end_time": "2022-12-07T22:01:29.518561Z",
     "start_time": "2022-12-07T22:01:29.505591Z"
    }
   },
   "outputs": [],
   "source": [
    "# #### Specify the input conditions\n",
    "\n",
    "# SATID          = 1807001. #1804607.0     #2018-046F\n",
    "# num_satellites = 1.\n",
    "# step_interval  = 1.       #seconds\n",
    "# version_number = 1.\n",
    "\n",
    "\n",
    "\n",
    "# startEpoch     = 181108190109.0       #(YYMMDDHHMMSS.00)\n",
    "# stopEpoch      = 181111050109.0       #(YYMMDDHHMMSS.00)\n",
    "# startFrac_S    = 00.18  #(fractional seconds, 00.SS)\n",
    "# stopFrac_S     = 00.18  #(fractional seconds, 00.SS)\n",
    "# intervalStep_S = 1.          #SSSSS.SSSSS\n",
    "\n",
    "\n",
    "#     # QQQ is the total # of separate movable panels + antenna quaternion  \n",
    "#     #     sets for this satellite (excludes SBF to J2000 quaternion set  \n",
    "#     #     which is mandatory for each satellite represented in the file). \n",
    "# QQQ = 1 \n",
    "\n",
    "#     # PPP is the number of movable panels represented for this satellite. \n",
    "# PPP = 2\n",
    "#     # AAA is the number of moveable antenna represented for this  satellite.\n",
    "#     #     One quaternion set may represent the attitude for up to two  \n",
    "#     #     movable panels and one movable antenna.                \n",
    "# AAA = 0\n",
    "\n",
    "# qqqpppaaa = float(f'{QQQ:03}{PPP:03}{AAA:03}')\n",
    "# #      QQQPPPAAA '1002000.0'\n",
    "\n",
    "# panel_number = 0.  # zero indicates the non-moveable body\n",
    "\n",
    "# #-------------------------------------------------------------\n",
    "\n",
    "# startDT = pd.to_datetime(startEpoch, format='%y%m%d%H%M%S')\n",
    "# stopDT  = pd.to_datetime(stopEpoch, format='%y%m%d%H%M%S')\n",
    "# freq_str = str(int(intervalStep_S))+\"S\"\n",
    "# len_dates = np.shape(pd.date_range(start=startDT, end=stopDT, freq=freq_str))[0]\n",
    "# print(\"Anticipating\",len_dates,\"data points.\" )\n",
    "# print(\"    Start:  \", startDT)\n",
    "# print(\"    Stop :  \", stopDT)\n",
    "# print(\"    Cadence:\", freq_str,\"(second)\")\n",
    "# # date_range = pd.date_range(start=start_epoch_trunc, end=stop_epoch_trunc, freq=freq_str)\n"
   ]
  },
  {
   "cell_type": "code",
   "execution_count": 12,
   "id": "109a2b6e",
   "metadata": {
    "ExecuteTime": {
     "end_time": "2022-12-07T22:01:29.533097Z",
     "start_time": "2022-12-07T22:01:29.520356Z"
    }
   },
   "outputs": [],
   "source": [
    "# Q1 = Icesat2_att_body['q1'].values\n",
    "# Q2 = Icesat2_att_body['q2'].values\n",
    "# Q3 = Icesat2_att_body['q3'].values\n",
    "# Q4 = Icesat2_att_body['q4'].values"
   ]
  },
  {
   "cell_type": "code",
   "execution_count": 13,
   "id": "dc38ecbf",
   "metadata": {
    "ExecuteTime": {
     "end_time": "2022-12-07T22:01:29.549990Z",
     "start_time": "2022-12-07T22:01:29.535051Z"
    }
   },
   "outputs": [],
   "source": [
    "# from scipy.io import FortranFile\n",
    "\n",
    "# f = FortranFile('test_file', 'w')\n",
    "\n",
    "# ### --------------------------------------------------------------------\n",
    "# ###                   1) GENERAL HEADER RECORD  \n",
    "# ### --------------------------------------------------------------------\n",
    "# ###                   Read the first record, this is the header buffer\n",
    "# ###                   Use 64-bit float datatype. \n",
    "# ###                   Each record contains 9, 64-bit words.\n",
    "# ### --------------------------------------------------------------------\n",
    "\n",
    "# record1_HeaderGeneral = [\n",
    "#             -6666666.0,  #     1--- Record Indicator #(-6666666.00)\n",
    "#    version_number  ,     #     2--- Version Number\n",
    "#    num_satellites  ,     #     3--- Number of Satellites\n",
    "#               0.0  ,     #     Not  used at  present  time\n",
    "#               0.0  ,     #     Not  used at  present  time\n",
    "#               0.0  ,     #     Not  used at  present  time\n",
    "#               0.0  ,     #     Not  used at  present  time\n",
    "#               0.0  ,     #     Not  used at  present  time\n",
    "#               0.0  ,     #     Not  used at  present  time\n",
    "#                 ]\n",
    "\n",
    "# ### ---------------------------------------------------------------------\n",
    "# ###                   2) SATELLITE INFORMATION RECORD                \n",
    "# ### ---------------------------------------------------------------------\n",
    "# ###                   The number of these records equals the number of \n",
    "# ###                   satellites from the General Header Record.  \n",
    "# ###                   All of these records must directly follow the \n",
    "# ###                   above General Header Record.\n",
    "# ### ---------------------------------------------------------------------\n",
    "\n",
    "# record2_HeaderSatInfo = [\n",
    "#         -7777777.0 ,     # 1--- Record Indicator       (-7777777.00)\n",
    "#               0.0  ,     #      Not used at present time\n",
    "#             SATID  ,     # 3--- Satellite ID\n",
    "#    intervalStep_S  ,     # 4--- Interval              (SSSSS.SSSSS)\n",
    "#        startEpoch  ,     # 5--- Start time            (YYMMDDHHMMSS.00)\n",
    "#       startFrac_S  ,     # 6--- Start frac secs       (00.SS)\n",
    "#         stopEpoch  ,     # 7--- Stop time             (YYMMDDHHMMSS.00) \n",
    "#        stopFrac_S  ,     # 8--- Stop frac secs        (00.SS)\n",
    "#         qqqpppaaa  ,     # 9--- QQQPPPAAA     # QQQ is the total # of separate movable panels + antenna quaternion  \n",
    "#                                               #      sets for this satellite (excludes SBF to J2000 quaternion set  \n",
    "#                                               #      which is mandatory for each satellite represented in the file). \n",
    "#                                               # PPP is the number of movable panels represented for this satellite. \n",
    "#                                               # AAA is the number of moveable antenna represented for this  satellite.\n",
    "#                                               #      One quaternion set may represent the attitude for up to two  \n",
    "#                                               #      movable panels and one movable antenna.                \n",
    "#                 ]\n",
    "\n",
    "        \n",
    "\n",
    "# ### ---------------------------------------------------------------------\n",
    "# ###                   3) QUATERNION SET HEADER RECORD  \n",
    "# ### ---------------------------------------------------------------------\n",
    "# ###                   This header record must precede the quaternion \n",
    "# ###                   data records for a a particular set of quaternions.\n",
    "# ### ---------------------------------------------------------------------\n",
    "\n",
    "# record3_HeaderQuatInfo = [\n",
    "#        -8888888.0  ,     # 1 --- Record Indicator      (-8888888.00)\n",
    "#             SATID  ,     # 2 --- Satellite ID\n",
    "#      panel_number  ,     # 3 --- Panel # (MMMNNN)      (0 if not moveable; MMM is 1st panel NNN is 2nd panel number)\n",
    "#                0.  ,     # 4 --- AntennaLink number\n",
    "#        startEpoch  ,     # 5 --- Start time            (YYMMDDHHMMSS.00)\n",
    "#       startFrac_S  ,     # 6 --- Start frac secs       (00.SS)\n",
    "#         stopEpoch  ,     # 7 --- Stop time             (YYMMDDHHMMSS.00) \n",
    "#        stopFrac_S  ,     # 8 --- Stop frac secs        (00.SS)\n",
    "#    intervalStep_S  ,     # 9 --- Interval              (SSSSS.SSSSS) \n",
    "#                 ]\n",
    "\n",
    "\n",
    "# f.write_record(np.array(record1_HeaderGeneral, dtype=float))\n",
    "# f.write_record(np.array(record2_HeaderSatInfo, dtype=float))\n",
    "# f.write_record(np.array(record3_HeaderQuatInfo, dtype=float))\n",
    "\n",
    "\n",
    "\n",
    "\n",
    "\n",
    "\n",
    "\n",
    "\n",
    "# ### ---------------------------------------------------------------------\n",
    "# ###                   4) DATA RECORD  \n",
    "# ### ---------------------------------------------------------------------\n",
    "# ###                   These records apply to a particular quaternion set\n",
    "# ###                   and must follow (in time ascending order) the \n",
    "# ###                   quaternion set header record. \n",
    "# ### ---------------------------------------------------------------------\n",
    "# ###                      Notes from Vol5 document:\n",
    "# ###                      1) All quaternion sets(SBF to J2000 , or MVP to SBF , or MVA to SBF) \n",
    "# ###                         for a particular satellite ID must have the same interval, as well\n",
    "# ###                         as the same start and stop times.\n",
    "# ###                      2) Quaternion information must include 10 Integration steps \n",
    "# ###                         before & after the EPOCH of the satellite in the GEODYN run.\n",
    "# ###                      3) q1 = -9999999.000 indicates quaternion information is missing\n",
    "# ###                         for this time point. GEODYN will use the internal attitude module if selected.\n",
    "# ###                      4) A panel or antenna must not have a designation number of 0. \n",
    "# ###                      5) GEODYN's quaternion definition is Eulerion. Therefore, \n",
    "# ###                         the scalar argument is defined as positive. Also, the quaternions\n",
    "# ###                         should be provided without any discontinuities to provide for proper interpolation.\n",
    "\n",
    "\n",
    "# for i, val in enumerate(Icesat2_att_body['Dates'].values):\n",
    "#     record4_Data = [\n",
    "#                      0.,     #       Not used at present time\n",
    "#                      0.,     #       Not used at present time\n",
    "#                  Q1[i] ,     # 3 --- Q1      [  sin (/2)n1  ]\n",
    "#                  Q2[i] ,     # 4 --- Q2      [  sin (/2)n2  ]\n",
    "#                  Q3[i] ,     # 5 --- Q3      [  sin (/2)n3  ]\n",
    "#                  Q4[i] ,     # 6 --- Q4      [  cos (/2)    ]\n",
    "#                      0.,     #       Not used at present time\n",
    "#                      0.,     #       Not used at present time\n",
    "#                      0.,     #       Not used at present time\n",
    "#                     ]\n",
    "#     f.write_record(np.array(record4_Data, dtype=float))\n",
    "\n",
    "\n",
    "# print('Reached end of Data sets.  Closing the File')\n",
    "# f.close()\n"
   ]
  },
  {
   "cell_type": "code",
   "execution_count": 14,
   "id": "50e90229",
   "metadata": {
    "ExecuteTime": {
     "end_time": "2022-12-07T22:01:29.565029Z",
     "start_time": "2022-12-07T22:01:29.551993Z"
    }
   },
   "outputs": [],
   "source": [
    "# f = FortranFile('test_file', 'r')\n",
    "# print(f.read_record(float))\n",
    "# print(f.read_record(float))\n",
    "# f.close()\n"
   ]
  },
  {
   "cell_type": "markdown",
   "id": "ef09cee8",
   "metadata": {},
   "source": [
    "## Dates"
   ]
  },
  {
   "cell_type": "code",
   "execution_count": 15,
   "id": "d9559683",
   "metadata": {
    "ExecuteTime": {
     "end_time": "2022-12-07T22:01:29.580122Z",
     "start_time": "2022-12-07T22:01:29.566980Z"
    }
   },
   "outputs": [],
   "source": [
    "# datestart_string = str(header['SATINFO_01']['Start time (YYMMDDHHMMSS.00)']).split('.')[0]\n",
    "# datestop_string  = str(header['SATINFO_01']['Stop time (YYMMDDHHMMSS.00)']).split('.')[0]\n",
    "# date_start       = pd.to_datetime(datestart_string, format='%y%m%d%H%M%S')\n",
    "# date_stop        = pd.to_datetime(datestop_string, format='%y%m%d%H%M%S')\n",
    "# interval         = header['SATINFO_01']['Interval (SSSSS.SSSSS)']\n",
    "\n",
    "# # date_start+pd.to_timedelta(interval,'s')\n",
    "\n",
    "# Dates = []\n",
    "\n",
    "# for i, val in enumerate(data[1]['q1']):\n",
    "#     if i == 0:\n",
    "#         Dates.append(date_start)\n",
    "#     else:\n",
    "#         Dates.append(Dates[-1]+pd.to_timedelta(interval,'s'))\n",
    "\n",
    "    \n",
    "    \n",
    "\n"
   ]
  }
 ],
 "metadata": {
  "kernelspec": {
   "display_name": "Python 3",
   "language": "python",
   "name": "python3"
  },
  "language_info": {
   "codemirror_mode": {
    "name": "ipython",
    "version": 3
   },
   "file_extension": ".py",
   "mimetype": "text/x-python",
   "name": "python",
   "nbconvert_exporter": "python",
   "pygments_lexer": "ipython3",
   "version": "3.8.8"
  },
  "toc": {
   "base_numbering": 1,
   "nav_menu": {},
   "number_sections": true,
   "sideBar": true,
   "skip_h1_title": false,
   "title_cell": "Table of Contents",
   "title_sidebar": "Contents",
   "toc_cell": false,
   "toc_position": {
    "height": "calc(100% - 180px)",
    "left": "10px",
    "top": "150px",
    "width": "206px"
   },
   "toc_section_display": true,
   "toc_window_display": true
  },
  "varInspector": {
   "cols": {
    "lenName": 16,
    "lenType": 16,
    "lenVar": 40
   },
   "kernels_config": {
    "python": {
     "delete_cmd_postfix": "",
     "delete_cmd_prefix": "del ",
     "library": "var_list.py",
     "varRefreshCmd": "print(var_dic_list())"
    },
    "r": {
     "delete_cmd_postfix": ") ",
     "delete_cmd_prefix": "rm(",
     "library": "var_list.r",
     "varRefreshCmd": "cat(var_dic_list()) "
    }
   },
   "types_to_exclude": [
    "module",
    "function",
    "builtin_function_or_method",
    "instance",
    "_Feature"
   ],
   "window_display": false
  }
 },
 "nbformat": 4,
 "nbformat_minor": 5
}
