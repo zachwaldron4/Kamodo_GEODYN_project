{
 "cells": [
  {
   "cell_type": "markdown",
   "id": "cbd82f25",
   "metadata": {},
   "source": [
    "Yes, sounds like a plan. Zach, I can point you to the late-2018 Spire data as well.\n",
    " \n",
    "\n",
    "On the parallel/recent-data effort, let’s choose one single high-inclination Spire satellite that is at similar altitude to IceSat2 during the late-2019-to-early-2021 time period. A similar LT would also be good. I don’t recall how long it takes IceSat to precess 12 hours in local time, but most of the high-inclination Spire satellites seem to be sun-sync, so we may want to identify a shorter time period of interest, and then select which Spire satellite is at a nearby LT to IceSat2 at that particular time. Zach, you have the spreadsheet from Vu that has the LT of the Spire orbits, so we can start there. Do we have a time history of IceSat2’s LT of ascending or descending nodes?\n",
    "\n"
   ]
  },
  {
   "cell_type": "code",
   "execution_count": 1,
   "id": "575c3985",
   "metadata": {
    "ExecuteTime": {
     "end_time": "2022-11-15T21:28:24.224429Z",
     "start_time": "2022-11-15T21:28:23.931315Z"
    }
   },
   "outputs": [],
   "source": [
    "import pandas as pd"
   ]
  },
  {
   "cell_type": "code",
   "execution_count": 2,
   "id": "277fca90",
   "metadata": {
    "ExecuteTime": {
     "end_time": "2022-11-15T21:28:25.180055Z",
     "start_time": "2022-11-15T21:28:24.660437Z"
    }
   },
   "outputs": [],
   "source": [
    "%load_ext autoreload\n",
    "%autoreload 2\n",
    "\n",
    "import sys  \n",
    "import pickle \n",
    "import gc\n",
    "\n",
    "sys.path.insert(0, '/data/geodyn_proj/pygeodyn/pygeodyn_develop/')\n",
    "from PYGEODYN_Plot import *\n"
   ]
  },
  {
   "cell_type": "markdown",
   "id": "41c0aef2",
   "metadata": {},
   "source": [
    "# Attempt from Den File (LLA)"
   ]
  },
  {
   "cell_type": "code",
   "execution_count": 3,
   "id": "5f736a21",
   "metadata": {
    "ExecuteTime": {
     "end_time": "2022-11-15T21:28:25.538642Z",
     "start_time": "2022-11-15T21:28:25.521518Z"
    }
   },
   "outputs": [],
   "source": [
    "global_path = '/data/zach_work/Paper2022_assessment/runsetting_PhysicalCDasFixedValue/'\n",
    "dir_save = '/data/data_geodyn/results/icesat2/Paper2022_PhysicalCD/SavedResults/'\n",
    "dir_save_camel = '/data/data_geodyn/results/icesat2/Paper2022_PhysicalCD/CAMEL/icesat2_modelassessment_fixedcd/'\n",
    "plot_dir = '/data/zach_work/Paper2022_assessment/plots/'\n",
    "\n",
    "#####----------------------------------------------------------------------------------\n",
    "run_list = [  \n",
    "#                'msis2'      ,   \n",
    "#                'tiegcm_oc'  ,\n",
    "               'jb2008'     ,\n",
    "#                'hasdm_oc'   ,\n",
    "#                'gitm'       ,           \n",
    "#                'dtm2020_o'  ,\n",
    "#                'ctipe_oc'   ,\n",
    "           ]\n",
    "\n",
    "\n",
    "\n",
    "#####----------------------------------------------------------------------------------\n",
    "##### Choose a Stage:\n",
    "# STAGE = '1_Calculate_DRIA_CD'\n",
    "STAGE = '2_RunGEODYN_with_PhysicalFixedCD'\n",
    "# STAGE = '3_RunGEODYN_AdjustCDforBias'\n",
    "# STAGE = '4_GetMeanCDfromAdjustment'\n",
    "# STAGE = '5_RunGEODYN_FixedMeanCD'\n",
    "\n",
    "\n",
    "\n",
    "#####----------------------------------------------------------------------------------\n",
    "##### Choose if GEODYN should be Re-run:\n",
    "# Logic_RUN = True\n",
    "Logic_RUN = False\n",
    "#####----------------------------------------------------------------------------------\n",
    "save_plot_flag = False\n",
    "#####----------------------------------------------------------------------------------\n",
    "Logic_makeCSV = False\n",
    "\n",
    "####\n",
    "Logic_read_pickles = False\n"
   ]
  },
  {
   "cell_type": "code",
   "execution_count": 4,
   "id": "c4076e81",
   "metadata": {
    "ExecuteTime": {
     "end_time": "2022-11-15T21:28:26.462474Z",
     "start_time": "2022-11-15T21:28:26.429831Z"
    }
   },
   "outputs": [
    {
     "name": "stdout",
     "output_type": "stream",
     "text": [
      "The autoreload extension is already loaded. To reload it, use:\n",
      "  %reload_ext autoreload\n"
     ]
    }
   ],
   "source": [
    "%load_ext autoreload\n",
    "%autoreload 2\n",
    "\n",
    "import sys  \n",
    "import pickle \n",
    "import gc\n",
    "import os\n",
    "\n",
    "if Logic_read_pickles:\n",
    "    sys.path.insert(0, '/data/geodyn_proj/pygeodyn/pygeodyn_develop/')\n",
    "    from PYGEODYN import Pygeodyn\n",
    "\n",
    "\n",
    "    if STAGE == \"1_Calculate_DRIA_CD\":\n",
    "        settings_dir = 'DRIAruns/'\n",
    "        runtype = '_DRIA.yaml'\n",
    "        pickleName= '_2week_DRIA.pkl'\n",
    "\n",
    "\n",
    "    elif STAGE== \"2_RunGEODYN_with_PhysicalFixedCD\":\n",
    "        runtype = '_BWDRAG_Cd2.5.yaml'    \n",
    "        settings_dir = 'CD_2.5/'\n",
    "        pickleName= '_2week_CD2.5.pkl'\n",
    "\n",
    "\n",
    "    elif STAGE== \"3_RunGEODYN_AdjustCDforBias\":\n",
    "        runtype = '_BWDRAG_adjustCD.yaml'    \n",
    "        settings_dir = 'Adjust_for_bias/'\n",
    "        pickleName= '_2week_CDadjust.pkl'\n",
    "\n",
    "    elif STAGE== \"4_GetMeanCDfromAdjustment\":\n",
    "        runtype = '_BWDRAG_adjustCD.yaml'    \n",
    "        settings_dir = 'Adjust_for_bias/'\n",
    "        pickleName= '_2week_CDadjust.pkl'\n",
    "\n",
    "    elif STAGE== \"5_RunGEODYN_FixedMeanCD\":\n",
    "        runtype = '_BWDRAG_FixedMeanCD.yaml'    \n",
    "        settings_dir = 'Adjust_for_bias/'\n",
    "        pickleName= '_2week_FixedMeanCD.pkl'\n",
    "\n",
    "\n",
    "    else:\n",
    "        sys.exit(0)\n",
    "\n",
    "    #####################################################\n",
    "    ###### RUN GEODYN\n",
    "    ###### -----------------------------------------------\n",
    "    if Logic_RUN:\n",
    "        for i,model in enumerate(run_list):   \n",
    "            run_settings = global_path+settings_dir+ ''+model+runtype\n",
    "            ### Load the data into an object\n",
    "            RunObject = Pygeodyn(run_settings)\n",
    "            RunObject.RUN_GEODYN()\n",
    "            RunObject = 0\n",
    "            gc.collect() \n",
    "    # sys.exit(0)\n",
    "\n",
    "    ###### -----------------------------------------------\n",
    "\n",
    "\n",
    "    for i,model in enumerate(run_list):     \n",
    "\n",
    "        pickle_file = dir_save+model+pickleName\n",
    "\n",
    "        if not os.path.exists(pickle_file):\n",
    "            print('Must create pickle file...')\n",
    "            print('   ',  pickle_file)\n",
    "            print('   ', 'Reading Geodyn Data')\n",
    "\n",
    "            run_settings = global_path+settings_dir+ ''+model+runtype\n",
    "            ### Load the data into an object\n",
    "            Obj = Pygeodyn(run_settings)\n",
    "            Obj.getData_BigData_lowmemory()\n",
    "            gc.collect()\n",
    "\n",
    "            #### Pickle the object to save it\n",
    "            print('   ', 'Saving pickle')\n",
    "            filehandler = open(pickle_file, 'wb') \n",
    "            pickle.dump(Obj, filehandler)\n",
    "            filehandler.close()\n",
    "            Obj = 0\n",
    "            print('   ', 'Saved pickle')\n",
    "\n",
    "    Obj_Geodyn = {}\n",
    "    for i,model in enumerate(run_list):     \n",
    "        ### Load the data if the pickles exist\n",
    "        print()\n",
    "        print()\n",
    "        gc.collect()\n",
    "\n",
    "        pickle_file = dir_save+model + pickleName\n",
    "\n",
    "        filehandler = open(pickle_file, 'rb') \n",
    "        Obj_Geodyn[model] = pickle.load(filehandler)\n",
    "        filehandler.close()\n",
    "        print('Loaded data from pickle... ', model)\n",
    "\n",
    "\n",
    "    gc.collect()"
   ]
  },
  {
   "cell_type": "code",
   "execution_count": 5,
   "id": "b696838a",
   "metadata": {
    "ExecuteTime": {
     "end_time": "2022-11-15T21:28:27.287774Z",
     "start_time": "2022-11-15T21:28:27.273358Z"
    }
   },
   "outputs": [],
   "source": [
    "# Obj_Geodyn['jb2008'].__dict__.keys()"
   ]
  },
  {
   "cell_type": "code",
   "execution_count": 6,
   "id": "a2761971",
   "metadata": {
    "ExecuteTime": {
     "end_time": "2022-11-15T21:28:27.695463Z",
     "start_time": "2022-11-15T21:28:27.680819Z"
    }
   },
   "outputs": [],
   "source": [
    "# Obj_Geodyn['jb2008'].__dict__['Density']['2018.313.01']"
   ]
  },
  {
   "cell_type": "code",
   "execution_count": 7,
   "id": "e3f5c989",
   "metadata": {
    "ExecuteTime": {
     "end_time": "2022-11-15T21:28:28.157504Z",
     "start_time": "2022-11-15T21:28:28.122149Z"
    }
   },
   "outputs": [],
   "source": [
    "csv_dicts = {}\n",
    "\n",
    "for imodel in run_list:\n",
    "#     obj_m1 = Obj_Geodyn[imodel]\n",
    "    filename = dir_save_camel+'TwoWeeks_FixedCD2.5_'+imodel+'.csv'\n",
    "\n",
    "\n",
    "    csv_dicts[imodel] = pd.read_csv(filename, sep=',')\n",
    "\n"
   ]
  },
  {
   "cell_type": "code",
   "execution_count": 14,
   "id": "6aafe0ec",
   "metadata": {
    "ExecuteTime": {
     "end_time": "2022-11-15T21:29:14.516723Z",
     "start_time": "2022-11-15T21:29:14.497273Z"
    }
   },
   "outputs": [
    {
     "data": {
      "text/plain": [
       "0"
      ]
     },
     "execution_count": 14,
     "metadata": {},
     "output_type": "execute_result"
    }
   ],
   "source": [
    "pd.to_datetime(csv_dicts[imodel]['Date'])[0].hour"
   ]
  },
  {
   "cell_type": "code",
   "execution_count": 65,
   "id": "f4e626d9",
   "metadata": {
    "ExecuteTime": {
     "end_time": "2022-11-15T21:48:11.577607Z",
     "start_time": "2022-11-15T21:48:09.998075Z"
    }
   },
   "outputs": [],
   "source": [
    "calc_slt = []\n",
    "\n",
    "for it, timeval in enumerate(csv_dicts[imodel]['Date']):      \n",
    "    time = pd.to_datetime(timeval)\n",
    "    \n",
    "    lon = csv_dicts[imodel]['Lon'][it] #lon_array\n",
    "    UT = time.hour  \n",
    "#     print(UT)\n",
    "    calc_slt.append(np.mod(lon/15 + UT, 23))\n",
    "    \n",
    "\n",
    "        \n",
    "        \n",
    "        \n",
    "csv_dicts[imodel]['LocTime'] = calc_slt"
   ]
  },
  {
   "cell_type": "code",
   "execution_count": null,
   "id": "787ec74f",
   "metadata": {
    "ExecuteTime": {
     "end_time": "2022-11-14T19:06:42.815038Z",
     "start_time": "2022-11-14T19:06:42.789588Z"
    }
   },
   "outputs": [],
   "source": []
  },
  {
   "cell_type": "code",
   "execution_count": null,
   "id": "f005bfb9",
   "metadata": {
    "ExecuteTime": {
     "end_time": "2022-11-14T19:08:12.719598Z",
     "start_time": "2022-11-14T19:08:12.694537Z"
    }
   },
   "outputs": [],
   "source": []
  },
  {
   "cell_type": "code",
   "execution_count": 66,
   "id": "bbdbaf2a",
   "metadata": {
    "ExecuteTime": {
     "end_time": "2022-11-15T21:48:11.731053Z",
     "start_time": "2022-11-15T21:48:11.711829Z"
    }
   },
   "outputs": [],
   "source": [
    "# csv['Date']"
   ]
  },
  {
   "cell_type": "code",
   "execution_count": 67,
   "id": "4b7a9111",
   "metadata": {
    "ExecuteTime": {
     "end_time": "2022-11-15T21:48:11.887568Z",
     "start_time": "2022-11-15T21:48:11.868310Z"
    }
   },
   "outputs": [],
   "source": [
    "# UT = 12\n",
    "\n",
    "# # Figure out the timing stuff within TIEGCM \n",
    "# ut_index = np.where(tiegcm['ut']==UT)[0][0]  # for tiegcm indexing\n",
    "# calc_slt = np.mod(tiegcm['lon']/15 + tiegcm['ut'][ut_index], 24)\n",
    "# slt  = np.sort(calc_slt)\n",
    "# islt = np.argsort(calc_slt)\n",
    "\n"
   ]
  },
  {
   "cell_type": "code",
   "execution_count": 68,
   "id": "a640479d",
   "metadata": {
    "ExecuteTime": {
     "end_time": "2022-11-15T21:48:12.054776Z",
     "start_time": "2022-11-15T21:48:12.022246Z"
    }
   },
   "outputs": [
    {
     "data": {
      "text/plain": [
       "0     2018-11-09 00:03:00\n",
       "1     2018-11-09 00:05:00\n",
       "2     2018-11-09 00:07:00\n",
       "3     2018-11-09 00:09:00\n",
       "4     2018-11-09 00:11:00\n",
       "             ...         \n",
       "84    2018-11-09 02:51:00\n",
       "85    2018-11-09 02:53:00\n",
       "86    2018-11-09 02:55:00\n",
       "87    2018-11-09 02:57:00\n",
       "88    2018-11-09 02:59:00\n",
       "Name: Date, Length: 89, dtype: object"
      ]
     },
     "execution_count": 68,
     "metadata": {},
     "output_type": "execute_result"
    }
   ],
   "source": [
    "mask_day1 = pd.to_datetime(csv_dicts[imodel]['Date'].values).day==9\n",
    "\n",
    "mask_orbits = pd.to_datetime(csv_dicts[imodel]['Date'].values).hour<3\n",
    "\n",
    "\n",
    "csv_dicts[imodel]['Date'][mask_day1 & mask_orbits]"
   ]
  },
  {
   "cell_type": "code",
   "execution_count": 69,
   "id": "2301fe50",
   "metadata": {
    "ExecuteTime": {
     "end_time": "2022-11-15T21:48:12.289346Z",
     "start_time": "2022-11-15T21:48:12.191427Z"
    }
   },
   "outputs": [
    {
     "name": "stdout",
     "output_type": "stream",
     "text": [
      "The autoreload extension is already loaded. To reload it, use:\n",
      "  %reload_ext autoreload\n"
     ]
    },
    {
     "data": {
      "application/vnd.plotly.v1+json": {
       "config": {
        "displayModeBar": false,
        "displaylogo": false,
        "plotlyServerURL": "https://plot.ly",
        "responsive": false,
        "showTips": false,
        "staticPlot": false
       },
       "data": [
        {
         "line": {
          "color": "blue",
          "width": 2
         },
         "marker": {
          "color": "blue",
          "size": 3
         },
         "mode": "markers+text",
         "opacity": 1,
         "showlegend": false,
         "type": "scattergl",
         "x": [
          214.157,
          213.3442,
          212.4879,
          211.5622,
          210.5233,
          209.2896,
          207.6843,
          205.2384,
          200.1632,
          175.487,
          52.4937,
          38.3132,
          34.264,
          32.1059,
          30.6192,
          29.4451,
          28.4399,
          27.5345,
          26.6909,
          25.886,
          25.1042,
          24.3338,
          23.5648,
          22.7876,
          21.9911,
          21.1613,
          20.278,
          19.3091,
          18.198,
          16.8327,
          14.9521,
          11.7706,
          3.3765,
          277.4486,
          211.7584,
          204.4143,
          201.4387,
          199.6309,
          198.2993,
          197.2062,
          196.2479,
          195.3712,
          194.5455,
          193.7515,
          192.9755,
          192.2067,
          191.4355,
          190.6518,
          189.8435,
          188.9947,
          188.0808,
          187.0619,
          185.8637,
          184.3297,
          182.0595,
          177.6285,
          160.1071,
          34.8543,
          15.6621,
          11.0629,
          8.7452,
          7.1915,
          5.9834,
          4.9588,
          4.0416,
          3.1906,
          2.381,
          1.5965,
          0.825,
          0.0563,
          359.2808,
          358.4878,
          357.6638,
          356.7897,
          355.8357,
          354.75,
          353.432,
          351.6535,
          348.7588,
          341.803,
          284.4091,
          190.3614,
          181.4298,
          178.1496,
          176.2349,
          174.854,
          173.7346,
          172.7607,
          171.8743
         ],
         "xaxis": "x",
         "y": [
          18.3492,
          26.024,
          33.6902,
          41.3453,
          48.9875,
          56.6151,
          64.2256,
          71.8125,
          79.3464,
          86.5172,
          84.851,
          77.4834,
          69.9305,
          62.3372,
          54.7229,
          47.0925,
          39.4481,
          31.7913,
          24.1242,
          16.4492,
          8.7694,
          1.0883,
          -6.5904,
          -14.2632,
          -21.9266,
          -29.5777,
          -37.2141,
          -44.8343,
          -52.4371,
          -60.0214,
          -67.5841,
          -75.1141,
          -82.5453,
          -87.9727,
          -81.8083,
          -74.3576,
          -66.8226,
          -59.2568,
          -51.6697,
          -44.064,
          -36.4409,
          -28.8015,
          -21.1476,
          -13.4816,
          -5.8065,
          1.8743,
          9.557,
          17.238,
          24.9137,
          32.5812,
          40.238,
          47.882,
          55.5118,
          63.1249,
          70.7159,
          78.2619,
          85.5678,
          85.8447,
          78.5701,
          71.0277,
          63.4384,
          55.8267,
          48.1985,
          40.5561,
          32.9009,
          25.2351,
          17.5609,
          9.8815,
          2.2002,
          -5.4793,
          -13.1533,
          -20.8184,
          -28.4716,
          -36.1105,
          -43.7334,
          -51.339,
          -58.9262,
          -66.4926,
          -74.0291,
          -81.4867,
          -87.8849,
          -82.8632,
          -75.4415,
          -67.913,
          -60.3506,
          -52.7664,
          -45.1633,
          -37.5426,
          -29.9055
         ],
         "yaxis": "y"
        },
        {
         "marker": {
          "color": "blue",
          "size": 3
         },
         "mode": "markers",
         "opacity": 1,
         "showlegend": false,
         "type": "scattergl",
         "x": [
          14.277133333333333,
          14.222946666666667,
          14.16586,
          14.104146666666667,
          14.034886666666667,
          13.95264,
          13.84562,
          13.68256,
          13.344213333333332,
          11.699133333333332,
          3.49958,
          2.5542133333333337,
          2.284266666666667,
          2.1403933333333334,
          2.04128,
          1.9630066666666666,
          1.8959933333333334,
          1.8356333333333335,
          1.7793933333333334,
          1.7257333333333333,
          1.6736133333333332,
          1.6222533333333333,
          1.5709866666666668,
          1.5191733333333335,
          1.4660733333333333,
          1.4107533333333333,
          1.3518666666666665,
          1.2872733333333335,
          1.2132,
          2.12218,
          1.9968066666666666,
          1.7847066666666667,
          1.2251,
          19.496573333333334,
          15.117226666666665,
          14.62762,
          14.429246666666668,
          14.308726666666667,
          14.219953333333333,
          14.147079999999999,
          14.083193333333332,
          14.024746666666665,
          13.9697,
          13.916766666666666,
          13.865033333333335,
          13.813780000000001,
          13.762366666666667,
          13.71012,
          13.656233333333335,
          13.599646666666667,
          13.538720000000001,
          13.470793333333335,
          13.390913333333334,
          13.288646666666667,
          13.137300000000002,
          12.8419,
          11.673806666666668,
          3.32362,
          2.04414,
          2.7375266666666667,
          2.5830133333333336,
          2.479433333333333,
          2.3988933333333335,
          2.3305866666666666,
          2.26944,
          2.2127066666666666,
          2.158733333333333,
          2.1064333333333334,
          2.055,
          2.0037533333333335,
          2.952053333333332,
          2.8991866666666652,
          2.844253333333331,
          2.7859799999999986,
          2.7223799999999976,
          2.6499999999999986,
          2.5621333333333354,
          2.4435666666666656,
          2.250586666666667,
          1.7868666666666648,
          20.960606666666667,
          14.690760000000001,
          14.09532,
          13.87664,
          13.748993333333335,
          13.656933333333335,
          13.582306666666666,
          13.517380000000001,
          13.458286666666668
         ],
         "xaxis": "x2",
         "y": [
          18.3492,
          26.024,
          33.6902,
          41.3453,
          48.9875,
          56.6151,
          64.2256,
          71.8125,
          79.3464,
          86.5172,
          84.851,
          77.4834,
          69.9305,
          62.3372,
          54.7229,
          47.0925,
          39.4481,
          31.7913,
          24.1242,
          16.4492,
          8.7694,
          1.0883,
          -6.5904,
          -14.2632,
          -21.9266,
          -29.5777,
          -37.2141,
          -44.8343,
          -52.4371,
          -60.0214,
          -67.5841,
          -75.1141,
          -82.5453,
          -87.9727,
          -81.8083,
          -74.3576,
          -66.8226,
          -59.2568,
          -51.6697,
          -44.064,
          -36.4409,
          -28.8015,
          -21.1476,
          -13.4816,
          -5.8065,
          1.8743,
          9.557,
          17.238,
          24.9137,
          32.5812,
          40.238,
          47.882,
          55.5118,
          63.1249,
          70.7159,
          78.2619,
          85.5678,
          85.8447,
          78.5701,
          71.0277,
          63.4384,
          55.8267,
          48.1985,
          40.5561,
          32.9009,
          25.2351,
          17.5609,
          9.8815,
          2.2002,
          -5.4793,
          -13.1533,
          -20.8184,
          -28.4716,
          -36.1105,
          -43.7334,
          -51.339,
          -58.9262,
          -66.4926,
          -74.0291,
          -81.4867,
          -87.8849,
          -82.8632,
          -75.4415,
          -67.913,
          -60.3506,
          -52.7664,
          -45.1633,
          -37.5426,
          -29.9055
         ],
         "yaxis": "y2"
        },
        {
         "line": {
          "color": "orange",
          "width": 2
         },
         "marker": {
          "color": "orange",
          "size": 3
         },
         "mode": "markers+text",
         "opacity": 1,
         "showlegend": false,
         "type": "scattergl",
         "x": [
          24.2253,
          23.3114,
          22.2927,
          21.0954,
          19.5646,
          17.3054,
          12.925,
          356.0063,
          231.2072,
          211.0878,
          206.3849,
          204.0348,
          202.4665,
          201.2504,
          200.221,
          199.3006,
          198.4475,
          197.6365,
          196.8511,
          196.0791,
          195.3102,
          194.5349,
          193.7426,
          192.9197,
          192.0474,
          191.0963,
          190.0152,
          188.7051,
          186.9422,
          184.0859,
          177.2876,
          122.6603,
          25.7894,
          16.6939,
          13.3907,
          11.47,
          10.0871,
          8.9668,
          7.9926,
          7.1061,
          6.2743,
          5.4765,
          4.6984,
          3.929,
          3.1585,
          2.3769,
          1.5728,
          0.7307,
          359.8279,
          358.8275,
          357.6623,
          356.1945,
          354.0838,
          350.2013,
          337.4001,
          217.6081,
          188.6411,
          183.227,
          180.689,
          179.0454,
          177.7919,
          176.7415,
          175.8085,
          174.9474,
          174.1315,
          173.3432,
          172.5698,
          171.801,
          171.0271,
          170.2378,
          169.4202,
          168.5563,
          167.6188,
          166.5606,
          165.2924,
          163.6173,
          160.995,
          155.2237,
          120.4319,
          5.1971,
          353.8027,
          350.1281,
          348.0851,
          346.6476,
          345.4986,
          344.5077,
          343.6108,
          342.7725,
          341.9707
         ],
         "xaxis": "x",
         "y": [
          -32.7113,
          -40.3416,
          -47.9552,
          -55.5509,
          -63.1272,
          -70.6793,
          -78.1855,
          -85.4608,
          -85.9842,
          -78.7686,
          -71.2683,
          -63.718,
          -56.1425,
          -48.5473,
          -40.934,
          -33.3037,
          -25.6578,
          -17.9983,
          -10.3279,
          -2.6498,
          5.0323,
          12.7149,
          20.3942,
          28.067,
          35.7304,
          43.3821,
          51.0204,
          58.6437,
          66.2487,
          73.8261,
          81.328,
          87.8401,
          82.9388,
          75.4791,
          67.9115,
          60.3118,
          52.693,
          45.0587,
          37.4108,
          29.751,
          22.0814,
          14.4046,
          6.7238,
          -0.9574,
          -8.6352,
          -16.3062,
          -23.967,
          -31.6149,
          -39.2477,
          -46.8639,
          -54.4625,
          -62.042,
          -69.5983,
          -77.1144,
          -84.4657,
          -86.8785,
          -79.8341,
          -72.3473,
          -64.8017,
          -57.2293,
          -49.6367,
          -42.026,
          -34.3981,
          -26.7543,
          -19.0967,
          -11.4278,
          -3.7507,
          3.931,
          11.6136,
          19.2934,
          26.9672,
          34.6319,
          42.2853,
          49.9256,
          57.551,
          65.1588,
          72.7413,
          80.2618,
          87.2289,
          83.9781,
          76.5602,
          69.0002,
          61.4039,
          53.7875,
          46.1553,
          38.5092,
          30.8508,
          23.1823,
          15.5062
         ],
         "yaxis": "y"
        },
        {
         "marker": {
          "color": "orange",
          "size": 3
         },
         "mode": "markers",
         "opacity": 1,
         "showlegend": false,
         "type": "scattergl",
         "x": [
          1.6150200000000001,
          1.5540933333333333,
          1.48618,
          1.40636,
          1.3043066666666665,
          1.1536933333333332,
          0.8616666666666667,
          0.7337533333333326,
          15.413813333333334,
          14.072519999999999,
          13.758993333333333,
          13.602319999999999,
          13.497766666666667,
          13.416693333333335,
          13.348066666666666,
          13.286706666666667,
          13.229833333333334,
          13.175766666666668,
          13.123406666666666,
          13.071940000000001,
          13.02068,
          12.968993333333334,
          12.916173333333335,
          12.861313333333333,
          12.80316,
          12.739753333333335,
          12.667679999999999,
          12.58034,
          12.462813333333335,
          13.272393333333333,
          12.819173333333334,
          9.177353333333334,
          2.7192933333333333,
          2.1129266666666666,
          1.8927133333333335,
          1.7646666666666668,
          1.6724733333333333,
          1.5977866666666665,
          1.53284,
          1.47374,
          1.4182866666666667,
          1.3651,
          1.3132266666666668,
          1.2619333333333334,
          1.2105666666666668,
          1.15846,
          1.1048533333333332,
          1.0487133333333334,
          1.9885266666666652,
          1.921833333333332,
          1.8441533333333346,
          1.7463000000000015,
          1.6055866666666674,
          1.3467533333333321,
          0.4933399999999999,
          15.507206666666667,
          13.576073333333333,
          13.215133333333334,
          13.045933333333332,
          13.93636,
          13.852793333333333,
          13.782766666666667,
          13.720566666666667,
          13.66316,
          13.608766666666666,
          13.556213333333334,
          13.504653333333332,
          13.453399999999998,
          13.401806666666666,
          13.349186666666666,
          13.29468,
          13.237086666666666,
          13.174586666666666,
          13.10404,
          13.019493333333333,
          12.90782,
          12.733,
          12.348246666666666,
          10.028793333333333,
          2.3464733333333334,
          2.5868466666666663,
          2.3418733333333357,
          2.2056733333333334,
          2.109840000000002,
          2.0332399999999993,
          1.967179999999999,
          1.907386666666664,
          1.851499999999998,
          1.798046666666668
         ],
         "xaxis": "x2",
         "y": [
          -32.7113,
          -40.3416,
          -47.9552,
          -55.5509,
          -63.1272,
          -70.6793,
          -78.1855,
          -85.4608,
          -85.9842,
          -78.7686,
          -71.2683,
          -63.718,
          -56.1425,
          -48.5473,
          -40.934,
          -33.3037,
          -25.6578,
          -17.9983,
          -10.3279,
          -2.6498,
          5.0323,
          12.7149,
          20.3942,
          28.067,
          35.7304,
          43.3821,
          51.0204,
          58.6437,
          66.2487,
          73.8261,
          81.328,
          87.8401,
          82.9388,
          75.4791,
          67.9115,
          60.3118,
          52.693,
          45.0587,
          37.4108,
          29.751,
          22.0814,
          14.4046,
          6.7238,
          -0.9574,
          -8.6352,
          -16.3062,
          -23.967,
          -31.6149,
          -39.2477,
          -46.8639,
          -54.4625,
          -62.042,
          -69.5983,
          -77.1144,
          -84.4657,
          -86.8785,
          -79.8341,
          -72.3473,
          -64.8017,
          -57.2293,
          -49.6367,
          -42.026,
          -34.3981,
          -26.7543,
          -19.0967,
          -11.4278,
          -3.7507,
          3.931,
          11.6136,
          19.2934,
          26.9672,
          34.6319,
          42.2853,
          49.9256,
          57.551,
          65.1588,
          72.7413,
          80.2618,
          87.2289,
          83.9781,
          76.5602,
          69.0002,
          61.4039,
          53.7875,
          46.1553,
          38.5092,
          30.8508,
          23.1823,
          15.5062
         ],
         "yaxis": "y2"
        }
       ],
       "layout": {
        "autosize": false,
        "font": {
         "color": "black",
         "family": "Arial",
         "size": 16
        },
        "height": 800,
        "legend": {
         "itemsizing": "trace"
        },
        "template": {
         "data": {
          "bar": [
           {
            "error_x": {
             "color": "#2a3f5f"
            },
            "error_y": {
             "color": "#2a3f5f"
            },
            "marker": {
             "line": {
              "color": "#E5ECF6",
              "width": 0.5
             },
             "pattern": {
              "fillmode": "overlay",
              "size": 10,
              "solidity": 0.2
             }
            },
            "type": "bar"
           }
          ],
          "barpolar": [
           {
            "marker": {
             "line": {
              "color": "#E5ECF6",
              "width": 0.5
             },
             "pattern": {
              "fillmode": "overlay",
              "size": 10,
              "solidity": 0.2
             }
            },
            "type": "barpolar"
           }
          ],
          "carpet": [
           {
            "aaxis": {
             "endlinecolor": "#2a3f5f",
             "gridcolor": "white",
             "linecolor": "white",
             "minorgridcolor": "white",
             "startlinecolor": "#2a3f5f"
            },
            "baxis": {
             "endlinecolor": "#2a3f5f",
             "gridcolor": "white",
             "linecolor": "white",
             "minorgridcolor": "white",
             "startlinecolor": "#2a3f5f"
            },
            "type": "carpet"
           }
          ],
          "choropleth": [
           {
            "colorbar": {
             "outlinewidth": 0,
             "ticks": ""
            },
            "type": "choropleth"
           }
          ],
          "contour": [
           {
            "colorbar": {
             "outlinewidth": 0,
             "ticks": ""
            },
            "colorscale": [
             [
              0,
              "#0d0887"
             ],
             [
              0.1111111111111111,
              "#46039f"
             ],
             [
              0.2222222222222222,
              "#7201a8"
             ],
             [
              0.3333333333333333,
              "#9c179e"
             ],
             [
              0.4444444444444444,
              "#bd3786"
             ],
             [
              0.5555555555555556,
              "#d8576b"
             ],
             [
              0.6666666666666666,
              "#ed7953"
             ],
             [
              0.7777777777777778,
              "#fb9f3a"
             ],
             [
              0.8888888888888888,
              "#fdca26"
             ],
             [
              1,
              "#f0f921"
             ]
            ],
            "type": "contour"
           }
          ],
          "contourcarpet": [
           {
            "colorbar": {
             "outlinewidth": 0,
             "ticks": ""
            },
            "type": "contourcarpet"
           }
          ],
          "heatmap": [
           {
            "colorbar": {
             "outlinewidth": 0,
             "ticks": ""
            },
            "colorscale": [
             [
              0,
              "#0d0887"
             ],
             [
              0.1111111111111111,
              "#46039f"
             ],
             [
              0.2222222222222222,
              "#7201a8"
             ],
             [
              0.3333333333333333,
              "#9c179e"
             ],
             [
              0.4444444444444444,
              "#bd3786"
             ],
             [
              0.5555555555555556,
              "#d8576b"
             ],
             [
              0.6666666666666666,
              "#ed7953"
             ],
             [
              0.7777777777777778,
              "#fb9f3a"
             ],
             [
              0.8888888888888888,
              "#fdca26"
             ],
             [
              1,
              "#f0f921"
             ]
            ],
            "type": "heatmap"
           }
          ],
          "heatmapgl": [
           {
            "colorbar": {
             "outlinewidth": 0,
             "ticks": ""
            },
            "colorscale": [
             [
              0,
              "#0d0887"
             ],
             [
              0.1111111111111111,
              "#46039f"
             ],
             [
              0.2222222222222222,
              "#7201a8"
             ],
             [
              0.3333333333333333,
              "#9c179e"
             ],
             [
              0.4444444444444444,
              "#bd3786"
             ],
             [
              0.5555555555555556,
              "#d8576b"
             ],
             [
              0.6666666666666666,
              "#ed7953"
             ],
             [
              0.7777777777777778,
              "#fb9f3a"
             ],
             [
              0.8888888888888888,
              "#fdca26"
             ],
             [
              1,
              "#f0f921"
             ]
            ],
            "type": "heatmapgl"
           }
          ],
          "histogram": [
           {
            "marker": {
             "pattern": {
              "fillmode": "overlay",
              "size": 10,
              "solidity": 0.2
             }
            },
            "type": "histogram"
           }
          ],
          "histogram2d": [
           {
            "colorbar": {
             "outlinewidth": 0,
             "ticks": ""
            },
            "colorscale": [
             [
              0,
              "#0d0887"
             ],
             [
              0.1111111111111111,
              "#46039f"
             ],
             [
              0.2222222222222222,
              "#7201a8"
             ],
             [
              0.3333333333333333,
              "#9c179e"
             ],
             [
              0.4444444444444444,
              "#bd3786"
             ],
             [
              0.5555555555555556,
              "#d8576b"
             ],
             [
              0.6666666666666666,
              "#ed7953"
             ],
             [
              0.7777777777777778,
              "#fb9f3a"
             ],
             [
              0.8888888888888888,
              "#fdca26"
             ],
             [
              1,
              "#f0f921"
             ]
            ],
            "type": "histogram2d"
           }
          ],
          "histogram2dcontour": [
           {
            "colorbar": {
             "outlinewidth": 0,
             "ticks": ""
            },
            "colorscale": [
             [
              0,
              "#0d0887"
             ],
             [
              0.1111111111111111,
              "#46039f"
             ],
             [
              0.2222222222222222,
              "#7201a8"
             ],
             [
              0.3333333333333333,
              "#9c179e"
             ],
             [
              0.4444444444444444,
              "#bd3786"
             ],
             [
              0.5555555555555556,
              "#d8576b"
             ],
             [
              0.6666666666666666,
              "#ed7953"
             ],
             [
              0.7777777777777778,
              "#fb9f3a"
             ],
             [
              0.8888888888888888,
              "#fdca26"
             ],
             [
              1,
              "#f0f921"
             ]
            ],
            "type": "histogram2dcontour"
           }
          ],
          "mesh3d": [
           {
            "colorbar": {
             "outlinewidth": 0,
             "ticks": ""
            },
            "type": "mesh3d"
           }
          ],
          "parcoords": [
           {
            "line": {
             "colorbar": {
              "outlinewidth": 0,
              "ticks": ""
             }
            },
            "type": "parcoords"
           }
          ],
          "pie": [
           {
            "automargin": true,
            "type": "pie"
           }
          ],
          "scatter": [
           {
            "fillpattern": {
             "fillmode": "overlay",
             "size": 10,
             "solidity": 0.2
            },
            "type": "scatter"
           }
          ],
          "scatter3d": [
           {
            "line": {
             "colorbar": {
              "outlinewidth": 0,
              "ticks": ""
             }
            },
            "marker": {
             "colorbar": {
              "outlinewidth": 0,
              "ticks": ""
             }
            },
            "type": "scatter3d"
           }
          ],
          "scattercarpet": [
           {
            "marker": {
             "colorbar": {
              "outlinewidth": 0,
              "ticks": ""
             }
            },
            "type": "scattercarpet"
           }
          ],
          "scattergeo": [
           {
            "marker": {
             "colorbar": {
              "outlinewidth": 0,
              "ticks": ""
             }
            },
            "type": "scattergeo"
           }
          ],
          "scattergl": [
           {
            "marker": {
             "colorbar": {
              "outlinewidth": 0,
              "ticks": ""
             }
            },
            "type": "scattergl"
           }
          ],
          "scattermapbox": [
           {
            "marker": {
             "colorbar": {
              "outlinewidth": 0,
              "ticks": ""
             }
            },
            "type": "scattermapbox"
           }
          ],
          "scatterpolar": [
           {
            "marker": {
             "colorbar": {
              "outlinewidth": 0,
              "ticks": ""
             }
            },
            "type": "scatterpolar"
           }
          ],
          "scatterpolargl": [
           {
            "marker": {
             "colorbar": {
              "outlinewidth": 0,
              "ticks": ""
             }
            },
            "type": "scatterpolargl"
           }
          ],
          "scatterternary": [
           {
            "marker": {
             "colorbar": {
              "outlinewidth": 0,
              "ticks": ""
             }
            },
            "type": "scatterternary"
           }
          ],
          "surface": [
           {
            "colorbar": {
             "outlinewidth": 0,
             "ticks": ""
            },
            "colorscale": [
             [
              0,
              "#0d0887"
             ],
             [
              0.1111111111111111,
              "#46039f"
             ],
             [
              0.2222222222222222,
              "#7201a8"
             ],
             [
              0.3333333333333333,
              "#9c179e"
             ],
             [
              0.4444444444444444,
              "#bd3786"
             ],
             [
              0.5555555555555556,
              "#d8576b"
             ],
             [
              0.6666666666666666,
              "#ed7953"
             ],
             [
              0.7777777777777778,
              "#fb9f3a"
             ],
             [
              0.8888888888888888,
              "#fdca26"
             ],
             [
              1,
              "#f0f921"
             ]
            ],
            "type": "surface"
           }
          ],
          "table": [
           {
            "cells": {
             "fill": {
              "color": "#EBF0F8"
             },
             "line": {
              "color": "white"
             }
            },
            "header": {
             "fill": {
              "color": "#C8D4E3"
             },
             "line": {
              "color": "white"
             }
            },
            "type": "table"
           }
          ]
         },
         "layout": {
          "annotationdefaults": {
           "arrowcolor": "#2a3f5f",
           "arrowhead": 0,
           "arrowwidth": 1
          },
          "autotypenumbers": "strict",
          "coloraxis": {
           "colorbar": {
            "outlinewidth": 0,
            "ticks": ""
           }
          },
          "colorscale": {
           "diverging": [
            [
             0,
             "#8e0152"
            ],
            [
             0.1,
             "#c51b7d"
            ],
            [
             0.2,
             "#de77ae"
            ],
            [
             0.3,
             "#f1b6da"
            ],
            [
             0.4,
             "#fde0ef"
            ],
            [
             0.5,
             "#f7f7f7"
            ],
            [
             0.6,
             "#e6f5d0"
            ],
            [
             0.7,
             "#b8e186"
            ],
            [
             0.8,
             "#7fbc41"
            ],
            [
             0.9,
             "#4d9221"
            ],
            [
             1,
             "#276419"
            ]
           ],
           "sequential": [
            [
             0,
             "#0d0887"
            ],
            [
             0.1111111111111111,
             "#46039f"
            ],
            [
             0.2222222222222222,
             "#7201a8"
            ],
            [
             0.3333333333333333,
             "#9c179e"
            ],
            [
             0.4444444444444444,
             "#bd3786"
            ],
            [
             0.5555555555555556,
             "#d8576b"
            ],
            [
             0.6666666666666666,
             "#ed7953"
            ],
            [
             0.7777777777777778,
             "#fb9f3a"
            ],
            [
             0.8888888888888888,
             "#fdca26"
            ],
            [
             1,
             "#f0f921"
            ]
           ],
           "sequentialminus": [
            [
             0,
             "#0d0887"
            ],
            [
             0.1111111111111111,
             "#46039f"
            ],
            [
             0.2222222222222222,
             "#7201a8"
            ],
            [
             0.3333333333333333,
             "#9c179e"
            ],
            [
             0.4444444444444444,
             "#bd3786"
            ],
            [
             0.5555555555555556,
             "#d8576b"
            ],
            [
             0.6666666666666666,
             "#ed7953"
            ],
            [
             0.7777777777777778,
             "#fb9f3a"
            ],
            [
             0.8888888888888888,
             "#fdca26"
            ],
            [
             1,
             "#f0f921"
            ]
           ]
          },
          "colorway": [
           "#636efa",
           "#EF553B",
           "#00cc96",
           "#ab63fa",
           "#FFA15A",
           "#19d3f3",
           "#FF6692",
           "#B6E880",
           "#FF97FF",
           "#FECB52"
          ],
          "font": {
           "color": "#2a3f5f"
          },
          "geo": {
           "bgcolor": "white",
           "lakecolor": "white",
           "landcolor": "#E5ECF6",
           "showlakes": true,
           "showland": true,
           "subunitcolor": "white"
          },
          "hoverlabel": {
           "align": "left"
          },
          "hovermode": "closest",
          "mapbox": {
           "style": "light"
          },
          "paper_bgcolor": "white",
          "plot_bgcolor": "#E5ECF6",
          "polar": {
           "angularaxis": {
            "gridcolor": "white",
            "linecolor": "white",
            "ticks": ""
           },
           "bgcolor": "#E5ECF6",
           "radialaxis": {
            "gridcolor": "white",
            "linecolor": "white",
            "ticks": ""
           }
          },
          "scene": {
           "xaxis": {
            "backgroundcolor": "#E5ECF6",
            "gridcolor": "white",
            "gridwidth": 2,
            "linecolor": "white",
            "showbackground": true,
            "ticks": "",
            "zerolinecolor": "white"
           },
           "yaxis": {
            "backgroundcolor": "#E5ECF6",
            "gridcolor": "white",
            "gridwidth": 2,
            "linecolor": "white",
            "showbackground": true,
            "ticks": "",
            "zerolinecolor": "white"
           },
           "zaxis": {
            "backgroundcolor": "#E5ECF6",
            "gridcolor": "white",
            "gridwidth": 2,
            "linecolor": "white",
            "showbackground": true,
            "ticks": "",
            "zerolinecolor": "white"
           }
          },
          "shapedefaults": {
           "line": {
            "color": "#2a3f5f"
           }
          },
          "ternary": {
           "aaxis": {
            "gridcolor": "white",
            "linecolor": "white",
            "ticks": ""
           },
           "baxis": {
            "gridcolor": "white",
            "linecolor": "white",
            "ticks": ""
           },
           "bgcolor": "#E5ECF6",
           "caxis": {
            "gridcolor": "white",
            "linecolor": "white",
            "ticks": ""
           }
          },
          "title": {
           "x": 0.05
          },
          "xaxis": {
           "automargin": true,
           "gridcolor": "white",
           "linecolor": "white",
           "ticks": "",
           "title": {
            "standoff": 15
           },
           "zerolinecolor": "white",
           "zerolinewidth": 2
          },
          "yaxis": {
           "automargin": true,
           "gridcolor": "white",
           "linecolor": "white",
           "ticks": "",
           "title": {
            "standoff": 15
           },
           "zerolinecolor": "white",
           "zerolinewidth": 2
          }
         }
        },
        "width": 1000,
        "xaxis": {
         "anchor": "y",
         "domain": [
          0,
          1
         ],
         "exponentformat": "power",
         "title": {
          "text": "Longitude"
         }
        },
        "xaxis2": {
         "anchor": "y2",
         "domain": [
          0,
          1
         ],
         "exponentformat": "power",
         "title": {
          "text": "Local Solar Time"
         }
        },
        "yaxis": {
         "anchor": "x",
         "domain": [
          0.56,
          1
         ],
         "exponentformat": "power",
         "title": {
          "text": "Latitude"
         }
        },
        "yaxis2": {
         "anchor": "x2",
         "domain": [
          0,
          0.44
         ],
         "exponentformat": "power",
         "title": {
          "text": "Latitude"
         }
        }
       }
      },
      "text/html": [
       "<div>                            <div id=\"40acb497-6437-49e3-a1d1-874f322e6b6a\" class=\"plotly-graph-div\" style=\"height:800px; width:1000px;\"></div>            <script type=\"text/javascript\">                require([\"plotly\"], function(Plotly) {                    window.PLOTLYENV=window.PLOTLYENV || {};                                    if (document.getElementById(\"40acb497-6437-49e3-a1d1-874f322e6b6a\")) {                    Plotly.newPlot(                        \"40acb497-6437-49e3-a1d1-874f322e6b6a\",                        [{\"line\":{\"color\":\"blue\",\"width\":2},\"marker\":{\"color\":\"blue\",\"size\":3},\"mode\":\"markers+text\",\"opacity\":1,\"showlegend\":false,\"x\":[214.157,213.3442,212.4879,211.5622,210.5233,209.2896,207.6843,205.2384,200.1632,175.487,52.4937,38.3132,34.264,32.1059,30.6192,29.4451,28.4399,27.5345,26.6909,25.886,25.1042,24.3338,23.5648,22.7876,21.9911,21.1613,20.278,19.3091,18.198,16.8327,14.9521,11.7706,3.3765,277.4486,211.7584,204.4143,201.4387,199.6309,198.2993,197.2062,196.2479,195.3712,194.5455,193.7515,192.9755,192.2067,191.4355,190.6518,189.8435,188.9947,188.0808,187.0619,185.8637,184.3297,182.0595,177.6285,160.1071,34.8543,15.6621,11.0629,8.7452,7.1915,5.9834,4.9588,4.0416,3.1906,2.381,1.5965,0.825,0.0563,359.2808,358.4878,357.6638,356.7897,355.8357,354.75,353.432,351.6535,348.7588,341.803,284.4091,190.3614,181.4298,178.1496,176.2349,174.854,173.7346,172.7607,171.8743],\"y\":[18.3492,26.024,33.6902,41.3453,48.9875,56.6151,64.2256,71.8125,79.3464,86.5172,84.851,77.4834,69.9305,62.3372,54.7229,47.0925,39.4481,31.7913,24.1242,16.4492,8.7694,1.0883,-6.5904,-14.2632,-21.9266,-29.5777,-37.2141,-44.8343,-52.4371,-60.0214,-67.5841,-75.1141,-82.5453,-87.9727,-81.8083,-74.3576,-66.8226,-59.2568,-51.6697,-44.064,-36.4409,-28.8015,-21.1476,-13.4816,-5.8065,1.8743,9.557,17.238,24.9137,32.5812,40.238,47.882,55.5118,63.1249,70.7159,78.2619,85.5678,85.8447,78.5701,71.0277,63.4384,55.8267,48.1985,40.5561,32.9009,25.2351,17.5609,9.8815,2.2002,-5.4793,-13.1533,-20.8184,-28.4716,-36.1105,-43.7334,-51.339,-58.9262,-66.4926,-74.0291,-81.4867,-87.8849,-82.8632,-75.4415,-67.913,-60.3506,-52.7664,-45.1633,-37.5426,-29.9055],\"type\":\"scattergl\",\"xaxis\":\"x\",\"yaxis\":\"y\"},{\"marker\":{\"color\":\"blue\",\"size\":3},\"mode\":\"markers\",\"opacity\":1,\"showlegend\":false,\"x\":[14.277133333333333,14.222946666666667,14.16586,14.104146666666667,14.034886666666667,13.95264,13.84562,13.68256,13.344213333333332,11.699133333333332,3.49958,2.5542133333333337,2.284266666666667,2.1403933333333334,2.04128,1.9630066666666666,1.8959933333333334,1.8356333333333335,1.7793933333333334,1.7257333333333333,1.6736133333333332,1.6222533333333333,1.5709866666666668,1.5191733333333335,1.4660733333333333,1.4107533333333333,1.3518666666666665,1.2872733333333335,1.2132,2.12218,1.9968066666666666,1.7847066666666667,1.2251,19.496573333333334,15.117226666666665,14.62762,14.429246666666668,14.308726666666667,14.219953333333333,14.147079999999999,14.083193333333332,14.024746666666665,13.9697,13.916766666666666,13.865033333333335,13.813780000000001,13.762366666666667,13.71012,13.656233333333335,13.599646666666667,13.538720000000001,13.470793333333335,13.390913333333334,13.288646666666667,13.137300000000002,12.8419,11.673806666666668,3.32362,2.04414,2.7375266666666667,2.5830133333333336,2.479433333333333,2.3988933333333335,2.3305866666666666,2.26944,2.2127066666666666,2.158733333333333,2.1064333333333334,2.055,2.0037533333333335,2.952053333333332,2.8991866666666652,2.844253333333331,2.7859799999999986,2.7223799999999976,2.6499999999999986,2.5621333333333354,2.4435666666666656,2.250586666666667,1.7868666666666648,20.960606666666667,14.690760000000001,14.09532,13.87664,13.748993333333335,13.656933333333335,13.582306666666666,13.517380000000001,13.458286666666668],\"y\":[18.3492,26.024,33.6902,41.3453,48.9875,56.6151,64.2256,71.8125,79.3464,86.5172,84.851,77.4834,69.9305,62.3372,54.7229,47.0925,39.4481,31.7913,24.1242,16.4492,8.7694,1.0883,-6.5904,-14.2632,-21.9266,-29.5777,-37.2141,-44.8343,-52.4371,-60.0214,-67.5841,-75.1141,-82.5453,-87.9727,-81.8083,-74.3576,-66.8226,-59.2568,-51.6697,-44.064,-36.4409,-28.8015,-21.1476,-13.4816,-5.8065,1.8743,9.557,17.238,24.9137,32.5812,40.238,47.882,55.5118,63.1249,70.7159,78.2619,85.5678,85.8447,78.5701,71.0277,63.4384,55.8267,48.1985,40.5561,32.9009,25.2351,17.5609,9.8815,2.2002,-5.4793,-13.1533,-20.8184,-28.4716,-36.1105,-43.7334,-51.339,-58.9262,-66.4926,-74.0291,-81.4867,-87.8849,-82.8632,-75.4415,-67.913,-60.3506,-52.7664,-45.1633,-37.5426,-29.9055],\"type\":\"scattergl\",\"xaxis\":\"x2\",\"yaxis\":\"y2\"},{\"line\":{\"color\":\"orange\",\"width\":2},\"marker\":{\"color\":\"orange\",\"size\":3},\"mode\":\"markers+text\",\"opacity\":1,\"showlegend\":false,\"x\":[24.2253,23.3114,22.2927,21.0954,19.5646,17.3054,12.925,356.0063,231.2072,211.0878,206.3849,204.0348,202.4665,201.2504,200.221,199.3006,198.4475,197.6365,196.8511,196.0791,195.3102,194.5349,193.7426,192.9197,192.0474,191.0963,190.0152,188.7051,186.9422,184.0859,177.2876,122.6603,25.7894,16.6939,13.3907,11.47,10.0871,8.9668,7.9926,7.1061,6.2743,5.4765,4.6984,3.929,3.1585,2.3769,1.5728,0.7307,359.8279,358.8275,357.6623,356.1945,354.0838,350.2013,337.4001,217.6081,188.6411,183.227,180.689,179.0454,177.7919,176.7415,175.8085,174.9474,174.1315,173.3432,172.5698,171.801,171.0271,170.2378,169.4202,168.5563,167.6188,166.5606,165.2924,163.6173,160.995,155.2237,120.4319,5.1971,353.8027,350.1281,348.0851,346.6476,345.4986,344.5077,343.6108,342.7725,341.9707],\"y\":[-32.7113,-40.3416,-47.9552,-55.5509,-63.1272,-70.6793,-78.1855,-85.4608,-85.9842,-78.7686,-71.2683,-63.718,-56.1425,-48.5473,-40.934,-33.3037,-25.6578,-17.9983,-10.3279,-2.6498,5.0323,12.7149,20.3942,28.067,35.7304,43.3821,51.0204,58.6437,66.2487,73.8261,81.328,87.8401,82.9388,75.4791,67.9115,60.3118,52.693,45.0587,37.4108,29.751,22.0814,14.4046,6.7238,-0.9574,-8.6352,-16.3062,-23.967,-31.6149,-39.2477,-46.8639,-54.4625,-62.042,-69.5983,-77.1144,-84.4657,-86.8785,-79.8341,-72.3473,-64.8017,-57.2293,-49.6367,-42.026,-34.3981,-26.7543,-19.0967,-11.4278,-3.7507,3.931,11.6136,19.2934,26.9672,34.6319,42.2853,49.9256,57.551,65.1588,72.7413,80.2618,87.2289,83.9781,76.5602,69.0002,61.4039,53.7875,46.1553,38.5092,30.8508,23.1823,15.5062],\"type\":\"scattergl\",\"xaxis\":\"x\",\"yaxis\":\"y\"},{\"marker\":{\"color\":\"orange\",\"size\":3},\"mode\":\"markers\",\"opacity\":1,\"showlegend\":false,\"x\":[1.6150200000000001,1.5540933333333333,1.48618,1.40636,1.3043066666666665,1.1536933333333332,0.8616666666666667,0.7337533333333326,15.413813333333334,14.072519999999999,13.758993333333333,13.602319999999999,13.497766666666667,13.416693333333335,13.348066666666666,13.286706666666667,13.229833333333334,13.175766666666668,13.123406666666666,13.071940000000001,13.02068,12.968993333333334,12.916173333333335,12.861313333333333,12.80316,12.739753333333335,12.667679999999999,12.58034,12.462813333333335,13.272393333333333,12.819173333333334,9.177353333333334,2.7192933333333333,2.1129266666666666,1.8927133333333335,1.7646666666666668,1.6724733333333333,1.5977866666666665,1.53284,1.47374,1.4182866666666667,1.3651,1.3132266666666668,1.2619333333333334,1.2105666666666668,1.15846,1.1048533333333332,1.0487133333333334,1.9885266666666652,1.921833333333332,1.8441533333333346,1.7463000000000015,1.6055866666666674,1.3467533333333321,0.4933399999999999,15.507206666666667,13.576073333333333,13.215133333333334,13.045933333333332,13.93636,13.852793333333333,13.782766666666667,13.720566666666667,13.66316,13.608766666666666,13.556213333333334,13.504653333333332,13.453399999999998,13.401806666666666,13.349186666666666,13.29468,13.237086666666666,13.174586666666666,13.10404,13.019493333333333,12.90782,12.733,12.348246666666666,10.028793333333333,2.3464733333333334,2.5868466666666663,2.3418733333333357,2.2056733333333334,2.109840000000002,2.0332399999999993,1.967179999999999,1.907386666666664,1.851499999999998,1.798046666666668],\"y\":[-32.7113,-40.3416,-47.9552,-55.5509,-63.1272,-70.6793,-78.1855,-85.4608,-85.9842,-78.7686,-71.2683,-63.718,-56.1425,-48.5473,-40.934,-33.3037,-25.6578,-17.9983,-10.3279,-2.6498,5.0323,12.7149,20.3942,28.067,35.7304,43.3821,51.0204,58.6437,66.2487,73.8261,81.328,87.8401,82.9388,75.4791,67.9115,60.3118,52.693,45.0587,37.4108,29.751,22.0814,14.4046,6.7238,-0.9574,-8.6352,-16.3062,-23.967,-31.6149,-39.2477,-46.8639,-54.4625,-62.042,-69.5983,-77.1144,-84.4657,-86.8785,-79.8341,-72.3473,-64.8017,-57.2293,-49.6367,-42.026,-34.3981,-26.7543,-19.0967,-11.4278,-3.7507,3.931,11.6136,19.2934,26.9672,34.6319,42.2853,49.9256,57.551,65.1588,72.7413,80.2618,87.2289,83.9781,76.5602,69.0002,61.4039,53.7875,46.1553,38.5092,30.8508,23.1823,15.5062],\"type\":\"scattergl\",\"xaxis\":\"x2\",\"yaxis\":\"y2\"}],                        {\"template\":{\"data\":{\"histogram2dcontour\":[{\"type\":\"histogram2dcontour\",\"colorbar\":{\"outlinewidth\":0,\"ticks\":\"\"},\"colorscale\":[[0.0,\"#0d0887\"],[0.1111111111111111,\"#46039f\"],[0.2222222222222222,\"#7201a8\"],[0.3333333333333333,\"#9c179e\"],[0.4444444444444444,\"#bd3786\"],[0.5555555555555556,\"#d8576b\"],[0.6666666666666666,\"#ed7953\"],[0.7777777777777778,\"#fb9f3a\"],[0.8888888888888888,\"#fdca26\"],[1.0,\"#f0f921\"]]}],\"choropleth\":[{\"type\":\"choropleth\",\"colorbar\":{\"outlinewidth\":0,\"ticks\":\"\"}}],\"histogram2d\":[{\"type\":\"histogram2d\",\"colorbar\":{\"outlinewidth\":0,\"ticks\":\"\"},\"colorscale\":[[0.0,\"#0d0887\"],[0.1111111111111111,\"#46039f\"],[0.2222222222222222,\"#7201a8\"],[0.3333333333333333,\"#9c179e\"],[0.4444444444444444,\"#bd3786\"],[0.5555555555555556,\"#d8576b\"],[0.6666666666666666,\"#ed7953\"],[0.7777777777777778,\"#fb9f3a\"],[0.8888888888888888,\"#fdca26\"],[1.0,\"#f0f921\"]]}],\"heatmap\":[{\"type\":\"heatmap\",\"colorbar\":{\"outlinewidth\":0,\"ticks\":\"\"},\"colorscale\":[[0.0,\"#0d0887\"],[0.1111111111111111,\"#46039f\"],[0.2222222222222222,\"#7201a8\"],[0.3333333333333333,\"#9c179e\"],[0.4444444444444444,\"#bd3786\"],[0.5555555555555556,\"#d8576b\"],[0.6666666666666666,\"#ed7953\"],[0.7777777777777778,\"#fb9f3a\"],[0.8888888888888888,\"#fdca26\"],[1.0,\"#f0f921\"]]}],\"heatmapgl\":[{\"type\":\"heatmapgl\",\"colorbar\":{\"outlinewidth\":0,\"ticks\":\"\"},\"colorscale\":[[0.0,\"#0d0887\"],[0.1111111111111111,\"#46039f\"],[0.2222222222222222,\"#7201a8\"],[0.3333333333333333,\"#9c179e\"],[0.4444444444444444,\"#bd3786\"],[0.5555555555555556,\"#d8576b\"],[0.6666666666666666,\"#ed7953\"],[0.7777777777777778,\"#fb9f3a\"],[0.8888888888888888,\"#fdca26\"],[1.0,\"#f0f921\"]]}],\"contourcarpet\":[{\"type\":\"contourcarpet\",\"colorbar\":{\"outlinewidth\":0,\"ticks\":\"\"}}],\"contour\":[{\"type\":\"contour\",\"colorbar\":{\"outlinewidth\":0,\"ticks\":\"\"},\"colorscale\":[[0.0,\"#0d0887\"],[0.1111111111111111,\"#46039f\"],[0.2222222222222222,\"#7201a8\"],[0.3333333333333333,\"#9c179e\"],[0.4444444444444444,\"#bd3786\"],[0.5555555555555556,\"#d8576b\"],[0.6666666666666666,\"#ed7953\"],[0.7777777777777778,\"#fb9f3a\"],[0.8888888888888888,\"#fdca26\"],[1.0,\"#f0f921\"]]}],\"surface\":[{\"type\":\"surface\",\"colorbar\":{\"outlinewidth\":0,\"ticks\":\"\"},\"colorscale\":[[0.0,\"#0d0887\"],[0.1111111111111111,\"#46039f\"],[0.2222222222222222,\"#7201a8\"],[0.3333333333333333,\"#9c179e\"],[0.4444444444444444,\"#bd3786\"],[0.5555555555555556,\"#d8576b\"],[0.6666666666666666,\"#ed7953\"],[0.7777777777777778,\"#fb9f3a\"],[0.8888888888888888,\"#fdca26\"],[1.0,\"#f0f921\"]]}],\"mesh3d\":[{\"type\":\"mesh3d\",\"colorbar\":{\"outlinewidth\":0,\"ticks\":\"\"}}],\"scatter\":[{\"fillpattern\":{\"fillmode\":\"overlay\",\"size\":10,\"solidity\":0.2},\"type\":\"scatter\"}],\"parcoords\":[{\"type\":\"parcoords\",\"line\":{\"colorbar\":{\"outlinewidth\":0,\"ticks\":\"\"}}}],\"scatterpolargl\":[{\"type\":\"scatterpolargl\",\"marker\":{\"colorbar\":{\"outlinewidth\":0,\"ticks\":\"\"}}}],\"bar\":[{\"error_x\":{\"color\":\"#2a3f5f\"},\"error_y\":{\"color\":\"#2a3f5f\"},\"marker\":{\"line\":{\"color\":\"#E5ECF6\",\"width\":0.5},\"pattern\":{\"fillmode\":\"overlay\",\"size\":10,\"solidity\":0.2}},\"type\":\"bar\"}],\"scattergeo\":[{\"type\":\"scattergeo\",\"marker\":{\"colorbar\":{\"outlinewidth\":0,\"ticks\":\"\"}}}],\"scatterpolar\":[{\"type\":\"scatterpolar\",\"marker\":{\"colorbar\":{\"outlinewidth\":0,\"ticks\":\"\"}}}],\"histogram\":[{\"marker\":{\"pattern\":{\"fillmode\":\"overlay\",\"size\":10,\"solidity\":0.2}},\"type\":\"histogram\"}],\"scattergl\":[{\"type\":\"scattergl\",\"marker\":{\"colorbar\":{\"outlinewidth\":0,\"ticks\":\"\"}}}],\"scatter3d\":[{\"type\":\"scatter3d\",\"line\":{\"colorbar\":{\"outlinewidth\":0,\"ticks\":\"\"}},\"marker\":{\"colorbar\":{\"outlinewidth\":0,\"ticks\":\"\"}}}],\"scattermapbox\":[{\"type\":\"scattermapbox\",\"marker\":{\"colorbar\":{\"outlinewidth\":0,\"ticks\":\"\"}}}],\"scatterternary\":[{\"type\":\"scatterternary\",\"marker\":{\"colorbar\":{\"outlinewidth\":0,\"ticks\":\"\"}}}],\"scattercarpet\":[{\"type\":\"scattercarpet\",\"marker\":{\"colorbar\":{\"outlinewidth\":0,\"ticks\":\"\"}}}],\"carpet\":[{\"aaxis\":{\"endlinecolor\":\"#2a3f5f\",\"gridcolor\":\"white\",\"linecolor\":\"white\",\"minorgridcolor\":\"white\",\"startlinecolor\":\"#2a3f5f\"},\"baxis\":{\"endlinecolor\":\"#2a3f5f\",\"gridcolor\":\"white\",\"linecolor\":\"white\",\"minorgridcolor\":\"white\",\"startlinecolor\":\"#2a3f5f\"},\"type\":\"carpet\"}],\"table\":[{\"cells\":{\"fill\":{\"color\":\"#EBF0F8\"},\"line\":{\"color\":\"white\"}},\"header\":{\"fill\":{\"color\":\"#C8D4E3\"},\"line\":{\"color\":\"white\"}},\"type\":\"table\"}],\"barpolar\":[{\"marker\":{\"line\":{\"color\":\"#E5ECF6\",\"width\":0.5},\"pattern\":{\"fillmode\":\"overlay\",\"size\":10,\"solidity\":0.2}},\"type\":\"barpolar\"}],\"pie\":[{\"automargin\":true,\"type\":\"pie\"}]},\"layout\":{\"autotypenumbers\":\"strict\",\"colorway\":[\"#636efa\",\"#EF553B\",\"#00cc96\",\"#ab63fa\",\"#FFA15A\",\"#19d3f3\",\"#FF6692\",\"#B6E880\",\"#FF97FF\",\"#FECB52\"],\"font\":{\"color\":\"#2a3f5f\"},\"hovermode\":\"closest\",\"hoverlabel\":{\"align\":\"left\"},\"paper_bgcolor\":\"white\",\"plot_bgcolor\":\"#E5ECF6\",\"polar\":{\"bgcolor\":\"#E5ECF6\",\"angularaxis\":{\"gridcolor\":\"white\",\"linecolor\":\"white\",\"ticks\":\"\"},\"radialaxis\":{\"gridcolor\":\"white\",\"linecolor\":\"white\",\"ticks\":\"\"}},\"ternary\":{\"bgcolor\":\"#E5ECF6\",\"aaxis\":{\"gridcolor\":\"white\",\"linecolor\":\"white\",\"ticks\":\"\"},\"baxis\":{\"gridcolor\":\"white\",\"linecolor\":\"white\",\"ticks\":\"\"},\"caxis\":{\"gridcolor\":\"white\",\"linecolor\":\"white\",\"ticks\":\"\"}},\"coloraxis\":{\"colorbar\":{\"outlinewidth\":0,\"ticks\":\"\"}},\"colorscale\":{\"sequential\":[[0.0,\"#0d0887\"],[0.1111111111111111,\"#46039f\"],[0.2222222222222222,\"#7201a8\"],[0.3333333333333333,\"#9c179e\"],[0.4444444444444444,\"#bd3786\"],[0.5555555555555556,\"#d8576b\"],[0.6666666666666666,\"#ed7953\"],[0.7777777777777778,\"#fb9f3a\"],[0.8888888888888888,\"#fdca26\"],[1.0,\"#f0f921\"]],\"sequentialminus\":[[0.0,\"#0d0887\"],[0.1111111111111111,\"#46039f\"],[0.2222222222222222,\"#7201a8\"],[0.3333333333333333,\"#9c179e\"],[0.4444444444444444,\"#bd3786\"],[0.5555555555555556,\"#d8576b\"],[0.6666666666666666,\"#ed7953\"],[0.7777777777777778,\"#fb9f3a\"],[0.8888888888888888,\"#fdca26\"],[1.0,\"#f0f921\"]],\"diverging\":[[0,\"#8e0152\"],[0.1,\"#c51b7d\"],[0.2,\"#de77ae\"],[0.3,\"#f1b6da\"],[0.4,\"#fde0ef\"],[0.5,\"#f7f7f7\"],[0.6,\"#e6f5d0\"],[0.7,\"#b8e186\"],[0.8,\"#7fbc41\"],[0.9,\"#4d9221\"],[1,\"#276419\"]]},\"xaxis\":{\"gridcolor\":\"white\",\"linecolor\":\"white\",\"ticks\":\"\",\"title\":{\"standoff\":15},\"zerolinecolor\":\"white\",\"automargin\":true,\"zerolinewidth\":2},\"yaxis\":{\"gridcolor\":\"white\",\"linecolor\":\"white\",\"ticks\":\"\",\"title\":{\"standoff\":15},\"zerolinecolor\":\"white\",\"automargin\":true,\"zerolinewidth\":2},\"scene\":{\"xaxis\":{\"backgroundcolor\":\"#E5ECF6\",\"gridcolor\":\"white\",\"linecolor\":\"white\",\"showbackground\":true,\"ticks\":\"\",\"zerolinecolor\":\"white\",\"gridwidth\":2},\"yaxis\":{\"backgroundcolor\":\"#E5ECF6\",\"gridcolor\":\"white\",\"linecolor\":\"white\",\"showbackground\":true,\"ticks\":\"\",\"zerolinecolor\":\"white\",\"gridwidth\":2},\"zaxis\":{\"backgroundcolor\":\"#E5ECF6\",\"gridcolor\":\"white\",\"linecolor\":\"white\",\"showbackground\":true,\"ticks\":\"\",\"zerolinecolor\":\"white\",\"gridwidth\":2}},\"shapedefaults\":{\"line\":{\"color\":\"#2a3f5f\"}},\"annotationdefaults\":{\"arrowcolor\":\"#2a3f5f\",\"arrowhead\":0,\"arrowwidth\":1},\"geo\":{\"bgcolor\":\"white\",\"landcolor\":\"#E5ECF6\",\"subunitcolor\":\"white\",\"showland\":true,\"showlakes\":true,\"lakecolor\":\"white\"},\"title\":{\"x\":0.05},\"mapbox\":{\"style\":\"light\"}}},\"xaxis\":{\"anchor\":\"y\",\"domain\":[0.0,1.0],\"title\":{\"text\":\"Longitude\"},\"exponentformat\":\"power\"},\"yaxis\":{\"anchor\":\"x\",\"domain\":[0.56,1.0],\"title\":{\"text\":\"Latitude\"},\"exponentformat\":\"power\"},\"xaxis2\":{\"anchor\":\"y2\",\"domain\":[0.0,1.0],\"title\":{\"text\":\"Local Solar Time\"},\"exponentformat\":\"power\"},\"yaxis2\":{\"anchor\":\"x2\",\"domain\":[0.0,0.44],\"title\":{\"text\":\"Latitude\"},\"exponentformat\":\"power\"},\"legend\":{\"itemsizing\":\"trace\"},\"font\":{\"family\":\"Arial\",\"size\":16,\"color\":\"black\"},\"autosize\":false,\"width\":1000,\"height\":800},                        {\"displayModeBar\": false, \"responsive\": false, \"staticPlot\": false, \"displaylogo\": false, \"showTips\": false}                    ).then(function(){\n",
       "                            \n",
       "var gd = document.getElementById('40acb497-6437-49e3-a1d1-874f322e6b6a');\n",
       "var x = new MutationObserver(function (mutations, observer) {{\n",
       "        var display = window.getComputedStyle(gd).display;\n",
       "        if (!display || display === 'none') {{\n",
       "            console.log([gd, 'removed!']);\n",
       "            Plotly.purge(gd);\n",
       "            observer.disconnect();\n",
       "        }}\n",
       "}});\n",
       "\n",
       "// Listen for the removal of the full notebook cells\n",
       "var notebookContainer = gd.closest('#notebook-container');\n",
       "if (notebookContainer) {{\n",
       "    x.observe(notebookContainer, {childList: true});\n",
       "}}\n",
       "\n",
       "// Listen for the clearing of the current output cell\n",
       "var outputEl = gd.closest('.output');\n",
       "if (outputEl) {{\n",
       "    x.observe(outputEl, {childList: true});\n",
       "}}\n",
       "\n",
       "                        })                };                });            </script>        </div>"
      ]
     },
     "metadata": {},
     "output_type": "display_data"
    }
   ],
   "source": [
    "%load_ext autoreload\n",
    "%autoreload 2\n",
    "        \n",
    "        \n",
    "def plot_from_csv(fig, plot_num, csv, model_name):\n",
    "    ####  Get Plot Parameters for this model\n",
    "    model_m1 = model_name\n",
    "    col = get_plot_params(plot_num, model_m1)\n",
    "\n",
    "    \n",
    "    mask_day1 = pd.to_datetime(csv_dicts[imodel]['Date'].values).day==9\n",
    "    mask_day_last = pd.to_datetime(csv_dicts[imodel]['Date'].values).day==22\n",
    "\n",
    "    \n",
    "    mask_orbits = pd.to_datetime(csv_dicts[imodel]['Date'].values).hour<3\n",
    "   \n",
    "    \n",
    "    fig.add_trace(go.Scattergl(x=csv['Lon'][mask_day1 & mask_orbits],\n",
    "                             y=csv['Lat'][mask_day1 & mask_orbits],\n",
    "                                 mode='markers+text',\n",
    "                                 opacity=1,\n",
    "                                     marker=dict(color='blue',size=3),\n",
    "                                     line = dict(color='blue',width=2),\n",
    "                                 showlegend=False),\n",
    "                                 secondary_y=False, row=1, col=1)\n",
    "    fig.add_trace(go.Scattergl(x=csv['LocTime'][mask_day1 & mask_orbits],\n",
    "                             y=csv['Lat'][mask_day1 & mask_orbits],\n",
    "                                 mode='markers',\n",
    "                                 opacity=1,\n",
    "                                 marker=dict(color='blue',size=3),\n",
    "                                 showlegend=False),row=2, col=1)\n",
    "   \n",
    "\n",
    "    ### -----------------------------------------------------------------------------------------------------        \n",
    "\n",
    "    fig.add_trace(go.Scattergl(x=csv['Lon'][mask_day_last & mask_orbits],\n",
    "                             y=csv['Lat'][mask_day_last & mask_orbits],\n",
    "                                 mode='markers+text',\n",
    "                                 opacity=1,\n",
    "                                     marker=dict(color='orange',size=3),\n",
    "                                     line = dict(color='orange',width=2),\n",
    "                                 showlegend=False),\n",
    "                                 secondary_y=False, row=1, col=1)\n",
    "    fig.add_trace(go.Scattergl(x=csv['LocTime'][mask_day_last & mask_orbits],\n",
    "                             y=csv['Lat'][mask_day_last & mask_orbits],\n",
    "                                 mode='markers',\n",
    "                                 opacity=1,\n",
    "                                 marker=dict(color='orange',size=3),\n",
    "                                 showlegend=False),row=2, col=1)\n",
    "#     if plot_num == 0:\n",
    "    fig.update_yaxes( title=\"Latitude\", \n",
    "                     exponentformat= 'power',row=1, col=1)\n",
    "    fig.update_xaxes( title=\"Longitude\", \n",
    "                         exponentformat= 'power',row=1, col=1)\n",
    "    fig.update_yaxes( title=\"Latitude\", \n",
    "                     exponentformat= 'power',row=2, col=1)\n",
    "    fig.update_xaxes( title=\"Local Solar Time\", \n",
    "                         exponentformat= 'power',row=2, col=1)\n",
    "\n",
    "    return(fig)\n",
    "    ### -----------------------------------------------------------------------------------------------------\n",
    "    ### -----------------------------------------------------------------------------------------------------\n",
    "    ### -----------------------------------------------------------------------------------------------------\n",
    "    ### -----------------------------------------------------------------------------------------------------\n",
    "    ### -----------------------------------------------------------------------------------------------------\n",
    "\n",
    "run_dict = { \n",
    "              'jb2008'   : 3  ,\n",
    "           }\n",
    "\n",
    "fig = make_subplots(rows=2, cols=1,\n",
    "                    vertical_spacing = 0.12,\n",
    "                    shared_xaxes=False)\n",
    "\n",
    "\n",
    "rms_model = {}\n",
    "\n",
    "for iplot,model in enumerate(run_list):\n",
    "    fig = plot_from_csv(fig, iplot, csv_dicts[model], model )\n",
    "\n",
    "\n",
    "\n",
    "\n",
    "#######################################################\n",
    "font_dict=dict(family='Arial',size=16,color='black')\n",
    "######################################################\n",
    "fig.update_layout(\n",
    "                  autosize=False,    width=1000,    height=800,\n",
    "                  legend= {'itemsizing': 'trace'},\n",
    "                  font=font_dict,\n",
    "                 )\n",
    "fig.update_annotations(font_size=16)  # Increase size of subplot title\n",
    "fig.show(config=dict({\n",
    "            'displayModeBar': False,\n",
    "            'responsive': False,\n",
    "            'staticPlot': False,\n",
    "            'displaylogo': False,\n",
    "            'showTips'   : False,\n",
    "            }))\n",
    "\n",
    "\n",
    "\n",
    "# longitude, LT, Change UT to be based on the date\n",
    "        \n"
   ]
  },
  {
   "cell_type": "code",
   "execution_count": 26,
   "id": "8804d43c",
   "metadata": {
    "ExecuteTime": {
     "end_time": "2022-11-14T23:07:17.103920Z",
     "start_time": "2022-11-14T23:07:17.082354Z"
    }
   },
   "outputs": [],
   "source": [
    "rate = (.7-1.4)/14 \n",
    "print('LT', )"
   ]
  },
  {
   "cell_type": "code",
   "execution_count": 12,
   "id": "f7033798",
   "metadata": {
    "ExecuteTime": {
     "end_time": "2022-11-14T22:00:20.477553Z",
     "start_time": "2022-11-14T22:00:20.457900Z"
    }
   },
   "outputs": [],
   "source": [
    "import numpy as np"
   ]
  },
  {
   "cell_type": "markdown",
   "id": "08763b62",
   "metadata": {},
   "source": [
    "## ICESat-2"
   ]
  },
  {
   "cell_type": "code",
   "execution_count": 13,
   "id": "51be95bb",
   "metadata": {
    "ExecuteTime": {
     "end_time": "2022-11-14T22:00:20.507712Z",
     "start_time": "2022-11-14T22:00:20.479036Z"
    },
    "scrolled": true
   },
   "outputs": [
    {
     "name": "stdout",
     "output_type": "stream",
     "text": [
      "5.458733541399004e-08 rads/sec\n",
      "0.270226707905086 degs/days\n",
      "\n",
      "1332.214727370493  days to complete one full rotation\n"
     ]
    }
   ],
   "source": [
    "R_E = 6378137 #meters\n",
    "a   = 6855953.9\n",
    "e  = 0.001398\n",
    "mu = 3.986004418*1e14 #m^3 s−2\n",
    "Period = (2*np.pi)*np.sqrt((a**3)/mu)\n",
    "ang_vel  = (2*np.pi)/Period   #2π radians divided by its period in seconds\n",
    "i  = 92.0013*(np.pi/180) #deg\n",
    "\n",
    "J2  = 1.08262668*1e-3\n",
    "\n",
    "\n",
    "precession_rate = (-3/2)* ( (R_E**2) / (a*(1-e**2))**2 ) * J2 * ang_vel * np.cos(i)\n",
    "print(precession_rate, 'rads/sec')\n",
    "precession_rate_degs_day = precession_rate*(180/np.pi)  * (86400)\n",
    "print(precession_rate_degs_day, 'degs/days')\n",
    "\n",
    "\n",
    "print()\n",
    "\n",
    "print(360/(precession_rate_degs_day),\" days to complete one full rotation\")"
   ]
  },
  {
   "cell_type": "markdown",
   "id": "a8eecdb9",
   "metadata": {
    "ExecuteTime": {
     "end_time": "2022-11-14T17:51:51.275242Z",
     "start_time": "2022-11-14T17:51:51.249659Z"
    }
   },
   "source": [
    "# Attempt from PSO"
   ]
  },
  {
   "cell_type": "code",
   "execution_count": 14,
   "id": "09d4792e",
   "metadata": {
    "ExecuteTime": {
     "end_time": "2022-11-14T22:00:20.531962Z",
     "start_time": "2022-11-14T22:00:20.509262Z"
    }
   },
   "outputs": [],
   "source": [
    "# mu = 3.986004415*10**5\n",
    "# radius = 6378.1363      # km\n",
    "\n",
    "\n",
    "\n",
    "# def RV_to_OE(R_vec, V_vec, mu):\n",
    "#     import numpy as np\n",
    "#     R_vec = np.array(R_vec) #km\n",
    "#     V_vec = np.array(V_vec )\n",
    "# #     r = np.sqrt(R_vec[0]**2 + R_vec[1]**2 + R_vec[2]**2) \n",
    "# #     v = np.sqrt(V_vec[0]**2 + V_vec[1]**2 + V_vec[2]**2) \n",
    "#     r = np.linalg.norm(R_vec)\n",
    "#     v = np.linalg.norm(V_vec)\n",
    "\n",
    "\n",
    "\n",
    "#     h_vec = np.array(np.cross(R_vec,V_vec))\n",
    "#     h = np.linalg.norm(h_vec)\n",
    "    \n",
    "#     p = (h**2/mu)\n",
    "\n",
    "#     n_vec = np.cross(np.array([0,0,1]),h_vec)\n",
    "#     n = np.linalg.norm(n_vec)\n",
    "\n",
    "\n",
    "#     energy = ((v**2)/2)-(mu/r)\n",
    "\n",
    "#     e_vec = (((v**2)-(mu/r))*R_vec - (np.dot(R_vec,V_vec))*V_vec)/mu\n",
    "\n",
    "#     a = -1*(mu/(2*energy))\n",
    "#     e = np.linalg.norm(e_vec)\n",
    "#     i = np.arccos(h_vec[2] / h)*(180/np.pi)\n",
    "\n",
    "#     RAAN = np.arccos(n_vec[0]/n)*(180/np.pi)\n",
    "#     if n_vec[1]<0:\n",
    "#         RAAN = -1*RAAN\n",
    "\n",
    "#     arg_peri = np.arccos(np.dot( n_vec, e_vec )/ (n * e) )*(180/np.pi)\n",
    "#     if e_vec[2]<0:\n",
    "#         arg_peri = -1*arg_peri\n",
    "\n",
    "#     true_anom = np.arccos(np.dot(e_vec,R_vec)/(e*r))*(180/np.pi)\n",
    "#     if np.dot(R_vec,V_vec) < 0:\n",
    "#         true_anom = -1*true_anom\n",
    "    \n",
    "#     vr= (mu/h)*(e*np.sin(true_anom*(np.pi/180)))\n",
    "\n",
    "#     v_theta = (mu/h)*(1 + e*np.cos(true_anom*(np.pi/180)))\n",
    "\n",
    "#     r_vec_rot = np.array([r, 0,0])\n",
    "#     v_vec_rot = np.array([vr, v_theta,0])\n",
    "    \n",
    "#     Period = (2*np.pi)*np.sqrt(a**3/mu)\n",
    "    \n",
    "#     dict_OE = {}\n",
    "#     dict_OE['r_mag']          = r\n",
    "#     dict_OE['v_mag']          = v\n",
    "#     dict_OE['a']              = a\n",
    "#     dict_OE['ecc']            = e\n",
    "#     dict_OE['energy_spec']    = energy\n",
    "#     dict_OE['h']              = h\n",
    "#     dict_OE['p']              = p\n",
    "#     dict_OE['Period']         = Period\n",
    "#     dict_OE['inc']            = i\n",
    "#     dict_OE['arg_periapsis']  = arg_peri\n",
    "#     dict_OE['raan']           = RAAN\n",
    "#     dict_OE['true_anom']      = true_anom\n",
    "#     dict_OE['r_vec_RotFrame'] = r_vec_rot\n",
    "#     dict_OE['v_vec_RotFrame'] = v_vec_rot\n",
    "        \n",
    "# #     print('r_mag =' ,r)\n",
    "# #     print('v_mag =' ,v)\n",
    "# #     print('a ='     ,a)\n",
    "# #     print('ecc ='   ,e)\n",
    "# #     print('energy_spec =',energy)\n",
    "# #     print('h =',h)\n",
    "# #     print('p =', p)\n",
    "# #     print('Period =', Period)\n",
    "# #     print('inc =',i)\n",
    "# #     print('arg_periapsis =',arg_peri)\n",
    "# #     print('raan =', RAAN)\n",
    "# #     print('true_anom =', true_anom)\n",
    "# #     print('r_vec_RotFrame =', r_vec_rot)\n",
    "# #     print('v_vec_RotFrame =',v_vec_rot)\n",
    "#     return(dict_OE)\n"
   ]
  },
  {
   "cell_type": "code",
   "execution_count": 15,
   "id": "8b38a80f",
   "metadata": {
    "ExecuteTime": {
     "end_time": "2022-11-14T22:00:20.566075Z",
     "start_time": "2022-11-14T22:00:20.533511Z"
    }
   },
   "outputs": [],
   "source": [
    "# # Load PCE Data:\n",
    "# OrbitData = \"/data/data_geodyn/inputs/icesat2/setups/PCE_ascii.txt\"\n",
    "    \n",
    "\n",
    "\n",
    "    \n",
    "# epoch_start = '181109000000.0000000'\n",
    "# epoch_end   = '181110000000.0000000'"
   ]
  },
  {
   "cell_type": "code",
   "execution_count": 16,
   "id": "098f24a2",
   "metadata": {
    "ExecuteTime": {
     "end_time": "2022-11-14T22:00:20.590184Z",
     "start_time": "2022-11-14T22:00:20.568132Z"
    }
   },
   "outputs": [],
   "source": [
    "# epoch_start_YYMMDD     = epoch_start[:6].strip() \n",
    "# epoch_start_HHMM       = epoch_start[7:11].strip()\n",
    "# epoch_start_dt = pd.to_datetime( epoch_start_YYMMDD+epoch_start_HHMM, format='%y%m%d%H%M%S')\n",
    "# epoch_end_YYMMDD     = epoch_end[:6].strip() \n",
    "# epoch_end_HHMM       = epoch_end[7:11].strip()\n",
    "\n",
    "# epoch_start_dt_STR = str(epoch_start_dt)\n",
    "# epoch_end_dt = pd.to_datetime( epoch_end_YYMMDD+epoch_end_HHMM, format='%y%m%d%H%M%S')\n",
    "\n",
    "# date_in_file_flag = False\n",
    "\n",
    "# print(\"Epoch Start: \"  , epoch_start_dt_STR)\n",
    "# print(\"Epoch End:   \"  , epoch_end_dt)\n",
    "\n",
    "# with open(OrbitData, 'r') as f:\n",
    "#     for line_no, line_text in enumerate(f):\n",
    "\n",
    "#         if epoch_start_dt_STR in line_text:\n",
    "#             date_in_file_flag= True\n",
    "#             print('    ','xyzline',line_no,line_text)\n",
    "\n",
    "#             break\n",
    "\n",
    "\n",
    "# DF_orbit = pd.read_csv(OrbitData, \n",
    "# #             skiprows = line_no, \n",
    "# #             nrows=1,           \n",
    "#             sep = '\\s+',\n",
    "#             dtype=str,\n",
    "#             names = [\n",
    "#                 'Date',\n",
    "#                 'MJDSECs', \n",
    "#                 'RSECS', #(fractional secs)\n",
    "#                 'GPS offset', # (UTC - GPS offset (secs))\n",
    "#                 'X',\n",
    "#                 'Y',\n",
    "#                 'Z',\n",
    "#                 'X_dot',\n",
    "#                 'Y_dot',\n",
    "#                 'Z_dot',\n",
    "#                 'YYMMDDhhmmss'],\n",
    "# #                 usecols = ['name','last_name'],\n",
    "#                     )\n",
    "\n",
    "\n",
    "\n",
    "\n",
    "# # del DF_orbit['']\n",
    "# # X     =  xyzline['X'].values[0].ljust(20)     #'  -745933.8926940708'\n",
    "# # Y     =  xyzline['Y'].values[0].ljust(20)     #'  -4864983.834066438'\n",
    "# # Z     =  xyzline['Z'].values[0].ljust(20)     #'    4769954.60524261'\n",
    "# # X_dot =  xyzline['X_dot'].values[0].ljust(20) #'  457.44564954037634'\n",
    "# # Y_dot =  xyzline['Y_dot'].values[0].ljust(20) #'   5302.381564886811'\n",
    "# # Z_dot =  xyzline['Z_dot'].values[0].ljust(20) #'    5463.55571622269'\n"
   ]
  },
  {
   "cell_type": "code",
   "execution_count": 17,
   "id": "79f6fe27",
   "metadata": {
    "ExecuteTime": {
     "end_time": "2022-11-14T22:00:20.610937Z",
     "start_time": "2022-11-14T22:00:20.592203Z"
    }
   },
   "outputs": [],
   "source": [
    "# DF_orbit"
   ]
  },
  {
   "cell_type": "code",
   "execution_count": 18,
   "id": "49586ebe",
   "metadata": {
    "ExecuteTime": {
     "end_time": "2022-11-14T22:00:20.632009Z",
     "start_time": "2022-11-14T22:00:20.612867Z"
    }
   },
   "outputs": [],
   "source": [
    "# X = float(DF_orbit[\"X\"].values[0])\n",
    "# Y = float(DF_orbit[\"Y\"].values[0])\n",
    "# Z = float(DF_orbit[\"Z\"].values[0])\n",
    "# X_dot = float(DF_orbit[\"X_dot\"].values[0])\n",
    "# Y_dot = float(DF_orbit[\"Y_dot\"].values[0])\n",
    "# Z_dot = float(DF_orbit[\"Z_dot\"].values[0])\n",
    "\n",
    "# R_vec = [X, Y, Z]\n",
    "# V_vec = [X_dot, Y_dot, Z_dot]\n",
    "\n",
    "# dict_OE = RV_to_OE(R_vec, V_vec, mu = 3.986004418*1e14)\n"
   ]
  },
  {
   "cell_type": "code",
   "execution_count": 19,
   "id": "0b45b763",
   "metadata": {
    "ExecuteTime": {
     "end_time": "2022-11-14T22:00:20.654025Z",
     "start_time": "2022-11-14T22:00:20.635303Z"
    }
   },
   "outputs": [],
   "source": [
    "# dict_OE"
   ]
  }
 ],
 "metadata": {
  "kernelspec": {
   "display_name": "Python 3",
   "language": "python",
   "name": "python3"
  },
  "language_info": {
   "codemirror_mode": {
    "name": "ipython",
    "version": 3
   },
   "file_extension": ".py",
   "mimetype": "text/x-python",
   "name": "python",
   "nbconvert_exporter": "python",
   "pygments_lexer": "ipython3",
   "version": "3.8.8"
  },
  "toc": {
   "base_numbering": 1,
   "nav_menu": {},
   "number_sections": true,
   "sideBar": true,
   "skip_h1_title": false,
   "title_cell": "Table of Contents",
   "title_sidebar": "Contents",
   "toc_cell": false,
   "toc_position": {
    "height": "calc(100% - 180px)",
    "left": "10px",
    "top": "150px",
    "width": "165px"
   },
   "toc_section_display": true,
   "toc_window_display": true
  },
  "varInspector": {
   "cols": {
    "lenName": 16,
    "lenType": 16,
    "lenVar": 40
   },
   "kernels_config": {
    "python": {
     "delete_cmd_postfix": "",
     "delete_cmd_prefix": "del ",
     "library": "var_list.py",
     "varRefreshCmd": "print(var_dic_list())"
    },
    "r": {
     "delete_cmd_postfix": ") ",
     "delete_cmd_prefix": "rm(",
     "library": "var_list.r",
     "varRefreshCmd": "cat(var_dic_list()) "
    }
   },
   "types_to_exclude": [
    "module",
    "function",
    "builtin_function_or_method",
    "instance",
    "_Feature"
   ],
   "window_display": false
  }
 },
 "nbformat": 4,
 "nbformat_minor": 5
}
