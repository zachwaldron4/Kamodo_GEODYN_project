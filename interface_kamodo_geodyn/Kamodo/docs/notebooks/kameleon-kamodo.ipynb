{
 "cells": [
  {
   "cell_type": "markdown",
   "metadata": {},
   "source": [
    "# Purpose\n",
    "\n",
    "This notebook tracks development of a wrapper for the kameleon software suite to support legacy ccmc models until python 3 model readers become available. \n",
    "\n",
    "This notebook should be executed from a python3 environment with kamodo installed."
   ]
  },
  {
   "cell_type": "code",
   "execution_count": 1,
   "metadata": {},
   "outputs": [
    {
     "name": "stdout",
     "output_type": "stream",
     "text": [
      "Python 3.7.3\r\n"
     ]
    }
   ],
   "source": [
    "!python --version"
   ]
  },
  {
   "cell_type": "code",
   "execution_count": 2,
   "metadata": {},
   "outputs": [],
   "source": [
    "from kamodo.readers._kameleon_kamodo import Kameleon"
   ]
  },
  {
   "cell_type": "code",
   "execution_count": 3,
   "metadata": {},
   "outputs": [
    {
     "name": "stdout",
     "output_type": "stream",
     "text": [
      "/Users/apembrok/Work/Kameleon_Sample_Data/LFM/Nov2015.LFM.S1-OF_mhd_2002-09-30T03-16-00Z.cdf opened\n"
     ]
    }
   ],
   "source": [
    "# may need to specify the full path to cdf, else file doesn't load correctly\n",
    "fname = '/Users/apembrok/Work/Kameleon_Sample_Data/LFM/Nov2015.LFM.S1-OF_mhd_2002-09-30T03-16-00Z.cdf'\n",
    "\n",
    "# python_path should point to a python2 executeable with kameleon installed\n",
    "python_path = '/Users/apembrok/miniconda2/envs/klive/bin/python'\n",
    "kameleon = Kameleon(fname, python_path, 'rho', 'p', 'bx','by','bz')"
   ]
  },
  {
   "cell_type": "code",
   "execution_count": 4,
   "metadata": {
    "scrolled": true
   },
   "outputs": [
    {
     "data": {
      "text/latex": [
       "\\begin{equation}\\rho{\\left(\\vec{x} \\right)} [amu/cm^3] = \\lambda{\\left(\\vec{x} \\right)}\\end{equation}\\begin{equation}p{\\left(\\vec{x} \\right)} [nPa] = \\lambda{\\left(\\vec{x} \\right)}\\end{equation}\\begin{equation}\\operatorname{bx}{\\left(\\vec{x} \\right)} [nT] = \\lambda{\\left(\\vec{x} \\right)}\\end{equation}\\begin{equation}\\operatorname{by}{\\left(\\vec{x} \\right)} [nT] = \\lambda{\\left(\\vec{x} \\right)}\\end{equation}\\begin{equation}\\operatorname{bz}{\\left(\\vec{x} \\right)} [nT] = \\lambda{\\left(\\vec{x} \\right)}\\end{equation}"
      ],
      "text/plain": [
       "Kameleon([(rho(xvec), <function interpolate(xvec)>),\n",
       "          (rho, <function interpolate(xvec)>),\n",
       "          (p(xvec), <function interpolate(xvec)>),\n",
       "          (p, <function interpolate(xvec)>),\n",
       "          (bx(xvec), <function interpolate(xvec)>),\n",
       "          (bx, <function interpolate(xvec)>),\n",
       "          (by(xvec), <function interpolate(xvec)>),\n",
       "          (by, <function interpolate(xvec)>),\n",
       "          (bz(xvec), <function interpolate(xvec)>),\n",
       "          (bz, <function interpolate(xvec)>)])"
      ]
     },
     "execution_count": 4,
     "metadata": {},
     "output_type": "execute_result"
    }
   ],
   "source": [
    "kameleon"
   ]
  },
  {
   "cell_type": "code",
   "execution_count": 5,
   "metadata": {},
   "outputs": [],
   "source": [
    "from kamodo import gridify\n",
    "import numpy as np\n",
    "points = np.arange(12*3).reshape((-1,3))"
   ]
  },
  {
   "cell_type": "code",
   "execution_count": 6,
   "metadata": {},
   "outputs": [
    {
     "data": {
      "text/plain": [
       "array([ 1.75048208e+00,  4.82881117e+00,  5.63864784e+01,  1.87258148e+01,\n",
       "        1.88226109e+01,  1.85908566e+01,  1.87104950e+01,  1.86995926e+01,\n",
       "        1.86710930e+01,  1.86786823e+01, -1.09951163e+12, -1.09951163e+12])"
      ]
     },
     "execution_count": 6,
     "metadata": {},
     "output_type": "execute_result"
    }
   ],
   "source": [
    "kameleon.rho(points)"
   ]
  },
  {
   "cell_type": "code",
   "execution_count": 7,
   "metadata": {},
   "outputs": [
    {
     "data": {
      "text/plain": [
       "[-14.527422904968262, -11.133100509643555]"
      ]
     },
     "execution_count": 7,
     "metadata": {},
     "output_type": "execute_result"
    }
   ],
   "source": [
    "kameleon.bx([[-30, 0, 0], [-20, 0, 0]])"
   ]
  },
  {
   "cell_type": "code",
   "execution_count": 11,
   "metadata": {},
   "outputs": [
    {
     "data": {
      "text/latex": [
       "\\begin{equation}\\rho{\\left(\\vec{x} \\right)} [amu/cm^3] = \\lambda{\\left(\\vec{x} \\right)}\\end{equation}\\begin{equation}p{\\left(\\vec{x} \\right)} [nPa] = \\lambda{\\left(\\vec{x} \\right)}\\end{equation}\\begin{equation}\\operatorname{bx}{\\left(\\vec{x} \\right)} [nT] = \\lambda{\\left(\\vec{x} \\right)}\\end{equation}\\begin{equation}\\operatorname{by}{\\left(\\vec{x} \\right)} [nT] = \\lambda{\\left(\\vec{x} \\right)}\\end{equation}\\begin{equation}\\operatorname{bz}{\\left(\\vec{x} \\right)} [nT] = \\lambda{\\left(\\vec{x} \\right)}\\end{equation}"
      ],
      "text/plain": [
       "Kameleon([(rho(xvec), <function interpolate(xvec)>),\n",
       "          (rho, <function interpolate(xvec)>),\n",
       "          (p(xvec), <function interpolate(xvec)>),\n",
       "          (p, <function interpolate(xvec)>),\n",
       "          (bx(xvec), <function interpolate(xvec)>),\n",
       "          (bx, <function interpolate(xvec)>),\n",
       "          (by(xvec), <function interpolate(xvec)>),\n",
       "          (by, <function interpolate(xvec)>),\n",
       "          (bz(xvec), <function interpolate(xvec)>),\n",
       "          (bz, <function interpolate(xvec)>)])"
      ]
     },
     "execution_count": 11,
     "metadata": {},
     "output_type": "execute_result"
    }
   ],
   "source": [
    "kameleon"
   ]
  },
  {
   "cell_type": "code",
   "execution_count": 12,
   "metadata": {},
   "outputs": [
    {
     "data": {
      "text/latex": [
       "\\begin{equation}\\rho{\\left(\\vec{x} \\right)} [amu/cm^3] = \\lambda{\\left(\\vec{x} \\right)}\\end{equation}\\begin{equation}p{\\left(\\vec{x} \\right)} [nPa] = \\lambda{\\left(\\vec{x} \\right)}\\end{equation}\\begin{equation}\\operatorname{bx}{\\left(\\vec{x} \\right)} [nT] = \\lambda{\\left(\\vec{x} \\right)}\\end{equation}\\begin{equation}\\operatorname{by}{\\left(\\vec{x} \\right)} [nT] = \\lambda{\\left(\\vec{x} \\right)}\\end{equation}\\begin{equation}\\operatorname{bz}{\\left(\\vec{x} \\right)} [nT] = \\lambda{\\left(\\vec{x} \\right)}\\end{equation}\\begin{equation}\\operatorname{bz_{ijk}}{\\left(x,y,z \\right)} = \\lambda{\\left(x,y,z \\right)}\\end{equation}"
      ],
      "text/plain": [
       "Kameleon([(rho(xvec), <function interpolate(xvec)>),\n",
       "          (rho, <function interpolate(xvec)>),\n",
       "          (p(xvec), <function interpolate(xvec)>),\n",
       "          (p, <function interpolate(xvec)>),\n",
       "          (bx(xvec), <function interpolate(xvec)>),\n",
       "          (bx, <function interpolate(xvec)>),\n",
       "          (by(xvec), <function interpolate(xvec)>),\n",
       "          (by, <function interpolate(xvec)>),\n",
       "          (bz(xvec), <function interpolate(xvec)>),\n",
       "          (bz, <function interpolate(xvec)>),\n",
       "          (bz_ijk(x, y, z),\n",
       "           <function wrapped(x=array([-25.        , -24.48275862, -23.96551724, -23.44827586,\n",
       "       -22.93103448, -22.4137931 , -21.89655172, -21.37931034,\n",
       "       -20.86206897, -20.34482759, -19.82758621, -19.31034483,\n",
       "       -18.79310345, -18.27586207, -17.75862069, -17.24137931,\n",
       "       -16.72413793, -16.20689655, -15.68965517, -15.17241379,\n",
       "       -14.65517241, -14.13793103, -13.62068966, -13.10344828,\n",
       "       -12.5862069 , -12.06896552, -11.55172414, -11.03448276,\n",
       "       -10.51724138, -10.        ]), y=array([-10.        ,  -9.48717949,  -8.97435897,  -8.46153846,\n",
       "        -7.94871795,  -7.43589744,  -6.92307692,  -6.41025641,\n",
       "        -5.8974359 ,  -5.38461538,  -4.87179487,  -4.35897436,\n",
       "        -3.84615385,  -3.33333333,  -2.82051282,  -2.30769231,\n",
       "        -1.79487179,  -1.28205128,  -0.76923077,  -0.25641026,\n",
       "         0.25641026,   0.76923077,   1.28205128,   1.79487179,\n",
       "         2.30769231,   2.82051282,   3.33333333,   3.84615385,\n",
       "         4.35897436,   4.87179487,   5.38461538,   5.8974359 ,\n",
       "         6.41025641,   6.92307692,   7.43589744,   7.94871795,\n",
       "         8.46153846,   8.97435897,   9.48717949,  10.        ]), z=0)>),\n",
       "          (bz_ijk,\n",
       "           <function wrapped(x=array([-25.        , -24.48275862, -23.96551724, -23.44827586,\n",
       "       -22.93103448, -22.4137931 , -21.89655172, -21.37931034,\n",
       "       -20.86206897, -20.34482759, -19.82758621, -19.31034483,\n",
       "       -18.79310345, -18.27586207, -17.75862069, -17.24137931,\n",
       "       -16.72413793, -16.20689655, -15.68965517, -15.17241379,\n",
       "       -14.65517241, -14.13793103, -13.62068966, -13.10344828,\n",
       "       -12.5862069 , -12.06896552, -11.55172414, -11.03448276,\n",
       "       -10.51724138, -10.        ]), y=array([-10.        ,  -9.48717949,  -8.97435897,  -8.46153846,\n",
       "        -7.94871795,  -7.43589744,  -6.92307692,  -6.41025641,\n",
       "        -5.8974359 ,  -5.38461538,  -4.87179487,  -4.35897436,\n",
       "        -3.84615385,  -3.33333333,  -2.82051282,  -2.30769231,\n",
       "        -1.79487179,  -1.28205128,  -0.76923077,  -0.25641026,\n",
       "         0.25641026,   0.76923077,   1.28205128,   1.79487179,\n",
       "         2.30769231,   2.82051282,   3.33333333,   3.84615385,\n",
       "         4.35897436,   4.87179487,   5.38461538,   5.8974359 ,\n",
       "         6.41025641,   6.92307692,   7.43589744,   7.94871795,\n",
       "         8.46153846,   8.97435897,   9.48717949,  10.        ]), z=0)>)])"
      ]
     },
     "execution_count": 12,
     "metadata": {},
     "output_type": "execute_result"
    }
   ],
   "source": [
    "kameleon['bz_ijk'] = gridify(kameleon.bz, \n",
    "                             x = np.linspace(-25, -10, 30),\n",
    "                             y = np.linspace(-10, 10, 40), z = 0)\n",
    "kameleon"
   ]
  },
  {
   "cell_type": "code",
   "execution_count": 13,
   "metadata": {},
   "outputs": [],
   "source": [
    "fig = kameleon.plot('bz_ijk')\n",
    "fig.layout.scene.aspectmode = 'data'"
   ]
  },
  {
   "cell_type": "code",
   "execution_count": 14,
   "metadata": {},
   "outputs": [],
   "source": [
    "import plotly.io as pio\n",
    "\n",
    "pio.write_image(fig, 'images/kameleon_sample_out.svg')"
   ]
  },
  {
   "cell_type": "markdown",
   "metadata": {},
   "source": [
    "![kameleon_sample](images/kameleon_sample_out.svg?1)"
   ]
  }
 ],
 "metadata": {
  "kernelspec": {
   "display_name": "Python 3",
   "language": "python",
   "name": "python3"
  },
  "language_info": {
   "codemirror_mode": {
    "name": "ipython",
    "version": 3
   },
   "file_extension": ".py",
   "mimetype": "text/x-python",
   "name": "python",
   "nbconvert_exporter": "python",
   "pygments_lexer": "ipython3",
   "version": "3.7.3"
  }
 },
 "nbformat": 4,
 "nbformat_minor": 2
}
