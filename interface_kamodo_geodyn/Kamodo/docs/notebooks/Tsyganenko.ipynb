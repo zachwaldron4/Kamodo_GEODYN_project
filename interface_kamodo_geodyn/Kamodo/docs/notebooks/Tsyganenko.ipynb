{
 "cells": [
  {
   "cell_type": "markdown",
   "metadata": {},
   "source": [
    "## Tsyganenko: \n",
    "\n",
    "## This model 'reader' uses cloned sources of \n",
    "## geopack (https://github.com/tsssss/geopack), \n",
    "## geospacepy-lite (https://github.com/lkilcommons/geospacepy-lite), \n",
    "## installed using pip install -e ./ in the geopack/ and geospacepy directories, respectively, \n",
    "## on top of a python Kamodo environment before starting the jupyter notebook server.\n",
    "## geospacepy-lite requires the CDF libraries from NASA and spacepy.pycdf to efficiently read OMNI data.\n"
   ]
  },
  {
   "cell_type": "code",
   "execution_count": 1,
   "metadata": {},
   "outputs": [],
   "source": [
    "%load_ext autoreload\n",
    "%autoreload 2"
   ]
  },
  {
   "cell_type": "code",
   "execution_count": 2,
   "metadata": {},
   "outputs": [],
   "source": [
    "import numpy as np"
   ]
  },
  {
   "cell_type": "code",
   "execution_count": 3,
   "metadata": {},
   "outputs": [],
   "source": [
    "import os.path,datetime"
   ]
  },
  {
   "cell_type": "code",
   "execution_count": 4,
   "metadata": {},
   "outputs": [
    {
     "name": "stdout",
     "output_type": "stream",
     "text": [
      "Load IGRF coefficients ...\n"
     ]
    }
   ],
   "source": [
    "from geopack import geopack"
   ]
  },
  {
   "cell_type": "code",
   "execution_count": 8,
   "metadata": {},
   "outputs": [
    {
     "ename": "ImportError",
     "evalue": "cannot import name 'gridify' from 'kamodo' (/Users/lrastaet/anaconda3/envs/kamodo37/lib/python3.7/site-packages/kamodo/__init__.py)",
     "output_type": "error",
     "traceback": [
      "\u001b[0;31m---------------------------------------------------------------------------\u001b[0m",
      "\u001b[0;31mImportError\u001b[0m                               Traceback (most recent call last)",
      "\u001b[0;32m<ipython-input-8-747ee71f753d>\u001b[0m in \u001b[0;36m<module>\u001b[0;34m\u001b[0m\n\u001b[0;32m----> 1\u001b[0;31m \u001b[0;32mfrom\u001b[0m \u001b[0mkamodo\u001b[0m \u001b[0;32mimport\u001b[0m \u001b[0mKamodo\u001b[0m\u001b[0;34m,\u001b[0m\u001b[0mkamodofy\u001b[0m\u001b[0;34m,\u001b[0m\u001b[0mgridify\u001b[0m\u001b[0;34m\u001b[0m\u001b[0;34m\u001b[0m\u001b[0m\n\u001b[0m",
      "\u001b[0;31mImportError\u001b[0m: cannot import name 'gridify' from 'kamodo' (/Users/lrastaet/anaconda3/envs/kamodo37/lib/python3.7/site-packages/kamodo/__init__.py)"
     ]
    }
   ],
   "source": [
    "from kamodo import Kamodo,kamodofy,gridify"
   ]
  },
  {
   "cell_type": "markdown",
   "metadata": {},
   "source": [
    "### Environmment variable to point to NASA SPDF CDF \n",
    "(https://spdf.gsfc.nasa.gov/pub/software/cdf/dist/) installation on your machine"
   ]
  },
  {
   "cell_type": "code",
   "execution_count": 6,
   "metadata": {},
   "outputs": [],
   "source": [
    "os.environ[\"CDF_LIB\"]='/Applications/cdf/cdf73_1-dist/lib/'"
   ]
  },
  {
   "cell_type": "code",
   "execution_count": 7,
   "metadata": {},
   "outputs": [],
   "source": [
    "from spacepy import pycdf"
   ]
  },
  {
   "cell_type": "code",
   "execution_count": 8,
   "metadata": {},
   "outputs": [
    {
     "name": "stdout",
     "output_type": "stream",
     "text": [
      "Traceback (most recent call last):\n",
      "  File \"/Users/lrastaet/Desktop_Lutz/Projects/Kamodo/geospacepy-lite/geospacepy/__init__.py\", line 8, in <module>\n",
      "    from geospacepy.geospacepy_config import config\n",
      "ModuleNotFoundError: No module named 'geospacepy.geospacepy_config'\n",
      "\n",
      "Solar wind data files will be saved to /Users/lrastaet/Library/Application Support/geospacepy\n"
     ]
    }
   ],
   "source": [
    "import geospacepy"
   ]
  },
  {
   "cell_type": "code",
   "execution_count": 9,
   "metadata": {},
   "outputs": [],
   "source": [
    "from tsyganenko import T96,T89,T01,T04"
   ]
  },
  {
   "cell_type": "code",
   "execution_count": 10,
   "metadata": {
    "scrolled": true
   },
   "outputs": [
    {
     "name": "stdout",
     "output_type": "stream",
     "text": [
      "Created interval between 2010-01-01 and 2010-01-01, cadence hourly, start index 10, end index 11\n",
      "Applying transform Hourly Kp*10 -> Kp to omni hourly variable KP\n"
     ]
    }
   ],
   "source": [
    "t89_igrf=T89(2010,1,1,10,4,1)"
   ]
  },
  {
   "cell_type": "code",
   "execution_count": 11,
   "metadata": {},
   "outputs": [
    {
     "data": {
      "text/latex": [
       "\\begin{equation}\\operatorname{b_{x}}{\\left(\\vec{x} \\right)} [nT] = \\lambda{\\left(\\vec{x} \\right)}\\end{equation}\\begin{equation}\\operatorname{b_{x ijk}}{\\left(x_{i},y_{j},z_{k} \\right)} [nT] = \\lambda{\\left(x_{i},y_{j},z_{k} \\right)}\\end{equation}\\begin{equation}\\operatorname{b_{y}}{\\left(\\vec{x} \\right)} [nT] = \\lambda{\\left(\\vec{x} \\right)}\\end{equation}\\begin{equation}\\operatorname{b_{y ijk}}{\\left(x_{i},y_{j},z_{k} \\right)} [nT] = \\lambda{\\left(x_{i},y_{j},z_{k} \\right)}\\end{equation}\\begin{equation}\\operatorname{b_{z}}{\\left(\\vec{x} \\right)} [nT] = \\lambda{\\left(\\vec{x} \\right)}\\end{equation}\\begin{equation}\\operatorname{b_{z ijk}}{\\left(x_{i},y_{j},z_{k} \\right)} [nT] = \\lambda{\\left(x_{i},y_{j},z_{k} \\right)}\\end{equation}\\begin{equation}\\vec{b}{\\left(\\vec{x} \\right)} [nT] = \\lambda{\\left(\\vec{x} \\right)}\\end{equation}\\begin{equation}\\vec{b}_{ijk}{\\left(x_{i},y_{j},z_{k} \\right)} [nT] = \\lambda{\\left(x_{i},y_{j},z_{k} \\right)}\\end{equation}"
      ],
      "text/plain": [
       "T89([(b_x(xvec),\n",
       "      <function tsyganenko.T89.register_variable.<locals>.interpolate(xvec)>),\n",
       "     (b_x,\n",
       "      <function tsyganenko.T89.register_variable.<locals>.interpolate(xvec)>),\n",
       "     (b_x_ijk(x_i, y_j, z_k),\n",
       "      <function wrapped(x_i=array([-30.        , -27.89473684, -25.78947368, -23.68421053,\n",
       "       -21.57894737, -19.47368421, -17.36842105, -15.26315789,\n",
       "       -13.15789474, -11.05263158,  -8.94736842,  -6.84210526,\n",
       "        -4.73684211,  -2.63157895,  -0.52631579,   1.57894737,\n",
       "         3.68421053,   5.78947368,   7.89473684,  10.        ]), y_j=array([-10.        ,  -7.77777778,  -5.55555556,  -3.33333333,\n",
       "        -1.11111111,   1.11111111,   3.33333333,   5.55555556,\n",
       "         7.77777778,  10.        ]), z_k=array([-10.        ,  -7.77777778,  -5.55555556,  -3.33333333,\n",
       "        -1.11111111,   1.11111111,   3.33333333,   5.55555556,\n",
       "         7.77777778,  10.        ]))>),\n",
       "     (b_x_ijk,\n",
       "      <function wrapped(x_i=array([-30.        , -27.89473684, -25.78947368, -23.68421053,\n",
       "       -21.57894737, -19.47368421, -17.36842105, -15.26315789,\n",
       "       -13.15789474, -11.05263158,  -8.94736842,  -6.84210526,\n",
       "        -4.73684211,  -2.63157895,  -0.52631579,   1.57894737,\n",
       "         3.68421053,   5.78947368,   7.89473684,  10.        ]), y_j=array([-10.        ,  -7.77777778,  -5.55555556,  -3.33333333,\n",
       "        -1.11111111,   1.11111111,   3.33333333,   5.55555556,\n",
       "         7.77777778,  10.        ]), z_k=array([-10.        ,  -7.77777778,  -5.55555556,  -3.33333333,\n",
       "        -1.11111111,   1.11111111,   3.33333333,   5.55555556,\n",
       "         7.77777778,  10.        ]))>),\n",
       "     (b_y(xvec),\n",
       "      <function tsyganenko.T89.register_variable.<locals>.interpolate(xvec)>),\n",
       "     (b_y,\n",
       "      <function tsyganenko.T89.register_variable.<locals>.interpolate(xvec)>),\n",
       "     (b_y_ijk(x_i, y_j, z_k),\n",
       "      <function wrapped(x_i=array([-30.        , -27.89473684, -25.78947368, -23.68421053,\n",
       "       -21.57894737, -19.47368421, -17.36842105, -15.26315789,\n",
       "       -13.15789474, -11.05263158,  -8.94736842,  -6.84210526,\n",
       "        -4.73684211,  -2.63157895,  -0.52631579,   1.57894737,\n",
       "         3.68421053,   5.78947368,   7.89473684,  10.        ]), y_j=array([-10.        ,  -7.77777778,  -5.55555556,  -3.33333333,\n",
       "        -1.11111111,   1.11111111,   3.33333333,   5.55555556,\n",
       "         7.77777778,  10.        ]), z_k=array([-10.        ,  -7.77777778,  -5.55555556,  -3.33333333,\n",
       "        -1.11111111,   1.11111111,   3.33333333,   5.55555556,\n",
       "         7.77777778,  10.        ]))>),\n",
       "     (b_y_ijk,\n",
       "      <function wrapped(x_i=array([-30.        , -27.89473684, -25.78947368, -23.68421053,\n",
       "       -21.57894737, -19.47368421, -17.36842105, -15.26315789,\n",
       "       -13.15789474, -11.05263158,  -8.94736842,  -6.84210526,\n",
       "        -4.73684211,  -2.63157895,  -0.52631579,   1.57894737,\n",
       "         3.68421053,   5.78947368,   7.89473684,  10.        ]), y_j=array([-10.        ,  -7.77777778,  -5.55555556,  -3.33333333,\n",
       "        -1.11111111,   1.11111111,   3.33333333,   5.55555556,\n",
       "         7.77777778,  10.        ]), z_k=array([-10.        ,  -7.77777778,  -5.55555556,  -3.33333333,\n",
       "        -1.11111111,   1.11111111,   3.33333333,   5.55555556,\n",
       "         7.77777778,  10.        ]))>),\n",
       "     (b_z(xvec),\n",
       "      <function tsyganenko.T89.register_variable.<locals>.interpolate(xvec)>),\n",
       "     (b_z,\n",
       "      <function tsyganenko.T89.register_variable.<locals>.interpolate(xvec)>),\n",
       "     (b_z_ijk(x_i, y_j, z_k),\n",
       "      <function wrapped(x_i=array([-30.        , -27.89473684, -25.78947368, -23.68421053,\n",
       "       -21.57894737, -19.47368421, -17.36842105, -15.26315789,\n",
       "       -13.15789474, -11.05263158,  -8.94736842,  -6.84210526,\n",
       "        -4.73684211,  -2.63157895,  -0.52631579,   1.57894737,\n",
       "         3.68421053,   5.78947368,   7.89473684,  10.        ]), y_j=array([-10.        ,  -7.77777778,  -5.55555556,  -3.33333333,\n",
       "        -1.11111111,   1.11111111,   3.33333333,   5.55555556,\n",
       "         7.77777778,  10.        ]), z_k=array([-10.        ,  -7.77777778,  -5.55555556,  -3.33333333,\n",
       "        -1.11111111,   1.11111111,   3.33333333,   5.55555556,\n",
       "         7.77777778,  10.        ]))>),\n",
       "     (b_z_ijk,\n",
       "      <function wrapped(x_i=array([-30.        , -27.89473684, -25.78947368, -23.68421053,\n",
       "       -21.57894737, -19.47368421, -17.36842105, -15.26315789,\n",
       "       -13.15789474, -11.05263158,  -8.94736842,  -6.84210526,\n",
       "        -4.73684211,  -2.63157895,  -0.52631579,   1.57894737,\n",
       "         3.68421053,   5.78947368,   7.89473684,  10.        ]), y_j=array([-10.        ,  -7.77777778,  -5.55555556,  -3.33333333,\n",
       "        -1.11111111,   1.11111111,   3.33333333,   5.55555556,\n",
       "         7.77777778,  10.        ]), z_k=array([-10.        ,  -7.77777778,  -5.55555556,  -3.33333333,\n",
       "        -1.11111111,   1.11111111,   3.33333333,   5.55555556,\n",
       "         7.77777778,  10.        ]))>),\n",
       "     (bvec(xvec),\n",
       "      <function tsyganenko.T89.register_variable.<locals>.interpolate(xvec)>),\n",
       "     (bvec,\n",
       "      <function tsyganenko.T89.register_variable.<locals>.interpolate(xvec)>),\n",
       "     (bvec_ijk(x_i, y_j, z_k),\n",
       "      <function wrapped(x_i=array([-30.        , -27.89473684, -25.78947368, -23.68421053,\n",
       "       -21.57894737, -19.47368421, -17.36842105, -15.26315789,\n",
       "       -13.15789474, -11.05263158,  -8.94736842,  -6.84210526,\n",
       "        -4.73684211,  -2.63157895,  -0.52631579,   1.57894737,\n",
       "         3.68421053,   5.78947368,   7.89473684,  10.        ]), y_j=array([-10.        ,  -7.77777778,  -5.55555556,  -3.33333333,\n",
       "        -1.11111111,   1.11111111,   3.33333333,   5.55555556,\n",
       "         7.77777778,  10.        ]), z_k=array([-10.        ,  -7.77777778,  -5.55555556,  -3.33333333,\n",
       "        -1.11111111,   1.11111111,   3.33333333,   5.55555556,\n",
       "         7.77777778,  10.        ]))>),\n",
       "     (bvec_ijk,\n",
       "      <function wrapped(x_i=array([-30.        , -27.89473684, -25.78947368, -23.68421053,\n",
       "       -21.57894737, -19.47368421, -17.36842105, -15.26315789,\n",
       "       -13.15789474, -11.05263158,  -8.94736842,  -6.84210526,\n",
       "        -4.73684211,  -2.63157895,  -0.52631579,   1.57894737,\n",
       "         3.68421053,   5.78947368,   7.89473684,  10.        ]), y_j=array([-10.        ,  -7.77777778,  -5.55555556,  -3.33333333,\n",
       "        -1.11111111,   1.11111111,   3.33333333,   5.55555556,\n",
       "         7.77777778,  10.        ]), z_k=array([-10.        ,  -7.77777778,  -5.55555556,  -3.33333333,\n",
       "        -1.11111111,   1.11111111,   3.33333333,   5.55555556,\n",
       "         7.77777778,  10.        ]))>)])"
      ]
     },
     "execution_count": 11,
     "metadata": {},
     "output_type": "execute_result"
    }
   ],
   "source": [
    "t89_igrf"
   ]
  },
  {
   "cell_type": "code",
   "execution_count": 12,
   "metadata": {},
   "outputs": [
    {
     "data": {
      "text/plain": [
       "array([ 8.,  9., 10.])"
      ]
     },
     "execution_count": 12,
     "metadata": {},
     "output_type": "execute_result"
    }
   ],
   "source": [
    "x=np.array([8.,9.,10.])\n",
    "y=np.array([0.,1.,2.])\n",
    "z=np.array([2.,3.,4.])\n",
    "points=np.column_stack((x,y,z))\n",
    "points\n",
    "points[:,0]"
   ]
  },
  {
   "cell_type": "code",
   "execution_count": 13,
   "metadata": {},
   "outputs": [
    {
     "data": {
      "text/plain": [
       "array([[ 6.22189170e-01],\n",
       "       [-1.18328788e+03],\n",
       "       [-2.00080654e+02]])"
      ]
     },
     "execution_count": 13,
     "metadata": {},
     "output_type": "execute_result"
    }
   ],
   "source": [
    "t89_igrf.b_x(points)"
   ]
  },
  {
   "cell_type": "code",
   "execution_count": 14,
   "metadata": {},
   "outputs": [
    {
     "data": {
      "text/html": [
       "<div>\n",
       "<style scoped>\n",
       "    .dataframe tbody tr th:only-of-type {\n",
       "        vertical-align: middle;\n",
       "    }\n",
       "\n",
       "    .dataframe tbody tr th {\n",
       "        vertical-align: top;\n",
       "    }\n",
       "\n",
       "    .dataframe thead th {\n",
       "        text-align: right;\n",
       "    }\n",
       "</style>\n",
       "<table border=\"1\" class=\"dataframe\">\n",
       "  <thead>\n",
       "    <tr style=\"text-align: right;\">\n",
       "      <th></th>\n",
       "      <th>symbol</th>\n",
       "      <th>units</th>\n",
       "      <th>lhs</th>\n",
       "      <th>rhs</th>\n",
       "    </tr>\n",
       "  </thead>\n",
       "  <tbody>\n",
       "    <tr>\n",
       "      <th>b_x(xvec)</th>\n",
       "      <td>b_x(xvec)</td>\n",
       "      <td>nT</td>\n",
       "      <td>b_x</td>\n",
       "      <td>None</td>\n",
       "    </tr>\n",
       "    <tr>\n",
       "      <th>b_x_ijk(x_i, y_j, z_k)</th>\n",
       "      <td>b_x_ijk(x_i, y_j, z_k)</td>\n",
       "      <td>nT</td>\n",
       "      <td>b_x_ijk</td>\n",
       "      <td>None</td>\n",
       "    </tr>\n",
       "    <tr>\n",
       "      <th>b_y(xvec)</th>\n",
       "      <td>b_y(xvec)</td>\n",
       "      <td>nT</td>\n",
       "      <td>b_y</td>\n",
       "      <td>None</td>\n",
       "    </tr>\n",
       "    <tr>\n",
       "      <th>b_y_ijk(x_i, y_j, z_k)</th>\n",
       "      <td>b_y_ijk(x_i, y_j, z_k)</td>\n",
       "      <td>nT</td>\n",
       "      <td>b_y_ijk</td>\n",
       "      <td>None</td>\n",
       "    </tr>\n",
       "    <tr>\n",
       "      <th>b_z(xvec)</th>\n",
       "      <td>b_z(xvec)</td>\n",
       "      <td>nT</td>\n",
       "      <td>b_z</td>\n",
       "      <td>None</td>\n",
       "    </tr>\n",
       "    <tr>\n",
       "      <th>b_z_ijk(x_i, y_j, z_k)</th>\n",
       "      <td>b_z_ijk(x_i, y_j, z_k)</td>\n",
       "      <td>nT</td>\n",
       "      <td>b_z_ijk</td>\n",
       "      <td>None</td>\n",
       "    </tr>\n",
       "    <tr>\n",
       "      <th>bvec(xvec)</th>\n",
       "      <td>bvec(xvec)</td>\n",
       "      <td>nT</td>\n",
       "      <td>bvec</td>\n",
       "      <td>None</td>\n",
       "    </tr>\n",
       "    <tr>\n",
       "      <th>bvec_ijk(x_i, y_j, z_k)</th>\n",
       "      <td>bvec_ijk(x_i, y_j, z_k)</td>\n",
       "      <td>nT</td>\n",
       "      <td>bvec_ijk</td>\n",
       "      <td>None</td>\n",
       "    </tr>\n",
       "  </tbody>\n",
       "</table>\n",
       "</div>"
      ],
      "text/plain": [
       "                                          symbol units       lhs   rhs\n",
       "b_x(xvec)                              b_x(xvec)    nT       b_x  None\n",
       "b_x_ijk(x_i, y_j, z_k)    b_x_ijk(x_i, y_j, z_k)    nT   b_x_ijk  None\n",
       "b_y(xvec)                              b_y(xvec)    nT       b_y  None\n",
       "b_y_ijk(x_i, y_j, z_k)    b_y_ijk(x_i, y_j, z_k)    nT   b_y_ijk  None\n",
       "b_z(xvec)                              b_z(xvec)    nT       b_z  None\n",
       "b_z_ijk(x_i, y_j, z_k)    b_z_ijk(x_i, y_j, z_k)    nT   b_z_ijk  None\n",
       "bvec(xvec)                            bvec(xvec)    nT      bvec  None\n",
       "bvec_ijk(x_i, y_j, z_k)  bvec_ijk(x_i, y_j, z_k)    nT  bvec_ijk  None"
      ]
     },
     "execution_count": 14,
     "metadata": {},
     "output_type": "execute_result"
    }
   ],
   "source": [
    "t89_igrf.detail()"
   ]
  },
  {
   "cell_type": "code",
   "execution_count": 15,
   "metadata": {},
   "outputs": [],
   "source": [
    "t89_igrf['B_x[T]']='b_x'"
   ]
  },
  {
   "cell_type": "code",
   "execution_count": 16,
   "metadata": {},
   "outputs": [
    {
     "data": {
      "text/html": [
       "<div>\n",
       "<style scoped>\n",
       "    .dataframe tbody tr th:only-of-type {\n",
       "        vertical-align: middle;\n",
       "    }\n",
       "\n",
       "    .dataframe tbody tr th {\n",
       "        vertical-align: top;\n",
       "    }\n",
       "\n",
       "    .dataframe thead th {\n",
       "        text-align: right;\n",
       "    }\n",
       "</style>\n",
       "<table border=\"1\" class=\"dataframe\">\n",
       "  <thead>\n",
       "    <tr style=\"text-align: right;\">\n",
       "      <th></th>\n",
       "      <th>symbol</th>\n",
       "      <th>units</th>\n",
       "      <th>lhs</th>\n",
       "      <th>rhs</th>\n",
       "    </tr>\n",
       "  </thead>\n",
       "  <tbody>\n",
       "    <tr>\n",
       "      <th>b_x(xvec)</th>\n",
       "      <td>b_x(xvec)</td>\n",
       "      <td>nT</td>\n",
       "      <td>b_x</td>\n",
       "      <td>None</td>\n",
       "    </tr>\n",
       "    <tr>\n",
       "      <th>b_x_ijk(x_i, y_j, z_k)</th>\n",
       "      <td>b_x_ijk(x_i, y_j, z_k)</td>\n",
       "      <td>nT</td>\n",
       "      <td>b_x_ijk</td>\n",
       "      <td>None</td>\n",
       "    </tr>\n",
       "    <tr>\n",
       "      <th>b_y(xvec)</th>\n",
       "      <td>b_y(xvec)</td>\n",
       "      <td>nT</td>\n",
       "      <td>b_y</td>\n",
       "      <td>None</td>\n",
       "    </tr>\n",
       "    <tr>\n",
       "      <th>b_y_ijk(x_i, y_j, z_k)</th>\n",
       "      <td>b_y_ijk(x_i, y_j, z_k)</td>\n",
       "      <td>nT</td>\n",
       "      <td>b_y_ijk</td>\n",
       "      <td>None</td>\n",
       "    </tr>\n",
       "    <tr>\n",
       "      <th>b_z(xvec)</th>\n",
       "      <td>b_z(xvec)</td>\n",
       "      <td>nT</td>\n",
       "      <td>b_z</td>\n",
       "      <td>None</td>\n",
       "    </tr>\n",
       "    <tr>\n",
       "      <th>b_z_ijk(x_i, y_j, z_k)</th>\n",
       "      <td>b_z_ijk(x_i, y_j, z_k)</td>\n",
       "      <td>nT</td>\n",
       "      <td>b_z_ijk</td>\n",
       "      <td>None</td>\n",
       "    </tr>\n",
       "    <tr>\n",
       "      <th>bvec(xvec)</th>\n",
       "      <td>bvec(xvec)</td>\n",
       "      <td>nT</td>\n",
       "      <td>bvec</td>\n",
       "      <td>None</td>\n",
       "    </tr>\n",
       "    <tr>\n",
       "      <th>bvec_ijk(x_i, y_j, z_k)</th>\n",
       "      <td>bvec_ijk(x_i, y_j, z_k)</td>\n",
       "      <td>nT</td>\n",
       "      <td>bvec_ijk</td>\n",
       "      <td>None</td>\n",
       "    </tr>\n",
       "    <tr>\n",
       "      <th>B_x(xvec)</th>\n",
       "      <td>B_x(xvec)</td>\n",
       "      <td>T</td>\n",
       "      <td>B_x</td>\n",
       "      <td>1.0e-9*b_x(xvec)</td>\n",
       "    </tr>\n",
       "  </tbody>\n",
       "</table>\n",
       "</div>"
      ],
      "text/plain": [
       "                                          symbol units       lhs  \\\n",
       "b_x(xvec)                              b_x(xvec)    nT       b_x   \n",
       "b_x_ijk(x_i, y_j, z_k)    b_x_ijk(x_i, y_j, z_k)    nT   b_x_ijk   \n",
       "b_y(xvec)                              b_y(xvec)    nT       b_y   \n",
       "b_y_ijk(x_i, y_j, z_k)    b_y_ijk(x_i, y_j, z_k)    nT   b_y_ijk   \n",
       "b_z(xvec)                              b_z(xvec)    nT       b_z   \n",
       "b_z_ijk(x_i, y_j, z_k)    b_z_ijk(x_i, y_j, z_k)    nT   b_z_ijk   \n",
       "bvec(xvec)                            bvec(xvec)    nT      bvec   \n",
       "bvec_ijk(x_i, y_j, z_k)  bvec_ijk(x_i, y_j, z_k)    nT  bvec_ijk   \n",
       "B_x(xvec)                              B_x(xvec)     T       B_x   \n",
       "\n",
       "                                      rhs  \n",
       "b_x(xvec)                            None  \n",
       "b_x_ijk(x_i, y_j, z_k)               None  \n",
       "b_y(xvec)                            None  \n",
       "b_y_ijk(x_i, y_j, z_k)               None  \n",
       "b_z(xvec)                            None  \n",
       "b_z_ijk(x_i, y_j, z_k)               None  \n",
       "bvec(xvec)                           None  \n",
       "bvec_ijk(x_i, y_j, z_k)              None  \n",
       "B_x(xvec)                1.0e-9*b_x(xvec)  "
      ]
     },
     "execution_count": 16,
     "metadata": {},
     "output_type": "execute_result"
    }
   ],
   "source": [
    "t89_igrf.detail()"
   ]
  },
  {
   "cell_type": "code",
   "execution_count": 17,
   "metadata": {},
   "outputs": [
    {
     "data": {
      "text/plain": [
       "array([[ 6.22189170e-10],\n",
       "       [-1.18328788e-06],\n",
       "       [-2.00080654e-07]])"
      ]
     },
     "execution_count": 17,
     "metadata": {},
     "output_type": "execute_result"
    }
   ],
   "source": [
    "t89_igrf['B_x'](points)"
   ]
  },
  {
   "cell_type": "code",
   "execution_count": 18,
   "metadata": {},
   "outputs": [
    {
     "data": {
      "text/plain": [
       "array([[ 6.22189170e-01],\n",
       "       [-1.18328788e+03],\n",
       "       [-2.00080654e+02]])"
      ]
     },
     "execution_count": 18,
     "metadata": {},
     "output_type": "execute_result"
    }
   ],
   "source": [
    "t89_igrf['b_x'](points)"
   ]
  },
  {
   "cell_type": "code",
   "execution_count": 19,
   "metadata": {},
   "outputs": [
    {
     "data": {
      "text/plain": [
       "array([[26.76851212, -0.11158617, 56.98372572]])"
      ]
     },
     "execution_count": 19,
     "metadata": {},
     "output_type": "execute_result"
    }
   ],
   "source": [
    "t89_igrf['bvec']((9.,0.,0.))"
   ]
  },
  {
   "cell_type": "code",
   "execution_count": 20,
   "metadata": {},
   "outputs": [
    {
     "name": "stdout",
     "output_type": "stream",
     "text": [
      "Created interval between 2010-01-01 and 2010-01-01, cadence 1min, start index 604, end index 605\n"
     ]
    }
   ],
   "source": [
    "t96_igrf=T96(2010,1,1,10,4,1)"
   ]
  },
  {
   "cell_type": "code",
   "execution_count": 21,
   "metadata": {},
   "outputs": [
    {
     "ename": "NameError",
     "evalue": "name 'xx' is not defined",
     "output_type": "error",
     "traceback": [
      "\u001b[0;31m---------------------------------------------------------------------------\u001b[0m",
      "\u001b[0;31mNameError\u001b[0m                                 Traceback (most recent call last)",
      "\u001b[0;32m<ipython-input-21-b8c54aef52fc>\u001b[0m in \u001b[0;36m<module>\u001b[0;34m\u001b[0m\n\u001b[0;32m----> 1\u001b[0;31m \u001b[0mt96_igrf\u001b[0m\u001b[0;34m.\u001b[0m\u001b[0mb\u001b[0m\u001b[0;34m(\u001b[0m\u001b[0;34m(\u001b[0m\u001b[0mxx\u001b[0m\u001b[0;34m,\u001b[0m\u001b[0myy\u001b[0m\u001b[0;34m,\u001b[0m\u001b[0mzz\u001b[0m\u001b[0;34m)\u001b[0m\u001b[0;34m)\u001b[0m\u001b[0;34m\u001b[0m\u001b[0;34m\u001b[0m\u001b[0m\n\u001b[0m",
      "\u001b[0;31mNameError\u001b[0m: name 'xx' is not defined"
     ]
    }
   ],
   "source": [
    "t96_igrf.b((xx,yy,zz))"
   ]
  },
  {
   "cell_type": "code",
   "execution_count": null,
   "metadata": {},
   "outputs": [],
   "source": [
    "t01_igrf=T01(2010,1,1,10,4,1)"
   ]
  },
  {
   "cell_type": "code",
   "execution_count": null,
   "metadata": {},
   "outputs": [],
   "source": [
    "t01_igrf.b((xx,yy,zz))"
   ]
  },
  {
   "cell_type": "code",
   "execution_count": null,
   "metadata": {},
   "outputs": [],
   "source": [
    "t04_igrf=T04(2010,1,1,10,4,1)"
   ]
  },
  {
   "cell_type": "code",
   "execution_count": null,
   "metadata": {},
   "outputs": [],
   "source": [
    "t04_igrf"
   ]
  },
  {
   "cell_type": "code",
   "execution_count": null,
   "metadata": {},
   "outputs": [],
   "source": []
  }
 ],
 "metadata": {
  "kernelspec": {
   "display_name": "Python 3",
   "language": "python",
   "name": "python3"
  },
  "language_info": {
   "codemirror_mode": {
    "name": "ipython",
    "version": 3
   },
   "file_extension": ".py",
   "mimetype": "text/x-python",
   "name": "python",
   "nbconvert_exporter": "python",
   "pygments_lexer": "ipython3",
   "version": "3.7.3"
  }
 },
 "nbformat": 4,
 "nbformat_minor": 2
}
