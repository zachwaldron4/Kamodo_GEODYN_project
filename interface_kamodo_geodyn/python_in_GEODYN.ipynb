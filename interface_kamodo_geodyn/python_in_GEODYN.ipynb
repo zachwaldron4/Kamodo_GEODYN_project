{
 "cells": [
  {
   "cell_type": "markdown",
   "id": "859f8f8e",
   "metadata": {},
   "source": [
    "# Calling Python in GEODYN (fortran)\n",
    "\n",
    "There are two tests to run before attempting a full call to Kamodo from fortran that returns a kamodo object. First, write a simple function in python that simply prints the output given. Then call that function from fortran with a string input to see what possibly extra characters are added to the string during the translation process. Make sure to print the string one character at a time to prevent python from automatically removing some ending characters (e.g. ‘\\n’). Let me know how the print out compares to the input string. Second, write a simple wrapper that returns the same python function when called (e.g. return test_print at the end of the new function, where test_print is the function name that prints the input string one character at a time). Then work on returning the test_print function itself to fortran.\n",
    "\n",
    " \n",
    "\n",
    "The current procedure is to first do this from C++ using pybind11, then call from C using referencing of variables (or was it pointers, Lutz?), and finally call from fortran. Portions of the attached powerpoint will be helpful to you. Keep in mind the powerpoint guides the reader through a complete (outdated) call to the flythrough software, and you are currently only interested in the two test cases above. Once you verify that the pathway works (python->C++->C->Fortran) with the two test cases, I will update the full interface to C++, which you can then use for the other steps. If it doesn’t work, then we can try cffi and some other options.\n",
    "\n"
   ]
  },
  {
   "cell_type": "code",
   "execution_count": null,
   "id": "278f5ddc",
   "metadata": {},
   "outputs": [],
   "source": []
  }
 ],
 "metadata": {
  "kernelspec": {
   "display_name": "Python 3",
   "language": "python",
   "name": "python3"
  },
  "language_info": {
   "codemirror_mode": {
    "name": "ipython",
    "version": 3
   },
   "file_extension": ".py",
   "mimetype": "text/x-python",
   "name": "python",
   "nbconvert_exporter": "python",
   "pygments_lexer": "ipython3",
   "version": "3.8.8"
  },
  "toc": {
   "base_numbering": 1,
   "nav_menu": {},
   "number_sections": true,
   "sideBar": true,
   "skip_h1_title": false,
   "title_cell": "Table of Contents",
   "title_sidebar": "Contents",
   "toc_cell": false,
   "toc_position": {},
   "toc_section_display": true,
   "toc_window_display": false
  },
  "varInspector": {
   "cols": {
    "lenName": 16,
    "lenType": 16,
    "lenVar": 40
   },
   "kernels_config": {
    "python": {
     "delete_cmd_postfix": "",
     "delete_cmd_prefix": "del ",
     "library": "var_list.py",
     "varRefreshCmd": "print(var_dic_list())"
    },
    "r": {
     "delete_cmd_postfix": ") ",
     "delete_cmd_prefix": "rm(",
     "library": "var_list.r",
     "varRefreshCmd": "cat(var_dic_list()) "
    }
   },
   "types_to_exclude": [
    "module",
    "function",
    "builtin_function_or_method",
    "instance",
    "_Feature"
   ],
   "window_display": false
  }
 },
 "nbformat": 4,
 "nbformat_minor": 5
}
