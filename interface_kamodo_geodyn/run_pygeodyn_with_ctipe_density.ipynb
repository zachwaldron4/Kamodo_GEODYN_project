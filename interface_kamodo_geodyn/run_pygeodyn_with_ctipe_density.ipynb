{
 "cells": [
  {
   "cell_type": "markdown",
   "id": "8dd0516f",
   "metadata": {},
   "source": [
    "# Running Pygeodyn with Kamodo's CTIPe Model\n",
    "\n",
    "\n",
    "**GEODYN Run Configuration:**\n",
    "- ICESat2 with PCE tracking datatype\n",
    "- Constructed a smaller G2B file to only run over the time we have model data for... this speeds up the time to copy files for quick runs.\n",
    "\n",
    "\n",
    "**How we added Kamodo :**\n",
    "- added a third case to the GEODYN options text files that is modified/written by pygeodyn and read by GEODYN at the time of execution.  This `geodyn_option.txt` is read in by the DRAG.f90 subroutine if the `ATMDEN` card is set to `86`.\n",
    "- If the `kamodo_ctipe` density model is inputted to pygeodyn, DRAG.f90 calls the Kamodo_CTIPe.f90 subroutine which sends  a command line argument to the console to run Kamodo's ctipe wrapper for a single point.  The neutral density and drhodz at that point is then written to a text file and read back in to GEODYN. \n",
    "- had to modify `CTIPe_wrapper_fortrancmd.py` to take the Sattime as `YYMMDDHHMMSS`\n"
   ]
  },
  {
   "cell_type": "code",
   "execution_count": 1,
   "id": "4adb3525",
   "metadata": {
    "ExecuteTime": {
     "end_time": "2021-06-08T16:47:26.912241Z",
     "start_time": "2021-06-08T16:47:26.011921Z"
    }
   },
   "outputs": [],
   "source": [
    "import copy\n",
    "import sys\n",
    "import os.path\n",
    "import numpy as np"
   ]
  },
  {
   "cell_type": "markdown",
   "id": "6bbe6a23",
   "metadata": {},
   "source": [
    "Some things to keep track of:\n",
    "```\n",
    "    Date       DOY      Epoch in iisset\n",
    "    -------------------------------------\n",
    "    Nov 29     333A     not used\n",
    "    Nov 30     334    \n",
    "    Dec 1      335        \n",
    "    Dec 2      336      2018/12/01 21:00   -- 2018/12/04/ 03:00\n",
    "    Dec 3      337   \n",
    "    Dec 4      338    \n",
    "    Dec 5      339A     not used\n",
    "```\n",
    "\n",
    "Figuring out Time stuff:\n",
    "``` \n",
    "  Variable     Value              Desc.\n",
    "  ----------------------------------------------------------------------\n",
    "  TGTYMD        410106.0000       GEODYN INTERNAL REFERENCE TIME (YYMMDD)  \n",
    "  TMGDN1       2430000.5000       GEODYN INTERNAL REFERENCE TIME (JD)\n",
    "  TMGDN2         30000.0000       GEODYN INTERNAL REFERENCE TIME (MJD)\n",
    "  REPDIF             0.0000       DIFF IN SECS BTW RUN REF TIME AND DEFAULT REF TIME\n",
    "  XTMGN              5.0000       NUMBER OF WORDS IN THIS COMMON BLOCK\n",
    "  \n",
    "  STARTT             0.0000       start time?\n",
    "  ESSTRT    2458414869.1840       Run start in integer mjd seconds\n",
    "  FSSTRT             0.0000       Run start fractional seconds\n",
    "  45384\n",
    "  MJDSEC    2458414869             Modified Julian Day Seconds (INT)\n",
    " \n",
    "```\n",
    " \n"
   ]
  },
  {
   "cell_type": "code",
   "execution_count": 2,
   "id": "c66fc71b",
   "metadata": {},
   "outputs": [],
   "source": [
    "import pandas as pd\n",
    "\n",
    "# year = 2018\n",
    "# DOY = 335\n",
    "# secs_uts = 75669.183999997767\n",
    "\n",
    "# print('day', DOY)\n",
    "# print(secs_uts/3600, 'hours')\n",
    "\n",
    "\n",
    "# date_geodyn_str = str(IYMD) + str(IHMS)\n",
    "# date_geodyn_dt = pd.to_datetime( date_geodyn_str, format='%y%m%d%H%M%S')\n",
    "\n",
    "# print(date_geodyn_dt)\n",
    "\n",
    "# epoch_start_dt = pd.to_datetime( , format='%y%m%d%H%M%S')\n",
    "# add_hours_dt = pd.Series(pd.to_timedelta(9,'h'))\n",
    "# drag_date_1 = (epoch_start_dt+add_hours_dt).dt.strftime(  '%y%m%d%H%M%S').values[0]\n",
    "\n",
    "# import time\n",
    "# import datetime\n",
    "\n",
    "# unixtime = time.mktime(date_geodyn_dt.timetuple())\n",
    "# print(unixtime)"
   ]
  },
  {
   "cell_type": "code",
   "execution_count": null,
   "id": "c0fa4777",
   "metadata": {},
   "outputs": [],
   "source": []
  },
  {
   "cell_type": "code",
   "execution_count": null,
   "id": "d0e6b197",
   "metadata": {},
   "outputs": [],
   "source": []
  },
  {
   "cell_type": "code",
   "execution_count": 3,
   "id": "dc4dafc5",
   "metadata": {
    "ExecuteTime": {
     "end_time": "2021-06-08T16:47:26.918914Z",
     "start_time": "2021-06-08T16:47:26.914153Z"
    }
   },
   "outputs": [],
   "source": [
    "### Identify which arcs you want to run:\n",
    "\n",
    "\n",
    "sys.path.insert(0, '/data/geodyn_proj/pygeodyn/pygeodyn_develop/')\n",
    "\n",
    "#------ A dictionary containing the run parameters ------  \n",
    "run_params = {}                                  \n",
    "run_params['arc']              =   ['2018.336']  \n",
    "run_params['satellite']        =  'icesat2'     \n",
    "run_params['SpecialRun_name']  =  'TEST_KAMODO'  \n",
    "run_params['verbose']          =  False          \n",
    "run_params['action']           =  'run'\n",
    "\n",
    "\n",
    "\n"
   ]
  },
  {
   "cell_type": "code",
   "execution_count": 4,
   "id": "0b7e378e",
   "metadata": {
    "ExecuteTime": {
     "end_time": "2021-06-08T16:49:17.826013Z",
     "start_time": "2021-06-08T16:47:26.920629Z"
    },
    "scrolled": false
   },
   "outputs": [
    {
     "name": "stdout",
     "output_type": "stream",
     "text": [
      "                      ......... RUNNING GEODYN\n",
      "Run # 1     Current Time =      18:17:40\n",
      "Run # 1\n",
      "Run # 1     Cleaning iisset... :    /data/data_geodyn/inputs/icesat2/setups/iisset.2018.336.bz2\n",
      "Epoch Start:  2018-12-01 21:00:00\n",
      "+ ——————————————————————————————————————————————————————————————————————————————————————————————————————\n",
      "|\n",
      "| ---------------------- Some run information ----------------------\n",
      "|\n",
      "|  Run # 1     IISSET Cleaned      tmp/.../cleaned_setup_2018336\n",
      "|  Run # 1     Density Model:      msis2\n",
      "|  Run # 1     GEODYN Version:     Kamodo_pygeodyn_MODS\n",
      "|  Run # 1     ARC run:            icesat2_2018336_54hr.msis2\n",
      "|  Run # 1     Output directory:   /data/data_geodyn/results/icesat2/msis2/msis2_acceloffTEST_KAMODO\n",
      "|  Run # 1     EXAT File:          /data/data_geodyn/inputs/icesat2/external_attitude/EXAT01.2018.336.gz\n",
      "|\n",
      "+ ——————————————————————————————————————————————————————————————————————————————————————————————————————\n",
      "\n",
      "Run # 1          Running IIS\n",
      "Run # 1          No errors in IIS\n",
      "Run # 1 ---------End of IIS\n",
      "\n",
      "Run # 1          Running IIE\n",
      "Run # 1          Current Time = 18:19:19\n",
      "Run # 1          No errors in IIE\n",
      "Run # 1 ---------End of IIE\n",
      "Run # 1          Time of IIE:  430.10346937179565 secs ( 7.168391156196594  mins)\n",
      "Run # 1          Current Time = 18:26:29\n",
      "Run # 1                Finished renaming files\n",
      "Run # 1                Finished copying files to outputdir\n"
     ]
    }
   ],
   "source": [
    "%load_ext autoreload\n",
    "%autoreload 2\n",
    "\n",
    "from PYGEODYN import Pygeodyn\n",
    "\n",
    "\n",
    "##### Use copy.deepcopy to copy all levels of dictionary and \n",
    "###       allow modification of new variable\n",
    "run_params3 = copy.deepcopy(run_params)\n",
    "run_params3['den_model'] =  'msis2'  \n",
    "\n",
    "### Run pyeodyn for the arcs in the above set.\n",
    "Obj_Geodyn = Pygeodyn(run_params3)\n",
    "Obj_Geodyn.RUN_GEODYN()\n"
   ]
  },
  {
   "cell_type": "code",
   "execution_count": null,
   "id": "c992458e",
   "metadata": {},
   "outputs": [],
   "source": []
  },
  {
   "cell_type": "code",
   "execution_count": null,
   "id": "d284dc93",
   "metadata": {},
   "outputs": [],
   "source": []
  }
 ],
 "metadata": {
  "kernelspec": {
   "display_name": "Python 3",
   "language": "python",
   "name": "python3"
  },
  "language_info": {
   "codemirror_mode": {
    "name": "ipython",
    "version": 3
   },
   "file_extension": ".py",
   "mimetype": "text/x-python",
   "name": "python",
   "nbconvert_exporter": "python",
   "pygments_lexer": "ipython3",
   "version": "3.7.9"
  },
  "toc": {
   "base_numbering": 1,
   "nav_menu": {},
   "number_sections": true,
   "sideBar": true,
   "skip_h1_title": false,
   "title_cell": "Table of Contents",
   "title_sidebar": "Contents",
   "toc_cell": false,
   "toc_position": {},
   "toc_section_display": true,
   "toc_window_display": false
  },
  "varInspector": {
   "cols": {
    "lenName": 16,
    "lenType": 16,
    "lenVar": 40
   },
   "kernels_config": {
    "python": {
     "delete_cmd_postfix": "",
     "delete_cmd_prefix": "del ",
     "library": "var_list.py",
     "varRefreshCmd": "print(var_dic_list())"
    },
    "r": {
     "delete_cmd_postfix": ") ",
     "delete_cmd_prefix": "rm(",
     "library": "var_list.r",
     "varRefreshCmd": "cat(var_dic_list()) "
    }
   },
   "types_to_exclude": [
    "module",
    "function",
    "builtin_function_or_method",
    "instance",
    "_Feature"
   ],
   "window_display": false
  }
 },
 "nbformat": 4,
 "nbformat_minor": 5
}
