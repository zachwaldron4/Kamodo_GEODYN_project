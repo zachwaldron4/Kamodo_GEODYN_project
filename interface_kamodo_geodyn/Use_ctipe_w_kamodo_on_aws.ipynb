{
 "cells": [
  {
   "cell_type": "markdown",
   "id": "cbd064ac",
   "metadata": {},
   "source": [
    "# Using CTIPe with Kamodo on AWS server"
   ]
  },
  {
   "cell_type": "markdown",
   "id": "aa3709d0",
   "metadata": {},
   "source": [
    "\n",
    "## Instructions from R. Ringuette\n",
    "\n",
    "**Instructions for calling CTIPe data from fortran (slow method – via file output)**   \n",
    "\n",
    "\n",
    "The instructions for calling CTIPe data from fortran are outlined below. Instructions and notes are indicated by the bulleted points, while commands are given with the dash-style bullets. In the current state, the python scripts are specifically designed for the Geodyn software and the CTIPe model, but can be extended to other models and even more easily to other software calls, depending upon the requirements. These directions enable a slow interface between fortran and python through a result file, which is projected to take roughly four hours to execute for a 2-week arc (15 min cadence). *A faster interface is under investigation via ForPy.*\n",
    "\n",
    "\n"
   ]
  },
  {
   "cell_type": "markdown",
   "id": "75729843",
   "metadata": {},
   "source": [
    "### (Before running)  Create a conda environment with Kamodo\n",
    "\n",
    "1. Create conda environment with kamodo installed. \n",
    "\n",
    "   1. ``cd (to dir where you want things to run) ``\n",
    "   2. ``cp (full path)/Kamodo-Master ``\n",
    "   3. ``conda create -n FortranKamodo python=3.7.9 ``\n",
    "   4. ``conda install -n FortranKamodo -c conda-forge plotly sympy scipy pytest pandas hydra-core requests ipython``\n",
    "   5. ``conda activate FortranKamodo``  \n",
    "   6. ``pip install python-forge``  \n",
    "   7.  ``pip install netCDF4``  \n",
    "   8.  ``pip install ./Kamodo-Master``  \n",
    "   9.  ``conda deactivate (when done)``  \n",
    " \n",
    "**Note**:  Use the Kamodo-Master dir RR sent to avoid possible issues with new versions.\n",
    "\n",
    "2. Can test your kamodo installation by executing the following commands with the environment activated (in command line):\n",
    "    1.  ``ipython``\n",
    "    2. ``import kamodo``\n",
    "    3. If no error occurs, your installation is good. You may exit ipython (``exit()``) and continue.\n"
   ]
  },
  {
   "cell_type": "markdown",
   "id": "c440a7e4",
   "metadata": {},
   "source": [
    "### Prepare the CTIPe Data:\n",
    "\n",
    "From RR--- \"The below code is used to speed up the data processing in the kamodo reader. Don’t worry about the other file types from the CTIPe output. The data wrapper function takes care of it.\"\n"
   ]
  },
  {
   "cell_type": "code",
   "execution_count": 1,
   "id": "7cfe2fb1",
   "metadata": {},
   "outputs": [
    {
     "name": "stdout",
     "output_type": "stream",
     "text": [
      "/data/data_geodyn/atmos_models_data/ctipe/2018_Dec_1_15/2018-12-01-plot-density.nc converted.\n",
      "/data/data_geodyn/atmos_models_data/ctipe/2018_Dec_1_15/2018-12-01-plot-height.nc converted.\n",
      "/data/data_geodyn/atmos_models_data/ctipe/2018_Dec_1_15/2018-12-01-plot-neutral.nc converted.\n",
      "/data/data_geodyn/atmos_models_data/ctipe/2018_Dec_1_15/2018-12-02-plot-density.nc converted.\n",
      "/data/data_geodyn/atmos_models_data/ctipe/2018_Dec_1_15/2018-12-02-plot-height.nc converted.\n",
      "/data/data_geodyn/atmos_models_data/ctipe/2018_Dec_1_15/2018-12-02-plot-neutral.nc converted.\n",
      "/data/data_geodyn/atmos_models_data/ctipe/2018_Dec_1_15/2018-12-03-plot-density.nc converted.\n",
      "/data/data_geodyn/atmos_models_data/ctipe/2018_Dec_1_15/2018-12-03-plot-height.nc converted.\n",
      "/data/data_geodyn/atmos_models_data/ctipe/2018_Dec_1_15/2018-12-03-plot-neutral.nc converted.\n",
      "/data/data_geodyn/atmos_models_data/ctipe/2018_Dec_1_15/2018-12-04-plot-density.nc converted.\n",
      "/data/data_geodyn/atmos_models_data/ctipe/2018_Dec_1_15/2018-12-04-plot-height.nc converted.\n",
      "/data/data_geodyn/atmos_models_data/ctipe/2018_Dec_1_15/2018-12-04-plot-neutral.nc converted.\n",
      "/data/data_geodyn/atmos_models_data/ctipe/2018_Dec_1_15/2018-12-05-plot-density.nc converted.\n",
      "/data/data_geodyn/atmos_models_data/ctipe/2018_Dec_1_15/2018-12-05-plot-height.nc converted.\n",
      "/data/data_geodyn/atmos_models_data/ctipe/2018_Dec_1_15/2018-12-05-plot-neutral.nc converted.\n",
      "/data/data_geodyn/atmos_models_data/ctipe/2018_Dec_1_15/2018-12-06-plot-density.nc converted.\n",
      "/data/data_geodyn/atmos_models_data/ctipe/2018_Dec_1_15/2018-12-06-plot-height.nc converted.\n",
      "/data/data_geodyn/atmos_models_data/ctipe/2018_Dec_1_15/2018-12-06-plot-neutral.nc converted.\n",
      "/data/data_geodyn/atmos_models_data/ctipe/2018_Dec_1_15/2018-12-07-plot-density.nc converted.\n",
      "/data/data_geodyn/atmos_models_data/ctipe/2018_Dec_1_15/2018-12-07-plot-height.nc converted.\n",
      "/data/data_geodyn/atmos_models_data/ctipe/2018_Dec_1_15/2018-12-07-plot-neutral.nc converted.\n",
      "/data/data_geodyn/atmos_models_data/ctipe/2018_Dec_1_15/2018-12-08-plot-density.nc converted.\n",
      "/data/data_geodyn/atmos_models_data/ctipe/2018_Dec_1_15/2018-12-08-plot-height.nc converted.\n",
      "/data/data_geodyn/atmos_models_data/ctipe/2018_Dec_1_15/2018-12-08-plot-neutral.nc converted.\n",
      "/data/data_geodyn/atmos_models_data/ctipe/2018_Dec_1_15/2018-12-09-plot-density.nc converted.\n"
     ]
    },
    {
     "ename": "RuntimeError",
     "evalue": "NetCDF: HDF error",
     "output_type": "error",
     "traceback": [
      "\u001b[0;31m---------------------------------------------------------------------------\u001b[0m",
      "\u001b[0;31mRuntimeError\u001b[0m                              Traceback (most recent call last)",
      "\u001b[0;32m<ipython-input-1-7ffdd6ba252f>\u001b[0m in \u001b[0;36m<module>\u001b[0;34m\u001b[0m\n\u001b[1;32m      8\u001b[0m \u001b[0;34m\u001b[0m\u001b[0m\n\u001b[1;32m      9\u001b[0m \u001b[0;32mfor\u001b[0m \u001b[0mf\u001b[0m \u001b[0;32min\u001b[0m \u001b[0mfiles\u001b[0m\u001b[0;34m:\u001b[0m\u001b[0;34m\u001b[0m\u001b[0;34m\u001b[0m\u001b[0m\n\u001b[0;32m---> 10\u001b[0;31m     \u001b[0mDW\u001b[0m\u001b[0;34m.\u001b[0m\u001b[0mctipe_wrap_files\u001b[0m\u001b[0;34m(\u001b[0m\u001b[0mf\u001b[0m\u001b[0;34m)\u001b[0m\u001b[0;34m\u001b[0m\u001b[0;34m\u001b[0m\u001b[0m\n\u001b[0m",
      "\u001b[0;32m/data/miniconda3/envs/FortranKamodo/lib/python3.7/site-packages/kamodo/readers/ctipe_data_wrapper.py\u001b[0m in \u001b[0;36mctipe_wrap_files\u001b[0;34m(filename)\u001b[0m\n\u001b[1;32m     54\u001b[0m             \u001b[0mnew_var\u001b[0m \u001b[0;34m=\u001b[0m \u001b[0mdata_out\u001b[0m\u001b[0;34m.\u001b[0m\u001b[0mcreateVariable\u001b[0m\u001b[0;34m(\u001b[0m\u001b[0mname\u001b[0m\u001b[0;34m,\u001b[0m \u001b[0mdatatype\u001b[0m\u001b[0;34m,\u001b[0m \u001b[0mdimensions\u001b[0m\u001b[0;34m)\u001b[0m\u001b[0;34m\u001b[0m\u001b[0;34m\u001b[0m\u001b[0m\n\u001b[1;32m     55\u001b[0m             \u001b[0mvar_data\u001b[0m \u001b[0;34m=\u001b[0m \u001b[0mctipe_wrap_variables\u001b[0m\u001b[0;34m(\u001b[0m\u001b[0mvar\u001b[0m\u001b[0;34m.\u001b[0m\u001b[0m__array__\u001b[0m\u001b[0;34m(\u001b[0m\u001b[0;34m)\u001b[0m\u001b[0;34m,\u001b[0m \u001b[0mvariable_name\u001b[0m\u001b[0;34m)\u001b[0m\u001b[0;34m\u001b[0m\u001b[0;34m\u001b[0m\u001b[0m\n\u001b[0;32m---> 56\u001b[0;31m             \u001b[0mnew_var\u001b[0m\u001b[0;34m[\u001b[0m\u001b[0;34m:\u001b[0m\u001b[0;34m]\u001b[0m \u001b[0;34m=\u001b[0m \u001b[0mvar_data\u001b[0m\u001b[0;34m\u001b[0m\u001b[0;34m\u001b[0m\u001b[0m\n\u001b[0m\u001b[1;32m     57\u001b[0m \u001b[0;34m\u001b[0m\u001b[0m\n\u001b[1;32m     58\u001b[0m         \u001b[0;31m#close file\u001b[0m\u001b[0;34m\u001b[0m\u001b[0;34m\u001b[0m\u001b[0;34m\u001b[0m\u001b[0m\n",
      "\u001b[0;32msrc/netCDF4/_netCDF4.pyx\u001b[0m in \u001b[0;36mnetCDF4._netCDF4.Variable.__setitem__\u001b[0;34m()\u001b[0m\n",
      "\u001b[0;32msrc/netCDF4/_netCDF4.pyx\u001b[0m in \u001b[0;36mnetCDF4._netCDF4.Variable._put\u001b[0;34m()\u001b[0m\n",
      "\u001b[0;32msrc/netCDF4/_netCDF4.pyx\u001b[0m in \u001b[0;36mnetCDF4._netCDF4._ensure_nc_success\u001b[0;34m()\u001b[0m\n",
      "\u001b[0;31mRuntimeError\u001b[0m: NetCDF: HDF error"
     ]
    }
   ],
   "source": [
    "from kamodo.readers import ctipe_data_wrapper as DW\n",
    "import glob\n",
    "##### copy over the directory name where the data files are stored\n",
    "# file_dir = '/data/geodyn_proj/interface_kamodo_geodyn/GeoDynTest_Slow/'\n",
    "file_dir = '/data/data_geodyn/atmos_models_data/ctipe/2018_Dec_1_15/' \n",
    "\n",
    "files = glob.glob(file_dir + '*plot-density.nc')\n",
    "\n",
    "for f in files: \n",
    "    DW.ctipe_wrap_files(f)\n"
   ]
  },
  {
   "cell_type": "code",
   "execution_count": 2,
   "id": "13876ae3",
   "metadata": {},
   "outputs": [
    {
     "data": {
      "text/plain": [
       "['/data/data_geodyn/atmos_models_data/ctipe/2018_Dec_1_15/2018-12-01-plot-density.nc',\n",
       " '/data/data_geodyn/atmos_models_data/ctipe/2018_Dec_1_15/2018-12-02-plot-density.nc',\n",
       " '/data/data_geodyn/atmos_models_data/ctipe/2018_Dec_1_15/2018-12-03-plot-density.nc',\n",
       " '/data/data_geodyn/atmos_models_data/ctipe/2018_Dec_1_15/2018-12-04-plot-density.nc',\n",
       " '/data/data_geodyn/atmos_models_data/ctipe/2018_Dec_1_15/2018-12-05-plot-density.nc',\n",
       " '/data/data_geodyn/atmos_models_data/ctipe/2018_Dec_1_15/2018-12-06-plot-density.nc',\n",
       " '/data/data_geodyn/atmos_models_data/ctipe/2018_Dec_1_15/2018-12-07-plot-density.nc',\n",
       " '/data/data_geodyn/atmos_models_data/ctipe/2018_Dec_1_15/2018-12-08-plot-density.nc',\n",
       " '/data/data_geodyn/atmos_models_data/ctipe/2018_Dec_1_15/2018-12-09-plot-density.nc',\n",
       " '/data/data_geodyn/atmos_models_data/ctipe/2018_Dec_1_15/2018-12-10-plot-density.nc',\n",
       " '/data/data_geodyn/atmos_models_data/ctipe/2018_Dec_1_15/2018-12-11-plot-density.nc',\n",
       " '/data/data_geodyn/atmos_models_data/ctipe/2018_Dec_1_15/2018-12-12-plot-density.nc',\n",
       " '/data/data_geodyn/atmos_models_data/ctipe/2018_Dec_1_15/2018-12-13-plot-density.nc',\n",
       " '/data/data_geodyn/atmos_models_data/ctipe/2018_Dec_1_15/2018-12-14-plot-density.nc',\n",
       " '/data/data_geodyn/atmos_models_data/ctipe/2018_Dec_1_15/2018-12-15-plot-density.nc']"
      ]
     },
     "execution_count": 2,
     "metadata": {},
     "output_type": "execute_result"
    }
   ],
   "source": [
    "files"
   ]
  },
  {
   "cell_type": "markdown",
   "id": "14442963",
   "metadata": {},
   "source": [
    "### Check satellite flythrough functionality\n",
    "\n",
    "From RR--- \"With the conda environment activated, execute the following command in the conda command prompt:\"\n",
    "\n",
    "\n",
    "``python C:\\Users\\rringuet\\Kamodo_WinDev1\\Kamodo-master\\kamodo\\readers\\CTIPe_wrapper_fortrancmd.py file_dir rho ilev\n",
    "1426637500.0 400.0 -25.0 10.0``\n",
    "\n",
    "   - `File_dir` is the directory where the data is located  \n",
    "   - `rho` is the variable name   \n",
    "   - `ilev` means the variable depends on the pressure level for the CTIPe model.   \n",
    "   - `sat_time` is the satellite timestamp in UTC since Jan 1 1970   \n",
    "   - `sat_height`: is satellite altitude above the ground (in km)  \n",
    "   - `sat_lat` satellite latitude  \n",
    "   - `sat_lon` satellite longitude  \n",
    "    \n",
    "  \n",
    "\n",
    "From RR---  \n",
    "- This program finds the value of the density and the density derivative at the time and location specified for the data files in the given directory. The two values are printed in a simple file called results.txt in the same directory as the data files, with the two values separated by a comma. The density, rho (kg/m^3), is given first, and rho_dz is given second, both printed to the 15 th decimal place.  \n",
    "- Note: The results.txt file is overwritten each time the program is run.\n",
    "- If the results.txt file is produced without error, then you can continue.\n",
    "\n"
   ]
  },
  {
   "cell_type": "code",
   "execution_count": null,
   "id": "c925daba",
   "metadata": {},
   "outputs": [],
   "source": [
    "import os\n",
    "os.system('python /data/geodyn_proj/interface_kamodo_geodyn/Kamodo-master/kamodo/readers/CTIPe_wrapper_fortrancmd.py '+ file_dir +' rho ilev 1426637500.0 400.0 -25.0 10.0')\n",
    "\n"
   ]
  },
  {
   "cell_type": "code",
   "execution_count": null,
   "id": "ae9a2130",
   "metadata": {},
   "outputs": [],
   "source": []
  },
  {
   "cell_type": "code",
   "execution_count": null,
   "id": "3890f093",
   "metadata": {},
   "outputs": [],
   "source": []
  }
 ],
 "metadata": {
  "kernelspec": {
   "display_name": "Python 3",
   "language": "python",
   "name": "python3"
  },
  "language_info": {
   "codemirror_mode": {
    "name": "ipython",
    "version": 3
   },
   "file_extension": ".py",
   "mimetype": "text/x-python",
   "name": "python",
   "nbconvert_exporter": "python",
   "pygments_lexer": "ipython3",
   "version": "3.7.9"
  },
  "toc": {
   "base_numbering": 1,
   "nav_menu": {},
   "number_sections": true,
   "sideBar": true,
   "skip_h1_title": false,
   "title_cell": "Table of Contents",
   "title_sidebar": "Contents",
   "toc_cell": false,
   "toc_position": {},
   "toc_section_display": true,
   "toc_window_display": false
  },
  "varInspector": {
   "cols": {
    "lenName": 16,
    "lenType": 16,
    "lenVar": 40
   },
   "kernels_config": {
    "python": {
     "delete_cmd_postfix": "",
     "delete_cmd_prefix": "del ",
     "library": "var_list.py",
     "varRefreshCmd": "print(var_dic_list())"
    },
    "r": {
     "delete_cmd_postfix": ") ",
     "delete_cmd_prefix": "rm(",
     "library": "var_list.r",
     "varRefreshCmd": "cat(var_dic_list()) "
    }
   },
   "types_to_exclude": [
    "module",
    "function",
    "builtin_function_or_method",
    "instance",
    "_Feature"
   ],
   "window_display": false
  }
 },
 "nbformat": 4,
 "nbformat_minor": 5
}
