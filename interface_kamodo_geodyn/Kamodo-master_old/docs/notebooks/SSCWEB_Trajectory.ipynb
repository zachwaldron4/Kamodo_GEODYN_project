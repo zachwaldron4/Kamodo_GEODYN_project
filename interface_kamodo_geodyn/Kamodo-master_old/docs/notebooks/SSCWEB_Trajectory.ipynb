{
 "cells": [
  {
   "cell_type": "markdown",
   "metadata": {},
   "source": [
    "## SSCWeb trajectory: \n",
    "\n"
   ]
  },
  {
   "cell_type": "code",
   "execution_count": 127,
   "metadata": {},
   "outputs": [
    {
     "name": "stdout",
     "output_type": "stream",
     "text": [
      "The autoreload extension is already loaded. To reload it, use:\n",
      "  %reload_ext autoreload\n"
     ]
    }
   ],
   "source": [
    "%load_ext autoreload\n",
    "%autoreload 2"
   ]
  },
  {
   "cell_type": "code",
   "execution_count": 128,
   "metadata": {},
   "outputs": [],
   "source": [
    "import numpy as np\n",
    "import pandas as pd\n",
    "import os\n",
    "import scipy\n",
    "import scipy.constants as constants\n",
    "from scipy import interpolate\n",
    "from scipy.interpolate import RegularGridInterpolator\n",
    "import math\n",
    "import time\n",
    "from kamodo import Kamodo, kamodofy\n",
    "import kamodo\n",
    "from datetime import datetime,timezone,timedelta"
   ]
  },
  {
   "cell_type": "code",
   "execution_count": 135,
   "metadata": {},
   "outputs": [],
   "source": [
    "from readers.sscweb_trajectory import SSCWEB_Trajectory"
   ]
  },
  {
   "cell_type": "code",
   "execution_count": 136,
   "metadata": {},
   "outputs": [
    {
     "name": "stdout",
     "output_type": "stream",
     "text": [
      "Obtaining trajectory from SSCWeb for goes15\n",
      "variable: X unit: km data.size: 71\n",
      "variable: Y unit: km data.size: 71\n",
      "variable: Z unit: km data.size: 71\n",
      "variable: Xvec unit: km data.size: 213\n"
     ]
    }
   ],
   "source": [
    "traj=SSCWEB_Trajectory('goes15',(2018,11,20,20,25,0),(2018,11,20,23,59,0))"
   ]
  },
  {
   "cell_type": "code",
   "execution_count": 137,
   "metadata": {},
   "outputs": [],
   "source": [
    "date=[datetime(2018,11,20,20,35,0,tzinfo=timezone.utc),datetime(2018,11,20,21,35,0,tzinfo=timezone.utc)]\n"
   ]
  },
  {
   "cell_type": "code",
   "execution_count": 138,
   "metadata": {},
   "outputs": [
    {
     "data": {
      "text/plain": [
       "array([[39584.38601851,  -168.54190274, 14458.75714376],\n",
       "       [37482.78756334, 10509.45712366, 16152.54767952]])"
      ]
     },
     "execution_count": 138,
     "metadata": {},
     "output_type": "execute_result"
    }
   ],
   "source": [
    "traj['Xvec'](traj.seconds_from_20000101(date))\n"
   ]
  },
  {
   "cell_type": "code",
   "execution_count": 139,
   "metadata": {},
   "outputs": [
    {
     "data": {
      "text/plain": [
       "array([[ 3.96623330e+04,  3.96390489e+04,  3.96089704e+04,\n",
       "         3.95720938e+04,  3.95284295e+04,  3.94779864e+04,\n",
       "         3.94207709e+04,  3.93567944e+04,  3.92860683e+04,\n",
       "         3.92086046e+04,  3.91244128e+04,  3.90335099e+04,\n",
       "         3.89359146e+04,  3.88316420e+04,  3.87207085e+04,\n",
       "         3.86031358e+04,  3.84789427e+04,  3.83481517e+04,\n",
       "         3.82107828e+04,  3.80668603e+04,  3.79164116e+04,\n",
       "         3.77594616e+04,  3.75960358e+04,  3.74261635e+04,\n",
       "         3.72498707e+04,  3.70671982e+04,  3.68781650e+04,\n",
       "         3.66828079e+04,  3.64811650e+04,  3.62732621e+04,\n",
       "         3.60591454e+04,  3.58388482e+04,  3.56124053e+04,\n",
       "         3.53798543e+04,  3.51412372e+04,  3.48966033e+04,\n",
       "         3.46459835e+04,  3.43894234e+04,  3.41269687e+04,\n",
       "         3.38586692e+04,  3.35845593e+04,  3.33046999e+04,\n",
       "         3.30191255e+04,  3.27278971e+04,  3.24310603e+04,\n",
       "         3.21286610e+04,  3.18207637e+04,  3.15074063e+04,\n",
       "         3.11886500e+04,  3.08645512e+04,  3.05351632e+04,\n",
       "         3.02005459e+04,  2.98607530e+04,  2.95158402e+04,\n",
       "         2.91658758e+04,  2.88109081e+04,  2.84510124e+04,\n",
       "         2.80862371e+04,  2.77166492e+04,  2.73423197e+04,\n",
       "         2.69633043e+04,  2.65796695e+04,  2.61914817e+04,\n",
       "         2.57988077e+04,  2.54017129e+04,  2.50002721e+04,\n",
       "         2.45945502e+04,  2.41846107e+04,  2.37705340e+04,\n",
       "         2.33523861e+04,  2.29302400e+04],\n",
       "       [-1.60746417e+03, -1.06800795e+03, -5.28365382e+02,\n",
       "         1.13698369e+01,  5.51106807e+02,  1.09075247e+03,\n",
       "         1.63021364e+03,  2.16939738e+03,  2.70821495e+03,\n",
       "         3.24656822e+03,  3.78436729e+03,  4.32151846e+03,\n",
       "         4.85793338e+03,  5.39351719e+03,  5.92817720e+03,\n",
       "         6.46182416e+03,  6.99436551e+03,  7.52571095e+03,\n",
       "         8.05576589e+03,  8.58444119e+03,  9.11164679e+03,\n",
       "         9.63729256e+03,  1.01612873e+04,  1.06835420e+04,\n",
       "         1.12039647e+04,  1.17224726e+04,  1.22389685e+04,\n",
       "         1.27533675e+04,  1.32655832e+04,  1.37755234e+04,\n",
       "         1.42831053e+04,  1.47882412e+04,  1.52908414e+04,\n",
       "         1.57908196e+04,  1.62880914e+04,  1.67825762e+04,\n",
       "         1.72741824e+04,  1.77628274e+04,  1.82484287e+04,\n",
       "         1.87309051e+04,  1.92101673e+04,  1.96861412e+04,\n",
       "         2.01587372e+04,  2.06278812e+04,  2.10934904e+04,\n",
       "         2.15554817e+04,  2.20137835e+04,  2.24683085e+04,\n",
       "         2.29189827e+04,  2.33657301e+04,  2.38084725e+04,\n",
       "         2.42471372e+04,  2.46816446e+04,  2.51119207e+04,\n",
       "         2.55378958e+04,  2.59594908e+04,  2.63766414e+04,\n",
       "         2.67892684e+04,  2.71973038e+04,  2.76006822e+04,\n",
       "         2.79993289e+04,  2.83931770e+04,  2.87821597e+04,\n",
       "         2.91662095e+04,  2.95452611e+04,  2.99192507e+04,\n",
       "         3.02881140e+04,  3.06517843e+04,  3.10102055e+04,\n",
       "         3.13633111e+04,  3.17110444e+04],\n",
       "       [ 1.41548551e+04,  1.42709770e+04,  1.43846385e+04,\n",
       "         1.44958165e+04,  1.46044935e+04,  1.47106513e+04,\n",
       "         1.48142706e+04,  1.49153340e+04,  1.50138251e+04,\n",
       "         1.51097255e+04,  1.52030178e+04,  1.52936866e+04,\n",
       "         1.53817181e+04,  1.54670960e+04,  1.55498048e+04,\n",
       "         1.56298318e+04,  1.57071623e+04,  1.57817838e+04,\n",
       "         1.58536817e+04,  1.59228442e+04,  1.59892606e+04,\n",
       "         1.60529191e+04,  1.61138080e+04,  1.61719175e+04,\n",
       "         1.62272357e+04,  1.62797587e+04,  1.63294707e+04,\n",
       "         1.63763658e+04,  1.64204378e+04,  1.64616752e+04,\n",
       "         1.65000755e+04,  1.65356308e+04,  1.65683332e+04,\n",
       "         1.65981766e+04,  1.66251567e+04,  1.66492734e+04,\n",
       "         1.66705166e+04,  1.66888841e+04,  1.67043736e+04,\n",
       "         1.67169848e+04,  1.67267096e+04,  1.67335533e+04,\n",
       "         1.67375081e+04,  1.67385791e+04,  1.67367642e+04,\n",
       "         1.67320610e+04,  1.67244766e+04,  1.67140051e+04,\n",
       "         1.67006518e+04,  1.66844199e+04,  1.66653111e+04,\n",
       "         1.66433307e+04,  1.66184800e+04,  1.65907626e+04,\n",
       "         1.65601875e+04,  1.65267543e+04,  1.64904760e+04,\n",
       "         1.64513520e+04,  1.64093916e+04,  1.63646057e+04,\n",
       "         1.63169976e+04,  1.62665765e+04,  1.62133515e+04,\n",
       "         1.61573317e+04,  1.60985261e+04,  1.60369476e+04,\n",
       "         1.59726054e+04,  1.59055076e+04,  1.58356708e+04,\n",
       "         1.57631042e+04,  1.56878216e+04]])"
      ]
     },
     "execution_count": 139,
     "metadata": {},
     "output_type": "execute_result"
    }
   ],
   "source": [
    "traj.variables['Xvec']['data']"
   ]
  },
  {
   "cell_type": "code",
   "execution_count": null,
   "metadata": {},
   "outputs": [],
   "source": []
  }
 ],
 "metadata": {
  "kernelspec": {
   "display_name": "Python 3",
   "language": "python",
   "name": "python3"
  },
  "language_info": {
   "codemirror_mode": {
    "name": "ipython",
    "version": 3
   },
   "file_extension": ".py",
   "mimetype": "text/x-python",
   "name": "python",
   "nbconvert_exporter": "python",
   "pygments_lexer": "ipython3",
   "version": "3.7.3"
  }
 },
 "nbformat": 4,
 "nbformat_minor": 2
}
