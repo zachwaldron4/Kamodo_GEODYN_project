{
 "cells": [
  {
   "cell_type": "code",
   "execution_count": 1,
   "metadata": {},
   "outputs": [],
   "source": [
    "import numpy as np\n",
    "import scipy.interpolate "
   ]
  },
  {
   "cell_type": "code",
   "execution_count": 2,
   "metadata": {},
   "outputs": [],
   "source": [
    "x = np.arange(10) \n",
    "y = np.arange(10) \n",
    "z = np.arange(10)\n",
    "v = np.ones((10,10,10))\n",
    "sample_at = 8*np.random.random((30)).reshape(10, 3) "
   ]
  },
  {
   "cell_type": "code",
   "execution_count": 3,
   "metadata": {},
   "outputs": [],
   "source": [
    "for i in range(len(x)):\n",
    "    v[i] = i\n",
    "#v"
   ]
  },
  {
   "cell_type": "code",
   "execution_count": 4,
   "metadata": {},
   "outputs": [
    {
     "data": {
      "text/plain": [
       "array([[7.41077955, 4.57942655, 3.47985359],\n",
       "       [2.70289376, 2.85958849, 5.71627146],\n",
       "       [3.14025163, 0.3890023 , 6.01812666],\n",
       "       [0.29310622, 1.0856275 , 3.01739223],\n",
       "       [3.56317654, 2.6032635 , 0.6394823 ],\n",
       "       [4.42988222, 7.01570625, 6.55717518],\n",
       "       [4.52106349, 1.8368039 , 7.17544215],\n",
       "       [2.1860096 , 0.33039227, 3.83512186],\n",
       "       [6.99626711, 1.39500389, 6.12005517],\n",
       "       [5.22419264, 4.19286725, 6.01297175]])"
      ]
     },
     "execution_count": 4,
     "metadata": {},
     "output_type": "execute_result"
    }
   ],
   "source": [
    "sample_at"
   ]
  },
  {
   "cell_type": "code",
   "execution_count": 5,
   "metadata": {},
   "outputs": [
    {
     "data": {
      "text/plain": [
       "array([7.41077955, 2.70289376, 3.14025163, 0.29310622, 3.56317654,\n",
       "       4.42988222, 4.52106349, 2.1860096 , 6.99626711, 5.22419264])"
      ]
     },
     "execution_count": 5,
     "metadata": {},
     "output_type": "execute_result"
    }
   ],
   "source": [
    "scipy.interpolate.interpn((x, y, z), v, sample_at)  "
   ]
  },
  {
   "cell_type": "code",
   "execution_count": null,
   "metadata": {},
   "outputs": [],
   "source": []
  }
 ],
 "metadata": {
  "kernelspec": {
   "display_name": "Python 3",
   "language": "python",
   "name": "python3"
  },
  "language_info": {
   "codemirror_mode": {
    "name": "ipython",
    "version": 3
   },
   "file_extension": ".py",
   "mimetype": "text/x-python",
   "name": "python",
   "nbconvert_exporter": "python",
   "pygments_lexer": "ipython3",
   "version": "3.7.6"
  }
 },
 "nbformat": 4,
 "nbformat_minor": 4
}
