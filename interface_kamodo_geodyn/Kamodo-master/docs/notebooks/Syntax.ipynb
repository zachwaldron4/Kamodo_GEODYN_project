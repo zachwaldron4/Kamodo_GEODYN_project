{
 "cells": [
  {
   "cell_type": "code",
   "execution_count": 2,
   "metadata": {},
   "outputs": [],
   "source": [
    "from kamodo.kamodo import Kamodo"
   ]
  },
  {
   "cell_type": "markdown",
   "metadata": {},
   "source": [
    "## LaTeX support\n",
    "Kamodo supports both python and LaTex-formatted expressions as input. For LaTeX, you must wrap your expression in ```$ $```:"
   ]
  },
  {
   "cell_type": "code",
   "execution_count": 3,
   "metadata": {},
   "outputs": [
    {
     "data": {
      "text/latex": [
       "\\begin{equation}f{\\left(x,y \\right)} = x^{2} + y^{2}\\end{equation}\\begin{equation}g{\\left(x,y \\right)} = 2 x^{2} + 3 y^{2}\\end{equation}"
      ],
      "text/plain": [
       "Kamodo([(f(x, y), <function _lambdifygenerated(x, y)>),\n",
       "        (f, <function _lambdifygenerated(x, y)>),\n",
       "        (g(x, y), <function _lambdifygenerated(x, y)>),\n",
       "        (g, <function _lambdifygenerated(x, y)>)])"
      ]
     },
     "execution_count": 3,
     "metadata": {},
     "output_type": "execute_result"
    }
   ],
   "source": [
    "Kamodo(f = 'x**2 + y**2', g = '$2x^2 + 3y^2$')"
   ]
  },
  {
   "cell_type": "markdown",
   "metadata": {},
   "source": [
    "## Conventions\n",
    "Kamodo's variable names have to follow python's naming conventions - only numbers, letters, and underscores, which are too restrictive for mathematical symbols. Therefore, Kamodo uses sympy's conventions when generating LaTeX from variable names, which provide a means to write mathematical symbols in a way ammenable to python. More details of sympy's conventions may be found [here](https://docs.sympy.org/0.7.0/modules/galgebra/latex_ex/latex_ex.html#). Kamodo also adds some additional features not covered by sympy.\n",
    "\n",
    "#### Superscripts/Subscripts\n",
    "\n",
    "Subscripts are encoded with single underscores. Superscripts are encoded with double underscores. Combinations are possible."
   ]
  },
  {
   "cell_type": "code",
   "execution_count": 4,
   "metadata": {},
   "outputs": [
    {
     "data": {
      "text/latex": [
       "\\begin{equation}\\operatorname{x_{i}}{\\left(a \\right)} = a\\end{equation}\\begin{equation}\\operatorname{y^{j}}{\\left(b \\right)} = b\\end{equation}\\begin{equation}\\operatorname{z^{2}_{oxygen}}{\\left(c \\right)} = c\\end{equation}"
      ],
      "text/plain": [
       "Kamodo([(x_i(a), <function _lambdifygenerated(a)>),\n",
       "        (x_i, <function _lambdifygenerated(a)>),\n",
       "        (y__j(b), <function _lambdifygenerated(b)>),\n",
       "        (y__j, <function _lambdifygenerated(b)>),\n",
       "        (z_oxygen__2(c), <function _lambdifygenerated(c)>),\n",
       "        (z_oxygen__2, <function _lambdifygenerated(c)>)])"
      ]
     },
     "execution_count": 4,
     "metadata": {},
     "output_type": "execute_result"
    }
   ],
   "source": [
    "Kamodo('x_i = a', 'y__j = b', 'z_oxygen__2 = c')"
   ]
  },
  {
   "cell_type": "markdown",
   "metadata": {},
   "source": [
    "#### Greek letters\n",
    "Most greek letters are supported using their corresponding english name. Use capitalization if the greek letter should also be capitalized. "
   ]
  },
  {
   "cell_type": "code",
   "execution_count": 5,
   "metadata": {},
   "outputs": [
    {
     "data": {
      "text/latex": [
       "\\begin{equation}\\rho{\\left(\\alpha,\\beta,\\Gamma \\right)} = \\alpha + \\beta + \\Gamma\\end{equation}"
      ],
      "text/plain": [
       "Kamodo([(rho(ALPHA, BETA, Gamma),\n",
       "         <function _lambdifygenerated(ALPHA, BETA, Gamma)>),\n",
       "        (rho, <function _lambdifygenerated(ALPHA, BETA, Gamma)>)])"
      ]
     },
     "execution_count": 5,
     "metadata": {},
     "output_type": "execute_result"
    }
   ],
   "source": [
    "Kamodo(rho = 'ALPHA+BETA+Gamma')"
   ]
  },
  {
   "cell_type": "markdown",
   "metadata": {},
   "source": [
    "!!! warning\n",
    "    Some greek letters (e.g. pi, zeta) may conflict with Sympy's namespace. In that case, use all caps (e.g. PI, ZETA)"
   ]
  },
  {
   "cell_type": "markdown",
   "metadata": {},
   "source": [
    "#### plus/minus operators\n",
    "\n",
    "In Python we cannot have variables embedded with ```+``` or ```-```, but we may still need these symbols to represent, say ionization or simulation time step. The table below shows how we map from (part of) a variable name to its corresponding latex output."
   ]
  },
  {
   "cell_type": "markdown",
   "metadata": {},
   "source": [
    "variable | to latex\n",
    "------------ | ------------- \n",
    "plus | + \n",
    "minus | -\n",
    "comma | ,\n",
    "LEFT | \\\\\\left (\n",
    "RIGHT | \\\\\\right )\n",
    "prime | '"
   ]
  },
  {
   "cell_type": "markdown",
   "metadata": {},
   "source": [
    "Here is how you would use these in your functions:"
   ]
  },
  {
   "cell_type": "code",
   "execution_count": 6,
   "metadata": {},
   "outputs": [
    {
     "data": {
      "text/latex": [
       "\\begin{equation}\\operatorname{x_{i+1}}{\\left(x_{i} \\right)} = 0.9 x_{i}\\end{equation}\\begin{equation}\\operatorname{O^{-}}{\\left(e,h \\right)} = e^{- h}\\end{equation}\\begin{equation}\\operatorname{O\\left (3P\\right )}{\\left(t \\right)} = t\\end{equation}\\begin{equation}\\operatorname{{f}'}{\\left(x \\right)} = x\\end{equation}"
      ],
      "text/plain": [
       "Kamodo([(x_iplus1(x_i), <function _lambdifygenerated(x_i)>),\n",
       "        (x_iplus1, <function _lambdifygenerated(x_i)>),\n",
       "        (O__minus(e, h), <function _lambdifygenerated(e, h)>),\n",
       "        (O__minus, <function _lambdifygenerated(e, h)>),\n",
       "        (OLEFT3PRIGHT(t), <function _lambdifygenerated(t)>),\n",
       "        (OLEFT3PRIGHT, <function _lambdifygenerated(t)>),\n",
       "        (fprime(x), <function _lambdifygenerated(x)>),\n",
       "        (fprime, <function _lambdifygenerated(x)>)])"
      ]
     },
     "execution_count": 6,
     "metadata": {},
     "output_type": "execute_result"
    }
   ],
   "source": [
    "Kamodo(x_iplus1 = 'x_i*.9', O__minus = 'e**-h', OLEFT3PRIGHT = 't', fprime = 'x')"
   ]
  },
  {
   "cell_type": "markdown",
   "metadata": {},
   "source": [
    "## Variable reuse"
   ]
  },
  {
   "cell_type": "markdown",
   "metadata": {},
   "source": [
    "Variables may only have one function representing their evaluation. If you try to define a variable twice, the second version will override the first. However, if you want to represent that variable in a different context but keep using its name, there are two options:\n",
    "\n",
    "1. Annotation - add superscripts/subscripts to distinguish between the different implentations.\n",
    "2. Mimicry - use a new name that produces the same LaTeX output. "
   ]
  },
  {
   "cell_type": "code",
   "execution_count": 7,
   "metadata": {},
   "outputs": [
    {
     "data": {
      "text/latex": [
       "\\begin{equation}\\rho{\\left(x,y,z \\right)} = x + y + z\\end{equation}\\begin{equation}\\rho{\\left(\\phi,r,\\theta \\right)} = r \\sin{\\left(\\theta \\right)} \\cos{\\left(\\phi \\right)}\\end{equation}\\begin{equation}\\rho_{2D}{\\left(x,y \\right)} = x + y\\end{equation}"
      ],
      "text/plain": [
       "Kamodo([(rho(x, y, z), <function _lambdifygenerated(x, y, z)>),\n",
       "        (rho, <function _lambdifygenerated(x, y, z)>),\n",
       "        (RHO(phi, r, theta), <function _lambdifygenerated(phi, r, theta)>),\n",
       "        (RHO, <function _lambdifygenerated(phi, r, theta)>),\n",
       "        (rho_2D(x, y), <function _lambdifygenerated(x, y)>),\n",
       "        (rho_2D, <function _lambdifygenerated(x, y)>)])"
      ]
     },
     "execution_count": 7,
     "metadata": {},
     "output_type": "execute_result"
    }
   ],
   "source": [
    "Kamodo(rho = 'x + y + z', RHO = 'r*sin(theta)*cos(phi)', rho_2D = 'x + y')"
   ]
  },
  {
   "cell_type": "markdown",
   "metadata": {},
   "source": [
    "!!! warning\n",
    "    Mimicry can cause confusion if the signature of the left-hand-side does not change, as in the example below:"
   ]
  },
  {
   "cell_type": "code",
   "execution_count": 8,
   "metadata": {},
   "outputs": [
    {
     "data": {
      "text/latex": [
       "\\begin{equation}\\rho{\\left(x,y \\right)} = x + y\\end{equation}\\begin{equation}\\rho{\\left(x,y \\right)} = 3 x + y\\end{equation}"
      ],
      "text/plain": [
       "Kamodo([(rho(x, y), <function _lambdifygenerated(x, y)>),\n",
       "        (rho, <function _lambdifygenerated(x, y)>),\n",
       "        (RHO(x, y), <function _lambdifygenerated(x, y)>),\n",
       "        (RHO, <function _lambdifygenerated(x, y)>)])"
      ]
     },
     "execution_count": 8,
     "metadata": {},
     "output_type": "execute_result"
    }
   ],
   "source": [
    "Kamodo(rho = 'x + y', RHO = '3*x + y')"
   ]
  }
 ],
 "metadata": {
  "kernelspec": {
   "display_name": "Python 3",
   "language": "python",
   "name": "python3"
  },
  "language_info": {
   "codemirror_mode": {
    "name": "ipython",
    "version": 3
   },
   "file_extension": ".py",
   "mimetype": "text/x-python",
   "name": "python",
   "nbconvert_exporter": "python",
   "pygments_lexer": "ipython3",
   "version": "3.7.3"
  }
 },
 "nbformat": 4,
 "nbformat_minor": 2
}
