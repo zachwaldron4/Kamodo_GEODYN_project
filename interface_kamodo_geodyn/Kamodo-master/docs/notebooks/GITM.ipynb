{
 "cells": [
  {
   "cell_type": "code",
   "execution_count": 2,
   "metadata": {},
   "outputs": [
    {
     "data": {
      "text/html": [
       "        <script type=\"text/javascript\">\n",
       "        window.PlotlyConfig = {MathJaxConfig: 'local'};\n",
       "        if (window.MathJax) {MathJax.Hub.Config({SVG: {font: \"STIX-Web\"}});}\n",
       "        if (typeof require !== 'undefined') {\n",
       "        require.undef(\"plotly\");\n",
       "        requirejs.config({\n",
       "            paths: {\n",
       "                'plotly': ['https://cdn.plot.ly/plotly-latest.min']\n",
       "            }\n",
       "        });\n",
       "        require(['plotly'], function(Plotly) {\n",
       "            window._Plotly = Plotly;\n",
       "        });\n",
       "        }\n",
       "        </script>\n",
       "        "
      ]
     },
     "metadata": {},
     "output_type": "display_data"
    }
   ],
   "source": [
    "import kamodo\n",
    "from readers.gitm.gitmK import GITM\n",
    "\n",
    "import glob\n",
    "import numpy as np\n",
    "from plotly.offline import init_notebook_mode, iplot, plot\n",
    "import plotly.io as pio\n",
    "from kaleido.scopes.plotly import PlotlyScope\n",
    "init_notebook_mode(connected = True)"
   ]
  },
  {
   "cell_type": "code",
   "execution_count": 3,
   "metadata": {
    "scrolled": false
   },
   "outputs": [
    {
     "name": "stdout",
     "output_type": "stream",
     "text": [
      "opening ../../../data/GDC_GITM/3DALL_t980106_002900.bin\n",
      "... simulation time =  1998-01-06 00:29:00.000539\n",
      "... raw data array size =  (112, 184, 54)\n",
      "... range of altitudes is  96880.16186492516  to  567345.7542485126  meters.\n",
      "... GITM code version  4.03\n",
      "Time loading file and kamodifying results: 2.6889 seconds\n"
     ]
    },
    {
     "data": {
      "text/latex": [
       "\\begin{equation}\\rho{\\left(\\vec{x} \\right)} [kg/m^3] = \\lambda{\\left(\\vec{x} \\right)}\\end{equation}\\begin{equation}\\operatorname{O3P}{\\left(\\vec{x} \\right)} [kg/m^3] = \\lambda{\\left(\\vec{x} \\right)}\\end{equation}\\begin{equation}\\operatorname{O_{2}}{\\left(\\vec{x} \\right)} [kg/m^3] = \\lambda{\\left(\\vec{x} \\right)}\\end{equation}\\begin{equation}\\operatorname{N_{2}}{\\left(\\vec{x} \\right)} [kg/m^3] = \\lambda{\\left(\\vec{x} \\right)}\\end{equation}\\begin{equation}\\operatorname{N4S}{\\left(\\vec{x} \\right)} [kg/m^3] = \\lambda{\\left(\\vec{x} \\right)}\\end{equation}\\begin{equation}\\operatorname{NO}{\\left(\\vec{x} \\right)} [kg/m^3] = \\lambda{\\left(\\vec{x} \\right)}\\end{equation}\\begin{equation}\\operatorname{He}{\\left(\\vec{x} \\right)} [kg/m^3] = \\lambda{\\left(\\vec{x} \\right)}\\end{equation}\\begin{equation}\\operatorname{N2D}{\\left(\\vec{x} \\right)} [kg/m^3] = \\lambda{\\left(\\vec{x} \\right)}\\end{equation}\\begin{equation}\\operatorname{N2P}{\\left(\\vec{x} \\right)} [kg/m^3] = \\lambda{\\left(\\vec{x} \\right)}\\end{equation}\\begin{equation}H{\\left(\\vec{x} \\right)} [kg/m^3] = \\lambda{\\left(\\vec{x} \\right)}\\end{equation}\\begin{equation}\\operatorname{CO_{2}}{\\left(\\vec{x} \\right)} [kg/m^3] = \\lambda{\\left(\\vec{x} \\right)}\\end{equation}\\begin{equation}\\operatorname{O1D}{\\left(\\vec{x} \\right)} [kg/m^3] = \\lambda{\\left(\\vec{x} \\right)}\\end{equation}\\begin{equation}\\operatorname{Tn}{\\left(\\vec{x} \\right)} [K] = \\lambda{\\left(\\vec{x} \\right)}\\end{equation}\\begin{equation}\\operatorname{Vn_{east}}{\\left(\\vec{x} \\right)} [m/s] = \\lambda{\\left(\\vec{x} \\right)}\\end{equation}\\begin{equation}\\operatorname{Vn_{north}}{\\left(\\vec{x} \\right)} [m/s] = \\lambda{\\left(\\vec{x} \\right)}\\end{equation}\\begin{equation}\\operatorname{Vn_{up}}{\\left(\\vec{x} \\right)} [m/s] = \\lambda{\\left(\\vec{x} \\right)}\\end{equation}\\begin{equation}\\operatorname{Vn_{upO3P}}{\\left(\\vec{x} \\right)} [m/s] = \\lambda{\\left(\\vec{x} \\right)}\\end{equation}\\begin{equation}\\operatorname{Vn_{upO2}}{\\left(\\vec{x} \\right)} [m/s] = \\lambda{\\left(\\vec{x} \\right)}\\end{equation}\\begin{equation}\\operatorname{Vn_{upN2}}{\\left(\\vec{x} \\right)} [m/s] = \\lambda{\\left(\\vec{x} \\right)}\\end{equation}\\begin{equation}\\operatorname{Vn_{upN4S}}{\\left(\\vec{x} \\right)} [m/s] = \\lambda{\\left(\\vec{x} \\right)}\\end{equation}\\begin{equation}\\operatorname{Vn_{upNO}}{\\left(\\vec{x} \\right)} [m/s] = \\lambda{\\left(\\vec{x} \\right)}\\end{equation}\\begin{equation}\\operatorname{Vn_{upHe}}{\\left(\\vec{x} \\right)} [m/s] = \\lambda{\\left(\\vec{x} \\right)}\\end{equation}\\begin{equation}\\operatorname{O4SP+}{\\left(\\vec{x} \\right)} [kg/m^3] = \\lambda{\\left(\\vec{x} \\right)}\\end{equation}\\begin{equation}\\operatorname{O2+}{\\left(\\vec{x} \\right)} [kg/m^3] = \\lambda{\\left(\\vec{x} \\right)}\\end{equation}\\begin{equation}\\operatorname{N2+}{\\left(\\vec{x} \\right)} [kg/m^3] = \\lambda{\\left(\\vec{x} \\right)}\\end{equation}\\begin{equation}\\operatorname{N+}{\\left(\\vec{x} \\right)} [kg/m^3] = \\lambda{\\left(\\vec{x} \\right)}\\end{equation}\\begin{equation}\\operatorname{NO+}{\\left(\\vec{x} \\right)} [kg/m^3] = \\lambda{\\left(\\vec{x} \\right)}\\end{equation}\\begin{equation}\\operatorname{O2D+}{\\left(\\vec{x} \\right)} [1/m^3] = \\lambda{\\left(\\vec{x} \\right)}\\end{equation}\\begin{equation}\\operatorname{O2P+}{\\left(\\vec{x} \\right)} [kg/m^3] = \\lambda{\\left(\\vec{x} \\right)}\\end{equation}\\begin{equation}\\operatorname{H+}{\\left(\\vec{x} \\right)} [kg/m^3] = \\lambda{\\left(\\vec{x} \\right)}\\end{equation}\\begin{equation}\\operatorname{He+}{\\left(\\vec{x} \\right)} [kg/m^3] = \\lambda{\\left(\\vec{x} \\right)}\\end{equation}\\begin{equation}\\operatorname{e-}{\\left(\\vec{x} \\right)} [1/m^3] = \\lambda{\\left(\\vec{x} \\right)}\\end{equation}\\begin{equation}\\operatorname{Te}{\\left(\\vec{x} \\right)} [K] = \\lambda{\\left(\\vec{x} \\right)}\\end{equation}\\begin{equation}\\operatorname{Ti}{\\left(\\vec{x} \\right)} [K] = \\lambda{\\left(\\vec{x} \\right)}\\end{equation}\\begin{equation}\\operatorname{Vi_{east}}{\\left(\\vec{x} \\right)} [m/s] = \\lambda{\\left(\\vec{x} \\right)}\\end{equation}\\begin{equation}\\operatorname{Vi_{north}}{\\left(\\vec{x} \\right)} [m/s] = \\lambda{\\left(\\vec{x} \\right)}\\end{equation}\\begin{equation}\\operatorname{Vi_{up}}{\\left(\\vec{x} \\right)} [m/s] = \\lambda{\\left(\\vec{x} \\right)}\\end{equation}\\begin{equation}\\operatorname{MagneticLatitude}{\\left(\\vec{x} \\right)} [degrees] = \\lambda{\\left(\\vec{x} \\right)}\\end{equation}\\begin{equation}\\operatorname{MagneticLongitude}{\\left(\\vec{x} \\right)} [degrees] = \\lambda{\\left(\\vec{x} \\right)}\\end{equation}"
      ],
      "text/plain": [
       "GITM([(rho(xvec),\n",
       "       <function readers.gitm.gitmK.GITM.register_variable.<locals>.interpolate(xvec)>),\n",
       "      (rho,\n",
       "       <function readers.gitm.gitmK.GITM.register_variable.<locals>.interpolate(xvec)>),\n",
       "      (O3P(xvec),\n",
       "       <function readers.gitm.gitmK.GITM.register_variable.<locals>.interpolate(xvec)>),\n",
       "      (O3P,\n",
       "       <function readers.gitm.gitmK.GITM.register_variable.<locals>.interpolate(xvec)>),\n",
       "      (O2(xvec),\n",
       "       <function readers.gitm.gitmK.GITM.register_variable.<locals>.interpolate(xvec)>),\n",
       "      (O2,\n",
       "       <function readers.gitm.gitmK.GITM.register_variable.<locals>.interpolate(xvec)>),\n",
       "      (N2(xvec),\n",
       "       <function readers.gitm.gitmK.GITM.register_variable.<locals>.interpolate(xvec)>),\n",
       "      (N2,\n",
       "       <function readers.gitm.gitmK.GITM.register_variable.<locals>.interpolate(xvec)>),\n",
       "      (N4S(xvec),\n",
       "       <function readers.gitm.gitmK.GITM.register_variable.<locals>.interpolate(xvec)>),\n",
       "      (N4S,\n",
       "       <function readers.gitm.gitmK.GITM.register_variable.<locals>.interpolate(xvec)>),\n",
       "      (NO(xvec),\n",
       "       <function readers.gitm.gitmK.GITM.register_variable.<locals>.interpolate(xvec)>),\n",
       "      (NO,\n",
       "       <function readers.gitm.gitmK.GITM.register_variable.<locals>.interpolate(xvec)>),\n",
       "      (He(xvec),\n",
       "       <function readers.gitm.gitmK.GITM.register_variable.<locals>.interpolate(xvec)>),\n",
       "      (He,\n",
       "       <function readers.gitm.gitmK.GITM.register_variable.<locals>.interpolate(xvec)>),\n",
       "      (N2D(xvec),\n",
       "       <function readers.gitm.gitmK.GITM.register_variable.<locals>.interpolate(xvec)>),\n",
       "      (N2D,\n",
       "       <function readers.gitm.gitmK.GITM.register_variable.<locals>.interpolate(xvec)>),\n",
       "      (N2P(xvec),\n",
       "       <function readers.gitm.gitmK.GITM.register_variable.<locals>.interpolate(xvec)>),\n",
       "      (N2P,\n",
       "       <function readers.gitm.gitmK.GITM.register_variable.<locals>.interpolate(xvec)>),\n",
       "      (H(xvec),\n",
       "       <function readers.gitm.gitmK.GITM.register_variable.<locals>.interpolate(xvec)>),\n",
       "      (H,\n",
       "       <function readers.gitm.gitmK.GITM.register_variable.<locals>.interpolate(xvec)>),\n",
       "      (CO2(xvec),\n",
       "       <function readers.gitm.gitmK.GITM.register_variable.<locals>.interpolate(xvec)>),\n",
       "      (CO2,\n",
       "       <function readers.gitm.gitmK.GITM.register_variable.<locals>.interpolate(xvec)>),\n",
       "      (O1D(xvec),\n",
       "       <function readers.gitm.gitmK.GITM.register_variable.<locals>.interpolate(xvec)>),\n",
       "      (O1D,\n",
       "       <function readers.gitm.gitmK.GITM.register_variable.<locals>.interpolate(xvec)>),\n",
       "      (Tn(xvec),\n",
       "       <function readers.gitm.gitmK.GITM.register_variable.<locals>.interpolate(xvec)>),\n",
       "      (Tn,\n",
       "       <function readers.gitm.gitmK.GITM.register_variable.<locals>.interpolate(xvec)>),\n",
       "      (Vn_east(xvec),\n",
       "       <function readers.gitm.gitmK.GITM.register_variable.<locals>.interpolate(xvec)>),\n",
       "      (Vn_east,\n",
       "       <function readers.gitm.gitmK.GITM.register_variable.<locals>.interpolate(xvec)>),\n",
       "      (Vn_north(xvec),\n",
       "       <function readers.gitm.gitmK.GITM.register_variable.<locals>.interpolate(xvec)>),\n",
       "      (Vn_north,\n",
       "       <function readers.gitm.gitmK.GITM.register_variable.<locals>.interpolate(xvec)>),\n",
       "      (Vn_up(xvec),\n",
       "       <function readers.gitm.gitmK.GITM.register_variable.<locals>.interpolate(xvec)>),\n",
       "      (Vn_up,\n",
       "       <function readers.gitm.gitmK.GITM.register_variable.<locals>.interpolate(xvec)>),\n",
       "      (Vn_upO3P(xvec),\n",
       "       <function readers.gitm.gitmK.GITM.register_variable.<locals>.interpolate(xvec)>),\n",
       "      (Vn_upO3P,\n",
       "       <function readers.gitm.gitmK.GITM.register_variable.<locals>.interpolate(xvec)>),\n",
       "      (Vn_upO2(xvec),\n",
       "       <function readers.gitm.gitmK.GITM.register_variable.<locals>.interpolate(xvec)>),\n",
       "      (Vn_upO2,\n",
       "       <function readers.gitm.gitmK.GITM.register_variable.<locals>.interpolate(xvec)>),\n",
       "      (Vn_upN2(xvec),\n",
       "       <function readers.gitm.gitmK.GITM.register_variable.<locals>.interpolate(xvec)>),\n",
       "      (Vn_upN2,\n",
       "       <function readers.gitm.gitmK.GITM.register_variable.<locals>.interpolate(xvec)>),\n",
       "      (Vn_upN4S(xvec),\n",
       "       <function readers.gitm.gitmK.GITM.register_variable.<locals>.interpolate(xvec)>),\n",
       "      (Vn_upN4S,\n",
       "       <function readers.gitm.gitmK.GITM.register_variable.<locals>.interpolate(xvec)>),\n",
       "      (Vn_upNO(xvec),\n",
       "       <function readers.gitm.gitmK.GITM.register_variable.<locals>.interpolate(xvec)>),\n",
       "      (Vn_upNO,\n",
       "       <function readers.gitm.gitmK.GITM.register_variable.<locals>.interpolate(xvec)>),\n",
       "      (Vn_upHe(xvec),\n",
       "       <function readers.gitm.gitmK.GITM.register_variable.<locals>.interpolate(xvec)>),\n",
       "      (Vn_upHe,\n",
       "       <function readers.gitm.gitmK.GITM.register_variable.<locals>.interpolate(xvec)>),\n",
       "      (O4SPplus(xvec),\n",
       "       <function readers.gitm.gitmK.GITM.register_variable.<locals>.interpolate(xvec)>),\n",
       "      (O4SPplus,\n",
       "       <function readers.gitm.gitmK.GITM.register_variable.<locals>.interpolate(xvec)>),\n",
       "      (O2plus(xvec),\n",
       "       <function readers.gitm.gitmK.GITM.register_variable.<locals>.interpolate(xvec)>),\n",
       "      (O2plus,\n",
       "       <function readers.gitm.gitmK.GITM.register_variable.<locals>.interpolate(xvec)>),\n",
       "      (N2plus(xvec),\n",
       "       <function readers.gitm.gitmK.GITM.register_variable.<locals>.interpolate(xvec)>),\n",
       "      (N2plus,\n",
       "       <function readers.gitm.gitmK.GITM.register_variable.<locals>.interpolate(xvec)>),\n",
       "      (Nplus(xvec),\n",
       "       <function readers.gitm.gitmK.GITM.register_variable.<locals>.interpolate(xvec)>),\n",
       "      (Nplus,\n",
       "       <function readers.gitm.gitmK.GITM.register_variable.<locals>.interpolate(xvec)>),\n",
       "      (NOplus(xvec),\n",
       "       <function readers.gitm.gitmK.GITM.register_variable.<locals>.interpolate(xvec)>),\n",
       "      (NOplus,\n",
       "       <function readers.gitm.gitmK.GITM.register_variable.<locals>.interpolate(xvec)>),\n",
       "      (O2Dplus(xvec),\n",
       "       <function readers.gitm.gitmK.GITM.register_variable.<locals>.interpolate(xvec)>),\n",
       "      (O2Dplus,\n",
       "       <function readers.gitm.gitmK.GITM.register_variable.<locals>.interpolate(xvec)>),\n",
       "      (O2Pplus(xvec),\n",
       "       <function readers.gitm.gitmK.GITM.register_variable.<locals>.interpolate(xvec)>),\n",
       "      (O2Pplus,\n",
       "       <function readers.gitm.gitmK.GITM.register_variable.<locals>.interpolate(xvec)>),\n",
       "      (Hplus(xvec),\n",
       "       <function readers.gitm.gitmK.GITM.register_variable.<locals>.interpolate(xvec)>),\n",
       "      (Hplus,\n",
       "       <function readers.gitm.gitmK.GITM.register_variable.<locals>.interpolate(xvec)>),\n",
       "      (Heplus(xvec),\n",
       "       <function readers.gitm.gitmK.GITM.register_variable.<locals>.interpolate(xvec)>),\n",
       "      (Heplus,\n",
       "       <function readers.gitm.gitmK.GITM.register_variable.<locals>.interpolate(xvec)>),\n",
       "      (eminus(xvec),\n",
       "       <function readers.gitm.gitmK.GITM.register_variable.<locals>.interpolate(xvec)>),\n",
       "      (eminus,\n",
       "       <function readers.gitm.gitmK.GITM.register_variable.<locals>.interpolate(xvec)>),\n",
       "      (Te(xvec),\n",
       "       <function readers.gitm.gitmK.GITM.register_variable.<locals>.interpolate(xvec)>),\n",
       "      (Te,\n",
       "       <function readers.gitm.gitmK.GITM.register_variable.<locals>.interpolate(xvec)>),\n",
       "      (Ti(xvec),\n",
       "       <function readers.gitm.gitmK.GITM.register_variable.<locals>.interpolate(xvec)>),\n",
       "      (Ti,\n",
       "       <function readers.gitm.gitmK.GITM.register_variable.<locals>.interpolate(xvec)>),\n",
       "      (Vi_east(xvec),\n",
       "       <function readers.gitm.gitmK.GITM.register_variable.<locals>.interpolate(xvec)>),\n",
       "      (Vi_east,\n",
       "       <function readers.gitm.gitmK.GITM.register_variable.<locals>.interpolate(xvec)>),\n",
       "      (Vi_north(xvec),\n",
       "       <function readers.gitm.gitmK.GITM.register_variable.<locals>.interpolate(xvec)>),\n",
       "      (Vi_north,\n",
       "       <function readers.gitm.gitmK.GITM.register_variable.<locals>.interpolate(xvec)>),\n",
       "      (Vi_up(xvec),\n",
       "       <function readers.gitm.gitmK.GITM.register_variable.<locals>.interpolate(xvec)>),\n",
       "      (Vi_up,\n",
       "       <function readers.gitm.gitmK.GITM.register_variable.<locals>.interpolate(xvec)>),\n",
       "      (MagneticLatitude(xvec),\n",
       "       <function readers.gitm.gitmK.GITM.register_variable.<locals>.interpolate(xvec)>),\n",
       "      (MagneticLatitude,\n",
       "       <function readers.gitm.gitmK.GITM.register_variable.<locals>.interpolate(xvec)>),\n",
       "      (MagneticLongitude(xvec),\n",
       "       <function readers.gitm.gitmK.GITM.register_variable.<locals>.interpolate(xvec)>),\n",
       "      (MagneticLongitude,\n",
       "       <function readers.gitm.gitmK.GITM.register_variable.<locals>.interpolate(xvec)>)])"
      ]
     },
     "execution_count": 3,
     "metadata": {},
     "output_type": "execute_result"
    }
   ],
   "source": [
    "# Select the data file\n",
    "runpath = \"../../../data/\"\n",
    "#runname = \"Sophia_Schwalbe_062220_IT_4\"\n",
    "#runname = \"Aaron_Ridley_081017_IT_2\"\n",
    "runname = \"GDC_GITM\"\n",
    "files = glob.glob(runpath+runname+'/*.bin')\n",
    "files.sort()\n",
    "file = files[-1]\n",
    "\n",
    "model = GITM(file, runpath=runpath, runname=runname, debug=1)\n",
    "model"
   ]
  },
  {
   "cell_type": "code",
   "execution_count": null,
   "metadata": {},
   "outputs": [],
   "source": [
    "#Write list of variables to file 'kamodo_info'\n",
    "model.write_variables()"
   ]
  },
  {
   "cell_type": "markdown",
   "metadata": {},
   "source": [
    "# Interpolation"
   ]
  },
  {
   "cell_type": "code",
   "execution_count": 4,
   "metadata": {},
   "outputs": [
    {
     "name": "stdout",
     "output_type": "stream",
     "text": [
      "[2.68652554e-14 9.22378231e-14 1.12557827e-13 9.39359154e-14]\n"
     ]
    }
   ],
   "source": [
    "print(model.rho([[70,30.,440000.],[70,40.,400000.],[90,40.,400000.],[120,40.,440000.]]))"
   ]
  },
  {
   "cell_type": "code",
   "execution_count": 5,
   "metadata": {},
   "outputs": [
    {
     "name": "stdout",
     "output_type": "stream",
     "text": [
      "kg/m^3\n",
      "[2.68652554e-14 9.22378231e-14 1.12557827e-13 9.39359154e-14]\n"
     ]
    }
   ],
   "source": [
    "var=\"rho\"\n",
    "grid = np.ndarray(shape=(4,3), dtype=np.float32)\n",
    "grid[:,0] = [70, 70, 90, 120]\n",
    "grid[:,1] = [30, 40, 40, 40]\n",
    "grid[:,2] = [440000., 400000., 400000., 440000.]\n",
    "units=model.variables[var]['units']\n",
    "test = model.variables[var]['interpolator'](grid)\n",
    "print(units)\n",
    "print(test)"
   ]
  },
  {
   "cell_type": "markdown",
   "metadata": {},
   "source": [
    "# Plotting"
   ]
  },
  {
   "cell_type": "code",
   "execution_count": null,
   "metadata": {},
   "outputs": [],
   "source": [
    "# Slice at given Altitude\n",
    "fig=model.get_plot('rho', 400000., '2D-alt', colorscale='Viridis', log=\"T\")\n",
    "#iplot(fig)\n",
    "\n",
    "#pio.write_image(fig, 'images/GITM_2D-alt.svg')"
   ]
  },
  {
   "cell_type": "markdown",
   "metadata": {},
   "source": [
    "![2D-alt](images/GITM_2D-alt.svg)"
   ]
  },
  {
   "cell_type": "code",
   "execution_count": null,
   "metadata": {},
   "outputs": [],
   "source": [
    "# Slice at given latitude\n",
    "fig=model.get_plot('Tn', 0., '2D-lat', colorscale='Rainbow')\n",
    "iplot(fig)\n",
    "\n",
    "#pio.write_image(fig, 'images/GITM_2D-lat.svg')"
   ]
  },
  {
   "cell_type": "markdown",
   "metadata": {},
   "source": [
    "![2D-lat](images/GITM_2D-lat.svg)"
   ]
  },
  {
   "cell_type": "code",
   "execution_count": null,
   "metadata": {},
   "outputs": [],
   "source": [
    "# Slice at given longitude\n",
    "fig=model.get_plot('rho', 180., '2D-lon', colorscale='Rainbow', log='T')\n",
    "iplot(fig)\n",
    "\n",
    "#pio.write_image(fig, 'images/GITM_2D-lon.svg')"
   ]
  },
  {
   "cell_type": "markdown",
   "metadata": {},
   "source": [
    "![2D-lon](images/GITM_2D-lon.svg)"
   ]
  },
  {
   "cell_type": "code",
   "execution_count": null,
   "metadata": {},
   "outputs": [],
   "source": [
    "# 3D view at given Altitude\n",
    "fig=model.get_plot('rho', 400000., '3D-alt', colorscale='Rainbow')\n",
    "iplot(fig)\n",
    "\n",
    "#pio.write_image(fig, 'images/GITM_3D-alt.svg')"
   ]
  },
  {
   "cell_type": "markdown",
   "metadata": {},
   "source": [
    "![3D-alt](images/GITM_3D-alt.svg)"
   ]
  },
  {
   "cell_type": "code",
   "execution_count": null,
   "metadata": {},
   "outputs": [],
   "source": [
    "# Isosurface with slice at Lat=0.\n",
    "fig=model.get_plot('Tn', 750., 'iso')\n",
    "iplot(fig)\n",
    "\n",
    "#scope = PlotlyScope()\n",
    "#with open(\"images/GITM_iso.png\", \"wb\") as f:\n",
    "#    f.write(scope.transform(fig, format=\"png\"))\n",
    "\n",
    "#fig.write_html(\"GITM_iso.html\",full_html=False)"
   ]
  },
  {
   "cell_type": "markdown",
   "metadata": {},
   "source": [
    "![iso](images/GITM_iso.png)"
   ]
  },
  {
   "cell_type": "code",
   "execution_count": null,
   "metadata": {},
   "outputs": [],
   "source": []
  }
 ],
 "metadata": {
  "kernelspec": {
   "display_name": "Python 3",
   "language": "python",
   "name": "python3"
  },
  "language_info": {
   "codemirror_mode": {
    "name": "ipython",
    "version": 3
   },
   "file_extension": ".py",
   "mimetype": "text/x-python",
   "name": "python",
   "nbconvert_exporter": "python",
   "pygments_lexer": "ipython3",
   "version": "3.7.6"
  }
 },
 "nbformat": 4,
 "nbformat_minor": 4
}
