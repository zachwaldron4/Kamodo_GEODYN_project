{
 "cells": [
  {
   "cell_type": "code",
   "execution_count": 1,
   "metadata": {},
   "outputs": [
    {
     "name": "stdout",
     "output_type": "stream",
     "text": [
      "Time to compute griddata interpolation: 21.9338 seconds\n"
     ]
    }
   ],
   "source": [
    "import time\n",
    "import numpy as np\n",
    "from scipy.interpolate import griddata\n",
    "\n",
    "def func(x, y):\n",
    "    return x*(1-x)*np.cos(4*np.pi*x) * np.sin(4*np.pi*y**2)**2\n",
    "\n",
    "grid_x, grid_y = np.mgrid[0:1:20000j, 0:1:20000j]\n",
    "\n",
    "points = np.random.rand(1000, 2)\n",
    "values = func(points[:,0], points[:,1])\n",
    "\n",
    "tic = time.perf_counter()\n",
    "grid_z = griddata(points, values, (grid_x, grid_y), method='linear')\n",
    "toc = time.perf_counter()\n",
    "\n",
    "print(f\"Time to compute griddata interpolation: {toc - tic:0.4f} seconds\")"
   ]
  },
  {
   "cell_type": "markdown",
   "metadata": {},
   "source": [
    "gs674-ddezeeuw\n",
    "Time to compute griddata interpolation: 21.9338 seconds\n",
    "\n",
    "cloud_dev7\n",
    "Time to compute griddata interpolation: 56.5639 seconds\n",
    "\n",
    "kahala2\n",
    "Time to compute griddata interpolation: 44.9300 seconds\n",
    "\n",
    "webdev\n",
    "--memory error\n"
   ]
  },
  {
   "cell_type": "code",
   "execution_count": null,
   "metadata": {},
   "outputs": [],
   "source": []
  }
 ],
 "metadata": {
  "kernelspec": {
   "display_name": "Python 3",
   "language": "python",
   "name": "python3"
  },
  "language_info": {
   "codemirror_mode": {
    "name": "ipython",
    "version": 3
   },
   "file_extension": ".py",
   "mimetype": "text/x-python",
   "name": "python",
   "nbconvert_exporter": "python",
   "pygments_lexer": "ipython3",
   "version": "3.7.6"
  }
 },
 "nbformat": 4,
 "nbformat_minor": 4
}
