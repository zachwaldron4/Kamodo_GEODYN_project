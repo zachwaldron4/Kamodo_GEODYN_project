{
 "cells": [
  {
   "cell_type": "markdown",
   "metadata": {},
   "source": [
    "# Kamodo Project Page\n",
    "\n",
    "Kamodo is a new CCMC tool for access, interpolation, and visualization of space weather models and data in python. Kamodo allows model developers to represent simulation results as mathematical functions which may be manipulated directly by end users. Kamodo handles unit conversion transparently and supports interactive science discovery through jupyter notebooks with minimal coding and is accessible through python and fortran."
   ]
  },
  {
   "cell_type": "markdown",
   "metadata": {},
   "source": [
    "# Usage"
   ]
  },
  {
   "cell_type": "markdown",
   "metadata": {},
   "source": [
    "Suppose we have a vector field defined by a function of positions in the x-y plane:"
   ]
  },
  {
   "cell_type": "code",
   "execution_count": 9,
   "metadata": {},
   "outputs": [],
   "source": [
    "from kamodo import kamodofy\n",
    "import numpy as np\n",
    "\n",
    "x = np.linspace(-np.pi, np.pi, 25)\n",
    "y = np.linspace(-np.pi, np.pi, 30)\n",
    "xx, yy = np.meshgrid(x,y)\n",
    "points = np.array(list(zip(xx.ravel(), yy.ravel())))\n",
    "\n",
    "@kamodofy(units = 'km/s')\n",
    "def fvec(rvec = points):\n",
    "    ux = np.sin(rvec[:,0])\n",
    "    uy = np.cos(rvec[:,1])\n",
    "    return np.vstack((ux,uy)).T"
   ]
  },
  {
   "cell_type": "markdown",
   "metadata": {},
   "source": [
    "The @kamodofy decorator lets us register this field with units to enable unit-conversion downstream:"
   ]
  },
  {
   "cell_type": "code",
   "execution_count": 10,
   "metadata": {},
   "outputs": [
    {
     "data": {
      "text/latex": [
       "\\begin{equation}\\vec{f}{\\left(\\vec{r} \\right)} [km/s] = \\lambda{\\left(\\vec{r} \\right)}\\end{equation}"
      ],
      "text/plain": [
       "Kamodo([(fvec(rvec),\n",
       "         <function __main__.fvec(rvec=array([[-3.14159265, -3.14159265],\n",
       "       [-2.87979327, -3.14159265],\n",
       "       [-2.61799388, -3.14159265],\n",
       "       ...,\n",
       "       [ 2.61799388,  3.14159265],\n",
       "       [ 2.87979327,  3.14159265],\n",
       "       [ 3.14159265,  3.14159265]]))>),\n",
       "        (fvec,\n",
       "         <function __main__.fvec(rvec=array([[-3.14159265, -3.14159265],\n",
       "       [-2.87979327, -3.14159265],\n",
       "       [-2.61799388, -3.14159265],\n",
       "       ...,\n",
       "       [ 2.61799388,  3.14159265],\n",
       "       [ 2.87979327,  3.14159265],\n",
       "       [ 3.14159265,  3.14159265]]))>)])"
      ]
     },
     "execution_count": 10,
     "metadata": {},
     "output_type": "execute_result"
    }
   ],
   "source": [
    "from kamodo import Kamodo\n",
    "\n",
    "kamodo = Kamodo(fvec = fvec)\n",
    "kamodo"
   ]
  },
  {
   "cell_type": "code",
   "execution_count": 11,
   "metadata": {},
   "outputs": [
    {
     "data": {
      "text/plain": [
       "'\\\\begin{equation}\\\\vec{f}{\\\\left(\\\\vec{r} \\\\right)} [km/s] = \\\\lambda{\\\\left(\\\\vec{r} \\\\right)}\\\\end{equation}'"
      ]
     },
     "execution_count": 11,
     "metadata": {},
     "output_type": "execute_result"
    }
   ],
   "source": [
    "kamodo.to_latex()"
   ]
  },
  {
   "cell_type": "markdown",
   "metadata": {},
   "source": [
    "We can now evaluate our function using dot notation:"
   ]
  },
  {
   "cell_type": "code",
   "execution_count": 12,
   "metadata": {},
   "outputs": [
    {
     "data": {
      "text/plain": [
       "array([[-0.84147098,  0.54030231]])"
      ]
     },
     "execution_count": 12,
     "metadata": {},
     "output_type": "execute_result"
    }
   ],
   "source": [
    "kamodo.fvec(np.array([[-1,1]]))"
   ]
  },
  {
   "cell_type": "markdown",
   "metadata": {},
   "source": [
    "We can perform unit conversion:"
   ]
  },
  {
   "cell_type": "code",
   "execution_count": 13,
   "metadata": {},
   "outputs": [
    {
     "data": {
      "text/latex": [
       "\\begin{equation}\\vec{f}{\\left(\\vec{r} \\right)} [km/s] = \\lambda{\\left(\\vec{r} \\right)}\\end{equation}\\begin{equation}\\vec{g}{\\left(\\vec{r} \\right)} [m/s] = 1000 \\vec{f}{\\left(\\vec{r} \\right)}\\end{equation}"
      ],
      "text/plain": [
       "Kamodo([(fvec(rvec),\n",
       "         <function __main__.fvec(rvec=array([[-3.14159265, -3.14159265],\n",
       "       [-2.87979327, -3.14159265],\n",
       "       [-2.61799388, -3.14159265],\n",
       "       ...,\n",
       "       [ 2.61799388,  3.14159265],\n",
       "       [ 2.87979327,  3.14159265],\n",
       "       [ 3.14159265,  3.14159265]]))>),\n",
       "        (fvec,\n",
       "         <function __main__.fvec(rvec=array([[-3.14159265, -3.14159265],\n",
       "       [-2.87979327, -3.14159265],\n",
       "       [-2.61799388, -3.14159265],\n",
       "       ...,\n",
       "       [ 2.61799388,  3.14159265],\n",
       "       [ 2.87979327,  3.14159265],\n",
       "       [ 3.14159265,  3.14159265]]))>),\n",
       "        (gvec(rvec), <function _lambdifygenerated(rvec)>),\n",
       "        (gvec, <function _lambdifygenerated(rvec)>)])"
      ]
     },
     "execution_count": 13,
     "metadata": {},
     "output_type": "execute_result"
    }
   ],
   "source": [
    "kamodo['gvec[m/s]'] = 'fvec'\n",
    "kamodo"
   ]
  },
  {
   "cell_type": "code",
   "execution_count": 14,
   "metadata": {},
   "outputs": [
    {
     "data": {
      "text/plain": [
       "array([[-841.47098481,  540.30230587]])"
      ]
     },
     "execution_count": 14,
     "metadata": {},
     "output_type": "execute_result"
    }
   ],
   "source": [
    "kamodo.gvec(np.array([[-1,1]]))"
   ]
  },
  {
   "cell_type": "markdown",
   "metadata": {},
   "source": [
    "We can even generate plots."
   ]
  },
  {
   "cell_type": "code",
   "execution_count": 7,
   "metadata": {},
   "outputs": [],
   "source": [
    "import plotly.io as pio\n",
    "\n",
    "fig = kamodo.plot('fvec')\n",
    "pio.write_image(fig, 'images/fig2d-usage.svg')"
   ]
  },
  {
   "cell_type": "markdown",
   "metadata": {},
   "source": [
    "![usage](images/fig2d-usage.svg)"
   ]
  },
  {
   "cell_type": "markdown",
   "metadata": {},
   "source": [
    "## Getting started\n",
    "\n",
    "### Where to download\n",
    "\n",
    "If you have a nasa.developer.gov account, you may access the kamodo repository with [git](https://git-scm.com/):\n",
    "\n",
    "    git pull https://developer.nasa.gov/CCMC/Kameleon2.0\n",
    "\n",
    "!!! note\n",
    "    Kamodo is currently only available to users with NASA credentials. We are in the process of making Kamodo open to the public as an open-source project. \n",
    "\n",
    "#### Download (mini)conda\n",
    "\n",
    "We strongly recommend using the conda environment system to avoid library conflicts with your host machine's python.\n",
    "\n",
    "Download and install miniconda from [here](https://conda.io/miniconda.html).\n",
    "\n",
    "#### Create Kamodo environment\n",
    "\n",
    "Create a new environment for kamodo\n",
    "\n",
    "    conda create -n kamodo python=2.7 jupyter pandas numpy\n",
    "\n",
    "#### Activate new environment\n",
    "\n",
    "From a bash shell:\n",
    "\n",
    "    source activate kamodo\n",
    "\n",
    "Requirements\n",
    "\n",
    "* numpy\n",
    "* scipy\n",
    "* sympy\n",
    "* pandas\n",
    "* plotly==3.3\n",
    "* pytest\n",
    "* psutil\n",
    "\n",
    "#### Loading a notebook\n",
    "\n",
    "Start the notebook server in the ```Prototypes``` subdirectory\n",
    "\n",
    "    jupyter notebook Prototypes"
   ]
  }
 ],
 "metadata": {
  "kernelspec": {
   "display_name": "Python 3",
   "language": "python",
   "name": "python3"
  },
  "language_info": {
   "codemirror_mode": {
    "name": "ipython",
    "version": 3
   },
   "file_extension": ".py",
   "mimetype": "text/x-python",
   "name": "python",
   "nbconvert_exporter": "python",
   "pygments_lexer": "ipython3",
   "version": "3.7.3"
  }
 },
 "nbformat": 4,
 "nbformat_minor": 2
}
