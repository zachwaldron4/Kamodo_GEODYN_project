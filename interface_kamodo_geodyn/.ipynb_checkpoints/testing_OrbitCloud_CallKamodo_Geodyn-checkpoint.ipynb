{
 "cells": [
  {
   "cell_type": "markdown",
   "id": "5da3e60d",
   "metadata": {},
   "source": [
    "# This notebook is used to test and develop the integration of Kamodo into GEODYN\n",
    "\n",
    "\n",
    "- We make a some critical modifications to GEODYN for the purpose of quick testing:\n",
    "    1. We use a much lager `STEP` size to go through the runs faster.  \n",
    "       `10.00 (s)  ->  60.00 (s)`\n",
    "    \n"
   ]
  },
  {
   "cell_type": "markdown",
   "id": "87e3264b",
   "metadata": {},
   "source": []
  },
  {
   "cell_type": "markdown",
   "id": "84a2ced5",
   "metadata": {},
   "source": [
    "Before we run an unused set of TIEGCM data for the first time, we have to initialize the Data to work with the Kamodo Flythrough\n",
    " - kamodo automatically constructs some datatables for quick look ups of dates.\n",
    "    "
   ]
  },
  {
   "cell_type": "code",
   "execution_count": null,
   "id": "71a3644c",
   "metadata": {
    "ExecuteTime": {
     "end_time": "2021-08-31T18:42:36.285793Z",
     "start_time": "2021-08-31T18:42:36.277048Z"
    }
   },
   "outputs": [],
   "source": []
  },
  {
   "cell_type": "code",
   "execution_count": 1,
   "id": "72e59c1d",
   "metadata": {
    "ExecuteTime": {
     "end_time": "2021-09-20T16:54:17.854567Z",
     "start_time": "2021-09-20T16:54:17.849583Z"
    }
   },
   "outputs": [],
   "source": [
    "# import netCDF4\n",
    "\n",
    "# ds = netCDF4.Dataset('/data/data_geodyn/atmos_models_data/tiegcm/2018/Lutz_Rastaetter_072319_IT_1/s001.nc')\n",
    "# ds.variables.keys()"
   ]
  },
  {
   "cell_type": "code",
   "execution_count": 2,
   "id": "315354bc",
   "metadata": {
    "ExecuteTime": {
     "end_time": "2021-09-20T16:54:17.861366Z",
     "start_time": "2021-09-20T16:54:17.856402Z"
    }
   },
   "outputs": [],
   "source": [
    "# rho = float(ds.variables['DEN'][12,12,12,4].data)\n",
    "\n",
    "# n_n2 = float(ds.variables['N2N'][12,12,12,4].data)\n",
    "\n",
    "# # den_N2 = results_dict['psi_He'][i] * results_dict['rho'][i]     # rho_He    [kg/cm^3]\n",
    "\n",
    "# mbar_n2 = rho/n_n2\n",
    "# mbar_n2"
   ]
  },
  {
   "cell_type": "code",
   "execution_count": 3,
   "id": "2e478a3d",
   "metadata": {
    "ExecuteTime": {
     "end_time": "2021-09-20T16:54:17.868784Z",
     "start_time": "2021-09-20T16:54:17.863342Z"
    }
   },
   "outputs": [],
   "source": [
    "# # import sys\n",
    "# # sys.path.insert(0,'/data/geodyn_proj/interface_kamodo_geodyn/Kamodo/kamodo/flythrough/')\n",
    "# # from SingleSatelliteFlythrough import SingleModelFlythrough\n",
    "# # sys.path.insert(0,'/data/geodyn_proj/interface_kamodo_geodyn/Kamodo/kamodo/flythrough/')\n",
    "# # from SatelliteFlythrough import ModelFlythrough\n",
    "# # import pandas as pd\n",
    "# # from datetime import datetime, timezone, timedelta\n",
    "# # import numpy as np\n",
    "\n",
    "# # #### Kamodo static inputs:\n",
    "# # model          = 'TIEGCM'\n",
    "# # file_dir       = '/data/data_geodyn/atmos_models_data/tiegcm/2018/AugustQuiet_JONAH_120419_IT_2/'\n",
    "# # variable_list  = ['rho','psi_O2', 'psi_O', 'psi_N2', 'psi_He', 'T_n']\n",
    "# # coord_type     = 'SPH'\n",
    "# # coord_grid     = 'sph'\n",
    "# # high_res       = 1.\n",
    "# # verbose        = False  \n",
    "# # csv_output     = '' \n",
    "# # plot_output    = ''\n",
    "\n",
    "\n",
    "# # #### Extract the coordinates from each list to plug into Kamodo with vectorization\n",
    "\n",
    "# # ## Gather inputs\n",
    "# # sat_time       = datetime.timestamp(datetime.strptime('181202120000', '%y%m%d%H%M%S').replace(tzinfo=timezone.utc))\n",
    "# # c1             = 1\n",
    "# # c2             = 10\n",
    "# # c3             = 500\n",
    "    \n",
    "# # ## Plug vectorized coordinates into Kamodo\n",
    "# # results = ModelFlythrough(model, file_dir, variable_list, sat_time, c1, c2, c3, \n",
    "# #                     coord_type, coord_grid, high_res=20., verbose=False, \n",
    "# #                     csv_output='', plot_output='')\n",
    "\n",
    "# import sys\n",
    "# sys.path.insert(0,'/data/geodyn_proj/interface_kamodo_geodyn/Kamodo/kamodo/flythrough/')\n",
    "# from SingleSatelliteFlythrough import SingleModelFlythrough\n",
    "# sys.path.insert(0,'/data/geodyn_proj/interface_kamodo_geodyn/Kamodo/kamodo/flythrough/')\n",
    "# from SatelliteFlythrough import ModelFlythrough\n",
    "# import pandas as pd\n",
    "# from datetime import datetime, timezone, timedelta\n",
    "# import numpy as np\n",
    "\n",
    "# #### Kamodo static inputs:\n",
    "# model          = 'TIEGCM'\n",
    "# file_dir       = '/data/data_geodyn/atmos_models_data/tiegcm/2018/Lutz_Rastaetter_072319_IT_1/'\n",
    "# variable_list  = ['rho','psi_O2', 'psi_O', 'psi_He', 'T_n']\n",
    "# coord_type     = 'SPH'\n",
    "# coord_grid     = 'sph'\n",
    "# high_res       = 1.\n",
    "# verbose        = False  \n",
    "# csv_output     = '' \n",
    "# plot_output    = ''\n",
    "\n",
    "\n",
    "# #### Extract the coordinates from each list to plug into Kamodo with vectorization\n",
    "\n",
    "# ## Gather inputs\n",
    "# sat_time       = [datetime.timestamp(datetime.strptime('181202120000', '%y%m%d%H%M%S').replace(tzinfo=timezone.utc))]\n",
    "# c1             = [1]\n",
    "# c2             = [10]\n",
    "# c3             = [500]\n",
    "    \n",
    "# ## Plug vectorized coordinates into Kamodo\n",
    "# results = ModelFlythrough(model, file_dir, variable_list, sat_time, c1, c2, c3, \n",
    "#                     coord_type, coord_grid, high_res=20., verbose=False, \n",
    "#                     csv_output='', plot_output='')"
   ]
  },
  {
   "cell_type": "code",
   "execution_count": null,
   "id": "bbaa8a93",
   "metadata": {
    "ExecuteTime": {
     "end_time": "2021-09-14T16:19:18.525555Z",
     "start_time": "2021-09-14T16:19:18.403356Z"
    }
   },
   "outputs": [],
   "source": []
  },
  {
   "cell_type": "markdown",
   "id": "15d71e4d",
   "metadata": {},
   "source": [
    "Make a csv to run the GEODYN dataset through"
   ]
  },
  {
   "cell_type": "markdown",
   "id": "fff12e77",
   "metadata": {},
   "source": [
    "We now have a CSV.\n",
    "\n",
    "What is next:\n",
    "1. Run through the entire command line method for a benchmark\n",
    "1. make a log file and if the time doesn't match up, grab the next closest time and write it to log file.\\\n",
    "1. put interpolate function in fortran"
   ]
  },
  {
   "cell_type": "markdown",
   "id": "7e640162",
   "metadata": {},
   "source": [
    "## Run the orbit cloud method thru pygeodyn"
   ]
  },
  {
   "cell_type": "code",
   "execution_count": null,
   "id": "d111d952",
   "metadata": {
    "ExecuteTime": {
     "start_time": "2021-09-20T16:54:16.556Z"
    },
    "scrolled": true
   },
   "outputs": [
    {
     "name": "stdout",
     "output_type": "stream",
     "text": [
      "The autoreload extension is already loaded. To reload it, use:\n",
      "  %reload_ext autoreload\n",
      "                      ......... RUNNING GEODYN\n",
      "RUNNING THE ORBIT CLOUD METHOD\n",
      "import time: 2.3195546930655837\n"
     ]
    }
   ],
   "source": [
    "%load_ext autoreload\n",
    "%autoreload 2\n",
    "import copy\n",
    "import time\n",
    "import sys  \n",
    "\n",
    "\n",
    "sys.path.insert(0, '/data/geodyn_proj/pygeodyn/pygeodyn_develop/')\n",
    "from PYGEODYN import Pygeodyn\n",
    "\n",
    "\n",
    "### Identify which arcs you want to run:\n",
    "arcs_files = [ \n",
    "#             '2018.335',  # 1\n",
    "            '2018.336',  # 1\n",
    "            '2018.337',  # 2\n",
    "            '2018.338',  # 3\n",
    "             ]\n",
    "\n",
    "#------ A dictionary containing the run parameters ------  \n",
    "run_params = {} \n",
    "run_params['arc']              =   arcs_files\n",
    "run_params['satellite']        =  'icesat2'  \n",
    "run_params['den_model']        =  'tiegcm_oc'  \n",
    "run_params['SpecialRun_name']  =  'PCE_kamodo_interface'  \n",
    "run_params['verbose']          =  False\n",
    "run_params['geodyn_StepSize']  =  float(10.)\n",
    "\n",
    "\n",
    "%load_ext autoreload\n",
    "%autoreload 2\n",
    "\n",
    "import pickle \n",
    "sys.path.insert(0, '/data/geodyn_proj/pygeodyn/pygeodyn_develop/')\n",
    "from PYGEODYN import Pygeodyn\n",
    "# import time\n",
    "from time import perf_counter\n",
    "t0=perf_counter()\n",
    "\n",
    "\n",
    "for imodel,val_model in enumerate( ['tiegcm_oc']):\n",
    "    run_params1 = copy.deepcopy(run_params)\n",
    "    run_params1['den_model']  =  val_model  \n",
    "    run_params1['action']     =  'run'\n",
    "\n",
    "    ### Load the data into an object\n",
    "    Obj_Geodyn = Pygeodyn(run_params1)\n",
    "    Obj_Geodyn.RUN_GEODYN()\n",
    "    del Obj_Geodyn\n",
    "    print('time per run:', perf_counter()-t0)"
   ]
  },
  {
   "cell_type": "code",
   "execution_count": null,
   "id": "2c4505fb",
   "metadata": {
    "ExecuteTime": {
     "start_time": "2021-09-20T16:54:16.557Z"
    }
   },
   "outputs": [],
   "source": [
    "sys.exit()"
   ]
  },
  {
   "cell_type": "markdown",
   "id": "272347d4",
   "metadata": {
    "ExecuteTime": {
     "end_time": "2021-08-23T23:14:44.899647Z",
     "start_time": "2021-08-23T23:14:31.406429Z"
    }
   },
   "source": [
    "## Read the data and compare to the command line method to see how it worked"
   ]
  },
  {
   "cell_type": "code",
   "execution_count": null,
   "id": "f31261b8",
   "metadata": {
    "ExecuteTime": {
     "start_time": "2021-09-20T16:54:16.558Z"
    }
   },
   "outputs": [],
   "source": [
    "# %load_ext autoreload\n",
    "# %autoreload 2\n",
    "# import copy\n",
    "# import time\n",
    "# import sys  \n",
    "\n",
    "# # import pickle \n",
    "# sys.path.insert(0, '/data/geodyn_proj/pygeodyn/pygeodyn_develop/')\n",
    "# from PYGEODYN import Pygeodyn\n",
    "# ### Identify which arcs you want to run:\n",
    "# arcs_files = [ \n",
    "#             '2018.336',  # 1\n",
    "#              ]\n",
    "\n",
    "# Obj_Geodyn = {}\n",
    "# #------ A dictionary containing the run parameters ------  \n",
    "# run_params = {} \n",
    "# run_params['arc']              =   arcs_files\n",
    "# run_params['satellite']        =  'icesat2'  \n",
    "# run_params['den_model']        =  'tiegcm_oc'  \n",
    "# run_params['SpecialRun_name']  =  'PCE_kamodo_interface'  \n",
    "# run_params['verbose']          =  False\n",
    "# run_params['geodyn_StepSize']  =  float(10.)\n",
    "\n",
    "# for imodel,val_model in enumerate( ['tiegcm_oc', ]):\n",
    "#     read_params = copy.deepcopy(run_params)\n",
    "#     read_params['den_model']  =  val_model  \n",
    "#     read_params['action']  =  'read'  \n",
    "#     read_params['request_data']      = ['AdjustedParams',\n",
    "#                                         'Trajectory_orbfil',\n",
    "#                                         'Density',\n",
    "#                                         'Residuals_obs',\n",
    "#                                         'Residuals_summary',\n",
    "#                                         ]\n",
    "\n",
    "#     ### Load the data into an object\n",
    "#     Obj_Geodyn[val_model] = Pygeodyn(read_params)\n",
    "#     Obj_Geodyn[val_model].getData()\n"
   ]
  },
  {
   "cell_type": "code",
   "execution_count": null,
   "id": "b07567ba",
   "metadata": {
    "ExecuteTime": {
     "start_time": "2021-09-20T16:54:16.561Z"
    }
   },
   "outputs": [],
   "source": [
    "Obj_Geodyn['tiegcm_oc'].__dict__['AdjustedParams']['2018.336'][4][1807001]['0CD']\n"
   ]
  },
  {
   "cell_type": "markdown",
   "id": "b5cdbac7",
   "metadata": {},
   "source": [
    "## Plots"
   ]
  },
  {
   "cell_type": "code",
   "execution_count": null,
   "id": "e39faa3d",
   "metadata": {
    "ExecuteTime": {
     "start_time": "2021-09-20T16:54:16.563Z"
    }
   },
   "outputs": [],
   "source": [
    "import plotly.graph_objects as go\n",
    "from plotly.offline import plot, iplot\n",
    "from plotly.subplots import make_subplots\n",
    "import plotly.express as px\n",
    "\n",
    "\n",
    "config = dict({\n",
    "                'displayModeBar': True,\n",
    "                'responsive': False,\n",
    "                'staticPlot': False,\n",
    "                'displaylogo': False,\n",
    "                'showTips': False,\n",
    "                })"
   ]
  },
  {
   "cell_type": "markdown",
   "id": "6585fea2",
   "metadata": {},
   "source": [
    "## Plot- RMS Summary"
   ]
  },
  {
   "cell_type": "code",
   "execution_count": null,
   "id": "4f37a115",
   "metadata": {
    "ExecuteTime": {
     "start_time": "2021-09-20T16:54:16.564Z"
    }
   },
   "outputs": [],
   "source": [
    "%load_ext autoreload\n",
    "%autoreload 2\n",
    "\n",
    "from PYGEODYNAnalysis_icesat2PCEtrajectory import plot_residual_meas_summary\n",
    "from PYGEODYNAnalysis_icesat2PCEtrajectory import rms_summary_table\n",
    "\n",
    "\n",
    "Obj_list = [Obj_Geodyn['tiegcm_oc']]\n",
    "\n",
    "rms_summary_table(Obj_list)\n",
    "\n",
    "\n",
    "fig = make_subplots(rows=2, cols=1, \n",
    "     subplot_titles=([\"Mean Residuals per Arc\", 'RMS of Fit per Arc']),\n",
    "     vertical_spacing = 0.1)\n",
    "fig = plot_residual_meas_summary(fig, Obj_Geodyn['tiegcm_oc']   , 0)\n",
    "\n",
    "fig.show(config=config)"
   ]
  },
  {
   "cell_type": "markdown",
   "id": "e9d13f8f",
   "metadata": {},
   "source": [
    "### CD timeseries"
   ]
  },
  {
   "cell_type": "code",
   "execution_count": null,
   "id": "6523c620",
   "metadata": {
    "ExecuteTime": {
     "start_time": "2021-09-20T16:54:16.566Z"
    }
   },
   "outputs": [],
   "source": [
    "%load_ext autoreload\n",
    "%autoreload 2\n",
    "from PYGEODYNAnalysis_icesat2PCEtrajectory import plot_cd_and_percdiff_from_apriori\n",
    "\n",
    "\n",
    "fig = make_subplots(\n",
    "    rows=2, cols=1,\n",
    "    subplot_titles=([\"Timeseries of Cd\", \"Ratio of Adjusted Cd to a priori (Cd=2.2)\"]),\n",
    "    vertical_spacing = 0.08,\n",
    "    )\n",
    "fig = plot_cd_and_percdiff_from_apriori(fig,  Obj_Geodyn['tiegcm_oc']     , 0)\n",
    "\n",
    "\n",
    "fig.show(config=config)"
   ]
  },
  {
   "cell_type": "markdown",
   "id": "81c95c4a",
   "metadata": {},
   "source": [
    "### Plot - NTW Residuals"
   ]
  },
  {
   "cell_type": "code",
   "execution_count": null,
   "id": "5bf9c472",
   "metadata": {
    "ExecuteTime": {
     "start_time": "2021-09-20T16:54:16.567Z"
    }
   },
   "outputs": [],
   "source": [
    "%load_ext autoreload\n",
    "%autoreload 2\n",
    "from PYGEODYNAnalysis_icesat2PCEtrajectory import NTW_CDratio_IntrackResids\n",
    "\n",
    "\n",
    "fig = make_subplots(rows=2, cols=1,\n",
    "            shared_xaxes=True,\n",
    "            subplot_titles=(['Adjusted Cd ratio to a priori (2.2)', 'In-Track Component Residuals (PCE-ORBFIL)']),\n",
    "            vertical_spacing = 0.1,\n",
    "            specs=[ [{\"secondary_y\": False }],\n",
    "                    [{\"secondary_y\": False }]],)\n",
    "\n",
    "\n",
    "fig = NTW_CDratio_IntrackResids(fig,  Obj_Geodyn['tiegcm_oc']  , 0)\n",
    "\n",
    "\n",
    "fig.show(config=config)"
   ]
  },
  {
   "cell_type": "code",
   "execution_count": null,
   "id": "2230a6d0",
   "metadata": {},
   "outputs": [],
   "source": []
  }
 ],
 "metadata": {
  "kernelspec": {
   "display_name": "Python 3",
   "language": "python",
   "name": "python3"
  },
  "language_info": {
   "codemirror_mode": {
    "name": "ipython",
    "version": 3
   },
   "file_extension": ".py",
   "mimetype": "text/x-python",
   "name": "python",
   "nbconvert_exporter": "python",
   "pygments_lexer": "ipython3",
   "version": "3.8.8"
  },
  "toc": {
   "base_numbering": 1,
   "nav_menu": {},
   "number_sections": true,
   "sideBar": true,
   "skip_h1_title": false,
   "title_cell": "Table of Contents",
   "title_sidebar": "Contents",
   "toc_cell": false,
   "toc_position": {},
   "toc_section_display": true,
   "toc_window_display": true
  },
  "varInspector": {
   "cols": {
    "lenName": 16,
    "lenType": 16,
    "lenVar": 40
   },
   "kernels_config": {
    "python": {
     "delete_cmd_postfix": "",
     "delete_cmd_prefix": "del ",
     "library": "var_list.py",
     "varRefreshCmd": "print(var_dic_list())"
    },
    "r": {
     "delete_cmd_postfix": ") ",
     "delete_cmd_prefix": "rm(",
     "library": "var_list.r",
     "varRefreshCmd": "cat(var_dic_list()) "
    }
   },
   "types_to_exclude": [
    "module",
    "function",
    "builtin_function_or_method",
    "instance",
    "_Feature"
   ],
   "window_display": false
  }
 },
 "nbformat": 4,
 "nbformat_minor": 5
}
