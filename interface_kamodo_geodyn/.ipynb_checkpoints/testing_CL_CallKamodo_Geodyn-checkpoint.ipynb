{
 "cells": [
  {
   "cell_type": "markdown",
   "id": "5da3e60d",
   "metadata": {},
   "source": [
    "## This notebook is used to test and develop the integration of Kamodo into GEODYN\n",
    "\n",
    "\n",
    "- We make a some critical modifications to GEODYN for the purpose of quick testing:\n",
    "    1. We use a much lager `STEP` size to go through the runs faster.  \n",
    "       `15.00 (m)  ->  60.00 (m)`\n",
    "    \n"
   ]
  },
  {
   "cell_type": "markdown",
   "id": "87e3264b",
   "metadata": {},
   "source": [
    "## Run flow of Pygeodyn to call fortran which subsequently calls python\n",
    "\n",
    "GEODYN is split into two programs: 1) `IIS` which is a scheduler to organize files and inputs, and 2) `IIE` which is an execution of the orbit determination program.\n",
    "\n",
    "\n",
    "From Jupyter Notebook:  \n",
    "  1. Initialize an Pygeodyn Object and tell it to run a prepared geodyn simulation \n",
    "      ```\n",
    "      Obj_Geodyn = Pygeodyn(run_params1)\n",
    "      Obj_Geodyn.RUN_GEODYN()\n",
    "      ```\n",
    "      1. `RUN_GEODYN()` calls functions in the `PygeodynController()` class to organizes the inputs in python and prepare them in a temporary directory.\n",
    "         1.  From a temporary directory python sends a command to the command line to execute the already compiled fortran executable.\n",
    "          - run IIS first:\n",
    "          ```\n",
    "          command_IIS = self.G2SDIR+'/giis2002_gfortran > '+'iisout 2> '+'iiserr'\n",
    "          subprocess.run(command_IIS, shell = True)\n",
    "          ```\n",
    "          - run IIE after IIS:\n",
    "          ```\n",
    "          command_IIE = self.G2EDIR+'/giie2002_gfortran > '+'iieout 2> '+'iieerr'\n",
    "          subprocess.run(command_IIE, shell = True)\n",
    "          ```\n",
    "            1. Within the `IIE` fortran executable, the entire orbit propagation takes place. Dynamic arrays are built and used to store changing variables from each subroutine.  Seemingly mysterious inputs and outputs are passed into and out of each subroutine this way.\n",
    "                1.  In the `DRAG.F90` a density model is indexed at every timestep of the orbit.  This doesn't happen all at once-- a single timestep is given to drag which grabs a density from a model calcualtes the drag acceleration at that timestep and returns the drag acceleration to the to the higher levels of subroutines for further calculating the Variational and normal equations in sequence with the other accelerations at that timestep.  These values are used to propagate the satellite forward one timestep and then repeat the process. All of this is to say that in practice, we must index the density models with a single ephemeris point instead of with an array of values.\n",
    "                    1. `DRAG.f90` calls `KamodoModels.f90` which uses `EXECUTE_COMMAND_LINE(\"python SingleSatelliteFlythrough TIEGCM lon lat alt (etc.) \")` to call the single point of density from Kamodo-TIEGCM Reader.\n",
    "\n",
    "\n",
    "**IN SUMMARY**:\n",
    "- From python send `subprocess.run()` command to execute `Fortran` executable. (Python is now waiting in the background)\n",
    "  - From `Fortran` run a shell command with `EXECUTE_COMMAND_LINE()` to run the `python script`\n",
    "         \n"
   ]
  },
  {
   "cell_type": "code",
   "execution_count": null,
   "id": "05314924",
   "metadata": {},
   "outputs": [],
   "source": []
  },
  {
   "cell_type": "code",
   "execution_count": 1,
   "id": "d111d952",
   "metadata": {
    "ExecuteTime": {
     "end_time": "2021-09-03T14:51:18.488168Z",
     "start_time": "2021-09-03T14:50:08.923267Z"
    }
   },
   "outputs": [
    {
     "name": "stdout",
     "output_type": "stream",
     "text": [
      "The autoreload extension is already loaded. To reload it, use:\n",
      "  %reload_ext autoreload\n",
      "                      ......... RUNNING GEODYN\n",
      "Run # 1     Current Time =      14:50:10\n",
      "Run # 1\n",
      "Run # 1     Cleaning iisset... :    /data/data_geodyn/inputs/icesat2/setups/iisset.2018.336.bz2\n",
      "Epoch Start:  2018-12-01 21:00:00\n",
      "+ ———————————————————————————————————————————————————————————————————————————————————————————————————————————————————————\n",
      "|\n",
      "| ---------------------- Some run information ----------------------\n",
      "|\n",
      "|  Run # 1     IISSET Cleaned      tmp/.../cleaned_setup_2018336\n",
      "|  Run # 1     Density Model:      tiegcm_cl\n",
      "|  Run # 1     GEODYN Version:     Kamodo_pygeodyn_MODS\n",
      "|  Run # 1     ARC run:            icesat2_2018336_54hr.tiegcm_cl\n",
      "|  Run # 1     Output directory:   /data/data_geodyn/results/icesat2/tiegcm_cl/tiegcm_cl_acceloffPCE_kamodo_interface\n",
      "|  Run # 1     EXAT File:          /data/data_geodyn/inputs/icesat2/external_attitude/EXAT01.2018.336.gz\n",
      "|\n",
      "+ ———————————————————————————————————————————————————————————————————————————————————————————————————————————————————————\n",
      "\n",
      "Run # 1          Running IIS\n",
      "Run # 1          No errors in IIS\n",
      "Run # 1 ---------End of IIS\n",
      "\n",
      "Run # 1          Running IIE\n",
      "Run # 1          Current Time = 14:51:12\n",
      "ERRORS FOUND IN IIE: /data/data_geodyn/tmp/tiegcm_cl_acceloffPCE_kamodo_interface/icesat2_2018336_54hr.tiegcm_cl/iieerr\n",
      "Traceback (most recent call last):\n",
      "  File \"/data/geodyn_proj/interface_kamodo_geodyn/Kamodo/kamodo/flythrough/SingleSatelliteFlythrough.py\", line 215, in <module>\n",
      "    results = SingleModelFlythrough(model, file_dir, variable_list, \n",
      "  File \"/data/geodyn_proj/interface_kamodo_geodyn/Kamodo/kamodo/flythrough/SingleSatelliteFlythrough.py\", line 132, in SingleModelFlythrough\n",
      "    dz = [int(dz)]\n",
      "TypeError: int() argument must be a string, a bytes-like object or a number, not 'list'\n",
      "STOP 16\n",
      "\n",
      "Run # 1          Time of IIE:  5.270802736282349 secs ( 0.08784671227137247  mins)\n",
      "Run # 1          Current Time = 14:51:18\n",
      "Run # 1                Finished renaming files\n",
      "Run # 1                Finished copying files to outputdir\n",
      "        Deleting:  tiegcm_cl_acceloffPCE_kamodo_interface\n"
     ]
    }
   ],
   "source": [
    "%load_ext autoreload\n",
    "%autoreload 2\n",
    "import copy\n",
    "import time\n",
    "import sys  \n",
    "\n",
    "\n",
    "sys.path.insert(0, '/data/geodyn_proj/pygeodyn/pygeodyn_develop/')\n",
    "from PYGEODYN import Pygeodyn\n",
    "\n",
    "\n",
    "### Identify which arcs you want to run:\n",
    "arcs_files = [ \n",
    "            '2018.336',  # 1\n",
    "             ]\n",
    "\n",
    "#------ A dictionary containing the run parameters ------  \n",
    "run_params = {} \n",
    "run_params['arc']              =   arcs_files\n",
    "run_params['satellite']        =  'icesat2'  \n",
    "run_params['den_model']        =  'tiegcm_cl'  \n",
    "run_params['SpecialRun_name']  =  'CL_kamodo_interface'  \n",
    "run_params['verbose']          =  False\n",
    "\n",
    "\n",
    "%load_ext autoreload\n",
    "%autoreload 2\n",
    "\n",
    "import pickle \n",
    "sys.path.insert(0, '/data/geodyn_proj/pygeodyn/pygeodyn_develop/')\n",
    "from PYGEODYN import Pygeodyn\n",
    "\n",
    "for imodel,val_model in enumerate( ['tiegcm_cl']):\n",
    "    run_params1 = copy.deepcopy(run_params)\n",
    "    run_params1['den_model']  =  val_model  \n",
    "    run_params1['action']           =  'run'\n",
    "\n",
    "    ### Load the data into an object\n",
    "    Obj_Geodyn = Pygeodyn(run_params1)\n",
    "    Obj_Geodyn.RUN_GEODYN()\n",
    "    del Obj_Geodyn\n",
    "    "
   ]
  },
  {
   "cell_type": "code",
   "execution_count": null,
   "id": "387459f0",
   "metadata": {
    "ExecuteTime": {
     "end_time": "2021-08-23T23:14:44.899647Z",
     "start_time": "2021-08-23T23:14:31.406429Z"
    }
   },
   "outputs": [],
   "source": []
  },
  {
   "cell_type": "code",
   "execution_count": null,
   "id": "f31261b8",
   "metadata": {
    "ExecuteTime": {
     "start_time": "2021-08-30T23:59:53.956Z"
    }
   },
   "outputs": [
    {
     "name": "stdout",
     "output_type": "stream",
     "text": [
      "The autoreload extension is already loaded. To reload it, use:\n",
      "  %reload_ext autoreload\n",
      "                      ......... READING GEODYN output\n"
     ]
    }
   ],
   "source": [
    "%load_ext autoreload\n",
    "%autoreload 2\n",
    "\n",
    "# import pickle \n",
    "# sys.path.insert(0, '/data/geodyn_proj/pygeodyn/pygeodyn_develop/')\n",
    "# from PYGEODYN import Pygeodyn\n",
    "\n",
    "for imodel,val_model in enumerate( ['tiegcm']):\n",
    "    read_params = copy.deepcopy(run_params)\n",
    "    read_params['den_model']  =  val_model  \n",
    "    read_params['action']  =  'read'  \n",
    "    read_params['request_data']      = ['AdjustedParams',\n",
    "                                        'Trajectory_orbfil',\n",
    "                                        'Density',\n",
    "                                        'Residuals_obs',\n",
    "                                        'Residuals_summary',\n",
    "                                        ]\n",
    "\n",
    "    ### Load the data into an object\n",
    "    Obj_Geodyn = Pygeodyn(read_params)\n",
    "    Obj_Geodyn.getData()\n"
   ]
  },
  {
   "cell_type": "code",
   "execution_count": null,
   "id": "f536f44a",
   "metadata": {},
   "outputs": [],
   "source": []
  }
 ],
 "metadata": {
  "kernelspec": {
   "display_name": "Python 3",
   "language": "python",
   "name": "python3"
  },
  "language_info": {
   "codemirror_mode": {
    "name": "ipython",
    "version": 3
   },
   "file_extension": ".py",
   "mimetype": "text/x-python",
   "name": "python",
   "nbconvert_exporter": "python",
   "pygments_lexer": "ipython3",
   "version": "3.8.8"
  },
  "toc": {
   "base_numbering": 1,
   "nav_menu": {},
   "number_sections": true,
   "sideBar": true,
   "skip_h1_title": false,
   "title_cell": "Table of Contents",
   "title_sidebar": "Contents",
   "toc_cell": false,
   "toc_position": {},
   "toc_section_display": true,
   "toc_window_display": false
  },
  "varInspector": {
   "cols": {
    "lenName": 16,
    "lenType": 16,
    "lenVar": 40
   },
   "kernels_config": {
    "python": {
     "delete_cmd_postfix": "",
     "delete_cmd_prefix": "del ",
     "library": "var_list.py",
     "varRefreshCmd": "print(var_dic_list())"
    },
    "r": {
     "delete_cmd_postfix": ") ",
     "delete_cmd_prefix": "rm(",
     "library": "var_list.r",
     "varRefreshCmd": "cat(var_dic_list()) "
    }
   },
   "types_to_exclude": [
    "module",
    "function",
    "builtin_function_or_method",
    "instance",
    "_Feature"
   ],
   "window_display": false
  }
 },
 "nbformat": 4,
 "nbformat_minor": 5
}
