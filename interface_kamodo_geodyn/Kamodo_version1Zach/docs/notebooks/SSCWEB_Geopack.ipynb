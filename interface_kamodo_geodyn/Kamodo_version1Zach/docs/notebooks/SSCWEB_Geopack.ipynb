{
 "cells": [
  {
   "cell_type": "markdown",
   "metadata": {},
   "source": [
    "## SSCWeb trajectory: \n",
    "\n"
   ]
  },
  {
   "cell_type": "code",
   "execution_count": 15,
   "metadata": {},
   "outputs": [
    {
     "name": "stdout",
     "output_type": "stream",
     "text": [
      "The autoreload extension is already loaded. To reload it, use:\n",
      "  %reload_ext autoreload\n"
     ]
    }
   ],
   "source": [
    "%load_ext autoreload\n",
    "%autoreload 2"
   ]
  },
  {
   "cell_type": "code",
   "execution_count": 16,
   "metadata": {},
   "outputs": [],
   "source": [
    "import numpy as np\n",
    "import pandas as pd\n",
    "import os\n",
    "import scipy\n",
    "import scipy.constants as constants\n",
    "from scipy import interpolate\n",
    "from scipy.interpolate import RegularGridInterpolator\n",
    "import math\n",
    "import time\n",
    "from kamodo import Kamodo, kamodofy\n",
    "import kamodo\n",
    "from datetime import datetime,timezone,timedelta"
   ]
  },
  {
   "cell_type": "code",
   "execution_count": 17,
   "metadata": {},
   "outputs": [],
   "source": [
    "from readers.sscweb_trajectory import SSCWEB_Trajectory"
   ]
  },
  {
   "cell_type": "code",
   "execution_count": 18,
   "metadata": {},
   "outputs": [
    {
     "name": "stdout",
     "output_type": "stream",
     "text": [
      "Obtaining trajectory from SSCWeb for goes15\n",
      "variable: X unit: km data.size: 71\n",
      "variable: Y unit: km data.size: 71\n",
      "variable: Z unit: km data.size: 71\n",
      "variable: Xvec unit: km data.size: 213\n"
     ]
    }
   ],
   "source": [
    "traj=SSCWEB_Trajectory('goes15',(2018,11,20,20,25,0),(2018,11,20,23,59,0))"
   ]
  },
  {
   "cell_type": "markdown",
   "metadata": {},
   "source": [
    "## Use GEOPACK to perform coordinate transformations"
   ]
  },
  {
   "cell_type": "code",
   "execution_count": 19,
   "metadata": {},
   "outputs": [],
   "source": [
    "from geopack_transform import transform,seconds_from_19700101"
   ]
  },
  {
   "cell_type": "code",
   "execution_count": 20,
   "metadata": {},
   "outputs": [],
   "source": [
    "# GSE are Satellite data obtained via SSCWEB_trajectory are in GSE.\n",
    "# GSE is default for coord_in transform()\n",
    "# transform entire trajectory to GEO \n",
    "# using a different time stamp for each vertex along the trajectory:\n",
    "Xvec_data_GEO=transform(Time=traj.Time,Xvec=traj.variables['Xvec']['data'],coord_out='GEO')"
   ]
  },
  {
   "cell_type": "code",
   "execution_count": 21,
   "metadata": {},
   "outputs": [],
   "source": [
    "Time=traj.Time"
   ]
  },
  {
   "cell_type": "code",
   "execution_count": 22,
   "metadata": {},
   "outputs": [],
   "source": [
    "Xvec=traj.Xvec(traj.Time)"
   ]
  },
  {
   "cell_type": "code",
   "execution_count": 23,
   "metadata": {},
   "outputs": [],
   "source": [
    "# transform a trajectory to GSM\n",
    "Xvec_GSM=transform(Xvec=Xvec,Time=Time,coord_in='GSE',coord_out='GSM')"
   ]
  },
  {
   "cell_type": "code",
   "execution_count": 24,
   "metadata": {},
   "outputs": [
    {
     "data": {
      "text/plain": [
       "datetime.datetime(2018, 11, 20, 20, 27, tzinfo=tzutc())"
      ]
     },
     "execution_count": 24,
     "metadata": {},
     "output_type": "execute_result"
    }
   ],
   "source": [
    "Time[0]"
   ]
  },
  {
   "cell_type": "code",
   "execution_count": 25,
   "metadata": {},
   "outputs": [
    {
     "data": {
      "text/plain": [
       "array([39662.3330457 , -1607.46417177, 14154.85507733])"
      ]
     },
     "execution_count": 25,
     "metadata": {},
     "output_type": "execute_result"
    }
   ],
   "source": [
    "Xvec[0,:]"
   ]
  },
  {
   "cell_type": "code",
   "execution_count": 26,
   "metadata": {},
   "outputs": [
    {
     "data": {
      "text/plain": [
       "[39662.333045704676, -479.56823692406124, 14237.76238142179]"
      ]
     },
     "execution_count": 26,
     "metadata": {},
     "output_type": "execute_result"
    }
   ],
   "source": [
    "Xvec_GSM[:][0]"
   ]
  },
  {
   "cell_type": "code",
   "execution_count": 27,
   "metadata": {},
   "outputs": [],
   "source": [
    "# test will show if transformation and reverse transformation result in the same vector\n",
    "# the default vector is [0.,0.,1.]\n",
    "# this vector is the same in GEO and GEI, which differ only by a rotation around the Z-axis\n",
    "# the vector returned after the inverse transformation should differ from \n",
    "# the original only by the numerical roundoff error\n",
    "def test_geopack_convert():\n",
    "    coords=['GSE','GSM','SM','MAG','GEO','GEI']\n",
    "    Time=np.array([datetime(2018,11,20,21,25,0,tzinfo=timezone.utc)])\n",
    "\n",
    "    print(Time)\n",
    "    xyz_in=np.array([[0.,0.,1.]])\n",
    "    for coord_in in coords:\n",
    "        for coord_out in coords:\n",
    "            if coord_in != coord_out:\n",
    "                xyz_out=transform(xyz_in,debug=True,Time=Time,coord_in=coord_in,coord_out=coord_out)\n",
    "                xyz_in2=transform(xyz_out,Time=Time,coord_in=coord_out,coord_out=coord_in)\n",
    "                \n",
    "                print('in: ',coord_in,' out: ',coord_out)\n",
    "                print(xyz_in)  # input position vector\n",
    "                print(xyz_out) # position vector in new coordinate system\n",
    "                print(xyz_in2) # this should be the original vector\n",
    "                "
   ]
  },
  {
   "cell_type": "code",
   "execution_count": 28,
   "metadata": {
    "scrolled": false
   },
   "outputs": [
    {
     "name": "stdout",
     "output_type": "stream",
     "text": [
      "[datetime.datetime(2018, 11, 20, 21, 25, tzinfo=datetime.timezone.utc)]\n",
      "2018-11-20 21:25:00+00:00\n",
      "1542749100.0\n",
      "psi= -0.2901445844736547\n",
      "in:  GSE  out:  GSM\n",
      "[[0. 0. 1.]]\n",
      "[[0.0, 0.05876639828690128, 0.9982717618125765]]\n",
      "[[0.0, 0.0, 1.0000000000000002]]\n",
      "2018-11-20 21:25:00+00:00\n",
      "1542749100.0\n",
      "psi= -0.2901445844736547\n",
      "in:  GSE  out:  SM\n",
      "[[0. 0. 1.]]\n",
      "[[0.2855963363092814, 0.05876639828690128, 0.9565465190564969]]\n",
      "[[0.0, 6.938893903907228e-18, 1.0]]\n",
      "2018-11-20 21:25:00+00:00\n",
      "1542749100.0\n",
      "psi= -0.2901445844736547\n",
      "in:  GSE  out:  MAG\n",
      "[[0. 0. 1.]]\n",
      "[[0.1579242866530239, -0.24510951953368185, 0.9565465190564969]]\n",
      "[[5.551115123125783e-17, -6.938893903907228e-17, 0.9999999999999999]]\n",
      "2018-11-20 21:25:00+00:00\n",
      "1542749100.0\n",
      "psi= -0.2901445844736547\n",
      "in:  GSE  out:  GEO\n",
      "[[0. 0. 1.]]\n",
      "[[-0.1431364038714405, -0.37108394162844693, 0.9175013232427773]]\n",
      "[[-5.551115123125783e-17, -4.85722573273506e-17, 1.0]]\n",
      "2018-11-20 21:25:00+00:00\n",
      "1542749100.0\n",
      "psi= -0.2901445844736547\n",
      "in:  GSE  out:  GEI\n",
      "[[0. 0. 1.]]\n",
      "[[-5.551115123125783e-17, -0.3977327266491315, 0.9175013232427773]]\n",
      "[[0.0, 0.0, 1.0000000000000002]]\n",
      "2018-11-20 21:25:00+00:00\n",
      "1542749100.0\n",
      "psi= -0.2901445844736547\n",
      "in:  GSM  out:  GSE\n",
      "[[0. 0. 1.]]\n",
      "[[0.0, -0.05876639828690128, 0.9982717618125765]]\n",
      "[[0.0, 0.0, 1.0000000000000002]]\n",
      "2018-11-20 21:25:00+00:00\n",
      "1542749100.0\n",
      "psi= -0.2901445844736547\n",
      "in:  GSM  out:  SM\n",
      "[[0. 0. 1.]]\n",
      "[[0.2860907693018582, 0.0, 0.958202521244998]]\n",
      "[[0.0, 0.0, 1.0]]\n",
      "2018-11-20 21:25:00+00:00\n",
      "1542749100.0\n",
      "psi= -0.2901445844736547\n",
      "in:  GSM  out:  MAG\n",
      "[[0. 0. 1.]]\n",
      "[[-0.10888156841481998, -0.017133714737089238, 0.9939070579681165]]\n",
      "[[-0.30670913801540584, -0.10772255063660002, 0.945687769161784]]\n",
      "2018-11-20 21:25:00+00:00\n",
      "1542749100.0\n",
      "psi= -0.2901445844736547\n",
      "in:  GSM  out:  GEO\n",
      "[[0. 0. 1.]]\n",
      "[[-0.1795038142396681, -0.32612845667750345, 0.928126397867532]]\n",
      "[[0.0, -5.551115123125783e-17, 0.9999999999999999]]\n",
      "2018-11-20 21:25:00+00:00\n",
      "1542749100.0\n",
      "psi= -0.2901445844736547\n",
      "in:  GSM  out:  GEI\n",
      "[[0. 0. 1.]]\n",
      "[[-0.05010935007623267, -0.3688772731090614, 0.928126397867532]]\n",
      "[[0.0, -5.551115123125783e-17, 0.9999999999999999]]\n",
      "2018-11-20 21:25:00+00:00\n",
      "1542749100.0\n",
      "psi= -0.2901445844736547\n",
      "in:  SM  out:  GSE\n",
      "[[0. 0. 1.]]\n",
      "[[-0.2860907693018582, -0.05631011100299654, 0.9565465190564969]]\n",
      "[[5.551115123125783e-17, 0.0, 1.0]]\n",
      "2018-11-20 21:25:00+00:00\n",
      "1542749100.0\n",
      "psi= -0.2901445844736547\n",
      "in:  SM  out:  GSM\n",
      "[[0. 0. 1.]]\n",
      "[[-0.2860907693018582, 0.0, 0.958202521244998]]\n",
      "[[0.0, 0.0, 1.0]]\n",
      "2018-11-20 21:25:00+00:00\n",
      "1542749100.0\n",
      "psi= -0.2901445844736547\n",
      "in:  SM  out:  MAG\n",
      "[[0. 0. 1.]]\n",
      "[[0.0, 0.0, 1.0]]\n",
      "[[0.0, 0.0, 1.0]]\n",
      "2018-11-20 21:25:00+00:00\n",
      "1542749100.0\n",
      "psi= -0.2901445844736547\n",
      "in:  SM  out:  GEO\n",
      "[[0. 0. 1.]]\n",
      "[[0.047993793846839196, -0.15746062240193084, 0.9863583264437846]]\n",
      "[[1.0021924903815286e-17, 2.5883063941063493e-17, 0.9999999999999999]]\n",
      "2018-11-20 21:25:00+00:00\n",
      "1542749100.0\n",
      "psi= -0.2901445844736547\n",
      "in:  SM  out:  GEI\n",
      "[[0. 0. 1.]]\n",
      "[[0.10144519355067624, -0.12963843782027837, 0.9863583264437846]]\n",
      "[[-0.05917233610407402, 0.01124564164553289, 0.9981844369574024]]\n",
      "2018-11-20 21:25:00+00:00\n",
      "1542749100.0\n",
      "psi= -0.2901445844736547\n",
      "in:  MAG  out:  GSE\n",
      "[[0. 0. 1.]]\n",
      "[[-0.2860907693018582, -0.056310111002996564, 0.9565465190564969]]\n",
      "[[0.0, -2.7755575615628914e-17, 0.9999999999999999]]\n",
      "2018-11-20 21:25:00+00:00\n",
      "1542749100.0\n",
      "psi= -0.2901445844736547\n",
      "in:  MAG  out:  GSM\n",
      "[[0. 0. 1.]]\n",
      "[[-0.2860907693018582, -2.7755575615628914e-17, 0.958202521244998]]\n",
      "[[-0.18660429140314866, -0.29007874242424, 0.9386336674248906]]\n",
      "2018-11-20 21:25:00+00:00\n",
      "1542749100.0\n",
      "psi= -0.2901445844736547\n",
      "in:  MAG  out:  SM\n",
      "[[0. 0. 1.]]\n",
      "[[0.0, 0.0, 1.0]]\n",
      "[[0.0, 0.0, 1.0]]\n",
      "2018-11-20 21:25:00+00:00\n",
      "1542749100.0\n",
      "psi= -0.2901445844736547\n",
      "in:  MAG  out:  GEO\n",
      "[[0. 0. 1.]]\n",
      "[[0.047993793846839196, -0.15746062240193084, 0.9863583264437846]]\n",
      "[[2.7755575615628914e-17, 0.0, 0.9999999999999999]]\n",
      "2018-11-20 21:25:00+00:00\n",
      "1542749100.0\n",
      "psi= -0.2901445844736547\n",
      "in:  MAG  out:  GEI\n",
      "[[0. 0. 1.]]\n",
      "[[0.10144519355067624, -0.12963843782027837, 0.9863583264437846]]\n",
      "[[0.0479937938468392, -0.15746062240193084, 0.9863583264437846]]\n",
      "2018-11-20 21:25:00+00:00\n",
      "1542749100.0\n",
      "psi= -0.2901445844736547\n",
      "in:  GEO  out:  GSE\n",
      "[[0. 0. 1.]]\n",
      "[[-0.3391415675865605, -0.20778430879804946, 0.9175013232427773]]\n",
      "[[-5.551115123125783e-17, 5.551115123125783e-17, 1.0]]\n",
      "2018-11-20 21:25:00+00:00\n",
      "1542749100.0\n",
      "psi= -0.2901445844736547\n",
      "in:  GEO  out:  GSM\n",
      "[[0. 0. 1.]]\n",
      "[[-0.3391415675865605, -0.15350695983039325, 0.928126397867532]]\n",
      "[[-2.7755575615628914e-17, 5.551115123125783e-17, 0.9999999999999999]]\n",
      "2018-11-20 21:25:00+00:00\n",
      "1542749100.0\n",
      "psi= -0.2901445844736547\n",
      "in:  GEO  out:  SM\n",
      "[[0. 0. 1.]]\n",
      "[[-0.05943790994513839, -0.15350695983039322, 0.9863583264437846]]\n",
      "[[0.0, -2.7755575615628914e-17, 0.9999999999999999]]\n",
      "2018-11-20 21:25:00+00:00\n",
      "1542749100.0\n",
      "psi= -0.2901445844736547\n",
      "in:  GEO  out:  MAG\n",
      "[[0. 0. 1.]]\n",
      "[[-0.16461242922396943, 0.0, 0.9863583264437846]]\n",
      "[[-6.938893903907228e-18, 0.0, 0.9999999999999999]]\n",
      "2018-11-20 21:25:00+00:00\n",
      "1542749100.0\n",
      "psi= -0.2901445844736547\n",
      "in:  GEO  out:  GEI\n",
      "[[0. 0. 1.]]\n",
      "[[0.0, 0.0, 1.0]]\n",
      "[[0.0, 0.0, 1.0]]\n",
      "2018-11-20 21:25:00+00:00\n",
      "1542749100.0\n",
      "psi= -0.2901445844736547\n",
      "in:  GEI  out:  GSE\n",
      "[[0. 0. 1.]]\n",
      "[[-0.3391415675865605, -0.20778430879804946, 0.9175013232427773]]\n",
      "[[-7.176920945309953e-17, 3.1814405487393336e-17, 1.0]]\n",
      "2018-11-20 21:25:00+00:00\n",
      "1542749100.0\n",
      "psi= -0.2901445844736547\n",
      "in:  GEI  out:  GSM\n",
      "[[0. 0. 1.]]\n",
      "[[-0.3391415675865605, -0.15350695983039325, 0.928126397867532]]\n",
      "[[-4.587330571797632e-17, 4.180310647881988e-17, 0.9999999999999999]]\n",
      "2018-11-20 21:25:00+00:00\n",
      "1542749100.0\n",
      "psi= -0.2901445844736547\n",
      "in:  GEI  out:  SM\n",
      "[[0. 0. 1.]]\n",
      "[[-0.05943790994513839, -0.15350695983039322, 0.9863583264437846]]\n",
      "[[9.98870099142655e-18, -2.5895903735123218e-17, 0.9999999999999999]]\n",
      "2018-11-20 21:25:00+00:00\n",
      "1542749100.0\n",
      "psi= -0.2901445844736547\n",
      "in:  GEI  out:  MAG\n",
      "[[0. 0. 1.]]\n",
      "[[0.0, 0.0, 1.0]]\n",
      "[[0.10144519355067624, -0.12963843782027837, 0.9863583264437846]]\n",
      "2018-11-20 21:25:00+00:00\n",
      "1542749100.0\n",
      "psi= -0.2901445844736547\n",
      "in:  GEI  out:  GEO\n",
      "[[0. 0. 1.]]\n",
      "[[0.0, 0.0, 1.0]]\n",
      "[[0.0, 0.0, 1.0]]\n"
     ]
    }
   ],
   "source": [
    "test_geopack_convert()\n",
    "# debug=True shows the first time stamp, seconds from Jan. 1, 1970 00:00 UT\n",
    "# and the resulting psi (tilt angle) value from Geopack's recalc().\n",
    "# The test will show the input and output coordinate systems,\n",
    "# the start position, transformed position and \n",
    "# the position after reversing the transformation,\n",
    "# which should be nearly identical to the original position."
   ]
  },
  {
   "cell_type": "code",
   "execution_count": null,
   "metadata": {},
   "outputs": [],
   "source": []
  }
 ],
 "metadata": {
  "kernelspec": {
   "display_name": "Python 3",
   "language": "python",
   "name": "python3"
  },
  "language_info": {
   "codemirror_mode": {
    "name": "ipython",
    "version": 3
   },
   "file_extension": ".py",
   "mimetype": "text/x-python",
   "name": "python",
   "nbconvert_exporter": "python",
   "pygments_lexer": "ipython3",
   "version": "3.7.3"
  }
 },
 "nbformat": 4,
 "nbformat_minor": 2
}
