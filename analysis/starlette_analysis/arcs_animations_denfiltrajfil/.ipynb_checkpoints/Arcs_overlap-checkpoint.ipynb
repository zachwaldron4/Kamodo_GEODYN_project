{
 "cells": [
  {
   "cell_type": "markdown",
   "metadata": {},
   "source": [
    "This notebook is used to read in the separate arcs of the GEODYN run.\n",
    "\n",
    "\n",
    "Currently, the file various setups must be adjusted to run multiple arcs....\n",
    "* this appears to be more complicated than we originally thought"
   ]
  },
  {
   "cell_type": "code",
   "execution_count": 3,
   "metadata": {},
   "outputs": [
    {
     "name": "stdout",
     "output_type": "stream",
     "text": [
      "The autoreload extension is already loaded. To reload it, use:\n",
      "  %reload_ext autoreload\n",
      "The base file name for this arc is: st030928_2wk.goco05s\n",
      "File exists: iieout /data/runs_geodyn/st/results/goco05s_msis86/IIEOUT/st030928_2wk.goco05s\n"
     ]
    },
    {
     "ename": "ValueError",
     "evalue": "",
     "output_type": "error",
     "traceback": [
      "\u001b[0;31m---------------------------------------------------------------------------\u001b[0m",
      "\u001b[0;31mValueError\u001b[0m                                Traceback (most recent call last)",
      "\u001b[0;32m<ipython-input-3-9de64c071972>\u001b[0m in \u001b[0;36m<module>\u001b[0;34m\u001b[0m\n\u001b[1;32m     45\u001b[0m \u001b[0;31m#                                                            path_to_msis86)\u001b[0m\u001b[0;34m\u001b[0m\u001b[0;34m\u001b[0m\u001b[0;34m\u001b[0m\u001b[0m\n\u001b[1;32m     46\u001b[0m \u001b[0;34m\u001b[0m\u001b[0m\n\u001b[0;32m---> 47\u001b[0;31m AdjustedParams_arc2, Trajectory_arc2, Density_arc2, Resids_arc2  = ReadStarlette(arc2, \n\u001b[0m\u001b[1;32m     48\u001b[0m                                                            \u001b[0msat_file\u001b[0m\u001b[0;34m,\u001b[0m\u001b[0;34m\u001b[0m\u001b[0;34m\u001b[0m\u001b[0m\n\u001b[1;32m     49\u001b[0m                                                            \u001b[0mgrav_id\u001b[0m\u001b[0;34m,\u001b[0m\u001b[0;34m\u001b[0m\u001b[0;34m\u001b[0m\u001b[0m\n",
      "\u001b[0;32m/data/analysis/util_funcs/py_starlette/a_ReadStarlette.py\u001b[0m in \u001b[0;36mReadStarlette\u001b[0;34m(arc, sat_file, grav_id, local_path, path_to_data)\u001b[0m\n\u001b[1;32m     40\u001b[0m         \u001b[0mprint\u001b[0m\u001b[0;34m(\u001b[0m\u001b[0;34m'File exists: ascii_xyz'\u001b[0m\u001b[0;34m,\u001b[0m\u001b[0mascii_xyz_file\u001b[0m\u001b[0;34m)\u001b[0m\u001b[0;34m\u001b[0m\u001b[0;34m\u001b[0m\u001b[0m\n\u001b[1;32m     41\u001b[0m     \u001b[0;32melse\u001b[0m\u001b[0;34m:\u001b[0m\u001b[0;34m\u001b[0m\u001b[0;34m\u001b[0m\u001b[0m\n\u001b[0;32m---> 42\u001b[0;31m         \u001b[0;32mraise\u001b[0m \u001b[0mValueError\u001b[0m\u001b[0;34m\u001b[0m\u001b[0;34m\u001b[0m\u001b[0m\n\u001b[0m\u001b[1;32m     43\u001b[0m         \u001b[0mprint\u001b[0m\u001b[0;34m(\u001b[0m\u001b[0;34m'Not the correct path for file: ascii_xyz'\u001b[0m \u001b[0;34m)\u001b[0m\u001b[0;34m\u001b[0m\u001b[0;34m\u001b[0m\u001b[0m\n\u001b[1;32m     44\u001b[0m \u001b[0;34m\u001b[0m\u001b[0m\n",
      "\u001b[0;31mValueError\u001b[0m: "
     ]
    }
   ],
   "source": [
    "import numpy as np\n",
    "import pandas as pd\n",
    "%load_ext autoreload\n",
    "%autoreload 2\n",
    "\n",
    "\n",
    "\n",
    "##################################\n",
    "# INPUT PARAMETERS:\n",
    "##################################\n",
    "sat_file = 'starlette'\n",
    "SAT_ID = 7501001\n",
    "arc1 = '030914_2wk'\n",
    "arc2 = '030928_2wk'\n",
    "\n",
    "grav_id ='goco05s' \n",
    "local_path = '/data/analysis/starlette_analysis/'\n",
    "\n",
    "\n",
    "##################################\n",
    "# PATH TO DENSITY MODEL RUNS:\n",
    "##################################\n",
    "\n",
    "msis86_model = 'msis86'\n",
    "path_to_msis86 = '/data/runs_geodyn/st/results/'+ grav_id+'_'+msis86_model+'/'\n",
    "\n",
    "dtm87_model = 'dtm87'\n",
    "path_to_dtm87 = '/data/runs_geodyn/st/results/'+ grav_id+'_'+dtm87_model+'/'\n",
    "\n",
    "jaachia71_model = 'jaachia71'\n",
    "path_to_jaachia71 = '/data/runs_geodyn/st/results/'+ grav_id+'_'+jaachia71_model+'/'\n",
    "\n",
    "import sys  \n",
    "sys.path.insert(0, '/data/analysis/util_funcs/py_starlette')\n",
    "from a_ReadStarlette import ReadStarlette\n",
    "\n",
    "##########################################\n",
    "# Load data from each density model run:\n",
    "##########################################\n",
    "\n",
    "# AdjustedParams_arc1, Trajectory_arc1, Density_arc1, Resids_arc1  = ReadStarlette(arc1, \n",
    "#                                                            sat_file,\n",
    "#                                                            grav_id, \n",
    "#                                                            local_path, \n",
    "#                                                            path_to_msis86)\n",
    "\n",
    "AdjustedParams_arc2, Trajectory_arc2, Density_arc2, Resids_arc2  = ReadStarlette(arc2, \n",
    "                                                           sat_file,\n",
    "                                                           grav_id, \n",
    "                                                           local_path, \n",
    "                                                           path_to_msis86)\n",
    "\n"
   ]
  },
  {
   "cell_type": "code",
   "execution_count": null,
   "metadata": {},
   "outputs": [],
   "source": []
  }
 ],
 "metadata": {
  "kernelspec": {
   "display_name": "Python 3",
   "language": "python",
   "name": "python3"
  },
  "language_info": {
   "codemirror_mode": {
    "name": "ipython",
    "version": 3
   },
   "file_extension": ".py",
   "mimetype": "text/x-python",
   "name": "python",
   "nbconvert_exporter": "python",
   "pygments_lexer": "ipython3",
   "version": "3.8.5"
  }
 },
 "nbformat": 4,
 "nbformat_minor": 4
}
