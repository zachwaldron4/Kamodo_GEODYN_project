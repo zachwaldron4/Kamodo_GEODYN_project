{
 "cells": [
  {
   "cell_type": "markdown",
   "metadata": {},
   "source": [
    "# A look at the adjusted accelerations\n",
    "\n",
    "First, we will read in the data. "
   ]
  },
  {
   "cell_type": "code",
   "execution_count": 26,
   "metadata": {},
   "outputs": [
    {
     "name": "stdout",
     "output_type": "stream",
     "text": [
      "\u001b[0m\u001b[38;5;27mgoco05s\u001b[0m/        \u001b[38;5;27mgoco05s_jaachia71\u001b[0m/  \u001b[38;5;27mgoco05s_msis86_acceloff\u001b[0m/\r\n",
      "\u001b[38;5;27mgoco05s_dtm87\u001b[0m/  \u001b[38;5;27mgoco05s_msis86\u001b[0m/     \u001b[38;5;27mgoco05s_msis86_accelon\u001b[0m/\r\n"
     ]
    }
   ],
   "source": [
    "ls ../../runs_geodyn/st/results/\n"
   ]
  },
  {
   "cell_type": "code",
   "execution_count": 27,
   "metadata": {
    "scrolled": true
   },
   "outputs": [
    {
     "name": "stdout",
     "output_type": "stream",
     "text": [
      "The autoreload extension is already loaded. To reload it, use:\n",
      "  %reload_ext autoreload\n",
      "The base file name for this arc is: st030914_2wk.goco05s \n",
      "\n",
      "File exists: iieout \n",
      "        /data/runs_geodyn/st/results/goco05s_msis86/IIEOUT/st030914_2wk.goco05s\n",
      "File exists: ascii_xyz \n",
      "        /data/runs_geodyn/st/results/goco05s_msis86/XYZ_TRAJ/st030914_2wk.goco05s\n",
      "File exists: densityfil \n",
      "        /data/runs_geodyn/st/results/goco05s_msis86/DENSITY/st030914_2wk.goco05s\n",
      "\n",
      " Loading data... \n",
      "\n",
      "Parameter adjustment data loaded\n",
      "Trajectory data loaded\n",
      "Density data loaded\n",
      "Residual data loaded\n",
      "The base file name for this arc is: st030914_2wk.goco05s \n",
      "\n",
      "File exists: iieout \n",
      "        /data/runs_geodyn/st/results/goco05s_msis86_acceloff/IIEOUT/st030914_2wk.goco05s\n",
      "File exists: ascii_xyz \n",
      "        /data/runs_geodyn/st/results/goco05s_msis86_acceloff/XYZ_TRAJ/st030914_2wk.goco05s\n",
      "File exists: densityfil \n",
      "        /data/runs_geodyn/st/results/goco05s_msis86_acceloff/DENSITY/st030914_2wk.goco05s\n",
      "\n",
      " Loading data... \n",
      "\n"
     ]
    },
    {
     "ename": "KeyboardInterrupt",
     "evalue": "",
     "output_type": "error",
     "traceback": [
      "\u001b[0;31m---------------------------------------------------------------------------\u001b[0m",
      "\u001b[0;31mKeyboardInterrupt\u001b[0m                         Traceback (most recent call last)",
      "\u001b[0;32m<ipython-input-27-3adaef598f59>\u001b[0m in \u001b[0;36m<module>\u001b[0;34m\u001b[0m\n\u001b[1;32m     38\u001b[0m  \u001b[0mTrajectory_acceloff\u001b[0m\u001b[0;34m,\u001b[0m\u001b[0;34m\u001b[0m\u001b[0;34m\u001b[0m\u001b[0m\n\u001b[1;32m     39\u001b[0m  \u001b[0mDensity_acceloff\u001b[0m\u001b[0;34m,\u001b[0m\u001b[0;34m\u001b[0m\u001b[0;34m\u001b[0m\u001b[0m\n\u001b[0;32m---> 40\u001b[0;31m  \u001b[0mResids_acceloff\u001b[0m\u001b[0;34m)\u001b[0m \u001b[0;34m=\u001b[0m \u001b[0mReadStarlette\u001b[0m\u001b[0;34m(\u001b[0m\u001b[0marc1\u001b[0m\u001b[0;34m,\u001b[0m\u001b[0;34m\u001b[0m\u001b[0;34m\u001b[0m\u001b[0m\n\u001b[0m\u001b[1;32m     41\u001b[0m                          \u001b[0msat_file\u001b[0m\u001b[0;34m,\u001b[0m\u001b[0;34m\u001b[0m\u001b[0;34m\u001b[0m\u001b[0m\n\u001b[1;32m     42\u001b[0m                          \u001b[0mgrav_id\u001b[0m\u001b[0;34m,\u001b[0m\u001b[0;34m\u001b[0m\u001b[0;34m\u001b[0m\u001b[0m\n",
      "\u001b[0;32m/data/analysis/util_funcs/py_starlette/a_ReadStarlette.py\u001b[0m in \u001b[0;36mReadStarlette\u001b[0;34m(arc, sat_file, grav_id, local_path, path_to_data)\u001b[0m\n\u001b[1;32m     60\u001b[0m     \u001b[0;31m######################################\u001b[0m\u001b[0;34m\u001b[0m\u001b[0;34m\u001b[0m\u001b[0;34m\u001b[0m\u001b[0m\n\u001b[1;32m     61\u001b[0m     \u001b[0;32mfrom\u001b[0m \u001b[0mb_ReadStarlette\u001b[0m \u001b[0;32mimport\u001b[0m \u001b[0mSave_AdjustedParameters_starlette\u001b[0m\u001b[0;34m\u001b[0m\u001b[0;34m\u001b[0m\u001b[0m\n\u001b[0;32m---> 62\u001b[0;31m     \u001b[0mSatMain_AdjustedParams\u001b[0m \u001b[0;34m=\u001b[0m \u001b[0mSave_AdjustedParameters_starlette\u001b[0m\u001b[0;34m(\u001b[0m\u001b[0mSAT_ID\u001b[0m\u001b[0;34m,\u001b[0m \u001b[0miieout_file\u001b[0m\u001b[0;34m)\u001b[0m\u001b[0;34m\u001b[0m\u001b[0;34m\u001b[0m\u001b[0m\n\u001b[0m\u001b[1;32m     63\u001b[0m \u001b[0;34m\u001b[0m\u001b[0m\n\u001b[1;32m     64\u001b[0m     \u001b[0mprint\u001b[0m\u001b[0;34m(\u001b[0m\u001b[0;34m'Parameter adjustment data loaded'\u001b[0m\u001b[0;34m)\u001b[0m\u001b[0;34m\u001b[0m\u001b[0;34m\u001b[0m\u001b[0m\n",
      "\u001b[0;32m/data/analysis/util_funcs/py_starlette/b_ReadStarlette.py\u001b[0m in \u001b[0;36mSave_AdjustedParameters_starlette\u001b[0;34m(Sat_main, iieout_file)\u001b[0m\n\u001b[1;32m     53\u001b[0m     \u001b[0mlines_timedep_cd\u001b[0m \u001b[0;34m=\u001b[0m \u001b[0;34m[\u001b[0m\u001b[0;34m]\u001b[0m\u001b[0;34m\u001b[0m\u001b[0;34m\u001b[0m\u001b[0m\n\u001b[1;32m     54\u001b[0m     \u001b[0;32mwith\u001b[0m \u001b[0mopen\u001b[0m\u001b[0;34m(\u001b[0m\u001b[0miieout_file\u001b[0m\u001b[0;34m,\u001b[0m \u001b[0;34m'r'\u001b[0m\u001b[0;34m)\u001b[0m \u001b[0;32mas\u001b[0m \u001b[0mf\u001b[0m\u001b[0;34m:\u001b[0m\u001b[0;34m\u001b[0m\u001b[0;34m\u001b[0m\u001b[0m\n\u001b[0;32m---> 55\u001b[0;31m         \u001b[0;32mfor\u001b[0m \u001b[0mline_no\u001b[0m\u001b[0;34m,\u001b[0m \u001b[0mline_text\u001b[0m \u001b[0;32min\u001b[0m \u001b[0menumerate\u001b[0m\u001b[0;34m(\u001b[0m\u001b[0mf\u001b[0m\u001b[0;34m)\u001b[0m\u001b[0;34m:\u001b[0m\u001b[0;34m\u001b[0m\u001b[0;34m\u001b[0m\u001b[0m\n\u001b[0m\u001b[1;32m     56\u001b[0m             \u001b[0;32mif\u001b[0m \u001b[0mtimedep_drag_text\u001b[0m \u001b[0;32min\u001b[0m \u001b[0mline_text\u001b[0m \u001b[0;34m:\u001b[0m\u001b[0;34m\u001b[0m\u001b[0;34m\u001b[0m\u001b[0m\n\u001b[1;32m     57\u001b[0m                 \u001b[0mlines_timedep_cd\u001b[0m\u001b[0;34m.\u001b[0m\u001b[0mappend\u001b[0m\u001b[0;34m(\u001b[0m\u001b[0mline_no\u001b[0m\u001b[0;34m)\u001b[0m\u001b[0;34m\u001b[0m\u001b[0;34m\u001b[0m\u001b[0m\n",
      "\u001b[0;32m/data/miniconda3/lib/python3.8/codecs.py\u001b[0m in \u001b[0;36mdecode\u001b[0;34m(self, input, final)\u001b[0m\n\u001b[1;32m    317\u001b[0m         \u001b[0;32mraise\u001b[0m \u001b[0mNotImplementedError\u001b[0m\u001b[0;34m\u001b[0m\u001b[0;34m\u001b[0m\u001b[0m\n\u001b[1;32m    318\u001b[0m \u001b[0;34m\u001b[0m\u001b[0m\n\u001b[0;32m--> 319\u001b[0;31m     \u001b[0;32mdef\u001b[0m \u001b[0mdecode\u001b[0m\u001b[0;34m(\u001b[0m\u001b[0mself\u001b[0m\u001b[0;34m,\u001b[0m \u001b[0minput\u001b[0m\u001b[0;34m,\u001b[0m \u001b[0mfinal\u001b[0m\u001b[0;34m=\u001b[0m\u001b[0;32mFalse\u001b[0m\u001b[0;34m)\u001b[0m\u001b[0;34m:\u001b[0m\u001b[0;34m\u001b[0m\u001b[0;34m\u001b[0m\u001b[0m\n\u001b[0m\u001b[1;32m    320\u001b[0m         \u001b[0;31m# decode input (taking the buffer into account)\u001b[0m\u001b[0;34m\u001b[0m\u001b[0;34m\u001b[0m\u001b[0;34m\u001b[0m\u001b[0m\n\u001b[1;32m    321\u001b[0m         \u001b[0mdata\u001b[0m \u001b[0;34m=\u001b[0m \u001b[0mself\u001b[0m\u001b[0;34m.\u001b[0m\u001b[0mbuffer\u001b[0m \u001b[0;34m+\u001b[0m \u001b[0minput\u001b[0m\u001b[0;34m\u001b[0m\u001b[0;34m\u001b[0m\u001b[0m\n",
      "\u001b[0;31mKeyboardInterrupt\u001b[0m: "
     ]
    }
   ],
   "source": [
    "%load_ext autoreload\n",
    "%autoreload 2\n",
    "\n",
    "import pandas as pd\n",
    "import numpy as np\n",
    "\n",
    "##################################\n",
    "# INPUT PARAMETERS:\n",
    "##################################\n",
    "sat_file = 'starlette'\n",
    "arc1 = '030914_2wk'\n",
    "grav_id ='goco05s' \n",
    "local_path = '/data/analysis/starlette_analysis/'\n",
    "SAT_ID = 7501001\n",
    "\n",
    "##################################\n",
    "# PATH TO DENSITY MODEL RUN of Choice:\n",
    "##################################\n",
    "msis86_model = 'msis86'\n",
    "path_to_msis86_accelon = '/data/runs_geodyn/st/results/'+ grav_id+'_'+msis86_model  +'/'\n",
    "# path_to_msis86_accelon = '/data/runs_geodyn/st/results/'+ grav_id+'_'+msis86_model + '_' +'accelon' +'/'\n",
    "path_to_msis86_acceloff = '/data/runs_geodyn/st/results/'+ grav_id+'_'+msis86_model+ '_' +'acceloff' +'/'\n",
    "\n",
    "import sys  \n",
    "sys.path.insert(0, '/data/analysis/util_funcs/py_starlette/')\n",
    "from a_ReadStarlette import ReadStarlette\n",
    "\n",
    "(AdjustedParams_accelon, \n",
    " Trajectory_accelon,\n",
    " Density_accelon,\n",
    " Resids_accelon) = ReadStarlette(arc1, \n",
    "                         sat_file,\n",
    "                         grav_id, \n",
    "                         local_path, \n",
    "                         path_to_msis86_accelon)\n",
    "\n",
    "(AdjustedParams_acceloff, \n",
    " Trajectory_acceloff,\n",
    " Density_acceloff,\n",
    " Resids_acceloff) = ReadStarlette(arc1, \n",
    "                         sat_file,\n",
    "                         grav_id, \n",
    "                         local_path, \n",
    "                         path_to_msis86_acceloff)\n"
   ]
  },
  {
   "cell_type": "code",
   "execution_count": 6,
   "metadata": {},
   "outputs": [
    {
     "data": {
      "text/plain": [
       "804721.74"
      ]
     },
     "execution_count": 6,
     "metadata": {},
     "output_type": "execute_result"
    }
   ],
   "source": [
    "Density_accelon['Height (meters)'].min()"
   ]
  },
  {
   "cell_type": "code",
   "execution_count": 7,
   "metadata": {},
   "outputs": [
    {
     "data": {
      "text/plain": [
       "1109428.568"
      ]
     },
     "execution_count": 7,
     "metadata": {},
     "output_type": "execute_result"
    }
   ],
   "source": [
    "Density_accelon['Height (meters)'].max()"
   ]
  },
  {
   "cell_type": "markdown",
   "metadata": {},
   "source": [
    "# General Accelerations\n",
    "The general acceleration  is an Adjusted Parameter on each iteration of GEODYN.  The AdjustedParams structure contains this data.\n",
    "\n",
    "Below is a generic description of general accelerations acting on the satellite.  This applies to SLR tracked.\n",
    "GEODYN is capable of applying and solving for general satellite accelerations of the form\n",
    "$$\\ddot{\\bar{X}}= \\alpha \\hat{u} $$ \n",
    "where $\\hat{u} $ is a unit vector defining the direction of the acceleration and $\\alpha$ is the solved-for parameter. Below, let $\\bar{X}$ and $\\bar{V}$ be the satellite’s true of date position and velocity.\n",
    "\n",
    "Radial Acceleration\n",
    "\n",
    "$$ \\hat{u} = \\frac{\\bar{X}}{|{\\bar{X}|}}$$\n",
    "\n",
    "Cross-track Acceleration\n",
    "\n",
    "$$ \\hat{u} = \\frac{\\bar{X} \\times \\bar{V}}{|{\\bar{X} \\times \\bar{V}|}}$$\n",
    "\n",
    "\n",
    "Along track Acceleration\n",
    "\n",
    "$$ \\hat{u} = \\frac{\\bar{V}}{|{\\bar{V}|}}$$\n",
    "\n",
    "\n",
    "In-plane Acceleration\n",
    "\n",
    "$$ \\hat{u} = \\frac{(\\bar{X} \\times \\bar{V}) \\times \\bar{V} }{|({\\bar{X} \\times \\bar{V})\\times \\bar{V}|}}$$\n"
   ]
  },
  {
   "cell_type": "markdown",
   "metadata": {},
   "source": [
    "```\n",
    "     1st Value (1 or 2) Indicates direction of 9 parameter general acceleration\n",
    "         1 - Along Track ((R x V) x R)\n",
    "         2 - Cross Track (R x V)\n",
    "         3 - Radial (R)\n",
    "\n",
    "      2nd Value (1 or 2) Indicates type of 9 parameter general acceleration parameter\n",
    "         1 - Cosine coefficient (A)\n",
    "         2 - Sine coefficient (B)\n",
    "         3 - Constant (C)\n",
    "```\n"
   ]
  },
  {
   "cell_type": "code",
   "execution_count": 8,
   "metadata": {},
   "outputs": [],
   "source": [
    "AdjustedParams = AdjustedParams_accelon"
   ]
  },
  {
   "cell_type": "code",
   "execution_count": 9,
   "metadata": {},
   "outputs": [
    {
     "data": {
      "text/plain": [
       "dict_keys(['0GA 9P 11', '0GA 9P 12', '0GA 9P 21', '0GA 9P 22'])"
      ]
     },
     "execution_count": 9,
     "metadata": {},
     "output_type": "execute_result"
    }
   ],
   "source": [
    "AdjustedParams[5]['0GA'].keys()"
   ]
  },
  {
   "cell_type": "code",
   "execution_count": 10,
   "metadata": {},
   "outputs": [
    {
     "name": "stdout",
     "output_type": "stream",
     "text": [
      "dict_keys(['0GA 9P 11', '0GA 9P 12', '0GA 9P 21', '0GA 9P 22'])\n"
     ]
    }
   ],
   "source": [
    "print(AdjustedParams[5]['0GA'].keys())\n"
   ]
  },
  {
   "cell_type": "markdown",
   "metadata": {},
   "source": [
    "Assuming that the below has the form:\n",
    "\n",
    "$$accel_{\\text{track}}(x) = A_{track} sin(x) + B_{track} cos(x) $$\n",
    "\n",
    "then, $$ \\text{Amplitude}_{track} =\\sqrt{A_{track}^2 + B_{track}^2} $$\n",
    "$$\\phi_{track} = \\arctan{\\bigg(\\frac{A_{track}}{B_{track}}\\bigg)}$$"
   ]
  },
  {
   "cell_type": "code",
   "execution_count": 11,
   "metadata": {},
   "outputs": [],
   "source": [
    "alongtrack_sin_coeff = AdjustedParams[5]['0GA']['0GA 9P 12']['CURRENT_VALUE'] \n",
    "crosstrack_sin_coeff = AdjustedParams[5]['0GA']['0GA 9P 22']['CURRENT_VALUE'] \n",
    "alongtrack_cos_coeff = AdjustedParams[5]['0GA']['0GA 9P 11']['CURRENT_VALUE']\n",
    "crosstrack_cos_coeff = AdjustedParams[5]['0GA']['0GA 9P 21']['CURRENT_VALUE']\n",
    "\n",
    "\n",
    "alongtrack_amp = np.sqrt( np.square(alongtrack_sin_coeff) + np.square(alongtrack_cos_coeff) )\n",
    "crosstrack_amp = np.sqrt( np.square(crosstrack_sin_coeff) + np.square(crosstrack_cos_coeff) )\n",
    "\n",
    "alongtrack_phase = np.arctan(alongtrack_cos_coeff / alongtrack_sin_coeff )\n",
    "crosstrack_phase = np.arctan(crosstrack_cos_coeff / crosstrack_sin_coeff )"
   ]
  },
  {
   "cell_type": "markdown",
   "metadata": {},
   "source": [
    "### Put the above into a function:\n"
   ]
  },
  {
   "cell_type": "code",
   "execution_count": 12,
   "metadata": {},
   "outputs": [],
   "source": [
    "def grab_accels(AdjustedParams, accel_param='0GA', stat_val ='CURRENT_VALUE', iteration =5):\n",
    "    \n",
    "    alongtrack_sin_coeff = AdjustedParams[iteration][accel_param]['0GA 9P 12'][stat_val] \n",
    "    crosstrack_sin_coeff = AdjustedParams[iteration][accel_param]['0GA 9P 22'][stat_val] \n",
    "    alongtrack_cos_coeff = AdjustedParams[iteration][accel_param]['0GA 9P 11'][stat_val]\n",
    "    crosstrack_cos_coeff = AdjustedParams[iteration][accel_param]['0GA 9P 21'][stat_val]\n",
    "\n",
    "\n",
    "    alongtrack_amp = np.sqrt( np.square(alongtrack_sin_coeff) + np.square(alongtrack_cos_coeff) )\n",
    "    crosstrack_amp = np.sqrt( np.square(crosstrack_sin_coeff) + np.square(crosstrack_cos_coeff) )\n",
    "\n",
    "    alongtrack_phase = np.arctan(alongtrack_cos_coeff / alongtrack_sin_coeff )\n",
    "    crosstrack_phase = np.arctan(crosstrack_cos_coeff / crosstrack_sin_coeff )\n",
    "    return(alongtrack_amp, crosstrack_amp, alongtrack_phase, crosstrack_phase)"
   ]
  },
  {
   "cell_type": "code",
   "execution_count": 18,
   "metadata": {},
   "outputs": [],
   "source": [
    "along_amp_msis = []\n",
    "cross_amp_msis = []\n",
    "along_phase_msis = []\n",
    "cross_phase_msis = []\n",
    "\n",
    "for i,val in enumerate(AdjustedParams.keys()):\n",
    "#     print(i,val)\n",
    "    (along_amp,\n",
    "    cross_amp,\n",
    "    along_phase,\n",
    "    cross_phase) =  grab_accels(AdjustedParams_accelon,\n",
    "                                       accel_param='0GA',\n",
    "                                       stat_val ='CURRENT_VALUE',\n",
    "                                       iteration=val)\n",
    "    along_amp_msis.append(along_amp)\n",
    "    cross_amp_msis.append(cross_amp)\n",
    "    along_phase_msis.append(along_phase)\n",
    "    cross_phase_msis.append(cross_phase)\n",
    "\n",
    "# along_amp_dtm = []\n",
    "# cross_amp_dtm = []\n",
    "# along_phase_dtm = []\n",
    "# cross_phase_dtm = []\n",
    "\n",
    "# for i,val in enumerate(AdjustedParams_msis86.keys()):\n",
    "# #     print(i,val)\n",
    "#     (along_amp,\n",
    "#     cross_amp,\n",
    "#     along_phase,\n",
    "#     cross_phase) =  grab_accels(AdjustedParams_dtm87,\n",
    "#                                        accel_param='0GA',\n",
    "#                                        stat_val ='CURRENT_VALUE',\n",
    "#                                        iteration=val)\n",
    "#     along_amp_dtm.append(along_amp)\n",
    "#     cross_amp_dtm.append(cross_amp)\n",
    "#     along_phase_dtm.append(along_phase)\n",
    "#     cross_phase_dtm.append(cross_phase)\n",
    "    \n",
    "# along_amp_jaachia = []\n",
    "# cross_amp_jaachia = []\n",
    "# along_phase_jaachia = []\n",
    "# cross_phase_jaachia = []\n",
    "\n",
    "# for i,val in enumerate(AdjustedParams_msis86.keys()):\n",
    "# #     print(i,val)\n",
    "#     (along_amp,\n",
    "#     cross_amp,\n",
    "#     along_phase,\n",
    "#     cross_phase) =  grab_accels(AdjustedParams_jaachia,\n",
    "#                                        accel_param='0GA',\n",
    "#                                        stat_val ='CURRENT_VALUE',\n",
    "#                                        iteration=val)\n",
    "#     along_amp_jaachia.append(along_amp)\n",
    "#     cross_amp_jaachia.append(cross_amp)\n",
    "#     along_phase_jaachia.append(along_phase)\n",
    "#     cross_phase_jaachia.append(cross_phase)"
   ]
  },
  {
   "cell_type": "code",
   "execution_count": 22,
   "metadata": {},
   "outputs": [
    {
     "data": {
      "application/vnd.plotly.v1+json": {
       "config": {
        "linkText": "Export to plot.ly",
        "plotlyServerURL": "https://plot.ly",
        "showLink": false
       },
       "data": [
        {
         "marker": {
          "size": 10
         },
         "mode": "markers",
         "name": "MSIS 86 Accel. On",
         "type": "scatter",
         "x": [
          1,
          2,
          3,
          4,
          5
         ],
         "xaxis": "x",
         "y": [
          7.703919912889645e-11,
          7.726891455788988e-11,
          7.726907485761057e-11,
          7.773062506337368e-11,
          7.794747611892425e-11
         ],
         "yaxis": "y"
        },
        {
         "marker": {
          "size": 10
         },
         "mode": "markers",
         "name": "MSIS 86 Accel. Off",
         "type": "scatter",
         "x": [
          1,
          2,
          3,
          4,
          5
         ],
         "xaxis": "x",
         "y": [
          7.703919912889645e-11,
          7.726891455788988e-11,
          7.726907485761057e-11,
          7.773062506337368e-11,
          7.794747611892425e-11
         ],
         "yaxis": "y"
        },
        {
         "marker": {
          "size": 10
         },
         "mode": "markers",
         "name": "MSIS 86 Accel. On",
         "type": "scatter",
         "x": [
          1,
          2,
          3,
          4,
          5
         ],
         "xaxis": "x2",
         "y": [
          9.97443817775928e-10,
          9.9836031968676e-10,
          9.983603044933346e-10,
          9.961803111675759e-10,
          9.950739172144606e-10
         ],
         "yaxis": "y2"
        },
        {
         "marker": {
          "size": 10
         },
         "mode": "markers",
         "name": "MSIS 86 Accel. Off",
         "type": "scatter",
         "x": [
          1,
          2,
          3,
          4,
          5
         ],
         "xaxis": "x2",
         "y": [
          9.97443817775928e-10,
          9.9836031968676e-10,
          9.983603044933346e-10,
          9.961803111675759e-10,
          9.950739172144606e-10
         ],
         "yaxis": "y2"
        }
       ],
       "layout": {
        "annotations": [
         {
          "font": {
           "size": 16
          },
          "showarrow": false,
          "text": "Along Track Accleration Amplitude vs Iteration",
          "x": 0.5,
          "xanchor": "center",
          "xref": "paper",
          "y": 1,
          "yanchor": "bottom",
          "yref": "paper"
         },
         {
          "font": {
           "size": 16
          },
          "showarrow": false,
          "text": "Cross Track Accleration Amplitude vs Iteration",
          "x": 0.5,
          "xanchor": "center",
          "xref": "paper",
          "y": 0.375,
          "yanchor": "bottom",
          "yref": "paper"
         }
        ],
        "template": {
         "data": {
          "bar": [
           {
            "error_x": {
             "color": "#2a3f5f"
            },
            "error_y": {
             "color": "#2a3f5f"
            },
            "marker": {
             "line": {
              "color": "#E5ECF6",
              "width": 0.5
             }
            },
            "type": "bar"
           }
          ],
          "barpolar": [
           {
            "marker": {
             "line": {
              "color": "#E5ECF6",
              "width": 0.5
             }
            },
            "type": "barpolar"
           }
          ],
          "carpet": [
           {
            "aaxis": {
             "endlinecolor": "#2a3f5f",
             "gridcolor": "white",
             "linecolor": "white",
             "minorgridcolor": "white",
             "startlinecolor": "#2a3f5f"
            },
            "baxis": {
             "endlinecolor": "#2a3f5f",
             "gridcolor": "white",
             "linecolor": "white",
             "minorgridcolor": "white",
             "startlinecolor": "#2a3f5f"
            },
            "type": "carpet"
           }
          ],
          "choropleth": [
           {
            "colorbar": {
             "outlinewidth": 0,
             "ticks": ""
            },
            "type": "choropleth"
           }
          ],
          "contour": [
           {
            "colorbar": {
             "outlinewidth": 0,
             "ticks": ""
            },
            "colorscale": [
             [
              0,
              "#0d0887"
             ],
             [
              0.1111111111111111,
              "#46039f"
             ],
             [
              0.2222222222222222,
              "#7201a8"
             ],
             [
              0.3333333333333333,
              "#9c179e"
             ],
             [
              0.4444444444444444,
              "#bd3786"
             ],
             [
              0.5555555555555556,
              "#d8576b"
             ],
             [
              0.6666666666666666,
              "#ed7953"
             ],
             [
              0.7777777777777778,
              "#fb9f3a"
             ],
             [
              0.8888888888888888,
              "#fdca26"
             ],
             [
              1,
              "#f0f921"
             ]
            ],
            "type": "contour"
           }
          ],
          "contourcarpet": [
           {
            "colorbar": {
             "outlinewidth": 0,
             "ticks": ""
            },
            "type": "contourcarpet"
           }
          ],
          "heatmap": [
           {
            "colorbar": {
             "outlinewidth": 0,
             "ticks": ""
            },
            "colorscale": [
             [
              0,
              "#0d0887"
             ],
             [
              0.1111111111111111,
              "#46039f"
             ],
             [
              0.2222222222222222,
              "#7201a8"
             ],
             [
              0.3333333333333333,
              "#9c179e"
             ],
             [
              0.4444444444444444,
              "#bd3786"
             ],
             [
              0.5555555555555556,
              "#d8576b"
             ],
             [
              0.6666666666666666,
              "#ed7953"
             ],
             [
              0.7777777777777778,
              "#fb9f3a"
             ],
             [
              0.8888888888888888,
              "#fdca26"
             ],
             [
              1,
              "#f0f921"
             ]
            ],
            "type": "heatmap"
           }
          ],
          "heatmapgl": [
           {
            "colorbar": {
             "outlinewidth": 0,
             "ticks": ""
            },
            "colorscale": [
             [
              0,
              "#0d0887"
             ],
             [
              0.1111111111111111,
              "#46039f"
             ],
             [
              0.2222222222222222,
              "#7201a8"
             ],
             [
              0.3333333333333333,
              "#9c179e"
             ],
             [
              0.4444444444444444,
              "#bd3786"
             ],
             [
              0.5555555555555556,
              "#d8576b"
             ],
             [
              0.6666666666666666,
              "#ed7953"
             ],
             [
              0.7777777777777778,
              "#fb9f3a"
             ],
             [
              0.8888888888888888,
              "#fdca26"
             ],
             [
              1,
              "#f0f921"
             ]
            ],
            "type": "heatmapgl"
           }
          ],
          "histogram": [
           {
            "marker": {
             "colorbar": {
              "outlinewidth": 0,
              "ticks": ""
             }
            },
            "type": "histogram"
           }
          ],
          "histogram2d": [
           {
            "colorbar": {
             "outlinewidth": 0,
             "ticks": ""
            },
            "colorscale": [
             [
              0,
              "#0d0887"
             ],
             [
              0.1111111111111111,
              "#46039f"
             ],
             [
              0.2222222222222222,
              "#7201a8"
             ],
             [
              0.3333333333333333,
              "#9c179e"
             ],
             [
              0.4444444444444444,
              "#bd3786"
             ],
             [
              0.5555555555555556,
              "#d8576b"
             ],
             [
              0.6666666666666666,
              "#ed7953"
             ],
             [
              0.7777777777777778,
              "#fb9f3a"
             ],
             [
              0.8888888888888888,
              "#fdca26"
             ],
             [
              1,
              "#f0f921"
             ]
            ],
            "type": "histogram2d"
           }
          ],
          "histogram2dcontour": [
           {
            "colorbar": {
             "outlinewidth": 0,
             "ticks": ""
            },
            "colorscale": [
             [
              0,
              "#0d0887"
             ],
             [
              0.1111111111111111,
              "#46039f"
             ],
             [
              0.2222222222222222,
              "#7201a8"
             ],
             [
              0.3333333333333333,
              "#9c179e"
             ],
             [
              0.4444444444444444,
              "#bd3786"
             ],
             [
              0.5555555555555556,
              "#d8576b"
             ],
             [
              0.6666666666666666,
              "#ed7953"
             ],
             [
              0.7777777777777778,
              "#fb9f3a"
             ],
             [
              0.8888888888888888,
              "#fdca26"
             ],
             [
              1,
              "#f0f921"
             ]
            ],
            "type": "histogram2dcontour"
           }
          ],
          "mesh3d": [
           {
            "colorbar": {
             "outlinewidth": 0,
             "ticks": ""
            },
            "type": "mesh3d"
           }
          ],
          "parcoords": [
           {
            "line": {
             "colorbar": {
              "outlinewidth": 0,
              "ticks": ""
             }
            },
            "type": "parcoords"
           }
          ],
          "pie": [
           {
            "automargin": true,
            "type": "pie"
           }
          ],
          "scatter": [
           {
            "marker": {
             "colorbar": {
              "outlinewidth": 0,
              "ticks": ""
             }
            },
            "type": "scatter"
           }
          ],
          "scatter3d": [
           {
            "line": {
             "colorbar": {
              "outlinewidth": 0,
              "ticks": ""
             }
            },
            "marker": {
             "colorbar": {
              "outlinewidth": 0,
              "ticks": ""
             }
            },
            "type": "scatter3d"
           }
          ],
          "scattercarpet": [
           {
            "marker": {
             "colorbar": {
              "outlinewidth": 0,
              "ticks": ""
             }
            },
            "type": "scattercarpet"
           }
          ],
          "scattergeo": [
           {
            "marker": {
             "colorbar": {
              "outlinewidth": 0,
              "ticks": ""
             }
            },
            "type": "scattergeo"
           }
          ],
          "scattergl": [
           {
            "marker": {
             "colorbar": {
              "outlinewidth": 0,
              "ticks": ""
             }
            },
            "type": "scattergl"
           }
          ],
          "scattermapbox": [
           {
            "marker": {
             "colorbar": {
              "outlinewidth": 0,
              "ticks": ""
             }
            },
            "type": "scattermapbox"
           }
          ],
          "scatterpolar": [
           {
            "marker": {
             "colorbar": {
              "outlinewidth": 0,
              "ticks": ""
             }
            },
            "type": "scatterpolar"
           }
          ],
          "scatterpolargl": [
           {
            "marker": {
             "colorbar": {
              "outlinewidth": 0,
              "ticks": ""
             }
            },
            "type": "scatterpolargl"
           }
          ],
          "scatterternary": [
           {
            "marker": {
             "colorbar": {
              "outlinewidth": 0,
              "ticks": ""
             }
            },
            "type": "scatterternary"
           }
          ],
          "surface": [
           {
            "colorbar": {
             "outlinewidth": 0,
             "ticks": ""
            },
            "colorscale": [
             [
              0,
              "#0d0887"
             ],
             [
              0.1111111111111111,
              "#46039f"
             ],
             [
              0.2222222222222222,
              "#7201a8"
             ],
             [
              0.3333333333333333,
              "#9c179e"
             ],
             [
              0.4444444444444444,
              "#bd3786"
             ],
             [
              0.5555555555555556,
              "#d8576b"
             ],
             [
              0.6666666666666666,
              "#ed7953"
             ],
             [
              0.7777777777777778,
              "#fb9f3a"
             ],
             [
              0.8888888888888888,
              "#fdca26"
             ],
             [
              1,
              "#f0f921"
             ]
            ],
            "type": "surface"
           }
          ],
          "table": [
           {
            "cells": {
             "fill": {
              "color": "#EBF0F8"
             },
             "line": {
              "color": "white"
             }
            },
            "header": {
             "fill": {
              "color": "#C8D4E3"
             },
             "line": {
              "color": "white"
             }
            },
            "type": "table"
           }
          ]
         },
         "layout": {
          "annotationdefaults": {
           "arrowcolor": "#2a3f5f",
           "arrowhead": 0,
           "arrowwidth": 1
          },
          "coloraxis": {
           "colorbar": {
            "outlinewidth": 0,
            "ticks": ""
           }
          },
          "colorscale": {
           "diverging": [
            [
             0,
             "#8e0152"
            ],
            [
             0.1,
             "#c51b7d"
            ],
            [
             0.2,
             "#de77ae"
            ],
            [
             0.3,
             "#f1b6da"
            ],
            [
             0.4,
             "#fde0ef"
            ],
            [
             0.5,
             "#f7f7f7"
            ],
            [
             0.6,
             "#e6f5d0"
            ],
            [
             0.7,
             "#b8e186"
            ],
            [
             0.8,
             "#7fbc41"
            ],
            [
             0.9,
             "#4d9221"
            ],
            [
             1,
             "#276419"
            ]
           ],
           "sequential": [
            [
             0,
             "#0d0887"
            ],
            [
             0.1111111111111111,
             "#46039f"
            ],
            [
             0.2222222222222222,
             "#7201a8"
            ],
            [
             0.3333333333333333,
             "#9c179e"
            ],
            [
             0.4444444444444444,
             "#bd3786"
            ],
            [
             0.5555555555555556,
             "#d8576b"
            ],
            [
             0.6666666666666666,
             "#ed7953"
            ],
            [
             0.7777777777777778,
             "#fb9f3a"
            ],
            [
             0.8888888888888888,
             "#fdca26"
            ],
            [
             1,
             "#f0f921"
            ]
           ],
           "sequentialminus": [
            [
             0,
             "#0d0887"
            ],
            [
             0.1111111111111111,
             "#46039f"
            ],
            [
             0.2222222222222222,
             "#7201a8"
            ],
            [
             0.3333333333333333,
             "#9c179e"
            ],
            [
             0.4444444444444444,
             "#bd3786"
            ],
            [
             0.5555555555555556,
             "#d8576b"
            ],
            [
             0.6666666666666666,
             "#ed7953"
            ],
            [
             0.7777777777777778,
             "#fb9f3a"
            ],
            [
             0.8888888888888888,
             "#fdca26"
            ],
            [
             1,
             "#f0f921"
            ]
           ]
          },
          "colorway": [
           "#636efa",
           "#EF553B",
           "#00cc96",
           "#ab63fa",
           "#FFA15A",
           "#19d3f3",
           "#FF6692",
           "#B6E880",
           "#FF97FF",
           "#FECB52"
          ],
          "font": {
           "color": "#2a3f5f"
          },
          "geo": {
           "bgcolor": "white",
           "lakecolor": "white",
           "landcolor": "#E5ECF6",
           "showlakes": true,
           "showland": true,
           "subunitcolor": "white"
          },
          "hoverlabel": {
           "align": "left"
          },
          "hovermode": "closest",
          "mapbox": {
           "style": "light"
          },
          "paper_bgcolor": "white",
          "plot_bgcolor": "#E5ECF6",
          "polar": {
           "angularaxis": {
            "gridcolor": "white",
            "linecolor": "white",
            "ticks": ""
           },
           "bgcolor": "#E5ECF6",
           "radialaxis": {
            "gridcolor": "white",
            "linecolor": "white",
            "ticks": ""
           }
          },
          "scene": {
           "xaxis": {
            "backgroundcolor": "#E5ECF6",
            "gridcolor": "white",
            "gridwidth": 2,
            "linecolor": "white",
            "showbackground": true,
            "ticks": "",
            "zerolinecolor": "white"
           },
           "yaxis": {
            "backgroundcolor": "#E5ECF6",
            "gridcolor": "white",
            "gridwidth": 2,
            "linecolor": "white",
            "showbackground": true,
            "ticks": "",
            "zerolinecolor": "white"
           },
           "zaxis": {
            "backgroundcolor": "#E5ECF6",
            "gridcolor": "white",
            "gridwidth": 2,
            "linecolor": "white",
            "showbackground": true,
            "ticks": "",
            "zerolinecolor": "white"
           }
          },
          "shapedefaults": {
           "line": {
            "color": "#2a3f5f"
           }
          },
          "ternary": {
           "aaxis": {
            "gridcolor": "white",
            "linecolor": "white",
            "ticks": ""
           },
           "baxis": {
            "gridcolor": "white",
            "linecolor": "white",
            "ticks": ""
           },
           "bgcolor": "#E5ECF6",
           "caxis": {
            "gridcolor": "white",
            "linecolor": "white",
            "ticks": ""
           }
          },
          "title": {
           "x": 0.05
          },
          "xaxis": {
           "automargin": true,
           "gridcolor": "white",
           "linecolor": "white",
           "ticks": "",
           "title": {
            "standoff": 15
           },
           "zerolinecolor": "white",
           "zerolinewidth": 2
          },
          "yaxis": {
           "automargin": true,
           "gridcolor": "white",
           "linecolor": "white",
           "ticks": "",
           "title": {
            "standoff": 15
           },
           "zerolinecolor": "white",
           "zerolinewidth": 2
          }
         }
        },
        "xaxis": {
         "anchor": "y",
         "domain": [
          0,
          1
         ]
        },
        "xaxis2": {
         "anchor": "y2",
         "domain": [
          0,
          1
         ],
         "title": {
          "text": "Iteration Number"
         }
        },
        "yaxis": {
         "anchor": "x",
         "domain": [
          0.625,
          1
         ],
         "exponentformat": "power",
         "title": {
          "text": "$\\frac{m}{s^2}$"
         }
        },
        "yaxis2": {
         "anchor": "x2",
         "domain": [
          0,
          0.375
         ],
         "exponentformat": "power",
         "title": {
          "text": "$\\frac{m}{s^2}$"
         }
        }
       }
      },
      "text/html": [
       "<div>                            <div id=\"807ddbd2-708a-4e94-a076-fca258c59775\" class=\"plotly-graph-div\" style=\"height:525px; width:100%;\"></div>            <script type=\"text/javascript\">                require([\"plotly\"], function(Plotly) {                    window.PLOTLYENV=window.PLOTLYENV || {};                                    if (document.getElementById(\"807ddbd2-708a-4e94-a076-fca258c59775\")) {                    Plotly.newPlot(                        \"807ddbd2-708a-4e94-a076-fca258c59775\",                        [{\"marker\": {\"size\": 10}, \"mode\": \"markers\", \"name\": \"MSIS 86 Accel. On\", \"type\": \"scatter\", \"x\": [1, 2, 3, 4, 5], \"xaxis\": \"x\", \"y\": [7.703919912889645e-11, 7.726891455788988e-11, 7.726907485761057e-11, 7.773062506337368e-11, 7.794747611892425e-11], \"yaxis\": \"y\"}, {\"marker\": {\"size\": 10}, \"mode\": \"markers\", \"name\": \"MSIS 86 Accel. Off\", \"type\": \"scatter\", \"x\": [1, 2, 3, 4, 5], \"xaxis\": \"x\", \"y\": [7.703919912889645e-11, 7.726891455788988e-11, 7.726907485761057e-11, 7.773062506337368e-11, 7.794747611892425e-11], \"yaxis\": \"y\"}, {\"marker\": {\"size\": 10}, \"mode\": \"markers\", \"name\": \"MSIS 86 Accel. On\", \"type\": \"scatter\", \"x\": [1, 2, 3, 4, 5], \"xaxis\": \"x2\", \"y\": [9.97443817775928e-10, 9.9836031968676e-10, 9.983603044933346e-10, 9.961803111675759e-10, 9.950739172144606e-10], \"yaxis\": \"y2\"}, {\"marker\": {\"size\": 10}, \"mode\": \"markers\", \"name\": \"MSIS 86 Accel. Off\", \"type\": \"scatter\", \"x\": [1, 2, 3, 4, 5], \"xaxis\": \"x2\", \"y\": [9.97443817775928e-10, 9.9836031968676e-10, 9.983603044933346e-10, 9.961803111675759e-10, 9.950739172144606e-10], \"yaxis\": \"y2\"}],                        {\"annotations\": [{\"font\": {\"size\": 16}, \"showarrow\": false, \"text\": \"Along Track Accleration Amplitude vs Iteration\", \"x\": 0.5, \"xanchor\": \"center\", \"xref\": \"paper\", \"y\": 1.0, \"yanchor\": \"bottom\", \"yref\": \"paper\"}, {\"font\": {\"size\": 16}, \"showarrow\": false, \"text\": \"Cross Track Accleration Amplitude vs Iteration\", \"x\": 0.5, \"xanchor\": \"center\", \"xref\": \"paper\", \"y\": 0.375, \"yanchor\": \"bottom\", \"yref\": \"paper\"}], \"template\": {\"data\": {\"bar\": [{\"error_x\": {\"color\": \"#2a3f5f\"}, \"error_y\": {\"color\": \"#2a3f5f\"}, \"marker\": {\"line\": {\"color\": \"#E5ECF6\", \"width\": 0.5}}, \"type\": \"bar\"}], \"barpolar\": [{\"marker\": {\"line\": {\"color\": \"#E5ECF6\", \"width\": 0.5}}, \"type\": \"barpolar\"}], \"carpet\": [{\"aaxis\": {\"endlinecolor\": \"#2a3f5f\", \"gridcolor\": \"white\", \"linecolor\": \"white\", \"minorgridcolor\": \"white\", \"startlinecolor\": \"#2a3f5f\"}, \"baxis\": {\"endlinecolor\": \"#2a3f5f\", \"gridcolor\": \"white\", \"linecolor\": \"white\", \"minorgridcolor\": \"white\", \"startlinecolor\": \"#2a3f5f\"}, \"type\": \"carpet\"}], \"choropleth\": [{\"colorbar\": {\"outlinewidth\": 0, \"ticks\": \"\"}, \"type\": \"choropleth\"}], \"contour\": [{\"colorbar\": {\"outlinewidth\": 0, \"ticks\": \"\"}, \"colorscale\": [[0.0, \"#0d0887\"], [0.1111111111111111, \"#46039f\"], [0.2222222222222222, \"#7201a8\"], [0.3333333333333333, \"#9c179e\"], [0.4444444444444444, \"#bd3786\"], [0.5555555555555556, \"#d8576b\"], [0.6666666666666666, \"#ed7953\"], [0.7777777777777778, \"#fb9f3a\"], [0.8888888888888888, \"#fdca26\"], [1.0, \"#f0f921\"]], \"type\": \"contour\"}], \"contourcarpet\": [{\"colorbar\": {\"outlinewidth\": 0, \"ticks\": \"\"}, \"type\": \"contourcarpet\"}], \"heatmap\": [{\"colorbar\": {\"outlinewidth\": 0, \"ticks\": \"\"}, \"colorscale\": [[0.0, \"#0d0887\"], [0.1111111111111111, \"#46039f\"], [0.2222222222222222, \"#7201a8\"], [0.3333333333333333, \"#9c179e\"], [0.4444444444444444, \"#bd3786\"], [0.5555555555555556, \"#d8576b\"], [0.6666666666666666, \"#ed7953\"], [0.7777777777777778, \"#fb9f3a\"], [0.8888888888888888, \"#fdca26\"], [1.0, \"#f0f921\"]], \"type\": \"heatmap\"}], \"heatmapgl\": [{\"colorbar\": {\"outlinewidth\": 0, \"ticks\": \"\"}, \"colorscale\": [[0.0, \"#0d0887\"], [0.1111111111111111, \"#46039f\"], [0.2222222222222222, \"#7201a8\"], [0.3333333333333333, \"#9c179e\"], [0.4444444444444444, \"#bd3786\"], [0.5555555555555556, \"#d8576b\"], [0.6666666666666666, \"#ed7953\"], [0.7777777777777778, \"#fb9f3a\"], [0.8888888888888888, \"#fdca26\"], [1.0, \"#f0f921\"]], \"type\": \"heatmapgl\"}], \"histogram\": [{\"marker\": {\"colorbar\": {\"outlinewidth\": 0, \"ticks\": \"\"}}, \"type\": \"histogram\"}], \"histogram2d\": [{\"colorbar\": {\"outlinewidth\": 0, \"ticks\": \"\"}, \"colorscale\": [[0.0, \"#0d0887\"], [0.1111111111111111, \"#46039f\"], [0.2222222222222222, \"#7201a8\"], [0.3333333333333333, \"#9c179e\"], [0.4444444444444444, \"#bd3786\"], [0.5555555555555556, \"#d8576b\"], [0.6666666666666666, \"#ed7953\"], [0.7777777777777778, \"#fb9f3a\"], [0.8888888888888888, \"#fdca26\"], [1.0, \"#f0f921\"]], \"type\": \"histogram2d\"}], \"histogram2dcontour\": [{\"colorbar\": {\"outlinewidth\": 0, \"ticks\": \"\"}, \"colorscale\": [[0.0, \"#0d0887\"], [0.1111111111111111, \"#46039f\"], [0.2222222222222222, \"#7201a8\"], [0.3333333333333333, \"#9c179e\"], [0.4444444444444444, \"#bd3786\"], [0.5555555555555556, \"#d8576b\"], [0.6666666666666666, \"#ed7953\"], [0.7777777777777778, \"#fb9f3a\"], [0.8888888888888888, \"#fdca26\"], [1.0, \"#f0f921\"]], \"type\": \"histogram2dcontour\"}], \"mesh3d\": [{\"colorbar\": {\"outlinewidth\": 0, \"ticks\": \"\"}, \"type\": \"mesh3d\"}], \"parcoords\": [{\"line\": {\"colorbar\": {\"outlinewidth\": 0, \"ticks\": \"\"}}, \"type\": \"parcoords\"}], \"pie\": [{\"automargin\": true, \"type\": \"pie\"}], \"scatter\": [{\"marker\": {\"colorbar\": {\"outlinewidth\": 0, \"ticks\": \"\"}}, \"type\": \"scatter\"}], \"scatter3d\": [{\"line\": {\"colorbar\": {\"outlinewidth\": 0, \"ticks\": \"\"}}, \"marker\": {\"colorbar\": {\"outlinewidth\": 0, \"ticks\": \"\"}}, \"type\": \"scatter3d\"}], \"scattercarpet\": [{\"marker\": {\"colorbar\": {\"outlinewidth\": 0, \"ticks\": \"\"}}, \"type\": \"scattercarpet\"}], \"scattergeo\": [{\"marker\": {\"colorbar\": {\"outlinewidth\": 0, \"ticks\": \"\"}}, \"type\": \"scattergeo\"}], \"scattergl\": [{\"marker\": {\"colorbar\": {\"outlinewidth\": 0, \"ticks\": \"\"}}, \"type\": \"scattergl\"}], \"scattermapbox\": [{\"marker\": {\"colorbar\": {\"outlinewidth\": 0, \"ticks\": \"\"}}, \"type\": \"scattermapbox\"}], \"scatterpolar\": [{\"marker\": {\"colorbar\": {\"outlinewidth\": 0, \"ticks\": \"\"}}, \"type\": \"scatterpolar\"}], \"scatterpolargl\": [{\"marker\": {\"colorbar\": {\"outlinewidth\": 0, \"ticks\": \"\"}}, \"type\": \"scatterpolargl\"}], \"scatterternary\": [{\"marker\": {\"colorbar\": {\"outlinewidth\": 0, \"ticks\": \"\"}}, \"type\": \"scatterternary\"}], \"surface\": [{\"colorbar\": {\"outlinewidth\": 0, \"ticks\": \"\"}, \"colorscale\": [[0.0, \"#0d0887\"], [0.1111111111111111, \"#46039f\"], [0.2222222222222222, \"#7201a8\"], [0.3333333333333333, \"#9c179e\"], [0.4444444444444444, \"#bd3786\"], [0.5555555555555556, \"#d8576b\"], [0.6666666666666666, \"#ed7953\"], [0.7777777777777778, \"#fb9f3a\"], [0.8888888888888888, \"#fdca26\"], [1.0, \"#f0f921\"]], \"type\": \"surface\"}], \"table\": [{\"cells\": {\"fill\": {\"color\": \"#EBF0F8\"}, \"line\": {\"color\": \"white\"}}, \"header\": {\"fill\": {\"color\": \"#C8D4E3\"}, \"line\": {\"color\": \"white\"}}, \"type\": \"table\"}]}, \"layout\": {\"annotationdefaults\": {\"arrowcolor\": \"#2a3f5f\", \"arrowhead\": 0, \"arrowwidth\": 1}, \"coloraxis\": {\"colorbar\": {\"outlinewidth\": 0, \"ticks\": \"\"}}, \"colorscale\": {\"diverging\": [[0, \"#8e0152\"], [0.1, \"#c51b7d\"], [0.2, \"#de77ae\"], [0.3, \"#f1b6da\"], [0.4, \"#fde0ef\"], [0.5, \"#f7f7f7\"], [0.6, \"#e6f5d0\"], [0.7, \"#b8e186\"], [0.8, \"#7fbc41\"], [0.9, \"#4d9221\"], [1, \"#276419\"]], \"sequential\": [[0.0, \"#0d0887\"], [0.1111111111111111, \"#46039f\"], [0.2222222222222222, \"#7201a8\"], [0.3333333333333333, \"#9c179e\"], [0.4444444444444444, \"#bd3786\"], [0.5555555555555556, \"#d8576b\"], [0.6666666666666666, \"#ed7953\"], [0.7777777777777778, \"#fb9f3a\"], [0.8888888888888888, \"#fdca26\"], [1.0, \"#f0f921\"]], \"sequentialminus\": [[0.0, \"#0d0887\"], [0.1111111111111111, \"#46039f\"], [0.2222222222222222, \"#7201a8\"], [0.3333333333333333, \"#9c179e\"], [0.4444444444444444, \"#bd3786\"], [0.5555555555555556, \"#d8576b\"], [0.6666666666666666, \"#ed7953\"], [0.7777777777777778, \"#fb9f3a\"], [0.8888888888888888, \"#fdca26\"], [1.0, \"#f0f921\"]]}, \"colorway\": [\"#636efa\", \"#EF553B\", \"#00cc96\", \"#ab63fa\", \"#FFA15A\", \"#19d3f3\", \"#FF6692\", \"#B6E880\", \"#FF97FF\", \"#FECB52\"], \"font\": {\"color\": \"#2a3f5f\"}, \"geo\": {\"bgcolor\": \"white\", \"lakecolor\": \"white\", \"landcolor\": \"#E5ECF6\", \"showlakes\": true, \"showland\": true, \"subunitcolor\": \"white\"}, \"hoverlabel\": {\"align\": \"left\"}, \"hovermode\": \"closest\", \"mapbox\": {\"style\": \"light\"}, \"paper_bgcolor\": \"white\", \"plot_bgcolor\": \"#E5ECF6\", \"polar\": {\"angularaxis\": {\"gridcolor\": \"white\", \"linecolor\": \"white\", \"ticks\": \"\"}, \"bgcolor\": \"#E5ECF6\", \"radialaxis\": {\"gridcolor\": \"white\", \"linecolor\": \"white\", \"ticks\": \"\"}}, \"scene\": {\"xaxis\": {\"backgroundcolor\": \"#E5ECF6\", \"gridcolor\": \"white\", \"gridwidth\": 2, \"linecolor\": \"white\", \"showbackground\": true, \"ticks\": \"\", \"zerolinecolor\": \"white\"}, \"yaxis\": {\"backgroundcolor\": \"#E5ECF6\", \"gridcolor\": \"white\", \"gridwidth\": 2, \"linecolor\": \"white\", \"showbackground\": true, \"ticks\": \"\", \"zerolinecolor\": \"white\"}, \"zaxis\": {\"backgroundcolor\": \"#E5ECF6\", \"gridcolor\": \"white\", \"gridwidth\": 2, \"linecolor\": \"white\", \"showbackground\": true, \"ticks\": \"\", \"zerolinecolor\": \"white\"}}, \"shapedefaults\": {\"line\": {\"color\": \"#2a3f5f\"}}, \"ternary\": {\"aaxis\": {\"gridcolor\": \"white\", \"linecolor\": \"white\", \"ticks\": \"\"}, \"baxis\": {\"gridcolor\": \"white\", \"linecolor\": \"white\", \"ticks\": \"\"}, \"bgcolor\": \"#E5ECF6\", \"caxis\": {\"gridcolor\": \"white\", \"linecolor\": \"white\", \"ticks\": \"\"}}, \"title\": {\"x\": 0.05}, \"xaxis\": {\"automargin\": true, \"gridcolor\": \"white\", \"linecolor\": \"white\", \"ticks\": \"\", \"title\": {\"standoff\": 15}, \"zerolinecolor\": \"white\", \"zerolinewidth\": 2}, \"yaxis\": {\"automargin\": true, \"gridcolor\": \"white\", \"linecolor\": \"white\", \"ticks\": \"\", \"title\": {\"standoff\": 15}, \"zerolinecolor\": \"white\", \"zerolinewidth\": 2}}}, \"xaxis\": {\"anchor\": \"y\", \"domain\": [0.0, 1.0]}, \"xaxis2\": {\"anchor\": \"y2\", \"domain\": [0.0, 1.0], \"title\": {\"text\": \"Iteration Number\"}}, \"yaxis\": {\"anchor\": \"x\", \"domain\": [0.625, 1.0], \"exponentformat\": \"power\", \"title\": {\"text\": \"$\\\\frac{m}{s^2}$\"}}, \"yaxis2\": {\"anchor\": \"x2\", \"domain\": [0.0, 0.375], \"exponentformat\": \"power\", \"title\": {\"text\": \"$\\\\frac{m}{s^2}$\"}}},                        {\"responsive\": true}                    ).then(function(){\n",
       "                            \n",
       "var gd = document.getElementById('807ddbd2-708a-4e94-a076-fca258c59775');\n",
       "var x = new MutationObserver(function (mutations, observer) {{\n",
       "        var display = window.getComputedStyle(gd).display;\n",
       "        if (!display || display === 'none') {{\n",
       "            console.log([gd, 'removed!']);\n",
       "            Plotly.purge(gd);\n",
       "            observer.disconnect();\n",
       "        }}\n",
       "}});\n",
       "\n",
       "// Listen for the removal of the full notebook cells\n",
       "var notebookContainer = gd.closest('#notebook-container');\n",
       "if (notebookContainer) {{\n",
       "    x.observe(notebookContainer, {childList: true});\n",
       "}}\n",
       "\n",
       "// Listen for the clearing of the current output cell\n",
       "var outputEl = gd.closest('.output');\n",
       "if (outputEl) {{\n",
       "    x.observe(outputEl, {childList: true});\n",
       "}}\n",
       "\n",
       "                        })                };                });            </script>        </div>"
      ]
     },
     "metadata": {},
     "output_type": "display_data"
    }
   ],
   "source": [
    "import plotly.graph_objects as go\n",
    "import numpy as np\n",
    "from plotly.offline import plot, iplot\n",
    "%matplotlib inline\n",
    "from plotly.subplots import make_subplots\n",
    "\n",
    "\n",
    "along_amp_msis_accelon = []\n",
    "cross_amp_msis_accelon = []\n",
    "along_phase_msis_accelon = []\n",
    "cross_phase_msis_accelon = []\n",
    "\n",
    "for i,val in enumerate(AdjustedParams.keys()):\n",
    "#     print(i,val)\n",
    "    (along_amp,\n",
    "    cross_amp,\n",
    "    along_phase,\n",
    "    cross_phase) =  grab_accels(AdjustedParams_accelon,\n",
    "                                       accel_param='0GA',\n",
    "                                       stat_val ='CURRENT_VALUE',\n",
    "                                       iteration=val)\n",
    "    along_amp_msis_accelon.append(along_amp)\n",
    "    cross_amp_msis_accelon.append(cross_amp)\n",
    "    along_phase_msis_accelon.append(along_phase)\n",
    "    cross_phase_msis_accelon.append(cross_phase)\n",
    "\n",
    "along_amp_msis_acceloff = []\n",
    "cross_amp_msis_acceloff = []\n",
    "along_phase_msis_acceloff = []\n",
    "cross_phase_msis_acceloff = []\n",
    "\n",
    "for i,val in enumerate(AdjustedParams.keys()):\n",
    "#     print(i,val)\n",
    "    (along_amp,\n",
    "    cross_amp,\n",
    "    along_phase,\n",
    "    cross_phase) =  grab_accels(AdjustedParams_accelon,\n",
    "                                       accel_param='0GA',\n",
    "                                       stat_val ='CURRENT_VALUE',\n",
    "                                       iteration=val)\n",
    "    along_amp_msis_acceloff.append(along_amp)\n",
    "    cross_amp_msis_acceloff.append(cross_amp)\n",
    "    along_phase_msis_acceloff.append(along_phase)\n",
    "    cross_phase_msis_acceloff.append(cross_phase)\n",
    "\n",
    "\n",
    "fig = make_subplots(\n",
    "    rows=2, cols=1,\n",
    "    subplot_titles=(\"Along Track Accleration Amplitude vs Iteration\",\n",
    "                    \"Cross Track Accleration Amplitude vs Iteration\"))\n",
    "\n",
    "\n",
    "fig.add_trace(go.Scatter(x=list(AdjustedParams_accelon.keys()),\n",
    "                                 y=along_amp_msis_accelon,\n",
    "                                  name= 'MSIS 86 Accel. On',\n",
    "                               mode='markers',\n",
    "                                    marker=dict(\n",
    "                                    size=10,),\n",
    "                                ), row=1, col=1,\n",
    "                                   )\n",
    "fig.add_trace(go.Scatter(x=list(AdjustedParams_accelon.keys()),\n",
    "                                 y=along_amp_msis_acceloff,\n",
    "                                  name= 'MSIS 86 Accel. Off',\n",
    "                               mode='markers',\n",
    "                                    marker=dict(\n",
    "                                    size=10,),\n",
    "                                ), row=1, col=1,\n",
    "                                   )\n",
    "\n",
    "fig.add_trace(go.Scatter(x=list(AdjustedParams_accelon.keys()),\n",
    "                                 y=cross_amp_msis_accelon,\n",
    "                                  name= 'MSIS 86 Accel. On',\n",
    "                               mode='markers',\n",
    "                                    marker=dict(\n",
    "                                    size=10,),\n",
    "                                ), row=2, col=1,\n",
    "                                   )\n",
    "fig.add_trace(go.Scatter(x=list(AdjustedParams_accelon.keys()),\n",
    "                                 y=cross_amp_msis_acceloff,\n",
    "                                  name= 'MSIS 86 Accel. Off',\n",
    "                               mode='markers',\n",
    "                                    marker=dict(\n",
    "                                    size=10,),\n",
    "                                ), row=2, col=1,\n",
    "                                   )\n",
    "\n",
    "\n",
    "fig.update_yaxes( title=r\"$\\frac{m}{s^2}$\",exponentformat= 'power',row=1, col=1)\n",
    "fig.update_yaxes( title=r\"$\\frac{m}{s^2}$\",exponentformat= 'power',row=2, col=1)\n",
    "fig.update_xaxes( title=\"Iteration Number\", row=2, col=1)\n",
    "\n",
    "\n",
    "\n",
    "\n",
    "iplot(fig)\n"
   ]
  },
  {
   "cell_type": "code",
   "execution_count": null,
   "metadata": {},
   "outputs": [],
   "source": [
    "# import plotly.graph_objects as go\n",
    "# import numpy as np\n",
    "# from plotly.offline import plot, iplot\n",
    "# %matplotlib inline\n",
    "# from plotly.subplots import make_subplots\n",
    "\n",
    "# fig = make_subplots(\n",
    "#     rows=2, cols=1,\n",
    "#     subplot_titles=(\"Along Track Accleration Amplitude vs Iteration\",\n",
    "#                     \"Cross Track Accleration Amplitude vs Iteration\"))\n",
    "\n",
    "\n",
    "# fig.add_trace(go.Scatter(x=list(AdjustedParams_msis86.keys()),\n",
    "#                                  y=along_amp_msis,\n",
    "#                                   name= 'MSIS 86',\n",
    "#                                mode='markers',\n",
    "#                                     marker=dict(\n",
    "#                                     size=10,),\n",
    "#                                 ), row=1, col=1,\n",
    "#                                    )\n",
    "\n",
    "# fig.add_trace(go.Scatter(x=list(AdjustedParams_dtm87.keys()),\n",
    "#                                  y=along_amp_dtm,\n",
    "#                                   name= 'DTM 87',\n",
    "#                                mode='markers',\n",
    "#                                     marker=dict(\n",
    "#                                     size=10,),\n",
    "#                                 ), row=1, col=1,\n",
    "#                                    )\n",
    "# fig.add_trace(go.Scatter(x=list(AdjustedParams_jaachia.keys()),\n",
    "#                                  y=along_amp_jaachia,\n",
    "#                                   name= 'Jaachia 71',\n",
    "#                                mode='markers',\n",
    "#                                     marker=dict(\n",
    "#                                     size=10,),\n",
    "#                                 ), row=1, col=1,\n",
    "#                                    )\n",
    "\n",
    "# fig.add_trace(go.Scatter(x=list(AdjustedParams_msis86.keys()),\n",
    "#                                  y=cross_amp_msis,\n",
    "#                                   name= 'MSIS 86',\n",
    "#                                mode='markers',\n",
    "#                                     marker=dict(\n",
    "#                                     size=10,),\n",
    "#                                 ), row=2, col=1,\n",
    "#                                    )\n",
    "\n",
    "# fig.add_trace(go.Scatter(x=list(AdjustedParams_dtm87.keys()),\n",
    "#                                  y=cross_amp_dtm,\n",
    "#                                   name= 'DTM 87',\n",
    "#                                mode='markers',\n",
    "#                                     marker=dict(\n",
    "#                                     size=10,),\n",
    "#                                 ), row=2, col=1,\n",
    "#                                    )\n",
    "# fig.add_trace(go.Scatter(x=list(AdjustedParams_jaachia.keys()),\n",
    "#                                  y=cross_amp_jaachia,\n",
    "#                                   name= 'Jaachia 71',\n",
    "#                                mode='markers',\n",
    "#                                     marker=dict(\n",
    "#                                     size=10,),\n",
    "#                                 ), row=2, col=1,\n",
    "#                                    )\n",
    "\n",
    "# fig.update_yaxes( title=r\"$\\frac{m}{s^2}$\",exponentformat= 'power',row=1, col=1)\n",
    "# fig.update_yaxes( title=r\"$\\frac{m}{s^2}$\",exponentformat= 'power',row=2, col=1)\n",
    "# # fig.update_xaxes( title=\"Iteration Number\", row=1, col=1)\n",
    "# fig.update_xaxes( title=\"Iteration Number\", row=2, col=1)\n",
    "\n",
    "# # fig.update_yaxes( yaxis_title=r\"$\\frac{m}{s^2}$\", xaxis_title=\"Iteration Number\",exponentformat= 'power',row=2, col=1)\n",
    "\n",
    "# # fig.update_layout(\n",
    "# #     title=\"Along Track Accleration Amplitude vs Iteration\",    )\n",
    "# # fig.update_layout(\n",
    "# #     yaxis_title=r\"$\\frac{m}{s^2}$\",\n",
    "# #     xaxis_title=\"Iteration Number\" )\n",
    "\n",
    "\n",
    "# iplot(fig)\n"
   ]
  },
  {
   "cell_type": "code",
   "execution_count": null,
   "metadata": {},
   "outputs": [],
   "source": []
  },
  {
   "cell_type": "code",
   "execution_count": null,
   "metadata": {},
   "outputs": [],
   "source": []
  },
  {
   "cell_type": "code",
   "execution_count": null,
   "metadata": {},
   "outputs": [],
   "source": []
  },
  {
   "cell_type": "code",
   "execution_count": null,
   "metadata": {},
   "outputs": [],
   "source": []
  },
  {
   "cell_type": "code",
   "execution_count": null,
   "metadata": {},
   "outputs": [],
   "source": []
  }
 ],
 "metadata": {
  "kernelspec": {
   "display_name": "Python 3",
   "language": "python",
   "name": "python3"
  },
  "language_info": {
   "codemirror_mode": {
    "name": "ipython",
    "version": 3
   },
   "file_extension": ".py",
   "mimetype": "text/x-python",
   "name": "python",
   "nbconvert_exporter": "python",
   "pygments_lexer": "ipython3",
   "version": "3.8.5"
  }
 },
 "nbformat": 4,
 "nbformat_minor": 4
}
