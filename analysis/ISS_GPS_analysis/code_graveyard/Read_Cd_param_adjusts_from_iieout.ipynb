{
 "cells": [
  {
   "cell_type": "markdown",
   "metadata": {
    "id": "_9cNiERYj24B"
   },
   "source": [
    "#### Load the data and import packages:"
   ]
  },
  {
   "cell_type": "code",
   "execution_count": 1,
   "metadata": {
    "colab": {
     "base_uri": "https://localhost:8080/"
    },
    "executionInfo": {
     "elapsed": 16657,
     "status": "ok",
     "timestamp": 1610391772114,
     "user": {
      "displayName": "Zach Waldron",
      "photoUrl": "https://lh3.googleusercontent.com/a-/AOh14GiCzdVXYLG9FLe6I24HOvjA1RBs2DVFXIEkOXNT=s64",
      "userId": "03255003422937377828"
     },
     "user_tz": 420
    },
    "id": "LzZMCwZ9jSed",
    "outputId": "6379fc66-906d-4a5b-eb73-5cdf6bd65744"
   },
   "outputs": [
    {
     "name": "stdout",
     "output_type": "stream",
     "text": [
      "Mounted at /content/drive\n"
     ]
    }
   ],
   "source": [
    "from google.colab import drive\n",
    "drive.mount('/content/drive',force_remount=True)"
   ]
  },
  {
   "cell_type": "code",
   "execution_count": 2,
   "metadata": {
    "executionInfo": {
     "elapsed": 16654,
     "status": "ok",
     "timestamp": 1610391772115,
     "user": {
      "displayName": "Zach Waldron",
      "photoUrl": "https://lh3.googleusercontent.com/a-/AOh14GiCzdVXYLG9FLe6I24HOvjA1RBs2DVFXIEkOXNT=s64",
      "userId": "03255003422937377828"
     },
     "user_tz": 420
    },
    "id": "Yih5s4uZkIae"
   },
   "outputs": [],
   "source": [
    "import numpy as np\n",
    "import pandas as pd\n",
    "import datetime\n",
    "%matplotlib inline\n",
    "import matplotlib.pyplot as plt\n",
    "from matplotlib import rc\n",
    "import matplotlib as mpl\n",
    "import os.path\n",
    "import linecache\n"
   ]
  },
  {
   "cell_type": "markdown",
   "metadata": {
    "id": "QIDQ36A7k5Dd"
   },
   "source": [
    "Identify data location:\n",
    "\n",
    "\n",
    "If the below indicates ``TRUE`` then the data path exists."
   ]
  },
  {
   "cell_type": "code",
   "execution_count": 3,
   "metadata": {
    "colab": {
     "base_uri": "https://localhost:8080/"
    },
    "executionInfo": {
     "elapsed": 17873,
     "status": "ok",
     "timestamp": 1610391773341,
     "user": {
      "displayName": "Zach Waldron",
      "photoUrl": "https://lh3.googleusercontent.com/a-/AOh14GiCzdVXYLG9FLe6I24HOvjA1RBs2DVFXIEkOXNT=s64",
      "userId": "03255003422937377828"
     },
     "user_tz": 420
    },
    "id": "jleo8YnJke02",
    "outputId": "2bcbb61a-038c-43e9-d9a5-38dc22551b3f"
   },
   "outputs": [
    {
     "name": "stdout",
     "output_type": "stream",
     "text": [
      "True\n",
      "True\n",
      "True\n"
     ]
    }
   ],
   "source": [
    "local_path = '/content/drive/MyDrive/GEODYN-KAMODO Project/notebooks/ISS_GPS_analysis/'\n",
    "\n",
    "path_to_data = '/content/drive/My Drive/GEODYN-KAMODO Project/RUNS/ISS_GPS/'\n",
    "\n",
    "msis86_path = path_to_data + 'MSIS86_run/'\n",
    "iieout_file_86    = msis86_path + 'iieout'\n",
    "print(os.path.isfile(iieout_file_86) )\n",
    "\n",
    "jacchia71_path = path_to_data + 'DTM_run/'\n",
    "iieout_file_71    = jacchia71_path + 'iieout'\n",
    "print(os.path.isfile(iieout_file_71) )\n",
    "\n",
    "DTM87_path = path_to_data + 'Jacchia_run/'\n",
    "iieout_file_87    = DTM87_path + 'iieout'\n",
    "print(os.path.isfile(iieout_file_87) )"
   ]
  },
  {
   "cell_type": "markdown",
   "metadata": {
    "id": "S35nwySrlADw"
   },
   "source": [
    "Change path to be the folder that has the functions.\n"
   ]
  },
  {
   "cell_type": "code",
   "execution_count": 4,
   "metadata": {
    "executionInfo": {
     "elapsed": 17868,
     "status": "ok",
     "timestamp": 1610391773342,
     "user": {
      "displayName": "Zach Waldron",
      "photoUrl": "https://lh3.googleusercontent.com/a-/AOh14GiCzdVXYLG9FLe6I24HOvjA1RBs2DVFXIEkOXNT=s64",
      "userId": "03255003422937377828"
     },
     "user_tz": 420
    },
    "id": "7HjPEUoBkzU_"
   },
   "outputs": [],
   "source": [
    "%load_ext autoreload\n",
    "%autoreload 2\n",
    "\n",
    "import sys  \n",
    "sys.path.insert(0, '/content/drive/My Drive/GEODYN-KAMODO Project/notebooks')\n"
   ]
  },
  {
   "cell_type": "markdown",
   "metadata": {
    "id": "7FinWN02lbrZ"
   },
   "source": [
    "#Get outout drag coefficient $C_d$"
   ]
  },
  {
   "cell_type": "markdown",
   "metadata": {
    "id": "q0FUuWXvlRsS"
   },
   "source": [
    "## Read the IIEOUT file to get the adjusted parameter summaries:\n"
   ]
  },
  {
   "cell_type": "code",
   "execution_count": 4,
   "metadata": {
    "executionInfo": {
     "elapsed": 17867,
     "status": "ok",
     "timestamp": 1610391773343,
     "user": {
      "displayName": "Zach Waldron",
      "photoUrl": "https://lh3.googleusercontent.com/a-/AOh14GiCzdVXYLG9FLe6I24HOvjA1RBs2DVFXIEkOXNT=s64",
      "userId": "03255003422937377828"
     },
     "user_tz": 420
    },
    "id": "9s9KcfWkqcd9"
   },
   "outputs": [],
   "source": []
  },
  {
   "cell_type": "code",
   "execution_count": 5,
   "metadata": {
    "executionInfo": {
     "elapsed": 18027,
     "status": "ok",
     "timestamp": 1610391773505,
     "user": {
      "displayName": "Zach Waldron",
      "photoUrl": "https://lh3.googleusercontent.com/a-/AOh14GiCzdVXYLG9FLe6I24HOvjA1RBs2DVFXIEkOXNT=s64",
      "userId": "03255003422937377828"
     },
     "user_tz": 420
    },
    "id": "FPnz_OqOlYUm"
   },
   "outputs": [],
   "source": [
    "\n",
    "def read_parameter_adjustments(iieout_file, Sat_main):\n",
    "    '''\n",
    "    The below code grabs the estimated adjusted parameters for the MAIN satellite for\n",
    "    the each iteration.\n",
    "    The data is stored in a dictionary and includes the associated statistics:\n",
    "            APRIORI  VALUE\n",
    "            PREVIOUS VALUE              \n",
    "            CURRENT  VALUE              \n",
    "            TOTAL DELTA\n",
    "            CURRENT DELTA\n",
    "            APRIORI SIGMA\n",
    "            CURRENT SIGMA\n",
    "    The dictionary is multi-dimensional, with the first dimension being iteration \n",
    "    number and second dimension being a dictionary that contains the above data.\n",
    "    '''\n",
    "    # find the line numbers of all the adjustment parameters in the too big iieout file\n",
    "    text_param_lists = ['XPOS',\n",
    "                        'YPOS',\n",
    "                        'ZPOS',\n",
    "                        'XVEL',\n",
    "                        'YVEL',\n",
    "                        'ZVEL',\n",
    "                        'CD' ]\n",
    "    lines_cd = [] \n",
    "    with open(iieout_file, 'r') as f:\n",
    "      for line_no, line_text in enumerate(f):\n",
    "          if 'CD' in line_text:\n",
    "            lines_cd.append(line_no)\n",
    "            # print(line_no, line_text)\n",
    "    lines = []\n",
    "    SatMain_AdjustedParams = {}\n",
    "    for i,val in enumerate(np.arange(1, np.size(lines_cd)+1)):\n",
    "      # print(val)\n",
    "      SatMain_AdjustedParams[val] = {}\n",
    "\n",
    "\n",
    "\n",
    "    for text_param_adjusts in text_param_lists: \n",
    "      with open(iieout_file, 'r') as f:\n",
    "        for line_no, line_text in enumerate(f):\n",
    "            if text_param_adjusts in line_text:\n",
    "              lines.append(line_no)\n",
    "              # print(line, line)\n",
    "\n",
    "      Sat_main_lines = []\n",
    "\n",
    "      # print(check_sat)\n",
    "      i=0\n",
    "      for il,val_lines in enumerate(lines):\n",
    "        check_sat = int(linecache.getline(iieout_file,val_lines+1)[10:18])\n",
    "        check_iter = int(linecache.getline(iieout_file,lines_cd[i]-27)[57:60])\n",
    "        \n",
    "        if check_sat == Sat_main:\n",
    "          # print(check_sat)\n",
    "          # print(check_iter)\n",
    "\n",
    "          data_1stline = linecache.getline(iieout_file,val_lines+1) #\n",
    "          data_2ndtline = linecache.getline(iieout_file,val_lines+2) #\n",
    "          data_3rdline = linecache.getline(iieout_file,val_lines+3) #\n",
    "          # print(data_1stline)\n",
    "          # print(data_2ndtline)\n",
    "          # print(data_3rdline)\n",
    "\n",
    "          apriorival = float(data_1stline[19:38])\n",
    "          prevval = float(data_2ndtline[19:38])\n",
    "          currentval  = float(data_3rdline[19:38])\n",
    "          totalDelta = float(data_2ndtline[42:62])\n",
    "          currentDelta =  float(data_3rdline[42:62])\n",
    "          AprioriSigma = float(data_2ndtline[63:78])\n",
    "          CurrentSigma =  float(data_3rdline[63:78])\n",
    "          \n",
    "          # print(text_param_adjusts)\n",
    "          SatMain_AdjustedParams[check_iter][text_param_adjusts] = [apriorival,\n",
    "                                                        prevval,\n",
    "                                                        currentval,\n",
    "                                                        totalDelta,\n",
    "                                                        currentDelta,\n",
    "                                                        AprioriSigma,\n",
    "                                                        CurrentSigma ]\n",
    "          i+=1\n",
    "          i = np.mod(i,6)\n",
    "          \n",
    "        else:\n",
    "          # print('Oops! Grabbing data for the wrong satellite: ', str(check_sat))\n",
    "          continue\n",
    "\n",
    "    return(SatMain_AdjustedParams)"
   ]
  },
  {
   "cell_type": "code",
   "execution_count": 6,
   "metadata": {
    "executionInfo": {
     "elapsed": 47471,
     "status": "ok",
     "timestamp": 1610391802952,
     "user": {
      "displayName": "Zach Waldron",
      "photoUrl": "https://lh3.googleusercontent.com/a-/AOh14GiCzdVXYLG9FLe6I24HOvjA1RBs2DVFXIEkOXNT=s64",
      "userId": "03255003422937377828"
     },
     "user_tz": 420
    },
    "id": "SKFauuLaqB7O"
   },
   "outputs": [],
   "source": [
    "# iieout_file_86\n",
    "# iieout_file_71\n",
    "# iieout_file_87\n",
    "\n",
    "Sat_main = 9806701   \n",
    "Params_dict_86 = read_parameter_adjustments(iieout_file_86, Sat_main)\n",
    "Params_dict_71 = read_parameter_adjustments(iieout_file_71, Sat_main)\n",
    "Params_dict_87 = read_parameter_adjustments(iieout_file_87, Sat_main)"
   ]
  },
  {
   "cell_type": "code",
   "execution_count": 7,
   "metadata": {
    "colab": {
     "base_uri": "https://localhost:8080/",
     "height": 697
    },
    "executionInfo": {
     "elapsed": 48519,
     "status": "error",
     "timestamp": 1610391804011,
     "user": {
      "displayName": "Zach Waldron",
      "photoUrl": "https://lh3.googleusercontent.com/a-/AOh14GiCzdVXYLG9FLe6I24HOvjA1RBs2DVFXIEkOXNT=s64",
      "userId": "03255003422937377828"
     },
     "user_tz": 420
    },
    "id": "mQh2X5tsCgAl",
    "outputId": "cbfa3b31-0b20-4fe1-8912-a8c202c0c385"
   },
   "outputs": [
    {
     "ename": "NameError",
     "evalue": "ignored",
     "output_type": "error",
     "traceback": [
      "\u001b[0;31m---------------------------------------------------------------------------\u001b[0m",
      "\u001b[0;31mNameError\u001b[0m                                 Traceback (most recent call last)",
      "\u001b[0;32m<ipython-input-7-9ef50ee12bf9>\u001b[0m in \u001b[0;36m<module>\u001b[0;34m()\u001b[0m\n\u001b[1;32m     25\u001b[0m   \u001b[0max1\u001b[0m\u001b[0;34m.\u001b[0m\u001b[0mset\u001b[0m\u001b[0;34m(\u001b[0m\u001b[0mxlabel\u001b[0m\u001b[0;34m=\u001b[0m  \u001b[0;34m'Iteration Number'\u001b[0m\u001b[0;34m)\u001b[0m\u001b[0;34m\u001b[0m\u001b[0;34m\u001b[0m\u001b[0m\n\u001b[1;32m     26\u001b[0m \u001b[0;34m\u001b[0m\u001b[0m\n\u001b[0;32m---> 27\u001b[0;31m   \u001b[0mmsis_patch\u001b[0m \u001b[0;34m=\u001b[0m \u001b[0mmpatches\u001b[0m\u001b[0;34m.\u001b[0m\u001b[0mPatch\u001b[0m\u001b[0;34m(\u001b[0m\u001b[0mcolor\u001b[0m\u001b[0;34m=\u001b[0m\u001b[0mcolor86\u001b[0m\u001b[0;34m,\u001b[0m \u001b[0mlabel\u001b[0m\u001b[0;34m=\u001b[0m\u001b[0;34m'MSIS'\u001b[0m\u001b[0;34m)\u001b[0m\u001b[0;34m\u001b[0m\u001b[0;34m\u001b[0m\u001b[0m\n\u001b[0m\u001b[1;32m     28\u001b[0m   \u001b[0mdtm_patch\u001b[0m \u001b[0;34m=\u001b[0m \u001b[0mmpatches\u001b[0m\u001b[0;34m.\u001b[0m\u001b[0mPatch\u001b[0m\u001b[0;34m(\u001b[0m\u001b[0mcolor\u001b[0m\u001b[0;34m=\u001b[0m\u001b[0mcolor87\u001b[0m\u001b[0;34m,\u001b[0m \u001b[0mlabel\u001b[0m\u001b[0;34m=\u001b[0m\u001b[0;34m'DTM'\u001b[0m\u001b[0;34m)\u001b[0m\u001b[0;34m\u001b[0m\u001b[0;34m\u001b[0m\u001b[0m\n\u001b[1;32m     29\u001b[0m   \u001b[0mjacchia_patch\u001b[0m \u001b[0;34m=\u001b[0m \u001b[0mmpatches\u001b[0m\u001b[0;34m.\u001b[0m\u001b[0mPatch\u001b[0m\u001b[0;34m(\u001b[0m\u001b[0mcolor\u001b[0m\u001b[0;34m=\u001b[0m\u001b[0mcolor71\u001b[0m\u001b[0;34m,\u001b[0m \u001b[0mlabel\u001b[0m\u001b[0;34m=\u001b[0m\u001b[0;34m'Jacchia'\u001b[0m\u001b[0;34m)\u001b[0m\u001b[0;34m\u001b[0m\u001b[0;34m\u001b[0m\u001b[0m\n",
      "\u001b[0;31mNameError\u001b[0m: name 'mpatches' is not defined"
     ]
    },
    {
     "name": "stderr",
     "output_type": "stream",
     "text": [
      "findfont: Font family ['sans-serif'] not found. Falling back to DejaVu Sans.\n",
      "findfont: Font family ['sans-serif'] not found. Falling back to DejaVu Sans.\n"
     ]
    },
    {
     "data": {
      "image/png": "[encoded data removed]",
      "text/plain": [
       "<Figure size 504x432 with 1 Axes>"
      ]
     },
     "metadata": {
      "needs_background": "light",
      "tags": []
     },
     "output_type": "display_data"
    }
   ],
   "source": [
    "mpl.rcParams['lines.markersize'] = 18\n",
    "plt.rcParams['axes.grid'] = True\n",
    "plt.rcParams['grid.alpha'] = 1\n",
    "plt.rcParams['grid.color'] = \"#cccccc\"\n",
    "plt.rcParams.update({'font.size': 16})\n",
    "rc('font',**{'family':'sans-serif','sans-serif':['Calibri']})\n",
    "plt.rcParams['axes.titlesize']='large' \n",
    "plt.rcParams['axes.titlepad']= 3\n",
    "rc('text', usetex=False)\n",
    "plt.rcParams[\"legend.loc\"] = 'best'\n",
    "\n",
    "color86 = 'tab:blue'\n",
    "color71 = 'tab:red'\n",
    "color87 = 'tab:green'\n",
    "\n",
    "fig, ( ax1) = plt.subplots(1, figsize=(7,6), sharex=False)\n",
    "for i in Params_dict_86.keys():\n",
    "  # print(i)\n",
    "  ax1.set_title('Cd Output (Current Value) at each Iteration', y=1.1)\n",
    "  ax1.plot(i, Params_dict_86[i]['CD'][2],'.', color = color86, label = 'MSIS')\n",
    "  ax1.plot(i, Params_dict_87[i]['CD'][2],'.', color = color87, label = 'DTM')\n",
    "  ax1.plot(i, Params_dict_71[i]['CD'][2],'.', color = color71, label = 'Jacchia')\n",
    "\n",
    "  ax1.set(ylabel=  'Cd [unitless]')  \n",
    "  ax1.set(xlabel=  'Iteration Number')  \n",
    "  \n",
    "  msis_patch = mpatches.Patch(color=color86, label='MSIS')\n",
    "  dtm_patch = mpatches.Patch(color=color87, label='DTM')\n",
    "  jacchia_patch = mpatches.Patch(color=color71, label='Jacchia')\n",
    "\n",
    "  # plt.legend( ['MSIS', 'DTM','Jacchia'])\n",
    "  fig.axes[0].legend( handles=[msis_patch,dtm_patch,jacchia_patch],bbox_to_anchor=(0, 1.0, 1.0, .08), ncol=3, mode=\"expand\", borderaxespad=0.)\n",
    "\n",
    "  fig.tight_layout( pad=1.0)\n",
    "\n",
    "\n",
    "  for ax in fig.axes:\n",
    "      plt.sca(ax)\n",
    "      plt.xticks(rotation=45)\n",
    "\n",
    "import os\n",
    "images_dir = local_path +'plots'\n",
    "if not os.path.exists(images_dir):\n",
    "    os.makedirs(images_dir)\n",
    "# plt.savefig(f\"{images_dir}/StateVector_comparison.png\", bbox_inches='tight')\n",
    "plt.savefig(f\"{images_dir}/Cd_comparison.png\", bbox_inches='tight')\n"
   ]
  },
  {
   "cell_type": "code",
   "execution_count": 9,
   "metadata": {
    "colab": {
     "base_uri": "https://localhost:8080/",
     "height": 509
    },
    "executionInfo": {
     "elapsed": 2786,
     "status": "ok",
     "timestamp": 1610392170753,
     "user": {
      "displayName": "Zach Waldron",
      "photoUrl": "https://lh3.googleusercontent.com/a-/AOh14GiCzdVXYLG9FLe6I24HOvjA1RBs2DVFXIEkOXNT=s64",
      "userId": "03255003422937377828"
     },
     "user_tz": 420
    },
    "id": "nMjuR6spxc4I",
    "outputId": "5183a239-0cad-49af-9043-7774aaa0102d"
   },
   "outputs": [
    {
     "data": {
      "image/png": "[encoded data removed]",
      "text/plain": [
       "<Figure size 792x576 with 6 Axes>"
      ]
     },
     "metadata": {
      "needs_background": "light",
      "tags": []
     },
     "output_type": "display_data"
    }
   ],
   "source": [
    "mpl.rcParams['lines.markersize'] = 15\n",
    "plt.rcParams['axes.grid'] = True\n",
    "plt.rcParams['grid.alpha'] = 1\n",
    "plt.rcParams['grid.color'] = \"#cccccc\"\n",
    "plt.rcParams.update({'font.size': 12})\n",
    "rc('font',**{'family':'sans-serif','sans-serif':['Calibri']})\n",
    "plt.rcParams['axes.titlesize']='large' \n",
    "plt.rcParams['axes.titlepad']= 3\n",
    "rc('text', usetex=False)\n",
    "plt.rcParams[\"legend.loc\"] = 'best'\n",
    "import matplotlib.ticker as mtick\n",
    "import matplotlib.patches as mpatches\n",
    "\n",
    "color86 = 'tab:blue'\n",
    "color71 = 'tab:red'\n",
    "color87 = 'tab:green'\n",
    "\n",
    "fig, ( ax) = plt.subplots(2,3, figsize=(11,8), sharex=False)\n",
    "# gs = fig.add_gridspec(2,3)\n",
    "for i in Params_dict_86.keys():\n",
    "  # print(i)\n",
    "  # ax[0,0].set_title('Cd Output (Current Value) at each Iteration')\n",
    "  fig.suptitle('State Vector Parameter Adjustments at each Iteration',y=0.965)\n",
    "  ax[0,0].set_title('Cd')\n",
    "  ax[0,0].plot(i, Params_dict_86[i]['CD'][2],'.', color = color86, label = 'MSIS')\n",
    "  ax[0,0].plot(i, Params_dict_87[i]['CD'][2],'.', color = color87, label = 'DTM')\n",
    "  ax[0,0].plot(i, Params_dict_71[i]['CD'][2],'.', color = color71, label = 'Jacchia')\n",
    "\n",
    "  ax[0,1].set_title('Y')\n",
    "  ax[0,1].plot(i, Params_dict_86[i]['YPOS'][2],'.', color = color86, label = 'MSIS - it. 6')\n",
    "  ax[0,1].plot(i, Params_dict_87[i]['YPOS'][2],'.', color = color87, label = 'DTM - it. 6')\n",
    "  ax[0,1].plot(i, Params_dict_71[i]['YPOS'][2],'.', color = color71, label = 'Jacchia - it. 6')\n",
    "\n",
    "  ax[0,2].set_title('Z')\n",
    "  ax[0,2].plot(i, Params_dict_86[i]['ZPOS'][2],'.', color = color86, label = 'MSIS - it. 6')\n",
    "  ax[0,2].plot(i, Params_dict_87[i]['ZPOS'][2],'.', color = color87, label = 'DTM - it. 6')\n",
    "  ax[0,2].plot(i, Params_dict_71[i]['ZPOS'][2],'.', color = color71, label = 'Jacchia - it. 6')\n",
    "\n",
    "\n",
    "  ax[1,0].set_title(r'$\\dot{X}$')\n",
    "  ax[1,0].plot(i, Params_dict_86[i]['XVEL'][2],'.', color = color86, label = 'MSIS - it. 6')\n",
    "  ax[1,0].plot(i, Params_dict_87[i]['XVEL'][2],'.', color = color87, label = 'DTM - it. 6')\n",
    "  ax[1,0].plot(i, Params_dict_71[i]['XVEL'][2],'.', color = color71, label = 'Jacchia - it. 6')\n",
    "\n",
    "  ax[1,1].set_title(r'$\\dot{Y}$')\n",
    "  ax[1,1].plot(i, Params_dict_86[i]['YVEL'][2],'.', color = color86, label = 'MSIS - it. 6')\n",
    "  ax[1,1].plot(i, Params_dict_87[i]['YVEL'][2],'.', color = color87, label = 'DTM - it. 6')\n",
    "  ax[1,1].plot(i, Params_dict_71[i]['YVEL'][2],'.', color = color71, label = 'Jacchia - it. 6')\n",
    "\n",
    "  ax[1,2].set_title(r'$\\dot{Z}$')\n",
    "  ax[1,2].plot(i, Params_dict_86[i]['ZVEL'][2],'.', color = color86, label = 'MSIS - it. 6')\n",
    "  ax[1,2].plot(i, Params_dict_87[i]['ZVEL'][2],'.', color = color87, label = 'DTM - it. 6')\n",
    "  ax[1,2].plot(i, Params_dict_71[i]['ZVEL'][2],'.', color = color71, label = 'Jacchia - it. 6')\n",
    "\n",
    "  # ax[1,2].text(6,Params_dict_86[i]['ZVEL'][2],  'MSIS', bbox=dict(color=color86, alpha=0.5) , fontsize = 18)\n",
    "  # ax[1,2].text(6,  Params_dict_87[i]['ZVEL'][2], 'DTM', bbox=dict(color=color87, alpha=0.5) , fontsize = 18)\n",
    "  # ax[1,2].text(6, Params_dict_71[i]['ZVEL'][2], 'Jacchia', bbox=dict(color=color71, alpha=0.5) , fontsize = 18)\n",
    "\n",
    "  msis_patch = mpatches.Patch(color=color86, label='MSIS')\n",
    "  dtm_patch = mpatches.Patch(color=color87, label='DTM')\n",
    "  jacchia_patch = mpatches.Patch(color=color71, label='Jacchia')\n",
    "\n",
    "  # plt.legend( ['MSIS', 'DTM','Jacchia'])\n",
    "  fig.axes[2].legend( handles=[msis_patch,dtm_patch,jacchia_patch],bbox_to_anchor=(-0.8, 1.1, 1.5, .107), ncol=3, mode=\"expand\", borderaxespad=0.)\n",
    "\n",
    "fig.tight_layout( pad=1.0)\n",
    "plt.subplots_adjust(top=0.85)     # Add space at top\n",
    "\n",
    "\n",
    "for ax in fig.axes:\n",
    "    plt.sca(ax)\n",
    "    plt.xticks(rotation=45) \n",
    "    ax.yaxis.set_major_formatter(mtick.FormatStrFormatter('%.2e'))\n",
    "    # ax.legend(handles=[msis_patch,dtm_patch,jacchia_patch],loc = 'best', ncol=3, mode=\"expand\", borderaxespad=0.)\n",
    "\n",
    "\n",
    "import os\n",
    "images_dir = local_path +'plots'\n",
    "if not os.path.exists(images_dir):\n",
    "    os.makedirs(images_dir)\n",
    "plt.savefig(f\"{images_dir}/StateVector_comparison.png\", bbox_inches='tight')"
   ]
  },
  {
   "cell_type": "code",
   "execution_count": null,
   "metadata": {
    "executionInfo": {
     "elapsed": 48500,
     "status": "aborted",
     "timestamp": 1610391804005,
     "user": {
      "displayName": "Zach Waldron",
      "photoUrl": "https://lh3.googleusercontent.com/a-/AOh14GiCzdVXYLG9FLe6I24HOvjA1RBs2DVFXIEkOXNT=s64",
      "userId": "03255003422937377828"
     },
     "user_tz": 420
    },
    "id": "_8oDLuud5QoW"
   },
   "outputs": [],
   "source": [
    "\n"
   ]
  },
  {
   "cell_type": "code",
   "execution_count": null,
   "metadata": {
    "executionInfo": {
     "elapsed": 48498,
     "status": "aborted",
     "timestamp": 1610391804006,
     "user": {
      "displayName": "Zach Waldron",
      "photoUrl": "https://lh3.googleusercontent.com/a-/AOh14GiCzdVXYLG9FLe6I24HOvjA1RBs2DVFXIEkOXNT=s64",
      "userId": "03255003422937377828"
     },
     "user_tz": 420
    },
    "id": "rqrjwge16D9G"
   },
   "outputs": [],
   "source": []
  },
  {
   "cell_type": "code",
   "execution_count": null,
   "metadata": {
    "executionInfo": {
     "elapsed": 48498,
     "status": "aborted",
     "timestamp": 1610391804008,
     "user": {
      "displayName": "Zach Waldron",
      "photoUrl": "https://lh3.googleusercontent.com/a-/AOh14GiCzdVXYLG9FLe6I24HOvjA1RBs2DVFXIEkOXNT=s64",
      "userId": "03255003422937377828"
     },
     "user_tz": 420
    },
    "id": "zdjGa5W7w_b9"
   },
   "outputs": [],
   "source": [
    "# '''\n",
    "# The below code grabs the estimated adjusted parameters for the MAIN satellite for\n",
    "# the each iteration.\n",
    "# The data is stored in a dictionary and includes the associated statistics:\n",
    "#         APRIORI  VALUE\n",
    "#         PREVIOUS VALUE              \n",
    "#         CURRENT  VALUE              \n",
    "#         TOTAL DELTA\n",
    "#         CURRENT DELTA\n",
    "#         APRIORI SIGMA\n",
    "#         CURRENT SIGMA\n",
    "# The dictionary is multi-dimensional, with the first dimension being iteration \n",
    "# number and second dimension being a dictionary that contains the above data.\n",
    "# '''\n",
    "\n",
    "# # find the line numbers of all the adjustment parameters in the too big iieout file\n",
    "# text_param_lists = ['XPOS',\n",
    "#                     'YPOS',\n",
    "#                     'ZPOS',\n",
    "#                     'XVEL',\n",
    "#                     'YVEL',\n",
    "#                     'ZVEL',\n",
    "#                     'CD' ]\n",
    "# lines = []\n",
    "# SatMain_AdjustedParams = {}\n",
    "# for i,val in enumerate(np.arange(1, np.size(lines_cd)+1)):\n",
    "#   # print(val)\n",
    "#   SatMain_AdjustedParams[val] = {}\n",
    "\n",
    "# lines_cd = [] \n",
    "# with open(iieout_file, 'r') as f:\n",
    "#   for line_no, line_text in enumerate(f):\n",
    "#       if 'CD' in line_text:\n",
    "#         lines_cd.append(line_no)\n",
    "#         # print(line_no, line_text)\n",
    "\n",
    "# for text_param_adjusts in text_param_lists: \n",
    "#   with open(iieout_file, 'r') as f:\n",
    "#     for line_no, line_text in enumerate(f):\n",
    "#         if text_param_adjusts in line_text:\n",
    "#           lines.append(line_no)\n",
    "#           # print(line, line)\n",
    "\n",
    "#   Sat_main = 9806701   \n",
    "#   Sat_main_lines = []\n",
    "\n",
    "#   # print(check_sat)\n",
    "#   i=0\n",
    "#   for il,val_lines in enumerate(lines):\n",
    "#     check_sat = int(linecache.getline(iieout_file,val_lines+1)[10:18])\n",
    "#     check_iter = int(linecache.getline(iieout_file,lines_cd[i]-27)[57:60])\n",
    "    \n",
    "#     if check_sat == Sat_main:\n",
    "#       # print(check_sat)\n",
    "#       # print(check_iter)\n",
    "\n",
    "#       data_1stline = linecache.getline(iieout_file,val_lines+1) #\n",
    "#       data_2ndtline = linecache.getline(iieout_file,val_lines+2) #\n",
    "#       data_3rdline = linecache.getline(iieout_file,val_lines+3) #\n",
    "#       # print(data_1stline)\n",
    "#       # print(data_2ndtline)\n",
    "#       # print(data_3rdline)\n",
    "\n",
    "#       apriorival = float(data_1stline[19:38])\n",
    "#       prevval = float(data_2ndtline[19:38])\n",
    "#       currentval  = float(data_3rdline[19:38])\n",
    "#       totalDelta = float(data_2ndtline[42:62])\n",
    "#       currentDelta =  float(data_3rdline[42:62])\n",
    "#       AprioriSigma = float(data_2ndtline[63:78])\n",
    "#       CurrentSigma =  float(data_3rdline[63:78])\n",
    "      \n",
    "#       # print(text_param_adjusts)\n",
    "#       SatMain_AdjustedParams[check_iter][text_param_adjusts] = [apriorival,\n",
    "#                                                     prevval,\n",
    "#                                                     currentval,\n",
    "#                                                     totalDelta,\n",
    "#                                                     currentDelta,\n",
    "#                                                     AprioriSigma,\n",
    "#                                                     CurrentSigma ]\n",
    "#       i+=1\n",
    "#       i = np.mod(i,6)\n",
    "      \n",
    "#     else:\n",
    "#       # print('Oops! Grabbing data for the wrong satellite: ', str(check_sat))\n",
    "#       continue"
   ]
  },
  {
   "cell_type": "code",
   "execution_count": null,
   "metadata": {
    "executionInfo": {
     "elapsed": 48497,
     "status": "aborted",
     "timestamp": 1610391804009,
     "user": {
      "displayName": "Zach Waldron",
      "photoUrl": "https://lh3.googleusercontent.com/a-/AOh14GiCzdVXYLG9FLe6I24HOvjA1RBs2DVFXIEkOXNT=s64",
      "userId": "03255003422937377828"
     },
     "user_tz": 420
    },
    "id": "wUMtqqNW6X0E"
   },
   "outputs": [],
   "source": []
  },
  {
   "cell_type": "code",
   "execution_count": null,
   "metadata": {
    "executionInfo": {
     "elapsed": 48494,
     "status": "aborted",
     "timestamp": 1610391804009,
     "user": {
      "displayName": "Zach Waldron",
      "photoUrl": "https://lh3.googleusercontent.com/a-/AOh14GiCzdVXYLG9FLe6I24HOvjA1RBs2DVFXIEkOXNT=s64",
      "userId": "03255003422937377828"
     },
     "user_tz": 420
    },
    "id": "13sXJslK2BZ2"
   },
   "outputs": [],
   "source": []
  },
  {
   "cell_type": "code",
   "execution_count": null,
   "metadata": {
    "executionInfo": {
     "elapsed": 48493,
     "status": "aborted",
     "timestamp": 1610391804010,
     "user": {
      "displayName": "Zach Waldron",
      "photoUrl": "https://lh3.googleusercontent.com/a-/AOh14GiCzdVXYLG9FLe6I24HOvjA1RBs2DVFXIEkOXNT=s64",
      "userId": "03255003422937377828"
     },
     "user_tz": 420
    },
    "id": "hOXa3kGamLp9"
   },
   "outputs": [],
   "source": [
    "\n",
    "\n",
    "# # find the line numbers of all the adjustment parameters in the too big iieout file\n",
    "# text_param_adjusts = 'PARAMETER ADJUSTMENT SUMMARY FOR INNER ITERATION  6'\n",
    "# lines = []\n",
    "# with open(iieout_file, 'r') as f:\n",
    "#   for line_no, line_text in enumerate(f):\n",
    "#       if text_param_adjusts in line_text:\n",
    "#         lines.append(line_no)\n",
    "#         # print(line, line)\n",
    "\n",
    "# Sat_main = 9806701   \n",
    "# Sat_main_lines = []\n",
    "# # go through the line nos and grab the data?\n",
    "# for i,iline in enumerate(lines):\n",
    "# # iline = lines[0]\n",
    "#   data_1stline = ([linecache.getline(iieout_file,iline+5)]) #\n",
    "#   # print(iline, linecache.getline(iieout_file,iline+5)[10:18])\n",
    "#   try:\n",
    "#     satid_param = int(linecache.getline(iieout_file,iline+5)[10:18])\n",
    "#   except:\n",
    "#     # print('No satellite here')\n",
    "#     continue\n",
    "\n",
    "#   if satid_param == Sat_main:\n",
    "#     Sat_main_lines.append(iline+5)\n",
    "#   # with open(iieout_file, 'r') as f:  # TODO: this is very slow and can be improved\n",
    "#   #   for _ in range(iline+1):\n",
    "#   #     f.readline() \n",
    "#   #   line = f.readline()\n",
    "#     # print(line)\n"
   ]
  },
  {
   "cell_type": "code",
   "execution_count": null,
   "metadata": {
    "executionInfo": {
     "elapsed": 48491,
     "status": "aborted",
     "timestamp": 1610391804010,
     "user": {
      "displayName": "Zach Waldron",
      "photoUrl": "https://lh3.googleusercontent.com/a-/AOh14GiCzdVXYLG9FLe6I24HOvjA1RBs2DVFXIEkOXNT=s64",
      "userId": "03255003422937377828"
     },
     "user_tz": 420
    },
    "id": "vR1izT0Cmryw"
   },
   "outputs": [],
   "source": []
  }
 ],
 "metadata": {
  "colab": {
   "authorship_tag": "ABX9TyNQvIXohtQOqrJOIgc1syRJ",
   "name": "Read_Cd_param_adjusts_from_iieout.ipynb",
   "provenance": []
  },
  "kernelspec": {
   "display_name": "Python 3",
   "language": "python",
   "name": "python3"
  },
  "language_info": {
   "codemirror_mode": {
    "name": "ipython",
    "version": 3
   },
   "file_extension": ".py",
   "mimetype": "text/x-python",
   "name": "python",
   "nbconvert_exporter": "python",
   "pygments_lexer": "ipython3",
   "version": "3.8.5"
  }
 },
 "nbformat": 4,
 "nbformat_minor": 1
}
