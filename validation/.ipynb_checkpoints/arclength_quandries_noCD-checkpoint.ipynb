{
 "cells": [
  {
   "cell_type": "code",
   "execution_count": null,
   "id": "f50c0394",
   "metadata": {
    "ExecuteTime": {
     "start_time": "2021-11-10T21:10:46.316Z"
    }
   },
   "outputs": [
    {
     "name": "stdout",
     "output_type": "stream",
     "text": [
      "     Loading ... icesat2_2018317_12hr.msis2.NoCD_Step10_Arc12 \n",
      "     Loading ... icesat2_2018317_24hr.msis2.NoCD_Step10_Arc24 \n",
      "     Loading ... icesat2_2018317_36hr.msis2.NoCD_Step10_Arc36 \n",
      "     Loading ... icesat2_2018317_48hr.msis2.NoCD_Step10_Arc48 \n"
     ]
    }
   ],
   "source": [
    "%load_ext autoreload\n",
    "%autoreload 2\n",
    "\n",
    "import sys  \n",
    "import pickle \n",
    "sys.path.insert(0, '/data/geodyn_proj/pygeodyn/pygeodyn_develop/')\n",
    "from PYGEODYN import Pygeodyn\n",
    "\n",
    "\n",
    "Obj_Geodyn = {}\n",
    "for i,val in enumerate(['12','24','36','48', '53']):\n",
    "    run_settings = \"/data/geodyn_proj/validation/NoCDAdj_diffarcs_run_settings/ControlRun_Arc\"+ val +\".yaml\"\n",
    "    \n",
    "    ### Load the data into an object\n",
    "    Obj_Geodyn[val] = Pygeodyn(run_settings)\n",
    "    Obj_Geodyn[val].getData()\n",
    "\n",
    "    "
   ]
  },
  {
   "cell_type": "code",
   "execution_count": null,
   "id": "1eadc0a3",
   "metadata": {
    "ExecuteTime": {
     "start_time": "2021-11-10T21:10:46.319Z"
    }
   },
   "outputs": [],
   "source": []
  },
  {
   "cell_type": "code",
   "execution_count": null,
   "id": "18768082",
   "metadata": {},
   "outputs": [],
   "source": []
  },
  {
   "cell_type": "markdown",
   "id": "5c65c7d8",
   "metadata": {},
   "source": [
    "#### Put stats in df and print a preview\n"
   ]
  },
  {
   "cell_type": "code",
   "execution_count": null,
   "id": "b2127e06",
   "metadata": {
    "ExecuteTime": {
     "start_time": "2021-11-10T21:10:46.322Z"
    }
   },
   "outputs": [],
   "source": [
    "import pandas as pd\n",
    "import numpy as np\n",
    "# df = pd.DataFrame(\n",
    "data={'ArcLength'  : [],\n",
    "                     'Total_iters'   : [],\n",
    "                     'RMS POS (run)' :  [] ,\n",
    "                     'RMS VEL (run)' :  [] ,\n",
    "                     'RMS_total'     :  [] ,\n",
    "                     'w_RMS_total'   :  [] ,\n",
    "                     'PCEX_NUMBER'   :  [] ,\n",
    "                     'PCEX_MEAN'     :  [] ,\n",
    "                     'PCEX_RMS'      :  [] ,\n",
    "                     'PCEX_No.-WTD'  :  [] ,\n",
    "                     'PCEX_WTD-MEAN' :  [] ,\n",
    "                     'PCEX_WTD-RMS'  :  [] ,\n",
    "                     'PCEX_TYPE'     :  [] ,\n",
    "                     'PCEY_NUMBER'   :  [] ,\n",
    "                     'PCEY_MEAN'     :  [] ,\n",
    "                     'PCEY_RMS'      :  [] ,\n",
    "                     'PCEY_No.-WTD'  :  [] ,\n",
    "                     'PCEY_WTD-MEAN' :  [] ,\n",
    "                     'PCEY_WTD-RMS'  :  [] ,\n",
    "                     'PCEY_TYPE'     :  [] ,\n",
    "                     'PCEZ_NUMBER'   :  [] ,\n",
    "                     'PCEZ_MEAN'     :  [] ,\n",
    "                     'PCEZ_RMS'      :  [] ,\n",
    "                     'PCEZ_No.-WTD'  :  [] ,\n",
    "                     'PCEZ_WTD-MEAN' :  [] ,\n",
    "                     'PCEZ_WTD-RMS'  :  [] ,\n",
    "                     'PCEZ_TYPE'     :  [] ,\n",
    "                     'X'    :  [] ,\n",
    "                     'Y'    :  [] ,\n",
    "                     'Z'    :  [] ,\n",
    "                     'Xdot' :  [] ,\n",
    "                     'Ydot' :  [] ,\n",
    "                     'Zdot' :  [] ,\n",
    "                    }\n",
    "\n",
    "arc = '2018.317'\n",
    "for i,val in enumerate(['12','24','36','48', '53']):\n",
    "\n",
    "    final_iter  = float(Obj_Geodyn[val].__dict__['run_parameters'+arc]['total_iterations'])\n",
    "    index_iter  = Obj_Geodyn[val].__dict__['Residuals_summary'][arc].Iter == final_iter\n",
    "\n",
    "    \n",
    "    #### Index the component RMS values\n",
    "    index_PCEX = Obj_Geodyn[val].__dict__['Residuals_summary'][arc][index_iter]['TYPE'] =='PCEX'\n",
    "    index_PCEY = Obj_Geodyn[val].__dict__['Residuals_summary'][arc][index_iter]['TYPE'] =='PCEY'\n",
    "    index_PCEZ = Obj_Geodyn[val].__dict__['Residuals_summary'][arc][index_iter]['TYPE'] =='PCEZ'\n",
    "    #\n",
    "    rms_PCEX = float(Obj_Geodyn[val].__dict__['Residuals_summary'][arc][index_iter][index_PCEX]['RMS'])\n",
    "    rms_PCEY = float(Obj_Geodyn[val].__dict__['Residuals_summary'][arc][index_iter][index_PCEY]['RMS'])\n",
    "    rms_PCEZ = float(Obj_Geodyn[val].__dict__['Residuals_summary'][arc][index_iter][index_PCEZ]['RMS'])\n",
    "    w_rms_PCEX = float(Obj_Geodyn[val].__dict__['Residuals_summary'][arc][index_iter][index_PCEX]['WTD-RMS'])\n",
    "    w_rms_PCEY = float(Obj_Geodyn[val].__dict__['Residuals_summary'][arc][index_iter][index_PCEY]['WTD-RMS'])\n",
    "    w_rms_PCEZ = float(Obj_Geodyn[val].__dict__['Residuals_summary'][arc][index_iter][index_PCEZ]['WTD-RMS'])\n",
    "\n",
    "    #### Total number of observational Residuals\n",
    "    N = np.sum(np.array(Obj_Geodyn[val].__dict__['Residuals_summary'][arc][index_iter]['NUMBER']))\n",
    "    RMS_total = np.sqrt( ( np.square(rms_PCEX) + np.square(rms_PCEY) + np.square(rms_PCEZ) )/3  )\n",
    "    w_RMS_total = np.sqrt( ( np.square(w_rms_PCEX) + np.square(w_rms_PCEY) + np.square(w_rms_PCEZ) )/3  )\n",
    "\n",
    "    \n",
    "    print('Arc Length:         ', val)\n",
    "    print('RMS POS:            ',Obj_Geodyn[val].__dict__['Statistics'][arc]['RMS POS'])\n",
    "    print('RMS VEL:            ',Obj_Geodyn[val].__dict__['Statistics'][arc]['RMS VEL'])\n",
    "    print('N:                  ', N )\n",
    "    print('Total RMS (XYZ):    ',RMS_total)\n",
    "    print('Total WTD-RMS (XYZ):',w_RMS_total)\n",
    "    print()\n",
    "    print(Obj_Geodyn[val].__dict__['Residuals_summary'][arc][index_iter])\n",
    "    print()\n",
    "    print('Starting Vector')\n",
    "    print('X:         ',Obj_Geodyn[val].__dict__['Statistics'][arc]['X POS'])\n",
    "    print('Y:         ',Obj_Geodyn[val].__dict__['Statistics'][arc]['Y POS'])\n",
    "    print('Z:         ',Obj_Geodyn[val].__dict__['Statistics'][arc]['Z POS'])\n",
    "    print('Xdot:      ',Obj_Geodyn[val].__dict__['Statistics'][arc]['X VEL'])\n",
    "    print('Ydot:      ',Obj_Geodyn[val].__dict__['Statistics'][arc]['Y VEL'])\n",
    "    print('Zdot:      ',Obj_Geodyn[val].__dict__['Statistics'][arc]['Z VEL'])\n",
    "    print()\n",
    "    print('------------------------------------------------------------------------')\n",
    "    print()\n",
    "    \n",
    "    data['ArcLength'].append(int(val))\n",
    "    data['Total_iters'].append(int(final_iter))\n",
    "    data['RMS POS (run)'].append(Obj_Geodyn[val].__dict__['Statistics'][arc]['RMS POS']) \n",
    "    data['RMS VEL (run)'].append(Obj_Geodyn[val].__dict__['Statistics'][arc]['RMS VEL']) \n",
    "    \n",
    "    data['RMS_total'].append(RMS_total)     \n",
    "    data['w_RMS_total'].append(w_RMS_total)\n",
    "    \n",
    "    data['PCEX_NUMBER'].append(float(Obj_Geodyn[val].__dict__['Residuals_summary'][arc][index_iter][index_PCEX]['NUMBER'])   )\n",
    "    data['PCEX_MEAN'].append(float(Obj_Geodyn[val].__dict__['Residuals_summary'][arc][index_iter][index_PCEX]['MEAN'])     )\n",
    "    data['PCEX_RMS'].append(float(Obj_Geodyn[val].__dict__['Residuals_summary'][arc][index_iter][index_PCEX]['RMS'])      )\n",
    "    data['PCEX_No.-WTD'].append(float(Obj_Geodyn[val].__dict__['Residuals_summary'][arc][index_iter][index_PCEX]['No.-WTD'])  )\n",
    "    data['PCEX_WTD-MEAN'].append(float(Obj_Geodyn[val].__dict__['Residuals_summary'][arc][index_iter][index_PCEX]['WTD-MEAN']) )\n",
    "    data['PCEX_WTD-RMS'].append(float(Obj_Geodyn[val].__dict__['Residuals_summary'][arc][index_iter][index_PCEX]['WTD-RMS']))\n",
    "    data['PCEX_TYPE'].append((Obj_Geodyn[val].__dict__['Residuals_summary'][arc][index_iter][index_PCEX]['TYPE'].values))\n",
    "    data['PCEY_NUMBER'].append(float(Obj_Geodyn[val].__dict__['Residuals_summary'][arc][index_iter][index_PCEY]['NUMBER']))\n",
    "    data['PCEY_MEAN'].append(float(Obj_Geodyn[val].__dict__['Residuals_summary'][arc][index_iter][index_PCEY]['MEAN']))\n",
    "    data['PCEY_RMS'].append(float(Obj_Geodyn[val].__dict__['Residuals_summary'][arc][index_iter][index_PCEY]['RMS']))\n",
    "    data['PCEY_No.-WTD'].append(float(Obj_Geodyn[val].__dict__['Residuals_summary'][arc][index_iter][index_PCEY]['No.-WTD']))\n",
    "    data['PCEY_WTD-MEAN'].append(float(Obj_Geodyn[val].__dict__['Residuals_summary'][arc][index_iter][index_PCEY]['WTD-MEAN']) )\n",
    "    data['PCEY_WTD-RMS'].append(float(Obj_Geodyn[val].__dict__['Residuals_summary'][arc][index_iter][index_PCEY]['WTD-RMS']))\n",
    "    data['PCEY_TYPE'].append((Obj_Geodyn[val].__dict__['Residuals_summary'][arc][index_iter][index_PCEY]['TYPE'].values))\n",
    "    data['PCEZ_NUMBER'].append(float(Obj_Geodyn[val].__dict__['Residuals_summary'][arc][index_iter][index_PCEZ]['NUMBER']))\n",
    "    data['PCEZ_MEAN'].append(float(Obj_Geodyn[val].__dict__['Residuals_summary'][arc][index_iter][index_PCEZ]['MEAN']))\n",
    "    data['PCEZ_RMS'].append(float(Obj_Geodyn[val].__dict__['Residuals_summary'][arc][index_iter][index_PCEZ]['RMS']))\n",
    "    data['PCEZ_No.-WTD'].append(float(Obj_Geodyn[val].__dict__['Residuals_summary'][arc][index_iter][index_PCEZ]['No.-WTD']))\n",
    "    data['PCEZ_WTD-MEAN'].append(float(Obj_Geodyn[val].__dict__['Residuals_summary'][arc][index_iter][index_PCEZ]['WTD-MEAN']))\n",
    "    data['PCEZ_WTD-RMS'].append(float(Obj_Geodyn[val].__dict__['Residuals_summary'][arc][index_iter][index_PCEZ]['WTD-RMS']))\n",
    "    data['PCEZ_TYPE'].append((Obj_Geodyn[val].__dict__['Residuals_summary'][arc][index_iter][index_PCEZ]['TYPE'].values))\n",
    "    data['X'].append(Obj_Geodyn[val].__dict__['Statistics'][arc]['X POS'])\n",
    "    data['Y'].append(Obj_Geodyn[val].__dict__['Statistics'][arc]['Y POS'])\n",
    "    data['Z'].append(Obj_Geodyn[val].__dict__['Statistics'][arc]['Z POS'])\n",
    "    data['Xdot'].append(Obj_Geodyn[val].__dict__['Statistics'][arc]['X VEL'])\n",
    "    data['Ydot'].append(Obj_Geodyn[val].__dict__['Statistics'][arc]['Y VEL'])\n",
    "    data['Zdot'].append(Obj_Geodyn[val].__dict__['Statistics'][arc]['Z VEL'])\n",
    "\n"
   ]
  },
  {
   "cell_type": "code",
   "execution_count": null,
   "id": "f7adc502",
   "metadata": {
    "ExecuteTime": {
     "start_time": "2021-11-10T21:10:46.324Z"
    }
   },
   "outputs": [],
   "source": [
    "df = pd.DataFrame.from_dict(data)\n",
    "\n",
    "\n",
    "df.to_csv(path_or_buf='/data/geodyn_proj/validation/NoCDAdj_diffarcs_run_settings/comparison_csv.csv', sep=',')"
   ]
  },
  {
   "cell_type": "code",
   "execution_count": null,
   "id": "5e703b38",
   "metadata": {
    "ExecuteTime": {
     "start_time": "2021-11-10T21:10:46.326Z"
    }
   },
   "outputs": [],
   "source": [
    "import plotly.graph_objects as go\n",
    "from plotly.offline import plot, iplot\n",
    "from plotly.subplots import make_subplots\n",
    "import plotly.express as px\n",
    "\n",
    "import numpy as np\n",
    "\n",
    "config = dict({\n",
    "                'displayModeBar': True,\n",
    "                'responsive': False,\n",
    "                'staticPlot': False,\n",
    "                'displaylogo': False,\n",
    "                'showTips': False,\n",
    "                })\n",
    "\n",
    "# Simplify Plotting Schemes:\n",
    "col1 = px.colors.qualitative.Plotly[0]\n",
    "col2 = px.colors.qualitative.Plotly[1]\n",
    "col3 = px.colors.qualitative.Plotly[2]\n",
    "col4 = px.colors.qualitative.Plotly[3]\n",
    "col5 = px.colors.qualitative.Plotly[4]\n",
    "col6 = px.colors.qualitative.Plotly[5]"
   ]
  },
  {
   "cell_type": "code",
   "execution_count": null,
   "id": "bc5fa05f",
   "metadata": {
    "ExecuteTime": {
     "start_time": "2021-11-10T21:10:46.328Z"
    }
   },
   "outputs": [],
   "source": [
    "%load_ext autoreload\n",
    "%autoreload 2\n",
    "\n",
    "\n",
    "from PYGEODYNAnalysis_icesat2_validationwork import  PLOT__intrack_residuals_w_rms\n",
    "\n",
    "fig = make_subplots(\n",
    "    rows=1, cols=1,\n",
    "    subplot_titles=(['In Track Residuals']),\n",
    "    vertical_spacing = 0.1)\n",
    "\n",
    "fig = PLOT__intrack_residuals_w_rms(fig,  Obj_Geodyn['53']    , '53'  , 0 )\n",
    "fig = PLOT__intrack_residuals_w_rms(fig,  Obj_Geodyn['48']    , '48'  , 1 )\n",
    "fig = PLOT__intrack_residuals_w_rms(fig,  Obj_Geodyn['36']    , '36'  , 2 )\n",
    "fig = PLOT__intrack_residuals_w_rms(fig,  Obj_Geodyn['24']    , '24'  , 3 )\n",
    "fig = PLOT__intrack_residuals_w_rms(fig,  Obj_Geodyn['12']    , '12'  , 4 )\n",
    "\n",
    "fig.show(config=config)\n"
   ]
  },
  {
   "cell_type": "code",
   "execution_count": null,
   "id": "e3d98df1",
   "metadata": {},
   "outputs": [],
   "source": []
  }
 ],
 "metadata": {
  "kernelspec": {
   "display_name": "Python 3",
   "language": "python",
   "name": "python3"
  },
  "language_info": {
   "codemirror_mode": {
    "name": "ipython",
    "version": 3
   },
   "file_extension": ".py",
   "mimetype": "text/x-python",
   "name": "python",
   "nbconvert_exporter": "python",
   "pygments_lexer": "ipython3",
   "version": "3.8.8"
  },
  "toc": {
   "base_numbering": 1,
   "nav_menu": {},
   "number_sections": true,
   "sideBar": true,
   "skip_h1_title": false,
   "title_cell": "Table of Contents",
   "title_sidebar": "Contents",
   "toc_cell": false,
   "toc_position": {},
   "toc_section_display": true,
   "toc_window_display": false
  },
  "varInspector": {
   "cols": {
    "lenName": 16,
    "lenType": 16,
    "lenVar": 40
   },
   "kernels_config": {
    "python": {
     "delete_cmd_postfix": "",
     "delete_cmd_prefix": "del ",
     "library": "var_list.py",
     "varRefreshCmd": "print(var_dic_list())"
    },
    "r": {
     "delete_cmd_postfix": ") ",
     "delete_cmd_prefix": "rm(",
     "library": "var_list.r",
     "varRefreshCmd": "cat(var_dic_list()) "
    }
   },
   "types_to_exclude": [
    "module",
    "function",
    "builtin_function_or_method",
    "instance",
    "_Feature"
   ],
   "window_display": false
  }
 },
 "nbformat": 4,
 "nbformat_minor": 5
}
