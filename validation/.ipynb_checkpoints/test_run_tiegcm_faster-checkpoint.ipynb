{
 "cells": [
  {
   "cell_type": "code",
   "execution_count": null,
   "id": "581dd834",
   "metadata": {
    "ExecuteTime": {
     "end_time": "2021-12-02T19:22:11.854658Z",
     "start_time": "2021-12-02T19:22:11.850933Z"
    }
   },
   "outputs": [],
   "source": []
  },
  {
   "cell_type": "code",
   "execution_count": null,
   "id": "e88f162f",
   "metadata": {},
   "outputs": [],
   "source": []
  },
  {
   "cell_type": "markdown",
   "id": "73d8388d",
   "metadata": {},
   "source": [
    "The idea here is going to be to index the large orbit cloud file dataset at the point that is requested\n",
    "\n",
    "The current impelementation reads every index of the file first until you reach the requested point"
   ]
  },
  {
   "cell_type": "markdown",
   "id": "37c8c36a",
   "metadata": {},
   "source": [
    "## Run MSIS2"
   ]
  },
  {
   "cell_type": "code",
   "execution_count": 1,
   "id": "ab7d0a48",
   "metadata": {
    "ExecuteTime": {
     "end_time": "2021-12-02T22:39:57.029208Z",
     "start_time": "2021-12-02T22:32:07.243950Z"
    }
   },
   "outputs": [
    {
     "name": "stdout",
     "output_type": "stream",
     "text": [
      "     Loading ... icesat2_2018313_24hr.msis2.NoCD_Arc24 \n",
      "Run # 1     Current Time =      15:32:09  GMT-7\n",
      "Run # 1\n",
      "Epoch Start:  2018-11-09 00:00:00\n",
      "Epoch End:    2018-11-10 00:00:00\n",
      "Running without DRAG time dependence\n",
      "+ —————————————————————————————————————————————————————————————————————————————————————————————————————————\n",
      "|\n",
      "| ---------------------- Some run information ----------------------\n",
      "|\n",
      "|  Run # 1     IISSET Cleaned      tmp/.../cleaned_setup_2018313\n",
      "|  Run # 1     Density Model:      msis2\n",
      "|  Run # 1     GEODYN Version:     Kamodo_pygeodyn_MODS\n",
      "|  Run # 1     ARC run:            icesat2_2018313_24hr.msis2.NoCD_Arc24\n",
      "|  Run # 1     Output directory:   /data/data_geodyn/results/icesat2/msis2/msis2_acceloff_valid_ctrlrun\n",
      "|  Run # 1     EXAT File:          /data/data_geodyn/inputs/icesat2/external_attitude/EXAT01.2018.313.gz\n",
      "|\n",
      "+ —————————————————————————————————————————————————————————————————————————————————————————————————————————\n",
      "\n",
      "Run # 1          Running IIS\n",
      "Run # 1          No errors in IIS\n",
      "Run # 1 ---------End of IIS\n",
      "\n",
      "Run # 1          Running IIE\n",
      "Run # 1          Current Time = 15:33:34 GMT-7\n",
      "Run # 1          No errors in IIE\n",
      "Run # 1 ---------End of IIE\n",
      "Run # 1          Time of IIE:  380.8346800804138 secs ( 6.347244668006897  mins)\n",
      "Run # 1          Current Time = 22:39:55\n",
      "Run # 1                Finished renaming files\n",
      "Run # 1                Finished copying files to outputdir\n",
      "        Deleting:  msis2_acceloff_valid_ctrlrun\n",
      "Run Time: 468.8374631390907 seconds\n",
      "Run Time: 7.813957718984844 minutes\n",
      "Run Time: 0.1302326286497474 hours\n"
     ]
    }
   ],
   "source": [
    "%load_ext autoreload\n",
    "%autoreload 2\n",
    "\n",
    "import sys  \n",
    "import pickle \n",
    "sys.path.insert(0, '/data/geodyn_proj/pygeodyn/pygeodyn_develop/')\n",
    "from PYGEODYN import Pygeodyn\n",
    "\n",
    "for i,val in enumerate( [ 'msis2']):\n",
    "    run_settings = '/data/geodyn_proj/validation/NoCD_Arc24_AllDensModels_settings/NoCdArc24_'+val+'.yaml'\n",
    "    ### Load the data into an object\n",
    "    Obj_Geodyn = Pygeodyn(run_settings)\n",
    "    \n",
    "    from time import perf_counter\n",
    "    t0=perf_counter()\n",
    "    Obj_Geodyn.RUN_GEODYN()\n",
    "    time1 = perf_counter()-t0\n",
    "    print('Run Time:', time1,         'seconds' )\n",
    "    print('Run Time:', (time1)/60,    'minutes' )\n",
    "    print('Run Time:', (time1)/60/60, 'hours'   )\n",
    "    \n"
   ]
  },
  {
   "cell_type": "markdown",
   "id": "05947d4f",
   "metadata": {},
   "source": [
    "## Run TIEGCM"
   ]
  },
  {
   "cell_type": "code",
   "execution_count": 2,
   "id": "4ee05ace",
   "metadata": {
    "ExecuteTime": {
     "end_time": "2021-12-02T23:04:40.402812Z",
     "start_time": "2021-12-02T22:39:57.031552Z"
    },
    "scrolled": false
   },
   "outputs": [
    {
     "name": "stdout",
     "output_type": "stream",
     "text": [
      "The autoreload extension is already loaded. To reload it, use:\n",
      "  %reload_ext autoreload\n",
      "     Loading ... icesat2_2018313_24hr.tiegcm_oc.NoCD_Arc24 \n",
      "Run # 1     Current Time =      15:39:58  GMT-7\n",
      "Run # 1\n",
      "Epoch Start:  2018-11-09 00:00:00\n",
      "Epoch End:    2018-11-10 00:00:00\n",
      "Running without DRAG time dependence\n",
      "1-  2018.313\n",
      "     Loading ... icesat2_2018313_24hr.msis2.NoCD_Arc24 \n",
      "2- MSIS2 2018.313\n",
      "2.5 check-  True\n",
      "3- tiegcm construct orbit cloud 2018.313\n",
      "     Loading ... icesat2_2018313_24hr.msis2.NoCD_Arc24 \n",
      "5 running GEODYN 2018.313\n",
      "     Loading ... icesat2_2018313_24hr.tiegcm_oc.NoCD_Arc24 \n",
      "6 running GEODYN 2018.313\n",
      "     Loading ... icesat2_2018313_24hr.tiegcm_oc.NoCD_Arc24 \n",
      "7 running GEODYN 2018.313\n",
      "Run # 1     Current Time =      15:40:09  GMT-7\n",
      "Run # 1\n",
      "Epoch Start:  2018-11-09 00:00:00\n",
      "Epoch End:    2018-11-10 00:00:00\n",
      "Running without DRAG time dependence\n",
      "+ —————————————————————————————————————————————————————————————————————————————————————————————————————————————————\n",
      "|\n",
      "| ---------------------- Some run information ----------------------\n",
      "|\n",
      "|  Run # 1     IISSET Cleaned      tmp/.../cleaned_setup_2018313\n",
      "|  Run # 1     Density Model:      tiegcm_oc\n",
      "|  Run # 1     GEODYN Version:     Kamodo_pygeodyn_MODS\n",
      "|  Run # 1     ARC run:            icesat2_2018313_24hr.tiegcm_oc.NoCD_Arc24\n",
      "|  Run # 1     Output directory:   /data/data_geodyn/results/icesat2/tiegcm_oc/tiegcm_oc_acceloff_valid_ctrlrun\n",
      "|  Run # 1     EXAT File:          /data/data_geodyn/inputs/icesat2/external_attitude/EXAT01.2018.313.gz\n",
      "|\n",
      "+ —————————————————————————————————————————————————————————————————————————————————————————————————————————————————\n",
      "\n",
      "Run # 1          Running IIS\n",
      "Run # 1          No errors in IIS\n",
      "Run # 1 ---------End of IIS\n",
      "\n",
      "Run # 1          Running IIE\n",
      "Run # 1          Current Time = 15:41:36 GMT-7\n",
      "Run # 1          No errors in IIE\n",
      "Run # 1 ---------End of IIE\n",
      "Run # 1          Time of IIE:  1381.8713901042938 secs ( 23.031189835071565  mins)\n",
      "Run # 1          Current Time = 23:04:38\n",
      "Run # 1                Finished renaming files\n",
      "Run # 1                Finished copying files to outputdir\n",
      "        Deleting:  tiegcm_oc_acceloff_valid_ctrlrun\n",
      "Run Time: -1926935.4160921823 seconds\n",
      "Run Time: -32115.59026820304 minutes\n",
      "Run Time: -535.259837803384 hours\n"
     ]
    }
   ],
   "source": [
    "%load_ext autoreload\n",
    "%autoreload 2\n",
    "from time import perf_counter\n",
    "t0=perf_counter()\n",
    "\n",
    "import sys  \n",
    "import pickle \n",
    "sys.path.insert(0, '/data/geodyn_proj/pygeodyn/pygeodyn_develop/')\n",
    "from PYGEODYN import Pygeodyn\n",
    "\n",
    "for i,val in enumerate( [ 'tiegcm_oc']):\n",
    "    run_settings = '/data/geodyn_proj/validation/NoCD_Arc24_AllDensModels_settings/NoCdArc24_'+val+'.yaml'\n",
    "    ### Load the data into an object\n",
    "    Obj_Geodyn = Pygeodyn(run_settings)\n",
    "    \n",
    "    \n",
    "    Obj_Geodyn.RUN_GEODYN()\n",
    "    time2 = perf_counter()-t0\n",
    "    print('Run Time:', time2-t0,         'seconds' )\n",
    "    print('Run Time:', (time2-t0)/60,    'minutes' )\n",
    "    print('Run Time:', (time2-t0)/60/60, 'hours'   )\n",
    "\n",
    "\n"
   ]
  },
  {
   "cell_type": "markdown",
   "id": "6bea133d",
   "metadata": {
    "heading_collapsed": true
   },
   "source": [
    "### Timing info"
   ]
  },
  {
   "cell_type": "code",
   "execution_count": 11,
   "id": "d6091f65",
   "metadata": {
    "ExecuteTime": {
     "end_time": "2021-12-02T23:15:16.395030Z",
     "start_time": "2021-12-02T23:15:16.377609Z"
    },
    "hidden": true
   },
   "outputs": [
    {
     "name": "stdout",
     "output_type": "stream",
     "text": [
      "msis2    benchmark: 2.7105 m\n",
      "tiegcm_oc benchmark: 13.170166666666667 m\n",
      "ratio 4.859002925288902\n"
     ]
    }
   ],
   "source": [
    "# ##benchmarks:\n",
    "# import numpy as np\n",
    "\n",
    "# time1_bench = 162.62843567994423\n",
    "# time2_bench = 790.212044704007 \n",
    "# print('msis2    benchmark:', np.round(time1_bench, 2)/60,'m')\n",
    "\n",
    "# print('tiegcm_oc benchmark:', np.round(time2_bench, 2)/60,'m')\n",
    "\n",
    "\n",
    "# print('ratio', time2_bench/time1_bench, )\n"
   ]
  },
  {
   "cell_type": "code",
   "execution_count": 10,
   "id": "dc572eb1",
   "metadata": {
    "ExecuteTime": {
     "end_time": "2021-12-02T23:14:46.655297Z",
     "start_time": "2021-12-02T23:14:46.636613Z"
    },
    "hidden": true
   },
   "outputs": [
    {
     "name": "stdout",
     "output_type": "stream",
     "text": [
      "ratio 3.163703313798088\n",
      "msis2     time: 7.813999999999999 m\n",
      "tiegcm_oc time: 24.721 m\n",
      "\n",
      "tiegcm_oc is \n",
      "              1014.43 seconds slower\n",
      "               16.91 minutes slower\n",
      "               216.37 %    slower\n",
      "                                     than msis2\n",
      "\n",
      "TIEGCM sped up by: -46.72473871790015 %\n"
     ]
    }
   ],
   "source": [
    "# # time1 = 162.62843567994423\n",
    "# # time2 = 790.212044704007 \n",
    "# print('ratio', time2/time1, )\n",
    "\n",
    "\n",
    "# diff = time2 - time1\n",
    "# perc_diff = ((time2-time1)/time1)*100\n",
    "\n",
    "# print('msis2     time:', np.round(time1, 2)/60,'m')\n",
    "# print('tiegcm_oc time:', np.round(time2, 2)/60,'m')\n",
    "# print()\n",
    "# print('tiegcm_oc is ')\n",
    "# print('             ',np.round(diff,2)   ,'seconds slower')\n",
    "# print('              ',np.round(diff/60,2),'minutes slower')\n",
    "# print('              ', np.round(perc_diff,2),'%    slower')\n",
    "# print('                                     than msis2')\n",
    "\n",
    "# print()\n",
    "\n",
    "# perc_diff_bnchmk = ((time2_bench-time2)/time2)*100\n",
    "\n",
    "# # print('TIEGCM sped up by:', perc_diff_bnchmk,'%')\n",
    "# print('TIEGCM sped up by:', perc_diff_bnchmk,'%')\n"
   ]
  },
  {
   "cell_type": "markdown",
   "id": "5b788a3c",
   "metadata": {},
   "source": [
    "## Load data"
   ]
  },
  {
   "cell_type": "code",
   "execution_count": 5,
   "id": "12fcdfec",
   "metadata": {
    "ExecuteTime": {
     "end_time": "2021-12-02T23:04:48.689226Z",
     "start_time": "2021-12-02T23:04:40.463976Z"
    }
   },
   "outputs": [
    {
     "name": "stdout",
     "output_type": "stream",
     "text": [
      "The autoreload extension is already loaded. To reload it, use:\n",
      "  %reload_ext autoreload\n",
      "     Loading ... icesat2_2018313_24hr.msis2.NoCD_Arc24Step60 \n"
     ]
    },
    {
     "ename": "FileNotFoundError",
     "evalue": "[Errno 2] No such file or directory: '/data/geodyn_proj/validation/NoCD_Arc24_AllDensModels_settings/NoCdArc24_TEST_tiegcm_oc.yaml'",
     "output_type": "error",
     "traceback": [
      "\u001b[0;31m---------------------------------------------------------------------------\u001b[0m",
      "\u001b[0;31mFileNotFoundError\u001b[0m                         Traceback (most recent call last)",
      "\u001b[0;32m<ipython-input-5-fceb531b45f2>\u001b[0m in \u001b[0;36m<module>\u001b[0;34m\u001b[0m\n\u001b[1;32m     12\u001b[0m \u001b[0;34m\u001b[0m\u001b[0m\n\u001b[1;32m     13\u001b[0m     \u001b[0;31m### Load the data into an object\u001b[0m\u001b[0;34m\u001b[0m\u001b[0;34m\u001b[0m\u001b[0;34m\u001b[0m\u001b[0m\n\u001b[0;32m---> 14\u001b[0;31m     \u001b[0mObj_Geodyn\u001b[0m\u001b[0;34m[\u001b[0m\u001b[0mval\u001b[0m\u001b[0;34m]\u001b[0m \u001b[0;34m=\u001b[0m \u001b[0mPygeodyn\u001b[0m\u001b[0;34m(\u001b[0m\u001b[0mrun_settings\u001b[0m\u001b[0;34m)\u001b[0m\u001b[0;34m\u001b[0m\u001b[0;34m\u001b[0m\u001b[0m\n\u001b[0m\u001b[1;32m     15\u001b[0m     \u001b[0mObj_Geodyn\u001b[0m\u001b[0;34m[\u001b[0m\u001b[0mval\u001b[0m\u001b[0;34m]\u001b[0m\u001b[0;34m.\u001b[0m\u001b[0mgetData\u001b[0m\u001b[0;34m(\u001b[0m\u001b[0;34m)\u001b[0m\u001b[0;34m\u001b[0m\u001b[0;34m\u001b[0m\u001b[0m\n\u001b[1;32m     16\u001b[0m \u001b[0;34m\u001b[0m\u001b[0m\n",
      "\u001b[0;32m/data/geodyn_proj/pygeodyn/pygeodyn_develop/PYGEODYN.py\u001b[0m in \u001b[0;36m__init__\u001b[0;34m(self, run_settings_yaml)\u001b[0m\n\u001b[1;32m     41\u001b[0m         \u001b[0;32mfrom\u001b[0m \u001b[0myaml\u001b[0m\u001b[0;34m.\u001b[0m\u001b[0mloader\u001b[0m \u001b[0;32mimport\u001b[0m \u001b[0mSafeLoader\u001b[0m\u001b[0;34m\u001b[0m\u001b[0;34m\u001b[0m\u001b[0m\n\u001b[1;32m     42\u001b[0m         \u001b[0;31m# Open the file and load the file\u001b[0m\u001b[0;34m\u001b[0m\u001b[0;34m\u001b[0m\u001b[0;34m\u001b[0m\u001b[0m\n\u001b[0;32m---> 43\u001b[0;31m         \u001b[0;32mwith\u001b[0m \u001b[0mopen\u001b[0m\u001b[0;34m(\u001b[0m\u001b[0mrun_settings_yaml\u001b[0m\u001b[0;34m)\u001b[0m \u001b[0;32mas\u001b[0m \u001b[0mf\u001b[0m\u001b[0;34m:\u001b[0m\u001b[0;34m\u001b[0m\u001b[0;34m\u001b[0m\u001b[0m\n\u001b[0m\u001b[1;32m     44\u001b[0m             \u001b[0mrun_settings\u001b[0m \u001b[0;34m=\u001b[0m \u001b[0myaml\u001b[0m\u001b[0;34m.\u001b[0m\u001b[0mload\u001b[0m\u001b[0;34m(\u001b[0m\u001b[0mf\u001b[0m\u001b[0;34m,\u001b[0m \u001b[0mLoader\u001b[0m\u001b[0;34m=\u001b[0m\u001b[0mSafeLoader\u001b[0m\u001b[0;34m)\u001b[0m\u001b[0;34m\u001b[0m\u001b[0;34m\u001b[0m\u001b[0m\n\u001b[1;32m     45\u001b[0m         \u001b[0mself\u001b[0m\u001b[0;34m.\u001b[0m\u001b[0mrun_settings\u001b[0m \u001b[0;34m=\u001b[0m \u001b[0mrun_settings\u001b[0m\u001b[0;34m\u001b[0m\u001b[0;34m\u001b[0m\u001b[0m\n",
      "\u001b[0;31mFileNotFoundError\u001b[0m: [Errno 2] No such file or directory: '/data/geodyn_proj/validation/NoCD_Arc24_AllDensModels_settings/NoCdArc24_TEST_tiegcm_oc.yaml'"
     ]
    }
   ],
   "source": [
    "models_list = [\n",
    "               'msis2'    ,\n",
    "               'tiegcm_oc',\n",
    "               ] \n",
    "\n",
    "%load_ext autoreload\n",
    "%autoreload 2\n",
    "\n",
    "Obj_Geodyn={}\n",
    "for i,val in enumerate(models_list):\n",
    "    run_settings = '/data/geodyn_proj/validation/NoCD_Arc24_AllDensModels_settings/NoCdArc24_TEST_'+val+'.yaml'\n",
    "\n",
    "    ### Load the data into an object\n",
    "    Obj_Geodyn[val] = Pygeodyn(run_settings)\n",
    "    Obj_Geodyn[val].getData()\n",
    "    "
   ]
  },
  {
   "cell_type": "markdown",
   "id": "42f38826",
   "metadata": {
    "ExecuteTime": {
     "end_time": "2021-12-02T22:15:43.855176Z",
     "start_time": "2021-12-02T22:15:43.842432Z"
    }
   },
   "source": [
    "### Plot Density"
   ]
  },
  {
   "cell_type": "code",
   "execution_count": null,
   "id": "f31a049f",
   "metadata": {
    "ExecuteTime": {
     "end_time": "2021-12-02T23:04:48.700400Z",
     "start_time": "2021-12-02T22:32:07.654Z"
    }
   },
   "outputs": [],
   "source": [
    " import plotly.graph_objects as go\n",
    "from plotly.offline import plot, iplot\n",
    "from plotly.subplots import make_subplots\n",
    "import plotly.express as px\n",
    "import pandas as pd\n",
    "\n",
    "import numpy as np\n",
    "\n",
    "config = dict({\n",
    "                'displayModeBar': True,\n",
    "                'responsive': False,\n",
    "                'staticPlot': False,\n",
    "                'displaylogo': False,\n",
    "                'showTips': False,\n",
    "                })\n",
    "\n",
    "# Simplify Plotting Schemes:\n",
    "col1 = px.colors.qualitative.Plotly[0]\n",
    "col2 = px.colors.qualitative.Plotly[1]\n",
    "col3 = px.colors.qualitative.Plotly[2]\n",
    "col4 = px.colors.qualitative.Plotly[3]\n",
    "col5 = px.colors.qualitative.Plotly[4]\n",
    "col6 = px.colors.qualitative.Plotly[5]\n",
    "\n",
    "def Plot_Densitycomparison(fig, obj_m1, plot_num):\n",
    "\n",
    "    if plot_num == 0:\n",
    "        col = col1\n",
    "        x_annot = 1.09\n",
    "        y_annot1 = 1\n",
    "        y_annot2 = .9\n",
    "        m_size = 4.5\n",
    "    elif plot_num == 1:\n",
    "        x_annot = 1.09\n",
    "        y_annot1 = .8\n",
    "        y_annot2 = .7\n",
    "        col = col2\n",
    "        m_size = 4\n",
    "    elif plot_num == 2:\n",
    "        x_annot = 1.09\n",
    "        y_annot1 = .5\n",
    "        y_annot2 = .5\n",
    "        col = col3\n",
    "        m_size = 3.5\n",
    "    elif plot_num == 3:\n",
    "        x_annot = 1.09\n",
    "        y_annot1 = .2\n",
    "        y_annot2 = .3\n",
    "        col = col4\n",
    "        m_size = 3\n",
    "    elif plot_num == 4:\n",
    "        x_annot = 1.09\n",
    "        y_annot1 =  0 \n",
    "        y_annot2 = .1\n",
    "        col = col5\n",
    "        m_size = 3\n",
    "\n",
    "\n",
    "\n",
    "    model_m1 = obj_m1.__dict__['global_params']['den_model']\n",
    "    for ii,arc in enumerate(obj_m1.__dict__['global_params']['arc_input']):\n",
    "#         str_run_param = 'run_parameters'+ arc\n",
    "#         final_iter = obj_m1.__dict__[str_run_param]['str_iteration']\n",
    "        i_arc = ii+1\n",
    "        \n",
    "        print('----',model_m1,'----')\n",
    "        print('     mean:    ',np.mean(obj_m1.Density[arc]['rho (kg/m**3)']),'----')\n",
    "        print('     variance:',np.std(obj_m1.Density[arc]['rho (kg/m**3)']),'----')\n",
    "        print()\n",
    "        fig.add_trace(go.Scattergl(  x=obj_m1.Density[arc]['Date'][::10],\n",
    "                                     y=obj_m1.Density[arc]['rho (kg/m**3)'][::10],\n",
    "                                     name= model_m1+arc,\n",
    "                                     mode='markers',\n",
    "                                     opacity=.88,\n",
    "                                     marker=dict(\n",
    "                                        color=col, \n",
    "                                        size=7,\n",
    "                                                ),\n",
    "                                     showlegend=False,\n",
    "                                  ),\n",
    "                                      secondary_y=False,\n",
    "                                       row=1, col=1,\n",
    "                                  )\n",
    "\n",
    "#         (mean,rms,rms_about_zero) = STATS_residuals(data_resids['T'], 'in-track')\n",
    "\n",
    "#         fig = add_stats_annotation(fig, model_m1+'<br>Mean='+ str(np.round(mean,4))+'<br>RMS='+ str(np.round(rms_about_zero,4)), col , x_annot, y_annot1)\n",
    "\n",
    "\n",
    "    fig.update_yaxes( title=\"rho (kg/m**3)\", type='log', exponentformat= 'power',row=1, col=1)\n",
    "    fig.update_xaxes( title=\"Date\", row=1, col=1)\n",
    "\n",
    "    return(fig)"
   ]
  },
  {
   "cell_type": "code",
   "execution_count": null,
   "id": "20f3db6a",
   "metadata": {
    "ExecuteTime": {
     "end_time": "2021-12-02T23:04:48.701164Z",
     "start_time": "2021-12-02T22:32:07.657Z"
    }
   },
   "outputs": [],
   "source": [
    "%load_ext autoreload\n",
    "%autoreload 2\n",
    "\n",
    "\n",
    "fig = make_subplots(\n",
    "    rows=1, cols=1,\n",
    "    subplot_titles=(['Comparison of Model Densities']),\n",
    "    vertical_spacing = 0.15)\n",
    "\n",
    "fig = Plot_Densitycomparison(fig, Obj_Geodyn['msis2']        , 2)\n",
    "fig = Plot_Densitycomparison(fig, Obj_Geodyn['tiegcm_oc']    , 4)\n",
    "fig.show(config=config)\n"
   ]
  },
  {
   "cell_type": "code",
   "execution_count": null,
   "id": "2e557d93",
   "metadata": {},
   "outputs": [],
   "source": []
  }
 ],
 "metadata": {
  "kernelspec": {
   "display_name": "Python 3",
   "language": "python",
   "name": "python3"
  },
  "language_info": {
   "codemirror_mode": {
    "name": "ipython",
    "version": 3
   },
   "file_extension": ".py",
   "mimetype": "text/x-python",
   "name": "python",
   "nbconvert_exporter": "python",
   "pygments_lexer": "ipython3",
   "version": "3.8.8"
  },
  "toc": {
   "base_numbering": 1,
   "nav_menu": {},
   "number_sections": true,
   "sideBar": true,
   "skip_h1_title": false,
   "title_cell": "Table of Contents",
   "title_sidebar": "Contents",
   "toc_cell": false,
   "toc_position": {
    "height": "calc(100% - 180px)",
    "left": "10px",
    "top": "150px",
    "width": "165px"
   },
   "toc_section_display": true,
   "toc_window_display": true
  },
  "varInspector": {
   "cols": {
    "lenName": 16,
    "lenType": 16,
    "lenVar": 40
   },
   "kernels_config": {
    "python": {
     "delete_cmd_postfix": "",
     "delete_cmd_prefix": "del ",
     "library": "var_list.py",
     "varRefreshCmd": "print(var_dic_list())"
    },
    "r": {
     "delete_cmd_postfix": ") ",
     "delete_cmd_prefix": "rm(",
     "library": "var_list.r",
     "varRefreshCmd": "cat(var_dic_list()) "
    }
   },
   "types_to_exclude": [
    "module",
    "function",
    "builtin_function_or_method",
    "instance",
    "_Feature"
   ],
   "window_display": false
  }
 },
 "nbformat": 4,
 "nbformat_minor": 5
}
