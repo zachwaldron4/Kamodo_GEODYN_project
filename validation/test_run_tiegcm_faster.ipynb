{
 "cells": [
  {
   "cell_type": "code",
   "execution_count": null,
   "id": "581dd834",
   "metadata": {
    "ExecuteTime": {
     "end_time": "2021-12-02T19:22:11.854658Z",
     "start_time": "2021-12-02T19:22:11.850933Z"
    }
   },
   "outputs": [],
   "source": []
  },
  {
   "cell_type": "code",
   "execution_count": null,
   "id": "e88f162f",
   "metadata": {},
   "outputs": [],
   "source": []
  },
  {
   "cell_type": "markdown",
   "id": "73d8388d",
   "metadata": {},
   "source": [
    "The idea here is going to be to index the large orbit cloud file dataset at the point that is requested\n",
    "\n",
    "The current impelementation reads every index of the file first until you reach the requested point"
   ]
  },
  {
   "cell_type": "code",
   "execution_count": 1,
   "id": "e315ca72",
   "metadata": {
    "ExecuteTime": {
     "end_time": "2021-12-10T19:03:02.584790Z",
     "start_time": "2021-12-10T19:03:02.578770Z"
    }
   },
   "outputs": [],
   "source": [
    "# ### Orbit file is flawed needs to be wrapping the lons and lats when addiung perturbations\n",
    "# import pandas as pd\n",
    "# import numpy as np\n",
    "# path_orbcloud = '/data/data_geodyn/atmos_models_data/tiegcm/2018/Nov2018_ccmcRoR/OrbitCloud_Step10_2018313.csv'\n",
    "\n",
    "# orbcloud = pd.read_csv(path_orbcloud, \n",
    "#                     dtype=object,\n",
    "#                     names = ['Date',\n",
    "#                              'Lon',\n",
    "#                              'Lat',\n",
    "#                              'Alt',\n",
    "#                              'Den',\n",
    "#                                  ],\n",
    "#                     sep = '\\s+',\n",
    "#                     )\n",
    "# # orbcloud\n",
    "\n",
    "\n",
    "\n",
    "# orbcloud['Lon'] = orbcloud['Lon'].astype(float)\n",
    "# orbcloud['Lat'] = orbcloud['Lat'].astype(float)\n",
    "# orbcloud['Alt'] = orbcloud['Alt'].astype(float)\n",
    "# orbcloud['Den'] = orbcloud['Den'].astype(float)\n",
    "\n",
    "# if lon>"
   ]
  },
  {
   "cell_type": "code",
   "execution_count": 2,
   "id": "852f847f",
   "metadata": {
    "ExecuteTime": {
     "end_time": "2021-12-10T19:03:02.596094Z",
     "start_time": "2021-12-10T19:03:02.586344Z"
    }
   },
   "outputs": [],
   "source": [
    "# if orbcloud['Lon'].max()> 0:\n",
    "#     A = np.mod(orbcloud['Lon'].max(), -180)"
   ]
  },
  {
   "cell_type": "code",
   "execution_count": null,
   "id": "9d040789",
   "metadata": {
    "ExecuteTime": {
     "end_time": "2021-12-09T22:22:36.488296Z",
     "start_time": "2021-12-09T22:22:36.466049Z"
    }
   },
   "outputs": [],
   "source": []
  },
  {
   "cell_type": "code",
   "execution_count": null,
   "id": "9d5ecf10",
   "metadata": {},
   "outputs": [],
   "source": []
  },
  {
   "cell_type": "code",
   "execution_count": null,
   "id": "5874f8bc",
   "metadata": {},
   "outputs": [],
   "source": []
  },
  {
   "cell_type": "code",
   "execution_count": null,
   "id": "6fdc3fe4",
   "metadata": {},
   "outputs": [],
   "source": []
  },
  {
   "cell_type": "code",
   "execution_count": null,
   "id": "333e4a00",
   "metadata": {},
   "outputs": [],
   "source": []
  },
  {
   "cell_type": "code",
   "execution_count": null,
   "id": "f5c4285e",
   "metadata": {},
   "outputs": [],
   "source": []
  },
  {
   "cell_type": "code",
   "execution_count": null,
   "id": "c58d56d4",
   "metadata": {},
   "outputs": [],
   "source": []
  },
  {
   "cell_type": "markdown",
   "id": "37c8c36a",
   "metadata": {},
   "source": [
    "## Run MSIS2"
   ]
  },
  {
   "cell_type": "code",
   "execution_count": 3,
   "id": "ab7d0a48",
   "metadata": {
    "ExecuteTime": {
     "end_time": "2021-12-10T19:03:02.609160Z",
     "start_time": "2021-12-10T19:03:02.597984Z"
    }
   },
   "outputs": [],
   "source": [
    "# %load_ext autoreload\n",
    "# %autoreload 2\n",
    "\n",
    "# import sys  \n",
    "# import pickle \n",
    "# sys.path.insert(0, '/data/geodyn_proj/pygeodyn/pygeodyn_develop/')\n",
    "# from PYGEODYN import Pygeodyn\n",
    "\n",
    "# for i,val in enumerate( [ 'msis2']):\n",
    "#     run_settings = '/data/geodyn_proj/validation/NoCD_Arc24_AllDensModels_settings/NoCdArc24_'+val+'.yaml'\n",
    "#     ### Load the data into an object\n",
    "#     Obj_Geodyn = Pygeodyn(run_settings)\n",
    "    \n",
    "#     from time import perf_counter\n",
    "#     t0=perf_counter()\n",
    "#     Obj_Geodyn.RUN_GEODYN()\n",
    "#     time1 = perf_counter()-t0\n",
    "#     print('Run Time:', time1,         'seconds' )\n",
    "#     print('Run Time:', (time1)/60,    'minutes' )\n",
    "#     print('Run Time:', (time1)/60/60, 'hours'   )\n",
    "    \n"
   ]
  },
  {
   "cell_type": "markdown",
   "id": "05947d4f",
   "metadata": {},
   "source": [
    "## Run TIEGCM"
   ]
  },
  {
   "cell_type": "code",
   "execution_count": 4,
   "id": "4ee05ace",
   "metadata": {
    "ExecuteTime": {
     "end_time": "2021-12-10T19:03:04.381856Z",
     "start_time": "2021-12-10T19:03:02.610696Z"
    },
    "scrolled": false
   },
   "outputs": [
    {
     "name": "stdout",
     "output_type": "stream",
     "text": [
      "     Loading ... icesat2_2018313_24hr.tiegcm_oc.NoCD_Arc24 \n",
      "Run # 1     Current Time =      12:03:03  GMT-7\n",
      "Run # 1\n"
     ]
    },
    {
     "ename": "FileNotFoundError",
     "evalue": "[Errno 2] No such file or directory: '/data/data_geodyn/tmp/tiegcm_oc_acceloff_valid_ctrlrun/icesat2_2018313_24hr.tiegcm_oc.NoCD_Arc24/cleaned_setup_2018313'",
     "output_type": "error",
     "traceback": [
      "\u001b[0;31m---------------------------------------------------------------------------\u001b[0m",
      "\u001b[0;31mFileNotFoundError\u001b[0m                         Traceback (most recent call last)",
      "\u001b[0;32m<ipython-input-4-e578600d8de6>\u001b[0m in \u001b[0;36m<module>\u001b[0;34m\u001b[0m\n\u001b[1;32m     15\u001b[0m \u001b[0;34m\u001b[0m\u001b[0m\n\u001b[1;32m     16\u001b[0m \u001b[0;34m\u001b[0m\u001b[0m\n\u001b[0;32m---> 17\u001b[0;31m     \u001b[0mObj_Geodyn\u001b[0m\u001b[0;34m.\u001b[0m\u001b[0mRUN_GEODYN\u001b[0m\u001b[0;34m(\u001b[0m\u001b[0;34m)\u001b[0m\u001b[0;34m\u001b[0m\u001b[0;34m\u001b[0m\u001b[0m\n\u001b[0m\u001b[1;32m     18\u001b[0m     \u001b[0mtime2\u001b[0m \u001b[0;34m=\u001b[0m \u001b[0mperf_counter\u001b[0m\u001b[0;34m(\u001b[0m\u001b[0;34m)\u001b[0m\u001b[0;34m-\u001b[0m\u001b[0mt0\u001b[0m\u001b[0;34m\u001b[0m\u001b[0;34m\u001b[0m\u001b[0m\n\u001b[1;32m     19\u001b[0m     \u001b[0mprint\u001b[0m\u001b[0;34m(\u001b[0m\u001b[0;34m'Run Time:'\u001b[0m\u001b[0;34m,\u001b[0m \u001b[0mtime2\u001b[0m\u001b[0;34m-\u001b[0m\u001b[0mt0\u001b[0m\u001b[0;34m,\u001b[0m         \u001b[0;34m'seconds'\u001b[0m \u001b[0;34m)\u001b[0m\u001b[0;34m\u001b[0m\u001b[0;34m\u001b[0m\u001b[0m\n",
      "\u001b[0;32m/data/geodyn_proj/pygeodyn/pygeodyn_develop/PYGEODYN_Control.py\u001b[0m in \u001b[0;36mRUN_GEODYN\u001b[0;34m(self)\u001b[0m\n\u001b[1;32m   1303\u001b[0m             \u001b[0mself\u001b[0m\u001b[0;34m.\u001b[0m\u001b[0mset_density_model_setup_params\u001b[0m\u001b[0;34m(\u001b[0m\u001b[0;34m'tiegcm_oc'\u001b[0m \u001b[0;34m)\u001b[0m\u001b[0;34m\u001b[0m\u001b[0;34m\u001b[0m\u001b[0m\n\u001b[1;32m   1304\u001b[0m             \u001b[0mself\u001b[0m\u001b[0;34m.\u001b[0m\u001b[0msetup_directories_and_geodyn_input\u001b[0m\u001b[0;34m(\u001b[0m\u001b[0;34m)\u001b[0m\u001b[0;34m\u001b[0m\u001b[0;34m\u001b[0m\u001b[0m\n\u001b[0;32m-> 1305\u001b[0;31m             \u001b[0mself\u001b[0m\u001b[0;34m.\u001b[0m\u001b[0mmake_output_directories\u001b[0m\u001b[0;34m(\u001b[0m\u001b[0;34m)\u001b[0m\u001b[0;34m\u001b[0m\u001b[0;34m\u001b[0m\u001b[0m\n\u001b[0m\u001b[1;32m   1306\u001b[0m             \u001b[0mprint\u001b[0m\u001b[0;34m(\u001b[0m\u001b[0;34m'1- '\u001b[0m\u001b[0;34m,\u001b[0m \u001b[0marc\u001b[0m\u001b[0;34m)\u001b[0m\u001b[0;34m\u001b[0m\u001b[0;34m\u001b[0m\u001b[0m\n\u001b[1;32m   1307\u001b[0m             \u001b[0mlogger\u001b[0m \u001b[0;34m=\u001b[0m \u001b[0mlogging\u001b[0m\u001b[0;34m.\u001b[0m\u001b[0mgetLogger\u001b[0m\u001b[0;34m(\u001b[0m\u001b[0mself\u001b[0m\u001b[0;34m.\u001b[0m\u001b[0mexeclog_filename\u001b[0m\u001b[0;34m)\u001b[0m\u001b[0;34m\u001b[0m\u001b[0;34m\u001b[0m\u001b[0m\n",
      "\u001b[0;32m/data/geodyn_proj/pygeodyn/pygeodyn_develop/PYGEODYN_Control.py\u001b[0m in \u001b[0;36mmake_output_directories\u001b[0;34m(self)\u001b[0m\n\u001b[1;32m    316\u001b[0m \u001b[0;34m\u001b[0m\u001b[0m\n\u001b[1;32m    317\u001b[0m \u001b[0;34m\u001b[0m\u001b[0m\n\u001b[0;32m--> 318\u001b[0;31m         \u001b[0mself\u001b[0m\u001b[0;34m.\u001b[0m\u001b[0mclean_iisset_file\u001b[0m\u001b[0;34m(\u001b[0m\u001b[0;34m)\u001b[0m\u001b[0;34m\u001b[0m\u001b[0;34m\u001b[0m\u001b[0m\n\u001b[0m\u001b[1;32m    319\u001b[0m         \u001b[0mself\u001b[0m\u001b[0;34m.\u001b[0m\u001b[0m_INPUT_filename\u001b[0m      \u001b[0;34m=\u001b[0m \u001b[0mself\u001b[0m\u001b[0;34m.\u001b[0m\u001b[0mTMPDIR_arc\u001b[0m  \u001b[0;34m+\u001b[0m\u001b[0;34m'/'\u001b[0m\u001b[0;34m+\u001b[0m\u001b[0;34m'cleaned_setup'\u001b[0m\u001b[0;34m+\u001b[0m\u001b[0;34m'_'\u001b[0m  \u001b[0;34m+\u001b[0m \u001b[0mself\u001b[0m\u001b[0;34m.\u001b[0m\u001b[0marcdate_for_files\u001b[0m\u001b[0;34m\u001b[0m\u001b[0;34m\u001b[0m\u001b[0m\n\u001b[1;32m    320\u001b[0m \u001b[0;34m\u001b[0m\u001b[0m\n",
      "\u001b[0;32m/data/geodyn_proj/pygeodyn/pygeodyn_develop/PYGEODYN_ICESat2.py\u001b[0m in \u001b[0;36mclean_iisset_file\u001b[0;34m(self)\u001b[0m\n\u001b[1;32m    285\u001b[0m         \u001b[0;31m##### Grab the EPOCH start and end times\u001b[0m\u001b[0;34m\u001b[0m\u001b[0;34m\u001b[0m\u001b[0;34m\u001b[0m\u001b[0m\n\u001b[1;32m    286\u001b[0m         \u001b[0mEPOCH_lines\u001b[0m \u001b[0;34m=\u001b[0m \u001b[0;34m[\u001b[0m\u001b[0;34m]\u001b[0m\u001b[0;34m\u001b[0m\u001b[0;34m\u001b[0m\u001b[0m\n\u001b[0;32m--> 287\u001b[0;31m         \u001b[0;32mwith\u001b[0m \u001b[0mopen\u001b[0m\u001b[0;34m(\u001b[0m\u001b[0miisset_file\u001b[0m\u001b[0;34m,\u001b[0m \u001b[0;34m'r'\u001b[0m\u001b[0;34m)\u001b[0m \u001b[0;32mas\u001b[0m \u001b[0mf\u001b[0m\u001b[0;34m:\u001b[0m\u001b[0;34m\u001b[0m\u001b[0;34m\u001b[0m\u001b[0m\n\u001b[0m\u001b[1;32m    288\u001b[0m             \u001b[0;32mfor\u001b[0m \u001b[0mline_no\u001b[0m\u001b[0;34m,\u001b[0m \u001b[0mline_text\u001b[0m \u001b[0;32min\u001b[0m \u001b[0menumerate\u001b[0m\u001b[0;34m(\u001b[0m\u001b[0mf\u001b[0m\u001b[0;34m)\u001b[0m\u001b[0;34m:\u001b[0m\u001b[0;34m\u001b[0m\u001b[0;34m\u001b[0m\u001b[0m\n\u001b[1;32m    289\u001b[0m                 \u001b[0;32mif\u001b[0m \u001b[0;34m'EPOCH         '\u001b[0m \u001b[0;32min\u001b[0m \u001b[0mline_text\u001b[0m\u001b[0;34m:\u001b[0m\u001b[0;34m\u001b[0m\u001b[0;34m\u001b[0m\u001b[0m\n",
      "\u001b[0;31mFileNotFoundError\u001b[0m: [Errno 2] No such file or directory: '/data/data_geodyn/tmp/tiegcm_oc_acceloff_valid_ctrlrun/icesat2_2018313_24hr.tiegcm_oc.NoCD_Arc24/cleaned_setup_2018313'"
     ]
    }
   ],
   "source": [
    "%load_ext autoreload\n",
    "%autoreload 2\n",
    "from time import perf_counter\n",
    "t0=perf_counter()\n",
    "\n",
    "import sys  \n",
    "import pickle \n",
    "sys.path.insert(0, '/data/geodyn_proj/pygeodyn/pygeodyn_develop/')\n",
    "from PYGEODYN import Pygeodyn\n",
    "\n",
    "for i,val in enumerate( [ 'tiegcm_oc']):\n",
    "    run_settings = '/data/geodyn_proj/validation/NoCD_Arc24_AllDensModels_settings/NoCdArc24_'+val+'.yaml'\n",
    "    ### Load the data into an object\n",
    "    Obj_Geodyn = Pygeodyn(run_settings)\n",
    "    \n",
    "    \n",
    "    Obj_Geodyn.RUN_GEODYN()\n",
    "    time2 = perf_counter()-t0\n",
    "    print('Run Time:', time2-t0,         'seconds' )\n",
    "    print('Run Time:', (time2-t0)/60,    'minutes' )\n",
    "    print('Run Time:', (time2-t0)/60/60, 'hours'   )\n",
    "\n",
    "\n"
   ]
  },
  {
   "cell_type": "markdown",
   "id": "6bea133d",
   "metadata": {},
   "source": [
    "### Timing info"
   ]
  },
  {
   "cell_type": "code",
   "execution_count": null,
   "id": "d6091f65",
   "metadata": {
    "ExecuteTime": {
     "end_time": "2021-12-10T19:03:04.385716Z",
     "start_time": "2021-12-10T19:03:02.088Z"
    }
   },
   "outputs": [],
   "source": [
    "# ##benchmarks:\n",
    "# import numpy as np\n",
    "\n",
    "# time1_bench = 162.62843567994423\n",
    "# time2_bench = 790.212044704007 \n",
    "# print('msis2    benchmark:', np.round(time1_bench, 2)/60,'m')\n",
    "\n",
    "# print('tiegcm_oc benchmark:', np.round(time2_bench, 2)/60,'m')\n",
    "\n",
    "\n",
    "# print('ratio', time2_bench/time1_bench, )\n"
   ]
  },
  {
   "cell_type": "code",
   "execution_count": null,
   "id": "dc572eb1",
   "metadata": {
    "ExecuteTime": {
     "end_time": "2021-12-10T19:03:04.386517Z",
     "start_time": "2021-12-10T19:03:02.090Z"
    }
   },
   "outputs": [],
   "source": [
    "# # time1 = 162.62843567994423\n",
    "# # time2 = 790.212044704007 \n",
    "# print('ratio', time2/time1, )\n",
    "\n",
    "\n",
    "# diff = time2 - time1\n",
    "# perc_diff = ((time2-time1)/time1)*100\n",
    "\n",
    "# print('msis2     time:', np.round(time1, 2)/60,'m')\n",
    "# print('tiegcm_oc time:', np.round(time2, 2)/60,'m')\n",
    "# print()\n",
    "# print('tiegcm_oc is ')\n",
    "# print('             ',np.round(diff,2)   ,'seconds slower')\n",
    "# print('              ',np.round(diff/60,2),'minutes slower')\n",
    "# print('              ', np.round(perc_diff,2),'%    slower')\n",
    "# print('                                     than msis2')\n",
    "\n",
    "# print()\n",
    "\n",
    "# perc_diff_bnchmk = ((time2_bench-time2)/time2)*100\n",
    "\n",
    "# # print('TIEGCM sped up by:', perc_diff_bnchmk,'%')\n",
    "# print('TIEGCM sped up by:', perc_diff_bnchmk,'%')\n"
   ]
  },
  {
   "cell_type": "markdown",
   "id": "5b788a3c",
   "metadata": {},
   "source": [
    "## Load data"
   ]
  },
  {
   "cell_type": "code",
   "execution_count": null,
   "id": "12fcdfec",
   "metadata": {
    "ExecuteTime": {
     "end_time": "2021-12-10T19:03:04.387245Z",
     "start_time": "2021-12-10T19:03:02.091Z"
    }
   },
   "outputs": [],
   "source": [
    "models_list = [\n",
    "               'msis2'    ,\n",
    "               'tiegcm_oc',\n",
    "               ] \n",
    "\n",
    "%load_ext autoreload\n",
    "%autoreload 2\n",
    "\n",
    "Obj_Geodyn={}\n",
    "for i,val in enumerate(models_list):\n",
    "    run_settings = '/data/geodyn_proj/validation/NoCD_Arc24_AllDensModels_settings/NoCdArc24_TEST_'+val+'.yaml'\n",
    "\n",
    "    ### Load the data into an object\n",
    "    Obj_Geodyn[val] = Pygeodyn(run_settings)\n",
    "    Obj_Geodyn[val].getData()\n",
    "    "
   ]
  },
  {
   "cell_type": "markdown",
   "id": "42f38826",
   "metadata": {
    "ExecuteTime": {
     "end_time": "2021-12-02T22:15:43.855176Z",
     "start_time": "2021-12-02T22:15:43.842432Z"
    }
   },
   "source": [
    "### Plot Density"
   ]
  },
  {
   "cell_type": "code",
   "execution_count": null,
   "id": "f31a049f",
   "metadata": {
    "ExecuteTime": {
     "end_time": "2021-12-10T19:03:04.388054Z",
     "start_time": "2021-12-10T19:03:02.096Z"
    }
   },
   "outputs": [],
   "source": [
    " import plotly.graph_objects as go\n",
    "from plotly.offline import plot, iplot\n",
    "from plotly.subplots import make_subplots\n",
    "import plotly.express as px\n",
    "import pandas as pd\n",
    "\n",
    "import numpy as np\n",
    "\n",
    "config = dict({\n",
    "                'displayModeBar': True,\n",
    "                'responsive': False,\n",
    "                'staticPlot': False,\n",
    "                'displaylogo': False,\n",
    "                'showTips': False,\n",
    "                })\n",
    "\n",
    "# Simplify Plotting Schemes:\n",
    "col1 = px.colors.qualitative.Plotly[0]\n",
    "col2 = px.colors.qualitative.Plotly[1]\n",
    "col3 = px.colors.qualitative.Plotly[2]\n",
    "col4 = px.colors.qualitative.Plotly[3]\n",
    "col5 = px.colors.qualitative.Plotly[4]\n",
    "col6 = px.colors.qualitative.Plotly[5]\n",
    "\n",
    "def Plot_Densitycomparison(fig, obj_m1, plot_num):\n",
    "\n",
    "    if plot_num == 0:\n",
    "        col = col1\n",
    "        x_annot = 1.09\n",
    "        y_annot1 = 1\n",
    "        y_annot2 = .9\n",
    "        m_size = 4.5\n",
    "    elif plot_num == 1:\n",
    "        x_annot = 1.09\n",
    "        y_annot1 = .8\n",
    "        y_annot2 = .7\n",
    "        col = col2\n",
    "        m_size = 4\n",
    "    elif plot_num == 2:\n",
    "        x_annot = 1.09\n",
    "        y_annot1 = .5\n",
    "        y_annot2 = .5\n",
    "        col = col3\n",
    "        m_size = 3.5\n",
    "    elif plot_num == 3:\n",
    "        x_annot = 1.09\n",
    "        y_annot1 = .2\n",
    "        y_annot2 = .3\n",
    "        col = col4\n",
    "        m_size = 3\n",
    "    elif plot_num == 4:\n",
    "        x_annot = 1.09\n",
    "        y_annot1 =  0 \n",
    "        y_annot2 = .1\n",
    "        col = col5\n",
    "        m_size = 3\n",
    "    elif plot_num == 5:\n",
    "        x_annot = 1.09\n",
    "        y_annot1 =  0 \n",
    "        y_annot2 = .1\n",
    "        col = col6\n",
    "        m_size = 3\n",
    "\n",
    "\n",
    "\n",
    "    model_m1 = obj_m1.__dict__['global_params']['den_model']\n",
    "    for ii,arc in enumerate(obj_m1.__dict__['global_params']['arc_input']):\n",
    "        \n",
    "        \n",
    "        #### INDEX THE DENSITY DF correctly\n",
    "        vals  = np.arange(obj_m1.__dict__['Density'][arc].index[0],obj_m1.__dict__['Density'][arc].index[-1]+1)\n",
    "        df = obj_m1.__dict__['Density'][arc].set_index('Date',drop=False ) \n",
    "        df['i_vals'] = vals\n",
    "        index_date = df.loc[df.index.max()]['i_vals'].min()\n",
    "\n",
    "        \n",
    "        str_run_param = 'run_parameters'+ arc\n",
    "        final_iter = obj_m1.__dict__[str_run_param]['str_iteration']\n",
    "        i_arc = ii+1\n",
    "        \n",
    "        print('----',model_m1,'----')\n",
    "        print('     mean:    ',np.mean(obj_m1.Density[arc]['rho (kg/m**3)']),'----')\n",
    "        print('     variance:',np.std(obj_m1.Density[arc]['rho (kg/m**3)']),'----')\n",
    "        print()\n",
    "        fig.add_trace(go.Scattergl(  x=obj_m1.Density[arc]['Date'][:index_date:10],\n",
    "                                     y=obj_m1.Density[arc]['rho (kg/m**3)'][:index_date:10],\n",
    "                                     name= model_m1+arc,\n",
    "                                     mode='markers',\n",
    "                                     opacity=0.5,\n",
    "                                     marker=dict(\n",
    "                                        color=col, \n",
    "                                        size=m_size,\n",
    "                                                ),\n",
    "                                     showlegend=False,\n",
    "                                  ),\n",
    "                                      secondary_y=False,\n",
    "                                       row=1, col=1,\n",
    "                                  )\n",
    "\n",
    "#         (mean,rms,rms_about_zero) = STATS_residuals(data_resids['T'], 'in-track')\n",
    "\n",
    "#         fig = add_stats_annotation(fig, model_m1+'<br>Mean='+ str(np.round(mean,4))+'<br>RMS='+ str(np.round(rms_about_zero,4)), col , x_annot, y_annot1)\n",
    "\n",
    "\n",
    "    fig.update_yaxes( title=\"rho (kg/m**3)\", type='log', exponentformat= 'power',row=1, col=1)\n",
    "    fig.update_xaxes( title=\"Date\", row=1, col=1)\n",
    "\n",
    "    return(fig)"
   ]
  },
  {
   "cell_type": "code",
   "execution_count": null,
   "id": "20f3db6a",
   "metadata": {
    "ExecuteTime": {
     "end_time": "2021-12-10T19:03:04.388787Z",
     "start_time": "2021-12-10T19:03:02.098Z"
    }
   },
   "outputs": [],
   "source": [
    "%load_ext autoreload\n",
    "%autoreload 2\n",
    "\n",
    "\n",
    "fig = make_subplots(\n",
    "    rows=1, cols=1,\n",
    "    subplot_titles=(['Comparison of Model Densities']),\n",
    "    vertical_spacing = 0.15)\n",
    "\n",
    "fig = Plot_Densitycomparison(fig, Obj_Geodyn['msis2']        , 2)\n",
    "fig = Plot_Densitycomparison(fig, Obj_Geodyn['tiegcm_oc']    , 5)\n",
    "\n",
    "fig.show(config=config)\n",
    "\n",
    "\n",
    "# fig.write_image(plots_dir+ 'Density_along_orbit.jpg', format='jpg')\n"
   ]
  },
  {
   "cell_type": "code",
   "execution_count": null,
   "id": "2e557d93",
   "metadata": {},
   "outputs": [],
   "source": []
  }
 ],
 "metadata": {
  "kernelspec": {
   "display_name": "Python 3",
   "language": "python",
   "name": "python3"
  },
  "language_info": {
   "codemirror_mode": {
    "name": "ipython",
    "version": 3
   },
   "file_extension": ".py",
   "mimetype": "text/x-python",
   "name": "python",
   "nbconvert_exporter": "python",
   "pygments_lexer": "ipython3",
   "version": "3.8.8"
  },
  "toc": {
   "base_numbering": 1,
   "nav_menu": {},
   "number_sections": true,
   "sideBar": true,
   "skip_h1_title": false,
   "title_cell": "Table of Contents",
   "title_sidebar": "Contents",
   "toc_cell": false,
   "toc_position": {
    "height": "calc(100% - 180px)",
    "left": "10px",
    "top": "150px",
    "width": "165px"
   },
   "toc_section_display": true,
   "toc_window_display": true
  },
  "varInspector": {
   "cols": {
    "lenName": 16,
    "lenType": 16,
    "lenVar": 40
   },
   "kernels_config": {
    "python": {
     "delete_cmd_postfix": "",
     "delete_cmd_prefix": "del ",
     "library": "var_list.py",
     "varRefreshCmd": "print(var_dic_list())"
    },
    "r": {
     "delete_cmd_postfix": ") ",
     "delete_cmd_prefix": "rm(",
     "library": "var_list.r",
     "varRefreshCmd": "cat(var_dic_list()) "
    }
   },
   "types_to_exclude": [
    "module",
    "function",
    "builtin_function_or_method",
    "instance",
    "_Feature"
   ],
   "window_display": false
  }
 },
 "nbformat": 4,
 "nbformat_minor": 5
}
