{
 "cells": [
  {
   "cell_type": "code",
   "execution_count": 1,
   "metadata": {},
   "outputs": [],
   "source": [
    "import pandas as pd"
   ]
  },
  {
   "cell_type": "code",
   "execution_count": 2,
   "metadata": {},
   "outputs": [],
   "source": [
    "labels = ['iyd',\n",
    "'sec',\n",
    "'alt',\n",
    "'glat',\n",
    "'glong',\n",
    "'stl',\n",
    "'f107a',\n",
    "'f107',\n",
    "'Ap',\n",
    "'He',\n",
    "'O',\n",
    "'N2',\n",
    "'O2',\n",
    "'Ar',\n",
    "'rho',\n",
    "'H',\n",
    "'N',\n",
    "'O*',\n",
    "'T']\n",
    "\n",
    "A = pd.read_csv('msis2.0_test_out.txt',\n",
    "                skiprows = 1,\n",
    "               names= labels,\n",
    "               sep = '\\s+')\n",
    "\n",
    "\n",
    "\n",
    "\n"
   ]
  },
  {
   "cell_type": "code",
   "execution_count": 3,
   "metadata": {},
   "outputs": [
    {
     "data": {
      "text/plain": [
       "0        0.2\n",
       "1        0.6\n",
       "2        0.8\n",
       "3        1.0\n",
       "4        1.0\n",
       "       ...  \n",
       "195    468.8\n",
       "196    500.0\n",
       "197    500.0\n",
       "198    500.0\n",
       "199    500.0\n",
       "Name: alt, Length: 200, dtype: float64"
      ]
     },
     "execution_count": 3,
     "metadata": {},
     "output_type": "execute_result"
    }
   ],
   "source": [
    "A['alt']"
   ]
  },
  {
   "cell_type": "code",
   "execution_count": 4,
   "metadata": {},
   "outputs": [
    {
     "name": "stderr",
     "output_type": "stream",
     "text": [
      "findfont: Font family ['sans-serif'] not found. Falling back to DejaVu Sans.\n"
     ]
    },
    {
     "data": {
      "image/png": "[encoded data removed]",
      "text/plain": [
       "<Figure size 504x432 with 1 Axes>"
      ]
     },
     "metadata": {
      "needs_background": "light"
     },
     "output_type": "display_data"
    }
   ],
   "source": [
    "%matplotlib inline\n",
    "import matplotlib.pyplot as plt\n",
    "from matplotlib import rc\n",
    "import matplotlib as mpl\n",
    "from matplotlib import patches as mpatches\n",
    "mpl.rcParams['lines.markersize'] = 5\n",
    "plt.rcParams['axes.grid'] = True\n",
    "plt.rcParams['grid.alpha'] = 1\n",
    "plt.rcParams['grid.color'] = \"#cccccc\"\n",
    "plt.rcParams.update({'font.size': 16})\n",
    "rc('font',**{'family':'sans-serif','sans-serif':['Calibri']})\n",
    "plt.rcParams['axes.titlesize']='large' \n",
    "plt.rcParams['axes.titlepad']= 3\n",
    "rc('text', usetex=False)\n",
    "plt.rcParams[\"legend.loc\"] = 'best'\n",
    "\n",
    "# data_nums = 1000\n",
    "\n",
    "fig, ( ax1) = plt.subplots(1, figsize=(7,6), sharex=False)\n",
    "ax1.plot(A['rho'], A['alt'],'.')\n",
    "\n",
    "\n",
    "ax1.set(ylabel=  'alt')  \n",
    "ax1.set(xlabel=  'rho')\n",
    "# plt.yscale('log')\n",
    "plt.xscale('log')\n",
    "\n",
    "\n",
    "fig.tight_layout( pad=1.0)\n",
    "\n",
    "\n",
    "for ax in fig.axes:\n",
    "    plt.sca(ax)\n",
    "    plt.xticks(rotation=45)\n",
    "\n",
    " "
   ]
  },
  {
   "cell_type": "code",
   "execution_count": null,
   "metadata": {},
   "outputs": [],
   "source": []
  }
 ],
 "metadata": {
  "kernelspec": {
   "display_name": "Python 3",
   "language": "python",
   "name": "python3"
  },
  "language_info": {
   "codemirror_mode": {
    "name": "ipython",
    "version": 3
   },
   "file_extension": ".py",
   "mimetype": "text/x-python",
   "name": "python",
   "nbconvert_exporter": "python",
   "pygments_lexer": "ipython3",
   "version": "3.8.5"
  }
 },
 "nbformat": 4,
 "nbformat_minor": 4
}
