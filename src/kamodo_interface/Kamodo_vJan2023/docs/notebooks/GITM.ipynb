{
 "cells": [
  {
   "cell_type": "code",
   "execution_count": null,
   "metadata": {},
   "outputs": [],
   "source": [
    "import kamodo\n",
    "from kamodo_ccmc.readers.gitm.gitmK import GITM\n",
    "\n",
    "import glob\n",
    "import numpy as np\n",
    "from plotly.offline import init_notebook_mode, iplot, plot\n",
    "import plotly.io as pio\n",
    "from kaleido.scopes.plotly import PlotlyScope\n",
    "init_notebook_mode(connected = True)"
   ]
  },
  {
   "cell_type": "code",
   "execution_count": null,
   "metadata": {},
   "outputs": [],
   "source": [
    "!wget https://ccmc.gsfc.nasa.gov/Kamodo/data/GITMwSWMF/3DLST_t150317_175800.bin -O /tmp/3DLST_t150317_175800.bin"
   ]
  },
  {
   "cell_type": "code",
   "execution_count": null,
   "metadata": {},
   "outputs": [],
   "source": [
    "# Select the data file\n",
    "runpath = \"../../../data/\"\n",
    "#runname = \"Sophia_Schwalbe_062220_IT_4\"\n",
    "#runname = \"Aaron_Ridley_081017_IT_2\"\n",
    "runname = \"GDC_GITM\"\n",
    "files = glob.glob(runpath+runname+'/*.bin')\n",
    "files.sort()\n",
    "file = files[-1]"
   ]
  },
  {
   "cell_type": "code",
   "execution_count": null,
   "metadata": {
    "scrolled": false
   },
   "outputs": [],
   "source": [
    "file = '/tmp/3DLST_t150317_175800.bin'\n",
    "model = GITM(file, runpath='.', runname='test', debug=1, gridified=True)\n",
    "model"
   ]
  },
  {
   "cell_type": "code",
   "execution_count": null,
   "metadata": {},
   "outputs": [],
   "source": [
    "from kamodo import partial"
   ]
  },
  {
   "cell_type": "code",
   "execution_count": null,
   "metadata": {},
   "outputs": [],
   "source": [
    "model['rho_400k'] = partial(model.rho, alt=400000.)"
   ]
  },
  {
   "cell_type": "code",
   "execution_count": null,
   "metadata": {},
   "outputs": [],
   "source": [
    "model.rho_400k?"
   ]
  },
  {
   "cell_type": "code",
   "execution_count": null,
   "metadata": {},
   "outputs": [],
   "source": [
    "np.linspace(0,360, 1)"
   ]
  },
  {
   "cell_type": "code",
   "execution_count": null,
   "metadata": {},
   "outputs": [],
   "source": [
    "fig = model.plot('rho_400k')\n",
    "fig"
   ]
  },
  {
   "cell_type": "code",
   "execution_count": null,
   "metadata": {},
   "outputs": [],
   "source": [
    "fig.data[0]['contours'] = {'coloring': 'fill', 'showlines': False}\n",
    "fig.data[0]['ncontours'] = 201"
   ]
  },
  {
   "cell_type": "code",
   "execution_count": null,
   "metadata": {},
   "outputs": [],
   "source": [
    "fig"
   ]
  },
  {
   "cell_type": "code",
   "execution_count": null,
   "metadata": {},
   "outputs": [],
   "source": [
    "model.plot(rho=dict(alt=400000.))"
   ]
  },
  {
   "cell_type": "code",
   "execution_count": null,
   "metadata": {},
   "outputs": [],
   "source": [
    "#Write list of variables to file 'kamodo_info'\n",
    "model.write_variables()"
   ]
  },
  {
   "cell_type": "code",
   "execution_count": null,
   "metadata": {},
   "outputs": [],
   "source": [
    "cat kamodo_info"
   ]
  },
  {
   "cell_type": "markdown",
   "metadata": {},
   "source": [
    "# Interpolation"
   ]
  },
  {
   "cell_type": "code",
   "execution_count": null,
   "metadata": {},
   "outputs": [],
   "source": [
    "print(model.rho([[70,30.,440000.],[70,40.,400000.],[90,40.,400000.],[120,40.,440000.]]))"
   ]
  },
  {
   "cell_type": "code",
   "execution_count": null,
   "metadata": {},
   "outputs": [],
   "source": [
    "model.rho?"
   ]
  },
  {
   "cell_type": "code",
   "execution_count": null,
   "metadata": {},
   "outputs": [],
   "source": [
    "var=\"rho\"\n",
    "grid = np.ndarray(shape=(4,3), dtype=np.float32)\n",
    "grid[:,0] = [70, 70, 90, 120]\n",
    "grid[:,1] = [30, 40, 40, 40]\n",
    "grid[:,2] = [440000., 400000., 400000., 440000.]\n",
    "units=model.variables[var]['units']\n",
    "test = model.variables[var]['interpolator'](grid)\n",
    "print(units)\n",
    "print(test)"
   ]
  },
  {
   "cell_type": "markdown",
   "metadata": {},
   "source": [
    "# Plotting"
   ]
  },
  {
   "cell_type": "code",
   "execution_count": null,
   "metadata": {},
   "outputs": [],
   "source": [
    "# Slice at given Altitude\n",
    "fig=model.get_plot('rho', 400000., '2D-alt', colorscale='Viridis', log=\"T\")\n",
    "#iplot(fig)\n",
    "\n",
    "#pio.write_image(fig, 'images/GITM_2D-alt.svg')"
   ]
  },
  {
   "cell_type": "code",
   "execution_count": null,
   "metadata": {},
   "outputs": [],
   "source": [
    "fig.data"
   ]
  },
  {
   "cell_type": "code",
   "execution_count": null,
   "metadata": {},
   "outputs": [],
   "source": [
    "fig"
   ]
  },
  {
   "cell_type": "markdown",
   "metadata": {},
   "source": [
    "![2D-alt](images/GITM_2D-alt.svg)"
   ]
  },
  {
   "cell_type": "code",
   "execution_count": null,
   "metadata": {},
   "outputs": [],
   "source": [
    "# Slice at given latitude\n",
    "fig=model.get_plot('Tn', 0., '2D-lat', colorscale='Rainbow')\n",
    "iplot(fig)\n",
    "\n",
    "#pio.write_image(fig, 'images/GITM_2D-lat.svg')"
   ]
  },
  {
   "cell_type": "markdown",
   "metadata": {},
   "source": [
    "![2D-lat](images/GITM_2D-lat.svg)"
   ]
  },
  {
   "cell_type": "code",
   "execution_count": null,
   "metadata": {},
   "outputs": [],
   "source": [
    "# Slice at given longitude\n",
    "fig=model.get_plot('rho', 180., '2D-lon', colorscale='Rainbow', log='T')\n",
    "iplot(fig)\n",
    "\n",
    "#pio.write_image(fig, 'images/GITM_2D-lon.svg')"
   ]
  },
  {
   "cell_type": "markdown",
   "metadata": {},
   "source": [
    "![2D-lon](images/GITM_2D-lon.svg)"
   ]
  },
  {
   "cell_type": "code",
   "execution_count": null,
   "metadata": {},
   "outputs": [],
   "source": [
    "# 3D view at given Altitude\n",
    "fig=model.get_plot('rho', 400000., '3D-alt', colorscale='Rainbow')\n",
    "iplot(fig)\n",
    "\n",
    "#pio.write_image(fig, 'images/GITM_3D-alt.svg')"
   ]
  },
  {
   "cell_type": "markdown",
   "metadata": {},
   "source": [
    "![3D-alt](images/GITM_3D-alt.svg)"
   ]
  },
  {
   "cell_type": "code",
   "execution_count": null,
   "metadata": {},
   "outputs": [],
   "source": [
    "# Isosurface with slice at Lat=0.\n",
    "fig=model.get_plot('Tn', 750., 'iso')\n",
    "iplot(fig)\n",
    "\n",
    "#scope = PlotlyScope()\n",
    "#with open(\"images/GITM_iso.png\", \"wb\") as f:\n",
    "#    f.write(scope.transform(fig, format=\"png\"))\n",
    "\n",
    "#fig.write_html(\"GITM_iso.html\",full_html=False)"
   ]
  },
  {
   "cell_type": "markdown",
   "metadata": {},
   "source": [
    "![iso](images/GITM_iso.png)"
   ]
  },
  {
   "cell_type": "code",
   "execution_count": null,
   "metadata": {},
   "outputs": [],
   "source": []
  }
 ],
 "metadata": {
  "kernelspec": {
   "display_name": "Python 3",
   "language": "python",
   "name": "python3"
  },
  "language_info": {
   "codemirror_mode": {
    "name": "ipython",
    "version": 3
   },
   "file_extension": ".py",
   "mimetype": "text/x-python",
   "name": "python",
   "nbconvert_exporter": "python",
   "pygments_lexer": "ipython3",
   "version": "3.8.8"
  },
  "toc": {
   "base_numbering": 1,
   "nav_menu": {},
   "number_sections": true,
   "sideBar": true,
   "skip_h1_title": false,
   "title_cell": "Table of Contents",
   "title_sidebar": "Contents",
   "toc_cell": false,
   "toc_position": {},
   "toc_section_display": true,
   "toc_window_display": false
  }
 },
 "nbformat": 4,
 "nbformat_minor": 4
}
