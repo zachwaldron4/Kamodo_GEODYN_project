{
 "cells": [
  {
   "cell_type": "markdown",
   "metadata": {},
   "source": [
    "# HAPI client wrapper"
   ]
  },
  {
   "cell_type": "code",
   "execution_count": null,
   "metadata": {},
   "outputs": [],
   "source": [
    "import kamodo\n",
    "from kamodo_ccmc.readers.hapi import HAPI\n",
    "\n",
    "from plotly.offline import init_notebook_mode, iplot, plot\n",
    "import plotly.io as pio\n",
    "import plotly.graph_objects as go"
   ]
  },
  {
   "cell_type": "markdown",
   "metadata": {},
   "source": [
    "### Read from SSCWeb\n",
    "\n",
    "Split variables into components (the default)"
   ]
  },
  {
   "cell_type": "code",
   "execution_count": null,
   "metadata": {},
   "outputs": [],
   "source": [
    "server = 'https://cdaweb.gsfc.nasa.gov/hapi'\n",
    "dataset = 'GOES12_K0_MAG'\n",
    "parameters = 'B_GSE_c,SC_pos_eo,SC_pos_se'\n",
    "start      = '2008-07-11T00:00:00'\n",
    "stop       = '2008-07-13T00:00:00'\n",
    "\n",
    "hapi = HAPI(server, dataset, parameters, start, stop, register_components=True)\n",
    "hapi"
   ]
  },
  {
   "cell_type": "markdown",
   "metadata": {},
   "source": [
    "Kamodo-automated plotting"
   ]
  },
  {
   "cell_type": "code",
   "execution_count": null,
   "metadata": {},
   "outputs": [],
   "source": [
    "hapi.plot('SC_pos_eo')"
   ]
  },
  {
   "cell_type": "code",
   "execution_count": null,
   "metadata": {},
   "outputs": [],
   "source": [
    "hapi.plot('B_x__GSE_c', 'B_y__GSE_c', 'B_z__GSE_c')"
   ]
  },
  {
   "cell_type": "markdown",
   "metadata": {},
   "source": [
    "# Customized plotting (specific to HAPI object)"
   ]
  },
  {
   "cell_type": "code",
   "execution_count": null,
   "metadata": {},
   "outputs": [],
   "source": [
    "server     = 'http://hapi-server.org/servers/SSCWeb/hapi'\n",
    "dataset    = 'grace1'\n",
    "parameters = 'X_GEO,Y_GEO,Z_GEO,X_GSE,Y_GSE,Z_GSE'\n",
    "start      = '2012-07-07T00:00:00'\n",
    "stop       = '2012-07-08T00:00:00'\n",
    "hapi = HAPI(server, dataset, parameters, start, stop)"
   ]
  },
  {
   "cell_type": "code",
   "execution_count": null,
   "metadata": {},
   "outputs": [],
   "source": [
    "fig=hapi.get_plot(coord='GSE', type=\"1Dpos\", scale=\"R_E\")\n",
    "iplot(fig)\n",
    "#pio.write_image(fig, 'images/hapi1D.svg')"
   ]
  },
  {
   "cell_type": "code",
   "execution_count": null,
   "metadata": {},
   "outputs": [],
   "source": [
    "fig=hapi.get_plot('GSE', type=\"3Dpos\", scale=\"km\")\n",
    "iplot(fig)\n",
    "#pio.write_image(fig, 'images/hapi3D.svg')"
   ]
  },
  {
   "cell_type": "markdown",
   "metadata": {},
   "source": [
    "### Read from CDAWeb"
   ]
  },
  {
   "cell_type": "code",
   "execution_count": null,
   "metadata": {},
   "outputs": [],
   "source": [
    "server = 'https://cdaweb.gsfc.nasa.gov/hapi'\n",
    "dataset = 'GOES12_K0_MAG'\n",
    "parameters = 'B_GSE_c,SC_pos_eo,SC_pos_se'\n",
    "start      = '2008-07-11T00:00:00'\n",
    "stop       = '2008-07-13T00:00:00'\n",
    "\n",
    "#hapi2 = HAPI(server, dataset, parameters)\n",
    "hapi2 = HAPI(server, dataset, parameters, start, stop)"
   ]
  },
  {
   "cell_type": "code",
   "execution_count": null,
   "metadata": {},
   "outputs": [],
   "source": [
    "fig=hapi2.get_plot(coord='GSE', type=\"1Dpos\", scale=\"km\")\n",
    "iplot(fig)"
   ]
  },
  {
   "cell_type": "code",
   "execution_count": null,
   "metadata": {},
   "outputs": [],
   "source": [
    "fig=hapi2.get_plot(type=\"1Dvar\", var=\"B_GSE_c\")\n",
    "iplot(fig)"
   ]
  },
  {
   "cell_type": "markdown",
   "metadata": {},
   "source": [
    "# Interpolation"
   ]
  },
  {
   "cell_type": "code",
   "execution_count": null,
   "metadata": {},
   "outputs": [],
   "source": [
    "from datetime import datetime\n",
    "# datetime\n",
    "dt = hapi.dtarray[0]\n",
    "print(dt)\n",
    "# datetime to timestamp\n",
    "ts = dt.timestamp()\n",
    "print(ts)\n",
    "#timestamp back to datetime\n",
    "dt2 = datetime.fromtimestamp(ts)\n",
    "print(dt2)"
   ]
  },
  {
   "cell_type": "code",
   "execution_count": null,
   "metadata": {},
   "outputs": [],
   "source": [
    "# Reference points at start of arrays\n",
    "print(hapi.dtarray[0],'\\n',hapi.tsarray[0],'\\n',hapi.variables['X_GEO']['data'][0])"
   ]
  },
  {
   "cell_type": "code",
   "execution_count": null,
   "metadata": {},
   "outputs": [],
   "source": [
    "# Interpolate one point\n",
    "ts=hapi.dtarray[0].timestamp()+10.\n",
    "print(ts)\n",
    "print(hapi.X_GEO(ts))"
   ]
  },
  {
   "cell_type": "code",
   "execution_count": null,
   "metadata": {},
   "outputs": [],
   "source": [
    "# Interpolate array of points (method 1)\n",
    "tss=(hapi.dtarray[0].timestamp()+10.,\n",
    "     hapi.dtarray[0].timestamp()+20.)\n",
    "print(hapi.X_GEO(tss))"
   ]
  },
  {
   "cell_type": "code",
   "execution_count": null,
   "metadata": {},
   "outputs": [],
   "source": [
    "# Interpolate array of points (method 2 --preferred)\n",
    "var='X_GEO'\n",
    "units=hapi.variables[var]['units']\n",
    "print(units)\n",
    "tss=(hapi.dtarray[0].timestamp()+10.,\n",
    "     hapi.dtarray[0].timestamp()+20.)\n",
    "test = hapi.variables[var]['interpolator'](tss)\n",
    "print(test)"
   ]
  }
 ],
 "metadata": {
  "kernelspec": {
   "display_name": "Python 3",
   "language": "python",
   "name": "python3"
  },
  "language_info": {
   "codemirror_mode": {
    "name": "ipython",
    "version": 3
   },
   "file_extension": ".py",
   "mimetype": "text/x-python",
   "name": "python",
   "nbconvert_exporter": "python",
   "pygments_lexer": "ipython3",
   "version": "3.7.11"
  }
 },
 "nbformat": 4,
 "nbformat_minor": 4
}
