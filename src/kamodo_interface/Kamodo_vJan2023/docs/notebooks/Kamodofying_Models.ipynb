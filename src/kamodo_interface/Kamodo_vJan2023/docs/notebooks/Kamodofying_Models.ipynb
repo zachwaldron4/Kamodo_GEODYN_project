{
 "cells": [
  {
   "cell_type": "markdown",
   "metadata": {},
   "source": [
    "# Kamodofication Tutorial\n",
    "\n",
    "This tutorial focuses on building a Kamodofied model from scratch. To see the full implementation, skip down to the [Final-Implementation](#Final-Implementation)."
   ]
  },
  {
   "cell_type": "markdown",
   "metadata": {},
   "source": [
    "## Kamodofication requirements\n",
    "\n",
    "To Kamodofy models and data representing physical quantities, we need to define a set of functions representing the interpolation of each physical variable having the following properties:\n",
    "\n",
    "* A function name and arguments that follows kamodo's [Syntax](../Syntax/) conventions \n",
    "* Default arrays for input arguments\n",
    "* A meta attribute containing:\n",
    "    * 'units' - physical units of the values returned by the function\n",
    "    * 'citation' - How the model or data source should be cited\n",
    "    * 'equation' - LaTeX representation of this model/data source (if available)\n",
    "    * 'hidden_args' - A list of function arguments that should not be rendered\n",
    "* A data attribute - The array holding the variable (if available)\n",
    "* Any docstrings that provide further context"
   ]
  },
  {
   "cell_type": "markdown",
   "metadata": {},
   "source": [
    "## Model Reader Tutorial\n",
    "\n",
    "Model Readers load data from disk (or server) and provide methods for interpolation. We require that for each variable of interest, the model reader should provide at least one interpolation method that satisfies all of the above requirements. Each model reader will:\n",
    "\n",
    "1. Open/close files\n",
    "2. Manage state variables\n",
    "3. Initialize interpolators\n",
    "4. Kamodofy interpolators\n",
    "5. Register functions"
   ]
  },
  {
   "cell_type": "markdown",
   "metadata": {},
   "source": [
    "### Minimal Example: one variable"
   ]
  },
  {
   "cell_type": "code",
   "execution_count": null,
   "metadata": {},
   "outputs": [],
   "source": [
    "from kamodo import Kamodo, kamodofy, gridify\n",
    "from scipy.interpolate import RegularGridInterpolator\n",
    "import numpy as np\n",
    "import plotly.io as pio"
   ]
  },
  {
   "cell_type": "code",
   "execution_count": null,
   "metadata": {},
   "outputs": [],
   "source": [
    "class MyModel(Kamodo): \n",
    "    def __init__(self, filename, **kwargs):\n",
    "        # perform any necessary I/O\n",
    "        print('opening {}'.format(filename))\n",
    "        self.filename = filename\n",
    "        self.missing_value = np.NAN\n",
    "        \n",
    "        # store any data needed for interpolation\n",
    "        self.x = np.linspace(1, 4, 11)\n",
    "        self.y = np.linspace(4, 7, 22)\n",
    "        self.z = np.linspace(7, 9, 33) \n",
    "        \n",
    "        xx, yy, zz = np.meshgrid(self.x, self.y, self.z, indexing='ij', sparse=True)\n",
    "        density_data = 2 * xx**3 + 3 * yy**2 - zz\n",
    "        \n",
    "        self.interpolator = RegularGridInterpolator((self.x, self.y, self.z), density_data, \n",
    "                                                    bounds_error = False,\n",
    "                                                   fill_value = self.missing_value)\n",
    "\n",
    "\n",
    "        \n",
    "        # Prepare model for function registration for the input argument\n",
    "        super(MyModel, self).__init__(**kwargs) \n",
    "        \n",
    "        # Wrap the interpolator with a nicer function signature\n",
    "        @kamodofy(units = 'kg*m**-3')\n",
    "        def interpolator(xvec):\n",
    "            return self.interpolator(xvec)\n",
    "        \n",
    "        self['rho'] = interpolator\n",
    "\n",
    "\n",
    "model = MyModel('myfile.dat')\n",
    "model"
   ]
  },
  {
   "cell_type": "markdown",
   "metadata": {},
   "source": [
    "we can call the registered function with multiple values, getting `nan` if out of bounds:"
   ]
  },
  {
   "cell_type": "code",
   "execution_count": null,
   "metadata": {},
   "outputs": [],
   "source": [
    "model.rho([[2,5,8],\n",
    "           [0,0,0]])"
   ]
  },
  {
   "cell_type": "markdown",
   "metadata": {},
   "source": [
    "However, the registered function has no default parameters, so an error will be raised if we do not provide an argument."
   ]
  },
  {
   "cell_type": "code",
   "execution_count": null,
   "metadata": {},
   "outputs": [],
   "source": [
    "try:\n",
    "    model.rho()\n",
    "except TypeError as m:\n",
    "    print(m)"
   ]
  },
  {
   "cell_type": "markdown",
   "metadata": {},
   "source": [
    "At this point, the end-user of the model cannot generate quick-look graphics:"
   ]
  },
  {
   "cell_type": "code",
   "execution_count": null,
   "metadata": {},
   "outputs": [],
   "source": [
    "try:\n",
    "    model.plot('rho')\n",
    "except TypeError as m:\n",
    "    print(m)"
   ]
  },
  {
   "cell_type": "markdown",
   "metadata": {},
   "source": [
    "In order to generate any plots, the user must already know where they can place resolution. For example, they could inspect some of the attributes of the model and guess the size of the domain, then choose points from that space."
   ]
  },
  {
   "cell_type": "code",
   "execution_count": null,
   "metadata": {},
   "outputs": [],
   "source": [
    "xx,yy,zz = np.meshgrid(model.x, model.y, model.z)\n",
    "points = np.column_stack([xx.ravel(),yy.ravel(),zz.ravel()])\n",
    "randints = np.random.randint(0,len(points), 1000)"
   ]
  },
  {
   "cell_type": "code",
   "execution_count": null,
   "metadata": {},
   "outputs": [],
   "source": [
    "fig = model.plot(rho = dict(xvec = points[randints] ))"
   ]
  },
  {
   "cell_type": "code",
   "execution_count": null,
   "metadata": {},
   "outputs": [],
   "source": [
    "# pio.write_image(fig, 'images/kamodofied1.svg')"
   ]
  },
  {
   "cell_type": "markdown",
   "metadata": {},
   "source": [
    "![kamodofied1](images/kamodofied1.svg)"
   ]
  },
  {
   "cell_type": "markdown",
   "metadata": {},
   "source": [
    "Hopefully, the user doesn't choose points where the solution may be invalid. Next, we'll modify the original function to provide a griddable variable with default parameters."
   ]
  },
  {
   "cell_type": "markdown",
   "metadata": {},
   "source": [
    "## Including defaults\n",
    "\n",
    "The above example produced a kamodofied model with one variable, but we are unable to produce quick-look graphics, which required the user to inspect the model to guess where interpolation may be valid. Here we show how to include defaults so the user doesn't have to guess."
   ]
  },
  {
   "cell_type": "code",
   "execution_count": null,
   "metadata": {},
   "outputs": [],
   "source": [
    "class MyModel(Kamodo): \n",
    "    def __init__(self, filename, **kwargs):\n",
    "        # perform any necessary I/O\n",
    "        print('opening {}'.format(filename))\n",
    "        self.filename = filename\n",
    "        self.missing_value = np.NAN\n",
    "        \n",
    "        # store any data needed for interpolation\n",
    "        self.x = np.linspace(1, 4, 11)\n",
    "        self.y = np.linspace(4, 7, 22)\n",
    "        self.z = np.linspace(7, 9, 33) \n",
    "        \n",
    "        xx, yy, zz = np.meshgrid(self.x, self.y, self.z, indexing='ij', sparse=True)\n",
    "        density_data = 2 * xx**3 + 3 * yy**2 - zz\n",
    "        \n",
    "        self.interpolator = RegularGridInterpolator((self.x, self.y, self.z), density_data, \n",
    "                                                    bounds_error = False,\n",
    "                                                   fill_value = self.missing_value)\n",
    "\n",
    "\n",
    "        \n",
    "        # Prepare model for function registration for the input argument\n",
    "        super(MyModel, self).__init__(**kwargs) \n",
    "        \n",
    "        # Wrap the interpolator with a nicer function signature\n",
    "        @kamodofy(units = 'kg/m**3')\n",
    "        @gridify(x = self.x, y = self.y, z = self.z) # <--- The only change to the model\n",
    "        def interpolator(xvec):\n",
    "            return self.interpolator(xvec)\n",
    "        \n",
    "        self['rho'] = interpolator\n",
    "        \n",
    "\n",
    "model = MyModel('myfile.dat')\n",
    "model"
   ]
  },
  {
   "cell_type": "markdown",
   "metadata": {},
   "source": [
    "By adding the `@gridify` line, we have modified the original function to be one that generates gridded data. Moreover, the variable now has default parameters."
   ]
  },
  {
   "cell_type": "code",
   "execution_count": null,
   "metadata": {},
   "outputs": [],
   "source": [
    "model.rho().shape"
   ]
  },
  {
   "cell_type": "markdown",
   "metadata": {},
   "source": [
    "We can now specify one or more arguments to get a plane mapping of the solution."
   ]
  },
  {
   "cell_type": "code",
   "execution_count": null,
   "metadata": {},
   "outputs": [],
   "source": [
    "model.rho(z = 8).shape"
   ]
  },
  {
   "cell_type": "markdown",
   "metadata": {},
   "source": [
    "But how do we know to choose the plane `z=8` for a valid solution? We can use kamodo's function inspection to get the default ranges for each parameter."
   ]
  },
  {
   "cell_type": "code",
   "execution_count": null,
   "metadata": {},
   "outputs": [],
   "source": [
    "from kamodo import get_defaults"
   ]
  },
  {
   "cell_type": "code",
   "execution_count": null,
   "metadata": {},
   "outputs": [],
   "source": [
    "get_defaults(model.rho)['z'].mean()"
   ]
  },
  {
   "cell_type": "markdown",
   "metadata": {},
   "source": [
    "## Final Implementation\n",
    "\n",
    "In the final implementation of our model reader, we include multiple variables with different function signatures. Here, the gridded solutions have suffixes `_ijk` to emphasize their structure. This allows more flexibility for the end user."
   ]
  },
  {
   "cell_type": "code",
   "execution_count": null,
   "metadata": {},
   "outputs": [],
   "source": [
    "class MyModel(Kamodo): \n",
    "    def __init__(self, filename, **kwargs):\n",
    "        # perform any necessary I/O\n",
    "        print('opening {}'.format(filename))\n",
    "        self.filename = filename\n",
    "        self.missing_value = np.NAN\n",
    "        \n",
    "        # store any data needed for interpolation\n",
    "        self.x = np.linspace(1, 4, 11)\n",
    "        self.y = np.linspace(4, 7, 22)\n",
    "        self.z = np.linspace(7, 9, 33)        \n",
    "        xx, yy, zz = np.meshgrid(self.x, self.y, self.z, indexing='ij', sparse=True)\n",
    "        density_data = 2 * xx**3 + 3 * yy**2 - zz\n",
    "        pressure_data = xx**2 + yy**2 + zz**2\n",
    "        \n",
    "        \n",
    "        self.variables = dict(rho = dict(units = 'kg/m**3', data = density_data),\n",
    "                              P = dict(units = 'nPa', data = pressure_data))\n",
    "\n",
    "        # Prepare model for function registration\n",
    "        super(MyModel, self).__init__(**kwargs) \n",
    "        \n",
    "        for varname in self.variables:\n",
    "            units = self.variables[varname]['units']\n",
    "            self.register_variable(varname, units)\n",
    "            \n",
    "    def register_variable(self, varname, units):\n",
    "        interpolator = self.get_grid_interpolator(varname)\n",
    "        \n",
    "        # store the interpolator\n",
    "        self.variables[varname]['interpolator'] = interpolator\n",
    "\n",
    "        def interpolate(xvec):  \n",
    "            return self.variables[varname]['interpolator'](xvec)\n",
    "\n",
    "        # update docstring for this variable\n",
    "        interpolate.__doc__ = \"A function that returns {} in [{}].\".format(varname,units)\n",
    "\n",
    "        self[varname] = kamodofy(interpolate, \n",
    "                           units = units, \n",
    "                           citation = \"Pembroke et al 2019\",\n",
    "                          data = None)\n",
    "        self[varname + '_ijk'] = kamodofy(gridify(self[varname], \n",
    "                                                  x_i = self.x, \n",
    "                                                  y_j = self.y, \n",
    "                                                  z_k = self.z, squeeze=False),\n",
    "                            units = units,\n",
    "                            citation = \"Pembroke et al 2019\",\n",
    "                            data = self.variables[varname]['data'])\n",
    "        \n",
    "            \n",
    "    def get_grid_interpolator(self, varname):\n",
    "        \"\"\"create a regulard grid interpolator for this variable\"\"\"\n",
    "        data =  self.variables[varname]['data']\n",
    "\n",
    "        interpolator = RegularGridInterpolator((self.x, self.y, self.z), data, \n",
    "                                                bounds_error = False,\n",
    "                                               fill_value = self.missing_value)\n",
    "        return interpolator\n",
    "            \n",
    "\n",
    "model = MyModel('myfile.dat')\n",
    "model"
   ]
  },
  {
   "cell_type": "code",
   "execution_count": null,
   "metadata": {},
   "outputs": [],
   "source": [
    "model.rho((2,5,8))"
   ]
  },
  {
   "cell_type": "code",
   "execution_count": null,
   "metadata": {},
   "outputs": [],
   "source": [
    "model.P((2,5,8))"
   ]
  },
  {
   "cell_type": "code",
   "execution_count": null,
   "metadata": {},
   "outputs": [],
   "source": [
    "model.detail()"
   ]
  },
  {
   "cell_type": "markdown",
   "metadata": {},
   "source": [
    "Here the `@kamodofy` decorator handles the provisioning of kamodo-specific metadata. For example, the declared function `rho` now has a `meta` attribute:"
   ]
  },
  {
   "cell_type": "code",
   "execution_count": null,
   "metadata": {},
   "outputs": [],
   "source": [
    "model.rho.meta"
   ]
  },
  {
   "cell_type": "markdown",
   "metadata": {},
   "source": [
    "`@kamodofy` also adds the data attribute, by calling the function with its default parameters:"
   ]
  },
  {
   "cell_type": "code",
   "execution_count": null,
   "metadata": {},
   "outputs": [],
   "source": [
    "model.rho_ijk.data.shape"
   ]
  },
  {
   "cell_type": "markdown",
   "metadata": {},
   "source": [
    "## Combined models"
   ]
  },
  {
   "cell_type": "markdown",
   "metadata": {},
   "source": [
    "We could also register the model's interpolating method as part of some other Kamodo object, such as another kamodofied model reader or data source:"
   ]
  },
  {
   "cell_type": "code",
   "execution_count": null,
   "metadata": {},
   "outputs": [],
   "source": [
    "from kamodo import Kamodo\n",
    "kamodo = Kamodo(rho = model.rho)\n",
    "kamodo"
   ]
  },
  {
   "cell_type": "markdown",
   "metadata": {},
   "source": [
    "We can now compose our density function with expressions defined by other models:"
   ]
  },
  {
   "cell_type": "code",
   "execution_count": null,
   "metadata": {},
   "outputs": [],
   "source": [
    "kamodo['vol'] = '4/3 * pi * (xvec)**(3/2)'\n",
    "kamodo"
   ]
  },
  {
   "cell_type": "code",
   "execution_count": null,
   "metadata": {},
   "outputs": [],
   "source": [
    "kamodo['mass'] = 'rho*vol'\n",
    "kamodo"
   ]
  },
  {
   "cell_type": "code",
   "execution_count": null,
   "metadata": {},
   "outputs": [],
   "source": [
    "kamodo.detail()"
   ]
  },
  {
   "cell_type": "markdown",
   "metadata": {},
   "source": [
    "The following lines will save the image to your working directory.\n",
    "\n",
    "!!! note\n",
    "    Saving images requires `plotly-orca-1.2.1`, available through conda: ```conda install -c plotly plotly-orca```"
   ]
  },
  {
   "cell_type": "code",
   "execution_count": null,
   "metadata": {},
   "outputs": [],
   "source": [
    "model.rho_ijk().shape"
   ]
  },
  {
   "cell_type": "code",
   "execution_count": null,
   "metadata": {},
   "outputs": [],
   "source": [
    "import plotly.io as pio\n",
    "fig = model.plot(rho_ijk = dict(z_k = model.z.mean()))"
   ]
  },
  {
   "cell_type": "code",
   "execution_count": null,
   "metadata": {},
   "outputs": [],
   "source": [
    "from plotly.offline import iplot, init_notebook_mode, plot"
   ]
  },
  {
   "cell_type": "code",
   "execution_count": null,
   "metadata": {},
   "outputs": [],
   "source": [
    "init_notebook_mode(connected = True)"
   ]
  },
  {
   "cell_type": "code",
   "execution_count": null,
   "metadata": {},
   "outputs": [],
   "source": [
    "fig = model.plot(rho_ijk =  dict(z_k = [model.z.mean()]))"
   ]
  },
  {
   "cell_type": "code",
   "execution_count": null,
   "metadata": {},
   "outputs": [],
   "source": [
    "# pio.write_image(fig, 'kamodofied_model_1.svg', validate = False)"
   ]
  },
  {
   "cell_type": "markdown",
   "metadata": {},
   "source": [
    "We use markdown to embed the image into the notebook.\n",
    "![Kamodofied Density](kamodofied_model_1.svg?5)"
   ]
  },
  {
   "cell_type": "markdown",
   "metadata": {},
   "source": [
    "Alternative ways to graph:"
   ]
  },
  {
   "cell_type": "code",
   "execution_count": null,
   "metadata": {},
   "outputs": [],
   "source": [
    "## uncomment to open interactive plot in the notebook\n",
    "# from plotly.offline import init_notebook_mode, iplot\n",
    "# init_notebook_mode(connected = True)\n",
    "# iplot(kamodo.plot(rho = dict(x = model.x.mean()))) "
   ]
  },
  {
   "cell_type": "code",
   "execution_count": null,
   "metadata": {},
   "outputs": [],
   "source": [
    "# # uncomment to open interactive plot in separate tab\n",
    "# from plotly.offline import plot\n",
    "# plot(kamodo.plot(rho = dict(z = 8))) "
   ]
  }
 ],
 "metadata": {
  "kernelspec": {
   "display_name": "Python 3",
   "language": "python",
   "name": "python3"
  },
  "language_info": {
   "codemirror_mode": {
    "name": "ipython",
    "version": 3
   },
   "file_extension": ".py",
   "mimetype": "text/x-python",
   "name": "python",
   "nbconvert_exporter": "python",
   "pygments_lexer": "ipython3",
   "version": "3.7.0"
  }
 },
 "nbformat": 4,
 "nbformat_minor": 2
}
