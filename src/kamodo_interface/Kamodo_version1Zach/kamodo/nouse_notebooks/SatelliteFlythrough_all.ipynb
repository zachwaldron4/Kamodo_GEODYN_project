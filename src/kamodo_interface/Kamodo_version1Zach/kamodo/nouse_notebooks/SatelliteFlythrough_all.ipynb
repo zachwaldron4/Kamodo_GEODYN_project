{
 "cells": [
  {
   "cell_type": "code",
   "execution_count": 1,
   "id": "statewide-animation",
   "metadata": {
    "ExecuteTime": {
     "end_time": "2021-08-23T23:13:44.758387Z",
     "start_time": "2021-08-23T23:13:43.519914Z"
    }
   },
   "outputs": [
    {
     "ename": "ModuleNotFoundError",
     "evalue": "No module named 'kamodo.flythrough'; 'kamodo' is not a package",
     "output_type": "error",
     "traceback": [
      "\u001b[0;31m---------------------------------------------------------------------------\u001b[0m",
      "\u001b[0;31mModuleNotFoundError\u001b[0m                       Traceback (most recent call last)",
      "\u001b[0;32m<ipython-input-1-f762633ab81b>\u001b[0m in \u001b[0;36m<module>\u001b[0;34m\u001b[0m\n\u001b[1;32m      7\u001b[0m \u001b[0;34m\u001b[0m\u001b[0m\n\u001b[1;32m      8\u001b[0m \u001b[0;34m\u001b[0m\u001b[0m\n\u001b[0;32m----> 9\u001b[0;31m \u001b[0;32mfrom\u001b[0m \u001b[0mflythrough\u001b[0m \u001b[0;32mimport\u001b[0m \u001b[0mSatelliteFlythrough\u001b[0m \u001b[0;32mas\u001b[0m \u001b[0mS\u001b[0m\u001b[0;34m\u001b[0m\u001b[0;34m\u001b[0m\u001b[0m\n\u001b[0m\u001b[1;32m     10\u001b[0m \u001b[0;32mimport\u001b[0m \u001b[0mkamodo\u001b[0m\u001b[0;34m.\u001b[0m\u001b[0mflythrough\u001b[0m\u001b[0;34m.\u001b[0m\u001b[0mmodel_wrapper\u001b[0m \u001b[0;32mas\u001b[0m \u001b[0mMW\u001b[0m\u001b[0;34m\u001b[0m\u001b[0;34m\u001b[0m\u001b[0m\n",
      "\u001b[0;32m/data/geodyn_proj/interface_kamodo_geodyn/Kamodo/kamodo/flythrough/SatelliteFlythrough.py\u001b[0m in \u001b[0;36m<module>\u001b[0;34m\u001b[0m\n\u001b[1;32m     22\u001b[0m \u001b[0;32mimport\u001b[0m \u001b[0msys\u001b[0m\u001b[0;34m\u001b[0m\u001b[0;34m\u001b[0m\u001b[0m\n\u001b[1;32m     23\u001b[0m \u001b[0msys\u001b[0m\u001b[0;34m.\u001b[0m\u001b[0mpath\u001b[0m\u001b[0;34m.\u001b[0m\u001b[0minsert\u001b[0m\u001b[0;34m(\u001b[0m\u001b[0;36m0\u001b[0m\u001b[0;34m,\u001b[0m\u001b[0;34m'/data/geodyn_proj/interface_kamodo_geodyn/Kamodo/flythrough'\u001b[0m\u001b[0;34m)\u001b[0m\u001b[0;34m\u001b[0m\u001b[0;34m\u001b[0m\u001b[0m\n\u001b[0;32m---> 24\u001b[0;31m \u001b[0;32mfrom\u001b[0m \u001b[0mflythrough\u001b[0m\u001b[0;34m.\u001b[0m\u001b[0mSF_utilities\u001b[0m \u001b[0;32mimport\u001b[0m \u001b[0mPrepare_Files\u001b[0m\u001b[0;34m,\u001b[0m \u001b[0mSingle_FlyAway\u001b[0m\u001b[0;34m,\u001b[0m \u001b[0mMW\u001b[0m\u001b[0;34m,\u001b[0m \u001b[0mSingle_FlyAway_GEODYN\u001b[0m\u001b[0;34m\u001b[0m\u001b[0;34m\u001b[0m\u001b[0m\n\u001b[0m\u001b[1;32m     25\u001b[0m \u001b[0;34m\u001b[0m\u001b[0m\n\u001b[1;32m     26\u001b[0m \u001b[0;34m\u001b[0m\u001b[0m\n",
      "\u001b[0;32m/data/geodyn_proj/interface_kamodo_geodyn/Kamodo/kamodo/flythrough/SF_utilities.py\u001b[0m in \u001b[0;36m<module>\u001b[0;34m\u001b[0m\n\u001b[1;32m     24\u001b[0m \u001b[0;32mfrom\u001b[0m \u001b[0mos\u001b[0m\u001b[0;34m.\u001b[0m\u001b[0mpath\u001b[0m \u001b[0;32mimport\u001b[0m \u001b[0mbasename\u001b[0m\u001b[0;34m,\u001b[0m \u001b[0misfile\u001b[0m\u001b[0;34m\u001b[0m\u001b[0;34m\u001b[0m\u001b[0m\n\u001b[1;32m     25\u001b[0m \u001b[0;32mfrom\u001b[0m \u001b[0mdatetime\u001b[0m \u001b[0;32mimport\u001b[0m \u001b[0mdatetime\u001b[0m\u001b[0;34m,\u001b[0m \u001b[0mtimedelta\u001b[0m\u001b[0;34m,\u001b[0m \u001b[0mtimezone\u001b[0m\u001b[0;34m\u001b[0m\u001b[0;34m\u001b[0m\u001b[0m\n\u001b[0;32m---> 26\u001b[0;31m \u001b[0;32mimport\u001b[0m \u001b[0mkamodo\u001b[0m\u001b[0;34m.\u001b[0m\u001b[0mflythrough\u001b[0m\u001b[0;34m.\u001b[0m\u001b[0mmodel_wrapper\u001b[0m \u001b[0;32mas\u001b[0m \u001b[0mMW\u001b[0m\u001b[0;34m\u001b[0m\u001b[0;34m\u001b[0m\u001b[0m\n\u001b[0m\u001b[1;32m     27\u001b[0m \u001b[0;32mfrom\u001b[0m \u001b[0mkamodo\u001b[0m\u001b[0;34m.\u001b[0m\u001b[0mflythrough\u001b[0m\u001b[0;34m.\u001b[0m\u001b[0mutils\u001b[0m \u001b[0;32mimport\u001b[0m \u001b[0mConvertCoord\u001b[0m\u001b[0;34m\u001b[0m\u001b[0;34m\u001b[0m\u001b[0m\n\u001b[1;32m     28\u001b[0m \u001b[0;32mfrom\u001b[0m \u001b[0mastropy\u001b[0m\u001b[0;34m.\u001b[0m\u001b[0mconstants\u001b[0m \u001b[0;32mimport\u001b[0m \u001b[0mR_earth\u001b[0m  \u001b[0;31m#to convert from radius to height in CalcIlev\u001b[0m\u001b[0;34m\u001b[0m\u001b[0;34m\u001b[0m\u001b[0m\n",
      "\u001b[0;31mModuleNotFoundError\u001b[0m: No module named 'kamodo.flythrough'; 'kamodo' is not a package"
     ]
    }
   ],
   "source": [
    "#import satellite flythrough code\n",
    "#%matplotlib widget  #make matplotlib plots interactive\n",
    "\n",
    "import sys\n",
    "sys.path.insert(0,'/data/geodyn_proj/interface_kamodo_geodyn/Kamodo/kamodo')\n",
    "sys.path.insert(0,'/data/geodyn_proj/interface_kamodo_geodyn/Kamodo/kamodo/flythrough')\n",
    "\n",
    "\n",
    "from kamodo.flythrough import SatelliteFlythrough as S\n",
    "import kamodo.flythrough.model_wrapper as MW"
   ]
  },
  {
   "cell_type": "code",
   "execution_count": null,
   "id": "precious-motivation",
   "metadata": {
    "ExecuteTime": {
     "end_time": "2021-08-23T23:13:44.764344Z",
     "start_time": "2021-08-23T23:13:43.551Z"
    }
   },
   "outputs": [],
   "source": [
    "#What models are possible?\n",
    "MW.Choose_Model('')"
   ]
  },
  {
   "cell_type": "code",
   "execution_count": null,
   "id": "built-salmon",
   "metadata": {
    "ExecuteTime": {
     "end_time": "2021-08-23T23:13:44.765508Z",
     "start_time": "2021-08-23T23:13:43.551Z"
    }
   },
   "outputs": [],
   "source": [
    "#Choose which model to view the example for, then execute the notebook\n",
    "#This assumes the underlying model data files are available (!!!)\n",
    "model = 1"
   ]
  },
  {
   "cell_type": "code",
   "execution_count": null,
   "id": "judicial-penny",
   "metadata": {
    "ExecuteTime": {
     "end_time": "2021-08-23T23:13:44.766275Z",
     "start_time": "2021-08-23T23:13:43.552Z"
    }
   },
   "outputs": [],
   "source": [
    "#What are the variable names available from that model?\n",
    "MW.Model_Variables(model)"
   ]
  },
  {
   "cell_type": "code",
   "execution_count": null,
   "id": "reflected-aggregate",
   "metadata": {
    "ExecuteTime": {
     "end_time": "2021-08-23T23:13:44.767050Z",
     "start_time": "2021-08-23T23:13:43.553Z"
    }
   },
   "outputs": [],
   "source": [
    "#Examples for all models (The times are different to match the model output time ranges.)\n",
    "#----------------------------  \n",
    "if model=='CTIPe' or model==0:\n",
    "    start_utcts, end_utcts, n = 1426660000.0, 1426880700.0, 2.\n",
    "\n",
    "elif model=='GITM' or model==1:\n",
    "    start_utcts, end_utcts, n = 1165968000.0-30000., 1166053801.0+1000., 2.\n",
    "                \n",
    "elif model=='IRI' or model==2:\n",
    "    start_utcts, end_utcts, n = 1495930160.0, 1496010000.0, 2.\n",
    "        \n",
    "elif model=='SWMF_IE' or model==3:\n",
    "    start_utcts, end_utcts, n = 1533081600.0-30000., 1533167760.0+1000., 2.\n",
    "    \n",
    "elif model=='TIEGCM' or model==4:\n",
    "    start_utcts, end_utcts, n = 974264400.0-300., 974592000.+3000., 1000.\n",
    "\n",
    "plot_dir = 'C:/Users/rringuet/Kamodo_WinDev1/SatelliteFlythrough/'\n",
    "sat_dict, coord_type, coord_grid = S.SampleTrajectory(start_utcts, end_utcts, n=n)"
   ]
  },
  {
   "cell_type": "code",
   "execution_count": null,
   "id": "affecting-electronics",
   "metadata": {
    "ExecuteTime": {
     "end_time": "2021-08-23T23:13:44.767937Z",
     "start_time": "2021-08-23T23:13:43.554Z"
    }
   },
   "outputs": [],
   "source": [
    "#run satellite flythrough code (for CTIPe, choose parameters independent of pressure altitude)\n",
    "#Examples for all models\n",
    "#NOTE: data for different models should be kept in different directories\n",
    "#-----------------------------\n",
    "if model=='CTIPe' or model==0:\n",
    "    file_dir = 'C:/Users/rringuet/Kamodo_WinDev1/CTIPe/Data/'\n",
    "    variable_list = ['T_e','TEC']\n",
    "\n",
    "elif model=='GITM' or model==1:\n",
    "    file_dir = 'C:/Users/rringuet/Kamodo_WinDev1/GITM/Data/'\n",
    "    variable_list = ['T_n','TEC']\n",
    "    \n",
    "elif model=='IRI' or model==2:\n",
    "    file_dir = 'C:/Users/rringuet/Kamodo_WinDev1/IRI/Data/'\n",
    "    variable_list = ['T_e','TEC']       \n",
    "                \n",
    "elif model=='SWMF_IE' or model==3:\n",
    "    file_dir = 'C:/Users/rringuet/Kamodo_WinDev1/SWMF_IE/Data/'\n",
    "    variable_list = ['Q_Joule','rho_RT']\n",
    "    \n",
    "elif model=='TIEGCM' or model==4:  #all TIEGCM variables require conversion to pressure level\n",
    "    file_dir = 'C:/Users/rringuet/Kamodo_WinDev1/TIEGCM/Data/'\n",
    "    variable_list = ['rho','T_e']\n",
    "    \n",
    "results = S.ModelFlythrough(model, file_dir, variable_list, sat_dict['sat_time'], sat_dict['c1'], \n",
    "                            sat_dict['c2'], sat_dict['c3'], coord_type, coord_grid)"
   ]
  },
  {
   "cell_type": "code",
   "execution_count": null,
   "id": "polyphonic-relative",
   "metadata": {
    "ExecuteTime": {
     "end_time": "2021-08-23T23:13:44.768667Z",
     "start_time": "2021-08-23T23:13:43.554Z"
    }
   },
   "outputs": [],
   "source": [
    "#how to create sample trajectory and run flythrough code in one command\n",
    "help(S.FakeFlight)"
   ]
  },
  {
   "cell_type": "code",
   "execution_count": null,
   "id": "distinguished-liverpool",
   "metadata": {
    "ExecuteTime": {
     "end_time": "2021-08-23T23:13:44.769426Z",
     "start_time": "2021-08-23T23:13:43.556Z"
    }
   },
   "outputs": [],
   "source": [
    "#run FakeFlight (fly a sample satellite trajectory through the model)\n",
    "#output is to a csv file for reading from other languages, if desired\n",
    "#Example code for all models\n",
    "#----------------------------------\n",
    "model_str = MW.convert_model_string(model)\n",
    "output = 'C:/Users/rringuet/Kamodo_WinDev1/'+model_str+'/FakeFlight'\n",
    "results = S.FakeFlight(start_utcts, end_utcts, model, file_dir, variable_list, max_height=420., p=0.02, n=n,\n",
    "                      csv_output=output, plot_output=output)"
   ]
  },
  {
   "cell_type": "code",
   "execution_count": null,
   "id": "attractive-sending",
   "metadata": {
    "ExecuteTime": {
     "end_time": "2021-08-23T23:13:44.770170Z",
     "start_time": "2021-08-23T23:13:43.557Z"
    },
    "scrolled": true
   },
   "outputs": [],
   "source": [
    "results"
   ]
  },
  {
   "cell_type": "code",
   "execution_count": null,
   "id": "breeding-magnet",
   "metadata": {
    "ExecuteTime": {
     "end_time": "2021-08-23T23:13:44.770934Z",
     "start_time": "2021-08-23T23:13:43.558Z"
    }
   },
   "outputs": [],
   "source": [
    "#run RealFlight (fly a real satellite trajectory through the model)\n",
    "#Examples for each model\n",
    "#------------------------------------\n",
    "    \n",
    "if model=='CTIPe' or model==0:\n",
    "    dataset = 'grace1'\n",
    "    \n",
    "elif model=='GITM' or model==1:\n",
    "    dataset = 'grace1'\n",
    "\n",
    "elif model=='IRI' or model==2:\n",
    "    dataset = 'grace1'\n",
    "    \n",
    "elif model=='SWMF_IE' or model==3:\n",
    "    dataset = 'swarma'\n",
    "    \n",
    "elif model=='TIEGCM' or model==4:   \n",
    "    dataset = 'champ'  \n",
    "\n",
    "sat_dict, coord_type, coord_grid = S.SatelliteTrajectory(dataset, start_utcts, end_utcts)#, 'GSE')    "
   ]
  },
  {
   "cell_type": "code",
   "execution_count": null,
   "id": "aggressive-hampshire",
   "metadata": {
    "ExecuteTime": {
     "end_time": "2021-08-23T23:13:44.771929Z",
     "start_time": "2021-08-23T23:13:43.559Z"
    }
   },
   "outputs": [],
   "source": [
    "#file_dir, model, and variable_list parameters were set in a previous block\n",
    "output = 'C:/Users/rringuet/Kamodo_WinDev1/'+model_str+'/RealFlight'\n",
    "sat_dict = S.RealFlight(dataset, start_utcts, end_utcts, model, file_dir, \n",
    "             variable_list, csv_output=output, plot_output=output)"
   ]
  },
  {
   "cell_type": "code",
   "execution_count": null,
   "id": "matched-wildlife",
   "metadata": {
    "ExecuteTime": {
     "end_time": "2021-08-23T23:13:44.772675Z",
     "start_time": "2021-08-23T23:13:43.559Z"
    }
   },
   "outputs": [],
   "source": [
    "#establish alternate variable list\n",
    "if model=='CTIPe' or model==0:\n",
    "    variable_list = ['rho']\n",
    "elif model=='GITM' or model==1:\n",
    "    variable_list = ['rho_n']\n",
    "elif model=='IRI' or model==2:\n",
    "    variable_list = ['N_e']       \n",
    "elif model=='SWMF_IE' or model==3:\n",
    "    variable_list = ['Sigma_P']\n",
    "elif model=='TIEGCM' or model==4:  #all TIEGCM variables require conversion to pressure level\n",
    "    variable_list = ['T_n']\n",
    "\n",
    "#demonstrate using a custom trajectory\n",
    "traj_file, file_type = 'C:/Users/rringuet/Kamodo_WinDev1/'+model_str+'/'+model_str+'_RealFlight.csv', 'csv'\n",
    "coord_type, coord_grid = 'GEO', 'car'\n",
    "test_results = S.MyFlight(traj_file, file_type, coord_type, coord_grid, model, file_dir, variable_list,\n",
    "               csv_output=output+'2', plot_output=output+'2')"
   ]
  },
  {
   "cell_type": "code",
   "execution_count": null,
   "id": "average-castle",
   "metadata": {},
   "outputs": [],
   "source": []
  }
 ],
 "metadata": {
  "kernelspec": {
   "display_name": "Python 3",
   "language": "python",
   "name": "python3"
  },
  "language_info": {
   "codemirror_mode": {
    "name": "ipython",
    "version": 3
   },
   "file_extension": ".py",
   "mimetype": "text/x-python",
   "name": "python",
   "nbconvert_exporter": "python",
   "pygments_lexer": "ipython3",
   "version": "3.8.8"
  },
  "toc": {
   "base_numbering": 1,
   "nav_menu": {},
   "number_sections": true,
   "sideBar": true,
   "skip_h1_title": false,
   "title_cell": "Table of Contents",
   "title_sidebar": "Contents",
   "toc_cell": false,
   "toc_position": {},
   "toc_section_display": true,
   "toc_window_display": false
  },
  "varInspector": {
   "cols": {
    "lenName": 16,
    "lenType": 16,
    "lenVar": 40
   },
   "kernels_config": {
    "python": {
     "delete_cmd_postfix": "",
     "delete_cmd_prefix": "del ",
     "library": "var_list.py",
     "varRefreshCmd": "print(var_dic_list())"
    },
    "r": {
     "delete_cmd_postfix": ") ",
     "delete_cmd_prefix": "rm(",
     "library": "var_list.r",
     "varRefreshCmd": "cat(var_dic_list()) "
    }
   },
   "types_to_exclude": [
    "module",
    "function",
    "builtin_function_or_method",
    "instance",
    "_Feature"
   ],
   "window_display": false
  }
 },
 "nbformat": 4,
 "nbformat_minor": 5
}
