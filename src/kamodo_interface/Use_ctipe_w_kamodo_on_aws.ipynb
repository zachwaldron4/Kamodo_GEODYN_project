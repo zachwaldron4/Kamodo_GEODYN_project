{
 "cells": [
  {
   "cell_type": "markdown",
   "id": "cbd064ac",
   "metadata": {},
   "source": [
    "# Using CTIPe with Kamodo on AWS server"
   ]
  },
  {
   "cell_type": "markdown",
   "id": "aa3709d0",
   "metadata": {},
   "source": [
    "\n",
    "## Instructions from R. Ringuette\n",
    "\n",
    "**Instructions for calling CTIPe data from fortran (slow method – via file output)**   \n",
    "\n",
    "\n",
    "The instructions for calling CTIPe data from fortran are outlined below. Instructions and notes are indicated by the bulleted points, while commands are given with the dash-style bullets. In the current state, the python scripts are specifically designed for the Geodyn software and the CTIPe model, but can be extended to other models and even more easily to other software calls, depending upon the requirements. These directions enable a slow interface between fortran and python through a result file, which is projected to take roughly four hours to execute for a 2-week arc (15 min cadence). *A faster interface is under investigation via ForPy.*\n",
    "\n",
    "\n"
   ]
  },
  {
   "cell_type": "markdown",
   "id": "75729843",
   "metadata": {},
   "source": [
    "### (Before running)  Create a conda environment with Kamodo\n",
    "\n",
    "1. Create conda environment with kamodo installed. \n",
    "\n",
    "   1. ``cd (to dir where you want things to run) ``\n",
    "   2. ``cp (full path)/Kamodo-Master ``\n",
    "   3. ``conda create -n FortranKamodo python=3.7.9 ``\n",
    "   4. ``conda install -n FortranKamodo -c conda-forge plotly sympy scipy pytest pandas hydra-core requests ipython``\n",
    "   5. ``conda activate FortranKamodo``  \n",
    "   6. ``pip install python-forge``  \n",
    "   7.  ``pip install netCDF4``  \n",
    "   8.  ``pip install ./Kamodo-Master``  \n",
    "   9.  ``conda deactivate (when done)``  \n",
    " \n",
    "**Note**:  Use the Kamodo-Master dir RR sent to avoid possible issues with new versions.\n",
    "\n",
    "2. Can test your kamodo installation by executing the following commands with the environment activated (in command line):\n",
    "    1.  ``ipython``\n",
    "    2. ``import kamodo``\n",
    "    3. If no error occurs, your installation is good. You may exit ipython (``exit()``) and continue.\n"
   ]
  },
  {
   "cell_type": "markdown",
   "id": "c440a7e4",
   "metadata": {},
   "source": [
    "### Prepare the CTIPe Data:\n",
    "\n",
    "From RR--- \"The below code is used to speed up the data processing in the kamodo reader. Don’t worry about the other file types from the CTIPe output. The data wrapper function takes care of it.\"\n"
   ]
  },
  {
   "cell_type": "code",
   "execution_count": 1,
   "id": "7cfe2fb1",
   "metadata": {
    "ExecuteTime": {
     "end_time": "2021-06-09T19:10:34.749922Z",
     "start_time": "2021-06-09T19:10:34.746607Z"
    }
   },
   "outputs": [],
   "source": [
    "# from kamodo.readers import ctipe_data_wrapper as DW\n",
    "# import glob\n",
    "# ##### copy over the directory name where the data files are stored\n",
    "# # file_dir = '/data/geodyn_proj/interface_kamodo_geodyn/GeoDynTest_Slow/'\n",
    "# file_dir = '/data/data_geodyn/atmos_models_data/ctipe/2018_Dec_1_15/' \n",
    "\n",
    "# files = glob.glob(file_dir + '*plot-density.nc')\n",
    "\n",
    "# for f in files: \n",
    "#     DW.ctipe_wrap_files(f)\n"
   ]
  },
  {
   "cell_type": "code",
   "execution_count": 2,
   "id": "13876ae3",
   "metadata": {
    "ExecuteTime": {
     "end_time": "2021-06-09T19:10:34.758230Z",
     "start_time": "2021-06-09T19:10:34.753728Z"
    }
   },
   "outputs": [],
   "source": [
    "# files"
   ]
  },
  {
   "cell_type": "markdown",
   "id": "14442963",
   "metadata": {},
   "source": [
    "### Check satellite flythrough functionality\n",
    "\n",
    "From RR--- \"With the conda environment activated, execute the following command in the conda command prompt:\"\n",
    "\n",
    "\n",
    "``python C:\\Users\\rringuet\\Kamodo_WinDev1\\Kamodo-master\\kamodo\\readers\\CTIPe_wrapper_fortrancmd.py file_dir rho ilev\n",
    "1426637500.0 400.0 -25.0 10.0``\n",
    "\n",
    "   - `File_dir` is the directory where the data is located  \n",
    "   - `rho` is the variable name   \n",
    "   - `ilev` means the variable depends on the pressure level for the CTIPe model.   \n",
    "   - `sat_time` is the satellite timestamp in UTC since Jan 1 1970   \n",
    "   - `sat_height`: is satellite altitude above the ground (in km)  \n",
    "   - `sat_lat` satellite latitude  \n",
    "   - `sat_lon` satellite longitude  \n",
    "    \n",
    "  \n",
    "\n",
    "From RR---  \n",
    "- This program finds the value of the density and the density derivative at the time and location specified for the data files in the given directory. The two values are printed in a simple file called results.txt in the same directory as the data files, with the two values separated by a comma. The density, rho (kg/m^3), is given first, and rho_dz is given second, both printed to the 15 th decimal place.  \n",
    "- Note: The results.txt file is overwritten each time the program is run.\n",
    "- If the results.txt file is produced without error, then you can continue.\n",
    "\n"
   ]
  },
  {
   "cell_type": "code",
   "execution_count": 3,
   "id": "05b000db",
   "metadata": {},
   "outputs": [],
   "source": [
    "# \"\"\"\n",
    "# Created on Tue Mar 30 15:21:50 2021\n",
    "# @author: rringuet\n",
    "# Adapted for speed to execute for a single point \n",
    "# \"\"\"\n",
    "# #coding imports\n",
    "# import numpy as np\n",
    "# import glob, sys\n",
    "# from datetime import datetime, timedelta, timezone\n",
    "# #from kamodo.readers.ctipe_fast import CTIPe as CTIPe_fast\n",
    "# #from kamodo.readers.ctipe_time import CTIPe, ctipe_varnames\n",
    "# from kamodo.readers.ctipe_faster_wrapped import CTIPe, ctipe_varnames \n",
    "\n",
    "# #need input times to be timestamps since 1970 to pull data from the correct files\n",
    "# #modified to reduce number of times the ctipe reader is called to reduce calc time\n",
    "   \n",
    "# def CTIPeVariables():\n",
    "#     '''return a list of all the possible variables in CTIPe'''\n",
    "    \n",
    "#     return ctipe_varnames\n",
    "\n",
    "# def CTIPe_Single_Prerun(file_dir, variable_list):\n",
    "#     '''Return a list of the required height input for each variable'''\n",
    "\n",
    "#     #check for wrapped data output in dir, create if necessary\n",
    "#     wrapped_files = glob.glob(file_dir+'*-plot-density-wrapped.nc')\n",
    "#     files = glob.glob(file_dir+'*-plot-density.nc')\n",
    "#     if len(wrapped_files)!=len(files):  #not all files are wrapped, if any\n",
    "#         print('Wrapped files not found. Generating...')\n",
    "#         from kamodo.readers.ctipe_data_wrapper import ctipe_wrap_files as wrap\n",
    "#         filename = [wrap(f) for f in files if f.split('.nc')[0]+'-wrapped.nc' not in wrapped_files][0]\n",
    "#         #produce the wrapped files for all not in file_dir, returns the new filenames, takes first                \n",
    "#     else:\n",
    "#         filename = wrapped_files[0]\n",
    "    \n",
    "#     #create ctipe object, return vertical dependencies for variables requested\n",
    "#     ctipe = CTIPe(filename, variables_requested=variable_list, printfiles=False)\n",
    "#     var_test = []\n",
    "#     if 'H' in variable_list: variable_list.remove('H')  #H only needed if other functions require ilev\n",
    "#     for var in variable_list:  #determine which variables require ilev(2), height(1), neither(0)\n",
    "#         input_var_list = ctipe.variables[var]['xvec']\n",
    "#         if 'ilev' in input_var_list.keys(): var_test.append('ilev')\n",
    "#         elif 'height' in input_var_list.keys(): var_test.append('height')\n",
    "#         else: var_test.append('none')\n",
    "    \n",
    "#     return var_test\n",
    "\n",
    "# def ts_to_hrs(time_val, filedate):\n",
    "#     '''Convert array of timestamps to hours since midnight of filedate string'''\n",
    "    \n",
    "#     file_datetime = datetime.strptime(filedate+' 00:00:00', '%Y-%m-%d %H:%M:%S')\n",
    "#     return (datetime.utcfromtimestamp(time_val)-file_datetime).total_seconds()/3600.\n",
    "\n",
    "# def hrs_to_ts(time_val, filedate):\n",
    "#     '''Convert array of hours since midnight of filedate string to timestamps'''\n",
    "    \n",
    "#     file_datetime = datetime.strptime(filedate+' 00:00:00', '%Y-%m-%d %H:%M:%S').replace(tzinfo=timezone.utc)    \n",
    "#     return datetime.timestamp(file_datetime+timedelta(hours=time_val))\n",
    "\n",
    "# sample_ilev = np.linspace(1,15,75,dtype=float)   #global variable\n",
    "# def CalcIlev(H, t, height, lat, lon):\n",
    "#     '''Approximate ilev by inverting the gridded height function CTIPe.H for one sat point'''\n",
    "#     print('t',t )\n",
    "#     print('height',height )\n",
    "#     print('lat',lat )\n",
    "#     print('lon',lon )\n",
    "\n",
    "    \n",
    "#     rough_height = H(np.array([[t, ilev, lat, lon] for ilev in sample_ilev]))\n",
    "#     print('rough_height', rough_height*1e-3)\n",
    "\n",
    "#     ilev_range = np.sort(sample_ilev[np.argsort(abs(height-rough_height))[0:2]])\n",
    "#     test_ilev = np.linspace(ilev_range[0],ilev_range[1],100,dtype=float)\n",
    "#     finer_height = H(np.array([[t, ilev, lat, lon] for ilev in test_ilev]))\n",
    "#     print('finer_height', finer_height*1e-3)\n",
    "#     print('return CalcIlev: ',test_ilev[np.argmin(abs(height-finer_height))])\n",
    "#     return test_ilev[np.argmin(abs(height-finer_height))]\n",
    "\n",
    "# def test_ctipevalid(ctipe, sat_time):\n",
    "#     ''' Determine if a new ctipe object is needed bsed on the time given'''\n",
    "    \n",
    "#     if isinstance(ctipe, list):  \n",
    "#         return True  #if a list, then ctipe DNE, get a new one\n",
    "#     elif (sat_time>=ctipe.filetimes[0]) and (sat_time<=ctipe.filetimes[1]):\n",
    "#         return False  #sat_time is within known time range of file, use current ctipe\n",
    "#     else:  #sat_time is not within known time range of file, get a new ctipe object\n",
    "#         return True\n",
    "\n",
    "# def new_ctipe_object(file_dir, variable_list, sat_time):\n",
    "#     ''' Return a new ctipe object valid for the given time'''\n",
    "    \n",
    "#     files, times = glob.glob(file_dir+'*-plot-density-wrapped.nc'), []\n",
    "#     for f in files:\n",
    "#         file_date = f.split('\\\\')[-1].split('/')[-1][:10]\n",
    "#         beg_ts = hrs_to_ts(0.25, file_date)  #ctipe data starts at 0.25\n",
    "#         end_ts = hrs_to_ts(24.0, file_date)  #and ends at 24.00\n",
    "#         times.extend([beg_ts,end_ts])\n",
    "#         if (sat_time>=beg_ts) and (sat_time<=end_ts):\n",
    "#             print(f'New CTIPe object is from {f}')\n",
    "#             return CTIPe(f, variables_requested=variable_list, printfiles=False) #fast\n",
    "#     return times\n",
    "    \n",
    "\n",
    "# def CTIPe_Single_FlyAway(ctipe, variable_list, sat_time, sat_height, sat_lat, sat_lon, \n",
    "#                   z_dependence=['none'], dz=''):\n",
    "#     '''fly satellite through CTIPe model data, per position\n",
    "#     sat_time, sat_height, sat_lat, and sat_lon are all floats, not arrays\n",
    "#     z_dependence = [\"none\",\"height\",\"ilev\"] if variables depend on all three options\n",
    "#        dependence must be in same order as variable_list to match with variable names'''\n",
    "    \n",
    "        \n",
    "#     #Create satellite tracks with appropriate inputs\n",
    "#     file_date = ctipe.datetimes[0][0:10]\n",
    "#     model_sat_time = ts_to_hrs(sat_time, file_date)\n",
    "#     if 'H' in variable_list: variable_list.remove('H')  #H only needed if other functions require ilev\n",
    "#     sat_track = {}  #initialize list of satellite tracks\n",
    "#     if \"none\" in z_dependence:\n",
    "# #         print('z_dependence == none')\n",
    "#         sat_track['none']=[model_sat_time,sat_lat,sat_lon]\n",
    "#     if \"height\" in z_dependence:  #if function requires height (in km)\n",
    "# #         print('z_dependence == height')\n",
    "#         sat_track['height']=[model_sat_time,sat_height/1000.,sat_lat,sat_lon]\n",
    "#     if \"ilev\" in z_dependence:  #if ilev is required for at least one variable\n",
    "# #         print('z_dependence == ilev')\n",
    "#         sat_ilev = CalcIlev(ctipe.H, *[model_sat_time,sat_height*1000.,sat_lat,sat_lon])  \n",
    "        \n",
    "#         sat_track['ilev']=[model_sat_time,sat_ilev,sat_lat,sat_lon]\n",
    "\n",
    "#     #retrieve interpolator and interpolate data for each variable. \n",
    "#     results = {variable_list[i]: ctipe[variable_list[i]](sat_track[z_dependence[i]])[0] for i\n",
    "#                in range(len(variable_list))}\n",
    "    \n",
    "#     #determine vertical derivatives for each variable if requested\n",
    "#     if dz!='':\n",
    "#         for i in range(len(variable_list)):\n",
    "#             if dz[i] and z_dependence[i]!='none':  #if dz requested and variable has a vertical dependence\n",
    "#                 #generate tracks with slightly larger and smaller heights\n",
    "#                 if z_dependence[i]=='height':\n",
    "#                     #stay within CTIPe height (km) boundaries\n",
    "#                     sat_height_low = sat_height/1000.-100\n",
    "#                     if sat_height_low <= 140.: sat_height_low = 140.\n",
    "#                     sat_height_high = sat_height/1000.+100.\n",
    "#                     if sat_height_high>=2000.: sat_height_high = 2000.\n",
    "#                     dz_track = [[model_sat_time,sat_height_low,sat_lat,sat_lon],\n",
    "#                                 [model_sat_time,sat_height_high,sat_lat,sat_lon]]\n",
    "#                 if z_dependence[i]=='ilev':\n",
    "#                     #stay within CTIPe ilev boundaries\n",
    "#                     sat_ilev_low = sat_ilev-1.\n",
    "#                     if sat_ilev_low<=1.: sat_ilev_low = 1.\n",
    "#                     sat_ilev_high = sat_ilev+1.\n",
    "#                     if sat_ilev_high >= 15.: sat_ilev_high = 15.\n",
    "#                     dz_track =  [[model_sat_time,sat_ilev_low,sat_lat,sat_lon],\n",
    "#                                 [model_sat_time,sat_ilev_high,sat_lat,sat_lon]]\n",
    "#                 dz_result = ctipe[variable_list[i]](dz_track)  #returns two values\n",
    "#                 results[variable_list[i]+'_dz'] = dz_result[1]-dz_result[0]\n",
    "#     return results\n",
    "\n",
    "# def find_singlefile(file_pattern, sat_time, reader, dt=450., verbose=False):\n",
    "#     '''Find file containing given single time. Adjust if within dt seconds.'''\n",
    "    \n",
    "#     #build lookup table\n",
    "#     files, times, ts_list, filename = glob.glob(file_pattern), {}, [], ''\n",
    "#     for f in files:\n",
    "#         k = reader(f, variables_requested=[], filetimes=True)\n",
    "#         file_date = k.datetimes[0][0:10]\n",
    "#         times[file_date] = [f,k.timerange['min'],k.timerange['max'],\n",
    "#                             k.filetimes[0], k.filetimes[1]]\n",
    "#         ts_list.extend([k.filetimes[0], k.filetimes[1]])\n",
    "    \n",
    "#     #choose file time is in\n",
    "#     for file_date in times.keys():\n",
    "#         print(file_date)\n",
    "#         if ((sat_time>=times[file_date][3]) & (sat_time<=times[file_date][4])):\n",
    "#             filename = times[file_date][0]\n",
    "#             break\n",
    "#     if filename=='':  #if not in a file, try closest file if within dt\n",
    "#         sat_time = [ts_list[abs(np.array(ts_list)-sat_time).argmin()] if \\\n",
    "#                           (abs(np.array(ts_list)-sat_time).min() < dt) else 0][0]\n",
    "#         if sat_time==0:  #error if not within dt\n",
    "#             raise AttributeError('Files in dir do not contain the given time.')\n",
    "#         elif verbose:\n",
    "#             print(f'Adjusting time to nearest file with {dt} seconds.')\n",
    "#         for file_date in times.keys():  #otherwise, find file\n",
    "#             if ((sat_time>=times[file_date][3]) & (sat_time<=times[file_date][4])):\n",
    "#                 filename = times[file_date][0]\n",
    "#                 break \n",
    "            \n",
    "#     return filename, sat_time\n",
    "\n"
   ]
  },
  {
   "cell_type": "code",
   "execution_count": 4,
   "id": "e5c9df54",
   "metadata": {},
   "outputs": [],
   "source": [
    "# "
   ]
  },
  {
   "cell_type": "code",
   "execution_count": 5,
   "id": "e4756202",
   "metadata": {},
   "outputs": [],
   "source": [
    "\n",
    "# kamodo_path     = '/data/geodyn_proj/interface_kamodo_geodyn/Kamodo-master/kamodo/readers/CTIPe_wrapper_fortrancmd.py'\n",
    "# model_data_path = '/data/data_geodyn/atmos_models_data/ctipe/2015_03_18/'\n",
    "# # model_data_path = '/data/data_geodyn/atmos_models_data/ctipe/2018_Dec_1_15/'\n",
    "# var_inputs_static= 'rho ilev'\n",
    "\n",
    "# time = float('1426637500.0')# '150318 121010'    #'181201 210519'#'1426637500.0'\n",
    "# alt  = float('400.0') #'485.4546760656302808'\n",
    "# lat  = float('-25.0') # '40.18117715905883'\n",
    "# lon  = float('10.0') #'-117.07021273480323'\n",
    "\n",
    "\n",
    "# file_dir      = model_data_path\n",
    "# sat_time      = time\n",
    "# sat_height    = alt\n",
    "# sat_lat       = lat\n",
    "# sat_lon       = lon\n",
    "# variable_list = ['rho']\n",
    "# z_dependence  = ['ilev']"
   ]
  },
  {
   "cell_type": "code",
   "execution_count": 6,
   "id": "4bfc1dda",
   "metadata": {},
   "outputs": [],
   "source": [
    "\n",
    "\n",
    "# #find file nearest sat_time (within 450 seconds), correct sat_time if needed\n",
    "# filename, sat_time = find_singlefile(file_dir+'*plot-density-wrapped.nc', \n",
    "#                                      sat_time, CTIPe, dt=450., verbose=False)\n",
    "\n",
    "# #get ctipe object for requested variable (+H too)\n",
    "# # this just \"Registers\" the model as kamodo object\n",
    "# ctipe = CTIPe(filename, variables_requested=variable_list, printfiles=False)\n",
    "\n",
    "# # print(ctipe)\n",
    "# #get results requested for single position given\n",
    "# results_dict = CTIPe_Single_FlyAway(ctipe, variable_list, \n",
    "#                                 sat_time, sat_height, sat_lat, sat_lon, \n",
    "#                                 z_dependence=z_dependence, \n",
    "#                                 dz=[1])\n",
    "# print(results_dict)"
   ]
  },
  {
   "cell_type": "code",
   "execution_count": 7,
   "id": "c2869c91",
   "metadata": {},
   "outputs": [],
   "source": [
    "# !pip install sympy==1.7.1\n"
   ]
  },
  {
   "cell_type": "code",
   "execution_count": 8,
   "id": "c925daba",
   "metadata": {
    "ExecuteTime": {
     "end_time": "2021-06-09T19:10:34.763600Z",
     "start_time": "2021-06-09T19:10:34.760094Z"
    }
   },
   "outputs": [
    {
     "name": "stdout",
     "output_type": "stream",
     "text": [
      "0.000000000003996\n",
      "\n",
      "-0.000000000009748\n"
     ]
    }
   ],
   "source": [
    "import os\n",
    "\n",
    "# command = 'python /data/geodyn_proj/interface_kamodo_geodyn/Kamodo-master/kamodo/readers/CTIPe_wrapper_fortrancmd.py /data/data_geodyn/atmos_models_data/ctipe/2018_Dec_1_15/ rho ilev 181201 210519 485.4546760656302808    40.18117715905883  -117.07021273480323'\n",
    "\n",
    "kamodo_path     = '/data/geodyn_proj/interface_kamodo_geodyn/Kamodo-master/kamodo/readers/CTIPe_wrapper_fortrancmd.py'\n",
    "model_data_path = '/data/data_geodyn/atmos_models_data/ctipe/2015_03_18/'\n",
    "# model_data_path = '/data/data_geodyn/atmos_models_data/ctipe/2018_Dec_1_15/'\n",
    "var_inputs_static= 'rho ilev'\n",
    "\n",
    "time = '150318 121010'    #'181201 210519'#'1426637500.0'\n",
    "alt  = '400.0' #'485.4546760656302808'\n",
    "lat  = '-25.0' # '40.18117715905883'\n",
    "lon  = '10.0' #'-117.07021273480323'\n",
    "  \n",
    "# rho ilev 181201 210519 485.4546760656302808    40.18117715905883  -117.07021273480323'\n",
    "\n",
    "command = ('python'          +' '+\n",
    "           kamodo_path       +' '+\n",
    "           model_data_path   +' '+\n",
    "           var_inputs_static +' '+\n",
    "           time              +' '+\n",
    "           alt               +' '+\n",
    "           lat               +' '+\n",
    "           lon)\n",
    "os.system(command)\n",
    "\n",
    "with open(model_data_path+'results.txt', 'r') as f:\n",
    "    for line_no, line in enumerate(f):\n",
    "        print(line)\n"
   ]
  },
  {
   "cell_type": "code",
   "execution_count": 9,
   "id": "ef4bff47",
   "metadata": {},
   "outputs": [
    {
     "data": {
      "text/plain": [
       "'python /data/geodyn_proj/interface_kamodo_geodyn/Kamodo-master/kamodo/readers/CTIPe_wrapper_fortrancmd.py /data/data_geodyn/atmos_models_data/ctipe/2015_03_18/ rho ilev 150318 121010 400.0 -25.0 10.0'"
      ]
     },
     "execution_count": 9,
     "metadata": {},
     "output_type": "execute_result"
    }
   ],
   "source": [
    "command"
   ]
  },
  {
   "cell_type": "code",
   "execution_count": 10,
   "id": "ae9a2130",
   "metadata": {},
   "outputs": [],
   "source": [
    "# 1426712719.0"
   ]
  },
  {
   "cell_type": "code",
   "execution_count": 11,
   "id": "c0af8c4c",
   "metadata": {
    "ExecuteTime": {
     "end_time": "2021-06-09T19:10:34.936472Z",
     "start_time": "2021-06-09T19:10:34.765316Z"
    }
   },
   "outputs": [],
   "source": [
    "import datetime as dt  # Python standard library datetime  module\n",
    "import numpy as np\n",
    "from netCDF4 import Dataset  # http://code.google.com/p/netcdf4-python/\n",
    "\n",
    "\n",
    "def ncdump(path , verb=True):\n",
    "    \n",
    "    nc_fid = Dataset(path)\n",
    "\n",
    "    \n",
    "    '''\n",
    "    ncdump outputs dimensions, variables and their attribute information.\n",
    "    The information is similar to that of NCAR's ncdump utility.\n",
    "    ncdump requires a valid instance of Dataset.\n",
    "\n",
    "    Parameters\n",
    "    ----------\n",
    "    nc_fid : netCDF4.Dataset\n",
    "        A netCDF4 dateset object\n",
    "    verb : Boolean\n",
    "        whether or not nc_attrs, nc_dims, and nc_vars are printed\n",
    "\n",
    "    Returns\n",
    "    -------\n",
    "    nc_attrs : list\n",
    "        A Python list of the NetCDF file global attributes\n",
    "    nc_dims : list\n",
    "        A Python list of the NetCDF file dimensions\n",
    "    nc_vars : list\n",
    "        A Python list of the NetCDF file variables\n",
    "    '''\n",
    "    def print_ncattr(key):\n",
    "        \"\"\"\n",
    "        Prints the NetCDF file attributes for a given key\n",
    "\n",
    "        Parameters\n",
    "        ----------\n",
    "        key : unicode\n",
    "            a valid netCDF4.Dataset.variables key\n",
    "        \"\"\"\n",
    "        try:\n",
    "            print(\"\\t\\ttype:\", repr(nc_fid.variables[key].dtype))\n",
    "            for ncattr in nc_fid.variables[key].ncattrs():\n",
    "                print('\\t\\t%s:' % ncattr)\n",
    "                repr(nc_fid.variables[key].getncattr(ncattr))\n",
    "        except KeyError:\n",
    "            print(\"\\t\\tWARNING: %s does not contain variable attributes\" % key)\n",
    "\n",
    "    # NetCDF global attributes\n",
    "    nc_attrs = nc_fid.ncattrs()\n",
    "    if verb:\n",
    "        print(\"NetCDF Global Attributes:\")\n",
    "        for nc_attr in nc_attrs:\n",
    "            print('\\t%s:' % nc_attr, repr(nc_fid.getncattr(nc_attr)))\n",
    "    nc_dims = [dim for dim in nc_fid.dimensions]  # list of nc dimensions\n",
    "    # Dimension shape information.\n",
    "    if verb:\n",
    "        print(\"NetCDF dimension information:\")\n",
    "        for dim in nc_dims:\n",
    "            print(\"\\tName:\", dim )\n",
    "            print(\"\\t\\tsize:\", len(nc_fid.dimensions[dim]))\n",
    "            print_ncattr(dim)\n",
    "    # Variable information.\n",
    "    nc_vars = [var for var in nc_fid.variables]  # list of nc variables\n",
    "    if verb:\n",
    "        print(\"NetCDF variable information:\")\n",
    "        for var in nc_vars:\n",
    "            if var not in nc_dims:\n",
    "                print('\\tName:', var)\n",
    "                print(\"\\t\\tdimensions:\", nc_fid.variables[var].dimensions)\n",
    "                print(\"\\t\\tsize:\", nc_fid.variables[var].size)\n",
    "                print_ncattr(var)\n",
    "    return(nc_attrs, nc_dims, nc_vars)\n",
    "\n",
    "\n",
    "\n",
    "\n",
    "#     dataset = Dataset('../data/TIEGCM_CCMC/my_stuff/s_002.nc')\n",
    "#     #dataset = Dataset('../data/TIEGCM_CCMC/s010.nc')\n",
    "\n",
    "#     ncdump(dataset)\n",
    "\n",
    "\n",
    "#     data = Dataset('../data/TIEGCM_CCMC/my_stuff/s_002.nc')\n",
    "#     lon = np.array(data.variables['lon'])\n",
    "#     lat = np.array(data.variables['lat'])\n",
    "#     print lon\n",
    "#     print lat"
   ]
  },
  {
   "cell_type": "code",
   "execution_count": 12,
   "id": "0abef731",
   "metadata": {
    "ExecuteTime": {
     "end_time": "2021-06-09T19:10:34.939042Z",
     "start_time": "2021-06-09T19:10:34.783Z"
    },
    "scrolled": true
   },
   "outputs": [],
   "source": [
    "file_dir = '/data/data_geodyn/atmos_models_data/ctipe/2018_Dec_1_15/' \n",
    "# file_dir = '/data/data_geodyn/atmos_models_data/ctipe/2015_03_18/' \n",
    "\n",
    "file = file_dir+'2018-12-03-plot-height.nc'\n",
    "# file = file_dir+'2015-03-18-plot-density-wrapped.nc'\n",
    "\n",
    "# ncdump(file , verb=True)"
   ]
  },
  {
   "cell_type": "code",
   "execution_count": 13,
   "id": "6f512114",
   "metadata": {
    "ExecuteTime": {
     "end_time": "2021-06-09T19:10:34.939958Z",
     "start_time": "2021-06-09T19:10:34.785Z"
    },
    "scrolled": true
   },
   "outputs": [
    {
     "data": {
      "text/plain": [
       "<class 'netCDF4._netCDF4.Dataset'>\n",
       "root group (NETCDF3_CLASSIC data model, file format NETCDF3):\n",
       "    dimensions(sizes): time(96), ht(94), lat(91), lon(20)\n",
       "    variables(dimensions): float64 time(time), float32 ht(ht), float32 lat(lat), float32 lon(lon), float32 electron_density(time, ht, lat, lon), float32 atomic_oxygen_ion_density(time, ht, lat, lon), float32 atomic_hydrogen_ion_density(time, ht, lat, lon), float32 ion_temperature(time, ht, lat, lon), float32 electron_temperature(time, ht, lat, lon)\n",
       "    groups: "
      ]
     },
     "execution_count": 13,
     "metadata": {},
     "output_type": "execute_result"
    }
   ],
   "source": [
    "from netCDF4 import Dataset  # http://code.google.com/p/netcdf4-python/\n",
    "\n",
    "nc_fid = Dataset(file)\n",
    "nc_fid"
   ]
  },
  {
   "cell_type": "code",
   "execution_count": 14,
   "id": "24b424a3",
   "metadata": {
    "ExecuteTime": {
     "end_time": "2021-06-09T19:10:34.940695Z",
     "start_time": "2021-06-09T19:10:34.788Z"
    }
   },
   "outputs": [
    {
     "data": {
      "text/plain": [
       "dict_keys(['time', 'ht', 'lat', 'lon', 'electron_density', 'atomic_oxygen_ion_density', 'atomic_hydrogen_ion_density', 'ion_temperature', 'electron_temperature'])"
      ]
     },
     "execution_count": 14,
     "metadata": {},
     "output_type": "execute_result"
    }
   ],
   "source": [
    "nc_fid.variables.keys()"
   ]
  },
  {
   "cell_type": "code",
   "execution_count": 15,
   "id": "2b3f03a8",
   "metadata": {},
   "outputs": [
    {
     "data": {
      "text/plain": [
       "masked_array(data=[ 140.,  160.,  180.,  200.,  220.,  240.,  260.,  280.,\n",
       "                    300.,  320.,  340.,  360.,  380.,  400.,  420.,  440.,\n",
       "                    460.,  480.,  500.,  520.,  540.,  560.,  580.,  600.,\n",
       "                    620.,  640.,  660.,  680.,  700.,  720.,  740.,  760.,\n",
       "                    780.,  800.,  820.,  840.,  860.,  880.,  900.,  920.,\n",
       "                    940.,  960.,  980., 1000., 1020., 1040., 1060., 1080.,\n",
       "                   1100., 1120., 1140., 1160., 1180., 1200., 1220., 1240.,\n",
       "                   1260., 1280., 1300., 1320., 1340., 1360., 1380., 1400.,\n",
       "                   1420., 1440., 1460., 1480., 1500., 1520., 1540., 1560.,\n",
       "                   1580., 1600., 1620., 1640., 1660., 1680., 1700., 1720.,\n",
       "                   1740., 1760., 1780., 1800., 1820., 1840., 1860., 1880.,\n",
       "                   1900., 1920., 1940., 1960., 1980., 2000.],\n",
       "             mask=False,\n",
       "       fill_value=1e+20,\n",
       "            dtype=float32)"
      ]
     },
     "execution_count": 15,
     "metadata": {},
     "output_type": "execute_result"
    }
   ],
   "source": [
    "nc_fid.variables['ht'][:]"
   ]
  },
  {
   "cell_type": "code",
   "execution_count": 16,
   "id": "dc2f6e4a",
   "metadata": {
    "ExecuteTime": {
     "end_time": "2021-06-09T19:10:34.941394Z",
     "start_time": "2021-06-09T19:10:34.790Z"
    }
   },
   "outputs": [],
   "source": [
    "# np.max(nc_fid.variables['ht'][:, :, :, :]*1e-3)"
   ]
  },
  {
   "cell_type": "code",
   "execution_count": null,
   "id": "f3d1829b",
   "metadata": {},
   "outputs": [],
   "source": []
  }
 ],
 "metadata": {
  "kernelspec": {
   "display_name": "Python 3",
   "language": "python",
   "name": "python3"
  },
  "language_info": {
   "codemirror_mode": {
    "name": "ipython",
    "version": 3
   },
   "file_extension": ".py",
   "mimetype": "text/x-python",
   "name": "python",
   "nbconvert_exporter": "python",
   "pygments_lexer": "ipython3",
   "version": "3.8.8"
  },
  "toc": {
   "base_numbering": 1,
   "nav_menu": {},
   "number_sections": true,
   "sideBar": true,
   "skip_h1_title": false,
   "title_cell": "Table of Contents",
   "title_sidebar": "Contents",
   "toc_cell": false,
   "toc_position": {},
   "toc_section_display": true,
   "toc_window_display": false
  },
  "varInspector": {
   "cols": {
    "lenName": 16,
    "lenType": 16,
    "lenVar": 40
   },
   "kernels_config": {
    "python": {
     "delete_cmd_postfix": "",
     "delete_cmd_prefix": "del ",
     "library": "var_list.py",
     "varRefreshCmd": "print(var_dic_list())"
    },
    "r": {
     "delete_cmd_postfix": ") ",
     "delete_cmd_prefix": "rm(",
     "library": "var_list.r",
     "varRefreshCmd": "cat(var_dic_list()) "
    }
   },
   "types_to_exclude": [
    "module",
    "function",
    "builtin_function_or_method",
    "instance",
    "_Feature"
   ],
   "window_display": false
  }
 },
 "nbformat": 4,
 "nbformat_minor": 5
}
