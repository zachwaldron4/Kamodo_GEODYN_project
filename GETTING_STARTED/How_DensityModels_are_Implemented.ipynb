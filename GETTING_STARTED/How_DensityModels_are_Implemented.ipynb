{
 "cells": [
  {
   "cell_type": "markdown",
   "id": "422a3c22",
   "metadata": {},
   "source": [
    "# Density "
   ]
  },
  {
   "cell_type": "markdown",
   "id": "fefd08a3",
   "metadata": {},
   "source": [
    "## On including MSIS2 and other models into our version of GEODYN:\n",
    "We have constructed a python wrapper for GEODYN that has been implemented onto the CCMC's AWS server-- we have taken to calling it pygeodyn.  The Python code should be relatively portable and is available on my github (Link to main pygeodyn code), however it has not been tested outside of our setup and some effort may be needed to fully implement it if that is desired.\n",
    "\n",
    "At the suggestion of the Code 61 team, we have not been making many changes to IIS and all modifications to the satellite drag/density model implementation has happened through modification of IIE subroutines.  For instance, to use MSIS2 we tell the setup deck's ATMDEN card that we will be using MSIS86, then send a text file containing user options from pygeodyn to the IIE/DRAG routine that indicates to a fortran CASE statement that MSIS2 will actually be used.  Using this method we have managed to make quite extensive, user controlled changes to GEODYN's satellite drag capabilities that can be implemented on the fly, at the time of the run.\n",
    "\n",
    "- Provide the IIE/ modified subroutines\n",
    "- Provide a DEMO for running the code to be viewed by the GEODYN team\n",
    "- Provide quick explanation for how each model has been included\n",
    "    - MSIS2 -- subroutines placed directly in IIE and interfaced \"into geodyn\" through the DRAG routine. Selection is done by the USER in Pygeodyn (we also included msis00 in this way)\n",
    "    - TIEGCM -- the CCMC Kamodo API is interfaced through Pygeodyn and an Orbit Cloud/cube-based interpolation is used to feed density values back into the DRAG routine.  Be sure to comment on the LOW OVERHEAD for calling TIEGCM using this method (on the order of minutes longer than the empirical models)"
   ]
  },
  {
   "cell_type": "code",
   "execution_count": null,
   "id": "4f1b934e",
   "metadata": {},
   "outputs": [],
   "source": [
    "tiegcm  ---- f107 \n",
    "msis2   ---- f107\n",
    "dtm2020 ---- f107\n",
    "jb2008  ---- f107\n"
   ]
  },
  {
   "cell_type": "code",
   "execution_count": null,
   "id": "5914534e",
   "metadata": {},
   "outputs": [],
   "source": [
    "msis2\n",
    "msis86\n",
    "msis00"
   ]
  },
  {
   "cell_type": "code",
   "execution_count": null,
   "id": "af0b89a9",
   "metadata": {},
   "outputs": [],
   "source": []
  }
 ],
 "metadata": {
  "kernelspec": {
   "display_name": "Python 3",
   "language": "python",
   "name": "python3"
  },
  "language_info": {
   "codemirror_mode": {
    "name": "ipython",
    "version": 3
   },
   "file_extension": ".py",
   "mimetype": "text/x-python",
   "name": "python",
   "nbconvert_exporter": "python",
   "pygments_lexer": "ipython3",
   "version": "3.8.8"
  },
  "toc": {
   "base_numbering": 1,
   "nav_menu": {},
   "number_sections": true,
   "sideBar": true,
   "skip_h1_title": false,
   "title_cell": "Table of Contents",
   "title_sidebar": "Contents",
   "toc_cell": false,
   "toc_position": {},
   "toc_section_display": true,
   "toc_window_display": false
  },
  "varInspector": {
   "cols": {
    "lenName": 16,
    "lenType": 16,
    "lenVar": 40
   },
   "kernels_config": {
    "python": {
     "delete_cmd_postfix": "",
     "delete_cmd_prefix": "del ",
     "library": "var_list.py",
     "varRefreshCmd": "print(var_dic_list())"
    },
    "r": {
     "delete_cmd_postfix": ") ",
     "delete_cmd_prefix": "rm(",
     "library": "var_list.r",
     "varRefreshCmd": "cat(var_dic_list()) "
    }
   },
   "types_to_exclude": [
    "module",
    "function",
    "builtin_function_or_method",
    "instance",
    "_Feature"
   ],
   "window_display": false
  }
 },
 "nbformat": 4,
 "nbformat_minor": 5
}
