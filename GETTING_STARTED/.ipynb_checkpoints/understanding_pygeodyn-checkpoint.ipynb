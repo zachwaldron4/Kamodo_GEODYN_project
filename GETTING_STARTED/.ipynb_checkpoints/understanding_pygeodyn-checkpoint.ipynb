{
 "cells": [
  {
   "cell_type": "markdown",
   "id": "92275bd6",
   "metadata": {},
   "source": [
    "# Understanding `Pygeodyn`"
   ]
  },
  {
   "cell_type": "markdown",
   "id": "4e97a209",
   "metadata": {},
   "source": [
    "Dear new user,  this notebook attempts to explain how Pygeodyn works and offers a space to explore the code. \n",
    "\n",
    "To do this without possibly interfering with the development of the code, I have copied the primary pygeodyn code `/data/geodyn_proj/pygeodyn/pygeodyn_develop` to a \"playground directory\" `/data/geodyn_proj/pygeodyn/pygeodyn_GetStarted`"
   ]
  },
  {
   "cell_type": "markdown",
   "id": "38237dea",
   "metadata": {},
   "source": [
    "## Copy `pygeodyn_develop` to a new directory\n",
    "\n",
    "Users can call terminal commands from the Jupyter Notebook python virtual environment. \n",
    "This is done by adding a `!` at the start of a line and then writing a terminal command.  \n",
    "\n",
    "The below copying will be done every time the cell is run, so that the playground code is up to date with any new changes.\n"
   ]
  },
  {
   "cell_type": "code",
   "execution_count": 1,
   "id": "0e404fb7",
   "metadata": {
    "ExecuteTime": {
     "end_time": "2022-01-07T20:43:58.410442Z",
     "start_time": "2022-01-07T20:43:58.156458Z"
    }
   },
   "outputs": [],
   "source": [
    "!rm -r /data/geodyn_proj/pygeodyn/pygeodyn_GetStarted\n",
    "\n",
    "\n",
    "!cp -rp /data/geodyn_proj/pygeodyn/pygeodyn_develop /data/geodyn_proj/pygeodyn/pygeodyn_GetStarted"
   ]
  },
  {
   "cell_type": "markdown",
   "id": "b4769cf8",
   "metadata": {},
   "source": [
    "In python, we must explicitly load the packages we intend to use. \n",
    "\n",
    "The `%load_ext autoreload` and `%autoreload 2` lines are iPython commands that reloads any modules that have been changed outside of this notebook since the last Kernel Restart.  This allows us to make changes to the code and then re-run the individual cell without the explicit need to do a Kernal/Restart & Run All."
   ]
  },
  {
   "cell_type": "code",
   "execution_count": 2,
   "id": "bcd415c9",
   "metadata": {
    "ExecuteTime": {
     "end_time": "2022-01-07T20:43:58.717378Z",
     "start_time": "2022-01-07T20:43:58.412791Z"
    }
   },
   "outputs": [],
   "source": [
    "%load_ext autoreload\n",
    "%autoreload 2\n",
    "\n",
    "import sys  \n",
    "import pickle \n",
    "sys.path.insert(0, '/data/geodyn_proj/pygeodyn/pygeodyn_GetStarted/')\n",
    "from PYGEODYN import Pygeodyn"
   ]
  },
  {
   "cell_type": "markdown",
   "id": "cb4fcbf6",
   "metadata": {},
   "source": [
    "I make use of Global Paths a good bit in the code which doesn't actually lend itself to this copying code to a new name very well so the below code just goes through and changes the Global paths in the code to be changed from `/data/geodyn_proj/pygeodyn/pygeodyn_develop` to `/data/geodyn_proj/pygeodyn/pygeodyn_GetStarted`."
   ]
  },
  {
   "cell_type": "markdown",
   "id": "c0d770ed",
   "metadata": {},
   "source": [
    "I did this as a function below to hopefully demonstrate how functions work a bit?"
   ]
  },
  {
   "cell_type": "code",
   "execution_count": 3,
   "id": "634b02e3",
   "metadata": {
    "ExecuteTime": {
     "end_time": "2022-01-07T20:43:58.734471Z",
     "start_time": "2022-01-07T20:43:58.719656Z"
    }
   },
   "outputs": [],
   "source": [
    "def re_write_PATH_in_files(file, path_orig, path_new):\n",
    "    '''\n",
    "    This function takes a given file and reads the whole text.  \n",
    "    \n",
    "    It then loops through each line of the file and finds the requested string (original path) \n",
    "            and if it finds a match it modifes that line only. \n",
    "    \n",
    "    Otherwise it just writes the lines as they are written.\n",
    "    '''\n",
    "    \n",
    "    ##### Read in all lines of the file and save them \n",
    "    with open(file, \"r\") as f:\n",
    "        lines_all = f.readlines()    \n",
    "    ##### Re-write the file line-by-line and make changes as they are found to the Global Paths.\n",
    "    with open(file, \"w\") as f:\n",
    "        for iline, line in enumerate(lines_all):\n",
    "            if path_orig in line:\n",
    "                list1 = line.split('/')\n",
    "                reconstruct = []\n",
    "                for i,val in enumerate(list1):\n",
    "                    if val==path_orig:\n",
    "                        reconstruct.append(path_new)\n",
    "                    else:\n",
    "                        reconstruct.append(val)\n",
    "\n",
    "                newline = '/'.join(reconstruct)\n",
    "                print(line   ,' --> ',newline)\n",
    "\n",
    "                f.write(newline)\n",
    "            else:\n",
    "                pass\n",
    "                f.write(line)      \n"
   ]
  },
  {
   "cell_type": "code",
   "execution_count": 5,
   "id": "f2e24437",
   "metadata": {
    "ExecuteTime": {
     "end_time": "2022-01-07T20:44:34.257362Z",
     "start_time": "2022-01-07T20:44:34.230590Z"
    }
   },
   "outputs": [
    {
     "name": "stdout",
     "output_type": "stream",
     "text": [
      "# sys.path.insert(0,'/data/geodyn_proj/pygeodyn/utils_pygeodyn_develop/util_dir/')\n",
      "  -->  # sys.path.insert(0,'/data/geodyn_proj/pygeodyn/utils_pygeodyn_develop/util_dir/')\n",
      "\n",
      "The autoreload extension is already loaded. To reload it, use:\n",
      "  %reload_ext autoreload\n"
     ]
    }
   ],
   "source": [
    "path_orig = 'pygeodyn_develop'\n",
    "path_new = 'pygeodyn_GetStarted'\n",
    "\n",
    "\n",
    "re_write_PATH_in_files('/data/geodyn_proj/pygeodyn/pygeodyn_GetStarted/PYGEODYN.py', path_orig, path_new)\n",
    "re_write_PATH_in_files('/data/geodyn_proj/pygeodyn/pygeodyn_GetStarted/PYGEODYN_ICESat2.py', path_orig, path_new)\n",
    "re_write_PATH_in_files('/data/geodyn_proj/pygeodyn/pygeodyn_GetStarted/PYGEODYN_Control.py', path_orig, path_new)\n",
    "re_write_PATH_in_files('/data/geodyn_proj/pygeodyn/pygeodyn_GetStarted/PYGEODYN_Read.py', path_orig, path_new)\n",
    "re_write_PATH_in_files('/data/geodyn_proj/pygeodyn/pygeodyn_GetStarted/util_dir/util_classtools.py', path_orig, path_new)\n",
    "\n",
    "\n",
    "%load_ext autoreload\n",
    "%autoreload 2\n",
    "import sys  \n",
    "import pickle \n",
    "sys.path.insert(0, '/data/geodyn_proj/pygeodyn/pygeodyn_GetStarted/')\n",
    "from PYGEODYN import Pygeodyn"
   ]
  },
  {
   "cell_type": "markdown",
   "id": "a8224828",
   "metadata": {},
   "source": [
    "\n",
    "I need to make a text file that feeds the requested paths into GEODYN instead of them being hardcoded."
   ]
  },
  {
   "cell_type": "markdown",
   "id": "6eeba127",
   "metadata": {},
   "source": [
    "# RUN GEODYN with the GettingStarted Version\n",
    "\n",
    "At this stage you will want to comment out the above so that it doesn't re-write everything...  Go throught the pygeodyn code and add `print` statements where you see fit to see how things are working."
   ]
  },
  {
   "cell_type": "code",
   "execution_count": 1,
   "id": "a46c9f23",
   "metadata": {
    "ExecuteTime": {
     "end_time": "2022-01-10T20:34:16.323370Z",
     "start_time": "2022-01-10T20:34:15.691957Z"
    }
   },
   "outputs": [],
   "source": [
    "%load_ext autoreload\n",
    "%autoreload 2\n",
    "\n",
    "import sys  \n",
    "import pickle \n",
    "sys.path.insert(0, '/data/geodyn_proj/pygeodyn/pygeodyn_GetStarted/')\n",
    "from PYGEODYN import Pygeodyn\n",
    "\n",
    "\n",
    "### Load the data into an object\n",
    "RunObject = Pygeodyn(run_settings)\n",
    "RunObject.RUN_GEODYN()\n"
   ]
  }
 ],
 "metadata": {
  "kernelspec": {
   "display_name": "Python 3",
   "language": "python",
   "name": "python3"
  },
  "language_info": {
   "codemirror_mode": {
    "name": "ipython",
    "version": 3
   },
   "file_extension": ".py",
   "mimetype": "text/x-python",
   "name": "python",
   "nbconvert_exporter": "python",
   "pygments_lexer": "ipython3",
   "version": "3.8.8"
  },
  "toc": {
   "base_numbering": 1,
   "nav_menu": {},
   "number_sections": true,
   "sideBar": true,
   "skip_h1_title": false,
   "title_cell": "Table of Contents",
   "title_sidebar": "Contents",
   "toc_cell": false,
   "toc_position": {
    "height": "calc(100% - 180px)",
    "left": "10px",
    "top": "150px",
    "width": "364.083px"
   },
   "toc_section_display": true,
   "toc_window_display": true
  },
  "varInspector": {
   "cols": {
    "lenName": 16,
    "lenType": 16,
    "lenVar": 40
   },
   "kernels_config": {
    "python": {
     "delete_cmd_postfix": "",
     "delete_cmd_prefix": "del ",
     "library": "var_list.py",
     "varRefreshCmd": "print(var_dic_list())"
    },
    "r": {
     "delete_cmd_postfix": ") ",
     "delete_cmd_prefix": "rm(",
     "library": "var_list.r",
     "varRefreshCmd": "cat(var_dic_list()) "
    }
   },
   "types_to_exclude": [
    "module",
    "function",
    "builtin_function_or_method",
    "instance",
    "_Feature"
   ],
   "window_display": false
  }
 },
 "nbformat": 4,
 "nbformat_minor": 5
}
