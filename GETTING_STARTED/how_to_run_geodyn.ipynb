{
 "cells": [
  {
   "cell_type": "markdown",
   "id": "1d93561a",
   "metadata": {},
   "source": [
    "#  How to Run GEODYN using PYGEODYN"
   ]
  },
  {
   "cell_type": "markdown",
   "id": "4a4ae30a",
   "metadata": {},
   "source": [
    "## Overall Steps\n",
    "   1. Construct a YAML file that contains the `Run_Settings`\n",
    "   2. Call an instance of the `Pygeodyn` Object that is loaded with the run settings\n",
    "   3. Use the `Pygeodyn.RUN_GEODYN()` method to run GEODYN with the requested settings"
   ]
  },
  {
   "cell_type": "code",
   "execution_count": 10,
   "id": "03317316",
   "metadata": {
    "ExecuteTime": {
     "end_time": "2022-01-06T22:42:23.030342Z",
     "start_time": "2022-01-06T22:42:23.014511Z"
    }
   },
   "outputs": [
    {
     "name": "stdout",
     "output_type": "stream",
     "text": [
      "The autoreload extension is already loaded. To reload it, use:\n",
      "  %reload_ext autoreload\n"
     ]
    }
   ],
   "source": [
    "%load_ext autoreload\n",
    "%autoreload 2\n",
    "\n",
    "import sys  \n",
    "import pickle \n",
    "sys.path.insert(0, '/data/geodyn_proj/pygeodyn/pygeodyn_develop/')\n",
    "from PYGEODYN import Pygeodyn"
   ]
  },
  {
   "cell_type": "markdown",
   "id": "055f41cf",
   "metadata": {},
   "source": [
    "1. Construct a YAML file that contains the `Run_Settings`\n"
   ]
  },
  {
   "cell_type": "code",
   "execution_count": 4,
   "id": "957fb67c",
   "metadata": {
    "ExecuteTime": {
     "end_time": "2022-01-11T00:40:26.598133Z",
     "start_time": "2022-01-11T00:40:26.594244Z"
    }
   },
   "outputs": [
    {
     "name": "stdout",
     "output_type": "stream",
     "text": [
      "\n"
     ]
    }
   ],
   "source": [
    "'''\n",
    "---\n",
    "###  Run Settings Test File \n",
    "\n",
    "# Need to figure out how to use this file to overwrite the Setting hardcoded in ICESat2class if they are here.\n",
    "\n",
    "### the epoch end time automatically controls the prediction end time\n",
    "          ### FORMAT: 'YYMMDD HHMMSS.SSSSSSS'\n",
    "epoch_start         : [\n",
    "                        '181109 000000.0000000',\n",
    "                        '181110 000000.0000000',\n",
    "                        ]\n",
    "\n",
    "epoch_end           : [ \n",
    "                        '181110 000000.0000000',\n",
    "                        '181111 000000.0000000',\n",
    "                       ]\n",
    "\n",
    "### SPECIFY ARC NAMING CONVENTION\n",
    "arc_length     : '24hr'\n",
    "file_string    : 'EXAMPLE_TEST_NoCD_Arc24'\n",
    "\n",
    "cd_adjustment_boolean  : False\n",
    "total_hours_in_run     : None\n",
    "hours_between_cd_adj   : None\n",
    "\n",
    "\n",
    "### RUN PARAMETERS\n",
    "run_params:\n",
    "    {arc             : [\n",
    "                        '2018.313',\n",
    "                        '2018.314',\n",
    "                        ],\n",
    "                        \n",
    "    satellite        : 'icesat2' ,\n",
    "    den_model        : 'msis2'  ,\n",
    "    SpecialRun_name  : '_valid_ctrlrun',  \n",
    "    verbose          :  False,\n",
    "    accels           :  False,\n",
    "    geodyn_StepSize  : 10.,\n",
    "    }\n",
    "   \n",
    "model_data_path : None\n",
    "request_data:  [ #'AdjustedParams',\n",
    "                'Trajectory_orbfil',\n",
    "                'Density',\n",
    "#                 'Residuals_obs',\n",
    "                'Residuals_summary',\n",
    "                'RunSummary',\n",
    "                                  ]\n",
    "\n",
    "\n",
    "### SETUP FILE OPTIONS \n",
    "cards_to_remove : ['ACCEL9',\n",
    "                   'ORBTVU',\n",
    "                   'RESID',\n",
    "                   'CON9PA',\n",
    "                  ]\n",
    "\n",
    "\n",
    "\n",
    "#### ----------------------------------------------------------------------------\n",
    "#### Options that are hardcoded defaults by ICESAT2 class\n",
    "#### ----------------------------------------------------------------------------\n",
    "#### The name of the satellite\n",
    "SATELLITE_dir  : 'icesat2'\n",
    "#### Satellites COSPAR ID number\n",
    "SATID          : '1807001'\n",
    "#### Datatype being used as tracking data\n",
    "DATA_TYPE      : 'PCE'\n",
    "#### Naming convention requested for different gravity types\n",
    "grav_id        : '' \n",
    "#### Do you want to use the updated DRHODZ calculation? (recommended)\n",
    "options_in     : {'DRHODZ_update':True}  \n",
    "#### ----------------------------------------------------------------------------\n",
    "####### File Choices:\n",
    "#### G2B file name\n",
    "g2b_file       : 'g2b_pce_fullset_nomaneuver'  \n",
    "#### Atmospheric Gravity file name\n",
    "atgrav_file    : 'ATGRAV.glo-3HR_20160101-PRESENT_9999_AOD1B_0006.0090'\n",
    "#### Planetary Ephemeris file name\n",
    "ephem_file     : 'ephem1430.data_2025'\n",
    "#### Gravity field file name\n",
    "gravfield_file : 'eigen-6c.gfc_20080101_do_200_fix.grv'\n",
    "#### PCE Ascii textfile name\n",
    "StateVector_epochs_datafile  : '/data/data_geodyn/inputs/icesat2/setups/PCE_ascii.txt'\n",
    "'''\n",
    "print()\n"
   ]
  },
  {
   "cell_type": "code",
   "execution_count": 2,
   "id": "e4d93ac4",
   "metadata": {
    "ExecuteTime": {
     "end_time": "2022-01-11T00:31:24.857316Z",
     "start_time": "2022-01-11T00:31:24.854366Z"
    }
   },
   "outputs": [],
   "source": [
    "run_settings = '/data/geodyn_proj/GETTING_STARTED/example_run_settings.yaml'"
   ]
  },
  {
   "cell_type": "markdown",
   "id": "3254b2e3",
   "metadata": {},
   "source": [
    "2. Call an instance of the `Pygeodyn` Object that is loaded with the run settings\n"
   ]
  },
  {
   "cell_type": "code",
   "execution_count": null,
   "id": "6643ffc9",
   "metadata": {
    "ExecuteTime": {
     "end_time": "2022-01-11T00:31:31.753162Z",
     "start_time": "2022-01-11T00:31:31.679311Z"
    }
   },
   "outputs": [],
   "source": [
    "### Load the data into an object\n",
    "RunObject = Pygeodyn(run_settings)"
   ]
  },
  {
   "cell_type": "markdown",
   "id": "cd13a060",
   "metadata": {},
   "source": [
    "3. Use the `Pygeodyn.RUN_GEODYN()` method to run GEODYN with the requested settings"
   ]
  },
  {
   "cell_type": "code",
   "execution_count": null,
   "id": "5cf6854a",
   "metadata": {},
   "outputs": [],
   "source": [
    "RunObject.RUN_GEODYN()"
   ]
  },
  {
   "cell_type": "markdown",
   "id": "6642b1f9",
   "metadata": {},
   "source": [
    "## What is happening behind the scenes?"
   ]
  },
  {
   "cell_type": "markdown",
   "id": "a25ef2ba",
   "metadata": {},
   "source": [
    "1. A Pygeodyn object is initialized with the specified run settings saved to a YAML\n",
    "    - `/data/geodyn_proj/pygeodyn/pygeodyn_develop/PYGEODYN.py`\n",
    "        1. The `RunObject` is loaded such that it inherits a Satellite Class(either ICESat2 or Starlette) settings.  This means that the methods (functions attributed to an class) that have been written into the ICESat2 Class will overwrite the functions in the base classes.  The base classes are `PygeodynController` and `PygeodynReader` and they are each inherited into the satellite classes.\n",
    "        2. So after the `Object = Pygeodyn(run_settings)` call, the following happens:\n",
    "            - The Pygeodyn class inherits the `Inherit_Icesat2` class which tells Pygeodyn to adopt the functions in the `Satellite_ICESat2` class (`/data/geodyn_proj/pygeodyn/pygeodyn_develop/PYGEODYN_ICESat2.py`).\n",
    "            - The `Satellite_ICESat2` class inherits both `PygeodynController` and `PygeodynReader`.  With this step, the object initialized by calling `Object = Pygeodyn(run_settings)` now contains all of the functions in `PygeodynController` and `PygeodynReader` and additionally, any functions that are written into `Satellite_ICESat2` with identical names overwrite those in the Controller and Reader.\n",
    "            \n",
    " - Note--- each time a class is called (in the case of `Pygeodyn`) or inherited (the case for `Satellite_ICESat2` and then `PygeodynController` and `PygeodynReader`) the `def __init__()` function runs.  It is in this location that we put anything we want to have happen for each instance of the Class (like any class specific global variables).  If you don't want anything to happen, you can put a pass.\n",
    "\n",
    "    ```python\n",
    "    class example_class():\n",
    "        def __init__(self):  \n",
    "            pass\n",
    "    ```\n",
    "\n",
    "\n",
    "\n",
    "\n",
    "2. Call the `RUN_GEODYN()` method which is now attributed to the object (`RunObject`) that is initialized with the settings and classes as defined above.\n",
    "\n",
    "    - Explicitly stated again: `RunObject` is an object of the `Pygeodyn` class that inherited the class `Satellite_ICESat2`, which itself inherited `PygeodynController` and `PygeodynReader`).  Therefore `RunObject` contains all of the methods (function for a class) contained in all of those classes.\n",
    "    -  `RUN_GEODYN()` is called thru these classes and its method is located at the bottom of the PYGEODYN_Control file: `/data/geodyn_proj/pygeodyn/pygeodyn_develop/PYGEODYN_Control.py` \n",
    "\n",
    "\n",
    "\n",
    "\n"
   ]
  },
  {
   "cell_type": "code",
   "execution_count": null,
   "id": "ae8d3dff",
   "metadata": {},
   "outputs": [],
   "source": []
  }
 ],
 "metadata": {
  "kernelspec": {
   "display_name": "Python 3",
   "language": "python",
   "name": "python3"
  },
  "language_info": {
   "codemirror_mode": {
    "name": "ipython",
    "version": 3
   },
   "file_extension": ".py",
   "mimetype": "text/x-python",
   "name": "python",
   "nbconvert_exporter": "python",
   "pygments_lexer": "ipython3",
   "version": "3.8.8"
  },
  "toc": {
   "base_numbering": 1,
   "nav_menu": {},
   "number_sections": true,
   "sideBar": true,
   "skip_h1_title": false,
   "title_cell": "Table of Contents",
   "title_sidebar": "Contents",
   "toc_cell": false,
   "toc_position": {},
   "toc_section_display": true,
   "toc_window_display": true
  },
  "varInspector": {
   "cols": {
    "lenName": 16,
    "lenType": 16,
    "lenVar": 40
   },
   "kernels_config": {
    "python": {
     "delete_cmd_postfix": "",
     "delete_cmd_prefix": "del ",
     "library": "var_list.py",
     "varRefreshCmd": "print(var_dic_list())"
    },
    "r": {
     "delete_cmd_postfix": ") ",
     "delete_cmd_prefix": "rm(",
     "library": "var_list.r",
     "varRefreshCmd": "cat(var_dic_list()) "
    }
   },
   "types_to_exclude": [
    "module",
    "function",
    "builtin_function_or_method",
    "instance",
    "_Feature"
   ],
   "window_display": false
  }
 },
 "nbformat": 4,
 "nbformat_minor": 5
}
