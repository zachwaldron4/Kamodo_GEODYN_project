{
 "cells": [
  {
   "cell_type": "markdown",
   "id": "578f2ac1",
   "metadata": {},
   "source": [
    "# GEODYN Run with Starlette "
   ]
  },
  {
   "cell_type": "code",
   "execution_count": 1,
   "id": "social-headset",
   "metadata": {},
   "outputs": [],
   "source": [
    "%load_ext autoreload\n",
    "%autoreload 2\n",
    "# import copy\n",
    "# import time\n",
    "import sys  \n"
   ]
  },
  {
   "cell_type": "markdown",
   "id": "suspected-honduras",
   "metadata": {},
   "source": [
    "# Running with `pygeodyn`"
   ]
  },
  {
   "cell_type": "code",
   "execution_count": 1,
   "id": "extensive-assault",
   "metadata": {
    "ExecuteTime": {
     "end_time": "2021-06-01T15:46:51.710689Z",
     "start_time": "2021-06-01T15:46:51.705828Z"
    }
   },
   "outputs": [],
   "source": [
    "# sys.path.insert(0, '/data/geodyn_proj/pygeodyn/utils_pygeodyn/')\n",
    "\n",
    "# from pygeodyn_Control import pygeodyn_CONTROL\n",
    "# #------ A dictionary containing the run parameters ------  \n",
    "# run_params = {} \n",
    "# run_params['run_ID']           =  'Run_Arc_1'  \n",
    "# run_params['arc']              =  '030914_2wk'  \n",
    "# run_params['satellite']        =  'starlette'  \n",
    "# run_params['den_model']        =  'msis2'  \n",
    "# run_params['empirical_accels'] =  False  \n",
    "# run_params['SpecialRun_name']  =  '_developer_test'  \n",
    "# run_params['options_in']       =  {'DRHODZ_update':True}  \n",
    "# run_params['verbose']          =  False  \n",
    "\n",
    "\n",
    "# #------ Initialize the run Object ------ \n",
    "# Obj_Geodyn = pygeodyn_CONTROL(run_params)\n",
    "\n",
    "# #------ Call the run fuction ------ \n",
    "# Obj_Geodyn.RUN_GEODYN()"
   ]
  },
  {
   "cell_type": "code",
   "execution_count": 2,
   "id": "6295f30f",
   "metadata": {
    "ExecuteTime": {
     "end_time": "2021-06-01T15:47:00.815011Z",
     "start_time": "2021-06-01T15:47:00.809116Z"
    }
   },
   "outputs": [],
   "source": [
    "### Identify which arcs you want to run:\n",
    "arcs_files = [ \n",
    "            '2018.313', # 1\n",
    "            '2018.314', # 2\n",
    "            '2018.315', # 3\n",
    "            '2018.316', # 4\n",
    "            '2018.317', # 5\n",
    "#             '2018.318', # 6\n",
    "#             '2018.319', # 7\n",
    "#             '2018.320', # 8\n",
    "#             '2018.321', # 9\n",
    "#             '2018.322', # 10\n",
    "             ]\n",
    "\n",
    "#------ A dictionary containing the run parameters ------  \n",
    "run_params = {} \n",
    "run_params['arc']              =   arcs_files\n",
    "run_params['satellite']        =  'icesat2'  \n",
    "run_params['den_model']        =  'msis2'  \n",
    "run_params['SpecialRun_name']  =  '_TrajAnalysis'  \n",
    "run_params['verbose']          =  False\n",
    "run_params['action']           =  'run'\n"
   ]
  },
  {
   "cell_type": "code",
   "execution_count": null,
   "id": "60aa1879",
   "metadata": {},
   "outputs": [],
   "source": [
    "%load_ext autoreload\n",
    "%autoreload 2\n",
    "\n",
    "sys.path.insert(0, '/data/geodyn_proj/pygeodyn/utils_pygeodyn_develop/')\n",
    "from PYGEODYN import Pygeodyn\n",
    "\n",
    "\n",
    "#### ---------------------------------------------\n",
    "####\n",
    "#### ----------------- RUN MSIS2.0 --------------- \n",
    "####\n",
    "#### ---------------------------------------------\n",
    "\n",
    "##### Use copy.deepcopy to copy all levels of dictionary and \n",
    "###       allow modification of new variable\n",
    "run_params1 = copy.deepcopy(run_params)\n",
    "run_params1['den_model'] =  'msis2'  \n",
    "\n",
    "# ### Run pyeodyn for the arcs in the above set.\n",
    "Obj_Geodyn = Pygeodyn(run_params1)\n",
    "Obj_Geodyn.RUN_GEODYN()\n"
   ]
  },
  {
   "cell_type": "markdown",
   "id": "gorgeous-routine",
   "metadata": {},
   "source": [
    "# Reading with `pygeodyn`"
   ]
  },
  {
   "cell_type": "code",
   "execution_count": 9,
   "id": "material-harrison",
   "metadata": {},
   "outputs": [
    {
     "name": "stdout",
     "output_type": "stream",
     "text": [
      "The autoreload extension is already loaded. To reload it, use:\n",
      "  %reload_ext autoreload\n"
     ]
    }
   ],
   "source": [
    "# %load_ext autoreload\n",
    "# %autoreload 2\n",
    "# # import copy\n",
    "# # import time\n",
    "# import sys  \n",
    "# sys.path.insert(0, '/data/geodyn_proj/pygeodyn/utils_pygeodyn/')\n",
    "\n",
    "# from pygeodyn_Read import pyGeodyn_Readers\n"
   ]
  },
  {
   "cell_type": "code",
   "execution_count": 13,
   "id": "backed-jackson",
   "metadata": {},
   "outputs": [],
   "source": [
    "# run_params = {} \n",
    "# run_params['run_ID']           =  'Run_Arc_1'  \n",
    "# run_params['arc']              =  [ '030914_2wk',\n",
    "# #                                     '030928_2wk',\n",
    "# #                                     '031012_2wk',\n",
    "# #                                     '031026_2wk',\n",
    "# #                                     '031109_2wk',\n",
    "# #                                     '031123_2wk',\n",
    "# #                                     '031207_2wk',\n",
    "# #                                     '031221_2wk',\n",
    "#                                     ]  \n",
    "# run_params['satellite']        =  'starlette'  \n",
    "# run_params['den_model']        =  'msis2'  \n",
    "# run_params['empirical_accels'] =  False  \n",
    "# run_params['SpecialRun_name']  =  '_developer_test'  \n",
    "# run_params['options_in']       =  {'DRHODZ_update':True}  \n",
    "# run_params['verbose']          =  False  \n"
   ]
  },
  {
   "cell_type": "code",
   "execution_count": 14,
   "id": "unexpected-personality",
   "metadata": {},
   "outputs": [],
   "source": [
    "# Obj_data = pyGeodyn_Readers(run_params)"
   ]
  },
  {
   "cell_type": "code",
   "execution_count": 15,
   "id": "increased-boring",
   "metadata": {},
   "outputs": [
    {
     "name": "stdout",
     "output_type": "stream",
     "text": [
      "        \n",
      "     File path: \n",
      "     Loading /data/data_geodyn/results/st/msis2/msis2_acceloff_developer_test/.../st030914_2wk.goco05s \n"
     ]
    }
   ],
   "source": [
    "# Obj_data.getData_All()"
   ]
  },
  {
   "cell_type": "code",
   "execution_count": 16,
   "id": "textile-presentation",
   "metadata": {},
   "outputs": [
    {
     "data": {
      "text/plain": [
       "{'030914_2wk': {'density_model': 'msis2',\n",
       "  'sat_name': 'st',\n",
       "  'data_type': 'SLR',\n",
       "  'X POS': -1228611.002860558,\n",
       "  'Y POS': -4721160.11507884,\n",
       "  'Z POS': 5602824.66332278,\n",
       "  'X VEL': 6644.663073195048,\n",
       "  'Y VEL': -2852.907048276599,\n",
       "  'Z VEL': -798.7567790814259,\n",
       "  'RMS POS': 0.050103,\n",
       "  'S.M.A.': 7329875.737429938,\n",
       "  'ECCEN': 0.02046448656421785,\n",
       "  'INCLIN': 49.80801876249247,\n",
       "  'NODE': 151.4090092811391,\n",
       "  'PERG   =': 326.8920909993722,\n",
       "  'MEAN': 130.4976389110996,\n",
       "  'RMS VEL': 4.9e-05,\n",
       "  'APOGEE': 1110727.924,\n",
       "  'PERIGEE': 810723.637,\n",
       "  'PERIOD': 104.089,\n",
       "  'DRAG': 0.05,\n",
       "  'ASC NODE RATE': -3.957719,\n",
       "  'ARG PERG RATE': 3.315632,\n",
       "  'PERIOD   RATE': -1e-06,\n",
       "  'S-M AXIS RATE': -0.001106,\n",
       "  'START_epoch': 1030914.0,\n",
       "  'END_epoch': 1030928.0,\n",
       "  'INTEGRATION_STEP_secs': 15.0,\n",
       "  'SAT. ID': 7501001,\n",
       "  'AREA(M**2)': 0.04524,\n",
       "  'MASS(KG)': 47.25,\n",
       "  'ORBIT INTEGRATION STEPS': 81286.0,\n",
       "  'VARIATIONAL EQUATION INTEGRATION STEPS': 81286.0,\n",
       "  'LATITUDE_geocentric': 48.954,\n",
       "  'LONGITUDE_geocentric': 262.855,\n",
       "  'HEIGHT_geocentric_from_SMA': 1050893.383}}"
      ]
     },
     "execution_count": 16,
     "metadata": {},
     "output_type": "execute_result"
    }
   ],
   "source": [
    "# Obj_data.Statistics"
   ]
  },
  {
   "cell_type": "markdown",
   "id": "listed-spending",
   "metadata": {},
   "source": [
    "## Saving the Object as pickle:"
   ]
  },
  {
   "cell_type": "code",
   "execution_count": null,
   "id": "wireless-garlic",
   "metadata": {},
   "outputs": [],
   "source": [
    "\n",
    "\n",
    "# for i,val in enumerate( Obj_data.Density ):\n",
    "#     print(i, val)\n",
    "# #     df = Obj_data.Density[val]\n",
    "#     del Obj_data.Density[val]['X']\n",
    "#     del Obj_data.Density[val]['Y']\n",
    "#     del Obj_data.Density[val]['Z']\n",
    "#     del Obj_data.Density[val]['XDOT']\n",
    "#     del Obj_data.Density[val]['YDOT']\n",
    "#     del Obj_data.Density[val]['ZDOT']\n",
    "#     del Obj_data.Density[val]['drhodz (kg/m**3/m)']\n",
    "    \n",
    "    \n",
    "    "
   ]
  },
  {
   "cell_type": "code",
   "execution_count": null,
   "id": "judicial-queens",
   "metadata": {},
   "outputs": [],
   "source": [
    "# import pickle \n",
    "\n",
    "# filehandler = open('object_density_all_arcs', 'wb') \n",
    "# pickle.dump(Obj_data, filehandler)\n",
    "# filehandler.close()\n",
    "\n",
    "\n"
   ]
  },
  {
   "cell_type": "markdown",
   "id": "hired-tracker",
   "metadata": {},
   "source": [
    "## Reading the object from pickle:"
   ]
  },
  {
   "cell_type": "code",
   "execution_count": null,
   "id": "chubby-import",
   "metadata": {},
   "outputs": [],
   "source": [
    "# # read the object in from a pickle\n",
    "\n",
    "# import pickle \n",
    "# filehandler = open('object_density_all_arcs', 'rb') \n",
    "# Obj_data_pkl = pickle.load(filehandler)\n",
    "# filehandler.close()\n",
    "\n",
    "\n",
    "\n",
    "# # the object has density in a dictionary of arcs:\n",
    "# Obj_data_pkl.Density.keys()\n",
    "\n",
    "\n",
    "\n",
    "\n",
    "\n",
    "# # looking at the first 2 week arc, the density is stored as a pandas dataframe\n",
    "# Obj_data_pkl.Density['031221_2wk']\n",
    "\n",
    "\n",
    "\n",
    "\n",
    "\n",
    "# Obj_data_pkl.run_parameters"
   ]
  },
  {
   "cell_type": "code",
   "execution_count": null,
   "id": "intensive-purchase",
   "metadata": {},
   "outputs": [],
   "source": []
  }
 ],
 "metadata": {
  "kernelspec": {
   "display_name": "Python 3",
   "language": "python",
   "name": "python3"
  },
  "language_info": {
   "codemirror_mode": {
    "name": "ipython",
    "version": 3
   },
   "file_extension": ".py",
   "mimetype": "text/x-python",
   "name": "python",
   "nbconvert_exporter": "python",
   "pygments_lexer": "ipython3",
   "version": "3.8.8"
  },
  "toc": {
   "base_numbering": 1,
   "nav_menu": {},
   "number_sections": true,
   "sideBar": true,
   "skip_h1_title": false,
   "title_cell": "Table of Contents",
   "title_sidebar": "Contents",
   "toc_cell": false,
   "toc_position": {},
   "toc_section_display": true,
   "toc_window_display": false
  },
  "varInspector": {
   "cols": {
    "lenName": 16,
    "lenType": 16,
    "lenVar": 40
   },
   "kernels_config": {
    "python": {
     "delete_cmd_postfix": "",
     "delete_cmd_prefix": "del ",
     "library": "var_list.py",
     "varRefreshCmd": "print(var_dic_list())"
    },
    "r": {
     "delete_cmd_postfix": ") ",
     "delete_cmd_prefix": "rm(",
     "library": "var_list.r",
     "varRefreshCmd": "cat(var_dic_list()) "
    }
   },
   "types_to_exclude": [
    "module",
    "function",
    "builtin_function_or_method",
    "instance",
    "_Feature"
   ],
   "window_display": false
  }
 },
 "nbformat": 4,
 "nbformat_minor": 5
}
