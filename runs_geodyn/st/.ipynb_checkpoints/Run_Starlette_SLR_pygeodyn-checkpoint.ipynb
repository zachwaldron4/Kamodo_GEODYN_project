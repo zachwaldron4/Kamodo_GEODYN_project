{
 "cells": [
  {
   "cell_type": "markdown",
   "id": "5768b759",
   "metadata": {},
   "source": [
    "# GEODYN Run with Starlette-SLR\n"
   ]
  },
  {
   "cell_type": "markdown",
   "id": "a5e8bb23",
   "metadata": {},
   "source": [
    "Before running, double check that the PYGEODYN class is inheriting the Starlette_Satellite object."
   ]
  },
  {
   "cell_type": "code",
   "execution_count": 1,
   "id": "127141de",
   "metadata": {
    "ExecuteTime": {
     "end_time": "2021-06-09T18:13:29.292205Z",
     "start_time": "2021-06-09T17:59:33.014870Z"
    }
   },
   "outputs": [
    {
     "name": "stdout",
     "output_type": "stream",
     "text": [
      "                      ......... RUNNING GEODYN\n",
      "3 starlette ---- check ---- init Satellite_Starlette class\n",
      "4 starlette ---- check ---- init set_file_paths_for_multiple_arcs class\n",
      "Run # 1     Current Time =      17:59:34\n",
      "Run # 1\n",
      "Run # 1     Cleaning iisset... :    /data/data_geodyn/inputs/st/setups/st030914_2wk.bz2\n",
      "epoch_start 03091400000.0000000\n",
      "epoch_start_YYMMDD 030914\n",
      "epoch_start_HHMM 0000\n",
      "epoch_end 03092800000.0000000\n",
      "epoch_end_YYMMDD 030928\n",
      "epoch_end_HHMM 0000\n",
      "+ ——————————————————————————————————————————————————————————————————————————————————————————\n",
      "|\n",
      "| ---------------------- Some run information ----------------------\n",
      "|\n",
      "|  Run # 1     IISSET Cleaned      tmp/.../cleaned_setup_030914\n",
      "|  Run # 1     Density Model:      msis2\n",
      "|  Run # 1     GEODYN Version:     Kamodo_pygeodyn_MODS\n",
      "|  Run # 1     ARC run:            st030914_2wk.goco05s\n",
      "|  Run # 1     Output directory:   /data/data_geodyn/results/st/msis2/msis2_acceloffTEST\n",
      "|  Run # 1     EXAT File:          No external attitude file.\n",
      "|\n",
      "+ ——————————————————————————————————————————————————————————————————————————————————————————\n",
      "Run # 1     Copying input files to temp directory\n",
      "\n",
      "Run # 1          Running IIS\n",
      "Run # 1          No errors in IIS\n",
      "Run # 1 ---------End of IIS\n",
      "\n",
      "Run # 1          Running IIE\n",
      "Run # 1          Current Time = 18:00:07\n",
      "Run # 1          No errors in IIE\n",
      "Run # 1 ---------End of IIE\n",
      "Run # 1          Time of IIE:  800.0783715248108 secs ( 13.334639525413513  mins)\n",
      "Run # 1          Current Time = 18:13:27\n",
      "Run # 1                Finished renaming files\n",
      "Run # 1                Finished copying files to outputdir\n"
     ]
    }
   ],
   "source": [
    "%load_ext autoreload\n",
    "%autoreload 2\n",
    "import copy\n",
    "import time\n",
    "import sys  \n",
    "\n",
    "\n",
    "sys.path.insert(0, '/data/geodyn_proj/pygeodyn/pygeodyn_develop/')\n",
    "from PYGEODYN import Pygeodyn\n",
    "\n",
    "\n",
    "### Identify which arcs you want to run:\n",
    "arcs_files = [ \n",
    "            '030914', # 1\n",
    "             ]\n",
    "\n",
    "#------ A dictionary containing the run parameters ------  \n",
    "run_params = {} \n",
    "run_params['arc']              =   arcs_files\n",
    "run_params['satellite']        =  'starlette'  \n",
    "run_params['den_model']        =  'msis2'  \n",
    "run_params['SpecialRun_name']  =  'TEST'  \n",
    "run_params['verbose']          =  False\n",
    "run_params['action']           =  'run'\n",
    "# run_params['request_data']      = ['AdjustedParams',\n",
    "#                                      'Density',\n",
    "#                                    ]\n",
    "\n",
    "\n",
    "##### Use copy.deepcopy to copy all levels of dictionary and \n",
    "###       allow modification of new variable\n",
    "run_params1 = copy.deepcopy(run_params)\n",
    "run_params1['den_model']         =  'msis2'  \n",
    "run_params1['action']            =  'run'\n",
    "\n",
    "\n",
    "# ### Run pyeodyn for the arcs in the above set.\n",
    "Obj_Geodyn = Pygeodyn(run_params1)\n",
    "Obj_Geodyn.RUN_GEODYN()\n",
    "\n",
    "\n",
    "# ### READ Data for the arcs in the above set.\n",
    "# Obj_Geodyn1 = Pygeodyn(run_params1)\n",
    "# Obj_Geodyn1.getData()\n"
   ]
  },
  {
   "cell_type": "code",
   "execution_count": 2,
   "id": "6dbebdb6",
   "metadata": {
    "ExecuteTime": {
     "end_time": "2021-06-09T18:13:29.307980Z",
     "start_time": "2021-06-09T18:13:29.294523Z"
    }
   },
   "outputs": [],
   "source": []
  },
  {
   "cell_type": "code",
   "execution_count": 3,
   "id": "6be135e5",
   "metadata": {
    "ExecuteTime": {
     "end_time": "2021-06-09T18:13:29.330267Z",
     "start_time": "2021-06-09T18:13:29.310057Z"
    }
   },
   "outputs": [
    {
     "data": {
      "text/plain": [
       "'030914000000.00'"
      ]
     },
     "execution_count": 3,
     "metadata": {},
     "output_type": "execute_result"
    }
   ],
   "source": []
  }
 ],
 "metadata": {
  "kernelspec": {
   "display_name": "Python 3",
   "language": "python",
   "name": "python3"
  },
  "language_info": {
   "codemirror_mode": {
    "name": "ipython",
    "version": 3
   },
   "file_extension": ".py",
   "mimetype": "text/x-python",
   "name": "python",
   "nbconvert_exporter": "python",
   "pygments_lexer": "ipython3",
   "version": "3.8.8"
  },
  "toc": {
   "base_numbering": 1,
   "nav_menu": {},
   "number_sections": true,
   "sideBar": true,
   "skip_h1_title": false,
   "title_cell": "Table of Contents",
   "title_sidebar": "Contents",
   "toc_cell": false,
   "toc_position": {},
   "toc_section_display": true,
   "toc_window_display": false
  },
  "varInspector": {
   "cols": {
    "lenName": 16,
    "lenType": 16,
    "lenVar": 40
   },
   "kernels_config": {
    "python": {
     "delete_cmd_postfix": "",
     "delete_cmd_prefix": "del ",
     "library": "var_list.py",
     "varRefreshCmd": "print(var_dic_list())"
    },
    "r": {
     "delete_cmd_postfix": ") ",
     "delete_cmd_prefix": "rm(",
     "library": "var_list.r",
     "varRefreshCmd": "cat(var_dic_list()) "
    }
   },
   "types_to_exclude": [
    "module",
    "function",
    "builtin_function_or_method",
    "instance",
    "_Feature"
   ],
   "window_display": false
  }
 },
 "nbformat": 4,
 "nbformat_minor": 5
}
