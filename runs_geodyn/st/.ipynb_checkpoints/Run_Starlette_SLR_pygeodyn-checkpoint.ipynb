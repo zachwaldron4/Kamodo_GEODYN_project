{
 "cells": [
  {
   "cell_type": "markdown",
   "id": "d58c5215",
   "metadata": {},
   "source": [
    "# GEODYN Run with Starlette-SLR\n"
   ]
  },
  {
   "cell_type": "code",
   "execution_count": 9,
   "id": "0f3f9103",
   "metadata": {
    "ExecuteTime": {
     "end_time": "2021-06-01T19:02:31.862322Z",
     "start_time": "2021-06-01T19:02:31.759853Z"
    }
   },
   "outputs": [
    {
     "name": "stdout",
     "output_type": "stream",
     "text": [
      "The autoreload extension is already loaded. To reload it, use:\n",
      "  %reload_ext autoreload\n"
     ]
    },
    {
     "ename": "TypeError",
     "evalue": "__init__() got an unexpected keyword argument 'sat'",
     "output_type": "error",
     "traceback": [
      "\u001b[0;31m---------------------------------------------------------------------------\u001b[0m",
      "\u001b[0;31mTypeError\u001b[0m                                 Traceback (most recent call last)",
      "\u001b[0;32m<ipython-input-9-ac4e6cd9f9a8>\u001b[0m in \u001b[0;36m<module>\u001b[0;34m\u001b[0m\n\u001b[1;32m     59\u001b[0m \u001b[0;34m\u001b[0m\u001b[0m\n\u001b[1;32m     60\u001b[0m \u001b[0;31m# ### READ Data for the arcs in the above set.\u001b[0m\u001b[0;34m\u001b[0m\u001b[0;34m\u001b[0m\u001b[0;34m\u001b[0m\u001b[0m\n\u001b[0;32m---> 61\u001b[0;31m \u001b[0mObj_Geodyn1\u001b[0m \u001b[0;34m=\u001b[0m \u001b[0mPygeodyn\u001b[0m\u001b[0;34m(\u001b[0m\u001b[0mrun_params1\u001b[0m\u001b[0;34m,\u001b[0m \u001b[0msat\u001b[0m\u001b[0;34m=\u001b[0m \u001b[0mrun_params1\u001b[0m\u001b[0;34m[\u001b[0m\u001b[0;34m'satellite'\u001b[0m\u001b[0;34m]\u001b[0m\u001b[0;34m)\u001b[0m\u001b[0;34m\u001b[0m\u001b[0;34m\u001b[0m\u001b[0m\n\u001b[0m\u001b[1;32m     62\u001b[0m \u001b[0mObj_Geodyn1\u001b[0m\u001b[0;34m.\u001b[0m\u001b[0mgetData\u001b[0m\u001b[0;34m(\u001b[0m\u001b[0;34m)\u001b[0m\u001b[0;34m\u001b[0m\u001b[0;34m\u001b[0m\u001b[0m\n",
      "\u001b[0;31mTypeError\u001b[0m: __init__() got an unexpected keyword argument 'sat'"
     ]
    }
   ],
   "source": [
    "%load_ext autoreload\n",
    "%autoreload 2\n",
    "import copy\n",
    "import time\n",
    "import sys  \n",
    "\n",
    "\n",
    "### Identify which arcs you want to run:\n",
    "arcs_files = [ \n",
    "            '030914', # 1\n",
    "             ]\n",
    "\n",
    "#------ A dictionary containing the run parameters ------  \n",
    "run_params = {} \n",
    "run_params['arc']              =   arcs_files\n",
    "run_params['satellite']        =  'starlette'  \n",
    "run_params['den_model']        =  'msis2'  \n",
    "run_params['SpecialRun_name']  =  ''  \n",
    "run_params['verbose']          =  False\n",
    "run_params['action']           =  'run'\n",
    "run_params['request_data']      = ['AdjustedParams',\n",
    "#                                      'Trajectory_xyz',\n",
    "#                                      'Trajectory_orbfil',\n",
    "                                     'Density',\n",
    "#                                      'Residuals_obs',\n",
    "#                                      'Residuals_summary',\n",
    "#                                      'Statistics', \n",
    "                                   ]\n",
    "\n",
    "\n",
    "\n",
    "\n",
    "\n",
    "\n",
    "\n",
    "\n",
    "sys.path.insert(0, '/data/geodyn_proj/pygeodyn/utils_pygeodyn_develop/')\n",
    "from PYGEODYN import Pygeodyn\n",
    "\n",
    "\n",
    "#### ---------------------------------------------\n",
    "####\n",
    "#### ----------------- RUN MSIS2.0 --------------- \n",
    "####\n",
    "#### ---------------------------------------------\n",
    "\n",
    "##### Use copy.deepcopy to copy all levels of dictionary and \n",
    "###       allow modification of new variable\n",
    "run_params1 = copy.deepcopy(run_params)\n",
    "run_params1['den_model']         =  'msis2'  \n",
    "run_params1['action']            =  'read'\n",
    "\n",
    "\n",
    "\n",
    "# ### Run pyeodyn for the arcs in the above set.\n",
    "# Obj_Geodyn = Pygeodyn(run_params1)\n",
    "# Obj_Geodyn.RUN_GEODYN()\n",
    "\n",
    "\n",
    "# ### READ Data for the arcs in the above set.\n",
    "Obj_Geodyn1 = Pygeodyn(run_params1)\n",
    "Obj_Geodyn1.getData()\n"
   ]
  },
  {
   "cell_type": "code",
   "execution_count": null,
   "id": "e3066d27",
   "metadata": {
    "ExecuteTime": {
     "end_time": "2021-06-01T18:52:52.331227Z",
     "start_time": "2021-06-01T18:52:48.606Z"
    }
   },
   "outputs": [],
   "source": [
    "import os\n",
    "os.name"
   ]
  },
  {
   "cell_type": "code",
   "execution_count": null,
   "id": "backed-jackson",
   "metadata": {
    "ExecuteTime": {
     "end_time": "2021-06-01T18:52:52.332000Z",
     "start_time": "2021-06-01T18:52:48.609Z"
    }
   },
   "outputs": [],
   "source": [
    "# run_params = {} \n",
    "# run_params['run_ID']           =  'Run_Arc_1'  \n",
    "# run_params['arc']              =  [ '030914_2wk',\n",
    "# #                                     '030928_2wk',\n",
    "# #                                     '031012_2wk',\n",
    "# #                                     '031026_2wk',\n",
    "# #                                     '031109_2wk',\n",
    "# #                                     '031123_2wk',\n",
    "# #                                     '031207_2wk',\n",
    "# #                                     '031221_2wk',\n",
    "#                                     ]  \n",
    "# run_params['satellite']        =  'starlette'  \n",
    "# run_params['den_model']        =  'msis2'  \n",
    "# run_params['empirical_accels'] =  False  \n",
    "# run_params['SpecialRun_name']  =  '_developer_test'  \n",
    "# run_params['options_in']       =  {'DRHODZ_update':True}  \n",
    "# run_params['verbose']          =  False  \n"
   ]
  },
  {
   "cell_type": "code",
   "execution_count": null,
   "id": "unexpected-personality",
   "metadata": {
    "ExecuteTime": {
     "end_time": "2021-06-01T18:52:52.332724Z",
     "start_time": "2021-06-01T18:52:48.610Z"
    }
   },
   "outputs": [],
   "source": [
    "# Obj_data = pyGeodyn_Readers(run_params)"
   ]
  },
  {
   "cell_type": "code",
   "execution_count": null,
   "id": "increased-boring",
   "metadata": {
    "ExecuteTime": {
     "end_time": "2021-06-01T18:52:52.333451Z",
     "start_time": "2021-06-01T18:52:48.612Z"
    }
   },
   "outputs": [],
   "source": [
    "# Obj_data.getData_All()"
   ]
  },
  {
   "cell_type": "code",
   "execution_count": null,
   "id": "3647e618",
   "metadata": {
    "ExecuteTime": {
     "end_time": "2021-06-01T18:52:52.334278Z",
     "start_time": "2021-06-01T18:52:48.613Z"
    }
   },
   "outputs": [],
   "source": [
    "%load_ext autoreload\n",
    "%autoreload 2\n",
    "import copy\n",
    "import time\n",
    "import sys  \n",
    "\n",
    "\n",
    "### Identify which arcs you want to run:\n",
    "arcs_files = [ \n",
    "            '2018.313', # 1\n",
    "             ]\n",
    "\n",
    "#------ A dictionary containing the run parameters ------  \n",
    "run_params = {} \n",
    "run_params['arc']              =   arcs_files\n",
    "run_params['satellite']        =  'icesat2'  \n",
    "run_params['den_model']        =  'msis2'  \n",
    "run_params['SpecialRun_name']  =  '_TrajAnalysis_1'  \n",
    "run_params['verbose']          =  False\n",
    "run_params['action']           =  'run'\n",
    "run_params['request_data']      = ['AdjustedParams',\n",
    "#                                      'Trajectory_xyz',\n",
    "#                                      'Trajectory_orbfil',\n",
    "                                     'Density',\n",
    "#                                      'Residuals_obs',\n",
    "#                                      'Residuals_summary',\n",
    "#                                      'Statistics', \n",
    "                                   ]\n",
    "\n",
    "\n",
    "sys.path.insert(0, '/data/geodyn_proj/pygeodyn/utils_pygeodyn_develop/')\n",
    "from PYGEODYN import Pygeodyn\n",
    "\n",
    "\n",
    "#### ---------------------------------------------\n",
    "####\n",
    "#### ----------------- RUN MSIS2.0 --------------- \n",
    "####\n",
    "#### ---------------------------------------------\n",
    "\n",
    "##### Use copy.deepcopy to copy all levels of dictionary and \n",
    "###       allow modification of new variable\n",
    "run_params1 = copy.deepcopy(run_params)\n",
    "run_params1['den_model']         =  'msis2'  \n",
    "run_params1['action']            =  'read'\n",
    "\n",
    "\n",
    "\n",
    "# ### Run pyeodyn for the arcs in the above set.\n",
    "# Obj_Geodyn = Pygeodyn(run_params1)\n",
    "# Obj_Geodyn.RUN_GEODYN()\n",
    "\n",
    "\n",
    "# ### READ Data for the arcs in the above set.\n",
    "Obj_Geodyn1 = Pygeodyn(run_params1)\n",
    "# Obj_Geodyn1 = Pygeodyn(run_params1)\n",
    "# Obj_Geodyn1.get_SAT(run_params1['satellite'])\n",
    "Obj_Geodyn1.getData()\n"
   ]
  },
  {
   "cell_type": "code",
   "execution_count": null,
   "id": "d27a7e17",
   "metadata": {
    "ExecuteTime": {
     "end_time": "2021-06-01T18:52:52.335111Z",
     "start_time": "2021-06-01T18:52:48.615Z"
    }
   },
   "outputs": [],
   "source": [
    "Obj_Geodyn1.__dict__"
   ]
  }
 ],
 "metadata": {
  "kernelspec": {
   "display_name": "Python 3",
   "language": "python",
   "name": "python3"
  },
  "language_info": {
   "codemirror_mode": {
    "name": "ipython",
    "version": 3
   },
   "file_extension": ".py",
   "mimetype": "text/x-python",
   "name": "python",
   "nbconvert_exporter": "python",
   "pygments_lexer": "ipython3",
   "version": "3.8.8"
  },
  "toc": {
   "base_numbering": 1,
   "nav_menu": {},
   "number_sections": true,
   "sideBar": true,
   "skip_h1_title": false,
   "title_cell": "Table of Contents",
   "title_sidebar": "Contents",
   "toc_cell": false,
   "toc_position": {},
   "toc_section_display": true,
   "toc_window_display": false
  },
  "varInspector": {
   "cols": {
    "lenName": 16,
    "lenType": 16,
    "lenVar": 40
   },
   "kernels_config": {
    "python": {
     "delete_cmd_postfix": "",
     "delete_cmd_prefix": "del ",
     "library": "var_list.py",
     "varRefreshCmd": "print(var_dic_list())"
    },
    "r": {
     "delete_cmd_postfix": ") ",
     "delete_cmd_prefix": "rm(",
     "library": "var_list.r",
     "varRefreshCmd": "cat(var_dic_list()) "
    }
   },
   "types_to_exclude": [
    "module",
    "function",
    "builtin_function_or_method",
    "instance",
    "_Feature"
   ],
   "window_display": false
  }
 },
 "nbformat": 4,
 "nbformat_minor": 5
}
