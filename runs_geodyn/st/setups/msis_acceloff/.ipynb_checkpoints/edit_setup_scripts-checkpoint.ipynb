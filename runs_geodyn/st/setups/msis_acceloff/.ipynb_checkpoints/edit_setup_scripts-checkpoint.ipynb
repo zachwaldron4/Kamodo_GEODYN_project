{
 "cells": [
  {
   "cell_type": "markdown",
   "id": "minor-waste",
   "metadata": {},
   "source": [
    "# Editing the setup script files (Unit 05)"
   ]
  },
  {
   "cell_type": "markdown",
   "id": "humanitarian-aluminum",
   "metadata": {},
   "source": [
    "### Check the directory, files, and bunzip the setup scripts."
   ]
  },
  {
   "cell_type": "code",
   "execution_count": 1,
   "id": "cooperative-manner",
   "metadata": {},
   "outputs": [
    {
     "name": "stdout",
     "output_type": "stream",
     "text": [
      "/data/geodyn_proj/runs_geodyn/st/setups/msis_acceloff\n",
      ".\n",
      "├── edit_setup_scripts.ipynb\n",
      "├── save_origs\n",
      "├── st030914_2wk.bz2\n",
      "├── st030928_2wk.bz2\n",
      "├── st031012_2wk.bz2\n",
      "├── st031026_2wk.bz2\n",
      "├── st031109_2wk.bz2\n",
      "├── st031123_2wk.bz2\n",
      "├── st031207_2wk.bz2\n",
      "└── st031221_2wk.bz2\n",
      "\n",
      "1 directory, 9 files\n"
     ]
    }
   ],
   "source": [
    "!pwd\n",
    "\n",
    "!tree -L 1\n"
   ]
  },
  {
   "cell_type": "code",
   "execution_count": 2,
   "id": "static-identifier",
   "metadata": {},
   "outputs": [
    {
     "name": "stdout",
     "output_type": "stream",
     "text": [
      ".\r\n",
      "├── edit_setup_scripts.ipynb\r\n",
      "├── save_origs\r\n",
      "├── st030914_2wk\r\n",
      "├── st030928_2wk\r\n",
      "├── st031012_2wk\r\n",
      "├── st031026_2wk\r\n",
      "├── st031109_2wk\r\n",
      "├── st031123_2wk\r\n",
      "├── st031207_2wk\r\n",
      "└── st031221_2wk\r\n",
      "\r\n",
      "1 directory, 9 files\r\n"
     ]
    }
   ],
   "source": [
    "!bunzip2 st*\n",
    "\n",
    "!tree -L 1"
   ]
  },
  {
   "cell_type": "code",
   "execution_count": 3,
   "id": "attempted-right",
   "metadata": {},
   "outputs": [],
   "source": [
    "arcs = ['st030914_2wk',\n",
    "        'st030928_2wk',\n",
    "        'st031012_2wk',\n",
    "        'st031026_2wk',\n",
    "        'st031109_2wk',\n",
    "        'st031123_2wk',\n",
    "        'st031207_2wk',\n",
    "        'st031221_2wk']\n",
    "satellite    =  'st' \n",
    "SAT_ID = '7501001'\n",
    "den_dir      =  'msis'\n",
    "den_model    =  '86'\n",
    "accel_status =  'acceloff'\n",
    "\n",
    "\n",
    "# navigate to the correct path\n",
    "abs_path = '/data/geodyn_proj/runs_geodyn/'+satellite+ '/setups/'+den_dir+'_'+accel_status+'/'\n"
   ]
  },
  {
   "cell_type": "code",
   "execution_count": 4,
   "id": "improved-power",
   "metadata": {},
   "outputs": [
    {
     "data": {
      "text/plain": [
       "'/data/geodyn_proj/runs_geodyn/st/setups/msis_acceloff/'"
      ]
     },
     "execution_count": 4,
     "metadata": {},
     "output_type": "execute_result"
    }
   ],
   "source": [
    "abs_path"
   ]
  },
  {
   "cell_type": "markdown",
   "id": "incredible-update",
   "metadata": {},
   "source": [
    "## navigate to correct density file folder:\n"
   ]
  },
  {
   "cell_type": "code",
   "execution_count": 5,
   "id": "sudden-technical",
   "metadata": {},
   "outputs": [],
   "source": [
    "def edit_setup_scripts(arcs, abs_path, SAT_ID, den_model, accel_status):\n",
    "\n",
    "    import linecache\n",
    "    import sys\n",
    "\n",
    "    '''\n",
    "    ### NOTE:\n",
    "    The below code loops throught the setup file and does a few things:\n",
    "     1.  finds the epoch start and end time from the EPOCH card\n",
    "     2.  checks to see if the ORBFIL and ORBTVU cards are included in the deck\n",
    "    3.  corrects the CARD options to be the necessary format for the following:\n",
    "        - ATMDEN\n",
    "        - RESID\n",
    "        - OBSVU\n",
    "        - ORBTVU\n",
    "        - ORBFIL\n",
    "        - PRNTVU\n",
    "    - if ORBFIL or ORBTVU is not included, they are added after the ALBEDO card\n",
    "    - checks if the ATMDEN model is correct\n",
    "    \n",
    "            NOTE-- if the ORBFILs are put in the wrong spot it will kick an error.\n",
    "                   For example, an error is retruned if they are placed after ATMDEN.\n",
    "                   I guess the cards are intended to be read in some sort of order.\n",
    "                   The setup will run if the ORB-- cards are placed after ALBEDO\n",
    "    \n",
    "    '''\n",
    "    \n",
    "\n",
    "\n",
    "    for arc in arcs:\n",
    "        print(arc)\n",
    "\n",
    "        arc_file = abs_path+ arc #+'.bz2'\n",
    "\n",
    "        ORBFIL_exist = []\n",
    "        ORBTVU_exist = []\n",
    "\n",
    "        # Check to see if any of the cards that we want are NOT in the setup_file:\n",
    "        with open(arc_file, \"r\") as f:\n",
    "            for line_no, line_text in enumerate(f):\n",
    "                if 'ORBFIL' in line_text:\n",
    "                    ORBFIL_exist.append(True)\n",
    "                elif 'ORBTVU' in line_text:\n",
    "                    ORBTVU_exist.append(True)\n",
    "                else:\n",
    "                    pass\n",
    "\n",
    "\n",
    "        if not ORBFIL_exist:\n",
    "            ORBFIL_exist = False\n",
    "        else:\n",
    "            ORBFIL_exist = True\n",
    "        if not ORBTVU_exist:\n",
    "            ORBTVU_exist = False\n",
    "        else:\n",
    "            ORBTVU_exist = True\n",
    "\n",
    "        #\n",
    "        # First remove any accelerations if the accelerations are meant to be off\n",
    "        if accel_status == 'acceloff':\n",
    "            with open(arc_file, \"r\") as f:\n",
    "                lines_all = f.readlines()\n",
    "            with open(arc_file, \"w\") as f:\n",
    "                for line in lines_all:\n",
    "                    if 'ACCEL9' in line:\n",
    "                        pass\n",
    "                    else:\n",
    "                        f.write(line)\n",
    "#         with open(arc_file, \"r\") as f:\n",
    "#             for line_no, line_text in enumerate(f):\n",
    "#                 if 'ATMDEN' in line_text:\n",
    "\n",
    "#                     check_atmden = line_text[8:10].strip()\n",
    "#         if check_atmden != den_model:\n",
    "#             warn1 = 'Value of Density model is not correct at the ATMDEN card: '\n",
    "#             warn2 = check_atmden + ' should be '+ den_model\n",
    "#             warn  = warn1+warn2\n",
    "#             print(arc)\n",
    "#             sys.exit(warn)\n",
    "\n",
    "        #\n",
    "        # Grab the EPOCH start and end times\n",
    "        EPOCH_line = []\n",
    "        with open(arc_file, 'r') as f:\n",
    "            for line_no, line_text in enumerate(f):\n",
    "                if 'EPOCH' in line_text:\n",
    "                    EPOCH_line.append(line_no) \n",
    "#                     print('hmmm')\n",
    "        \n",
    "        # Identify and save the EPOCH start and end times\n",
    "        for i,val in enumerate(EPOCH_line):\n",
    "            epoch_start = linecache.getline(arc_file,val +1)[20:26].strip()\n",
    "            epoch_end = linecache.getline(arc_file,val +1)[60:66].strip()\n",
    "            \n",
    "        # fix the TIME strings to be what the card readers want\n",
    "        ep_start_str = '0'+ epoch_start+'000000.0'\n",
    "        ep_end_str   = '0'+ epoch_end\n",
    "\n",
    "        # Edit the CARDS\n",
    "        with open(arc_file, 'r') as f:\n",
    "            lines_all = f.readlines()\n",
    "        with open(arc_file, \"w\") as f:\n",
    "            for line in lines_all:\n",
    "                # Edit the ATMDEN card \n",
    "                if 'ATMDEN' in line:\n",
    "                    line_replace = 'ATMDEN  '+den_model\n",
    "                    # Check if line is in correct format\n",
    "                    if line_replace in line:\n",
    "                        f.write(line)\n",
    "                    else:\n",
    "                        f.write(line_replace+' \\n')\n",
    "                # Edit the OBSVU card (residual ascii printout)\n",
    "                elif 'OBSVU' in line:\n",
    "                    # Check if line is in correct format\n",
    "                    if 'OBSVU 4' in line:\n",
    "                        f.write(line)\n",
    "                    else:\n",
    "                        f.write('OBSVU 4 \\n')\n",
    "                # Edit the RESIDU card (residual file)\n",
    "                elif 'RESIDU' in line:\n",
    "                    # Check if line is in correct format.  \n",
    "                    if 'RESIDU12' in line:\n",
    "                        f.write(line) \n",
    "                    else:\n",
    "                        f.write('RESIDU12 \\n')\n",
    "                # Edit the PRNTVU card ( format card (formats IIEOUT))\n",
    "                elif 'PRNTVU' in line:\n",
    "                    if 'PRNTVU55212222    22122' in line:\n",
    "                        f.write(line)\n",
    "                    else:\n",
    "                        f.write('PRNTVU55212222    22122 \\n')\n",
    "\n",
    "                # Edit the ORBFIL card \n",
    "                elif 'ORBFIL' in line:\n",
    "                    orbfil_text = 'ORBFIL2 31       '+SAT_ID+'     '+str(ep_start_str)+'  '+str(ep_end_str)+' 24200.00 .100000D+01 \\n'\n",
    "                    if orbfil_text in line:\n",
    "                        f.write(line)\n",
    "                    else:\n",
    "                        f.write(orbfil_text)\n",
    "                # Edit the ORBFIL card\n",
    "                elif 'ORBTVU' in line:\n",
    "                    ORBTVU_text = 'ORBTVU1021       '+SAT_ID+'     '+str(ep_start_str)+'  '+str(ep_end_str)+' 24200.00 .100000D+01 \\n'\n",
    "                    if ORBTVU_text in line:\n",
    "                        f.write(line)\n",
    "                    else:\n",
    "                        f.write(ORBTVU_text)\n",
    "                else:\n",
    "                    f.write(line)\n",
    "\n",
    "                ####\n",
    "                #### The orbit files need to be added to the file as a whole\n",
    "                ####\n",
    "                # Edit the ORBFIL card (Save to binary orbit file)\n",
    "        if ORBFIL_exist == False:\n",
    "            orbfil_text = 'ORBFIL2 31       '+SAT_ID+'     '+str(ep_start_str)+'  '+str(ep_end_str)+' 24200.00 .100000D+01 \\n'\n",
    "            with open(arc_file, 'r') as f:\n",
    "                lines_all = f.readlines()\n",
    "            with open(arc_file, \"w\") as f:\n",
    "                for line in lines_all:\n",
    "                    if 'ALBEDO' in line:\n",
    "                        f.write(line)\n",
    "                        f.write(orbfil_text)                 \n",
    "                    else:\n",
    "                        f.write(line)\n",
    "\n",
    "\n",
    "\n",
    "        if ORBFIL_exist == False:\n",
    "            ORBTVU_text = 'ORBTVU1021       '+SAT_ID+'     '+str(ep_start_str)+'  '+str(ep_end_str)+' 24200.00 .100000D+01 \\n'\n",
    "            with open(arc_file, 'r') as f:\n",
    "                lines_all = f.readlines()\n",
    "            with open(arc_file, \"w\") as f:\n",
    "                for line in lines_all:\n",
    "                    if 'ALBEDO' in line:\n",
    "                        f.write(line)\n",
    "                        f.write(ORBTVU_text)   \n",
    "                    else:\n",
    "                        f.write(line)\n",
    "\n"
   ]
  },
  {
   "cell_type": "code",
   "execution_count": 6,
   "id": "unlikely-webcam",
   "metadata": {},
   "outputs": [
    {
     "name": "stdout",
     "output_type": "stream",
     "text": [
      "st030914_2wk\n",
      "st030928_2wk\n",
      "st031012_2wk\n",
      "st031026_2wk\n",
      "st031109_2wk\n",
      "st031123_2wk\n",
      "st031207_2wk\n",
      "st031221_2wk\n"
     ]
    }
   ],
   "source": [
    "edit_setup_scripts(arcs, abs_path, SAT_ID, den_model, accel_status)"
   ]
  },
  {
   "cell_type": "code",
   "execution_count": 7,
   "id": "mysterious-record",
   "metadata": {},
   "outputs": [],
   "source": [
    "!bzip2 st*"
   ]
  },
  {
   "cell_type": "code",
   "execution_count": 8,
   "id": "pursuant-stamp",
   "metadata": {},
   "outputs": [
    {
     "name": "stdout",
     "output_type": "stream",
     "text": [
      ".\r\n",
      "├── edit_setup_scripts.ipynb\r\n",
      "├── save_origs\r\n",
      "├── st030914_2wk.bz2\r\n",
      "├── st030928_2wk.bz2\r\n",
      "├── st031012_2wk.bz2\r\n",
      "├── st031026_2wk.bz2\r\n",
      "├── st031109_2wk.bz2\r\n",
      "├── st031123_2wk.bz2\r\n",
      "├── st031207_2wk.bz2\r\n",
      "└── st031221_2wk.bz2\r\n",
      "\r\n",
      "1 directory, 9 files\r\n"
     ]
    }
   ],
   "source": [
    "!tree -L 1"
   ]
  },
  {
   "cell_type": "markdown",
   "id": "concerned-lunch",
   "metadata": {
    "tags": [],
    "toc-hr-collapsed": true
   },
   "source": [
    "\n"
   ]
  },
  {
   "cell_type": "code",
   "execution_count": null,
   "id": "deluxe-photograph",
   "metadata": {},
   "outputs": [],
   "source": []
  },
  {
   "cell_type": "code",
   "execution_count": null,
   "id": "amino-license",
   "metadata": {},
   "outputs": [],
   "source": []
  },
  {
   "cell_type": "code",
   "execution_count": null,
   "id": "challenging-program",
   "metadata": {},
   "outputs": [],
   "source": []
  },
  {
   "cell_type": "code",
   "execution_count": null,
   "id": "serious-sandwich",
   "metadata": {},
   "outputs": [],
   "source": []
  },
  {
   "cell_type": "code",
   "execution_count": null,
   "id": "short-bulletin",
   "metadata": {},
   "outputs": [],
   "source": []
  }
 ],
 "metadata": {
  "kernelspec": {
   "display_name": "Python 3",
   "language": "python",
   "name": "python3"
  },
  "language_info": {
   "codemirror_mode": {
    "name": "ipython",
    "version": 3
   },
   "file_extension": ".py",
   "mimetype": "text/x-python",
   "name": "python",
   "nbconvert_exporter": "python",
   "pygments_lexer": "ipython3",
   "version": "3.8.5"
  }
 },
 "nbformat": 4,
 "nbformat_minor": 5
}
