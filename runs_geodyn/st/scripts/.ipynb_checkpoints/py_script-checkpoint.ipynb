{
 "cells": [
  {
   "cell_type": "markdown",
   "id": "distributed-camera",
   "metadata": {},
   "source": [
    "### What have I done?\n",
    "\n",
    "In a separate function:\n",
    " - the primary script (`geodyn_st.sh`) is duplicated, given a custom name, and placed in a `script_runs/` directory\n",
    " - the input run parameters are used to modify the custom script \n",
    " - the script is executed\n",
    "\n",
    "\n",
    "Options:\n",
    "- multiple scripts can be run at once using multiprocess\n",
    "- a special name can be given to the output directory through the *SpecialRun_name* variable.  The default is an empty string ('')\n",
    "\n",
    "\n",
    "\n",
    "Prerequisites:\n",
    "- the primary script `geodyn_st.sh` must be made an executable if it is not: `chmod +x <filename>`\n",
    "\n",
    "\n",
    "#### Questions:\n",
    "\n",
    "1. how can I set up the subprocess.run command to print the live output to the python output?\n",
    "2. so we can run double the number of CPUs in a multiprocess?\n"
   ]
  },
  {
   "cell_type": "code",
   "execution_count": null,
   "id": "white-arbor",
   "metadata": {},
   "outputs": [],
   "source": []
  },
  {
   "cell_type": "code",
   "execution_count": 1,
   "id": "velvet-davis",
   "metadata": {},
   "outputs": [
    {
     "name": "stdout",
     "output_type": "stream",
     "text": [
      "Core Number: 2\n"
     ]
    }
   ],
   "source": [
    "want_multiprocess = True\n",
    "\n",
    "if want_multiprocess == False:\n",
    "    from functions_for_script import EditScript_and_RUN\n",
    "    import subprocess\n",
    "    import sys\n",
    "\n",
    "    den_models = ['msis2']\n",
    "    arc_list = ['st030914_2wk']\n",
    "    SpecialRun_name=''  #if not a special run, input this as empty string ''\n",
    "\n",
    "    for i_den, den_val in enumerate(den_models):\n",
    "        for i_arc, arc_val in enumerate(arc_list):\n",
    "\n",
    "            # Edit Script\n",
    "            EditScript_and_RUN(den_val, arc_val, SpecialRun_name)\n",
    "            \n",
    "            \n",
    "elif want_multiprocess == True:\n",
    "    import multiprocessing\n",
    "    print('Core Number:', multiprocessing.cpu_count())\n",
    "    \n",
    "    from functions_for_script import EditScript_and_RUN\n",
    "    from multiprocessing import set_start_method\n",
    "\n",
    "    set_start_method(\"spawn\")\n",
    "    pool_size = multiprocessing.cpu_count()*2 \n",
    "    pool = multiprocessing.Pool(processes=pool_size)\n",
    "\n",
    "    SpecialRun_name='_drhodzOrig'  #if not a special run, input this as empty string: ''\n",
    "    \n",
    "    ins1 = [\n",
    "           ('msis2', 'st030914_2wk',  SpecialRun_name),\n",
    "           ('msis2', 'st030928_2wk',  SpecialRun_name),\n",
    "          ]\n",
    "    \n",
    "    ins2 = [\n",
    "           ('msis2', 'st031012_2wk',  SpecialRun_name),\n",
    "           ('msis2', 'st031026_2wk',  SpecialRun_name),\n",
    "          ]\n",
    "    ins3 = [\n",
    "           ('msis2', 'st031109_2wk',  SpecialRun_name),\n",
    "           ('msis2', 'st031123_2wk',  SpecialRun_name),\n",
    "          ]\n",
    "    ins4 = [\n",
    "           ('msis2', 'st031207_2wk',  SpecialRun_name),\n",
    "           ('msis2', 'st031221_2wk',  SpecialRun_name),\n",
    "          ]    \n",
    "    \n",
    "    \n",
    "    import time\n",
    "    start = time.time()\n",
    "    count_timer = 0\n",
    "    \n",
    "    pool.starmap(EditScript_and_RUN, ins1)\n",
    "    end = time.time()\n",
    "    elapsed = end - start\n",
    "    count_timer += 1\n",
    "    print('Round',count_timer,' : ',elapsed)\n",
    "\n",
    "    pool.starmap(EditScript_and_RUN, ins2)\n",
    "    end = time.time()\n",
    "    elapsed = end - start\n",
    "    count_timer += 1\n",
    "    print('Round',count_timer,' : ',elapsed)\n",
    "\n",
    "    pool.starmap(EditScript_and_RUN, ins3)\n",
    "    end = time.time()\n",
    "    elapsed = end - start\n",
    "    count_timer += 1\n",
    "    print('Round',count_timer,' : ',elapsed)\n",
    "\n",
    "    pool.starmap(EditScript_and_RUN, ins4)\n",
    "    end = time.time()\n",
    "    elapsed = end - start\n",
    "    count_timer += 1\n",
    "    print('Round',count_timer,' : ',elapsed)\n"
   ]
  },
  {
   "cell_type": "code",
   "execution_count": null,
   "id": "fantastic-circus",
   "metadata": {},
   "outputs": [],
   "source": []
  },
  {
   "cell_type": "code",
   "execution_count": 2,
   "id": "spanish-headquarters",
   "metadata": {},
   "outputs": [],
   "source": [
    "# import html\n",
    "\n",
    "# std out\n",
    "# std error\n",
    "\n",
    "# Consider error logging everything\n",
    "# except\n"
   ]
  },
  {
   "cell_type": "code",
   "execution_count": 3,
   "id": "fallen-librarian",
   "metadata": {},
   "outputs": [],
   "source": [
    "# ROUND 1\n",
    "# process 1 done: 11:38- 12:14\n",
    "# process 2 done: 11:38- 12:14\n",
    "# process 3 done: 11:38- 12:16\n",
    "# process 4 done: 11:38- 12:27\n",
    " \n",
    "# ROUND 2\n",
    "# process 1 done: 12:34-12:14\n",
    "# process 2 done: 12:34-12:14\n",
    "# process 3 done: 12:34-12:16\n",
    "# process 4 done: 12:34-12:27\n",
    "\n",
    "    \n"
   ]
  },
  {
   "cell_type": "code",
   "execution_count": null,
   "id": "charged-economics",
   "metadata": {},
   "outputs": [],
   "source": []
  },
  {
   "cell_type": "code",
   "execution_count": null,
   "id": "discrete-elder",
   "metadata": {},
   "outputs": [],
   "source": []
  },
  {
   "cell_type": "code",
   "execution_count": null,
   "id": "correct-bhutan",
   "metadata": {},
   "outputs": [],
   "source": []
  }
 ],
 "metadata": {
  "kernelspec": {
   "display_name": "Python 3",
   "language": "python",
   "name": "python3"
  },
  "language_info": {
   "codemirror_mode": {
    "name": "ipython",
    "version": 3
   },
   "file_extension": ".py",
   "mimetype": "text/x-python",
   "name": "python",
   "nbconvert_exporter": "python",
   "pygments_lexer": "ipython3",
   "version": "3.8.5"
  }
 },
 "nbformat": 4,
 "nbformat_minor": 5
}
