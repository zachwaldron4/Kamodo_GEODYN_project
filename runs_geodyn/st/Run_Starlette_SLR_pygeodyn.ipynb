{
 "cells": [
  {
   "cell_type": "markdown",
   "id": "5768b759",
   "metadata": {},
   "source": [
    "# GEODYN Run with Starlette-SLR\n"
   ]
  },
  {
   "cell_type": "code",
   "execution_count": 1,
   "id": "127141de",
   "metadata": {
    "ExecuteTime": {
     "end_time": "2021-06-01T19:37:58.250449Z",
     "start_time": "2021-06-01T19:37:55.824630Z"
    }
   },
   "outputs": [
    {
     "name": "stdout",
     "output_type": "stream",
     "text": [
      "1a ---- check -- init Pygeodyn class\n",
      "                      ......... READ GEODYN output\n",
      "starlette\n",
      "inherit Satellite_Starlette \n",
      "3 starlette ---- check ---- init Satellite_Starlette class\n",
      "4 icesat ---- check ---- init set_file_paths_for_multiple_arcs class\n",
      "4 icesat ---- check ---- init set_file_paths_for_multiple_arcs class\n",
      "     Loading ... st_03094_2wk.msis2 \n"
     ]
    },
    {
     "ename": "FileNotFoundError",
     "evalue": "[Errno 2] No such file or directory: '/data/data_geodyn/results/st/msis2/msis2_acceloff/IIEOUT/st_03094_2wk.msis2'",
     "output_type": "error",
     "traceback": [
      "\u001b[0;31m---------------------------------------------------------------------------\u001b[0m",
      "\u001b[0;31mFileNotFoundError\u001b[0m                         Traceback (most recent call last)",
      "\u001b[0;32m<ipython-input-1-9500edc2c54f>\u001b[0m in \u001b[0;36m<module>\u001b[0;34m\u001b[0m\n\u001b[1;32m     60\u001b[0m \u001b[0;31m# ### READ Data for the arcs in the above set.\u001b[0m\u001b[0;34m\u001b[0m\u001b[0;34m\u001b[0m\u001b[0;34m\u001b[0m\u001b[0m\n\u001b[1;32m     61\u001b[0m \u001b[0mObj_Geodyn1\u001b[0m \u001b[0;34m=\u001b[0m \u001b[0mPygeodyn\u001b[0m\u001b[0;34m(\u001b[0m\u001b[0mrun_params1\u001b[0m\u001b[0;34m)\u001b[0m\u001b[0;34m\u001b[0m\u001b[0;34m\u001b[0m\u001b[0m\n\u001b[0;32m---> 62\u001b[0;31m \u001b[0mObj_Geodyn1\u001b[0m\u001b[0;34m.\u001b[0m\u001b[0mgetData\u001b[0m\u001b[0;34m(\u001b[0m\u001b[0;34m)\u001b[0m\u001b[0;34m\u001b[0m\u001b[0;34m\u001b[0m\u001b[0m\n\u001b[0m",
      "\u001b[0;32m/data/geodyn_proj/pygeodyn/utils_pygeodyn_develop/PYGEODYN_Read.py\u001b[0m in \u001b[0;36mgetData\u001b[0;34m(self)\u001b[0m\n\u001b[1;32m   2006\u001b[0m         \u001b[0;32mfor\u001b[0m \u001b[0miarc\u001b[0m\u001b[0;34m,\u001b[0m \u001b[0marc\u001b[0m \u001b[0;32min\u001b[0m \u001b[0menumerate\u001b[0m\u001b[0;34m(\u001b[0m\u001b[0mself\u001b[0m\u001b[0;34m.\u001b[0m\u001b[0marc_input\u001b[0m\u001b[0;34m)\u001b[0m\u001b[0;34m:\u001b[0m\u001b[0;34m\u001b[0m\u001b[0;34m\u001b[0m\u001b[0m\n\u001b[1;32m   2007\u001b[0m             \u001b[0mself\u001b[0m\u001b[0;34m.\u001b[0m\u001b[0mset_file_paths_for_multiple_arcs\u001b[0m\u001b[0;34m(\u001b[0m \u001b[0marc\u001b[0m\u001b[0;34m,\u001b[0m \u001b[0miarc\u001b[0m \u001b[0;34m)\u001b[0m\u001b[0;34m\u001b[0m\u001b[0;34m\u001b[0m\u001b[0m\n\u001b[0;32m-> 2008\u001b[0;31m             \u001b[0mself\u001b[0m\u001b[0;34m.\u001b[0m\u001b[0mcheck_if_run_converged\u001b[0m\u001b[0;34m(\u001b[0m\u001b[0mself\u001b[0m\u001b[0;34m.\u001b[0m\u001b[0m_iieout_filename\u001b[0m\u001b[0;34m)\u001b[0m\u001b[0;34m\u001b[0m\u001b[0;34m\u001b[0m\u001b[0m\n\u001b[0m\u001b[1;32m   2009\u001b[0m \u001b[0;34m\u001b[0m\u001b[0m\n\u001b[1;32m   2010\u001b[0m             \u001b[0;32mfor\u001b[0m \u001b[0mchoice\u001b[0m \u001b[0;32min\u001b[0m \u001b[0mdata_keys\u001b[0m\u001b[0;34m:\u001b[0m\u001b[0;34m\u001b[0m\u001b[0;34m\u001b[0m\u001b[0m\n",
      "\u001b[0;32m/data/geodyn_proj/pygeodyn/utils_pygeodyn_develop/util_dir/util_classtools.py\u001b[0m in \u001b[0;36mcheck_if_run_converged\u001b[0;34m(self, iieout_filename)\u001b[0m\n\u001b[1;32m    664\u001b[0m         \u001b[0mself\u001b[0m\u001b[0;34m.\u001b[0m\u001b[0mconvergence_flag\u001b[0m \u001b[0;34m=\u001b[0m \u001b[0;32mFalse\u001b[0m\u001b[0;34m\u001b[0m\u001b[0;34m\u001b[0m\u001b[0m\n\u001b[1;32m    665\u001b[0m \u001b[0;34m\u001b[0m\u001b[0m\n\u001b[0;32m--> 666\u001b[0;31m         \u001b[0;32mwith\u001b[0m \u001b[0mopen\u001b[0m\u001b[0;34m(\u001b[0m\u001b[0miieout_filename\u001b[0m\u001b[0;34m,\u001b[0m \u001b[0;34m'r'\u001b[0m\u001b[0;34m)\u001b[0m \u001b[0;32mas\u001b[0m \u001b[0mf\u001b[0m\u001b[0;34m:\u001b[0m\u001b[0;34m\u001b[0m\u001b[0;34m\u001b[0m\u001b[0m\n\u001b[0m\u001b[1;32m    667\u001b[0m             \u001b[0;32mfor\u001b[0m \u001b[0mline_no\u001b[0m\u001b[0;34m,\u001b[0m \u001b[0mline\u001b[0m \u001b[0;32min\u001b[0m \u001b[0menumerate\u001b[0m\u001b[0;34m(\u001b[0m\u001b[0mf\u001b[0m\u001b[0;34m)\u001b[0m\u001b[0;34m:\u001b[0m\u001b[0;34m\u001b[0m\u001b[0;34m\u001b[0m\u001b[0m\n\u001b[1;32m    668\u001b[0m \u001b[0;34m\u001b[0m\u001b[0m\n",
      "\u001b[0;31mFileNotFoundError\u001b[0m: [Errno 2] No such file or directory: '/data/data_geodyn/results/st/msis2/msis2_acceloff/IIEOUT/st_03094_2wk.msis2'"
     ]
    }
   ],
   "source": [
    "%load_ext autoreload\n",
    "%autoreload 2\n",
    "import copy\n",
    "import time\n",
    "import sys  \n",
    "\n",
    "\n",
    "### Identify which arcs you want to run:\n",
    "arcs_files = [ \n",
    "            '030914', # 1\n",
    "             ]\n",
    "\n",
    "#------ A dictionary containing the run parameters ------  \n",
    "run_params = {} \n",
    "run_params['arc']              =   arcs_files\n",
    "run_params['satellite']        =  'starlette'  \n",
    "run_params['den_model']        =  'msis2'  \n",
    "run_params['SpecialRun_name']  =  ''  \n",
    "run_params['verbose']          =  False\n",
    "run_params['action']           =  'run'\n",
    "run_params['request_data']      = ['AdjustedParams',\n",
    "#                                      'Trajectory_xyz',\n",
    "#                                      'Trajectory_orbfil',\n",
    "                                     'Density',\n",
    "#                                      'Residuals_obs',\n",
    "#                                      'Residuals_summary',\n",
    "#                                      'Statistics', \n",
    "                                   ]\n",
    "\n",
    "\n",
    "\n",
    "\n",
    "\n",
    "\n",
    "\n",
    "\n",
    "sys.path.insert(0, '/data/geodyn_proj/pygeodyn/utils_pygeodyn_develop/')\n",
    "from PYGEODYN import Pygeodyn\n",
    "\n",
    "\n",
    "#### ---------------------------------------------\n",
    "####\n",
    "#### ----------------- RUN MSIS2.0 --------------- \n",
    "####\n",
    "#### ---------------------------------------------\n",
    "\n",
    "##### Use copy.deepcopy to copy all levels of dictionary and \n",
    "###       allow modification of new variable\n",
    "run_params1 = copy.deepcopy(run_params)\n",
    "run_params1['den_model']         =  'msis2'  \n",
    "run_params1['action']            =  'read'\n",
    "\n",
    "\n",
    "\n",
    "# ### Run pyeodyn for the arcs in the above set.\n",
    "# Obj_Geodyn = Pygeodyn(run_params1)\n",
    "# Obj_Geodyn.RUN_GEODYN()\n",
    "\n",
    "\n",
    "# ### READ Data for the arcs in the above set.\n",
    "Obj_Geodyn1 = Pygeodyn(run_params1)\n",
    "Obj_Geodyn1.getData()\n"
   ]
  },
  {
   "cell_type": "code",
   "execution_count": null,
   "id": "9d8e3c2d",
   "metadata": {
    "ExecuteTime": {
     "end_time": "2021-06-01T19:37:58.270002Z",
     "start_time": "2021-06-01T19:37:52.525Z"
    }
   },
   "outputs": [],
   "source": [
    "import os\n",
    "os.name"
   ]
  },
  {
   "cell_type": "code",
   "execution_count": null,
   "id": "backed-jackson",
   "metadata": {
    "ExecuteTime": {
     "end_time": "2021-06-01T19:37:58.270842Z",
     "start_time": "2021-06-01T19:37:52.527Z"
    }
   },
   "outputs": [],
   "source": [
    "# run_params = {} \n",
    "# run_params['run_ID']           =  'Run_Arc_1'  \n",
    "# run_params['arc']              =  [ '030914_2wk',\n",
    "# #                                     '030928_2wk',\n",
    "# #                                     '031012_2wk',\n",
    "# #                                     '031026_2wk',\n",
    "# #                                     '031109_2wk',\n",
    "# #                                     '031123_2wk',\n",
    "# #                                     '031207_2wk',\n",
    "# #                                     '031221_2wk',\n",
    "#                                     ]  \n",
    "# run_params['satellite']        =  'starlette'  \n",
    "# run_params['den_model']        =  'msis2'  \n",
    "# run_params['empirical_accels'] =  False  \n",
    "# run_params['SpecialRun_name']  =  '_developer_test'  \n",
    "# run_params['options_in']       =  {'DRHODZ_update':True}  \n",
    "# run_params['verbose']          =  False  \n"
   ]
  },
  {
   "cell_type": "code",
   "execution_count": null,
   "id": "unexpected-personality",
   "metadata": {
    "ExecuteTime": {
     "end_time": "2021-06-01T19:37:58.271556Z",
     "start_time": "2021-06-01T19:37:52.529Z"
    }
   },
   "outputs": [],
   "source": [
    "# Obj_data = pyGeodyn_Readers(run_params)"
   ]
  },
  {
   "cell_type": "code",
   "execution_count": null,
   "id": "increased-boring",
   "metadata": {
    "ExecuteTime": {
     "end_time": "2021-06-01T19:37:58.272296Z",
     "start_time": "2021-06-01T19:37:52.531Z"
    }
   },
   "outputs": [],
   "source": [
    "# Obj_data.getData_All()"
   ]
  },
  {
   "cell_type": "code",
   "execution_count": 2,
   "id": "11018430",
   "metadata": {
    "ExecuteTime": {
     "end_time": "2021-06-01T19:38:27.328426Z",
     "start_time": "2021-06-01T19:38:02.637155Z"
    }
   },
   "outputs": [
    {
     "name": "stdout",
     "output_type": "stream",
     "text": [
      "The autoreload extension is already loaded. To reload it, use:\n",
      "  %reload_ext autoreload\n",
      "1a ---- check -- init Pygeodyn class\n",
      "                      ......... READ GEODYN output\n",
      "icesat2\n",
      "inherit Satellite_ICESat2 \n",
      "3 icesat ---- check ---- init Satellite_ICESat2 class\n",
      "4 icesat ---- check ---- init set_file_paths_for_multiple_arcs class\n",
      "4 icesat ---- check ---- init set_file_paths_for_multiple_arcs class\n",
      "     Loading ... icesat2_2018313_54hr.msis2 \n"
     ]
    }
   ],
   "source": [
    "%load_ext autoreload\n",
    "%autoreload 2\n",
    "import copy\n",
    "import time\n",
    "import sys  \n",
    "\n",
    "\n",
    "### Identify which arcs you want to run:\n",
    "arcs_files = [ \n",
    "            '2018.313', # 1\n",
    "             ]\n",
    "\n",
    "#------ A dictionary containing the run parameters ------  \n",
    "run_params = {} \n",
    "run_params['arc']              =   arcs_files\n",
    "run_params['satellite']        =  'icesat2'  \n",
    "run_params['den_model']        =  'msis2'  \n",
    "run_params['SpecialRun_name']  =  '_TrajAnalysis_1'  \n",
    "run_params['verbose']          =  False\n",
    "run_params['action']           =  'run'\n",
    "run_params['request_data']      = ['AdjustedParams',\n",
    "#                                      'Trajectory_xyz',\n",
    "#                                      'Trajectory_orbfil',\n",
    "                                     'Density',\n",
    "#                                      'Residuals_obs',\n",
    "#                                      'Residuals_summary',\n",
    "#                                      'Statistics', \n",
    "                                   ]\n",
    "\n",
    "\n",
    "sys.path.insert(0, '/data/geodyn_proj/pygeodyn/utils_pygeodyn_develop/')\n",
    "from PYGEODYN import Pygeodyn\n",
    "\n",
    "\n",
    "#### ---------------------------------------------\n",
    "####\n",
    "#### ----------------- RUN MSIS2.0 --------------- \n",
    "####\n",
    "#### ---------------------------------------------\n",
    "\n",
    "##### Use copy.deepcopy to copy all levels of dictionary and \n",
    "###       allow modification of new variable\n",
    "run_params1 = copy.deepcopy(run_params)\n",
    "run_params1['den_model']         =  'msis2'  \n",
    "run_params1['action']            =  'read'\n",
    "\n",
    "\n",
    "\n",
    "# ### Run pyeodyn for the arcs in the above set.\n",
    "# Obj_Geodyn = Pygeodyn(run_params1)\n",
    "# Obj_Geodyn.RUN_GEODYN()\n",
    "\n",
    "\n",
    "# ### READ Data for the arcs in the above set.\n",
    "Obj_Geodyn1 = Pygeodyn(run_params1)\n",
    "# Obj_Geodyn1 = Pygeodyn(run_params1)\n",
    "# Obj_Geodyn1.get_SAT(run_params1['satellite'])\n",
    "Obj_Geodyn1.getData()\n"
   ]
  },
  {
   "cell_type": "code",
   "execution_count": null,
   "id": "6158ec91",
   "metadata": {
    "ExecuteTime": {
     "end_time": "2021-06-01T19:37:58.273788Z",
     "start_time": "2021-06-01T19:37:52.535Z"
    }
   },
   "outputs": [],
   "source": [
    "Obj_Geodyn1.__dict__"
   ]
  }
 ],
 "metadata": {
  "kernelspec": {
   "display_name": "Python 3",
   "language": "python",
   "name": "python3"
  },
  "language_info": {
   "codemirror_mode": {
    "name": "ipython",
    "version": 3
   },
   "file_extension": ".py",
   "mimetype": "text/x-python",
   "name": "python",
   "nbconvert_exporter": "python",
   "pygments_lexer": "ipython3",
   "version": "3.8.8"
  },
  "toc": {
   "base_numbering": 1,
   "nav_menu": {},
   "number_sections": true,
   "sideBar": true,
   "skip_h1_title": false,
   "title_cell": "Table of Contents",
   "title_sidebar": "Contents",
   "toc_cell": false,
   "toc_position": {},
   "toc_section_display": true,
   "toc_window_display": false
  },
  "varInspector": {
   "cols": {
    "lenName": 16,
    "lenType": 16,
    "lenVar": 40
   },
   "kernels_config": {
    "python": {
     "delete_cmd_postfix": "",
     "delete_cmd_prefix": "del ",
     "library": "var_list.py",
     "varRefreshCmd": "print(var_dic_list())"
    },
    "r": {
     "delete_cmd_postfix": ") ",
     "delete_cmd_prefix": "rm(",
     "library": "var_list.r",
     "varRefreshCmd": "cat(var_dic_list()) "
    }
   },
   "types_to_exclude": [
    "module",
    "function",
    "builtin_function_or_method",
    "instance",
    "_Feature"
   ],
   "window_display": false
  }
 },
 "nbformat": 4,
 "nbformat_minor": 5
}
