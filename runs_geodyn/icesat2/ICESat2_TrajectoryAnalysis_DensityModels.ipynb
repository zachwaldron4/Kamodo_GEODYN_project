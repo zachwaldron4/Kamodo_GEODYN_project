{
 "cells": [
  {
   "cell_type": "markdown",
   "id": "6bd8062b",
   "metadata": {},
   "source": [
    "# A Trajectory Analysis using the ICESat2 Satellite\n",
    "\n",
    "\n",
    "\n",
    "**Overview of the steps involved:**\n",
    "\n",
    "1. Get very high-fidelity orbit trajectory information of the primary satellite:\n",
    "   - This can be done using a POD-reduced dynamics run in which all empirical accelerations and other parameters are used to compensate for any mismodelled forces.\n",
    "   - This has already been done for our purposes.\n",
    "\n",
    "2. Do a run of GEODYN in which the orbit trajectory IS the tracking datatype (PCE).\n",
    "   - Use this run type to do all density model assessments\n",
    "   - The residuals will be the difference from the truth.\n",
    "\n",
    "3. Methods for assessing the density models (using trajectory run type):\n",
    "  -  General fit (residuals and RMS)\n",
    "  -  Arc overlap\n",
    "        - If any arcs overlap, look at how well different density models provide consistency between overlapping arcs\n",
    "  - Test of prediction\n",
    "        - Do a fit from t1 to t2 and then predict to some t3.  If the density model is better, the difference between predicted orbit (t2 to t3) and the precise trajectory (PCE data) will contain how well the model is doing.  \n",
    "\n",
    "\n",
    "\n"
   ]
  },
  {
   "cell_type": "markdown",
   "id": "90b3c31c",
   "metadata": {},
   "source": [
    "## Step 0:  Pre-processing the PCE data into a G2B file\n",
    "\n",
    "We will construct a `G2B_PCE`file from a set of binary `.rvg` files which contain trajectory output from a reduced-dynamics run of GEODYN. The files will be stitched together to create a the GEODYN-specific, trajectory-based tracking data type (called PCE (Precice-Clock-Error) ) and stored in a G2B file.\n",
    "\n",
    "Each `.rvg` file contains a **30-hour arc of ICESat2 trajectory data**.  These datasets are the output from a very precise run of GEODYN in which the orbit has been determined very well (*to a few centimeters accuracy*) using a **reduced dynamics technique** (*empirical accelerations and other parameters are adjusted to account for any mismodelled forces)*.\n",
    "\n",
    "The process that takes place in `pygeodyn` is as follows:\n",
    "  1. dump the data from each arc into a usable format\n",
    "  2. chop of the 3 hour padding on the ends to eliminate discontinuities from end effects\n",
    "  3. stitch together all the files\n",
    "  4. smooth over any existing discontinuities between arc gaps or maneuvers.\n",
    "  5. All data is placed in a single `TRAJ.txt` file which is then fed into a Fortran script (`pce_converer.f`) which converts the data into a `G2B` file to be ingested on `fort.40` of the GEODYN run.\n",
    "\n",
    "### PygeodynPreprocessing\n"
   ]
  },
  {
   "cell_type": "code",
   "execution_count": 1,
   "id": "549bc5e1",
   "metadata": {
    "ExecuteTime": {
     "end_time": "2021-06-08T16:56:30.350550Z",
     "start_time": "2021-06-08T16:56:30.338810Z"
    }
   },
   "outputs": [],
   "source": [
    "import copy"
   ]
  },
  {
   "cell_type": "code",
   "execution_count": 2,
   "id": "46281b0f",
   "metadata": {
    "ExecuteTime": {
     "end_time": "2021-06-08T16:57:00.405668Z",
     "start_time": "2021-06-08T16:56:30.708113Z"
    }
   },
   "outputs": [
    {
     "name": "stdout",
     "output_type": "stream",
     "text": [
      "      Running through the pre-processing procedure...\n",
      "      =======================================================\n",
      "      STEP 1: Convert RVG binary files to pandas DataFrame...\n",
      "      =======================================================\n",
      "      Loading and processing 13 files will take approx. 11.81 minutes. \n",
      "            Not including unzipping/zipping times\n",
      "\n",
      "      --- File 1 / 13 \n",
      "      ----- Unzipping file... orbit.1807001.2018.331\n",
      "      ----- The file has ~109434 records. Will take ~54 seconds\n",
      "      ----- End of file\n",
      "      Zipping file... orbit.1807001.2018.331\n",
      "\n",
      "      --- File 2 / 13 \n",
      "      ----- Unzipping file... orbit.1807001.2018.334\n",
      "      ----- The file has ~109434 records. Will take ~54 seconds\n",
      "      ----- End of file\n",
      "      Zipping file... orbit.1807001.2018.334\n",
      "\n",
      "      --- File 3 / 13 \n",
      "      ----- Unzipping file... orbit.1807001.2018.335\n",
      "      ----- The file has ~109434 records. Will take ~54 seconds\n",
      "      ----- End of file\n",
      "      Zipping file... orbit.1807001.2018.335\n",
      "\n",
      "      --- File 4 / 13 \n",
      "      ----- Unzipping file... orbit.1807001.2018.336\n",
      "      ----- The file has ~109434 records. Will take ~54 seconds\n",
      "      ----- End of file\n",
      "      Zipping file... orbit.1807001.2018.336\n",
      "\n",
      "      --- File 5 / 13 \n",
      "      ----- Unzipping file... orbit.1807001.2018.337\n",
      "      ----- The file has ~109434 records. Will take ~54 seconds\n",
      "      ----- End of file\n",
      "      Zipping file... orbit.1807001.2018.337\n",
      "\n",
      "      --- File 6 / 13 \n",
      "      ----- Unzipping file... orbit.1807001.2018.338\n",
      "      ----- The file has ~109434 records. Will take ~54 seconds\n",
      "      ----- End of file\n",
      "      Zipping file... orbit.1807001.2018.338\n",
      "\n",
      "      --- File 7 / 13 \n",
      "      ----- Unzipping file... orbit.1807001.2018.341\n",
      "      ----- The file has ~109434 records. Will take ~54 seconds\n",
      "      ----- End of file\n",
      "      Zipping file... orbit.1807001.2018.341\n",
      "\n",
      "      --- File 8 / 13 \n",
      "      ----- Unzipping file... orbit.1807001.2018.345\n",
      "      ----- The file has ~109434 records. Will take ~54 seconds\n",
      "      ----- End of file\n",
      "      Zipping file... orbit.1807001.2018.345\n",
      "\n",
      "      --- File 9 / 13 \n",
      "      ----- Unzipping file... orbit.1807001.2018.348\n",
      "      ----- The file has ~109434 records. Will take ~54 seconds\n",
      "      ----- End of file\n",
      "      Zipping file... orbit.1807001.2018.348\n",
      "\n",
      "      --- File 10 / 13 \n",
      "      ----- Unzipping file... orbit.1807001.2018.349\n",
      "      ----- The file has ~109434 records. Will take ~54 seconds\n",
      "      ----- End of file\n",
      "      Zipping file... orbit.1807001.2018.349\n",
      "\n",
      "      --- File 11 / 13 \n",
      "      ----- Unzipping file... orbit.1807001.2018.351\n",
      "      ----- The file has ~109434 records. Will take ~54 seconds\n",
      "      ----- End of file\n",
      "      Zipping file... orbit.1807001.2018.351\n",
      "\n",
      "      --- File 12 / 13 \n",
      "      ----- Unzipping file... orbit.1807001.2018.352\n",
      "      ----- The file has ~109434 records. Will take ~54 seconds\n",
      "      ----- End of file\n",
      "      Zipping file... orbit.1807001.2018.352\n",
      "\n",
      "      --- File 13 / 13 \n",
      "      ----- Unzipping file... orbit.1807001.2018.353\n",
      "      ----- The file has ~109434 records. Will take ~54 seconds\n",
      "      ----- End of file\n",
      "      Zipping file... orbit.1807001.2018.353\n",
      "\n",
      "\n",
      "      =======================================================\n",
      "      STEP 3: Make ASCII.txt file to be read by FORTRAN code.\n",
      "      =======================================================\n",
      "\n",
      "\n",
      "      =======================================================\n",
      "      STEP 4: Call fortran code to construct G2B file. \n",
      "      =======================================================\n",
      "\n",
      "pce_fortran.f compiled\n",
      "pce_fortran.f executed\n",
      "\n",
      "The G2B file has been saved to:  /data/data_geodyn/inputs/icesat2/g2b/ g2b_pce .gz\n"
     ]
    }
   ],
   "source": [
    "%load_ext autoreload\n",
    "%autoreload 2\n",
    "\n",
    "import sys\n",
    "sys.path.insert(0,'/data/geodyn_proj/pygeodyn/pygeodyn_develop/util_preprocessing/')\n",
    "from PYGEODYN_Preprocess import PygeodynPreprocessing\n",
    "\n",
    "path_to_prep_directory = '/data/data_geodyn/inputs/icesat2/pre_processing'\n",
    "path_to_binaryrvg     = '/data/data_geodyn/inputs/icesat2/pre_processing/traj_files_rvg'\n",
    "\n",
    "arc1_files = [\n",
    "              'orbit.1807001.2018.331',\n",
    "              'orbit.1807001.2018.334',\n",
    "              'orbit.1807001.2018.335',\n",
    "              'orbit.1807001.2018.336',\n",
    "              'orbit.1807001.2018.337',\n",
    "              'orbit.1807001.2018.338',\n",
    "              'orbit.1807001.2018.341',\n",
    "              'orbit.1807001.2018.345',\n",
    "              'orbit.1807001.2018.348',\n",
    "              'orbit.1807001.2018.349',\n",
    "              'orbit.1807001.2018.351',\n",
    "              'orbit.1807001.2018.352',\n",
    "              'orbit.1807001.2018.353',\n",
    "                ]\n",
    "\n",
    "##### Uncomment the below call to overwrite the G2B data by re-running the pre-processing code\n",
    "Obj = PygeodynPreprocessing(path_to_binaryrvg, path_to_prep_directory,  arc1_files)\n",
    "Obj.run_preprocess_PCE()\n",
    "\n",
    "\n",
    "# break"
   ]
  },
  {
   "cell_type": "markdown",
   "id": "b6e5b085",
   "metadata": {},
   "source": [
    "## Step 1: Run GEODYN using Pygeodyn with the ICESat2 configuration\n",
    "\n",
    "As a reminder, PYGEODYN is called with the `PYGEODYN` class, but modifications to the ICESAT2 configuration are largely controlled through the `Satellite_ICESat2` class in the `PYGEODYN_Satellites.py` file.   Please refer to this file first for file structure setups and modifications to the Pygeodyn structure.\n",
    " \n",
    "### Step 1.1:  Run with MSIS2\n"
   ]
  },
  {
   "cell_type": "code",
   "execution_count": null,
   "id": "5f5471ce",
   "metadata": {
    "ExecuteTime": {
     "end_time": "2021-06-02T18:51:07.236419Z",
     "start_time": "2021-06-02T18:51:07.217532Z"
    }
   },
   "outputs": [],
   "source": [
    "### Identify which arcs you want to run:\n",
    "arcs_files = [ \n",
    "            '2018.313', # 1\n",
    "            '2018.314', # 2\n",
    "            '2018.315', # 3\n",
    "            '2018.316', # 4\n",
    "            '2018.317', # 5\n",
    "#             '2018.318', # 6\n",
    "#             '2018.319', # 7\n",
    "#             '2018.320', # 8\n",
    "#             '2018.321', # 9\n",
    "#             '2018.322', # 10\n",
    "             ]\n",
    "\n",
    "#------ A dictionary containing the run parameters ------  \n",
    "run_params = {} \n",
    "run_params['arc']              =   arcs_files\n",
    "run_params['satellite']        =  'icesat2'  \n",
    "run_params['den_model']        =  'msis2'  \n",
    "run_params['SpecialRun_name']  =  '_TrajAnalysis'  \n",
    "run_params['verbose']          =  False\n",
    "run_params['action']           =  'run'\n"
   ]
  },
  {
   "cell_type": "code",
   "execution_count": null,
   "id": "cec95444",
   "metadata": {
    "ExecuteTime": {
     "end_time": "2021-06-02T18:51:07.264709Z",
     "start_time": "2021-06-02T18:51:07.238451Z"
    }
   },
   "outputs": [],
   "source": [
    "%load_ext autoreload\n",
    "%autoreload 2\n",
    "\n",
    "sys.path.insert(0, '/data/geodyn_proj/pygeodyn/pygeodyn_develop/')\n",
    "from PYGEODYN import Pygeodyn\n",
    "\n",
    "\n",
    "#### ---------------------------------------------\n",
    "####\n",
    "#### ----------------- RUN MSIS2.0 --------------- \n",
    "####\n",
    "#### ---------------------------------------------\n",
    "\n",
    "##### Use copy.deepcopy to copy all levels of dictionary and \n",
    "###       allow modification of new variable\n",
    "run_params1 = copy.deepcopy(run_params)\n",
    "run_params1['den_model'] =  'msis2'  \n",
    "\n",
    "# ### Run pyeodyn for the arcs in the above set.\n",
    "# Obj_Geodyn = Pygeodyn(run_params1)\n",
    "# Obj_Geodyn.RUN_GEODYN()\n"
   ]
  },
  {
   "cell_type": "markdown",
   "id": "450c52c4",
   "metadata": {},
   "source": [
    "### Step  1.2: Run with DTM87 for comparison\n"
   ]
  },
  {
   "cell_type": "code",
   "execution_count": null,
   "id": "6319b2ba",
   "metadata": {
    "ExecuteTime": {
     "end_time": "2021-06-02T18:51:07.289982Z",
     "start_time": "2021-06-02T18:51:07.266442Z"
    }
   },
   "outputs": [],
   "source": [
    "%load_ext autoreload\n",
    "%autoreload 2\n",
    "\n",
    "sys.path.insert(0, '/data/geodyn_proj/pygeodyn/pygeodyn_develop/')\n",
    "from PYGEODYN import Pygeodyn\n",
    "\n",
    "#### ---------------------------------------------\n",
    "####\n",
    "#### ------------------- RUN DTM ----------------- \n",
    "####\n",
    "#### ---------------------------------------------\n",
    "\n",
    "\n",
    "##### Use copy.deepcopy to copy all levels of dictionary and \n",
    "###       allow modification of new variable\n",
    "run_params2                      = copy.deepcopy(run_params)\n",
    "run_params2['den_model']         =  'dtm87'  \n",
    "\n",
    "### Run pyeodyn for the arcs in the above set.\n",
    "# Obj_Geodyn = Pygeodyn(run_params2)\n",
    "# Obj_Geodyn.RUN_GEODYN()\n"
   ]
  },
  {
   "cell_type": "markdown",
   "id": "c3fb3c2e",
   "metadata": {},
   "source": [
    "### Step  1.2: Run with Jaachia 71 Model for comparison\n"
   ]
  },
  {
   "cell_type": "code",
   "execution_count": null,
   "id": "5624628a",
   "metadata": {
    "ExecuteTime": {
     "end_time": "2021-06-02T18:51:07.314172Z",
     "start_time": "2021-06-02T18:51:07.291497Z"
    }
   },
   "outputs": [],
   "source": [
    "%load_ext autoreload\n",
    "%autoreload 2\n",
    "\n",
    "sys.path.insert(0, '/data/geodyn_proj/pygeodyn/pygeodyn_develop/')\n",
    "from PYGEODYN import Pygeodyn\n",
    "\n",
    "\n",
    "#### ----------------------------------------------\n",
    "####\n",
    "#### ----------------- RUN JAACHIA ----------------- \n",
    "####\n",
    "#### ----------------------------------------------\n",
    "\n",
    "##### Use copy.deepcopy to copy all levels of dictionary and \n",
    "###       allow modification of new variable\n",
    "run_params3 = copy.deepcopy(run_params)\n",
    "run_params3['den_model']         =  'jaachia71'  \n",
    "\n",
    "\n",
    "##### Run pyeodyn for the arcs in the above set.\n",
    "# Obj_Geodyn = Pygeodyn(run_params3)\n",
    "# Obj_Geodyn.RUN_GEODYN()\n",
    "\n",
    "    "
   ]
  },
  {
   "cell_type": "markdown",
   "id": "278e0182",
   "metadata": {},
   "source": [
    "## Read GEODYN Output using PygeodynRead functionality\n",
    "\n",
    "### Get MSIS2 Data"
   ]
  },
  {
   "cell_type": "code",
   "execution_count": null,
   "id": "3124889c",
   "metadata": {
    "ExecuteTime": {
     "end_time": "2021-06-02T18:52:32.108807Z",
     "start_time": "2021-06-02T18:51:07.315738Z"
    },
    "scrolled": true,
    "tags": []
   },
   "outputs": [],
   "source": [
    "%load_ext autoreload\n",
    "%autoreload 2\n",
    "\n",
    "import sys  \n",
    "sys.path.insert(0, '/data/geodyn_proj/pygeodyn/pygeodyn_develop/')\n",
    "from PYGEODYN import Pygeodyn\n",
    "\n",
    "#------ A dictionary containing the run parameters ------  \n",
    "run_params1 = {} \n",
    "run_params1['arc']               =  ['2018.313',\n",
    "                                     '2018.314',\n",
    "                                     '2018.315',\n",
    "                                     '2018.316',\n",
    "                                     '2018.317',\n",
    "                                    ] \n",
    "run_params1['satellite']         =  'icesat2'  \n",
    "run_params1['den_model']         =  'msis2'  \n",
    "run_params1['SpecialRun_name']   =  '_TrajAnalysis'  \n",
    "run_params1['verbose']           =  False\n",
    "run_params1['action']            =  'read'\n",
    "run_params1['request_data']      = ['AdjustedParams',\n",
    "                 #                    'Trajectory_xyz',\n",
    "                                    'Trajectory_orbfil',\n",
    "                                    'Density',\n",
    "                                    'Residuals_obs',\n",
    "                                    'Residuals_summary',\n",
    "                                    'Statistics',\n",
    "                                   ]\n",
    "\n",
    "Obj_Geodyn1 = Pygeodyn(run_params1)\n",
    "Obj_Geodyn1.getData()\n"
   ]
  },
  {
   "cell_type": "markdown",
   "id": "c2a929be",
   "metadata": {},
   "source": [
    "### Get DTM87 Data"
   ]
  },
  {
   "cell_type": "code",
   "execution_count": null,
   "id": "00971ebe",
   "metadata": {
    "ExecuteTime": {
     "end_time": "2021-06-02T18:52:32.271907Z",
     "start_time": "2021-06-02T18:51:06.324Z"
    },
    "tags": []
   },
   "outputs": [],
   "source": [
    "%load_ext autoreload\n",
    "%autoreload 2\n",
    "\n",
    "from PYGEODYN import Pygeodyn\n",
    "import copy\n",
    "\n",
    "\n",
    "run_params2 = copy.deepcopy(run_params1)\n",
    "\n",
    "run_params2['den_model']         =  'dtm87'  \n",
    "\n",
    "Obj_Geodyn2 = Pygeodyn(run_params2)\n",
    "Obj_Geodyn2.getData()\n"
   ]
  },
  {
   "cell_type": "markdown",
   "id": "449a039a",
   "metadata": {
    "tags": []
   },
   "source": [
    "### Get Jaachia 71 Data"
   ]
  },
  {
   "cell_type": "code",
   "execution_count": null,
   "id": "cff1cb04",
   "metadata": {
    "ExecuteTime": {
     "end_time": "2021-06-02T18:52:32.272910Z",
     "start_time": "2021-06-02T18:51:06.325Z"
    }
   },
   "outputs": [],
   "source": [
    "%load_ext autoreload\n",
    "%autoreload 2\n",
    "\n",
    "from PYGEODYN import Pygeodyn\n",
    "# import copy\n",
    "\n",
    "\n",
    "run_params3 = copy.deepcopy(run_params1)\n",
    "run_params3['den_model']         =  'jaachia71'  \n",
    "\n",
    "Obj_Geodyn3 = Pygeodyn(run_params3)\n",
    "Obj_Geodyn3.getData()\n"
   ]
  },
  {
   "cell_type": "markdown",
   "id": "7aaee65d",
   "metadata": {},
   "source": [
    "## Analyze output\n",
    "\n",
    "Our analysis has the following output products:\n",
    "\n",
    "1. Residuals of the POD across many arcs\n",
    "2. RMS of fit of the POD across many arcs\n",
    "3. Adjustment of the drag coefficient (drag acceleration to compensate for inaccuracies in the density model.)\n",
    "4. Check of consistency (in the residuals) across overlapping arc times\n",
    "5. RMS of the overlapping residual difference (this removes the PCE contribution)\n",
    "Using the `Orbfil`:\n",
    "6. From ORBFIL grab the overlapping ephemeris and difference the two models. Compare this against the same of prediction\n",
    "    - How well does the predicted time period match up with the determined ephemeris (see this in the resids of the two).\n",
    "7. Calculate and plot the radial component of the trajectory\n",
    "\n",
    "\n",
    "\n",
    "\n",
    "\n",
    "\n",
    "\n",
    "\n",
    "<!-- Our analysis has the following output products:\n",
    "\n",
    "**Per Arc:**  \n",
    "\n",
    "1. Residuals \n",
    "2. RMS of fit of the residuals\n",
    "3. Adjustment of the Drag Coefficient\n",
    "\n",
    "**Per Arc Overlaps:**  \n",
    "\n",
    "4. Check of Consistency\n",
    "5. RMS of the overlap residual difference (this removes the PCE contribution)\n",
    "6. From ORBFIL grab the overlapping ephemeris and difference the two models. Compare this against the same of prediction\n",
    "\n",
    "**Trajectory Prediction:**\n",
    "Use the orbit file to investigate the predicted time period.  \n",
    "\n",
    "6. How well does the predicted time period match up with the determined ephemeris (residuals).\n",
    "\n",
    "\n",
    "\n",
    "\n",
    "CONVERT TO RADIAL COMPONENT! -->"
   ]
  },
  {
   "cell_type": "code",
   "execution_count": null,
   "id": "bc62e6c1",
   "metadata": {
    "ExecuteTime": {
     "end_time": "2021-06-02T18:52:32.273698Z",
     "start_time": "2021-06-02T18:51:06.327Z"
    }
   },
   "outputs": [],
   "source": [
    "import plotly.graph_objects as go\n",
    "from plotly.offline import plot, iplot\n",
    "from plotly.subplots import make_subplots\n",
    "import plotly.express as px\n",
    "\n",
    "\n",
    "config = dict({\n",
    "                'displayModeBar': True,\n",
    "                'responsive': False,\n",
    "#                 'staticPlot': True,\n",
    "                'displaylogo': False,\n",
    "                'showTips': False,\n",
    "                })"
   ]
  },
  {
   "cell_type": "markdown",
   "id": "28528486",
   "metadata": {},
   "source": [
    "### 1. Residuals of the POD across many arcs\n",
    "\n",
    "\n",
    "\n",
    "Resids =  PCE -  POD Trajectory\n",
    "\n",
    "\n",
    "\n"
   ]
  },
  {
   "cell_type": "code",
   "execution_count": null,
   "id": "daf1e568",
   "metadata": {
    "ExecuteTime": {
     "end_time": "2021-06-02T18:52:32.274699Z",
     "start_time": "2021-06-02T18:51:06.329Z"
    }
   },
   "outputs": [],
   "source": [
    "%load_ext autoreload\n",
    "%autoreload 2\n",
    "\n",
    "from PYGEODYNAnalysis_icesat2PCEtrajectory import plot_residual_meas_summary\n",
    "from PYGEODYNAnalysis_icesat2PCEtrajectory import rms_summary_table\n",
    "\n",
    "\n",
    "Obj_list = [Obj_Geodyn1,Obj_Geodyn2,Obj_Geodyn3,]\n",
    "rms_summary_table(Obj_list)\n",
    "\n",
    "\n",
    "\n",
    "fig = make_subplots(rows=2, cols=1, \n",
    "     subplot_titles=([\"Mean Residuals per Arc\", 'RMS of Fit per Arc']),\n",
    "     vertical_spacing = 0.1)\n",
    "fig = plot_residual_meas_summary(fig, Obj_Geodyn2, 0)\n",
    "fig = plot_residual_meas_summary(fig, Obj_Geodyn3, 1)\n",
    "fig = plot_residual_meas_summary(fig, Obj_Geodyn1, 2)\n",
    "fig.show(config=config)\n",
    "\n"
   ]
  },
  {
   "cell_type": "code",
   "execution_count": null,
   "id": "5d127601",
   "metadata": {
    "ExecuteTime": {
     "end_time": "2021-06-02T18:52:32.275514Z",
     "start_time": "2021-06-02T18:51:06.331Z"
    }
   },
   "outputs": [],
   "source": [
    "%load_ext autoreload\n",
    "%autoreload 2\n",
    "\n",
    "from PYGEODYNAnalysis_icesat2PCEtrajectory import plot_residuals_observed\n",
    "\n",
    "\n",
    "\n",
    "fig = make_subplots(rows=3, cols=1, \n",
    "            subplot_titles=(['X', 'Y', 'Z']),\n",
    "            vertical_spacing = 0.1,\n",
    "                       )\n",
    "\n",
    "fig = plot_residuals_observed(fig, Obj_Geodyn2, 0)\n",
    "fig = plot_residuals_observed(fig, Obj_Geodyn3, 1)\n",
    "fig = plot_residuals_observed(fig, Obj_Geodyn1, 2)\n",
    "\n",
    "fig.update_layout(title=\"Observation Residuals (PCE - Observed , T.O.R.)\")\n",
    "\n",
    "fig.show(config=config)\n"
   ]
  },
  {
   "cell_type": "code",
   "execution_count": null,
   "id": "1214835e",
   "metadata": {
    "ExecuteTime": {
     "end_time": "2021-06-02T18:52:32.276282Z",
     "start_time": "2021-06-02T18:51:06.332Z"
    }
   },
   "outputs": [],
   "source": [
    "%load_ext autoreload\n",
    "%autoreload 2\n",
    "from PYGEODYNAnalysis_icesat2PCEtrajectory import plot_cd_and_percdiff_from_apriori\n",
    "\n",
    "\n",
    "fig = make_subplots(\n",
    "    rows=2, cols=1,\n",
    "    subplot_titles=([\"Timeseries of Cd\", \"Percent difference from a priori (Cd=2.2)\"]),\n",
    "    vertical_spacing = 0.08,\n",
    "    )\n",
    "fig = plot_cd_and_percdiff_from_apriori(fig,  Obj_Geodyn2, 0)\n",
    "fig = plot_cd_and_percdiff_from_apriori(fig,  Obj_Geodyn3, 1)\n",
    "fig = plot_cd_and_percdiff_from_apriori(fig,  Obj_Geodyn1, 2)\n",
    "\n",
    "\n",
    "fig.show(config=config)"
   ]
  },
  {
   "cell_type": "code",
   "execution_count": null,
   "id": "40382c65",
   "metadata": {
    "ExecuteTime": {
     "end_time": "2021-06-02T18:52:32.277022Z",
     "start_time": "2021-06-02T18:51:06.334Z"
    }
   },
   "outputs": [],
   "source": [
    "%load_ext autoreload\n",
    "%autoreload 2\n",
    "\n",
    "from PYGEODYNAnalysis_icesat2PCEtrajectory import plot_ScaleDensity_with_CdScaleFactor__2\n",
    "\n",
    "fig = make_subplots(rows=2, cols=1,\n",
    "                subplot_titles=([\"Model Ouptut Density\", \"Model Density * Cd Scaling Factor\"]),\n",
    "                shared_yaxes=True,\n",
    "                vertical_spacing = 0.1,\n",
    "                specs=[\n",
    "                [{\"secondary_y\": False}],\n",
    "                [{\"secondary_y\": False}], ])\n",
    "\n",
    "\n",
    "fig = plot_ScaleDensity_with_CdScaleFactor__2(fig,  Obj_Geodyn2, 0, 200)\n",
    "fig = plot_ScaleDensity_with_CdScaleFactor__2(fig,  Obj_Geodyn3, 1, 200)\n",
    "fig = plot_ScaleDensity_with_CdScaleFactor__2(fig,  Obj_Geodyn1, 2, 200)\n",
    "\n",
    "# min_y = 1*1e-16\n",
    "# max_y = 9*1e-12\n",
    "# fig.update_yaxes(range=[min_y, max_y], row=1, col=1)\n",
    "# fig.update_yaxes(range=[min_y, max_y], row=2, col=1)\n",
    "\n",
    "fig.show(config=config)\n"
   ]
  },
  {
   "cell_type": "markdown",
   "id": "a2b1985b",
   "metadata": {},
   "source": [
    "### Looking at the arc overlap time:\n",
    "\n",
    "We want to show the residuals in the overlap time with the PCE data subtracted away.\n",
    "\n"
   ]
  },
  {
   "cell_type": "code",
   "execution_count": null,
   "id": "c5513a7f",
   "metadata": {
    "ExecuteTime": {
     "end_time": "2021-06-02T18:52:32.277759Z",
     "start_time": "2021-06-02T18:51:06.336Z"
    }
   },
   "outputs": [],
   "source": [
    "####  ARC_OVERLAP_ObsResids_XYZ\n",
    "\n",
    "%load_ext autoreload\n",
    "%autoreload 2\n",
    "\n",
    "from PYGEODYNAnalysis_icesat2PCEtrajectory import ARCOVERLAP_2arcs_ObsResids_XYZ\n",
    "\n",
    "fig = make_subplots(rows=3, cols=1, \n",
    "            subplot_titles=(['X', 'Y', 'Z']),\n",
    "            vertical_spacing = 0.1,\n",
    "            specs=[ [{\"secondary_y\": True }],\n",
    "                    [{\"secondary_y\": True }], \n",
    "                    [{\"secondary_y\": True }], ],)\n",
    "\n",
    "arc1 = '2018.314'  # '2018.314'\n",
    "arc2 = '2018.315'\n",
    "\n",
    "fig = ARCOVERLAP_2arcs_ObsResids_XYZ(fig, Obj_Geodyn2, 0, arc1, arc2)\n",
    "fig = ARCOVERLAP_2arcs_ObsResids_XYZ(fig, Obj_Geodyn3, 1, arc1, arc2)\n",
    "fig = ARCOVERLAP_2arcs_ObsResids_XYZ(fig, Obj_Geodyn1, 2, arc1, arc2)\n",
    "\n",
    "fig.show(config=config)\n"
   ]
  },
  {
   "cell_type": "markdown",
   "id": "c030a99f",
   "metadata": {},
   "source": [
    "## PCE Data and the Orbit File:"
   ]
  },
  {
   "cell_type": "markdown",
   "id": "cc79ce58",
   "metadata": {},
   "source": [
    "### Residual Component Trajectory:\n",
    "\n",
    "Convert the Interial XYZ coordinates to the satellite coordinate system (RSW), then plot the radial component.\n"
   ]
  },
  {
   "cell_type": "markdown",
   "id": "3bc689c2",
   "metadata": {},
   "source": [
    "**Starting Systems:**\n",
    "- `PCE data`\n",
    "   - J2000 Coordinate System\n",
    "   - Inertial satellite State Vector: $[x, y, z, \\dot{x}, \\dot{y}, \\dot{z}]$ (m)\n",
    "- `ORBFIL data`\n",
    "   - Mean of year Coordinate System\n",
    "   - Inertial satellite State Vector: $[x, y, z, \\dot{x}, \\dot{y}, \\dot{z}]$ (m)\n",
    "\n",
    "**Convert from `XYZ` to `RSW`**\n",
    "\n",
    "\n",
    "\n",
    "From Vallado pg. 164:\n",
    "<!-- \n",
    "\n",
    "$$ \\hat{R} = \\frac{\\vec{r}}{\\lvert\\vec{r}\\rvert}$$\n",
    "\n",
    "$$ \\hat{W} = \\frac{\\vec{r} \\times \\vec{v}}{\\lvert \\vec{r} \\times \\vec{v}   \\rvert}$$\n",
    "\n",
    "$$ \\hat{S} = \\hat{W} \\times \\hat{R}$$\n",
    "\n",
    "These allow the transformation:\n",
    "\n",
    "$$ \\vec{r}_{IJK} = \\big[\\hat{R} \\vdots \\hat{S} \\vdots \\hat{W}\\big] \\,\\, \\vec{r}_{RSW}  $$\n",
    "\n",
    "Such that R, S, and W spans the columns of the transformation matrix above.\n",
    "\n",
    "We then rearrange to get our final equation:\n",
    "\n",
    "$$ T = \\big[\\hat{R} \\vdots \\hat{S} \\vdots \\hat{W}\\big]$$\n",
    "\n",
    "$$ \\vec{r}_{IJK} = T \\,\\, \\vec{r}_{RSW}  $$\n",
    "\n",
    "$$ T^{-1} \\vec{r}_{IJK} = (T^{-1} T)\\,\\, \\vec{r}_{RSW}  $$\n",
    "\n",
    "$$  \\vec{r}_{RSW} =  T^{-1} \\vec{r}_{IJK}   $$\n",
    "\n",
    " -->"
   ]
  },
  {
   "cell_type": "code",
   "execution_count": null,
   "id": "e856b8e9",
   "metadata": {
    "ExecuteTime": {
     "end_time": "2021-06-02T18:52:32.278484Z",
     "start_time": "2021-06-02T18:51:06.339Z"
    }
   },
   "outputs": [],
   "source": [
    "\n",
    "%load_ext autoreload\n",
    "%autoreload 2\n",
    "\n",
    "from PYGEODYNAnalysis_icesat2PCEtrajectory import ARCOVERLAP_2arcs_ObsResids_RSW_radial\n",
    "\n",
    "fig = make_subplots(rows=2, cols=1, \n",
    "            subplot_titles=(['Radial Component', 'Residual (PCE-ORBFIL)']),\n",
    "            vertical_spacing = 0.2,\n",
    "            specs=[ [{\"secondary_y\": False }],\n",
    "                    [{\"secondary_y\": False }]],)\n",
    "\n",
    "arc1 = '2018.314'\n",
    "arc2 = '2018.315'\n",
    "\n",
    "fig = ARCOVERLAP_2arcs_ObsResids_RSW_radial(fig, Obj_Geodyn2, 0, arc1, arc2)\n",
    "fig = ARCOVERLAP_2arcs_ObsResids_RSW_radial(fig, Obj_Geodyn3, 1, arc1, arc2)\n",
    "fig = ARCOVERLAP_2arcs_ObsResids_RSW_radial(fig, Obj_Geodyn1, 2, arc1, arc2)\n",
    "\n",
    "fig.show(config=config)\n"
   ]
  },
  {
   "cell_type": "code",
   "execution_count": null,
   "id": "9e1a4a3d",
   "metadata": {
    "ExecuteTime": {
     "end_time": "2021-06-02T18:52:32.279249Z",
     "start_time": "2021-06-02T18:51:06.341Z"
    }
   },
   "outputs": [],
   "source": [
    "\n",
    "%load_ext autoreload\n",
    "%autoreload 2\n",
    "\n",
    "from PYGEODYNAnalysis_icesat2PCEtrajectory import ARCOVERLAP_2arcs_ObsResids_NTW_intrack\n",
    "\n",
    "fig = make_subplots(rows=2, cols=1, \n",
    "            subplot_titles=(['In-Track Component', 'Residual (PCE-ORBFIL)']),\n",
    "            vertical_spacing = 0.2,\n",
    "            specs=[ [{\"secondary_y\": False }],\n",
    "                    [{\"secondary_y\": False }]],)\n",
    "\n",
    "arc1 = '2018.314'\n",
    "arc2 = '2018.315'\n",
    "\n",
    "fig = ARCOVERLAP_2arcs_ObsResids_NTW_intrack(fig, Obj_Geodyn2, 0, arc1, arc2)\n",
    "fig = ARCOVERLAP_2arcs_ObsResids_NTW_intrack(fig, Obj_Geodyn3, 1, arc1, arc2)\n",
    "fig = ARCOVERLAP_2arcs_ObsResids_NTW_intrack(fig, Obj_Geodyn1, 2, arc1, arc2)\n",
    "\n",
    "fig.show(config=config)\n"
   ]
  },
  {
   "cell_type": "markdown",
   "id": "0fb62e13",
   "metadata": {},
   "source": [
    "<!-- ### Check how well the PCE file and the ORBIT file match up -->"
   ]
  }
 ],
 "metadata": {
  "kernelspec": {
   "display_name": "Python 3",
   "language": "python",
   "name": "python3"
  },
  "language_info": {
   "codemirror_mode": {
    "name": "ipython",
    "version": 3
   },
   "file_extension": ".py",
   "mimetype": "text/x-python",
   "name": "python",
   "nbconvert_exporter": "python",
   "pygments_lexer": "ipython3",
   "version": "3.7.9"
  },
  "toc": {
   "base_numbering": 1,
   "nav_menu": {},
   "number_sections": true,
   "sideBar": true,
   "skip_h1_title": false,
   "title_cell": "Table of Contents",
   "title_sidebar": "Contents",
   "toc_cell": false,
   "toc_position": {
    "height": "calc(100% - 180px)",
    "left": "10px",
    "top": "150px",
    "width": "319px"
   },
   "toc_section_display": true,
   "toc_window_display": false
  },
  "varInspector": {
   "cols": {
    "lenName": 16,
    "lenType": 16,
    "lenVar": 40
   },
   "kernels_config": {
    "python": {
     "delete_cmd_postfix": "",
     "delete_cmd_prefix": "del ",
     "library": "var_list.py",
     "varRefreshCmd": "print(var_dic_list())"
    },
    "r": {
     "delete_cmd_postfix": ") ",
     "delete_cmd_prefix": "rm(",
     "library": "var_list.r",
     "varRefreshCmd": "cat(var_dic_list()) "
    }
   },
   "types_to_exclude": [
    "module",
    "function",
    "builtin_function_or_method",
    "instance",
    "_Feature"
   ],
   "window_display": false
  }
 },
 "nbformat": 4,
 "nbformat_minor": 5
}
