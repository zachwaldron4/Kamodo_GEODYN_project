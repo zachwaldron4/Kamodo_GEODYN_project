{
 "cells": [
  {
   "cell_type": "code",
   "execution_count": 1,
   "id": "f44ab9fc",
   "metadata": {
    "ExecuteTime": {
     "end_time": "2021-06-14T15:21:27.921398Z",
     "start_time": "2021-06-14T15:21:27.916001Z"
    }
   },
   "outputs": [],
   "source": [
    "import copy\n",
    "import sys\n",
    "import os.path\n",
    "import numpy as np"
   ]
  },
  {
   "cell_type": "code",
   "execution_count": 2,
   "id": "c640b115",
   "metadata": {
    "ExecuteTime": {
     "end_time": "2021-06-14T15:21:28.267442Z",
     "start_time": "2021-06-14T15:21:28.230010Z"
    }
   },
   "outputs": [],
   "source": [
    "# path_to_binaryrvg   = '/data/data_geodyn/inputs/icesat2/pre_processing/traj_files_rvg'\n",
    "path_to_binaryrvg   = '/data/data_geodyn/inputs/icesat2/setups'\n",
    "\n",
    "\n",
    "# iisset.2018.287.bz2\n",
    "years = [2018]     #,2019]\n",
    "days = np.arange(0, 367)\n",
    "\n",
    "files_list = []\n",
    "count_noletter = 0\n",
    "countA = 0\n",
    "countB = 0\n",
    "\n",
    "for iyear,year in enumerate(years):\n",
    "    for iday,day in enumerate(days):\n",
    "#         filename = 'orbit.1807001.%d.%03d' % (year, day)\n",
    "        filename = 'iisset.%d.%03d' % (year, day)\n",
    "\n",
    "#         filename = '%d.%03d' % (year, day)\n",
    "        __filename = path_to_binaryrvg+ '/'+filename\n",
    "        arc = '%d.%03d' % (year, day)\n",
    "        if os.path.exists(__filename):\n",
    "            count_noletter+=1\n",
    "            files_list.append(arc)\n",
    "        if os.path.exists(__filename + 'A'):\n",
    "            countA += 1\n",
    "            pass\n",
    "        if os.path.exists(__filename + 'B'):\n",
    "            countB += 1\n",
    "            pass\n",
    "        if os.path.exists(__filename + '.gz'):\n",
    "            count_noletter+=1\n",
    "            files_list.append(arc + '')\n",
    "        if os.path.exists(__filename + 'A.gz'):\n",
    "            countA += 1\n",
    "            pass\n",
    "        if os.path.exists(__filename + 'B.gz'):\n",
    "            countB += 1\n",
    "            pass\n",
    "        if os.path.exists(__filename + '.bz2'):\n",
    "            count_noletter+=1\n",
    "            files_list.append(arc + '')\n",
    "        if os.path.exists(__filename + 'A.bz2'):\n",
    "            countA += 1\n",
    "            pass\n",
    "        if os.path.exists(__filename + 'B.bz2'):\n",
    "            countB += 1\n",
    "            pass\n"
   ]
  },
  {
   "cell_type": "code",
   "execution_count": 3,
   "id": "85be0f6b",
   "metadata": {
    "ExecuteTime": {
     "end_time": "2021-06-14T15:21:28.801064Z",
     "start_time": "2021-06-14T15:21:28.797405Z"
    }
   },
   "outputs": [],
   "source": [
    "# files_list #[48:]"
   ]
  },
  {
   "cell_type": "code",
   "execution_count": 4,
   "id": "25e242f6",
   "metadata": {
    "ExecuteTime": {
     "end_time": "2021-06-14T15:21:29.239469Z",
     "start_time": "2021-06-14T15:21:29.236619Z"
    },
    "scrolled": false
   },
   "outputs": [],
   "source": [
    "# %load_ext autoreload\n",
    "# %autoreload 2\n",
    "\n",
    "# import sys\n",
    "# sys.path.insert(0,'/data/geodyn_proj/pygeodyn/utils_pygeodyn_develop/util_preprocessing/')\n",
    "# from PYGEODYN_Preprocess import PygeodynPreprocessing\n",
    "\n",
    "# path_to_prep_directory = '/data/data_geodyn/inputs/icesat2/pre_processing'\n",
    "# path_to_binaryrvg     = '/data/data_geodyn/inputs/icesat2/pre_processing/traj_files_rvg'\n",
    "\n",
    "# # ##### Uncomment the below call to overwrite the G2B data by re-running the pre-processing code\n",
    "# Obj = PygeodynPreprocessing(path_to_binaryrvg, path_to_prep_directory,  files_list)\n",
    "# Obj.run_preprocess_PCE()\n"
   ]
  },
  {
   "cell_type": "markdown",
   "id": "6b95c71d",
   "metadata": {},
   "source": [
    "## Step 1: Run GEODYN using Pygeodyn with the ICESat2 configuration\n",
    "\n",
    "As a reminder, PYGEODYN is called with the `PYGEODYN` class, but modifications to the ICESAT2 configuration are largely controlled through the `Satellite_ICESat2` class in the `PYGEODYN_Satellites.py` file.   Please refer to this file first for file structure setups and modifications to the Pygeodyn structure.\n",
    " \n",
    "### Step 1.1:  Run with MSIS2\n"
   ]
  },
  {
   "cell_type": "code",
   "execution_count": 5,
   "id": "a54fc8fb",
   "metadata": {
    "ExecuteTime": {
     "end_time": "2021-06-14T15:21:29.922300Z",
     "start_time": "2021-06-14T15:21:29.912707Z"
    }
   },
   "outputs": [
    {
     "data": {
      "text/plain": [
       "57"
      ]
     },
     "execution_count": 5,
     "metadata": {},
     "output_type": "execute_result"
    }
   ],
   "source": [
    "arc_list = files_list[1:]\n",
    "len(arc_list)"
   ]
  },
  {
   "cell_type": "code",
   "execution_count": null,
   "id": "231eaf78",
   "metadata": {},
   "outputs": [],
   "source": []
  },
  {
   "cell_type": "code",
   "execution_count": 6,
   "id": "e901e2c8",
   "metadata": {
    "ExecuteTime": {
     "end_time": "2021-06-14T15:21:30.873496Z",
     "start_time": "2021-06-14T15:21:30.869414Z"
    }
   },
   "outputs": [],
   "source": [
    "### Identify which arcs you want to run:\n",
    "\n",
    "\n",
    "sys.path.insert(0, '/data/geodyn_proj/pygeodyn/pygeodyn_develop/')\n",
    "\n",
    "#------ A dictionary containing the run parameters ------  \n",
    "run_params = {} \n",
    "run_params['arc']              =   arc_list\n",
    "run_params['satellite']        =  'icesat2'  \n",
    "run_params['SpecialRun_name']  =  '_TrajAnalysis'  \n",
    "run_params['verbose']          =  False\n",
    "run_params['action']           =  'run'\n"
   ]
  },
  {
   "cell_type": "code",
   "execution_count": 7,
   "id": "e1730138",
   "metadata": {
    "ExecuteTime": {
     "end_time": "2021-06-14T15:21:31.330939Z",
     "start_time": "2021-06-14T15:21:31.326236Z"
    }
   },
   "outputs": [],
   "source": [
    "# %load_ext autoreload\n",
    "# %autoreload 2\n",
    "\n",
    "# sys.path.insert(0, '/data/geodyn_proj/pygeodyn/pygeodyn_develop/')\n",
    "# from PYGEODYN import Pygeodyn\n",
    "\n",
    "\n",
    "# #### ---------------------------------------------\n",
    "# ####\n",
    "# #### ----------------- RUN MSIS2.0 --------------- \n",
    "# ####\n",
    "# #### ---------------------------------------------\n",
    "\n",
    "# ##### Use copy.deepcopy to copy all levels of dictionary and \n",
    "# ###       allow modification of new variable\n",
    "# run_params1 = copy.deepcopy(run_params)\n",
    "# run_params1['den_model'] =  'msis2'  \n",
    "\n",
    "# ### Run pyeodyn for the arcs in the above set.\n",
    "# Obj_Geodyn = Pygeodyn(run_params1)\n",
    "# Obj_Geodyn.RUN_GEODYN()\n"
   ]
  },
  {
   "cell_type": "code",
   "execution_count": 8,
   "id": "cc4f82d4",
   "metadata": {
    "ExecuteTime": {
     "end_time": "2021-06-14T15:21:31.778448Z",
     "start_time": "2021-06-14T15:21:31.775882Z"
    },
    "scrolled": true
   },
   "outputs": [],
   "source": [
    "# %load_ext autoreload\n",
    "# %autoreload 2\n",
    "\n",
    "# from PYGEODYN import Pygeodyn\n",
    "\n",
    "\n",
    "# #### ---------------------------------------------\n",
    "# ####\n",
    "# #### ----------------- RUN MSIS00 --------------- \n",
    "# ####\n",
    "# #### ---------------------------------------------\n",
    "\n",
    "# ##### Use copy.deepcopy to copy all levels of dictionary and \n",
    "# ###       allow modification of new variable\n",
    "# run_params2 = copy.deepcopy(run_params)\n",
    "# run_params2['den_model'] =  'msis00'  \n",
    "\n",
    "# ### Run pyeodyn for the arcs in the above set.\n",
    "# Obj_Geodyn = Pygeodyn(run_params2)\n",
    "# Obj_Geodyn.RUN_GEODYN()\n"
   ]
  },
  {
   "cell_type": "code",
   "execution_count": null,
   "id": "fcb33d7a",
   "metadata": {
    "ExecuteTime": {
     "end_time": "2021-06-06T15:34:05.880097Z",
     "start_time": "2021-06-06T15:34:05.871846Z"
    }
   },
   "outputs": [],
   "source": []
  },
  {
   "cell_type": "code",
   "execution_count": 9,
   "id": "25e2f607",
   "metadata": {
    "ExecuteTime": {
     "end_time": "2021-06-14T15:21:32.720185Z",
     "start_time": "2021-06-14T15:21:32.717977Z"
    }
   },
   "outputs": [],
   "source": [
    "# %load_ext autoreload\n",
    "# %autoreload 2\n",
    "\n",
    "# from PYGEODYN import Pygeodyn\n",
    "\n",
    "\n",
    "# #### ---------------------------------------------\n",
    "# ####\n",
    "# #### ----------------- RUN MSIS86 --------------- \n",
    "# ####\n",
    "# #### ---------------------------------------------\n",
    "\n",
    "# ##### Use copy.deepcopy to copy all levels of dictionary and \n",
    "# ###       allow modification of new variable\n",
    "# run_params3 = copy.deepcopy(run_params)\n",
    "# run_params3['den_model'] =  'msis86'  \n",
    "# run_params3['arc'] =  arc_msis86  \n",
    "\n",
    "# ### Run pyeodyn for the arcs in the above set.\n",
    "# Obj_Geodyn = Pygeodyn(run_params3)\n",
    "# Obj_Geodyn.RUN_GEODYN()\n"
   ]
  },
  {
   "cell_type": "code",
   "execution_count": 10,
   "id": "862b6540",
   "metadata": {
    "ExecuteTime": {
     "end_time": "2021-06-14T15:21:33.223744Z",
     "start_time": "2021-06-14T15:21:33.221598Z"
    }
   },
   "outputs": [],
   "source": [
    "# arc_dtm = arc_list[22:]\n",
    "# arc_dtm"
   ]
  },
  {
   "cell_type": "code",
   "execution_count": 11,
   "id": "63fdeb96",
   "metadata": {
    "ExecuteTime": {
     "end_time": "2021-06-14T15:21:33.698365Z",
     "start_time": "2021-06-14T15:21:33.693878Z"
    }
   },
   "outputs": [],
   "source": [
    "# %load_ext autoreload\n",
    "# %autoreload 2\n",
    "\n",
    "# from PYGEODYN import Pygeodyn\n",
    "\n",
    "# #### ---------------------------------------------\n",
    "# ####\n",
    "# #### ------------------- RUN DTM ----------------- \n",
    "# ####\n",
    "# #### ---------------------------------------------\n",
    "\n",
    "\n",
    "# ##### Use copy.deepcopy to copy all levels of dictionary and \n",
    "# ###       allow modification of new variable\n",
    "# run_params2 = copy.deepcopy(run_params)\n",
    "# run_params2['den_model']         =  'dtm87'  \n",
    "# run_params2['arc'] =  arc_dtm  \n",
    "\n",
    "# ### Run pyeodyn for the arcs in the above set.\n",
    "# Obj_Geodyn = Pygeodyn(run_params2)\n",
    "# Obj_Geodyn.RUN_GEODYN()\n"
   ]
  },
  {
   "cell_type": "code",
   "execution_count": 12,
   "id": "d28e42e9",
   "metadata": {
    "ExecuteTime": {
     "end_time": "2021-06-14T15:21:34.352636Z",
     "start_time": "2021-06-14T15:21:34.348963Z"
    }
   },
   "outputs": [],
   "source": [
    "# run_params2"
   ]
  },
  {
   "cell_type": "code",
   "execution_count": 18,
   "id": "2b47e35b",
   "metadata": {
    "ExecuteTime": {
     "end_time": "2021-06-14T15:22:02.660930Z",
     "start_time": "2021-06-14T15:22:02.657195Z"
    }
   },
   "outputs": [
    {
     "data": {
      "text/plain": [
       "['2018.352',\n",
       " '2018.353',\n",
       " '2018.355',\n",
       " '2018.356',\n",
       " '2018.357',\n",
       " '2018.358',\n",
       " '2018.359',\n",
       " '2018.364',\n",
       " '2018.365']"
      ]
     },
     "execution_count": 18,
     "metadata": {},
     "output_type": "execute_result"
    }
   ],
   "source": [
    "arc_jacchia = arc_list[48:]\n",
    "arc_jacchia"
   ]
  },
  {
   "cell_type": "code",
   "execution_count": 19,
   "id": "267590d9",
   "metadata": {
    "ExecuteTime": {
     "end_time": "2021-06-14T16:50:42.095990Z",
     "start_time": "2021-06-14T15:22:22.761812Z"
    }
   },
   "outputs": [
    {
     "name": "stdout",
     "output_type": "stream",
     "text": [
      "                      ......... RUNNING GEODYN\n",
      "Run # 1     Current Time =      15:22:24\n",
      "Run # 1\n",
      "Run # 1     Cleaning iisset... :    /data/data_geodyn/inputs/icesat2/setups/iisset.2018.352.bz2\n",
      "Epoch Start:  2018-12-17 21:00:00\n",
      "+ ————————————————————————————————————————————————————————————————————————————————————————————————————————————————\n",
      "|\n",
      "| ---------------------- Some run information ----------------------\n",
      "|\n",
      "|  Run # 1     IISSET Cleaned      tmp/.../cleaned_setup_2018352\n",
      "|  Run # 1     Density Model:      jaachia71\n",
      "|  Run # 1     GEODYN Version:     Kamodo_pygeodyn_MODS\n",
      "|  Run # 1     ARC run:            icesat2_2018352_54hr.jaachia71\n",
      "|  Run # 1     Output directory:   /data/data_geodyn/results/icesat2/jaachia71/jaachia71_acceloff_TrajAnalysis\n",
      "|  Run # 1     EXAT File:          /data/data_geodyn/inputs/icesat2/external_attitude/EXAT01.2018.352.gz\n",
      "|\n",
      "+ ————————————————————————————————————————————————————————————————————————————————————————————————————————————————\n",
      "\n",
      "Run # 1          Running IIS\n",
      "Run # 1          No errors in IIS\n",
      "Run # 1 ---------End of IIS\n",
      "\n",
      "Run # 1          Running IIE\n",
      "Run # 1          Current Time = 15:24:09\n",
      "Run # 1          No errors in IIE\n",
      "Run # 1 ---------End of IIE\n",
      "Run # 1          Time of IIE:  573.9631953239441 secs ( 9.566053255399067  mins)\n",
      "Run # 1          Current Time = 15:33:43\n",
      "Run # 1                Finished renaming files\n",
      "Run # 1                Finished copying files to outputdir\n",
      "        Deleting:  jaachia71_acceloff_TrajAnalysis\n",
      "Run # 2     Current Time =      15:33:47\n",
      "Run # 2\n",
      "Run # 2     Cleaning iisset... :    /data/data_geodyn/inputs/icesat2/setups/iisset.2018.353.bz2\n",
      "Epoch Start:  2018-12-18 21:00:00\n",
      "+ ————————————————————————————————————————————————————————————————————————————————————————————————————————————————\n",
      "|\n",
      "| ---------------------- Some run information ----------------------\n",
      "|\n",
      "|  Run # 2     IISSET Cleaned      tmp/.../cleaned_setup_2018353\n",
      "|  Run # 2     Density Model:      jaachia71\n",
      "|  Run # 2     GEODYN Version:     Kamodo_pygeodyn_MODS\n",
      "|  Run # 2     ARC run:            icesat2_2018353_54hr.jaachia71\n",
      "|  Run # 2     Output directory:   /data/data_geodyn/results/icesat2/jaachia71/jaachia71_acceloff_TrajAnalysis\n",
      "|  Run # 2     EXAT File:          /data/data_geodyn/inputs/icesat2/external_attitude/EXAT01.2018.353.gz\n",
      "|\n",
      "+ ————————————————————————————————————————————————————————————————————————————————————————————————————————————————\n",
      "\n",
      "Run # 2          Running IIS\n",
      "Run # 2          No errors in IIS\n",
      "Run # 2 ---------End of IIS\n",
      "\n",
      "Run # 2          Running IIE\n",
      "Run # 2          Current Time = 15:35:22\n",
      "Run # 2          No errors in IIE\n",
      "Run # 2 ---------End of IIE\n",
      "Run # 2          Time of IIE:  533.8044078350067 secs ( 8.896740130583446  mins)\n",
      "Run # 2          Current Time = 15:44:16\n",
      "Run # 2                Finished renaming files\n",
      "Run # 2                Finished copying files to outputdir\n",
      "        Deleting:  jaachia71_acceloff_TrajAnalysis\n",
      "Run # 3     Current Time =      15:44:20\n",
      "Run # 3\n",
      "Run # 3     Cleaning iisset... :    /data/data_geodyn/inputs/icesat2/setups/iisset.2018.355.bz2\n",
      "Epoch Start:  2018-12-20 21:00:00\n",
      "2018-12-20 21:00:00 not found in file.  Leaving ELEMS as is.\n",
      "+ ————————————————————————————————————————————————————————————————————————————————————————————————————————————————\n",
      "|\n",
      "| ---------------------- Some run information ----------------------\n",
      "|\n",
      "|  Run # 3     IISSET Cleaned      tmp/.../cleaned_setup_2018355\n",
      "|  Run # 3     Density Model:      jaachia71\n",
      "|  Run # 3     GEODYN Version:     Kamodo_pygeodyn_MODS\n",
      "|  Run # 3     ARC run:            icesat2_2018355_54hr.jaachia71\n",
      "|  Run # 3     Output directory:   /data/data_geodyn/results/icesat2/jaachia71/jaachia71_acceloff_TrajAnalysis\n",
      "|  Run # 3     EXAT File:          /data/data_geodyn/inputs/icesat2/external_attitude/EXAT01.2018.355.gz\n",
      "|\n",
      "+ ————————————————————————————————————————————————————————————————————————————————————————————————————————————————\n",
      "\n",
      "Run # 3          Running IIS\n",
      "Run # 3          No errors in IIS\n",
      "Run # 3 ---------End of IIS\n",
      "\n",
      "Run # 3          Running IIE\n",
      "Run # 3          Current Time = 15:45:52\n",
      "Run # 3          No errors in IIE\n",
      "Run # 3 ---------End of IIE\n",
      "Run # 3          Time of IIE:  572.0610952377319 secs ( 9.534351587295532  mins)\n",
      "Run # 3          Current Time = 15:55:24\n",
      "Run # 3                Finished renaming files\n",
      "Run # 3                Finished copying files to outputdir\n",
      "        Deleting:  jaachia71_acceloff_TrajAnalysis\n",
      "Run # 4     Current Time =      15:55:28\n",
      "Run # 4\n",
      "Run # 4     Cleaning iisset... :    /data/data_geodyn/inputs/icesat2/setups/iisset.2018.356.bz2\n",
      "Epoch Start:  2018-12-21 21:00:00\n",
      "+ ————————————————————————————————————————————————————————————————————————————————————————————————————————————————\n",
      "|\n",
      "| ---------------------- Some run information ----------------------\n",
      "|\n",
      "|  Run # 4     IISSET Cleaned      tmp/.../cleaned_setup_2018356\n",
      "|  Run # 4     Density Model:      jaachia71\n",
      "|  Run # 4     GEODYN Version:     Kamodo_pygeodyn_MODS\n",
      "|  Run # 4     ARC run:            icesat2_2018356_54hr.jaachia71\n",
      "|  Run # 4     Output directory:   /data/data_geodyn/results/icesat2/jaachia71/jaachia71_acceloff_TrajAnalysis\n",
      "|  Run # 4     EXAT File:          /data/data_geodyn/inputs/icesat2/external_attitude/EXAT01.2018.356.gz\n",
      "|\n",
      "+ ————————————————————————————————————————————————————————————————————————————————————————————————————————————————\n",
      "\n",
      "Run # 4          Running IIS\n",
      "Run # 4          No errors in IIS\n",
      "Run # 4 ---------End of IIS\n",
      "\n",
      "Run # 4          Running IIE\n",
      "Run # 4          Current Time = 15:57:15\n",
      "Run # 4          No errors in IIE\n",
      "Run # 4 ---------End of IIE\n",
      "Run # 4          Time of IIE:  430.3813123703003 secs ( 7.173021872838338  mins)\n",
      "Run # 4          Current Time = 16:04:25\n",
      "Run # 4                Finished renaming files\n",
      "Run # 4                Finished copying files to outputdir\n",
      "        Deleting:  jaachia71_acceloff_TrajAnalysis\n",
      "Run # 5     Current Time =      16:04:29\n",
      "Run # 5\n",
      "Run # 5     Cleaning iisset... :    /data/data_geodyn/inputs/icesat2/setups/iisset.2018.357.bz2\n",
      "Epoch Start:  2018-12-22 21:00:00\n",
      "+ ————————————————————————————————————————————————————————————————————————————————————————————————————————————————\n",
      "|\n",
      "| ---------------------- Some run information ----------------------\n",
      "|\n",
      "|  Run # 5     IISSET Cleaned      tmp/.../cleaned_setup_2018357\n",
      "|  Run # 5     Density Model:      jaachia71\n",
      "|  Run # 5     GEODYN Version:     Kamodo_pygeodyn_MODS\n",
      "|  Run # 5     ARC run:            icesat2_2018357_54hr.jaachia71\n",
      "|  Run # 5     Output directory:   /data/data_geodyn/results/icesat2/jaachia71/jaachia71_acceloff_TrajAnalysis\n",
      "|  Run # 5     EXAT File:          /data/data_geodyn/inputs/icesat2/external_attitude/EXAT01.2018.357.gz\n",
      "|\n",
      "+ ————————————————————————————————————————————————————————————————————————————————————————————————————————————————\n",
      "\n",
      "Run # 5          Running IIS\n",
      "Run # 5          No errors in IIS\n",
      "Run # 5 ---------End of IIS\n",
      "\n",
      "Run # 5          Running IIE\n",
      "Run # 5          Current Time = 16:06:07\n",
      "Run # 5          No errors in IIE\n",
      "Run # 5 ---------End of IIE\n",
      "Run # 5          Time of IIE:  430.5280840396881 secs ( 7.1754680673281355  mins)\n",
      "Run # 5          Current Time = 16:13:18\n",
      "Run # 5                Finished renaming files\n",
      "Run # 5                Finished copying files to outputdir\n",
      "        Deleting:  jaachia71_acceloff_TrajAnalysis\n",
      "Run # 6     Current Time =      16:13:22\n",
      "Run # 6\n",
      "Run # 6     Cleaning iisset... :    /data/data_geodyn/inputs/icesat2/setups/iisset.2018.358.bz2\n",
      "Epoch Start:  2018-12-23 21:00:00\n",
      "+ ————————————————————————————————————————————————————————————————————————————————————————————————————————————————\n",
      "|\n",
      "| ---------------------- Some run information ----------------------\n",
      "|\n",
      "|  Run # 6     IISSET Cleaned      tmp/.../cleaned_setup_2018358\n",
      "|  Run # 6     Density Model:      jaachia71\n",
      "|  Run # 6     GEODYN Version:     Kamodo_pygeodyn_MODS\n",
      "|  Run # 6     ARC run:            icesat2_2018358_54hr.jaachia71\n",
      "|  Run # 6     Output directory:   /data/data_geodyn/results/icesat2/jaachia71/jaachia71_acceloff_TrajAnalysis\n",
      "|  Run # 6     EXAT File:          /data/data_geodyn/inputs/icesat2/external_attitude/EXAT01.2018.358.gz\n",
      "|\n",
      "+ ————————————————————————————————————————————————————————————————————————————————————————————————————————————————\n"
     ]
    },
    {
     "name": "stdout",
     "output_type": "stream",
     "text": [
      "\n",
      "Run # 6          Running IIS\n",
      "Run # 6          No errors in IIS\n",
      "Run # 6 ---------End of IIS\n",
      "\n",
      "Run # 6          Running IIE\n",
      "Run # 6          Current Time = 16:15:00\n",
      "Run # 6          No errors in IIE\n",
      "Run # 6 ---------End of IIE\n",
      "Run # 6          Time of IIE:  427.09035086631775 secs ( 7.118172514438629  mins)\n",
      "Run # 6          Current Time = 16:22:07\n",
      "Run # 6                Finished renaming files\n",
      "Run # 6                Finished copying files to outputdir\n",
      "        Deleting:  jaachia71_acceloff_TrajAnalysis\n",
      "Run # 7     Current Time =      16:22:11\n",
      "Run # 7\n",
      "Run # 7     Cleaning iisset... :    /data/data_geodyn/inputs/icesat2/setups/iisset.2018.359.bz2\n",
      "Epoch Start:  2018-12-24 21:00:00\n",
      "+ ————————————————————————————————————————————————————————————————————————————————————————————————————————————————\n",
      "|\n",
      "| ---------------------- Some run information ----------------------\n",
      "|\n",
      "|  Run # 7     IISSET Cleaned      tmp/.../cleaned_setup_2018359\n",
      "|  Run # 7     Density Model:      jaachia71\n",
      "|  Run # 7     GEODYN Version:     Kamodo_pygeodyn_MODS\n",
      "|  Run # 7     ARC run:            icesat2_2018359_54hr.jaachia71\n",
      "|  Run # 7     Output directory:   /data/data_geodyn/results/icesat2/jaachia71/jaachia71_acceloff_TrajAnalysis\n",
      "|  Run # 7     EXAT File:          /data/data_geodyn/inputs/icesat2/external_attitude/EXAT01.2018.359.gz\n",
      "|\n",
      "+ ————————————————————————————————————————————————————————————————————————————————————————————————————————————————\n",
      "\n",
      "Run # 7          Running IIS\n",
      "Run # 7          No errors in IIS\n",
      "Run # 7 ---------End of IIS\n",
      "\n",
      "Run # 7          Running IIE\n",
      "Run # 7          Current Time = 16:23:49\n",
      "Run # 7          No errors in IIE\n",
      "Run # 7 ---------End of IIE\n",
      "Run # 7          Time of IIE:  401.7507281303406 secs ( 6.69584546883901  mins)\n",
      "Run # 7          Current Time = 16:30:31\n",
      "Run # 7                Finished renaming files\n",
      "Run # 7                Finished copying files to outputdir\n",
      "        Deleting:  jaachia71_acceloff_TrajAnalysis\n",
      "Run # 8     Current Time =      16:30:35\n",
      "Run # 8\n",
      "Run # 8     Cleaning iisset... :    /data/data_geodyn/inputs/icesat2/setups/iisset.2018.364.bz2\n",
      "Epoch Start:  2018-12-29 21:00:00\n",
      "2018-12-29 21:00:00 not found in file.  Leaving ELEMS as is.\n",
      "+ ————————————————————————————————————————————————————————————————————————————————————————————————————————————————\n",
      "|\n",
      "| ---------------------- Some run information ----------------------\n",
      "|\n",
      "|  Run # 8     IISSET Cleaned      tmp/.../cleaned_setup_2018364\n",
      "|  Run # 8     Density Model:      jaachia71\n",
      "|  Run # 8     GEODYN Version:     Kamodo_pygeodyn_MODS\n",
      "|  Run # 8     ARC run:            icesat2_2018364_54hr.jaachia71\n",
      "|  Run # 8     Output directory:   /data/data_geodyn/results/icesat2/jaachia71/jaachia71_acceloff_TrajAnalysis\n",
      "|  Run # 8     EXAT File:          /data/data_geodyn/inputs/icesat2/external_attitude/EXAT01.2018.364.gz\n",
      "|\n",
      "+ ————————————————————————————————————————————————————————————————————————————————————————————————————————————————\n",
      "\n",
      "Run # 8          Running IIS\n",
      "Run # 8          No errors in IIS\n",
      "Run # 8 ---------End of IIS\n",
      "\n",
      "Run # 8          Running IIE\n",
      "Run # 8          Current Time = 16:32:13\n",
      "Run # 8          No errors in IIE\n",
      "Run # 8 ---------End of IIE\n",
      "Run # 8          Time of IIE:  573.573801279068 secs ( 9.559563354651134  mins)\n",
      "Run # 8          Current Time = 16:41:47\n",
      "Run # 8                Finished renaming files\n",
      "Run # 8                Finished copying files to outputdir\n",
      "        Deleting:  jaachia71_acceloff_TrajAnalysis\n",
      "Run # 9     Current Time =      16:41:51\n",
      "Run # 9\n",
      "Run # 9     Cleaning iisset... :    /data/data_geodyn/inputs/icesat2/setups/iisset.2018.365.bz2\n",
      "Epoch Start:  2018-12-30 21:00:00\n",
      "+ ————————————————————————————————————————————————————————————————————————————————————————————————————————————————\n",
      "|\n",
      "| ---------------------- Some run information ----------------------\n",
      "|\n",
      "|  Run # 9     IISSET Cleaned      tmp/.../cleaned_setup_2018365\n",
      "|  Run # 9     Density Model:      jaachia71\n",
      "|  Run # 9     GEODYN Version:     Kamodo_pygeodyn_MODS\n",
      "|  Run # 9     ARC run:            icesat2_2018365_54hr.jaachia71\n",
      "|  Run # 9     Output directory:   /data/data_geodyn/results/icesat2/jaachia71/jaachia71_acceloff_TrajAnalysis\n",
      "|  Run # 9     EXAT File:          /data/data_geodyn/inputs/icesat2/external_attitude/EXAT01.2018.365.gz\n",
      "|\n",
      "+ ————————————————————————————————————————————————————————————————————————————————————————————————————————————————\n",
      "\n",
      "Run # 9          Running IIS\n",
      "Run # 9          No errors in IIS\n",
      "Run # 9 ---------End of IIS\n",
      "\n",
      "Run # 9          Running IIE\n",
      "Run # 9          Current Time = 16:43:32\n",
      "Run # 9          No errors in IIE\n",
      "Run # 9 ---------End of IIE\n",
      "Run # 9          Time of IIE:  426.6185507774353 secs ( 7.110309179623922  mins)\n",
      "Run # 9          Current Time = 16:50:38\n",
      "Run # 9                Finished renaming files\n",
      "Run # 9                Finished copying files to outputdir\n",
      "        Deleting:  jaachia71_acceloff_TrajAnalysis\n"
     ]
    }
   ],
   "source": [
    "%load_ext autoreload\n",
    "%autoreload 2\n",
    "\n",
    "from PYGEODYN import Pygeodyn\n",
    "\n",
    "\n",
    "#### ----------------------------------------------\n",
    "####\n",
    "#### ----------------- RUN JAACHIA ----------------- \n",
    "####\n",
    "#### ----------------------------------------------\n",
    "\n",
    "##### Use copy.deepcopy to copy all levels of dictionary and \n",
    "###       allow modification of new variable\n",
    "run_params3 = copy.deepcopy(run_params)\n",
    "run_params3['den_model']         =  'jaachia71'  \n",
    "run_params3['arc'] =  arc_jacchia  \n",
    "\n",
    "\n",
    "#### Run pyeodyn for the arcs in the above set.\n",
    "Obj_Geodyn = Pygeodyn(run_params3)\n",
    "Obj_Geodyn.RUN_GEODYN()\n",
    "\n",
    "    "
   ]
  },
  {
   "cell_type": "code",
   "execution_count": null,
   "id": "6cf78d10",
   "metadata": {},
   "outputs": [],
   "source": [
    "\n"
   ]
  }
 ],
 "metadata": {
  "kernelspec": {
   "display_name": "Python 3",
   "language": "python",
   "name": "python3"
  },
  "language_info": {
   "codemirror_mode": {
    "name": "ipython",
    "version": 3
   },
   "file_extension": ".py",
   "mimetype": "text/x-python",
   "name": "python",
   "nbconvert_exporter": "python",
   "pygments_lexer": "ipython3",
   "version": "3.8.8"
  },
  "toc": {
   "base_numbering": 1,
   "nav_menu": {},
   "number_sections": true,
   "sideBar": true,
   "skip_h1_title": false,
   "title_cell": "Table of Contents",
   "title_sidebar": "Contents",
   "toc_cell": false,
   "toc_position": {
    "height": "calc(100% - 180px)",
    "left": "10px",
    "top": "150px",
    "width": "319px"
   },
   "toc_section_display": true,
   "toc_window_display": false
  },
  "varInspector": {
   "cols": {
    "lenName": 16,
    "lenType": 16,
    "lenVar": 40
   },
   "kernels_config": {
    "python": {
     "delete_cmd_postfix": "",
     "delete_cmd_prefix": "del ",
     "library": "var_list.py",
     "varRefreshCmd": "print(var_dic_list())"
    },
    "r": {
     "delete_cmd_postfix": ") ",
     "delete_cmd_prefix": "rm(",
     "library": "var_list.r",
     "varRefreshCmd": "cat(var_dic_list()) "
    }
   },
   "types_to_exclude": [
    "module",
    "function",
    "builtin_function_or_method",
    "instance",
    "_Feature"
   ],
   "window_display": false
  }
 },
 "nbformat": 4,
 "nbformat_minor": 5
}
