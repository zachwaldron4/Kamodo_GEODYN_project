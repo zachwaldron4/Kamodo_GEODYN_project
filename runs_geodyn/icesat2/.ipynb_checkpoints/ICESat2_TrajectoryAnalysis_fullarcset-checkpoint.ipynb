{
 "cells": [
  {
   "cell_type": "markdown",
   "id": "4e1bf965",
   "metadata": {},
   "source": [
    "# Trajectory Analysis: Full Arc Set\n",
    "\n",
    "\n"
   ]
  },
  {
   "cell_type": "code",
   "execution_count": 1,
   "id": "8adae716",
   "metadata": {
    "ExecuteTime": {
     "end_time": "2021-06-15T18:28:17.935985Z",
     "start_time": "2021-06-15T18:28:17.831626Z"
    }
   },
   "outputs": [],
   "source": [
    "import copy\n",
    "import sys\n",
    "import os.path\n",
    "import numpy as np"
   ]
  },
  {
   "cell_type": "code",
   "execution_count": 2,
   "id": "81f11a17",
   "metadata": {
    "ExecuteTime": {
     "end_time": "2021-06-15T18:28:17.960761Z",
     "start_time": "2021-06-15T18:28:17.938925Z"
    },
    "scrolled": true,
    "tags": []
   },
   "outputs": [],
   "source": [
    "# path_to_binaryrvg   = '/data/data_geodyn/inputs/icesat2/pre_processing/traj_files_rvg'\n",
    "path_to_binaryrvg   = '/data/data_geodyn/inputs/icesat2/setups'\n",
    "\n",
    "\n",
    "# iisset.2018.287.bz2\n",
    "years = [2018]     #,2019]\n",
    "days = np.arange(0, 367)\n",
    "\n",
    "files_list = []\n",
    "count_noletter = 0\n",
    "countA = 0\n",
    "countB = 0\n",
    "\n",
    "for iyear,year in enumerate(years):\n",
    "    for iday,day in enumerate(days):\n",
    "#         filename = 'orbit.1807001.%d.%03d' % (year, day)\n",
    "        filename = 'iisset.%d.%03d' % (year, day)\n",
    "\n",
    "#         filename = '%d.%03d' % (year, day)\n",
    "        __filename = path_to_binaryrvg+ '/'+filename\n",
    "        arc = '%d.%03d' % (year, day)\n",
    "        if os.path.exists(__filename):\n",
    "            count_noletter+=1\n",
    "            files_list.append(arc)\n",
    "        if os.path.exists(__filename + 'A'):\n",
    "            countA += 1\n",
    "            pass\n",
    "        if os.path.exists(__filename + 'B'):\n",
    "            countB += 1\n",
    "            pass\n",
    "        if os.path.exists(__filename + '.gz'):\n",
    "            count_noletter+=1\n",
    "            files_list.append(arc + '')\n",
    "        if os.path.exists(__filename + 'A.gz'):\n",
    "            countA += 1\n",
    "            pass\n",
    "        if os.path.exists(__filename + 'B.gz'):\n",
    "            countB += 1\n",
    "            pass\n",
    "        if os.path.exists(__filename + '.bz2'):\n",
    "            count_noletter+=1\n",
    "            files_list.append(arc + '')\n",
    "        if os.path.exists(__filename + 'A.bz2'):\n",
    "            countA += 1\n",
    "            pass\n",
    "        if os.path.exists(__filename + 'B.bz2'):\n",
    "            countB += 1\n",
    "            pass\n"
   ]
  },
  {
   "cell_type": "code",
   "execution_count": 3,
   "id": "a1c85945",
   "metadata": {
    "ExecuteTime": {
     "end_time": "2021-06-15T18:28:17.973708Z",
     "start_time": "2021-06-15T18:28:17.962609Z"
    }
   },
   "outputs": [
    {
     "data": {
      "text/plain": [
       "57"
      ]
     },
     "execution_count": 3,
     "metadata": {},
     "output_type": "execute_result"
    }
   ],
   "source": [
    "arc_list = files_list[1:]\n",
    "len(arc_list)"
   ]
  },
  {
   "cell_type": "markdown",
   "id": "cfa14482",
   "metadata": {},
   "source": [
    "### Get MSIS2 Data"
   ]
  },
  {
   "cell_type": "code",
   "execution_count": 4,
   "id": "5fe61dd6",
   "metadata": {
    "ExecuteTime": {
     "end_time": "2021-06-15T18:28:17.980937Z",
     "start_time": "2021-06-15T18:28:17.976480Z"
    }
   },
   "outputs": [],
   "source": [
    "### Identify which arcs you want to run:\n",
    "\n",
    "#------ A dictionary containing the run parameters ------  \n",
    "run_params = {} \n",
    "run_params['arc']              =   arc_list\n",
    "run_params['satellite']        =  'icesat2'  \n",
    "run_params['SpecialRun_name']  =  '_TrajAnalysis'  \n",
    "run_params['verbose']          =  False\n",
    "run_params['action']           =  'read'\n",
    "run_params['request_data']      = ['AdjustedParams',\n",
    "                                    'Trajectory_orbfil',\n",
    "                                    'Density',\n",
    "                                    'Residuals_obs',\n",
    "                                    'Residuals_summary',\n",
    "#                                     'Statistics',\n",
    "                                   ]"
   ]
  },
  {
   "cell_type": "code",
   "execution_count": null,
   "id": "c5ac6738",
   "metadata": {
    "ExecuteTime": {
     "start_time": "2021-06-15T18:28:18.214Z"
    },
    "tags": []
   },
   "outputs": [
    {
     "name": "stdout",
     "output_type": "stream",
     "text": [
      "                      ......... READING GEODYN output\n",
      "     Loading ... icesat2_2018288_54hr.msis2 \n",
      "     Loading ... icesat2_2018291_54hr.msis2 \n",
      "     Loading ... icesat2_2018292_54hr.msis2 \n",
      "     Loading ... icesat2_2018293_54hr.msis2 \n",
      "     Loading ... icesat2_2018294_54hr.msis2 \n",
      "     Loading ... icesat2_2018295_54hr.msis2 \n",
      "     Loading ... icesat2_2018296_54hr.msis2 \n",
      "     Loading ... icesat2_2018297_54hr.msis2 \n",
      "     Loading ... icesat2_2018298_54hr.msis2 \n",
      "     Loading ... icesat2_2018299_54hr.msis2 \n",
      "     Loading ... icesat2_2018300_54hr.msis2 \n",
      "     Loading ... icesat2_2018303_54hr.msis2 \n",
      "     Loading ... icesat2_2018304_54hr.msis2 \n",
      "     Loading ... icesat2_2018305_54hr.msis2 \n",
      "     Loading ... icesat2_2018306_54hr.msis2 \n",
      "     Loading ... icesat2_2018307_54hr.msis2 \n",
      "     Loading ... icesat2_2018308_54hr.msis2 \n",
      "     Loading ... icesat2_2018309_54hr.msis2 \n",
      "     Loading ... icesat2_2018312_54hr.msis2 \n",
      "     Loading ... icesat2_2018313_54hr.msis2 \n",
      "     Loading ... icesat2_2018314_54hr.msis2 \n",
      "     Loading ... icesat2_2018315_54hr.msis2 \n",
      "     Loading ... icesat2_2018316_54hr.msis2 \n",
      "     Loading ... icesat2_2018317_54hr.msis2 \n",
      "     Loading ... icesat2_2018318_54hr.msis2 \n",
      "     Loading ... icesat2_2018319_54hr.msis2 \n",
      "     Loading ... icesat2_2018320_54hr.msis2 \n"
     ]
    }
   ],
   "source": [
    "%load_ext autoreload\n",
    "%autoreload 2\n",
    "\n",
    "sys.path.insert(0, '/data/geodyn_proj/pygeodyn/pygeodyn_develop/')\n",
    "from PYGEODYN import Pygeodyn\n",
    "\n",
    "read_params = copy.deepcopy(run_params)\n",
    "read_params['den_model']         =  'msis2'  \n",
    "\n",
    "\n",
    "Obj_Geodyn = Pygeodyn(read_params)\n",
    "Obj_Geodyn.getData()\n"
   ]
  },
  {
   "cell_type": "code",
   "execution_count": null,
   "id": "12247386",
   "metadata": {
    "ExecuteTime": {
     "end_time": "2021-06-15T18:24:55.692076Z",
     "start_time": "2021-06-15T18:24:55.684165Z"
    }
   },
   "outputs": [],
   "source": []
  },
  {
   "cell_type": "code",
   "execution_count": null,
   "id": "6a9a4828",
   "metadata": {
    "ExecuteTime": {
     "start_time": "2021-06-15T18:28:18.217Z"
    }
   },
   "outputs": [],
   "source": [
    "#### Pickle the object to save it\n",
    "\n",
    "import pickle \n",
    "\n",
    "filehandler = open('icesat2_TrajAnalysis_allarcs'+read_params['den_model'], 'wb') \n",
    "pickle.dump(Obj_Geodyn, filehandler)\n",
    "filehandler.close()\n"
   ]
  },
  {
   "cell_type": "code",
   "execution_count": null,
   "id": "de1b954a",
   "metadata": {
    "ExecuteTime": {
     "start_time": "2021-06-15T18:28:18.220Z"
    }
   },
   "outputs": [],
   "source": [
    "import sys \n",
    "sys.exit()"
   ]
  },
  {
   "cell_type": "code",
   "execution_count": null,
   "id": "d3289fa0",
   "metadata": {
    "ExecuteTime": {
     "start_time": "2021-06-15T18:28:18.222Z"
    }
   },
   "outputs": [],
   "source": [
    "# read the object in from a pickle\n",
    "\n",
    "import pickle \n",
    "filehandler = open('icesat2_TrajAnalysis_allarcs'+read_params['den_model'], 'rb') \n",
    "Obj_data_pkl = pickle.load(filehandler)\n",
    "filehandler.close()\n",
    "\n",
    "\n",
    "\n",
    "# the object has density in a dictionary of arcs:\n",
    "Obj_data_pkl.__dict__.keys()\n",
    "\n",
    "\n",
    "\n",
    "\n",
    "\n",
    "# looking at the first 2 week arc, the density is stored as a pandas dataframe\n",
    "# Obj_data_pkl.Density\n",
    "\n",
    "\n",
    "\n",
    "\n",
    "\n",
    "# Obj_data_pkl.run_parameters"
   ]
  },
  {
   "cell_type": "code",
   "execution_count": null,
   "id": "a8b6a2d1",
   "metadata": {
    "ExecuteTime": {
     "start_time": "2021-06-15T18:28:18.224Z"
    }
   },
   "outputs": [],
   "source": [
    "import plotly.graph_objects as go\n",
    "from plotly.offline import plot, iplot\n",
    "from plotly.subplots import make_subplots\n",
    "import plotly.express as px\n",
    "\n",
    "\n",
    "config = dict({\n",
    "                'displayModeBar': True,\n",
    "                'responsive': False,\n",
    "#                 'staticPlot': True,\n",
    "                'displaylogo': False,\n",
    "                'showTips': False,\n",
    "                })"
   ]
  },
  {
   "cell_type": "markdown",
   "id": "403b7315",
   "metadata": {},
   "source": [
    "### 1. Residuals of the POD across many arcs\n",
    "\n",
    "\n",
    "\n",
    "Resids =  PCE -  POD Trajectory\n",
    "\n",
    "\n",
    "\n"
   ]
  },
  {
   "cell_type": "code",
   "execution_count": null,
   "id": "87b138ec",
   "metadata": {
    "ExecuteTime": {
     "start_time": "2021-06-15T18:28:18.226Z"
    }
   },
   "outputs": [],
   "source": [
    "%load_ext autoreload\n",
    "%autoreload 2\n",
    "\n",
    "from PYGEODYNAnalysis_icesat2PCEtrajectory import plot_residual_meas_summary\n",
    "from PYGEODYNAnalysis_icesat2PCEtrajectory import rms_summary_table\n",
    "\n",
    "\n",
    "Obj_list = [Obj_Geodyn]#,Obj_Geodyn2,Obj_Geodyn3,]\n",
    "rms_summary_table(Obj_list)\n",
    "\n",
    "\n",
    "\n",
    "fig = make_subplots(rows=2, cols=1, \n",
    "     subplot_titles=([\"Mean Residuals per Arc\", 'RMS of Fit per Arc']),\n",
    "     vertical_spacing = 0.1)\n",
    "fig = plot_residual_meas_summary(fig, Obj_Geodyn, 0)\n",
    "# fig = plot_residual_meas_summary(fig, Obj_Geodyn3, 1)\n",
    "# fig = plot_residual_meas_summary(fig, Obj_Geodyn1, 2)\n",
    "fig.show(config=config)\n",
    "\n"
   ]
  },
  {
   "cell_type": "code",
   "execution_count": null,
   "id": "bbf43a47",
   "metadata": {
    "ExecuteTime": {
     "start_time": "2021-06-15T18:28:18.229Z"
    }
   },
   "outputs": [],
   "source": [
    "%load_ext autoreload\n",
    "%autoreload 2\n",
    "\n",
    "from PYGEODYNAnalysis_icesat2PCEtrajectory import plot_residuals_observed\n",
    "\n",
    "\n",
    "\n",
    "fig = make_subplots(rows=3, cols=1, \n",
    "            subplot_titles=(['X', 'Y', 'Z']),\n",
    "            vertical_spacing = 0.1,\n",
    "                       )\n",
    "\n",
    "fig = plot_residuals_observed(fig, Obj_Geodyn, 0)\n",
    "# fig = plot_residuals_observed(fig, Obj_Geodyn3, 1)\n",
    "# fig = plot_residuals_observed(fig, Obj_Geodyn1, 2)\n",
    "\n",
    "fig.update_layout(title=\"Observation Residuals (PCE - Observed , T.O.R.)\")\n",
    "\n",
    "fig.show(config=config)\n"
   ]
  },
  {
   "cell_type": "code",
   "execution_count": null,
   "id": "05e8614a",
   "metadata": {
    "ExecuteTime": {
     "start_time": "2021-06-15T18:28:18.230Z"
    }
   },
   "outputs": [],
   "source": [
    "%load_ext autoreload\n",
    "%autoreload 2\n",
    "from PYGEODYNAnalysis_icesat2PCEtrajectory import plot_cd_and_percdiff_from_apriori\n",
    "\n",
    "\n",
    "fig = make_subplots(\n",
    "    rows=2, cols=1,\n",
    "    subplot_titles=([\"Timeseries of Cd\", \"Percent difference from a priori (Cd=2.2)\"]),\n",
    "    vertical_spacing = 0.08,\n",
    "    )\n",
    "fig = plot_cd_and_percdiff_from_apriori(fig,  Obj_Geodyn, 0)\n",
    "# fig = plot_cd_and_percdiff_from_apriori(fig,  Obj_Geodyn3, 1)\n",
    "# fig = plot_cd_and_percdiff_from_apriori(fig,  Obj_Geodyn1, 2)\n",
    "\n",
    "\n",
    "fig.show(config=config)"
   ]
  },
  {
   "cell_type": "code",
   "execution_count": null,
   "id": "e6a84d90",
   "metadata": {
    "ExecuteTime": {
     "start_time": "2021-06-15T18:28:18.232Z"
    }
   },
   "outputs": [],
   "source": [
    "%load_ext autoreload\n",
    "%autoreload 2\n",
    "\n",
    "from PYGEODYNAnalysis_icesat2PCEtrajectory import plot_ScaleDensity_with_CdScaleFactor__2\n",
    "\n",
    "fig = make_subplots(rows=2, cols=1,\n",
    "                subplot_titles=([\"Model Ouptut Density\", \"Model Density * Cd Scaling Factor\"]),\n",
    "                shared_yaxes=True,\n",
    "                vertical_spacing = 0.1,\n",
    "                specs=[\n",
    "                [{\"secondary_y\": False}],\n",
    "                [{\"secondary_y\": False}], ])\n",
    "\n",
    "\n",
    "fig = plot_ScaleDensity_with_CdScaleFactor__2(fig,  Obj_Geodyn, 0, 200)\n",
    "# fig = plot_ScaleDensity_with_CdScaleFactor__2(fig,  Obj_Geodyn3, 1, 200)\n",
    "# fig = plot_ScaleDensity_with_CdScaleFactor__2(fig,  Obj_Geodyn1, 2, 200)\n",
    "\n",
    "# min_y = 1*1e-16\n",
    "# max_y = 9*1e-12\n",
    "# fig.update_yaxes(range=[min_y, max_y], row=1, col=1)\n",
    "# fig.update_yaxes(range=[min_y, max_y], row=2, col=1)\n",
    "\n",
    "fig.show(config=config)\n"
   ]
  },
  {
   "cell_type": "markdown",
   "id": "9d4aeeb9",
   "metadata": {},
   "source": [
    "### Looking at the arc overlap time:\n",
    "\n",
    "We want to show the residuals in the overlap time with the PCE data subtracted away.\n",
    "\n"
   ]
  },
  {
   "cell_type": "code",
   "execution_count": null,
   "id": "1b2249c9",
   "metadata": {
    "ExecuteTime": {
     "start_time": "2021-06-15T18:28:18.235Z"
    }
   },
   "outputs": [],
   "source": [
    "####  ARC_OVERLAP_ObsResids_XYZ\n",
    "\n",
    "%load_ext autoreload\n",
    "%autoreload 2\n",
    "\n",
    "from PYGEODYNAnalysis_icesat2PCEtrajectory import ARCOVERLAP_2arcs_ObsResids_XYZ\n",
    "\n",
    "fig = make_subplots(rows=3, cols=1, \n",
    "            subplot_titles=(['X', 'Y', 'Z']),\n",
    "            vertical_spacing = 0.1,\n",
    "            specs=[ [{\"secondary_y\": True }],\n",
    "                    [{\"secondary_y\": True }], \n",
    "                    [{\"secondary_y\": True }], ],)\n",
    "\n",
    "arc1 = '2018.314'  # '2018.314'\n",
    "arc2 = '2018.315'\n",
    "\n",
    "fig = ARCOVERLAP_2arcs_ObsResids_XYZ(fig, Obj_Geodyn, 0, arc1, arc2)\n",
    "# fig = ARCOVERLAP_2arcs_ObsResids_XYZ(fig, Obj_Geodyn3, 1, arc1, arc2)\n",
    "# fig = ARCOVERLAP_2arcs_ObsResids_XYZ(fig, Obj_Geodyn1, 2, arc1, arc2)\n",
    "\n",
    "fig.show(config=config)\n"
   ]
  },
  {
   "cell_type": "markdown",
   "id": "94e4a904",
   "metadata": {},
   "source": [
    "## PCE Data and the Orbit File:"
   ]
  },
  {
   "cell_type": "markdown",
   "id": "c2aa0d64",
   "metadata": {},
   "source": [
    "### Residual Component Trajectory:\n",
    "\n",
    "Convert the Interial XYZ coordinates to the satellite coordinate system (RSW), then plot the radial component.\n"
   ]
  },
  {
   "cell_type": "markdown",
   "id": "70679622",
   "metadata": {},
   "source": [
    "**Starting Systems:**\n",
    "- `PCE data`\n",
    "   - J2000 Coordinate System\n",
    "   - Inertial satellite State Vector: $[x, y, z, \\dot{x}, \\dot{y}, \\dot{z}]$ (m)\n",
    "- `ORBFIL data`\n",
    "   - Mean of year Coordinate System\n",
    "   - Inertial satellite State Vector: $[x, y, z, \\dot{x}, \\dot{y}, \\dot{z}]$ (m)\n",
    "\n",
    "**Convert from `XYZ` to `RSW`**\n",
    "\n",
    "\n",
    "\n",
    "From Vallado pg. 164:\n",
    "<!-- \n",
    "\n",
    "$$ \\hat{R} = \\frac{\\vec{r}}{\\lvert\\vec{r}\\rvert}$$\n",
    "\n",
    "$$ \\hat{W} = \\frac{\\vec{r} \\times \\vec{v}}{\\lvert \\vec{r} \\times \\vec{v}   \\rvert}$$\n",
    "\n",
    "$$ \\hat{S} = \\hat{W} \\times \\hat{R}$$\n",
    "\n",
    "These allow the transformation:\n",
    "\n",
    "$$ \\vec{r}_{IJK} = \\big[\\hat{R} \\vdots \\hat{S} \\vdots \\hat{W}\\big] \\,\\, \\vec{r}_{RSW}  $$\n",
    "\n",
    "Such that R, S, and W spans the columns of the transformation matrix above.\n",
    "\n",
    "We then rearrange to get our final equation:\n",
    "\n",
    "$$ T = \\big[\\hat{R} \\vdots \\hat{S} \\vdots \\hat{W}\\big]$$\n",
    "\n",
    "$$ \\vec{r}_{IJK} = T \\,\\, \\vec{r}_{RSW}  $$\n",
    "\n",
    "$$ T^{-1} \\vec{r}_{IJK} = (T^{-1} T)\\,\\, \\vec{r}_{RSW}  $$\n",
    "\n",
    "$$  \\vec{r}_{RSW} =  T^{-1} \\vec{r}_{IJK}   $$\n",
    "\n",
    " -->"
   ]
  },
  {
   "cell_type": "code",
   "execution_count": null,
   "id": "ec6a8b08",
   "metadata": {
    "ExecuteTime": {
     "start_time": "2021-06-15T18:28:18.237Z"
    }
   },
   "outputs": [],
   "source": [
    "\n",
    "%load_ext autoreload\n",
    "%autoreload 2\n",
    "\n",
    "from PYGEODYNAnalysis_icesat2PCEtrajectory import ARCOVERLAP_2arcs_ObsResids_RSW_radial\n",
    "\n",
    "fig = make_subplots(rows=2, cols=1, \n",
    "            subplot_titles=(['Radial Component', 'Residual (PCE-ORBFIL)']),\n",
    "            vertical_spacing = 0.2,\n",
    "            specs=[ [{\"secondary_y\": False }],\n",
    "                    [{\"secondary_y\": False }]],)\n",
    "\n",
    "arc1 = '2018.314'\n",
    "arc2 = '2018.315'\n",
    "\n",
    "fig = ARCOVERLAP_2arcs_ObsResids_RSW_radial(fig, Obj_Geodyn2, 0, arc1, arc2)\n",
    "fig = ARCOVERLAP_2arcs_ObsResids_RSW_radial(fig, Obj_Geodyn3, 1, arc1, arc2)\n",
    "fig = ARCOVERLAP_2arcs_ObsResids_RSW_radial(fig, Obj_Geodyn1, 2, arc1, arc2)\n",
    "\n",
    "fig.show(config=config)\n"
   ]
  },
  {
   "cell_type": "code",
   "execution_count": null,
   "id": "348ae6bf",
   "metadata": {
    "ExecuteTime": {
     "start_time": "2021-06-15T18:28:18.239Z"
    }
   },
   "outputs": [],
   "source": [
    "\n",
    "%load_ext autoreload\n",
    "%autoreload 2\n",
    "\n",
    "from PYGEODYNAnalysis_icesat2PCEtrajectory import ARCOVERLAP_2arcs_ObsResids_NTW_intrack\n",
    "\n",
    "fig = make_subplots(rows=2, cols=1, \n",
    "            subplot_titles=(['In-Track Component', 'Residual (PCE-ORBFIL)']),\n",
    "            vertical_spacing = 0.2,\n",
    "            specs=[ [{\"secondary_y\": False }],\n",
    "                    [{\"secondary_y\": False }]],)\n",
    "\n",
    "arc1 = '2018.314'\n",
    "arc2 = '2018.315'\n",
    "\n",
    "fig = ARCOVERLAP_2arcs_ObsResids_NTW_intrack(fig, Obj_Geodyn2, 0, arc1, arc2)\n",
    "fig = ARCOVERLAP_2arcs_ObsResids_NTW_intrack(fig, Obj_Geodyn3, 1, arc1, arc2)\n",
    "fig = ARCOVERLAP_2arcs_ObsResids_NTW_intrack(fig, Obj_Geodyn1, 2, arc1, arc2)\n",
    "\n",
    "fig.show(config=config)\n"
   ]
  },
  {
   "cell_type": "markdown",
   "id": "77f5a6b4",
   "metadata": {},
   "source": [
    "<!-- ### Check how well the PCE file and the ORBIT file match up -->"
   ]
  },
  {
   "cell_type": "code",
   "execution_count": null,
   "id": "c37aa28f",
   "metadata": {},
   "outputs": [],
   "source": []
  }
 ],
 "metadata": {
  "kernelspec": {
   "display_name": "Python 3",
   "language": "python",
   "name": "python3"
  },
  "language_info": {
   "codemirror_mode": {
    "name": "ipython",
    "version": 3
   },
   "file_extension": ".py",
   "mimetype": "text/x-python",
   "name": "python",
   "nbconvert_exporter": "python",
   "pygments_lexer": "ipython3",
   "version": "3.8.8"
  },
  "toc": {
   "base_numbering": 1,
   "nav_menu": {},
   "number_sections": true,
   "sideBar": true,
   "skip_h1_title": false,
   "title_cell": "Table of Contents",
   "title_sidebar": "Contents",
   "toc_cell": false,
   "toc_position": {
    "height": "calc(100% - 180px)",
    "left": "10px",
    "top": "150px",
    "width": "319px"
   },
   "toc_section_display": true,
   "toc_window_display": false
  },
  "varInspector": {
   "cols": {
    "lenName": 16,
    "lenType": 16,
    "lenVar": 40
   },
   "kernels_config": {
    "python": {
     "delete_cmd_postfix": "",
     "delete_cmd_prefix": "del ",
     "library": "var_list.py",
     "varRefreshCmd": "print(var_dic_list())"
    },
    "r": {
     "delete_cmd_postfix": ") ",
     "delete_cmd_prefix": "rm(",
     "library": "var_list.r",
     "varRefreshCmd": "cat(var_dic_list()) "
    }
   },
   "types_to_exclude": [
    "module",
    "function",
    "builtin_function_or_method",
    "instance",
    "_Feature"
   ],
   "window_display": false
  }
 },
 "nbformat": 4,
 "nbformat_minor": 5
}
