{
 "cells": [
  {
   "cell_type": "markdown",
   "id": "4e1bf965",
   "metadata": {},
   "source": [
    "# Trajectory Analysis: Full Arc Set\n",
    "\n",
    "\n"
   ]
  },
  {
   "cell_type": "code",
   "execution_count": 1,
   "id": "8adae716",
   "metadata": {
    "ExecuteTime": {
     "end_time": "2021-06-24T18:46:19.234216Z",
     "start_time": "2021-06-24T18:46:19.085965Z"
    }
   },
   "outputs": [],
   "source": [
    "import copy\n",
    "import sys\n",
    "import os.path\n",
    "import os\n",
    "import numpy as np"
   ]
  },
  {
   "cell_type": "code",
   "execution_count": 2,
   "id": "81f11a17",
   "metadata": {
    "ExecuteTime": {
     "end_time": "2021-06-24T18:46:19.268755Z",
     "start_time": "2021-06-24T18:46:19.236385Z"
    },
    "scrolled": true,
    "tags": []
   },
   "outputs": [
    {
     "name": "stdout",
     "output_type": "stream",
     "text": [
      "number of arcs: 38\n",
      "['2018.291', '2018.292', '2018.293', '2018.294', '2018.295', '2018.296', '2018.297', '2018.298', '2018.299', '2018.300', '2018.303', '2018.304', '2018.305', '2018.306', '2018.307', '2018.308', '2018.309', '2018.312', '2018.313', '2018.314', '2018.315', '2018.316', '2018.317', '2018.318', '2018.319', '2018.320', '2018.321', '2018.322', '2018.323', '2018.324', '2018.325', '2018.326', '2018.327', '2018.328', '2018.330', '2018.331', '2018.334', '2018.335']\n"
     ]
    }
   ],
   "source": [
    "# path_to_binaryrvg   = '/data/data_geodyn/inputs/icesat2/pre_processing/traj_files_rvg'\n",
    "path_to_binaryrvg   = '/data/data_geodyn/inputs/icesat2/setups'\n",
    "\n",
    "\n",
    "# iisset.2018.287.bz2\n",
    "years = [2018]     #,2019]\n",
    "days = np.arange(0, 367)\n",
    "\n",
    "files_list = []\n",
    "count_noletter = 0\n",
    "countA = 0\n",
    "countB = 0\n",
    "\n",
    "for iyear,year in enumerate(years):\n",
    "    for iday,day in enumerate(days):\n",
    "#         filename = 'orbit.1807001.%d.%03d' % (year, day)\n",
    "        filename = 'iisset.%d.%03d' % (year, day)\n",
    "\n",
    "#         filename = '%d.%03d' % (year, day)\n",
    "        __filename = path_to_binaryrvg+ '/'+filename\n",
    "        arc = '%d.%03d' % (year, day)\n",
    "        if os.path.exists(__filename):\n",
    "            count_noletter+=1\n",
    "            files_list.append(arc)\n",
    "        if os.path.exists(__filename + 'A'):\n",
    "            countA += 1\n",
    "            pass\n",
    "        if os.path.exists(__filename + 'B'):\n",
    "            countB += 1\n",
    "            pass\n",
    "        if os.path.exists(__filename + '.gz'):\n",
    "            count_noletter+=1\n",
    "            files_list.append(arc + '')\n",
    "        if os.path.exists(__filename + 'A.gz'):\n",
    "            countA += 1\n",
    "            pass\n",
    "        if os.path.exists(__filename + 'B.gz'):\n",
    "            countB += 1\n",
    "            pass\n",
    "        if os.path.exists(__filename + '.bz2'):\n",
    "            count_noletter+=1\n",
    "            files_list.append(arc + '')\n",
    "        if os.path.exists(__filename + 'A.bz2'):\n",
    "            countA += 1\n",
    "            pass\n",
    "        if os.path.exists(__filename + 'B.bz2'):\n",
    "            countB += 1\n",
    "            pass\n",
    "\n",
    "\n",
    "arc_list = files_list[1:]\n",
    "\n",
    "arc_list = arc_list[1:39]\n",
    "\n",
    "print('number of arcs:', len(arc_list))\n",
    "print(arc_list)"
   ]
  },
  {
   "cell_type": "code",
   "execution_count": 3,
   "id": "a1c85945",
   "metadata": {
    "ExecuteTime": {
     "end_time": "2021-06-24T18:46:19.280730Z",
     "start_time": "2021-06-24T18:46:19.270678Z"
    }
   },
   "outputs": [
    {
     "data": {
      "text/plain": [
       "['2018.313',\n",
       " '2018.314',\n",
       " '2018.315',\n",
       " '2018.316',\n",
       " '2018.317',\n",
       " '2018.318',\n",
       " '2018.319',\n",
       " '2018.320',\n",
       " '2018.321',\n",
       " '2018.322',\n",
       " '2018.323',\n",
       " '2018.324',\n",
       " '2018.325',\n",
       " '2018.326',\n",
       " '2018.327']"
      ]
     },
     "execution_count": 3,
     "metadata": {},
     "output_type": "execute_result"
    }
   ],
   "source": [
    "arc_list = arc_list[18:33]\n",
    "arc_list"
   ]
  },
  {
   "cell_type": "markdown",
   "id": "3d84359d",
   "metadata": {},
   "source": [
    "### Run GEODYN over desired arcs for all dens:\n",
    "\n"
   ]
  },
  {
   "cell_type": "code",
   "execution_count": 4,
   "id": "5fe61dd6",
   "metadata": {
    "ExecuteTime": {
     "end_time": "2021-06-24T18:46:19.288361Z",
     "start_time": "2021-06-24T18:46:19.282518Z"
    }
   },
   "outputs": [],
   "source": [
    "### Identify which arcs you want to run:\n",
    "\n",
    "#------ A dictionary containing the run parameters ------  \n",
    "run_params = {} \n",
    "run_params['arc']              =  arc_list\n",
    "run_params['satellite']        =  'icesat2'  \n",
    "run_params['SpecialRun_name']  =  '_TrajAnalysis_fixed_cd'  \n",
    "run_params['verbose']          =  False\n",
    "# run_params['accels']           =  False \n",
    "# run_params['request_data']      = ['AdjustedParams',\n",
    "#                                     'Trajectory_orbfil',\n",
    "#                                     'Density',\n",
    "#                                     'Residuals_obs',\n",
    "#                                     'Residuals_summary',\n",
    "# #                                     'Statistics',\n",
    "\n",
    "#                                   ]"
   ]
  },
  {
   "cell_type": "code",
   "execution_count": 5,
   "id": "9b47def5",
   "metadata": {
    "ExecuteTime": {
     "end_time": "2021-06-24T20:58:18.791003Z",
     "start_time": "2021-06-24T18:46:19.290139Z"
    }
   },
   "outputs": [
    {
     "name": "stdout",
     "output_type": "stream",
     "text": [
      "                      ......... RUNNING GEODYN\n",
      "Run # 1     Current Time =      18:46:20\n",
      "Run # 1\n",
      "Run # 1     Cleaning iisset... :    /data/data_geodyn/inputs/icesat2/setups/iisset.2018.313.bz2\n",
      "Epoch Start:  2018-11-08 21:00:00\n",
      "+ ———————————————————————————————————————————————————————————————————————————————————————————————————————————————————\n",
      "|\n",
      "| ---------------------- Some run information ----------------------\n",
      "|\n",
      "|  Run # 1     IISSET Cleaned      tmp/.../cleaned_setup_2018313\n",
      "|  Run # 1     Density Model:      msis00\n",
      "|  Run # 1     GEODYN Version:     Kamodo_pygeodyn_MODS\n",
      "|  Run # 1     ARC run:            icesat2_2018313_54hr.msis00\n",
      "|  Run # 1     Output directory:   /data/data_geodyn/results/icesat2/msis00/msis00_acceloff_TrajAnalysis_fixed_cd\n",
      "|  Run # 1     EXAT File:          /data/data_geodyn/inputs/icesat2/external_attitude/EXAT01.2018.313.gz\n",
      "|\n",
      "+ ———————————————————————————————————————————————————————————————————————————————————————————————————————————————————\n",
      "\n",
      "Run # 1          Running IIS\n",
      "Run # 1          No errors in IIS\n",
      "Run # 1 ---------End of IIS\n",
      "\n",
      "Run # 1          Running IIE\n",
      "Run # 1          Current Time = 18:47:46\n",
      "Run # 1          No errors in IIE\n",
      "Run # 1 ---------End of IIE\n",
      "Run # 1          Time of IIE:  766.4205713272095 secs ( 12.773676188786824  mins)\n",
      "Run # 1          Current Time = 19:00:32\n",
      "Run # 1                Finished renaming files\n",
      "Run # 1                Finished copying files to outputdir\n",
      "        Deleting:  msis00_acceloff_TrajAnalysis_fixed_cd\n",
      "Run # 2     Current Time =      19:00:36\n",
      "Run # 2\n",
      "Run # 2     Cleaning iisset... :    /data/data_geodyn/inputs/icesat2/setups/iisset.2018.314.bz2\n",
      "Epoch Start:  2018-11-09 21:00:00\n",
      "+ ———————————————————————————————————————————————————————————————————————————————————————————————————————————————————\n",
      "|\n",
      "| ---------------------- Some run information ----------------------\n",
      "|\n",
      "|  Run # 2     IISSET Cleaned      tmp/.../cleaned_setup_2018314\n",
      "|  Run # 2     Density Model:      msis00\n",
      "|  Run # 2     GEODYN Version:     Kamodo_pygeodyn_MODS\n",
      "|  Run # 2     ARC run:            icesat2_2018314_54hr.msis00\n",
      "|  Run # 2     Output directory:   /data/data_geodyn/results/icesat2/msis00/msis00_acceloff_TrajAnalysis_fixed_cd\n",
      "|  Run # 2     EXAT File:          /data/data_geodyn/inputs/icesat2/external_attitude/EXAT01.2018.314.gz\n",
      "|\n",
      "+ ———————————————————————————————————————————————————————————————————————————————————————————————————————————————————\n",
      "\n",
      "Run # 2          Running IIS\n",
      "Run # 2          No errors in IIS\n",
      "Run # 2 ---------End of IIS\n",
      "\n",
      "Run # 2          Running IIE\n",
      "Run # 2          Current Time = 19:02:01\n",
      "Run # 2          No errors in IIE\n",
      "Run # 2 ---------End of IIE\n",
      "Run # 2          Time of IIE:  1714.1547570228577 secs ( 28.56924595038096  mins)\n",
      "Run # 2          Current Time = 19:30:35\n",
      "Run # 2                Finished renaming files\n",
      "Run # 2                Finished copying files to outputdir\n",
      "        Deleting:  msis00_acceloff_TrajAnalysis_fixed_cd\n",
      "Run # 3     Current Time =      19:30:39\n",
      "Run # 3\n",
      "Run # 3     Cleaning iisset... :    /data/data_geodyn/inputs/icesat2/setups/iisset.2018.315.bz2\n",
      "Epoch Start:  2018-11-10 21:00:00\n",
      "+ ———————————————————————————————————————————————————————————————————————————————————————————————————————————————————\n",
      "|\n",
      "| ---------------------- Some run information ----------------------\n",
      "|\n",
      "|  Run # 3     IISSET Cleaned      tmp/.../cleaned_setup_2018315\n",
      "|  Run # 3     Density Model:      msis00\n",
      "|  Run # 3     GEODYN Version:     Kamodo_pygeodyn_MODS\n",
      "|  Run # 3     ARC run:            icesat2_2018315_54hr.msis00\n",
      "|  Run # 3     Output directory:   /data/data_geodyn/results/icesat2/msis00/msis00_acceloff_TrajAnalysis_fixed_cd\n",
      "|  Run # 3     EXAT File:          /data/data_geodyn/inputs/icesat2/external_attitude/EXAT01.2018.315.gz\n",
      "|\n",
      "+ ———————————————————————————————————————————————————————————————————————————————————————————————————————————————————\n",
      "\n",
      "Run # 3          Running IIS\n",
      "Run # 3          No errors in IIS\n",
      "Run # 3 ---------End of IIS\n",
      "\n",
      "Run # 3          Running IIE\n",
      "Run # 3          Current Time = 19:32:09\n",
      "Run # 3          No errors in IIE\n",
      "Run # 3 ---------End of IIE\n",
      "Run # 3          Time of IIE:  983.0548045635223 secs ( 16.384246742725374  mins)\n",
      "Run # 3          Current Time = 19:48:33\n",
      "Run # 3                Finished renaming files\n",
      "Run # 3                Finished copying files to outputdir\n",
      "        Deleting:  msis00_acceloff_TrajAnalysis_fixed_cd\n",
      "Run # 4     Current Time =      19:48:51\n",
      "Run # 4\n",
      "Run # 4     Cleaning iisset... :    /data/data_geodyn/inputs/icesat2/setups/iisset.2018.316.bz2\n",
      "Epoch Start:  2018-11-11 21:00:00\n",
      "+ ———————————————————————————————————————————————————————————————————————————————————————————————————————————————————\n",
      "|\n",
      "| ---------------------- Some run information ----------------------\n",
      "|\n",
      "|  Run # 4     IISSET Cleaned      tmp/.../cleaned_setup_2018316\n",
      "|  Run # 4     Density Model:      msis00\n",
      "|  Run # 4     GEODYN Version:     Kamodo_pygeodyn_MODS\n",
      "|  Run # 4     ARC run:            icesat2_2018316_54hr.msis00\n",
      "|  Run # 4     Output directory:   /data/data_geodyn/results/icesat2/msis00/msis00_acceloff_TrajAnalysis_fixed_cd\n",
      "|  Run # 4     EXAT File:          /data/data_geodyn/inputs/icesat2/external_attitude/EXAT01.2018.316.gz\n",
      "|\n",
      "+ ———————————————————————————————————————————————————————————————————————————————————————————————————————————————————\n",
      "\n",
      "Run # 4          Running IIS\n",
      "Run # 4          No errors in IIS\n",
      "Run # 4 ---------End of IIS\n",
      "\n",
      "Run # 4          Running IIE\n",
      "Run # 4          Current Time = 19:50:50\n",
      "Run # 4          No errors in IIE\n",
      "Run # 4 ---------End of IIE\n",
      "Run # 4          Time of IIE:  1643.5122764110565 secs ( 27.39187127351761  mins)\n",
      "Run # 4          Current Time = 20:18:14\n",
      "Run # 4                Finished renaming files\n",
      "Run # 4                Finished copying files to outputdir\n",
      "        Deleting:  msis00_acceloff_TrajAnalysis_fixed_cd\n",
      "Run # 5     Current Time =      20:18:33\n",
      "Run # 5\n",
      "Run # 5     Cleaning iisset... :    /data/data_geodyn/inputs/icesat2/setups/iisset.2018.317.bz2\n",
      "Epoch Start:  2018-11-12 21:00:00\n",
      "+ ———————————————————————————————————————————————————————————————————————————————————————————————————————————————————\n",
      "|\n",
      "| ---------------------- Some run information ----------------------\n",
      "|\n",
      "|  Run # 5     IISSET Cleaned      tmp/.../cleaned_setup_2018317\n",
      "|  Run # 5     Density Model:      msis00\n",
      "|  Run # 5     GEODYN Version:     Kamodo_pygeodyn_MODS\n",
      "|  Run # 5     ARC run:            icesat2_2018317_54hr.msis00\n",
      "|  Run # 5     Output directory:   /data/data_geodyn/results/icesat2/msis00/msis00_acceloff_TrajAnalysis_fixed_cd\n",
      "|  Run # 5     EXAT File:          /data/data_geodyn/inputs/icesat2/external_attitude/EXAT01.2018.317.gz\n",
      "|\n",
      "+ ———————————————————————————————————————————————————————————————————————————————————————————————————————————————————\n",
      "\n",
      "Run # 5          Running IIS\n",
      "Run # 5          No errors in IIS\n",
      "Run # 5 ---------End of IIS\n",
      "\n",
      "Run # 5          Running IIE\n",
      "Run # 5          Current Time = 20:20:48\n",
      "Run # 5          No errors in IIE\n",
      "Run # 5 ---------End of IIE\n",
      "Run # 5          Time of IIE:  1886.283974647522 secs ( 31.438066244125366  mins)\n",
      "Run # 5          Current Time = 20:52:15\n",
      "Run # 5                Finished renaming files\n",
      "Run # 5                Finished copying files to outputdir\n",
      "        Deleting:  msis00_acceloff_TrajAnalysis_fixed_cd\n",
      "Run # 6     Current Time =      20:52:34\n",
      "Run # 6\n",
      "Run # 6     Cleaning iisset... :    /data/data_geodyn/inputs/icesat2/setups/iisset.2018.318.bz2\n",
      "Epoch Start:  2018-11-13 21:00:00\n",
      "+ ———————————————————————————————————————————————————————————————————————————————————————————————————————————————————\n",
      "|\n",
      "| ---------------------- Some run information ----------------------\n",
      "|\n",
      "|  Run # 6     IISSET Cleaned      tmp/.../cleaned_setup_2018318\n",
      "|  Run # 6     Density Model:      msis00\n",
      "|  Run # 6     GEODYN Version:     Kamodo_pygeodyn_MODS\n",
      "|  Run # 6     ARC run:            icesat2_2018318_54hr.msis00\n",
      "|  Run # 6     Output directory:   /data/data_geodyn/results/icesat2/msis00/msis00_acceloff_TrajAnalysis_fixed_cd\n",
      "|  Run # 6     EXAT File:          /data/data_geodyn/inputs/icesat2/external_attitude/EXAT01.2018.318.gz\n",
      "|\n",
      "+ ———————————————————————————————————————————————————————————————————————————————————————————————————————————————————\n"
     ]
    },
    {
     "name": "stdout",
     "output_type": "stream",
     "text": [
      "\n",
      "Run # 6          Running IIS\n",
      "Run # 6          No errors in IIS\n",
      "Run # 6 ---------End of IIS\n",
      "\n",
      "Run # 6          Running IIE\n",
      "Run # 6          Current Time = 20:55:40\n"
     ]
    },
    {
     "ename": "KeyboardInterrupt",
     "evalue": "",
     "output_type": "error",
     "traceback": [
      "\u001b[0;31m---------------------------------------------------------------------------\u001b[0m",
      "\u001b[0;31mKeyboardInterrupt\u001b[0m                         Traceback (most recent call last)",
      "\u001b[0;32m<ipython-input-5-9d7fb7e9cc74>\u001b[0m in \u001b[0;36m<module>\u001b[0;34m\u001b[0m\n\u001b[1;32m     15\u001b[0m     \u001b[0;31m### Load the data into an object\u001b[0m\u001b[0;34m\u001b[0m\u001b[0;34m\u001b[0m\u001b[0;34m\u001b[0m\u001b[0m\n\u001b[1;32m     16\u001b[0m     \u001b[0mObj_Geodyn\u001b[0m \u001b[0;34m=\u001b[0m \u001b[0mPygeodyn\u001b[0m\u001b[0;34m(\u001b[0m\u001b[0mrun_params1\u001b[0m\u001b[0;34m)\u001b[0m\u001b[0;34m\u001b[0m\u001b[0;34m\u001b[0m\u001b[0m\n\u001b[0;32m---> 17\u001b[0;31m     \u001b[0mObj_Geodyn\u001b[0m\u001b[0;34m.\u001b[0m\u001b[0mRUN_GEODYN\u001b[0m\u001b[0;34m(\u001b[0m\u001b[0;34m)\u001b[0m\u001b[0;34m\u001b[0m\u001b[0;34m\u001b[0m\u001b[0m\n\u001b[0m\u001b[1;32m     18\u001b[0m \u001b[0;34m\u001b[0m\u001b[0m\n\u001b[1;32m     19\u001b[0m \u001b[0;34m\u001b[0m\u001b[0m\n",
      "\u001b[0;32m/data/geodyn_proj/pygeodyn/pygeodyn_develop/PYGEODYN_Control.py\u001b[0m in \u001b[0;36mRUN_GEODYN\u001b[0;34m(self)\u001b[0m\n\u001b[1;32m    675\u001b[0m             \u001b[0mself\u001b[0m\u001b[0;34m.\u001b[0m\u001b[0mprint_runparameters_to_notebook\u001b[0m\u001b[0;34m(\u001b[0m\u001b[0;34m)\u001b[0m\u001b[0;34m\u001b[0m\u001b[0;34m\u001b[0m\u001b[0m\n\u001b[1;32m    676\u001b[0m             \u001b[0mself\u001b[0m\u001b[0;34m.\u001b[0m\u001b[0mprepare_tmpdir_for_geodyn_run\u001b[0m\u001b[0;34m(\u001b[0m\u001b[0;34m)\u001b[0m\u001b[0;34m\u001b[0m\u001b[0;34m\u001b[0m\u001b[0m\n\u001b[0;32m--> 677\u001b[0;31m             \u001b[0mself\u001b[0m\u001b[0;34m.\u001b[0m\u001b[0mrun_geodyn_in_tmpdir\u001b[0m\u001b[0;34m(\u001b[0m\u001b[0;34m)\u001b[0m\u001b[0;34m\u001b[0m\u001b[0;34m\u001b[0m\u001b[0m\n\u001b[0m\u001b[1;32m    678\u001b[0m             \u001b[0mself\u001b[0m\u001b[0;34m.\u001b[0m\u001b[0mpost_geodynrun_savefiles_and_cleanup\u001b[0m\u001b[0;34m(\u001b[0m\u001b[0;34m)\u001b[0m\u001b[0;34m\u001b[0m\u001b[0;34m\u001b[0m\u001b[0m\n\u001b[1;32m    679\u001b[0m \u001b[0;34m\u001b[0m\u001b[0m\n",
      "\u001b[0;32m/data/geodyn_proj/pygeodyn/pygeodyn_develop/PYGEODYN_Control.py\u001b[0m in \u001b[0;36mrun_geodyn_in_tmpdir\u001b[0;34m(self)\u001b[0m\n\u001b[1;32m    488\u001b[0m         \u001b[0mcommand_IIE\u001b[0m \u001b[0;34m=\u001b[0m \u001b[0mself\u001b[0m\u001b[0;34m.\u001b[0m\u001b[0mG2EDIR\u001b[0m\u001b[0;34m+\u001b[0m\u001b[0;34m'/giie2002_gfortran > '\u001b[0m\u001b[0;34m+\u001b[0m\u001b[0;34m'iieout 2> '\u001b[0m\u001b[0;34m+\u001b[0m\u001b[0;34m'iieerr'\u001b[0m\u001b[0;34m\u001b[0m\u001b[0;34m\u001b[0m\u001b[0m\n\u001b[1;32m    489\u001b[0m         \u001b[0mtime\u001b[0m\u001b[0;34m.\u001b[0m\u001b[0msleep\u001b[0m\u001b[0;34m(\u001b[0m\u001b[0;36m0.5\u001b[0m\u001b[0;34m)\u001b[0m\u001b[0;34m\u001b[0m\u001b[0;34m\u001b[0m\u001b[0m\n\u001b[0;32m--> 490\u001b[0;31m         \u001b[0msubprocess\u001b[0m\u001b[0;34m.\u001b[0m\u001b[0mrun\u001b[0m\u001b[0;34m(\u001b[0m\u001b[0mcommand_IIE\u001b[0m\u001b[0;34m,\u001b[0m \u001b[0mshell\u001b[0m \u001b[0;34m=\u001b[0m \u001b[0;32mTrue\u001b[0m\u001b[0;34m)\u001b[0m\u001b[0;34m\u001b[0m\u001b[0;34m\u001b[0m\u001b[0m\n\u001b[0m\u001b[1;32m    491\u001b[0m         \u001b[0mtime\u001b[0m\u001b[0;34m.\u001b[0m\u001b[0msleep\u001b[0m\u001b[0;34m(\u001b[0m\u001b[0;36m0.5\u001b[0m\u001b[0;34m)\u001b[0m\u001b[0;34m\u001b[0m\u001b[0;34m\u001b[0m\u001b[0m\n\u001b[1;32m    492\u001b[0m \u001b[0;34m\u001b[0m\u001b[0m\n",
      "\u001b[0;32m/data/miniconda3/envs/pygeodyn/lib/python3.8/subprocess.py\u001b[0m in \u001b[0;36mrun\u001b[0;34m(input, capture_output, timeout, check, *popenargs, **kwargs)\u001b[0m\n\u001b[1;32m    493\u001b[0m     \u001b[0;32mwith\u001b[0m \u001b[0mPopen\u001b[0m\u001b[0;34m(\u001b[0m\u001b[0;34m*\u001b[0m\u001b[0mpopenargs\u001b[0m\u001b[0;34m,\u001b[0m \u001b[0;34m**\u001b[0m\u001b[0mkwargs\u001b[0m\u001b[0;34m)\u001b[0m \u001b[0;32mas\u001b[0m \u001b[0mprocess\u001b[0m\u001b[0;34m:\u001b[0m\u001b[0;34m\u001b[0m\u001b[0;34m\u001b[0m\u001b[0m\n\u001b[1;32m    494\u001b[0m         \u001b[0;32mtry\u001b[0m\u001b[0;34m:\u001b[0m\u001b[0;34m\u001b[0m\u001b[0;34m\u001b[0m\u001b[0m\n\u001b[0;32m--> 495\u001b[0;31m             \u001b[0mstdout\u001b[0m\u001b[0;34m,\u001b[0m \u001b[0mstderr\u001b[0m \u001b[0;34m=\u001b[0m \u001b[0mprocess\u001b[0m\u001b[0;34m.\u001b[0m\u001b[0mcommunicate\u001b[0m\u001b[0;34m(\u001b[0m\u001b[0minput\u001b[0m\u001b[0;34m,\u001b[0m \u001b[0mtimeout\u001b[0m\u001b[0;34m=\u001b[0m\u001b[0mtimeout\u001b[0m\u001b[0;34m)\u001b[0m\u001b[0;34m\u001b[0m\u001b[0;34m\u001b[0m\u001b[0m\n\u001b[0m\u001b[1;32m    496\u001b[0m         \u001b[0;32mexcept\u001b[0m \u001b[0mTimeoutExpired\u001b[0m \u001b[0;32mas\u001b[0m \u001b[0mexc\u001b[0m\u001b[0;34m:\u001b[0m\u001b[0;34m\u001b[0m\u001b[0;34m\u001b[0m\u001b[0m\n\u001b[1;32m    497\u001b[0m             \u001b[0mprocess\u001b[0m\u001b[0;34m.\u001b[0m\u001b[0mkill\u001b[0m\u001b[0;34m(\u001b[0m\u001b[0;34m)\u001b[0m\u001b[0;34m\u001b[0m\u001b[0;34m\u001b[0m\u001b[0m\n",
      "\u001b[0;32m/data/miniconda3/envs/pygeodyn/lib/python3.8/subprocess.py\u001b[0m in \u001b[0;36mcommunicate\u001b[0;34m(self, input, timeout)\u001b[0m\n\u001b[1;32m   1018\u001b[0m                 \u001b[0mstderr\u001b[0m \u001b[0;34m=\u001b[0m \u001b[0mself\u001b[0m\u001b[0;34m.\u001b[0m\u001b[0mstderr\u001b[0m\u001b[0;34m.\u001b[0m\u001b[0mread\u001b[0m\u001b[0;34m(\u001b[0m\u001b[0;34m)\u001b[0m\u001b[0;34m\u001b[0m\u001b[0;34m\u001b[0m\u001b[0m\n\u001b[1;32m   1019\u001b[0m                 \u001b[0mself\u001b[0m\u001b[0;34m.\u001b[0m\u001b[0mstderr\u001b[0m\u001b[0;34m.\u001b[0m\u001b[0mclose\u001b[0m\u001b[0;34m(\u001b[0m\u001b[0;34m)\u001b[0m\u001b[0;34m\u001b[0m\u001b[0;34m\u001b[0m\u001b[0m\n\u001b[0;32m-> 1020\u001b[0;31m             \u001b[0mself\u001b[0m\u001b[0;34m.\u001b[0m\u001b[0mwait\u001b[0m\u001b[0;34m(\u001b[0m\u001b[0;34m)\u001b[0m\u001b[0;34m\u001b[0m\u001b[0;34m\u001b[0m\u001b[0m\n\u001b[0m\u001b[1;32m   1021\u001b[0m         \u001b[0;32melse\u001b[0m\u001b[0;34m:\u001b[0m\u001b[0;34m\u001b[0m\u001b[0;34m\u001b[0m\u001b[0m\n\u001b[1;32m   1022\u001b[0m             \u001b[0;32mif\u001b[0m \u001b[0mtimeout\u001b[0m \u001b[0;32mis\u001b[0m \u001b[0;32mnot\u001b[0m \u001b[0;32mNone\u001b[0m\u001b[0;34m:\u001b[0m\u001b[0;34m\u001b[0m\u001b[0;34m\u001b[0m\u001b[0m\n",
      "\u001b[0;32m/data/miniconda3/envs/pygeodyn/lib/python3.8/subprocess.py\u001b[0m in \u001b[0;36mwait\u001b[0;34m(self, timeout)\u001b[0m\n\u001b[1;32m   1081\u001b[0m             \u001b[0mendtime\u001b[0m \u001b[0;34m=\u001b[0m \u001b[0m_time\u001b[0m\u001b[0;34m(\u001b[0m\u001b[0;34m)\u001b[0m \u001b[0;34m+\u001b[0m \u001b[0mtimeout\u001b[0m\u001b[0;34m\u001b[0m\u001b[0;34m\u001b[0m\u001b[0m\n\u001b[1;32m   1082\u001b[0m         \u001b[0;32mtry\u001b[0m\u001b[0;34m:\u001b[0m\u001b[0;34m\u001b[0m\u001b[0;34m\u001b[0m\u001b[0m\n\u001b[0;32m-> 1083\u001b[0;31m             \u001b[0;32mreturn\u001b[0m \u001b[0mself\u001b[0m\u001b[0;34m.\u001b[0m\u001b[0m_wait\u001b[0m\u001b[0;34m(\u001b[0m\u001b[0mtimeout\u001b[0m\u001b[0;34m=\u001b[0m\u001b[0mtimeout\u001b[0m\u001b[0;34m)\u001b[0m\u001b[0;34m\u001b[0m\u001b[0;34m\u001b[0m\u001b[0m\n\u001b[0m\u001b[1;32m   1084\u001b[0m         \u001b[0;32mexcept\u001b[0m \u001b[0mKeyboardInterrupt\u001b[0m\u001b[0;34m:\u001b[0m\u001b[0;34m\u001b[0m\u001b[0;34m\u001b[0m\u001b[0m\n\u001b[1;32m   1085\u001b[0m             \u001b[0;31m# https://bugs.python.org/issue25942\u001b[0m\u001b[0;34m\u001b[0m\u001b[0;34m\u001b[0m\u001b[0;34m\u001b[0m\u001b[0m\n",
      "\u001b[0;32m/data/miniconda3/envs/pygeodyn/lib/python3.8/subprocess.py\u001b[0m in \u001b[0;36m_wait\u001b[0;34m(self, timeout)\u001b[0m\n\u001b[1;32m   1806\u001b[0m                         \u001b[0;32mif\u001b[0m \u001b[0mself\u001b[0m\u001b[0;34m.\u001b[0m\u001b[0mreturncode\u001b[0m \u001b[0;32mis\u001b[0m \u001b[0;32mnot\u001b[0m \u001b[0;32mNone\u001b[0m\u001b[0;34m:\u001b[0m\u001b[0;34m\u001b[0m\u001b[0;34m\u001b[0m\u001b[0m\n\u001b[1;32m   1807\u001b[0m                             \u001b[0;32mbreak\u001b[0m  \u001b[0;31m# Another thread waited.\u001b[0m\u001b[0;34m\u001b[0m\u001b[0;34m\u001b[0m\u001b[0m\n\u001b[0;32m-> 1808\u001b[0;31m                         \u001b[0;34m(\u001b[0m\u001b[0mpid\u001b[0m\u001b[0;34m,\u001b[0m \u001b[0msts\u001b[0m\u001b[0;34m)\u001b[0m \u001b[0;34m=\u001b[0m \u001b[0mself\u001b[0m\u001b[0;34m.\u001b[0m\u001b[0m_try_wait\u001b[0m\u001b[0;34m(\u001b[0m\u001b[0;36m0\u001b[0m\u001b[0;34m)\u001b[0m\u001b[0;34m\u001b[0m\u001b[0;34m\u001b[0m\u001b[0m\n\u001b[0m\u001b[1;32m   1809\u001b[0m                         \u001b[0;31m# Check the pid and loop as waitpid has been known to\u001b[0m\u001b[0;34m\u001b[0m\u001b[0;34m\u001b[0m\u001b[0;34m\u001b[0m\u001b[0m\n\u001b[1;32m   1810\u001b[0m                         \u001b[0;31m# return 0 even without WNOHANG in odd situations.\u001b[0m\u001b[0;34m\u001b[0m\u001b[0;34m\u001b[0m\u001b[0;34m\u001b[0m\u001b[0m\n",
      "\u001b[0;32m/data/miniconda3/envs/pygeodyn/lib/python3.8/subprocess.py\u001b[0m in \u001b[0;36m_try_wait\u001b[0;34m(self, wait_flags)\u001b[0m\n\u001b[1;32m   1764\u001b[0m             \u001b[0;34m\"\"\"All callers to this function MUST hold self._waitpid_lock.\"\"\"\u001b[0m\u001b[0;34m\u001b[0m\u001b[0;34m\u001b[0m\u001b[0m\n\u001b[1;32m   1765\u001b[0m             \u001b[0;32mtry\u001b[0m\u001b[0;34m:\u001b[0m\u001b[0;34m\u001b[0m\u001b[0;34m\u001b[0m\u001b[0m\n\u001b[0;32m-> 1766\u001b[0;31m                 \u001b[0;34m(\u001b[0m\u001b[0mpid\u001b[0m\u001b[0;34m,\u001b[0m \u001b[0msts\u001b[0m\u001b[0;34m)\u001b[0m \u001b[0;34m=\u001b[0m \u001b[0mos\u001b[0m\u001b[0;34m.\u001b[0m\u001b[0mwaitpid\u001b[0m\u001b[0;34m(\u001b[0m\u001b[0mself\u001b[0m\u001b[0;34m.\u001b[0m\u001b[0mpid\u001b[0m\u001b[0;34m,\u001b[0m \u001b[0mwait_flags\u001b[0m\u001b[0;34m)\u001b[0m\u001b[0;34m\u001b[0m\u001b[0;34m\u001b[0m\u001b[0m\n\u001b[0m\u001b[1;32m   1767\u001b[0m             \u001b[0;32mexcept\u001b[0m \u001b[0mChildProcessError\u001b[0m\u001b[0;34m:\u001b[0m\u001b[0;34m\u001b[0m\u001b[0;34m\u001b[0m\u001b[0m\n\u001b[1;32m   1768\u001b[0m                 \u001b[0;31m# This happens if SIGCLD is set to be ignored or waiting\u001b[0m\u001b[0;34m\u001b[0m\u001b[0;34m\u001b[0m\u001b[0;34m\u001b[0m\u001b[0m\n",
      "\u001b[0;31mKeyboardInterrupt\u001b[0m: "
     ]
    }
   ],
   "source": [
    "%load_ext autoreload\n",
    "%autoreload 2\n",
    "\n",
    "import pickle \n",
    "sys.path.insert(0, '/data/geodyn_proj/pygeodyn/pygeodyn_develop/')\n",
    "from PYGEODYN import Pygeodyn\n",
    "\n",
    "# Obj_Geodyn = {}\n",
    "\n",
    "for imodel,val_model in enumerate([ 'msis00' ,'msis86','dtm87','jaachi71']):  # 'msis2' ,'msis86', 'msis00','dtm87', \n",
    "    run_params1 = copy.deepcopy(run_params)\n",
    "    run_params1['den_model']  =  val_model  \n",
    "    run_params1['action']           =  'run'\n",
    "\n",
    "    ### Load the data into an object\n",
    "    Obj_Geodyn = Pygeodyn(run_params1)\n",
    "    Obj_Geodyn.RUN_GEODYN()\n",
    "\n",
    "\n"
   ]
  },
  {
   "cell_type": "code",
   "execution_count": null,
   "id": "953f4115",
   "metadata": {
    "ExecuteTime": {
     "end_time": "2021-06-24T20:58:19.028372Z",
     "start_time": "2021-06-24T18:46:18.518Z"
    }
   },
   "outputs": [],
   "source": [
    "import sys\n",
    "sys.exit()"
   ]
  },
  {
   "cell_type": "markdown",
   "id": "cfa14482",
   "metadata": {},
   "source": [
    "### Get MSIS2 Data"
   ]
  },
  {
   "cell_type": "code",
   "execution_count": null,
   "id": "c5ac6738",
   "metadata": {
    "ExecuteTime": {
     "end_time": "2021-06-24T20:58:19.045918Z",
     "start_time": "2021-06-24T18:46:18.520Z"
    },
    "tags": []
   },
   "outputs": [],
   "source": [
    "%load_ext autoreload\n",
    "%autoreload 2\n",
    "\n",
    "import pickle \n",
    "sys.path.insert(0, '/data/geodyn_proj/pygeodyn/pygeodyn_develop/')\n",
    "from PYGEODYN import Pygeodyn\n",
    "\n",
    "Obj_Geodyn = {}\n",
    "\n",
    "for imodel,val_model in enumerate( ['msis2','msis00' ,'msis86']):  # 'msis2' ,'msis86', 'msis00','dtm87', \n",
    "    read_params = copy.deepcopy(run_params)\n",
    "    read_params['den_model']  =  val_model  \n",
    "\n",
    "    ### Load the data into an object\n",
    "    Obj_Geodyn[val_model] = Pygeodyn(read_params)\n",
    "    Obj_Geodyn[val_model].getData()\n",
    "\n",
    "\n"
   ]
  },
  {
   "cell_type": "code",
   "execution_count": null,
   "id": "de1b954a",
   "metadata": {
    "ExecuteTime": {
     "end_time": "2021-06-24T20:58:19.046769Z",
     "start_time": "2021-06-24T18:46:18.522Z"
    }
   },
   "outputs": [],
   "source": [
    "# import sys \n",
    "# sys.exit()"
   ]
  },
  {
   "cell_type": "code",
   "execution_count": null,
   "id": "1ba073c6",
   "metadata": {
    "ExecuteTime": {
     "end_time": "2021-06-24T20:58:19.047534Z",
     "start_time": "2021-06-24T18:46:18.523Z"
    }
   },
   "outputs": [],
   "source": [
    "# icesat2_TrajAnalysis_allarcs_msis2.pkl\n",
    "\n",
    "# read_params = copy.deepcopy(run_params)\n",
    "# read_params['den_model']  =  'msis2'  \n",
    "# read_params"
   ]
  },
  {
   "cell_type": "code",
   "execution_count": null,
   "id": "142474b6",
   "metadata": {
    "ExecuteTime": {
     "end_time": "2021-06-24T20:58:19.048311Z",
     "start_time": "2021-06-24T18:46:18.525Z"
    }
   },
   "outputs": [],
   "source": [
    "# %load_ext autoreload\n",
    "# %autoreload 2\n",
    "\n",
    "# import pickle \n",
    "# sys.path.insert(0, '/data/geodyn_proj/pygeodyn/pygeodyn_develop/')\n",
    "# from PYGEODYN import Pygeodyn\n",
    "\n",
    "\n",
    "# for imodel,val_model in enumerate( [  'jaachia71']):  # 'msis2' ,'msis86', 'msis00','dtm87', \n",
    "#     read_params = copy.deepcopy(run_params)\n",
    "#     read_params['den_model']  =  val_model  \n",
    "\n",
    "#     ### Load the data into an object\n",
    "#     Obj_Geodyn = 0\n",
    "#     Obj_Geodyn = Pygeodyn(read_params)\n",
    "#     Obj_Geodyn.getData()\n",
    "\n",
    "\n",
    "#     #### Pickle the object to save it\n",
    "#     print('Saving pickle')\n",
    "#     dir_save = '/data/data_geodyn/results/icesat2/'+'/'\n",
    "#     filehandler = open(dir_save+'icesat2_TrajAnalysis_allarcs_'+read_params['den_model']+'.pkl', 'wb') \n",
    "#     pickle.dump(Obj_Geodyn, filehandler)\n",
    "#     filehandler.close()\n",
    "#     Obj_Geodyn = 0\n",
    "#     print('Saved pickle')\n",
    "\n",
    "# #     os.system('bzip2 -v '+ dir_save+'icesat2_TrajAnalysis_allarcs_'+read_params['den_model']+'.pkl')\n",
    "\n"
   ]
  },
  {
   "cell_type": "code",
   "execution_count": null,
   "id": "d3289fa0",
   "metadata": {
    "ExecuteTime": {
     "end_time": "2021-06-24T20:58:19.086071Z",
     "start_time": "2021-06-24T18:46:18.526Z"
    }
   },
   "outputs": [],
   "source": [
    "# # read the object in from a pickle\n",
    "# import pickle\n",
    "\n",
    "# dir_save = '/data/data_geodyn/results/icesat2/'\n",
    "\n",
    "# filehandler = open(dir_save+'icesat2_TrajAnalysis_allarcs_'+read_params['den_model']+'.pkl', 'rb') \n",
    "# Obj_data_pkl = pickle.load(filehandler)\n",
    "# filehandler.close()\n",
    "\n",
    "\n",
    "\n",
    "# # the object has density in a dictionary of arcs:\n",
    "# Obj_data_pkl.__dict__.keys()\n",
    "\n",
    "\n",
    "\n",
    "\n",
    "\n",
    "# # looking at the first 2 week arc, the density is stored as a pandas dataframe\n",
    "# # Obj_data_pkl.Density\n",
    "\n"
   ]
  },
  {
   "cell_type": "code",
   "execution_count": null,
   "id": "a7ab9671",
   "metadata": {
    "ExecuteTime": {
     "end_time": "2021-06-24T20:58:19.087013Z",
     "start_time": "2021-06-24T18:46:18.528Z"
    }
   },
   "outputs": [],
   "source": [
    "# Obj_data_pkl"
   ]
  },
  {
   "cell_type": "code",
   "execution_count": null,
   "id": "a8b6a2d1",
   "metadata": {
    "ExecuteTime": {
     "end_time": "2021-06-24T20:58:19.087756Z",
     "start_time": "2021-06-24T18:46:18.530Z"
    }
   },
   "outputs": [],
   "source": [
    "import plotly.graph_objects as go\n",
    "from plotly.offline import plot, iplot\n",
    "from plotly.subplots import make_subplots\n",
    "import plotly.express as px\n",
    "\n",
    "\n",
    "config = dict({\n",
    "                'displayModeBar': True,\n",
    "                'responsive': False,\n",
    "                'staticPlot': True,\n",
    "                'displaylogo': False,\n",
    "                'showTips': False,\n",
    "                })"
   ]
  },
  {
   "cell_type": "markdown",
   "id": "403b7315",
   "metadata": {},
   "source": [
    "### 1. Residuals of the POD across many arcs\n",
    "\n",
    "\n",
    "\n",
    "Resids =  PCE -  POD Trajectory\n",
    "\n",
    "\n",
    "\n"
   ]
  },
  {
   "cell_type": "code",
   "execution_count": null,
   "id": "87b138ec",
   "metadata": {
    "ExecuteTime": {
     "end_time": "2021-06-24T20:58:19.088523Z",
     "start_time": "2021-06-24T18:46:18.532Z"
    }
   },
   "outputs": [],
   "source": [
    "%load_ext autoreload\n",
    "%autoreload 2\n",
    "\n",
    "from PYGEODYNAnalysis_icesat2PCEtrajectory import plot_residual_meas_summary\n",
    "from PYGEODYNAnalysis_icesat2PCEtrajectory import rms_summary_table\n",
    "\n",
    "\n",
    "Obj_list = [Obj_Geodyn['msis2'],Obj_Geodyn['msis00'], Obj_Geodyn['msis86']]\n",
    "rms_summary_table(Obj_list)\n",
    "\n",
    "\n",
    "fig = make_subplots(rows=2, cols=1, \n",
    "     subplot_titles=([\"Mean Residuals per Arc\", 'RMS of Fit per Arc']),\n",
    "     vertical_spacing = 0.1)\n",
    "fig = plot_residual_meas_summary(fig, Obj_Geodyn['msis2'], 0)\n",
    "fig = plot_residual_meas_summary(fig, Obj_Geodyn['msis00'], 1)\n",
    "fig = plot_residual_meas_summary(fig, Obj_Geodyn['msis86'], 2)\n",
    "fig.show(config=config)\n",
    "\n"
   ]
  },
  {
   "cell_type": "code",
   "execution_count": null,
   "id": "bbf43a47",
   "metadata": {
    "ExecuteTime": {
     "end_time": "2021-06-24T20:58:19.089278Z",
     "start_time": "2021-06-24T18:46:18.533Z"
    }
   },
   "outputs": [],
   "source": [
    "%load_ext autoreload\n",
    "%autoreload 2\n",
    "\n",
    "from PYGEODYNAnalysis_icesat2PCEtrajectory import plot_residuals_observed\n",
    "\n",
    "\n",
    "\n",
    "fig = make_subplots(rows=3, cols=1, \n",
    "            subplot_titles=(['X', 'Y', 'Z']),\n",
    "            vertical_spacing = 0.1,\n",
    "                       )\n",
    "\n",
    "fig = plot_residuals_observed(fig, Obj_Geodyn['msis2'], 0)\n",
    "fig = plot_residuals_observed(fig, Obj_Geodyn['msis00'], 1)\n",
    "fig = plot_residuals_observed(fig, Obj_Geodyn['msis86'], 2)\n",
    "\n",
    "fig.update_layout(title=\"Observation Residuals (PCE - Observed , T.O.R.)\")\n",
    "\n",
    "fig.show(config=config)\n"
   ]
  },
  {
   "cell_type": "code",
   "execution_count": null,
   "id": "05e8614a",
   "metadata": {
    "ExecuteTime": {
     "end_time": "2021-06-24T20:58:19.106720Z",
     "start_time": "2021-06-24T18:46:18.535Z"
    }
   },
   "outputs": [],
   "source": [
    "%load_ext autoreload\n",
    "%autoreload 2\n",
    "from PYGEODYNAnalysis_icesat2PCEtrajectory import plot_cd_and_percdiff_from_apriori\n",
    "\n",
    "\n",
    "fig = make_subplots(\n",
    "    rows=2, cols=1,\n",
    "    subplot_titles=([\"Timeseries of Cd\", \"Percent difference from a priori (Cd=2.2)\"]),\n",
    "    vertical_spacing = 0.08,\n",
    "    )\n",
    "fig = plot_cd_and_percdiff_from_apriori(fig,  Obj_Geodyn['msis2'] , 0)\n",
    "fig = plot_cd_and_percdiff_from_apriori(fig,  Obj_Geodyn['msis00'] , 1)\n",
    "fig = plot_cd_and_percdiff_from_apriori(fig,  Obj_Geodyn['msis86'] , 2)\n",
    "\n",
    "\n",
    "fig.show(config=config)"
   ]
  },
  {
   "cell_type": "code",
   "execution_count": null,
   "id": "e6a84d90",
   "metadata": {
    "ExecuteTime": {
     "end_time": "2021-06-24T20:58:19.107519Z",
     "start_time": "2021-06-24T18:46:18.536Z"
    }
   },
   "outputs": [],
   "source": [
    "%load_ext autoreload\n",
    "%autoreload 2\n",
    "\n",
    "from PYGEODYNAnalysis_icesat2PCEtrajectory import plot_ScaleDensity_with_CdScaleFactor__2\n",
    "\n",
    "fig = make_subplots(rows=2, cols=1,\n",
    "                subplot_titles=([\"Model Ouptut Density\", \"Model Density * Cd Scaling Factor\"]),\n",
    "                shared_yaxes=True,\n",
    "                vertical_spacing = 0.1,\n",
    "                specs=[\n",
    "                [{\"secondary_y\": False}],\n",
    "                [{\"secondary_y\": False}], ])\n",
    "\n",
    "\n",
    "fig = plot_ScaleDensity_with_CdScaleFactor__2(fig,  Obj_Geodyn['msis2'], 0, 5)\n",
    "fig = plot_ScaleDensity_with_CdScaleFactor__2(fig,  Obj_Geodyn['msis00'], 1, 200)\n",
    "fig = plot_ScaleDensity_with_CdScaleFactor__2(fig,  Obj_Geodyn['msis86'], 2, 200)\n",
    "\n",
    "# min_y = 1*1e-16\n",
    "# max_y = 9*1e-12\n",
    "# fig.update_yaxes(range=[min_y, max_y], row=1, col=1)\n",
    "# fig.update_yaxes(range=[min_y, max_y], row=2, col=1)\n",
    "\n",
    "fig.show(config=config)\n"
   ]
  },
  {
   "cell_type": "markdown",
   "id": "38eab7a4",
   "metadata": {},
   "source": [
    "#### Component Residuals"
   ]
  },
  {
   "cell_type": "code",
   "execution_count": null,
   "id": "20e62f1e",
   "metadata": {
    "ExecuteTime": {
     "end_time": "2021-06-24T20:58:19.108269Z",
     "start_time": "2021-06-24T18:46:18.538Z"
    }
   },
   "outputs": [],
   "source": [
    "obj_m1  = Obj_Geodyn['msis2']\n",
    "plot_num = 0\n",
    "import sys\n",
    "sys.path.insert(0,'/data/geodyn_proj/pygeodyn/utils_pygeodyn_develop/util_dir/')\n",
    "from common_functions          import Convert_cartesian_to_RSW, Convert_cartesian_to_NTW\n",
    "import pandas as pd\n",
    "\n",
    "\n",
    "###### GET THE PCE DATA:\n",
    "StateVector_PCE_datafile = '/data/data_geodyn/inputs/icesat2/setups/PCE_ascii.txt'\n",
    "#     os.system('bunzip2 -v '+ StateVector_epochs_datafile +'.bz2')\n",
    "import plotly.graph_objects as go\n",
    "from plotly.offline import plot, iplot\n",
    "from plotly.subplots import make_subplots\n",
    "import plotly.express as px\n",
    "\n",
    "\n",
    "config = dict({\n",
    "                'displayModeBar': True,\n",
    "                'responsive': False,\n",
    "#                 'staticPlot': True,\n",
    "                'displaylogo': False,\n",
    "                'showTips': False,\n",
    "                })\n",
    "\n",
    "\n",
    "\n",
    "\n",
    "\n",
    "from datetime import datetime,timedelta\n",
    "\n",
    "# Simplify Plotting Schemes:\n",
    "col1 = px.colors.qualitative.Plotly[0]\n",
    "col2 = px.colors.qualitative.Plotly[1]\n",
    "col3 = px.colors.qualitative.Plotly[2]"
   ]
  },
  {
   "cell_type": "code",
   "execution_count": null,
   "id": "7a4bfce9",
   "metadata": {
    "ExecuteTime": {
     "end_time": "2021-06-24T20:58:19.109017Z",
     "start_time": "2021-06-24T18:46:18.540Z"
    }
   },
   "outputs": [],
   "source": [
    "obj_m1.__dict__['global_params']['arc_input']"
   ]
  },
  {
   "cell_type": "code",
   "execution_count": null,
   "id": "e693672c",
   "metadata": {
    "ExecuteTime": {
     "end_time": "2021-06-23T00:17:42.465345Z",
     "start_time": "2021-06-23T00:17:42.444217Z"
    }
   },
   "outputs": [],
   "source": []
  },
  {
   "cell_type": "code",
   "execution_count": null,
   "id": "83c83b60",
   "metadata": {
    "ExecuteTime": {
     "end_time": "2021-06-24T20:58:19.130483Z",
     "start_time": "2021-06-24T18:46:18.542Z"
    }
   },
   "outputs": [],
   "source": [
    "last_nonpredicted_time = pd.Series(pd.to_datetime(obj_m1.__dict__['Residuals_obs'][first_arc]['Date'].iloc[-1]))\n",
    "\n",
    "dates = obj_m1.__dict__['Trajectory_orbfil'][first_arc]['data_record']['Date_UTC']\n",
    "\n",
    "\n",
    "# (dates - last_nonpredicted_time).abs().min()\n",
    "\n",
    "# (dates - last_nonpredicted_time)\n",
    "# print(dates.index.get_loc(last_nonpredicted_time, method='nearest'))\n",
    "# dates.index[dates.index.get_loc(last_nonpredicted_time, method='nearest')]\n",
    "\n",
    "\n",
    "\n",
    "# dates.index.get_loc(last_nonpredicted_time, method='nearest')\n",
    "# dates.iloc[dates.index.get_loc(last_nonpredicted_time[0], method='nearest')]\n",
    "# last_nonpredicted_time\n",
    "# last_index = int(np.round(np.size(dates)/))\n",
    "dates[:17821]"
   ]
  },
  {
   "cell_type": "code",
   "execution_count": null,
   "id": "2c2a95a0",
   "metadata": {},
   "outputs": [],
   "source": []
  },
  {
   "cell_type": "code",
   "execution_count": null,
   "id": "fb0b21fe",
   "metadata": {},
   "outputs": [],
   "source": []
  },
  {
   "cell_type": "code",
   "execution_count": null,
   "id": "1d27f1ac",
   "metadata": {
    "ExecuteTime": {
     "end_time": "2021-06-24T20:58:19.131612Z",
     "start_time": "2021-06-24T18:46:18.546Z"
    }
   },
   "outputs": [],
   "source": [
    "%load_ext autoreload\n",
    "%autoreload 2\n",
    "# def ARCOVERLAP_2arcs_ObsResids_NTW_intrack(fig, obj_m1, plot_num, arc1, arc2):\n",
    "\n",
    "from common_functions          import Convert_cartesian_to_NTW_returnall, Convert_cartesian_to_RSW_returnall\n",
    "\n",
    "\n",
    "fig = make_subplots(rows=3, cols=3,\n",
    "            shared_xaxes=True,\n",
    "#             subplot_titles=(('X','N','R', 'Y','T','S', 'Z','W', 'W')),\n",
    "#             subplot_titles=([ ['X', 'Y','Z'],\n",
    "#                             ['N', 'T','W']]),\n",
    "            column_titles = (['XYZ', 'NTW','RSW']),\n",
    "            vertical_spacing = 0.081,\n",
    "            horizontal_spacing = 0.081,\n",
    "\n",
    "                   )\n",
    "\n",
    "#### ------------------------ plotting stuff\n",
    "model_m1 = obj_m1.__dict__['global_params']['den_model']\n",
    "if plot_num == 0:\n",
    "    col = col1\n",
    "    x_annot = 1.05\n",
    "    y_annot = .97\n",
    "    m_size = 3\n",
    "elif plot_num == 1:\n",
    "    x_annot = 1.05\n",
    "    y_annot = .8\n",
    "    col = col2\n",
    "    m_size = 2.5\n",
    "elif plot_num == 2:\n",
    "    x_annot = 1.05\n",
    "    y_annot = .55 \n",
    "    col = col3    \n",
    "    m_size = 2\n",
    "data_skip = 14\n",
    "#### ------------------------ plotting stuff\n",
    "\n",
    "\n",
    "#### ----------------------------------------------------------------------\n",
    "#####  read the PCE data but only for the lines during which we have data:\n",
    "#### the below block of code just READS the PCE ascii at the times in the ORBFIL\n",
    "\n",
    "\n",
    "first_arc = obj_m1.__dict__['global_params']['arc_input'][0]\n",
    "last_arc  = obj_m1.__dict__['global_params']['arc_input'][-1]\n",
    "first_arc_first_time = obj_m1.__dict__['Trajectory_orbfil'][first_arc]['data_record']['Date_UTC'].iloc[0],\n",
    "last_arc_last_time   = obj_m1.__dict__['Trajectory_orbfil'][last_arc]['data_record']['Date_UTC'].iloc[-1]\n",
    "first_arc_first_time_str =  str(first_arc_first_time[0])#.replace( \"'\",' ') \n",
    "last_arc_last_time =  str(last_arc_last_time)#.replace( \"'\",' ') \n",
    "\n",
    "with open(StateVector_PCE_datafile, 'r') as f:\n",
    "    for line_no, line_text in enumerate(f):\n",
    "        if first_arc_first_time_str in line_text:\n",
    "            first_line = line_no\n",
    "        elif last_arc_last_time in line_text:\n",
    "            last_line = line_no\n",
    "            break\n",
    "### load PCE data as a dataframe\n",
    "PCE_data = pd.read_csv(StateVector_PCE_datafile, \n",
    "            skiprows = first_line, \n",
    "            nrows=last_line- first_line,           \n",
    "            sep = '\\s+',\n",
    "            dtype=str,\n",
    "            names = [\n",
    "                    'Date',\n",
    "                    'MJDSECs', \n",
    "                    'RSECS', #(fractional secs)\n",
    "                    'GPS offset', # (UTC - GPS offset (secs))\n",
    "                    'X',\n",
    "                    'Y',\n",
    "                    'Z',\n",
    "                    'X_dot',\n",
    "                    'Y_dot',\n",
    "                    'Z_dot',\n",
    "                    'YYMMDDhhmmss',\n",
    "                        ],)\n",
    "#     os.system('bzip2 -v '+ StateVector_epochs_datafile )\n",
    "#### ----------------------------------------------------------------------\n",
    "\n",
    "\n",
    "\n",
    "####---------------------------------------------------------\n",
    "### Collect the PCE data (true) and the Orbfil data (estimated)\n",
    "#### use pd.merge to only assess them where they have common dates.\n",
    "PCE_data['Date_pd'] = pd.to_datetime(PCE_data['Date'])\n",
    "\n",
    "\n",
    "for iarc,arcval in enumerate([obj_m1.__dict__['global_params']['arc_input'][0]]):\n",
    "    \n",
    "    ### load orbfil for this arc as a dataframe\n",
    "    orbfil_arc = obj_m1.__dict__['Trajectory_orbfil'][arcval]['data_record']\n",
    "    orbfil_arc['Date_pd'] = pd.to_datetime(orbfil_arc ['Date_UTC'])\n",
    "\n",
    "    \n",
    "    C_1 = pd.merge(left=orbfil_arc, left_on='Date_pd',\n",
    "         right=PCE_data, right_on='Date_pd')\n",
    "\n",
    "    \n",
    "    X    = C_1['Satellite Inertial X coordinate']\n",
    "    Y    = C_1['Satellite Inertial Y coordinate']\n",
    "    Z    = C_1['Satellite Inertial Z coordinate']\n",
    "    Xdot = C_1['Satellite Inertial X velocity']\n",
    "    Ydot = C_1['Satellite Inertial Y velocity']\n",
    "    Zdot = C_1['Satellite Inertial Z velocity']\n",
    "        \n",
    "    #####======================================================================\n",
    "    ##### PLOT THE XYZ COMPONENTS!!!\n",
    "    fig.add_trace(go.Scattergl(x=C_1['Date_pd'][:17821:data_skip],\n",
    "                               y=X[:17821:data_skip],\n",
    "                             name= '(PCE-orbfil)',\n",
    "                             mode='markers',\n",
    "                             marker=dict(color=col,\n",
    "                             size=m_size,),\n",
    "                             showlegend=False,\n",
    "                             ),\n",
    "                             secondary_y=False,\n",
    "                             row=1, col=1,\n",
    "                             )\n",
    "    fig.add_trace(go.Scattergl(x=C_1['Date_pd'][:17821:data_skip],\n",
    "                               y=Y[:17821:data_skip],\n",
    "                             name= '(PCE-orbfil)',\n",
    "                             mode='markers',\n",
    "                             marker=dict(color=col,\n",
    "                             size=m_size,),\n",
    "                             showlegend=False,\n",
    "                             ),\n",
    "                             secondary_y=False,\n",
    "                             row=2, col=1,\n",
    "                             )\n",
    "    fig.add_trace(go.Scattergl(x=C_1['Date_pd'][:17821:data_skip],\n",
    "                               y=Z[:17821:data_skip],\n",
    "                             name= '(PCE-orbfil)',\n",
    "                             mode='markers',\n",
    "                             marker=dict(color=col,\n",
    "                             size=m_size,),\n",
    "                             showlegend=False,\n",
    "                             ),\n",
    "                             secondary_y=False,\n",
    "                             row=3, col=1,\n",
    "                             )    \n",
    "    #####======================================================================\n",
    "    ##### PLOT THE NTW COMPONENTS!!!\n",
    "    state_vector = np.transpose(np.array([X, Y, Z, Xdot, Ydot, Zdot]))\n",
    "    ntw_comps = [Convert_cartesian_to_NTW_returnall(x) for x in state_vector]\n",
    "    \n",
    "    N = np.transpose(ntw_comps)[0]\n",
    "    T = np.transpose(ntw_comps)[1]\n",
    "    W = np.transpose(ntw_comps)[2]\n",
    "    \n",
    "    fig.add_trace(go.Scattergl(x=C_1['Date_pd'][:17821:data_skip],\n",
    "                               y=N[:17821:data_skip],\n",
    "                             name= '(PCE-orbfil)',\n",
    "                             mode='markers',\n",
    "                             marker=dict(color=col,\n",
    "                             size=m_size,),\n",
    "                             showlegend=False,\n",
    "                             ),\n",
    "                             secondary_y=False,\n",
    "                             row=1, col=2,\n",
    "                             )\n",
    "    fig.add_trace(go.Scattergl(x=C_1['Date_pd'][:17821:data_skip],\n",
    "                               y=T[:17821:data_skip],\n",
    "                             name= '(PCE-orbfil)',\n",
    "                             mode='markers',\n",
    "                             marker=dict(color=col,\n",
    "                             size=m_size,),\n",
    "                             showlegend=False,\n",
    "                             ),\n",
    "                             secondary_y=False,\n",
    "                             row=2, col=2,\n",
    "                             )\n",
    "    fig.add_trace(go.Scattergl(x=C_1['Date_pd'][:17821:data_skip],\n",
    "                               y=W[:17821:data_skip],\n",
    "                             name= '(PCE-orbfil)',\n",
    "                             mode='markers',\n",
    "                             marker=dict(color=col,\n",
    "                             size=m_size,),\n",
    "                             showlegend=False,\n",
    "                             ),\n",
    "                             secondary_y=False,\n",
    "                             row=3, col=2,\n",
    "                             )    \n",
    "\n",
    "    #####======================================================================\n",
    "    ##### PLOT THE RSW COMPONENTS!!!\n",
    "    state_vector = np.transpose(np.array([X, Y, Z, Xdot, Ydot, Zdot]))\n",
    "    rsw_comps = [Convert_cartesian_to_RSW_returnall(x) for x in state_vector]\n",
    "    \n",
    "    R = np.transpose(rsw_comps)[0]\n",
    "    S = np.transpose(rsw_comps)[1]\n",
    "    W = np.transpose(rsw_comps)[2]\n",
    "    \n",
    "    fig.add_trace(go.Scattergl(x=C_1['Date_pd'][:17821:data_skip],\n",
    "                               y=R[:17821:data_skip],\n",
    "                             name= '(PCE-orbfil)',\n",
    "                             mode='markers',\n",
    "                             marker=dict(color=col,\n",
    "                             size=m_size,),\n",
    "                             showlegend=False,\n",
    "                             ),\n",
    "                             secondary_y=False,\n",
    "                             row=1, col=3,\n",
    "                             )\n",
    "    fig.add_trace(go.Scattergl(x=C_1['Date_pd'][:17821:data_skip],\n",
    "                               y=S[:17821:data_skip],\n",
    "                             name= '(PCE-orbfil)',\n",
    "                             mode='markers',\n",
    "                             marker=dict(color=col,\n",
    "                             size=m_size,),\n",
    "                             showlegend=False,\n",
    "                             ),\n",
    "                             secondary_y=False,\n",
    "                             row=2, col=3,\n",
    "                             )\n",
    "    fig.add_trace(go.Scattergl(x=C_1['Date_pd'][:17821:data_skip],\n",
    "                               y=W[:17821:data_skip],\n",
    "                             name= '(PCE-orbfil)',\n",
    "                             mode='markers',\n",
    "                             marker=dict(color=col,\n",
    "                             size=m_size,),\n",
    "                             showlegend=False,\n",
    "                             ),\n",
    "                             secondary_y=False,\n",
    "                             row=3, col=3,\n",
    "                             )    \n",
    "\n",
    "\n",
    "\n",
    "# ### Start of second arc\n",
    "# overlap_start = obj_m1.__dict__['Residuals_obs'][arc1]['Date'].iloc[-1]\n",
    "# ### End of first arc\n",
    "# overlap_end   = obj_m1.__dict__['Trajectory_orbfil'][arc1]['data_record']['Date_UTC'].iloc[-1]\n",
    "# fig.add_vrect(  x0=overlap_start, x1=overlap_end,\n",
    "#                 fillcolor='LightSkyBlue', opacity=0.2,\n",
    "#                 layer=\"below\", line_width=0)\n",
    "\n",
    "\n",
    "fig.update_layout(title=\"Coordinate System Comparisons (all in meters)\")\n",
    "fig.update_layout(\n",
    "                autosize=False,\n",
    "                width=1500,\n",
    "                height=800,\n",
    "                font=dict(size=12),\n",
    "                legend= {'itemsizing': 'constant'})\n",
    "\n",
    "fig.update_yaxes( title=\"X\",exponentformat= 'power',row=1, col=1)\n",
    "fig.update_yaxes( title=\"Y\",exponentformat= 'power',row=2, col=1)\n",
    "fig.update_yaxes( title=\"Z\",exponentformat= 'power',row=3, col=1)\n",
    "\n",
    "fig.update_yaxes( title=\"N\",exponentformat= 'power',row=1, col=2)\n",
    "fig.update_yaxes( title=\"T\",exponentformat= 'power',row=2, col=2)\n",
    "fig.update_yaxes( title=\"W\",exponentformat= 'power',row=3, col=2)\n",
    "\n",
    "fig.update_yaxes( title=\"R\",exponentformat= 'power',row=1, col=3)\n",
    "fig.update_yaxes( title=\"S\",exponentformat= 'power',row=2, col=3)\n",
    "fig.update_yaxes( title=\"W\",exponentformat= 'power',row=3, col=3)\n",
    "\n",
    "\n",
    "\n",
    "fig.update_xaxes( title=\"Date\", row=3, col=1)\n",
    "fig.update_xaxes( title=\"Date\", row=3, col=2)\n",
    "fig.update_xaxes( title=\"Date\", row=3, col=3)\n",
    "# fig.update_yaxes(title_text=\"Residuals (cm)\", row=1, col=1, secondary_y=True, color='SkyBlue')\n",
    "\n"
   ]
  },
  {
   "cell_type": "code",
   "execution_count": null,
   "id": "0c1bc005",
   "metadata": {
    "ExecuteTime": {
     "end_time": "2021-06-22T23:36:34.004119Z",
     "start_time": "2021-06-22T23:36:33.961400Z"
    }
   },
   "outputs": [],
   "source": []
  },
  {
   "cell_type": "code",
   "execution_count": null,
   "id": "c079f508",
   "metadata": {},
   "outputs": [],
   "source": []
  },
  {
   "cell_type": "markdown",
   "id": "9d4aeeb9",
   "metadata": {},
   "source": [
    "### Looking at the arc overlap time:\n",
    "\n",
    "We want to show the residuals in the overlap time with the PCE data subtracted away.\n",
    "\n"
   ]
  },
  {
   "cell_type": "code",
   "execution_count": null,
   "id": "1b2249c9",
   "metadata": {
    "ExecuteTime": {
     "end_time": "2021-06-24T20:58:19.132375Z",
     "start_time": "2021-06-24T18:46:18.549Z"
    }
   },
   "outputs": [],
   "source": [
    "####  ARC_OVERLAP_ObsResids_XYZ\n",
    "\n",
    "%load_ext autoreload\n",
    "%autoreload 2\n",
    "\n",
    "from PYGEODYNAnalysis_icesat2PCEtrajectory import ARCOVERLAP_2arcs_ObsResids_XYZ\n",
    "\n",
    "fig = make_subplots(rows=3, cols=1, \n",
    "            subplot_titles=(['X', 'Y', 'Z']),\n",
    "            vertical_spacing = 0.1,\n",
    "            specs=[ [{\"secondary_y\": True }],\n",
    "                    [{\"secondary_y\": True }], \n",
    "                    [{\"secondary_y\": True }], ],)\n",
    "\n",
    "arc1 = '2018.319'  # '2018.314'\n",
    "arc2 = arc1\n",
    "\n",
    "fig = ARCOVERLAP_2arcs_ObsResids_XYZ(fig, Obj_Geodyn, 0, arc1, arc2)\n",
    "# fig = ARCOVERLAP_2arcs_ObsResids_XYZ(fig, Obj_Geodyn3, 1, arc1, arc2)\n",
    "# fig = ARCOVERLAP_2arcs_ObsResids_XYZ(fig, Obj_Geodyn1, 2, arc1, arc2)\n",
    "\n",
    "fig.show(config=config)\n"
   ]
  },
  {
   "cell_type": "markdown",
   "id": "94e4a904",
   "metadata": {},
   "source": [
    "## PCE Data and the Orbit File:"
   ]
  },
  {
   "cell_type": "markdown",
   "id": "c2aa0d64",
   "metadata": {},
   "source": [
    "### Residual Component Trajectory:\n",
    "\n",
    "Convert the Interial XYZ coordinates to the satellite coordinate system (RSW), then plot the radial component.\n"
   ]
  },
  {
   "cell_type": "markdown",
   "id": "70679622",
   "metadata": {},
   "source": [
    "**Starting Systems:**\n",
    "- `PCE data`\n",
    "   - J2000 Coordinate System\n",
    "   - Inertial satellite State Vector: $[x, y, z, \\dot{x}, \\dot{y}, \\dot{z}]$ (m)\n",
    "- `ORBFIL data`\n",
    "   - Mean of year Coordinate System\n",
    "   - Inertial satellite State Vector: $[x, y, z, \\dot{x}, \\dot{y}, \\dot{z}]$ (m)\n",
    "\n",
    "**Convert from `XYZ` to `RSW`**\n",
    "\n",
    "\n",
    "\n",
    "From Vallado pg. 164:\n",
    "<!-- \n",
    "\n",
    "$$ \\hat{R} = \\frac{\\vec{r}}{\\lvert\\vec{r}\\rvert}$$\n",
    "\n",
    "$$ \\hat{W} = \\frac{\\vec{r} \\times \\vec{v}}{\\lvert \\vec{r} \\times \\vec{v}   \\rvert}$$\n",
    "\n",
    "$$ \\hat{S} = \\hat{W} \\times \\hat{R}$$\n",
    "\n",
    "These allow the transformation:\n",
    "\n",
    "$$ \\vec{r}_{IJK} = \\big[\\hat{R} \\vdots \\hat{S} \\vdots \\hat{W}\\big] \\,\\, \\vec{r}_{RSW}  $$\n",
    "\n",
    "Such that R, S, and W spans the columns of the transformation matrix above.\n",
    "\n",
    "We then rearrange to get our final equation:\n",
    "\n",
    "$$ T = \\big[\\hat{R} \\vdots \\hat{S} \\vdots \\hat{W}\\big]$$\n",
    "\n",
    "$$ \\vec{r}_{IJK} = T \\,\\, \\vec{r}_{RSW}  $$\n",
    "\n",
    "$$ T^{-1} \\vec{r}_{IJK} = (T^{-1} T)\\,\\, \\vec{r}_{RSW}  $$\n",
    "\n",
    "$$  \\vec{r}_{RSW} =  T^{-1} \\vec{r}_{IJK}   $$\n",
    "\n",
    " -->"
   ]
  },
  {
   "cell_type": "code",
   "execution_count": null,
   "id": "ec6a8b08",
   "metadata": {
    "ExecuteTime": {
     "end_time": "2021-06-24T20:58:19.133145Z",
     "start_time": "2021-06-24T18:46:18.551Z"
    }
   },
   "outputs": [],
   "source": [
    "\n",
    "# %load_ext autoreload\n",
    "# %autoreload 2\n",
    "\n",
    "# from PYGEODYNAnalysis_icesat2PCEtrajectory import ARCOVERLAP_2arcs_ObsResids_RSW_radial\n",
    "\n",
    "# fig = make_subplots(rows=2, cols=1, \n",
    "#             subplot_titles=(['Radial Component', 'Residual (PCE-ORBFIL)']),\n",
    "#             vertical_spacing = 0.2,\n",
    "#             specs=[ [{\"secondary_y\": False }],\n",
    "#                     [{\"secondary_y\": False }]],)\n",
    "\n",
    "# arc1 = '2018.299'\n",
    "# arc2 = '2018.299'\n",
    "\n",
    "# fig = ARCOVERLAP_2arcs_ObsResids_RSW_radial(fig, Obj_Geodyn, 0, arc1, arc2)\n",
    "# # fig = ARCOVERLAP_2arcs_ObsResids_RSW_radial(fig, Obj_Geodyn3, 1, arc1, arc2)\n",
    "# # fig = ARCOVERLAP_2arcs_ObsResids_RSW_radial(fig, Obj_Geodyn1, 2, arc1, arc2)\n",
    "\n",
    "# fig.show(config=config)\n"
   ]
  },
  {
   "cell_type": "code",
   "execution_count": null,
   "id": "348ae6bf",
   "metadata": {
    "ExecuteTime": {
     "end_time": "2021-06-24T20:58:19.133860Z",
     "start_time": "2021-06-24T18:46:18.553Z"
    }
   },
   "outputs": [],
   "source": [
    "\n",
    "# %load_ext autoreload\n",
    "# %autoreload 2\n",
    "\n",
    "# from PYGEODYNAnalysis_icesat2PCEtrajectory import ARCOVERLAP_2arcs_ObsResids_NTW_intrack\n",
    "\n",
    "# fig = make_subplots(rows=2, cols=1, \n",
    "#             subplot_titles=(['In-Track Component', 'Residual (PCE-ORBFIL)']),\n",
    "#             vertical_spacing = 0.2,\n",
    "#             specs=[ [{\"secondary_y\": False }],\n",
    "#                     [{\"secondary_y\": False }]],)\n",
    "\n",
    "# arc1 = '2018.299'\n",
    "# arc2 = '2018.299'\n",
    "\n",
    "# fig = ARCOVERLAP_2arcs_ObsResids_NTW_intrack(fig, Obj_Geodyn, 0, arc1, arc2)\n",
    "# # fig = ARCOVERLAP_2arcs_ObsResids_NTW_intrack(fig, Obj_Geodyn3, 1, arc1, arc2)\n",
    "# # fig = ARCOVERLAP_2arcs_ObsResids_NTW_intrack(fig, Obj_Geodyn1, 2, arc1, arc2)\n",
    "\n",
    "# fig.show(config=config)\n"
   ]
  },
  {
   "cell_type": "markdown",
   "id": "77f5a6b4",
   "metadata": {},
   "source": [
    "<!-- ### Check how well the PCE file and the ORBIT file match up -->"
   ]
  },
  {
   "cell_type": "code",
   "execution_count": null,
   "id": "c37aa28f",
   "metadata": {},
   "outputs": [],
   "source": []
  }
 ],
 "metadata": {
  "kernelspec": {
   "display_name": "Python 3",
   "language": "python",
   "name": "python3"
  },
  "toc": {
   "base_numbering": 1,
   "nav_menu": {},
   "number_sections": true,
   "sideBar": true,
   "skip_h1_title": false,
   "title_cell": "Table of Contents",
   "title_sidebar": "Contents",
   "toc_cell": false,
   "toc_position": {
    "height": "calc(100% - 180px)",
    "left": "10px",
    "top": "150px",
    "width": "319px"
   },
   "toc_section_display": true,
   "toc_window_display": false
  },
  "varInspector": {
   "cols": {
    "lenName": 16,
    "lenType": 16,
    "lenVar": 40
   },
   "kernels_config": {
    "python": {
     "delete_cmd_postfix": "",
     "delete_cmd_prefix": "del ",
     "library": "var_list.py",
     "varRefreshCmd": "print(var_dic_list())"
    },
    "r": {
     "delete_cmd_postfix": ") ",
     "delete_cmd_prefix": "rm(",
     "library": "var_list.r",
     "varRefreshCmd": "cat(var_dic_list()) "
    }
   },
   "types_to_exclude": [
    "module",
    "function",
    "builtin_function_or_method",
    "instance",
    "_Feature"
   ],
   "window_display": false
  }
 },
 "nbformat": 4,
 "nbformat_minor": 5
}
