{
 "cells": [
  {
   "cell_type": "markdown",
   "id": "6bd8062b",
   "metadata": {},
   "source": [
    "# Trajectory Analysis: Full Arc Set\n",
    "\n",
    "\n"
   ]
  },
  {
   "cell_type": "code",
   "execution_count": 1,
   "id": "05883ff5",
   "metadata": {
    "ExecuteTime": {
     "end_time": "2021-06-02T18:49:59.036337Z",
     "start_time": "2021-06-02T18:49:59.033573Z"
    }
   },
   "outputs": [],
   "source": [
    "import copy\n",
    "import sys\n",
    "import os.path\n",
    "import numpy as np"
   ]
  },
  {
   "cell_type": "code",
   "execution_count": 2,
   "id": "3124889c",
   "metadata": {
    "ExecuteTime": {
     "end_time": "2021-06-02T18:52:32.157834Z",
     "start_time": "2021-06-02T18:49:59.041129Z"
    },
    "scrolled": true,
    "tags": []
   },
   "outputs": [],
   "source": [
    "path_to_binaryrvg   = '/data/data_geodyn/inputs/icesat2/pre_processing/traj_files_rvg'\n",
    "years = [2018,2019]\n",
    "days = np.arange(0, 367)\n",
    "\n",
    "files_list = []\n",
    "count_noletter = 0\n",
    "countA = 0\n",
    "countB = 0\n",
    "\n",
    "for iyear,year in enumerate(years):\n",
    "    for iday,day in enumerate(days):\n",
    "        filename = 'orbit.1807001.%d.%03d' % (year, day)\n",
    "#         filename = '%d.%03d' % (year, day)\n",
    "        __filename = path_to_binaryrvg+ '/'+filename\n",
    "        arc = '%d.%03d' % (year, day)\n",
    "        if os.path.exists(__filename):\n",
    "            count_noletter+=1\n",
    "            files_list.append(arc)\n",
    "        if os.path.exists(__filename + 'A'):\n",
    "            countA += 1\n",
    "            pass\n",
    "        if os.path.exists(__filename + 'B'):\n",
    "            countB += 1\n",
    "            pass\n",
    "        if os.path.exists(__filename + '.gz'):\n",
    "            count_noletter+=1\n",
    "            files_list.append(arc + '')\n",
    "        if os.path.exists(__filename + 'A.gz'):\n",
    "            countA += 1\n",
    "            pass\n",
    "        if os.path.exists(__filename + 'B.gz'):\n",
    "            countB += 1\n",
    "            pass\n",
    "        if os.path.exists(__filename + '.bz2'):\n",
    "            count_noletter+=1\n",
    "            files_list.append(arc + '')\n",
    "        if os.path.exists(__filename + 'A.bz2'):\n",
    "            countA += 1\n",
    "            pass\n",
    "        if os.path.exists(__filename + 'B.bz2'):\n",
    "            countB += 1\n",
    "            pass\n"
   ]
  },
  {
   "cell_type": "code",
   "execution_count": 3,
   "id": "f7298e7d",
   "metadata": {},
   "outputs": [],
   "source": [
    "# files_list[:55]"
   ]
  },
  {
   "cell_type": "markdown",
   "id": "c2a929be",
   "metadata": {},
   "source": [
    "### Get MSIS2 Data"
   ]
  },
  {
   "cell_type": "code",
   "execution_count": 4,
   "id": "ef158556",
   "metadata": {},
   "outputs": [],
   "source": [
    "### Identify which arcs you want to run:\n",
    "\n",
    "#------ A dictionary containing the run parameters ------  \n",
    "run_params = {} \n",
    "run_params['arc']              =   files_list[10:15]  #[1:25]\n",
    "run_params['satellite']        =  'icesat2'  \n",
    "run_params['SpecialRun_name']  =  '_TrajAnalysis'  \n",
    "run_params['verbose']          =  False\n",
    "run_params['action']           =  'read'\n",
    "run_params['request_data']      = ['AdjustedParams',\n",
    "                                    'Trajectory_orbfil',\n",
    "                                    'Density',\n",
    "                                    'Residuals_obs',\n",
    "                                    'Residuals_summary',\n",
    "                                    'Statistics',\n",
    "                                   ]"
   ]
  },
  {
   "cell_type": "code",
   "execution_count": 5,
   "id": "00971ebe",
   "metadata": {
    "ExecuteTime": {
     "end_time": "2021-06-02T18:55:03.514981Z",
     "start_time": "2021-06-02T18:52:32.159851Z"
    },
    "tags": []
   },
   "outputs": [
    {
     "name": "stdout",
     "output_type": "stream",
     "text": [
      "                      ......... READING GEODYN output\n",
      "     Loading ... icesat2_2018299_54hr.msis2 \n",
      "     Loading ... icesat2_2018300_54hr.msis2 \n",
      "     Loading ... icesat2_2018303_54hr.msis2 \n",
      "     Loading ... icesat2_2018304_54hr.msis2 \n",
      "     Loading ... icesat2_2018305_54hr.msis2 \n"
     ]
    }
   ],
   "source": [
    "%load_ext autoreload\n",
    "%autoreload 2\n",
    "\n",
    "sys.path.insert(0, '/data/geodyn_proj/pygeodyn/pygeodyn_develop/')\n",
    "from PYGEODYN import Pygeodyn\n",
    "\n",
    "read_params = copy.deepcopy(run_params)\n",
    "read_params['den_model']         =  'msis2'  \n",
    "\n",
    "\n",
    "Obj_Geodyn = Pygeodyn(read_params)\n",
    "Obj_Geodyn.getData()\n"
   ]
  },
  {
   "cell_type": "code",
   "execution_count": 6,
   "id": "569275b5",
   "metadata": {},
   "outputs": [
    {
     "data": {
      "text/plain": [
       "dict_keys(['AdjustedParams', 'Trajectory_orbfil', 'Density', 'Residuals_obs', 'Residuals_summary', 'Statistics', 'run_parameters2018.299', 'global_params', 'run_parameters2018.300', 'run_parameters2018.303', 'run_parameters2018.304', 'run_parameters2018.305'])"
      ]
     },
     "execution_count": 6,
     "metadata": {},
     "output_type": "execute_result"
    }
   ],
   "source": [
    "Obj_Geodyn.__dict__.keys()"
   ]
  },
  {
   "cell_type": "code",
   "execution_count": 7,
   "id": "01fb3219",
   "metadata": {},
   "outputs": [
    {
     "ename": "SyntaxError",
     "evalue": "'break' outside loop (<ipython-input-7-6aaf1f276005>, line 4)",
     "output_type": "error",
     "traceback": [
      "\u001b[0;36m  File \u001b[0;32m\"<ipython-input-7-6aaf1f276005>\"\u001b[0;36m, line \u001b[0;32m4\u001b[0m\n\u001b[0;31mSyntaxError\u001b[0m\u001b[0;31m:\u001b[0m 'break' outside loop\n"
     ]
    }
   ],
   "source": [
    "break"
   ]
  },
  {
   "cell_type": "code",
   "execution_count": null,
   "id": "bc62e6c1",
   "metadata": {
    "ExecuteTime": {
     "end_time": "2021-06-02T18:57:39.138629Z",
     "start_time": "2021-06-02T18:57:38.086799Z"
    }
   },
   "outputs": [],
   "source": [
    "import plotly.graph_objects as go\n",
    "from plotly.offline import plot, iplot\n",
    "from plotly.subplots import make_subplots\n",
    "import plotly.express as px\n",
    "\n",
    "\n",
    "config = dict({\n",
    "                'displayModeBar': True,\n",
    "                'responsive': False,\n",
    "#                 'staticPlot': True,\n",
    "                'displaylogo': False,\n",
    "                'showTips': False,\n",
    "                })"
   ]
  },
  {
   "cell_type": "markdown",
   "id": "28528486",
   "metadata": {},
   "source": [
    "### 1. Residuals of the POD across many arcs\n",
    "\n",
    "\n",
    "\n",
    "Resids =  PCE -  POD Trajectory\n",
    "\n",
    "\n",
    "\n"
   ]
  },
  {
   "cell_type": "code",
   "execution_count": null,
   "id": "daf1e568",
   "metadata": {
    "ExecuteTime": {
     "end_time": "2021-06-02T18:57:40.945981Z",
     "start_time": "2021-06-02T18:57:39.140437Z"
    }
   },
   "outputs": [],
   "source": [
    "%load_ext autoreload\n",
    "%autoreload 2\n",
    "\n",
    "from PYGEODYNAnalysis_icesat2PCEtrajectory import plot_residual_meas_summary\n",
    "from PYGEODYNAnalysis_icesat2PCEtrajectory import rms_summary_table\n",
    "\n",
    "\n",
    "Obj_list = [Obj_Geodyn]#,Obj_Geodyn2,Obj_Geodyn3,]\n",
    "rms_summary_table(Obj_list)\n",
    "\n",
    "\n",
    "\n",
    "fig = make_subplots(rows=2, cols=1, \n",
    "     subplot_titles=([\"Mean Residuals per Arc\", 'RMS of Fit per Arc']),\n",
    "     vertical_spacing = 0.1)\n",
    "fig = plot_residual_meas_summary(fig, Obj_Geodyn, 0)\n",
    "# fig = plot_residual_meas_summary(fig, Obj_Geodyn3, 1)\n",
    "# fig = plot_residual_meas_summary(fig, Obj_Geodyn1, 2)\n",
    "fig.show(config=config)\n",
    "\n"
   ]
  },
  {
   "cell_type": "code",
   "execution_count": null,
   "id": "5d127601",
   "metadata": {
    "ExecuteTime": {
     "end_time": "2021-06-02T18:57:54.944718Z",
     "start_time": "2021-06-02T18:57:40.947539Z"
    }
   },
   "outputs": [],
   "source": [
    "%load_ext autoreload\n",
    "%autoreload 2\n",
    "\n",
    "from PYGEODYNAnalysis_icesat2PCEtrajectory import plot_residuals_observed\n",
    "\n",
    "\n",
    "\n",
    "fig = make_subplots(rows=3, cols=1, \n",
    "            subplot_titles=(['X', 'Y', 'Z']),\n",
    "            vertical_spacing = 0.1,\n",
    "                       )\n",
    "\n",
    "fig = plot_residuals_observed(fig, Obj_Geodyn, 0)\n",
    "# fig = plot_residuals_observed(fig, Obj_Geodyn3, 1)\n",
    "# fig = plot_residuals_observed(fig, Obj_Geodyn1, 2)\n",
    "\n",
    "fig.update_layout(title=\"Observation Residuals (PCE - Observed , T.O.R.)\")\n",
    "\n",
    "fig.show(config=config)\n"
   ]
  },
  {
   "cell_type": "code",
   "execution_count": null,
   "id": "1214835e",
   "metadata": {
    "ExecuteTime": {
     "end_time": "2021-06-02T18:57:55.526884Z",
     "start_time": "2021-06-02T18:57:54.947802Z"
    }
   },
   "outputs": [],
   "source": [
    "%load_ext autoreload\n",
    "%autoreload 2\n",
    "from PYGEODYNAnalysis_icesat2PCEtrajectory import plot_cd_and_percdiff_from_apriori\n",
    "\n",
    "\n",
    "fig = make_subplots(\n",
    "    rows=2, cols=1,\n",
    "    subplot_titles=([\"Timeseries of Cd\", \"Percent difference from a priori (Cd=2.2)\"]),\n",
    "    vertical_spacing = 0.08,\n",
    "    )\n",
    "fig = plot_cd_and_percdiff_from_apriori(fig,  Obj_Geodyn, 0)\n",
    "# fig = plot_cd_and_percdiff_from_apriori(fig,  Obj_Geodyn3, 1)\n",
    "# fig = plot_cd_and_percdiff_from_apriori(fig,  Obj_Geodyn1, 2)\n",
    "\n",
    "\n",
    "fig.show(config=config)"
   ]
  },
  {
   "cell_type": "code",
   "execution_count": null,
   "id": "40382c65",
   "metadata": {
    "ExecuteTime": {
     "end_time": "2021-06-02T18:58:02.435060Z",
     "start_time": "2021-06-02T18:57:55.528213Z"
    }
   },
   "outputs": [],
   "source": [
    "%load_ext autoreload\n",
    "%autoreload 2\n",
    "\n",
    "from PYGEODYNAnalysis_icesat2PCEtrajectory import plot_ScaleDensity_with_CdScaleFactor__2\n",
    "\n",
    "fig = make_subplots(rows=2, cols=1,\n",
    "                subplot_titles=([\"Model Ouptut Density\", \"Model Density * Cd Scaling Factor\"]),\n",
    "                shared_yaxes=True,\n",
    "                vertical_spacing = 0.1,\n",
    "                specs=[\n",
    "                [{\"secondary_y\": False}],\n",
    "                [{\"secondary_y\": False}], ])\n",
    "\n",
    "\n",
    "fig = plot_ScaleDensity_with_CdScaleFactor__2(fig,  Obj_Geodyn, 0, 200)\n",
    "# fig = plot_ScaleDensity_with_CdScaleFactor__2(fig,  Obj_Geodyn3, 1, 200)\n",
    "# fig = plot_ScaleDensity_with_CdScaleFactor__2(fig,  Obj_Geodyn1, 2, 200)\n",
    "\n",
    "# min_y = 1*1e-16\n",
    "# max_y = 9*1e-12\n",
    "# fig.update_yaxes(range=[min_y, max_y], row=1, col=1)\n",
    "# fig.update_yaxes(range=[min_y, max_y], row=2, col=1)\n",
    "\n",
    "fig.show(config=config)\n"
   ]
  },
  {
   "cell_type": "markdown",
   "id": "a2b1985b",
   "metadata": {},
   "source": [
    "### Looking at the arc overlap time:\n",
    "\n",
    "We want to show the residuals in the overlap time with the PCE data subtracted away.\n",
    "\n"
   ]
  },
  {
   "cell_type": "code",
   "execution_count": null,
   "id": "c5513a7f",
   "metadata": {
    "ExecuteTime": {
     "end_time": "2021-06-02T18:58:09.887720Z",
     "start_time": "2021-06-02T18:58:02.437748Z"
    }
   },
   "outputs": [],
   "source": [
    "####  ARC_OVERLAP_ObsResids_XYZ\n",
    "\n",
    "%load_ext autoreload\n",
    "%autoreload 2\n",
    "\n",
    "from PYGEODYNAnalysis_icesat2PCEtrajectory import ARCOVERLAP_2arcs_ObsResids_XYZ\n",
    "\n",
    "fig = make_subplots(rows=3, cols=1, \n",
    "            subplot_titles=(['X', 'Y', 'Z']),\n",
    "            vertical_spacing = 0.1,\n",
    "            specs=[ [{\"secondary_y\": True }],\n",
    "                    [{\"secondary_y\": True }], \n",
    "                    [{\"secondary_y\": True }], ],)\n",
    "\n",
    "arc1 = '2018.314'  # '2018.314'\n",
    "arc2 = '2018.315'\n",
    "\n",
    "fig = ARCOVERLAP_2arcs_ObsResids_XYZ(fig, Obj_Geodyn, 0, arc1, arc2)\n",
    "# fig = ARCOVERLAP_2arcs_ObsResids_XYZ(fig, Obj_Geodyn3, 1, arc1, arc2)\n",
    "# fig = ARCOVERLAP_2arcs_ObsResids_XYZ(fig, Obj_Geodyn1, 2, arc1, arc2)\n",
    "\n",
    "fig.show(config=config)\n"
   ]
  },
  {
   "cell_type": "markdown",
   "id": "c030a99f",
   "metadata": {},
   "source": [
    "## PCE Data and the Orbit File:"
   ]
  },
  {
   "cell_type": "markdown",
   "id": "cc79ce58",
   "metadata": {},
   "source": [
    "### Residual Component Trajectory:\n",
    "\n",
    "Convert the Interial XYZ coordinates to the satellite coordinate system (RSW), then plot the radial component.\n"
   ]
  },
  {
   "cell_type": "markdown",
   "id": "3bc689c2",
   "metadata": {},
   "source": [
    "**Starting Systems:**\n",
    "- `PCE data`\n",
    "   - J2000 Coordinate System\n",
    "   - Inertial satellite State Vector: $[x, y, z, \\dot{x}, \\dot{y}, \\dot{z}]$ (m)\n",
    "- `ORBFIL data`\n",
    "   - Mean of year Coordinate System\n",
    "   - Inertial satellite State Vector: $[x, y, z, \\dot{x}, \\dot{y}, \\dot{z}]$ (m)\n",
    "\n",
    "**Convert from `XYZ` to `RSW`**\n",
    "\n",
    "\n",
    "\n",
    "From Vallado pg. 164:\n",
    "<!-- \n",
    "\n",
    "$$ \\hat{R} = \\frac{\\vec{r}}{\\lvert\\vec{r}\\rvert}$$\n",
    "\n",
    "$$ \\hat{W} = \\frac{\\vec{r} \\times \\vec{v}}{\\lvert \\vec{r} \\times \\vec{v}   \\rvert}$$\n",
    "\n",
    "$$ \\hat{S} = \\hat{W} \\times \\hat{R}$$\n",
    "\n",
    "These allow the transformation:\n",
    "\n",
    "$$ \\vec{r}_{IJK} = \\big[\\hat{R} \\vdots \\hat{S} \\vdots \\hat{W}\\big] \\,\\, \\vec{r}_{RSW}  $$\n",
    "\n",
    "Such that R, S, and W spans the columns of the transformation matrix above.\n",
    "\n",
    "We then rearrange to get our final equation:\n",
    "\n",
    "$$ T = \\big[\\hat{R} \\vdots \\hat{S} \\vdots \\hat{W}\\big]$$\n",
    "\n",
    "$$ \\vec{r}_{IJK} = T \\,\\, \\vec{r}_{RSW}  $$\n",
    "\n",
    "$$ T^{-1} \\vec{r}_{IJK} = (T^{-1} T)\\,\\, \\vec{r}_{RSW}  $$\n",
    "\n",
    "$$  \\vec{r}_{RSW} =  T^{-1} \\vec{r}_{IJK}   $$\n",
    "\n",
    " -->"
   ]
  },
  {
   "cell_type": "code",
   "execution_count": null,
   "id": "e856b8e9",
   "metadata": {
    "ExecuteTime": {
     "end_time": "2021-06-02T18:58:58.379999Z",
     "start_time": "2021-06-02T18:58:09.890118Z"
    }
   },
   "outputs": [],
   "source": [
    "\n",
    "%load_ext autoreload\n",
    "%autoreload 2\n",
    "\n",
    "from PYGEODYNAnalysis_icesat2PCEtrajectory import ARCOVERLAP_2arcs_ObsResids_RSW_radial\n",
    "\n",
    "fig = make_subplots(rows=2, cols=1, \n",
    "            subplot_titles=(['Radial Component', 'Residual (PCE-ORBFIL)']),\n",
    "            vertical_spacing = 0.2,\n",
    "            specs=[ [{\"secondary_y\": False }],\n",
    "                    [{\"secondary_y\": False }]],)\n",
    "\n",
    "arc1 = '2018.314'\n",
    "arc2 = '2018.315'\n",
    "\n",
    "fig = ARCOVERLAP_2arcs_ObsResids_RSW_radial(fig, Obj_Geodyn2, 0, arc1, arc2)\n",
    "fig = ARCOVERLAP_2arcs_ObsResids_RSW_radial(fig, Obj_Geodyn3, 1, arc1, arc2)\n",
    "fig = ARCOVERLAP_2arcs_ObsResids_RSW_radial(fig, Obj_Geodyn1, 2, arc1, arc2)\n",
    "\n",
    "fig.show(config=config)\n"
   ]
  },
  {
   "cell_type": "code",
   "execution_count": null,
   "id": "9e1a4a3d",
   "metadata": {
    "ExecuteTime": {
     "start_time": "2021-06-02T18:49:58.535Z"
    }
   },
   "outputs": [],
   "source": [
    "\n",
    "%load_ext autoreload\n",
    "%autoreload 2\n",
    "\n",
    "from PYGEODYNAnalysis_icesat2PCEtrajectory import ARCOVERLAP_2arcs_ObsResids_NTW_intrack\n",
    "\n",
    "fig = make_subplots(rows=2, cols=1, \n",
    "            subplot_titles=(['In-Track Component', 'Residual (PCE-ORBFIL)']),\n",
    "            vertical_spacing = 0.2,\n",
    "            specs=[ [{\"secondary_y\": False }],\n",
    "                    [{\"secondary_y\": False }]],)\n",
    "\n",
    "arc1 = '2018.314'\n",
    "arc2 = '2018.315'\n",
    "\n",
    "fig = ARCOVERLAP_2arcs_ObsResids_NTW_intrack(fig, Obj_Geodyn2, 0, arc1, arc2)\n",
    "fig = ARCOVERLAP_2arcs_ObsResids_NTW_intrack(fig, Obj_Geodyn3, 1, arc1, arc2)\n",
    "fig = ARCOVERLAP_2arcs_ObsResids_NTW_intrack(fig, Obj_Geodyn1, 2, arc1, arc2)\n",
    "\n",
    "fig.show(config=config)\n"
   ]
  },
  {
   "cell_type": "markdown",
   "id": "0fb62e13",
   "metadata": {},
   "source": [
    "<!-- ### Check how well the PCE file and the ORBIT file match up -->"
   ]
  },
  {
   "cell_type": "code",
   "execution_count": null,
   "id": "15961052",
   "metadata": {},
   "outputs": [],
   "source": []
  }
 ],
 "metadata": {
  "kernelspec": {
   "display_name": "Python 3",
   "language": "python",
   "name": "python3"
  },
  "language_info": {
   "codemirror_mode": {
    "name": "ipython",
    "version": 3
   },
   "file_extension": ".py",
   "mimetype": "text/x-python",
   "name": "python",
   "nbconvert_exporter": "python",
   "pygments_lexer": "ipython3",
   "version": "3.7.9"
  },
  "toc": {
   "base_numbering": 1,
   "nav_menu": {},
   "number_sections": true,
   "sideBar": true,
   "skip_h1_title": false,
   "title_cell": "Table of Contents",
   "title_sidebar": "Contents",
   "toc_cell": false,
   "toc_position": {
    "height": "calc(100% - 180px)",
    "left": "10px",
    "top": "150px",
    "width": "319px"
   },
   "toc_section_display": true,
   "toc_window_display": false
  },
  "varInspector": {
   "cols": {
    "lenName": 16,
    "lenType": 16,
    "lenVar": 40
   },
   "kernels_config": {
    "python": {
     "delete_cmd_postfix": "",
     "delete_cmd_prefix": "del ",
     "library": "var_list.py",
     "varRefreshCmd": "print(var_dic_list())"
    },
    "r": {
     "delete_cmd_postfix": ") ",
     "delete_cmd_prefix": "rm(",
     "library": "var_list.r",
     "varRefreshCmd": "cat(var_dic_list()) "
    }
   },
   "types_to_exclude": [
    "module",
    "function",
    "builtin_function_or_method",
    "instance",
    "_Feature"
   ],
   "window_display": false
  }
 },
 "nbformat": 4,
 "nbformat_minor": 5
}
