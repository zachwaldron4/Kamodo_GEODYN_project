{
 "cells": [
  {
   "cell_type": "markdown",
   "id": "polar-internet",
   "metadata": {},
   "source": [
    "## Run Geodyn for ICESAT2 case\n"
   ]
  },
  {
   "cell_type": "code",
   "execution_count": 1,
   "id": "labeled-nancy",
   "metadata": {
    "ExecuteTime": {
     "end_time": "2021-04-30T17:32:49.413893Z",
     "start_time": "2021-04-30T17:32:10.925620Z"
    }
   },
   "outputs": [
    {
     "name": "stdout",
     "output_type": "stream",
     "text": [
      "=================================================\n",
      "                VERBOSE OPTION ON                \n",
      "=================================================\n",
      "\n",
      "        Current DIR:  /data/geodyn_proj/runs_geodyn/icesat2\n",
      "Run_Arc_1     Current Time =      17:32:12\n",
      "\n",
      "Run_Arc_1     Density Model:      msis2\n",
      "Run_Arc_1     GEODYN Version:     pygeodyn_MODS\n",
      "Run_Arc_1     Estimate GenAccel:  acceloff\n",
      "Run_Arc_1     ARC run:            iisset.2018.287\n",
      "Run_Arc_1     Output directory:   /data/data_geodyn/results/icesat2/msis2/msis2_acceloff_developer_test\n",
      "Run_Arc_1     Call Options:       {'DRHODZ_update': True}\n",
      "Run_Arc_1     EXAT File:     /data/data_geodyn/inputs/icesat2/external_attitude/EXAT01.2018.287\n",
      "        FORT.5  (input) file:   /data/data_geodyn/inputs/icesat2/setups/iisset.2018.287\n",
      "        FORT.40 (g2b)   file:   /data/data_geodyn/inputs/icesat2/g2b/icesat2_g2b_PCE_gpstraj\n",
      "        Current DIR:  /data/geodyn_proj/runs_geodyn/icesat2\n",
      "-------------------------------------------------\n",
      "       Linking files with the command line       \n",
      "-------------------------------------------------\n",
      "        Current DIR /data/data_geodyn/extra_dirs/tmp/icesat2/msis2_acceloff_developer_test/iisset.2018.287\n",
      "        copied:   exat file  > EXAT01\n",
      "        copied:   g2b file   > ftn40\n",
      "        gravfield: /data/data_geodyn/inputs/icesat2/gravity/eigen-6c.gfc_20080101_do_200_fix.grv\n",
      "        copied:   grav field > ftn12\n",
      "        copied:   ephem file > ftn01\n",
      "        copied:   gdntable   > ftn02\n",
      "        ATGRAV: /data/data_geodyn/inputs/icesat2/atgrav/ATGRAV.glo-3HR_20160101-PRESENT_9999_AOD1B_0006.0090\n",
      "        copied:   atgrav     > fort.18\n",
      "        copying          : iieout file\n",
      "        copying          : giis.input file\n",
      "-------------------------------------------------------------------------\n",
      "-------------------------------------------------------------------------\n",
      "        Current DIR /data/data_geodyn/extra_dirs/tmp/icesat2/msis2_acceloff_developer_test/iisset.2018.287\n",
      "\n",
      "Run_Arc_1          Running IIS\n",
      "ERRORS FOUND IN IIS: /data/data_geodyn/extra_dirs/tmp/icesat2/msis2_acceloff_developer_test/iisset.2018.287/iiserr\n",
      "giis2002_gfortran: ../../../libgfortran/io/read.c:1137: read_f: Assertion `exponent < 10000' failed.\n",
      "\n",
      "Program received signal SIGABRT: Process abort signal.\n",
      "\n",
      "Backtrace for this error:\n",
      "#0  0x7F54B84B26D7\n",
      "#1  0x7F54B84B2D1E\n",
      "#2  0x7F54B79AD3FF\n",
      "#3  0x7F54B79AD387\n",
      "#4  0x7F54B79AEA77\n",
      "#5  0x7F54B79A61A5\n",
      "#6  0x7F54B79A6251\n",
      "#7  0x7F54B857AFAA\n",
      "#8  0x7F54B857D88C\n",
      "#9  0x7F54B857BFF6\n",
      "#10  0x562768 in rd50ck_\n",
      "#11  0x450D18 in MAIN__ at GDYN2S.f90:?\n",
      "\n"
     ]
    },
    {
     "ename": "SystemExit",
     "evalue": "",
     "output_type": "error",
     "traceback": [
      "An exception has occurred, use %tb to see the full traceback.\n",
      "\u001b[0;31mSystemExit\u001b[0m\n"
     ]
    },
    {
     "name": "stderr",
     "output_type": "stream",
     "text": [
      "/data/miniconda3/envs/pygeodyn/lib/python3.8/site-packages/IPython/core/interactiveshell.py:3445: UserWarning:\n",
      "\n",
      "To exit: use 'exit', 'quit', or Ctrl-D.\n",
      "\n"
     ]
    }
   ],
   "source": [
    "%load_ext autoreload\n",
    "%autoreload 2\n",
    "\n",
    "import sys  \n",
    "sys.path.insert(0, '/data/geodyn_proj/pygeodyn/utils_pygeodyn_develop/')\n",
    "\n",
    "\n",
    "from pygeodyn_Control import pygeodyn_CONTROL\n",
    "#------ A dictionary containing the rcd ..un parameters ------  \n",
    "run_params = {} \n",
    "run_params['run_ID']           =  'Run_Arc_1'  \n",
    "run_params['arc']              =  'iisset.2018.287'  \n",
    "run_params['satellite']        =  'icesat2'  \n",
    "run_params['den_model']        =  'msis2'  \n",
    "run_params['empirical_accels'] =  False  \n",
    "run_params['SpecialRun_name']  =  '_developer_test'  \n",
    "run_params['options_in']       =  {'DRHODZ_update':True}  \n",
    "run_params['verbose']          =  True  \n",
    "\n",
    "#------ Initialize the run Object ------ \n",
    "Obj_Geodyn = pygeodyn_CONTROL(run_params)\n",
    "\n",
    "#------ Call the run fuction ------ \n",
    "Obj_Geodyn.RUN_GEODYN()"
   ]
  },
  {
   "cell_type": "code",
   "execution_count": null,
   "id": "outstanding-determination",
   "metadata": {
    "ExecuteTime": {
     "end_time": "2021-04-30T17:32:49.416897Z",
     "start_time": "2021-04-30T17:32:09.692Z"
    }
   },
   "outputs": [],
   "source": [
    "# %load_ext autoreload\n",
    "# %autoreload 2\n",
    "\n",
    "# import sys  \n",
    "# sys.path.insert(0, '/data/geodyn_proj/pygeodyn/utils_pygeodyn_develop/')\n",
    "# from pygeodyn_Control import pygeodyn_CONTROL\n",
    "\n",
    "\n",
    "# #------ A dictionary containing the run parameters ------  \n",
    "# run_params = {} \n",
    "# run_params['run_ID']           =  'Run_Arc_1'  \n",
    "# run_params['arc']              =  '030914_2wk'  \n",
    "# run_params['satellite']        =  'starlette'  \n",
    "# run_params['den_model']        =  'msis2'  \n",
    "# run_params['empirical_accels'] =  False  \n",
    "# run_params['SpecialRun_name']  =  '_developer_test'  \n",
    "# run_params['options_in']       =  {'DRHODZ_update':True}  \n",
    "# run_params['verbose']          =  True  \n",
    "\n",
    "\n",
    "# #------ Initialize the run Object ------ \n",
    "# Obj_Geodyn = pygeodyn_CONTROL(run_params)\n",
    "\n",
    "# #------ Call the run fuction ------ \n",
    "# Obj_Geodyn.RUN_GEODYN()"
   ]
  },
  {
   "cell_type": "code",
   "execution_count": null,
   "id": "great-layout",
   "metadata": {},
   "outputs": [],
   "source": []
  }
 ],
 "metadata": {
  "kernelspec": {
   "display_name": "Python 3",
   "language": "python",
   "name": "python3"
  },
  "language_info": {
   "codemirror_mode": {
    "name": "ipython",
    "version": 3
   },
   "file_extension": ".py",
   "mimetype": "text/x-python",
   "name": "python",
   "nbconvert_exporter": "python",
   "pygments_lexer": "ipython3",
   "version": "3.8.8"
  },
  "toc": {
   "base_numbering": 1,
   "nav_menu": {},
   "number_sections": true,
   "sideBar": true,
   "skip_h1_title": false,
   "title_cell": "Table of Contents",
   "title_sidebar": "Contents",
   "toc_cell": false,
   "toc_position": {
    "height": "calc(100% - 180px)",
    "left": "10px",
    "top": "150px",
    "width": "272px"
   },
   "toc_section_display": true,
   "toc_window_display": false
  },
  "varInspector": {
   "cols": {
    "lenName": 16,
    "lenType": 16,
    "lenVar": 40
   },
   "kernels_config": {
    "python": {
     "delete_cmd_postfix": "",
     "delete_cmd_prefix": "del ",
     "library": "var_list.py",
     "varRefreshCmd": "print(var_dic_list())"
    },
    "r": {
     "delete_cmd_postfix": ") ",
     "delete_cmd_prefix": "rm(",
     "library": "var_list.r",
     "varRefreshCmd": "cat(var_dic_list()) "
    }
   },
   "oldHeight": 122,
   "position": {
    "height": "40px",
    "left": "1650px",
    "right": "20px",
    "top": "120px",
    "width": "250px"
   },
   "types_to_exclude": [
    "module",
    "function",
    "builtin_function_or_method",
    "instance",
    "_Feature"
   ],
   "varInspector_section_display": "none",
   "window_display": true
  }
 },
 "nbformat": 4,
 "nbformat_minor": 5
}
