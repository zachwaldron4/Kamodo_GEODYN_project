{
 "cells": [
  {
   "cell_type": "markdown",
   "id": "optional-module",
   "metadata": {},
   "source": [
    "## Run Geodyn for ICESAT2 case\n"
   ]
  },
  {
   "cell_type": "code",
   "execution_count": 1,
   "id": "pleased-summary",
   "metadata": {},
   "outputs": [],
   "source": [
    "import sys  \n",
    "sys.path.insert(0, '/data/geodyn_proj/pygeodyn/utils_pygeodyn_develop/')\n"
   ]
  },
  {
   "cell_type": "code",
   "execution_count": 2,
   "id": "daily-publicity",
   "metadata": {},
   "outputs": [
    {
     "name": "stdout",
     "output_type": "stream",
     "text": [
      "setup_directories_and_geodyn_input /data/geodyn_proj/runs_geodyn/icesat2\n",
      "Run_Arc_1     Current Time =      18:45:45\n",
      "\n",
      "    FORT.5  (input) file:   /data/data_geodyn/inputs/icesat2/setups/iisset.2018.287\n",
      "    FORT.40 (g2b)   file:   /data/data_geodyn/inputs/icesat2/g2b/icesat2_g2b_PCE_gpstraj\n",
      "Run_Arc_1     Density Model:      msis2\n",
      "Run_Arc_1     GEODYN Version:     pygeodyn_MODS\n",
      "Run_Arc_1     Estimate GenAccel:  acceloff\n",
      "Run_Arc_1     ARC run:            iisset.2018.287\n",
      "Run_Arc_1     Output directory:   /data/data_geodyn/results/icesat2/msis2/msis2_acceloff_developer_test\n",
      "Run_Arc_1     Call Options:      {'DRHODZ_update': True}\n",
      "prepare_tmpdir_for_geodyn_run-- current working dir: /data/geodyn_proj/runs_geodyn/icesat2\n",
      "linked:   ephem file > ftn01\n",
      "linked:   gdntable  > ftn02\n",
      "linked:   atgrav  > fort.18\n",
      "copying          : iieout file\n",
      "unzipped         : iieout file\n",
      "copy             : giis.input file\n",
      "prepare_tmpdir_for_geodyn_run /data/data_geodyn/extra_dirs/tmp/icesat2/msis2_acceloff_developer_test/iisset.2018.287\n",
      "run_geodyn_in_tmpdir /data/data_geodyn/extra_dirs/tmp/icesat2/msis2_acceloff_developer_test/iisset.2018.287\n",
      "\n",
      "Run_Arc_1          Running IIS\n",
      "ERRORS FOUND IN IIS: /data/data_geodyn/extra_dirs/tmp/icesat2/msis2_acceloff_developer_test/iisset.2018.287/iiserr\n",
      "giis2002_gfortran: ../../../libgfortran/io/read.c:1137: read_f: Assertion `exponent < 10000' failed.\n",
      "\n",
      "Program received signal SIGABRT: Process abort signal.\n",
      "\n",
      "Backtrace for this error:\n",
      "#0  0x7FFAF3B816D7\n",
      "#1  0x7FFAF3B81D1E\n",
      "#2  0x7FFAF307C3FF\n",
      "#3  0x7FFAF307C387\n",
      "#4  0x7FFAF307DA77\n",
      "#5  0x7FFAF30751A5\n",
      "#6  0x7FFAF3075251\n",
      "#7  0x7FFAF3C49FAA\n",
      "#8  0x7FFAF3C4C88C\n",
      "#9  0x7FFAF3C4AFF6\n",
      "#10  0x562768 in rd50ck_\n",
      "#11  0x450D18 in MAIN__ at GDYN2S.f90:?\n",
      "\n"
     ]
    },
    {
     "ename": "SystemExit",
     "evalue": "",
     "output_type": "error",
     "traceback": [
      "An exception has occurred, use %tb to see the full traceback.\n",
      "\u001b[0;31mSystemExit\u001b[0m\n"
     ]
    },
    {
     "name": "stderr",
     "output_type": "stream",
     "text": [
      "/data/miniconda3/envs/pygeodyn/lib/python3.8/site-packages/IPython/core/interactiveshell.py:3445: UserWarning:\n",
      "\n",
      "To exit: use 'exit', 'quit', or Ctrl-D.\n",
      "\n"
     ]
    }
   ],
   "source": [
    "%load_ext autoreload\n",
    "%autoreload 2\n",
    "\n",
    "\n",
    "\n",
    "from pygeodyn_Control import pygeodyn_CONTROL\n",
    "#------ A dictionary containing the run parameters ------  \n",
    "run_params = {} \n",
    "run_params['run_ID']           =  'Run_Arc_1'  \n",
    "run_params['arc']              =  'iisset.2018.287'  \n",
    "run_params['satellite']        =  'icesat2'  \n",
    "run_params['den_model']        =  'msis2'  \n",
    "run_params['empirical_accels'] =  False  \n",
    "run_params['SpecialRun_name']  =  '_developer_test'  \n",
    "run_params['options_in']       =  {'DRHODZ_update':True}  \n",
    "run_params['verbose']          =  True  \n",
    "\n",
    "\n",
    "#------ Initialize the run Object ------ \n",
    "Obj_Geodyn = pygeodyn_CONTROL(run_params)\n",
    "\n",
    "#------ Call the run fuction ------ \n",
    "Obj_Geodyn.RUN_GEODYN()"
   ]
  },
  {
   "cell_type": "code",
   "execution_count": null,
   "id": "executed-valley",
   "metadata": {},
   "outputs": [],
   "source": []
  }
 ],
 "metadata": {
  "kernelspec": {
   "display_name": "Python 3",
   "language": "python",
   "name": "python3"
  },
  "language_info": {
   "codemirror_mode": {
    "name": "ipython",
    "version": 3
   },
   "file_extension": ".py",
   "mimetype": "text/x-python",
   "name": "python",
   "nbconvert_exporter": "python",
   "pygments_lexer": "ipython3",
   "version": "3.8.5"
  }
 },
 "nbformat": 4,
 "nbformat_minor": 5
}
