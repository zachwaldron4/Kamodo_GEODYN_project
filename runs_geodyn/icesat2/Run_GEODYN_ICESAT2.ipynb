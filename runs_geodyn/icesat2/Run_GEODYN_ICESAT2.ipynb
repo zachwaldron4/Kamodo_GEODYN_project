{
 "cells": [
  {
   "cell_type": "markdown",
   "id": "polar-internet",
   "metadata": {},
   "source": [
    "## Run Geodyn for ICESAT2 case\n"
   ]
  },
  {
   "cell_type": "code",
   "execution_count": 4,
   "id": "labeled-nancy",
   "metadata": {
    "ExecuteTime": {
     "end_time": "2021-04-30T18:39:35.124527Z",
     "start_time": "2021-04-30T18:39:35.104944Z"
    }
   },
   "outputs": [
    {
     "name": "stdout",
     "output_type": "stream",
     "text": [
      "The autoreload extension is already loaded. To reload it, use:\n",
      "  %reload_ext autoreload\n"
     ]
    }
   ],
   "source": [
    "%load_ext autoreload\n",
    "%autoreload 2\n",
    "\n",
    "import sys  \n",
    "sys.path.insert(0, '/data/geodyn_proj/pygeodyn/utils_pygeodyn_develop/')\n",
    "from pygeodyn_Control import pygeodyn_CONTROL\n",
    "\n",
    "\n",
    "\n",
    "\n",
    "#------ A dictionary containing the rcd ..un parameters ------  \n",
    "run_params = {} \n",
    "run_params['run_ID']           =  'Run_Arc_1'  \n",
    "run_params['arc']              =  'asetup_test_david'  \n",
    "run_params['satellite']        =  'icesat2'  \n",
    "run_params['den_model']        =  'msis2'  \n",
    "run_params['empirical_accels'] =   False  \n",
    "run_params['SpecialRun_name']  =   '_developer_test'  \n",
    "run_params['options_in']       =   {'DRHODZ_update':True}  \n",
    "run_params['verbose']          =   False  \n",
    "\n",
    "#------ Initialize the run Object ------ \n",
    "Obj_Geodyn = pygeodyn_CONTROL(run_params)\n",
    "\n",
    "#------ Call the run fuction ------ \n",
    "Obj_Geodyn.RUN_GEODYN()"
   ]
  },
  {
   "cell_type": "code",
   "execution_count": null,
   "id": "fb4500e3",
   "metadata": {},
   "outputs": [],
   "source": []
  },
  {
   "cell_type": "code",
   "execution_count": null,
   "id": "00632201",
   "metadata": {},
   "outputs": [],
   "source": []
  },
  {
   "cell_type": "code",
   "execution_count": null,
   "id": "af1c308f",
   "metadata": {},
   "outputs": [],
   "source": []
  },
  {
   "cell_type": "code",
   "execution_count": null,
   "id": "26763f43",
   "metadata": {},
   "outputs": [],
   "source": []
  },
  {
   "cell_type": "code",
   "execution_count": null,
   "id": "outstanding-determination",
   "metadata": {
    "ExecuteTime": {
     "end_time": "2021-04-30T17:32:49.416897Z",
     "start_time": "2021-04-30T17:32:09.692Z"
    }
   },
   "outputs": [],
   "source": [
    "# %load_ext autoreload\n",
    "# %autoreload 2\n",
    "\n",
    "# import sys  \n",
    "# sys.path.insert(0, '/data/geodyn_proj/pygeodyn/utils_pygeodyn_develop/')\n",
    "# from pygeodyn_Control import pygeodyn_CONTROL\n",
    "\n",
    "\n",
    "# #------ A dictionary containing the run parameters ------  \n",
    "# run_params = {} \n",
    "# run_params['run_ID']           =  'Run_Arc_1'  \n",
    "# run_params['arc']              =  '030914_2wk'  \n",
    "# run_params['satellite']        =  'starlette'  \n",
    "# run_params['den_model']        =  'msis2'  \n",
    "# run_params['empirical_accels'] =  False  \n",
    "# run_params['SpecialRun_name']  =  '_developer_test'  \n",
    "# run_params['options_in']       =  {'DRHODZ_update':True}  \n",
    "# run_params['verbose']          =  True  \n",
    "\n",
    "\n",
    "# #------ Initialize the run Object ------ \n",
    "# Obj_Geodyn = pygeodyn_CONTROL(run_params)\n",
    "\n",
    "# #------ Call the run fuction ------ \n",
    "# Obj_Geodyn.RUN_GEODYN()"
   ]
  },
  {
   "cell_type": "code",
   "execution_count": null,
   "id": "great-layout",
   "metadata": {},
   "outputs": [],
   "source": []
  }
 ],
 "metadata": {
  "kernelspec": {
   "display_name": "Python 3",
   "language": "python",
   "name": "python3"
  },
  "language_info": {
   "codemirror_mode": {
    "name": "ipython",
    "version": 3
   },
   "file_extension": ".py",
   "mimetype": "text/x-python",
   "name": "python",
   "nbconvert_exporter": "python",
   "pygments_lexer": "ipython3",
   "version": "3.8.8"
  },
  "toc": {
   "base_numbering": 1,
   "nav_menu": {},
   "number_sections": true,
   "sideBar": true,
   "skip_h1_title": false,
   "title_cell": "Table of Contents",
   "title_sidebar": "Contents",
   "toc_cell": false,
   "toc_position": {
    "height": "calc(100% - 180px)",
    "left": "10px",
    "top": "150px",
    "width": "272px"
   },
   "toc_section_display": true,
   "toc_window_display": false
  },
  "varInspector": {
   "cols": {
    "lenName": 16,
    "lenType": 16,
    "lenVar": 40
   },
   "kernels_config": {
    "python": {
     "delete_cmd_postfix": "",
     "delete_cmd_prefix": "del ",
     "library": "var_list.py",
     "varRefreshCmd": "print(var_dic_list())"
    },
    "r": {
     "delete_cmd_postfix": ") ",
     "delete_cmd_prefix": "rm(",
     "library": "var_list.r",
     "varRefreshCmd": "cat(var_dic_list()) "
    }
   },
   "oldHeight": 122,
   "position": {
    "height": "40px",
    "left": "1022px",
    "right": "20px",
    "top": "120px",
    "width": "250px"
   },
   "types_to_exclude": [
    "module",
    "function",
    "builtin_function_or_method",
    "instance",
    "_Feature"
   ],
   "varInspector_section_display": "none",
   "window_display": true
  }
 },
 "nbformat": 4,
 "nbformat_minor": 5
}
