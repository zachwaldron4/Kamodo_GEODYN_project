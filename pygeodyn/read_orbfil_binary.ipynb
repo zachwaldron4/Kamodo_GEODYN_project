{
 "cells": [
  {
   "cell_type": "code",
   "execution_count": 3,
   "id": "3f885581",
   "metadata": {
    "ExecuteTime": {
     "end_time": "2021-05-20T22:41:37.195748Z",
     "start_time": "2021-05-20T22:41:36.329514Z"
    }
   },
   "outputs": [],
   "source": [
    "from scipy.io import FortranFile\n",
    "import numpy as np\n",
    "import pandas as pd\n",
    "from collections import namedtuple\n",
    "import time\n",
    "# Fortran calls\n",
    "import subprocess\n",
    "import os"
   ]
  },
  {
   "cell_type": "code",
   "execution_count": 4,
   "id": "01ade181",
   "metadata": {
    "ExecuteTime": {
     "end_time": "2021-05-20T22:41:37.230714Z",
     "start_time": "2021-05-20T22:41:37.217488Z"
    }
   },
   "outputs": [],
   "source": [
    "orb_fil = '/data/data_geodyn/results/icesat2/msis2/msis2_acceloff_developer_files/ORBITS/icesat2_2018314_54hr.msis2_orb2'"
   ]
  },
  {
   "cell_type": "code",
   "execution_count": 77,
   "id": "e09d4508",
   "metadata": {
    "ExecuteTime": {
     "end_time": "2021-05-20T23:47:48.102365Z",
     "start_time": "2021-05-20T23:47:48.063269Z"
    }
   },
   "outputs": [
    {
     "name": "stdout",
     "output_type": "stream",
     "text": [
      "First record is header\n",
      "Number of satellites on this file:                             1.0\n",
      "Actual number of words per satellite per time point            24.0\n",
      "Number of words of data per time point (NWDATA=NSATS*NWDSAT )  24.0\n",
      "Number of time points per Data Buffer (NTIMBF ):               78.0\n",
      "\n",
      "\n",
      "Data record: 1\n",
      "1st Right Ascension of Greenwich Values 0.06945447153020312\n",
      "1st Right Ascension of Greenwich Values 0.06952739269130657\n",
      "get_first_packet_start 162\n",
      "get_first_packet_end 185\n"
     ]
    }
   ],
   "source": [
    "f = FortranFile(orb_fil, 'r')\n",
    "print('First record is header')\n",
    "a = f.read_record(float)  # read the record with the required datatype\n",
    "\n",
    "NSATS  = a[7-1]  # Number of satellites on this file:  \n",
    "NWDSAT = a[8-1]  # Actual number of words per satellite per time point (NWDSAT <= 39).\n",
    "NWDATA = a[9-1]   #NSATS*NWDSAT\n",
    "NTIMBF = a[10-1] # Number of time points per Data Buffer\n",
    "\n",
    "\n",
    "NA = a[2-1] # Number of alphanumeric buffers to follow the header\n",
    "NC = a[3-1] # Number of card images in the GEODYN II input control deck\n",
    "\n",
    "print('Number of satellites on this file:                            ' , NSATS)\n",
    "print('Actual number of words per satellite per time point           ' , NWDSAT)\n",
    "print('Number of words of data per time point (NWDATA=NSATS*NWDSAT ) ' , NWDATA)\n",
    "print('Number of time points per Data Buffer (NTIMBF ):              ' , NTIMBF)\n",
    "\n",
    "# print('' , a[])\n",
    "# print('' , a[])\n",
    "# print('' , a[])\n",
    "# print('' , a[])\n",
    "\n",
    "\n",
    "\n",
    "\n",
    "print()\n",
    "# print('Number of alphanumeric records: ',NA)\n",
    "# print('Skip over them in a for loop')\n",
    "for i in range(int(a[1])):\n",
    "    a = f.read_record(float)\n",
    "print()\n",
    "\n",
    "a = f.read_record(float)\n",
    "print('Data record:', int(a[1-1]))\n",
    "\n",
    "NTB = a[5-1] # Number of trajectory times in this Data Buffer (NTB <= NTIMBF ).\n",
    "# print('NTB', NTB)\n",
    "\n",
    "#### Trajectory Times in elapsed ET seconds from MJDSBF\n",
    "#       6 -> NTB+5\n",
    "\n",
    "print('1st Right Ascension of Greenwich Values',  a[int(NTIMBF)+6-1])\n",
    "print('1st Right Ascension of Greenwich Values',  a[int(NTIMBF)+7-1])\n",
    "\n",
    "\n",
    "### Satellite Data Packet for first satellite for first time point in this Data Buffer.\n",
    "\n",
    "get_first_packet_start = int((2*NTIMBF + 6) )\n",
    "print('get_first_packet_start',get_first_packet_start)\n",
    "\n",
    "get_first_packet_end = int((2* NTIMBF +5) + NWDSAT)\n",
    "print('get_first_packet_end',get_first_packet_end)\n",
    "\n",
    "\n",
    "\n",
    "\n",
    "\n",
    "f.close()  # be sure to close the file\n",
    "# print('Number of words in file:',np.shape(a))"
   ]
  },
  {
   "cell_type": "code",
   "execution_count": 81,
   "id": "fc3fb4b2",
   "metadata": {
    "ExecuteTime": {
     "end_time": "2021-05-20T23:48:54.640139Z",
     "start_time": "2021-05-20T23:48:54.633896Z"
    }
   },
   "outputs": [
    {
     "name": "stdout",
     "output_type": "stream",
     "text": [
      "X     485556.1778580549\n",
      "Y     5399551.505079578\n",
      "Z     4195936.201646193\n",
      "Xdot  736.4790702505036\n",
      "Ydot  4626.147922590701\n",
      "Zdot  -6018.654576417083\n",
      "Glat  37.91961997937909\n"
     ]
    }
   ],
   "source": [
    "print('X    ',a[get_first_packet_start -1])\n",
    "print('Y    ',a[get_first_packet_start+1 -1])\n",
    "print('Z    ',a[get_first_packet_start+2 -1])\n",
    "print('Xdot ',a[get_first_packet_start+3 -1])\n",
    "print('Ydot ',a[get_first_packet_start+4 -1])\n",
    "print('Zdot ',a[get_first_packet_start+5 -1])\n",
    "\n",
    "print('Glat ',a[get_first_packet_start+6 -1])\n"
   ]
  },
  {
   "cell_type": "code",
   "execution_count": null,
   "id": "ce011fb8",
   "metadata": {},
   "outputs": [],
   "source": [
    "# 1     Satellite Inertial X coordinate   (meters) \n",
    "# 2     Satellite Inertial X coordinate   (meters) \n",
    "# 3     Satellite Inertial Z coordinate   (meters) \n",
    "# 4     Satellite Inertial X velocity     (meters/second)\n",
    "# 5     Satellite Inertial Y velocity     (meters/second)\n",
    "# 6     Satellite Inertial Z velocity     (meters/second)\n",
    "# 7     Satellite Geodetic Latitude       (degrees)\n",
    "# 8     Satellite East Longitude          (degrees)\n",
    "# 9     Satellite Height                  (meters)\n",
    "# 10    Satellite ECF X coordinate        (meters)\n",
    "# 11    Satellite ECF Y coordinate        (meters)\n",
    "# 12    Satellite ECF Z coordinate        (meters)\n",
    "# 13    Satellite ECF X velocity          (meters/second)\n",
    "# 14    Satellite ECF Y velocity          (meters/second)\n",
    "# 15    Satellite ECF Z velocity          (meters/second)\n",
    "# 16    Polar Motion X                    (milliarcsec)\n",
    "# 17    Polar Motion Y                    (milliarcsec)\n",
    "# 18    Beta prime angle                  (degrees)\n",
    "# 19    Yaw angle                         (degrees)\n",
    "# 20    Orbit Angle                       (degrees)\n",
    "# 21    Q(1) -|  Quaternions describing \n",
    "# 22    Q(2)  |  the total rotation from \n",
    "# 23    Q(3)  |  ICRS(J200) to ITRF for\n",
    "# 24    Q(4) _|  this time"
   ]
  },
  {
   "cell_type": "code",
   "execution_count": 73,
   "id": "26e02de3",
   "metadata": {
    "ExecuteTime": {
     "end_time": "2021-05-20T23:42:05.694164Z",
     "start_time": "2021-05-20T23:42:05.690546Z"
    }
   },
   "outputs": [
    {
     "data": {
      "text/plain": [
       "185.0"
      ]
     },
     "execution_count": 73,
     "metadata": {},
     "output_type": "execute_result"
    }
   ],
   "source": [
    "# get_last_packet"
   ]
  },
  {
   "cell_type": "code",
   "execution_count": 8,
   "id": "ffad9f4b",
   "metadata": {
    "ExecuteTime": {
     "end_time": "2021-05-20T22:42:21.545670Z",
     "start_time": "2021-05-20T22:42:21.537973Z"
    }
   },
   "outputs": [
    {
     "data": {
      "text/plain": [
       "array([-9.00000e+09,  5.32000e+02,  1.06289e+05, ...,  0.00000e+00,\n",
       "        0.00000e+00,  0.00000e+00])"
      ]
     },
     "execution_count": 8,
     "metadata": {},
     "output_type": "execute_result"
    }
   ],
   "source": [
    "#     '-9 ,000 ,000 ,000.0D0',\n",
    "#     'Number of alphanumeric data buffers to follow .(NA)',\n",
    "#     'Number of card images in the GEODYN II input control deck (NC).',\n",
    "#     'Arc Number.',\n",
    "#     'Global Iteration Number',\n",
    "#     'Inner Iteration Number',\n",
    "#     'Number of satellites on this file (NSATS =1 or number of sats. in Set if Master and Slaves to be concurrently output .) This quantity has an upper limit of 50.',\n",
    "#     'Actual number of words per satellite per time point (NWDSAT <= 39)',\n",
    "#     'Number of words of data per time point (NWDATA=NSATS*NWDSAT )','\n",
    "#     'Number of time points per Data Buffer (NTIMBF ).',\n",
    "#     'Trajectory Start Date & Time in form YYMMDDHHMMSS .0D0 UTC \n",
    "#     'Fractional seconds of Start Time. UTC',\n",
    "#     'Trajectory Stop Date & Time in form YYMMDDHHMMSS .0D0 UTC ',\n",
    "#     'Fractional seconds of Stop Time. UTC',',\n",
    "#     'Trajectory Start Date & Time in Modified Julian Day Seconds (MJDS=(JD -2430000.5 D0 )*86400+ ISEC) ET',\n",
    "#     'Fractional seconds of Start Time',\n",
    "#     'Trajectory Stop Date & Time in Modified Julian Day Seconds (MJDS=(JD -2430000.5 D0 )*86400+ ISEC). ET',\n",
    "#     'Fractional seconds of Stop Time. ET',\n",
    "#     'Nominal interval between trajectory times in seconds. ET ',\n",
    "#     'Nominal number of trajectory times.',\n",
    "#     'zero',\n",
    "#     'Output S/C ephemeris reference system index (0 = TOD, 1 = TOR, 2 = Mean of J2000)',\n",
    "#     'spare',\n",
    "#     'spare',\n",
    "#     'spare',\n",
    "#     'spare',\n",
    "#     'spare',\n",
    "#     'spare',\n",
    "#     'spare',\n",
    "#     'spare',\n",
    "#     'spare',\n",
    "#     'spare',\n",
    "#     'spare',\n",
    "#     'spare',\n",
    "#     'spare',\n",
    "#     'spare',\n",
    "#     'spare',\n",
    "#     'spare',\n",
    "#     'spare',\n",
    "#     'spare',\n",
    "#     'spare',\n",
    "#     'spare',\n",
    "#     'spare',\n",
    "#     'spare',\n",
    "#     'spare',\n",
    "#     'spare',\n",
    "#     'spare',\n",
    "#     'spare',\n",
    "#     'spare',\n",
    "#     'spare',\n",
    "#     'spare',\n",
    "#     'spare',\n",
    "#     'spare',\n",
    "#     'spare',\n",
    "#     'spare',\n",
    "#     'spare',\n",
    "#     'spare',\n",
    "#     'spare',\n",
    "#     'spare',\n",
    "#     'spare',\n",
    "#     'spare',\n",
    "#     'spare',\n",
    "#     'spare',\n",
    "#     'spare',\n",
    "#     'spare',\n",
    "#     'spare',\n",
    "#     'spare',\n",
    "#     'spare',\n",
    "#     'spare',\n",
    "#     'spare',\n",
    "#     'spare',\n",
    "#     'spare',\n",
    "#     'spare',\n",
    "#     'spare',\n",
    "#     'spare',\n",
    "#     'spare',\n",
    "#     'spare',\n",
    "#     'spare',\n",
    "#     'spare',\n",
    "#     'spare',\n",
    "#     'spare',\n",
    "#     'spare',\n",
    "#     'spare',\n",
    "#     'spare',\n",
    "#     'spare',\n",
    "#     'spare',\n",
    "#     'spare',\n",
    "#     'spare',\n",
    "#     'spare',\n",
    "#     'spare',\n",
    "#     'spare',\n",
    "#     'spare',\n",
    "#     'spare',\n",
    "#     'spare',\n",
    "#     'spare',\n",
    "#     'spare',\n",
    "#     'spare',\n",
    "#     'spare',\n",
    "#     'spare',\n",
    "#     'spare',\n",
    "#     'Speed of Light.',\n",
    "#     'GM for Earth.',\n",
    "#     'Semi -major axis of Earth reference ellipsoid.',\n",
    "#     'Equatorial Flattening of Earth reference ellipsoid.',\n",
    "#     'Gravitational Potential Checksum.',\n",
    "#     'Maximum Degree of Gravitational Expansion.',\n",
    "#     'Maximum Order of Gravitational Expansion.',    ### SKIP from 108 -200\n",
    "    \n",
    "    \n",
    "\n",
    "\n",
    "\n",
    "\n",
    "\n",
    "\n",
    "\n",
    "\n"
   ]
  },
  {
   "cell_type": "code",
   "execution_count": 18,
   "id": "1b65c092",
   "metadata": {
    "ExecuteTime": {
     "end_time": "2021-05-20T23:07:32.652519Z",
     "start_time": "2021-05-20T23:07:32.647005Z"
    }
   },
   "outputs": [
    {
     "name": "stdout",
     "output_type": "stream",
     "text": [
      "Trajectory Start Date & Time in Modified Julian Day 2456514069.0\n",
      "Nominal interval between trajectory times in seconds. ET 1.0\n",
      "Nominal number of trajectory times. 193321.0\n",
      "zero 0.0\n",
      "Output S/C ephemeris reference system index (0 = TOD, 1 = TOR, 2 = Mean of J2000) 2.0\n",
      "spare 0.0\n",
      "speed of light 299792458.0\n"
     ]
    }
   ],
   "source": [
    "print('Trajectory Start Date & Time in Modified Julian Day',a[14])\n",
    "\n",
    "print('Nominal interval between trajectory times in seconds. ET',a[18])\n",
    "print('Nominal number of trajectory times.',a[19])\n",
    "print('zero', a[20])\n",
    "print('Output S/C ephemeris reference system index (0 = TOD, 1 = TOR, 2 = Mean of J2000)', a[21])\n",
    "print('spare', a[22])\n",
    "\n",
    "\n",
    "print('speed of light', a[100])"
   ]
  },
  {
   "cell_type": "code",
   "execution_count": null,
   "id": "bf80115b",
   "metadata": {},
   "outputs": [],
   "source": [
    "# f = FortranFile(__rvg_filename, 'r')\n",
    "\n",
    "# end_data_val = 9000000000 #-999.0\n",
    "# # end_datarecord = False\n",
    "# # counter = 0\n",
    "\n",
    "\n",
    "\n",
    "# ####   Loop through the binary file and save out each full record. \n",
    "# #      when we encounter the -999.0 delimeter at the start of the sentnial,\n",
    "# #      we have reached the end of the header record.\n",
    "# #\n",
    "# #      The data is saved into a DataFrame for \"simplicity\"\n",
    "\n",
    "\n",
    "# # while end_datarecord == False:\n",
    "\n",
    "# a = f.read_record(float)  # read the record with the required datatype\n",
    "\n",
    "\n",
    "\n"
   ]
  },
  {
   "cell_type": "code",
   "execution_count": null,
   "id": "e71cac94",
   "metadata": {},
   "outputs": [],
   "source": [
    "\n",
    "# if end_data_val in a:\n",
    "#     ####  If the the first index has -999.0 we are at the sentinel record \n",
    "#     #     which denotes the end of the data section.\n",
    "#     print(self.tabtab, '----- End of file')\n",
    "\n",
    "#     rvg_data['sentinel'] = dict(zip(sentinel_titles, a))    \n",
    "#     end_datarecord = True\n",
    "#     counter += 1\n",
    "#     f.close()  # be sure to close the file\n",
    "#     break  \n",
    "# else:\n",
    "#     if counter == 0:\n",
    "#         #### If the counter is 0 we are on the header record.\n",
    "#         #    this is simply because it is the first record. bottabing bottaboom\n",
    "#         rvg_data['header'] = dict(zip(header_titles, a))    \n",
    "#     else:\n",
    "#         #### Everything in the file that isn't header or senitinel is data\n",
    "#         rvg_data['data'].loc[counter-1] = dict(zip(data_titles,a) ) \n",
    "#     counter += 1\n"
   ]
  },
  {
   "cell_type": "code",
   "execution_count": null,
   "id": "8963d938",
   "metadata": {},
   "outputs": [],
   "source": []
  },
  {
   "cell_type": "code",
   "execution_count": null,
   "id": "b0d53911",
   "metadata": {},
   "outputs": [],
   "source": []
  },
  {
   "cell_type": "code",
   "execution_count": null,
   "id": "1db94888",
   "metadata": {},
   "outputs": [],
   "source": []
  },
  {
   "cell_type": "code",
   "execution_count": null,
   "id": "b3fb8e1f",
   "metadata": {},
   "outputs": [],
   "source": []
  },
  {
   "cell_type": "code",
   "execution_count": null,
   "id": "41092be3",
   "metadata": {},
   "outputs": [],
   "source": []
  }
 ],
 "metadata": {
  "kernelspec": {
   "display_name": "Python 3",
   "language": "python",
   "name": "python3"
  },
  "language_info": {
   "codemirror_mode": {
    "name": "ipython",
    "version": 3
   },
   "file_extension": ".py",
   "mimetype": "text/x-python",
   "name": "python",
   "nbconvert_exporter": "python",
   "pygments_lexer": "ipython3",
   "version": "3.8.8"
  },
  "toc": {
   "base_numbering": 1,
   "nav_menu": {},
   "number_sections": true,
   "sideBar": true,
   "skip_h1_title": false,
   "title_cell": "Table of Contents",
   "title_sidebar": "Contents",
   "toc_cell": false,
   "toc_position": {},
   "toc_section_display": true,
   "toc_window_display": false
  },
  "varInspector": {
   "cols": {
    "lenName": 16,
    "lenType": 16,
    "lenVar": 40
   },
   "kernels_config": {
    "python": {
     "delete_cmd_postfix": "",
     "delete_cmd_prefix": "del ",
     "library": "var_list.py",
     "varRefreshCmd": "print(var_dic_list())"
    },
    "r": {
     "delete_cmd_postfix": ") ",
     "delete_cmd_prefix": "rm(",
     "library": "var_list.r",
     "varRefreshCmd": "cat(var_dic_list()) "
    }
   },
   "types_to_exclude": [
    "module",
    "function",
    "builtin_function_or_method",
    "instance",
    "_Feature"
   ],
   "window_display": false
  }
 },
 "nbformat": 4,
 "nbformat_minor": 5
}
