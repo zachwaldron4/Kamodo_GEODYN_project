{
 "cells": [
  {
   "cell_type": "code",
   "execution_count": 1,
   "id": "a3a895d8",
   "metadata": {
    "ExecuteTime": {
     "end_time": "2021-04-30T20:52:44.096670Z",
     "start_time": "2021-04-30T20:52:44.081590Z"
    }
   },
   "outputs": [],
   "source": [
    "%load_ext autoreload\n",
    "%autoreload 2\n",
    "# \n",
    "# import sys  \n",
    "# sys.path.insert(0, '/data/geodyn_proj/pygeodyn/utils_pygeodyn_develop/')\n"
   ]
  },
  {
   "cell_type": "code",
   "execution_count": 2,
   "id": "c68330b6",
   "metadata": {
    "ExecuteTime": {
     "end_time": "2021-04-30T20:52:44.108019Z",
     "start_time": "2021-04-30T20:52:44.098501Z"
    }
   },
   "outputs": [],
   "source": [
    "# from satellite_classes import Satellite_ICESat2\n",
    "\n",
    "# from clean_iisset_file\n",
    "\n"
   ]
  },
  {
   "cell_type": "code",
   "execution_count": 3,
   "id": "d3a575d5",
   "metadata": {
    "ExecuteTime": {
     "end_time": "2021-04-30T20:52:44.117583Z",
     "start_time": "2021-04-30T20:52:44.109820Z"
    }
   },
   "outputs": [],
   "source": [
    "# #------ A dictionary containing the run parameters ------  \n",
    "# run_params = {} \n",
    "# run_params['run_ID']           =  'Run_Arc_1'  \n",
    "# run_params['arc']              =  'asetup_test_david' \n",
    "# run_params['satellite']        =  'icesat2'  \n",
    "# run_params['den_model']        =  'msis2'  \n",
    "# run_params['empirical_accels'] =  False  \n",
    "# run_params['SpecialRun_name']  =  '_developer_test'  \n",
    "# run_params['options_in']       =  {'DRHODZ_update':True}  \n",
    "# run_params['verbose']          =  False\n",
    "\n",
    "\n",
    "\n",
    "\n",
    "# Obj_Geodyn = Satellite_ICESat2(run_params)\n",
    "\n",
    "# Obj_Geodyn.RUN_GEODYN()"
   ]
  },
  {
   "cell_type": "code",
   "execution_count": null,
   "id": "f806a494",
   "metadata": {},
   "outputs": [],
   "source": []
  },
  {
   "attachments": {},
   "cell_type": "markdown",
   "id": "746b02f0",
   "metadata": {},
   "source": [
    "**For the run type in question (PCE based-trajectory), determine which option cards need to be included**\n",
    "\n",
    "### Consider:\n",
    "\n",
    "- Global options vs arc options\n",
    "- `ACCEL9` cards\n",
    "\n",
    "\n",
    "### Cards to add:\n",
    "- (none yet)\n",
    "\n",
    "### Cards to change:\n",
    "- SIGMA\n",
    "    - Change the `SIGMA`s on the PCE  data  (`SIGMA` cards) from 10.D+25 to 1.0. Otherwise the data will have no influence.\n",
    "    ```\n",
    "    SIGMA           1               1.0                 1.0\n",
    "    SIGMA           2               1.0                 1.0\n",
    "    SIGMA           3               1.0                 1.0\n",
    "    SIGMA          51               10.0D+25             0.10\n",
    "    SIGMA          85               0.010000            0.010000\n",
    "    ```\n",
    "\n",
    "### Cards to remove:  \n",
    "- `XEPHEM`\n",
    "    - what is this card?\n",
    "- `REFRAC`\n",
    "    - You are not modeling refraction\n",
    "- `GPSMOD`\n",
    "    - if present, then the PCE data will be treated as if it were Earth fixed\n",
    "\n",
    "\n"
   ]
  },
  {
   "cell_type": "markdown",
   "id": "b57c374a",
   "metadata": {},
   "source": [
    "diff the two files:\n",
    "\n",
    "```\n",
    "(base) [m_geodyn@tools_dev setups]$ diff asetup_test_david aTEST_setup287\n",
    "\n",
    "110201c110328\n",
    "< SATPAR   13      1807001          9.53000000       1514.000\n",
    "---\n",
    "> SATPAR   139     1807001          9.53000000       1514.000\n",
    "126442,126445c126569,126572\n",
    "< SIGMA           1               1.0                 1.0\n",
    "< SIGMA           2               1.0                 1.0\n",
    "< SIGMA           3               1.0                 1.0\n",
    "< SIGMA          51               10.0D+25             0.10\n",
    "---\n",
    "> SIGMA           1               1.0                 1.0\n",
    "> SIGMA           2               1.0                 1.0\n",
    "> SIGMA           3               1.0                 1.0\n",
    "> SIGMA          51               1.0                  0.10\n",
    "```"
   ]
  },
  {
   "cell_type": "markdown",
   "id": "8384f7c6",
   "metadata": {},
   "source": [
    "**Make a copy of the setup file**\n",
    "\n"
   ]
  },
  {
   "cell_type": "code",
   "execution_count": 4,
   "id": "20da6732",
   "metadata": {},
   "outputs": [],
   "source": [
    "import shutil\n",
    "import numpy as np\n",
    "import pandas as pd\n",
    "import linecache\n",
    "\n",
    "path_to_setupfiles = '/data/data_geodyn/inputs/icesat2/setups/'\n",
    "setup_file = 'iisset.2018.287'\n",
    "__setup_filename = path_to_setupfiles + setup_file\n",
    "\n",
    "shutil.copyfile(__setup_filename, path_to_setupfiles +'aTEST_setup287')\n",
    "__test_setup_filename = path_to_setupfiles +'aTEST_setup287'\n",
    "\n",
    "\n",
    "SAT_ID    = '1807001'\n",
    "den_model = '86'\n",
    "iisset_file = __test_setup_filename\n"
   ]
  },
  {
   "cell_type": "code",
   "execution_count": null,
   "id": "30106e0d",
   "metadata": {},
   "outputs": [],
   "source": [
    "\n"
   ]
  },
  {
   "cell_type": "code",
   "execution_count": 5,
   "id": "79135bae",
   "metadata": {},
   "outputs": [],
   "source": [
    "\n",
    "cards_to_remove = [ 'ACCEL9',\n",
    "                    'XEPHEM',\n",
    "                    'REFRAC',\n",
    "                    'GPSMOD',\n",
    "                    'OFFSET',\n",
    "                    'OFFADJ',\n",
    "                    'ANTPHC',\n",
    "                    'ANTPH2',\n",
    "                    'CGMASS',\n",
    "                  ] \n",
    "\n",
    "##### Grab the EPOCH start and end times\n",
    "EPOCH_lines = []\n",
    "with open(iisset_file, 'r') as f:\n",
    "    for line_no, line_text in enumerate(f):\n",
    "        if 'EPOCH         ' in line_text:\n",
    "            EPOCH_lines.append(line_no) \n",
    "\n",
    "##### Identify and save the EPOCH start and end times\n",
    "for i,val in enumerate(EPOCH_lines):\n",
    "    satpar_line = linecache.getline(iisset_file,val) # Check the above SATPAR line get the correct satellite ID (i.e. NOT GPS)\n",
    "\n",
    "    ##### only do this for the main satellite, so look for the correct SATID in the SATPAR card above EPOCH\n",
    "    if SAT_ID in satpar_line:\n",
    "        epoch_start = linecache.getline(iisset_file,val + 1)[20:40].strip() #181013210000.0000000\n",
    "        epoch_start_YYMMDD = linecache.getline(iisset_file,val + 1)[20:26].strip()       # 181013\n",
    "        epoch_start_HHMM = linecache.getline(iisset_file,val + 1)[26:30].strip()         # 210000.0000000\n",
    "        epoch_start_SS_SSSSSSS = linecache.getline(iisset_file,val + 1)[30:40].strip()   # 00.0000000     \n",
    "        \n",
    "        epoch_end   = linecache.getline(iisset_file,val + 1)[60:80].strip() #1810160300 00.000\n",
    "        epoch_end_YYMMDD = linecache.getline(iisset_file,val + 1)[60:66].strip()       # 181016\n",
    "        epoch_end_HHMM = linecache.getline(iisset_file,val + 1)[66:70].strip()         # 210000.0000000\n",
    "        epoch_end_SS_SSSSSSS = linecache.getline(iisset_file,val + 1)[70:80].strip()   # 00.0000000     \n",
    "\n",
    "##### TO DO : Add conditional for month-day turnover\n",
    "epoch_start_minus2days = epoch_start_YYMMDD[:-2]+str(int(epoch_start_YYMMDD[-2:])-2)+epoch_start_HHMM+epoch_start_SS_SSSSSSS\n",
    "epoch_end_plus1days =  epoch_end_YYMMDD[:-2]+str(int(epoch_end_YYMMDD[-2:])+1)+epoch_end_HHMM+epoch_end_SS_SSSSSSS\n",
    "\n",
    "\n",
    "##### Putting in the options is one of the hardest parts of using GEODYN\n",
    "#####    They require VERY specific inputs depending on the run type.  \n",
    "card_strings = {}\n",
    "card_strings['ORBFIL'] =  'ORBFIL2 31       '+SAT_ID+'     '+str(epoch_start)[:-6]+'  '+str(epoch_end)[:6]+' 24200.00 .100000D+01'\n",
    "card_strings['ORBTVU'] =  'ORBTVU1021       '+SAT_ID+'     '+str(epoch_start)[:-6]+'  '+str(epoch_end)[:6]+' 24200.00 .100000D+01'\n",
    "card_strings['RESID']  =  'RESIDU12'\n",
    "card_strings['OBSVU']  =  'OBSVU 4'\n",
    "card_strings['PRNTVU'] =  'PRNTVU55212222    22122'  \n",
    "card_strings['ATMDEN'] =  'ATMDEN  '+den_model\n",
    "card_strings['ATGRAV']  =  'ATGRAV9090              '+epoch_start_minus2days +''+epoch_end_plus1days[:-1]   \n",
    "card_strings['I64G2E']  =  'I64G2E         25'  # using 30 like in st-SLR run maxed out the memory usage\n",
    "card_strings['SATPAR']  =  'SATPAR   13      '+SAT_ID+'          9.53000000       1514.000'\n",
    "card_strings['SIGMA           1']  =  '               10.0D+25            10.0D+25'\n",
    "card_strings['SIGMA           2']  =  '               10.0D+25            10.0D+25'\n",
    "card_strings['SIGMA           3']  =  '               10.0D+25            10.0D+25'\n",
    "card_strings['SIGMA          51']  =  '               10.0D+25             0.10'\n",
    "card_strings['SIGMA          85']  =  '               0.010000            0.010000'\n",
    "\n",
    "\n",
    "##### read in all lines of the file and save them\n",
    "with open(iisset_file, \"r\") as f:\n",
    "    lines_all = f.readlines()    \n",
    "##### Re-write the file line-by-line WITHOUT the cards that we want to remove    \n",
    "with open(iisset_file, \"w\") as f:\n",
    "    for line in lines_all:\n",
    "        if any(card in line for card in cards_to_remove):\n",
    "            # IF the any of the cards in the list are in the line, dont add it\n",
    "            pass\n",
    "        else:\n",
    "            f.write(line)                \n",
    "\n",
    "##### DO IT AGAIN but with the above updates\n",
    "##### read in all lines of the file and save them\n",
    "with open(iisset_file, \"r\") as f:\n",
    "    lines_all = f.readlines()                \n",
    "\n",
    "####------------------------------------------------\n",
    "#### Check to see if cards we want are in file first\n",
    "####------------------------------------------------\n",
    "##### card flags to see if certain cards are present in the file\n",
    "card_flag = {}\n",
    "for card in card_strings:\n",
    "    ### Set the default flag to be False,  if the card is in the file, flip the flag to True\n",
    "    card_flag[card] = False\n",
    "    for line in lines_all:\n",
    "        if card in line:\n",
    "            card_flag[card] = True\n",
    "        \n",
    "\n",
    "## Re-write the file line-by-line and EDIT the cards that need to be modified    \n",
    "with open(iisset_file, \"w\") as f:\n",
    "    for line in lines_all:\n",
    "#         if (card in line for card in card_strings):\n",
    "#             line_replace = card_strings[card]\n",
    "#             f.write(line_replace+' \\n')\n",
    "#         else:\n",
    "#             f.write(line)\n",
    "\n",
    "        for card in card_strings:\n",
    "            line_replace = card_strings[card]\n",
    "\n",
    "            if card in line:\n",
    "                # Go ahead and re-write the line to be in the desired format\n",
    "                f.write(line_replace+' \\n')\n",
    "                break\n",
    "            else:\n",
    "                f.write(line)\n",
    "                break\n",
    "\n",
    "##### DO IT AGAIN but with the above updates\n",
    "###    read in all lines of the file and save them\n",
    "with open(iisset_file, \"r\") as f:\n",
    "    lines_all = f.readlines()                  \n",
    "####----------------------------------------------------\n",
    "#### Add any cards that we want that are not in the file\n",
    "####----------------------------------------------------\n",
    "for card in card_flag:\n",
    "    if card_flag[card] == False:\n",
    "\n",
    "        with open(iisset_file, \"w\") as f:\n",
    "            for line in lines_all:\n",
    "                if 'ALBEDO' in line:\n",
    "                    f.write(line)\n",
    "                    f.write(card_strings[card] + ' \\n')                 \n",
    "                else:\n",
    "                    f.write(line)\n",
    "            \n",
    "        \n",
    "            "
   ]
  },
  {
   "cell_type": "code",
   "execution_count": null,
   "id": "09399aa6",
   "metadata": {},
   "outputs": [],
   "source": []
  },
  {
   "cell_type": "code",
   "execution_count": null,
   "id": "68284b5d",
   "metadata": {},
   "outputs": [],
   "source": []
  },
  {
   "cell_type": "code",
   "execution_count": null,
   "id": "ce123165",
   "metadata": {},
   "outputs": [],
   "source": []
  },
  {
   "cell_type": "code",
   "execution_count": null,
   "id": "bc00816c",
   "metadata": {},
   "outputs": [],
   "source": []
  },
  {
   "cell_type": "markdown",
   "id": "82e14616",
   "metadata": {},
   "source": [
    "Loop through the file:\n",
    "    \n",
    "   - determine which cards need to be deleted, modified or added."
   ]
  },
  {
   "cell_type": "code",
   "execution_count": null,
   "id": "02913ab1",
   "metadata": {},
   "outputs": [],
   "source": []
  },
  {
   "cell_type": "code",
   "execution_count": 6,
   "id": "be59b97c",
   "metadata": {
    "ExecuteTime": {
     "end_time": "2021-04-30T20:52:44.759575Z",
     "start_time": "2021-04-30T20:52:44.120137Z"
    }
   },
   "outputs": [],
   "source": []
  },
  {
   "cell_type": "code",
   "execution_count": null,
   "id": "fa501eb9",
   "metadata": {},
   "outputs": [],
   "source": []
  },
  {
   "cell_type": "code",
   "execution_count": null,
   "id": "4ae3fbcf",
   "metadata": {
    "ExecuteTime": {
     "end_time": "2021-04-30T20:53:43.046759Z",
     "start_time": "2021-04-30T20:52:44.761188Z"
    }
   },
   "outputs": [],
   "source": []
  },
  {
   "cell_type": "code",
   "execution_count": null,
   "id": "406ac09a",
   "metadata": {
    "ExecuteTime": {
     "end_time": "2021-04-30T20:53:43.055683Z",
     "start_time": "2021-04-30T20:52:42.881Z"
    }
   },
   "outputs": [],
   "source": []
  },
  {
   "cell_type": "code",
   "execution_count": null,
   "id": "551d527d",
   "metadata": {},
   "outputs": [],
   "source": []
  }
 ],
 "metadata": {
  "kernelspec": {
   "display_name": "Python 3",
   "language": "python",
   "name": "python3"
  },
  "language_info": {
   "codemirror_mode": {
    "name": "ipython",
    "version": 3
   },
   "file_extension": ".py",
   "mimetype": "text/x-python",
   "name": "python",
   "nbconvert_exporter": "python",
   "pygments_lexer": "ipython3",
   "version": "3.8.5"
  },
  "toc": {
   "base_numbering": 1,
   "nav_menu": {
    "height": "46px",
    "width": "169px"
   },
   "number_sections": true,
   "sideBar": true,
   "skip_h1_title": false,
   "title_cell": "Table of Contents",
   "title_sidebar": "Contents",
   "toc_cell": false,
   "toc_position": {},
   "toc_section_display": true,
   "toc_window_display": false
  },
  "varInspector": {
   "cols": {
    "lenName": 16,
    "lenType": 16,
    "lenVar": 40
   },
   "kernels_config": {
    "python": {
     "delete_cmd_postfix": "",
     "delete_cmd_prefix": "del ",
     "library": "var_list.py",
     "varRefreshCmd": "print(var_dic_list())"
    },
    "r": {
     "delete_cmd_postfix": ") ",
     "delete_cmd_prefix": "rm(",
     "library": "var_list.r",
     "varRefreshCmd": "cat(var_dic_list()) "
    }
   },
   "types_to_exclude": [
    "module",
    "function",
    "builtin_function_or_method",
    "instance",
    "_Feature"
   ],
   "window_display": false
  }
 },
 "nbformat": 4,
 "nbformat_minor": 5
}
