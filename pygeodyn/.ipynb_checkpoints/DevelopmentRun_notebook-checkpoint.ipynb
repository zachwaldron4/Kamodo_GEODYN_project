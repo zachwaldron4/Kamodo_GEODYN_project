{
 "cells": [
  {
   "cell_type": "code",
   "execution_count": 1,
   "id": "0bd81a67",
   "metadata": {
    "ExecuteTime": {
     "end_time": "2021-05-13T20:07:23.581733Z",
     "start_time": "2021-05-13T19:40:35.676378Z"
    },
    "scrolled": false
   },
   "outputs": [
    {
     "name": "stdout",
     "output_type": "stream",
     "text": [
      "=================================================================\n",
      "   Initializing PYGEODYN to ... \n",
      "                            ... RUN GEODYN\n",
      "=================================================================\n",
      "Run_Arc_1     Current Time =      19:40:36\n",
      "\n",
      "Run_Arc_1     Cleaning iisset:    /data/data_geodyn/inputs/icesat2/setups/iisset.2018.288\n",
      "Run_Arc_1     This run's iisset:  /data/data_geodyn/inputs/icesat2/setups/cleaned_setup_file\n",
      "Run_Arc_1     Density Model:      msis2\n",
      "Run_Arc_1     GEODYN Version:     pygeodyn_MODS\n",
      "Run_Arc_1     Estimate GenAccel:  acceloff\n",
      "Run_Arc_1     ARC run:            iisset.2018.288\n",
      "Run_Arc_1     Output directory:   /data/data_geodyn/results/icesat2/msis2/msis2_acceloff_developer_test\n",
      "Run_Arc_1     Call Options:       {'DRHODZ_update': True}\n",
      "Run_Arc_1     EXAT File:     /data/data_geodyn/inputs/icesat2/external_attitude/EXAT01.2018.288.gz\n",
      "\n",
      "Run_Arc_1          Running IIS\n",
      "Run_Arc_1          No errors in IIS\n",
      "Run_Arc_1 ---------End of IIS\n",
      "\n",
      "Run_Arc_1          Running IIE\n",
      "Run_Arc_1          Current Time = 19:41:26\n",
      "Run_Arc_1          No errors in IIE\n",
      "Run_Arc_1 ---------End of IIE\n",
      "Run_Arc_1          Time of IIE:  1556.7098824977875 secs ( 25.945164708296456  mins)\n",
      "Run_Arc_1          Current Time = 20:07:22\n",
      "File is not in Run_Arc_1 : fort.8 -- ascii_xyz\n",
      "File is not in Run_Arc_1 : fort.10 -- ascii_kep\n",
      "File is not in Run_Arc_1 : fort.30 -- orbfil\n",
      "File is not in Run_Arc_1 : fort.98 -- msis_in_file\n",
      "File is not in Run_Arc_1 : fort.101 -- msis_out_file\n",
      "File is not in Run_Arc_1 : fort.103 -- msis_SWI_file\n",
      "Run_Arc_1                Finished renaming files\n",
      "Run_Arc_1                Finished copying files to outputdir\n"
     ]
    }
   ],
   "source": [
    "%load_ext autoreload\n",
    "%autoreload 2\n",
    "\n",
    "import sys  \n",
    "sys.path.insert(0, '/data/geodyn_proj/pygeodyn/utils_pygeodyn_develop/')\n",
    "from PYGEODYN import Pygeodyn\n",
    "\n",
    "#------ A dictionary containing the run parameters ------  \n",
    "run_params = {} \n",
    "run_params['run_ID']           =  'Run_Arc_1'  \n",
    "run_params['arc']              =  'iisset.2018.288' \n",
    "run_params['satellite']        =  'icesat2'  \n",
    "run_params['den_model']        =  'msis2'  \n",
    "run_params['empirical_accels'] =  False  \n",
    "run_params['SpecialRun_name']  =  '_developer_test'  \n",
    "run_params['options_in']       =  {'DRHODZ_update':True}  \n",
    "run_params['verbose']          =  False\n",
    "run_params['action']           =   'run'\n",
    "\n",
    "\n",
    "\n",
    "Obj_Geodyn = Pygeodyn(run_params)\n",
    "\n",
    "# Obj_Geodyn.getData_Arc()\n",
    "Obj_Geodyn.RUN_GEODYN()"
   ]
  },
  {
   "cell_type": "code",
   "execution_count": null,
   "id": "e878c10d",
   "metadata": {
    "ExecuteTime": {
     "end_time": "2021-05-11T21:39:36.594799Z",
     "start_time": "2021-05-11T21:39:36.580528Z"
    }
   },
   "outputs": [],
   "source": []
  },
  {
   "cell_type": "code",
   "execution_count": null,
   "id": "dbedb97b",
   "metadata": {
    "ExecuteTime": {
     "end_time": "2021-05-11T21:39:37.178893Z",
     "start_time": "2021-05-11T21:39:37.162286Z"
    }
   },
   "outputs": [],
   "source": []
  },
  {
   "cell_type": "code",
   "execution_count": null,
   "id": "63593df7",
   "metadata": {},
   "outputs": [],
   "source": []
  },
  {
   "cell_type": "code",
   "execution_count": 2,
   "id": "f6a90180",
   "metadata": {
    "ExecuteTime": {
     "end_time": "2021-05-13T20:07:23.599466Z",
     "start_time": "2021-05-13T20:07:23.583997Z"
    }
   },
   "outputs": [],
   "source": [
    "# epoch_start_YYMMDD = str(181013)\n",
    "# epoch_start_HHMM = str(2100)\n",
    "# #  + epoch_start_HHMM[:2]\n",
    "\n",
    "\n",
    "# add_hours = 900\n",
    "\n",
    "# drag_date1 = epoch_start_YYMMDD + str(np.mod(int(epoch_start_HHMM)+900, 2400)).rjust(4,'0')\n",
    "# drag_date1"
   ]
  },
  {
   "cell_type": "code",
   "execution_count": 3,
   "id": "4f1632b7",
   "metadata": {
    "ExecuteTime": {
     "end_time": "2021-05-13T20:07:23.619911Z",
     "start_time": "2021-05-13T20:07:23.604005Z"
    }
   },
   "outputs": [],
   "source": [
    "# import pandas as pd\n",
    "# epoch_start_dt = pd.to_datetime( epoch_start_YYMMDD+epoch_start_HHMM, format='%y%m%d%H%M%S')\n",
    "# add_hours_dt = pd.Series(pd.to_timedelta(9,'h'))\n",
    "\n",
    "# drag_date_1 = (epoch_start+add_hours_datetime).dt.strftime('%y%m%d%H%M%S').values[0]\n",
    "# drag_date_2 = (epoch_start+add_hours_datetime*2).dt.strftime('%y%m%d%H%M%S').values[0]\n",
    "# drag_date_3 = (epoch_start+add_hours_datetime*3).dt.strftime('%y%m%d%H%M%S').values[0]\n",
    "# drag_date_4 = (epoch_start+add_hours_datetime*4).dt.strftime('%y%m%d%H%M%S').values[0]\n",
    "# drag_date_5 = (epoch_start+add_hours_datetime*5).dt.strftime('%y%m%d%H%M%S').values[0]\n",
    "# drag_date_6 = (epoch_start+add_hours_datetime*6).dt.strftime('%y%m%d%H%M%S').values[0]\n",
    "\n",
    "\n"
   ]
  },
  {
   "cell_type": "code",
   "execution_count": 4,
   "id": "e3624f86",
   "metadata": {
    "ExecuteTime": {
     "end_time": "2021-05-13T20:07:23.635973Z",
     "start_time": "2021-05-13T20:07:23.621951Z"
    }
   },
   "outputs": [],
   "source": [
    "# drag_date_1[:10]"
   ]
  },
  {
   "cell_type": "code",
   "execution_count": 5,
   "id": "d230a75f",
   "metadata": {
    "ExecuteTime": {
     "end_time": "2021-05-13T20:07:23.651261Z",
     "start_time": "2021-05-13T20:07:23.637736Z"
    }
   },
   "outputs": [],
   "source": [
    "#  str(np.mod(int(epoch_start_HHMM)+add_hours, 2400))"
   ]
  }
 ],
 "metadata": {
  "kernelspec": {
   "display_name": "Python 3",
   "language": "python",
   "name": "python3"
  },
  "language_info": {
   "codemirror_mode": {
    "name": "ipython",
    "version": 3
   },
   "file_extension": ".py",
   "mimetype": "text/x-python",
   "name": "python",
   "nbconvert_exporter": "python",
   "pygments_lexer": "ipython3",
   "version": "3.8.8"
  },
  "toc": {
   "base_numbering": 1,
   "nav_menu": {
    "height": "46px",
    "width": "169px"
   },
   "number_sections": true,
   "sideBar": true,
   "skip_h1_title": false,
   "title_cell": "Table of Contents",
   "title_sidebar": "Contents",
   "toc_cell": false,
   "toc_position": {},
   "toc_section_display": true,
   "toc_window_display": false
  },
  "varInspector": {
   "cols": {
    "lenName": 16,
    "lenType": 16,
    "lenVar": 40
   },
   "kernels_config": {
    "python": {
     "delete_cmd_postfix": "",
     "delete_cmd_prefix": "del ",
     "library": "var_list.py",
     "varRefreshCmd": "print(var_dic_list())"
    },
    "r": {
     "delete_cmd_postfix": ") ",
     "delete_cmd_prefix": "rm(",
     "library": "var_list.r",
     "varRefreshCmd": "cat(var_dic_list()) "
    }
   },
   "types_to_exclude": [
    "module",
    "function",
    "builtin_function_or_method",
    "instance",
    "_Feature"
   ],
   "window_display": false
  }
 },
 "nbformat": 4,
 "nbformat_minor": 5
}
