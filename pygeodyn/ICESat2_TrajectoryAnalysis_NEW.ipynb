{
 "cells": [
  {
   "cell_type": "markdown",
   "id": "d49017ab",
   "metadata": {},
   "source": [
    "<h1>Table of Contents<span class=\"tocSkip\"></span></h1>\n",
    "<div class=\"toc\"><ul class=\"toc-item\"><li><span><a href=\"#A-Trajectory-Analysis-using-the-ICESat2-Satellite\" data-toc-modified-id=\"A-Trajectory-Analysis-using-the-ICESat2-Satellite-1\"><span class=\"toc-item-num\">1&nbsp;&nbsp;</span>A Trajectory Analysis using the ICESat2 Satellite</a></span><ul class=\"toc-item\"><li><span><a href=\"#Step-0:--Pre-processing-the-PCE-data-into-a-G2B-file\" data-toc-modified-id=\"Step-0:--Pre-processing-the-PCE-data-into-a-G2B-file-1.1\"><span class=\"toc-item-num\">1.1&nbsp;&nbsp;</span>Step 0:  Pre-processing the PCE data into a G2B file</a></span><ul class=\"toc-item\"><li><span><a href=\"#PygeodynPreprocessing\" data-toc-modified-id=\"PygeodynPreprocessing-1.1.1\"><span class=\"toc-item-num\">1.1.1&nbsp;&nbsp;</span>PygeodynPreprocessing</a></span></li></ul></li><li><span><a href=\"#Step-1:-Run-GEODYN-using-Pygeodyn-with-the-ICESat2-configuration\" data-toc-modified-id=\"Step-1:-Run-GEODYN-using-Pygeodyn-with-the-ICESat2-configuration-1.2\"><span class=\"toc-item-num\">1.2&nbsp;&nbsp;</span>Step 1: Run GEODYN using Pygeodyn with the ICESat2 configuration</a></span><ul class=\"toc-item\"><li><span><a href=\"#Step-1.1:--Run-with-MSIS2\" data-toc-modified-id=\"Step-1.1:--Run-with-MSIS2-1.2.1\"><span class=\"toc-item-num\">1.2.1&nbsp;&nbsp;</span>Step 1.1:  Run with MSIS2</a></span></li><li><span><a href=\"#Step--1.2:-Run-with-DTM87-for-comparison\" data-toc-modified-id=\"Step--1.2:-Run-with-DTM87-for-comparison-1.2.2\"><span class=\"toc-item-num\">1.2.2&nbsp;&nbsp;</span>Step  1.2: Run with DTM87 for comparison</a></span></li></ul></li><li><span><a href=\"#Read-GEODYN-Output-using-PygeodynRead-functionality\" data-toc-modified-id=\"Read-GEODYN-Output-using-PygeodynRead-functionality-1.3\"><span class=\"toc-item-num\">1.3&nbsp;&nbsp;</span>Read GEODYN Output using PygeodynRead functionality</a></span></li><li><span><a href=\"#Analyze-output\" data-toc-modified-id=\"Analyze-output-1.4\"><span class=\"toc-item-num\">1.4&nbsp;&nbsp;</span>Analyze output</a></span></li></ul></li></ul></div>"
   ]
  },
  {
   "cell_type": "markdown",
   "id": "6bd8062b",
   "metadata": {},
   "source": [
    "# A Trajectory Analysis using the ICESat2 Satellite\n",
    "\n",
    "For information on adding the ICESat2 satellite to `pygeodyn` see the notebook titled, *Adding a New Satellite: ICESat2*.\n",
    "\n"
   ]
  },
  {
   "cell_type": "markdown",
   "id": "90b3c31c",
   "metadata": {},
   "source": [
    "## Step 0:  Pre-processing the PCE data into a G2B file\n",
    "\n",
    "We will construct a `G2B_PCE`file from a set of binary `.rvg` files which contain trajectory output from a reduced-dynamics run of GEODYN. The files will be stitched together to create a the GEODYN-specific, trajectory-based tracking data type (called PCE (Precice-Clock-Error) ) and stored in a G2B file.\n",
    "\n",
    "Each `.rvg` file contains a **30-hour arc of ICESat2 trajectory data**.  These datasets are the output from a very precise run of GEODYN in which the orbit has been determined very well (*to a few centimeters accuracy*) using a **reduced dynamics technique** (*empirical accelerations and other parameters are adjusted to account for any mismodelled forces)*.\n",
    "\n",
    "The process that takes place in `pygeodyn` is as follows:\n",
    "  1. dump the data from each arc into a usable format\n",
    "  2. chop of the 3 hour padding on the ends to eliminate discontinuities from end effects\n",
    "  3. stitch together all the files\n",
    "  4. smooth over any existing discontinuities between arc gaps or maneuvers.\n",
    "  5. All data is placed in a single `TRAJ.txt` file which is then fed into a Fortran script (`pce_converer.f`) which converts the data into a `G2B` file to be ingested on `fort.40` of the GEODYN run.\n",
    "\n",
    "### PygeodynPreprocessing\n"
   ]
  },
  {
   "cell_type": "code",
   "execution_count": null,
   "id": "46281b0f",
   "metadata": {},
   "outputs": [],
   "source": [
    "%load_ext autoreload\n",
    "%autoreload 2\n",
    "\n",
    "import sys\n",
    "sys.path.insert(0,'/data/geodyn_proj/pygeodyn/utils_pygeodyn_develop/util_preprocessing/')\n",
    "from PYGEODYN_Preprocess import PygeodynPreprocessing\n",
    "\n",
    "path_to_prep_directory = '/data/data_geodyn/inputs/icesat2/pre_processing'\n",
    "path_to_binaryrvg     = '/data/data_geodyn/inputs/icesat2/pre_processing/traj_files_rvg'\n",
    "\n",
    "# arc1_files = ['orbit.1807001.2018.287']\n",
    "arc1_files = ['orbit.1807001.2018.312',\n",
    "            'orbit.1807001.2018.313',\n",
    "            'orbit.1807001.2018.314',\n",
    "            'orbit.1807001.2018.315',\n",
    "            'orbit.1807001.2018.316',\n",
    "            'orbit.1807001.2018.317',\n",
    "            'orbit.1807001.2018.318',\n",
    "            'orbit.1807001.2018.319',\n",
    "            'orbit.1807001.2018.320',\n",
    "            'orbit.1807001.2018.321',\n",
    "            'orbit.1807001.2018.322',\n",
    "            'orbit.1807001.2018.323',\n",
    "            'orbit.1807001.2018.324',\n",
    "            'orbit.1807001.2018.325',\n",
    "            'orbit.1807001.2018.326',\n",
    "            'orbit.1807001.2018.327',\n",
    "            'orbit.1807001.2018.328',\n",
    "             ]\n",
    "\n",
    "##### Uncomment the below call to overwrite the G2B data by re-running the pre-processing code\n",
    "# Obj = PygeodynPreprocessing(path_to_binaryrvg, path_to_prep_directory,  arc1_files)\n",
    "# Obj.run_preprocess_PCE()\n"
   ]
  },
  {
   "cell_type": "markdown",
   "id": "b6e5b085",
   "metadata": {},
   "source": [
    "## Step 1: Run GEODYN using Pygeodyn with the ICESat2 configuration\n",
    "\n",
    "As a reminder, PYGEODYN is called with the `PYGEODYN` class, but modifications to the ICESAT2 configuration are largely controlled through the `Satellite_ICESat2` class in the `PYGEODYN_Satellites.py` file.   Please refer to this file first for file structure setups and modifications to the Pygeodyn structure.\n",
    " \n",
    "### Step 1.1:  Run with MSIS2\n"
   ]
  },
  {
   "cell_type": "code",
   "execution_count": null,
   "id": "5f5471ce",
   "metadata": {},
   "outputs": [],
   "source": [
    "### Identify which arcs you want to run:\n",
    "arcs_files = [ \n",
    "            '2018.312',\n",
    "            '2018.313',\n",
    "            '2018.314',\n",
    "            '2018.315',\n",
    "            '2018.316',\n",
    "            '2018.317',\n",
    "            '2018.318',\n",
    "            '2018.319',\n",
    "            '2018.320',\n",
    "            '2018.321',\n",
    "            '2018.322',\n",
    "            '2018.323',\n",
    "            '2018.324',\n",
    "            '2018.325',\n",
    "            '2018.326',\n",
    "            '2018.327',\n",
    "            '2018.328',\n",
    "             ]\n",
    "\n",
    "#------ A dictionary containing the run parameters ------  \n",
    "run_params1 = {} \n",
    "run_params1['run_ID']           =  'Run_Arc_0'  \n",
    "run_params1['arc']              =  'test'\n",
    "run_params1['satellite']        =  'icesat2'  \n",
    "run_params1['den_model']        =  'msis2'  \n",
    "run_params1['empirical_accels'] =  False  \n",
    "run_params1['SpecialRun_name']  =  ''  \n",
    "run_params1['options_in']       =  {'DRHODZ_update':True}  \n",
    "run_params1['verbose']          =  True\n",
    "run_params1['action']           =  'run'\n"
   ]
  },
  {
   "cell_type": "code",
   "execution_count": null,
   "id": "cec95444",
   "metadata": {},
   "outputs": [],
   "source": [
    "%load_ext autoreload\n",
    "%autoreload 2\n",
    "\n",
    "sys.path.insert(0, '/data/geodyn_proj/pygeodyn/utils_pygeodyn_develop/')\n",
    "from PYGEODYN import Pygeodyn\n",
    "\n",
    "\n",
    "\n",
    "#### Run pyeodyn for the arcs in the above set.\n",
    "# arc_count = 1\n",
    "# for run_params1['arc'] in arcs_files:\n",
    "#     run_params1['run_ID'] = 'Run_Arc_'+str(arccount)\n",
    "#     print('Running Arc: ', run_params1['arc'])\n",
    "#     print('Runn ID: '    , run_params1['arc'])\n",
    "\n",
    "#     Obj_Geodyn = Pygeodyn(run_params1)\n",
    "#     Obj_Geodyn.RUN_GEODYN()\n",
    "    \n",
    "#     arc_count+=1\n",
    "#     Obj_Geodyn = 0  ## reset the object?\n",
    "\n",
    "\n"
   ]
  },
  {
   "cell_type": "markdown",
   "id": "450c52c4",
   "metadata": {},
   "source": [
    "### Step  1.2: Run with DTM87 for comparison\n"
   ]
  },
  {
   "cell_type": "code",
   "execution_count": null,
   "id": "6319b2ba",
   "metadata": {},
   "outputs": [],
   "source": [
    "%load_ext autoreload\n",
    "%autoreload 2\n",
    "\n",
    "sys.path.insert(0, '/data/geodyn_proj/pygeodyn/utils_pygeodyn_develop/')\n",
    "from PYGEODYN import Pygeodyn\n",
    "\n",
    "\n",
    "import copy\n",
    "run_params2 = copy.deepcopy(run_params1)\n",
    "\n",
    "run_params2['SpecialRun_name']   =  ''  \n",
    "run_params2['den_model']         =  'dtm87'  \n",
    "\n",
    "#### ------ Run pyeodyn for the arcs in the above set ------\n",
    "# arc_count = 1\n",
    "# for run_params2['arc'] in arcs_files:\n",
    "#     run_params2['run_ID'] = 'Run_Arc_'+str(arc_count)\n",
    "#     print('Running Arc: ', run_params2['arc'])\n",
    "#     print('Runn ID: '    , run_params2['arc'])\n",
    "\n",
    "#     Obj_Geodyn = Pygeodyn(run_params2)\n",
    "#     Obj_Geodyn.RUN_GEODYN()\n",
    "    \n",
    "#     arc_count+=1\n",
    "\n",
    "    \n",
    "\n"
   ]
  },
  {
   "cell_type": "markdown",
   "id": "278e0182",
   "metadata": {},
   "source": [
    "## Read GEODYN Output using PygeodynRead functionality\n",
    "\n",
    "### Get MSIS2 Data"
   ]
  },
  {
   "cell_type": "code",
   "execution_count": null,
   "id": "3124889c",
   "metadata": {},
   "outputs": [],
   "source": [
    "%load_ext autoreload\n",
    "%autoreload 2\n",
    "\n",
    "import sys  \n",
    "sys.path.insert(0, '/data/geodyn_proj/pygeodyn/utils_pygeodyn_develop/')\n",
    "from PYGEODYN import Pygeodyn\n",
    "\n",
    "#------ A dictionary containing the run parameters ------  \n",
    "run_params1 = {} \n",
    "run_params1['run_ID']            =  'Run_Arc_1'  \n",
    "run_params1['arc']               =  [\n",
    "                                     '2018.312',\n",
    "                                     '2018.313',\n",
    "                                     '2018.314',\n",
    "                                     '2018.315',\n",
    "                                     '2018.316',\n",
    "                                     '2018.317'\n",
    "                                    ] \n",
    "run_params1['satellite']         =  'icesat2'  \n",
    "run_params1['den_model']         =  'msis2'  \n",
    "run_params1['empirical_accels']  =  False  \n",
    "run_params1['SpecialRun_name']   =  '_developer_test'  \n",
    "run_params1['options_in']        =  {'DRHODZ_update':True}  \n",
    "run_params1['verbose']           =  False\n",
    "run_params1['action']            =  'read'\n",
    "\n",
    "Obj_Geodyn1 = Pygeodyn(run_params1)\n",
    "# Obj_Geodyn1.getData()\n"
   ]
  },
  {
   "cell_type": "markdown",
   "id": "449a039a",
   "metadata": {},
   "source": [
    "### Get DTM87 Data"
   ]
  },
  {
   "cell_type": "code",
   "execution_count": null,
   "id": "cff1cb04",
   "metadata": {},
   "outputs": [],
   "source": [
    "import copy\n",
    "run_params2 = copy.deepcopy(run_params1)\n",
    "\n",
    "run_params2['SpecialRun_name']   =  ''  \n",
    "run_params2['den_model']         =  'dtm87'  \n",
    "\n",
    "Obj_Geodyn2 = Pygeodyn(run_params2)\n",
    "# Obj_Geodyn2.getData()\n"
   ]
  },
  {
   "cell_type": "markdown",
   "id": "7aaee65d",
   "metadata": {},
   "source": [
    "## Analyze output\n",
    "Identify some plot parameters"
   ]
  },
  {
   "cell_type": "code",
   "execution_count": null,
   "id": "bc62e6c1",
   "metadata": {},
   "outputs": [],
   "source": [
    "import plotly.graph_objects as go\n",
    "from plotly.offline import plot, iplot\n",
    "from plotly.subplots import make_subplots\n",
    "import plotly.express as px\n",
    "\n",
    "\n",
    "config = dict({\n",
    "                'displayModeBar': True,\n",
    "                'responsive': False,\n",
    "#                 'staticPlot': True,\n",
    "                'displaylogo': False,\n",
    "                'showTips': False,\n",
    "                })"
   ]
  },
  {
   "cell_type": "code",
   "execution_count": null,
   "id": "5d127601",
   "metadata": {},
   "outputs": [],
   "source": [
    "%load_ext autoreload\n",
    "%autoreload 2\n",
    "from PYGEODYNAnalysis_icesat2PCEtrajectory import plot_residuals_observed\n",
    "\n",
    "fig = make_subplots(rows=3, cols=1, \n",
    "            subplot_titles=(['PCE X', 'PCE Y', 'PCE Z']),\n",
    "            vertical_spacing = 0.1,\n",
    "                       )\n",
    "\n",
    "fig = plot_residuals_observed(fig, Obj_Geodyn1, 0)\n",
    "fig = plot_residuals_observed(fig, Obj_Geodyn2, 1)\n",
    "\n",
    "# fig.show(config=config)\n"
   ]
  },
  {
   "cell_type": "code",
   "execution_count": null,
   "id": "1214835e",
   "metadata": {},
   "outputs": [],
   "source": [
    "%load_ext autoreload\n",
    "%autoreload 2\n",
    "from PYGEODYNAnalysis_icesat2PCEtrajectory import plot_cd_and_percdiff_from_apriori\n",
    "\n",
    "\n",
    "fig = make_subplots(\n",
    "    rows=2, cols=1,\n",
    "    subplot_titles=([\"Timeseries of Cd\", \"Percent difference from a priori (Cd=2.2)\"]),\n",
    "    vertical_spacing = 0.08,\n",
    "    )\n",
    "fig = plot_cd_and_percdiff_from_apriori(fig, Obj_Geodyn1,  0)\n",
    "fig = plot_cd_and_percdiff_from_apriori(fig, Obj_Geodyn2,  1)\n",
    "\n",
    "# fig.show(config=config)"
   ]
  },
  {
   "cell_type": "code",
   "execution_count": null,
   "id": "40382c65",
   "metadata": {},
   "outputs": [],
   "source": [
    "%load_ext autoreload\n",
    "%autoreload 2\n",
    "\n",
    "from PYGEODYNAnalysis_icesat2PCEtrajectory import plot_ScaleDensity_with_CdScaleFactor\n",
    "\n",
    "fig = make_subplots(rows=2, cols=1,\n",
    "                subplot_titles=([\"Regular (blue) and Scaled (green) Density\", \"Scaling Factor from Adjusted Cd\"]),\n",
    "                vertical_spacing = 0.08,\n",
    "\n",
    "                specs=[\n",
    "                [{\"secondary_y\": False}],\n",
    "                [{\"secondary_y\": True}], ])\n",
    "\n",
    "fig = plot_ScaleDensity_with_CdScaleFactor(fig, Obj_Geodyn1, 0, 200)\n",
    "# fig.show(config=config)\n"
   ]
  },
  {
   "cell_type": "code",
   "execution_count": null,
   "id": "8395c6ad",
   "metadata": {},
   "outputs": [],
   "source": []
  },
  {
   "cell_type": "code",
   "execution_count": null,
   "id": "fafc0212",
   "metadata": {},
   "outputs": [],
   "source": []
  },
  {
   "cell_type": "code",
   "execution_count": null,
   "id": "f0d0a406",
   "metadata": {},
   "outputs": [],
   "source": []
  },
  {
   "cell_type": "code",
   "execution_count": null,
   "id": "c5e1d4bd",
   "metadata": {},
   "outputs": [],
   "source": []
  },
  {
   "cell_type": "code",
   "execution_count": null,
   "id": "ae720dae",
   "metadata": {},
   "outputs": [],
   "source": []
  },
  {
   "cell_type": "code",
   "execution_count": null,
   "id": "c5513a7f",
   "metadata": {},
   "outputs": [],
   "source": []
  }
 ],
 "metadata": {
  "kernelspec": {
   "display_name": "Python 3",
   "language": "python",
   "name": "python3"
  },
  "language_info": {
   "codemirror_mode": {
    "name": "ipython",
    "version": 3
   },
   "file_extension": ".py",
   "mimetype": "text/x-python",
   "name": "python",
   "nbconvert_exporter": "python",
   "pygments_lexer": "ipython3",
   "version": "3.8.8"
  },
  "toc": {
   "base_numbering": 1,
   "nav_menu": {},
   "number_sections": true,
   "sideBar": true,
   "skip_h1_title": false,
   "title_cell": "Table of Contents",
   "title_sidebar": "Contents",
   "toc_cell": false,
   "toc_position": {},
   "toc_section_display": true,
   "toc_window_display": false
  },
  "varInspector": {
   "cols": {
    "lenName": 16,
    "lenType": 16,
    "lenVar": 40
   },
   "kernels_config": {
    "python": {
     "delete_cmd_postfix": "",
     "delete_cmd_prefix": "del ",
     "library": "var_list.py",
     "varRefreshCmd": "print(var_dic_list())"
    },
    "r": {
     "delete_cmd_postfix": ") ",
     "delete_cmd_prefix": "rm(",
     "library": "var_list.r",
     "varRefreshCmd": "cat(var_dic_list()) "
    }
   },
   "types_to_exclude": [
    "module",
    "function",
    "builtin_function_or_method",
    "instance",
    "_Feature"
   ],
   "window_display": false
  }
 },
 "nbformat": 4,
 "nbformat_minor": 5
}
