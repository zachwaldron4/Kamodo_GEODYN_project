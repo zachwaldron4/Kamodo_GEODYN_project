{
 "cells": [
  {
   "cell_type": "code",
   "execution_count": 1,
   "id": "799c3e74",
   "metadata": {
    "ExecuteTime": {
     "end_time": "2021-05-20T22:14:26.580762Z",
     "start_time": "2021-05-20T22:14:26.577461Z"
    }
   },
   "outputs": [],
   "source": [
    "import sys"
   ]
  },
  {
   "cell_type": "code",
   "execution_count": 2,
   "id": "0bd81a67",
   "metadata": {
    "ExecuteTime": {
     "end_time": "2021-05-20T22:14:26.590855Z",
     "start_time": "2021-05-20T22:14:26.585773Z"
    },
    "scrolled": false
   },
   "outputs": [],
   "source": [
    "### Identify which arcs you want to run:\n",
    "arcs_files = [ \n",
    "#             '2018.312',\n",
    "#             '2018.313', # 1\n",
    "            '2018.314', # 2\n",
    "            '2018.315', # 3\n",
    "            '2018.316', # 4\n",
    "#             '2018.317', # 5\n",
    "#             '2018.318', # 6\n",
    "             ]\n",
    "\n",
    "#------ A dictionary containing the run parameters ------  \n",
    "run_params1 = {} \n",
    "run_params1['arc']              =   arcs_files\n",
    "run_params1['satellite']        =  'icesat2'  \n",
    "run_params1['den_model']        =  'msis2'  \n",
    "run_params1['SpecialRun_name']  =  '_developer_files'  \n",
    "run_params1['verbose']          =  False\n",
    "run_params1['action']           =  'run'\n"
   ]
  },
  {
   "cell_type": "code",
   "execution_count": 3,
   "id": "6eec66f5",
   "metadata": {
    "ExecuteTime": {
     "end_time": "2021-05-20T22:55:22.928998Z",
     "start_time": "2021-05-20T22:14:26.595247Z"
    }
   },
   "outputs": [
    {
     "name": "stdout",
     "output_type": "stream",
     "text": [
      "=================================================================\n",
      "   Initializing PYGEODYN to ... \n",
      "                            ... RUN GEODYN\n",
      "=================================================================\n",
      "        \n",
      "Run # 1     Current Time =      22:14:28\n",
      "\n",
      "Run # 1     Begin cleaning iisset:    /data/data_geodyn/inputs/icesat2/setups/iisset.2018.314.bz2\n",
      "/data/data_geodyn/tmp/msis2_acceloff_developer_files/icesat2_2018314_54hr.msis2\n",
      "/data/data_geodyn/tmp/msis2_acceloff_developer_files/icesat2_2018314_54hr.msis2/cleaned_setup_2018314\n",
      "     Changing starting vector:\n",
      "     Orig:\n",
      "     ELEMS11             0.45562967952786D+060.54015913459067D+070.41966604615841D+07\n",
      "\n",
      "ELEMS2              0.72814063614096D+030.46290510912399D+04-.60174337346401D+04\n",
      "\n",
      "     PCE Update:\n",
      "     ELEMS11             486292.1266040919   5404172.517502099   4189916.833230207     \n",
      "\n",
      "     ELEMS2              735.8787844580288   4619.475137592557   -6023.848918841564    \n",
      "\n",
      "Run # 1     Cleaned iisset in /tmp:  /data/data_geodyn/tmp/msis2_acceloff_developer_files/icesat2_2018314_54hr.msis2/cleaned_setup_2018314\n",
      "Run # 1     Density Model:      msis2\n",
      "Run # 1     GEODYN Version:     pygeodyn_MODS\n",
      "Run # 1     Estimate GenAccel:  acceloff\n",
      "Run # 1     ARC run:            icesat2_2018314_54hr.msis2\n",
      "Run # 1     Output directory:   /data/data_geodyn/results/icesat2/msis2/msis2_acceloff_developer_files\n",
      "Run # 1     Call Options:       {'DRHODZ_update': True}\n",
      "Run # 1     EXAT File:     /data/data_geodyn/inputs/icesat2/external_attitude/EXAT01.2018.314.gz\n",
      "\n",
      "Run # 1          Running IIS\n",
      "Run # 1          No errors in IIS\n",
      "Run # 1 ---------End of IIS\n",
      "\n",
      "Run # 1          Running IIE\n",
      "Run # 1          Current Time = 22:15:57\n",
      "Run # 1          No errors in IIE\n",
      "Run # 1 ---------End of IIE\n",
      "Run # 1          Time of IIE:  972.3493356704712 secs ( 16.20582226117452  mins)\n",
      "Run # 1          Current Time = 22:32:09\n",
      "File is not in Run # 1 : fort.10 -- ascii_kep\n",
      "File is not in Run # 1 : fort.30 -- orbfil\n",
      "File is not in Run # 1 : fort.98 -- msis_in_file\n",
      "File is not in Run # 1 : fort.101 -- msis_out_file\n",
      "File is not in Run # 1 : fort.103 -- msis_SWI_file\n",
      "Run # 1                Finished renaming files\n",
      "Run # 1                Finished copying files to outputdir\n",
      "        BACK TWO LEVELS:  /data/data_geodyn/tmp\n",
      "        Deleting:  msis2_acceloff_developer_files\n",
      "        \n",
      "Run # 2     Current Time =      22:32:33\n",
      "\n",
      "Run # 2     Begin cleaning iisset:    /data/data_geodyn/inputs/icesat2/setups/iisset.2018.315.bz2\n",
      "/data/data_geodyn/tmp/msis2_acceloff_developer_files/icesat2_2018315_54hr.msis2\n",
      "/data/data_geodyn/tmp/msis2_acceloff_developer_files/icesat2_2018315_54hr.msis2/cleaned_setup_2018315\n",
      "     Changing starting vector:\n",
      "     Orig:\n",
      "     ELEMS11             0.57033199469418D+060.33786505516900D+07-.59527120242649D+07\n",
      "\n",
      "ELEMS2              -.56984600400717D+03-.65736832751604D+04-.37880501859167D+04\n",
      "\n",
      "     PCE Update:\n",
      "     ELEMS11             573005.2262541084   3369845.3344891467  -5957451.248307259    \n",
      "\n",
      "     ELEMS2              -604.6034563238197  -6575.306266079986  -3779.8208699838224   \n",
      "\n",
      "Run # 2     Cleaned iisset in /tmp:  /data/data_geodyn/tmp/msis2_acceloff_developer_files/icesat2_2018315_54hr.msis2/cleaned_setup_2018315\n",
      "Run # 2     Density Model:      msis2\n",
      "Run # 2     GEODYN Version:     pygeodyn_MODS\n",
      "Run # 2     Estimate GenAccel:  acceloff\n",
      "Run # 2     ARC run:            icesat2_2018315_54hr.msis2\n",
      "Run # 2     Output directory:   /data/data_geodyn/results/icesat2/msis2/msis2_acceloff_developer_files\n",
      "Run # 2     Call Options:       {'DRHODZ_update': True}\n",
      "Run # 2     EXAT File:     /data/data_geodyn/inputs/icesat2/external_attitude/EXAT01.2018.315.gz\n",
      "\n",
      "Run # 2          Running IIS\n",
      "Run # 2          No errors in IIS\n",
      "Run # 2 ---------End of IIS\n",
      "\n",
      "Run # 2          Running IIE\n",
      "Run # 2          Current Time = 22:34:12\n",
      "Run # 2          No errors in IIE\n",
      "Run # 2 ---------End of IIE\n",
      "Run # 2          Time of IIE:  563.4722409248352 secs ( 9.391204015413921  mins)\n",
      "Run # 2          Current Time = 22:43:36\n",
      "File is not in Run # 2 : fort.10 -- ascii_kep\n",
      "File is not in Run # 2 : fort.30 -- orbfil\n",
      "File is not in Run # 2 : fort.98 -- msis_in_file\n",
      "File is not in Run # 2 : fort.101 -- msis_out_file\n",
      "File is not in Run # 2 : fort.103 -- msis_SWI_file\n",
      "Run # 2                Finished renaming files\n",
      "Run # 2                Finished copying files to outputdir\n",
      "        BACK TWO LEVELS:  /data/data_geodyn/tmp\n",
      "        Deleting:  msis2_acceloff_developer_files\n",
      "        \n",
      "Run # 3     Current Time =      22:44:00\n",
      "\n",
      "Run # 3     Begin cleaning iisset:    /data/data_geodyn/inputs/icesat2/setups/iisset.2018.316.bz2\n",
      "/data/data_geodyn/tmp/msis2_acceloff_developer_files/icesat2_2018316_54hr.msis2\n",
      "/data/data_geodyn/tmp/msis2_acceloff_developer_files/icesat2_2018316_54hr.msis2/cleaned_setup_2018316\n",
      "     Changing starting vector:\n",
      "     Orig:\n",
      "     ELEMS11             -.55630538863030D+06-.63354250499907D+07-.25855448275052D+07\n",
      "\n",
      "ELEMS2              -.53581802760435D+03-.28241678134687D+040.70552200497221D+04\n",
      "\n",
      "     PCE Update:\n",
      "     ELEMS11             -587748.8362168564  -6335818.233375944  -2577604.636793246    \n",
      "\n",
      "     ELEMS2              -534.0880918217651  -2814.2986504704345 7059.3185156842255    \n",
      "\n",
      "Run # 3     Cleaned iisset in /tmp:  /data/data_geodyn/tmp/msis2_acceloff_developer_files/icesat2_2018316_54hr.msis2/cleaned_setup_2018316\n",
      "Run # 3     Density Model:      msis2\n",
      "Run # 3     GEODYN Version:     pygeodyn_MODS\n",
      "Run # 3     Estimate GenAccel:  acceloff\n",
      "Run # 3     ARC run:            icesat2_2018316_54hr.msis2\n",
      "Run # 3     Output directory:   /data/data_geodyn/results/icesat2/msis2/msis2_acceloff_developer_files\n",
      "Run # 3     Call Options:       {'DRHODZ_update': True}\n",
      "Run # 3     EXAT File:     /data/data_geodyn/inputs/icesat2/external_attitude/EXAT01.2018.316.gz\n",
      "\n",
      "Run # 3          Running IIS\n",
      "Run # 3          No errors in IIS\n",
      "Run # 3 ---------End of IIS\n",
      "\n",
      "Run # 3          Running IIE\n",
      "Run # 3          Current Time = 22:45:37\n",
      "Run # 3          No errors in IIE\n",
      "Run # 3 ---------End of IIE\n",
      "Run # 3          Time of IIE:  561.1268694400787 secs ( 9.35211449066798  mins)\n",
      "Run # 3          Current Time = 22:54:58\n",
      "File is not in Run # 3 : fort.10 -- ascii_kep\n",
      "File is not in Run # 3 : fort.30 -- orbfil\n",
      "File is not in Run # 3 : fort.98 -- msis_in_file\n",
      "File is not in Run # 3 : fort.101 -- msis_out_file\n",
      "File is not in Run # 3 : fort.103 -- msis_SWI_file\n",
      "Run # 3                Finished renaming files\n",
      "Run # 3                Finished copying files to outputdir\n",
      "        BACK TWO LEVELS:  /data/data_geodyn/tmp\n",
      "        Deleting:  msis2_acceloff_developer_files\n"
     ]
    }
   ],
   "source": [
    "%load_ext autoreload\n",
    "%autoreload 2\n",
    "\n",
    "sys.path.insert(0, '/data/geodyn_proj/pygeodyn/utils_pygeodyn_develop/')\n",
    "from PYGEODYN import Pygeodyn\n",
    "\n",
    "\n",
    "### Run pyeodyn for the arcs in the above set.\n",
    "Obj_Geodyn = Pygeodyn(run_params1)\n",
    "Obj_Geodyn.RUN_GEODYN()"
   ]
  }
 ],
 "metadata": {
  "kernelspec": {
   "display_name": "Python 3",
   "language": "python",
   "name": "python3"
  },
  "language_info": {
   "codemirror_mode": {
    "name": "ipython",
    "version": 3
   },
   "file_extension": ".py",
   "mimetype": "text/x-python",
   "name": "python",
   "nbconvert_exporter": "python",
   "pygments_lexer": "ipython3",
   "version": "3.8.8"
  },
  "toc": {
   "base_numbering": 1,
   "nav_menu": {
    "height": "46px",
    "width": "169px"
   },
   "number_sections": true,
   "sideBar": true,
   "skip_h1_title": false,
   "title_cell": "Table of Contents",
   "title_sidebar": "Contents",
   "toc_cell": false,
   "toc_position": {},
   "toc_section_display": true,
   "toc_window_display": false
  },
  "varInspector": {
   "cols": {
    "lenName": 16,
    "lenType": 16,
    "lenVar": 40
   },
   "kernels_config": {
    "python": {
     "delete_cmd_postfix": "",
     "delete_cmd_prefix": "del ",
     "library": "var_list.py",
     "varRefreshCmd": "print(var_dic_list())"
    },
    "r": {
     "delete_cmd_postfix": ") ",
     "delete_cmd_prefix": "rm(",
     "library": "var_list.r",
     "varRefreshCmd": "cat(var_dic_list()) "
    }
   },
   "types_to_exclude": [
    "module",
    "function",
    "builtin_function_or_method",
    "instance",
    "_Feature"
   ],
   "window_display": false
  }
 },
 "nbformat": 4,
 "nbformat_minor": 5
}
