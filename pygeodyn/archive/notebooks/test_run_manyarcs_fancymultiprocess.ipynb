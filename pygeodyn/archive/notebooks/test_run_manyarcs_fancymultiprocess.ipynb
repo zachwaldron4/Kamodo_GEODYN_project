{
 "cells": [
  {
   "cell_type": "code",
   "execution_count": 1,
   "id": "continuing-messaging",
   "metadata": {},
   "outputs": [],
   "source": [
    "%load_ext autoreload\n",
    "%autoreload 2\n",
    "\n",
    "import copy\n",
    "import time\n",
    "from pygeodyn_ReadOutput import pyGeodyn_Readers\n",
    "\n",
    "# 030914_2wk\n",
    "# 030928_2wk\n",
    "# 031012_2wk\n",
    "# 031026_2wk\n",
    "# 031109_2wk\n",
    "# 031123_2wk\n",
    "# 031207_2wk\n",
    "# 031221_2wk"
   ]
  },
  {
   "cell_type": "code",
   "execution_count": 2,
   "id": "packed-chambers",
   "metadata": {},
   "outputs": [
    {
     "name": "stdout",
     "output_type": "stream",
     "text": [
      "The autoreload extension is already loaded. To reload it, use:\n",
      "  %reload_ext autoreload\n"
     ]
    }
   ],
   "source": [
    "%load_ext autoreload\n",
    "%autoreload 2\n",
    "\n",
    "import sys  \n",
    "sys.path.insert(0, '/data/geodyn_proj/pygeodyn/')\n",
    "from pygeodyn_ReadOutput import pyGeodyn_Readers\n",
    "\n",
    "run_params = {}\n",
    "run_params['run_ID']           = 'RUN'\n",
    "run_params['satellite']        = 'starlette'\n",
    "run_params['den_model']        = None\n",
    "run_params['empirical_accels'] = False\n",
    "run_params['SpecialRun_name']  = None\n",
    "run_params['options_in']       = {'DRHODZ_update':True} \n",
    "run_params['verbose']          = False\n",
    "\n",
    "run_params['arc'] = [ '030914_2wk',\n",
    "                      '030928_2wk',\n",
    "                      '031012_2wk',\n",
    "                      '031026_2wk',\n",
    "                      '031109_2wk',\n",
    "                      '031123_2wk',\n",
    "                      '031207_2wk' \n",
    "                     ]\n",
    "\n"
   ]
  },
  {
   "cell_type": "code",
   "execution_count": 3,
   "id": "exposed-landing",
   "metadata": {},
   "outputs": [
    {
     "name": "stdout",
     "output_type": "stream",
     "text": [
      "Calling pygeodyn with multiple arcs...\n"
     ]
    }
   ],
   "source": [
    "#---MSIS2-DRHODZ-ON---------------------------------\n",
    "params_msis2_DrhodzOn  = copy.deepcopy(run_params) \n",
    "params_msis2_DrhodzOn['den_model'] = 'msis2'\n",
    "params_msis2_DrhodzOn['SpecialRun_name']  = '' \n",
    "params_msis2_DrhodzOn['options_in']       = {'DRHODZ_update':True} \n",
    "Obj_msis2_DrhodzOn = pyGeodyn_Readers( params_msis2_DrhodzOn )\n"
   ]
  },
  {
   "cell_type": "code",
   "execution_count": 4,
   "id": "occupied-principal",
   "metadata": {},
   "outputs": [
    {
     "ename": "TypeError",
     "evalue": "getData_Arc() takes 1 positional argument but 11 were given",
     "output_type": "error",
     "traceback": [
      "\u001b[0;31m---------------------------------------------------------------------------\u001b[0m",
      "\u001b[0;31mRemoteTraceback\u001b[0m                           Traceback (most recent call last)",
      "\u001b[0;31mRemoteTraceback\u001b[0m: \n\"\"\"\nTraceback (most recent call last):\n  File \"/data/miniconda3/envs/pygeodyn/lib/python3.8/multiprocessing/pool.py\", line 125, in worker\n    result = (True, func(*args, **kwds))\n  File \"/data/miniconda3/envs/pygeodyn/lib/python3.8/multiprocessing/pool.py\", line 51, in starmapstar\n    return list(itertools.starmap(args[0], args[1]))\nTypeError: getData_Arc() takes 1 positional argument but 11 were given\n\"\"\"",
      "\nThe above exception was the direct cause of the following exception:\n",
      "\u001b[0;31mTypeError\u001b[0m                                 Traceback (most recent call last)",
      "\u001b[0;32m<ipython-input-4-8592b2cae78f>\u001b[0m in \u001b[0;36m<module>\u001b[0;34m\u001b[0m\n\u001b[0;32m----> 1\u001b[0;31m \u001b[0mObj_msis2_DrhodzOn\u001b[0m\u001b[0;34m.\u001b[0m\u001b[0mgetData_ParallelizeArcs\u001b[0m\u001b[0;34m(\u001b[0m\u001b[0;34m)\u001b[0m\u001b[0;34m\u001b[0m\u001b[0;34m\u001b[0m\u001b[0m\n\u001b[0m",
      "\u001b[0;32m/data/geodyn_proj/pygeodyn/pygeodyn_ReadOutput.py\u001b[0m in \u001b[0;36mgetData_ParallelizeArcs\u001b[0;34m(self)\u001b[0m\n\u001b[1;32m   1604\u001b[0m \u001b[0;34m\u001b[0m\u001b[0m\n\u001b[1;32m   1605\u001b[0m         \u001b[0mpool\u001b[0m \u001b[0;34m=\u001b[0m \u001b[0mmultiprocessing\u001b[0m\u001b[0;34m.\u001b[0m\u001b[0mPool\u001b[0m\u001b[0;34m(\u001b[0m\u001b[0mprocesses\u001b[0m\u001b[0;34m=\u001b[0m\u001b[0;36m4\u001b[0m\u001b[0;34m)\u001b[0m\u001b[0;34m\u001b[0m\u001b[0;34m\u001b[0m\u001b[0m\n\u001b[0;32m-> 1606\u001b[0;31m         \u001b[0mpool\u001b[0m\u001b[0;34m.\u001b[0m\u001b[0mstarmap\u001b[0m\u001b[0;34m(\u001b[0m\u001b[0mself\u001b[0m\u001b[0;34m.\u001b[0m\u001b[0mgetData_Arc\u001b[0m\u001b[0;34m,\u001b[0m \u001b[0mself\u001b[0m\u001b[0;34m.\u001b[0m\u001b[0marc\u001b[0m\u001b[0;34m)\u001b[0m\u001b[0;34m\u001b[0m\u001b[0;34m\u001b[0m\u001b[0m\n\u001b[0m\u001b[1;32m   1607\u001b[0m \u001b[0;34m\u001b[0m\u001b[0m\n\u001b[1;32m   1608\u001b[0m \u001b[0;34m\u001b[0m\u001b[0m\n",
      "\u001b[0;32m/data/miniconda3/envs/pygeodyn/lib/python3.8/multiprocessing/pool.py\u001b[0m in \u001b[0;36mstarmap\u001b[0;34m(self, func, iterable, chunksize)\u001b[0m\n\u001b[1;32m    370\u001b[0m         \u001b[0;31m`\u001b[0m\u001b[0mfunc\u001b[0m\u001b[0;31m`\u001b[0m \u001b[0;32mand\u001b[0m \u001b[0;34m(\u001b[0m\u001b[0ma\u001b[0m\u001b[0;34m,\u001b[0m \u001b[0mb\u001b[0m\u001b[0;34m)\u001b[0m \u001b[0mbecomes\u001b[0m \u001b[0mfunc\u001b[0m\u001b[0;34m(\u001b[0m\u001b[0ma\u001b[0m\u001b[0;34m,\u001b[0m \u001b[0mb\u001b[0m\u001b[0;34m)\u001b[0m\u001b[0;34m.\u001b[0m\u001b[0;34m\u001b[0m\u001b[0;34m\u001b[0m\u001b[0m\n\u001b[1;32m    371\u001b[0m         '''\n\u001b[0;32m--> 372\u001b[0;31m         \u001b[0;32mreturn\u001b[0m \u001b[0mself\u001b[0m\u001b[0;34m.\u001b[0m\u001b[0m_map_async\u001b[0m\u001b[0;34m(\u001b[0m\u001b[0mfunc\u001b[0m\u001b[0;34m,\u001b[0m \u001b[0miterable\u001b[0m\u001b[0;34m,\u001b[0m \u001b[0mstarmapstar\u001b[0m\u001b[0;34m,\u001b[0m \u001b[0mchunksize\u001b[0m\u001b[0;34m)\u001b[0m\u001b[0;34m.\u001b[0m\u001b[0mget\u001b[0m\u001b[0;34m(\u001b[0m\u001b[0;34m)\u001b[0m\u001b[0;34m\u001b[0m\u001b[0;34m\u001b[0m\u001b[0m\n\u001b[0m\u001b[1;32m    373\u001b[0m \u001b[0;34m\u001b[0m\u001b[0m\n\u001b[1;32m    374\u001b[0m     def starmap_async(self, func, iterable, chunksize=None, callback=None,\n",
      "\u001b[0;32m/data/miniconda3/envs/pygeodyn/lib/python3.8/multiprocessing/pool.py\u001b[0m in \u001b[0;36mget\u001b[0;34m(self, timeout)\u001b[0m\n\u001b[1;32m    769\u001b[0m             \u001b[0;32mreturn\u001b[0m \u001b[0mself\u001b[0m\u001b[0;34m.\u001b[0m\u001b[0m_value\u001b[0m\u001b[0;34m\u001b[0m\u001b[0;34m\u001b[0m\u001b[0m\n\u001b[1;32m    770\u001b[0m         \u001b[0;32melse\u001b[0m\u001b[0;34m:\u001b[0m\u001b[0;34m\u001b[0m\u001b[0;34m\u001b[0m\u001b[0m\n\u001b[0;32m--> 771\u001b[0;31m             \u001b[0;32mraise\u001b[0m \u001b[0mself\u001b[0m\u001b[0;34m.\u001b[0m\u001b[0m_value\u001b[0m\u001b[0;34m\u001b[0m\u001b[0;34m\u001b[0m\u001b[0m\n\u001b[0m\u001b[1;32m    772\u001b[0m \u001b[0;34m\u001b[0m\u001b[0m\n\u001b[1;32m    773\u001b[0m     \u001b[0;32mdef\u001b[0m \u001b[0m_set\u001b[0m\u001b[0;34m(\u001b[0m\u001b[0mself\u001b[0m\u001b[0;34m,\u001b[0m \u001b[0mi\u001b[0m\u001b[0;34m,\u001b[0m \u001b[0mobj\u001b[0m\u001b[0;34m)\u001b[0m\u001b[0;34m:\u001b[0m\u001b[0;34m\u001b[0m\u001b[0;34m\u001b[0m\u001b[0m\n",
      "\u001b[0;31mTypeError\u001b[0m: getData_Arc() takes 1 positional argument but 11 were given"
     ]
    }
   ],
   "source": [
    "Obj_msis2_DrhodzOn.getData_ParallelizeArcs()"
   ]
  },
  {
   "cell_type": "markdown",
   "id": "tracked-azerbaijan",
   "metadata": {},
   "source": [
    "## Without DrhoDz Update:\n"
   ]
  },
  {
   "cell_type": "code",
   "execution_count": null,
   "id": "simple-operator",
   "metadata": {},
   "outputs": [],
   "source": [
    "# #### CHANGEABLE INPUTS\n",
    "\n",
    "# base_params = {}\n",
    "# base_params['run_ID']           =  None\n",
    "# base_params['arc']              = None \n",
    "\n",
    "# base_params['satellite']        = 'starlette'\n",
    "# base_params['den_model']        = 'msis86'\n",
    "# base_params['empirical_accels'] =  False\n",
    "# base_params['SpecialRun_name']  =  '' #'_drhodzOrig'\n",
    "# base_params['options_in']       = {'DRHODZ_update':True} \n",
    "# base_params['verbose']          =  False\n",
    "\n",
    "\n",
    "# params_arc1  = copy.deepcopy(base_params) \n",
    "# params_arc2  = copy.deepcopy(base_params) \n",
    "# params_arc3  = copy.deepcopy(base_params) \n",
    "# params_arc4  = copy.deepcopy(base_params) \n",
    "# params_arc5  = copy.deepcopy(base_params) \n",
    "# params_arc6  = copy.deepcopy(base_params) \n",
    "# params_arc7  = copy.deepcopy(base_params) \n",
    "# params_arc8  = copy.deepcopy(base_params) \n",
    "\n",
    "\n",
    "# params_arc1['arc']      = '030914_2wk' \n",
    "# params_arc1['run_ID']   = 'RUN-Arc1'\n",
    "\n",
    "# params_arc2['arc']      = '030928_2wk' \n",
    "# params_arc2['run_ID']   = 'RUN-Arc2'\n",
    "\n",
    "# params_arc3['arc']      = '031012_2wk' \n",
    "# params_arc3['run_ID']   = 'RUN-Arc3'\n",
    "\n",
    "# params_arc4['arc']      = '031026_2wk' \n",
    "# params_arc4['run_ID']   = 'RUN-Arc4'\n",
    "\n",
    "# params_arc5['arc']      = '031109_2wk' \n",
    "# params_arc5['run_ID']   = 'RUN-Arc5'\n",
    "\n",
    "# params_arc6['arc']      = '031123_2wk' \n",
    "# params_arc6['run_ID']   = 'RUN-Arc6'\n",
    "\n",
    "# params_arc7['arc']      = '031207_2wk' \n",
    "# params_arc7['run_ID']   = 'RUN-Arc7'\n",
    "\n",
    "# params_arc8['arc']      = '031221_2wk' \n",
    "# params_arc8['run_ID']   = 'RUN-Arc8'\n"
   ]
  },
  {
   "cell_type": "code",
   "execution_count": null,
   "id": "least-baking",
   "metadata": {},
   "outputs": [],
   "source": [
    "# ####Initialize the objects:\n",
    "\n",
    "# run_geodyn_arc1 = pygeodyn_CONTROL(params_arc1)\n",
    "# run_geodyn_arc2 = pygeodyn_CONTROL(params_arc2)\n",
    "# run_geodyn_arc3 = pygeodyn_CONTROL(params_arc3)\n",
    "# run_geodyn_arc4 = pygeodyn_CONTROL(params_arc4)\n",
    "# run_geodyn_arc5 = pygeodyn_CONTROL(params_arc5)\n",
    "# run_geodyn_arc6 = pygeodyn_CONTROL(params_arc6)\n",
    "# run_geodyn_arc7 = pygeodyn_CONTROL(params_arc7)\n",
    "# run_geodyn_arc8 = pygeodyn_CONTROL(params_arc8)\n",
    "\n",
    "\n",
    "# ####  Run GEODYN for each run object\n",
    "# start = time.time()\n",
    "\n",
    "# # run_geodyn_arc1.RUN_GEODYN()\n",
    "# run_geodyn_arc2.RUN_GEODYN()\n",
    "# # run_geodyn_arc3.RUN_GEODYN()\n",
    "# # run_geodyn_arc4.RUN_GEODYN()\n",
    "# # run_geodyn_arc5.RUN_GEODYN()\n",
    "# # run_geodyn_arc6.RUN_GEODYN()\n",
    "# # run_geodyn_arc7.RUN_GEODYN()\n",
    "# # run_geodyn_arc8.RUN_GEODYN()\n",
    "\n",
    "# elapsed = time.time() - start\n",
    "# print(' ')\n",
    "# print('Total time to run all arcs',' : ',elapsed,'secs | (',str(float(elapsed)/60),' mins)')\n",
    "# print(           '(',     str(float(elapsed)/60/60),' hours)')\n"
   ]
  },
  {
   "cell_type": "code",
   "execution_count": null,
   "id": "coated-positive",
   "metadata": {},
   "outputs": [],
   "source": []
  },
  {
   "cell_type": "code",
   "execution_count": null,
   "id": "parallel-wireless",
   "metadata": {},
   "outputs": [],
   "source": []
  },
  {
   "cell_type": "code",
   "execution_count": null,
   "id": "affected-antigua",
   "metadata": {},
   "outputs": [],
   "source": []
  },
  {
   "cell_type": "code",
   "execution_count": null,
   "id": "sealed-chemical",
   "metadata": {},
   "outputs": [],
   "source": []
  },
  {
   "cell_type": "code",
   "execution_count": null,
   "id": "bulgarian-soccer",
   "metadata": {},
   "outputs": [],
   "source": []
  },
  {
   "cell_type": "code",
   "execution_count": null,
   "id": "complex-devon",
   "metadata": {},
   "outputs": [],
   "source": []
  },
  {
   "cell_type": "code",
   "execution_count": null,
   "id": "material-circuit",
   "metadata": {},
   "outputs": [],
   "source": []
  },
  {
   "cell_type": "code",
   "execution_count": null,
   "id": "conscious-poetry",
   "metadata": {},
   "outputs": [],
   "source": []
  },
  {
   "cell_type": "code",
   "execution_count": null,
   "id": "visible-academy",
   "metadata": {},
   "outputs": [],
   "source": []
  },
  {
   "cell_type": "code",
   "execution_count": null,
   "id": "assigned-track",
   "metadata": {},
   "outputs": [],
   "source": []
  },
  {
   "cell_type": "code",
   "execution_count": null,
   "id": "potential-continuity",
   "metadata": {},
   "outputs": [],
   "source": []
  },
  {
   "cell_type": "code",
   "execution_count": null,
   "id": "loved-minute",
   "metadata": {},
   "outputs": [],
   "source": [
    "# # %load_ext autoreload\n",
    "# # %autoreload 2\n",
    "\n",
    "# import multiprocessing\n",
    "# import time\n",
    "\n",
    "# print('Core Number:', multiprocessing.cpu_count())\n",
    "# from multiprocessing import set_start_method\n",
    "# set_start_method(\"spawn\")\n",
    "\n",
    "# ins1 = [\n",
    "#         (run_geodyn_arc1.RUN_GEODYN()),\n",
    "#         (run_geodyn_arc2.RUN_GEODYN()),\n",
    "#         (run_geodyn_arc3.RUN_GEODYN()),\n",
    "#         (run_geodyn_arc4.RUN_GEODYN()),\n",
    "#         ]\n",
    "# start = time.time()\n",
    "# pool = multiprocessing.Pool(processes=4)\n",
    "\n",
    "\n",
    "# pool.starmap(run_function, ins1)\n",
    "# elapsed = time.time() - start\n",
    "# print(' ')\n",
    "# print('Pools=4, Processes=4',' : ',elapsed,'(',str(float(elapsed)/60),' mins)')\n",
    "\n",
    "\n",
    "\n",
    "\n",
    "\n",
    "\n"
   ]
  },
  {
   "cell_type": "code",
   "execution_count": null,
   "id": "sought-regulation",
   "metadata": {},
   "outputs": [],
   "source": [
    "\n",
    "# from pygeodyn_Control import pygeodyn_CONTROL\n",
    "# run_geodyn_msis2 = pygeodyn_CONTROL(params_msis2)\n",
    "# run_geodyn_msis00 = pygeodyn_CONTROL(params_msis00)\n"
   ]
  },
  {
   "cell_type": "code",
   "execution_count": null,
   "id": "plain-complaint",
   "metadata": {},
   "outputs": [],
   "source": [
    "# run_geodyn_msis2.RUN_GEODYN()\n",
    "# run_geodyn_msis00.RUN_GEODYN()"
   ]
  },
  {
   "cell_type": "code",
   "execution_count": null,
   "id": "tribal-configuration",
   "metadata": {},
   "outputs": [],
   "source": []
  },
  {
   "cell_type": "code",
   "execution_count": null,
   "id": "dependent-shanghai",
   "metadata": {},
   "outputs": [],
   "source": []
  }
 ],
 "metadata": {
  "kernelspec": {
   "display_name": "Python 3",
   "language": "python",
   "name": "python3"
  },
  "language_info": {
   "codemirror_mode": {
    "name": "ipython",
    "version": 3
   },
   "file_extension": ".py",
   "mimetype": "text/x-python",
   "name": "python",
   "nbconvert_exporter": "python",
   "pygments_lexer": "ipython3",
   "version": "3.8.5"
  }
 },
 "nbformat": 4,
 "nbformat_minor": 5
}
