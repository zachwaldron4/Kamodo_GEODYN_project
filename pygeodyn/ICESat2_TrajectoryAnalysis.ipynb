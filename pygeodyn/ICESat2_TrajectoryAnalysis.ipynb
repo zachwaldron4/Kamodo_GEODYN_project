{
 "cells": [
  {
   "cell_type": "markdown",
   "id": "62c0b214",
   "metadata": {},
   "source": [
    "# A Trajectory Analysis using the ICESat2 Satellite\n",
    "\n",
    "For information on adding the ICESat2 satellite to `pygeodyn` see the notebook titled, *Adding a New Satellite: ICESat2*.\n",
    "\n"
   ]
  },
  {
   "cell_type": "markdown",
   "id": "6205e446",
   "metadata": {},
   "source": [
    "## Step 1:  Pre-processing the PCE data into a G2B file\n",
    "\n",
    "We will construct a `G2B_PCE`file from a set of binary `.rvg` files which contain trajectory output from a reduced-dynamics run of GEODYN. The files will be stitched together to create a the GEODYN-specific, trajectory-based tracking data type (called PCE (Precice-Clock-Error) ) and stored in a G2B file.\n",
    "\n",
    "Each `.rvg` file contains a **30-hour arc of ICESat2 trajectory data**.  These datasets are the output from a very precise run of GEODYN in which the orbit has been determined very well (*to a few centimeters accuracy*) using a **reduced dynamics technique** (*empirical accelerations and other parameters are adjusted to account for any mismodelled forces)*.\n",
    "\n",
    "The process that takes place in `pygeodyn` is as follows:\n",
    "  1. dump the data from each arc into a usable format\n",
    "  2. chop of the 3 hour padding on the ends to eliminate discontinuities from end effects\n",
    "  3. stitch together all the files\n",
    "  4. smooth over any existing discontinuities between arc gaps or maneuvers.\n",
    "  5. All data is placed in a single `TRAJ.txt` file which is then fed into a Fortran script (`pce_converer.f`) which converts the data into a `G2B` file to be ingested on `fort.40` of the GEODYN run.\n",
    "\n",
    "### PygeodynPreprocessing\n"
   ]
  },
  {
   "cell_type": "code",
   "execution_count": null,
   "id": "453829ca",
   "metadata": {},
   "outputs": [],
   "source": []
  },
  {
   "cell_type": "code",
   "execution_count": 1,
   "id": "42d6261d",
   "metadata": {
    "ExecuteTime": {
     "end_time": "2021-05-14T00:53:28.934385Z",
     "start_time": "2021-05-14T00:53:28.424707Z"
    },
    "scrolled": true
   },
   "outputs": [],
   "source": [
    "%load_ext autoreload\n",
    "%autoreload 2\n",
    "\n",
    "import sys\n",
    "sys.path.insert(0,'/data/geodyn_proj/pygeodyn/utils_pygeodyn_develop/util_preprocessing/')\n",
    "from PYGEODYN_Preprocess import PygeodynPreprocessing\n",
    "\n",
    "path_to_prep_directory = '/data/data_geodyn/inputs/icesat2/pre_processing'\n",
    "path_to_binaryrvg     = '/data/data_geodyn/inputs/icesat2/pre_processing/traj_files_rvg'\n",
    "\n",
    "arc1_files = ['orbit.1807001.2018.312',\n",
    "            'orbit.1807001.2018.313',\n",
    "            'orbit.1807001.2018.314',\n",
    "            'orbit.1807001.2018.315',\n",
    "            'orbit.1807001.2018.316',\n",
    "            'orbit.1807001.2018.317',\n",
    "            'orbit.1807001.2018.318',\n",
    "            'orbit.1807001.2018.319',\n",
    "            'orbit.1807001.2018.320',\n",
    "            'orbit.1807001.2018.321',\n",
    "            'orbit.1807001.2018.322',\n",
    "            'orbit.1807001.2018.323',\n",
    "            'orbit.1807001.2018.324',\n",
    "            'orbit.1807001.2018.325',\n",
    "            'orbit.1807001.2018.326',\n",
    "            'orbit.1807001.2018.327',\n",
    "            'orbit.1807001.2018.328',\n",
    "             ]\n",
    "\n",
    "\n",
    "# Obj = PygeodynPreprocessing(path_to_binaryrvg, path_to_prep_directory,  arc1_files)\n",
    "# Obj.run_preprocess_PCE()\n"
   ]
  },
  {
   "cell_type": "markdown",
   "id": "cd0cfabe",
   "metadata": {},
   "source": [
    "## Use pygeodyn to run GEODYN with the ICESat2 configuration\n",
    "\n",
    "<!-- The gzipped `g2b` file must be placed in the proper directory.\n",
    " -->\n",
    " \n",
    " \n"
   ]
  },
  {
   "cell_type": "code",
   "execution_count": 2,
   "id": "c2a5cddc",
   "metadata": {
    "ExecuteTime": {
     "end_time": "2021-05-14T01:24:59.658646Z",
     "start_time": "2021-05-14T00:53:28.936145Z"
    },
    "scrolled": false
   },
   "outputs": [
    {
     "name": "stdout",
     "output_type": "stream",
     "text": [
      "The autoreload extension is already loaded. To reload it, use:\n",
      "  %reload_ext autoreload\n",
      "=================================================================\n",
      "   Initializing PYGEODYN to ... \n",
      "                            ... RUN GEODYN\n",
      "=================================================================\n",
      "Run_Arc_1     Current Time =      00:53:29\n",
      "\n",
      "Run_Arc_1     Cleaning iisset:    /data/data_geodyn/inputs/icesat2/setups/iisset.2018.312\n",
      "Run_Arc_1     This run's iisset:  /data/data_geodyn/inputs/icesat2/setups/cleaned_setup_file\n",
      "Run_Arc_1     Density Model:      msis2\n",
      "Run_Arc_1     GEODYN Version:     pygeodyn_MODS\n",
      "Run_Arc_1     Estimate GenAccel:  acceloff\n",
      "Run_Arc_1     ARC run:            iisset.2018.312\n",
      "Run_Arc_1     Output directory:   /data/data_geodyn/results/icesat2/msis2/msis2_acceloff_developer_test\n",
      "Run_Arc_1     Call Options:       {'DRHODZ_update': True}\n",
      "Run_Arc_1     EXAT File:     /data/data_geodyn/inputs/icesat2/external_attitude/EXAT01.2018.312.gz\n",
      "\n",
      "Run_Arc_1          Running IIS\n",
      "Run_Arc_1          No errors in IIS\n",
      "Run_Arc_1 ---------End of IIS\n",
      "\n",
      "Run_Arc_1          Running IIE\n",
      "Run_Arc_1          Current Time = 00:54:27\n",
      "Run_Arc_1          No errors in IIE\n",
      "Run_Arc_1 ---------End of IIE\n",
      "Run_Arc_1          Time of IIE:  1830.5306842327118 secs ( 30.508844737211863  mins)\n",
      "Run_Arc_1          Current Time = 01:24:58\n",
      "File is not in Run_Arc_1 : fort.30 -- orbfil\n",
      "File is not in Run_Arc_1 : fort.98 -- msis_in_file\n",
      "File is not in Run_Arc_1 : fort.101 -- msis_out_file\n",
      "File is not in Run_Arc_1 : fort.103 -- msis_SWI_file\n",
      "Run_Arc_1                Finished renaming files\n",
      "Run_Arc_1                Finished copying files to outputdir\n"
     ]
    }
   ],
   "source": [
    "%load_ext autoreload\n",
    "%autoreload 2\n",
    "\n",
    "sys.path.insert(0, '/data/geodyn_proj/pygeodyn/utils_pygeodyn_develop/')\n",
    "from PYGEODYN import Pygeodyn\n",
    "\n",
    "#------ A dictionary containing the run parameters ------  \n",
    "run_params = {} \n",
    "run_params['run_ID']           =  'Run_Arc_1'  \n",
    "run_params['arc']              =  'iisset.2018.312'\n",
    "run_params['satellite']        =  'icesat2'  \n",
    "run_params['den_model']        =  'msis2'  \n",
    "run_params['empirical_accels'] =  False  \n",
    "run_params['SpecialRun_name']  =  '_developer_test'  \n",
    "run_params['options_in']       =  {'DRHODZ_update':True}  \n",
    "run_params['verbose']          =  False\n",
    "run_params['action']           =   'run'\n",
    "\n",
    "\n",
    "\n",
    "Obj_Geodyn = Pygeodyn(run_params)\n",
    "Obj_Geodyn.RUN_GEODYN()"
   ]
  },
  {
   "cell_type": "code",
   "execution_count": null,
   "id": "e5df47e5",
   "metadata": {},
   "outputs": [],
   "source": []
  }
 ],
 "metadata": {
  "kernelspec": {
   "display_name": "Python 3",
   "language": "python",
   "name": "python3"
  },
  "language_info": {
   "codemirror_mode": {
    "name": "ipython",
    "version": 3
   },
   "file_extension": ".py",
   "mimetype": "text/x-python",
   "name": "python",
   "nbconvert_exporter": "python",
   "pygments_lexer": "ipython3",
   "version": "3.8.8"
  },
  "toc": {
   "base_numbering": 1,
   "nav_menu": {},
   "number_sections": true,
   "sideBar": true,
   "skip_h1_title": false,
   "title_cell": "Table of Contents",
   "title_sidebar": "Contents",
   "toc_cell": false,
   "toc_position": {
    "height": "calc(100% - 180px)",
    "left": "10px",
    "top": "150px",
    "width": "165px"
   },
   "toc_section_display": true,
   "toc_window_display": true
  },
  "varInspector": {
   "cols": {
    "lenName": 16,
    "lenType": 16,
    "lenVar": 40
   },
   "kernels_config": {
    "python": {
     "delete_cmd_postfix": "",
     "delete_cmd_prefix": "del ",
     "library": "var_list.py",
     "varRefreshCmd": "print(var_dic_list())"
    },
    "r": {
     "delete_cmd_postfix": ") ",
     "delete_cmd_prefix": "rm(",
     "library": "var_list.r",
     "varRefreshCmd": "cat(var_dic_list()) "
    }
   },
   "types_to_exclude": [
    "module",
    "function",
    "builtin_function_or_method",
    "instance",
    "_Feature"
   ],
   "window_display": false
  }
 },
 "nbformat": 4,
 "nbformat_minor": 5
}
