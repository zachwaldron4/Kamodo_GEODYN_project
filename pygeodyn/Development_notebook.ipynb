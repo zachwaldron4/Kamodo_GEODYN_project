{
 "cells": [
  {
   "cell_type": "code",
   "execution_count": 1,
   "id": "acc56632",
   "metadata": {
    "ExecuteTime": {
     "end_time": "2021-04-30T20:52:44.096670Z",
     "start_time": "2021-04-30T20:52:44.081590Z"
    }
   },
   "outputs": [],
   "source": [
    "# %load_ext autoreload\n",
    "# %autoreload 2\n",
    "\n",
    "# import sys  \n",
    "# sys.path.insert(0, '/data/geodyn_proj/pygeodyn/utils_pygeodyn_develop/')\n"
   ]
  },
  {
   "cell_type": "code",
   "execution_count": 2,
   "id": "af51e61d",
   "metadata": {
    "ExecuteTime": {
     "end_time": "2021-04-30T20:52:44.108019Z",
     "start_time": "2021-04-30T20:52:44.098501Z"
    }
   },
   "outputs": [],
   "source": [
    "# from pygeodyn import pygeodyn\n"
   ]
  },
  {
   "cell_type": "code",
   "execution_count": 3,
   "id": "b70a11a7",
   "metadata": {
    "ExecuteTime": {
     "end_time": "2021-04-30T20:52:44.117583Z",
     "start_time": "2021-04-30T20:52:44.109820Z"
    }
   },
   "outputs": [],
   "source": [
    "# #------ A dictionary containing the run parameters ------  \n",
    "# run_params = {} \n",
    "# run_params['run_ID']           =  'Run_Arc_1'  \n",
    "# run_params['arc']              =  'iisset.2018.287' \n",
    "# run_params['satellite']        =  'icesat2'  \n",
    "# run_params['den_model']        =  'msis2'  \n",
    "# run_params['empirical_accels'] =  False  \n",
    "# run_params['SpecialRun_name']  =  '_developer_test'  \n",
    "# run_params['options_in']       =  {'DRHODZ_update':True}  \n",
    "# run_params['verbose']          =  False\n",
    "\n",
    "\n",
    "\n",
    "\n",
    "# Obj_Geodyn = pygeodyn(run_params)\n",
    "\n",
    "# Obj_Geodyn.RUN_GEODYN()"
   ]
  },
  {
   "cell_type": "code",
   "execution_count": 5,
   "id": "66ddd77f",
   "metadata": {},
   "outputs": [
    {
     "name": "stdout",
     "output_type": "stream",
     "text": [
      "The autoreload extension is already loaded. To reload it, use:\n",
      "  %reload_ext autoreload\n",
      "        \n",
      "     File path: \n",
      "     Loading /data/data_geodyn/results/icesat2/msis2/msis2_acceloff_developer_test/.../icesat2i. \n"
     ]
    },
    {
     "ename": "FileNotFoundError",
     "evalue": "[Errno 2] No such file or directory: '/data/data_geodyn/results/icesat2/msis2/msis2_acceloff_developer_test/IIEOUT/icesat2i.'",
     "output_type": "error",
     "traceback": [
      "\u001b[0;31m---------------------------------------------------------------------------\u001b[0m",
      "\u001b[0;31mFileNotFoundError\u001b[0m                         Traceback (most recent call last)",
      "\u001b[0;32m<ipython-input-5-7736ec111731>\u001b[0m in \u001b[0;36m<module>\u001b[0;34m\u001b[0m\n\u001b[1;32m     22\u001b[0m \u001b[0mObj_Geodyn\u001b[0m \u001b[0;34m=\u001b[0m \u001b[0mpyGeodyn_Readers\u001b[0m\u001b[0;34m(\u001b[0m\u001b[0mrun_params\u001b[0m\u001b[0;34m)\u001b[0m\u001b[0;34m\u001b[0m\u001b[0;34m\u001b[0m\u001b[0m\n\u001b[1;32m     23\u001b[0m \u001b[0;34m\u001b[0m\u001b[0m\n\u001b[0;32m---> 24\u001b[0;31m \u001b[0mObj_Geodyn\u001b[0m\u001b[0;34m.\u001b[0m\u001b[0mgetData_All\u001b[0m\u001b[0;34m(\u001b[0m\u001b[0;34m)\u001b[0m\u001b[0;34m\u001b[0m\u001b[0;34m\u001b[0m\u001b[0m\n\u001b[0m",
      "\u001b[0;32m/data/geodyn_proj/pygeodyn/utils_pygeodyn/pygeodyn_Read.py\u001b[0m in \u001b[0;36mgetData_All\u001b[0;34m(self)\u001b[0m\n\u001b[1;32m   1516\u001b[0m             \u001b[0;32mfor\u001b[0m \u001b[0mchoice\u001b[0m \u001b[0;32min\u001b[0m \u001b[0mdata_keys\u001b[0m\u001b[0;34m:\u001b[0m\u001b[0;34m\u001b[0m\u001b[0;34m\u001b[0m\u001b[0m\n\u001b[1;32m   1517\u001b[0m                 \u001b[0;32mif\u001b[0m \u001b[0mchoice\u001b[0m \u001b[0;34m==\u001b[0m \u001b[0;34m'AdjustedParams'\u001b[0m\u001b[0;34m:\u001b[0m\u001b[0;34m\u001b[0m\u001b[0;34m\u001b[0m\u001b[0m\n\u001b[0;32m-> 1518\u001b[0;31m                     \u001b[0mself\u001b[0m\u001b[0;34m.\u001b[0m\u001b[0mAdjustedParams\u001b[0m\u001b[0;34m[\u001b[0m\u001b[0marc\u001b[0m\u001b[0;34m]\u001b[0m      \u001b[0;34m=\u001b[0m \u001b[0mself\u001b[0m\u001b[0;34m.\u001b[0m\u001b[0mgetData_adjustedparams_iieout\u001b[0m\u001b[0;34m(\u001b[0m\u001b[0;34m)\u001b[0m\u001b[0;34m\u001b[0m\u001b[0;34m\u001b[0m\u001b[0m\n\u001b[0m\u001b[1;32m   1519\u001b[0m                 \u001b[0;32melif\u001b[0m \u001b[0mchoice\u001b[0m \u001b[0;34m==\u001b[0m \u001b[0;34m'Trajectory_xyz'\u001b[0m\u001b[0;34m:\u001b[0m\u001b[0;34m\u001b[0m\u001b[0;34m\u001b[0m\u001b[0m\n\u001b[1;32m   1520\u001b[0m                     \u001b[0mself\u001b[0m\u001b[0;34m.\u001b[0m\u001b[0mTrajectory_xyz\u001b[0m\u001b[0;34m[\u001b[0m\u001b[0marc\u001b[0m\u001b[0;34m]\u001b[0m            \u001b[0;34m=\u001b[0m \u001b[0mself\u001b[0m\u001b[0;34m.\u001b[0m\u001b[0mgetData_asciiXYZ\u001b[0m\u001b[0;34m(\u001b[0m\u001b[0;34m)\u001b[0m\u001b[0;34m\u001b[0m\u001b[0;34m\u001b[0m\u001b[0m\n",
      "\u001b[0;32m/data/geodyn_proj/pygeodyn/utils_pygeodyn/pygeodyn_Read.py\u001b[0m in \u001b[0;36mgetData_adjustedparams_iieout\u001b[0;34m(self)\u001b[0m\n\u001b[1;32m   1395\u001b[0m \u001b[0;34m\u001b[0m\u001b[0m\n\u001b[1;32m   1396\u001b[0m     \u001b[0;32mdef\u001b[0m \u001b[0mgetData_adjustedparams_iieout\u001b[0m\u001b[0;34m(\u001b[0m\u001b[0mself\u001b[0m\u001b[0;34m)\u001b[0m\u001b[0;34m:\u001b[0m\u001b[0;34m\u001b[0m\u001b[0;34m\u001b[0m\u001b[0m\n\u001b[0;32m-> 1397\u001b[0;31m         \u001b[0;32mreturn\u001b[0m\u001b[0;34m(\u001b[0m\u001b[0mself\u001b[0m\u001b[0;34m.\u001b[0m\u001b[0mread_adjustedparams_iieout\u001b[0m\u001b[0;34m(\u001b[0m\u001b[0;34m)\u001b[0m\u001b[0;34m)\u001b[0m\u001b[0;34m\u001b[0m\u001b[0;34m\u001b[0m\u001b[0m\n\u001b[0m\u001b[1;32m   1398\u001b[0m \u001b[0;34m\u001b[0m\u001b[0m\n\u001b[1;32m   1399\u001b[0m     \u001b[0;31m#----------------------------------------------\u001b[0m\u001b[0;34m\u001b[0m\u001b[0;34m\u001b[0m\u001b[0;34m\u001b[0m\u001b[0m\n",
      "\u001b[0;32m/data/geodyn_proj/pygeodyn/utils_pygeodyn/pygeodyn_Read.py\u001b[0m in \u001b[0;36mread_adjustedparams_iieout\u001b[0;34m(self)\u001b[0m\n\u001b[1;32m    310\u001b[0m         \u001b[0msat_list\u001b[0m \u001b[0;34m=\u001b[0m \u001b[0;34m[\u001b[0m\u001b[0;34m]\u001b[0m\u001b[0;34m\u001b[0m\u001b[0;34m\u001b[0m\u001b[0m\n\u001b[1;32m    311\u001b[0m         \u001b[0mlines_params\u001b[0m \u001b[0;34m=\u001b[0m \u001b[0;34m[\u001b[0m\u001b[0;34m]\u001b[0m\u001b[0;34m\u001b[0m\u001b[0;34m\u001b[0m\u001b[0m\n\u001b[0;32m--> 312\u001b[0;31m         \u001b[0;32mwith\u001b[0m \u001b[0mopen\u001b[0m\u001b[0;34m(\u001b[0m\u001b[0mself\u001b[0m\u001b[0;34m.\u001b[0m\u001b[0m_iieout_filename\u001b[0m\u001b[0;34m,\u001b[0m \u001b[0;34m'r'\u001b[0m\u001b[0;34m)\u001b[0m \u001b[0;32mas\u001b[0m \u001b[0mf\u001b[0m\u001b[0;34m:\u001b[0m\u001b[0;34m\u001b[0m\u001b[0;34m\u001b[0m\u001b[0m\n\u001b[0m\u001b[1;32m    313\u001b[0m             \u001b[0;32mfor\u001b[0m \u001b[0mline_no\u001b[0m\u001b[0;34m,\u001b[0m \u001b[0mline_text\u001b[0m \u001b[0;32min\u001b[0m \u001b[0menumerate\u001b[0m\u001b[0;34m(\u001b[0m\u001b[0mf\u001b[0m\u001b[0;34m)\u001b[0m\u001b[0;34m:\u001b[0m\u001b[0;34m\u001b[0m\u001b[0;34m\u001b[0m\u001b[0m\n\u001b[1;32m    314\u001b[0m                 \u001b[0;32mif\u001b[0m \u001b[0;34m'0XPOS'\u001b[0m \u001b[0;32min\u001b[0m \u001b[0mline_text\u001b[0m \u001b[0;34m:\u001b[0m\u001b[0;34m\u001b[0m\u001b[0;34m\u001b[0m\u001b[0m\n",
      "\u001b[0;31mFileNotFoundError\u001b[0m: [Errno 2] No such file or directory: '/data/data_geodyn/results/icesat2/msis2/msis2_acceloff_developer_test/IIEOUT/icesat2i.'"
     ]
    }
   ],
   "source": [
    "%load_ext autoreload\n",
    "%autoreload 2\n",
    "\n",
    "import sys  \n",
    "sys.path.insert(0, '/data/geodyn_proj/pygeodyn/utils_pygeodyn/')\n",
    "\n",
    "\n",
    "#------ A dictionary containing the run parameters ------  \n",
    "run_params = {} \n",
    "run_params['run_ID']           =  'Run_Arc_1'  \n",
    "run_params['arc']              =  'iisset.2018.287' \n",
    "run_params['satellite']        =  'icesat2'  \n",
    "run_params['den_model']        =  'msis2'  \n",
    "run_params['empirical_accels'] =  False  \n",
    "run_params['SpecialRun_name']  =  '_developer_test'  \n",
    "run_params['options_in']       =  {'DRHODZ_update':True}  \n",
    "run_params['verbose']          =  False\n",
    "\n",
    "from pygeodyn_Read import pyGeodyn_Readers\n",
    "\n",
    "\n",
    "Obj_Geodyn = pyGeodyn_Readers(run_params)\n",
    "\n",
    "Obj_Geodyn.getData_All()"
   ]
  },
  {
   "cell_type": "code",
   "execution_count": null,
   "id": "93b5f32f",
   "metadata": {},
   "outputs": [],
   "source": []
  },
  {
   "cell_type": "code",
   "execution_count": null,
   "id": "07087979",
   "metadata": {},
   "outputs": [],
   "source": []
  },
  {
   "cell_type": "code",
   "execution_count": null,
   "id": "bb6d14a7",
   "metadata": {
    "ExecuteTime": {
     "end_time": "2021-04-30T20:52:44.759575Z",
     "start_time": "2021-04-30T20:52:44.120137Z"
    }
   },
   "outputs": [],
   "source": []
  },
  {
   "cell_type": "code",
   "execution_count": null,
   "id": "2ba58d38",
   "metadata": {
    "ExecuteTime": {
     "end_time": "2021-04-30T20:53:43.046759Z",
     "start_time": "2021-04-30T20:52:44.761188Z"
    }
   },
   "outputs": [],
   "source": []
  },
  {
   "cell_type": "code",
   "execution_count": null,
   "id": "d3820970",
   "metadata": {
    "ExecuteTime": {
     "end_time": "2021-04-30T20:53:43.055683Z",
     "start_time": "2021-04-30T20:52:42.881Z"
    }
   },
   "outputs": [],
   "source": []
  },
  {
   "cell_type": "code",
   "execution_count": null,
   "id": "9e3a7723",
   "metadata": {},
   "outputs": [],
   "source": []
  }
 ],
 "metadata": {
  "kernelspec": {
   "display_name": "Python 3",
   "language": "python",
   "name": "python3"
  },
  "language_info": {
   "codemirror_mode": {
    "name": "ipython",
    "version": 3
   },
   "file_extension": ".py",
   "mimetype": "text/x-python",
   "name": "python",
   "nbconvert_exporter": "python",
   "pygments_lexer": "ipython3",
   "version": "3.8.5"
  },
  "toc": {
   "base_numbering": 1,
   "nav_menu": {
    "height": "46px",
    "width": "169px"
   },
   "number_sections": true,
   "sideBar": true,
   "skip_h1_title": false,
   "title_cell": "Table of Contents",
   "title_sidebar": "Contents",
   "toc_cell": false,
   "toc_position": {},
   "toc_section_display": true,
   "toc_window_display": false
  },
  "varInspector": {
   "cols": {
    "lenName": 16,
    "lenType": 16,
    "lenVar": 40
   },
   "kernels_config": {
    "python": {
     "delete_cmd_postfix": "",
     "delete_cmd_prefix": "del ",
     "library": "var_list.py",
     "varRefreshCmd": "print(var_dic_list())"
    },
    "r": {
     "delete_cmd_postfix": ") ",
     "delete_cmd_prefix": "rm(",
     "library": "var_list.r",
     "varRefreshCmd": "cat(var_dic_list()) "
    }
   },
   "types_to_exclude": [
    "module",
    "function",
    "builtin_function_or_method",
    "instance",
    "_Feature"
   ],
   "window_display": false
  }
 },
 "nbformat": 4,
 "nbformat_minor": 5
}
