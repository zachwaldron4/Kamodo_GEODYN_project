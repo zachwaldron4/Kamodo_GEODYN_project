{
 "cells": [
  {
   "cell_type": "code",
   "execution_count": 1,
   "id": "db454d80",
   "metadata": {
    "ExecuteTime": {
     "end_time": "2021-04-30T20:52:44.096670Z",
     "start_time": "2021-04-30T20:52:44.081590Z"
    }
   },
   "outputs": [],
   "source": [
    "%load_ext autoreload\n",
    "%autoreload 2\n",
    "# \n",
    "# import sys  \n",
    "# sys.path.insert(0, '/data/geodyn_proj/pygeodyn/utils_pygeodyn_develop/')\n"
   ]
  },
  {
   "cell_type": "code",
   "execution_count": 2,
   "id": "a9c6bc6a",
   "metadata": {
    "ExecuteTime": {
     "end_time": "2021-04-30T20:52:44.108019Z",
     "start_time": "2021-04-30T20:52:44.098501Z"
    }
   },
   "outputs": [],
   "source": [
    "# from satellite_classes import Satellite_ICESat2\n",
    "\n",
    "# from clean_iisset_file\n",
    "\n"
   ]
  },
  {
   "cell_type": "code",
   "execution_count": 3,
   "id": "079820e3",
   "metadata": {
    "ExecuteTime": {
     "end_time": "2021-04-30T20:52:44.117583Z",
     "start_time": "2021-04-30T20:52:44.109820Z"
    }
   },
   "outputs": [],
   "source": [
    "# #------ A dictionary containing the run parameters ------  \n",
    "# run_params = {} \n",
    "# run_params['run_ID']           =  'Run_Arc_1'  \n",
    "# run_params['arc']              =  'asetup_test_david' \n",
    "# run_params['satellite']        =  'icesat2'  \n",
    "# run_params['den_model']        =  'msis2'  \n",
    "# run_params['empirical_accels'] =  False  \n",
    "# run_params['SpecialRun_name']  =  '_developer_test'  \n",
    "# run_params['options_in']       =  {'DRHODZ_update':True}  \n",
    "# run_params['verbose']          =  False\n",
    "\n",
    "\n",
    "\n",
    "\n",
    "# Obj_Geodyn = Satellite_ICESat2(run_params)\n",
    "\n",
    "# Obj_Geodyn.RUN_GEODYN()"
   ]
  },
  {
   "cell_type": "code",
   "execution_count": null,
   "id": "7659f4da",
   "metadata": {},
   "outputs": [],
   "source": []
  },
  {
   "attachments": {},
   "cell_type": "markdown",
   "id": "01980859",
   "metadata": {},
   "source": [
    "**For the run type in question (PCE based-trajectory), determine which option cards need to be included**\n",
    "\n",
    "### Consider:\n",
    "\n",
    "- Global options vs arc options\n",
    "- `ACCEL9` cards\n",
    "\n",
    "\n",
    "### Cards to add:\n",
    "- (none yet)\n",
    "\n",
    "### Cards to change:\n",
    "- SIGMA\n",
    "    - Change the `SIGMA`s on the PCE  data  (`SIGMA` cards) from 10.D+25 to 1.0. Otherwise the data will have no influence.\n",
    "    ```\n",
    "    SIGMA           1               1.0                 1.0\n",
    "    SIGMA           2               1.0                 1.0\n",
    "    SIGMA           3               1.0                 1.0\n",
    "    SIGMA          51               10.0D+25             0.10\n",
    "    SIGMA          85               0.010000            0.010000\n",
    "    ```\n",
    "\n",
    "### Cards to remove:  \n",
    "- `XEPHEM`\n",
    "    - what is this card?\n",
    "- `REFRAC`\n",
    "    - You are not modeling refraction\n",
    "- `GPSMOD`\n",
    "    - if present, then the PCE data will be treated as if it were Earth fixed\n",
    "\n",
    "\n"
   ]
  },
  {
   "cell_type": "markdown",
   "id": "304ab350",
   "metadata": {},
   "source": [
    "diff the two files:\n",
    "\n",
    "```\n",
    "(base) [m_geodyn@tools_dev setups]$ diff asetup_test_david aTEST_setup287\n",
    "\n",
    "110201c110328\n",
    "< SATPAR   13      1807001          9.53000000       1514.000\n",
    "---\n",
    "> SATPAR   139     1807001          9.53000000       1514.000\n",
    "126442,126445c126569,126572\n",
    "< SIGMA           1               1.0                 1.0\n",
    "< SIGMA           2               1.0                 1.0\n",
    "< SIGMA           3               1.0                 1.0\n",
    "< SIGMA          51               10.0D+25             0.10\n",
    "---\n",
    "> SIGMA           1               1.0                 1.0\n",
    "> SIGMA           2               1.0                 1.0\n",
    "> SIGMA           3               1.0                 1.0\n",
    "> SIGMA          51               1.0                  0.10\n",
    "```"
   ]
  },
  {
   "cell_type": "markdown",
   "id": "3789f51b",
   "metadata": {},
   "source": [
    "**Make a copy of the setup file**\n",
    "\n"
   ]
  },
  {
   "cell_type": "code",
   "execution_count": 4,
   "id": "7cba72bb",
   "metadata": {},
   "outputs": [],
   "source": [
    "# import shutil\n",
    "# import numpy as np\n",
    "# import pandas as pd\n",
    "# import linecache\n",
    "\n",
    "# path_to_setupfiles = '/data/data_geodyn/inputs/icesat2/setups/'\n",
    "# setup_file = 'iisset.2018.287'\n",
    "# __setup_filename = path_to_setupfiles + setup_file\n",
    "\n",
    "# shutil.copyfile(__setup_filename, path_to_setupfiles +'aTEST_setup287')\n",
    "# __test_setup_filename = path_to_setupfiles +'aTEST_setup287'\n",
    "\n",
    "\n",
    "# SAT_ID    = '1807001'\n",
    "# den_model = '86'\n",
    "# iisset_file = __test_setup_filename\n"
   ]
  },
  {
   "cell_type": "code",
   "execution_count": null,
   "id": "312a4f76",
   "metadata": {},
   "outputs": [],
   "source": [
    "\n"
   ]
  },
  {
   "cell_type": "code",
   "execution_count": 5,
   "id": "6e8d5d41",
   "metadata": {},
   "outputs": [],
   "source": []
  },
  {
   "cell_type": "code",
   "execution_count": null,
   "id": "c15cc93b",
   "metadata": {},
   "outputs": [],
   "source": []
  },
  {
   "cell_type": "code",
   "execution_count": null,
   "id": "53e31215",
   "metadata": {},
   "outputs": [],
   "source": []
  },
  {
   "cell_type": "code",
   "execution_count": null,
   "id": "fe8d2489",
   "metadata": {},
   "outputs": [],
   "source": []
  },
  {
   "cell_type": "code",
   "execution_count": null,
   "id": "fb9eae5d",
   "metadata": {},
   "outputs": [],
   "source": []
  },
  {
   "cell_type": "markdown",
   "id": "81e4c242",
   "metadata": {},
   "source": [
    "Loop through the file:\n",
    "    \n",
    "   - determine which cards need to be deleted, modified or added."
   ]
  },
  {
   "cell_type": "code",
   "execution_count": null,
   "id": "6d6fe148",
   "metadata": {},
   "outputs": [],
   "source": []
  },
  {
   "cell_type": "code",
   "execution_count": 6,
   "id": "285c0152",
   "metadata": {
    "ExecuteTime": {
     "end_time": "2021-04-30T20:52:44.759575Z",
     "start_time": "2021-04-30T20:52:44.120137Z"
    }
   },
   "outputs": [],
   "source": []
  },
  {
   "cell_type": "code",
   "execution_count": null,
   "id": "b788ee10",
   "metadata": {},
   "outputs": [],
   "source": []
  },
  {
   "cell_type": "code",
   "execution_count": null,
   "id": "fbe70f41",
   "metadata": {
    "ExecuteTime": {
     "end_time": "2021-04-30T20:53:43.046759Z",
     "start_time": "2021-04-30T20:52:44.761188Z"
    }
   },
   "outputs": [],
   "source": []
  },
  {
   "cell_type": "code",
   "execution_count": null,
   "id": "7e02ab1e",
   "metadata": {
    "ExecuteTime": {
     "end_time": "2021-04-30T20:53:43.055683Z",
     "start_time": "2021-04-30T20:52:42.881Z"
    }
   },
   "outputs": [],
   "source": []
  },
  {
   "cell_type": "code",
   "execution_count": null,
   "id": "b041ac3e",
   "metadata": {},
   "outputs": [],
   "source": []
  }
 ],
 "metadata": {
  "kernelspec": {
   "display_name": "Python 3",
   "language": "python",
   "name": "python3"
  },
  "language_info": {
   "codemirror_mode": {
    "name": "ipython",
    "version": 3
   },
   "file_extension": ".py",
   "mimetype": "text/x-python",
   "name": "python",
   "nbconvert_exporter": "python",
   "pygments_lexer": "ipython3",
   "version": "3.8.5"
  },
  "toc": {
   "base_numbering": 1,
   "nav_menu": {
    "height": "46px",
    "width": "169px"
   },
   "number_sections": true,
   "sideBar": true,
   "skip_h1_title": false,
   "title_cell": "Table of Contents",
   "title_sidebar": "Contents",
   "toc_cell": false,
   "toc_position": {},
   "toc_section_display": true,
   "toc_window_display": false
  },
  "varInspector": {
   "cols": {
    "lenName": 16,
    "lenType": 16,
    "lenVar": 40
   },
   "kernels_config": {
    "python": {
     "delete_cmd_postfix": "",
     "delete_cmd_prefix": "del ",
     "library": "var_list.py",
     "varRefreshCmd": "print(var_dic_list())"
    },
    "r": {
     "delete_cmd_postfix": ") ",
     "delete_cmd_prefix": "rm(",
     "library": "var_list.r",
     "varRefreshCmd": "cat(var_dic_list()) "
    }
   },
   "types_to_exclude": [
    "module",
    "function",
    "builtin_function_or_method",
    "instance",
    "_Feature"
   ],
   "window_display": false
  }
 },
 "nbformat": 4,
 "nbformat_minor": 5
}
