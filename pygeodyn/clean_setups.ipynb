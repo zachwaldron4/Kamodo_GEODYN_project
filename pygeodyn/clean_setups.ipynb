{
 "cells": [
  {
   "cell_type": "code",
   "execution_count": 1,
   "id": "db454d80",
   "metadata": {
    "ExecuteTime": {
     "end_time": "2021-05-07T18:00:02.204837Z",
     "start_time": "2021-05-07T18:00:02.186714Z"
    }
   },
   "outputs": [],
   "source": [
    "%load_ext autoreload\n",
    "%autoreload 2\n",
    "# \n",
    "# import sys  \n",
    "# sys.path.insert(0, '/data/geodyn_proj/pygeodyn/utils_pygeodyn_develop/')\n"
   ]
  },
  {
   "cell_type": "code",
   "execution_count": 2,
   "id": "afc0ba4f",
   "metadata": {
    "ExecuteTime": {
     "end_time": "2021-05-07T18:00:02.217408Z",
     "start_time": "2021-05-07T18:00:02.207177Z"
    }
   },
   "outputs": [],
   "source": [
    "import shutil\n",
    "import linecache"
   ]
  },
  {
   "cell_type": "code",
   "execution_count": 3,
   "id": "a9c6bc6a",
   "metadata": {
    "ExecuteTime": {
     "end_time": "2021-05-07T18:00:02.246493Z",
     "start_time": "2021-05-07T18:00:02.219694Z"
    }
   },
   "outputs": [],
   "source": [
    "def clean_iisset_file(path_to_setupfiles,setup_file_arc,SAT_ID,den_model_setupval):\n",
    "    '''\n",
    "    Overwrite the file cleaner with the ICESAT specific run parameters.\n",
    "\n",
    "    If one wants to make more major changes to this file, IE implemement a NON-PCE based run, then one may want to construct a new class to inherit this one, and overwrite this method in that class. \n",
    "    '''\n",
    "\n",
    "#     (path_to_setupfiles, setup_file_arc, SAT_ID, den_model_setupval) = ( self.INPUTDIR,  self.ARC, self.SATID, self.iisset_den)\n",
    "\n",
    "\n",
    "\n",
    "    ORIG_iisset_file = path_to_setupfiles + '/' + setup_file_arc\n",
    "\n",
    "    shutil.copyfile(ORIG_iisset_file, path_to_setupfiles +'/'+'cleaned_setup_file')\n",
    "    iisset_file =       path_to_setupfiles +'/'+'cleaned_setup_file'\n",
    "\n",
    "\n",
    "    cards_to_remove = [ 'ACCEL9',\n",
    "                        'XEPHEM',\n",
    "                        'REFRAC',\n",
    "                        'GPSMOD',\n",
    "                        'OFFSET',\n",
    "                        'OFFADJ',\n",
    "                        'ANTPHC',\n",
    "                        'ANTPH2',\n",
    "                        'CGMASS',\n",
    "                      ] \n",
    "\n",
    "    ##### Grab the EPOCH start and end times\n",
    "    EPOCH_lines = []\n",
    "    with open(iisset_file, 'r') as f:\n",
    "        for line_no, line_text in enumerate(f):\n",
    "            if 'EPOCH         ' in line_text:\n",
    "                EPOCH_lines.append(line_no) \n",
    "\n",
    "    ##### Identify and save the EPOCH start and end times\n",
    "    for i,val in enumerate(EPOCH_lines):\n",
    "        satpar_line = linecache.getline(iisset_file,val) # Check the above SATPAR line get the correct satellite ID (i.e. NOT GPS)\n",
    "\n",
    "        ##### only do this for the main satellite, so look for the correct SATID in the SATPAR card above EPOCH\n",
    "        if SAT_ID in satpar_line:\n",
    "            epoch_start = linecache.getline(iisset_file,val + 1)[20:40].strip() #181013210000.0000000\n",
    "            epoch_start_YYMMDD = linecache.getline(iisset_file,val + 1)[20:26].strip()       # 181013\n",
    "            epoch_start_HHMM = linecache.getline(iisset_file,val + 1)[26:30].strip()         # 210000.0000000\n",
    "            epoch_start_SS_SSSSSSS = linecache.getline(iisset_file,val + 1)[30:40].strip()   # 00.0000000     \n",
    "\n",
    "            epoch_end   = linecache.getline(iisset_file,val + 1)[60:80].strip() #1810160300 00.000\n",
    "            epoch_end_YYMMDD = linecache.getline(iisset_file,val + 1)[60:66].strip()       # 181016\n",
    "            epoch_end_HHMM = linecache.getline(iisset_file,val + 1)[66:70].strip()         # 210000.0000000\n",
    "            epoch_end_SS_SSSSSSS = linecache.getline(iisset_file,val + 1)[70:80].strip()   # 00.0000000     \n",
    "\n",
    "    ##### TO DO : Add conditional for month-day turnover\n",
    "    epoch_start_minus2days = epoch_start_YYMMDD[:-2]+str(int(epoch_start_YYMMDD[-2:])-2)+epoch_start_HHMM+epoch_start_SS_SSSSSSS\n",
    "    epoch_end_plus1days =  epoch_end_YYMMDD[:-2]+str(int(epoch_end_YYMMDD[-2:])+1)+epoch_end_HHMM+epoch_end_SS_SSSSSSS\n",
    "\n",
    "\n",
    "    ##### Putting in the options is one of the hardest parts of using GEODYN\n",
    "    #####    They require VERY specific inputs depending on the run type.  \n",
    "    card_strings = {}\n",
    "    card_strings['ORBFIL'] =  'ORBFIL2 31       '+SAT_ID+'     '+str(epoch_start)[:-6]+'  '+str(epoch_end)[:6]+' 24200.00 .100000D+01'\n",
    "    card_strings['ORBTVU'] =  'ORBTVU1021       '+SAT_ID+'     '+str(epoch_start)[:-6]+'  '+str(epoch_end)[:6]+' 24200.00 .100000D+01'\n",
    "    card_strings['RESID']  =  'RESIDU12'\n",
    "    card_strings['OBSVU']  =  'OBSVU 4'\n",
    "    card_strings['PRNTVU'] =  'PRNTVU55212222    22122'  \n",
    "    card_strings['ATMDEN'] =  'ATMDEN  '+ den_model_setupval\n",
    "    card_strings['ATGRAV']  =  'ATGRAV9090              '+epoch_start_minus2days +''+epoch_end_plus1days[:-1]   \n",
    "    card_strings['I64G2E']  =  'I64G2E         25'  # using 30 like in st-SLR run maxed out the memory usage\n",
    "    card_strings['SATPAR']  =  'SATPAR   13      '+SAT_ID+'          9.53000000       1514.000'\n",
    "    card_strings['SIGMA           1']  =  'SIGMA           1               1.0                 1.0'    #10.0D+25            10.0D+25'\n",
    "    card_strings['SIGMA           2']  =  'SIGMA           2               1.0                 1.0'    #10.0D+25            10.0D+25'\n",
    "    card_strings['SIGMA           3']  =  'SIGMA           3               1.0                 1.0'    #10.0D+25            10.0D+25'\n",
    "    card_strings['SIGMA          51']  =  'SIGMA          51               10.0D+25             0.10'    #10.0D+25             0.10'\n",
    "    card_strings['SIGMA          85']  =  'SIGMA          85               0.010000            0.010000'    #0.010000            0.010000'\n",
    "\n",
    "\n",
    "    ##### read in all lines of the file and save them\n",
    "    with open(iisset_file, \"r\") as f:\n",
    "        lines_all = f.readlines()    \n",
    "    ##### Re-write the file line-by-line WITHOUT the cards that we want to remove    \n",
    "    with open(iisset_file, \"w\") as f:\n",
    "        for line in lines_all:\n",
    "            if any(card in line for card in cards_to_remove):\n",
    "                # IF the any of the cards in the list are in the line, dont add it\n",
    "                pass\n",
    "            else:\n",
    "                f.write(line)                \n",
    "\n",
    "    ##### DO IT AGAIN but with the above updates\n",
    "    ##### read in all lines of the file and save them\n",
    "    with open(iisset_file, \"r\") as f:\n",
    "        lines_all = f.readlines()                \n",
    "\n",
    "    ####------------------------------------------------\n",
    "    #### Check to see if cards we want are in file first\n",
    "    ####------------------------------------------------\n",
    "    ##### card flags to see if certain cards are present in the file\n",
    "    card_flag = {}\n",
    "    for card in card_strings:\n",
    "        ### Set the default flag to be False,  if the card is in the file, flip the flag to True\n",
    "        card_flag[card] = False\n",
    "        for line in lines_all:\n",
    "            if card in line:\n",
    "                card_flag[card] = True\n",
    "\n",
    "    ########################################################################################\n",
    "    ###### Re-write the file line-by-line and EDIT the cards that need to be modified    \n",
    "    lines_replace = {}\n",
    "    with open(iisset_file, \"r\") as f:\n",
    "        lines = f.readlines()\n",
    "#         set1 = set(list(card_strings.keys()))\n",
    "        \n",
    "        for line_num, line in enumerate(lines):\n",
    "#             set2 = set(line)\n",
    "            for card in card_strings:\n",
    "                if card in line:\n",
    "                    lines_replace[line_num] = card_strings[card]\n",
    "    with open(iisset_file, \"r\") as f:\n",
    "        lines_all = f.readlines()\n",
    "    with open(iisset_file, \"w\") as f:\n",
    "        for line_num, line in enumerate(lines_all):\n",
    "            if line_num in lines_replace:\n",
    "                f.write(lines_replace[line_num]+'\\n')\n",
    "            else:\n",
    "                 f.write(line)\n",
    "                \n",
    "#     print(lines_replace.keys())\n",
    "\n",
    "    ##### DO IT AGAIN but with the above updates\n",
    "    ###    read in all lines of the file and save them\n",
    "    with open(iisset_file, \"r\") as f:\n",
    "        lines_all = f.readlines()                  \n",
    "    ####----------------------------------------------------\n",
    "    #### Add any cards that we want that are not in the file\n",
    "    ####----------------------------------------------------\n",
    "    for card in card_flag:\n",
    "        if card_flag[card] == False:\n",
    "\n",
    "            with open(iisset_file, \"w\") as f:\n",
    "                for line in lines_all:\n",
    "                    if 'ALBEDO' in line:\n",
    "                        f.write(line)\n",
    "                        f.write(card_strings[card] + ' \\n')                 \n",
    "                    else:\n",
    "                        f.write(line)"
   ]
  },
  {
   "cell_type": "code",
   "execution_count": 4,
   "id": "079820e3",
   "metadata": {
    "ExecuteTime": {
     "end_time": "2021-05-07T18:00:03.025381Z",
     "start_time": "2021-05-07T18:00:02.248299Z"
    }
   },
   "outputs": [],
   "source": [
    "INPUTDIR = '/data/data_geodyn/inputs/icesat2/setups/'\n",
    "ARC = 'iisset.2018.287'\n",
    "SATID = '1807001'\n",
    "iisset_den = '86'\n",
    "\n",
    "\n",
    "clean_iisset_file(INPUTDIR,ARC,SATID,iisset_den)"
   ]
  },
  {
   "cell_type": "code",
   "execution_count": 5,
   "id": "7659f4da",
   "metadata": {
    "ExecuteTime": {
     "end_time": "2021-05-07T18:00:03.039676Z",
     "start_time": "2021-05-07T18:00:03.029282Z"
    }
   },
   "outputs": [],
   "source": [
    "card_strings = {}\n",
    "# card_strings['ORBFIL'] =  'ORBFIL2 31       '+SAT_ID+'     '+str(epoch_start)[:-6]+'  '+str(epoch_end)[:6]+' 24200.00 .100000D+01'\n",
    "# card_strings['ORBTVU'] =  'ORBTVU1021       '+SAT_ID+'     '+str(epoch_start)[:-6]+'  '+str(epoch_end)[:6]+' 24200.00 .100000D+01'\n",
    "card_strings['RESID']  =  'RESIDU12'\n",
    "card_strings['OBSVU']  =  'OBSVU 4'\n",
    "card_strings['PRNTVU'] =  'PRNTVU55212222    22122'  \n",
    "# card_strings['ATMDEN'] =  'ATMDEN  '+ den_model_setupval\n",
    "# card_strings['ATGRAV']  =  'ATGRAV9090              '+epoch_start_minus2days +''+epoch_end_plus1days[:-1]   \n",
    "card_strings['I64G2E']  =  'I64G2E         25'  # using 30 like in st-SLR run maxed out the memory usage\n",
    "# card_strings['SATPAR']  =  'SATPAR   13      '+SAT_ID+'          9.53000000       1514.000'\n",
    "card_strings['SIGMA           1']  =  '               1.0                 1.0'    #10.0D+25            10.0D+25'\n",
    "card_strings['SIGMA           2']  =  '               1.0                 1.0'    #10.0D+25            10.0D+25'\n",
    "card_strings['SIGMA           3']  =  '               1.0                 1.0'    #10.0D+25            10.0D+25'\n",
    "card_strings['SIGMA          51']  =  '               10.0D+25             0.10'    #10.0D+25             0.10'\n",
    "card_strings['SIGMA          85']  =  '               0.010000            0.010000'    #0.010000            0.010000'\n",
    "\n"
   ]
  },
  {
   "cell_type": "code",
   "execution_count": null,
   "id": "b0a43c1b",
   "metadata": {
    "ExecuteTime": {
     "end_time": "2021-05-07T17:22:43.964625Z",
     "start_time": "2021-05-07T17:22:43.950986Z"
    }
   },
   "outputs": [],
   "source": []
  },
  {
   "cell_type": "code",
   "execution_count": null,
   "id": "4a221569",
   "metadata": {
    "ExecuteTime": {
     "end_time": "2021-05-07T17:15:03.202786Z",
     "start_time": "2021-05-07T17:15:02.599Z"
    }
   },
   "outputs": [],
   "source": []
  },
  {
   "cell_type": "code",
   "execution_count": null,
   "id": "e4e582d5",
   "metadata": {
    "ExecuteTime": {
     "end_time": "2021-05-07T17:15:03.203506Z",
     "start_time": "2021-05-07T17:15:02.601Z"
    }
   },
   "outputs": [],
   "source": []
  },
  {
   "cell_type": "code",
   "execution_count": null,
   "id": "66346de2",
   "metadata": {},
   "outputs": [],
   "source": []
  }
 ],
 "metadata": {
  "kernelspec": {
   "display_name": "Python 3",
   "language": "python",
   "name": "python3"
  },
  "language_info": {
   "codemirror_mode": {
    "name": "ipython",
    "version": 3
   },
   "file_extension": ".py",
   "mimetype": "text/x-python",
   "name": "python",
   "nbconvert_exporter": "python",
   "pygments_lexer": "ipython3",
   "version": "3.8.8"
  },
  "toc": {
   "base_numbering": 1,
   "nav_menu": {
    "height": "46px",
    "width": "169px"
   },
   "number_sections": true,
   "sideBar": true,
   "skip_h1_title": false,
   "title_cell": "Table of Contents",
   "title_sidebar": "Contents",
   "toc_cell": false,
   "toc_position": {},
   "toc_section_display": true,
   "toc_window_display": false
  },
  "varInspector": {
   "cols": {
    "lenName": 16,
    "lenType": 16,
    "lenVar": 40
   },
   "kernels_config": {
    "python": {
     "delete_cmd_postfix": "",
     "delete_cmd_prefix": "del ",
     "library": "var_list.py",
     "varRefreshCmd": "print(var_dic_list())"
    },
    "r": {
     "delete_cmd_postfix": ") ",
     "delete_cmd_prefix": "rm(",
     "library": "var_list.r",
     "varRefreshCmd": "cat(var_dic_list()) "
    }
   },
   "types_to_exclude": [
    "module",
    "function",
    "builtin_function_or_method",
    "instance",
    "_Feature"
   ],
   "window_display": false
  }
 },
 "nbformat": 4,
 "nbformat_minor": 5
}
