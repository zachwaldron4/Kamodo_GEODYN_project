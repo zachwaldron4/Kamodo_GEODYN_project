{
 "cells": [
  {
   "cell_type": "code",
   "execution_count": 1,
   "id": "serious-reproduction",
   "metadata": {},
   "outputs": [],
   "source": [
    "%load_ext autoreload\n",
    "%autoreload 2\n",
    "\n",
    "import copy\n",
    "import time\n",
    "import numpy as np\n",
    "from pygeodyn_ReadOutput import pyGeodyn_Readers\n",
    "\n",
    "base_params = {}\n",
    "base_params['run_ID']           =  None\n",
    "base_params['satellite']        = 'starlette'\n",
    "base_params['den_model']        = 'msis00'\n",
    "base_params['empirical_accels'] =  False\n",
    "base_params['SpecialRun_name']  =  None \n",
    "base_params['options_in']       = {'DRHODZ_update':True} \n",
    "base_params['verbose']          =  False\n",
    "base_params['arc'] = [ '030914_2wk',\n",
    "                       '030928_2wk',\n",
    "                       '031012_2wk',\n",
    "#                        '031026_2wk',\n",
    "#                        '031109_2wk',\n",
    "#                        '031123_2wk',\n",
    "#                        '031207_2wk' \n",
    "                     ]"
   ]
  },
  {
   "cell_type": "code",
   "execution_count": 2,
   "id": "acute-charity",
   "metadata": {},
   "outputs": [
    {
     "name": "stdout",
     "output_type": "stream",
     "text": [
      "Calling pygeodyn with multiple arcs...\n",
      "     \n",
      "   \n",
      "     File path: \n",
      "     Loading /data/data_geodyn/results/st/msis00/msis00_acceloff/.../st030914_2wk.goco05s\n",
      "\n",
      "     \n",
      "   \n",
      "     File path: \n",
      "     Loading /data/data_geodyn/results/st/msis00/msis00_acceloff/.../st030928_2wk.goco05s\n",
      "\n",
      "     \n",
      "   \n",
      "     File path: \n",
      "     Loading /data/data_geodyn/results/st/msis00/msis00_acceloff/.../st031012_2wk.goco05s\n",
      "\n"
     ]
    }
   ],
   "source": [
    "from pygeodyn_ReadOutput import pyGeodyn_Readers\n",
    "\n",
    "objmsis00  =  pyGeodyn_Readers( base_params )\n",
    "objmsis00.getData_OnAllArcs()\n"
   ]
  },
  {
   "cell_type": "code",
   "execution_count": null,
   "id": "expanded-latitude",
   "metadata": {},
   "outputs": [],
   "source": []
  },
  {
   "cell_type": "code",
   "execution_count": 4,
   "id": "hired-satisfaction",
   "metadata": {},
   "outputs": [],
   "source": [
    "# from pygeodyn_ReadOutput import pyGeodyn_Readers\n",
    "# from multiprocessing import Process, Value\n",
    "\n",
    "# params_msis2  = copy.deepcopy(base_params) \n",
    "# params_msis2['den_model'] = 'msis2'\n",
    "# params_msis2['arc'] = \n",
    "\n",
    "\n",
    "            \n",
    "# # from multiprocessing import Process\n",
    "\n",
    "\n",
    "# # if __name__ == '__main__':\n",
    "# #     obj_msis2  =  pyGeodyn_Readers( params_msis2 )\n",
    "# #     p = Process(target=obj_msis2.getData_all, args=([]))\n",
    "# #     p.start()\n",
    "# #     p.join()\n"
   ]
  }
 ],
 "metadata": {
  "kernelspec": {
   "display_name": "Python 3",
   "language": "python",
   "name": "python3"
  },
  "language_info": {
   "codemirror_mode": {
    "name": "ipython",
    "version": 3
   },
   "file_extension": ".py",
   "mimetype": "text/x-python",
   "name": "python",
   "nbconvert_exporter": "python",
   "pygments_lexer": "ipython3",
   "version": "3.8.5"
  }
 },
 "nbformat": 4,
 "nbformat_minor": 5
}
