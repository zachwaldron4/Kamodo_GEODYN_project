{
 "cells": [
  {
   "cell_type": "code",
   "execution_count": 1,
   "id": "amazing-drama",
   "metadata": {},
   "outputs": [],
   "source": [
    "%load_ext autoreload\n",
    "%autoreload 2\n",
    "\n",
    "import copy\n",
    "import time\n",
    "from pygeodyn_Control import pygeodyn_CONTROL\n",
    "\n",
    "# 030914_2wk\n",
    "# 030928_2wk\n",
    "# 031012_2wk\n",
    "# 031026_2wk\n",
    "# 031109_2wk\n",
    "# 031123_2wk\n",
    "# 031207_2wk\n",
    "# 031221_2wk"
   ]
  },
  {
   "cell_type": "markdown",
   "id": "visible-terry",
   "metadata": {},
   "source": [
    "## Without DrhoDz Update:\n"
   ]
  },
  {
   "cell_type": "code",
   "execution_count": 2,
   "id": "decreased-andrew",
   "metadata": {},
   "outputs": [],
   "source": [
    "#### CHANGEABLE INPUTS\n",
    "\n",
    "base_params = {}\n",
    "base_params['run_ID']           =  None\n",
    "base_params['arc']              = None \n",
    "\n",
    "base_params['satellite']        = 'starlette'\n",
    "base_params['den_model']        = 'msis86'\n",
    "base_params['empirical_accels'] =  False\n",
    "base_params['SpecialRun_name']  =  '' #'_drhodzOrig'\n",
    "base_params['options_in']       = {'DRHODZ_update':True} \n",
    "base_params['verbose']          =  False\n",
    "\n",
    "\n",
    "params_arc1  = copy.deepcopy(base_params) \n",
    "params_arc2  = copy.deepcopy(base_params) \n",
    "params_arc3  = copy.deepcopy(base_params) \n",
    "params_arc4  = copy.deepcopy(base_params) \n",
    "params_arc5  = copy.deepcopy(base_params) \n",
    "params_arc6  = copy.deepcopy(base_params) \n",
    "params_arc7  = copy.deepcopy(base_params) \n",
    "params_arc8  = copy.deepcopy(base_params) \n",
    "\n",
    "\n",
    "params_arc1['arc']      = '030914_2wk' \n",
    "params_arc1['run_ID']   = 'RUN-Arc1'\n",
    "\n",
    "params_arc2['arc']      = '030928_2wk' \n",
    "params_arc2['run_ID']   = 'RUN-Arc2'\n",
    "\n",
    "params_arc3['arc']      = '031012_2wk' \n",
    "params_arc3['run_ID']   = 'RUN-Arc3'\n",
    "\n",
    "params_arc4['arc']      = '031026_2wk' \n",
    "params_arc4['run_ID']   = 'RUN-Arc4'\n",
    "\n",
    "params_arc5['arc']      = '031109_2wk' \n",
    "params_arc5['run_ID']   = 'RUN-Arc5'\n",
    "\n",
    "params_arc6['arc']      = '031123_2wk' \n",
    "params_arc6['run_ID']   = 'RUN-Arc6'\n",
    "\n",
    "params_arc7['arc']      = '031207_2wk' \n",
    "params_arc7['run_ID']   = 'RUN-Arc7'\n",
    "\n",
    "params_arc8['arc']      = '031221_2wk' \n",
    "params_arc8['run_ID']   = 'RUN-Arc8'\n"
   ]
  },
  {
   "cell_type": "code",
   "execution_count": 3,
   "id": "analyzed-testament",
   "metadata": {},
   "outputs": [
    {
     "name": "stdout",
     "output_type": "stream",
     "text": [
      "RUN-Arc2     Current Time =      20:55:29\n",
      "\n",
      "RUN-Arc2     Density Model:      msis86\n",
      "RUN-Arc2     GEODYN Version:     pygeodyn_MODS\n",
      "RUN-Arc2     Estimate GenAccel:  acceloff\n",
      "RUN-Arc2     ARC run:            st030928_2wk\n",
      "RUN-Arc2     Output directory:   /data/data_geodyn/results/st/msis86/msis86_acceloff\n",
      "RUN-Arc2     Call Options:      {'DRHODZ_update': True}\n",
      "\n",
      "RUN-Arc2          Running IIS\n",
      "RUN-Arc2          No errors in IIS\n",
      "RUN-Arc2 ---------End of IIS\n",
      "\n",
      "RUN-Arc2          Running IIE\n",
      "RUN-Arc2          Current Time = 20:55:45\n",
      "RUN-Arc2          No errors in IIE\n",
      "RUN-Arc2 ---------End of IIE\n",
      "RUN-Arc2          Time of IIE:  1062.3650312423706 secs ( 17.70608385403951  mins)\n",
      "RUN-Arc2          Current Time = 21:13:27\n",
      "File is not in RUN-Arc2 : fort.71 -- emat\n",
      "File is not in RUN-Arc2 : fort.30 -- orbfil\n",
      "File is not in RUN-Arc2 : fort.98 -- msis_in_file\n",
      "File is not in RUN-Arc2 : fort.101 -- msis_out_file\n",
      "File is not in RUN-Arc2 : fort.103 -- msis_SWI_file\n",
      "RUN-Arc2                Finished renaming files\n",
      "RUN-Arc2                Finished copying files to outputdir\n",
      " \n",
      "Total time to run all arcs  :  1083.159039258957 secs | ( 18.052650654315947  mins)\n",
      "( 0.30087751090526577  hours)\n"
     ]
    }
   ],
   "source": [
    "####Initialize the objects:\n",
    "\n",
    "run_geodyn_arc1 = pygeodyn_CONTROL(params_arc1)\n",
    "run_geodyn_arc2 = pygeodyn_CONTROL(params_arc2)\n",
    "run_geodyn_arc3 = pygeodyn_CONTROL(params_arc3)\n",
    "run_geodyn_arc4 = pygeodyn_CONTROL(params_arc4)\n",
    "run_geodyn_arc5 = pygeodyn_CONTROL(params_arc5)\n",
    "run_geodyn_arc6 = pygeodyn_CONTROL(params_arc6)\n",
    "run_geodyn_arc7 = pygeodyn_CONTROL(params_arc7)\n",
    "run_geodyn_arc8 = pygeodyn_CONTROL(params_arc8)\n",
    "\n",
    "\n",
    "####  Run GEODYN for each run object\n",
    "start = time.time()\n",
    "\n",
    "# run_geodyn_arc1.RUN_GEODYN()\n",
    "run_geodyn_arc2.RUN_GEODYN()\n",
    "# run_geodyn_arc3.RUN_GEODYN()\n",
    "# run_geodyn_arc4.RUN_GEODYN()\n",
    "# run_geodyn_arc5.RUN_GEODYN()\n",
    "# run_geodyn_arc6.RUN_GEODYN()\n",
    "# run_geodyn_arc7.RUN_GEODYN()\n",
    "# run_geodyn_arc8.RUN_GEODYN()\n",
    "\n",
    "elapsed = time.time() - start\n",
    "print(' ')\n",
    "print('Total time to run all arcs',' : ',elapsed,'secs | (',str(float(elapsed)/60),' mins)')\n",
    "print(           '(',     str(float(elapsed)/60/60),' hours)')\n"
   ]
  },
  {
   "cell_type": "code",
   "execution_count": null,
   "id": "signal-psychology",
   "metadata": {},
   "outputs": [],
   "source": []
  },
  {
   "cell_type": "code",
   "execution_count": null,
   "id": "mounted-monitoring",
   "metadata": {},
   "outputs": [],
   "source": []
  },
  {
   "cell_type": "code",
   "execution_count": null,
   "id": "varying-basin",
   "metadata": {},
   "outputs": [],
   "source": []
  },
  {
   "cell_type": "code",
   "execution_count": null,
   "id": "occasional-conflict",
   "metadata": {},
   "outputs": [],
   "source": []
  },
  {
   "cell_type": "code",
   "execution_count": null,
   "id": "aggregate-bridal",
   "metadata": {},
   "outputs": [],
   "source": []
  },
  {
   "cell_type": "code",
   "execution_count": null,
   "id": "hairy-domestic",
   "metadata": {},
   "outputs": [],
   "source": []
  },
  {
   "cell_type": "code",
   "execution_count": null,
   "id": "desperate-newsletter",
   "metadata": {},
   "outputs": [],
   "source": []
  },
  {
   "cell_type": "code",
   "execution_count": null,
   "id": "whole-calibration",
   "metadata": {},
   "outputs": [],
   "source": []
  },
  {
   "cell_type": "code",
   "execution_count": null,
   "id": "sonic-guess",
   "metadata": {},
   "outputs": [],
   "source": []
  },
  {
   "cell_type": "code",
   "execution_count": null,
   "id": "digital-kidney",
   "metadata": {},
   "outputs": [],
   "source": []
  },
  {
   "cell_type": "code",
   "execution_count": null,
   "id": "significant-actor",
   "metadata": {},
   "outputs": [],
   "source": []
  },
  {
   "cell_type": "code",
   "execution_count": 4,
   "id": "laden-belarus",
   "metadata": {},
   "outputs": [],
   "source": [
    "# # %load_ext autoreload\n",
    "# # %autoreload 2\n",
    "\n",
    "# import multiprocessing\n",
    "# import time\n",
    "\n",
    "# print('Core Number:', multiprocessing.cpu_count())\n",
    "# from multiprocessing import set_start_method\n",
    "# set_start_method(\"spawn\")\n",
    "\n",
    "# ins1 = [\n",
    "#         (run_geodyn_arc1.RUN_GEODYN()),\n",
    "#         (run_geodyn_arc2.RUN_GEODYN()),\n",
    "#         (run_geodyn_arc3.RUN_GEODYN()),\n",
    "#         (run_geodyn_arc4.RUN_GEODYN()),\n",
    "#         ]\n",
    "# start = time.time()\n",
    "# pool = multiprocessing.Pool(processes=4)\n",
    "\n",
    "\n",
    "# pool.starmap(run_function, ins1)\n",
    "# elapsed = time.time() - start\n",
    "# print(' ')\n",
    "# print('Pools=4, Processes=4',' : ',elapsed,'(',str(float(elapsed)/60),' mins)')\n",
    "\n",
    "\n",
    "\n",
    "\n",
    "\n",
    "\n"
   ]
  },
  {
   "cell_type": "code",
   "execution_count": 5,
   "id": "weekly-textbook",
   "metadata": {},
   "outputs": [],
   "source": [
    "\n",
    "# from pygeodyn_Control import pygeodyn_CONTROL\n",
    "# run_geodyn_msis2 = pygeodyn_CONTROL(params_msis2)\n",
    "# run_geodyn_msis00 = pygeodyn_CONTROL(params_msis00)\n"
   ]
  },
  {
   "cell_type": "code",
   "execution_count": 6,
   "id": "boxed-installation",
   "metadata": {},
   "outputs": [],
   "source": [
    "# run_geodyn_msis2.RUN_GEODYN()\n",
    "# run_geodyn_msis00.RUN_GEODYN()"
   ]
  },
  {
   "cell_type": "code",
   "execution_count": null,
   "id": "constitutional-firewall",
   "metadata": {},
   "outputs": [],
   "source": []
  },
  {
   "cell_type": "code",
   "execution_count": null,
   "id": "loose-italian",
   "metadata": {},
   "outputs": [],
   "source": []
  }
 ],
 "metadata": {
  "kernelspec": {
   "display_name": "Python 3",
   "language": "python",
   "name": "python3"
  },
  "language_info": {
   "codemirror_mode": {
    "name": "ipython",
    "version": 3
   },
   "file_extension": ".py",
   "mimetype": "text/x-python",
   "name": "python",
   "nbconvert_exporter": "python",
   "pygments_lexer": "ipython3",
   "version": "3.8.5"
  }
 },
 "nbformat": 4,
 "nbformat_minor": 5
}
