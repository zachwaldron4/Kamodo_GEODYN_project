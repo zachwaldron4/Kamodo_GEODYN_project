{
 "cells": [
  {
   "cell_type": "code",
   "execution_count": 1,
   "id": "seasonal-russia",
   "metadata": {},
   "outputs": [],
   "source": [
    "%load_ext autoreload\n",
    "%autoreload 2\n",
    "\n",
    "import copy\n",
    "import time\n",
    "# from pygeodyn_Control import pygeodyn_CONTROL\n",
    "\n",
    "base_params = {}\n",
    "base_params['run_ID']           =  None\n",
    "base_params['arc']              = None \n",
    "\n",
    "base_params['satellite']        = 'starlette'\n",
    "base_params['den_model']        = 'msis00'\n",
    "base_params['empirical_accels'] =  False\n",
    "base_params['SpecialRun_name']  =  None \n",
    "base_params['options_in']       = {'DRHODZ_update':True} \n",
    "base_params['verbose']          =  False"
   ]
  },
  {
   "cell_type": "code",
   "execution_count": 2,
   "id": "essential-brazil",
   "metadata": {},
   "outputs": [
    {
     "ename": "SyntaxError",
     "evalue": "invalid syntax (pygeodyn_ReadOutput.py, line 1599)",
     "output_type": "error",
     "traceback": [
      "Traceback \u001b[0;36m(most recent call last)\u001b[0m:\n",
      "  File \u001b[1;32m\"/data/miniconda3/envs/pygeodyn/lib/python3.8/site-packages/IPython/core/interactiveshell.py\"\u001b[0m, line \u001b[1;32m3437\u001b[0m, in \u001b[1;35mrun_code\u001b[0m\n    exec(code_obj, self.user_global_ns, self.user_ns)\n",
      "\u001b[0;36m  File \u001b[0;32m\"<ipython-input-2-b852362abf9d>\"\u001b[0;36m, line \u001b[0;32m1\u001b[0;36m, in \u001b[0;35m<module>\u001b[0;36m\u001b[0m\n\u001b[0;31m    from pygeodyn_ReadOutput import pyGeodyn_Readers\u001b[0m\n",
      "\u001b[0;36m  File \u001b[0;32m\"/data/geodyn_proj/pygeodyn/pygeodyn_ReadOutput.py\"\u001b[0;36m, line \u001b[0;32m1599\u001b[0m\n\u001b[0;31m    def getData_all(self, self.arcs_list):\u001b[0m\n\u001b[0m                              ^\u001b[0m\n\u001b[0;31mSyntaxError\u001b[0m\u001b[0;31m:\u001b[0m invalid syntax\n"
     ]
    }
   ],
   "source": [
    "from pygeodyn_ReadOutput import pyGeodyn_Readers\n",
    "from multiprocessing import Process, Value\n",
    "\n",
    "params_msis2  = copy.deepcopy(base_params) \n",
    "params_msis2['den_model'] = 'msis2'\n",
    "params_msis2['arc'] = '031221_2wk'\n",
    "\n",
    "\n",
    "            \n",
    "# from multiprocessing import Process\n",
    "\n",
    "\n",
    "# if __name__ == '__main__':\n",
    "#     obj_msis2  =  pyGeodyn_Readers( params_msis2 )\n",
    "#     p = Process(target=obj_msis2.getData_all, args=([]))\n",
    "#     p.start()\n",
    "#     p.join()\n"
   ]
  },
  {
   "cell_type": "code",
   "execution_count": null,
   "id": "narrative-rachel",
   "metadata": {},
   "outputs": [],
   "source": []
  }
 ],
 "metadata": {
  "kernelspec": {
   "display_name": "Python 3",
   "language": "python",
   "name": "python3"
  },
  "language_info": {
   "codemirror_mode": {
    "name": "ipython",
    "version": 3
   },
   "file_extension": ".py",
   "mimetype": "text/x-python",
   "name": "python",
   "nbconvert_exporter": "python",
   "pygments_lexer": "ipython3",
   "version": "3.8.5"
  }
 },
 "nbformat": 4,
 "nbformat_minor": 5
}
