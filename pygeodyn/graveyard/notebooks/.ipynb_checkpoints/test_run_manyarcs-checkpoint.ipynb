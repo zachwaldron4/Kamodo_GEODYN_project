{
 "cells": [
  {
   "cell_type": "code",
   "execution_count": 1,
   "id": "mineral-journey",
   "metadata": {},
   "outputs": [],
   "source": [
    "%load_ext autoreload\n",
    "%autoreload 2\n",
    "\n",
    "import copy\n",
    "import time\n",
    "from pygeodyn_Control import pygeodyn_CONTROL\n"
   ]
  },
  {
   "cell_type": "markdown",
   "id": "sophisticated-victoria",
   "metadata": {},
   "source": [
    "## Without DrhoDz"
   ]
  },
  {
   "cell_type": "code",
   "execution_count": 2,
   "id": "basic-calvin",
   "metadata": {},
   "outputs": [],
   "source": [
    "#### CHANGEABLE INPUTS\n",
    "\n",
    "base_params = {}\n",
    "base_params['run_ID']           =  None\n",
    "base_params['arc']              = None \n",
    "\n",
    "base_params['satellite']        = 'starlette'\n",
    "base_params['den_model']        = 'msis2'\n",
    "base_params['empirical_accels'] =  False\n",
    "base_params['SpecialRun_name']  = ''\n",
    "base_params['options_in']       = {'DRHODZ_update':True} \n",
    "base_params['verbose']          =  False\n",
    " "
   ]
  },
  {
   "cell_type": "code",
   "execution_count": 3,
   "id": "mobile-applicant",
   "metadata": {},
   "outputs": [],
   "source": [
    "params_arc1  = copy.deepcopy(base_params) \n",
    "params_arc2  = copy.deepcopy(base_params) \n",
    "params_arc3  = copy.deepcopy(base_params) \n",
    "params_arc4  = copy.deepcopy(base_params) \n",
    "params_arc5  = copy.deepcopy(base_params) \n",
    "params_arc6  = copy.deepcopy(base_params) \n",
    "params_arc7  = copy.deepcopy(base_params) \n",
    "params_arc8  = copy.deepcopy(base_params) \n",
    "\n",
    "params_arc1['arc']      = '030914_2wk' \n",
    "params_arc1['run_ID']   = 'RUN-Arc1'\n",
    "\n",
    "params_arc2['arc']      = '030928_2wk' \n",
    "params_arc2['run_ID']   = 'RUN-Arc2'\n",
    "\n",
    "params_arc3['arc']      = '031012_2wk' \n",
    "params_arc3['run_ID']   = 'RUN-Arc3'\n",
    "\n",
    "params_arc4['arc']      = '031026_2wk' \n",
    "params_arc4['run_ID']   = 'RUN-Arc4'\n",
    "\n",
    "params_arc5['arc']      = '031109_2wk' \n",
    "params_arc5['run_ID']   = 'RUN-Arc5'\n",
    "\n",
    "params_arc6['arc']      = '031123_2wk' \n",
    "params_arc6['run_ID']   = 'RUN-Arc6'\n",
    "\n",
    "params_arc7['arc']      = '031207_2wk' \n",
    "params_arc7['run_ID']   = 'RUN-Arc7'\n",
    "\n",
    "params_arc8['arc']      = '031221_2wk' \n",
    "params_arc8['run_ID']   = 'RUN-Arc8'"
   ]
  },
  {
   "cell_type": "code",
   "execution_count": 4,
   "id": "powerful-eligibility",
   "metadata": {
    "scrolled": false
   },
   "outputs": [],
   "source": [
    "# ####Initialize the objects:\n",
    "# run_geodyn_arc1 = pygeodyn_CONTROL(params_arc1)\n",
    "# run_geodyn_arc2 = pygeodyn_CONTROL(params_arc2)\n",
    "# run_geodyn_arc3 = pygeodyn_CONTROL(params_arc3)\n",
    "# run_geodyn_arc4 = pygeodyn_CONTROL(params_arc4)\n",
    "# run_geodyn_arc5 = pygeodyn_CONTROL(params_arc5)\n",
    "# run_geodyn_arc6 = pygeodyn_CONTROL(params_arc6)\n",
    "# run_geodyn_arc7 = pygeodyn_CONTROL(params_arc7)\n",
    "# run_geodyn_arc8 = pygeodyn_CONTROL(params_arc8)\n",
    "\n",
    "\n",
    "# ####  Run GEODYN for each run object\n",
    "# start = time.time()\n",
    "\n",
    "# run_geodyn_arc1.RUN_GEODYN()\n",
    "# run_geodyn_arc2.RUN_GEODYN()\n",
    "# run_geodyn_arc3.RUN_GEODYN()\n",
    "# run_geodyn_arc4.RUN_GEODYN()\n",
    "# run_geodyn_arc5.RUN_GEODYN()\n",
    "# run_geodyn_arc6.RUN_GEODYN()\n",
    "# run_geodyn_arc7.RUN_GEODYN()\n",
    "# run_geodyn_arc8.RUN_GEODYN()\n",
    "\n",
    "\n",
    "# elapsed = time.time() - start\n",
    "# print(' ')\n",
    "# print('Total time to run all arcs',' : ',elapsed,'secs | (',str(float(elapsed)/60),' mins)')\n",
    "# print(           '(',     str(float(elapsed)/60/60),' hours)')\n"
   ]
  },
  {
   "cell_type": "markdown",
   "id": "ideal-atlas",
   "metadata": {},
   "source": [
    "## Without DrhoDz"
   ]
  },
  {
   "cell_type": "code",
   "execution_count": 5,
   "id": "electric-specification",
   "metadata": {},
   "outputs": [],
   "source": [
    "#### CHANGEABLE INPUTS\n",
    "\n",
    "base_params = {}\n",
    "base_params['run_ID']           =  None\n",
    "base_params['arc']              = None \n",
    "\n",
    "base_params['satellite']        = 'starlette'\n",
    "base_params['den_model']        = 'msis2'\n",
    "base_params['empirical_accels'] =  False\n",
    "base_params['SpecialRun_name']  = '_drhodzOrig'\n",
    "base_params['options_in']       = {'DRHODZ_update':False} \n",
    "base_params['verbose']          =  False\n",
    " \n",
    "\n",
    "\n",
    "params_arc1  = copy.deepcopy(base_params) \n",
    "params_arc2  = copy.deepcopy(base_params) \n",
    "params_arc3  = copy.deepcopy(base_params) \n",
    "params_arc4  = copy.deepcopy(base_params) \n",
    "params_arc5  = copy.deepcopy(base_params) \n",
    "params_arc6  = copy.deepcopy(base_params) \n",
    "params_arc7  = copy.deepcopy(base_params) \n",
    "params_arc8  = copy.deepcopy(base_params) \n",
    "\n",
    "# 030914_2wk\n",
    "# 030928_2wk\n",
    "# 031012_2wk\n",
    "# 031026_2wk\n",
    "# 031109_2wk\n",
    "# 031123_2wk\n",
    "# 031207_2wk\n",
    "# 031221_2wk\n",
    "\n",
    "params_arc1['arc']      = '030914_2wk' \n",
    "params_arc1['run_ID']   = 'RUN-Arc1'\n",
    "\n",
    "params_arc2['arc']      = '030928_2wk' \n",
    "params_arc2['run_ID']   = 'RUN-Arc2'\n",
    "\n",
    "params_arc3['arc']      = '031012_2wk' \n",
    "params_arc3['run_ID']   = 'RUN-Arc3'\n",
    "\n",
    "params_arc4['arc']      = '031026_2wk' \n",
    "params_arc4['run_ID']   = 'RUN-Arc4'\n",
    "\n",
    "params_arc5['arc']      = '031109_2wk' \n",
    "params_arc5['run_ID']   = 'RUN-Arc5'\n",
    "\n",
    "params_arc6['arc']      = '031123_2wk' \n",
    "params_arc6['run_ID']   = 'RUN-Arc6'\n",
    "\n",
    "params_arc7['arc']      = '031207_2wk' \n",
    "params_arc7['run_ID']   = 'RUN-Arc7'\n",
    "\n",
    "params_arc8['arc']      = '031221_2wk' \n",
    "params_arc8['run_ID']   = 'RUN-Arc8'\n"
   ]
  },
  {
   "cell_type": "code",
   "execution_count": 6,
   "id": "perceived-travel",
   "metadata": {},
   "outputs": [
    {
     "name": "stdout",
     "output_type": "stream",
     "text": [
      "RUN-Arc1     Current Time =      22:20:53\n",
      "\n",
      "RUN-Arc1     Density Model:      msis2\n",
      "RUN-Arc1     GEODYN Version:     pygeodyn_MODS\n",
      "RUN-Arc1     Estimate GenAccel:  acceloff\n",
      "RUN-Arc1     ARC run:            st030914_2wk\n",
      "RUN-Arc1     Output directory:   /data/data_geodyn/results/st/msis2/msis2_acceloff_drhodzOrig\n",
      "RUN-Arc1     Call Options:      {'DRHODZ_update': False}\n",
      "\n",
      "RUN-Arc1          Running IIS\n",
      "RUN-Arc1          No errors in IIS\n",
      "RUN-Arc1 ---------End of IIS\n",
      "\n",
      "RUN-Arc1          Running IIE\n",
      "RUN-Arc1          Current Time = 22:21:11\n"
     ]
    },
    {
     "ename": "KeyboardInterrupt",
     "evalue": "",
     "output_type": "error",
     "traceback": [
      "\u001b[0;31m---------------------------------------------------------------------------\u001b[0m",
      "\u001b[0;31mKeyboardInterrupt\u001b[0m                         Traceback (most recent call last)",
      "\u001b[0;32m<ipython-input-6-6e4c09c226a2>\u001b[0m in \u001b[0;36m<module>\u001b[0;34m\u001b[0m\n\u001b[1;32m     14\u001b[0m \u001b[0mstart\u001b[0m \u001b[0;34m=\u001b[0m \u001b[0mtime\u001b[0m\u001b[0;34m.\u001b[0m\u001b[0mtime\u001b[0m\u001b[0;34m(\u001b[0m\u001b[0;34m)\u001b[0m\u001b[0;34m\u001b[0m\u001b[0;34m\u001b[0m\u001b[0m\n\u001b[1;32m     15\u001b[0m \u001b[0;34m\u001b[0m\u001b[0m\n\u001b[0;32m---> 16\u001b[0;31m \u001b[0mrun_geodyn_arc1\u001b[0m\u001b[0;34m.\u001b[0m\u001b[0mRUN_GEODYN\u001b[0m\u001b[0;34m(\u001b[0m\u001b[0;34m)\u001b[0m\u001b[0;34m\u001b[0m\u001b[0;34m\u001b[0m\u001b[0m\n\u001b[0m\u001b[1;32m     17\u001b[0m \u001b[0mrun_geodyn_arc2\u001b[0m\u001b[0;34m.\u001b[0m\u001b[0mRUN_GEODYN\u001b[0m\u001b[0;34m(\u001b[0m\u001b[0;34m)\u001b[0m\u001b[0;34m\u001b[0m\u001b[0;34m\u001b[0m\u001b[0m\n\u001b[1;32m     18\u001b[0m \u001b[0mrun_geodyn_arc3\u001b[0m\u001b[0;34m.\u001b[0m\u001b[0mRUN_GEODYN\u001b[0m\u001b[0;34m(\u001b[0m\u001b[0;34m)\u001b[0m\u001b[0;34m\u001b[0m\u001b[0;34m\u001b[0m\u001b[0m\n",
      "\u001b[0;32m/data/geodyn_proj/pygeodyn/pygeodyn_Control.py\u001b[0m in \u001b[0;36mRUN_GEODYN\u001b[0;34m(self)\u001b[0m\n\u001b[1;32m    577\u001b[0m         \u001b[0mself\u001b[0m\u001b[0;34m.\u001b[0m\u001b[0msetup_directories_and_geodyn_input\u001b[0m\u001b[0;34m(\u001b[0m\u001b[0;34m)\u001b[0m\u001b[0;34m\u001b[0m\u001b[0;34m\u001b[0m\u001b[0m\n\u001b[1;32m    578\u001b[0m         \u001b[0mself\u001b[0m\u001b[0;34m.\u001b[0m\u001b[0mprepare_tmpdir_for_geodyn_run\u001b[0m\u001b[0;34m(\u001b[0m\u001b[0;34m)\u001b[0m\u001b[0;34m\u001b[0m\u001b[0;34m\u001b[0m\u001b[0m\n\u001b[0;32m--> 579\u001b[0;31m         \u001b[0mself\u001b[0m\u001b[0;34m.\u001b[0m\u001b[0mrun_geodyn_in_tmpdir\u001b[0m\u001b[0;34m(\u001b[0m\u001b[0;34m)\u001b[0m\u001b[0;34m\u001b[0m\u001b[0;34m\u001b[0m\u001b[0m\n\u001b[0m\u001b[1;32m    580\u001b[0m         \u001b[0mself\u001b[0m\u001b[0;34m.\u001b[0m\u001b[0mpost_geodynrun_savefiles_and_cleanup\u001b[0m\u001b[0;34m(\u001b[0m\u001b[0;34m)\u001b[0m\u001b[0;34m\u001b[0m\u001b[0;34m\u001b[0m\u001b[0m\n\u001b[1;32m    581\u001b[0m \u001b[0;34m\u001b[0m\u001b[0m\n",
      "\u001b[0;32m/data/geodyn_proj/pygeodyn/pygeodyn_Control.py\u001b[0m in \u001b[0;36mrun_geodyn_in_tmpdir\u001b[0;34m(self)\u001b[0m\n\u001b[1;32m    394\u001b[0m         \u001b[0mcommand_IIE\u001b[0m \u001b[0;34m=\u001b[0m \u001b[0mself\u001b[0m\u001b[0;34m.\u001b[0m\u001b[0mG2EDIR\u001b[0m\u001b[0;34m+\u001b[0m\u001b[0;34m'/giie2002_gfortran > '\u001b[0m\u001b[0;34m+\u001b[0m\u001b[0;34m'iieout 2> '\u001b[0m\u001b[0;34m+\u001b[0m\u001b[0;34m'iieerr'\u001b[0m\u001b[0;34m\u001b[0m\u001b[0;34m\u001b[0m\u001b[0m\n\u001b[1;32m    395\u001b[0m         \u001b[0mtime\u001b[0m\u001b[0;34m.\u001b[0m\u001b[0msleep\u001b[0m\u001b[0;34m(\u001b[0m\u001b[0;36m0.5\u001b[0m\u001b[0;34m)\u001b[0m\u001b[0;34m\u001b[0m\u001b[0;34m\u001b[0m\u001b[0m\n\u001b[0;32m--> 396\u001b[0;31m         \u001b[0msubprocess\u001b[0m\u001b[0;34m.\u001b[0m\u001b[0mrun\u001b[0m\u001b[0;34m(\u001b[0m\u001b[0mcommand_IIE\u001b[0m\u001b[0;34m,\u001b[0m \u001b[0mshell\u001b[0m \u001b[0;34m=\u001b[0m \u001b[0;32mTrue\u001b[0m\u001b[0;34m)\u001b[0m\u001b[0;34m\u001b[0m\u001b[0;34m\u001b[0m\u001b[0m\n\u001b[0m\u001b[1;32m    397\u001b[0m         \u001b[0mtime\u001b[0m\u001b[0;34m.\u001b[0m\u001b[0msleep\u001b[0m\u001b[0;34m(\u001b[0m\u001b[0;36m0.5\u001b[0m\u001b[0;34m)\u001b[0m\u001b[0;34m\u001b[0m\u001b[0;34m\u001b[0m\u001b[0m\n\u001b[1;32m    398\u001b[0m \u001b[0;34m\u001b[0m\u001b[0m\n",
      "\u001b[0;32m/data/miniconda3/envs/pygeodyn/lib/python3.8/subprocess.py\u001b[0m in \u001b[0;36mrun\u001b[0;34m(input, capture_output, timeout, check, *popenargs, **kwargs)\u001b[0m\n\u001b[1;32m    489\u001b[0m     \u001b[0;32mwith\u001b[0m \u001b[0mPopen\u001b[0m\u001b[0;34m(\u001b[0m\u001b[0;34m*\u001b[0m\u001b[0mpopenargs\u001b[0m\u001b[0;34m,\u001b[0m \u001b[0;34m**\u001b[0m\u001b[0mkwargs\u001b[0m\u001b[0;34m)\u001b[0m \u001b[0;32mas\u001b[0m \u001b[0mprocess\u001b[0m\u001b[0;34m:\u001b[0m\u001b[0;34m\u001b[0m\u001b[0;34m\u001b[0m\u001b[0m\n\u001b[1;32m    490\u001b[0m         \u001b[0;32mtry\u001b[0m\u001b[0;34m:\u001b[0m\u001b[0;34m\u001b[0m\u001b[0;34m\u001b[0m\u001b[0m\n\u001b[0;32m--> 491\u001b[0;31m             \u001b[0mstdout\u001b[0m\u001b[0;34m,\u001b[0m \u001b[0mstderr\u001b[0m \u001b[0;34m=\u001b[0m \u001b[0mprocess\u001b[0m\u001b[0;34m.\u001b[0m\u001b[0mcommunicate\u001b[0m\u001b[0;34m(\u001b[0m\u001b[0minput\u001b[0m\u001b[0;34m,\u001b[0m \u001b[0mtimeout\u001b[0m\u001b[0;34m=\u001b[0m\u001b[0mtimeout\u001b[0m\u001b[0;34m)\u001b[0m\u001b[0;34m\u001b[0m\u001b[0;34m\u001b[0m\u001b[0m\n\u001b[0m\u001b[1;32m    492\u001b[0m         \u001b[0;32mexcept\u001b[0m \u001b[0mTimeoutExpired\u001b[0m \u001b[0;32mas\u001b[0m \u001b[0mexc\u001b[0m\u001b[0;34m:\u001b[0m\u001b[0;34m\u001b[0m\u001b[0;34m\u001b[0m\u001b[0m\n\u001b[1;32m    493\u001b[0m             \u001b[0mprocess\u001b[0m\u001b[0;34m.\u001b[0m\u001b[0mkill\u001b[0m\u001b[0;34m(\u001b[0m\u001b[0;34m)\u001b[0m\u001b[0;34m\u001b[0m\u001b[0;34m\u001b[0m\u001b[0m\n",
      "\u001b[0;32m/data/miniconda3/envs/pygeodyn/lib/python3.8/subprocess.py\u001b[0m in \u001b[0;36mcommunicate\u001b[0;34m(self, input, timeout)\u001b[0m\n\u001b[1;32m   1014\u001b[0m                 \u001b[0mstderr\u001b[0m \u001b[0;34m=\u001b[0m \u001b[0mself\u001b[0m\u001b[0;34m.\u001b[0m\u001b[0mstderr\u001b[0m\u001b[0;34m.\u001b[0m\u001b[0mread\u001b[0m\u001b[0;34m(\u001b[0m\u001b[0;34m)\u001b[0m\u001b[0;34m\u001b[0m\u001b[0;34m\u001b[0m\u001b[0m\n\u001b[1;32m   1015\u001b[0m                 \u001b[0mself\u001b[0m\u001b[0;34m.\u001b[0m\u001b[0mstderr\u001b[0m\u001b[0;34m.\u001b[0m\u001b[0mclose\u001b[0m\u001b[0;34m(\u001b[0m\u001b[0;34m)\u001b[0m\u001b[0;34m\u001b[0m\u001b[0;34m\u001b[0m\u001b[0m\n\u001b[0;32m-> 1016\u001b[0;31m             \u001b[0mself\u001b[0m\u001b[0;34m.\u001b[0m\u001b[0mwait\u001b[0m\u001b[0;34m(\u001b[0m\u001b[0;34m)\u001b[0m\u001b[0;34m\u001b[0m\u001b[0;34m\u001b[0m\u001b[0m\n\u001b[0m\u001b[1;32m   1017\u001b[0m         \u001b[0;32melse\u001b[0m\u001b[0;34m:\u001b[0m\u001b[0;34m\u001b[0m\u001b[0;34m\u001b[0m\u001b[0m\n\u001b[1;32m   1018\u001b[0m             \u001b[0;32mif\u001b[0m \u001b[0mtimeout\u001b[0m \u001b[0;32mis\u001b[0m \u001b[0;32mnot\u001b[0m \u001b[0;32mNone\u001b[0m\u001b[0;34m:\u001b[0m\u001b[0;34m\u001b[0m\u001b[0;34m\u001b[0m\u001b[0m\n",
      "\u001b[0;32m/data/miniconda3/envs/pygeodyn/lib/python3.8/subprocess.py\u001b[0m in \u001b[0;36mwait\u001b[0;34m(self, timeout)\u001b[0m\n\u001b[1;32m   1077\u001b[0m             \u001b[0mendtime\u001b[0m \u001b[0;34m=\u001b[0m \u001b[0m_time\u001b[0m\u001b[0;34m(\u001b[0m\u001b[0;34m)\u001b[0m \u001b[0;34m+\u001b[0m \u001b[0mtimeout\u001b[0m\u001b[0;34m\u001b[0m\u001b[0;34m\u001b[0m\u001b[0m\n\u001b[1;32m   1078\u001b[0m         \u001b[0;32mtry\u001b[0m\u001b[0;34m:\u001b[0m\u001b[0;34m\u001b[0m\u001b[0;34m\u001b[0m\u001b[0m\n\u001b[0;32m-> 1079\u001b[0;31m             \u001b[0;32mreturn\u001b[0m \u001b[0mself\u001b[0m\u001b[0;34m.\u001b[0m\u001b[0m_wait\u001b[0m\u001b[0;34m(\u001b[0m\u001b[0mtimeout\u001b[0m\u001b[0;34m=\u001b[0m\u001b[0mtimeout\u001b[0m\u001b[0;34m)\u001b[0m\u001b[0;34m\u001b[0m\u001b[0;34m\u001b[0m\u001b[0m\n\u001b[0m\u001b[1;32m   1080\u001b[0m         \u001b[0;32mexcept\u001b[0m \u001b[0mKeyboardInterrupt\u001b[0m\u001b[0;34m:\u001b[0m\u001b[0;34m\u001b[0m\u001b[0;34m\u001b[0m\u001b[0m\n\u001b[1;32m   1081\u001b[0m             \u001b[0;31m# https://bugs.python.org/issue25942\u001b[0m\u001b[0;34m\u001b[0m\u001b[0;34m\u001b[0m\u001b[0;34m\u001b[0m\u001b[0m\n",
      "\u001b[0;32m/data/miniconda3/envs/pygeodyn/lib/python3.8/subprocess.py\u001b[0m in \u001b[0;36m_wait\u001b[0;34m(self, timeout)\u001b[0m\n\u001b[1;32m   1802\u001b[0m                         \u001b[0;32mif\u001b[0m \u001b[0mself\u001b[0m\u001b[0;34m.\u001b[0m\u001b[0mreturncode\u001b[0m \u001b[0;32mis\u001b[0m \u001b[0;32mnot\u001b[0m \u001b[0;32mNone\u001b[0m\u001b[0;34m:\u001b[0m\u001b[0;34m\u001b[0m\u001b[0;34m\u001b[0m\u001b[0m\n\u001b[1;32m   1803\u001b[0m                             \u001b[0;32mbreak\u001b[0m  \u001b[0;31m# Another thread waited.\u001b[0m\u001b[0;34m\u001b[0m\u001b[0;34m\u001b[0m\u001b[0m\n\u001b[0;32m-> 1804\u001b[0;31m                         \u001b[0;34m(\u001b[0m\u001b[0mpid\u001b[0m\u001b[0;34m,\u001b[0m \u001b[0msts\u001b[0m\u001b[0;34m)\u001b[0m \u001b[0;34m=\u001b[0m \u001b[0mself\u001b[0m\u001b[0;34m.\u001b[0m\u001b[0m_try_wait\u001b[0m\u001b[0;34m(\u001b[0m\u001b[0;36m0\u001b[0m\u001b[0;34m)\u001b[0m\u001b[0;34m\u001b[0m\u001b[0;34m\u001b[0m\u001b[0m\n\u001b[0m\u001b[1;32m   1805\u001b[0m                         \u001b[0;31m# Check the pid and loop as waitpid has been known to\u001b[0m\u001b[0;34m\u001b[0m\u001b[0;34m\u001b[0m\u001b[0;34m\u001b[0m\u001b[0m\n\u001b[1;32m   1806\u001b[0m                         \u001b[0;31m# return 0 even without WNOHANG in odd situations.\u001b[0m\u001b[0;34m\u001b[0m\u001b[0;34m\u001b[0m\u001b[0;34m\u001b[0m\u001b[0m\n",
      "\u001b[0;32m/data/miniconda3/envs/pygeodyn/lib/python3.8/subprocess.py\u001b[0m in \u001b[0;36m_try_wait\u001b[0;34m(self, wait_flags)\u001b[0m\n\u001b[1;32m   1760\u001b[0m             \u001b[0;34m\"\"\"All callers to this function MUST hold self._waitpid_lock.\"\"\"\u001b[0m\u001b[0;34m\u001b[0m\u001b[0;34m\u001b[0m\u001b[0m\n\u001b[1;32m   1761\u001b[0m             \u001b[0;32mtry\u001b[0m\u001b[0;34m:\u001b[0m\u001b[0;34m\u001b[0m\u001b[0;34m\u001b[0m\u001b[0m\n\u001b[0;32m-> 1762\u001b[0;31m                 \u001b[0;34m(\u001b[0m\u001b[0mpid\u001b[0m\u001b[0;34m,\u001b[0m \u001b[0msts\u001b[0m\u001b[0;34m)\u001b[0m \u001b[0;34m=\u001b[0m \u001b[0mos\u001b[0m\u001b[0;34m.\u001b[0m\u001b[0mwaitpid\u001b[0m\u001b[0;34m(\u001b[0m\u001b[0mself\u001b[0m\u001b[0;34m.\u001b[0m\u001b[0mpid\u001b[0m\u001b[0;34m,\u001b[0m \u001b[0mwait_flags\u001b[0m\u001b[0;34m)\u001b[0m\u001b[0;34m\u001b[0m\u001b[0;34m\u001b[0m\u001b[0m\n\u001b[0m\u001b[1;32m   1763\u001b[0m             \u001b[0;32mexcept\u001b[0m \u001b[0mChildProcessError\u001b[0m\u001b[0;34m:\u001b[0m\u001b[0;34m\u001b[0m\u001b[0;34m\u001b[0m\u001b[0m\n\u001b[1;32m   1764\u001b[0m                 \u001b[0;31m# This happens if SIGCLD is set to be ignored or waiting\u001b[0m\u001b[0;34m\u001b[0m\u001b[0;34m\u001b[0m\u001b[0;34m\u001b[0m\u001b[0m\n",
      "\u001b[0;31mKeyboardInterrupt\u001b[0m: "
     ]
    }
   ],
   "source": [
    "####Initialize the objects:\n",
    "\n",
    "run_geodyn_arc1 = pygeodyn_CONTROL(params_arc1)\n",
    "run_geodyn_arc2 = pygeodyn_CONTROL(params_arc2)\n",
    "run_geodyn_arc3 = pygeodyn_CONTROL(params_arc3)\n",
    "run_geodyn_arc4 = pygeodyn_CONTROL(params_arc4)\n",
    "run_geodyn_arc5 = pygeodyn_CONTROL(params_arc5)\n",
    "run_geodyn_arc6 = pygeodyn_CONTROL(params_arc6)\n",
    "run_geodyn_arc7 = pygeodyn_CONTROL(params_arc7)\n",
    "run_geodyn_arc8 = pygeodyn_CONTROL(params_arc8)\n",
    "\n",
    "\n",
    "####  Run GEODYN for each run object\n",
    "start = time.time()\n",
    "\n",
    "run_geodyn_arc1.RUN_GEODYN()\n",
    "run_geodyn_arc2.RUN_GEODYN()\n",
    "run_geodyn_arc3.RUN_GEODYN()\n",
    "run_geodyn_arc4.RUN_GEODYN()\n",
    "run_geodyn_arc5.RUN_GEODYN()\n",
    "run_geodyn_arc6.RUN_GEODYN()\n",
    "run_geodyn_arc7.RUN_GEODYN()\n",
    "run_geodyn_arc8.RUN_GEODYN()\n",
    "\n",
    "elapsed = time.time() - start\n",
    "print(' ')\n",
    "print('Total time to run all arcs',' : ',elapsed,'secs | (',str(float(elapsed)/60),' mins)')\n",
    "print(           '(',     str(float(elapsed)/60/60),' hours)')\n"
   ]
  },
  {
   "cell_type": "code",
   "execution_count": null,
   "id": "attended-contribution",
   "metadata": {},
   "outputs": [],
   "source": []
  },
  {
   "cell_type": "code",
   "execution_count": null,
   "id": "wanted-scheme",
   "metadata": {},
   "outputs": [],
   "source": []
  },
  {
   "cell_type": "code",
   "execution_count": null,
   "id": "dutch-manufacturer",
   "metadata": {},
   "outputs": [],
   "source": []
  },
  {
   "cell_type": "code",
   "execution_count": null,
   "id": "convenient-culture",
   "metadata": {},
   "outputs": [],
   "source": []
  },
  {
   "cell_type": "code",
   "execution_count": null,
   "id": "united-joyce",
   "metadata": {},
   "outputs": [],
   "source": []
  },
  {
   "cell_type": "code",
   "execution_count": null,
   "id": "mexican-homeless",
   "metadata": {},
   "outputs": [],
   "source": []
  },
  {
   "cell_type": "code",
   "execution_count": null,
   "id": "closed-horse",
   "metadata": {},
   "outputs": [],
   "source": []
  },
  {
   "cell_type": "code",
   "execution_count": null,
   "id": "exact-consideration",
   "metadata": {},
   "outputs": [],
   "source": []
  },
  {
   "cell_type": "code",
   "execution_count": null,
   "id": "handmade-israel",
   "metadata": {},
   "outputs": [],
   "source": []
  },
  {
   "cell_type": "code",
   "execution_count": null,
   "id": "fatty-harmony",
   "metadata": {},
   "outputs": [],
   "source": []
  },
  {
   "cell_type": "code",
   "execution_count": null,
   "id": "regional-ottawa",
   "metadata": {},
   "outputs": [],
   "source": []
  },
  {
   "cell_type": "code",
   "execution_count": null,
   "id": "entertaining-rachel",
   "metadata": {},
   "outputs": [],
   "source": [
    "# # %load_ext autoreload\n",
    "# # %autoreload 2\n",
    "\n",
    "# import multiprocessing\n",
    "# import time\n",
    "\n",
    "# print('Core Number:', multiprocessing.cpu_count())\n",
    "# from multiprocessing import set_start_method\n",
    "# set_start_method(\"spawn\")\n",
    "\n",
    "# ins1 = [\n",
    "#         (run_geodyn_arc1.RUN_GEODYN()),\n",
    "#         (run_geodyn_arc2.RUN_GEODYN()),\n",
    "#         (run_geodyn_arc3.RUN_GEODYN()),\n",
    "#         (run_geodyn_arc4.RUN_GEODYN()),\n",
    "#         ]\n",
    "# start = time.time()\n",
    "# pool = multiprocessing.Pool(processes=4)\n",
    "# pool.starmap(ins1)\n",
    "# elapsed = time.time() - start\n",
    "# print(' ')\n",
    "# print('Pools=4, Processes=4',' : ',elapsed,'(',str(float(elapsed)/60),' mins)')\n",
    "\n",
    "\n",
    "\n",
    "# ins2 = [\n",
    "#         (run_geodyn_arc5.RUN_GEODYN()),\n",
    "#         (run_geodyn_arc6.RUN_GEODYN()),\n",
    "#         (run_geodyn_arc7.RUN_GEODYN()),\n",
    "#         (run_geodyn_arc8.RUN_GEODYN()),\n",
    "#     ]\n",
    "# start = time.time()\n",
    "# pool = multiprocessing.Pool(processes=4)\n",
    "# pool.starmap(ins2)\n",
    "# elapsed = time.time() - start\n",
    "# print(' ')\n",
    "# print('Pools=4, Processes=4',' : ',elapsed,'(',str(float(elapsed)/60),' mins)')\n",
    "\n",
    "\n",
    "\n"
   ]
  },
  {
   "cell_type": "code",
   "execution_count": null,
   "id": "racial-meditation",
   "metadata": {},
   "outputs": [],
   "source": [
    "\n",
    "# from pygeodyn_Control import pygeodyn_CONTROL\n",
    "# run_geodyn_msis2 = pygeodyn_CONTROL(params_msis2)\n",
    "# run_geodyn_msis00 = pygeodyn_CONTROL(params_msis00)\n"
   ]
  },
  {
   "cell_type": "code",
   "execution_count": null,
   "id": "aerial-satellite",
   "metadata": {},
   "outputs": [],
   "source": [
    "# run_geodyn_msis2.RUN_GEODYN()\n",
    "# run_geodyn_msis00.RUN_GEODYN()"
   ]
  },
  {
   "cell_type": "code",
   "execution_count": null,
   "id": "civilian-tiger",
   "metadata": {},
   "outputs": [],
   "source": []
  },
  {
   "cell_type": "code",
   "execution_count": null,
   "id": "stunning-locking",
   "metadata": {},
   "outputs": [],
   "source": []
  }
 ],
 "metadata": {
  "kernelspec": {
   "display_name": "Python 3",
   "language": "python",
   "name": "python3"
  },
  "language_info": {
   "codemirror_mode": {
    "name": "ipython",
    "version": 3
   },
   "file_extension": ".py",
   "mimetype": "text/x-python",
   "name": "python",
   "nbconvert_exporter": "python",
   "pygments_lexer": "ipython3",
   "version": "3.8.5"
  }
 },
 "nbformat": 4,
 "nbformat_minor": 5
}
