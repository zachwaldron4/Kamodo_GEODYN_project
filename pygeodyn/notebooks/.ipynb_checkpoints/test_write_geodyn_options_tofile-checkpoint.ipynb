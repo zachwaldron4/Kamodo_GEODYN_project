{
 "cells": [
  {
   "cell_type": "code",
   "execution_count": 1,
   "id": "confident-topic",
   "metadata": {},
   "outputs": [],
   "source": [
    "# store its reference in the variable file1 \n",
    "# and \"MyFile2.txt\" in D:\\Text in file2\n",
    "file1 = open(\"/data/geodyn_proj/geodyn_code/IIE/test_MODS_msis00/geodyn_options.txt\",\"w+\")\n",
    "\n",
    "file1.writelines('1\\n')\n",
    "file1.writelines('0\\n')\n",
    "file1.writelines('0\\n')\n",
    "\n",
    "\n",
    "file1.close()\n"
   ]
  },
  {
   "cell_type": "code",
   "execution_count": null,
   "id": "loving-google",
   "metadata": {},
   "outputs": [],
   "source": []
  }
 ],
 "metadata": {
  "kernelspec": {
   "display_name": "Python 3",
   "language": "python",
   "name": "python3"
  },
  "language_info": {
   "codemirror_mode": {
    "name": "ipython",
    "version": 3
   },
   "file_extension": ".py",
   "mimetype": "text/x-python",
   "name": "python",
   "nbconvert_exporter": "python",
   "pygments_lexer": "ipython3",
   "version": "3.8.5"
  }
 },
 "nbformat": 4,
 "nbformat_minor": 5
}
