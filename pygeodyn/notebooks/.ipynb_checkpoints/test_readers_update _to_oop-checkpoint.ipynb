{
 "cells": [
  {
   "cell_type": "code",
   "execution_count": 1,
   "id": "controlling-amendment",
   "metadata": {},
   "outputs": [],
   "source": [
    "%load_ext autoreload\n",
    "%autoreload 2\n",
    "\n",
    "from pygeodyn_ReadOutput import pyGeodyn_Readers\n",
    "\n",
    "run_params = {}\n",
    "run_params['run_ID']        = 'RUN'\n",
    "run_params['satellite']     = 'starlette'\n",
    "run_params['den_model']      = None\n",
    "run_params['empirical_accels'] = False\n",
    "run_params['SpecialRun_name'] = ''\n",
    "run_params['arc']        = '031026_2wk' \n",
    "run_params['options_in']      = {'DRHODZ_update':True} \n",
    "run_params['verbose']         = False"
   ]
  },
  {
   "cell_type": "code",
   "execution_count": 2,
   "id": "persistent-arrival",
   "metadata": {},
   "outputs": [],
   "source": [
    "import copy\n",
    "params_msis2  = copy.deepcopy(run_params) \n",
    "params_msis2['den_model'] = 'msis2'\n",
    "# params_msis2['run_ID']   = 'RUN  2'\n"
   ]
  },
  {
   "cell_type": "code",
   "execution_count": 3,
   "id": "departmental-dispatch",
   "metadata": {},
   "outputs": [
    {
     "name": "stdout",
     "output_type": "stream",
     "text": [
      "     \n",
      "   \n",
      "     File path: \n",
      "     Loading /data/data_geodyn/results/st/msis2/msis2_acceloff/.../st031026_2wk.goco05s\n",
      "\n"
     ]
    }
   ],
   "source": [
    "msis2_obj = pyGeodyn_Readers( params_msis2 )\n",
    "msis2_obj.getData_all()"
   ]
  },
  {
   "cell_type": "code",
   "execution_count": 7,
   "id": "distributed-chess",
   "metadata": {},
   "outputs": [
    {
     "data": {
      "text/plain": [
       "{'satellite': 'starlette',\n",
       " 'den_model': 'msis2',\n",
       " 'empirical_accels': False,\n",
       " 'SpecialRun_name': '',\n",
       " 'arc': '031026_2wk',\n",
       " 'options_in': {'DRHODZ_update': True},\n",
       " 'verbose': False,\n",
       " 'run_ID': 'RUN',\n",
       " 'SATELLITE_dir': 'st',\n",
       " 'SATID': '7501001',\n",
       " 'YR': 2003,\n",
       " 'DATA_TYPE': 'SLR',\n",
       " 'grav_id': 'goco05s',\n",
       " 'DEN_DIR': 'msis2',\n",
       " 'SETUP_DEN_DIR': 'msis',\n",
       " 'GDYN_version': 'pygeodyn_MODS',\n",
       " 'ACCELS': 'acceloff',\n",
       " 'path_to_model': '/data/data_geodyn/results/st/msis2/msis2_acceloff/',\n",
       " '_asciixyz_filename': '/data/data_geodyn/results/st/msis2/msis2_acceloff/XYZ_TRAJ/st031026_2wk.goco05s',\n",
       " '_iieout_filename': '/data/data_geodyn/results/st/msis2/msis2_acceloff/IIEOUT/st031026_2wk.goco05s',\n",
       " '_density_filename': '/data/data_geodyn/results/st/msis2/msis2_acceloff/DENSITY/st031026_2wk.goco05s'}"
      ]
     },
     "execution_count": 7,
     "metadata": {},
     "output_type": "execute_result"
    }
   ],
   "source": [
    "msis2_obj.__dict__['run_parameters']"
   ]
  },
  {
   "cell_type": "code",
   "execution_count": null,
   "id": "shared-supplement",
   "metadata": {},
   "outputs": [],
   "source": []
  },
  {
   "cell_type": "code",
   "execution_count": null,
   "id": "norwegian-comparative",
   "metadata": {},
   "outputs": [],
   "source": []
  },
  {
   "cell_type": "code",
   "execution_count": 5,
   "id": "round-samuel",
   "metadata": {},
   "outputs": [],
   "source": [
    "# msis2_obj.__dict__['run_parameters']['den_model']"
   ]
  },
  {
   "cell_type": "code",
   "execution_count": null,
   "id": "executive-switch",
   "metadata": {},
   "outputs": [],
   "source": []
  },
  {
   "cell_type": "code",
   "execution_count": null,
   "id": "lyric-driver",
   "metadata": {},
   "outputs": [],
   "source": []
  }
 ],
 "metadata": {
  "kernelspec": {
   "display_name": "Python 3",
   "language": "python",
   "name": "python3"
  },
  "language_info": {
   "codemirror_mode": {
    "name": "ipython",
    "version": 3
   },
   "file_extension": ".py",
   "mimetype": "text/x-python",
   "name": "python",
   "nbconvert_exporter": "python",
   "pygments_lexer": "ipython3",
   "version": "3.8.5"
  }
 },
 "nbformat": 4,
 "nbformat_minor": 5
}
