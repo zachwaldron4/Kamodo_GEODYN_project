{
 "cells": [
  {
   "cell_type": "code",
   "execution_count": 1,
   "id": "acc56632",
   "metadata": {
    "ExecuteTime": {
     "end_time": "2021-05-07T22:27:50.843517Z",
     "start_time": "2021-05-07T22:27:50.840483Z"
    }
   },
   "outputs": [],
   "source": [
    "# %load_ext autoreload\n",
    "# %autoreload 2\n",
    "\n",
    "# import sys  \n",
    "# sys.path.insert(0, '/data/geodyn_proj/pygeodyn/utils_pygeodyn_develop/')\n",
    "# from pygeodyn import pygeodyn\n",
    "\n",
    "# #------ A dictionary containing the run parameters ------  \n",
    "# run_params = {} \n",
    "# run_params['run_ID']           =  'Run_Arc_1'  \n",
    "# run_params['arc']              =  'iisset.2018.287' \n",
    "# run_params['satellite']        =  'icesat2'  \n",
    "# run_params['den_model']        =  'msis2'  \n",
    "# run_params['empirical_accels'] =  False  \n",
    "# run_params['SpecialRun_name']  =  '_developer_test'  \n",
    "# run_params['options_in']       =  {'DRHODZ_update':True}  \n",
    "# run_params['verbose']          =  False\n",
    "# run_params['action']           =   'read'\n",
    "\n",
    "\n",
    "\n",
    "# Obj_Geodyn = pygeodyn(run_params)\n",
    "\n",
    "# Obj_Geodyn.getData_Arc()"
   ]
  },
  {
   "cell_type": "code",
   "execution_count": 2,
   "id": "0bd81a67",
   "metadata": {
    "ExecuteTime": {
     "end_time": "2021-05-07T22:28:31.934084Z",
     "start_time": "2021-05-07T22:27:50.847515Z"
    }
   },
   "outputs": [
    {
     "name": "stdout",
     "output_type": "stream",
     "text": [
      "=================================================================\n",
      "   Initializing PYGEODYN to ... \n",
      "                            ... RUN GEODYN\n",
      "=================================================================\n",
      "Run_Arc_1     Current Time =      22:27:51\n",
      "\n",
      "Run_Arc_1     Cleaning iisset:    /data/data_geodyn/inputs/icesat2/setups/iisset.2018.288\n",
      "Run_Arc_1     This run's iisset:  /data/data_geodyn/inputs/icesat2/setups/cleaned_setup_file\n",
      "Run_Arc_1     Density Model:      msis2\n",
      "Run_Arc_1     GEODYN Version:     pygeodyn_MODS\n",
      "Run_Arc_1     Estimate GenAccel:  acceloff\n",
      "Run_Arc_1     ARC run:            iisset.2018.288\n",
      "Run_Arc_1     Output directory:   /data/data_geodyn/results/icesat2/msis2/msis2_acceloff_developer_test\n",
      "Run_Arc_1     Call Options:       {'DRHODZ_update': True}\n",
      "Run_Arc_1     EXAT File:     /data/data_geodyn/inputs/icesat2/external_attitude/EXAT01.2018.287.gz\n",
      "\n",
      "Run_Arc_1          Running IIS\n",
      "ERRORS FOUND IN IIS: /data/data_geodyn//tmp/icesat2/msis2_acceloff_developer_test/iisset.2018.288/iiserr\n",
      "STOP 16\n",
      "\n"
     ]
    },
    {
     "ename": "SystemExit",
     "evalue": "",
     "output_type": "error",
     "traceback": [
      "An exception has occurred, use %tb to see the full traceback.\n",
      "\u001b[0;31mSystemExit\u001b[0m\n"
     ]
    },
    {
     "name": "stderr",
     "output_type": "stream",
     "text": [
      "/data/miniconda3/envs/pygeodyn/lib/python3.8/site-packages/IPython/core/interactiveshell.py:3445: UserWarning:\n",
      "\n",
      "To exit: use 'exit', 'quit', or Ctrl-D.\n",
      "\n"
     ]
    }
   ],
   "source": [
    "%load_ext autoreload\n",
    "%autoreload 2\n",
    "\n",
    "import sys  \n",
    "sys.path.insert(0, '/data/geodyn_proj/pygeodyn/utils_pygeodyn_develop/')\n",
    "from PYGEODYN import Pygeodyn\n",
    "\n",
    "#------ A dictionary containing the run parameters ------  \n",
    "run_params = {} \n",
    "run_params['run_ID']           =  'Run_Arc_1'  \n",
    "run_params['arc']              =  'iisset.2018.288' \n",
    "run_params['satellite']        =  'icesat2'  \n",
    "run_params['den_model']        =  'msis2'  \n",
    "run_params['empirical_accels'] =  False  \n",
    "run_params['SpecialRun_name']  =  '_developer_test'  \n",
    "run_params['options_in']       =  {'DRHODZ_update':True}  \n",
    "run_params['verbose']          =  False\n",
    "run_params['action']           =   'run'\n",
    "\n",
    "\n",
    "\n",
    "Obj_Geodyn = Pygeodyn(run_params)\n",
    "\n",
    "# Obj_Geodyn.getData_Arc()\n",
    "Obj_Geodyn.RUN_GEODYN()"
   ]
  },
  {
   "cell_type": "code",
   "execution_count": null,
   "id": "f6a90180",
   "metadata": {
    "ExecuteTime": {
     "end_time": "2021-05-07T14:42:53.542316Z",
     "start_time": "2021-05-07T14:42:52.211231Z"
    }
   },
   "outputs": [],
   "source": []
  },
  {
   "cell_type": "code",
   "execution_count": null,
   "id": "4f1632b7",
   "metadata": {},
   "outputs": [],
   "source": []
  }
 ],
 "metadata": {
  "kernelspec": {
   "display_name": "Python 3",
   "language": "python",
   "name": "python3"
  },
  "language_info": {
   "codemirror_mode": {
    "name": "ipython",
    "version": 3
   },
   "file_extension": ".py",
   "mimetype": "text/x-python",
   "name": "python",
   "nbconvert_exporter": "python",
   "pygments_lexer": "ipython3",
   "version": "3.8.8"
  },
  "toc": {
   "base_numbering": 1,
   "nav_menu": {
    "height": "46px",
    "width": "169px"
   },
   "number_sections": true,
   "sideBar": true,
   "skip_h1_title": false,
   "title_cell": "Table of Contents",
   "title_sidebar": "Contents",
   "toc_cell": false,
   "toc_position": {},
   "toc_section_display": true,
   "toc_window_display": false
  },
  "varInspector": {
   "cols": {
    "lenName": 16,
    "lenType": 16,
    "lenVar": 40
   },
   "kernels_config": {
    "python": {
     "delete_cmd_postfix": "",
     "delete_cmd_prefix": "del ",
     "library": "var_list.py",
     "varRefreshCmd": "print(var_dic_list())"
    },
    "r": {
     "delete_cmd_postfix": ") ",
     "delete_cmd_prefix": "rm(",
     "library": "var_list.r",
     "varRefreshCmd": "cat(var_dic_list()) "
    }
   },
   "types_to_exclude": [
    "module",
    "function",
    "builtin_function_or_method",
    "instance",
    "_Feature"
   ],
   "window_display": false
  }
 },
 "nbformat": 4,
 "nbformat_minor": 5
}
